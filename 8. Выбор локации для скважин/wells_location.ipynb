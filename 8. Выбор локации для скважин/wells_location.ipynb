{
 "cells": [
  {
   "cell_type": "markdown",
   "metadata": {},
   "source": [
    "# Выбор локации для скважины"
   ]
  },
  {
   "cell_type": "markdown",
   "metadata": {},
   "source": [
    "Допустим, вы работаете в добывающей компании «ГлавРосГосНефть». Нужно решить, где бурить новую скважину.\n",
    "\n",
    "Вам предоставлены пробы нефти в трёх регионах: в каждом 10 000 месторождений, где измерили качество нефти и объём её запасов. Постройте модель машинного обучения, которая поможет определить регион, где добыча принесёт наибольшую прибыль. Проанализируйте возможную прибыль и риски техникой *Bootstrap.*\n",
    "\n",
    "Шаги для выбора локации:\n",
    "\n",
    "- В избранном регионе ищут месторождения, для каждого определяют значения признаков;\n",
    "- Строят модель и оценивают объём запасов;\n",
    "- Выбирают месторождения с самым высокими оценками значений. Количество месторождений зависит от бюджета компании и стоимости разработки одной скважины;\n",
    "- Прибыль равна суммарной прибыли отобранных месторождений."
   ]
  },
  {
   "cell_type": "code",
   "execution_count": 1,
   "metadata": {},
   "outputs": [],
   "source": [
    "import pandas as pd\n",
    "\n",
    "import math\n",
    "\n",
    "import sklearn\n",
    "from sklearn.model_selection import train_test_split\n",
    "from sklearn.linear_model import LinearRegression\n",
    "from sklearn.metrics import r2_score, mean_absolute_error, mean_squared_error\n",
    "\n",
    "import numpy as np\n",
    "from numpy.random import RandomState\n",
    "\n",
    "import seaborn as sns\n",
    "\n",
    "import matplotlib.pyplot as plt\n"
   ]
  },
  {
   "cell_type": "code",
   "execution_count": 2,
   "metadata": {},
   "outputs": [],
   "source": [
    "NUMBER_WELLS = 500 \n",
    "WELLS_NEEDED = 200\n",
    "BUDGET = 10_000_000_000 \n",
    "BARREL_PRICE = 450000\n",
    "RISK = 2.5\n",
    "STATE = RandomState(12345)"
   ]
  },
  {
   "cell_type": "markdown",
   "metadata": {},
   "source": [
    "## Загрузка и подготовка данных"
   ]
  },
  {
   "cell_type": "code",
   "execution_count": 3,
   "metadata": {},
   "outputs": [],
   "source": [
    "df0 = pd.read_csv('/datasets/geo_data_0.csv')\n",
    "df1 = pd.read_csv('/datasets/geo_data_1.csv')\n",
    "df2 = pd.read_csv('/datasets/geo_data_2.csv')"
   ]
  },
  {
   "cell_type": "code",
   "execution_count": 4,
   "metadata": {},
   "outputs": [
    {
     "name": "stdout",
     "output_type": "stream",
     "text": [
      "<class 'pandas.core.frame.DataFrame'>\n",
      "RangeIndex: 100000 entries, 0 to 99999\n",
      "Data columns (total 5 columns):\n",
      " #   Column   Non-Null Count   Dtype  \n",
      "---  ------   --------------   -----  \n",
      " 0   id       100000 non-null  object \n",
      " 1   f0       100000 non-null  float64\n",
      " 2   f1       100000 non-null  float64\n",
      " 3   f2       100000 non-null  float64\n",
      " 4   product  100000 non-null  float64\n",
      "dtypes: float64(4), object(1)\n",
      "memory usage: 3.8+ MB\n",
      "None\n"
     ]
    },
    {
     "data": {
      "text/html": [
       "<div>\n",
       "<style scoped>\n",
       "    .dataframe tbody tr th:only-of-type {\n",
       "        vertical-align: middle;\n",
       "    }\n",
       "\n",
       "    .dataframe tbody tr th {\n",
       "        vertical-align: top;\n",
       "    }\n",
       "\n",
       "    .dataframe thead th {\n",
       "        text-align: right;\n",
       "    }\n",
       "</style>\n",
       "<table border=\"1\" class=\"dataframe\">\n",
       "  <thead>\n",
       "    <tr style=\"text-align: right;\">\n",
       "      <th></th>\n",
       "      <th>id</th>\n",
       "      <th>f0</th>\n",
       "      <th>f1</th>\n",
       "      <th>f2</th>\n",
       "      <th>product</th>\n",
       "    </tr>\n",
       "  </thead>\n",
       "  <tbody>\n",
       "    <tr>\n",
       "      <th>0</th>\n",
       "      <td>txEyH</td>\n",
       "      <td>0.705745</td>\n",
       "      <td>-0.497823</td>\n",
       "      <td>1.221170</td>\n",
       "      <td>105.280062</td>\n",
       "    </tr>\n",
       "    <tr>\n",
       "      <th>1</th>\n",
       "      <td>2acmU</td>\n",
       "      <td>1.334711</td>\n",
       "      <td>-0.340164</td>\n",
       "      <td>4.365080</td>\n",
       "      <td>73.037750</td>\n",
       "    </tr>\n",
       "    <tr>\n",
       "      <th>2</th>\n",
       "      <td>409Wp</td>\n",
       "      <td>1.022732</td>\n",
       "      <td>0.151990</td>\n",
       "      <td>1.419926</td>\n",
       "      <td>85.265647</td>\n",
       "    </tr>\n",
       "    <tr>\n",
       "      <th>3</th>\n",
       "      <td>iJLyR</td>\n",
       "      <td>-0.032172</td>\n",
       "      <td>0.139033</td>\n",
       "      <td>2.978566</td>\n",
       "      <td>168.620776</td>\n",
       "    </tr>\n",
       "    <tr>\n",
       "      <th>4</th>\n",
       "      <td>Xdl7t</td>\n",
       "      <td>1.988431</td>\n",
       "      <td>0.155413</td>\n",
       "      <td>4.751769</td>\n",
       "      <td>154.036647</td>\n",
       "    </tr>\n",
       "  </tbody>\n",
       "</table>\n",
       "</div>"
      ],
      "text/plain": [
       "      id        f0        f1        f2     product\n",
       "0  txEyH  0.705745 -0.497823  1.221170  105.280062\n",
       "1  2acmU  1.334711 -0.340164  4.365080   73.037750\n",
       "2  409Wp  1.022732  0.151990  1.419926   85.265647\n",
       "3  iJLyR -0.032172  0.139033  2.978566  168.620776\n",
       "4  Xdl7t  1.988431  0.155413  4.751769  154.036647"
      ]
     },
     "execution_count": 4,
     "metadata": {},
     "output_type": "execute_result"
    }
   ],
   "source": [
    "print(df0.info())\n",
    "df0.head()"
   ]
  },
  {
   "cell_type": "code",
   "execution_count": 5,
   "metadata": {},
   "outputs": [
    {
     "name": "stdout",
     "output_type": "stream",
     "text": [
      "<class 'pandas.core.frame.DataFrame'>\n",
      "RangeIndex: 100000 entries, 0 to 99999\n",
      "Data columns (total 5 columns):\n",
      " #   Column   Non-Null Count   Dtype  \n",
      "---  ------   --------------   -----  \n",
      " 0   id       100000 non-null  object \n",
      " 1   f0       100000 non-null  float64\n",
      " 2   f1       100000 non-null  float64\n",
      " 3   f2       100000 non-null  float64\n",
      " 4   product  100000 non-null  float64\n",
      "dtypes: float64(4), object(1)\n",
      "memory usage: 3.8+ MB\n",
      "None\n"
     ]
    },
    {
     "data": {
      "text/html": [
       "<div>\n",
       "<style scoped>\n",
       "    .dataframe tbody tr th:only-of-type {\n",
       "        vertical-align: middle;\n",
       "    }\n",
       "\n",
       "    .dataframe tbody tr th {\n",
       "        vertical-align: top;\n",
       "    }\n",
       "\n",
       "    .dataframe thead th {\n",
       "        text-align: right;\n",
       "    }\n",
       "</style>\n",
       "<table border=\"1\" class=\"dataframe\">\n",
       "  <thead>\n",
       "    <tr style=\"text-align: right;\">\n",
       "      <th></th>\n",
       "      <th>id</th>\n",
       "      <th>f0</th>\n",
       "      <th>f1</th>\n",
       "      <th>f2</th>\n",
       "      <th>product</th>\n",
       "    </tr>\n",
       "  </thead>\n",
       "  <tbody>\n",
       "    <tr>\n",
       "      <th>0</th>\n",
       "      <td>kBEdx</td>\n",
       "      <td>-15.001348</td>\n",
       "      <td>-8.276000</td>\n",
       "      <td>-0.005876</td>\n",
       "      <td>3.179103</td>\n",
       "    </tr>\n",
       "    <tr>\n",
       "      <th>1</th>\n",
       "      <td>62mP7</td>\n",
       "      <td>14.272088</td>\n",
       "      <td>-3.475083</td>\n",
       "      <td>0.999183</td>\n",
       "      <td>26.953261</td>\n",
       "    </tr>\n",
       "    <tr>\n",
       "      <th>2</th>\n",
       "      <td>vyE1P</td>\n",
       "      <td>6.263187</td>\n",
       "      <td>-5.948386</td>\n",
       "      <td>5.001160</td>\n",
       "      <td>134.766305</td>\n",
       "    </tr>\n",
       "    <tr>\n",
       "      <th>3</th>\n",
       "      <td>KcrkZ</td>\n",
       "      <td>-13.081196</td>\n",
       "      <td>-11.506057</td>\n",
       "      <td>4.999415</td>\n",
       "      <td>137.945408</td>\n",
       "    </tr>\n",
       "    <tr>\n",
       "      <th>4</th>\n",
       "      <td>AHL4O</td>\n",
       "      <td>12.702195</td>\n",
       "      <td>-8.147433</td>\n",
       "      <td>5.004363</td>\n",
       "      <td>134.766305</td>\n",
       "    </tr>\n",
       "  </tbody>\n",
       "</table>\n",
       "</div>"
      ],
      "text/plain": [
       "      id         f0         f1        f2     product\n",
       "0  kBEdx -15.001348  -8.276000 -0.005876    3.179103\n",
       "1  62mP7  14.272088  -3.475083  0.999183   26.953261\n",
       "2  vyE1P   6.263187  -5.948386  5.001160  134.766305\n",
       "3  KcrkZ -13.081196 -11.506057  4.999415  137.945408\n",
       "4  AHL4O  12.702195  -8.147433  5.004363  134.766305"
      ]
     },
     "execution_count": 5,
     "metadata": {},
     "output_type": "execute_result"
    }
   ],
   "source": [
    "print(df1.info())\n",
    "df1.head()"
   ]
  },
  {
   "cell_type": "code",
   "execution_count": 6,
   "metadata": {
    "scrolled": true
   },
   "outputs": [
    {
     "name": "stdout",
     "output_type": "stream",
     "text": [
      "<class 'pandas.core.frame.DataFrame'>\n",
      "RangeIndex: 100000 entries, 0 to 99999\n",
      "Data columns (total 5 columns):\n",
      " #   Column   Non-Null Count   Dtype  \n",
      "---  ------   --------------   -----  \n",
      " 0   id       100000 non-null  object \n",
      " 1   f0       100000 non-null  float64\n",
      " 2   f1       100000 non-null  float64\n",
      " 3   f2       100000 non-null  float64\n",
      " 4   product  100000 non-null  float64\n",
      "dtypes: float64(4), object(1)\n",
      "memory usage: 3.8+ MB\n",
      "None\n"
     ]
    },
    {
     "data": {
      "text/html": [
       "<div>\n",
       "<style scoped>\n",
       "    .dataframe tbody tr th:only-of-type {\n",
       "        vertical-align: middle;\n",
       "    }\n",
       "\n",
       "    .dataframe tbody tr th {\n",
       "        vertical-align: top;\n",
       "    }\n",
       "\n",
       "    .dataframe thead th {\n",
       "        text-align: right;\n",
       "    }\n",
       "</style>\n",
       "<table border=\"1\" class=\"dataframe\">\n",
       "  <thead>\n",
       "    <tr style=\"text-align: right;\">\n",
       "      <th></th>\n",
       "      <th>id</th>\n",
       "      <th>f0</th>\n",
       "      <th>f1</th>\n",
       "      <th>f2</th>\n",
       "      <th>product</th>\n",
       "    </tr>\n",
       "  </thead>\n",
       "  <tbody>\n",
       "    <tr>\n",
       "      <th>0</th>\n",
       "      <td>fwXo0</td>\n",
       "      <td>-1.146987</td>\n",
       "      <td>0.963328</td>\n",
       "      <td>-0.828965</td>\n",
       "      <td>27.758673</td>\n",
       "    </tr>\n",
       "    <tr>\n",
       "      <th>1</th>\n",
       "      <td>WJtFt</td>\n",
       "      <td>0.262778</td>\n",
       "      <td>0.269839</td>\n",
       "      <td>-2.530187</td>\n",
       "      <td>56.069697</td>\n",
       "    </tr>\n",
       "    <tr>\n",
       "      <th>2</th>\n",
       "      <td>ovLUW</td>\n",
       "      <td>0.194587</td>\n",
       "      <td>0.289035</td>\n",
       "      <td>-5.586433</td>\n",
       "      <td>62.871910</td>\n",
       "    </tr>\n",
       "    <tr>\n",
       "      <th>3</th>\n",
       "      <td>q6cA6</td>\n",
       "      <td>2.236060</td>\n",
       "      <td>-0.553760</td>\n",
       "      <td>0.930038</td>\n",
       "      <td>114.572842</td>\n",
       "    </tr>\n",
       "    <tr>\n",
       "      <th>4</th>\n",
       "      <td>WPMUX</td>\n",
       "      <td>-0.515993</td>\n",
       "      <td>1.716266</td>\n",
       "      <td>5.899011</td>\n",
       "      <td>149.600746</td>\n",
       "    </tr>\n",
       "  </tbody>\n",
       "</table>\n",
       "</div>"
      ],
      "text/plain": [
       "      id        f0        f1        f2     product\n",
       "0  fwXo0 -1.146987  0.963328 -0.828965   27.758673\n",
       "1  WJtFt  0.262778  0.269839 -2.530187   56.069697\n",
       "2  ovLUW  0.194587  0.289035 -5.586433   62.871910\n",
       "3  q6cA6  2.236060 -0.553760  0.930038  114.572842\n",
       "4  WPMUX -0.515993  1.716266  5.899011  149.600746"
      ]
     },
     "execution_count": 6,
     "metadata": {},
     "output_type": "execute_result"
    }
   ],
   "source": [
    "print(df2.info())\n",
    "df2.head()"
   ]
  },
  {
   "cell_type": "code",
   "execution_count": 7,
   "metadata": {},
   "outputs": [
    {
     "name": "stdout",
     "output_type": "stream",
     "text": [
      "False    99990\n",
      "True        10\n",
      "Name: id, dtype: int64\n",
      "False    99996\n",
      "True         4\n",
      "Name: id, dtype: int64\n",
      "False    99996\n",
      "True         4\n",
      "Name: id, dtype: int64\n"
     ]
    }
   ],
   "source": [
    "print(df0['id'].duplicated().value_counts())\n",
    "print(df1['id'].duplicated().value_counts())\n",
    "print(df2['id'].duplicated().value_counts())"
   ]
  },
  {
   "cell_type": "markdown",
   "metadata": {},
   "source": [
    "Пропусков нет, данные масштабированы, количество дубликатов в каждом датафрейме не превышает 0.0001%, что незначительно. Остается только удалить столбцы, которые не нужны для обучения(id)"
   ]
  },
  {
   "cell_type": "code",
   "execution_count": 8,
   "metadata": {},
   "outputs": [],
   "source": [
    "df0_model = df0.drop('id', axis = 1)\n",
    "df1_model = df1.drop('id', axis = 1)\n",
    "df2_model = df2.drop('id', axis = 1)"
   ]
  },
  {
   "cell_type": "code",
   "execution_count": 9,
   "metadata": {},
   "outputs": [
    {
     "data": {
      "image/png": "[encoded data removed]",
      "text/plain": [
       "<Figure size 432x288 with 2 Axes>"
      ]
     },
     "metadata": {
      "needs_background": "light"
     },
     "output_type": "display_data"
    }
   ],
   "source": [
    "sns.heatmap(df0_model.corr(), annot=True, cmap='coolwarm')\n",
    "plt.title('Матрица корреляций для 1 региона')\n",
    "plt.show()"
   ]
  },
  {
   "cell_type": "code",
   "execution_count": 10,
   "metadata": {},
   "outputs": [
    {
     "data": {
      "image/png": "[encoded data removed]",
      "text/plain": [
       "<Figure size 432x288 with 2 Axes>"
      ]
     },
     "metadata": {
      "needs_background": "light"
     },
     "output_type": "display_data"
    }
   ],
   "source": [
    "sns.heatmap(df1_model.corr(), annot=True, cmap='coolwarm')\n",
    "plt.title('Матрица корреляций для 2 региона')\n",
    "plt.show()"
   ]
  },
  {
   "cell_type": "code",
   "execution_count": 11,
   "metadata": {},
   "outputs": [
    {
     "data": {
      "image/png": "[encoded data removed]",
      "text/plain": [
       "<Figure size 432x288 with 2 Axes>"
      ]
     },
     "metadata": {
      "needs_background": "light"
     },
     "output_type": "display_data"
    }
   ],
   "source": [
    "sns.heatmap(df2_model.corr(), annot=True, cmap='coolwarm')\n",
    "plt.title('Матрица корреляций для 3 региона')\n",
    "plt.show()"
   ]
  },
  {
   "cell_type": "markdown",
   "metadata": {},
   "source": [
    "### Вывод\n",
    "\n",
    "- Данные выгружены\n",
    "- Масштабирование было проведено заранее\n",
    "- Пропуски отсутствуют\n",
    "- Был удален столбец id так как он не участвует в процессе обучения модели\n",
    "- Было решено оставить дубликаты(по id), так как их количество незначительно (менее 0.00001%)\n",
    "- Мультиколлениарность между признаками замечено не было, однако стоит заметить сильную связь между признаком f2 и целевой переменной(особенно во втором регионе, где показатель равен 1)"
   ]
  },
  {
   "cell_type": "markdown",
   "metadata": {},
   "source": [
    "## Обучение и проверка модели"
   ]
  },
  {
   "cell_type": "markdown",
   "metadata": {},
   "source": [
    "Для начала разобьем датафреймы на обучающие и валидационные в соотношении 75:25"
   ]
  },
  {
   "cell_type": "code",
   "execution_count": 12,
   "metadata": {},
   "outputs": [
    {
     "name": "stdout",
     "output_type": "stream",
     "text": [
      "(75000, 3)\n",
      "(75000,)\n",
      "(25000, 3)\n",
      "(25000,)\n"
     ]
    },
    {
     "data": {
      "text/plain": [
       "(None, None)"
      ]
     },
     "execution_count": 12,
     "metadata": {},
     "output_type": "execute_result"
    }
   ],
   "source": [
    "x0_train, x0_valid, y0_train, y0_valid = train_test_split(df0_model.drop('product', axis=1), df0_model['product'], \n",
    "                                                      train_size=0.75, test_size=0.25, random_state=STATE)\n",
    "print(x0_train.shape), print(y0_train.shape)\n",
    "print(x0_valid.shape), print(y0_valid.shape)"
   ]
  },
  {
   "cell_type": "code",
   "execution_count": 13,
   "metadata": {},
   "outputs": [
    {
     "name": "stdout",
     "output_type": "stream",
     "text": [
      "(75000, 3)\n",
      "(75000,)\n",
      "(25000, 3)\n",
      "(25000,)\n"
     ]
    },
    {
     "data": {
      "text/plain": [
       "(None, None)"
      ]
     },
     "execution_count": 13,
     "metadata": {},
     "output_type": "execute_result"
    }
   ],
   "source": [
    "x1_train, x1_valid, y1_train, y1_valid = train_test_split(df1_model.drop('product', axis=1), df1_model['product'], \n",
    "                                                      train_size=0.75, test_size=0.25, random_state=STATE)\n",
    "print(x1_train.shape), print(y1_train.shape)\n",
    "print(x1_valid.shape), print(y1_valid.shape)"
   ]
  },
  {
   "cell_type": "code",
   "execution_count": 14,
   "metadata": {},
   "outputs": [
    {
     "name": "stdout",
     "output_type": "stream",
     "text": [
      "(75000, 3)\n",
      "(75000,)\n",
      "(25000, 3)\n",
      "(25000,)\n"
     ]
    },
    {
     "data": {
      "text/plain": [
       "(None, None)"
      ]
     },
     "execution_count": 14,
     "metadata": {},
     "output_type": "execute_result"
    }
   ],
   "source": [
    "x2_train, x2_valid, y2_train, y2_valid = train_test_split(df2_model.drop('product', axis=1), df2_model['product'], \n",
    "                                                      train_size=0.75, test_size=0.25, random_state=STATE)\n",
    "print(x2_train.shape), print(y2_train.shape)\n",
    "print(x2_valid.shape), print(y2_valid.shape)"
   ]
  },
  {
   "cell_type": "markdown",
   "metadata": {},
   "source": [
    "Так как для обучения модели (достаточно предсказуемая) подходит линейная регрессия, обучим модели и выведем результаты R2, MAE, RMSE и\n",
    "средний запас сырья для каждого региона"
   ]
  },
  {
   "cell_type": "code",
   "execution_count": 15,
   "metadata": {},
   "outputs": [
    {
     "name": "stdout",
     "output_type": "stream",
     "text": [
      "R2: 0.28\n",
      "MAE: 30.92\n",
      "RMSE: 37.58\n",
      "Средний запас сырья: 92.5\n"
     ]
    }
   ],
   "source": [
    "model_lr0 = LinearRegression().fit(x0_train, y0_train)\n",
    "predictions0 = model_lr0.predict(x0_valid)\n",
    "\n",
    "print('R2:','{:.2f}'.format(r2_score(y0_valid,predictions0)))\n",
    "print('MAE:','{:.2f}'.format(mean_absolute_error(y0_valid,predictions0)))\n",
    "print('RMSE:','{:.2f}'.format(mean_squared_error(y0_valid,predictions0)**0.5))\n",
    "print('Средний запас сырья:','{:.1f}'.format(df0_model['product'].mean()))"
   ]
  },
  {
   "cell_type": "code",
   "execution_count": 16,
   "metadata": {},
   "outputs": [
    {
     "name": "stdout",
     "output_type": "stream",
     "text": [
      "R2: 0.9996\n",
      "MAE: 0.72\n",
      "RMSE: 0.89\n",
      "Средний запас сырья: 68.8\n"
     ]
    }
   ],
   "source": [
    "model_lr1 = LinearRegression().fit(x1_train, y1_train)\n",
    "predictions1 = model_lr1.predict(x1_valid)\n",
    "\n",
    "print('R2:','{:.4f}'.format(r2_score(y1_valid, predictions1)))\n",
    "print('MAE:','{:.2f}'.format(mean_absolute_error(y1_valid, predictions1)))\n",
    "print('RMSE:','{:.2f}'.format(mean_squared_error(y1_valid, predictions1) ** 0.5))\n",
    "print('Средний запас сырья:','{:.1f}'.format(df1_model['product'].mean()))"
   ]
  },
  {
   "cell_type": "code",
   "execution_count": 17,
   "metadata": {},
   "outputs": [
    {
     "name": "stdout",
     "output_type": "stream",
     "text": [
      "R2: 0.20\n",
      "MAE: 32.80\n",
      "RMSE: 39.96\n",
      "Средний запас сырья: 95.0\n"
     ]
    }
   ],
   "source": [
    "model_lr2 = LinearRegression().fit(x2_train, y2_train)\n",
    "predictions2 = model_lr2.predict(x2_valid)\n",
    "\n",
    "print('R2:','{:.2f}'.format(r2_score(y2_valid,predictions2)))\n",
    "print('MAE:','{:.2f}'.format(mean_absolute_error(y2_valid,predictions2)))\n",
    "print('RMSE:','{:.2f}'.format(mean_squared_error(y2_valid,predictions2)**0.5))\n",
    "print('Средний запас сырья:','{:.1f}'.format(df2_model['product'].mean()))"
   ]
  },
  {
   "cell_type": "markdown",
   "metadata": {},
   "source": [
    "### Вывод\n",
    "\n",
    "- R2 во втором регионе самый высокий, что говорит об очень сильной корреляции между предсказанными и фактическими значениями\n",
    "- Наименьшие значения MAE и RMSE во втором регионе так же показывают что предсказания очень близки к фактическим и ошибки минимальны\n",
    "- Средний запас сырья во втором регионе наименьший\n",
    "- Среди 1 и 3 региона стоит отметить первый, т.к. средний запас сырья не сильно меньше, однако предсказательная точность выше, чем у 3 региона"
   ]
  },
  {
   "cell_type": "markdown",
   "metadata": {},
   "source": [
    "## Подготовка к расчёту прибыли"
   ]
  },
  {
   "cell_type": "markdown",
   "metadata": {},
   "source": [
    "Чтобы посчитать прибыль, используем готовые данные"
   ]
  },
  {
   "cell_type": "code",
   "execution_count": 18,
   "metadata": {},
   "outputs": [
    {
     "data": {
      "text/plain": [
       "111.11111111111111"
      ]
     },
     "execution_count": 18,
     "metadata": {},
     "output_type": "execute_result"
    }
   ],
   "source": [
    "breakeven_volume = BUDGET / (WELLS_NEEDED * BARREL_PRICE)\n",
    "breakeven_volume"
   ]
  },
  {
   "cell_type": "markdown",
   "metadata": {},
   "source": [
    "Для безубыточности нужен ресурс в 112 тыс. баррелей. Средние значения в каждом регионе значительно ниже этого параметра\n",
    "\n",
    "Рассмотрим сколько скважин в каждом регионе соответствуют таким значениям"
   ]
  },
  {
   "cell_type": "code",
   "execution_count": 19,
   "metadata": {},
   "outputs": [
    {
     "data": {
      "text/plain": [
       "5388"
      ]
     },
     "execution_count": 19,
     "metadata": {},
     "output_type": "execute_result"
    }
   ],
   "source": [
    "predictions0 = pd.Series(predictions0)\n",
    "predictions0[predictions0 >= (breakeven_volume)].count()"
   ]
  },
  {
   "cell_type": "code",
   "execution_count": 20,
   "metadata": {},
   "outputs": [
    {
     "data": {
      "text/plain": [
       "4577"
      ]
     },
     "execution_count": 20,
     "metadata": {},
     "output_type": "execute_result"
    }
   ],
   "source": [
    "predictions1 = pd.Series(predictions1)\n",
    "predictions1[predictions1 >= (breakeven_volume)].count()"
   ]
  },
  {
   "cell_type": "code",
   "execution_count": 21,
   "metadata": {},
   "outputs": [
    {
     "data": {
      "text/plain": [
       "5290"
      ]
     },
     "execution_count": 21,
     "metadata": {},
     "output_type": "execute_result"
    }
   ],
   "source": [
    "predictions2 = pd.Series(predictions2)\n",
    "predictions2[predictions2 >= (breakeven_volume)].count()"
   ]
  },
  {
   "cell_type": "markdown",
   "metadata": {},
   "source": [
    "Больше подходящих скважин в 1 регионе, меньше всего во 2"
   ]
  },
  {
   "cell_type": "code",
   "execution_count": 22,
   "metadata": {},
   "outputs": [],
   "source": [
    "# Создадим функцию подсчета прибыли\n",
    "def profit(target, wells, count):\n",
    "    sorted_wells = wells.reset_index(drop=True)\n",
    "    sorted_wells = sorted_wells.sort_values(ascending=False)\n",
    "    revenue = target.iloc[sorted_wells.index][:count].sum()\n",
    "\n",
    "    # КОД РЕВЬЮЕРА, debug\n",
    "    if target.iloc[sorted_wells.index].shape[0] != sorted_wells.shape[0]:\n",
    "        print(\"Shape mismatch! Selected targets shape:\", target[sorted_wells.index].shape)\n",
    "    return revenue*BARREL_PRICE - BUDGET"
   ]
  },
  {
   "cell_type": "code",
   "execution_count": 27,
   "metadata": {},
   "outputs": [
    {
     "data": {
      "text/plain": [
       "3320826043.1398506"
      ]
     },
     "execution_count": 27,
     "metadata": {},
     "output_type": "execute_result"
    }
   ],
   "source": [
    "profit(y0_valid, predictions0, 200)"
   ]
  },
  {
   "cell_type": "code",
   "execution_count": 28,
   "metadata": {},
   "outputs": [
    {
     "data": {
      "text/plain": [
       "2415086696.681511"
      ]
     },
     "execution_count": 28,
     "metadata": {},
     "output_type": "execute_result"
    }
   ],
   "source": [
    "profit(y1_valid, predictions1, 200)"
   ]
  },
  {
   "cell_type": "code",
   "execution_count": 29,
   "metadata": {},
   "outputs": [
    {
     "data": {
      "text/plain": [
       "2539915945.842947"
      ]
     },
     "execution_count": 29,
     "metadata": {},
     "output_type": "execute_result"
    }
   ],
   "source": [
    "profit(y2_valid, predictions2, 200)"
   ]
  },
  {
   "cell_type": "markdown",
   "metadata": {},
   "source": [
    "## Расчёт прибыли и рисков "
   ]
  },
  {
   "cell_type": "code",
   "execution_count": 30,
   "metadata": {},
   "outputs": [
    {
     "name": "stdout",
     "output_type": "stream",
     "text": [
      "Средняя прибыль: 394284411.34\n",
      "Доверительный интервал: -69450566.86 915496165.83\n",
      "Риск убытков: 6.1 %\n"
     ]
    },
    {
     "data": {
      "image/png": "[encoded data removed]",
      "text/plain": [
       "<Figure size 1080x432 with 1 Axes>"
      ]
     },
     "metadata": {
      "needs_background": "light"
     },
     "output_type": "display_data"
    },
    {
     "name": "stdout",
     "output_type": "stream",
     "text": [
      "Средняя прибыль: 454736359.1\n",
      "Доверительный интервал: 61071811.3 855914149.14\n",
      "Риск убытков: 0.7000000000000001 %\n"
     ]
    },
    {
     "data": {
      "image/png": "[encoded data removed]",
      "text/plain": [
       "<Figure size 1080x432 with 1 Axes>"
      ]
     },
     "metadata": {
      "needs_background": "light"
     },
     "output_type": "display_data"
    },
    {
     "name": "stdout",
     "output_type": "stream",
     "text": [
      "Средняя прибыль: 353664097.52\n",
      "Доверительный интервал: -162650946.94 847761844.51\n",
      "Риск убытков: 7.6 %\n"
     ]
    },
    {
     "data": {
      "image/png": "[encoded data removed]",
      "text/plain": [
       "<Figure size 1080x432 with 1 Axes>"
      ]
     },
     "metadata": {
      "needs_background": "light"
     },
     "output_type": "display_data"
    }
   ],
   "source": [
    "# Создадим функцию Bootstrap\n",
    "\n",
    "\n",
    "def calculate_risks_and_profit(target, prediction):\n",
    "    values = []\n",
    "    negatives = 0\n",
    "    for i in range(1000):\n",
    "        predicted_subsample = prediction.sample(n=500, replace=True, random_state=STATE)\n",
    "        target_subsample = target.iloc[predicted_subsample.index]\n",
    "        rev = profit(target_subsample, predicted_subsample, 200)\n",
    "        values.append(rev)\n",
    "        if rev < 0:\n",
    "            negatives += 1\n",
    "        \n",
    "    values = pd.Series(values)\n",
    "    \n",
    "    mean = values.mean()\n",
    "    lower = values.quantile(.025)\n",
    "    upper = values.quantile(.975)\n",
    "    risk_of_loss = negatives/1000\n",
    "    \n",
    "    print('Средняя прибыль:', round(mean,2))\n",
    "    print('Доверительный интервал:', round(lower, 2), round(upper,2))\n",
    "    print('Риск убытков:', risk_of_loss*100, '%')\n",
    "    \n",
    "    fig, ax = plt.subplots(figsize=(15,6))\n",
    "    ax.hist(values, bins=20)\n",
    "    ax.set_xlabel('Прибыль')\n",
    "    ax.set_ylabel('Частота')\n",
    "    ax.set_title('Распределение прибыли')\n",
    "    ax.axvline(x=0, color='#8B0000', linestyle='--', linewidth=2, label='Безубыток')\n",
    "    ax.axvline(x=lower, color='#FFD700', linestyle='-', linewidth=3, label='Нижний доверительный интервал')\n",
    "    ax.axvline(x=upper, color='#32CD32', linestyle='-', linewidth=3, label='Верхний доверительный интервал')\n",
    "    ax.legend()\n",
    "    plt.show()\n",
    "\n",
    "calculate_risks_and_profit(y0_valid, predictions0)\n",
    "calculate_risks_and_profit(y1_valid, predictions1)\n",
    "calculate_risks_and_profit(y2_valid, predictions2)"
   ]
  },
  {
   "cell_type": "markdown",
   "metadata": {},
   "source": [
    "## Вывод\n",
    "\n",
    "Второе месторождение стоит рассматривать для разработки, так как оно обладает следующими преимуществами:\n",
    "- Наименьший риск убытков\n",
    "- Наивысшая средняя прибыль\n",
    "- Доверительный интервал единственный который находится в прибыльном состоянии (нижняя граница не отрицательна)"
   ]
  },
  {
   "cell_type": "markdown",
   "metadata": {},
   "source": [
    "## Чек-лист готовности проекта"
   ]
  },
  {
   "cell_type": "markdown",
   "metadata": {},
   "source": [
    "Поставьте 'x' в выполненных пунктах. Далее нажмите Shift+Enter."
   ]
  },
  {
   "cell_type": "markdown",
   "metadata": {},
   "source": [
    "- [x]  Jupyter Notebook открыт\n",
    "- [x]  Весь код выполняется без ошибок\n",
    "- [x]  Ячейки с кодом расположены в порядке исполнения\n",
    "- [x]  Выполнен шаг 1: данные подготовлены\n",
    "- [x]  Выполнен шаг 2: модели обучены и проверены\n",
    "    - [x]  Данные корректно разбиты на обучающую и валидационную выборки\n",
    "    - [x]  Модели обучены, предсказания сделаны\n",
    "    - [x]  Предсказания и правильные ответы на валидационной выборке сохранены\n",
    "    - [x]  На экране напечатаны результаты\n",
    "    - [x]  Сделаны выводы\n",
    "- [x]  Выполнен шаг 3: проведена подготовка к расчёту прибыли\n",
    "    - [x]  Для всех ключевых значений созданы константы Python\n",
    "    - [x]  Посчитано минимальное среднее количество продукта в месторождениях региона, достаточное для разработки\n",
    "    - [x]  По предыдущему пункту сделаны выводы\n",
    "    - [x]  Написана функция расчёта прибыли\n",
    "- [x]  Выполнен шаг 4: посчитаны риски и прибыль\n",
    "    - [x]  Проведена процедура *Bootstrap*\n",
    "    - [x]  Все параметры бутстрепа соответствуют условию\n",
    "    - [x]  Найдены все нужные величины\n",
    "    - [x]  Предложен регион для разработки месторождения\n",
    "    - [x]  Выбор региона обоснован"
   ]
  },
  {
   "cell_type": "code",
   "execution_count": null,
   "metadata": {},
   "outputs": [],
   "source": []
  }
 ],
 "metadata": {
  "ExecuteTimeLog": [
   {
    "duration": 1668,
    "start_time": "2023-06-23T11:29:41.667Z"
   },
   {
    "duration": 1640,
    "start_time": "2023-06-23T12:53:17.556Z"
   },
   {
    "duration": 16,
    "start_time": "2023-06-23T12:53:30.805Z"
   },
   {
    "duration": 10,
    "start_time": "2023-06-23T12:53:40.414Z"
   },
   {
    "duration": 108,
    "start_time": "2023-06-23T12:53:48.409Z"
   },
   {
    "duration": 363,
    "start_time": "2023-06-23T12:53:57.206Z"
   },
   {
    "duration": 10,
    "start_time": "2023-06-23T12:53:59.165Z"
   },
   {
    "duration": 10,
    "start_time": "2023-06-23T12:54:00.109Z"
   },
   {
    "duration": 10,
    "start_time": "2023-06-23T12:54:01.010Z"
   },
   {
    "duration": 9,
    "start_time": "2023-06-23T12:54:23.412Z"
   },
   {
    "duration": 22,
    "start_time": "2023-06-23T12:54:27.248Z"
   },
   {
    "duration": 19,
    "start_time": "2023-06-23T12:54:39.632Z"
   },
   {
    "duration": 21,
    "start_time": "2023-06-23T12:54:48.552Z"
   },
   {
    "duration": 14,
    "start_time": "2023-06-23T13:24:57.769Z"
   },
   {
    "duration": 45,
    "start_time": "2023-06-23T13:54:44.750Z"
   },
   {
    "duration": 2877,
    "start_time": "2023-06-23T14:06:50.000Z"
   },
   {
    "duration": 21,
    "start_time": "2023-06-23T14:10:17.221Z"
   },
   {
    "duration": 1996,
    "start_time": "2023-06-23T14:10:42.172Z"
   },
   {
    "duration": 2080,
    "start_time": "2023-06-23T14:11:22.310Z"
   },
   {
    "duration": 20,
    "start_time": "2023-06-23T14:11:28.340Z"
   },
   {
    "duration": 11,
    "start_time": "2023-06-23T14:11:55.758Z"
   },
   {
    "duration": 10,
    "start_time": "2023-06-23T14:12:02.706Z"
   },
   {
    "duration": 11,
    "start_time": "2023-06-23T14:13:20.533Z"
   },
   {
    "duration": 54,
    "start_time": "2023-06-23T14:14:23.869Z"
   },
   {
    "duration": 48,
    "start_time": "2023-06-23T14:14:42.428Z"
   },
   {
    "duration": 42,
    "start_time": "2023-06-23T14:15:51.018Z"
   },
   {
    "duration": 47,
    "start_time": "2023-06-23T14:16:57.000Z"
   },
   {
    "duration": 24,
    "start_time": "2023-06-23T14:17:33.316Z"
   },
   {
    "duration": 22,
    "start_time": "2023-06-23T14:17:34.717Z"
   },
   {
    "duration": 24,
    "start_time": "2023-06-23T14:17:36.267Z"
   },
   {
    "duration": 1908,
    "start_time": "2023-06-23T22:18:03.747Z"
   },
   {
    "duration": 1403,
    "start_time": "2023-06-23T22:18:58.836Z"
   },
   {
    "duration": 377,
    "start_time": "2023-06-23T22:19:00.241Z"
   },
   {
    "duration": 25,
    "start_time": "2023-06-23T22:19:00.620Z"
   },
   {
    "duration": 40,
    "start_time": "2023-06-23T22:19:00.646Z"
   },
   {
    "duration": 51,
    "start_time": "2023-06-23T22:19:00.688Z"
   },
   {
    "duration": 31,
    "start_time": "2023-06-23T22:19:00.740Z"
   },
   {
    "duration": 2058,
    "start_time": "2023-06-23T22:19:00.773Z"
   },
   {
    "duration": 109,
    "start_time": "2023-06-23T22:19:02.833Z"
   },
   {
    "duration": 0,
    "start_time": "2023-06-23T22:19:02.943Z"
   },
   {
    "duration": 0,
    "start_time": "2023-06-23T22:19:02.944Z"
   },
   {
    "duration": 11,
    "start_time": "2023-06-23T22:19:25.884Z"
   },
   {
    "duration": 11,
    "start_time": "2023-06-23T22:19:31.915Z"
   },
   {
    "duration": 13,
    "start_time": "2023-06-23T22:19:47.969Z"
   },
   {
    "duration": 12,
    "start_time": "2023-06-23T22:20:08.722Z"
   },
   {
    "duration": 4,
    "start_time": "2023-06-23T22:23:24.050Z"
   },
   {
    "duration": 13,
    "start_time": "2023-06-23T22:23:26.195Z"
   },
   {
    "duration": 1345,
    "start_time": "2023-06-23T22:23:33.170Z"
   },
   {
    "duration": 358,
    "start_time": "2023-06-23T22:23:34.517Z"
   },
   {
    "duration": 25,
    "start_time": "2023-06-23T22:23:34.877Z"
   },
   {
    "duration": 19,
    "start_time": "2023-06-23T22:23:34.903Z"
   },
   {
    "duration": 45,
    "start_time": "2023-06-23T22:23:34.924Z"
   },
   {
    "duration": 13,
    "start_time": "2023-06-23T22:23:34.971Z"
   },
   {
    "duration": 56,
    "start_time": "2023-06-23T22:23:34.985Z"
   },
   {
    "duration": 107,
    "start_time": "2023-06-23T22:23:35.042Z"
   },
   {
    "duration": 0,
    "start_time": "2023-06-23T22:23:35.150Z"
   },
   {
    "duration": 0,
    "start_time": "2023-06-23T22:23:35.151Z"
   },
   {
    "duration": 25,
    "start_time": "2023-06-23T22:24:16.440Z"
   },
   {
    "duration": 17,
    "start_time": "2023-06-23T22:24:50.109Z"
   },
   {
    "duration": 24,
    "start_time": "2023-06-23T22:25:53.635Z"
   },
   {
    "duration": 20,
    "start_time": "2023-06-23T22:26:20.038Z"
   },
   {
    "duration": 19,
    "start_time": "2023-06-23T22:28:13.511Z"
   },
   {
    "duration": 18,
    "start_time": "2023-06-23T22:28:16.922Z"
   },
   {
    "duration": 24,
    "start_time": "2023-06-23T22:28:18.260Z"
   },
   {
    "duration": 17,
    "start_time": "2023-06-23T22:28:34.129Z"
   },
   {
    "duration": 11,
    "start_time": "2023-06-23T22:33:06.642Z"
   },
   {
    "duration": 21,
    "start_time": "2023-06-23T22:36:01.294Z"
   },
   {
    "duration": 19,
    "start_time": "2023-06-23T22:36:21.934Z"
   },
   {
    "duration": 19,
    "start_time": "2023-06-23T22:36:40.843Z"
   },
   {
    "duration": 16,
    "start_time": "2023-06-23T22:41:25.340Z"
   },
   {
    "duration": 19,
    "start_time": "2023-06-23T22:41:30.246Z"
   },
   {
    "duration": 1313,
    "start_time": "2023-06-23T22:42:10.883Z"
   },
   {
    "duration": 343,
    "start_time": "2023-06-23T22:42:12.198Z"
   },
   {
    "duration": 35,
    "start_time": "2023-06-23T22:42:12.542Z"
   },
   {
    "duration": 19,
    "start_time": "2023-06-23T22:42:12.578Z"
   },
   {
    "duration": 18,
    "start_time": "2023-06-23T22:42:12.599Z"
   },
   {
    "duration": 12,
    "start_time": "2023-06-23T22:42:12.618Z"
   },
   {
    "duration": 38,
    "start_time": "2023-06-23T22:42:12.659Z"
   },
   {
    "duration": 128,
    "start_time": "2023-06-23T22:42:12.699Z"
   },
   {
    "duration": 0,
    "start_time": "2023-06-23T22:42:12.829Z"
   },
   {
    "duration": 0,
    "start_time": "2023-06-23T22:42:12.829Z"
   },
   {
    "duration": 0,
    "start_time": "2023-06-23T22:42:12.831Z"
   },
   {
    "duration": 18,
    "start_time": "2023-06-23T22:42:29.304Z"
   },
   {
    "duration": 21,
    "start_time": "2023-06-23T22:43:43.443Z"
   },
   {
    "duration": 19,
    "start_time": "2023-06-23T22:44:15.229Z"
   },
   {
    "duration": 81,
    "start_time": "2023-06-23T22:44:17.681Z"
   },
   {
    "duration": 110,
    "start_time": "2023-06-23T22:45:14.251Z"
   },
   {
    "duration": 20,
    "start_time": "2023-06-23T22:45:26.396Z"
   },
   {
    "duration": 17,
    "start_time": "2023-06-23T22:45:45.446Z"
   },
   {
    "duration": 17,
    "start_time": "2023-06-23T22:45:55.917Z"
   },
   {
    "duration": 17,
    "start_time": "2023-06-23T22:46:02.231Z"
   },
   {
    "duration": 16,
    "start_time": "2023-06-23T22:46:08.085Z"
   },
   {
    "duration": 16,
    "start_time": "2023-06-23T22:46:12.563Z"
   },
   {
    "duration": 19,
    "start_time": "2023-06-23T22:46:16.091Z"
   },
   {
    "duration": 17,
    "start_time": "2023-06-23T22:46:19.961Z"
   },
   {
    "duration": 17,
    "start_time": "2023-06-23T22:46:24.806Z"
   },
   {
    "duration": 18,
    "start_time": "2023-06-23T22:46:30.806Z"
   },
   {
    "duration": 17,
    "start_time": "2023-06-23T22:46:39.648Z"
   },
   {
    "duration": 16,
    "start_time": "2023-06-23T22:47:10.788Z"
   },
   {
    "duration": 18,
    "start_time": "2023-06-23T22:48:15.985Z"
   },
   {
    "duration": 17,
    "start_time": "2023-06-23T22:48:25.741Z"
   },
   {
    "duration": 16,
    "start_time": "2023-06-23T22:48:39.653Z"
   },
   {
    "duration": 15,
    "start_time": "2023-06-23T22:48:47.661Z"
   },
   {
    "duration": 19,
    "start_time": "2023-06-23T22:48:58.545Z"
   },
   {
    "duration": 19,
    "start_time": "2023-06-23T22:49:02.437Z"
   },
   {
    "duration": 21,
    "start_time": "2023-06-23T22:49:15.712Z"
   },
   {
    "duration": 21,
    "start_time": "2023-06-23T22:52:25.003Z"
   },
   {
    "duration": 3,
    "start_time": "2023-06-24T00:50:16.140Z"
   },
   {
    "duration": 4,
    "start_time": "2023-06-24T00:52:21.900Z"
   },
   {
    "duration": 3,
    "start_time": "2023-06-24T01:03:13.069Z"
   },
   {
    "duration": 3,
    "start_time": "2023-06-24T01:06:39.038Z"
   },
   {
    "duration": 4,
    "start_time": "2023-06-24T01:07:13.055Z"
   },
   {
    "duration": 4,
    "start_time": "2023-06-24T01:09:42.191Z"
   },
   {
    "duration": 3,
    "start_time": "2023-06-24T01:09:52.132Z"
   },
   {
    "duration": 4,
    "start_time": "2023-06-24T01:09:54.882Z"
   },
   {
    "duration": 4,
    "start_time": "2023-06-24T01:22:35.004Z"
   },
   {
    "duration": 4,
    "start_time": "2023-06-24T01:23:27.795Z"
   },
   {
    "duration": 7,
    "start_time": "2023-06-24T01:24:19.097Z"
   },
   {
    "duration": 6,
    "start_time": "2023-06-24T01:24:34.494Z"
   },
   {
    "duration": 5,
    "start_time": "2023-06-24T01:24:39.037Z"
   },
   {
    "duration": 5,
    "start_time": "2023-06-24T01:24:59.006Z"
   },
   {
    "duration": 1432,
    "start_time": "2023-06-24T01:25:05.551Z"
   },
   {
    "duration": 352,
    "start_time": "2023-06-24T01:25:06.985Z"
   },
   {
    "duration": 31,
    "start_time": "2023-06-24T01:25:07.338Z"
   },
   {
    "duration": 19,
    "start_time": "2023-06-24T01:25:07.370Z"
   },
   {
    "duration": 18,
    "start_time": "2023-06-24T01:25:07.391Z"
   },
   {
    "duration": 12,
    "start_time": "2023-06-24T01:25:07.411Z"
   },
   {
    "duration": 73,
    "start_time": "2023-06-24T01:25:07.424Z"
   },
   {
    "duration": 18,
    "start_time": "2023-06-24T01:25:07.499Z"
   },
   {
    "duration": 17,
    "start_time": "2023-06-24T01:25:07.519Z"
   },
   {
    "duration": 18,
    "start_time": "2023-06-24T01:25:07.559Z"
   },
   {
    "duration": 84,
    "start_time": "2023-06-24T01:25:07.578Z"
   },
   {
    "duration": 107,
    "start_time": "2023-06-24T01:25:07.664Z"
   },
   {
    "duration": 188,
    "start_time": "2023-06-24T01:25:07.772Z"
   },
   {
    "duration": 3,
    "start_time": "2023-06-24T01:25:07.963Z"
   },
   {
    "duration": 95,
    "start_time": "2023-06-24T01:25:07.967Z"
   },
   {
    "duration": 30,
    "start_time": "2023-06-24T01:25:08.063Z"
   },
   {
    "duration": 8,
    "start_time": "2023-06-24T01:25:08.094Z"
   },
   {
    "duration": 12,
    "start_time": "2023-06-24T01:25:08.104Z"
   },
   {
    "duration": 6,
    "start_time": "2023-06-24T01:26:01.102Z"
   },
   {
    "duration": 3,
    "start_time": "2023-06-24T01:33:42.302Z"
   },
   {
    "duration": 4,
    "start_time": "2023-06-24T01:33:47.917Z"
   },
   {
    "duration": 3,
    "start_time": "2023-06-24T01:45:07.431Z"
   },
   {
    "duration": 3,
    "start_time": "2023-06-24T01:45:16.405Z"
   },
   {
    "duration": 4,
    "start_time": "2023-06-24T01:48:44.797Z"
   },
   {
    "duration": 3,
    "start_time": "2023-06-24T01:50:09.050Z"
   },
   {
    "duration": 4,
    "start_time": "2023-06-24T01:50:18.137Z"
   },
   {
    "duration": 5,
    "start_time": "2023-06-24T01:51:16.724Z"
   },
   {
    "duration": 3,
    "start_time": "2023-06-24T01:51:27.041Z"
   },
   {
    "duration": 4,
    "start_time": "2023-06-24T01:51:30.549Z"
   },
   {
    "duration": 109,
    "start_time": "2023-06-24T01:54:04.256Z"
   },
   {
    "duration": 5,
    "start_time": "2023-06-24T01:54:12.645Z"
   },
   {
    "duration": 5,
    "start_time": "2023-06-24T01:55:29.361Z"
   },
   {
    "duration": 5,
    "start_time": "2023-06-24T01:55:30.219Z"
   },
   {
    "duration": 3,
    "start_time": "2023-06-24T01:59:06.942Z"
   },
   {
    "duration": 52,
    "start_time": "2023-06-24T01:59:46.757Z"
   },
   {
    "duration": 22,
    "start_time": "2023-06-24T02:00:27.265Z"
   },
   {
    "duration": 3,
    "start_time": "2023-06-24T02:00:48.334Z"
   },
   {
    "duration": 25,
    "start_time": "2023-06-24T02:00:49.131Z"
   },
   {
    "duration": 3,
    "start_time": "2023-06-24T02:01:12.455Z"
   },
   {
    "duration": 21,
    "start_time": "2023-06-24T02:01:13.181Z"
   },
   {
    "duration": 3,
    "start_time": "2023-06-24T02:01:39.391Z"
   },
   {
    "duration": 22,
    "start_time": "2023-06-24T02:01:40.501Z"
   },
   {
    "duration": 23,
    "start_time": "2023-06-24T02:01:54.603Z"
   },
   {
    "duration": 22,
    "start_time": "2023-06-24T02:02:21.306Z"
   },
   {
    "duration": 4,
    "start_time": "2023-06-24T02:14:18.866Z"
   },
   {
    "duration": 2,
    "start_time": "2023-06-24T02:17:40.744Z"
   },
   {
    "duration": 5,
    "start_time": "2023-06-24T02:22:18.634Z"
   },
   {
    "duration": 3,
    "start_time": "2023-06-24T02:31:06.041Z"
   },
   {
    "duration": 4,
    "start_time": "2023-06-24T02:34:32.393Z"
   },
   {
    "duration": 4,
    "start_time": "2023-06-24T02:36:04.546Z"
   },
   {
    "duration": 8,
    "start_time": "2023-06-24T02:36:19.927Z"
   },
   {
    "duration": 10,
    "start_time": "2023-06-24T02:36:23.565Z"
   },
   {
    "duration": 9,
    "start_time": "2023-06-24T02:37:24.289Z"
   },
   {
    "duration": 13,
    "start_time": "2023-06-24T02:37:30.133Z"
   },
   {
    "duration": 4,
    "start_time": "2023-06-24T02:38:01.846Z"
   },
   {
    "duration": 13,
    "start_time": "2023-06-24T02:38:02.629Z"
   },
   {
    "duration": 4,
    "start_time": "2023-06-24T02:38:13.008Z"
   },
   {
    "duration": 14,
    "start_time": "2023-06-24T02:38:14.664Z"
   },
   {
    "duration": 4,
    "start_time": "2023-06-24T02:38:24.240Z"
   },
   {
    "duration": 13,
    "start_time": "2023-06-24T02:38:25.747Z"
   },
   {
    "duration": 5,
    "start_time": "2023-06-24T02:38:30.001Z"
   },
   {
    "duration": 19,
    "start_time": "2023-06-24T02:38:31.741Z"
   },
   {
    "duration": 4,
    "start_time": "2023-06-24T02:40:07.233Z"
   },
   {
    "duration": 4,
    "start_time": "2023-06-24T02:40:08.106Z"
   },
   {
    "duration": 19,
    "start_time": "2023-06-24T02:40:09.551Z"
   },
   {
    "duration": 3,
    "start_time": "2023-06-24T02:42:11.489Z"
   },
   {
    "duration": 4,
    "start_time": "2023-06-24T02:42:16.772Z"
   },
   {
    "duration": 18,
    "start_time": "2023-06-24T02:42:18.124Z"
   },
   {
    "duration": 9,
    "start_time": "2023-06-24T02:44:48.039Z"
   },
   {
    "duration": 21,
    "start_time": "2023-06-24T02:44:56.722Z"
   },
   {
    "duration": 4,
    "start_time": "2023-06-24T02:45:36.355Z"
   },
   {
    "duration": 4,
    "start_time": "2023-06-24T02:45:38.692Z"
   },
   {
    "duration": 11,
    "start_time": "2023-06-24T02:45:40.615Z"
   },
   {
    "duration": 20,
    "start_time": "2023-06-24T02:45:47.517Z"
   },
   {
    "duration": 3,
    "start_time": "2023-06-24T02:47:08.310Z"
   },
   {
    "duration": 8,
    "start_time": "2023-06-24T02:47:35.190Z"
   },
   {
    "duration": 3,
    "start_time": "2023-06-24T02:54:36.094Z"
   },
   {
    "duration": 9,
    "start_time": "2023-06-24T02:54:41.259Z"
   },
   {
    "duration": 3,
    "start_time": "2023-06-24T02:54:51.820Z"
   },
   {
    "duration": 13,
    "start_time": "2023-06-24T02:54:55.039Z"
   },
   {
    "duration": 24,
    "start_time": "2023-06-24T02:56:19.911Z"
   },
   {
    "duration": 3,
    "start_time": "2023-06-24T02:57:10.461Z"
   },
   {
    "duration": 22,
    "start_time": "2023-06-24T02:57:11.229Z"
   },
   {
    "duration": 22,
    "start_time": "2023-06-24T02:57:35.806Z"
   },
   {
    "duration": 4,
    "start_time": "2023-06-24T02:58:20.414Z"
   },
   {
    "duration": 23,
    "start_time": "2023-06-24T02:58:24.986Z"
   },
   {
    "duration": 4,
    "start_time": "2023-06-24T02:59:35.300Z"
   },
   {
    "duration": 11,
    "start_time": "2023-06-24T02:59:53.929Z"
   },
   {
    "duration": 7,
    "start_time": "2023-06-24T03:00:06.317Z"
   },
   {
    "duration": 3,
    "start_time": "2023-06-24T03:00:18.198Z"
   },
   {
    "duration": 7,
    "start_time": "2023-06-24T03:00:21.516Z"
   },
   {
    "duration": 7,
    "start_time": "2023-06-24T03:00:37.120Z"
   },
   {
    "duration": 9,
    "start_time": "2023-06-24T03:00:38.587Z"
   },
   {
    "duration": 4,
    "start_time": "2023-06-24T03:02:08.957Z"
   },
   {
    "duration": 15,
    "start_time": "2023-06-24T03:02:16.514Z"
   },
   {
    "duration": 4,
    "start_time": "2023-06-24T03:02:50.970Z"
   },
   {
    "duration": 13,
    "start_time": "2023-06-24T03:02:51.954Z"
   },
   {
    "duration": 5,
    "start_time": "2023-06-24T03:03:01.002Z"
   },
   {
    "duration": 13,
    "start_time": "2023-06-24T03:03:02.444Z"
   },
   {
    "duration": 5,
    "start_time": "2023-06-24T03:03:26.752Z"
   },
   {
    "duration": 625,
    "start_time": "2023-06-24T03:03:28.147Z"
   },
   {
    "duration": 643,
    "start_time": "2023-06-24T03:03:43.316Z"
   },
   {
    "duration": 624,
    "start_time": "2023-06-24T03:04:11.747Z"
   },
   {
    "duration": 662,
    "start_time": "2023-06-24T03:04:33.599Z"
   },
   {
    "duration": 593,
    "start_time": "2023-06-24T03:04:46.900Z"
   },
   {
    "duration": 4,
    "start_time": "2023-06-24T03:05:32.040Z"
   },
   {
    "duration": 10,
    "start_time": "2023-06-24T03:05:33.194Z"
   },
   {
    "duration": 4,
    "start_time": "2023-06-24T03:05:57.466Z"
   },
   {
    "duration": 9,
    "start_time": "2023-06-24T03:05:58.230Z"
   },
   {
    "duration": 8,
    "start_time": "2023-06-24T03:06:07.217Z"
   },
   {
    "duration": 7,
    "start_time": "2023-06-24T03:06:14.293Z"
   },
   {
    "duration": 8,
    "start_time": "2023-06-24T03:06:19.898Z"
   },
   {
    "duration": 5,
    "start_time": "2023-06-24T03:06:23.193Z"
   },
   {
    "duration": 612,
    "start_time": "2023-06-24T03:06:27.321Z"
   },
   {
    "duration": 3,
    "start_time": "2023-06-24T03:10:06.711Z"
   },
   {
    "duration": 22,
    "start_time": "2023-06-24T03:11:11.865Z"
   },
   {
    "duration": 5,
    "start_time": "2023-06-24T03:12:12.048Z"
   },
   {
    "duration": 11,
    "start_time": "2023-06-24T03:12:14.047Z"
   },
   {
    "duration": 9,
    "start_time": "2023-06-24T03:12:25.555Z"
   },
   {
    "duration": 11,
    "start_time": "2023-06-24T03:12:31.990Z"
   },
   {
    "duration": 12,
    "start_time": "2023-06-24T03:16:47.507Z"
   },
   {
    "duration": 16,
    "start_time": "2023-06-24T03:17:40.336Z"
   },
   {
    "duration": 19,
    "start_time": "2023-06-24T03:17:56.373Z"
   },
   {
    "duration": 4384,
    "start_time": "2023-06-24T03:18:47.850Z"
   },
   {
    "duration": 4397,
    "start_time": "2023-06-24T03:20:24.639Z"
   },
   {
    "duration": 12,
    "start_time": "2023-06-24T03:21:29.436Z"
   },
   {
    "duration": 14,
    "start_time": "2023-06-24T03:22:30.960Z"
   },
   {
    "duration": 22,
    "start_time": "2023-06-24T03:22:52.768Z"
   },
   {
    "duration": 3999,
    "start_time": "2023-06-24T03:23:03.502Z"
   },
   {
    "duration": 168,
    "start_time": "2023-06-24T03:24:21.444Z"
   },
   {
    "duration": 3810,
    "start_time": "2023-06-24T03:24:27.396Z"
   },
   {
    "duration": 3948,
    "start_time": "2023-06-24T03:25:58.941Z"
   },
   {
    "duration": 3994,
    "start_time": "2023-06-24T03:26:56.541Z"
   },
   {
    "duration": 3885,
    "start_time": "2023-06-24T03:27:07.452Z"
   },
   {
    "duration": 3862,
    "start_time": "2023-06-24T03:29:37.609Z"
   },
   {
    "duration": 1368,
    "start_time": "2023-06-24T03:34:21.050Z"
   },
   {
    "duration": 350,
    "start_time": "2023-06-24T03:34:22.420Z"
   },
   {
    "duration": 24,
    "start_time": "2023-06-24T03:34:22.771Z"
   },
   {
    "duration": 20,
    "start_time": "2023-06-24T03:34:22.797Z"
   },
   {
    "duration": 55,
    "start_time": "2023-06-24T03:34:22.819Z"
   },
   {
    "duration": 13,
    "start_time": "2023-06-24T03:34:22.876Z"
   },
   {
    "duration": 48,
    "start_time": "2023-06-24T03:34:22.890Z"
   },
   {
    "duration": 33,
    "start_time": "2023-06-24T03:34:22.940Z"
   },
   {
    "duration": 20,
    "start_time": "2023-06-24T03:34:22.974Z"
   },
   {
    "duration": 20,
    "start_time": "2023-06-24T03:34:22.996Z"
   },
   {
    "duration": 55,
    "start_time": "2023-06-24T03:34:23.018Z"
   },
   {
    "duration": 110,
    "start_time": "2023-06-24T03:34:23.160Z"
   },
   {
    "duration": 195,
    "start_time": "2023-06-24T03:34:23.272Z"
   },
   {
    "duration": 103,
    "start_time": "2023-06-24T03:34:23.471Z"
   },
   {
    "duration": 84,
    "start_time": "2023-06-24T03:34:23.576Z"
   },
   {
    "duration": 22,
    "start_time": "2023-06-24T03:34:23.662Z"
   },
   {
    "duration": 18,
    "start_time": "2023-06-24T03:34:23.686Z"
   },
   {
    "duration": 6,
    "start_time": "2023-06-24T03:34:23.705Z"
   },
   {
    "duration": 18,
    "start_time": "2023-06-24T03:34:23.713Z"
   },
   {
    "duration": 16,
    "start_time": "2023-06-24T03:34:23.733Z"
   },
   {
    "duration": 25,
    "start_time": "2023-06-24T03:34:23.751Z"
   },
   {
    "duration": 23,
    "start_time": "2023-06-24T03:34:23.777Z"
   },
   {
    "duration": 9,
    "start_time": "2023-06-24T03:34:23.801Z"
   },
   {
    "duration": 3933,
    "start_time": "2023-06-24T03:34:23.812Z"
   },
   {
    "duration": 1769,
    "start_time": "2023-06-24T15:17:17.478Z"
   },
   {
    "duration": 2547,
    "start_time": "2023-06-24T15:17:19.250Z"
   },
   {
    "duration": 24,
    "start_time": "2023-06-24T15:17:21.799Z"
   },
   {
    "duration": 18,
    "start_time": "2023-06-24T15:17:21.825Z"
   },
   {
    "duration": 42,
    "start_time": "2023-06-24T15:17:21.846Z"
   },
   {
    "duration": 10,
    "start_time": "2023-06-24T15:17:21.890Z"
   },
   {
    "duration": 48,
    "start_time": "2023-06-24T15:17:21.902Z"
   },
   {
    "duration": 30,
    "start_time": "2023-06-24T15:17:21.953Z"
   },
   {
    "duration": 16,
    "start_time": "2023-06-24T15:17:21.985Z"
   },
   {
    "duration": 19,
    "start_time": "2023-06-24T15:17:22.003Z"
   },
   {
    "duration": 48,
    "start_time": "2023-06-24T15:17:22.023Z"
   },
   {
    "duration": 133,
    "start_time": "2023-06-24T15:17:22.155Z"
   },
   {
    "duration": 23,
    "start_time": "2023-06-24T15:17:22.357Z"
   },
   {
    "duration": 3,
    "start_time": "2023-06-24T15:17:22.454Z"
   },
   {
    "duration": 96,
    "start_time": "2023-06-24T15:17:22.459Z"
   },
   {
    "duration": 18,
    "start_time": "2023-06-24T15:17:22.559Z"
   },
   {
    "duration": 10,
    "start_time": "2023-06-24T15:17:22.582Z"
   },
   {
    "duration": 16,
    "start_time": "2023-06-24T15:17:22.594Z"
   },
   {
    "duration": 8,
    "start_time": "2023-06-24T15:17:22.612Z"
   },
   {
    "duration": 17,
    "start_time": "2023-06-24T15:17:22.621Z"
   },
   {
    "duration": 10,
    "start_time": "2023-06-24T15:17:22.640Z"
   },
   {
    "duration": 32,
    "start_time": "2023-06-24T15:17:22.651Z"
   },
   {
    "duration": 7749,
    "start_time": "2023-06-24T15:17:22.685Z"
   },
   {
    "duration": 1656,
    "start_time": "2023-06-24T15:18:38.399Z"
   },
   {
    "duration": 407,
    "start_time": "2023-06-24T15:18:40.068Z"
   },
   {
    "duration": 26,
    "start_time": "2023-06-24T15:18:40.476Z"
   },
   {
    "duration": 20,
    "start_time": "2023-06-24T15:18:40.504Z"
   },
   {
    "duration": 55,
    "start_time": "2023-06-24T15:18:40.526Z"
   },
   {
    "duration": 14,
    "start_time": "2023-06-24T15:18:40.583Z"
   },
   {
    "duration": 75,
    "start_time": "2023-06-24T15:18:40.600Z"
   },
   {
    "duration": 21,
    "start_time": "2023-06-24T15:18:40.677Z"
   },
   {
    "duration": 19,
    "start_time": "2023-06-24T15:18:40.699Z"
   },
   {
    "duration": 54,
    "start_time": "2023-06-24T15:18:40.720Z"
   },
   {
    "duration": 23,
    "start_time": "2023-06-24T15:18:40.775Z"
   },
   {
    "duration": 109,
    "start_time": "2023-06-24T15:18:40.863Z"
   },
   {
    "duration": 188,
    "start_time": "2023-06-24T15:18:40.974Z"
   },
   {
    "duration": 11,
    "start_time": "2023-06-24T15:18:41.253Z"
   },
   {
    "duration": 3,
    "start_time": "2023-06-24T15:18:41.272Z"
   },
   {
    "duration": 8,
    "start_time": "2023-06-24T15:18:41.277Z"
   },
   {
    "duration": 19,
    "start_time": "2023-06-24T15:18:41.286Z"
   },
   {
    "duration": 56,
    "start_time": "2023-06-24T15:18:41.306Z"
   },
   {
    "duration": 8,
    "start_time": "2023-06-24T15:18:41.370Z"
   },
   {
    "duration": 28,
    "start_time": "2023-06-24T15:18:41.380Z"
   },
   {
    "duration": 10,
    "start_time": "2023-06-24T15:18:41.410Z"
   },
   {
    "duration": 40,
    "start_time": "2023-06-24T15:18:41.421Z"
   },
   {
    "duration": 11168,
    "start_time": "2023-06-24T15:18:41.464Z"
   },
   {
    "duration": 8,
    "start_time": "2023-06-24T15:19:44.131Z"
   },
   {
    "duration": 6,
    "start_time": "2023-06-24T15:19:52.700Z"
   },
   {
    "duration": 13,
    "start_time": "2023-06-25T09:05:53.518Z"
   },
   {
    "duration": 8860,
    "start_time": "2023-06-25T09:05:59.035Z"
   },
   {
    "duration": 4,
    "start_time": "2023-06-25T09:06:54.532Z"
   },
   {
    "duration": 8923,
    "start_time": "2023-06-25T09:06:57.387Z"
   },
   {
    "duration": 14,
    "start_time": "2023-06-25T09:10:55.847Z"
   },
   {
    "duration": 11,
    "start_time": "2023-06-25T09:10:56.818Z"
   },
   {
    "duration": 3,
    "start_time": "2023-06-25T09:12:35.759Z"
   },
   {
    "duration": 1387,
    "start_time": "2023-06-25T09:12:47.546Z"
   },
   {
    "duration": 409,
    "start_time": "2023-06-25T09:12:48.935Z"
   },
   {
    "duration": 30,
    "start_time": "2023-06-25T09:12:49.346Z"
   },
   {
    "duration": 19,
    "start_time": "2023-06-25T09:12:49.378Z"
   },
   {
    "duration": 18,
    "start_time": "2023-06-25T09:12:49.398Z"
   },
   {
    "duration": 12,
    "start_time": "2023-06-25T09:12:49.417Z"
   },
   {
    "duration": 68,
    "start_time": "2023-06-25T09:12:49.431Z"
   },
   {
    "duration": 19,
    "start_time": "2023-06-25T09:12:49.501Z"
   },
   {
    "duration": 42,
    "start_time": "2023-06-25T09:12:49.521Z"
   },
   {
    "duration": 21,
    "start_time": "2023-06-25T09:12:49.565Z"
   },
   {
    "duration": 75,
    "start_time": "2023-06-25T09:12:49.587Z"
   },
   {
    "duration": 108,
    "start_time": "2023-06-25T09:12:49.664Z"
   },
   {
    "duration": 108,
    "start_time": "2023-06-25T09:12:49.861Z"
   },
   {
    "duration": 88,
    "start_time": "2023-06-25T09:12:49.972Z"
   },
   {
    "duration": 100,
    "start_time": "2023-06-25T09:12:50.062Z"
   },
   {
    "duration": 20,
    "start_time": "2023-06-25T09:12:50.163Z"
   },
   {
    "duration": 31,
    "start_time": "2023-06-25T09:12:50.184Z"
   },
   {
    "duration": 26,
    "start_time": "2023-06-25T09:12:50.216Z"
   },
   {
    "duration": 9,
    "start_time": "2023-06-25T09:12:50.244Z"
   },
   {
    "duration": 9,
    "start_time": "2023-06-25T09:12:50.254Z"
   },
   {
    "duration": 11,
    "start_time": "2023-06-25T09:12:50.265Z"
   },
   {
    "duration": 141,
    "start_time": "2023-06-25T09:12:50.278Z"
   },
   {
    "duration": 0,
    "start_time": "2023-06-25T09:12:50.421Z"
   },
   {
    "duration": 0,
    "start_time": "2023-06-25T09:12:50.422Z"
   },
   {
    "duration": 0,
    "start_time": "2023-06-25T09:12:50.423Z"
   },
   {
    "duration": 4,
    "start_time": "2023-06-25T09:14:20.413Z"
   },
   {
    "duration": 25,
    "start_time": "2023-06-25T09:14:24.184Z"
   },
   {
    "duration": 5,
    "start_time": "2023-06-25T09:18:24.173Z"
   },
   {
    "duration": 10,
    "start_time": "2023-06-25T09:18:28.696Z"
   },
   {
    "duration": 11,
    "start_time": "2023-06-25T09:18:31.361Z"
   },
   {
    "duration": 9,
    "start_time": "2023-06-25T09:18:32.728Z"
   },
   {
    "duration": 40,
    "start_time": "2023-06-25T09:18:34.569Z"
   },
   {
    "duration": 5,
    "start_time": "2023-06-25T09:21:31.005Z"
   },
   {
    "duration": 11,
    "start_time": "2023-06-25T09:21:34.739Z"
   },
   {
    "duration": 10,
    "start_time": "2023-06-25T09:21:35.577Z"
   },
   {
    "duration": 10,
    "start_time": "2023-06-25T09:21:36.434Z"
   },
   {
    "duration": 25,
    "start_time": "2023-06-25T09:21:37.687Z"
   },
   {
    "duration": 27,
    "start_time": "2023-06-25T09:22:56.056Z"
   },
   {
    "duration": 27,
    "start_time": "2023-06-25T09:23:39.986Z"
   },
   {
    "duration": 4,
    "start_time": "2023-06-25T09:26:00.658Z"
   },
   {
    "duration": 26,
    "start_time": "2023-06-25T09:26:04.276Z"
   },
   {
    "duration": 25,
    "start_time": "2023-06-25T09:28:16.309Z"
   },
   {
    "duration": 4,
    "start_time": "2023-06-25T09:31:07.040Z"
   },
   {
    "duration": 27,
    "start_time": "2023-06-25T09:31:09.370Z"
   },
   {
    "duration": 2116,
    "start_time": "2023-06-25T09:31:17.822Z"
   },
   {
    "duration": 365,
    "start_time": "2023-06-25T09:31:19.940Z"
   },
   {
    "duration": 25,
    "start_time": "2023-06-25T09:31:20.306Z"
   },
   {
    "duration": 36,
    "start_time": "2023-06-25T09:31:20.333Z"
   },
   {
    "duration": 19,
    "start_time": "2023-06-25T09:31:20.371Z"
   },
   {
    "duration": 13,
    "start_time": "2023-06-25T09:31:20.392Z"
   },
   {
    "duration": 61,
    "start_time": "2023-06-25T09:31:20.406Z"
   },
   {
    "duration": 18,
    "start_time": "2023-06-25T09:31:20.469Z"
   },
   {
    "duration": 23,
    "start_time": "2023-06-25T09:31:20.488Z"
   },
   {
    "duration": 19,
    "start_time": "2023-06-25T09:31:20.512Z"
   },
   {
    "duration": 41,
    "start_time": "2023-06-25T09:31:20.532Z"
   },
   {
    "duration": 191,
    "start_time": "2023-06-25T09:31:20.574Z"
   },
   {
    "duration": 194,
    "start_time": "2023-06-25T09:31:20.769Z"
   },
   {
    "duration": 92,
    "start_time": "2023-06-25T09:31:20.966Z"
   },
   {
    "duration": 8,
    "start_time": "2023-06-25T09:31:21.060Z"
   },
   {
    "duration": 27,
    "start_time": "2023-06-25T09:31:21.070Z"
   },
   {
    "duration": 8,
    "start_time": "2023-06-25T09:31:21.099Z"
   },
   {
    "duration": 5,
    "start_time": "2023-06-25T09:31:21.109Z"
   },
   {
    "duration": 4,
    "start_time": "2023-06-25T09:31:21.115Z"
   },
   {
    "duration": 9,
    "start_time": "2023-06-25T09:31:21.120Z"
   },
   {
    "duration": 6,
    "start_time": "2023-06-25T09:31:21.130Z"
   },
   {
    "duration": 28,
    "start_time": "2023-06-25T09:31:21.137Z"
   },
   {
    "duration": 9,
    "start_time": "2023-06-25T09:31:21.166Z"
   },
   {
    "duration": 9,
    "start_time": "2023-06-25T09:31:21.176Z"
   },
   {
    "duration": 136,
    "start_time": "2023-06-25T09:31:21.187Z"
   },
   {
    "duration": 4,
    "start_time": "2023-06-25T09:34:51.804Z"
   },
   {
    "duration": 4,
    "start_time": "2023-06-25T09:35:01.651Z"
   },
   {
    "duration": 27,
    "start_time": "2023-06-25T09:35:03.708Z"
   },
   {
    "duration": 5,
    "start_time": "2023-06-25T09:36:02.105Z"
   },
   {
    "duration": 9,
    "start_time": "2023-06-25T09:36:04.958Z"
   },
   {
    "duration": 9,
    "start_time": "2023-06-25T09:36:05.923Z"
   },
   {
    "duration": 9,
    "start_time": "2023-06-25T09:36:06.823Z"
   },
   {
    "duration": 25,
    "start_time": "2023-06-25T09:36:08.246Z"
   },
   {
    "duration": 4,
    "start_time": "2023-06-25T09:36:36.567Z"
   },
   {
    "duration": 9,
    "start_time": "2023-06-25T09:36:40.672Z"
   },
   {
    "duration": 9,
    "start_time": "2023-06-25T09:36:41.687Z"
   },
   {
    "duration": 10,
    "start_time": "2023-06-25T09:36:42.480Z"
   },
   {
    "duration": 25,
    "start_time": "2023-06-25T09:36:44.911Z"
   },
   {
    "duration": 4,
    "start_time": "2023-06-25T09:39:23.167Z"
   },
   {
    "duration": 27,
    "start_time": "2023-06-25T09:39:25.318Z"
   },
   {
    "duration": 9,
    "start_time": "2023-06-25T09:39:44.581Z"
   },
   {
    "duration": 10,
    "start_time": "2023-06-25T09:39:45.468Z"
   },
   {
    "duration": 1275,
    "start_time": "2023-06-25T09:39:50.704Z"
   },
   {
    "duration": 346,
    "start_time": "2023-06-25T09:39:51.981Z"
   },
   {
    "duration": 23,
    "start_time": "2023-06-25T09:39:52.329Z"
   },
   {
    "duration": 27,
    "start_time": "2023-06-25T09:39:52.358Z"
   },
   {
    "duration": 19,
    "start_time": "2023-06-25T09:39:52.386Z"
   },
   {
    "duration": 12,
    "start_time": "2023-06-25T09:39:52.406Z"
   },
   {
    "duration": 52,
    "start_time": "2023-06-25T09:39:52.419Z"
   },
   {
    "duration": 17,
    "start_time": "2023-06-25T09:39:52.472Z"
   },
   {
    "duration": 25,
    "start_time": "2023-06-25T09:39:52.490Z"
   },
   {
    "duration": 17,
    "start_time": "2023-06-25T09:39:52.517Z"
   },
   {
    "duration": 37,
    "start_time": "2023-06-25T09:39:52.536Z"
   },
   {
    "duration": 193,
    "start_time": "2023-06-25T09:39:52.574Z"
   },
   {
    "duration": 190,
    "start_time": "2023-06-25T09:39:52.769Z"
   },
   {
    "duration": 98,
    "start_time": "2023-06-25T09:39:52.962Z"
   },
   {
    "duration": 31,
    "start_time": "2023-06-25T09:39:53.062Z"
   },
   {
    "duration": 21,
    "start_time": "2023-06-25T09:39:53.095Z"
   },
   {
    "duration": 25,
    "start_time": "2023-06-25T09:39:53.117Z"
   },
   {
    "duration": 31,
    "start_time": "2023-06-25T09:39:53.144Z"
   },
   {
    "duration": 15,
    "start_time": "2023-06-25T09:39:53.176Z"
   },
   {
    "duration": 14,
    "start_time": "2023-06-25T09:39:53.192Z"
   },
   {
    "duration": 20,
    "start_time": "2023-06-25T09:39:53.207Z"
   },
   {
    "duration": 23,
    "start_time": "2023-06-25T09:39:53.228Z"
   },
   {
    "duration": 18,
    "start_time": "2023-06-25T09:39:53.253Z"
   },
   {
    "duration": 9,
    "start_time": "2023-06-25T09:39:53.273Z"
   },
   {
    "duration": 117,
    "start_time": "2023-06-25T09:39:53.284Z"
   },
   {
    "duration": 5,
    "start_time": "2023-06-25T09:41:51.541Z"
   },
   {
    "duration": 23,
    "start_time": "2023-06-25T09:41:54.761Z"
   },
   {
    "duration": 4,
    "start_time": "2023-06-25T09:42:52.419Z"
   },
   {
    "duration": 4,
    "start_time": "2023-06-25T09:43:02.600Z"
   },
   {
    "duration": 32,
    "start_time": "2023-06-25T09:43:04.697Z"
   },
   {
    "duration": 5,
    "start_time": "2023-06-25T09:49:01.393Z"
   },
   {
    "duration": 12,
    "start_time": "2023-06-25T09:49:04.177Z"
   },
   {
    "duration": 8114,
    "start_time": "2023-06-25T09:49:06.266Z"
   },
   {
    "duration": 6,
    "start_time": "2023-06-25T09:50:35.035Z"
   },
   {
    "duration": 3263,
    "start_time": "2023-06-25T09:50:49.379Z"
   },
   {
    "duration": 4019,
    "start_time": "2023-06-25T09:51:16.526Z"
   },
   {
    "duration": 3965,
    "start_time": "2023-06-25T09:51:43.560Z"
   },
   {
    "duration": 5,
    "start_time": "2023-06-25T09:53:15.667Z"
   },
   {
    "duration": 11,
    "start_time": "2023-06-25T09:53:19.706Z"
   },
   {
    "duration": 11,
    "start_time": "2023-06-25T09:53:21.820Z"
   },
   {
    "duration": 11,
    "start_time": "2023-06-25T09:53:24.001Z"
   },
   {
    "duration": 4049,
    "start_time": "2023-06-25T09:53:52.154Z"
   },
   {
    "duration": 4256,
    "start_time": "2023-06-25T09:54:01.718Z"
   },
   {
    "duration": 7,
    "start_time": "2023-06-25T09:58:24.183Z"
   },
   {
    "duration": 9,
    "start_time": "2023-06-25T09:58:29.103Z"
   },
   {
    "duration": 9,
    "start_time": "2023-06-25T09:58:30.436Z"
   },
   {
    "duration": 9,
    "start_time": "2023-06-25T09:58:31.405Z"
   },
   {
    "duration": 3805,
    "start_time": "2023-06-25T09:58:33.335Z"
   },
   {
    "duration": 5,
    "start_time": "2023-06-25T09:58:59.722Z"
   },
   {
    "duration": 10,
    "start_time": "2023-06-25T09:59:02.685Z"
   },
   {
    "duration": 10,
    "start_time": "2023-06-25T09:59:03.582Z"
   },
   {
    "duration": 10,
    "start_time": "2023-06-25T09:59:04.455Z"
   },
   {
    "duration": 4132,
    "start_time": "2023-06-25T09:59:06.335Z"
   },
   {
    "duration": 8640,
    "start_time": "2023-06-25T09:59:23.461Z"
   },
   {
    "duration": 5,
    "start_time": "2023-06-25T10:00:20.414Z"
   },
   {
    "duration": 18,
    "start_time": "2023-06-25T10:00:22.751Z"
   },
   {
    "duration": 18,
    "start_time": "2023-06-25T10:06:39.659Z"
   },
   {
    "duration": 6,
    "start_time": "2023-06-25T10:06:43.046Z"
   },
   {
    "duration": 11,
    "start_time": "2023-06-25T10:06:45.072Z"
   },
   {
    "duration": 6,
    "start_time": "2023-06-25T10:07:44.777Z"
   },
   {
    "duration": 9,
    "start_time": "2023-06-25T10:07:47.023Z"
   },
   {
    "duration": 9,
    "start_time": "2023-06-25T10:07:48.788Z"
   },
   {
    "duration": 9,
    "start_time": "2023-06-25T10:07:49.696Z"
   },
   {
    "duration": 27,
    "start_time": "2023-06-25T10:07:53.964Z"
   },
   {
    "duration": 3729,
    "start_time": "2023-06-25T10:08:03.918Z"
   },
   {
    "duration": 6,
    "start_time": "2023-06-25T10:08:21.002Z"
   },
   {
    "duration": 10,
    "start_time": "2023-06-25T10:08:23.869Z"
   },
   {
    "duration": 5,
    "start_time": "2023-06-25T10:08:29.857Z"
   },
   {
    "duration": 10,
    "start_time": "2023-06-25T10:08:32.405Z"
   },
   {
    "duration": 11,
    "start_time": "2023-06-25T10:08:33.362Z"
   },
   {
    "duration": 11,
    "start_time": "2023-06-25T10:08:34.155Z"
   },
   {
    "duration": 3921,
    "start_time": "2023-06-25T10:08:35.569Z"
   },
   {
    "duration": 3920,
    "start_time": "2023-06-25T10:08:48.618Z"
   },
   {
    "duration": 8873,
    "start_time": "2023-06-25T10:08:58.177Z"
   },
   {
    "duration": 6,
    "start_time": "2023-06-25T10:09:49.443Z"
   },
   {
    "duration": 11,
    "start_time": "2023-06-25T10:09:52.216Z"
   },
   {
    "duration": 10,
    "start_time": "2023-06-25T10:09:53.257Z"
   },
   {
    "duration": 10,
    "start_time": "2023-06-25T10:09:54.033Z"
   },
   {
    "duration": 9169,
    "start_time": "2023-06-25T10:09:56.128Z"
   },
   {
    "duration": 4121,
    "start_time": "2023-06-25T10:10:06.818Z"
   },
   {
    "duration": 25,
    "start_time": "2023-06-25T10:10:19.249Z"
   },
   {
    "duration": 17,
    "start_time": "2023-06-25T10:10:38.321Z"
   },
   {
    "duration": 24,
    "start_time": "2023-06-25T10:10:43.809Z"
   },
   {
    "duration": 8976,
    "start_time": "2023-06-25T10:11:05.601Z"
   },
   {
    "duration": 5,
    "start_time": "2023-06-25T10:16:29.794Z"
   },
   {
    "duration": 11,
    "start_time": "2023-06-25T10:16:36.711Z"
   },
   {
    "duration": 10,
    "start_time": "2023-06-25T10:16:41.418Z"
   },
   {
    "duration": 11,
    "start_time": "2023-06-25T10:16:46.043Z"
   },
   {
    "duration": 17,
    "start_time": "2023-06-25T10:16:49.032Z"
   },
   {
    "duration": 8931,
    "start_time": "2023-06-25T10:17:05.471Z"
   },
   {
    "duration": 9,
    "start_time": "2023-06-25T10:21:45.679Z"
   },
   {
    "duration": 9,
    "start_time": "2023-06-25T10:22:00.278Z"
   },
   {
    "duration": 5,
    "start_time": "2023-06-25T10:22:16.771Z"
   },
   {
    "duration": 11,
    "start_time": "2023-06-25T10:22:54.026Z"
   },
   {
    "duration": 9,
    "start_time": "2023-06-25T10:23:10.046Z"
   },
   {
    "duration": 10,
    "start_time": "2023-06-25T10:23:22.445Z"
   },
   {
    "duration": 5,
    "start_time": "2023-06-25T10:23:37.115Z"
   },
   {
    "duration": 6,
    "start_time": "2023-06-25T10:24:34.097Z"
   },
   {
    "duration": 9,
    "start_time": "2023-06-25T10:24:42.106Z"
   },
   {
    "duration": 5,
    "start_time": "2023-06-25T10:26:22.162Z"
   },
   {
    "duration": 10,
    "start_time": "2023-06-25T10:26:25.826Z"
   },
   {
    "duration": 26,
    "start_time": "2023-06-25T10:27:01.594Z"
   },
   {
    "duration": 24,
    "start_time": "2023-06-25T10:27:11.554Z"
   },
   {
    "duration": 5,
    "start_time": "2023-06-25T10:27:23.887Z"
   },
   {
    "duration": 28,
    "start_time": "2023-06-25T10:27:26.126Z"
   },
   {
    "duration": 6,
    "start_time": "2023-06-25T10:28:55.792Z"
   },
   {
    "duration": 9,
    "start_time": "2023-06-25T10:28:58.827Z"
   },
   {
    "duration": 10,
    "start_time": "2023-06-25T10:29:06.513Z"
   },
   {
    "duration": 8,
    "start_time": "2023-06-25T10:29:09.858Z"
   },
   {
    "duration": 2,
    "start_time": "2023-06-25T10:32:40.742Z"
   },
   {
    "duration": 3,
    "start_time": "2023-06-25T10:32:42.226Z"
   },
   {
    "duration": 5,
    "start_time": "2023-06-25T10:32:43.954Z"
   },
   {
    "duration": 5,
    "start_time": "2023-06-25T10:32:45.181Z"
   },
   {
    "duration": 5,
    "start_time": "2023-06-25T10:32:46.276Z"
   },
   {
    "duration": 5,
    "start_time": "2023-06-25T10:32:50.686Z"
   },
   {
    "duration": 11,
    "start_time": "2023-06-25T10:32:54.163Z"
   },
   {
    "duration": 10,
    "start_time": "2023-06-25T10:32:55.197Z"
   },
   {
    "duration": 10,
    "start_time": "2023-06-25T10:32:56.032Z"
   },
   {
    "duration": 26,
    "start_time": "2023-06-25T10:33:01.889Z"
   },
   {
    "duration": 6,
    "start_time": "2023-06-25T10:34:24.397Z"
   },
   {
    "duration": 8,
    "start_time": "2023-06-25T10:34:26.401Z"
   },
   {
    "duration": 23,
    "start_time": "2023-06-25T10:34:28.768Z"
   },
   {
    "duration": 6,
    "start_time": "2023-06-25T10:35:25.438Z"
   },
   {
    "duration": 9,
    "start_time": "2023-06-25T10:35:27.708Z"
   },
   {
    "duration": 25,
    "start_time": "2023-06-25T10:35:29.385Z"
   },
   {
    "duration": 4,
    "start_time": "2023-06-25T10:37:01.112Z"
   },
   {
    "duration": 1815,
    "start_time": "2023-06-25T10:37:02.482Z"
   },
   {
    "duration": 5,
    "start_time": "2023-06-25T10:37:30.737Z"
   },
   {
    "duration": 31,
    "start_time": "2023-06-25T10:37:33.219Z"
   },
   {
    "duration": 9,
    "start_time": "2023-06-25T10:38:46.594Z"
   },
   {
    "duration": 1350,
    "start_time": "2023-06-25T10:38:52.310Z"
   },
   {
    "duration": 379,
    "start_time": "2023-06-25T10:38:53.662Z"
   },
   {
    "duration": 35,
    "start_time": "2023-06-25T10:38:54.043Z"
   },
   {
    "duration": 24,
    "start_time": "2023-06-25T10:38:54.081Z"
   },
   {
    "duration": 21,
    "start_time": "2023-06-25T10:38:54.107Z"
   },
   {
    "duration": 35,
    "start_time": "2023-06-25T10:38:54.131Z"
   },
   {
    "duration": 54,
    "start_time": "2023-06-25T10:38:54.169Z"
   },
   {
    "duration": 19,
    "start_time": "2023-06-25T10:38:54.225Z"
   },
   {
    "duration": 28,
    "start_time": "2023-06-25T10:38:54.245Z"
   },
   {
    "duration": 19,
    "start_time": "2023-06-25T10:38:54.275Z"
   },
   {
    "duration": 67,
    "start_time": "2023-06-25T10:38:54.296Z"
   },
   {
    "duration": 108,
    "start_time": "2023-06-25T10:38:54.364Z"
   },
   {
    "duration": 188,
    "start_time": "2023-06-25T10:38:54.475Z"
   },
   {
    "duration": 92,
    "start_time": "2023-06-25T10:38:54.668Z"
   },
   {
    "duration": 14,
    "start_time": "2023-06-25T10:38:54.762Z"
   },
   {
    "duration": 10,
    "start_time": "2023-06-25T10:38:54.777Z"
   },
   {
    "duration": 13,
    "start_time": "2023-06-25T10:38:54.788Z"
   },
   {
    "duration": 6,
    "start_time": "2023-06-25T10:38:54.802Z"
   },
   {
    "duration": 11,
    "start_time": "2023-06-25T10:38:54.810Z"
   },
   {
    "duration": 9,
    "start_time": "2023-06-25T10:38:54.823Z"
   },
   {
    "duration": 17,
    "start_time": "2023-06-25T10:38:54.833Z"
   },
   {
    "duration": 15,
    "start_time": "2023-06-25T10:38:54.852Z"
   },
   {
    "duration": 9,
    "start_time": "2023-06-25T10:38:54.869Z"
   },
   {
    "duration": 10,
    "start_time": "2023-06-25T10:38:54.880Z"
   },
   {
    "duration": 138,
    "start_time": "2023-06-25T10:38:54.892Z"
   },
   {
    "duration": 4,
    "start_time": "2023-06-25T10:41:08.166Z"
   },
   {
    "duration": 56,
    "start_time": "2023-06-25T10:41:24.314Z"
   },
   {
    "duration": 3,
    "start_time": "2023-06-25T10:41:27.170Z"
   },
   {
    "duration": 27,
    "start_time": "2023-06-25T10:42:35.135Z"
   },
   {
    "duration": 5,
    "start_time": "2023-06-25T10:43:47.471Z"
   },
   {
    "duration": 4,
    "start_time": "2023-06-25T10:44:47.261Z"
   },
   {
    "duration": 8,
    "start_time": "2023-06-25T10:45:30.040Z"
   },
   {
    "duration": 6,
    "start_time": "2023-06-25T10:48:08.233Z"
   },
   {
    "duration": 1954,
    "start_time": "2023-06-25T10:48:11.564Z"
   },
   {
    "duration": 3,
    "start_time": "2023-06-25T10:48:34.505Z"
   },
   {
    "duration": 4,
    "start_time": "2023-06-25T10:48:35.393Z"
   },
   {
    "duration": 5,
    "start_time": "2023-06-25T10:48:37.380Z"
   },
   {
    "duration": 5,
    "start_time": "2023-06-25T10:48:38.170Z"
   },
   {
    "duration": 5,
    "start_time": "2023-06-25T10:48:38.871Z"
   },
   {
    "duration": 6,
    "start_time": "2023-06-25T10:48:40.455Z"
   },
   {
    "duration": 8,
    "start_time": "2023-06-25T10:48:43.326Z"
   },
   {
    "duration": 10,
    "start_time": "2023-06-25T10:48:44.089Z"
   },
   {
    "duration": 8,
    "start_time": "2023-06-25T10:48:45.071Z"
   },
   {
    "duration": 1928,
    "start_time": "2023-06-25T10:48:46.570Z"
   },
   {
    "duration": 6,
    "start_time": "2023-06-25T10:54:55.087Z"
   },
   {
    "duration": 8,
    "start_time": "2023-06-25T10:54:57.941Z"
   },
   {
    "duration": 7,
    "start_time": "2023-06-25T10:54:59.011Z"
   },
   {
    "duration": 8,
    "start_time": "2023-06-25T10:55:00.075Z"
   },
   {
    "duration": 2019,
    "start_time": "2023-06-25T10:55:03.167Z"
   },
   {
    "duration": 5,
    "start_time": "2023-06-25T11:02:12.319Z"
   },
   {
    "duration": 8,
    "start_time": "2023-06-25T11:04:15.300Z"
   },
   {
    "duration": 7,
    "start_time": "2023-06-25T11:04:16.447Z"
   },
   {
    "duration": 8,
    "start_time": "2023-06-25T11:04:17.471Z"
   },
   {
    "duration": 1913,
    "start_time": "2023-06-25T11:05:29.208Z"
   },
   {
    "duration": 10,
    "start_time": "2023-06-25T11:06:33.461Z"
   },
   {
    "duration": 4,
    "start_time": "2023-06-25T11:06:58.915Z"
   },
   {
    "duration": 9,
    "start_time": "2023-06-25T11:07:01.763Z"
   },
   {
    "duration": 8,
    "start_time": "2023-06-25T11:07:02.676Z"
   },
   {
    "duration": 8,
    "start_time": "2023-06-25T11:07:03.988Z"
   },
   {
    "duration": 1906,
    "start_time": "2023-06-25T11:07:08.938Z"
   },
   {
    "duration": 5,
    "start_time": "2023-06-25T11:07:37.926Z"
   },
   {
    "duration": 8,
    "start_time": "2023-06-25T11:07:39.763Z"
   },
   {
    "duration": 1348,
    "start_time": "2023-06-25T11:07:55.964Z"
   },
   {
    "duration": 362,
    "start_time": "2023-06-25T11:07:57.314Z"
   },
   {
    "duration": 25,
    "start_time": "2023-06-25T11:07:57.679Z"
   },
   {
    "duration": 19,
    "start_time": "2023-06-25T11:07:57.706Z"
   },
   {
    "duration": 44,
    "start_time": "2023-06-25T11:07:57.726Z"
   },
   {
    "duration": 13,
    "start_time": "2023-06-25T11:07:57.771Z"
   },
   {
    "duration": 43,
    "start_time": "2023-06-25T11:07:57.786Z"
   },
   {
    "duration": 34,
    "start_time": "2023-06-25T11:07:57.830Z"
   },
   {
    "duration": 18,
    "start_time": "2023-06-25T11:07:57.865Z"
   },
   {
    "duration": 18,
    "start_time": "2023-06-25T11:07:57.884Z"
   },
   {
    "duration": 58,
    "start_time": "2023-06-25T11:07:57.903Z"
   },
   {
    "duration": 110,
    "start_time": "2023-06-25T11:07:57.963Z"
   },
   {
    "duration": 190,
    "start_time": "2023-06-25T11:07:58.075Z"
   },
   {
    "duration": 92,
    "start_time": "2023-06-25T11:07:58.267Z"
   },
   {
    "duration": 7,
    "start_time": "2023-06-25T11:07:58.361Z"
   },
   {
    "duration": 93,
    "start_time": "2023-06-25T11:07:58.370Z"
   },
   {
    "duration": 5,
    "start_time": "2023-06-25T11:07:58.465Z"
   },
   {
    "duration": 8,
    "start_time": "2023-06-25T11:07:58.472Z"
   },
   {
    "duration": 6,
    "start_time": "2023-06-25T11:07:58.481Z"
   },
   {
    "duration": 13,
    "start_time": "2023-06-25T11:07:58.489Z"
   },
   {
    "duration": 7,
    "start_time": "2023-06-25T11:07:58.503Z"
   },
   {
    "duration": 12,
    "start_time": "2023-06-25T11:07:58.512Z"
   },
   {
    "duration": 35,
    "start_time": "2023-06-25T11:07:58.525Z"
   },
   {
    "duration": 8,
    "start_time": "2023-06-25T11:07:58.562Z"
   },
   {
    "duration": 7,
    "start_time": "2023-06-25T11:07:58.571Z"
   },
   {
    "duration": 2037,
    "start_time": "2023-06-25T11:07:58.580Z"
   },
   {
    "duration": 10,
    "start_time": "2023-06-25T11:20:59.411Z"
   },
   {
    "duration": 13,
    "start_time": "2023-06-25T11:21:22.319Z"
   },
   {
    "duration": 9,
    "start_time": "2023-06-25T11:21:25.282Z"
   },
   {
    "duration": 9,
    "start_time": "2023-06-25T11:21:26.727Z"
   },
   {
    "duration": 8,
    "start_time": "2023-06-25T11:21:27.721Z"
   },
   {
    "duration": 1939,
    "start_time": "2023-06-25T11:21:34.589Z"
   },
   {
    "duration": 1946,
    "start_time": "2023-06-25T11:22:36.281Z"
   },
   {
    "duration": 1349,
    "start_time": "2023-06-25T11:24:08.264Z"
   },
   {
    "duration": 361,
    "start_time": "2023-06-25T11:24:09.615Z"
   },
   {
    "duration": 25,
    "start_time": "2023-06-25T11:24:09.978Z"
   },
   {
    "duration": 20,
    "start_time": "2023-06-25T11:24:10.004Z"
   },
   {
    "duration": 35,
    "start_time": "2023-06-25T11:24:10.025Z"
   },
   {
    "duration": 13,
    "start_time": "2023-06-25T11:24:10.061Z"
   },
   {
    "duration": 45,
    "start_time": "2023-06-25T11:24:10.075Z"
   },
   {
    "duration": 19,
    "start_time": "2023-06-25T11:24:10.121Z"
   },
   {
    "duration": 31,
    "start_time": "2023-06-25T11:24:10.141Z"
   },
   {
    "duration": 17,
    "start_time": "2023-06-25T11:24:10.173Z"
   },
   {
    "duration": 69,
    "start_time": "2023-06-25T11:24:10.192Z"
   },
   {
    "duration": 107,
    "start_time": "2023-06-25T11:24:10.262Z"
   },
   {
    "duration": 194,
    "start_time": "2023-06-25T11:24:10.371Z"
   },
   {
    "duration": 91,
    "start_time": "2023-06-25T11:24:10.569Z"
   },
   {
    "duration": 11,
    "start_time": "2023-06-25T11:24:10.662Z"
   },
   {
    "duration": 90,
    "start_time": "2023-06-25T11:24:10.674Z"
   },
   {
    "duration": 6,
    "start_time": "2023-06-25T11:24:10.766Z"
   },
   {
    "duration": 10,
    "start_time": "2023-06-25T11:24:10.774Z"
   },
   {
    "duration": 12,
    "start_time": "2023-06-25T11:24:10.785Z"
   },
   {
    "duration": 7,
    "start_time": "2023-06-25T11:24:10.798Z"
   },
   {
    "duration": 13,
    "start_time": "2023-06-25T11:24:10.806Z"
   },
   {
    "duration": 8,
    "start_time": "2023-06-25T11:24:10.821Z"
   },
   {
    "duration": 29,
    "start_time": "2023-06-25T11:24:10.830Z"
   },
   {
    "duration": 10,
    "start_time": "2023-06-25T11:24:10.860Z"
   },
   {
    "duration": 1970,
    "start_time": "2023-06-25T11:24:10.871Z"
   },
   {
    "duration": 2181,
    "start_time": "2023-06-25T11:24:55.710Z"
   },
   {
    "duration": 1947,
    "start_time": "2023-06-25T11:25:20.742Z"
   },
   {
    "duration": 2596,
    "start_time": "2023-06-25T11:25:34.797Z"
   },
   {
    "duration": 2556,
    "start_time": "2023-06-25T11:27:46.116Z"
   },
   {
    "duration": 9,
    "start_time": "2023-06-25T11:37:04.429Z"
   },
   {
    "duration": 8,
    "start_time": "2023-06-25T11:37:06.941Z"
   },
   {
    "duration": 9,
    "start_time": "2023-06-25T11:37:07.925Z"
   },
   {
    "duration": 11,
    "start_time": "2023-06-25T11:37:09.214Z"
   },
   {
    "duration": 125,
    "start_time": "2023-06-25T11:37:11.210Z"
   },
   {
    "duration": 8,
    "start_time": "2023-06-25T11:37:21.749Z"
   },
   {
    "duration": 2700,
    "start_time": "2023-06-25T11:37:25.372Z"
   },
   {
    "duration": 8,
    "start_time": "2023-06-25T11:38:40.324Z"
   },
   {
    "duration": 8,
    "start_time": "2023-06-25T11:38:42.859Z"
   },
   {
    "duration": 8,
    "start_time": "2023-06-25T11:38:44.573Z"
   },
   {
    "duration": 3,
    "start_time": "2023-06-25T11:39:11.156Z"
   },
   {
    "duration": 8,
    "start_time": "2023-06-25T11:39:13.787Z"
   },
   {
    "duration": 8,
    "start_time": "2023-06-25T11:39:14.531Z"
   },
   {
    "duration": 8,
    "start_time": "2023-06-25T11:39:15.384Z"
   },
   {
    "duration": 2675,
    "start_time": "2023-06-25T11:39:31.618Z"
   },
   {
    "duration": 2679,
    "start_time": "2023-06-25T11:40:39.894Z"
   },
   {
    "duration": 26976,
    "start_time": "2023-06-25T11:41:20.652Z"
   },
   {
    "duration": 2680,
    "start_time": "2023-06-25T11:42:08.612Z"
   },
   {
    "duration": 2872,
    "start_time": "2023-06-25T11:46:39.987Z"
   },
   {
    "duration": 9832,
    "start_time": "2023-06-25T11:47:15.116Z"
   },
   {
    "duration": 2674,
    "start_time": "2023-06-25T11:47:37.543Z"
   },
   {
    "duration": 3,
    "start_time": "2023-06-25T11:51:14.785Z"
   },
   {
    "duration": 9,
    "start_time": "2023-06-25T11:51:16.541Z"
   },
   {
    "duration": 10,
    "start_time": "2023-06-25T11:51:17.420Z"
   },
   {
    "duration": 9,
    "start_time": "2023-06-25T11:51:18.181Z"
   },
   {
    "duration": 4,
    "start_time": "2023-06-25T11:51:24.556Z"
   },
   {
    "duration": 8,
    "start_time": "2023-06-25T11:51:26.669Z"
   },
   {
    "duration": 9,
    "start_time": "2023-06-25T11:51:27.507Z"
   },
   {
    "duration": 7,
    "start_time": "2023-06-25T11:51:28.375Z"
   },
   {
    "duration": 2773,
    "start_time": "2023-06-25T11:56:59.023Z"
   },
   {
    "duration": 2814,
    "start_time": "2023-06-25T11:57:57.568Z"
   },
   {
    "duration": 3386,
    "start_time": "2023-06-25T11:58:21.546Z"
   },
   {
    "duration": 3271,
    "start_time": "2023-06-25T11:59:32.838Z"
   },
   {
    "duration": 6454,
    "start_time": "2023-06-25T12:19:50.606Z"
   },
   {
    "duration": 3155,
    "start_time": "2023-06-25T12:19:59.008Z"
   },
   {
    "duration": 2744,
    "start_time": "2023-06-25T12:20:11.016Z"
   },
   {
    "duration": 4889,
    "start_time": "2023-06-25T12:20:16.823Z"
   },
   {
    "duration": 25874,
    "start_time": "2023-06-25T12:20:24.012Z"
   },
   {
    "duration": 2769,
    "start_time": "2023-06-25T12:20:56.645Z"
   },
   {
    "duration": 1494,
    "start_time": "2023-06-25T19:15:16.178Z"
   },
   {
    "duration": 365,
    "start_time": "2023-06-25T19:15:17.674Z"
   },
   {
    "duration": 22,
    "start_time": "2023-06-25T19:15:18.040Z"
   },
   {
    "duration": 47,
    "start_time": "2023-06-25T19:15:18.063Z"
   },
   {
    "duration": 22,
    "start_time": "2023-06-25T19:15:18.112Z"
   },
   {
    "duration": 13,
    "start_time": "2023-06-25T19:15:18.135Z"
   },
   {
    "duration": 63,
    "start_time": "2023-06-25T19:15:18.149Z"
   },
   {
    "duration": 21,
    "start_time": "2023-06-25T19:15:18.214Z"
   },
   {
    "duration": 21,
    "start_time": "2023-06-25T19:15:18.237Z"
   },
   {
    "duration": 16,
    "start_time": "2023-06-25T19:15:18.260Z"
   },
   {
    "duration": 45,
    "start_time": "2023-06-25T19:15:18.278Z"
   },
   {
    "duration": 176,
    "start_time": "2023-06-25T19:15:18.325Z"
   },
   {
    "duration": 99,
    "start_time": "2023-06-25T19:15:18.521Z"
   },
   {
    "duration": 205,
    "start_time": "2023-06-25T19:15:18.626Z"
   },
   {
    "duration": 30,
    "start_time": "2023-06-25T19:15:18.832Z"
   },
   {
    "duration": 20,
    "start_time": "2023-06-25T19:15:18.864Z"
   },
   {
    "duration": 12,
    "start_time": "2023-06-25T19:15:18.886Z"
   },
   {
    "duration": 36,
    "start_time": "2023-06-25T19:15:18.899Z"
   },
   {
    "duration": 5,
    "start_time": "2023-06-25T19:15:18.937Z"
   },
   {
    "duration": 11,
    "start_time": "2023-06-25T19:15:18.944Z"
   },
   {
    "duration": 7,
    "start_time": "2023-06-25T19:15:18.957Z"
   },
   {
    "duration": 18,
    "start_time": "2023-06-25T19:15:18.965Z"
   },
   {
    "duration": 37,
    "start_time": "2023-06-25T19:15:18.984Z"
   },
   {
    "duration": 9,
    "start_time": "2023-06-25T19:15:19.023Z"
   },
   {
    "duration": 122,
    "start_time": "2023-06-25T19:15:19.033Z"
   },
   {
    "duration": 10,
    "start_time": "2023-06-25T19:16:01.393Z"
   },
   {
    "duration": 9,
    "start_time": "2023-06-25T19:16:13.519Z"
   },
   {
    "duration": 10,
    "start_time": "2023-06-25T19:22:00.717Z"
   },
   {
    "duration": 10,
    "start_time": "2023-06-25T19:22:12.295Z"
   },
   {
    "duration": 9,
    "start_time": "2023-06-25T19:22:17.310Z"
   },
   {
    "duration": 6,
    "start_time": "2023-06-25T19:28:23.283Z"
   },
   {
    "duration": 36,
    "start_time": "2023-06-25T19:29:01.487Z"
   },
   {
    "duration": 22,
    "start_time": "2023-06-25T19:29:14.848Z"
   },
   {
    "duration": 5,
    "start_time": "2023-06-25T19:30:16.946Z"
   },
   {
    "duration": 12,
    "start_time": "2023-06-25T19:33:18.317Z"
   },
   {
    "duration": 8,
    "start_time": "2023-06-25T19:33:25.074Z"
   },
   {
    "duration": 7,
    "start_time": "2023-06-25T20:09:55.247Z"
   },
   {
    "duration": 8,
    "start_time": "2023-06-25T20:41:22.446Z"
   },
   {
    "duration": 40,
    "start_time": "2023-06-25T20:41:26.199Z"
   },
   {
    "duration": 1449,
    "start_time": "2023-06-25T20:41:32.038Z"
   },
   {
    "duration": 819,
    "start_time": "2023-06-25T20:41:33.489Z"
   },
   {
    "duration": 21,
    "start_time": "2023-06-25T20:41:34.310Z"
   },
   {
    "duration": 16,
    "start_time": "2023-06-25T20:41:34.333Z"
   },
   {
    "duration": 22,
    "start_time": "2023-06-25T20:41:34.351Z"
   },
   {
    "duration": 10,
    "start_time": "2023-06-25T20:41:34.374Z"
   },
   {
    "duration": 50,
    "start_time": "2023-06-25T20:41:34.385Z"
   },
   {
    "duration": 15,
    "start_time": "2023-06-25T20:41:34.436Z"
   },
   {
    "duration": 16,
    "start_time": "2023-06-25T20:41:34.453Z"
   },
   {
    "duration": 28,
    "start_time": "2023-06-25T20:41:34.472Z"
   },
   {
    "duration": 104,
    "start_time": "2023-06-25T20:41:34.501Z"
   },
   {
    "duration": 101,
    "start_time": "2023-06-25T20:41:34.607Z"
   },
   {
    "duration": 205,
    "start_time": "2023-06-25T20:41:34.710Z"
   },
   {
    "duration": 186,
    "start_time": "2023-06-25T20:41:34.918Z"
   },
   {
    "duration": 7,
    "start_time": "2023-06-25T20:41:35.105Z"
   },
   {
    "duration": 15,
    "start_time": "2023-06-25T20:41:35.114Z"
   },
   {
    "duration": 6,
    "start_time": "2023-06-25T20:41:35.130Z"
   },
   {
    "duration": 24,
    "start_time": "2023-06-25T20:41:35.137Z"
   },
   {
    "duration": 24,
    "start_time": "2023-06-25T20:41:35.162Z"
   },
   {
    "duration": 27,
    "start_time": "2023-06-25T20:41:35.187Z"
   },
   {
    "duration": 17,
    "start_time": "2023-06-25T20:41:35.215Z"
   },
   {
    "duration": 7,
    "start_time": "2023-06-25T20:41:35.233Z"
   },
   {
    "duration": 13,
    "start_time": "2023-06-25T20:41:35.241Z"
   },
   {
    "duration": 9,
    "start_time": "2023-06-25T20:41:35.255Z"
   },
   {
    "duration": 15,
    "start_time": "2023-06-25T20:41:35.266Z"
   },
   {
    "duration": 9,
    "start_time": "2023-06-25T20:41:35.283Z"
   },
   {
    "duration": 131,
    "start_time": "2023-06-25T20:41:35.294Z"
   },
   {
    "duration": 0,
    "start_time": "2023-06-25T20:41:35.427Z"
   },
   {
    "duration": 1399,
    "start_time": "2023-06-25T21:06:58.701Z"
   },
   {
    "duration": 376,
    "start_time": "2023-06-25T21:07:00.102Z"
   },
   {
    "duration": 28,
    "start_time": "2023-06-25T21:07:00.479Z"
   },
   {
    "duration": 63,
    "start_time": "2023-06-25T21:07:00.508Z"
   },
   {
    "duration": 48,
    "start_time": "2023-06-25T21:07:00.573Z"
   },
   {
    "duration": 64,
    "start_time": "2023-06-25T21:07:00.623Z"
   },
   {
    "duration": 112,
    "start_time": "2023-06-25T21:07:00.689Z"
   },
   {
    "duration": 50,
    "start_time": "2023-06-25T21:07:00.803Z"
   },
   {
    "duration": 101,
    "start_time": "2023-06-25T21:07:00.855Z"
   },
   {
    "duration": 48,
    "start_time": "2023-06-25T21:07:00.957Z"
   },
   {
    "duration": 52,
    "start_time": "2023-06-25T21:07:01.006Z"
   },
   {
    "duration": 177,
    "start_time": "2023-06-25T21:07:01.060Z"
   },
   {
    "duration": 202,
    "start_time": "2023-06-25T21:07:01.238Z"
   },
   {
    "duration": 57,
    "start_time": "2023-06-25T21:07:01.444Z"
   },
   {
    "duration": 98,
    "start_time": "2023-06-25T21:07:01.503Z"
   },
   {
    "duration": 28,
    "start_time": "2023-06-25T21:07:01.603Z"
   },
   {
    "duration": 76,
    "start_time": "2023-06-25T21:07:01.632Z"
   },
   {
    "duration": 75,
    "start_time": "2023-06-25T21:07:01.710Z"
   },
   {
    "duration": 35,
    "start_time": "2023-06-25T21:07:01.787Z"
   },
   {
    "duration": 31,
    "start_time": "2023-06-25T21:07:01.823Z"
   },
   {
    "duration": 69,
    "start_time": "2023-06-25T21:07:01.856Z"
   },
   {
    "duration": 56,
    "start_time": "2023-06-25T21:07:01.927Z"
   },
   {
    "duration": 31,
    "start_time": "2023-06-25T21:07:01.985Z"
   },
   {
    "duration": 42,
    "start_time": "2023-06-25T21:07:02.018Z"
   },
   {
    "duration": 46,
    "start_time": "2023-06-25T21:07:02.061Z"
   },
   {
    "duration": 49,
    "start_time": "2023-06-25T21:07:02.108Z"
   },
   {
    "duration": 159,
    "start_time": "2023-06-25T21:07:02.158Z"
   },
   {
    "duration": 0,
    "start_time": "2023-06-25T21:07:02.319Z"
   },
   {
    "duration": 3,
    "start_time": "2023-06-25T21:09:53.629Z"
   },
   {
    "duration": 12,
    "start_time": "2023-06-25T21:09:59.591Z"
   },
   {
    "duration": 13,
    "start_time": "2023-06-25T21:10:13.399Z"
   },
   {
    "duration": 13,
    "start_time": "2023-06-25T21:10:15.189Z"
   },
   {
    "duration": 20,
    "start_time": "2023-06-25T21:10:35.616Z"
   },
   {
    "duration": 4,
    "start_time": "2023-06-25T21:13:25.635Z"
   },
   {
    "duration": 7,
    "start_time": "2023-06-25T21:13:29.105Z"
   },
   {
    "duration": 12,
    "start_time": "2023-06-25T21:13:31.323Z"
   },
   {
    "duration": 11,
    "start_time": "2023-06-25T21:13:33.563Z"
   },
   {
    "duration": 13,
    "start_time": "2023-06-25T21:13:35.332Z"
   },
   {
    "duration": 21119,
    "start_time": "2023-06-25T21:15:58.093Z"
   },
   {
    "duration": 4,
    "start_time": "2023-06-25T21:16:19.214Z"
   },
   {
    "duration": 1624,
    "start_time": "2023-06-25T21:16:24.546Z"
   },
   {
    "duration": 10,
    "start_time": "2023-06-25T21:17:07.025Z"
   },
   {
    "duration": 1305,
    "start_time": "2023-06-25T21:17:14.656Z"
   },
   {
    "duration": 375,
    "start_time": "2023-06-25T21:17:15.964Z"
   },
   {
    "duration": 21,
    "start_time": "2023-06-25T21:17:16.341Z"
   },
   {
    "duration": 18,
    "start_time": "2023-06-25T21:17:16.363Z"
   },
   {
    "duration": 44,
    "start_time": "2023-06-25T21:17:16.382Z"
   },
   {
    "duration": 26,
    "start_time": "2023-06-25T21:17:16.428Z"
   },
   {
    "duration": 64,
    "start_time": "2023-06-25T21:17:16.456Z"
   },
   {
    "duration": 15,
    "start_time": "2023-06-25T21:17:16.522Z"
   },
   {
    "duration": 37,
    "start_time": "2023-06-25T21:17:16.539Z"
   },
   {
    "duration": 24,
    "start_time": "2023-06-25T21:17:16.578Z"
   },
   {
    "duration": 26,
    "start_time": "2023-06-25T21:17:16.608Z"
   },
   {
    "duration": 207,
    "start_time": "2023-06-25T21:17:16.704Z"
   },
   {
    "duration": 116,
    "start_time": "2023-06-25T21:17:16.913Z"
   },
   {
    "duration": 72,
    "start_time": "2023-06-25T21:17:17.032Z"
   },
   {
    "duration": 109,
    "start_time": "2023-06-25T21:17:17.106Z"
   },
   {
    "duration": 22,
    "start_time": "2023-06-25T21:17:17.217Z"
   },
   {
    "duration": 6,
    "start_time": "2023-06-25T21:17:17.241Z"
   },
   {
    "duration": 7,
    "start_time": "2023-06-25T21:17:17.248Z"
   },
   {
    "duration": 4,
    "start_time": "2023-06-25T21:17:17.256Z"
   },
   {
    "duration": 19,
    "start_time": "2023-06-25T21:17:17.261Z"
   },
   {
    "duration": 14,
    "start_time": "2023-06-25T21:17:17.282Z"
   },
   {
    "duration": 8,
    "start_time": "2023-06-25T21:17:17.297Z"
   },
   {
    "duration": 15,
    "start_time": "2023-06-25T21:17:17.307Z"
   },
   {
    "duration": 7,
    "start_time": "2023-06-25T21:17:17.323Z"
   },
   {
    "duration": 16,
    "start_time": "2023-06-25T21:17:17.331Z"
   },
   {
    "duration": 11,
    "start_time": "2023-06-25T21:17:17.348Z"
   },
   {
    "duration": 1854,
    "start_time": "2023-06-25T21:17:17.360Z"
   },
   {
    "duration": 7,
    "start_time": "2023-06-25T21:17:19.217Z"
   },
   {
    "duration": 1654,
    "start_time": "2023-06-25T21:17:51.223Z"
   },
   {
    "duration": 30,
    "start_time": "2023-06-25T21:41:47.299Z"
   },
   {
    "duration": 30,
    "start_time": "2023-06-25T21:41:56.618Z"
   },
   {
    "duration": 25,
    "start_time": "2023-06-25T21:42:01.853Z"
   },
   {
    "duration": 46,
    "start_time": "2023-06-25T21:42:05.038Z"
   },
   {
    "duration": 1338,
    "start_time": "2023-06-25T21:42:31.787Z"
   },
   {
    "duration": 352,
    "start_time": "2023-06-25T21:42:33.128Z"
   },
   {
    "duration": 31,
    "start_time": "2023-06-25T21:42:33.997Z"
   },
   {
    "duration": 22,
    "start_time": "2023-06-25T21:42:35.805Z"
   },
   {
    "duration": 19,
    "start_time": "2023-06-25T21:42:37.383Z"
   },
   {
    "duration": 109,
    "start_time": "2023-06-25T21:42:38.805Z"
   },
   {
    "duration": 52,
    "start_time": "2023-06-25T21:42:48.388Z"
   },
   {
    "duration": 44,
    "start_time": "2023-06-25T21:42:51.604Z"
   },
   {
    "duration": 48,
    "start_time": "2023-06-25T21:42:54.096Z"
   },
   {
    "duration": 18,
    "start_time": "2023-06-25T21:43:14.259Z"
   },
   {
    "duration": 17,
    "start_time": "2023-06-25T21:43:18.453Z"
   },
   {
    "duration": 11,
    "start_time": "2023-06-25T21:43:21.808Z"
   },
   {
    "duration": 20,
    "start_time": "2023-06-25T21:43:24.816Z"
   },
   {
    "duration": 29,
    "start_time": "2023-06-25T22:32:40.643Z"
   },
   {
    "duration": 11,
    "start_time": "2023-06-25T22:34:11.855Z"
   },
   {
    "duration": 15,
    "start_time": "2023-06-25T22:37:04.926Z"
   },
   {
    "duration": 804,
    "start_time": "2023-06-25T22:37:13.538Z"
   },
   {
    "duration": 251,
    "start_time": "2023-06-25T22:37:47.319Z"
   },
   {
    "duration": 304,
    "start_time": "2023-06-25T22:38:11.946Z"
   },
   {
    "duration": 301,
    "start_time": "2023-06-25T22:38:42.024Z"
   },
   {
    "duration": 313,
    "start_time": "2023-06-25T22:39:22.141Z"
   },
   {
    "duration": 297,
    "start_time": "2023-06-25T22:39:38.338Z"
   },
   {
    "duration": 438,
    "start_time": "2023-06-25T22:39:51.307Z"
   },
   {
    "duration": 52,
    "start_time": "2023-06-25T22:51:03.259Z"
   },
   {
    "duration": 3,
    "start_time": "2023-06-25T22:53:33.829Z"
   },
   {
    "duration": 1587,
    "start_time": "2023-06-25T22:54:52.095Z"
   },
   {
    "duration": 4,
    "start_time": "2023-06-25T22:54:53.685Z"
   },
   {
    "duration": 474,
    "start_time": "2023-06-25T22:54:53.690Z"
   },
   {
    "duration": 22,
    "start_time": "2023-06-25T22:54:54.166Z"
   },
   {
    "duration": 33,
    "start_time": "2023-06-25T22:54:54.200Z"
   },
   {
    "duration": 27,
    "start_time": "2023-06-25T22:54:54.235Z"
   },
   {
    "duration": 67,
    "start_time": "2023-06-25T22:54:54.264Z"
   },
   {
    "duration": 15,
    "start_time": "2023-06-25T22:54:54.333Z"
   },
   {
    "duration": 402,
    "start_time": "2023-06-25T22:54:54.350Z"
   },
   {
    "duration": 317,
    "start_time": "2023-06-25T22:54:54.753Z"
   },
   {
    "duration": 362,
    "start_time": "2023-06-25T22:54:55.071Z"
   },
   {
    "duration": 21,
    "start_time": "2023-06-25T22:54:55.435Z"
   },
   {
    "duration": 36,
    "start_time": "2023-06-25T22:54:55.457Z"
   },
   {
    "duration": 40,
    "start_time": "2023-06-25T22:54:55.496Z"
   },
   {
    "duration": 75,
    "start_time": "2023-06-25T22:54:55.538Z"
   },
   {
    "duration": 124,
    "start_time": "2023-06-25T22:54:55.619Z"
   },
   {
    "duration": 192,
    "start_time": "2023-06-25T22:54:55.745Z"
   },
   {
    "duration": 220,
    "start_time": "2023-06-25T22:54:55.939Z"
   },
   {
    "duration": 0,
    "start_time": "2023-06-25T22:54:56.161Z"
   },
   {
    "duration": 0,
    "start_time": "2023-06-25T22:54:56.163Z"
   },
   {
    "duration": 0,
    "start_time": "2023-06-25T22:54:56.165Z"
   },
   {
    "duration": 0,
    "start_time": "2023-06-25T22:54:56.166Z"
   },
   {
    "duration": 0,
    "start_time": "2023-06-25T22:54:56.168Z"
   },
   {
    "duration": 0,
    "start_time": "2023-06-25T22:54:56.168Z"
   },
   {
    "duration": 0,
    "start_time": "2023-06-25T22:54:56.170Z"
   },
   {
    "duration": 0,
    "start_time": "2023-06-25T22:54:56.171Z"
   },
   {
    "duration": 0,
    "start_time": "2023-06-25T22:54:56.173Z"
   },
   {
    "duration": 0,
    "start_time": "2023-06-25T22:54:56.174Z"
   },
   {
    "duration": 0,
    "start_time": "2023-06-25T22:54:56.176Z"
   },
   {
    "duration": 0,
    "start_time": "2023-06-25T22:54:56.206Z"
   },
   {
    "duration": 0,
    "start_time": "2023-06-25T22:54:56.210Z"
   },
   {
    "duration": 4,
    "start_time": "2023-06-25T22:56:51.919Z"
   },
   {
    "duration": 12,
    "start_time": "2023-06-25T22:56:55.723Z"
   },
   {
    "duration": 5,
    "start_time": "2023-06-25T22:56:56.852Z"
   },
   {
    "duration": 6,
    "start_time": "2023-06-25T22:56:57.715Z"
   },
   {
    "duration": 4,
    "start_time": "2023-06-25T22:57:03.029Z"
   },
   {
    "duration": 8,
    "start_time": "2023-06-25T22:57:06.326Z"
   },
   {
    "duration": 7,
    "start_time": "2023-06-25T22:57:07.542Z"
   },
   {
    "duration": 9,
    "start_time": "2023-06-25T22:57:09.328Z"
   },
   {
    "duration": 11,
    "start_time": "2023-06-25T22:57:11.224Z"
   },
   {
    "duration": 16,
    "start_time": "2023-06-25T22:57:12.636Z"
   },
   {
    "duration": 4,
    "start_time": "2023-06-25T22:57:38.487Z"
   },
   {
    "duration": 8,
    "start_time": "2023-06-25T22:57:44.134Z"
   },
   {
    "duration": 20,
    "start_time": "2023-06-25T22:57:45.390Z"
   },
   {
    "duration": 14,
    "start_time": "2023-06-25T22:57:46.799Z"
   },
   {
    "duration": 16,
    "start_time": "2023-06-25T22:58:16.272Z"
   },
   {
    "duration": 1991,
    "start_time": "2023-06-25T22:58:25.155Z"
   },
   {
    "duration": 14,
    "start_time": "2023-06-25T22:59:03.349Z"
   },
   {
    "duration": 14,
    "start_time": "2023-06-25T22:59:04.322Z"
   },
   {
    "duration": 15,
    "start_time": "2023-06-25T22:59:05.938Z"
   },
   {
    "duration": 4,
    "start_time": "2023-06-25T23:21:03.461Z"
   },
   {
    "duration": 25,
    "start_time": "2023-06-25T23:21:47.953Z"
   },
   {
    "duration": 131,
    "start_time": "2023-06-25T23:22:04.894Z"
   },
   {
    "duration": 114,
    "start_time": "2023-06-25T23:25:25.496Z"
   },
   {
    "duration": 34,
    "start_time": "2023-06-25T23:25:51.995Z"
   },
   {
    "duration": 4,
    "start_time": "2023-06-25T23:34:50.533Z"
   },
   {
    "duration": 14,
    "start_time": "2023-06-25T23:34:56.810Z"
   },
   {
    "duration": 4,
    "start_time": "2023-06-25T23:35:19.438Z"
   },
   {
    "duration": 19,
    "start_time": "2023-06-25T23:35:24.718Z"
   },
   {
    "duration": 11,
    "start_time": "2023-06-25T23:36:17.498Z"
   },
   {
    "duration": 18,
    "start_time": "2023-06-25T23:36:24.297Z"
   },
   {
    "duration": 3,
    "start_time": "2023-06-25T23:37:02.171Z"
   },
   {
    "duration": 27,
    "start_time": "2023-06-25T23:37:07.702Z"
   },
   {
    "duration": 17,
    "start_time": "2023-06-25T23:37:21.896Z"
   },
   {
    "duration": 1409,
    "start_time": "2023-06-25T23:37:27.430Z"
   },
   {
    "duration": 3,
    "start_time": "2023-06-25T23:37:28.841Z"
   },
   {
    "duration": 393,
    "start_time": "2023-06-25T23:37:28.846Z"
   },
   {
    "duration": 21,
    "start_time": "2023-06-25T23:37:29.240Z"
   },
   {
    "duration": 17,
    "start_time": "2023-06-25T23:37:29.263Z"
   },
   {
    "duration": 48,
    "start_time": "2023-06-25T23:37:29.281Z"
   },
   {
    "duration": 45,
    "start_time": "2023-06-25T23:37:29.332Z"
   },
   {
    "duration": 21,
    "start_time": "2023-06-25T23:37:29.378Z"
   },
   {
    "duration": 305,
    "start_time": "2023-06-25T23:37:29.400Z"
   },
   {
    "duration": 253,
    "start_time": "2023-06-25T23:37:29.715Z"
   },
   {
    "duration": 302,
    "start_time": "2023-06-25T23:37:29.970Z"
   },
   {
    "duration": 30,
    "start_time": "2023-06-25T23:37:30.273Z"
   },
   {
    "duration": 37,
    "start_time": "2023-06-25T23:37:30.304Z"
   },
   {
    "duration": 19,
    "start_time": "2023-06-25T23:37:30.344Z"
   },
   {
    "duration": 69,
    "start_time": "2023-06-25T23:37:30.364Z"
   },
   {
    "duration": 169,
    "start_time": "2023-06-25T23:37:30.435Z"
   },
   {
    "duration": 138,
    "start_time": "2023-06-25T23:37:30.617Z"
   },
   {
    "duration": 149,
    "start_time": "2023-06-25T23:37:30.756Z"
   },
   {
    "duration": 57,
    "start_time": "2023-06-25T23:37:30.906Z"
   },
   {
    "duration": 84,
    "start_time": "2023-06-25T23:37:30.965Z"
   },
   {
    "duration": 42,
    "start_time": "2023-06-25T23:37:31.051Z"
   },
   {
    "duration": 91,
    "start_time": "2023-06-25T23:37:31.095Z"
   },
   {
    "duration": 55,
    "start_time": "2023-06-25T23:37:31.188Z"
   },
   {
    "duration": 33,
    "start_time": "2023-06-25T23:37:31.244Z"
   },
   {
    "duration": 81,
    "start_time": "2023-06-25T23:37:31.278Z"
   },
   {
    "duration": 28,
    "start_time": "2023-06-25T23:37:31.360Z"
   },
   {
    "duration": 78,
    "start_time": "2023-06-25T23:37:31.390Z"
   },
   {
    "duration": 78,
    "start_time": "2023-06-25T23:37:31.470Z"
   },
   {
    "duration": 34,
    "start_time": "2023-06-25T23:37:31.550Z"
   },
   {
    "duration": 1713,
    "start_time": "2023-06-25T23:37:31.585Z"
   },
   {
    "duration": 115,
    "start_time": "2023-06-25T23:37:33.318Z"
   },
   {
    "duration": 8,
    "start_time": "2023-06-25T23:37:41.930Z"
   },
   {
    "duration": 4,
    "start_time": "2023-06-25T23:38:39.327Z"
   },
   {
    "duration": 9,
    "start_time": "2023-06-25T23:38:44.741Z"
   },
   {
    "duration": 10,
    "start_time": "2023-06-25T23:38:45.917Z"
   },
   {
    "duration": 12,
    "start_time": "2023-06-25T23:38:46.715Z"
   },
   {
    "duration": 1660,
    "start_time": "2023-06-25T23:38:48.219Z"
   },
   {
    "duration": 1788,
    "start_time": "2023-06-25T23:38:56.245Z"
   },
   {
    "duration": 1756,
    "start_time": "2023-06-25T23:38:59.070Z"
   },
   {
    "duration": 1717,
    "start_time": "2023-06-25T23:39:01.522Z"
   },
   {
    "duration": 2608,
    "start_time": "2023-06-25T23:48:18.253Z"
   },
   {
    "duration": 2622,
    "start_time": "2023-06-25T23:49:58.471Z"
   },
   {
    "duration": 2548,
    "start_time": "2023-06-25T23:50:32.039Z"
   },
   {
    "duration": 2584,
    "start_time": "2023-06-25T23:50:42.645Z"
   },
   {
    "duration": 2778,
    "start_time": "2023-06-25T23:52:00.645Z"
   },
   {
    "duration": 2193,
    "start_time": "2023-06-25T23:54:09.844Z"
   },
   {
    "duration": 2551,
    "start_time": "2023-06-25T23:54:22.839Z"
   },
   {
    "duration": 2703,
    "start_time": "2023-06-25T23:55:54.037Z"
   },
   {
    "duration": 841,
    "start_time": "2023-06-25T23:59:18.492Z"
   },
   {
    "duration": 2685,
    "start_time": "2023-06-26T00:00:14.458Z"
   },
   {
    "duration": 2686,
    "start_time": "2023-06-26T00:00:33.051Z"
   },
   {
    "duration": 2784,
    "start_time": "2023-06-26T00:00:58.661Z"
   },
   {
    "duration": 1827,
    "start_time": "2023-06-26T16:31:10.396Z"
   },
   {
    "duration": 5,
    "start_time": "2023-06-26T16:31:12.226Z"
   },
   {
    "duration": 593,
    "start_time": "2023-06-26T16:31:12.233Z"
   },
   {
    "duration": 31,
    "start_time": "2023-06-26T16:31:12.828Z"
   },
   {
    "duration": 25,
    "start_time": "2023-06-26T16:31:12.862Z"
   },
   {
    "duration": 33,
    "start_time": "2023-06-26T16:31:12.909Z"
   },
   {
    "duration": 92,
    "start_time": "2023-06-26T16:31:12.944Z"
   },
   {
    "duration": 14,
    "start_time": "2023-06-26T16:31:13.038Z"
   },
   {
    "duration": 410,
    "start_time": "2023-06-26T16:31:13.054Z"
   },
   {
    "duration": 368,
    "start_time": "2023-06-26T16:31:13.466Z"
   },
   {
    "duration": 334,
    "start_time": "2023-06-26T16:31:13.836Z"
   },
   {
    "duration": 43,
    "start_time": "2023-06-26T16:31:14.172Z"
   },
   {
    "duration": 74,
    "start_time": "2023-06-26T16:31:14.222Z"
   },
   {
    "duration": 38,
    "start_time": "2023-06-26T16:31:14.300Z"
   },
   {
    "duration": 79,
    "start_time": "2023-06-26T16:31:14.339Z"
   },
   {
    "duration": 116,
    "start_time": "2023-06-26T16:31:14.420Z"
   },
   {
    "duration": 114,
    "start_time": "2023-06-26T16:31:14.621Z"
   },
   {
    "duration": 183,
    "start_time": "2023-06-26T16:31:14.736Z"
   },
   {
    "duration": 19,
    "start_time": "2023-06-26T16:31:14.920Z"
   },
   {
    "duration": 11,
    "start_time": "2023-06-26T16:31:14.941Z"
   },
   {
    "duration": 10,
    "start_time": "2023-06-26T16:31:14.954Z"
   },
   {
    "duration": 8,
    "start_time": "2023-06-26T16:31:14.965Z"
   },
   {
    "duration": 45,
    "start_time": "2023-06-26T16:31:14.975Z"
   },
   {
    "duration": 46,
    "start_time": "2023-06-26T16:31:15.022Z"
   },
   {
    "duration": 35,
    "start_time": "2023-06-26T16:31:15.070Z"
   },
   {
    "duration": 53,
    "start_time": "2023-06-26T16:31:15.107Z"
   },
   {
    "duration": 23,
    "start_time": "2023-06-26T16:31:15.162Z"
   },
   {
    "duration": 34,
    "start_time": "2023-06-26T16:31:15.187Z"
   },
   {
    "duration": 24,
    "start_time": "2023-06-26T16:31:15.224Z"
   },
   {
    "duration": 3860,
    "start_time": "2023-06-26T16:31:15.250Z"
   },
   {
    "duration": 24,
    "start_time": "2023-06-26T16:31:19.118Z"
   },
   {
    "duration": 1830,
    "start_time": "2023-06-26T16:38:21.834Z"
   },
   {
    "duration": 4,
    "start_time": "2023-06-26T16:38:23.667Z"
   },
   {
    "duration": 442,
    "start_time": "2023-06-26T16:38:23.673Z"
   },
   {
    "duration": 41,
    "start_time": "2023-06-26T16:38:24.117Z"
   },
   {
    "duration": 34,
    "start_time": "2023-06-26T16:38:24.161Z"
   },
   {
    "duration": 38,
    "start_time": "2023-06-26T16:38:24.209Z"
   },
   {
    "duration": 95,
    "start_time": "2023-06-26T16:38:24.249Z"
   },
   {
    "duration": 14,
    "start_time": "2023-06-26T16:38:24.346Z"
   },
   {
    "duration": 411,
    "start_time": "2023-06-26T16:38:24.362Z"
   },
   {
    "duration": 371,
    "start_time": "2023-06-26T16:38:24.775Z"
   },
   {
    "duration": 381,
    "start_time": "2023-06-26T16:38:25.148Z"
   },
   {
    "duration": 21,
    "start_time": "2023-06-26T16:38:25.531Z"
   },
   {
    "duration": 19,
    "start_time": "2023-06-26T16:38:25.554Z"
   },
   {
    "duration": 34,
    "start_time": "2023-06-26T16:38:25.608Z"
   },
   {
    "duration": 167,
    "start_time": "2023-06-26T16:38:25.643Z"
   },
   {
    "duration": 104,
    "start_time": "2023-06-26T16:38:25.813Z"
   },
   {
    "duration": 141,
    "start_time": "2023-06-26T16:38:25.920Z"
   },
   {
    "duration": 159,
    "start_time": "2023-06-26T16:38:26.063Z"
   },
   {
    "duration": 30,
    "start_time": "2023-06-26T16:38:26.224Z"
   },
   {
    "duration": 39,
    "start_time": "2023-06-26T16:38:26.257Z"
   },
   {
    "duration": 13,
    "start_time": "2023-06-26T16:38:26.299Z"
   },
   {
    "duration": 23,
    "start_time": "2023-06-26T16:38:26.315Z"
   },
   {
    "duration": 22,
    "start_time": "2023-06-26T16:38:26.340Z"
   },
   {
    "duration": 17,
    "start_time": "2023-06-26T16:38:26.364Z"
   },
   {
    "duration": 21,
    "start_time": "2023-06-26T16:38:26.383Z"
   },
   {
    "duration": 15,
    "start_time": "2023-06-26T16:38:26.407Z"
   },
   {
    "duration": 16,
    "start_time": "2023-06-26T16:38:26.424Z"
   },
   {
    "duration": 12,
    "start_time": "2023-06-26T16:38:26.443Z"
   },
   {
    "duration": 17,
    "start_time": "2023-06-26T16:38:26.457Z"
   },
   {
    "duration": 3741,
    "start_time": "2023-06-26T16:38:26.477Z"
   },
   {
    "duration": 18,
    "start_time": "2023-06-26T16:38:30.222Z"
   }
  ],
  "kernelspec": {
   "display_name": "Python 3 (ipykernel)",
   "language": "python",
   "name": "python3"
  },
  "language_info": {
   "codemirror_mode": {
    "name": "ipython",
    "version": 3
   },
   "file_extension": ".py",
   "mimetype": "text/x-python",
   "name": "python",
   "nbconvert_exporter": "python",
   "pygments_lexer": "ipython3",
   "version": "3.9.5"
  },
  "toc": {
   "base_numbering": 1,
   "nav_menu": {},
   "number_sections": true,
   "sideBar": true,
   "skip_h1_title": true,
   "title_cell": "Table of Contents",
   "title_sidebar": "Contents",
   "toc_cell": false,
   "toc_position": {},
   "toc_section_display": true,
   "toc_window_display": false
  },
  "widgets": {
   "application/vnd.jupyter.widget-state+json": {
    "state": {},
    "version_major": 2,
    "version_minor": 0
   }
  }
 },
 "nbformat": 4,
 "nbformat_minor": 4
}

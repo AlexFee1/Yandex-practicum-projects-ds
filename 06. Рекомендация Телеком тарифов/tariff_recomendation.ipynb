{
 "cells": [
  {
   "cell_type": "markdown",
   "metadata": {},
   "source": [
    "# Рекомендация тарифов"
   ]
  },
  {
   "cell_type": "markdown",
   "metadata": {},
   "source": [
    "В вашем распоряжении данные о поведении клиентов, которые уже перешли на эти тарифы (из проекта курса «Статистический анализ данных»). Нужно построить модель для задачи классификации, которая выберет подходящий тариф. Предобработка данных не понадобится — вы её уже сделали.\n",
    "\n",
    "Постройте модель с максимально большим значением *accuracy*. Чтобы сдать проект успешно, нужно довести долю правильных ответов по крайней мере до 0.75. Проверьте *accuracy* на тестовой выборке самостоятельно."
   ]
  },
  {
   "cell_type": "code",
   "execution_count": 1,
   "metadata": {},
   "outputs": [],
   "source": [
    "import pandas as pd\n",
    "import math\n",
    "import numpy as np\n",
    "import sklearn\n",
    "import matplotlib.pyplot as plt\n",
    "from sklearn.model_selection import GridSearchCV"
   ]
  },
  {
   "cell_type": "markdown",
   "metadata": {},
   "source": [
    "## Откройте и изучите файл"
   ]
  },
  {
   "cell_type": "code",
   "execution_count": 2,
   "metadata": {
    "scrolled": true
   },
   "outputs": [
    {
     "data": {
      "text/html": [
       "<div>\n",
       "<style scoped>\n",
       "    .dataframe tbody tr th:only-of-type {\n",
       "        vertical-align: middle;\n",
       "    }\n",
       "\n",
       "    .dataframe tbody tr th {\n",
       "        vertical-align: top;\n",
       "    }\n",
       "\n",
       "    .dataframe thead th {\n",
       "        text-align: right;\n",
       "    }\n",
       "</style>\n",
       "<table border=\"1\" class=\"dataframe\">\n",
       "  <thead>\n",
       "    <tr style=\"text-align: right;\">\n",
       "      <th></th>\n",
       "      <th>calls</th>\n",
       "      <th>minutes</th>\n",
       "      <th>messages</th>\n",
       "      <th>mb_used</th>\n",
       "      <th>is_ultra</th>\n",
       "    </tr>\n",
       "  </thead>\n",
       "  <tbody>\n",
       "    <tr>\n",
       "      <th>0</th>\n",
       "      <td>40.0</td>\n",
       "      <td>311.90</td>\n",
       "      <td>83.0</td>\n",
       "      <td>19915.42</td>\n",
       "      <td>0</td>\n",
       "    </tr>\n",
       "    <tr>\n",
       "      <th>1</th>\n",
       "      <td>85.0</td>\n",
       "      <td>516.75</td>\n",
       "      <td>56.0</td>\n",
       "      <td>22696.96</td>\n",
       "      <td>0</td>\n",
       "    </tr>\n",
       "    <tr>\n",
       "      <th>2</th>\n",
       "      <td>77.0</td>\n",
       "      <td>467.66</td>\n",
       "      <td>86.0</td>\n",
       "      <td>21060.45</td>\n",
       "      <td>0</td>\n",
       "    </tr>\n",
       "    <tr>\n",
       "      <th>3</th>\n",
       "      <td>106.0</td>\n",
       "      <td>745.53</td>\n",
       "      <td>81.0</td>\n",
       "      <td>8437.39</td>\n",
       "      <td>1</td>\n",
       "    </tr>\n",
       "    <tr>\n",
       "      <th>4</th>\n",
       "      <td>66.0</td>\n",
       "      <td>418.74</td>\n",
       "      <td>1.0</td>\n",
       "      <td>14502.75</td>\n",
       "      <td>0</td>\n",
       "    </tr>\n",
       "    <tr>\n",
       "      <th>5</th>\n",
       "      <td>58.0</td>\n",
       "      <td>344.56</td>\n",
       "      <td>21.0</td>\n",
       "      <td>15823.37</td>\n",
       "      <td>0</td>\n",
       "    </tr>\n",
       "    <tr>\n",
       "      <th>6</th>\n",
       "      <td>57.0</td>\n",
       "      <td>431.64</td>\n",
       "      <td>20.0</td>\n",
       "      <td>3738.90</td>\n",
       "      <td>1</td>\n",
       "    </tr>\n",
       "    <tr>\n",
       "      <th>7</th>\n",
       "      <td>15.0</td>\n",
       "      <td>132.40</td>\n",
       "      <td>6.0</td>\n",
       "      <td>21911.60</td>\n",
       "      <td>0</td>\n",
       "    </tr>\n",
       "    <tr>\n",
       "      <th>8</th>\n",
       "      <td>7.0</td>\n",
       "      <td>43.39</td>\n",
       "      <td>3.0</td>\n",
       "      <td>2538.67</td>\n",
       "      <td>1</td>\n",
       "    </tr>\n",
       "    <tr>\n",
       "      <th>9</th>\n",
       "      <td>90.0</td>\n",
       "      <td>665.41</td>\n",
       "      <td>38.0</td>\n",
       "      <td>17358.61</td>\n",
       "      <td>0</td>\n",
       "    </tr>\n",
       "    <tr>\n",
       "      <th>10</th>\n",
       "      <td>82.0</td>\n",
       "      <td>560.51</td>\n",
       "      <td>20.0</td>\n",
       "      <td>9619.53</td>\n",
       "      <td>1</td>\n",
       "    </tr>\n",
       "    <tr>\n",
       "      <th>11</th>\n",
       "      <td>45.0</td>\n",
       "      <td>344.32</td>\n",
       "      <td>13.0</td>\n",
       "      <td>19898.81</td>\n",
       "      <td>0</td>\n",
       "    </tr>\n",
       "    <tr>\n",
       "      <th>12</th>\n",
       "      <td>51.0</td>\n",
       "      <td>437.13</td>\n",
       "      <td>61.0</td>\n",
       "      <td>21523.58</td>\n",
       "      <td>0</td>\n",
       "    </tr>\n",
       "    <tr>\n",
       "      <th>13</th>\n",
       "      <td>56.0</td>\n",
       "      <td>433.07</td>\n",
       "      <td>16.0</td>\n",
       "      <td>16702.36</td>\n",
       "      <td>0</td>\n",
       "    </tr>\n",
       "    <tr>\n",
       "      <th>14</th>\n",
       "      <td>108.0</td>\n",
       "      <td>587.90</td>\n",
       "      <td>0.0</td>\n",
       "      <td>14406.50</td>\n",
       "      <td>1</td>\n",
       "    </tr>\n",
       "    <tr>\n",
       "      <th>15</th>\n",
       "      <td>6.0</td>\n",
       "      <td>22.13</td>\n",
       "      <td>0.0</td>\n",
       "      <td>2710.09</td>\n",
       "      <td>0</td>\n",
       "    </tr>\n",
       "    <tr>\n",
       "      <th>16</th>\n",
       "      <td>2.0</td>\n",
       "      <td>18.73</td>\n",
       "      <td>0.0</td>\n",
       "      <td>588.89</td>\n",
       "      <td>0</td>\n",
       "    </tr>\n",
       "    <tr>\n",
       "      <th>17</th>\n",
       "      <td>26.0</td>\n",
       "      <td>163.62</td>\n",
       "      <td>4.0</td>\n",
       "      <td>16870.34</td>\n",
       "      <td>0</td>\n",
       "    </tr>\n",
       "    <tr>\n",
       "      <th>18</th>\n",
       "      <td>79.0</td>\n",
       "      <td>532.62</td>\n",
       "      <td>90.0</td>\n",
       "      <td>19908.31</td>\n",
       "      <td>0</td>\n",
       "    </tr>\n",
       "    <tr>\n",
       "      <th>19</th>\n",
       "      <td>49.0</td>\n",
       "      <td>341.67</td>\n",
       "      <td>81.0</td>\n",
       "      <td>11770.28</td>\n",
       "      <td>1</td>\n",
       "    </tr>\n",
       "  </tbody>\n",
       "</table>\n",
       "</div>"
      ],
      "text/plain": [
       "    calls  minutes  messages   mb_used  is_ultra\n",
       "0    40.0   311.90      83.0  19915.42         0\n",
       "1    85.0   516.75      56.0  22696.96         0\n",
       "2    77.0   467.66      86.0  21060.45         0\n",
       "3   106.0   745.53      81.0   8437.39         1\n",
       "4    66.0   418.74       1.0  14502.75         0\n",
       "5    58.0   344.56      21.0  15823.37         0\n",
       "6    57.0   431.64      20.0   3738.90         1\n",
       "7    15.0   132.40       6.0  21911.60         0\n",
       "8     7.0    43.39       3.0   2538.67         1\n",
       "9    90.0   665.41      38.0  17358.61         0\n",
       "10   82.0   560.51      20.0   9619.53         1\n",
       "11   45.0   344.32      13.0  19898.81         0\n",
       "12   51.0   437.13      61.0  21523.58         0\n",
       "13   56.0   433.07      16.0  16702.36         0\n",
       "14  108.0   587.90       0.0  14406.50         1\n",
       "15    6.0    22.13       0.0   2710.09         0\n",
       "16    2.0    18.73       0.0    588.89         0\n",
       "17   26.0   163.62       4.0  16870.34         0\n",
       "18   79.0   532.62      90.0  19908.31         0\n",
       "19   49.0   341.67      81.0  11770.28         1"
      ]
     },
     "execution_count": 2,
     "metadata": {},
     "output_type": "execute_result"
    }
   ],
   "source": [
    "df = pd.read_csv('/datasets/users_behavior.csv')\n",
    "df.head(20)"
   ]
  },
  {
   "cell_type": "code",
   "execution_count": 3,
   "metadata": {
    "scrolled": true
   },
   "outputs": [
    {
     "name": "stdout",
     "output_type": "stream",
     "text": [
      "<class 'pandas.core.frame.DataFrame'>\n",
      "RangeIndex: 3214 entries, 0 to 3213\n",
      "Data columns (total 5 columns):\n",
      " #   Column    Non-Null Count  Dtype  \n",
      "---  ------    --------------  -----  \n",
      " 0   calls     3214 non-null   float64\n",
      " 1   minutes   3214 non-null   float64\n",
      " 2   messages  3214 non-null   float64\n",
      " 3   mb_used   3214 non-null   float64\n",
      " 4   is_ultra  3214 non-null   int64  \n",
      "dtypes: float64(4), int64(1)\n",
      "memory usage: 125.7 KB\n"
     ]
    }
   ],
   "source": [
    "df.info()"
   ]
  },
  {
   "cell_type": "code",
   "execution_count": 4,
   "metadata": {
    "scrolled": true
   },
   "outputs": [
    {
     "name": "stdout",
     "output_type": "stream",
     "text": [
      "      calls  minutes  messages   mb_used  is_ultra\n",
      "0      40.0   311.90      83.0  19915.42         0\n",
      "1      85.0   516.75      56.0  22696.96         0\n",
      "2      77.0   467.66      86.0  21060.45         0\n",
      "4      66.0   418.74       1.0  14502.75         0\n",
      "5      58.0   344.56      21.0  15823.37         0\n",
      "...     ...      ...       ...       ...       ...\n",
      "3206   76.0   586.51      54.0  14345.74         0\n",
      "3207   17.0    92.39       2.0   4299.25         0\n",
      "3210   25.0   190.36       0.0   3275.61         0\n",
      "3211   97.0   634.44      70.0  13974.06         0\n",
      "3212   64.0   462.32      90.0  31239.78         0\n",
      "\n",
      "[2229 rows x 5 columns]\n"
     ]
    },
    {
     "data": {
      "text/html": [
       "<div>\n",
       "<style scoped>\n",
       "    .dataframe tbody tr th:only-of-type {\n",
       "        vertical-align: middle;\n",
       "    }\n",
       "\n",
       "    .dataframe tbody tr th {\n",
       "        vertical-align: top;\n",
       "    }\n",
       "\n",
       "    .dataframe thead th {\n",
       "        text-align: right;\n",
       "    }\n",
       "</style>\n",
       "<table border=\"1\" class=\"dataframe\">\n",
       "  <thead>\n",
       "    <tr style=\"text-align: right;\">\n",
       "      <th></th>\n",
       "      <th>calls</th>\n",
       "      <th>minutes</th>\n",
       "      <th>messages</th>\n",
       "      <th>mb_used</th>\n",
       "      <th>is_ultra</th>\n",
       "    </tr>\n",
       "  </thead>\n",
       "  <tbody>\n",
       "    <tr>\n",
       "      <th>3</th>\n",
       "      <td>106.0</td>\n",
       "      <td>745.53</td>\n",
       "      <td>81.0</td>\n",
       "      <td>8437.39</td>\n",
       "      <td>1</td>\n",
       "    </tr>\n",
       "    <tr>\n",
       "      <th>6</th>\n",
       "      <td>57.0</td>\n",
       "      <td>431.64</td>\n",
       "      <td>20.0</td>\n",
       "      <td>3738.90</td>\n",
       "      <td>1</td>\n",
       "    </tr>\n",
       "    <tr>\n",
       "      <th>8</th>\n",
       "      <td>7.0</td>\n",
       "      <td>43.39</td>\n",
       "      <td>3.0</td>\n",
       "      <td>2538.67</td>\n",
       "      <td>1</td>\n",
       "    </tr>\n",
       "    <tr>\n",
       "      <th>10</th>\n",
       "      <td>82.0</td>\n",
       "      <td>560.51</td>\n",
       "      <td>20.0</td>\n",
       "      <td>9619.53</td>\n",
       "      <td>1</td>\n",
       "    </tr>\n",
       "    <tr>\n",
       "      <th>14</th>\n",
       "      <td>108.0</td>\n",
       "      <td>587.90</td>\n",
       "      <td>0.0</td>\n",
       "      <td>14406.50</td>\n",
       "      <td>1</td>\n",
       "    </tr>\n",
       "    <tr>\n",
       "      <th>...</th>\n",
       "      <td>...</td>\n",
       "      <td>...</td>\n",
       "      <td>...</td>\n",
       "      <td>...</td>\n",
       "      <td>...</td>\n",
       "    </tr>\n",
       "    <tr>\n",
       "      <th>3201</th>\n",
       "      <td>56.0</td>\n",
       "      <td>419.42</td>\n",
       "      <td>59.0</td>\n",
       "      <td>5177.62</td>\n",
       "      <td>1</td>\n",
       "    </tr>\n",
       "    <tr>\n",
       "      <th>3203</th>\n",
       "      <td>53.0</td>\n",
       "      <td>390.39</td>\n",
       "      <td>85.0</td>\n",
       "      <td>30550.30</td>\n",
       "      <td>1</td>\n",
       "    </tr>\n",
       "    <tr>\n",
       "      <th>3208</th>\n",
       "      <td>164.0</td>\n",
       "      <td>1016.98</td>\n",
       "      <td>71.0</td>\n",
       "      <td>17787.52</td>\n",
       "      <td>1</td>\n",
       "    </tr>\n",
       "    <tr>\n",
       "      <th>3209</th>\n",
       "      <td>122.0</td>\n",
       "      <td>910.98</td>\n",
       "      <td>20.0</td>\n",
       "      <td>35124.90</td>\n",
       "      <td>1</td>\n",
       "    </tr>\n",
       "    <tr>\n",
       "      <th>3213</th>\n",
       "      <td>80.0</td>\n",
       "      <td>566.09</td>\n",
       "      <td>6.0</td>\n",
       "      <td>29480.52</td>\n",
       "      <td>1</td>\n",
       "    </tr>\n",
       "  </tbody>\n",
       "</table>\n",
       "<p>985 rows × 5 columns</p>\n",
       "</div>"
      ],
      "text/plain": [
       "      calls  minutes  messages   mb_used  is_ultra\n",
       "3     106.0   745.53      81.0   8437.39         1\n",
       "6      57.0   431.64      20.0   3738.90         1\n",
       "8       7.0    43.39       3.0   2538.67         1\n",
       "10     82.0   560.51      20.0   9619.53         1\n",
       "14    108.0   587.90       0.0  14406.50         1\n",
       "...     ...      ...       ...       ...       ...\n",
       "3201   56.0   419.42      59.0   5177.62         1\n",
       "3203   53.0   390.39      85.0  30550.30         1\n",
       "3208  164.0  1016.98      71.0  17787.52         1\n",
       "3209  122.0   910.98      20.0  35124.90         1\n",
       "3213   80.0   566.09       6.0  29480.52         1\n",
       "\n",
       "[985 rows x 5 columns]"
      ]
     },
     "execution_count": 4,
     "metadata": {},
     "output_type": "execute_result"
    }
   ],
   "source": [
    "print(df[df['is_ultra'] == 0])\n",
    "df[df['is_ultra'] == 1]"
   ]
  },
  {
   "cell_type": "code",
   "execution_count": 5,
   "metadata": {},
   "outputs": [
    {
     "data": {
      "text/plain": [
       "0    2229\n",
       "1     985\n",
       "Name: is_ultra, dtype: int64"
      ]
     },
     "execution_count": 5,
     "metadata": {},
     "output_type": "execute_result"
    }
   ],
   "source": [
    "df['is_ultra'].value_counts()"
   ]
  },
  {
   "cell_type": "markdown",
   "metadata": {},
   "source": [
    "Приведем тип данных messages и calls к целочисленным"
   ]
  },
  {
   "cell_type": "code",
   "execution_count": 6,
   "metadata": {},
   "outputs": [],
   "source": [
    "df['messages'] = df['messages'].astype(int)\n",
    "df['calls'] = df['calls'].astype(int)"
   ]
  },
  {
   "cell_type": "markdown",
   "metadata": {},
   "source": [
    "### Вывод\n",
    "- Данные в предобработке не нуждаются\n",
    "- Пропуски в данных отсутствуют\n",
    "- Изменен тип данных в тех столбцах, где это имеет место быть\n",
    "- Большинство пользователей предпочитают тариф \"Смарт\""
   ]
  },
  {
   "cell_type": "markdown",
   "metadata": {},
   "source": [
    "## Разбейте данные на выборки"
   ]
  },
  {
   "cell_type": "markdown",
   "metadata": {},
   "source": [
    "Разобьем данные на три выборки для обучения и проверки модели:\n",
    "- Обучающая (df_train)\n",
    "- Валидационная (df_valid)\n",
    "- Тестовая (df_test)\n",
    "\n",
    "Соотношение выборок будет 3:1:1\n"
   ]
  },
  {
   "cell_type": "code",
   "execution_count": 7,
   "metadata": {},
   "outputs": [
    {
     "name": "stdout",
     "output_type": "stream",
     "text": [
      "(1928, 5)\n",
      "(643, 5)\n"
     ]
    },
    {
     "data": {
      "text/plain": [
       "(643, 5)"
      ]
     },
     "execution_count": 7,
     "metadata": {},
     "output_type": "execute_result"
    }
   ],
   "source": [
    "from sklearn.model_selection import train_test_split\n",
    "\n",
    "df_train, df_test_valid = train_test_split(df, test_size = 0.40, random_state = 12345)\n",
    "df_valid, df_test = train_test_split(df_test_valid, test_size = 0.50, random_state = 12345)\n",
    "\n",
    "print(df_train.shape)\n",
    "print(df_valid.shape)\n",
    "df_test.shape"
   ]
  },
  {
   "cell_type": "markdown",
   "metadata": {},
   "source": [
    "### Вывод\n",
    "Созданы три выборки для дальнейшей работы"
   ]
  },
  {
   "cell_type": "markdown",
   "metadata": {},
   "source": [
    "## Исследуйте модели"
   ]
  },
  {
   "cell_type": "markdown",
   "metadata": {},
   "source": [
    "В данной части выполним следующие пункты:\n",
    "- Подготовим данные для модели\n",
    "- Рассмотрим различные модели\n",
    "- Подберем оптимальные гиперпараметры модели, чтобы увеличить accuracy (не менее 0.75)"
   ]
  },
  {
   "cell_type": "code",
   "execution_count": 8,
   "metadata": {},
   "outputs": [],
   "source": [
    "# Подготовка датафрейма\n",
    "\n",
    "features_train = df_train.drop(['is_ultra'], axis=1)\n",
    "target_train = df_train['is_ultra']\n",
    "\n",
    "features_valid = df_valid.drop(['is_ultra'], axis=1)\n",
    "target_valid = df_valid['is_ultra']"
   ]
  },
  {
   "cell_type": "code",
   "execution_count": 9,
   "metadata": {
    "scrolled": true
   },
   "outputs": [
    {
     "data": {
      "image/png": "[encoded data removed]",
      "text/plain": [
       "<Figure size 432x288 with 1 Axes>"
      ]
     },
     "metadata": {
      "needs_background": "light"
     },
     "output_type": "display_data"
    }
   ],
   "source": [
    "# Дерево принятия решений\n",
    "from sklearn.tree import DecisionTreeClassifier\n",
    "from sklearn.metrics import accuracy_score\n",
    "\n",
    "for depth in range(1,20):\n",
    "    model = DecisionTreeClassifier(random_state = 12345,\n",
    "                                   max_depth = depth,\n",
    "                                   )\n",
    "    model.fit(features_train, target_train)\n",
    "    predictions = model.predict(features_valid)\n",
    "    accuracy = accuracy_score(target_valid, predictions)\n",
    "    plt.bar(depth,accuracy)\n",
    "    plt.ylim(0.72,0.79)\n",
    "    plt.text(depth, accuracy, depth)\n",
    "    plt.xlabel('max_depth')\n",
    "    plt.ylabel('accuracy')\n",
    "plt.show()"
   ]
  },
  {
   "cell_type": "code",
   "execution_count": 29,
   "metadata": {},
   "outputs": [
    {
     "data": {
      "image/png": "[encoded data removed]",
      "text/plain": [
       "<Figure size 432x288 with 1 Axes>"
      ]
     },
     "metadata": {
      "needs_background": "light"
     },
     "output_type": "display_data"
    }
   ],
   "source": [
    "#Переберем также значения min_samples_leaf с шагом 5, чтобы выбрать лучший. \n",
    "#Выберем 3 варианта max_depth показавшие максимальное значение accuracy (3,6,9)\n",
    "\n",
    "for leaf in range(1, 100, 5):\n",
    "    model = DecisionTreeClassifier(random_state = 12345,\n",
    "                                   max_depth = 3,\n",
    "                                   min_samples_leaf = leaf\n",
    "                                   )\n",
    "    model.fit(features_train, target_train)\n",
    "    predictions = model.predict(features_valid)\n",
    "    accuracy = accuracy_score(target_valid, predictions)\n",
    "    plt.bar(leaf,accuracy,width=4)\n",
    "    plt.ylim(0.765,0.788)\n",
    "    plt.text(leaf, accuracy, leaf)\n",
    "    plt.xlabel('leaf')\n",
    "    plt.ylabel('accuracy')\n",
    "\n",
    "plt.show()"
   ]
  },
  {
   "cell_type": "code",
   "execution_count": 59,
   "metadata": {},
   "outputs": [
    {
     "data": {
      "image/png": "[encoded data removed]",
      "text/plain": [
       "<Figure size 432x288 with 1 Axes>"
      ]
     },
     "metadata": {
      "needs_background": "light"
     },
     "output_type": "display_data"
    }
   ],
   "source": [
    "for leaf in range(1, 110, 5):\n",
    "    model = DecisionTreeClassifier(random_state = 12345,\n",
    "                                   max_depth = 6,\n",
    "                                   min_samples_leaf = leaf\n",
    "                                   )\n",
    "    model.fit(features_train, target_train)\n",
    "    predictions = model.predict(features_valid)\n",
    "    accuracy = accuracy_score(target_valid, predictions)\n",
    "    plt.bar(leaf,accuracy, width=4)\n",
    "    plt.ylim(0.765,0.79)\n",
    "    plt.text(leaf, accuracy, leaf)\n",
    "    plt.xlabel('leaf')\n",
    "    plt.ylabel('accuracy')\n",
    "\n",
    "plt.show()"
   ]
  },
  {
   "cell_type": "code",
   "execution_count": 40,
   "metadata": {},
   "outputs": [
    {
     "data": {
      "image/png": "[encoded data removed]",
      "text/plain": [
       "<Figure size 432x288 with 1 Axes>"
      ]
     },
     "metadata": {
      "needs_background": "light"
     },
     "output_type": "display_data"
    }
   ],
   "source": [
    "for leaf in range(1, 100, 5):\n",
    "    model = DecisionTreeClassifier(random_state = 12345,\n",
    "                                   max_depth = 9,\n",
    "                                   min_samples_leaf = leaf\n",
    "                                   )\n",
    "    model.fit(features_train, target_train)\n",
    "    predictions = model.predict(features_valid)\n",
    "    accuracy = accuracy_score(target_valid, predictions)\n",
    "    plt.bar(leaf,accuracy,width=4)\n",
    "    plt.ylim(0.765,0.79)\n",
    "    plt.text(leaf, accuracy, leaf)\n",
    "    plt.xlabel('leaf')\n",
    "    plt.ylabel('accuracy')\n",
    "\n",
    "plt.show()"
   ]
  },
  {
   "cell_type": "code",
   "execution_count": 52,
   "metadata": {},
   "outputs": [
    {
     "data": {
      "image/png": "[encoded data removed]",
      "text/plain": [
       "<Figure size 432x288 with 1 Axes>"
      ]
     },
     "metadata": {
      "needs_background": "light"
     },
     "output_type": "display_data"
    }
   ],
   "source": [
    "#Аналогично поступим с min_samples_split при max_depth=6 и min_samples_leaf=50 как самое высокое значение \n",
    "\n",
    "for split in range(2, 100, 5):\n",
    "    model = DecisionTreeClassifier(random_state = 12345,\n",
    "                                   max_depth = 6,\n",
    "                                   min_samples_leaf = 50,\n",
    "                                   min_samples_split = split\n",
    "                                   )\n",
    "    model.fit(features_train, target_train)\n",
    "    predictions = model.predict(features_valid)\n",
    "    accuracy = accuracy_score(target_valid, predictions)\n",
    "    plt.bar(split,accuracy,width=4)\n",
    "    plt.ylim(0.785,0.79)\n",
    "    plt.text(split, accuracy, split)\n",
    "    plt.xlabel('leaf')\n",
    "    plt.ylabel('accuracy')\n",
    "\n",
    "plt.show()"
   ]
  },
  {
   "cell_type": "code",
   "execution_count": 68,
   "metadata": {},
   "outputs": [
    {
     "name": "stdout",
     "output_type": "stream",
     "text": [
      "0.7869362363919129\n"
     ]
    }
   ],
   "source": [
    "model = DecisionTreeClassifier(random_state = 12345,\n",
    "                               max_depth = 6,\n",
    "                               min_samples_leaf = 50\n",
    "                               )\n",
    "model.fit(features_train, target_train)\n",
    "predictions = model.predict(features_valid)\n",
    "accuracy = accuracy_score(target_valid, predictions)\n",
    "print(accuracy)"
   ]
  },
  {
   "cell_type": "markdown",
   "metadata": {},
   "source": [
    "Наибольшее значение accuracy (0.7869) показывает модель с max_depth = 6 , min_samples_split = 50,  \n",
    "\n",
    "Будем использовать данные значения гиперпараметров для случайного леса"
   ]
  },
  {
   "cell_type": "code",
   "execution_count": 69,
   "metadata": {
    "scrolled": true
   },
   "outputs": [
    {
     "data": {
      "image/png": "[encoded data removed]",
      "text/plain": [
       "<Figure size 432x288 with 1 Axes>"
      ]
     },
     "metadata": {
      "needs_background": "light"
     },
     "output_type": "display_data"
    }
   ],
   "source": [
    "# Случайный лес\n",
    "from sklearn.ensemble import RandomForestClassifier\n",
    "\n",
    "for est in range(1,20):\n",
    "    model = RandomForestClassifier(random_state = 12345, \n",
    "                                   max_depth = 6, \n",
    "                                   n_estimators = est\n",
    "                                  )\n",
    "    model.fit(features_train, target_train)\n",
    "    predictions = model.predict(features_valid)\n",
    "    accuracy = accuracy_score(target_valid, predictions)\n",
    "    plt.bar(est,accuracy)\n",
    "    plt.ylim(0.78,0.805)\n",
    "    plt.text(est, accuracy, est)\n",
    "    plt.xlabel('n_estimators')\n",
    "    plt.ylabel('accuracy')\n",
    "plt.show()\n",
    "    "
   ]
  },
  {
   "cell_type": "code",
   "execution_count": 73,
   "metadata": {},
   "outputs": [
    {
     "name": "stdout",
     "output_type": "stream",
     "text": [
      "0.8009331259720062\n"
     ]
    }
   ],
   "source": [
    "#Проверим гиперпараметр criterion='entropy' с значением n_estimators=12\n",
    "\n",
    "model = RandomForestClassifier(random_state = 12345, \n",
    "                                   max_depth = 6, \n",
    "                                   n_estimators = est,\n",
    "                                   criterion='entropy'\n",
    "                                  )\n",
    "model.fit(features_train, target_train)\n",
    "predictions = model.predict(features_valid)\n",
    "accuracy = accuracy_score(target_valid, predictions)\n",
    "print(accuracy)"
   ]
  },
  {
   "cell_type": "markdown",
   "metadata": {},
   "source": [
    "Наибольшее значение accuracy (0.8040) показывает модель с n_estimators = 12 и max_depth = 6\n",
    "\n",
    "Интересно, что параметры min_samples_leaf и min_samples_split только снижали значение accuracy, поэтому было принято решение их не изменять"
   ]
  },
  {
   "cell_type": "code",
   "execution_count": 86,
   "metadata": {},
   "outputs": [
    {
     "data": {
      "image/png": "[encoded data removed]",
      "text/plain": [
       "<Figure size 432x288 with 1 Axes>"
      ]
     },
     "metadata": {
      "needs_background": "light"
     },
     "output_type": "display_data"
    }
   ],
   "source": [
    "# Логистическая регрессия\n",
    "from sklearn.linear_model import LogisticRegression\n",
    "\n",
    "for strength in np.arange(0.1,1,0.1):\n",
    "    model = LogisticRegression(random_state=12345, C=strength)\n",
    "    model.fit(features_train, target_train)\n",
    "    predictions = model.predict(features_valid)\n",
    "    accuracy = accuracy_score(target_valid, predictions)\n",
    "\n",
    "    plt.bar(strength,accuracy,width=0.1)\n",
    "    plt.ylim(0.7,0.76)\n",
    "    plt.xlabel('C')\n",
    "    plt.ylabel('accuracy')\n",
    "plt.show()\n",
    "\n",
    "\n",
    "model = LogisticRegression(random_state=12345)\n",
    "model.fit(features_train, target_train)\n",
    "predictions = model.predict(features_valid)\n",
    "accuracy = accuracy_score(target_valid, predictions)\n"
   ]
  },
  {
   "cell_type": "code",
   "execution_count": 87,
   "metadata": {},
   "outputs": [
    {
     "name": "stdout",
     "output_type": "stream",
     "text": [
      "0.7558320373250389\n"
     ]
    }
   ],
   "source": [
    "model = LogisticRegression(random_state=12345, C=0.5)\n",
    "model.fit(features_train, target_train)\n",
    "predictions = model.predict(features_valid)\n",
    "accuracy = accuracy_score(target_valid, predictions)\n",
    "print(accuracy)"
   ]
  },
  {
   "cell_type": "markdown",
   "metadata": {},
   "source": [
    "Результаты оказались ниже, чем у других моделей (0.7558)"
   ]
  },
  {
   "cell_type": "markdown",
   "metadata": {},
   "source": [
    "### Вывод\n",
    "- Были подготовлены данный для обучения\n",
    "- Обучили модель тремя разными способами и получили соответствующие максимальные значения:\n",
    "    - Дерево принятия решения 79% Accuracy с гиперпараметрами max_depth = 6 , min_samples_split = 100 , min_samples_leaf = 5\n",
    "    - Случайный лес 80% Accuracy с гиперпараметром max_depth = 6, n_estimators = 12 остальные остались неизменны, так как при подборе других значений уменьшалась accuracy\n",
    "    - Линейная регрессия 71% Accuracy\n",
    "    \n",
    "Для следующей главы будем использовать случайный лес"
   ]
  },
  {
   "cell_type": "markdown",
   "metadata": {},
   "source": [
    "## Проверьте модель на тестовой выборке"
   ]
  },
  {
   "cell_type": "code",
   "execution_count": 88,
   "metadata": {},
   "outputs": [
    {
     "name": "stdout",
     "output_type": "stream",
     "text": [
      "0.7947\n"
     ]
    }
   ],
   "source": [
    "# Подготовим данные для теста и построим модель случайного леса\n",
    "\n",
    "features_test = df_test.drop(['is_ultra'], axis = 1)\n",
    "target_test = df_test['is_ultra']\n",
    "\n",
    "model = RandomForestClassifier(random_state = 12345,\n",
    "                               n_estimators = 12,\n",
    "                               max_depth = 6\n",
    "                              )\n",
    "model.fit(features_train, target_train)\n",
    "predictions = model.predict(features_test)\n",
    "accuracy = accuracy_score(target_test, predictions)\n",
    "\n",
    "print('{:.4f}'.format(accuracy))"
   ]
  },
  {
   "cell_type": "markdown",
   "metadata": {},
   "source": [
    "### Вывод\n",
    "\n",
    "Мы проверили модель на тестовой выборке и получили результат устраивающий нас по требованиям (Accuracy не меньше 0.75)\n",
    "\n",
    "Следовательно для компании Мегалайн предлагаем использовать модель случайного леса с параметрами n_estimators = 12, max_depth = 6, для того, чтобы предсказывать какой тариф предлагать клиентам со старыми тарифами"
   ]
  },
  {
   "cell_type": "markdown",
   "metadata": {},
   "source": [
    "## (бонус) Проверьте модели на адекватность"
   ]
  },
  {
   "cell_type": "markdown",
   "metadata": {},
   "source": [
    "Для этого проведем 2 теста:\n",
    "- Подбрасывание монетки\n",
    "- Значения являются одинаковыми(просто предлагать всем тариф Ultra или Smart)"
   ]
  },
  {
   "cell_type": "code",
   "execution_count": 18,
   "metadata": {},
   "outputs": [
    {
     "name": "stdout",
     "output_type": "stream",
     "text": [
      "Правильные ответы (рандом): 0.4961\n",
      "Правильные ответы (только ультра): 0.3157\n",
      "Правильные ответы (только смарт): 0.6842923794712286\n"
     ]
    }
   ],
   "source": [
    "import random\n",
    "\n",
    "random_predictions = np.random.randint(low = 0, high = 2, size = 643) \n",
    "\n",
    "ultra_only = np.random.randint(low = 1, high = 2, size = 643)\n",
    "\n",
    "accuracy_rand = accuracy_score(target_test, random_predictions)\n",
    "accuracy_ultra = accuracy_score(target_test, ultra_only)\n",
    "\n",
    "print('Правильные ответы (рандом):','{:.4f}'.format(accuracy_rand))\n",
    "print('Правильные ответы (только ультра):','{:.4f}'.format(accuracy_ultra))\n",
    "print('Правильные ответы (только смарт):', 1 - accuracy_ultra)"
   ]
  },
  {
   "cell_type": "markdown",
   "metadata": {},
   "source": [
    "Как видно, accuracy намного ниже чем у нашей модели, значит наша модель является адекватной. Так же стоит отметить, что значения 2 и 3 варианта напрямую зависят от соотношения тарифов(см. п. 1)"
   ]
  }
 ],
 "metadata": {
  "ExecuteTimeLog": [
   {
    "duration": 1070,
    "start_time": "2023-06-07T22:04:47.766Z"
   },
   {
    "duration": 129,
    "start_time": "2023-06-07T22:05:19.781Z"
   },
   {
    "duration": 124,
    "start_time": "2023-06-07T22:06:58.043Z"
   },
   {
    "duration": 40,
    "start_time": "2023-06-07T22:07:02.776Z"
   },
   {
    "duration": 39,
    "start_time": "2023-06-07T22:07:24.950Z"
   },
   {
    "duration": 12,
    "start_time": "2023-06-07T22:08:00.159Z"
   },
   {
    "duration": 15,
    "start_time": "2023-06-07T22:12:14.493Z"
   },
   {
    "duration": 21,
    "start_time": "2023-06-07T22:12:38.121Z"
   },
   {
    "duration": 1155,
    "start_time": "2023-06-08T11:13:17.609Z"
   },
   {
    "duration": 140,
    "start_time": "2023-06-08T11:13:24.411Z"
   },
   {
    "duration": 12,
    "start_time": "2023-06-08T11:13:26.778Z"
   },
   {
    "duration": 20,
    "start_time": "2023-06-08T11:13:28.552Z"
   },
   {
    "duration": 5,
    "start_time": "2023-06-08T11:14:14.601Z"
   },
   {
    "duration": 101,
    "start_time": "2023-06-08T11:20:11.637Z"
   },
   {
    "duration": 5,
    "start_time": "2023-06-08T11:20:46.937Z"
   },
   {
    "duration": 10,
    "start_time": "2023-06-08T11:20:55.517Z"
   },
   {
    "duration": 44,
    "start_time": "2023-06-08T16:30:14.492Z"
   },
   {
    "duration": 10,
    "start_time": "2023-06-08T16:30:55.130Z"
   },
   {
    "duration": 10,
    "start_time": "2023-06-08T16:31:09.196Z"
   },
   {
    "duration": 6,
    "start_time": "2023-06-08T17:58:47.175Z"
   },
   {
    "duration": 5,
    "start_time": "2023-06-08T17:59:32.462Z"
   },
   {
    "duration": 77,
    "start_time": "2023-06-08T18:06:33.298Z"
   },
   {
    "duration": 14,
    "start_time": "2023-06-08T18:06:51.366Z"
   },
   {
    "duration": 232,
    "start_time": "2023-06-08T18:07:13.581Z"
   },
   {
    "duration": 87,
    "start_time": "2023-06-08T18:07:44.651Z"
   },
   {
    "duration": 99,
    "start_time": "2023-06-08T18:07:54.360Z"
   },
   {
    "duration": 233,
    "start_time": "2023-06-08T18:07:57.739Z"
   },
   {
    "duration": 209,
    "start_time": "2023-06-08T18:08:03.271Z"
   },
   {
    "duration": 234,
    "start_time": "2023-06-08T18:08:18.056Z"
   },
   {
    "duration": 229,
    "start_time": "2023-06-08T18:08:21.309Z"
   },
   {
    "duration": 226,
    "start_time": "2023-06-08T18:09:12.131Z"
   },
   {
    "duration": 216,
    "start_time": "2023-06-08T18:09:17.821Z"
   },
   {
    "duration": 224,
    "start_time": "2023-06-08T18:09:26.706Z"
   },
   {
    "duration": 228,
    "start_time": "2023-06-08T18:09:36.154Z"
   },
   {
    "duration": 246,
    "start_time": "2023-06-08T18:10:36.343Z"
   },
   {
    "duration": 231,
    "start_time": "2023-06-08T18:10:42.730Z"
   },
   {
    "duration": 192,
    "start_time": "2023-06-08T18:10:51.233Z"
   },
   {
    "duration": 171,
    "start_time": "2023-06-08T18:10:55.556Z"
   },
   {
    "duration": 121,
    "start_time": "2023-06-08T18:11:02.513Z"
   },
   {
    "duration": 205,
    "start_time": "2023-06-08T18:11:06.229Z"
   },
   {
    "duration": 207,
    "start_time": "2023-06-08T18:11:19.333Z"
   },
   {
    "duration": 175,
    "start_time": "2023-06-08T18:11:20.749Z"
   },
   {
    "duration": 193,
    "start_time": "2023-06-08T18:11:27.109Z"
   },
   {
    "duration": 106,
    "start_time": "2023-06-08T18:12:57.390Z"
   },
   {
    "duration": 223,
    "start_time": "2023-06-08T18:13:01.142Z"
   },
   {
    "duration": 202,
    "start_time": "2023-06-08T18:13:07.218Z"
   },
   {
    "duration": 228,
    "start_time": "2023-06-08T18:13:13.781Z"
   },
   {
    "duration": 236,
    "start_time": "2023-06-08T18:13:20.476Z"
   },
   {
    "duration": 256,
    "start_time": "2023-06-08T18:13:23.917Z"
   },
   {
    "duration": 223,
    "start_time": "2023-06-08T18:13:36.358Z"
   },
   {
    "duration": 230,
    "start_time": "2023-06-08T18:13:43.607Z"
   },
   {
    "duration": 234,
    "start_time": "2023-06-08T18:13:55.157Z"
   },
   {
    "duration": 238,
    "start_time": "2023-06-08T18:14:07.591Z"
   },
   {
    "duration": 213,
    "start_time": "2023-06-08T18:14:16.155Z"
   },
   {
    "duration": 223,
    "start_time": "2023-06-08T18:14:25.606Z"
   },
   {
    "duration": 184,
    "start_time": "2023-06-08T18:14:30.251Z"
   },
   {
    "duration": 239,
    "start_time": "2023-06-08T18:14:34.801Z"
   },
   {
    "duration": 219,
    "start_time": "2023-06-08T18:15:15.757Z"
   },
   {
    "duration": 203,
    "start_time": "2023-06-08T18:15:19.791Z"
   },
   {
    "duration": 226,
    "start_time": "2023-06-08T18:15:27.144Z"
   },
   {
    "duration": 12,
    "start_time": "2023-06-08T20:35:59.769Z"
   },
   {
    "duration": 695,
    "start_time": "2023-06-08T20:36:19.296Z"
   },
   {
    "duration": 701,
    "start_time": "2023-06-08T20:37:54.565Z"
   },
   {
    "duration": 616,
    "start_time": "2023-06-08T20:38:07.269Z"
   },
   {
    "duration": 536,
    "start_time": "2023-06-08T20:38:13.168Z"
   },
   {
    "duration": 789,
    "start_time": "2023-06-08T20:38:20.612Z"
   },
   {
    "duration": 684,
    "start_time": "2023-06-08T20:40:05.022Z"
   },
   {
    "duration": 874,
    "start_time": "2023-06-08T20:40:09.788Z"
   },
   {
    "duration": 756,
    "start_time": "2023-06-08T20:40:14.266Z"
   },
   {
    "duration": 46,
    "start_time": "2023-06-08T20:46:13.744Z"
   },
   {
    "duration": 30,
    "start_time": "2023-06-08T20:47:36.864Z"
   },
   {
    "duration": 40,
    "start_time": "2023-06-08T21:02:23.865Z"
   },
   {
    "duration": 7,
    "start_time": "2023-06-08T21:33:38.429Z"
   },
   {
    "duration": 7,
    "start_time": "2023-06-08T21:33:47.660Z"
   },
   {
    "duration": 7,
    "start_time": "2023-06-08T21:34:00.519Z"
   },
   {
    "duration": 5,
    "start_time": "2023-06-08T21:34:03.910Z"
   },
   {
    "duration": 15,
    "start_time": "2023-06-08T21:39:41.861Z"
   },
   {
    "duration": 14,
    "start_time": "2023-06-08T21:39:50.416Z"
   },
   {
    "duration": 12,
    "start_time": "2023-06-08T21:39:59.363Z"
   },
   {
    "duration": 7,
    "start_time": "2023-06-08T21:40:15.771Z"
   },
   {
    "duration": 9,
    "start_time": "2023-06-08T21:40:20.653Z"
   },
   {
    "duration": 8,
    "start_time": "2023-06-08T21:40:21.161Z"
   },
   {
    "duration": 6,
    "start_time": "2023-06-08T21:40:21.591Z"
   },
   {
    "duration": 7,
    "start_time": "2023-06-08T21:40:22.001Z"
   },
   {
    "duration": 8,
    "start_time": "2023-06-08T21:40:22.470Z"
   },
   {
    "duration": 7,
    "start_time": "2023-06-08T21:40:22.863Z"
   },
   {
    "duration": 7,
    "start_time": "2023-06-08T21:40:23.272Z"
   },
   {
    "duration": 7,
    "start_time": "2023-06-08T21:40:23.706Z"
   },
   {
    "duration": 6,
    "start_time": "2023-06-08T21:40:23.979Z"
   },
   {
    "duration": 1042,
    "start_time": "2023-06-09T21:51:06.902Z"
   },
   {
    "duration": 1108,
    "start_time": "2023-06-09T21:51:19.141Z"
   },
   {
    "duration": 86,
    "start_time": "2023-06-09T21:51:20.255Z"
   },
   {
    "duration": 16,
    "start_time": "2023-06-09T21:51:20.342Z"
   },
   {
    "duration": 33,
    "start_time": "2023-06-09T21:51:20.361Z"
   },
   {
    "duration": 6,
    "start_time": "2023-06-09T21:51:20.396Z"
   },
   {
    "duration": 16,
    "start_time": "2023-06-09T21:51:20.404Z"
   },
   {
    "duration": 43,
    "start_time": "2023-06-09T21:51:20.423Z"
   },
   {
    "duration": 7,
    "start_time": "2023-06-09T21:51:20.468Z"
   },
   {
    "duration": 233,
    "start_time": "2023-06-09T21:51:20.477Z"
   },
   {
    "duration": 134,
    "start_time": "2023-06-09T21:51:20.713Z"
   },
   {
    "duration": 0,
    "start_time": "2023-06-09T21:51:20.850Z"
   },
   {
    "duration": 0,
    "start_time": "2023-06-09T21:51:20.854Z"
   },
   {
    "duration": 0,
    "start_time": "2023-06-09T21:51:20.858Z"
   },
   {
    "duration": 58,
    "start_time": "2023-06-09T21:51:36.358Z"
   },
   {
    "duration": 3,
    "start_time": "2023-06-09T21:51:44.878Z"
   },
   {
    "duration": 23,
    "start_time": "2023-06-09T21:51:50.423Z"
   },
   {
    "duration": 20,
    "start_time": "2023-06-09T21:52:20.217Z"
   },
   {
    "duration": 409,
    "start_time": "2023-06-09T21:52:44.038Z"
   },
   {
    "duration": 3232,
    "start_time": "2023-06-09T21:52:48.313Z"
   },
   {
    "duration": 3511,
    "start_time": "2023-06-09T21:53:51.768Z"
   },
   {
    "duration": 3352,
    "start_time": "2023-06-09T21:55:08.308Z"
   },
   {
    "duration": 3623,
    "start_time": "2023-06-09T21:55:27.566Z"
   },
   {
    "duration": 801,
    "start_time": "2023-06-09T21:58:24.871Z"
   },
   {
    "duration": 214,
    "start_time": "2023-06-09T21:59:55.301Z"
   },
   {
    "duration": 24,
    "start_time": "2023-06-09T22:00:07.139Z"
   },
   {
    "duration": 28,
    "start_time": "2023-06-09T22:00:13.775Z"
   },
   {
    "duration": 191,
    "start_time": "2023-06-09T22:00:19.516Z"
   },
   {
    "duration": 1563,
    "start_time": "2023-06-09T22:01:15.768Z"
   },
   {
    "duration": 4281,
    "start_time": "2023-06-09T22:01:42.347Z"
   },
   {
    "duration": 764,
    "start_time": "2023-06-09T22:02:09.521Z"
   },
   {
    "duration": 1097,
    "start_time": "2023-06-09T22:03:54.075Z"
   },
   {
    "duration": 776,
    "start_time": "2023-06-09T22:04:02.575Z"
   },
   {
    "duration": 775,
    "start_time": "2023-06-09T22:04:09.513Z"
   },
   {
    "duration": 823,
    "start_time": "2023-06-09T22:04:36.017Z"
   },
   {
    "duration": 795,
    "start_time": "2023-06-09T22:04:48.497Z"
   },
   {
    "duration": 763,
    "start_time": "2023-06-09T22:06:06.544Z"
   },
   {
    "duration": 172,
    "start_time": "2023-06-09T22:09:33.797Z"
   },
   {
    "duration": 144,
    "start_time": "2023-06-09T22:12:48.081Z"
   },
   {
    "duration": 157,
    "start_time": "2023-06-09T22:12:57.512Z"
   },
   {
    "duration": 20,
    "start_time": "2023-06-09T22:15:51.287Z"
   },
   {
    "duration": 169,
    "start_time": "2023-06-09T22:17:58.002Z"
   },
   {
    "duration": 3360,
    "start_time": "2023-06-09T22:18:04.246Z"
   },
   {
    "duration": 718,
    "start_time": "2023-06-09T22:18:22.811Z"
   },
   {
    "duration": 145,
    "start_time": "2023-06-09T22:18:40.427Z"
   },
   {
    "duration": 844,
    "start_time": "2023-06-09T22:18:51.452Z"
   },
   {
    "duration": 800,
    "start_time": "2023-06-09T22:20:09.137Z"
   },
   {
    "duration": 705,
    "start_time": "2023-06-09T23:54:39.977Z"
   },
   {
    "duration": 313,
    "start_time": "2023-06-09T23:55:49.503Z"
   },
   {
    "duration": 315,
    "start_time": "2023-06-09T23:55:59.217Z"
   },
   {
    "duration": 303,
    "start_time": "2023-06-09T23:56:22.859Z"
   },
   {
    "duration": 324,
    "start_time": "2023-06-09T23:56:31.257Z"
   },
   {
    "duration": 313,
    "start_time": "2023-06-09T23:56:43.426Z"
   },
   {
    "duration": 3,
    "start_time": "2023-06-10T00:14:46.008Z"
   },
   {
    "duration": 343,
    "start_time": "2023-06-10T00:15:39.959Z"
   },
   {
    "duration": 332,
    "start_time": "2023-06-10T00:15:50.356Z"
   },
   {
    "duration": 329,
    "start_time": "2023-06-10T00:15:56.216Z"
   },
   {
    "duration": 375,
    "start_time": "2023-06-10T00:22:49.369Z"
   },
   {
    "duration": 1143,
    "start_time": "2023-06-10T00:23:11.587Z"
   },
   {
    "duration": 1177,
    "start_time": "2023-06-10T00:23:28.811Z"
   },
   {
    "duration": 16,
    "start_time": "2023-06-10T00:24:22.084Z"
   },
   {
    "duration": 27395,
    "start_time": "2023-06-10T00:25:02.677Z"
   },
   {
    "duration": 3179,
    "start_time": "2023-06-10T00:25:36.623Z"
   },
   {
    "duration": 277,
    "start_time": "2023-06-10T00:25:51.903Z"
   },
   {
    "duration": 527,
    "start_time": "2023-06-10T00:26:28.711Z"
   },
   {
    "duration": 295,
    "start_time": "2023-06-10T00:26:35.126Z"
   },
   {
    "duration": 279,
    "start_time": "2023-06-10T00:26:45.215Z"
   },
   {
    "duration": 13675,
    "start_time": "2023-06-10T00:27:08.624Z"
   },
   {
    "duration": 296,
    "start_time": "2023-06-10T00:27:34.584Z"
   },
   {
    "duration": 288,
    "start_time": "2023-06-10T00:27:56.243Z"
   },
   {
    "duration": 279,
    "start_time": "2023-06-10T00:28:05.157Z"
   },
   {
    "duration": 263,
    "start_time": "2023-06-10T00:28:14.921Z"
   },
   {
    "duration": 307,
    "start_time": "2023-06-10T00:29:53.804Z"
   },
   {
    "duration": 308,
    "start_time": "2023-06-10T00:30:01.883Z"
   },
   {
    "duration": 311,
    "start_time": "2023-06-10T00:30:10.272Z"
   },
   {
    "duration": 307,
    "start_time": "2023-06-10T00:30:16.029Z"
   },
   {
    "duration": 311,
    "start_time": "2023-06-10T00:30:20.300Z"
   },
   {
    "duration": 500,
    "start_time": "2023-06-10T00:30:25.760Z"
   },
   {
    "duration": 330,
    "start_time": "2023-06-10T00:30:31.553Z"
   },
   {
    "duration": 303,
    "start_time": "2023-06-10T00:30:36.672Z"
   },
   {
    "duration": 311,
    "start_time": "2023-06-10T00:30:48.658Z"
   },
   {
    "duration": 322,
    "start_time": "2023-06-10T00:30:59.996Z"
   },
   {
    "duration": 4,
    "start_time": "2023-06-10T00:31:44.389Z"
   },
   {
    "duration": 4,
    "start_time": "2023-06-10T00:32:06.756Z"
   },
   {
    "duration": 1244,
    "start_time": "2023-06-10T00:32:16.053Z"
   },
   {
    "duration": 44,
    "start_time": "2023-06-10T00:32:17.299Z"
   },
   {
    "duration": 11,
    "start_time": "2023-06-10T00:32:17.345Z"
   },
   {
    "duration": 23,
    "start_time": "2023-06-10T00:32:17.358Z"
   },
   {
    "duration": 5,
    "start_time": "2023-06-10T00:32:17.383Z"
   },
   {
    "duration": 3,
    "start_time": "2023-06-10T00:32:17.390Z"
   },
   {
    "duration": 8,
    "start_time": "2023-06-10T00:32:17.395Z"
   },
   {
    "duration": 4,
    "start_time": "2023-06-10T00:32:17.405Z"
   },
   {
    "duration": 413,
    "start_time": "2023-06-10T00:32:17.411Z"
   },
   {
    "duration": 271,
    "start_time": "2023-06-10T00:32:17.827Z"
   },
   {
    "duration": 4,
    "start_time": "2023-06-10T00:32:18.100Z"
   },
   {
    "duration": 302,
    "start_time": "2023-06-10T00:32:18.105Z"
   },
   {
    "duration": 3,
    "start_time": "2023-06-10T00:32:18.409Z"
   },
   {
    "duration": 324,
    "start_time": "2023-06-10T00:32:18.414Z"
   },
   {
    "duration": 791,
    "start_time": "2023-06-10T00:32:18.740Z"
   },
   {
    "duration": 32,
    "start_time": "2023-06-10T00:32:19.533Z"
   },
   {
    "duration": 40,
    "start_time": "2023-06-10T00:32:19.567Z"
   },
   {
    "duration": 7,
    "start_time": "2023-06-10T00:32:19.609Z"
   },
   {
    "duration": 205,
    "start_time": "2023-06-10T00:33:52.792Z"
   },
   {
    "duration": 103,
    "start_time": "2023-06-10T00:34:34.837Z"
   },
   {
    "duration": 11,
    "start_time": "2023-06-10T00:34:44.945Z"
   },
   {
    "duration": 200,
    "start_time": "2023-06-10T00:35:13.010Z"
   },
   {
    "duration": 199,
    "start_time": "2023-06-10T00:35:17.353Z"
   },
   {
    "duration": 187,
    "start_time": "2023-06-10T00:35:23.354Z"
   },
   {
    "duration": 71,
    "start_time": "2023-06-10T00:35:27.050Z"
   },
   {
    "duration": 198,
    "start_time": "2023-06-10T00:35:31.139Z"
   },
   {
    "duration": 259,
    "start_time": "2023-06-10T00:35:48.775Z"
   },
   {
    "duration": 176,
    "start_time": "2023-06-10T00:35:58.683Z"
   },
   {
    "duration": 268,
    "start_time": "2023-06-10T00:36:05.555Z"
   },
   {
    "duration": 311,
    "start_time": "2023-06-10T00:36:12.251Z"
   },
   {
    "duration": 310,
    "start_time": "2023-06-10T00:36:58.742Z"
   },
   {
    "duration": 407,
    "start_time": "2023-06-10T00:38:57.584Z"
   },
   {
    "duration": 306,
    "start_time": "2023-06-10T00:39:01.711Z"
   },
   {
    "duration": 290,
    "start_time": "2023-06-10T00:39:04.223Z"
   },
   {
    "duration": 300,
    "start_time": "2023-06-10T00:39:05.110Z"
   },
   {
    "duration": 296,
    "start_time": "2023-06-10T00:39:05.856Z"
   },
   {
    "duration": 281,
    "start_time": "2023-06-10T00:39:06.503Z"
   },
   {
    "duration": 289,
    "start_time": "2023-06-10T00:39:07.110Z"
   },
   {
    "duration": 321,
    "start_time": "2023-06-10T00:39:07.727Z"
   },
   {
    "duration": 316,
    "start_time": "2023-06-10T00:39:13.247Z"
   },
   {
    "duration": 327,
    "start_time": "2023-06-10T00:41:24.602Z"
   },
   {
    "duration": 310,
    "start_time": "2023-06-10T00:41:41.373Z"
   },
   {
    "duration": 422,
    "start_time": "2023-06-10T00:42:03.059Z"
   },
   {
    "duration": 293,
    "start_time": "2023-06-10T00:42:28.948Z"
   },
   {
    "duration": 15,
    "start_time": "2023-06-10T00:43:22.996Z"
   },
   {
    "duration": 281,
    "start_time": "2023-06-10T00:43:36.772Z"
   },
   {
    "duration": 306,
    "start_time": "2023-06-10T00:43:58.012Z"
   },
   {
    "duration": 286,
    "start_time": "2023-06-10T00:44:10.901Z"
   },
   {
    "duration": 302,
    "start_time": "2023-06-10T00:44:17.037Z"
   },
   {
    "duration": 306,
    "start_time": "2023-06-10T00:44:21.693Z"
   },
   {
    "duration": 294,
    "start_time": "2023-06-10T00:44:33.473Z"
   },
   {
    "duration": 301,
    "start_time": "2023-06-10T00:44:39.806Z"
   },
   {
    "duration": 317,
    "start_time": "2023-06-10T00:45:19.639Z"
   },
   {
    "duration": 323,
    "start_time": "2023-06-10T00:45:37.310Z"
   },
   {
    "duration": 416,
    "start_time": "2023-06-10T00:45:42.799Z"
   },
   {
    "duration": 335,
    "start_time": "2023-06-10T00:45:49.623Z"
   },
   {
    "duration": 315,
    "start_time": "2023-06-10T00:45:56.359Z"
   },
   {
    "duration": 305,
    "start_time": "2023-06-10T00:46:10.384Z"
   },
   {
    "duration": 319,
    "start_time": "2023-06-10T00:46:21.679Z"
   },
   {
    "duration": 45,
    "start_time": "2023-06-10T00:47:45.298Z"
   },
   {
    "duration": 11,
    "start_time": "2023-06-10T00:47:55.121Z"
   },
   {
    "duration": 13,
    "start_time": "2023-06-10T00:49:09.835Z"
   },
   {
    "duration": 11,
    "start_time": "2023-06-10T00:49:18.116Z"
   },
   {
    "duration": 10,
    "start_time": "2023-06-10T00:50:02.789Z"
   },
   {
    "duration": 11,
    "start_time": "2023-06-10T00:50:05.764Z"
   },
   {
    "duration": 11,
    "start_time": "2023-06-10T00:50:21.892Z"
   },
   {
    "duration": 10,
    "start_time": "2023-06-10T00:50:33.879Z"
   },
   {
    "duration": 11,
    "start_time": "2023-06-10T00:50:42.061Z"
   },
   {
    "duration": 726,
    "start_time": "2023-06-10T00:59:45.377Z"
   },
   {
    "duration": 48,
    "start_time": "2023-06-10T01:01:56.987Z"
   },
   {
    "duration": 53,
    "start_time": "2023-06-10T01:02:08.874Z"
   },
   {
    "duration": 59,
    "start_time": "2023-06-10T01:02:13.299Z"
   },
   {
    "duration": 61,
    "start_time": "2023-06-10T01:02:22.090Z"
   },
   {
    "duration": 34,
    "start_time": "2023-06-10T01:05:21.686Z"
   },
   {
    "duration": 26,
    "start_time": "2023-06-10T01:05:26.814Z"
   },
   {
    "duration": 37,
    "start_time": "2023-06-10T01:05:29.584Z"
   },
   {
    "duration": 12,
    "start_time": "2023-06-10T01:07:49.785Z"
   },
   {
    "duration": 67,
    "start_time": "2023-06-10T01:08:54.900Z"
   },
   {
    "duration": 372,
    "start_time": "2023-06-10T01:09:28.086Z"
   },
   {
    "duration": 355,
    "start_time": "2023-06-10T01:09:42.700Z"
   },
   {
    "duration": 341,
    "start_time": "2023-06-10T01:10:12.821Z"
   },
   {
    "duration": 340,
    "start_time": "2023-06-10T01:10:26.972Z"
   },
   {
    "duration": 351,
    "start_time": "2023-06-10T01:10:31.293Z"
   },
   {
    "duration": 461,
    "start_time": "2023-06-10T01:10:47.789Z"
   },
   {
    "duration": 317,
    "start_time": "2023-06-10T01:11:09.383Z"
   },
   {
    "duration": 335,
    "start_time": "2023-06-10T01:11:25.631Z"
   },
   {
    "duration": 32,
    "start_time": "2023-06-10T01:12:05.375Z"
   },
   {
    "duration": 42,
    "start_time": "2023-06-10T01:12:45.007Z"
   }
  ],
  "kernelspec": {
   "display_name": "Python 3 (ipykernel)",
   "language": "python",
   "name": "python3"
  },
  "language_info": {
   "codemirror_mode": {
    "name": "ipython",
    "version": 3
   },
   "file_extension": ".py",
   "mimetype": "text/x-python",
   "name": "python",
   "nbconvert_exporter": "python",
   "pygments_lexer": "ipython3",
   "version": "3.9.5"
  },
  "toc": {
   "base_numbering": 1,
   "nav_menu": {},
   "number_sections": true,
   "sideBar": true,
   "skip_h1_title": true,
   "title_cell": "Table of Contents",
   "title_sidebar": "Contents",
   "toc_cell": false,
   "toc_position": {},
   "toc_section_display": true,
   "toc_window_display": false
  },
  "widgets": {
   "application/vnd.jupyter.widget-state+json": {
    "state": {},
    "version_major": 2,
    "version_minor": 0
   }
  }
 },
 "nbformat": 4,
 "nbformat_minor": 4
}

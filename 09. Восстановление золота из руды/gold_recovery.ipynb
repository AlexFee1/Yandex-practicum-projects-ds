{
 "cells": [
  {
   "cell_type": "markdown",
   "metadata": {},
   "source": [
    "<div style=\"border:solid Chocolate 2px; padding: 40px\">\n",
    "\n",
    "<b> Александр, привет!👋</b>\n",
    "\n",
    "Меня зовут Алексей Гриб, и я буду ревьюером твоего проекта. \n",
    "\n",
    "Сразу хочу предложить в дальнейшем общаться на \"ты\" - надеюсь, так будет комфортнее:) Но если это неудобно, обязательно дай знать, и мы придумаем что-нибудь ещё!\n",
    "    \n",
    "Цель ревью - не искать ошибки в твоём проекте, а помочь тебе сделать твою работу ещё лучше, устранив недочёты и приблизив её к реальным задачам аналитика. Поэтому не расстраивайся, если что-то не получилось с первого раза - это нормально, и это поможет тебе вырасти!\n",
    "    \n",
    "Ты можешь найти мои комментарии, обозначенные <font color='green'>зеленым</font>, <font color='gold'>желтым</font> и <font color='red'>красным</font> цветами, например:\n",
    "\n",
    "<br/>\n",
    "\n",
    "<div class=\"alert alert-success\">\n",
    "<h2> Комментарий ревьюера <a class=\"tocSkip\"> </h2>\n",
    "\n",
    "<b>Все отлично!👍:</b> похвала, рекомендации «со звёздочкой», полезные лайфхаки, которые сделают и без того красивое решение ещё более элегантным.\n",
    "</div>\n",
    "\n",
    "<br/>\n",
    "\n",
    "<div class=\"alert alert-warning\">\n",
    "    <h2> Комментарий ревьюера <a class=\"tocSkip\"> </h2>\n",
    "    \n",
    "<b>Некоторые замечания и рекомендации⚠️:</b> некритичные ошибки или развивающие рекомендации на будущее. \n",
    "</div>\n",
    "\n",
    "\n",
    "<br/>\n",
    "<div class=\"alert alert-block alert-danger\">\n",
    "<h2> Комментарий ревьюера <a class=\"tocSkip\"></h2>\n",
    "\n",
    "    \n",
    "<b>На доработку❌:</b>\n",
    "Критичные ошибки, которые обязательно нужно исправить.\n",
    "</div>\n",
    "\n",
    "Я не смогу принять проект, если в нём будет хотя бы одна критичная ошибка или несколько некритичных ошибок - тогда проект нужно будет немного доработать. Но это нестрашно - я обязательно дам тебе подсказку или укажу верное направление.\n",
    "    \n",
    "Пожалуйста, не удаляй мои комментарии, они будут особенно полезны для нашей работы в случае повторной проверки проекта. \n",
    "    \n",
    "Ты также можешь задавать свои вопросы, реагировать на мои комментарии, делать пометки и пояснения - полная творческая свобода! Но маленькая просьба - пускай они будут отличаться от моих комментариев, это поможет избежать путаницы в нашем общении:)\n",
    "Например, вот так:\n",
    "    \n",
    "<div class=\"alert alert-info\">\n",
    "<h2> Комментарий студента <a class=\"tocSkip\"> </h2>\n",
    "\n",
    "*твой текст*\n",
    "</div>\n",
    "    \n",
    "Давай посмотрим на твой проект!"
   ]
  },
  {
   "cell_type": "markdown",
   "metadata": {
    "toc": true
   },
   "source": [
    "<h1>Содержание<span class=\"tocSkip\"></span></h1>\n",
    "<div class=\"toc\"><ul class=\"toc-item\"><li><span><a href=\"#Подготовка-данных\" data-toc-modified-id=\"Подготовка-данных-1\"><span class=\"toc-item-num\">1&nbsp;&nbsp;</span>Подготовка данных</a></span><ul class=\"toc-item\"><li><span><a href=\"#df_full\" data-toc-modified-id=\"df_full-1.1\"><span class=\"toc-item-num\">1.1&nbsp;&nbsp;</span>df_full</a></span></li><li><span><a href=\"#df_train\" data-toc-modified-id=\"df_train-1.2\"><span class=\"toc-item-num\">1.2&nbsp;&nbsp;</span>df_train</a></span></li><li><span><a href=\"#df_test\" data-toc-modified-id=\"df_test-1.3\"><span class=\"toc-item-num\">1.3&nbsp;&nbsp;</span>df_test</a></span></li><li><span><a href=\"#Рассчет-эффективности\" data-toc-modified-id=\"Рассчет-эффективности-1.4\"><span class=\"toc-item-num\">1.4&nbsp;&nbsp;</span>Рассчет эффективности</a></span></li><li><span><a href=\"#Вывод\" data-toc-modified-id=\"Вывод-1.5\"><span class=\"toc-item-num\">1.5&nbsp;&nbsp;</span>Вывод</a></span></li></ul></li><li><span><a href=\"#Анализ-данных\" data-toc-modified-id=\"Анализ-данных-2\"><span class=\"toc-item-num\">2&nbsp;&nbsp;</span>Анализ данных</a></span><ul class=\"toc-item\"><li><span><a href=\"#Вывод\" data-toc-modified-id=\"Вывод-2.1\"><span class=\"toc-item-num\">2.1&nbsp;&nbsp;</span>Вывод</a></span></li></ul></li><li><span><a href=\"#Модель\" data-toc-modified-id=\"Модель-3\"><span class=\"toc-item-num\">3&nbsp;&nbsp;</span>Модель</a></span><ul class=\"toc-item\"><li><span><a href=\"#Линейная-регрессия\" data-toc-modified-id=\"Линейная-регрессия-3.1\"><span class=\"toc-item-num\">3.1&nbsp;&nbsp;</span>Линейная регрессия</a></span></li><li><span><a href=\"#Дерево-принятия-решений\" data-toc-modified-id=\"Дерево-принятия-решений-3.2\"><span class=\"toc-item-num\">3.2&nbsp;&nbsp;</span>Дерево принятия решений</a></span></li><li><span><a href=\"#Случайный-лес\" data-toc-modified-id=\"Случайный-лес-3.3\"><span class=\"toc-item-num\">3.3&nbsp;&nbsp;</span>Случайный лес</a></span></li></ul></li><li><span><a href=\"#Общий-вывод\" data-toc-modified-id=\"Общий-вывод-4\"><span class=\"toc-item-num\">4&nbsp;&nbsp;</span>Общий вывод</a></span></li></ul></div>"
   ]
  },
  {
   "cell_type": "markdown",
   "metadata": {},
   "source": [
    "# Восстановление золота из руды"
   ]
  },
  {
   "cell_type": "markdown",
   "metadata": {},
   "source": [
    "Подготовьте прототип модели машинного обучения для «Цифры». Компания разрабатывает решения для эффективной работы промышленных предприятий.\n",
    "\n",
    "Модель должна предсказать коэффициент восстановления золота из золотосодержащей руды. Используйте данные с параметрами добычи и очистки. \n",
    "\n",
    "Модель поможет оптимизировать производство, чтобы не запускать предприятие с убыточными характеристиками.\n",
    "\n",
    "Вам нужно:\n",
    "\n",
    "1. Подготовить данные;\n",
    "2. Провести исследовательский анализ данных;\n",
    "3. Построить и обучить модель.\n",
    "\n",
    "Чтобы выполнить проект, обращайтесь к библиотекам *pandas*, *matplotlib* и *sklearn.* Вам поможет их документация."
   ]
  },
  {
   "cell_type": "markdown",
   "metadata": {},
   "source": [
    "<div class=\"alert alert-success\">\n",
    "<h2> Комментарий ревьюера <a class=\"tocSkip\"> </h2>\n",
    "\n",
    "<b>Все отлично!👍:</b> Хорошее вступление!\n",
    "    \n",
    "В нём есть всё, что необходимо, чтобы понять суть проекта с первых строк отчёта!"
   ]
  },
  {
   "cell_type": "markdown",
   "metadata": {},
   "source": [
    "## Подготовка данных"
   ]
  },
  {
   "cell_type": "code",
   "execution_count": 1,
   "metadata": {},
   "outputs": [],
   "source": [
    "import pandas as pd\n",
    "\n",
    "import math\n",
    "\n",
    "import warnings\n",
    "warnings.filterwarnings('ignore')\n",
    "\n",
    "import sklearn\n",
    "from sklearn.preprocessing import StandardScaler\n",
    "from sklearn.metrics import mean_absolute_error, make_scorer\n",
    "from sklearn.tree import DecisionTreeRegressor\n",
    "from sklearn.model_selection import RandomizedSearchCV, cross_validate, GridSearchCV\n",
    "from sklearn.ensemble import RandomForestRegressor\n",
    "from sklearn.linear_model import LinearRegression\n",
    "from sklearn.dummy import DummyRegressor\n",
    "\n",
    "import numpy as np\n",
    "\n",
    "import seaborn as sns\n",
    "\n",
    "import matplotlib.pyplot as plt\n",
    "\n",
    "from scipy.stats import ttest_ind\n",
    "#Отобразим все столбцы\n",
    "pd.options.display.max_columns = 87"
   ]
  },
  {
   "cell_type": "markdown",
   "metadata": {},
   "source": [
    "<div class=\"alert alert-success\">\n",
    "<h2> Комментарий ревьюера <a class=\"tocSkip\"> </h2>\n",
    "\n",
    "<b>Все отлично!👍:</b> Библиотеки импортировали - отлично!"
   ]
  },
  {
   "cell_type": "code",
   "execution_count": 2,
   "metadata": {},
   "outputs": [],
   "source": [
    "df_full = pd.read_csv('/datasets/gold_industry_full.csv')\n",
    "df_train = pd.read_csv('/datasets/gold_industry_train.csv')\n",
    "df_test = pd.read_csv('/datasets/gold_industry_test.csv')"
   ]
  },
  {
   "cell_type": "markdown",
   "metadata": {},
   "source": [
    "<div class=\"alert alert-success\">\n",
    "<h2> Комментарий ревьюера <a class=\"tocSkip\"> </h2>\n",
    "\n",
    "<b>Все отлично!👍</b> \n",
    "    \n",
    "Данные загрузили.\n",
    "    \n",
    "При считывании данных из файла здорово перестраховывать себя от ошибок, связанных, например, с неверным указанием пути к файлу. А иногда бывает, что работаешь с файлом локально, выгружаешь его на сервер, ожидая, что он будет принимать данные, которые лежат на том же сервере, а код падает с ошибкой, потому что путь к файлу не поменялся с локального на серверный.\n",
    "    \n",
    "Для этого, например, можно использовать конструкцию `try-except`: сначала пробуешь локальный путь, при возникновении ошибки используется серверный путь (подробнее можешь почитать тут: https://pythonworld.ru/tipy-dannyx-v-python/isklyucheniya-v-python-konstrukciya-try-except-dlya-obrabotki-isklyuchenij.html).\n",
    "    \n",
    "Но еще лучше использовать библиотеку `os` - её использование позволит тебе проверять существование указанных директорий (что может быть актуально при одновременной работа на локальном и сетевом окружении) и загружать данные из существующей директории, избегая ошибок. Как пример:\n",
    "    \n",
    "    import os\n",
    "\n",
    "    pth1 = '/folder_1/data.csv'\n",
    "    pth2 = '/folder_2/data.csv'\n",
    "    \n",
    "    if os.path.exists(pth1):\n",
    "        query_1 = pd.read_csv(pth1)\n",
    "    elif os.path.exists(pth2):\n",
    "        query_1 = pd.read_csv(pth2)\n",
    "    else:\n",
    "        print('Something is wrong')\n",
    "\n",
    "Ещё на этапе считывания данных можно спарсить дату: за это действие отвечает параметр `parse_dates` метода `read_csv()`, в него нужно передать список с названием полей-дат, и в большинстве случаев дата будет корректно преобразована в нужный формат сразу:)\n",
    "Также на этапе считывания данных задать индекс-столбец- за это действие отвечает параметр `index_col`."
   ]
  },
  {
   "cell_type": "markdown",
   "metadata": {},
   "source": [
    "### df_full"
   ]
  },
  {
   "cell_type": "code",
   "execution_count": 3,
   "metadata": {},
   "outputs": [
    {
     "data": {
      "text/plain": [
       "(19439, 87)"
      ]
     },
     "execution_count": 3,
     "metadata": {},
     "output_type": "execute_result"
    }
   ],
   "source": [
    "df_full.shape"
   ]
  },
  {
   "cell_type": "code",
   "execution_count": 4,
   "metadata": {},
   "outputs": [
    {
     "data": {
      "text/html": [
       "<div>\n",
       "<style scoped>\n",
       "    .dataframe tbody tr th:only-of-type {\n",
       "        vertical-align: middle;\n",
       "    }\n",
       "\n",
       "    .dataframe tbody tr th {\n",
       "        vertical-align: top;\n",
       "    }\n",
       "\n",
       "    .dataframe thead th {\n",
       "        text-align: right;\n",
       "    }\n",
       "</style>\n",
       "<table border=\"1\" class=\"dataframe\">\n",
       "  <thead>\n",
       "    <tr style=\"text-align: right;\">\n",
       "      <th></th>\n",
       "      <th>rougher.input.feed_au</th>\n",
       "      <th>rougher.input.feed_ag</th>\n",
       "      <th>rougher.input.feed_pb</th>\n",
       "      <th>rougher.input.feed_sol</th>\n",
       "      <th>rougher.input.feed_rate</th>\n",
       "      <th>rougher.input.feed_size</th>\n",
       "      <th>rougher.input.floatbank10_sulfate</th>\n",
       "      <th>rougher.input.floatbank10_xanthate</th>\n",
       "      <th>rougher.state.floatbank10_a_air</th>\n",
       "      <th>rougher.state.floatbank10_a_level</th>\n",
       "      <th>rougher.state.floatbank10_b_air</th>\n",
       "      <th>rougher.state.floatbank10_b_level</th>\n",
       "      <th>rougher.state.floatbank10_c_air</th>\n",
       "      <th>rougher.state.floatbank10_c_level</th>\n",
       "      <th>rougher.state.floatbank10_d_air</th>\n",
       "      <th>rougher.state.floatbank10_d_level</th>\n",
       "      <th>rougher.state.floatbank10_e_air</th>\n",
       "      <th>rougher.state.floatbank10_e_level</th>\n",
       "      <th>rougher.state.floatbank10_f_air</th>\n",
       "      <th>rougher.state.floatbank10_f_level</th>\n",
       "      <th>rougher.input.floatbank11_sulfate</th>\n",
       "      <th>rougher.input.floatbank11_xanthate</th>\n",
       "      <th>rougher.calculation.sulfate_to_au_concentrate</th>\n",
       "      <th>rougher.calculation.floatbank10_sulfate_to_au_feed</th>\n",
       "      <th>rougher.calculation.floatbank11_sulfate_to_au_feed</th>\n",
       "      <th>rougher.calculation.au_pb_ratio</th>\n",
       "      <th>rougher.output.concentrate_au</th>\n",
       "      <th>rougher.output.concentrate_ag</th>\n",
       "      <th>rougher.output.concentrate_pb</th>\n",
       "      <th>rougher.output.concentrate_sol</th>\n",
       "      <th>rougher.output.recovery</th>\n",
       "      <th>rougher.output.tail_au</th>\n",
       "      <th>rougher.output.tail_ag</th>\n",
       "      <th>rougher.output.tail_pb</th>\n",
       "      <th>rougher.output.tail_sol</th>\n",
       "      <th>primary_cleaner.input.sulfate</th>\n",
       "      <th>primary_cleaner.input.depressant</th>\n",
       "      <th>primary_cleaner.input.feed_size</th>\n",
       "      <th>primary_cleaner.input.xanthate</th>\n",
       "      <th>primary_cleaner.state.floatbank8_a_air</th>\n",
       "      <th>primary_cleaner.state.floatbank8_a_level</th>\n",
       "      <th>primary_cleaner.state.floatbank8_b_air</th>\n",
       "      <th>primary_cleaner.state.floatbank8_b_level</th>\n",
       "      <th>primary_cleaner.state.floatbank8_c_air</th>\n",
       "      <th>primary_cleaner.state.floatbank8_c_level</th>\n",
       "      <th>primary_cleaner.state.floatbank8_d_air</th>\n",
       "      <th>primary_cleaner.state.floatbank8_d_level</th>\n",
       "      <th>primary_cleaner.output.concentrate_au</th>\n",
       "      <th>primary_cleaner.output.concentrate_ag</th>\n",
       "      <th>primary_cleaner.output.concentrate_pb</th>\n",
       "      <th>primary_cleaner.output.concentrate_sol</th>\n",
       "      <th>primary_cleaner.output.tail_au</th>\n",
       "      <th>primary_cleaner.output.tail_ag</th>\n",
       "      <th>primary_cleaner.output.tail_pb</th>\n",
       "      <th>primary_cleaner.output.tail_sol</th>\n",
       "      <th>secondary_cleaner.state.floatbank2_a_air</th>\n",
       "      <th>secondary_cleaner.state.floatbank2_a_level</th>\n",
       "      <th>secondary_cleaner.state.floatbank2_b_air</th>\n",
       "      <th>secondary_cleaner.state.floatbank2_b_level</th>\n",
       "      <th>secondary_cleaner.state.floatbank3_a_air</th>\n",
       "      <th>secondary_cleaner.state.floatbank3_a_level</th>\n",
       "      <th>secondary_cleaner.state.floatbank3_b_air</th>\n",
       "      <th>secondary_cleaner.state.floatbank3_b_level</th>\n",
       "      <th>secondary_cleaner.state.floatbank4_a_air</th>\n",
       "      <th>secondary_cleaner.state.floatbank4_a_level</th>\n",
       "      <th>secondary_cleaner.state.floatbank4_b_air</th>\n",
       "      <th>secondary_cleaner.state.floatbank4_b_level</th>\n",
       "      <th>secondary_cleaner.state.floatbank5_a_air</th>\n",
       "      <th>secondary_cleaner.state.floatbank5_a_level</th>\n",
       "      <th>secondary_cleaner.state.floatbank5_b_air</th>\n",
       "      <th>secondary_cleaner.state.floatbank5_b_level</th>\n",
       "      <th>secondary_cleaner.state.floatbank6_a_air</th>\n",
       "      <th>secondary_cleaner.state.floatbank6_a_level</th>\n",
       "      <th>secondary_cleaner.output.tail_au</th>\n",
       "      <th>secondary_cleaner.output.tail_ag</th>\n",
       "      <th>secondary_cleaner.output.tail_pb</th>\n",
       "      <th>secondary_cleaner.output.tail_sol</th>\n",
       "      <th>final.output.concentrate_au</th>\n",
       "      <th>final.output.concentrate_ag</th>\n",
       "      <th>final.output.concentrate_pb</th>\n",
       "      <th>final.output.concentrate_sol</th>\n",
       "      <th>final.output.recovery</th>\n",
       "      <th>final.output.tail_au</th>\n",
       "      <th>final.output.tail_ag</th>\n",
       "      <th>final.output.tail_pb</th>\n",
       "      <th>final.output.tail_sol</th>\n",
       "    </tr>\n",
       "  </thead>\n",
       "  <tbody>\n",
       "    <tr>\n",
       "      <th>count</th>\n",
       "      <td>19439.000000</td>\n",
       "      <td>19439.000000</td>\n",
       "      <td>19339.000000</td>\n",
       "      <td>19340.000000</td>\n",
       "      <td>19428.000000</td>\n",
       "      <td>19294.000000</td>\n",
       "      <td>19405.000000</td>\n",
       "      <td>19431.000000</td>\n",
       "      <td>19438.000000</td>\n",
       "      <td>19438.000000</td>\n",
       "      <td>19438.000000</td>\n",
       "      <td>19438.000000</td>\n",
       "      <td>19438.000000</td>\n",
       "      <td>19438.000000</td>\n",
       "      <td>19439.000000</td>\n",
       "      <td>19439.000000</td>\n",
       "      <td>19003.000000</td>\n",
       "      <td>19439.000000</td>\n",
       "      <td>19439.000000</td>\n",
       "      <td>19439.000000</td>\n",
       "      <td>19395.000000</td>\n",
       "      <td>18986.000000</td>\n",
       "      <td>1.943700e+04</td>\n",
       "      <td>19437.000000</td>\n",
       "      <td>19437.000000</td>\n",
       "      <td>19439.000000</td>\n",
       "      <td>19439.000000</td>\n",
       "      <td>19439.000000</td>\n",
       "      <td>19439.000000</td>\n",
       "      <td>19416.000000</td>\n",
       "      <td>19439.000000</td>\n",
       "      <td>19439.000000</td>\n",
       "      <td>19438.000000</td>\n",
       "      <td>19439.000000</td>\n",
       "      <td>19439.000000</td>\n",
       "      <td>19415.000000</td>\n",
       "      <td>19402.000000</td>\n",
       "      <td>19439.000000</td>\n",
       "      <td>19335.000000</td>\n",
       "      <td>1.943500e+04</td>\n",
       "      <td>19438.000000</td>\n",
       "      <td>1.943500e+04</td>\n",
       "      <td>19438.000000</td>\n",
       "      <td>1.943700e+04</td>\n",
       "      <td>19438.000000</td>\n",
       "      <td>1.943600e+04</td>\n",
       "      <td>19438.000000</td>\n",
       "      <td>19439.000000</td>\n",
       "      <td>19439.000000</td>\n",
       "      <td>19323.000000</td>\n",
       "      <td>19069.000000</td>\n",
       "      <td>19439.000000</td>\n",
       "      <td>19435.000000</td>\n",
       "      <td>19418.000000</td>\n",
       "      <td>19377.000000</td>\n",
       "      <td>19219.000000</td>\n",
       "      <td>19438.000000</td>\n",
       "      <td>19416.000000</td>\n",
       "      <td>19438.000000</td>\n",
       "      <td>19426.000000</td>\n",
       "      <td>19438.000000</td>\n",
       "      <td>19438.000000</td>\n",
       "      <td>19438.000000</td>\n",
       "      <td>19433.000000</td>\n",
       "      <td>19438.000000</td>\n",
       "      <td>19438.000000</td>\n",
       "      <td>19438.000000</td>\n",
       "      <td>19438.000000</td>\n",
       "      <td>19438.000000</td>\n",
       "      <td>19438.000000</td>\n",
       "      <td>19438.000000</td>\n",
       "      <td>19437.000000</td>\n",
       "      <td>19438.000000</td>\n",
       "      <td>19439.000000</td>\n",
       "      <td>19437.000000</td>\n",
       "      <td>19427.000000</td>\n",
       "      <td>17691.000000</td>\n",
       "      <td>19439.000000</td>\n",
       "      <td>19438.000000</td>\n",
       "      <td>19438.000000</td>\n",
       "      <td>19228.000000</td>\n",
       "      <td>19439.000000</td>\n",
       "      <td>19439.000000</td>\n",
       "      <td>19438.000000</td>\n",
       "      <td>19338.000000</td>\n",
       "      <td>19433.000000</td>\n",
       "    </tr>\n",
       "    <tr>\n",
       "      <th>mean</th>\n",
       "      <td>8.266097</td>\n",
       "      <td>8.794927</td>\n",
       "      <td>3.598085</td>\n",
       "      <td>36.695114</td>\n",
       "      <td>478.320042</td>\n",
       "      <td>58.970310</td>\n",
       "      <td>12.334373</td>\n",
       "      <td>6.021474</td>\n",
       "      <td>1105.315068</td>\n",
       "      <td>-376.610690</td>\n",
       "      <td>1320.221139</td>\n",
       "      <td>-467.247826</td>\n",
       "      <td>1299.968799</td>\n",
       "      <td>-467.716946</td>\n",
       "      <td>1211.563299</td>\n",
       "      <td>-468.239912</td>\n",
       "      <td>1080.869685</td>\n",
       "      <td>-466.037742</td>\n",
       "      <td>1025.274256</td>\n",
       "      <td>-466.265327</td>\n",
       "      <td>12.064140</td>\n",
       "      <td>6.065533</td>\n",
       "      <td>4.217119e+04</td>\n",
       "      <td>3393.052498</td>\n",
       "      <td>3256.854171</td>\n",
       "      <td>2.420119</td>\n",
       "      <td>19.772000</td>\n",
       "      <td>11.994759</td>\n",
       "      <td>7.606272</td>\n",
       "      <td>28.805571</td>\n",
       "      <td>83.328587</td>\n",
       "      <td>1.816391</td>\n",
       "      <td>5.588982</td>\n",
       "      <td>0.645782</td>\n",
       "      <td>18.057106</td>\n",
       "      <td>144.624774</td>\n",
       "      <td>8.817039</td>\n",
       "      <td>7.307078</td>\n",
       "      <td>1.021795</td>\n",
       "      <td>1.589354e+03</td>\n",
       "      <td>-491.195012</td>\n",
       "      <td>1.591344e+03</td>\n",
       "      <td>-492.192978</td>\n",
       "      <td>1.586669e+03</td>\n",
       "      <td>-491.980070</td>\n",
       "      <td>1.542912e+03</td>\n",
       "      <td>-488.017382</td>\n",
       "      <td>32.119400</td>\n",
       "      <td>8.442408</td>\n",
       "      <td>9.829530</td>\n",
       "      <td>10.489499</td>\n",
       "      <td>3.914179</td>\n",
       "      <td>16.145826</td>\n",
       "      <td>3.435656</td>\n",
       "      <td>7.973209</td>\n",
       "      <td>28.705564</td>\n",
       "      <td>-502.367331</td>\n",
       "      <td>24.106800</td>\n",
       "      <td>-503.230712</td>\n",
       "      <td>28.199338</td>\n",
       "      <td>-486.203350</td>\n",
       "      <td>22.200645</td>\n",
       "      <td>-493.742107</td>\n",
       "      <td>18.987674</td>\n",
       "      <td>-485.894516</td>\n",
       "      <td>15.010366</td>\n",
       "      <td>-461.078636</td>\n",
       "      <td>15.694452</td>\n",
       "      <td>-488.684065</td>\n",
       "      <td>12.198224</td>\n",
       "      <td>-487.149827</td>\n",
       "      <td>18.959024</td>\n",
       "      <td>-505.436305</td>\n",
       "      <td>4.339625</td>\n",
       "      <td>14.586833</td>\n",
       "      <td>5.777703</td>\n",
       "      <td>7.167247</td>\n",
       "      <td>44.076513</td>\n",
       "      <td>5.168470</td>\n",
       "      <td>9.978895</td>\n",
       "      <td>9.501224</td>\n",
       "      <td>67.050208</td>\n",
       "      <td>3.042467</td>\n",
       "      <td>9.688589</td>\n",
       "      <td>2.705795</td>\n",
       "      <td>10.583728</td>\n",
       "    </tr>\n",
       "    <tr>\n",
       "      <th>std</th>\n",
       "      <td>1.955092</td>\n",
       "      <td>1.936847</td>\n",
       "      <td>1.049486</td>\n",
       "      <td>5.145445</td>\n",
       "      <td>105.373758</td>\n",
       "      <td>21.634478</td>\n",
       "      <td>3.427317</td>\n",
       "      <td>1.127263</td>\n",
       "      <td>160.826798</td>\n",
       "      <td>93.909667</td>\n",
       "      <td>176.287095</td>\n",
       "      <td>54.673142</td>\n",
       "      <td>202.804325</td>\n",
       "      <td>53.534825</td>\n",
       "      <td>204.019326</td>\n",
       "      <td>53.921458</td>\n",
       "      <td>172.149992</td>\n",
       "      <td>57.384424</td>\n",
       "      <td>164.487837</td>\n",
       "      <td>57.850263</td>\n",
       "      <td>3.784221</td>\n",
       "      <td>1.099118</td>\n",
       "      <td>3.243621e+05</td>\n",
       "      <td>4943.845943</td>\n",
       "      <td>5781.423659</td>\n",
       "      <td>0.814935</td>\n",
       "      <td>3.753600</td>\n",
       "      <td>2.733862</td>\n",
       "      <td>1.796757</td>\n",
       "      <td>5.944207</td>\n",
       "      <td>14.148086</td>\n",
       "      <td>0.680046</td>\n",
       "      <td>1.111288</td>\n",
       "      <td>0.251526</td>\n",
       "      <td>3.449218</td>\n",
       "      <td>44.464071</td>\n",
       "      <td>3.286186</td>\n",
       "      <td>0.613509</td>\n",
       "      <td>0.513254</td>\n",
       "      <td>1.289968e+02</td>\n",
       "      <td>32.431842</td>\n",
       "      <td>1.318109e+02</td>\n",
       "      <td>33.794822</td>\n",
       "      <td>1.361114e+02</td>\n",
       "      <td>32.711455</td>\n",
       "      <td>2.461996e+02</td>\n",
       "      <td>43.959780</td>\n",
       "      <td>5.627611</td>\n",
       "      <td>2.054465</td>\n",
       "      <td>2.556843</td>\n",
       "      <td>3.909639</td>\n",
       "      <td>1.593034</td>\n",
       "      <td>3.548598</td>\n",
       "      <td>1.392536</td>\n",
       "      <td>2.212677</td>\n",
       "      <td>5.458789</td>\n",
       "      <td>53.571950</td>\n",
       "      <td>5.749616</td>\n",
       "      <td>56.567724</td>\n",
       "      <td>6.134908</td>\n",
       "      <td>54.412349</td>\n",
       "      <td>5.574001</td>\n",
       "      <td>43.372158</td>\n",
       "      <td>5.411058</td>\n",
       "      <td>47.758570</td>\n",
       "      <td>4.890228</td>\n",
       "      <td>67.405524</td>\n",
       "      <td>5.510974</td>\n",
       "      <td>34.533396</td>\n",
       "      <td>5.333024</td>\n",
       "      <td>38.347312</td>\n",
       "      <td>5.550498</td>\n",
       "      <td>37.689057</td>\n",
       "      <td>2.326751</td>\n",
       "      <td>4.265202</td>\n",
       "      <td>2.774598</td>\n",
       "      <td>3.916079</td>\n",
       "      <td>5.129784</td>\n",
       "      <td>1.372348</td>\n",
       "      <td>1.669240</td>\n",
       "      <td>2.787537</td>\n",
       "      <td>10.125840</td>\n",
       "      <td>0.922808</td>\n",
       "      <td>2.328642</td>\n",
       "      <td>0.949077</td>\n",
       "      <td>2.868782</td>\n",
       "    </tr>\n",
       "    <tr>\n",
       "      <th>min</th>\n",
       "      <td>0.010000</td>\n",
       "      <td>0.010000</td>\n",
       "      <td>0.010000</td>\n",
       "      <td>0.010000</td>\n",
       "      <td>0.002986</td>\n",
       "      <td>0.046369</td>\n",
       "      <td>0.001083</td>\n",
       "      <td>0.000568</td>\n",
       "      <td>-0.042069</td>\n",
       "      <td>-657.949759</td>\n",
       "      <td>-0.721806</td>\n",
       "      <td>-650.260008</td>\n",
       "      <td>-0.056636</td>\n",
       "      <td>-647.544439</td>\n",
       "      <td>-0.992219</td>\n",
       "      <td>-648.390665</td>\n",
       "      <td>-1.982295</td>\n",
       "      <td>-649.443911</td>\n",
       "      <td>-2.593390</td>\n",
       "      <td>-649.949283</td>\n",
       "      <td>0.000077</td>\n",
       "      <td>0.000290</td>\n",
       "      <td>-4.223520e+07</td>\n",
       "      <td>-486.598675</td>\n",
       "      <td>-264.982785</td>\n",
       "      <td>-0.010548</td>\n",
       "      <td>0.000000</td>\n",
       "      <td>0.000000</td>\n",
       "      <td>0.000000</td>\n",
       "      <td>0.000000</td>\n",
       "      <td>0.000000</td>\n",
       "      <td>0.020676</td>\n",
       "      <td>0.594562</td>\n",
       "      <td>0.007566</td>\n",
       "      <td>10.014648</td>\n",
       "      <td>0.003112</td>\n",
       "      <td>0.000000</td>\n",
       "      <td>1.080000</td>\n",
       "      <td>0.000005</td>\n",
       "      <td>5.445860e-32</td>\n",
       "      <td>-798.641662</td>\n",
       "      <td>6.647490e-32</td>\n",
       "      <td>-799.997015</td>\n",
       "      <td>4.033736e-32</td>\n",
       "      <td>-799.960571</td>\n",
       "      <td>4.039220e-32</td>\n",
       "      <td>-799.794250</td>\n",
       "      <td>0.000000</td>\n",
       "      <td>0.000000</td>\n",
       "      <td>0.000000</td>\n",
       "      <td>0.000000</td>\n",
       "      <td>0.000000</td>\n",
       "      <td>0.000000</td>\n",
       "      <td>0.000000</td>\n",
       "      <td>0.000000</td>\n",
       "      <td>0.077503</td>\n",
       "      <td>-799.606441</td>\n",
       "      <td>0.000000</td>\n",
       "      <td>-799.873878</td>\n",
       "      <td>0.000000</td>\n",
       "      <td>-799.755798</td>\n",
       "      <td>0.000000</td>\n",
       "      <td>-809.333008</td>\n",
       "      <td>0.000000</td>\n",
       "      <td>-799.798523</td>\n",
       "      <td>0.000000</td>\n",
       "      <td>-800.836914</td>\n",
       "      <td>-0.372054</td>\n",
       "      <td>-797.323986</td>\n",
       "      <td>0.528083</td>\n",
       "      <td>-800.220337</td>\n",
       "      <td>-0.079426</td>\n",
       "      <td>-809.741464</td>\n",
       "      <td>0.000000</td>\n",
       "      <td>0.000000</td>\n",
       "      <td>0.000000</td>\n",
       "      <td>0.000000</td>\n",
       "      <td>0.000000</td>\n",
       "      <td>0.000000</td>\n",
       "      <td>0.000000</td>\n",
       "      <td>0.000000</td>\n",
       "      <td>0.000000</td>\n",
       "      <td>0.000000</td>\n",
       "      <td>0.000000</td>\n",
       "      <td>0.000000</td>\n",
       "      <td>0.000000</td>\n",
       "    </tr>\n",
       "    <tr>\n",
       "      <th>25%</th>\n",
       "      <td>6.854384</td>\n",
       "      <td>7.237967</td>\n",
       "      <td>2.887280</td>\n",
       "      <td>34.207799</td>\n",
       "      <td>416.525453</td>\n",
       "      <td>47.435103</td>\n",
       "      <td>10.000362</td>\n",
       "      <td>5.398678</td>\n",
       "      <td>999.661867</td>\n",
       "      <td>-499.835165</td>\n",
       "      <td>1199.626115</td>\n",
       "      <td>-500.201130</td>\n",
       "      <td>1151.076301</td>\n",
       "      <td>-500.217218</td>\n",
       "      <td>1061.051788</td>\n",
       "      <td>-500.386386</td>\n",
       "      <td>998.675263</td>\n",
       "      <td>-500.232191</td>\n",
       "      <td>900.995511</td>\n",
       "      <td>-500.522553</td>\n",
       "      <td>9.998460</td>\n",
       "      <td>5.402368</td>\n",
       "      <td>4.070095e+04</td>\n",
       "      <td>2611.425833</td>\n",
       "      <td>2551.437587</td>\n",
       "      <td>2.035434</td>\n",
       "      <td>18.802523</td>\n",
       "      <td>10.628337</td>\n",
       "      <td>6.725987</td>\n",
       "      <td>27.224120</td>\n",
       "      <td>81.037957</td>\n",
       "      <td>1.404207</td>\n",
       "      <td>4.889892</td>\n",
       "      <td>0.477728</td>\n",
       "      <td>15.822525</td>\n",
       "      <td>114.107029</td>\n",
       "      <td>6.076909</td>\n",
       "      <td>6.940000</td>\n",
       "      <td>0.697224</td>\n",
       "      <td>1.505063e+03</td>\n",
       "      <td>-500.308544</td>\n",
       "      <td>1.503630e+03</td>\n",
       "      <td>-500.437171</td>\n",
       "      <td>1.500927e+03</td>\n",
       "      <td>-500.703932</td>\n",
       "      <td>1.494219e+03</td>\n",
       "      <td>-500.458365</td>\n",
       "      <td>30.463140</td>\n",
       "      <td>7.263288</td>\n",
       "      <td>8.702328</td>\n",
       "      <td>7.893893</td>\n",
       "      <td>2.924844</td>\n",
       "      <td>14.017742</td>\n",
       "      <td>2.504365</td>\n",
       "      <td>6.747483</td>\n",
       "      <td>25.048462</td>\n",
       "      <td>-500.233700</td>\n",
       "      <td>20.919853</td>\n",
       "      <td>-500.253794</td>\n",
       "      <td>24.949227</td>\n",
       "      <td>-500.213546</td>\n",
       "      <td>18.995924</td>\n",
       "      <td>-500.123034</td>\n",
       "      <td>14.975734</td>\n",
       "      <td>-500.704892</td>\n",
       "      <td>11.940294</td>\n",
       "      <td>-500.187742</td>\n",
       "      <td>10.988606</td>\n",
       "      <td>-500.458467</td>\n",
       "      <td>8.971105</td>\n",
       "      <td>-500.129462</td>\n",
       "      <td>14.983037</td>\n",
       "      <td>-500.728067</td>\n",
       "      <td>3.182770</td>\n",
       "      <td>12.640239</td>\n",
       "      <td>3.864733</td>\n",
       "      <td>3.845475</td>\n",
       "      <td>43.402215</td>\n",
       "      <td>4.251240</td>\n",
       "      <td>9.137262</td>\n",
       "      <td>7.722820</td>\n",
       "      <td>63.299712</td>\n",
       "      <td>2.461138</td>\n",
       "      <td>8.062878</td>\n",
       "      <td>2.040119</td>\n",
       "      <td>8.938947</td>\n",
       "    </tr>\n",
       "    <tr>\n",
       "      <th>50%</th>\n",
       "      <td>8.125839</td>\n",
       "      <td>8.593574</td>\n",
       "      <td>3.534895</td>\n",
       "      <td>37.202650</td>\n",
       "      <td>499.416120</td>\n",
       "      <td>54.610197</td>\n",
       "      <td>12.001174</td>\n",
       "      <td>6.008273</td>\n",
       "      <td>1001.072890</td>\n",
       "      <td>-300.263994</td>\n",
       "      <td>1301.579988</td>\n",
       "      <td>-499.784045</td>\n",
       "      <td>1300.211537</td>\n",
       "      <td>-499.713364</td>\n",
       "      <td>1201.569141</td>\n",
       "      <td>-499.532412</td>\n",
       "      <td>1050.029461</td>\n",
       "      <td>-499.663089</td>\n",
       "      <td>999.924821</td>\n",
       "      <td>-499.471777</td>\n",
       "      <td>12.000204</td>\n",
       "      <td>6.098580</td>\n",
       "      <td>4.469648e+04</td>\n",
       "      <td>3018.353876</td>\n",
       "      <td>2997.218088</td>\n",
       "      <td>2.309665</td>\n",
       "      <td>20.280214</td>\n",
       "      <td>12.098115</td>\n",
       "      <td>7.742580</td>\n",
       "      <td>29.835345</td>\n",
       "      <td>86.188892</td>\n",
       "      <td>1.808170</td>\n",
       "      <td>5.765802</td>\n",
       "      <td>0.617465</td>\n",
       "      <td>18.106867</td>\n",
       "      <td>143.232103</td>\n",
       "      <td>8.038311</td>\n",
       "      <td>7.280000</td>\n",
       "      <td>0.940863</td>\n",
       "      <td>1.600597e+03</td>\n",
       "      <td>-499.926134</td>\n",
       "      <td>1.600521e+03</td>\n",
       "      <td>-499.956767</td>\n",
       "      <td>1.600254e+03</td>\n",
       "      <td>-499.909524</td>\n",
       "      <td>1.599447e+03</td>\n",
       "      <td>-499.905974</td>\n",
       "      <td>32.841295</td>\n",
       "      <td>8.507298</td>\n",
       "      <td>10.152433</td>\n",
       "      <td>10.314632</td>\n",
       "      <td>3.623234</td>\n",
       "      <td>15.842836</td>\n",
       "      <td>3.271153</td>\n",
       "      <td>8.183673</td>\n",
       "      <td>29.099943</td>\n",
       "      <td>-499.973250</td>\n",
       "      <td>25.043289</td>\n",
       "      <td>-500.015439</td>\n",
       "      <td>27.982129</td>\n",
       "      <td>-499.930680</td>\n",
       "      <td>22.011231</td>\n",
       "      <td>-499.981902</td>\n",
       "      <td>18.017481</td>\n",
       "      <td>-499.837793</td>\n",
       "      <td>14.971014</td>\n",
       "      <td>-499.459786</td>\n",
       "      <td>15.000036</td>\n",
       "      <td>-499.802605</td>\n",
       "      <td>11.019433</td>\n",
       "      <td>-499.935317</td>\n",
       "      <td>19.960541</td>\n",
       "      <td>-500.048400</td>\n",
       "      <td>4.072412</td>\n",
       "      <td>15.641902</td>\n",
       "      <td>5.344073</td>\n",
       "      <td>7.685827</td>\n",
       "      <td>45.011244</td>\n",
       "      <td>5.066094</td>\n",
       "      <td>10.102433</td>\n",
       "      <td>9.218961</td>\n",
       "      <td>68.172738</td>\n",
       "      <td>2.984909</td>\n",
       "      <td>9.743623</td>\n",
       "      <td>2.748730</td>\n",
       "      <td>10.622456</td>\n",
       "    </tr>\n",
       "    <tr>\n",
       "      <th>75%</th>\n",
       "      <td>9.769917</td>\n",
       "      <td>10.213771</td>\n",
       "      <td>4.244161</td>\n",
       "      <td>40.039133</td>\n",
       "      <td>550.172183</td>\n",
       "      <td>65.023044</td>\n",
       "      <td>14.716595</td>\n",
       "      <td>6.798051</td>\n",
       "      <td>1205.620588</td>\n",
       "      <td>-299.981998</td>\n",
       "      <td>1448.630789</td>\n",
       "      <td>-400.615589</td>\n",
       "      <td>1449.464001</td>\n",
       "      <td>-400.985743</td>\n",
       "      <td>1352.880320</td>\n",
       "      <td>-401.638550</td>\n",
       "      <td>1199.425140</td>\n",
       "      <td>-401.161191</td>\n",
       "      <td>1099.719692</td>\n",
       "      <td>-401.511042</td>\n",
       "      <td>14.636766</td>\n",
       "      <td>6.801233</td>\n",
       "      <td>4.816821e+04</td>\n",
       "      <td>3676.769750</td>\n",
       "      <td>3601.998911</td>\n",
       "      <td>2.731794</td>\n",
       "      <td>21.717843</td>\n",
       "      <td>13.736996</td>\n",
       "      <td>8.565199</td>\n",
       "      <td>32.189933</td>\n",
       "      <td>90.010670</td>\n",
       "      <td>2.211861</td>\n",
       "      <td>6.389234</td>\n",
       "      <td>0.778271</td>\n",
       "      <td>20.088151</td>\n",
       "      <td>175.075656</td>\n",
       "      <td>11.013521</td>\n",
       "      <td>7.670000</td>\n",
       "      <td>1.210990</td>\n",
       "      <td>1.697658e+03</td>\n",
       "      <td>-499.433950</td>\n",
       "      <td>1.699218e+03</td>\n",
       "      <td>-499.373336</td>\n",
       "      <td>1.699483e+03</td>\n",
       "      <td>-498.857643</td>\n",
       "      <td>1.698525e+03</td>\n",
       "      <td>-499.064695</td>\n",
       "      <td>35.048006</td>\n",
       "      <td>9.809001</td>\n",
       "      <td>11.424971</td>\n",
       "      <td>13.446702</td>\n",
       "      <td>4.585705</td>\n",
       "      <td>18.013975</td>\n",
       "      <td>4.181748</td>\n",
       "      <td>9.548586</td>\n",
       "      <td>33.012536</td>\n",
       "      <td>-499.671261</td>\n",
       "      <td>28.008197</td>\n",
       "      <td>-499.785698</td>\n",
       "      <td>33.002798</td>\n",
       "      <td>-499.325739</td>\n",
       "      <td>25.998206</td>\n",
       "      <td>-499.812834</td>\n",
       "      <td>23.012470</td>\n",
       "      <td>-498.249730</td>\n",
       "      <td>19.034162</td>\n",
       "      <td>-400.118106</td>\n",
       "      <td>18.026190</td>\n",
       "      <td>-498.384187</td>\n",
       "      <td>14.019088</td>\n",
       "      <td>-499.436708</td>\n",
       "      <td>24.003170</td>\n",
       "      <td>-499.495378</td>\n",
       "      <td>5.063081</td>\n",
       "      <td>17.358217</td>\n",
       "      <td>7.788467</td>\n",
       "      <td>10.411296</td>\n",
       "      <td>46.275313</td>\n",
       "      <td>5.895527</td>\n",
       "      <td>11.035769</td>\n",
       "      <td>10.947813</td>\n",
       "      <td>72.686642</td>\n",
       "      <td>3.571351</td>\n",
       "      <td>11.134294</td>\n",
       "      <td>3.333216</td>\n",
       "      <td>12.104271</td>\n",
       "    </tr>\n",
       "    <tr>\n",
       "      <th>max</th>\n",
       "      <td>13.731330</td>\n",
       "      <td>14.596026</td>\n",
       "      <td>7.142594</td>\n",
       "      <td>53.477742</td>\n",
       "      <td>717.508837</td>\n",
       "      <td>484.967466</td>\n",
       "      <td>36.118275</td>\n",
       "      <td>9.703448</td>\n",
       "      <td>1521.980372</td>\n",
       "      <td>-273.776101</td>\n",
       "      <td>1809.194008</td>\n",
       "      <td>-296.383080</td>\n",
       "      <td>2499.129174</td>\n",
       "      <td>-292.155509</td>\n",
       "      <td>1817.199290</td>\n",
       "      <td>-76.397327</td>\n",
       "      <td>1922.636637</td>\n",
       "      <td>-139.753025</td>\n",
       "      <td>1706.307502</td>\n",
       "      <td>-191.718480</td>\n",
       "      <td>37.980648</td>\n",
       "      <td>9.698407</td>\n",
       "      <td>3.428099e+06</td>\n",
       "      <td>629638.977914</td>\n",
       "      <td>718684.955855</td>\n",
       "      <td>39.379272</td>\n",
       "      <td>28.824507</td>\n",
       "      <td>24.480271</td>\n",
       "      <td>13.617072</td>\n",
       "      <td>38.351193</td>\n",
       "      <td>100.000000</td>\n",
       "      <td>9.688980</td>\n",
       "      <td>12.719177</td>\n",
       "      <td>3.778064</td>\n",
       "      <td>66.117188</td>\n",
       "      <td>265.983123</td>\n",
       "      <td>40.000000</td>\n",
       "      <td>15.500000</td>\n",
       "      <td>4.102454</td>\n",
       "      <td>2.103104e+03</td>\n",
       "      <td>-57.195404</td>\n",
       "      <td>2.114907e+03</td>\n",
       "      <td>-142.527229</td>\n",
       "      <td>2.013156e+03</td>\n",
       "      <td>-150.937035</td>\n",
       "      <td>2.398904e+03</td>\n",
       "      <td>-30.601828</td>\n",
       "      <td>45.933934</td>\n",
       "      <td>16.081632</td>\n",
       "      <td>17.081278</td>\n",
       "      <td>22.458114</td>\n",
       "      <td>17.788925</td>\n",
       "      <td>29.459575</td>\n",
       "      <td>9.634565</td>\n",
       "      <td>22.276364</td>\n",
       "      <td>52.651399</td>\n",
       "      <td>-127.875565</td>\n",
       "      <td>35.152122</td>\n",
       "      <td>-211.999273</td>\n",
       "      <td>44.260464</td>\n",
       "      <td>-191.678810</td>\n",
       "      <td>35.072841</td>\n",
       "      <td>-159.742331</td>\n",
       "      <td>30.115735</td>\n",
       "      <td>-245.239184</td>\n",
       "      <td>31.269706</td>\n",
       "      <td>-6.506986</td>\n",
       "      <td>43.709931</td>\n",
       "      <td>-244.483566</td>\n",
       "      <td>27.926001</td>\n",
       "      <td>-137.740004</td>\n",
       "      <td>32.188906</td>\n",
       "      <td>-104.427459</td>\n",
       "      <td>26.811643</td>\n",
       "      <td>23.264738</td>\n",
       "      <td>17.042505</td>\n",
       "      <td>26.000772</td>\n",
       "      <td>52.756638</td>\n",
       "      <td>16.001945</td>\n",
       "      <td>17.031899</td>\n",
       "      <td>19.615720</td>\n",
       "      <td>100.000000</td>\n",
       "      <td>8.245022</td>\n",
       "      <td>19.552149</td>\n",
       "      <td>5.804178</td>\n",
       "      <td>22.317730</td>\n",
       "    </tr>\n",
       "  </tbody>\n",
       "</table>\n",
       "</div>"
      ],
      "text/plain": [
       "       rougher.input.feed_au  rougher.input.feed_ag  rougher.input.feed_pb  \\\n",
       "count           19439.000000           19439.000000           19339.000000   \n",
       "mean                8.266097               8.794927               3.598085   \n",
       "std                 1.955092               1.936847               1.049486   \n",
       "min                 0.010000               0.010000               0.010000   \n",
       "25%                 6.854384               7.237967               2.887280   \n",
       "50%                 8.125839               8.593574               3.534895   \n",
       "75%                 9.769917              10.213771               4.244161   \n",
       "max                13.731330              14.596026               7.142594   \n",
       "\n",
       "       rougher.input.feed_sol  rougher.input.feed_rate  \\\n",
       "count            19340.000000             19428.000000   \n",
       "mean                36.695114               478.320042   \n",
       "std                  5.145445               105.373758   \n",
       "min                  0.010000                 0.002986   \n",
       "25%                 34.207799               416.525453   \n",
       "50%                 37.202650               499.416120   \n",
       "75%                 40.039133               550.172183   \n",
       "max                 53.477742               717.508837   \n",
       "\n",
       "       rougher.input.feed_size  rougher.input.floatbank10_sulfate  \\\n",
       "count             19294.000000                       19405.000000   \n",
       "mean                 58.970310                          12.334373   \n",
       "std                  21.634478                           3.427317   \n",
       "min                   0.046369                           0.001083   \n",
       "25%                  47.435103                          10.000362   \n",
       "50%                  54.610197                          12.001174   \n",
       "75%                  65.023044                          14.716595   \n",
       "max                 484.967466                          36.118275   \n",
       "\n",
       "       rougher.input.floatbank10_xanthate  rougher.state.floatbank10_a_air  \\\n",
       "count                        19431.000000                     19438.000000   \n",
       "mean                             6.021474                      1105.315068   \n",
       "std                              1.127263                       160.826798   \n",
       "min                              0.000568                        -0.042069   \n",
       "25%                              5.398678                       999.661867   \n",
       "50%                              6.008273                      1001.072890   \n",
       "75%                              6.798051                      1205.620588   \n",
       "max                              9.703448                      1521.980372   \n",
       "\n",
       "       rougher.state.floatbank10_a_level  rougher.state.floatbank10_b_air  \\\n",
       "count                       19438.000000                     19438.000000   \n",
       "mean                         -376.610690                      1320.221139   \n",
       "std                            93.909667                       176.287095   \n",
       "min                          -657.949759                        -0.721806   \n",
       "25%                          -499.835165                      1199.626115   \n",
       "50%                          -300.263994                      1301.579988   \n",
       "75%                          -299.981998                      1448.630789   \n",
       "max                          -273.776101                      1809.194008   \n",
       "\n",
       "       rougher.state.floatbank10_b_level  rougher.state.floatbank10_c_air  \\\n",
       "count                       19438.000000                     19438.000000   \n",
       "mean                         -467.247826                      1299.968799   \n",
       "std                            54.673142                       202.804325   \n",
       "min                          -650.260008                        -0.056636   \n",
       "25%                          -500.201130                      1151.076301   \n",
       "50%                          -499.784045                      1300.211537   \n",
       "75%                          -400.615589                      1449.464001   \n",
       "max                          -296.383080                      2499.129174   \n",
       "\n",
       "       rougher.state.floatbank10_c_level  rougher.state.floatbank10_d_air  \\\n",
       "count                       19438.000000                     19439.000000   \n",
       "mean                         -467.716946                      1211.563299   \n",
       "std                            53.534825                       204.019326   \n",
       "min                          -647.544439                        -0.992219   \n",
       "25%                          -500.217218                      1061.051788   \n",
       "50%                          -499.713364                      1201.569141   \n",
       "75%                          -400.985743                      1352.880320   \n",
       "max                          -292.155509                      1817.199290   \n",
       "\n",
       "       rougher.state.floatbank10_d_level  rougher.state.floatbank10_e_air  \\\n",
       "count                       19439.000000                     19003.000000   \n",
       "mean                         -468.239912                      1080.869685   \n",
       "std                            53.921458                       172.149992   \n",
       "min                          -648.390665                        -1.982295   \n",
       "25%                          -500.386386                       998.675263   \n",
       "50%                          -499.532412                      1050.029461   \n",
       "75%                          -401.638550                      1199.425140   \n",
       "max                           -76.397327                      1922.636637   \n",
       "\n",
       "       rougher.state.floatbank10_e_level  rougher.state.floatbank10_f_air  \\\n",
       "count                       19439.000000                     19439.000000   \n",
       "mean                         -466.037742                      1025.274256   \n",
       "std                            57.384424                       164.487837   \n",
       "min                          -649.443911                        -2.593390   \n",
       "25%                          -500.232191                       900.995511   \n",
       "50%                          -499.663089                       999.924821   \n",
       "75%                          -401.161191                      1099.719692   \n",
       "max                          -139.753025                      1706.307502   \n",
       "\n",
       "       rougher.state.floatbank10_f_level  rougher.input.floatbank11_sulfate  \\\n",
       "count                       19439.000000                       19395.000000   \n",
       "mean                         -466.265327                          12.064140   \n",
       "std                            57.850263                           3.784221   \n",
       "min                          -649.949283                           0.000077   \n",
       "25%                          -500.522553                           9.998460   \n",
       "50%                          -499.471777                          12.000204   \n",
       "75%                          -401.511042                          14.636766   \n",
       "max                          -191.718480                          37.980648   \n",
       "\n",
       "       rougher.input.floatbank11_xanthate  \\\n",
       "count                        18986.000000   \n",
       "mean                             6.065533   \n",
       "std                              1.099118   \n",
       "min                              0.000290   \n",
       "25%                              5.402368   \n",
       "50%                              6.098580   \n",
       "75%                              6.801233   \n",
       "max                              9.698407   \n",
       "\n",
       "       rougher.calculation.sulfate_to_au_concentrate  \\\n",
       "count                                   1.943700e+04   \n",
       "mean                                    4.217119e+04   \n",
       "std                                     3.243621e+05   \n",
       "min                                    -4.223520e+07   \n",
       "25%                                     4.070095e+04   \n",
       "50%                                     4.469648e+04   \n",
       "75%                                     4.816821e+04   \n",
       "max                                     3.428099e+06   \n",
       "\n",
       "       rougher.calculation.floatbank10_sulfate_to_au_feed  \\\n",
       "count                                       19437.000000    \n",
       "mean                                         3393.052498    \n",
       "std                                          4943.845943    \n",
       "min                                          -486.598675    \n",
       "25%                                          2611.425833    \n",
       "50%                                          3018.353876    \n",
       "75%                                          3676.769750    \n",
       "max                                        629638.977914    \n",
       "\n",
       "       rougher.calculation.floatbank11_sulfate_to_au_feed  \\\n",
       "count                                       19437.000000    \n",
       "mean                                         3256.854171    \n",
       "std                                          5781.423659    \n",
       "min                                          -264.982785    \n",
       "25%                                          2551.437587    \n",
       "50%                                          2997.218088    \n",
       "75%                                          3601.998911    \n",
       "max                                        718684.955855    \n",
       "\n",
       "       rougher.calculation.au_pb_ratio  rougher.output.concentrate_au  \\\n",
       "count                     19439.000000                   19439.000000   \n",
       "mean                          2.420119                      19.772000   \n",
       "std                           0.814935                       3.753600   \n",
       "min                          -0.010548                       0.000000   \n",
       "25%                           2.035434                      18.802523   \n",
       "50%                           2.309665                      20.280214   \n",
       "75%                           2.731794                      21.717843   \n",
       "max                          39.379272                      28.824507   \n",
       "\n",
       "       rougher.output.concentrate_ag  rougher.output.concentrate_pb  \\\n",
       "count                   19439.000000                   19439.000000   \n",
       "mean                       11.994759                       7.606272   \n",
       "std                         2.733862                       1.796757   \n",
       "min                         0.000000                       0.000000   \n",
       "25%                        10.628337                       6.725987   \n",
       "50%                        12.098115                       7.742580   \n",
       "75%                        13.736996                       8.565199   \n",
       "max                        24.480271                      13.617072   \n",
       "\n",
       "       rougher.output.concentrate_sol  rougher.output.recovery  \\\n",
       "count                    19416.000000             19439.000000   \n",
       "mean                        28.805571                83.328587   \n",
       "std                          5.944207                14.148086   \n",
       "min                          0.000000                 0.000000   \n",
       "25%                         27.224120                81.037957   \n",
       "50%                         29.835345                86.188892   \n",
       "75%                         32.189933                90.010670   \n",
       "max                         38.351193               100.000000   \n",
       "\n",
       "       rougher.output.tail_au  rougher.output.tail_ag  rougher.output.tail_pb  \\\n",
       "count            19439.000000            19438.000000            19439.000000   \n",
       "mean                 1.816391                5.588982                0.645782   \n",
       "std                  0.680046                1.111288                0.251526   \n",
       "min                  0.020676                0.594562                0.007566   \n",
       "25%                  1.404207                4.889892                0.477728   \n",
       "50%                  1.808170                5.765802                0.617465   \n",
       "75%                  2.211861                6.389234                0.778271   \n",
       "max                  9.688980               12.719177                3.778064   \n",
       "\n",
       "       rougher.output.tail_sol  primary_cleaner.input.sulfate  \\\n",
       "count             19439.000000                   19415.000000   \n",
       "mean                 18.057106                     144.624774   \n",
       "std                   3.449218                      44.464071   \n",
       "min                  10.014648                       0.003112   \n",
       "25%                  15.822525                     114.107029   \n",
       "50%                  18.106867                     143.232103   \n",
       "75%                  20.088151                     175.075656   \n",
       "max                  66.117188                     265.983123   \n",
       "\n",
       "       primary_cleaner.input.depressant  primary_cleaner.input.feed_size  \\\n",
       "count                      19402.000000                     19439.000000   \n",
       "mean                           8.817039                         7.307078   \n",
       "std                            3.286186                         0.613509   \n",
       "min                            0.000000                         1.080000   \n",
       "25%                            6.076909                         6.940000   \n",
       "50%                            8.038311                         7.280000   \n",
       "75%                           11.013521                         7.670000   \n",
       "max                           40.000000                        15.500000   \n",
       "\n",
       "       primary_cleaner.input.xanthate  primary_cleaner.state.floatbank8_a_air  \\\n",
       "count                    19335.000000                            1.943500e+04   \n",
       "mean                         1.021795                            1.589354e+03   \n",
       "std                          0.513254                            1.289968e+02   \n",
       "min                          0.000005                            5.445860e-32   \n",
       "25%                          0.697224                            1.505063e+03   \n",
       "50%                          0.940863                            1.600597e+03   \n",
       "75%                          1.210990                            1.697658e+03   \n",
       "max                          4.102454                            2.103104e+03   \n",
       "\n",
       "       primary_cleaner.state.floatbank8_a_level  \\\n",
       "count                              19438.000000   \n",
       "mean                                -491.195012   \n",
       "std                                   32.431842   \n",
       "min                                 -798.641662   \n",
       "25%                                 -500.308544   \n",
       "50%                                 -499.926134   \n",
       "75%                                 -499.433950   \n",
       "max                                  -57.195404   \n",
       "\n",
       "       primary_cleaner.state.floatbank8_b_air  \\\n",
       "count                            1.943500e+04   \n",
       "mean                             1.591344e+03   \n",
       "std                              1.318109e+02   \n",
       "min                              6.647490e-32   \n",
       "25%                              1.503630e+03   \n",
       "50%                              1.600521e+03   \n",
       "75%                              1.699218e+03   \n",
       "max                              2.114907e+03   \n",
       "\n",
       "       primary_cleaner.state.floatbank8_b_level  \\\n",
       "count                              19438.000000   \n",
       "mean                                -492.192978   \n",
       "std                                   33.794822   \n",
       "min                                 -799.997015   \n",
       "25%                                 -500.437171   \n",
       "50%                                 -499.956767   \n",
       "75%                                 -499.373336   \n",
       "max                                 -142.527229   \n",
       "\n",
       "       primary_cleaner.state.floatbank8_c_air  \\\n",
       "count                            1.943700e+04   \n",
       "mean                             1.586669e+03   \n",
       "std                              1.361114e+02   \n",
       "min                              4.033736e-32   \n",
       "25%                              1.500927e+03   \n",
       "50%                              1.600254e+03   \n",
       "75%                              1.699483e+03   \n",
       "max                              2.013156e+03   \n",
       "\n",
       "       primary_cleaner.state.floatbank8_c_level  \\\n",
       "count                              19438.000000   \n",
       "mean                                -491.980070   \n",
       "std                                   32.711455   \n",
       "min                                 -799.960571   \n",
       "25%                                 -500.703932   \n",
       "50%                                 -499.909524   \n",
       "75%                                 -498.857643   \n",
       "max                                 -150.937035   \n",
       "\n",
       "       primary_cleaner.state.floatbank8_d_air  \\\n",
       "count                            1.943600e+04   \n",
       "mean                             1.542912e+03   \n",
       "std                              2.461996e+02   \n",
       "min                              4.039220e-32   \n",
       "25%                              1.494219e+03   \n",
       "50%                              1.599447e+03   \n",
       "75%                              1.698525e+03   \n",
       "max                              2.398904e+03   \n",
       "\n",
       "       primary_cleaner.state.floatbank8_d_level  \\\n",
       "count                              19438.000000   \n",
       "mean                                -488.017382   \n",
       "std                                   43.959780   \n",
       "min                                 -799.794250   \n",
       "25%                                 -500.458365   \n",
       "50%                                 -499.905974   \n",
       "75%                                 -499.064695   \n",
       "max                                  -30.601828   \n",
       "\n",
       "       primary_cleaner.output.concentrate_au  \\\n",
       "count                           19439.000000   \n",
       "mean                               32.119400   \n",
       "std                                 5.627611   \n",
       "min                                 0.000000   \n",
       "25%                                30.463140   \n",
       "50%                                32.841295   \n",
       "75%                                35.048006   \n",
       "max                                45.933934   \n",
       "\n",
       "       primary_cleaner.output.concentrate_ag  \\\n",
       "count                           19439.000000   \n",
       "mean                                8.442408   \n",
       "std                                 2.054465   \n",
       "min                                 0.000000   \n",
       "25%                                 7.263288   \n",
       "50%                                 8.507298   \n",
       "75%                                 9.809001   \n",
       "max                                16.081632   \n",
       "\n",
       "       primary_cleaner.output.concentrate_pb  \\\n",
       "count                           19323.000000   \n",
       "mean                                9.829530   \n",
       "std                                 2.556843   \n",
       "min                                 0.000000   \n",
       "25%                                 8.702328   \n",
       "50%                                10.152433   \n",
       "75%                                11.424971   \n",
       "max                                17.081278   \n",
       "\n",
       "       primary_cleaner.output.concentrate_sol  primary_cleaner.output.tail_au  \\\n",
       "count                            19069.000000                    19439.000000   \n",
       "mean                                10.489499                        3.914179   \n",
       "std                                  3.909639                        1.593034   \n",
       "min                                  0.000000                        0.000000   \n",
       "25%                                  7.893893                        2.924844   \n",
       "50%                                 10.314632                        3.623234   \n",
       "75%                                 13.446702                        4.585705   \n",
       "max                                 22.458114                       17.788925   \n",
       "\n",
       "       primary_cleaner.output.tail_ag  primary_cleaner.output.tail_pb  \\\n",
       "count                    19435.000000                    19418.000000   \n",
       "mean                        16.145826                        3.435656   \n",
       "std                          3.548598                        1.392536   \n",
       "min                          0.000000                        0.000000   \n",
       "25%                         14.017742                        2.504365   \n",
       "50%                         15.842836                        3.271153   \n",
       "75%                         18.013975                        4.181748   \n",
       "max                         29.459575                        9.634565   \n",
       "\n",
       "       primary_cleaner.output.tail_sol  \\\n",
       "count                     19377.000000   \n",
       "mean                          7.973209   \n",
       "std                           2.212677   \n",
       "min                           0.000000   \n",
       "25%                           6.747483   \n",
       "50%                           8.183673   \n",
       "75%                           9.548586   \n",
       "max                          22.276364   \n",
       "\n",
       "       secondary_cleaner.state.floatbank2_a_air  \\\n",
       "count                              19219.000000   \n",
       "mean                                  28.705564   \n",
       "std                                    5.458789   \n",
       "min                                    0.077503   \n",
       "25%                                   25.048462   \n",
       "50%                                   29.099943   \n",
       "75%                                   33.012536   \n",
       "max                                   52.651399   \n",
       "\n",
       "       secondary_cleaner.state.floatbank2_a_level  \\\n",
       "count                                19438.000000   \n",
       "mean                                  -502.367331   \n",
       "std                                     53.571950   \n",
       "min                                   -799.606441   \n",
       "25%                                   -500.233700   \n",
       "50%                                   -499.973250   \n",
       "75%                                   -499.671261   \n",
       "max                                   -127.875565   \n",
       "\n",
       "       secondary_cleaner.state.floatbank2_b_air  \\\n",
       "count                              19416.000000   \n",
       "mean                                  24.106800   \n",
       "std                                    5.749616   \n",
       "min                                    0.000000   \n",
       "25%                                   20.919853   \n",
       "50%                                   25.043289   \n",
       "75%                                   28.008197   \n",
       "max                                   35.152122   \n",
       "\n",
       "       secondary_cleaner.state.floatbank2_b_level  \\\n",
       "count                                19438.000000   \n",
       "mean                                  -503.230712   \n",
       "std                                     56.567724   \n",
       "min                                   -799.873878   \n",
       "25%                                   -500.253794   \n",
       "50%                                   -500.015439   \n",
       "75%                                   -499.785698   \n",
       "max                                   -211.999273   \n",
       "\n",
       "       secondary_cleaner.state.floatbank3_a_air  \\\n",
       "count                              19426.000000   \n",
       "mean                                  28.199338   \n",
       "std                                    6.134908   \n",
       "min                                    0.000000   \n",
       "25%                                   24.949227   \n",
       "50%                                   27.982129   \n",
       "75%                                   33.002798   \n",
       "max                                   44.260464   \n",
       "\n",
       "       secondary_cleaner.state.floatbank3_a_level  \\\n",
       "count                                19438.000000   \n",
       "mean                                  -486.203350   \n",
       "std                                     54.412349   \n",
       "min                                   -799.755798   \n",
       "25%                                   -500.213546   \n",
       "50%                                   -499.930680   \n",
       "75%                                   -499.325739   \n",
       "max                                   -191.678810   \n",
       "\n",
       "       secondary_cleaner.state.floatbank3_b_air  \\\n",
       "count                              19438.000000   \n",
       "mean                                  22.200645   \n",
       "std                                    5.574001   \n",
       "min                                    0.000000   \n",
       "25%                                   18.995924   \n",
       "50%                                   22.011231   \n",
       "75%                                   25.998206   \n",
       "max                                   35.072841   \n",
       "\n",
       "       secondary_cleaner.state.floatbank3_b_level  \\\n",
       "count                                19438.000000   \n",
       "mean                                  -493.742107   \n",
       "std                                     43.372158   \n",
       "min                                   -809.333008   \n",
       "25%                                   -500.123034   \n",
       "50%                                   -499.981902   \n",
       "75%                                   -499.812834   \n",
       "max                                   -159.742331   \n",
       "\n",
       "       secondary_cleaner.state.floatbank4_a_air  \\\n",
       "count                              19433.000000   \n",
       "mean                                  18.987674   \n",
       "std                                    5.411058   \n",
       "min                                    0.000000   \n",
       "25%                                   14.975734   \n",
       "50%                                   18.017481   \n",
       "75%                                   23.012470   \n",
       "max                                   30.115735   \n",
       "\n",
       "       secondary_cleaner.state.floatbank4_a_level  \\\n",
       "count                                19438.000000   \n",
       "mean                                  -485.894516   \n",
       "std                                     47.758570   \n",
       "min                                   -799.798523   \n",
       "25%                                   -500.704892   \n",
       "50%                                   -499.837793   \n",
       "75%                                   -498.249730   \n",
       "max                                   -245.239184   \n",
       "\n",
       "       secondary_cleaner.state.floatbank4_b_air  \\\n",
       "count                              19438.000000   \n",
       "mean                                  15.010366   \n",
       "std                                    4.890228   \n",
       "min                                    0.000000   \n",
       "25%                                   11.940294   \n",
       "50%                                   14.971014   \n",
       "75%                                   19.034162   \n",
       "max                                   31.269706   \n",
       "\n",
       "       secondary_cleaner.state.floatbank4_b_level  \\\n",
       "count                                19438.000000   \n",
       "mean                                  -461.078636   \n",
       "std                                     67.405524   \n",
       "min                                   -800.836914   \n",
       "25%                                   -500.187742   \n",
       "50%                                   -499.459786   \n",
       "75%                                   -400.118106   \n",
       "max                                     -6.506986   \n",
       "\n",
       "       secondary_cleaner.state.floatbank5_a_air  \\\n",
       "count                              19438.000000   \n",
       "mean                                  15.694452   \n",
       "std                                    5.510974   \n",
       "min                                   -0.372054   \n",
       "25%                                   10.988606   \n",
       "50%                                   15.000036   \n",
       "75%                                   18.026190   \n",
       "max                                   43.709931   \n",
       "\n",
       "       secondary_cleaner.state.floatbank5_a_level  \\\n",
       "count                                19438.000000   \n",
       "mean                                  -488.684065   \n",
       "std                                     34.533396   \n",
       "min                                   -797.323986   \n",
       "25%                                   -500.458467   \n",
       "50%                                   -499.802605   \n",
       "75%                                   -498.384187   \n",
       "max                                   -244.483566   \n",
       "\n",
       "       secondary_cleaner.state.floatbank5_b_air  \\\n",
       "count                              19438.000000   \n",
       "mean                                  12.198224   \n",
       "std                                    5.333024   \n",
       "min                                    0.528083   \n",
       "25%                                    8.971105   \n",
       "50%                                   11.019433   \n",
       "75%                                   14.019088   \n",
       "max                                   27.926001   \n",
       "\n",
       "       secondary_cleaner.state.floatbank5_b_level  \\\n",
       "count                                19438.000000   \n",
       "mean                                  -487.149827   \n",
       "std                                     38.347312   \n",
       "min                                   -800.220337   \n",
       "25%                                   -500.129462   \n",
       "50%                                   -499.935317   \n",
       "75%                                   -499.436708   \n",
       "max                                   -137.740004   \n",
       "\n",
       "       secondary_cleaner.state.floatbank6_a_air  \\\n",
       "count                              19437.000000   \n",
       "mean                                  18.959024   \n",
       "std                                    5.550498   \n",
       "min                                   -0.079426   \n",
       "25%                                   14.983037   \n",
       "50%                                   19.960541   \n",
       "75%                                   24.003170   \n",
       "max                                   32.188906   \n",
       "\n",
       "       secondary_cleaner.state.floatbank6_a_level  \\\n",
       "count                                19438.000000   \n",
       "mean                                  -505.436305   \n",
       "std                                     37.689057   \n",
       "min                                   -809.741464   \n",
       "25%                                   -500.728067   \n",
       "50%                                   -500.048400   \n",
       "75%                                   -499.495378   \n",
       "max                                   -104.427459   \n",
       "\n",
       "       secondary_cleaner.output.tail_au  secondary_cleaner.output.tail_ag  \\\n",
       "count                      19439.000000                      19437.000000   \n",
       "mean                           4.339625                         14.586833   \n",
       "std                            2.326751                          4.265202   \n",
       "min                            0.000000                          0.000000   \n",
       "25%                            3.182770                         12.640239   \n",
       "50%                            4.072412                         15.641902   \n",
       "75%                            5.063081                         17.358217   \n",
       "max                           26.811643                         23.264738   \n",
       "\n",
       "       secondary_cleaner.output.tail_pb  secondary_cleaner.output.tail_sol  \\\n",
       "count                      19427.000000                       17691.000000   \n",
       "mean                           5.777703                           7.167247   \n",
       "std                            2.774598                           3.916079   \n",
       "min                            0.000000                           0.000000   \n",
       "25%                            3.864733                           3.845475   \n",
       "50%                            5.344073                           7.685827   \n",
       "75%                            7.788467                          10.411296   \n",
       "max                           17.042505                          26.000772   \n",
       "\n",
       "       final.output.concentrate_au  final.output.concentrate_ag  \\\n",
       "count                 19439.000000                 19438.000000   \n",
       "mean                     44.076513                     5.168470   \n",
       "std                       5.129784                     1.372348   \n",
       "min                       0.000000                     0.000000   \n",
       "25%                      43.402215                     4.251240   \n",
       "50%                      45.011244                     5.066094   \n",
       "75%                      46.275313                     5.895527   \n",
       "max                      52.756638                    16.001945   \n",
       "\n",
       "       final.output.concentrate_pb  final.output.concentrate_sol  \\\n",
       "count                 19438.000000                  19228.000000   \n",
       "mean                      9.978895                      9.501224   \n",
       "std                       1.669240                      2.787537   \n",
       "min                       0.000000                      0.000000   \n",
       "25%                       9.137262                      7.722820   \n",
       "50%                      10.102433                      9.218961   \n",
       "75%                      11.035769                     10.947813   \n",
       "max                      17.031899                     19.615720   \n",
       "\n",
       "       final.output.recovery  final.output.tail_au  final.output.tail_ag  \\\n",
       "count           19439.000000          19439.000000          19438.000000   \n",
       "mean               67.050208              3.042467              9.688589   \n",
       "std                10.125840              0.922808              2.328642   \n",
       "min                 0.000000              0.000000              0.000000   \n",
       "25%                63.299712              2.461138              8.062878   \n",
       "50%                68.172738              2.984909              9.743623   \n",
       "75%                72.686642              3.571351             11.134294   \n",
       "max               100.000000              8.245022             19.552149   \n",
       "\n",
       "       final.output.tail_pb  final.output.tail_sol  \n",
       "count          19338.000000           19433.000000  \n",
       "mean               2.705795              10.583728  \n",
       "std                0.949077               2.868782  \n",
       "min                0.000000               0.000000  \n",
       "25%                2.040119               8.938947  \n",
       "50%                2.748730              10.622456  \n",
       "75%                3.333216              12.104271  \n",
       "max                5.804178              22.317730  "
      ]
     },
     "execution_count": 4,
     "metadata": {},
     "output_type": "execute_result"
    }
   ],
   "source": [
    "df_full.describe()"
   ]
  },
  {
   "cell_type": "code",
   "execution_count": 5,
   "metadata": {
    "scrolled": true
   },
   "outputs": [
    {
     "data": {
      "text/html": [
       "<div>\n",
       "<style scoped>\n",
       "    .dataframe tbody tr th:only-of-type {\n",
       "        vertical-align: middle;\n",
       "    }\n",
       "\n",
       "    .dataframe tbody tr th {\n",
       "        vertical-align: top;\n",
       "    }\n",
       "\n",
       "    .dataframe thead th {\n",
       "        text-align: right;\n",
       "    }\n",
       "</style>\n",
       "<table border=\"1\" class=\"dataframe\">\n",
       "  <thead>\n",
       "    <tr style=\"text-align: right;\">\n",
       "      <th></th>\n",
       "      <th>date</th>\n",
       "      <th>rougher.input.feed_au</th>\n",
       "      <th>rougher.input.feed_ag</th>\n",
       "      <th>rougher.input.feed_pb</th>\n",
       "      <th>rougher.input.feed_sol</th>\n",
       "      <th>rougher.input.feed_rate</th>\n",
       "      <th>rougher.input.feed_size</th>\n",
       "      <th>rougher.input.floatbank10_sulfate</th>\n",
       "      <th>rougher.input.floatbank10_xanthate</th>\n",
       "      <th>rougher.state.floatbank10_a_air</th>\n",
       "      <th>rougher.state.floatbank10_a_level</th>\n",
       "      <th>rougher.state.floatbank10_b_air</th>\n",
       "      <th>rougher.state.floatbank10_b_level</th>\n",
       "      <th>rougher.state.floatbank10_c_air</th>\n",
       "      <th>rougher.state.floatbank10_c_level</th>\n",
       "      <th>rougher.state.floatbank10_d_air</th>\n",
       "      <th>rougher.state.floatbank10_d_level</th>\n",
       "      <th>rougher.state.floatbank10_e_air</th>\n",
       "      <th>rougher.state.floatbank10_e_level</th>\n",
       "      <th>rougher.state.floatbank10_f_air</th>\n",
       "      <th>rougher.state.floatbank10_f_level</th>\n",
       "      <th>rougher.input.floatbank11_sulfate</th>\n",
       "      <th>rougher.input.floatbank11_xanthate</th>\n",
       "      <th>rougher.calculation.sulfate_to_au_concentrate</th>\n",
       "      <th>rougher.calculation.floatbank10_sulfate_to_au_feed</th>\n",
       "      <th>rougher.calculation.floatbank11_sulfate_to_au_feed</th>\n",
       "      <th>rougher.calculation.au_pb_ratio</th>\n",
       "      <th>rougher.output.concentrate_au</th>\n",
       "      <th>rougher.output.concentrate_ag</th>\n",
       "      <th>rougher.output.concentrate_pb</th>\n",
       "      <th>rougher.output.concentrate_sol</th>\n",
       "      <th>rougher.output.recovery</th>\n",
       "      <th>rougher.output.tail_au</th>\n",
       "      <th>rougher.output.tail_ag</th>\n",
       "      <th>rougher.output.tail_pb</th>\n",
       "      <th>rougher.output.tail_sol</th>\n",
       "      <th>primary_cleaner.input.sulfate</th>\n",
       "      <th>primary_cleaner.input.depressant</th>\n",
       "      <th>primary_cleaner.input.feed_size</th>\n",
       "      <th>primary_cleaner.input.xanthate</th>\n",
       "      <th>primary_cleaner.state.floatbank8_a_air</th>\n",
       "      <th>primary_cleaner.state.floatbank8_a_level</th>\n",
       "      <th>primary_cleaner.state.floatbank8_b_air</th>\n",
       "      <th>primary_cleaner.state.floatbank8_b_level</th>\n",
       "      <th>primary_cleaner.state.floatbank8_c_air</th>\n",
       "      <th>primary_cleaner.state.floatbank8_c_level</th>\n",
       "      <th>primary_cleaner.state.floatbank8_d_air</th>\n",
       "      <th>primary_cleaner.state.floatbank8_d_level</th>\n",
       "      <th>primary_cleaner.output.concentrate_au</th>\n",
       "      <th>primary_cleaner.output.concentrate_ag</th>\n",
       "      <th>primary_cleaner.output.concentrate_pb</th>\n",
       "      <th>primary_cleaner.output.concentrate_sol</th>\n",
       "      <th>primary_cleaner.output.tail_au</th>\n",
       "      <th>primary_cleaner.output.tail_ag</th>\n",
       "      <th>primary_cleaner.output.tail_pb</th>\n",
       "      <th>primary_cleaner.output.tail_sol</th>\n",
       "      <th>secondary_cleaner.state.floatbank2_a_air</th>\n",
       "      <th>secondary_cleaner.state.floatbank2_a_level</th>\n",
       "      <th>secondary_cleaner.state.floatbank2_b_air</th>\n",
       "      <th>secondary_cleaner.state.floatbank2_b_level</th>\n",
       "      <th>secondary_cleaner.state.floatbank3_a_air</th>\n",
       "      <th>secondary_cleaner.state.floatbank3_a_level</th>\n",
       "      <th>secondary_cleaner.state.floatbank3_b_air</th>\n",
       "      <th>secondary_cleaner.state.floatbank3_b_level</th>\n",
       "      <th>secondary_cleaner.state.floatbank4_a_air</th>\n",
       "      <th>secondary_cleaner.state.floatbank4_a_level</th>\n",
       "      <th>secondary_cleaner.state.floatbank4_b_air</th>\n",
       "      <th>secondary_cleaner.state.floatbank4_b_level</th>\n",
       "      <th>secondary_cleaner.state.floatbank5_a_air</th>\n",
       "      <th>secondary_cleaner.state.floatbank5_a_level</th>\n",
       "      <th>secondary_cleaner.state.floatbank5_b_air</th>\n",
       "      <th>secondary_cleaner.state.floatbank5_b_level</th>\n",
       "      <th>secondary_cleaner.state.floatbank6_a_air</th>\n",
       "      <th>secondary_cleaner.state.floatbank6_a_level</th>\n",
       "      <th>secondary_cleaner.output.tail_au</th>\n",
       "      <th>secondary_cleaner.output.tail_ag</th>\n",
       "      <th>secondary_cleaner.output.tail_pb</th>\n",
       "      <th>secondary_cleaner.output.tail_sol</th>\n",
       "      <th>final.output.concentrate_au</th>\n",
       "      <th>final.output.concentrate_ag</th>\n",
       "      <th>final.output.concentrate_pb</th>\n",
       "      <th>final.output.concentrate_sol</th>\n",
       "      <th>final.output.recovery</th>\n",
       "      <th>final.output.tail_au</th>\n",
       "      <th>final.output.tail_ag</th>\n",
       "      <th>final.output.tail_pb</th>\n",
       "      <th>final.output.tail_sol</th>\n",
       "    </tr>\n",
       "  </thead>\n",
       "  <tbody>\n",
       "    <tr>\n",
       "      <th>0</th>\n",
       "      <td>2016-01-15 00:00:00</td>\n",
       "      <td>6.486150</td>\n",
       "      <td>6.100378</td>\n",
       "      <td>2.284912</td>\n",
       "      <td>36.808594</td>\n",
       "      <td>523.546326</td>\n",
       "      <td>55.486599</td>\n",
       "      <td>11.986616</td>\n",
       "      <td>6.007990</td>\n",
       "      <td>999.706909</td>\n",
       "      <td>-404.066986</td>\n",
       "      <td>1603.011353</td>\n",
       "      <td>-434.715027</td>\n",
       "      <td>1602.375000</td>\n",
       "      <td>-442.204468</td>\n",
       "      <td>1598.937256</td>\n",
       "      <td>-451.294128</td>\n",
       "      <td>1404.472046</td>\n",
       "      <td>-455.462982</td>\n",
       "      <td>1416.354980</td>\n",
       "      <td>-451.939636</td>\n",
       "      <td>11.836743</td>\n",
       "      <td>6.005818</td>\n",
       "      <td>41885.707031</td>\n",
       "      <td>3481.779053</td>\n",
       "      <td>3520.337158</td>\n",
       "      <td>2.838687</td>\n",
       "      <td>19.793808</td>\n",
       "      <td>11.500771</td>\n",
       "      <td>7.101074</td>\n",
       "      <td>28.029297</td>\n",
       "      <td>87.107763</td>\n",
       "      <td>1.170244</td>\n",
       "      <td>5.008018</td>\n",
       "      <td>0.508728</td>\n",
       "      <td>19.154297</td>\n",
       "      <td>127.092003</td>\n",
       "      <td>10.128295</td>\n",
       "      <td>7.25</td>\n",
       "      <td>0.988759</td>\n",
       "      <td>1549.775757</td>\n",
       "      <td>-498.912140</td>\n",
       "      <td>1551.434204</td>\n",
       "      <td>-516.403442</td>\n",
       "      <td>1549.873901</td>\n",
       "      <td>-498.666595</td>\n",
       "      <td>1554.367432</td>\n",
       "      <td>-493.428131</td>\n",
       "      <td>34.174427</td>\n",
       "      <td>8.547551</td>\n",
       "      <td>10.389648</td>\n",
       "      <td>19.529297</td>\n",
       "      <td>2.106679</td>\n",
       "      <td>14.936526</td>\n",
       "      <td>2.534912</td>\n",
       "      <td>7.476074</td>\n",
       "      <td>25.853109</td>\n",
       "      <td>-498.526489</td>\n",
       "      <td>23.893660</td>\n",
       "      <td>-501.406281</td>\n",
       "      <td>23.961798</td>\n",
       "      <td>-495.262817</td>\n",
       "      <td>21.940409</td>\n",
       "      <td>-499.340973</td>\n",
       "      <td>14.016835</td>\n",
       "      <td>-502.488007</td>\n",
       "      <td>12.099931</td>\n",
       "      <td>-504.715942</td>\n",
       "      <td>9.925633</td>\n",
       "      <td>-498.310211</td>\n",
       "      <td>8.079666</td>\n",
       "      <td>-500.470978</td>\n",
       "      <td>14.151341</td>\n",
       "      <td>-605.841980</td>\n",
       "      <td>2.606185</td>\n",
       "      <td>14.500184</td>\n",
       "      <td>4.694824</td>\n",
       "      <td>8.764648</td>\n",
       "      <td>42.192020</td>\n",
       "      <td>6.055403</td>\n",
       "      <td>9.889648</td>\n",
       "      <td>5.507324</td>\n",
       "      <td>70.541216</td>\n",
       "      <td>2.143149</td>\n",
       "      <td>10.411962</td>\n",
       "      <td>0.895447</td>\n",
       "      <td>16.904297</td>\n",
       "    </tr>\n",
       "    <tr>\n",
       "      <th>1</th>\n",
       "      <td>2016-01-15 01:00:00</td>\n",
       "      <td>6.478583</td>\n",
       "      <td>6.161113</td>\n",
       "      <td>2.266033</td>\n",
       "      <td>35.753385</td>\n",
       "      <td>525.290581</td>\n",
       "      <td>57.278666</td>\n",
       "      <td>11.971193</td>\n",
       "      <td>6.005766</td>\n",
       "      <td>1000.286398</td>\n",
       "      <td>-400.065196</td>\n",
       "      <td>1600.754587</td>\n",
       "      <td>-449.953435</td>\n",
       "      <td>1600.479580</td>\n",
       "      <td>-449.830646</td>\n",
       "      <td>1600.527589</td>\n",
       "      <td>-449.953649</td>\n",
       "      <td>1399.227084</td>\n",
       "      <td>-450.869848</td>\n",
       "      <td>1399.719514</td>\n",
       "      <td>-450.119001</td>\n",
       "      <td>11.996163</td>\n",
       "      <td>6.012594</td>\n",
       "      <td>42050.861809</td>\n",
       "      <td>3498.370979</td>\n",
       "      <td>3489.981857</td>\n",
       "      <td>2.858998</td>\n",
       "      <td>20.050975</td>\n",
       "      <td>11.615865</td>\n",
       "      <td>7.278807</td>\n",
       "      <td>28.067063</td>\n",
       "      <td>86.843261</td>\n",
       "      <td>1.184827</td>\n",
       "      <td>4.955378</td>\n",
       "      <td>0.536689</td>\n",
       "      <td>18.965234</td>\n",
       "      <td>125.629232</td>\n",
       "      <td>10.296251</td>\n",
       "      <td>7.25</td>\n",
       "      <td>1.002663</td>\n",
       "      <td>1576.166671</td>\n",
       "      <td>-500.904965</td>\n",
       "      <td>1575.950626</td>\n",
       "      <td>-499.865889</td>\n",
       "      <td>1575.994189</td>\n",
       "      <td>-499.315107</td>\n",
       "      <td>1574.479259</td>\n",
       "      <td>-498.931665</td>\n",
       "      <td>34.118526</td>\n",
       "      <td>8.558743</td>\n",
       "      <td>10.497069</td>\n",
       "      <td>19.369147</td>\n",
       "      <td>2.353017</td>\n",
       "      <td>16.250511</td>\n",
       "      <td>3.049646</td>\n",
       "      <td>6.733907</td>\n",
       "      <td>25.880539</td>\n",
       "      <td>-499.989656</td>\n",
       "      <td>23.889530</td>\n",
       "      <td>-500.372428</td>\n",
       "      <td>23.970550</td>\n",
       "      <td>-500.085473</td>\n",
       "      <td>22.085714</td>\n",
       "      <td>-499.446897</td>\n",
       "      <td>13.992281</td>\n",
       "      <td>-505.503262</td>\n",
       "      <td>11.950531</td>\n",
       "      <td>-501.331529</td>\n",
       "      <td>10.039245</td>\n",
       "      <td>-500.169983</td>\n",
       "      <td>7.984757</td>\n",
       "      <td>-500.582168</td>\n",
       "      <td>13.998353</td>\n",
       "      <td>-599.787184</td>\n",
       "      <td>2.488248</td>\n",
       "      <td>14.265474</td>\n",
       "      <td>4.592547</td>\n",
       "      <td>9.001494</td>\n",
       "      <td>42.701629</td>\n",
       "      <td>6.029369</td>\n",
       "      <td>9.968944</td>\n",
       "      <td>5.257781</td>\n",
       "      <td>69.266198</td>\n",
       "      <td>2.224930</td>\n",
       "      <td>10.462676</td>\n",
       "      <td>0.927452</td>\n",
       "      <td>16.634514</td>\n",
       "    </tr>\n",
       "    <tr>\n",
       "      <th>2</th>\n",
       "      <td>2016-01-15 02:00:00</td>\n",
       "      <td>6.362222</td>\n",
       "      <td>6.116455</td>\n",
       "      <td>2.159622</td>\n",
       "      <td>35.971630</td>\n",
       "      <td>530.026610</td>\n",
       "      <td>57.510649</td>\n",
       "      <td>11.920603</td>\n",
       "      <td>6.197377</td>\n",
       "      <td>999.719565</td>\n",
       "      <td>-400.074028</td>\n",
       "      <td>1599.337330</td>\n",
       "      <td>-450.008530</td>\n",
       "      <td>1599.672797</td>\n",
       "      <td>-449.954491</td>\n",
       "      <td>1599.849325</td>\n",
       "      <td>-449.954185</td>\n",
       "      <td>1399.180945</td>\n",
       "      <td>-449.937588</td>\n",
       "      <td>1400.316682</td>\n",
       "      <td>-450.527147</td>\n",
       "      <td>11.920305</td>\n",
       "      <td>6.204633</td>\n",
       "      <td>42018.101184</td>\n",
       "      <td>3495.348910</td>\n",
       "      <td>3502.359819</td>\n",
       "      <td>2.945989</td>\n",
       "      <td>19.737170</td>\n",
       "      <td>11.695753</td>\n",
       "      <td>7.216833</td>\n",
       "      <td>27.454037</td>\n",
       "      <td>86.842308</td>\n",
       "      <td>1.162562</td>\n",
       "      <td>4.843460</td>\n",
       "      <td>0.546416</td>\n",
       "      <td>18.808533</td>\n",
       "      <td>123.819808</td>\n",
       "      <td>11.316280</td>\n",
       "      <td>7.25</td>\n",
       "      <td>0.991265</td>\n",
       "      <td>1601.556163</td>\n",
       "      <td>-499.997791</td>\n",
       "      <td>1600.386685</td>\n",
       "      <td>-500.607762</td>\n",
       "      <td>1602.003542</td>\n",
       "      <td>-500.870069</td>\n",
       "      <td>1599.541515</td>\n",
       "      <td>-499.827444</td>\n",
       "      <td>33.969464</td>\n",
       "      <td>8.603505</td>\n",
       "      <td>10.354494</td>\n",
       "      <td>19.167579</td>\n",
       "      <td>2.416800</td>\n",
       "      <td>16.491823</td>\n",
       "      <td>3.124664</td>\n",
       "      <td>6.471768</td>\n",
       "      <td>26.005245</td>\n",
       "      <td>-499.929616</td>\n",
       "      <td>23.886657</td>\n",
       "      <td>-499.951928</td>\n",
       "      <td>23.913535</td>\n",
       "      <td>-499.442343</td>\n",
       "      <td>23.957717</td>\n",
       "      <td>-499.901982</td>\n",
       "      <td>14.015015</td>\n",
       "      <td>-502.520901</td>\n",
       "      <td>11.912783</td>\n",
       "      <td>-501.133383</td>\n",
       "      <td>10.070913</td>\n",
       "      <td>-500.129135</td>\n",
       "      <td>8.013877</td>\n",
       "      <td>-500.517572</td>\n",
       "      <td>14.028663</td>\n",
       "      <td>-601.427363</td>\n",
       "      <td>2.458187</td>\n",
       "      <td>14.115662</td>\n",
       "      <td>4.624775</td>\n",
       "      <td>8.842896</td>\n",
       "      <td>42.657501</td>\n",
       "      <td>6.055926</td>\n",
       "      <td>10.213995</td>\n",
       "      <td>5.383759</td>\n",
       "      <td>68.116445</td>\n",
       "      <td>2.257889</td>\n",
       "      <td>10.507046</td>\n",
       "      <td>0.953716</td>\n",
       "      <td>16.208849</td>\n",
       "    </tr>\n",
       "    <tr>\n",
       "      <th>3</th>\n",
       "      <td>2016-01-15 03:00:00</td>\n",
       "      <td>6.118189</td>\n",
       "      <td>6.043309</td>\n",
       "      <td>2.037807</td>\n",
       "      <td>36.862241</td>\n",
       "      <td>542.590390</td>\n",
       "      <td>57.792734</td>\n",
       "      <td>11.630094</td>\n",
       "      <td>6.203177</td>\n",
       "      <td>999.814770</td>\n",
       "      <td>-400.200179</td>\n",
       "      <td>1600.059442</td>\n",
       "      <td>-450.619948</td>\n",
       "      <td>1600.012842</td>\n",
       "      <td>-449.910497</td>\n",
       "      <td>1597.725177</td>\n",
       "      <td>-450.130127</td>\n",
       "      <td>1400.943157</td>\n",
       "      <td>-450.030142</td>\n",
       "      <td>1400.234743</td>\n",
       "      <td>-449.790835</td>\n",
       "      <td>11.692450</td>\n",
       "      <td>6.196578</td>\n",
       "      <td>42029.447991</td>\n",
       "      <td>3498.578313</td>\n",
       "      <td>3499.162912</td>\n",
       "      <td>3.002340</td>\n",
       "      <td>19.320810</td>\n",
       "      <td>11.915047</td>\n",
       "      <td>7.175616</td>\n",
       "      <td>27.341277</td>\n",
       "      <td>87.226430</td>\n",
       "      <td>1.079755</td>\n",
       "      <td>4.655288</td>\n",
       "      <td>0.542525</td>\n",
       "      <td>19.330200</td>\n",
       "      <td>122.270188</td>\n",
       "      <td>11.322140</td>\n",
       "      <td>7.25</td>\n",
       "      <td>0.996739</td>\n",
       "      <td>1599.968720</td>\n",
       "      <td>-500.951778</td>\n",
       "      <td>1600.659236</td>\n",
       "      <td>-499.677094</td>\n",
       "      <td>1600.304144</td>\n",
       "      <td>-500.727997</td>\n",
       "      <td>1600.449520</td>\n",
       "      <td>-500.052575</td>\n",
       "      <td>28.260743</td>\n",
       "      <td>7.221879</td>\n",
       "      <td>8.496563</td>\n",
       "      <td>15.978538</td>\n",
       "      <td>2.262051</td>\n",
       "      <td>16.024359</td>\n",
       "      <td>2.960362</td>\n",
       "      <td>6.843791</td>\n",
       "      <td>25.942508</td>\n",
       "      <td>-499.176749</td>\n",
       "      <td>23.955516</td>\n",
       "      <td>-499.848796</td>\n",
       "      <td>23.966838</td>\n",
       "      <td>-500.008812</td>\n",
       "      <td>23.954443</td>\n",
       "      <td>-499.944710</td>\n",
       "      <td>14.036510</td>\n",
       "      <td>-500.857308</td>\n",
       "      <td>11.999550</td>\n",
       "      <td>-501.193686</td>\n",
       "      <td>9.970366</td>\n",
       "      <td>-499.201640</td>\n",
       "      <td>7.977324</td>\n",
       "      <td>-500.255908</td>\n",
       "      <td>14.005551</td>\n",
       "      <td>-599.996129</td>\n",
       "      <td>2.322062</td>\n",
       "      <td>13.732071</td>\n",
       "      <td>4.482453</td>\n",
       "      <td>9.122857</td>\n",
       "      <td>42.689819</td>\n",
       "      <td>6.047977</td>\n",
       "      <td>9.977019</td>\n",
       "      <td>4.858634</td>\n",
       "      <td>68.347543</td>\n",
       "      <td>2.146849</td>\n",
       "      <td>10.422762</td>\n",
       "      <td>0.883763</td>\n",
       "      <td>16.532835</td>\n",
       "    </tr>\n",
       "    <tr>\n",
       "      <th>4</th>\n",
       "      <td>2016-01-15 04:00:00</td>\n",
       "      <td>5.663707</td>\n",
       "      <td>6.060915</td>\n",
       "      <td>1.786875</td>\n",
       "      <td>34.347666</td>\n",
       "      <td>540.531893</td>\n",
       "      <td>56.047189</td>\n",
       "      <td>10.957755</td>\n",
       "      <td>6.198826</td>\n",
       "      <td>999.678690</td>\n",
       "      <td>-399.752729</td>\n",
       "      <td>1600.208824</td>\n",
       "      <td>-449.599614</td>\n",
       "      <td>1600.357732</td>\n",
       "      <td>-450.034364</td>\n",
       "      <td>1599.759049</td>\n",
       "      <td>-449.909799</td>\n",
       "      <td>1401.560902</td>\n",
       "      <td>-448.877187</td>\n",
       "      <td>1401.160227</td>\n",
       "      <td>-450.407128</td>\n",
       "      <td>10.960521</td>\n",
       "      <td>6.194897</td>\n",
       "      <td>42125.354245</td>\n",
       "      <td>3494.800771</td>\n",
       "      <td>3506.679315</td>\n",
       "      <td>3.169615</td>\n",
       "      <td>19.216101</td>\n",
       "      <td>12.411054</td>\n",
       "      <td>7.240205</td>\n",
       "      <td>27.041023</td>\n",
       "      <td>86.688794</td>\n",
       "      <td>1.012642</td>\n",
       "      <td>4.552800</td>\n",
       "      <td>0.515438</td>\n",
       "      <td>19.267422</td>\n",
       "      <td>117.988169</td>\n",
       "      <td>11.913613</td>\n",
       "      <td>7.25</td>\n",
       "      <td>1.009869</td>\n",
       "      <td>1601.339707</td>\n",
       "      <td>-498.975456</td>\n",
       "      <td>1601.437854</td>\n",
       "      <td>-500.323246</td>\n",
       "      <td>1599.581894</td>\n",
       "      <td>-500.888152</td>\n",
       "      <td>1602.649541</td>\n",
       "      <td>-500.593010</td>\n",
       "      <td>33.044932</td>\n",
       "      <td>9.089428</td>\n",
       "      <td>9.986786</td>\n",
       "      <td>19.199864</td>\n",
       "      <td>2.277073</td>\n",
       "      <td>16.480185</td>\n",
       "      <td>3.112100</td>\n",
       "      <td>6.550154</td>\n",
       "      <td>26.024787</td>\n",
       "      <td>-500.279091</td>\n",
       "      <td>23.955345</td>\n",
       "      <td>-500.593614</td>\n",
       "      <td>23.985703</td>\n",
       "      <td>-500.083811</td>\n",
       "      <td>23.958945</td>\n",
       "      <td>-499.990309</td>\n",
       "      <td>14.027298</td>\n",
       "      <td>-499.838632</td>\n",
       "      <td>11.953070</td>\n",
       "      <td>-501.053894</td>\n",
       "      <td>9.925709</td>\n",
       "      <td>-501.686727</td>\n",
       "      <td>7.894242</td>\n",
       "      <td>-500.356035</td>\n",
       "      <td>13.996647</td>\n",
       "      <td>-601.496691</td>\n",
       "      <td>2.330448</td>\n",
       "      <td>14.079996</td>\n",
       "      <td>4.470737</td>\n",
       "      <td>8.871028</td>\n",
       "      <td>42.774141</td>\n",
       "      <td>6.148599</td>\n",
       "      <td>10.142511</td>\n",
       "      <td>4.939416</td>\n",
       "      <td>66.927016</td>\n",
       "      <td>2.055292</td>\n",
       "      <td>10.360302</td>\n",
       "      <td>0.792826</td>\n",
       "      <td>16.525686</td>\n",
       "    </tr>\n",
       "    <tr>\n",
       "      <th>5</th>\n",
       "      <td>2016-01-15 05:00:00</td>\n",
       "      <td>5.687168</td>\n",
       "      <td>5.801920</td>\n",
       "      <td>1.879351</td>\n",
       "      <td>35.470082</td>\n",
       "      <td>546.173470</td>\n",
       "      <td>57.469578</td>\n",
       "      <td>11.072517</td>\n",
       "      <td>6.200383</td>\n",
       "      <td>999.934134</td>\n",
       "      <td>-400.599524</td>\n",
       "      <td>1601.080554</td>\n",
       "      <td>-450.120760</td>\n",
       "      <td>1603.164805</td>\n",
       "      <td>-450.097732</td>\n",
       "      <td>1603.368371</td>\n",
       "      <td>-446.306150</td>\n",
       "      <td>1403.393100</td>\n",
       "      <td>-447.899904</td>\n",
       "      <td>1402.903175</td>\n",
       "      <td>-448.872321</td>\n",
       "      <td>11.075009</td>\n",
       "      <td>6.202362</td>\n",
       "      <td>41973.280986</td>\n",
       "      <td>3501.916973</td>\n",
       "      <td>3499.527175</td>\n",
       "      <td>3.026134</td>\n",
       "      <td>18.950385</td>\n",
       "      <td>11.985584</td>\n",
       "      <td>7.121903</td>\n",
       "      <td>26.898046</td>\n",
       "      <td>88.156912</td>\n",
       "      <td>0.915835</td>\n",
       "      <td>4.397415</td>\n",
       "      <td>0.491350</td>\n",
       "      <td>19.640269</td>\n",
       "      <td>115.581252</td>\n",
       "      <td>12.470773</td>\n",
       "      <td>7.25</td>\n",
       "      <td>0.965760</td>\n",
       "      <td>1602.964922</td>\n",
       "      <td>-498.090944</td>\n",
       "      <td>1602.074298</td>\n",
       "      <td>-500.179481</td>\n",
       "      <td>1602.154812</td>\n",
       "      <td>-498.642614</td>\n",
       "      <td>1605.020106</td>\n",
       "      <td>-500.538177</td>\n",
       "      <td>32.070664</td>\n",
       "      <td>9.553724</td>\n",
       "      <td>9.816215</td>\n",
       "      <td>19.167328</td>\n",
       "      <td>2.114558</td>\n",
       "      <td>15.931540</td>\n",
       "      <td>2.844511</td>\n",
       "      <td>6.724197</td>\n",
       "      <td>26.014841</td>\n",
       "      <td>-498.864670</td>\n",
       "      <td>23.880214</td>\n",
       "      <td>-499.738447</td>\n",
       "      <td>23.982635</td>\n",
       "      <td>-500.495272</td>\n",
       "      <td>24.009749</td>\n",
       "      <td>-499.433825</td>\n",
       "      <td>13.938497</td>\n",
       "      <td>-500.970168</td>\n",
       "      <td>11.883350</td>\n",
       "      <td>-500.395298</td>\n",
       "      <td>10.054147</td>\n",
       "      <td>-496.374715</td>\n",
       "      <td>7.965083</td>\n",
       "      <td>-499.364752</td>\n",
       "      <td>14.017067</td>\n",
       "      <td>-599.707915</td>\n",
       "      <td>2.192127</td>\n",
       "      <td>13.615012</td>\n",
       "      <td>4.286817</td>\n",
       "      <td>9.302669</td>\n",
       "      <td>41.633678</td>\n",
       "      <td>6.482968</td>\n",
       "      <td>10.049416</td>\n",
       "      <td>5.480257</td>\n",
       "      <td>69.465816</td>\n",
       "      <td>1.918586</td>\n",
       "      <td>10.182708</td>\n",
       "      <td>0.664118</td>\n",
       "      <td>16.999638</td>\n",
       "    </tr>\n",
       "    <tr>\n",
       "      <th>6</th>\n",
       "      <td>2016-01-15 06:00:00</td>\n",
       "      <td>6.038436</td>\n",
       "      <td>6.056253</td>\n",
       "      <td>2.105501</td>\n",
       "      <td>34.920570</td>\n",
       "      <td>523.376439</td>\n",
       "      <td>56.674647</td>\n",
       "      <td>11.535899</td>\n",
       "      <td>6.204974</td>\n",
       "      <td>999.832373</td>\n",
       "      <td>-399.353521</td>\n",
       "      <td>1600.753019</td>\n",
       "      <td>-450.050089</td>\n",
       "      <td>1599.019966</td>\n",
       "      <td>-449.848507</td>\n",
       "      <td>1600.298267</td>\n",
       "      <td>-453.102891</td>\n",
       "      <td>1397.853265</td>\n",
       "      <td>-451.306640</td>\n",
       "      <td>1397.973670</td>\n",
       "      <td>-451.355626</td>\n",
       "      <td>11.539227</td>\n",
       "      <td>6.200515</td>\n",
       "      <td>41956.468979</td>\n",
       "      <td>3497.427365</td>\n",
       "      <td>3506.352790</td>\n",
       "      <td>2.867933</td>\n",
       "      <td>19.319591</td>\n",
       "      <td>11.684307</td>\n",
       "      <td>7.304849</td>\n",
       "      <td>27.063672</td>\n",
       "      <td>88.168065</td>\n",
       "      <td>0.986248</td>\n",
       "      <td>4.478080</td>\n",
       "      <td>0.518266</td>\n",
       "      <td>19.262491</td>\n",
       "      <td>117.322323</td>\n",
       "      <td>12.469088</td>\n",
       "      <td>7.25</td>\n",
       "      <td>0.895207</td>\n",
       "      <td>1597.532455</td>\n",
       "      <td>-500.985364</td>\n",
       "      <td>1602.816321</td>\n",
       "      <td>-500.696736</td>\n",
       "      <td>1603.572091</td>\n",
       "      <td>-500.256955</td>\n",
       "      <td>1597.597437</td>\n",
       "      <td>-500.378192</td>\n",
       "      <td>33.184823</td>\n",
       "      <td>8.968869</td>\n",
       "      <td>10.081306</td>\n",
       "      <td>18.930855</td>\n",
       "      <td>2.223152</td>\n",
       "      <td>16.078368</td>\n",
       "      <td>2.938979</td>\n",
       "      <td>6.623598</td>\n",
       "      <td>25.957594</td>\n",
       "      <td>-500.134472</td>\n",
       "      <td>24.077199</td>\n",
       "      <td>-500.089190</td>\n",
       "      <td>23.991710</td>\n",
       "      <td>-500.391528</td>\n",
       "      <td>23.954144</td>\n",
       "      <td>-501.872171</td>\n",
       "      <td>14.046819</td>\n",
       "      <td>-500.971133</td>\n",
       "      <td>12.091543</td>\n",
       "      <td>-500.501426</td>\n",
       "      <td>10.003247</td>\n",
       "      <td>-497.083180</td>\n",
       "      <td>8.010890</td>\n",
       "      <td>-500.002423</td>\n",
       "      <td>14.029649</td>\n",
       "      <td>-600.905470</td>\n",
       "      <td>2.316720</td>\n",
       "      <td>13.597056</td>\n",
       "      <td>4.487865</td>\n",
       "      <td>9.103047</td>\n",
       "      <td>41.995316</td>\n",
       "      <td>6.533849</td>\n",
       "      <td>10.058141</td>\n",
       "      <td>4.569100</td>\n",
       "      <td>69.300835</td>\n",
       "      <td>2.058913</td>\n",
       "      <td>10.304598</td>\n",
       "      <td>0.807342</td>\n",
       "      <td>16.723575</td>\n",
       "    </tr>\n",
       "    <tr>\n",
       "      <th>7</th>\n",
       "      <td>2016-01-15 07:00:00</td>\n",
       "      <td>6.433854</td>\n",
       "      <td>5.955053</td>\n",
       "      <td>2.310432</td>\n",
       "      <td>36.091386</td>\n",
       "      <td>549.842749</td>\n",
       "      <td>56.730325</td>\n",
       "      <td>12.557906</td>\n",
       "      <td>6.799275</td>\n",
       "      <td>1000.166602</td>\n",
       "      <td>-400.556601</td>\n",
       "      <td>1598.877246</td>\n",
       "      <td>-450.070980</td>\n",
       "      <td>1598.108717</td>\n",
       "      <td>-449.211334</td>\n",
       "      <td>1592.872844</td>\n",
       "      <td>-449.806802</td>\n",
       "      <td>1396.580752</td>\n",
       "      <td>-453.548352</td>\n",
       "      <td>1397.289884</td>\n",
       "      <td>-450.221696</td>\n",
       "      <td>12.583109</td>\n",
       "      <td>6.798354</td>\n",
       "      <td>41812.416893</td>\n",
       "      <td>3497.275828</td>\n",
       "      <td>3501.000030</td>\n",
       "      <td>2.784698</td>\n",
       "      <td>19.507897</td>\n",
       "      <td>11.182624</td>\n",
       "      <td>7.258496</td>\n",
       "      <td>27.231114</td>\n",
       "      <td>87.668336</td>\n",
       "      <td>1.116110</td>\n",
       "      <td>4.728325</td>\n",
       "      <td>0.548067</td>\n",
       "      <td>18.861866</td>\n",
       "      <td>124.592960</td>\n",
       "      <td>12.467403</td>\n",
       "      <td>7.25</td>\n",
       "      <td>0.901202</td>\n",
       "      <td>1597.946266</td>\n",
       "      <td>-501.592304</td>\n",
       "      <td>1601.078254</td>\n",
       "      <td>-499.494115</td>\n",
       "      <td>1602.630688</td>\n",
       "      <td>-500.173741</td>\n",
       "      <td>1595.937990</td>\n",
       "      <td>-498.929825</td>\n",
       "      <td>34.027719</td>\n",
       "      <td>8.545238</td>\n",
       "      <td>10.224540</td>\n",
       "      <td>18.735813</td>\n",
       "      <td>2.112025</td>\n",
       "      <td>15.797720</td>\n",
       "      <td>2.881529</td>\n",
       "      <td>6.872033</td>\n",
       "      <td>25.938026</td>\n",
       "      <td>-499.657795</td>\n",
       "      <td>24.020179</td>\n",
       "      <td>-499.798396</td>\n",
       "      <td>24.031555</td>\n",
       "      <td>-500.550436</td>\n",
       "      <td>23.968160</td>\n",
       "      <td>-499.836513</td>\n",
       "      <td>13.974691</td>\n",
       "      <td>-501.819696</td>\n",
       "      <td>12.101324</td>\n",
       "      <td>-500.583446</td>\n",
       "      <td>9.873169</td>\n",
       "      <td>-499.171928</td>\n",
       "      <td>7.993381</td>\n",
       "      <td>-499.794518</td>\n",
       "      <td>13.984498</td>\n",
       "      <td>-600.411070</td>\n",
       "      <td>2.192197</td>\n",
       "      <td>13.177237</td>\n",
       "      <td>4.432448</td>\n",
       "      <td>9.369209</td>\n",
       "      <td>42.452727</td>\n",
       "      <td>6.130823</td>\n",
       "      <td>9.935481</td>\n",
       "      <td>4.389813</td>\n",
       "      <td>70.230976</td>\n",
       "      <td>2.143437</td>\n",
       "      <td>10.443288</td>\n",
       "      <td>0.949346</td>\n",
       "      <td>16.689959</td>\n",
       "    </tr>\n",
       "    <tr>\n",
       "      <th>8</th>\n",
       "      <td>2016-01-15 08:00:00</td>\n",
       "      <td>6.526612</td>\n",
       "      <td>5.878084</td>\n",
       "      <td>2.391713</td>\n",
       "      <td>35.753879</td>\n",
       "      <td>560.115242</td>\n",
       "      <td>56.649893</td>\n",
       "      <td>13.166128</td>\n",
       "      <td>6.798659</td>\n",
       "      <td>1000.026864</td>\n",
       "      <td>-399.968583</td>\n",
       "      <td>1599.813104</td>\n",
       "      <td>-450.481122</td>\n",
       "      <td>1600.024621</td>\n",
       "      <td>-450.365493</td>\n",
       "      <td>1594.448648</td>\n",
       "      <td>-449.882428</td>\n",
       "      <td>1402.033682</td>\n",
       "      <td>-448.545552</td>\n",
       "      <td>1400.748347</td>\n",
       "      <td>-450.303991</td>\n",
       "      <td>13.184764</td>\n",
       "      <td>6.800021</td>\n",
       "      <td>41905.757985</td>\n",
       "      <td>3498.332166</td>\n",
       "      <td>3498.120075</td>\n",
       "      <td>2.728844</td>\n",
       "      <td>19.789465</td>\n",
       "      <td>11.051323</td>\n",
       "      <td>7.380043</td>\n",
       "      <td>27.404296</td>\n",
       "      <td>87.035862</td>\n",
       "      <td>1.186780</td>\n",
       "      <td>4.764300</td>\n",
       "      <td>0.599181</td>\n",
       "      <td>18.873082</td>\n",
       "      <td>131.781026</td>\n",
       "      <td>12.465718</td>\n",
       "      <td>7.25</td>\n",
       "      <td>0.885535</td>\n",
       "      <td>1601.670053</td>\n",
       "      <td>-499.548891</td>\n",
       "      <td>1598.804355</td>\n",
       "      <td>-499.689644</td>\n",
       "      <td>1601.689285</td>\n",
       "      <td>-500.484957</td>\n",
       "      <td>1602.431117</td>\n",
       "      <td>-500.650982</td>\n",
       "      <td>34.964974</td>\n",
       "      <td>8.046686</td>\n",
       "      <td>10.500065</td>\n",
       "      <td>18.560288</td>\n",
       "      <td>2.243817</td>\n",
       "      <td>16.195420</td>\n",
       "      <td>3.089922</td>\n",
       "      <td>6.705633</td>\n",
       "      <td>25.929511</td>\n",
       "      <td>-500.079889</td>\n",
       "      <td>23.977375</td>\n",
       "      <td>-500.005187</td>\n",
       "      <td>23.998809</td>\n",
       "      <td>-500.400133</td>\n",
       "      <td>23.982633</td>\n",
       "      <td>-499.826311</td>\n",
       "      <td>13.964030</td>\n",
       "      <td>-504.252450</td>\n",
       "      <td>12.060738</td>\n",
       "      <td>-501.174549</td>\n",
       "      <td>10.033838</td>\n",
       "      <td>-501.178133</td>\n",
       "      <td>7.881604</td>\n",
       "      <td>-499.729434</td>\n",
       "      <td>13.967135</td>\n",
       "      <td>-599.061188</td>\n",
       "      <td>2.212084</td>\n",
       "      <td>13.487870</td>\n",
       "      <td>4.608756</td>\n",
       "      <td>9.437044</td>\n",
       "      <td>43.404078</td>\n",
       "      <td>5.834140</td>\n",
       "      <td>10.071156</td>\n",
       "      <td>4.876389</td>\n",
       "      <td>69.688595</td>\n",
       "      <td>2.209881</td>\n",
       "      <td>10.420140</td>\n",
       "      <td>1.065453</td>\n",
       "      <td>17.201948</td>\n",
       "    </tr>\n",
       "    <tr>\n",
       "      <th>9</th>\n",
       "      <td>2016-01-15 09:00:00</td>\n",
       "      <td>6.747693</td>\n",
       "      <td>5.974832</td>\n",
       "      <td>2.539114</td>\n",
       "      <td>38.553938</td>\n",
       "      <td>566.616045</td>\n",
       "      <td>60.308763</td>\n",
       "      <td>13.996130</td>\n",
       "      <td>6.800263</td>\n",
       "      <td>1000.332327</td>\n",
       "      <td>-400.149341</td>\n",
       "      <td>1599.255585</td>\n",
       "      <td>-449.938835</td>\n",
       "      <td>1599.889681</td>\n",
       "      <td>-450.184036</td>\n",
       "      <td>1589.251641</td>\n",
       "      <td>-449.993434</td>\n",
       "      <td>1401.349036</td>\n",
       "      <td>-449.424506</td>\n",
       "      <td>1400.221018</td>\n",
       "      <td>-450.257027</td>\n",
       "      <td>14.018513</td>\n",
       "      <td>6.799799</td>\n",
       "      <td>41904.587200</td>\n",
       "      <td>3496.945733</td>\n",
       "      <td>3503.247805</td>\n",
       "      <td>2.657499</td>\n",
       "      <td>19.550973</td>\n",
       "      <td>11.354861</td>\n",
       "      <td>7.344956</td>\n",
       "      <td>27.742063</td>\n",
       "      <td>88.280699</td>\n",
       "      <td>1.137303</td>\n",
       "      <td>4.600020</td>\n",
       "      <td>0.619485</td>\n",
       "      <td>19.436276</td>\n",
       "      <td>146.153696</td>\n",
       "      <td>12.464385</td>\n",
       "      <td>7.25</td>\n",
       "      <td>0.897431</td>\n",
       "      <td>1601.066985</td>\n",
       "      <td>-499.830641</td>\n",
       "      <td>1599.806933</td>\n",
       "      <td>-500.600490</td>\n",
       "      <td>1599.164142</td>\n",
       "      <td>-499.334459</td>\n",
       "      <td>1599.697783</td>\n",
       "      <td>-500.263228</td>\n",
       "      <td>35.360817</td>\n",
       "      <td>7.862340</td>\n",
       "      <td>10.526890</td>\n",
       "      <td>18.504813</td>\n",
       "      <td>2.011642</td>\n",
       "      <td>15.823639</td>\n",
       "      <td>3.012419</td>\n",
       "      <td>7.214806</td>\n",
       "      <td>25.986485</td>\n",
       "      <td>-499.402963</td>\n",
       "      <td>23.961207</td>\n",
       "      <td>-499.986118</td>\n",
       "      <td>24.049918</td>\n",
       "      <td>-500.435620</td>\n",
       "      <td>23.972413</td>\n",
       "      <td>-499.751759</td>\n",
       "      <td>14.008944</td>\n",
       "      <td>-504.170807</td>\n",
       "      <td>11.995903</td>\n",
       "      <td>-501.269181</td>\n",
       "      <td>10.043100</td>\n",
       "      <td>-498.529996</td>\n",
       "      <td>8.002633</td>\n",
       "      <td>-499.761922</td>\n",
       "      <td>14.004767</td>\n",
       "      <td>-599.595324</td>\n",
       "      <td>2.067619</td>\n",
       "      <td>13.735810</td>\n",
       "      <td>4.721778</td>\n",
       "      <td>9.582874</td>\n",
       "      <td>43.487291</td>\n",
       "      <td>5.706261</td>\n",
       "      <td>10.242511</td>\n",
       "      <td>5.214161</td>\n",
       "      <td>70.973641</td>\n",
       "      <td>2.200997</td>\n",
       "      <td>10.473539</td>\n",
       "      <td>1.171183</td>\n",
       "      <td>17.717049</td>\n",
       "    </tr>\n",
       "  </tbody>\n",
       "</table>\n",
       "</div>"
      ],
      "text/plain": [
       "                  date  rougher.input.feed_au  rougher.input.feed_ag  \\\n",
       "0  2016-01-15 00:00:00               6.486150               6.100378   \n",
       "1  2016-01-15 01:00:00               6.478583               6.161113   \n",
       "2  2016-01-15 02:00:00               6.362222               6.116455   \n",
       "3  2016-01-15 03:00:00               6.118189               6.043309   \n",
       "4  2016-01-15 04:00:00               5.663707               6.060915   \n",
       "5  2016-01-15 05:00:00               5.687168               5.801920   \n",
       "6  2016-01-15 06:00:00               6.038436               6.056253   \n",
       "7  2016-01-15 07:00:00               6.433854               5.955053   \n",
       "8  2016-01-15 08:00:00               6.526612               5.878084   \n",
       "9  2016-01-15 09:00:00               6.747693               5.974832   \n",
       "\n",
       "   rougher.input.feed_pb  rougher.input.feed_sol  rougher.input.feed_rate  \\\n",
       "0               2.284912               36.808594               523.546326   \n",
       "1               2.266033               35.753385               525.290581   \n",
       "2               2.159622               35.971630               530.026610   \n",
       "3               2.037807               36.862241               542.590390   \n",
       "4               1.786875               34.347666               540.531893   \n",
       "5               1.879351               35.470082               546.173470   \n",
       "6               2.105501               34.920570               523.376439   \n",
       "7               2.310432               36.091386               549.842749   \n",
       "8               2.391713               35.753879               560.115242   \n",
       "9               2.539114               38.553938               566.616045   \n",
       "\n",
       "   rougher.input.feed_size  rougher.input.floatbank10_sulfate  \\\n",
       "0                55.486599                          11.986616   \n",
       "1                57.278666                          11.971193   \n",
       "2                57.510649                          11.920603   \n",
       "3                57.792734                          11.630094   \n",
       "4                56.047189                          10.957755   \n",
       "5                57.469578                          11.072517   \n",
       "6                56.674647                          11.535899   \n",
       "7                56.730325                          12.557906   \n",
       "8                56.649893                          13.166128   \n",
       "9                60.308763                          13.996130   \n",
       "\n",
       "   rougher.input.floatbank10_xanthate  rougher.state.floatbank10_a_air  \\\n",
       "0                            6.007990                       999.706909   \n",
       "1                            6.005766                      1000.286398   \n",
       "2                            6.197377                       999.719565   \n",
       "3                            6.203177                       999.814770   \n",
       "4                            6.198826                       999.678690   \n",
       "5                            6.200383                       999.934134   \n",
       "6                            6.204974                       999.832373   \n",
       "7                            6.799275                      1000.166602   \n",
       "8                            6.798659                      1000.026864   \n",
       "9                            6.800263                      1000.332327   \n",
       "\n",
       "   rougher.state.floatbank10_a_level  rougher.state.floatbank10_b_air  \\\n",
       "0                        -404.066986                      1603.011353   \n",
       "1                        -400.065196                      1600.754587   \n",
       "2                        -400.074028                      1599.337330   \n",
       "3                        -400.200179                      1600.059442   \n",
       "4                        -399.752729                      1600.208824   \n",
       "5                        -400.599524                      1601.080554   \n",
       "6                        -399.353521                      1600.753019   \n",
       "7                        -400.556601                      1598.877246   \n",
       "8                        -399.968583                      1599.813104   \n",
       "9                        -400.149341                      1599.255585   \n",
       "\n",
       "   rougher.state.floatbank10_b_level  rougher.state.floatbank10_c_air  \\\n",
       "0                        -434.715027                      1602.375000   \n",
       "1                        -449.953435                      1600.479580   \n",
       "2                        -450.008530                      1599.672797   \n",
       "3                        -450.619948                      1600.012842   \n",
       "4                        -449.599614                      1600.357732   \n",
       "5                        -450.120760                      1603.164805   \n",
       "6                        -450.050089                      1599.019966   \n",
       "7                        -450.070980                      1598.108717   \n",
       "8                        -450.481122                      1600.024621   \n",
       "9                        -449.938835                      1599.889681   \n",
       "\n",
       "   rougher.state.floatbank10_c_level  rougher.state.floatbank10_d_air  \\\n",
       "0                        -442.204468                      1598.937256   \n",
       "1                        -449.830646                      1600.527589   \n",
       "2                        -449.954491                      1599.849325   \n",
       "3                        -449.910497                      1597.725177   \n",
       "4                        -450.034364                      1599.759049   \n",
       "5                        -450.097732                      1603.368371   \n",
       "6                        -449.848507                      1600.298267   \n",
       "7                        -449.211334                      1592.872844   \n",
       "8                        -450.365493                      1594.448648   \n",
       "9                        -450.184036                      1589.251641   \n",
       "\n",
       "   rougher.state.floatbank10_d_level  rougher.state.floatbank10_e_air  \\\n",
       "0                        -451.294128                      1404.472046   \n",
       "1                        -449.953649                      1399.227084   \n",
       "2                        -449.954185                      1399.180945   \n",
       "3                        -450.130127                      1400.943157   \n",
       "4                        -449.909799                      1401.560902   \n",
       "5                        -446.306150                      1403.393100   \n",
       "6                        -453.102891                      1397.853265   \n",
       "7                        -449.806802                      1396.580752   \n",
       "8                        -449.882428                      1402.033682   \n",
       "9                        -449.993434                      1401.349036   \n",
       "\n",
       "   rougher.state.floatbank10_e_level  rougher.state.floatbank10_f_air  \\\n",
       "0                        -455.462982                      1416.354980   \n",
       "1                        -450.869848                      1399.719514   \n",
       "2                        -449.937588                      1400.316682   \n",
       "3                        -450.030142                      1400.234743   \n",
       "4                        -448.877187                      1401.160227   \n",
       "5                        -447.899904                      1402.903175   \n",
       "6                        -451.306640                      1397.973670   \n",
       "7                        -453.548352                      1397.289884   \n",
       "8                        -448.545552                      1400.748347   \n",
       "9                        -449.424506                      1400.221018   \n",
       "\n",
       "   rougher.state.floatbank10_f_level  rougher.input.floatbank11_sulfate  \\\n",
       "0                        -451.939636                          11.836743   \n",
       "1                        -450.119001                          11.996163   \n",
       "2                        -450.527147                          11.920305   \n",
       "3                        -449.790835                          11.692450   \n",
       "4                        -450.407128                          10.960521   \n",
       "5                        -448.872321                          11.075009   \n",
       "6                        -451.355626                          11.539227   \n",
       "7                        -450.221696                          12.583109   \n",
       "8                        -450.303991                          13.184764   \n",
       "9                        -450.257027                          14.018513   \n",
       "\n",
       "   rougher.input.floatbank11_xanthate  \\\n",
       "0                            6.005818   \n",
       "1                            6.012594   \n",
       "2                            6.204633   \n",
       "3                            6.196578   \n",
       "4                            6.194897   \n",
       "5                            6.202362   \n",
       "6                            6.200515   \n",
       "7                            6.798354   \n",
       "8                            6.800021   \n",
       "9                            6.799799   \n",
       "\n",
       "   rougher.calculation.sulfate_to_au_concentrate  \\\n",
       "0                                   41885.707031   \n",
       "1                                   42050.861809   \n",
       "2                                   42018.101184   \n",
       "3                                   42029.447991   \n",
       "4                                   42125.354245   \n",
       "5                                   41973.280986   \n",
       "6                                   41956.468979   \n",
       "7                                   41812.416893   \n",
       "8                                   41905.757985   \n",
       "9                                   41904.587200   \n",
       "\n",
       "   rougher.calculation.floatbank10_sulfate_to_au_feed  \\\n",
       "0                                        3481.779053    \n",
       "1                                        3498.370979    \n",
       "2                                        3495.348910    \n",
       "3                                        3498.578313    \n",
       "4                                        3494.800771    \n",
       "5                                        3501.916973    \n",
       "6                                        3497.427365    \n",
       "7                                        3497.275828    \n",
       "8                                        3498.332166    \n",
       "9                                        3496.945733    \n",
       "\n",
       "   rougher.calculation.floatbank11_sulfate_to_au_feed  \\\n",
       "0                                        3520.337158    \n",
       "1                                        3489.981857    \n",
       "2                                        3502.359819    \n",
       "3                                        3499.162912    \n",
       "4                                        3506.679315    \n",
       "5                                        3499.527175    \n",
       "6                                        3506.352790    \n",
       "7                                        3501.000030    \n",
       "8                                        3498.120075    \n",
       "9                                        3503.247805    \n",
       "\n",
       "   rougher.calculation.au_pb_ratio  rougher.output.concentrate_au  \\\n",
       "0                         2.838687                      19.793808   \n",
       "1                         2.858998                      20.050975   \n",
       "2                         2.945989                      19.737170   \n",
       "3                         3.002340                      19.320810   \n",
       "4                         3.169615                      19.216101   \n",
       "5                         3.026134                      18.950385   \n",
       "6                         2.867933                      19.319591   \n",
       "7                         2.784698                      19.507897   \n",
       "8                         2.728844                      19.789465   \n",
       "9                         2.657499                      19.550973   \n",
       "\n",
       "   rougher.output.concentrate_ag  rougher.output.concentrate_pb  \\\n",
       "0                      11.500771                       7.101074   \n",
       "1                      11.615865                       7.278807   \n",
       "2                      11.695753                       7.216833   \n",
       "3                      11.915047                       7.175616   \n",
       "4                      12.411054                       7.240205   \n",
       "5                      11.985584                       7.121903   \n",
       "6                      11.684307                       7.304849   \n",
       "7                      11.182624                       7.258496   \n",
       "8                      11.051323                       7.380043   \n",
       "9                      11.354861                       7.344956   \n",
       "\n",
       "   rougher.output.concentrate_sol  rougher.output.recovery  \\\n",
       "0                       28.029297                87.107763   \n",
       "1                       28.067063                86.843261   \n",
       "2                       27.454037                86.842308   \n",
       "3                       27.341277                87.226430   \n",
       "4                       27.041023                86.688794   \n",
       "5                       26.898046                88.156912   \n",
       "6                       27.063672                88.168065   \n",
       "7                       27.231114                87.668336   \n",
       "8                       27.404296                87.035862   \n",
       "9                       27.742063                88.280699   \n",
       "\n",
       "   rougher.output.tail_au  rougher.output.tail_ag  rougher.output.tail_pb  \\\n",
       "0                1.170244                5.008018                0.508728   \n",
       "1                1.184827                4.955378                0.536689   \n",
       "2                1.162562                4.843460                0.546416   \n",
       "3                1.079755                4.655288                0.542525   \n",
       "4                1.012642                4.552800                0.515438   \n",
       "5                0.915835                4.397415                0.491350   \n",
       "6                0.986248                4.478080                0.518266   \n",
       "7                1.116110                4.728325                0.548067   \n",
       "8                1.186780                4.764300                0.599181   \n",
       "9                1.137303                4.600020                0.619485   \n",
       "\n",
       "   rougher.output.tail_sol  primary_cleaner.input.sulfate  \\\n",
       "0                19.154297                     127.092003   \n",
       "1                18.965234                     125.629232   \n",
       "2                18.808533                     123.819808   \n",
       "3                19.330200                     122.270188   \n",
       "4                19.267422                     117.988169   \n",
       "5                19.640269                     115.581252   \n",
       "6                19.262491                     117.322323   \n",
       "7                18.861866                     124.592960   \n",
       "8                18.873082                     131.781026   \n",
       "9                19.436276                     146.153696   \n",
       "\n",
       "   primary_cleaner.input.depressant  primary_cleaner.input.feed_size  \\\n",
       "0                         10.128295                             7.25   \n",
       "1                         10.296251                             7.25   \n",
       "2                         11.316280                             7.25   \n",
       "3                         11.322140                             7.25   \n",
       "4                         11.913613                             7.25   \n",
       "5                         12.470773                             7.25   \n",
       "6                         12.469088                             7.25   \n",
       "7                         12.467403                             7.25   \n",
       "8                         12.465718                             7.25   \n",
       "9                         12.464385                             7.25   \n",
       "\n",
       "   primary_cleaner.input.xanthate  primary_cleaner.state.floatbank8_a_air  \\\n",
       "0                        0.988759                             1549.775757   \n",
       "1                        1.002663                             1576.166671   \n",
       "2                        0.991265                             1601.556163   \n",
       "3                        0.996739                             1599.968720   \n",
       "4                        1.009869                             1601.339707   \n",
       "5                        0.965760                             1602.964922   \n",
       "6                        0.895207                             1597.532455   \n",
       "7                        0.901202                             1597.946266   \n",
       "8                        0.885535                             1601.670053   \n",
       "9                        0.897431                             1601.066985   \n",
       "\n",
       "   primary_cleaner.state.floatbank8_a_level  \\\n",
       "0                               -498.912140   \n",
       "1                               -500.904965   \n",
       "2                               -499.997791   \n",
       "3                               -500.951778   \n",
       "4                               -498.975456   \n",
       "5                               -498.090944   \n",
       "6                               -500.985364   \n",
       "7                               -501.592304   \n",
       "8                               -499.548891   \n",
       "9                               -499.830641   \n",
       "\n",
       "   primary_cleaner.state.floatbank8_b_air  \\\n",
       "0                             1551.434204   \n",
       "1                             1575.950626   \n",
       "2                             1600.386685   \n",
       "3                             1600.659236   \n",
       "4                             1601.437854   \n",
       "5                             1602.074298   \n",
       "6                             1602.816321   \n",
       "7                             1601.078254   \n",
       "8                             1598.804355   \n",
       "9                             1599.806933   \n",
       "\n",
       "   primary_cleaner.state.floatbank8_b_level  \\\n",
       "0                               -516.403442   \n",
       "1                               -499.865889   \n",
       "2                               -500.607762   \n",
       "3                               -499.677094   \n",
       "4                               -500.323246   \n",
       "5                               -500.179481   \n",
       "6                               -500.696736   \n",
       "7                               -499.494115   \n",
       "8                               -499.689644   \n",
       "9                               -500.600490   \n",
       "\n",
       "   primary_cleaner.state.floatbank8_c_air  \\\n",
       "0                             1549.873901   \n",
       "1                             1575.994189   \n",
       "2                             1602.003542   \n",
       "3                             1600.304144   \n",
       "4                             1599.581894   \n",
       "5                             1602.154812   \n",
       "6                             1603.572091   \n",
       "7                             1602.630688   \n",
       "8                             1601.689285   \n",
       "9                             1599.164142   \n",
       "\n",
       "   primary_cleaner.state.floatbank8_c_level  \\\n",
       "0                               -498.666595   \n",
       "1                               -499.315107   \n",
       "2                               -500.870069   \n",
       "3                               -500.727997   \n",
       "4                               -500.888152   \n",
       "5                               -498.642614   \n",
       "6                               -500.256955   \n",
       "7                               -500.173741   \n",
       "8                               -500.484957   \n",
       "9                               -499.334459   \n",
       "\n",
       "   primary_cleaner.state.floatbank8_d_air  \\\n",
       "0                             1554.367432   \n",
       "1                             1574.479259   \n",
       "2                             1599.541515   \n",
       "3                             1600.449520   \n",
       "4                             1602.649541   \n",
       "5                             1605.020106   \n",
       "6                             1597.597437   \n",
       "7                             1595.937990   \n",
       "8                             1602.431117   \n",
       "9                             1599.697783   \n",
       "\n",
       "   primary_cleaner.state.floatbank8_d_level  \\\n",
       "0                               -493.428131   \n",
       "1                               -498.931665   \n",
       "2                               -499.827444   \n",
       "3                               -500.052575   \n",
       "4                               -500.593010   \n",
       "5                               -500.538177   \n",
       "6                               -500.378192   \n",
       "7                               -498.929825   \n",
       "8                               -500.650982   \n",
       "9                               -500.263228   \n",
       "\n",
       "   primary_cleaner.output.concentrate_au  \\\n",
       "0                              34.174427   \n",
       "1                              34.118526   \n",
       "2                              33.969464   \n",
       "3                              28.260743   \n",
       "4                              33.044932   \n",
       "5                              32.070664   \n",
       "6                              33.184823   \n",
       "7                              34.027719   \n",
       "8                              34.964974   \n",
       "9                              35.360817   \n",
       "\n",
       "   primary_cleaner.output.concentrate_ag  \\\n",
       "0                               8.547551   \n",
       "1                               8.558743   \n",
       "2                               8.603505   \n",
       "3                               7.221879   \n",
       "4                               9.089428   \n",
       "5                               9.553724   \n",
       "6                               8.968869   \n",
       "7                               8.545238   \n",
       "8                               8.046686   \n",
       "9                               7.862340   \n",
       "\n",
       "   primary_cleaner.output.concentrate_pb  \\\n",
       "0                              10.389648   \n",
       "1                              10.497069   \n",
       "2                              10.354494   \n",
       "3                               8.496563   \n",
       "4                               9.986786   \n",
       "5                               9.816215   \n",
       "6                              10.081306   \n",
       "7                              10.224540   \n",
       "8                              10.500065   \n",
       "9                              10.526890   \n",
       "\n",
       "   primary_cleaner.output.concentrate_sol  primary_cleaner.output.tail_au  \\\n",
       "0                               19.529297                        2.106679   \n",
       "1                               19.369147                        2.353017   \n",
       "2                               19.167579                        2.416800   \n",
       "3                               15.978538                        2.262051   \n",
       "4                               19.199864                        2.277073   \n",
       "5                               19.167328                        2.114558   \n",
       "6                               18.930855                        2.223152   \n",
       "7                               18.735813                        2.112025   \n",
       "8                               18.560288                        2.243817   \n",
       "9                               18.504813                        2.011642   \n",
       "\n",
       "   primary_cleaner.output.tail_ag  primary_cleaner.output.tail_pb  \\\n",
       "0                       14.936526                        2.534912   \n",
       "1                       16.250511                        3.049646   \n",
       "2                       16.491823                        3.124664   \n",
       "3                       16.024359                        2.960362   \n",
       "4                       16.480185                        3.112100   \n",
       "5                       15.931540                        2.844511   \n",
       "6                       16.078368                        2.938979   \n",
       "7                       15.797720                        2.881529   \n",
       "8                       16.195420                        3.089922   \n",
       "9                       15.823639                        3.012419   \n",
       "\n",
       "   primary_cleaner.output.tail_sol  secondary_cleaner.state.floatbank2_a_air  \\\n",
       "0                         7.476074                                 25.853109   \n",
       "1                         6.733907                                 25.880539   \n",
       "2                         6.471768                                 26.005245   \n",
       "3                         6.843791                                 25.942508   \n",
       "4                         6.550154                                 26.024787   \n",
       "5                         6.724197                                 26.014841   \n",
       "6                         6.623598                                 25.957594   \n",
       "7                         6.872033                                 25.938026   \n",
       "8                         6.705633                                 25.929511   \n",
       "9                         7.214806                                 25.986485   \n",
       "\n",
       "   secondary_cleaner.state.floatbank2_a_level  \\\n",
       "0                                 -498.526489   \n",
       "1                                 -499.989656   \n",
       "2                                 -499.929616   \n",
       "3                                 -499.176749   \n",
       "4                                 -500.279091   \n",
       "5                                 -498.864670   \n",
       "6                                 -500.134472   \n",
       "7                                 -499.657795   \n",
       "8                                 -500.079889   \n",
       "9                                 -499.402963   \n",
       "\n",
       "   secondary_cleaner.state.floatbank2_b_air  \\\n",
       "0                                 23.893660   \n",
       "1                                 23.889530   \n",
       "2                                 23.886657   \n",
       "3                                 23.955516   \n",
       "4                                 23.955345   \n",
       "5                                 23.880214   \n",
       "6                                 24.077199   \n",
       "7                                 24.020179   \n",
       "8                                 23.977375   \n",
       "9                                 23.961207   \n",
       "\n",
       "   secondary_cleaner.state.floatbank2_b_level  \\\n",
       "0                                 -501.406281   \n",
       "1                                 -500.372428   \n",
       "2                                 -499.951928   \n",
       "3                                 -499.848796   \n",
       "4                                 -500.593614   \n",
       "5                                 -499.738447   \n",
       "6                                 -500.089190   \n",
       "7                                 -499.798396   \n",
       "8                                 -500.005187   \n",
       "9                                 -499.986118   \n",
       "\n",
       "   secondary_cleaner.state.floatbank3_a_air  \\\n",
       "0                                 23.961798   \n",
       "1                                 23.970550   \n",
       "2                                 23.913535   \n",
       "3                                 23.966838   \n",
       "4                                 23.985703   \n",
       "5                                 23.982635   \n",
       "6                                 23.991710   \n",
       "7                                 24.031555   \n",
       "8                                 23.998809   \n",
       "9                                 24.049918   \n",
       "\n",
       "   secondary_cleaner.state.floatbank3_a_level  \\\n",
       "0                                 -495.262817   \n",
       "1                                 -500.085473   \n",
       "2                                 -499.442343   \n",
       "3                                 -500.008812   \n",
       "4                                 -500.083811   \n",
       "5                                 -500.495272   \n",
       "6                                 -500.391528   \n",
       "7                                 -500.550436   \n",
       "8                                 -500.400133   \n",
       "9                                 -500.435620   \n",
       "\n",
       "   secondary_cleaner.state.floatbank3_b_air  \\\n",
       "0                                 21.940409   \n",
       "1                                 22.085714   \n",
       "2                                 23.957717   \n",
       "3                                 23.954443   \n",
       "4                                 23.958945   \n",
       "5                                 24.009749   \n",
       "6                                 23.954144   \n",
       "7                                 23.968160   \n",
       "8                                 23.982633   \n",
       "9                                 23.972413   \n",
       "\n",
       "   secondary_cleaner.state.floatbank3_b_level  \\\n",
       "0                                 -499.340973   \n",
       "1                                 -499.446897   \n",
       "2                                 -499.901982   \n",
       "3                                 -499.944710   \n",
       "4                                 -499.990309   \n",
       "5                                 -499.433825   \n",
       "6                                 -501.872171   \n",
       "7                                 -499.836513   \n",
       "8                                 -499.826311   \n",
       "9                                 -499.751759   \n",
       "\n",
       "   secondary_cleaner.state.floatbank4_a_air  \\\n",
       "0                                 14.016835   \n",
       "1                                 13.992281   \n",
       "2                                 14.015015   \n",
       "3                                 14.036510   \n",
       "4                                 14.027298   \n",
       "5                                 13.938497   \n",
       "6                                 14.046819   \n",
       "7                                 13.974691   \n",
       "8                                 13.964030   \n",
       "9                                 14.008944   \n",
       "\n",
       "   secondary_cleaner.state.floatbank4_a_level  \\\n",
       "0                                 -502.488007   \n",
       "1                                 -505.503262   \n",
       "2                                 -502.520901   \n",
       "3                                 -500.857308   \n",
       "4                                 -499.838632   \n",
       "5                                 -500.970168   \n",
       "6                                 -500.971133   \n",
       "7                                 -501.819696   \n",
       "8                                 -504.252450   \n",
       "9                                 -504.170807   \n",
       "\n",
       "   secondary_cleaner.state.floatbank4_b_air  \\\n",
       "0                                 12.099931   \n",
       "1                                 11.950531   \n",
       "2                                 11.912783   \n",
       "3                                 11.999550   \n",
       "4                                 11.953070   \n",
       "5                                 11.883350   \n",
       "6                                 12.091543   \n",
       "7                                 12.101324   \n",
       "8                                 12.060738   \n",
       "9                                 11.995903   \n",
       "\n",
       "   secondary_cleaner.state.floatbank4_b_level  \\\n",
       "0                                 -504.715942   \n",
       "1                                 -501.331529   \n",
       "2                                 -501.133383   \n",
       "3                                 -501.193686   \n",
       "4                                 -501.053894   \n",
       "5                                 -500.395298   \n",
       "6                                 -500.501426   \n",
       "7                                 -500.583446   \n",
       "8                                 -501.174549   \n",
       "9                                 -501.269181   \n",
       "\n",
       "   secondary_cleaner.state.floatbank5_a_air  \\\n",
       "0                                  9.925633   \n",
       "1                                 10.039245   \n",
       "2                                 10.070913   \n",
       "3                                  9.970366   \n",
       "4                                  9.925709   \n",
       "5                                 10.054147   \n",
       "6                                 10.003247   \n",
       "7                                  9.873169   \n",
       "8                                 10.033838   \n",
       "9                                 10.043100   \n",
       "\n",
       "   secondary_cleaner.state.floatbank5_a_level  \\\n",
       "0                                 -498.310211   \n",
       "1                                 -500.169983   \n",
       "2                                 -500.129135   \n",
       "3                                 -499.201640   \n",
       "4                                 -501.686727   \n",
       "5                                 -496.374715   \n",
       "6                                 -497.083180   \n",
       "7                                 -499.171928   \n",
       "8                                 -501.178133   \n",
       "9                                 -498.529996   \n",
       "\n",
       "   secondary_cleaner.state.floatbank5_b_air  \\\n",
       "0                                  8.079666   \n",
       "1                                  7.984757   \n",
       "2                                  8.013877   \n",
       "3                                  7.977324   \n",
       "4                                  7.894242   \n",
       "5                                  7.965083   \n",
       "6                                  8.010890   \n",
       "7                                  7.993381   \n",
       "8                                  7.881604   \n",
       "9                                  8.002633   \n",
       "\n",
       "   secondary_cleaner.state.floatbank5_b_level  \\\n",
       "0                                 -500.470978   \n",
       "1                                 -500.582168   \n",
       "2                                 -500.517572   \n",
       "3                                 -500.255908   \n",
       "4                                 -500.356035   \n",
       "5                                 -499.364752   \n",
       "6                                 -500.002423   \n",
       "7                                 -499.794518   \n",
       "8                                 -499.729434   \n",
       "9                                 -499.761922   \n",
       "\n",
       "   secondary_cleaner.state.floatbank6_a_air  \\\n",
       "0                                 14.151341   \n",
       "1                                 13.998353   \n",
       "2                                 14.028663   \n",
       "3                                 14.005551   \n",
       "4                                 13.996647   \n",
       "5                                 14.017067   \n",
       "6                                 14.029649   \n",
       "7                                 13.984498   \n",
       "8                                 13.967135   \n",
       "9                                 14.004767   \n",
       "\n",
       "   secondary_cleaner.state.floatbank6_a_level  \\\n",
       "0                                 -605.841980   \n",
       "1                                 -599.787184   \n",
       "2                                 -601.427363   \n",
       "3                                 -599.996129   \n",
       "4                                 -601.496691   \n",
       "5                                 -599.707915   \n",
       "6                                 -600.905470   \n",
       "7                                 -600.411070   \n",
       "8                                 -599.061188   \n",
       "9                                 -599.595324   \n",
       "\n",
       "   secondary_cleaner.output.tail_au  secondary_cleaner.output.tail_ag  \\\n",
       "0                          2.606185                         14.500184   \n",
       "1                          2.488248                         14.265474   \n",
       "2                          2.458187                         14.115662   \n",
       "3                          2.322062                         13.732071   \n",
       "4                          2.330448                         14.079996   \n",
       "5                          2.192127                         13.615012   \n",
       "6                          2.316720                         13.597056   \n",
       "7                          2.192197                         13.177237   \n",
       "8                          2.212084                         13.487870   \n",
       "9                          2.067619                         13.735810   \n",
       "\n",
       "   secondary_cleaner.output.tail_pb  secondary_cleaner.output.tail_sol  \\\n",
       "0                          4.694824                           8.764648   \n",
       "1                          4.592547                           9.001494   \n",
       "2                          4.624775                           8.842896   \n",
       "3                          4.482453                           9.122857   \n",
       "4                          4.470737                           8.871028   \n",
       "5                          4.286817                           9.302669   \n",
       "6                          4.487865                           9.103047   \n",
       "7                          4.432448                           9.369209   \n",
       "8                          4.608756                           9.437044   \n",
       "9                          4.721778                           9.582874   \n",
       "\n",
       "   final.output.concentrate_au  final.output.concentrate_ag  \\\n",
       "0                    42.192020                     6.055403   \n",
       "1                    42.701629                     6.029369   \n",
       "2                    42.657501                     6.055926   \n",
       "3                    42.689819                     6.047977   \n",
       "4                    42.774141                     6.148599   \n",
       "5                    41.633678                     6.482968   \n",
       "6                    41.995316                     6.533849   \n",
       "7                    42.452727                     6.130823   \n",
       "8                    43.404078                     5.834140   \n",
       "9                    43.487291                     5.706261   \n",
       "\n",
       "   final.output.concentrate_pb  final.output.concentrate_sol  \\\n",
       "0                     9.889648                      5.507324   \n",
       "1                     9.968944                      5.257781   \n",
       "2                    10.213995                      5.383759   \n",
       "3                     9.977019                      4.858634   \n",
       "4                    10.142511                      4.939416   \n",
       "5                    10.049416                      5.480257   \n",
       "6                    10.058141                      4.569100   \n",
       "7                     9.935481                      4.389813   \n",
       "8                    10.071156                      4.876389   \n",
       "9                    10.242511                      5.214161   \n",
       "\n",
       "   final.output.recovery  final.output.tail_au  final.output.tail_ag  \\\n",
       "0              70.541216              2.143149             10.411962   \n",
       "1              69.266198              2.224930             10.462676   \n",
       "2              68.116445              2.257889             10.507046   \n",
       "3              68.347543              2.146849             10.422762   \n",
       "4              66.927016              2.055292             10.360302   \n",
       "5              69.465816              1.918586             10.182708   \n",
       "6              69.300835              2.058913             10.304598   \n",
       "7              70.230976              2.143437             10.443288   \n",
       "8              69.688595              2.209881             10.420140   \n",
       "9              70.973641              2.200997             10.473539   \n",
       "\n",
       "   final.output.tail_pb  final.output.tail_sol  \n",
       "0              0.895447              16.904297  \n",
       "1              0.927452              16.634514  \n",
       "2              0.953716              16.208849  \n",
       "3              0.883763              16.532835  \n",
       "4              0.792826              16.525686  \n",
       "5              0.664118              16.999638  \n",
       "6              0.807342              16.723575  \n",
       "7              0.949346              16.689959  \n",
       "8              1.065453              17.201948  \n",
       "9              1.171183              17.717049  "
      ]
     },
     "execution_count": 5,
     "metadata": {},
     "output_type": "execute_result"
    }
   ],
   "source": [
    "df_full.head(10)"
   ]
  },
  {
   "cell_type": "code",
   "execution_count": 6,
   "metadata": {
    "scrolled": false
   },
   "outputs": [
    {
     "data": {
      "text/html": [
       "<style  type=\"text/css\" >\n",
       "#T_67252_row0_col0{\n",
       "            background-color:  #b40426;\n",
       "            color:  #f1f1f1;\n",
       "        }#T_67252_row1_col0{\n",
       "            background-color:  #8fb1fe;\n",
       "            color:  #000000;\n",
       "        }#T_67252_row2_col0{\n",
       "            background-color:  #8badfd;\n",
       "            color:  #000000;\n",
       "        }#T_67252_row3_col0{\n",
       "            background-color:  #80a3fa;\n",
       "            color:  #000000;\n",
       "        }#T_67252_row4_col0,#T_67252_row5_col0{\n",
       "            background-color:  #6180e9;\n",
       "            color:  #000000;\n",
       "        }#T_67252_row6_col0{\n",
       "            background-color:  #516ddb;\n",
       "            color:  #000000;\n",
       "        }#T_67252_row7_col0{\n",
       "            background-color:  #4f69d9;\n",
       "            color:  #000000;\n",
       "        }#T_67252_row8_col0,#T_67252_row9_col0,#T_67252_row10_col0,#T_67252_row11_col0{\n",
       "            background-color:  #4b64d5;\n",
       "            color:  #f1f1f1;\n",
       "        }#T_67252_row12_col0{\n",
       "            background-color:  #445acc;\n",
       "            color:  #f1f1f1;\n",
       "        }#T_67252_row13_col0,#T_67252_row14_col0,#T_67252_row15_col0{\n",
       "            background-color:  #4055c8;\n",
       "            color:  #f1f1f1;\n",
       "        }#T_67252_row16_col0,#T_67252_row17_col0,#T_67252_row18_col0,#T_67252_row19_col0,#T_67252_row20_col0,#T_67252_row21_col0,#T_67252_row22_col0{\n",
       "            background-color:  #3d50c3;\n",
       "            color:  #f1f1f1;\n",
       "        }#T_67252_row23_col0,#T_67252_row24_col0,#T_67252_row25_col0,#T_67252_row26_col0,#T_67252_row27_col0,#T_67252_row28_col0,#T_67252_row29_col0,#T_67252_row30_col0,#T_67252_row31_col0,#T_67252_row32_col0,#T_67252_row33_col0,#T_67252_row34_col0,#T_67252_row35_col0,#T_67252_row36_col0,#T_67252_row37_col0,#T_67252_row38_col0,#T_67252_row39_col0,#T_67252_row40_col0,#T_67252_row41_col0,#T_67252_row42_col0,#T_67252_row43_col0,#T_67252_row44_col0,#T_67252_row45_col0,#T_67252_row46_col0,#T_67252_row47_col0,#T_67252_row48_col0,#T_67252_row49_col0,#T_67252_row50_col0,#T_67252_row51_col0,#T_67252_row52_col0,#T_67252_row53_col0,#T_67252_row54_col0,#T_67252_row55_col0,#T_67252_row56_col0,#T_67252_row57_col0,#T_67252_row58_col0,#T_67252_row59_col0,#T_67252_row60_col0,#T_67252_row61_col0,#T_67252_row62_col0,#T_67252_row63_col0,#T_67252_row64_col0,#T_67252_row65_col0,#T_67252_row66_col0,#T_67252_row67_col0,#T_67252_row68_col0,#T_67252_row69_col0,#T_67252_row70_col0,#T_67252_row71_col0,#T_67252_row72_col0,#T_67252_row73_col0,#T_67252_row74_col0,#T_67252_row75_col0,#T_67252_row76_col0,#T_67252_row77_col0,#T_67252_row78_col0,#T_67252_row79_col0,#T_67252_row80_col0,#T_67252_row81_col0,#T_67252_row82_col0,#T_67252_row83_col0,#T_67252_row84_col0,#T_67252_row85_col0,#T_67252_row86_col0{\n",
       "            background-color:  #3b4cc0;\n",
       "            color:  #f1f1f1;\n",
       "        }</style><table id=\"T_67252_\" ><thead>    <tr>        <th class=\"blank level0\" ></th>        <th class=\"col_heading level0 col0\" >0</th>    </tr></thead><tbody>\n",
       "                <tr>\n",
       "                        <th id=\"T_67252_level0_row0\" class=\"row_heading level0 row0\" >secondary_cleaner.output.tail_sol</th>\n",
       "                        <td id=\"T_67252_row0_col0\" class=\"data row0 col0\" >9.000000</td>\n",
       "            </tr>\n",
       "            <tr>\n",
       "                        <th id=\"T_67252_level0_row1\" class=\"row_heading level0 row1\" >rougher.input.floatbank11_xanthate</th>\n",
       "                        <td id=\"T_67252_row1_col0\" class=\"data row1 col0\" >2.300000</td>\n",
       "            </tr>\n",
       "            <tr>\n",
       "                        <th id=\"T_67252_level0_row2\" class=\"row_heading level0 row2\" >rougher.state.floatbank10_e_air</th>\n",
       "                        <td id=\"T_67252_row2_col0\" class=\"data row2 col0\" >2.200000</td>\n",
       "            </tr>\n",
       "            <tr>\n",
       "                        <th id=\"T_67252_level0_row3\" class=\"row_heading level0 row3\" >primary_cleaner.output.concentrate_sol</th>\n",
       "                        <td id=\"T_67252_row3_col0\" class=\"data row3 col0\" >1.900000</td>\n",
       "            </tr>\n",
       "            <tr>\n",
       "                        <th id=\"T_67252_level0_row4\" class=\"row_heading level0 row4\" >secondary_cleaner.state.floatbank2_a_air</th>\n",
       "                        <td id=\"T_67252_row4_col0\" class=\"data row4 col0\" >1.100000</td>\n",
       "            </tr>\n",
       "            <tr>\n",
       "                        <th id=\"T_67252_level0_row5\" class=\"row_heading level0 row5\" >final.output.concentrate_sol</th>\n",
       "                        <td id=\"T_67252_row5_col0\" class=\"data row5 col0\" >1.100000</td>\n",
       "            </tr>\n",
       "            <tr>\n",
       "                        <th id=\"T_67252_level0_row6\" class=\"row_heading level0 row6\" >rougher.input.feed_size</th>\n",
       "                        <td id=\"T_67252_row6_col0\" class=\"data row6 col0\" >0.700000</td>\n",
       "            </tr>\n",
       "            <tr>\n",
       "                        <th id=\"T_67252_level0_row7\" class=\"row_heading level0 row7\" >primary_cleaner.output.concentrate_pb</th>\n",
       "                        <td id=\"T_67252_row7_col0\" class=\"data row7 col0\" >0.600000</td>\n",
       "            </tr>\n",
       "            <tr>\n",
       "                        <th id=\"T_67252_level0_row8\" class=\"row_heading level0 row8\" >primary_cleaner.input.xanthate</th>\n",
       "                        <td id=\"T_67252_row8_col0\" class=\"data row8 col0\" >0.500000</td>\n",
       "            </tr>\n",
       "            <tr>\n",
       "                        <th id=\"T_67252_level0_row9\" class=\"row_heading level0 row9\" >final.output.tail_pb</th>\n",
       "                        <td id=\"T_67252_row9_col0\" class=\"data row9 col0\" >0.500000</td>\n",
       "            </tr>\n",
       "            <tr>\n",
       "                        <th id=\"T_67252_level0_row10\" class=\"row_heading level0 row10\" >rougher.input.feed_pb</th>\n",
       "                        <td id=\"T_67252_row10_col0\" class=\"data row10 col0\" >0.500000</td>\n",
       "            </tr>\n",
       "            <tr>\n",
       "                        <th id=\"T_67252_level0_row11\" class=\"row_heading level0 row11\" >rougher.input.feed_sol</th>\n",
       "                        <td id=\"T_67252_row11_col0\" class=\"data row11 col0\" >0.500000</td>\n",
       "            </tr>\n",
       "            <tr>\n",
       "                        <th id=\"T_67252_level0_row12\" class=\"row_heading level0 row12\" >primary_cleaner.output.tail_sol</th>\n",
       "                        <td id=\"T_67252_row12_col0\" class=\"data row12 col0\" >0.300000</td>\n",
       "            </tr>\n",
       "            <tr>\n",
       "                        <th id=\"T_67252_level0_row13\" class=\"row_heading level0 row13\" >rougher.input.floatbank11_sulfate</th>\n",
       "                        <td id=\"T_67252_row13_col0\" class=\"data row13 col0\" >0.200000</td>\n",
       "            </tr>\n",
       "            <tr>\n",
       "                        <th id=\"T_67252_level0_row14\" class=\"row_heading level0 row14\" >primary_cleaner.input.depressant</th>\n",
       "                        <td id=\"T_67252_row14_col0\" class=\"data row14 col0\" >0.200000</td>\n",
       "            </tr>\n",
       "            <tr>\n",
       "                        <th id=\"T_67252_level0_row15\" class=\"row_heading level0 row15\" >rougher.input.floatbank10_sulfate</th>\n",
       "                        <td id=\"T_67252_row15_col0\" class=\"data row15 col0\" >0.200000</td>\n",
       "            </tr>\n",
       "            <tr>\n",
       "                        <th id=\"T_67252_level0_row16\" class=\"row_heading level0 row16\" >primary_cleaner.input.sulfate</th>\n",
       "                        <td id=\"T_67252_row16_col0\" class=\"data row16 col0\" >0.100000</td>\n",
       "            </tr>\n",
       "            <tr>\n",
       "                        <th id=\"T_67252_level0_row17\" class=\"row_heading level0 row17\" >rougher.output.concentrate_sol</th>\n",
       "                        <td id=\"T_67252_row17_col0\" class=\"data row17 col0\" >0.100000</td>\n",
       "            </tr>\n",
       "            <tr>\n",
       "                        <th id=\"T_67252_level0_row18\" class=\"row_heading level0 row18\" >secondary_cleaner.state.floatbank2_b_air</th>\n",
       "                        <td id=\"T_67252_row18_col0\" class=\"data row18 col0\" >0.100000</td>\n",
       "            </tr>\n",
       "            <tr>\n",
       "                        <th id=\"T_67252_level0_row19\" class=\"row_heading level0 row19\" >primary_cleaner.output.tail_pb</th>\n",
       "                        <td id=\"T_67252_row19_col0\" class=\"data row19 col0\" >0.100000</td>\n",
       "            </tr>\n",
       "            <tr>\n",
       "                        <th id=\"T_67252_level0_row20\" class=\"row_heading level0 row20\" >secondary_cleaner.state.floatbank3_a_air</th>\n",
       "                        <td id=\"T_67252_row20_col0\" class=\"data row20 col0\" >0.100000</td>\n",
       "            </tr>\n",
       "            <tr>\n",
       "                        <th id=\"T_67252_level0_row21\" class=\"row_heading level0 row21\" >secondary_cleaner.output.tail_pb</th>\n",
       "                        <td id=\"T_67252_row21_col0\" class=\"data row21 col0\" >0.100000</td>\n",
       "            </tr>\n",
       "            <tr>\n",
       "                        <th id=\"T_67252_level0_row22\" class=\"row_heading level0 row22\" >rougher.input.feed_rate</th>\n",
       "                        <td id=\"T_67252_row22_col0\" class=\"data row22 col0\" >0.100000</td>\n",
       "            </tr>\n",
       "            <tr>\n",
       "                        <th id=\"T_67252_level0_row23\" class=\"row_heading level0 row23\" >rougher.input.floatbank10_xanthate</th>\n",
       "                        <td id=\"T_67252_row23_col0\" class=\"data row23 col0\" >0.000000</td>\n",
       "            </tr>\n",
       "            <tr>\n",
       "                        <th id=\"T_67252_level0_row24\" class=\"row_heading level0 row24\" >secondary_cleaner.state.floatbank4_a_air</th>\n",
       "                        <td id=\"T_67252_row24_col0\" class=\"data row24 col0\" >0.000000</td>\n",
       "            </tr>\n",
       "            <tr>\n",
       "                        <th id=\"T_67252_level0_row25\" class=\"row_heading level0 row25\" >final.output.tail_sol</th>\n",
       "                        <td id=\"T_67252_row25_col0\" class=\"data row25 col0\" >0.000000</td>\n",
       "            </tr>\n",
       "            <tr>\n",
       "                        <th id=\"T_67252_level0_row26\" class=\"row_heading level0 row26\" >primary_cleaner.output.tail_ag</th>\n",
       "                        <td id=\"T_67252_row26_col0\" class=\"data row26 col0\" >0.000000</td>\n",
       "            </tr>\n",
       "            <tr>\n",
       "                        <th id=\"T_67252_level0_row27\" class=\"row_heading level0 row27\" >primary_cleaner.state.floatbank8_b_air</th>\n",
       "                        <td id=\"T_67252_row27_col0\" class=\"data row27 col0\" >0.000000</td>\n",
       "            </tr>\n",
       "            <tr>\n",
       "                        <th id=\"T_67252_level0_row28\" class=\"row_heading level0 row28\" >primary_cleaner.state.floatbank8_a_air</th>\n",
       "                        <td id=\"T_67252_row28_col0\" class=\"data row28 col0\" >0.000000</td>\n",
       "            </tr>\n",
       "            <tr>\n",
       "                        <th id=\"T_67252_level0_row29\" class=\"row_heading level0 row29\" >primary_cleaner.state.floatbank8_d_air</th>\n",
       "                        <td id=\"T_67252_row29_col0\" class=\"data row29 col0\" >0.000000</td>\n",
       "            </tr>\n",
       "            <tr>\n",
       "                        <th id=\"T_67252_level0_row30\" class=\"row_heading level0 row30\" >rougher.calculation.sulfate_to_au_concentrate</th>\n",
       "                        <td id=\"T_67252_row30_col0\" class=\"data row30 col0\" >0.000000</td>\n",
       "            </tr>\n",
       "            <tr>\n",
       "                        <th id=\"T_67252_level0_row31\" class=\"row_heading level0 row31\" >secondary_cleaner.output.tail_ag</th>\n",
       "                        <td id=\"T_67252_row31_col0\" class=\"data row31 col0\" >0.000000</td>\n",
       "            </tr>\n",
       "            <tr>\n",
       "                        <th id=\"T_67252_level0_row32\" class=\"row_heading level0 row32\" >primary_cleaner.state.floatbank8_c_air</th>\n",
       "                        <td id=\"T_67252_row32_col0\" class=\"data row32 col0\" >0.000000</td>\n",
       "            </tr>\n",
       "            <tr>\n",
       "                        <th id=\"T_67252_level0_row33\" class=\"row_heading level0 row33\" >secondary_cleaner.state.floatbank6_a_air</th>\n",
       "                        <td id=\"T_67252_row33_col0\" class=\"data row33 col0\" >0.000000</td>\n",
       "            </tr>\n",
       "            <tr>\n",
       "                        <th id=\"T_67252_level0_row34\" class=\"row_heading level0 row34\" >rougher.calculation.floatbank11_sulfate_to_au_feed</th>\n",
       "                        <td id=\"T_67252_row34_col0\" class=\"data row34 col0\" >0.000000</td>\n",
       "            </tr>\n",
       "            <tr>\n",
       "                        <th id=\"T_67252_level0_row35\" class=\"row_heading level0 row35\" >rougher.calculation.floatbank10_sulfate_to_au_feed</th>\n",
       "                        <td id=\"T_67252_row35_col0\" class=\"data row35 col0\" >0.000000</td>\n",
       "            </tr>\n",
       "            <tr>\n",
       "                        <th id=\"T_67252_level0_row36\" class=\"row_heading level0 row36\" >secondary_cleaner.state.floatbank3_b_air</th>\n",
       "                        <td id=\"T_67252_row36_col0\" class=\"data row36 col0\" >0.000000</td>\n",
       "            </tr>\n",
       "            <tr>\n",
       "                        <th id=\"T_67252_level0_row37\" class=\"row_heading level0 row37\" >final.output.tail_ag</th>\n",
       "                        <td id=\"T_67252_row37_col0\" class=\"data row37 col0\" >0.000000</td>\n",
       "            </tr>\n",
       "            <tr>\n",
       "                        <th id=\"T_67252_level0_row38\" class=\"row_heading level0 row38\" >final.output.concentrate_pb</th>\n",
       "                        <td id=\"T_67252_row38_col0\" class=\"data row38 col0\" >0.000000</td>\n",
       "            </tr>\n",
       "            <tr>\n",
       "                        <th id=\"T_67252_level0_row39\" class=\"row_heading level0 row39\" >final.output.concentrate_ag</th>\n",
       "                        <td id=\"T_67252_row39_col0\" class=\"data row39 col0\" >0.000000</td>\n",
       "            </tr>\n",
       "            <tr>\n",
       "                        <th id=\"T_67252_level0_row40\" class=\"row_heading level0 row40\" >secondary_cleaner.state.floatbank4_b_level</th>\n",
       "                        <td id=\"T_67252_row40_col0\" class=\"data row40 col0\" >0.000000</td>\n",
       "            </tr>\n",
       "            <tr>\n",
       "                        <th id=\"T_67252_level0_row41\" class=\"row_heading level0 row41\" >secondary_cleaner.state.floatbank4_b_air</th>\n",
       "                        <td id=\"T_67252_row41_col0\" class=\"data row41 col0\" >0.000000</td>\n",
       "            </tr>\n",
       "            <tr>\n",
       "                        <th id=\"T_67252_level0_row42\" class=\"row_heading level0 row42\" >secondary_cleaner.state.floatbank2_a_level</th>\n",
       "                        <td id=\"T_67252_row42_col0\" class=\"data row42 col0\" >0.000000</td>\n",
       "            </tr>\n",
       "            <tr>\n",
       "                        <th id=\"T_67252_level0_row43\" class=\"row_heading level0 row43\" >secondary_cleaner.state.floatbank6_a_level</th>\n",
       "                        <td id=\"T_67252_row43_col0\" class=\"data row43 col0\" >0.000000</td>\n",
       "            </tr>\n",
       "            <tr>\n",
       "                        <th id=\"T_67252_level0_row44\" class=\"row_heading level0 row44\" >secondary_cleaner.state.floatbank3_a_level</th>\n",
       "                        <td id=\"T_67252_row44_col0\" class=\"data row44 col0\" >0.000000</td>\n",
       "            </tr>\n",
       "            <tr>\n",
       "                        <th id=\"T_67252_level0_row45\" class=\"row_heading level0 row45\" >secondary_cleaner.state.floatbank4_a_level</th>\n",
       "                        <td id=\"T_67252_row45_col0\" class=\"data row45 col0\" >0.000000</td>\n",
       "            </tr>\n",
       "            <tr>\n",
       "                        <th id=\"T_67252_level0_row46\" class=\"row_heading level0 row46\" >secondary_cleaner.state.floatbank2_b_level</th>\n",
       "                        <td id=\"T_67252_row46_col0\" class=\"data row46 col0\" >0.000000</td>\n",
       "            </tr>\n",
       "            <tr>\n",
       "                        <th id=\"T_67252_level0_row47\" class=\"row_heading level0 row47\" >secondary_cleaner.state.floatbank5_a_air</th>\n",
       "                        <td id=\"T_67252_row47_col0\" class=\"data row47 col0\" >0.000000</td>\n",
       "            </tr>\n",
       "            <tr>\n",
       "                        <th id=\"T_67252_level0_row48\" class=\"row_heading level0 row48\" >secondary_cleaner.state.floatbank5_b_level</th>\n",
       "                        <td id=\"T_67252_row48_col0\" class=\"data row48 col0\" >0.000000</td>\n",
       "            </tr>\n",
       "            <tr>\n",
       "                        <th id=\"T_67252_level0_row49\" class=\"row_heading level0 row49\" >secondary_cleaner.state.floatbank5_b_air</th>\n",
       "                        <td id=\"T_67252_row49_col0\" class=\"data row49 col0\" >0.000000</td>\n",
       "            </tr>\n",
       "            <tr>\n",
       "                        <th id=\"T_67252_level0_row50\" class=\"row_heading level0 row50\" >secondary_cleaner.state.floatbank3_b_level</th>\n",
       "                        <td id=\"T_67252_row50_col0\" class=\"data row50 col0\" >0.000000</td>\n",
       "            </tr>\n",
       "            <tr>\n",
       "                        <th id=\"T_67252_level0_row51\" class=\"row_heading level0 row51\" >secondary_cleaner.state.floatbank5_a_level</th>\n",
       "                        <td id=\"T_67252_row51_col0\" class=\"data row51 col0\" >0.000000</td>\n",
       "            </tr>\n",
       "            <tr>\n",
       "                        <th id=\"T_67252_level0_row52\" class=\"row_heading level0 row52\" >primary_cleaner.state.floatbank8_b_level</th>\n",
       "                        <td id=\"T_67252_row52_col0\" class=\"data row52 col0\" >0.000000</td>\n",
       "            </tr>\n",
       "            <tr>\n",
       "                        <th id=\"T_67252_level0_row53\" class=\"row_heading level0 row53\" >rougher.state.floatbank10_a_level</th>\n",
       "                        <td id=\"T_67252_row53_col0\" class=\"data row53 col0\" >0.000000</td>\n",
       "            </tr>\n",
       "            <tr>\n",
       "                        <th id=\"T_67252_level0_row54\" class=\"row_heading level0 row54\" >primary_cleaner.state.floatbank8_d_level</th>\n",
       "                        <td id=\"T_67252_row54_col0\" class=\"data row54 col0\" >0.000000</td>\n",
       "            </tr>\n",
       "            <tr>\n",
       "                        <th id=\"T_67252_level0_row55\" class=\"row_heading level0 row55\" >primary_cleaner.state.floatbank8_c_level</th>\n",
       "                        <td id=\"T_67252_row55_col0\" class=\"data row55 col0\" >0.000000</td>\n",
       "            </tr>\n",
       "            <tr>\n",
       "                        <th id=\"T_67252_level0_row56\" class=\"row_heading level0 row56\" >rougher.state.floatbank10_a_air</th>\n",
       "                        <td id=\"T_67252_row56_col0\" class=\"data row56 col0\" >0.000000</td>\n",
       "            </tr>\n",
       "            <tr>\n",
       "                        <th id=\"T_67252_level0_row57\" class=\"row_heading level0 row57\" >primary_cleaner.state.floatbank8_a_level</th>\n",
       "                        <td id=\"T_67252_row57_col0\" class=\"data row57 col0\" >0.000000</td>\n",
       "            </tr>\n",
       "            <tr>\n",
       "                        <th id=\"T_67252_level0_row58\" class=\"row_heading level0 row58\" >rougher.state.floatbank10_c_level</th>\n",
       "                        <td id=\"T_67252_row58_col0\" class=\"data row58 col0\" >0.000000</td>\n",
       "            </tr>\n",
       "            <tr>\n",
       "                        <th id=\"T_67252_level0_row59\" class=\"row_heading level0 row59\" >rougher.state.floatbank10_c_air</th>\n",
       "                        <td id=\"T_67252_row59_col0\" class=\"data row59 col0\" >0.000000</td>\n",
       "            </tr>\n",
       "            <tr>\n",
       "                        <th id=\"T_67252_level0_row60\" class=\"row_heading level0 row60\" >rougher.output.tail_ag</th>\n",
       "                        <td id=\"T_67252_row60_col0\" class=\"data row60 col0\" >0.000000</td>\n",
       "            </tr>\n",
       "            <tr>\n",
       "                        <th id=\"T_67252_level0_row61\" class=\"row_heading level0 row61\" >rougher.state.floatbank10_b_air</th>\n",
       "                        <td id=\"T_67252_row61_col0\" class=\"data row61 col0\" >0.000000</td>\n",
       "            </tr>\n",
       "            <tr>\n",
       "                        <th id=\"T_67252_level0_row62\" class=\"row_heading level0 row62\" >rougher.state.floatbank10_b_level</th>\n",
       "                        <td id=\"T_67252_row62_col0\" class=\"data row62 col0\" >0.000000</td>\n",
       "            </tr>\n",
       "            <tr>\n",
       "                        <th id=\"T_67252_level0_row63\" class=\"row_heading level0 row63\" >final.output.concentrate_au</th>\n",
       "                        <td id=\"T_67252_row63_col0\" class=\"data row63 col0\" >0.000000</td>\n",
       "            </tr>\n",
       "            <tr>\n",
       "                        <th id=\"T_67252_level0_row64\" class=\"row_heading level0 row64\" >secondary_cleaner.output.tail_au</th>\n",
       "                        <td id=\"T_67252_row64_col0\" class=\"data row64 col0\" >0.000000</td>\n",
       "            </tr>\n",
       "            <tr>\n",
       "                        <th id=\"T_67252_level0_row65\" class=\"row_heading level0 row65\" >rougher.state.floatbank10_d_air</th>\n",
       "                        <td id=\"T_67252_row65_col0\" class=\"data row65 col0\" >0.000000</td>\n",
       "            </tr>\n",
       "            <tr>\n",
       "                        <th id=\"T_67252_level0_row66\" class=\"row_heading level0 row66\" >primary_cleaner.output.tail_au</th>\n",
       "                        <td id=\"T_67252_row66_col0\" class=\"data row66 col0\" >0.000000</td>\n",
       "            </tr>\n",
       "            <tr>\n",
       "                        <th id=\"T_67252_level0_row67\" class=\"row_heading level0 row67\" >rougher.state.floatbank10_e_level</th>\n",
       "                        <td id=\"T_67252_row67_col0\" class=\"data row67 col0\" >0.000000</td>\n",
       "            </tr>\n",
       "            <tr>\n",
       "                        <th id=\"T_67252_level0_row68\" class=\"row_heading level0 row68\" >final.output.recovery</th>\n",
       "                        <td id=\"T_67252_row68_col0\" class=\"data row68 col0\" >0.000000</td>\n",
       "            </tr>\n",
       "            <tr>\n",
       "                        <th id=\"T_67252_level0_row69\" class=\"row_heading level0 row69\" >final.output.tail_au</th>\n",
       "                        <td id=\"T_67252_row69_col0\" class=\"data row69 col0\" >0.000000</td>\n",
       "            </tr>\n",
       "            <tr>\n",
       "                        <th id=\"T_67252_level0_row70\" class=\"row_heading level0 row70\" >rougher.input.feed_ag</th>\n",
       "                        <td id=\"T_67252_row70_col0\" class=\"data row70 col0\" >0.000000</td>\n",
       "            </tr>\n",
       "            <tr>\n",
       "                        <th id=\"T_67252_level0_row71\" class=\"row_heading level0 row71\" >rougher.state.floatbank10_d_level</th>\n",
       "                        <td id=\"T_67252_row71_col0\" class=\"data row71 col0\" >0.000000</td>\n",
       "            </tr>\n",
       "            <tr>\n",
       "                        <th id=\"T_67252_level0_row72\" class=\"row_heading level0 row72\" >rougher.state.floatbank10_f_level</th>\n",
       "                        <td id=\"T_67252_row72_col0\" class=\"data row72 col0\" >0.000000</td>\n",
       "            </tr>\n",
       "            <tr>\n",
       "                        <th id=\"T_67252_level0_row73\" class=\"row_heading level0 row73\" >rougher.state.floatbank10_f_air</th>\n",
       "                        <td id=\"T_67252_row73_col0\" class=\"data row73 col0\" >0.000000</td>\n",
       "            </tr>\n",
       "            <tr>\n",
       "                        <th id=\"T_67252_level0_row74\" class=\"row_heading level0 row74\" >primary_cleaner.output.concentrate_ag</th>\n",
       "                        <td id=\"T_67252_row74_col0\" class=\"data row74 col0\" >0.000000</td>\n",
       "            </tr>\n",
       "            <tr>\n",
       "                        <th id=\"T_67252_level0_row75\" class=\"row_heading level0 row75\" >rougher.calculation.au_pb_ratio</th>\n",
       "                        <td id=\"T_67252_row75_col0\" class=\"data row75 col0\" >0.000000</td>\n",
       "            </tr>\n",
       "            <tr>\n",
       "                        <th id=\"T_67252_level0_row76\" class=\"row_heading level0 row76\" >rougher.output.concentrate_au</th>\n",
       "                        <td id=\"T_67252_row76_col0\" class=\"data row76 col0\" >0.000000</td>\n",
       "            </tr>\n",
       "            <tr>\n",
       "                        <th id=\"T_67252_level0_row77\" class=\"row_heading level0 row77\" >rougher.output.concentrate_ag</th>\n",
       "                        <td id=\"T_67252_row77_col0\" class=\"data row77 col0\" >0.000000</td>\n",
       "            </tr>\n",
       "            <tr>\n",
       "                        <th id=\"T_67252_level0_row78\" class=\"row_heading level0 row78\" >rougher.output.concentrate_pb</th>\n",
       "                        <td id=\"T_67252_row78_col0\" class=\"data row78 col0\" >0.000000</td>\n",
       "            </tr>\n",
       "            <tr>\n",
       "                        <th id=\"T_67252_level0_row79\" class=\"row_heading level0 row79\" >rougher.output.recovery</th>\n",
       "                        <td id=\"T_67252_row79_col0\" class=\"data row79 col0\" >0.000000</td>\n",
       "            </tr>\n",
       "            <tr>\n",
       "                        <th id=\"T_67252_level0_row80\" class=\"row_heading level0 row80\" >rougher.output.tail_au</th>\n",
       "                        <td id=\"T_67252_row80_col0\" class=\"data row80 col0\" >0.000000</td>\n",
       "            </tr>\n",
       "            <tr>\n",
       "                        <th id=\"T_67252_level0_row81\" class=\"row_heading level0 row81\" >rougher.output.tail_pb</th>\n",
       "                        <td id=\"T_67252_row81_col0\" class=\"data row81 col0\" >0.000000</td>\n",
       "            </tr>\n",
       "            <tr>\n",
       "                        <th id=\"T_67252_level0_row82\" class=\"row_heading level0 row82\" >rougher.output.tail_sol</th>\n",
       "                        <td id=\"T_67252_row82_col0\" class=\"data row82 col0\" >0.000000</td>\n",
       "            </tr>\n",
       "            <tr>\n",
       "                        <th id=\"T_67252_level0_row83\" class=\"row_heading level0 row83\" >primary_cleaner.input.feed_size</th>\n",
       "                        <td id=\"T_67252_row83_col0\" class=\"data row83 col0\" >0.000000</td>\n",
       "            </tr>\n",
       "            <tr>\n",
       "                        <th id=\"T_67252_level0_row84\" class=\"row_heading level0 row84\" >rougher.input.feed_au</th>\n",
       "                        <td id=\"T_67252_row84_col0\" class=\"data row84 col0\" >0.000000</td>\n",
       "            </tr>\n",
       "            <tr>\n",
       "                        <th id=\"T_67252_level0_row85\" class=\"row_heading level0 row85\" >primary_cleaner.output.concentrate_au</th>\n",
       "                        <td id=\"T_67252_row85_col0\" class=\"data row85 col0\" >0.000000</td>\n",
       "            </tr>\n",
       "            <tr>\n",
       "                        <th id=\"T_67252_level0_row86\" class=\"row_heading level0 row86\" >date</th>\n",
       "                        <td id=\"T_67252_row86_col0\" class=\"data row86 col0\" >0.000000</td>\n",
       "            </tr>\n",
       "    </tbody></table>"
      ],
      "text/plain": [
       "<pandas.io.formats.style.Styler at 0x7f797b3a2940>"
      ]
     },
     "execution_count": 6,
     "metadata": {},
     "output_type": "execute_result"
    }
   ],
   "source": [
    "pd.DataFrame(round(df_full.isna().mean().sort_values(ascending=False)*100,1)).style.background_gradient('coolwarm')"
   ]
  },
  {
   "cell_type": "code",
   "execution_count": 7,
   "metadata": {},
   "outputs": [
    {
     "data": {
      "text/plain": [
       "0"
      ]
     },
     "metadata": {},
     "output_type": "display_data"
    }
   ],
   "source": [
    "display(df_full.duplicated().sum())"
   ]
  },
  {
   "cell_type": "markdown",
   "metadata": {},
   "source": [
    "Дубликатов нет, пропущенные значения присутствуют. Так как соседние по времени параметры часто схожи(условия задачи), для заполнения пропусков будет целесообразно вставить значения из предыдущей строки(данные отсортированы по дате)"
   ]
  },
  {
   "cell_type": "code",
   "execution_count": 8,
   "metadata": {
    "scrolled": true
   },
   "outputs": [],
   "source": [
    "df_full.fillna(method='ffill', inplace=True)"
   ]
  },
  {
   "cell_type": "markdown",
   "metadata": {},
   "source": [
    "<div class=\"alert alert-success\">\n",
    "<h2> Комментарий ревьюера <a class=\"tocSkip\"> </h2>\n",
    "\n",
    "<b>Все отлично!👍</b> \n",
    "    \n",
    "Данные осмотрели, проверили пропуски и дубликаты. Обработали пропуски с помощью стратегии заполнения `forward fill`, а также пояснили причину выбора такой стратегии - отлично!"
   ]
  },
  {
   "cell_type": "markdown",
   "metadata": {},
   "source": [
    "### df_train"
   ]
  },
  {
   "cell_type": "code",
   "execution_count": 9,
   "metadata": {},
   "outputs": [
    {
     "data": {
      "text/plain": [
       "(14579, 87)"
      ]
     },
     "execution_count": 9,
     "metadata": {},
     "output_type": "execute_result"
    }
   ],
   "source": [
    "df_train.shape"
   ]
  },
  {
   "cell_type": "code",
   "execution_count": 10,
   "metadata": {},
   "outputs": [
    {
     "data": {
      "text/html": [
       "<div>\n",
       "<style scoped>\n",
       "    .dataframe tbody tr th:only-of-type {\n",
       "        vertical-align: middle;\n",
       "    }\n",
       "\n",
       "    .dataframe tbody tr th {\n",
       "        vertical-align: top;\n",
       "    }\n",
       "\n",
       "    .dataframe thead th {\n",
       "        text-align: right;\n",
       "    }\n",
       "</style>\n",
       "<table border=\"1\" class=\"dataframe\">\n",
       "  <thead>\n",
       "    <tr style=\"text-align: right;\">\n",
       "      <th></th>\n",
       "      <th>rougher.input.feed_au</th>\n",
       "      <th>rougher.input.feed_ag</th>\n",
       "      <th>rougher.input.feed_pb</th>\n",
       "      <th>rougher.input.feed_sol</th>\n",
       "      <th>rougher.input.feed_rate</th>\n",
       "      <th>rougher.input.feed_size</th>\n",
       "      <th>rougher.input.floatbank10_sulfate</th>\n",
       "      <th>rougher.input.floatbank10_xanthate</th>\n",
       "      <th>rougher.state.floatbank10_a_air</th>\n",
       "      <th>rougher.state.floatbank10_a_level</th>\n",
       "      <th>rougher.state.floatbank10_b_air</th>\n",
       "      <th>rougher.state.floatbank10_b_level</th>\n",
       "      <th>rougher.state.floatbank10_c_air</th>\n",
       "      <th>rougher.state.floatbank10_c_level</th>\n",
       "      <th>rougher.state.floatbank10_d_air</th>\n",
       "      <th>rougher.state.floatbank10_d_level</th>\n",
       "      <th>rougher.state.floatbank10_e_air</th>\n",
       "      <th>rougher.state.floatbank10_e_level</th>\n",
       "      <th>rougher.state.floatbank10_f_air</th>\n",
       "      <th>rougher.state.floatbank10_f_level</th>\n",
       "      <th>rougher.input.floatbank11_sulfate</th>\n",
       "      <th>rougher.input.floatbank11_xanthate</th>\n",
       "      <th>rougher.calculation.sulfate_to_au_concentrate</th>\n",
       "      <th>rougher.calculation.floatbank10_sulfate_to_au_feed</th>\n",
       "      <th>rougher.calculation.floatbank11_sulfate_to_au_feed</th>\n",
       "      <th>rougher.calculation.au_pb_ratio</th>\n",
       "      <th>rougher.output.concentrate_au</th>\n",
       "      <th>rougher.output.concentrate_ag</th>\n",
       "      <th>rougher.output.concentrate_pb</th>\n",
       "      <th>rougher.output.concentrate_sol</th>\n",
       "      <th>rougher.output.recovery</th>\n",
       "      <th>rougher.output.tail_au</th>\n",
       "      <th>rougher.output.tail_ag</th>\n",
       "      <th>rougher.output.tail_pb</th>\n",
       "      <th>rougher.output.tail_sol</th>\n",
       "      <th>primary_cleaner.input.sulfate</th>\n",
       "      <th>primary_cleaner.input.depressant</th>\n",
       "      <th>primary_cleaner.input.feed_size</th>\n",
       "      <th>primary_cleaner.input.xanthate</th>\n",
       "      <th>primary_cleaner.state.floatbank8_a_air</th>\n",
       "      <th>primary_cleaner.state.floatbank8_a_level</th>\n",
       "      <th>primary_cleaner.state.floatbank8_b_air</th>\n",
       "      <th>primary_cleaner.state.floatbank8_b_level</th>\n",
       "      <th>primary_cleaner.state.floatbank8_c_air</th>\n",
       "      <th>primary_cleaner.state.floatbank8_c_level</th>\n",
       "      <th>primary_cleaner.state.floatbank8_d_air</th>\n",
       "      <th>primary_cleaner.state.floatbank8_d_level</th>\n",
       "      <th>primary_cleaner.output.concentrate_au</th>\n",
       "      <th>primary_cleaner.output.concentrate_ag</th>\n",
       "      <th>primary_cleaner.output.concentrate_pb</th>\n",
       "      <th>primary_cleaner.output.concentrate_sol</th>\n",
       "      <th>primary_cleaner.output.tail_au</th>\n",
       "      <th>primary_cleaner.output.tail_ag</th>\n",
       "      <th>primary_cleaner.output.tail_pb</th>\n",
       "      <th>primary_cleaner.output.tail_sol</th>\n",
       "      <th>secondary_cleaner.state.floatbank2_a_air</th>\n",
       "      <th>secondary_cleaner.state.floatbank2_a_level</th>\n",
       "      <th>secondary_cleaner.state.floatbank2_b_air</th>\n",
       "      <th>secondary_cleaner.state.floatbank2_b_level</th>\n",
       "      <th>secondary_cleaner.state.floatbank3_a_air</th>\n",
       "      <th>secondary_cleaner.state.floatbank3_a_level</th>\n",
       "      <th>secondary_cleaner.state.floatbank3_b_air</th>\n",
       "      <th>secondary_cleaner.state.floatbank3_b_level</th>\n",
       "      <th>secondary_cleaner.state.floatbank4_a_air</th>\n",
       "      <th>secondary_cleaner.state.floatbank4_a_level</th>\n",
       "      <th>secondary_cleaner.state.floatbank4_b_air</th>\n",
       "      <th>secondary_cleaner.state.floatbank4_b_level</th>\n",
       "      <th>secondary_cleaner.state.floatbank5_a_air</th>\n",
       "      <th>secondary_cleaner.state.floatbank5_a_level</th>\n",
       "      <th>secondary_cleaner.state.floatbank5_b_air</th>\n",
       "      <th>secondary_cleaner.state.floatbank5_b_level</th>\n",
       "      <th>secondary_cleaner.state.floatbank6_a_air</th>\n",
       "      <th>secondary_cleaner.state.floatbank6_a_level</th>\n",
       "      <th>secondary_cleaner.output.tail_au</th>\n",
       "      <th>secondary_cleaner.output.tail_ag</th>\n",
       "      <th>secondary_cleaner.output.tail_pb</th>\n",
       "      <th>secondary_cleaner.output.tail_sol</th>\n",
       "      <th>final.output.concentrate_au</th>\n",
       "      <th>final.output.concentrate_ag</th>\n",
       "      <th>final.output.concentrate_pb</th>\n",
       "      <th>final.output.concentrate_sol</th>\n",
       "      <th>final.output.recovery</th>\n",
       "      <th>final.output.tail_au</th>\n",
       "      <th>final.output.tail_ag</th>\n",
       "      <th>final.output.tail_pb</th>\n",
       "      <th>final.output.tail_sol</th>\n",
       "    </tr>\n",
       "  </thead>\n",
       "  <tbody>\n",
       "    <tr>\n",
       "      <th>count</th>\n",
       "      <td>14579.000000</td>\n",
       "      <td>14579.000000</td>\n",
       "      <td>14507.000000</td>\n",
       "      <td>14502.000000</td>\n",
       "      <td>14572.000000</td>\n",
       "      <td>14478.000000</td>\n",
       "      <td>14548.000000</td>\n",
       "      <td>14572.000000</td>\n",
       "      <td>14579.000000</td>\n",
       "      <td>14579.000000</td>\n",
       "      <td>14579.000000</td>\n",
       "      <td>14579.000000</td>\n",
       "      <td>14579.000000</td>\n",
       "      <td>14579.000000</td>\n",
       "      <td>14579.000000</td>\n",
       "      <td>14579.000000</td>\n",
       "      <td>14150.000000</td>\n",
       "      <td>14579.000000</td>\n",
       "      <td>14579.000000</td>\n",
       "      <td>14579.000000</td>\n",
       "      <td>14543.000000</td>\n",
       "      <td>14172.000000</td>\n",
       "      <td>1.457800e+04</td>\n",
       "      <td>14578.000000</td>\n",
       "      <td>14578.000000</td>\n",
       "      <td>14579.000000</td>\n",
       "      <td>14579.000000</td>\n",
       "      <td>14579.000000</td>\n",
       "      <td>14579.000000</td>\n",
       "      <td>14561.000000</td>\n",
       "      <td>14579.000000</td>\n",
       "      <td>14579.000000</td>\n",
       "      <td>14578.000000</td>\n",
       "      <td>14579.000000</td>\n",
       "      <td>14579.000000</td>\n",
       "      <td>14556.000000</td>\n",
       "      <td>14551.000000</td>\n",
       "      <td>14579.000000</td>\n",
       "      <td>14518.000000</td>\n",
       "      <td>1.457600e+04</td>\n",
       "      <td>14579.000000</td>\n",
       "      <td>1.457600e+04</td>\n",
       "      <td>14579.000000</td>\n",
       "      <td>1.457900e+04</td>\n",
       "      <td>14579.000000</td>\n",
       "      <td>1.457800e+04</td>\n",
       "      <td>14579.000000</td>\n",
       "      <td>14579.000000</td>\n",
       "      <td>14579.000000</td>\n",
       "      <td>14491.000000</td>\n",
       "      <td>14314.000000</td>\n",
       "      <td>14579.000000</td>\n",
       "      <td>14575.000000</td>\n",
       "      <td>14573.000000</td>\n",
       "      <td>14534.000000</td>\n",
       "      <td>14485.000000</td>\n",
       "      <td>14579.000000</td>\n",
       "      <td>14557.000000</td>\n",
       "      <td>14579.000000</td>\n",
       "      <td>14567.000000</td>\n",
       "      <td>14579.000000</td>\n",
       "      <td>14579.000000</td>\n",
       "      <td>14579.000000</td>\n",
       "      <td>14574.000000</td>\n",
       "      <td>14579.000000</td>\n",
       "      <td>14579.000000</td>\n",
       "      <td>14579.000000</td>\n",
       "      <td>14579.000000</td>\n",
       "      <td>14579.000000</td>\n",
       "      <td>14579.000000</td>\n",
       "      <td>14579.000000</td>\n",
       "      <td>14578.000000</td>\n",
       "      <td>14579.000000</td>\n",
       "      <td>14579.000000</td>\n",
       "      <td>14578.000000</td>\n",
       "      <td>14575.000000</td>\n",
       "      <td>13659.000000</td>\n",
       "      <td>14579.000000</td>\n",
       "      <td>14578.000000</td>\n",
       "      <td>14578.000000</td>\n",
       "      <td>14387.000000</td>\n",
       "      <td>14579.000000</td>\n",
       "      <td>14579.000000</td>\n",
       "      <td>14578.000000</td>\n",
       "      <td>14504.000000</td>\n",
       "      <td>14574.000000</td>\n",
       "    </tr>\n",
       "    <tr>\n",
       "      <th>mean</th>\n",
       "      <td>8.352941</td>\n",
       "      <td>8.877460</td>\n",
       "      <td>3.604221</td>\n",
       "      <td>36.561420</td>\n",
       "      <td>474.332784</td>\n",
       "      <td>58.922712</td>\n",
       "      <td>12.427399</td>\n",
       "      <td>5.994854</td>\n",
       "      <td>1104.208278</td>\n",
       "      <td>-379.367166</td>\n",
       "      <td>1322.845805</td>\n",
       "      <td>-465.495165</td>\n",
       "      <td>1302.745258</td>\n",
       "      <td>-465.988660</td>\n",
       "      <td>1214.062375</td>\n",
       "      <td>-466.526202</td>\n",
       "      <td>1082.778201</td>\n",
       "      <td>-464.228268</td>\n",
       "      <td>1025.775819</td>\n",
       "      <td>-464.549373</td>\n",
       "      <td>12.095857</td>\n",
       "      <td>6.047261</td>\n",
       "      <td>4.435219e+04</td>\n",
       "      <td>3440.548437</td>\n",
       "      <td>3276.812427</td>\n",
       "      <td>2.436506</td>\n",
       "      <td>19.717470</td>\n",
       "      <td>11.944253</td>\n",
       "      <td>7.498953</td>\n",
       "      <td>28.653422</td>\n",
       "      <td>82.521200</td>\n",
       "      <td>1.852849</td>\n",
       "      <td>5.649646</td>\n",
       "      <td>0.654742</td>\n",
       "      <td>18.019755</td>\n",
       "      <td>145.099826</td>\n",
       "      <td>8.858575</td>\n",
       "      <td>7.307600</td>\n",
       "      <td>1.026512</td>\n",
       "      <td>1.589676e+03</td>\n",
       "      <td>-492.185489</td>\n",
       "      <td>1.592027e+03</td>\n",
       "      <td>-492.838585</td>\n",
       "      <td>1.585924e+03</td>\n",
       "      <td>-492.726140</td>\n",
       "      <td>1.547119e+03</td>\n",
       "      <td>-488.724249</td>\n",
       "      <td>32.007535</td>\n",
       "      <td>8.468626</td>\n",
       "      <td>9.750567</td>\n",
       "      <td>10.576880</td>\n",
       "      <td>3.974004</td>\n",
       "      <td>16.069960</td>\n",
       "      <td>3.403764</td>\n",
       "      <td>8.025747</td>\n",
       "      <td>28.449700</td>\n",
       "      <td>-503.321444</td>\n",
       "      <td>23.898016</td>\n",
       "      <td>-504.455206</td>\n",
       "      <td>27.966801</td>\n",
       "      <td>-485.112844</td>\n",
       "      <td>22.056638</td>\n",
       "      <td>-493.400930</td>\n",
       "      <td>18.697604</td>\n",
       "      <td>-484.971102</td>\n",
       "      <td>14.823764</td>\n",
       "      <td>-460.046154</td>\n",
       "      <td>15.394610</td>\n",
       "      <td>-487.973768</td>\n",
       "      <td>11.949009</td>\n",
       "      <td>-486.338692</td>\n",
       "      <td>18.927405</td>\n",
       "      <td>-505.688730</td>\n",
       "      <td>4.373067</td>\n",
       "      <td>14.441265</td>\n",
       "      <td>5.617182</td>\n",
       "      <td>7.111347</td>\n",
       "      <td>43.979499</td>\n",
       "      <td>5.192145</td>\n",
       "      <td>9.923809</td>\n",
       "      <td>9.566676</td>\n",
       "      <td>66.759066</td>\n",
       "      <td>3.087939</td>\n",
       "      <td>9.731972</td>\n",
       "      <td>2.719985</td>\n",
       "      <td>10.612745</td>\n",
       "    </tr>\n",
       "    <tr>\n",
       "      <th>std</th>\n",
       "      <td>1.934376</td>\n",
       "      <td>1.922536</td>\n",
       "      <td>1.056063</td>\n",
       "      <td>5.209823</td>\n",
       "      <td>108.503552</td>\n",
       "      <td>22.407410</td>\n",
       "      <td>3.428939</td>\n",
       "      <td>1.152873</td>\n",
       "      <td>162.235606</td>\n",
       "      <td>94.652311</td>\n",
       "      <td>181.612353</td>\n",
       "      <td>56.220206</td>\n",
       "      <td>209.728859</td>\n",
       "      <td>55.261827</td>\n",
       "      <td>210.056163</td>\n",
       "      <td>55.701015</td>\n",
       "      <td>176.092308</td>\n",
       "      <td>59.132193</td>\n",
       "      <td>169.680255</td>\n",
       "      <td>59.622879</td>\n",
       "      <td>3.887128</td>\n",
       "      <td>1.115055</td>\n",
       "      <td>1.325109e+05</td>\n",
       "      <td>5676.976735</td>\n",
       "      <td>6654.751076</td>\n",
       "      <td>0.747964</td>\n",
       "      <td>4.086618</td>\n",
       "      <td>2.916323</td>\n",
       "      <td>1.851631</td>\n",
       "      <td>6.427589</td>\n",
       "      <td>15.797521</td>\n",
       "      <td>0.671844</td>\n",
       "      <td>1.079950</td>\n",
       "      <td>0.251685</td>\n",
       "      <td>3.492621</td>\n",
       "      <td>45.136018</td>\n",
       "      <td>3.323216</td>\n",
       "      <td>0.621609</td>\n",
       "      <td>0.519205</td>\n",
       "      <td>1.303228e+02</td>\n",
       "      <td>30.827141</td>\n",
       "      <td>1.317109e+02</td>\n",
       "      <td>33.288228</td>\n",
       "      <td>1.372292e+02</td>\n",
       "      <td>32.359161</td>\n",
       "      <td>2.426145e+02</td>\n",
       "      <td>44.157594</td>\n",
       "      <td>5.891272</td>\n",
       "      <td>2.082271</td>\n",
       "      <td>2.556602</td>\n",
       "      <td>3.964761</td>\n",
       "      <td>1.604410</td>\n",
       "      <td>3.557775</td>\n",
       "      <td>1.394091</td>\n",
       "      <td>2.176478</td>\n",
       "      <td>5.467326</td>\n",
       "      <td>56.555780</td>\n",
       "      <td>5.820755</td>\n",
       "      <td>60.219739</td>\n",
       "      <td>6.109365</td>\n",
       "      <td>55.205693</td>\n",
       "      <td>5.605309</td>\n",
       "      <td>44.228650</td>\n",
       "      <td>5.200943</td>\n",
       "      <td>48.795359</td>\n",
       "      <td>4.863659</td>\n",
       "      <td>67.933026</td>\n",
       "      <td>5.405045</td>\n",
       "      <td>35.231439</td>\n",
       "      <td>5.241169</td>\n",
       "      <td>38.726292</td>\n",
       "      <td>5.550829</td>\n",
       "      <td>37.347370</td>\n",
       "      <td>2.394328</td>\n",
       "      <td>4.416497</td>\n",
       "      <td>2.704951</td>\n",
       "      <td>3.909951</td>\n",
       "      <td>5.471437</td>\n",
       "      <td>1.388014</td>\n",
       "      <td>1.706976</td>\n",
       "      <td>2.805654</td>\n",
       "      <td>10.619709</td>\n",
       "      <td>0.915187</td>\n",
       "      <td>2.358143</td>\n",
       "      <td>0.958929</td>\n",
       "      <td>2.871075</td>\n",
       "    </tr>\n",
       "    <tr>\n",
       "      <th>min</th>\n",
       "      <td>0.010000</td>\n",
       "      <td>0.010000</td>\n",
       "      <td>0.010000</td>\n",
       "      <td>0.010000</td>\n",
       "      <td>0.002986</td>\n",
       "      <td>0.049194</td>\n",
       "      <td>0.001083</td>\n",
       "      <td>0.000568</td>\n",
       "      <td>-0.042069</td>\n",
       "      <td>-657.949759</td>\n",
       "      <td>-0.721806</td>\n",
       "      <td>-650.260008</td>\n",
       "      <td>-0.056636</td>\n",
       "      <td>-647.544439</td>\n",
       "      <td>-0.992219</td>\n",
       "      <td>-648.390665</td>\n",
       "      <td>-1.982295</td>\n",
       "      <td>-649.443911</td>\n",
       "      <td>-2.593390</td>\n",
       "      <td>-649.949283</td>\n",
       "      <td>0.000077</td>\n",
       "      <td>0.000290</td>\n",
       "      <td>-1.548858e+07</td>\n",
       "      <td>-486.598675</td>\n",
       "      <td>-264.982785</td>\n",
       "      <td>-0.010548</td>\n",
       "      <td>0.000000</td>\n",
       "      <td>0.000000</td>\n",
       "      <td>0.000000</td>\n",
       "      <td>0.000000</td>\n",
       "      <td>0.000000</td>\n",
       "      <td>0.020676</td>\n",
       "      <td>2.316530</td>\n",
       "      <td>0.007566</td>\n",
       "      <td>10.014648</td>\n",
       "      <td>0.003112</td>\n",
       "      <td>0.000000</td>\n",
       "      <td>1.080000</td>\n",
       "      <td>0.000005</td>\n",
       "      <td>5.445860e-32</td>\n",
       "      <td>-798.641662</td>\n",
       "      <td>6.647490e-32</td>\n",
       "      <td>-799.997015</td>\n",
       "      <td>4.033736e-32</td>\n",
       "      <td>-799.960571</td>\n",
       "      <td>4.039220e-32</td>\n",
       "      <td>-799.794250</td>\n",
       "      <td>0.000000</td>\n",
       "      <td>0.000000</td>\n",
       "      <td>0.000000</td>\n",
       "      <td>0.000000</td>\n",
       "      <td>0.000000</td>\n",
       "      <td>0.000000</td>\n",
       "      <td>0.000000</td>\n",
       "      <td>0.000000</td>\n",
       "      <td>0.077503</td>\n",
       "      <td>-799.605762</td>\n",
       "      <td>0.000000</td>\n",
       "      <td>-799.870292</td>\n",
       "      <td>0.000000</td>\n",
       "      <td>-799.755798</td>\n",
       "      <td>0.000000</td>\n",
       "      <td>-809.333008</td>\n",
       "      <td>0.000000</td>\n",
       "      <td>-799.798523</td>\n",
       "      <td>0.000000</td>\n",
       "      <td>-800.836914</td>\n",
       "      <td>-0.372054</td>\n",
       "      <td>-797.323986</td>\n",
       "      <td>0.528083</td>\n",
       "      <td>-800.220337</td>\n",
       "      <td>-0.079426</td>\n",
       "      <td>-809.741464</td>\n",
       "      <td>0.000000</td>\n",
       "      <td>0.000000</td>\n",
       "      <td>0.000000</td>\n",
       "      <td>0.000000</td>\n",
       "      <td>0.000000</td>\n",
       "      <td>0.000000</td>\n",
       "      <td>0.000000</td>\n",
       "      <td>0.000000</td>\n",
       "      <td>0.000000</td>\n",
       "      <td>0.000000</td>\n",
       "      <td>0.000000</td>\n",
       "      <td>0.000000</td>\n",
       "      <td>0.000000</td>\n",
       "    </tr>\n",
       "    <tr>\n",
       "      <th>25%</th>\n",
       "      <td>6.932996</td>\n",
       "      <td>7.341922</td>\n",
       "      <td>2.880490</td>\n",
       "      <td>34.093951</td>\n",
       "      <td>411.048483</td>\n",
       "      <td>47.278490</td>\n",
       "      <td>10.002832</td>\n",
       "      <td>5.304167</td>\n",
       "      <td>999.644856</td>\n",
       "      <td>-499.861797</td>\n",
       "      <td>1199.563063</td>\n",
       "      <td>-500.195180</td>\n",
       "      <td>1150.739645</td>\n",
       "      <td>-500.214580</td>\n",
       "      <td>1060.476511</td>\n",
       "      <td>-500.369461</td>\n",
       "      <td>998.562148</td>\n",
       "      <td>-500.220652</td>\n",
       "      <td>900.713144</td>\n",
       "      <td>-500.518102</td>\n",
       "      <td>9.999625</td>\n",
       "      <td>5.399770</td>\n",
       "      <td>4.077084e+04</td>\n",
       "      <td>2597.574879</td>\n",
       "      <td>2528.351956</td>\n",
       "      <td>2.050078</td>\n",
       "      <td>18.908919</td>\n",
       "      <td>10.611551</td>\n",
       "      <td>6.682731</td>\n",
       "      <td>27.149641</td>\n",
       "      <td>80.558542</td>\n",
       "      <td>1.455205</td>\n",
       "      <td>5.023787</td>\n",
       "      <td>0.490217</td>\n",
       "      <td>15.753976</td>\n",
       "      <td>114.273934</td>\n",
       "      <td>6.194337</td>\n",
       "      <td>6.940000</td>\n",
       "      <td>0.696098</td>\n",
       "      <td>1.504949e+03</td>\n",
       "      <td>-500.320169</td>\n",
       "      <td>1.505230e+03</td>\n",
       "      <td>-500.440327</td>\n",
       "      <td>1.500845e+03</td>\n",
       "      <td>-500.709838</td>\n",
       "      <td>1.497960e+03</td>\n",
       "      <td>-500.464464</td>\n",
       "      <td>30.409669</td>\n",
       "      <td>7.360525</td>\n",
       "      <td>8.668289</td>\n",
       "      <td>7.964614</td>\n",
       "      <td>2.960094</td>\n",
       "      <td>13.978468</td>\n",
       "      <td>2.494448</td>\n",
       "      <td>6.826706</td>\n",
       "      <td>25.034882</td>\n",
       "      <td>-500.240915</td>\n",
       "      <td>20.083738</td>\n",
       "      <td>-500.264871</td>\n",
       "      <td>24.879889</td>\n",
       "      <td>-500.214111</td>\n",
       "      <td>18.990660</td>\n",
       "      <td>-500.123568</td>\n",
       "      <td>14.963312</td>\n",
       "      <td>-500.704937</td>\n",
       "      <td>11.889685</td>\n",
       "      <td>-500.184081</td>\n",
       "      <td>10.977413</td>\n",
       "      <td>-500.451167</td>\n",
       "      <td>8.947381</td>\n",
       "      <td>-500.129137</td>\n",
       "      <td>14.985721</td>\n",
       "      <td>-500.755346</td>\n",
       "      <td>3.216855</td>\n",
       "      <td>12.479139</td>\n",
       "      <td>3.801206</td>\n",
       "      <td>3.784897</td>\n",
       "      <td>43.345906</td>\n",
       "      <td>4.283347</td>\n",
       "      <td>9.103183</td>\n",
       "      <td>7.860030</td>\n",
       "      <td>63.114596</td>\n",
       "      <td>2.505287</td>\n",
       "      <td>8.088928</td>\n",
       "      <td>2.036512</td>\n",
       "      <td>9.013412</td>\n",
       "    </tr>\n",
       "    <tr>\n",
       "      <th>50%</th>\n",
       "      <td>8.225284</td>\n",
       "      <td>8.715859</td>\n",
       "      <td>3.532399</td>\n",
       "      <td>37.097511</td>\n",
       "      <td>498.187968</td>\n",
       "      <td>54.361187</td>\n",
       "      <td>12.003320</td>\n",
       "      <td>6.003053</td>\n",
       "      <td>1000.982624</td>\n",
       "      <td>-300.314199</td>\n",
       "      <td>1302.379807</td>\n",
       "      <td>-499.767998</td>\n",
       "      <td>1300.639429</td>\n",
       "      <td>-499.693772</td>\n",
       "      <td>1202.656040</td>\n",
       "      <td>-499.511621</td>\n",
       "      <td>1050.081856</td>\n",
       "      <td>-499.640275</td>\n",
       "      <td>999.870453</td>\n",
       "      <td>-499.451154</td>\n",
       "      <td>12.000777</td>\n",
       "      <td>6.096038</td>\n",
       "      <td>4.487892e+04</td>\n",
       "      <td>3055.912455</td>\n",
       "      <td>3006.139692</td>\n",
       "      <td>2.326922</td>\n",
       "      <td>20.329736</td>\n",
       "      <td>12.136445</td>\n",
       "      <td>7.705023</td>\n",
       "      <td>29.917369</td>\n",
       "      <td>85.946497</td>\n",
       "      <td>1.840333</td>\n",
       "      <td>5.819341</td>\n",
       "      <td>0.623074</td>\n",
       "      <td>18.060998</td>\n",
       "      <td>144.627539</td>\n",
       "      <td>8.055245</td>\n",
       "      <td>7.280000</td>\n",
       "      <td>0.957958</td>\n",
       "      <td>1.600683e+03</td>\n",
       "      <td>-499.935617</td>\n",
       "      <td>1.600561e+03</td>\n",
       "      <td>-499.962584</td>\n",
       "      <td>1.600226e+03</td>\n",
       "      <td>-499.914492</td>\n",
       "      <td>1.599493e+03</td>\n",
       "      <td>-499.916753</td>\n",
       "      <td>32.837748</td>\n",
       "      <td>8.555670</td>\n",
       "      <td>10.121250</td>\n",
       "      <td>10.479225</td>\n",
       "      <td>3.693812</td>\n",
       "      <td>15.773016</td>\n",
       "      <td>3.229651</td>\n",
       "      <td>8.235004</td>\n",
       "      <td>28.968533</td>\n",
       "      <td>-499.975415</td>\n",
       "      <td>24.988575</td>\n",
       "      <td>-500.017709</td>\n",
       "      <td>27.966517</td>\n",
       "      <td>-499.922655</td>\n",
       "      <td>21.995308</td>\n",
       "      <td>-499.980765</td>\n",
       "      <td>18.005468</td>\n",
       "      <td>-499.820809</td>\n",
       "      <td>14.957945</td>\n",
       "      <td>-499.424528</td>\n",
       "      <td>14.963654</td>\n",
       "      <td>-499.772653</td>\n",
       "      <td>11.000057</td>\n",
       "      <td>-499.926255</td>\n",
       "      <td>19.960798</td>\n",
       "      <td>-500.054273</td>\n",
       "      <td>4.097589</td>\n",
       "      <td>15.448510</td>\n",
       "      <td>5.227419</td>\n",
       "      <td>7.629968</td>\n",
       "      <td>44.975014</td>\n",
       "      <td>5.118647</td>\n",
       "      <td>10.046455</td>\n",
       "      <td>9.301970</td>\n",
       "      <td>67.962788</td>\n",
       "      <td>3.029238</td>\n",
       "      <td>9.818512</td>\n",
       "      <td>2.774847</td>\n",
       "      <td>10.670515</td>\n",
       "    </tr>\n",
       "    <tr>\n",
       "      <th>75%</th>\n",
       "      <td>9.832210</td>\n",
       "      <td>10.255843</td>\n",
       "      <td>4.257282</td>\n",
       "      <td>39.899799</td>\n",
       "      <td>549.586552</td>\n",
       "      <td>64.464926</td>\n",
       "      <td>14.929903</td>\n",
       "      <td>6.796632</td>\n",
       "      <td>1292.663971</td>\n",
       "      <td>-299.989315</td>\n",
       "      <td>1449.971526</td>\n",
       "      <td>-400.490924</td>\n",
       "      <td>1450.429812</td>\n",
       "      <td>-400.793268</td>\n",
       "      <td>1387.579519</td>\n",
       "      <td>-401.231087</td>\n",
       "      <td>1199.518951</td>\n",
       "      <td>-400.842206</td>\n",
       "      <td>1099.789243</td>\n",
       "      <td>-401.190552</td>\n",
       "      <td>14.821675</td>\n",
       "      <td>6.800713</td>\n",
       "      <td>4.838894e+04</td>\n",
       "      <td>3711.123079</td>\n",
       "      <td>3621.306274</td>\n",
       "      <td>2.746607</td>\n",
       "      <td>21.767391</td>\n",
       "      <td>13.771614</td>\n",
       "      <td>8.507136</td>\n",
       "      <td>32.300398</td>\n",
       "      <td>89.960375</td>\n",
       "      <td>2.227136</td>\n",
       "      <td>6.407298</td>\n",
       "      <td>0.780414</td>\n",
       "      <td>20.064557</td>\n",
       "      <td>176.161883</td>\n",
       "      <td>11.061619</td>\n",
       "      <td>7.689666</td>\n",
       "      <td>1.224756</td>\n",
       "      <td>1.697830e+03</td>\n",
       "      <td>-499.457104</td>\n",
       "      <td>1.699149e+03</td>\n",
       "      <td>-499.383154</td>\n",
       "      <td>1.699482e+03</td>\n",
       "      <td>-498.899663</td>\n",
       "      <td>1.698395e+03</td>\n",
       "      <td>-499.137048</td>\n",
       "      <td>35.027165</td>\n",
       "      <td>9.815695</td>\n",
       "      <td>11.362268</td>\n",
       "      <td>13.588618</td>\n",
       "      <td>4.648610</td>\n",
       "      <td>17.908623</td>\n",
       "      <td>4.115288</td>\n",
       "      <td>9.562956</td>\n",
       "      <td>32.250615</td>\n",
       "      <td>-499.668396</td>\n",
       "      <td>27.996854</td>\n",
       "      <td>-499.786233</td>\n",
       "      <td>32.981447</td>\n",
       "      <td>-499.233769</td>\n",
       "      <td>25.979469</td>\n",
       "      <td>-499.808121</td>\n",
       "      <td>22.977019</td>\n",
       "      <td>-498.048862</td>\n",
       "      <td>17.125406</td>\n",
       "      <td>-400.083087</td>\n",
       "      <td>18.012762</td>\n",
       "      <td>-498.182011</td>\n",
       "      <td>14.002573</td>\n",
       "      <td>-499.285414</td>\n",
       "      <td>23.038231</td>\n",
       "      <td>-499.506135</td>\n",
       "      <td>5.108658</td>\n",
       "      <td>17.349683</td>\n",
       "      <td>7.609340</td>\n",
       "      <td>10.367050</td>\n",
       "      <td>46.275153</td>\n",
       "      <td>5.925380</td>\n",
       "      <td>10.981203</td>\n",
       "      <td>11.001573</td>\n",
       "      <td>72.598187</td>\n",
       "      <td>3.614098</td>\n",
       "      <td>11.169187</td>\n",
       "      <td>3.353845</td>\n",
       "      <td>12.130827</td>\n",
       "    </tr>\n",
       "    <tr>\n",
       "      <th>max</th>\n",
       "      <td>13.731330</td>\n",
       "      <td>14.596026</td>\n",
       "      <td>7.052325</td>\n",
       "      <td>53.475325</td>\n",
       "      <td>717.508837</td>\n",
       "      <td>484.967466</td>\n",
       "      <td>36.118275</td>\n",
       "      <td>9.703448</td>\n",
       "      <td>1512.299531</td>\n",
       "      <td>-273.776101</td>\n",
       "      <td>1809.194008</td>\n",
       "      <td>-296.383080</td>\n",
       "      <td>2499.129174</td>\n",
       "      <td>-292.155509</td>\n",
       "      <td>1817.199290</td>\n",
       "      <td>-76.397327</td>\n",
       "      <td>1922.636637</td>\n",
       "      <td>-139.753025</td>\n",
       "      <td>1706.307502</td>\n",
       "      <td>-191.718480</td>\n",
       "      <td>37.980648</td>\n",
       "      <td>9.698407</td>\n",
       "      <td>3.428099e+06</td>\n",
       "      <td>629638.977914</td>\n",
       "      <td>718684.955855</td>\n",
       "      <td>27.231374</td>\n",
       "      <td>28.824507</td>\n",
       "      <td>24.480271</td>\n",
       "      <td>13.091679</td>\n",
       "      <td>38.351193</td>\n",
       "      <td>100.000000</td>\n",
       "      <td>9.688980</td>\n",
       "      <td>12.719177</td>\n",
       "      <td>3.778064</td>\n",
       "      <td>66.117188</td>\n",
       "      <td>265.983123</td>\n",
       "      <td>40.000000</td>\n",
       "      <td>15.500000</td>\n",
       "      <td>4.102454</td>\n",
       "      <td>2.103104e+03</td>\n",
       "      <td>-57.195404</td>\n",
       "      <td>2.114907e+03</td>\n",
       "      <td>-142.527229</td>\n",
       "      <td>2.013156e+03</td>\n",
       "      <td>-150.937035</td>\n",
       "      <td>2.398904e+03</td>\n",
       "      <td>-30.601828</td>\n",
       "      <td>45.933934</td>\n",
       "      <td>16.081632</td>\n",
       "      <td>17.081278</td>\n",
       "      <td>22.458114</td>\n",
       "      <td>17.788925</td>\n",
       "      <td>29.459575</td>\n",
       "      <td>9.634565</td>\n",
       "      <td>22.276364</td>\n",
       "      <td>52.651399</td>\n",
       "      <td>-127.875565</td>\n",
       "      <td>35.152122</td>\n",
       "      <td>-211.999273</td>\n",
       "      <td>44.260464</td>\n",
       "      <td>-191.678810</td>\n",
       "      <td>35.072841</td>\n",
       "      <td>-159.742331</td>\n",
       "      <td>30.115735</td>\n",
       "      <td>-245.239184</td>\n",
       "      <td>31.269706</td>\n",
       "      <td>-6.506986</td>\n",
       "      <td>43.709931</td>\n",
       "      <td>-244.483566</td>\n",
       "      <td>27.926001</td>\n",
       "      <td>-137.740004</td>\n",
       "      <td>32.188906</td>\n",
       "      <td>-123.307487</td>\n",
       "      <td>26.811643</td>\n",
       "      <td>23.264738</td>\n",
       "      <td>17.042505</td>\n",
       "      <td>26.000772</td>\n",
       "      <td>52.756638</td>\n",
       "      <td>16.001945</td>\n",
       "      <td>16.705297</td>\n",
       "      <td>19.423912</td>\n",
       "      <td>100.000000</td>\n",
       "      <td>8.245022</td>\n",
       "      <td>19.552149</td>\n",
       "      <td>5.804178</td>\n",
       "      <td>22.317730</td>\n",
       "    </tr>\n",
       "  </tbody>\n",
       "</table>\n",
       "</div>"
      ],
      "text/plain": [
       "       rougher.input.feed_au  rougher.input.feed_ag  rougher.input.feed_pb  \\\n",
       "count           14579.000000           14579.000000           14507.000000   \n",
       "mean                8.352941               8.877460               3.604221   \n",
       "std                 1.934376               1.922536               1.056063   \n",
       "min                 0.010000               0.010000               0.010000   \n",
       "25%                 6.932996               7.341922               2.880490   \n",
       "50%                 8.225284               8.715859               3.532399   \n",
       "75%                 9.832210              10.255843               4.257282   \n",
       "max                13.731330              14.596026               7.052325   \n",
       "\n",
       "       rougher.input.feed_sol  rougher.input.feed_rate  \\\n",
       "count            14502.000000             14572.000000   \n",
       "mean                36.561420               474.332784   \n",
       "std                  5.209823               108.503552   \n",
       "min                  0.010000                 0.002986   \n",
       "25%                 34.093951               411.048483   \n",
       "50%                 37.097511               498.187968   \n",
       "75%                 39.899799               549.586552   \n",
       "max                 53.475325               717.508837   \n",
       "\n",
       "       rougher.input.feed_size  rougher.input.floatbank10_sulfate  \\\n",
       "count             14478.000000                       14548.000000   \n",
       "mean                 58.922712                          12.427399   \n",
       "std                  22.407410                           3.428939   \n",
       "min                   0.049194                           0.001083   \n",
       "25%                  47.278490                          10.002832   \n",
       "50%                  54.361187                          12.003320   \n",
       "75%                  64.464926                          14.929903   \n",
       "max                 484.967466                          36.118275   \n",
       "\n",
       "       rougher.input.floatbank10_xanthate  rougher.state.floatbank10_a_air  \\\n",
       "count                        14572.000000                     14579.000000   \n",
       "mean                             5.994854                      1104.208278   \n",
       "std                              1.152873                       162.235606   \n",
       "min                              0.000568                        -0.042069   \n",
       "25%                              5.304167                       999.644856   \n",
       "50%                              6.003053                      1000.982624   \n",
       "75%                              6.796632                      1292.663971   \n",
       "max                              9.703448                      1512.299531   \n",
       "\n",
       "       rougher.state.floatbank10_a_level  rougher.state.floatbank10_b_air  \\\n",
       "count                       14579.000000                     14579.000000   \n",
       "mean                         -379.367166                      1322.845805   \n",
       "std                            94.652311                       181.612353   \n",
       "min                          -657.949759                        -0.721806   \n",
       "25%                          -499.861797                      1199.563063   \n",
       "50%                          -300.314199                      1302.379807   \n",
       "75%                          -299.989315                      1449.971526   \n",
       "max                          -273.776101                      1809.194008   \n",
       "\n",
       "       rougher.state.floatbank10_b_level  rougher.state.floatbank10_c_air  \\\n",
       "count                       14579.000000                     14579.000000   \n",
       "mean                         -465.495165                      1302.745258   \n",
       "std                            56.220206                       209.728859   \n",
       "min                          -650.260008                        -0.056636   \n",
       "25%                          -500.195180                      1150.739645   \n",
       "50%                          -499.767998                      1300.639429   \n",
       "75%                          -400.490924                      1450.429812   \n",
       "max                          -296.383080                      2499.129174   \n",
       "\n",
       "       rougher.state.floatbank10_c_level  rougher.state.floatbank10_d_air  \\\n",
       "count                       14579.000000                     14579.000000   \n",
       "mean                         -465.988660                      1214.062375   \n",
       "std                            55.261827                       210.056163   \n",
       "min                          -647.544439                        -0.992219   \n",
       "25%                          -500.214580                      1060.476511   \n",
       "50%                          -499.693772                      1202.656040   \n",
       "75%                          -400.793268                      1387.579519   \n",
       "max                          -292.155509                      1817.199290   \n",
       "\n",
       "       rougher.state.floatbank10_d_level  rougher.state.floatbank10_e_air  \\\n",
       "count                       14579.000000                     14150.000000   \n",
       "mean                         -466.526202                      1082.778201   \n",
       "std                            55.701015                       176.092308   \n",
       "min                          -648.390665                        -1.982295   \n",
       "25%                          -500.369461                       998.562148   \n",
       "50%                          -499.511621                      1050.081856   \n",
       "75%                          -401.231087                      1199.518951   \n",
       "max                           -76.397327                      1922.636637   \n",
       "\n",
       "       rougher.state.floatbank10_e_level  rougher.state.floatbank10_f_air  \\\n",
       "count                       14579.000000                     14579.000000   \n",
       "mean                         -464.228268                      1025.775819   \n",
       "std                            59.132193                       169.680255   \n",
       "min                          -649.443911                        -2.593390   \n",
       "25%                          -500.220652                       900.713144   \n",
       "50%                          -499.640275                       999.870453   \n",
       "75%                          -400.842206                      1099.789243   \n",
       "max                          -139.753025                      1706.307502   \n",
       "\n",
       "       rougher.state.floatbank10_f_level  rougher.input.floatbank11_sulfate  \\\n",
       "count                       14579.000000                       14543.000000   \n",
       "mean                         -464.549373                          12.095857   \n",
       "std                            59.622879                           3.887128   \n",
       "min                          -649.949283                           0.000077   \n",
       "25%                          -500.518102                           9.999625   \n",
       "50%                          -499.451154                          12.000777   \n",
       "75%                          -401.190552                          14.821675   \n",
       "max                          -191.718480                          37.980648   \n",
       "\n",
       "       rougher.input.floatbank11_xanthate  \\\n",
       "count                        14172.000000   \n",
       "mean                             6.047261   \n",
       "std                              1.115055   \n",
       "min                              0.000290   \n",
       "25%                              5.399770   \n",
       "50%                              6.096038   \n",
       "75%                              6.800713   \n",
       "max                              9.698407   \n",
       "\n",
       "       rougher.calculation.sulfate_to_au_concentrate  \\\n",
       "count                                   1.457800e+04   \n",
       "mean                                    4.435219e+04   \n",
       "std                                     1.325109e+05   \n",
       "min                                    -1.548858e+07   \n",
       "25%                                     4.077084e+04   \n",
       "50%                                     4.487892e+04   \n",
       "75%                                     4.838894e+04   \n",
       "max                                     3.428099e+06   \n",
       "\n",
       "       rougher.calculation.floatbank10_sulfate_to_au_feed  \\\n",
       "count                                       14578.000000    \n",
       "mean                                         3440.548437    \n",
       "std                                          5676.976735    \n",
       "min                                          -486.598675    \n",
       "25%                                          2597.574879    \n",
       "50%                                          3055.912455    \n",
       "75%                                          3711.123079    \n",
       "max                                        629638.977914    \n",
       "\n",
       "       rougher.calculation.floatbank11_sulfate_to_au_feed  \\\n",
       "count                                       14578.000000    \n",
       "mean                                         3276.812427    \n",
       "std                                          6654.751076    \n",
       "min                                          -264.982785    \n",
       "25%                                          2528.351956    \n",
       "50%                                          3006.139692    \n",
       "75%                                          3621.306274    \n",
       "max                                        718684.955855    \n",
       "\n",
       "       rougher.calculation.au_pb_ratio  rougher.output.concentrate_au  \\\n",
       "count                     14579.000000                   14579.000000   \n",
       "mean                          2.436506                      19.717470   \n",
       "std                           0.747964                       4.086618   \n",
       "min                          -0.010548                       0.000000   \n",
       "25%                           2.050078                      18.908919   \n",
       "50%                           2.326922                      20.329736   \n",
       "75%                           2.746607                      21.767391   \n",
       "max                          27.231374                      28.824507   \n",
       "\n",
       "       rougher.output.concentrate_ag  rougher.output.concentrate_pb  \\\n",
       "count                   14579.000000                   14579.000000   \n",
       "mean                       11.944253                       7.498953   \n",
       "std                         2.916323                       1.851631   \n",
       "min                         0.000000                       0.000000   \n",
       "25%                        10.611551                       6.682731   \n",
       "50%                        12.136445                       7.705023   \n",
       "75%                        13.771614                       8.507136   \n",
       "max                        24.480271                      13.091679   \n",
       "\n",
       "       rougher.output.concentrate_sol  rougher.output.recovery  \\\n",
       "count                    14561.000000             14579.000000   \n",
       "mean                        28.653422                82.521200   \n",
       "std                          6.427589                15.797521   \n",
       "min                          0.000000                 0.000000   \n",
       "25%                         27.149641                80.558542   \n",
       "50%                         29.917369                85.946497   \n",
       "75%                         32.300398                89.960375   \n",
       "max                         38.351193               100.000000   \n",
       "\n",
       "       rougher.output.tail_au  rougher.output.tail_ag  rougher.output.tail_pb  \\\n",
       "count            14579.000000            14578.000000            14579.000000   \n",
       "mean                 1.852849                5.649646                0.654742   \n",
       "std                  0.671844                1.079950                0.251685   \n",
       "min                  0.020676                2.316530                0.007566   \n",
       "25%                  1.455205                5.023787                0.490217   \n",
       "50%                  1.840333                5.819341                0.623074   \n",
       "75%                  2.227136                6.407298                0.780414   \n",
       "max                  9.688980               12.719177                3.778064   \n",
       "\n",
       "       rougher.output.tail_sol  primary_cleaner.input.sulfate  \\\n",
       "count             14579.000000                   14556.000000   \n",
       "mean                 18.019755                     145.099826   \n",
       "std                   3.492621                      45.136018   \n",
       "min                  10.014648                       0.003112   \n",
       "25%                  15.753976                     114.273934   \n",
       "50%                  18.060998                     144.627539   \n",
       "75%                  20.064557                     176.161883   \n",
       "max                  66.117188                     265.983123   \n",
       "\n",
       "       primary_cleaner.input.depressant  primary_cleaner.input.feed_size  \\\n",
       "count                      14551.000000                     14579.000000   \n",
       "mean                           8.858575                         7.307600   \n",
       "std                            3.323216                         0.621609   \n",
       "min                            0.000000                         1.080000   \n",
       "25%                            6.194337                         6.940000   \n",
       "50%                            8.055245                         7.280000   \n",
       "75%                           11.061619                         7.689666   \n",
       "max                           40.000000                        15.500000   \n",
       "\n",
       "       primary_cleaner.input.xanthate  primary_cleaner.state.floatbank8_a_air  \\\n",
       "count                    14518.000000                            1.457600e+04   \n",
       "mean                         1.026512                            1.589676e+03   \n",
       "std                          0.519205                            1.303228e+02   \n",
       "min                          0.000005                            5.445860e-32   \n",
       "25%                          0.696098                            1.504949e+03   \n",
       "50%                          0.957958                            1.600683e+03   \n",
       "75%                          1.224756                            1.697830e+03   \n",
       "max                          4.102454                            2.103104e+03   \n",
       "\n",
       "       primary_cleaner.state.floatbank8_a_level  \\\n",
       "count                              14579.000000   \n",
       "mean                                -492.185489   \n",
       "std                                   30.827141   \n",
       "min                                 -798.641662   \n",
       "25%                                 -500.320169   \n",
       "50%                                 -499.935617   \n",
       "75%                                 -499.457104   \n",
       "max                                  -57.195404   \n",
       "\n",
       "       primary_cleaner.state.floatbank8_b_air  \\\n",
       "count                            1.457600e+04   \n",
       "mean                             1.592027e+03   \n",
       "std                              1.317109e+02   \n",
       "min                              6.647490e-32   \n",
       "25%                              1.505230e+03   \n",
       "50%                              1.600561e+03   \n",
       "75%                              1.699149e+03   \n",
       "max                              2.114907e+03   \n",
       "\n",
       "       primary_cleaner.state.floatbank8_b_level  \\\n",
       "count                              14579.000000   \n",
       "mean                                -492.838585   \n",
       "std                                   33.288228   \n",
       "min                                 -799.997015   \n",
       "25%                                 -500.440327   \n",
       "50%                                 -499.962584   \n",
       "75%                                 -499.383154   \n",
       "max                                 -142.527229   \n",
       "\n",
       "       primary_cleaner.state.floatbank8_c_air  \\\n",
       "count                            1.457900e+04   \n",
       "mean                             1.585924e+03   \n",
       "std                              1.372292e+02   \n",
       "min                              4.033736e-32   \n",
       "25%                              1.500845e+03   \n",
       "50%                              1.600226e+03   \n",
       "75%                              1.699482e+03   \n",
       "max                              2.013156e+03   \n",
       "\n",
       "       primary_cleaner.state.floatbank8_c_level  \\\n",
       "count                              14579.000000   \n",
       "mean                                -492.726140   \n",
       "std                                   32.359161   \n",
       "min                                 -799.960571   \n",
       "25%                                 -500.709838   \n",
       "50%                                 -499.914492   \n",
       "75%                                 -498.899663   \n",
       "max                                 -150.937035   \n",
       "\n",
       "       primary_cleaner.state.floatbank8_d_air  \\\n",
       "count                            1.457800e+04   \n",
       "mean                             1.547119e+03   \n",
       "std                              2.426145e+02   \n",
       "min                              4.039220e-32   \n",
       "25%                              1.497960e+03   \n",
       "50%                              1.599493e+03   \n",
       "75%                              1.698395e+03   \n",
       "max                              2.398904e+03   \n",
       "\n",
       "       primary_cleaner.state.floatbank8_d_level  \\\n",
       "count                              14579.000000   \n",
       "mean                                -488.724249   \n",
       "std                                   44.157594   \n",
       "min                                 -799.794250   \n",
       "25%                                 -500.464464   \n",
       "50%                                 -499.916753   \n",
       "75%                                 -499.137048   \n",
       "max                                  -30.601828   \n",
       "\n",
       "       primary_cleaner.output.concentrate_au  \\\n",
       "count                           14579.000000   \n",
       "mean                               32.007535   \n",
       "std                                 5.891272   \n",
       "min                                 0.000000   \n",
       "25%                                30.409669   \n",
       "50%                                32.837748   \n",
       "75%                                35.027165   \n",
       "max                                45.933934   \n",
       "\n",
       "       primary_cleaner.output.concentrate_ag  \\\n",
       "count                           14579.000000   \n",
       "mean                                8.468626   \n",
       "std                                 2.082271   \n",
       "min                                 0.000000   \n",
       "25%                                 7.360525   \n",
       "50%                                 8.555670   \n",
       "75%                                 9.815695   \n",
       "max                                16.081632   \n",
       "\n",
       "       primary_cleaner.output.concentrate_pb  \\\n",
       "count                           14491.000000   \n",
       "mean                                9.750567   \n",
       "std                                 2.556602   \n",
       "min                                 0.000000   \n",
       "25%                                 8.668289   \n",
       "50%                                10.121250   \n",
       "75%                                11.362268   \n",
       "max                                17.081278   \n",
       "\n",
       "       primary_cleaner.output.concentrate_sol  primary_cleaner.output.tail_au  \\\n",
       "count                            14314.000000                    14579.000000   \n",
       "mean                                10.576880                        3.974004   \n",
       "std                                  3.964761                        1.604410   \n",
       "min                                  0.000000                        0.000000   \n",
       "25%                                  7.964614                        2.960094   \n",
       "50%                                 10.479225                        3.693812   \n",
       "75%                                 13.588618                        4.648610   \n",
       "max                                 22.458114                       17.788925   \n",
       "\n",
       "       primary_cleaner.output.tail_ag  primary_cleaner.output.tail_pb  \\\n",
       "count                    14575.000000                    14573.000000   \n",
       "mean                        16.069960                        3.403764   \n",
       "std                          3.557775                        1.394091   \n",
       "min                          0.000000                        0.000000   \n",
       "25%                         13.978468                        2.494448   \n",
       "50%                         15.773016                        3.229651   \n",
       "75%                         17.908623                        4.115288   \n",
       "max                         29.459575                        9.634565   \n",
       "\n",
       "       primary_cleaner.output.tail_sol  \\\n",
       "count                     14534.000000   \n",
       "mean                          8.025747   \n",
       "std                           2.176478   \n",
       "min                           0.000000   \n",
       "25%                           6.826706   \n",
       "50%                           8.235004   \n",
       "75%                           9.562956   \n",
       "max                          22.276364   \n",
       "\n",
       "       secondary_cleaner.state.floatbank2_a_air  \\\n",
       "count                              14485.000000   \n",
       "mean                                  28.449700   \n",
       "std                                    5.467326   \n",
       "min                                    0.077503   \n",
       "25%                                   25.034882   \n",
       "50%                                   28.968533   \n",
       "75%                                   32.250615   \n",
       "max                                   52.651399   \n",
       "\n",
       "       secondary_cleaner.state.floatbank2_a_level  \\\n",
       "count                                14579.000000   \n",
       "mean                                  -503.321444   \n",
       "std                                     56.555780   \n",
       "min                                   -799.605762   \n",
       "25%                                   -500.240915   \n",
       "50%                                   -499.975415   \n",
       "75%                                   -499.668396   \n",
       "max                                   -127.875565   \n",
       "\n",
       "       secondary_cleaner.state.floatbank2_b_air  \\\n",
       "count                              14557.000000   \n",
       "mean                                  23.898016   \n",
       "std                                    5.820755   \n",
       "min                                    0.000000   \n",
       "25%                                   20.083738   \n",
       "50%                                   24.988575   \n",
       "75%                                   27.996854   \n",
       "max                                   35.152122   \n",
       "\n",
       "       secondary_cleaner.state.floatbank2_b_level  \\\n",
       "count                                14579.000000   \n",
       "mean                                  -504.455206   \n",
       "std                                     60.219739   \n",
       "min                                   -799.870292   \n",
       "25%                                   -500.264871   \n",
       "50%                                   -500.017709   \n",
       "75%                                   -499.786233   \n",
       "max                                   -211.999273   \n",
       "\n",
       "       secondary_cleaner.state.floatbank3_a_air  \\\n",
       "count                              14567.000000   \n",
       "mean                                  27.966801   \n",
       "std                                    6.109365   \n",
       "min                                    0.000000   \n",
       "25%                                   24.879889   \n",
       "50%                                   27.966517   \n",
       "75%                                   32.981447   \n",
       "max                                   44.260464   \n",
       "\n",
       "       secondary_cleaner.state.floatbank3_a_level  \\\n",
       "count                                14579.000000   \n",
       "mean                                  -485.112844   \n",
       "std                                     55.205693   \n",
       "min                                   -799.755798   \n",
       "25%                                   -500.214111   \n",
       "50%                                   -499.922655   \n",
       "75%                                   -499.233769   \n",
       "max                                   -191.678810   \n",
       "\n",
       "       secondary_cleaner.state.floatbank3_b_air  \\\n",
       "count                              14579.000000   \n",
       "mean                                  22.056638   \n",
       "std                                    5.605309   \n",
       "min                                    0.000000   \n",
       "25%                                   18.990660   \n",
       "50%                                   21.995308   \n",
       "75%                                   25.979469   \n",
       "max                                   35.072841   \n",
       "\n",
       "       secondary_cleaner.state.floatbank3_b_level  \\\n",
       "count                                14579.000000   \n",
       "mean                                  -493.400930   \n",
       "std                                     44.228650   \n",
       "min                                   -809.333008   \n",
       "25%                                   -500.123568   \n",
       "50%                                   -499.980765   \n",
       "75%                                   -499.808121   \n",
       "max                                   -159.742331   \n",
       "\n",
       "       secondary_cleaner.state.floatbank4_a_air  \\\n",
       "count                              14574.000000   \n",
       "mean                                  18.697604   \n",
       "std                                    5.200943   \n",
       "min                                    0.000000   \n",
       "25%                                   14.963312   \n",
       "50%                                   18.005468   \n",
       "75%                                   22.977019   \n",
       "max                                   30.115735   \n",
       "\n",
       "       secondary_cleaner.state.floatbank4_a_level  \\\n",
       "count                                14579.000000   \n",
       "mean                                  -484.971102   \n",
       "std                                     48.795359   \n",
       "min                                   -799.798523   \n",
       "25%                                   -500.704937   \n",
       "50%                                   -499.820809   \n",
       "75%                                   -498.048862   \n",
       "max                                   -245.239184   \n",
       "\n",
       "       secondary_cleaner.state.floatbank4_b_air  \\\n",
       "count                              14579.000000   \n",
       "mean                                  14.823764   \n",
       "std                                    4.863659   \n",
       "min                                    0.000000   \n",
       "25%                                   11.889685   \n",
       "50%                                   14.957945   \n",
       "75%                                   17.125406   \n",
       "max                                   31.269706   \n",
       "\n",
       "       secondary_cleaner.state.floatbank4_b_level  \\\n",
       "count                                14579.000000   \n",
       "mean                                  -460.046154   \n",
       "std                                     67.933026   \n",
       "min                                   -800.836914   \n",
       "25%                                   -500.184081   \n",
       "50%                                   -499.424528   \n",
       "75%                                   -400.083087   \n",
       "max                                     -6.506986   \n",
       "\n",
       "       secondary_cleaner.state.floatbank5_a_air  \\\n",
       "count                              14579.000000   \n",
       "mean                                  15.394610   \n",
       "std                                    5.405045   \n",
       "min                                   -0.372054   \n",
       "25%                                   10.977413   \n",
       "50%                                   14.963654   \n",
       "75%                                   18.012762   \n",
       "max                                   43.709931   \n",
       "\n",
       "       secondary_cleaner.state.floatbank5_a_level  \\\n",
       "count                                14579.000000   \n",
       "mean                                  -487.973768   \n",
       "std                                     35.231439   \n",
       "min                                   -797.323986   \n",
       "25%                                   -500.451167   \n",
       "50%                                   -499.772653   \n",
       "75%                                   -498.182011   \n",
       "max                                   -244.483566   \n",
       "\n",
       "       secondary_cleaner.state.floatbank5_b_air  \\\n",
       "count                              14579.000000   \n",
       "mean                                  11.949009   \n",
       "std                                    5.241169   \n",
       "min                                    0.528083   \n",
       "25%                                    8.947381   \n",
       "50%                                   11.000057   \n",
       "75%                                   14.002573   \n",
       "max                                   27.926001   \n",
       "\n",
       "       secondary_cleaner.state.floatbank5_b_level  \\\n",
       "count                                14579.000000   \n",
       "mean                                  -486.338692   \n",
       "std                                     38.726292   \n",
       "min                                   -800.220337   \n",
       "25%                                   -500.129137   \n",
       "50%                                   -499.926255   \n",
       "75%                                   -499.285414   \n",
       "max                                   -137.740004   \n",
       "\n",
       "       secondary_cleaner.state.floatbank6_a_air  \\\n",
       "count                              14578.000000   \n",
       "mean                                  18.927405   \n",
       "std                                    5.550829   \n",
       "min                                   -0.079426   \n",
       "25%                                   14.985721   \n",
       "50%                                   19.960798   \n",
       "75%                                   23.038231   \n",
       "max                                   32.188906   \n",
       "\n",
       "       secondary_cleaner.state.floatbank6_a_level  \\\n",
       "count                                14579.000000   \n",
       "mean                                  -505.688730   \n",
       "std                                     37.347370   \n",
       "min                                   -809.741464   \n",
       "25%                                   -500.755346   \n",
       "50%                                   -500.054273   \n",
       "75%                                   -499.506135   \n",
       "max                                   -123.307487   \n",
       "\n",
       "       secondary_cleaner.output.tail_au  secondary_cleaner.output.tail_ag  \\\n",
       "count                      14579.000000                      14578.000000   \n",
       "mean                           4.373067                         14.441265   \n",
       "std                            2.394328                          4.416497   \n",
       "min                            0.000000                          0.000000   \n",
       "25%                            3.216855                         12.479139   \n",
       "50%                            4.097589                         15.448510   \n",
       "75%                            5.108658                         17.349683   \n",
       "max                           26.811643                         23.264738   \n",
       "\n",
       "       secondary_cleaner.output.tail_pb  secondary_cleaner.output.tail_sol  \\\n",
       "count                      14575.000000                       13659.000000   \n",
       "mean                           5.617182                           7.111347   \n",
       "std                            2.704951                           3.909951   \n",
       "min                            0.000000                           0.000000   \n",
       "25%                            3.801206                           3.784897   \n",
       "50%                            5.227419                           7.629968   \n",
       "75%                            7.609340                          10.367050   \n",
       "max                           17.042505                          26.000772   \n",
       "\n",
       "       final.output.concentrate_au  final.output.concentrate_ag  \\\n",
       "count                 14579.000000                 14578.000000   \n",
       "mean                     43.979499                     5.192145   \n",
       "std                       5.471437                     1.388014   \n",
       "min                       0.000000                     0.000000   \n",
       "25%                      43.345906                     4.283347   \n",
       "50%                      44.975014                     5.118647   \n",
       "75%                      46.275153                     5.925380   \n",
       "max                      52.756638                    16.001945   \n",
       "\n",
       "       final.output.concentrate_pb  final.output.concentrate_sol  \\\n",
       "count                 14578.000000                  14387.000000   \n",
       "mean                      9.923809                      9.566676   \n",
       "std                       1.706976                      2.805654   \n",
       "min                       0.000000                      0.000000   \n",
       "25%                       9.103183                      7.860030   \n",
       "50%                      10.046455                      9.301970   \n",
       "75%                      10.981203                     11.001573   \n",
       "max                      16.705297                     19.423912   \n",
       "\n",
       "       final.output.recovery  final.output.tail_au  final.output.tail_ag  \\\n",
       "count           14579.000000          14579.000000          14578.000000   \n",
       "mean               66.759066              3.087939              9.731972   \n",
       "std                10.619709              0.915187              2.358143   \n",
       "min                 0.000000              0.000000              0.000000   \n",
       "25%                63.114596              2.505287              8.088928   \n",
       "50%                67.962788              3.029238              9.818512   \n",
       "75%                72.598187              3.614098             11.169187   \n",
       "max               100.000000              8.245022             19.552149   \n",
       "\n",
       "       final.output.tail_pb  final.output.tail_sol  \n",
       "count          14504.000000           14574.000000  \n",
       "mean               2.719985              10.612745  \n",
       "std                0.958929               2.871075  \n",
       "min                0.000000               0.000000  \n",
       "25%                2.036512               9.013412  \n",
       "50%                2.774847              10.670515  \n",
       "75%                3.353845              12.130827  \n",
       "max                5.804178              22.317730  "
      ]
     },
     "execution_count": 10,
     "metadata": {},
     "output_type": "execute_result"
    }
   ],
   "source": [
    "df_train.describe()"
   ]
  },
  {
   "cell_type": "code",
   "execution_count": 11,
   "metadata": {
    "scrolled": true
   },
   "outputs": [
    {
     "data": {
      "text/html": [
       "<div>\n",
       "<style scoped>\n",
       "    .dataframe tbody tr th:only-of-type {\n",
       "        vertical-align: middle;\n",
       "    }\n",
       "\n",
       "    .dataframe tbody tr th {\n",
       "        vertical-align: top;\n",
       "    }\n",
       "\n",
       "    .dataframe thead th {\n",
       "        text-align: right;\n",
       "    }\n",
       "</style>\n",
       "<table border=\"1\" class=\"dataframe\">\n",
       "  <thead>\n",
       "    <tr style=\"text-align: right;\">\n",
       "      <th></th>\n",
       "      <th>date</th>\n",
       "      <th>rougher.input.feed_au</th>\n",
       "      <th>rougher.input.feed_ag</th>\n",
       "      <th>rougher.input.feed_pb</th>\n",
       "      <th>rougher.input.feed_sol</th>\n",
       "      <th>rougher.input.feed_rate</th>\n",
       "      <th>rougher.input.feed_size</th>\n",
       "      <th>rougher.input.floatbank10_sulfate</th>\n",
       "      <th>rougher.input.floatbank10_xanthate</th>\n",
       "      <th>rougher.state.floatbank10_a_air</th>\n",
       "      <th>rougher.state.floatbank10_a_level</th>\n",
       "      <th>rougher.state.floatbank10_b_air</th>\n",
       "      <th>rougher.state.floatbank10_b_level</th>\n",
       "      <th>rougher.state.floatbank10_c_air</th>\n",
       "      <th>rougher.state.floatbank10_c_level</th>\n",
       "      <th>rougher.state.floatbank10_d_air</th>\n",
       "      <th>rougher.state.floatbank10_d_level</th>\n",
       "      <th>rougher.state.floatbank10_e_air</th>\n",
       "      <th>rougher.state.floatbank10_e_level</th>\n",
       "      <th>rougher.state.floatbank10_f_air</th>\n",
       "      <th>rougher.state.floatbank10_f_level</th>\n",
       "      <th>rougher.input.floatbank11_sulfate</th>\n",
       "      <th>rougher.input.floatbank11_xanthate</th>\n",
       "      <th>rougher.calculation.sulfate_to_au_concentrate</th>\n",
       "      <th>rougher.calculation.floatbank10_sulfate_to_au_feed</th>\n",
       "      <th>rougher.calculation.floatbank11_sulfate_to_au_feed</th>\n",
       "      <th>rougher.calculation.au_pb_ratio</th>\n",
       "      <th>rougher.output.concentrate_au</th>\n",
       "      <th>rougher.output.concentrate_ag</th>\n",
       "      <th>rougher.output.concentrate_pb</th>\n",
       "      <th>rougher.output.concentrate_sol</th>\n",
       "      <th>rougher.output.recovery</th>\n",
       "      <th>rougher.output.tail_au</th>\n",
       "      <th>rougher.output.tail_ag</th>\n",
       "      <th>rougher.output.tail_pb</th>\n",
       "      <th>rougher.output.tail_sol</th>\n",
       "      <th>primary_cleaner.input.sulfate</th>\n",
       "      <th>primary_cleaner.input.depressant</th>\n",
       "      <th>primary_cleaner.input.feed_size</th>\n",
       "      <th>primary_cleaner.input.xanthate</th>\n",
       "      <th>primary_cleaner.state.floatbank8_a_air</th>\n",
       "      <th>primary_cleaner.state.floatbank8_a_level</th>\n",
       "      <th>primary_cleaner.state.floatbank8_b_air</th>\n",
       "      <th>primary_cleaner.state.floatbank8_b_level</th>\n",
       "      <th>primary_cleaner.state.floatbank8_c_air</th>\n",
       "      <th>primary_cleaner.state.floatbank8_c_level</th>\n",
       "      <th>primary_cleaner.state.floatbank8_d_air</th>\n",
       "      <th>primary_cleaner.state.floatbank8_d_level</th>\n",
       "      <th>primary_cleaner.output.concentrate_au</th>\n",
       "      <th>primary_cleaner.output.concentrate_ag</th>\n",
       "      <th>primary_cleaner.output.concentrate_pb</th>\n",
       "      <th>primary_cleaner.output.concentrate_sol</th>\n",
       "      <th>primary_cleaner.output.tail_au</th>\n",
       "      <th>primary_cleaner.output.tail_ag</th>\n",
       "      <th>primary_cleaner.output.tail_pb</th>\n",
       "      <th>primary_cleaner.output.tail_sol</th>\n",
       "      <th>secondary_cleaner.state.floatbank2_a_air</th>\n",
       "      <th>secondary_cleaner.state.floatbank2_a_level</th>\n",
       "      <th>secondary_cleaner.state.floatbank2_b_air</th>\n",
       "      <th>secondary_cleaner.state.floatbank2_b_level</th>\n",
       "      <th>secondary_cleaner.state.floatbank3_a_air</th>\n",
       "      <th>secondary_cleaner.state.floatbank3_a_level</th>\n",
       "      <th>secondary_cleaner.state.floatbank3_b_air</th>\n",
       "      <th>secondary_cleaner.state.floatbank3_b_level</th>\n",
       "      <th>secondary_cleaner.state.floatbank4_a_air</th>\n",
       "      <th>secondary_cleaner.state.floatbank4_a_level</th>\n",
       "      <th>secondary_cleaner.state.floatbank4_b_air</th>\n",
       "      <th>secondary_cleaner.state.floatbank4_b_level</th>\n",
       "      <th>secondary_cleaner.state.floatbank5_a_air</th>\n",
       "      <th>secondary_cleaner.state.floatbank5_a_level</th>\n",
       "      <th>secondary_cleaner.state.floatbank5_b_air</th>\n",
       "      <th>secondary_cleaner.state.floatbank5_b_level</th>\n",
       "      <th>secondary_cleaner.state.floatbank6_a_air</th>\n",
       "      <th>secondary_cleaner.state.floatbank6_a_level</th>\n",
       "      <th>secondary_cleaner.output.tail_au</th>\n",
       "      <th>secondary_cleaner.output.tail_ag</th>\n",
       "      <th>secondary_cleaner.output.tail_pb</th>\n",
       "      <th>secondary_cleaner.output.tail_sol</th>\n",
       "      <th>final.output.concentrate_au</th>\n",
       "      <th>final.output.concentrate_ag</th>\n",
       "      <th>final.output.concentrate_pb</th>\n",
       "      <th>final.output.concentrate_sol</th>\n",
       "      <th>final.output.recovery</th>\n",
       "      <th>final.output.tail_au</th>\n",
       "      <th>final.output.tail_ag</th>\n",
       "      <th>final.output.tail_pb</th>\n",
       "      <th>final.output.tail_sol</th>\n",
       "    </tr>\n",
       "  </thead>\n",
       "  <tbody>\n",
       "    <tr>\n",
       "      <th>0</th>\n",
       "      <td>2016-01-15 00:00:00</td>\n",
       "      <td>6.486150</td>\n",
       "      <td>6.100378</td>\n",
       "      <td>2.284912</td>\n",
       "      <td>36.808594</td>\n",
       "      <td>523.546326</td>\n",
       "      <td>55.486599</td>\n",
       "      <td>11.986616</td>\n",
       "      <td>6.007990</td>\n",
       "      <td>999.706909</td>\n",
       "      <td>-404.066986</td>\n",
       "      <td>1603.011353</td>\n",
       "      <td>-434.715027</td>\n",
       "      <td>1602.375000</td>\n",
       "      <td>-442.204468</td>\n",
       "      <td>1598.937256</td>\n",
       "      <td>-451.294128</td>\n",
       "      <td>1404.472046</td>\n",
       "      <td>-455.462982</td>\n",
       "      <td>1416.354980</td>\n",
       "      <td>-451.939636</td>\n",
       "      <td>11.836743</td>\n",
       "      <td>6.005818</td>\n",
       "      <td>41885.707031</td>\n",
       "      <td>3481.779053</td>\n",
       "      <td>3520.337158</td>\n",
       "      <td>2.838687</td>\n",
       "      <td>19.793808</td>\n",
       "      <td>11.500771</td>\n",
       "      <td>7.101074</td>\n",
       "      <td>28.029297</td>\n",
       "      <td>87.107763</td>\n",
       "      <td>1.170244</td>\n",
       "      <td>5.008018</td>\n",
       "      <td>0.508728</td>\n",
       "      <td>19.154297</td>\n",
       "      <td>127.092003</td>\n",
       "      <td>10.128295</td>\n",
       "      <td>7.25</td>\n",
       "      <td>0.988759</td>\n",
       "      <td>1549.775757</td>\n",
       "      <td>-498.912140</td>\n",
       "      <td>1551.434204</td>\n",
       "      <td>-516.403442</td>\n",
       "      <td>1549.873901</td>\n",
       "      <td>-498.666595</td>\n",
       "      <td>1554.367432</td>\n",
       "      <td>-493.428131</td>\n",
       "      <td>34.174427</td>\n",
       "      <td>8.547551</td>\n",
       "      <td>10.389648</td>\n",
       "      <td>19.529297</td>\n",
       "      <td>2.106679</td>\n",
       "      <td>14.936526</td>\n",
       "      <td>2.534912</td>\n",
       "      <td>7.476074</td>\n",
       "      <td>25.853109</td>\n",
       "      <td>-498.526489</td>\n",
       "      <td>23.893660</td>\n",
       "      <td>-501.406281</td>\n",
       "      <td>23.961798</td>\n",
       "      <td>-495.262817</td>\n",
       "      <td>21.940409</td>\n",
       "      <td>-499.340973</td>\n",
       "      <td>14.016835</td>\n",
       "      <td>-502.488007</td>\n",
       "      <td>12.099931</td>\n",
       "      <td>-504.715942</td>\n",
       "      <td>9.925633</td>\n",
       "      <td>-498.310211</td>\n",
       "      <td>8.079666</td>\n",
       "      <td>-500.470978</td>\n",
       "      <td>14.151341</td>\n",
       "      <td>-605.841980</td>\n",
       "      <td>2.606185</td>\n",
       "      <td>14.500184</td>\n",
       "      <td>4.694824</td>\n",
       "      <td>8.764648</td>\n",
       "      <td>42.192020</td>\n",
       "      <td>6.055403</td>\n",
       "      <td>9.889648</td>\n",
       "      <td>5.507324</td>\n",
       "      <td>70.541216</td>\n",
       "      <td>2.143149</td>\n",
       "      <td>10.411962</td>\n",
       "      <td>0.895447</td>\n",
       "      <td>16.904297</td>\n",
       "    </tr>\n",
       "    <tr>\n",
       "      <th>1</th>\n",
       "      <td>2016-01-15 01:00:00</td>\n",
       "      <td>6.478583</td>\n",
       "      <td>6.161113</td>\n",
       "      <td>2.266033</td>\n",
       "      <td>35.753385</td>\n",
       "      <td>525.290581</td>\n",
       "      <td>57.278666</td>\n",
       "      <td>11.971193</td>\n",
       "      <td>6.005766</td>\n",
       "      <td>1000.286398</td>\n",
       "      <td>-400.065196</td>\n",
       "      <td>1600.754587</td>\n",
       "      <td>-449.953435</td>\n",
       "      <td>1600.479580</td>\n",
       "      <td>-449.830646</td>\n",
       "      <td>1600.527589</td>\n",
       "      <td>-449.953649</td>\n",
       "      <td>1399.227084</td>\n",
       "      <td>-450.869848</td>\n",
       "      <td>1399.719514</td>\n",
       "      <td>-450.119001</td>\n",
       "      <td>11.996163</td>\n",
       "      <td>6.012594</td>\n",
       "      <td>42050.861809</td>\n",
       "      <td>3498.370979</td>\n",
       "      <td>3489.981857</td>\n",
       "      <td>2.858998</td>\n",
       "      <td>20.050975</td>\n",
       "      <td>11.615865</td>\n",
       "      <td>7.278807</td>\n",
       "      <td>28.067063</td>\n",
       "      <td>86.843261</td>\n",
       "      <td>1.184827</td>\n",
       "      <td>4.955378</td>\n",
       "      <td>0.536689</td>\n",
       "      <td>18.965234</td>\n",
       "      <td>125.629232</td>\n",
       "      <td>10.296251</td>\n",
       "      <td>7.25</td>\n",
       "      <td>1.002663</td>\n",
       "      <td>1576.166671</td>\n",
       "      <td>-500.904965</td>\n",
       "      <td>1575.950626</td>\n",
       "      <td>-499.865889</td>\n",
       "      <td>1575.994189</td>\n",
       "      <td>-499.315107</td>\n",
       "      <td>1574.479259</td>\n",
       "      <td>-498.931665</td>\n",
       "      <td>34.118526</td>\n",
       "      <td>8.558743</td>\n",
       "      <td>10.497069</td>\n",
       "      <td>19.369147</td>\n",
       "      <td>2.353017</td>\n",
       "      <td>16.250511</td>\n",
       "      <td>3.049646</td>\n",
       "      <td>6.733907</td>\n",
       "      <td>25.880539</td>\n",
       "      <td>-499.989656</td>\n",
       "      <td>23.889530</td>\n",
       "      <td>-500.372428</td>\n",
       "      <td>23.970550</td>\n",
       "      <td>-500.085473</td>\n",
       "      <td>22.085714</td>\n",
       "      <td>-499.446897</td>\n",
       "      <td>13.992281</td>\n",
       "      <td>-505.503262</td>\n",
       "      <td>11.950531</td>\n",
       "      <td>-501.331529</td>\n",
       "      <td>10.039245</td>\n",
       "      <td>-500.169983</td>\n",
       "      <td>7.984757</td>\n",
       "      <td>-500.582168</td>\n",
       "      <td>13.998353</td>\n",
       "      <td>-599.787184</td>\n",
       "      <td>2.488248</td>\n",
       "      <td>14.265474</td>\n",
       "      <td>4.592547</td>\n",
       "      <td>9.001494</td>\n",
       "      <td>42.701629</td>\n",
       "      <td>6.029369</td>\n",
       "      <td>9.968944</td>\n",
       "      <td>5.257781</td>\n",
       "      <td>69.266198</td>\n",
       "      <td>2.224930</td>\n",
       "      <td>10.462676</td>\n",
       "      <td>0.927452</td>\n",
       "      <td>16.634514</td>\n",
       "    </tr>\n",
       "    <tr>\n",
       "      <th>2</th>\n",
       "      <td>2016-01-15 02:00:00</td>\n",
       "      <td>6.362222</td>\n",
       "      <td>6.116455</td>\n",
       "      <td>2.159622</td>\n",
       "      <td>35.971630</td>\n",
       "      <td>530.026610</td>\n",
       "      <td>57.510649</td>\n",
       "      <td>11.920603</td>\n",
       "      <td>6.197377</td>\n",
       "      <td>999.719565</td>\n",
       "      <td>-400.074028</td>\n",
       "      <td>1599.337330</td>\n",
       "      <td>-450.008530</td>\n",
       "      <td>1599.672797</td>\n",
       "      <td>-449.954491</td>\n",
       "      <td>1599.849325</td>\n",
       "      <td>-449.954185</td>\n",
       "      <td>1399.180945</td>\n",
       "      <td>-449.937588</td>\n",
       "      <td>1400.316682</td>\n",
       "      <td>-450.527147</td>\n",
       "      <td>11.920305</td>\n",
       "      <td>6.204633</td>\n",
       "      <td>42018.101184</td>\n",
       "      <td>3495.348910</td>\n",
       "      <td>3502.359819</td>\n",
       "      <td>2.945989</td>\n",
       "      <td>19.737170</td>\n",
       "      <td>11.695753</td>\n",
       "      <td>7.216833</td>\n",
       "      <td>27.454037</td>\n",
       "      <td>86.842308</td>\n",
       "      <td>1.162562</td>\n",
       "      <td>4.843460</td>\n",
       "      <td>0.546416</td>\n",
       "      <td>18.808533</td>\n",
       "      <td>123.819808</td>\n",
       "      <td>11.316280</td>\n",
       "      <td>7.25</td>\n",
       "      <td>0.991265</td>\n",
       "      <td>1601.556163</td>\n",
       "      <td>-499.997791</td>\n",
       "      <td>1600.386685</td>\n",
       "      <td>-500.607762</td>\n",
       "      <td>1602.003542</td>\n",
       "      <td>-500.870069</td>\n",
       "      <td>1599.541515</td>\n",
       "      <td>-499.827444</td>\n",
       "      <td>33.969464</td>\n",
       "      <td>8.603505</td>\n",
       "      <td>10.354494</td>\n",
       "      <td>19.167579</td>\n",
       "      <td>2.416800</td>\n",
       "      <td>16.491823</td>\n",
       "      <td>3.124664</td>\n",
       "      <td>6.471768</td>\n",
       "      <td>26.005245</td>\n",
       "      <td>-499.929616</td>\n",
       "      <td>23.886657</td>\n",
       "      <td>-499.951928</td>\n",
       "      <td>23.913535</td>\n",
       "      <td>-499.442343</td>\n",
       "      <td>23.957717</td>\n",
       "      <td>-499.901982</td>\n",
       "      <td>14.015015</td>\n",
       "      <td>-502.520901</td>\n",
       "      <td>11.912783</td>\n",
       "      <td>-501.133383</td>\n",
       "      <td>10.070913</td>\n",
       "      <td>-500.129135</td>\n",
       "      <td>8.013877</td>\n",
       "      <td>-500.517572</td>\n",
       "      <td>14.028663</td>\n",
       "      <td>-601.427363</td>\n",
       "      <td>2.458187</td>\n",
       "      <td>14.115662</td>\n",
       "      <td>4.624775</td>\n",
       "      <td>8.842896</td>\n",
       "      <td>42.657501</td>\n",
       "      <td>6.055926</td>\n",
       "      <td>10.213995</td>\n",
       "      <td>5.383759</td>\n",
       "      <td>68.116445</td>\n",
       "      <td>2.257889</td>\n",
       "      <td>10.507046</td>\n",
       "      <td>0.953716</td>\n",
       "      <td>16.208849</td>\n",
       "    </tr>\n",
       "    <tr>\n",
       "      <th>3</th>\n",
       "      <td>2016-01-15 03:00:00</td>\n",
       "      <td>6.118189</td>\n",
       "      <td>6.043309</td>\n",
       "      <td>2.037807</td>\n",
       "      <td>36.862241</td>\n",
       "      <td>542.590390</td>\n",
       "      <td>57.792734</td>\n",
       "      <td>11.630094</td>\n",
       "      <td>6.203177</td>\n",
       "      <td>999.814770</td>\n",
       "      <td>-400.200179</td>\n",
       "      <td>1600.059442</td>\n",
       "      <td>-450.619948</td>\n",
       "      <td>1600.012842</td>\n",
       "      <td>-449.910497</td>\n",
       "      <td>1597.725177</td>\n",
       "      <td>-450.130127</td>\n",
       "      <td>1400.943157</td>\n",
       "      <td>-450.030142</td>\n",
       "      <td>1400.234743</td>\n",
       "      <td>-449.790835</td>\n",
       "      <td>11.692450</td>\n",
       "      <td>6.196578</td>\n",
       "      <td>42029.447991</td>\n",
       "      <td>3498.578313</td>\n",
       "      <td>3499.162912</td>\n",
       "      <td>3.002340</td>\n",
       "      <td>19.320810</td>\n",
       "      <td>11.915047</td>\n",
       "      <td>7.175616</td>\n",
       "      <td>27.341277</td>\n",
       "      <td>87.226430</td>\n",
       "      <td>1.079755</td>\n",
       "      <td>4.655288</td>\n",
       "      <td>0.542525</td>\n",
       "      <td>19.330200</td>\n",
       "      <td>122.270188</td>\n",
       "      <td>11.322140</td>\n",
       "      <td>7.25</td>\n",
       "      <td>0.996739</td>\n",
       "      <td>1599.968720</td>\n",
       "      <td>-500.951778</td>\n",
       "      <td>1600.659236</td>\n",
       "      <td>-499.677094</td>\n",
       "      <td>1600.304144</td>\n",
       "      <td>-500.727997</td>\n",
       "      <td>1600.449520</td>\n",
       "      <td>-500.052575</td>\n",
       "      <td>28.260743</td>\n",
       "      <td>7.221879</td>\n",
       "      <td>8.496563</td>\n",
       "      <td>15.978538</td>\n",
       "      <td>2.262051</td>\n",
       "      <td>16.024359</td>\n",
       "      <td>2.960362</td>\n",
       "      <td>6.843791</td>\n",
       "      <td>25.942508</td>\n",
       "      <td>-499.176749</td>\n",
       "      <td>23.955516</td>\n",
       "      <td>-499.848796</td>\n",
       "      <td>23.966838</td>\n",
       "      <td>-500.008812</td>\n",
       "      <td>23.954443</td>\n",
       "      <td>-499.944710</td>\n",
       "      <td>14.036510</td>\n",
       "      <td>-500.857308</td>\n",
       "      <td>11.999550</td>\n",
       "      <td>-501.193686</td>\n",
       "      <td>9.970366</td>\n",
       "      <td>-499.201640</td>\n",
       "      <td>7.977324</td>\n",
       "      <td>-500.255908</td>\n",
       "      <td>14.005551</td>\n",
       "      <td>-599.996129</td>\n",
       "      <td>2.322062</td>\n",
       "      <td>13.732071</td>\n",
       "      <td>4.482453</td>\n",
       "      <td>9.122857</td>\n",
       "      <td>42.689819</td>\n",
       "      <td>6.047977</td>\n",
       "      <td>9.977019</td>\n",
       "      <td>4.858634</td>\n",
       "      <td>68.347543</td>\n",
       "      <td>2.146849</td>\n",
       "      <td>10.422762</td>\n",
       "      <td>0.883763</td>\n",
       "      <td>16.532835</td>\n",
       "    </tr>\n",
       "    <tr>\n",
       "      <th>4</th>\n",
       "      <td>2016-01-15 04:00:00</td>\n",
       "      <td>5.663707</td>\n",
       "      <td>6.060915</td>\n",
       "      <td>1.786875</td>\n",
       "      <td>34.347666</td>\n",
       "      <td>540.531893</td>\n",
       "      <td>56.047189</td>\n",
       "      <td>10.957755</td>\n",
       "      <td>6.198826</td>\n",
       "      <td>999.678690</td>\n",
       "      <td>-399.752729</td>\n",
       "      <td>1600.208824</td>\n",
       "      <td>-449.599614</td>\n",
       "      <td>1600.357732</td>\n",
       "      <td>-450.034364</td>\n",
       "      <td>1599.759049</td>\n",
       "      <td>-449.909799</td>\n",
       "      <td>1401.560902</td>\n",
       "      <td>-448.877187</td>\n",
       "      <td>1401.160227</td>\n",
       "      <td>-450.407128</td>\n",
       "      <td>10.960521</td>\n",
       "      <td>6.194897</td>\n",
       "      <td>42125.354245</td>\n",
       "      <td>3494.800771</td>\n",
       "      <td>3506.679315</td>\n",
       "      <td>3.169615</td>\n",
       "      <td>19.216101</td>\n",
       "      <td>12.411054</td>\n",
       "      <td>7.240205</td>\n",
       "      <td>27.041023</td>\n",
       "      <td>86.688794</td>\n",
       "      <td>1.012642</td>\n",
       "      <td>4.552800</td>\n",
       "      <td>0.515438</td>\n",
       "      <td>19.267422</td>\n",
       "      <td>117.988169</td>\n",
       "      <td>11.913613</td>\n",
       "      <td>7.25</td>\n",
       "      <td>1.009869</td>\n",
       "      <td>1601.339707</td>\n",
       "      <td>-498.975456</td>\n",
       "      <td>1601.437854</td>\n",
       "      <td>-500.323246</td>\n",
       "      <td>1599.581894</td>\n",
       "      <td>-500.888152</td>\n",
       "      <td>1602.649541</td>\n",
       "      <td>-500.593010</td>\n",
       "      <td>33.044932</td>\n",
       "      <td>9.089428</td>\n",
       "      <td>9.986786</td>\n",
       "      <td>19.199864</td>\n",
       "      <td>2.277073</td>\n",
       "      <td>16.480185</td>\n",
       "      <td>3.112100</td>\n",
       "      <td>6.550154</td>\n",
       "      <td>26.024787</td>\n",
       "      <td>-500.279091</td>\n",
       "      <td>23.955345</td>\n",
       "      <td>-500.593614</td>\n",
       "      <td>23.985703</td>\n",
       "      <td>-500.083811</td>\n",
       "      <td>23.958945</td>\n",
       "      <td>-499.990309</td>\n",
       "      <td>14.027298</td>\n",
       "      <td>-499.838632</td>\n",
       "      <td>11.953070</td>\n",
       "      <td>-501.053894</td>\n",
       "      <td>9.925709</td>\n",
       "      <td>-501.686727</td>\n",
       "      <td>7.894242</td>\n",
       "      <td>-500.356035</td>\n",
       "      <td>13.996647</td>\n",
       "      <td>-601.496691</td>\n",
       "      <td>2.330448</td>\n",
       "      <td>14.079996</td>\n",
       "      <td>4.470737</td>\n",
       "      <td>8.871028</td>\n",
       "      <td>42.774141</td>\n",
       "      <td>6.148599</td>\n",
       "      <td>10.142511</td>\n",
       "      <td>4.939416</td>\n",
       "      <td>66.927016</td>\n",
       "      <td>2.055292</td>\n",
       "      <td>10.360302</td>\n",
       "      <td>0.792826</td>\n",
       "      <td>16.525686</td>\n",
       "    </tr>\n",
       "    <tr>\n",
       "      <th>5</th>\n",
       "      <td>2016-01-15 05:00:00</td>\n",
       "      <td>5.687168</td>\n",
       "      <td>5.801920</td>\n",
       "      <td>1.879351</td>\n",
       "      <td>35.470082</td>\n",
       "      <td>546.173470</td>\n",
       "      <td>57.469578</td>\n",
       "      <td>11.072517</td>\n",
       "      <td>6.200383</td>\n",
       "      <td>999.934134</td>\n",
       "      <td>-400.599524</td>\n",
       "      <td>1601.080554</td>\n",
       "      <td>-450.120760</td>\n",
       "      <td>1603.164805</td>\n",
       "      <td>-450.097732</td>\n",
       "      <td>1603.368371</td>\n",
       "      <td>-446.306150</td>\n",
       "      <td>1403.393100</td>\n",
       "      <td>-447.899904</td>\n",
       "      <td>1402.903175</td>\n",
       "      <td>-448.872321</td>\n",
       "      <td>11.075009</td>\n",
       "      <td>6.202362</td>\n",
       "      <td>41973.280986</td>\n",
       "      <td>3501.916973</td>\n",
       "      <td>3499.527175</td>\n",
       "      <td>3.026134</td>\n",
       "      <td>18.950385</td>\n",
       "      <td>11.985584</td>\n",
       "      <td>7.121903</td>\n",
       "      <td>26.898046</td>\n",
       "      <td>88.156912</td>\n",
       "      <td>0.915835</td>\n",
       "      <td>4.397415</td>\n",
       "      <td>0.491350</td>\n",
       "      <td>19.640269</td>\n",
       "      <td>115.581252</td>\n",
       "      <td>12.470773</td>\n",
       "      <td>7.25</td>\n",
       "      <td>0.965760</td>\n",
       "      <td>1602.964922</td>\n",
       "      <td>-498.090944</td>\n",
       "      <td>1602.074298</td>\n",
       "      <td>-500.179481</td>\n",
       "      <td>1602.154812</td>\n",
       "      <td>-498.642614</td>\n",
       "      <td>1605.020106</td>\n",
       "      <td>-500.538177</td>\n",
       "      <td>32.070664</td>\n",
       "      <td>9.553724</td>\n",
       "      <td>9.816215</td>\n",
       "      <td>19.167328</td>\n",
       "      <td>2.114558</td>\n",
       "      <td>15.931540</td>\n",
       "      <td>2.844511</td>\n",
       "      <td>6.724197</td>\n",
       "      <td>26.014841</td>\n",
       "      <td>-498.864670</td>\n",
       "      <td>23.880214</td>\n",
       "      <td>-499.738447</td>\n",
       "      <td>23.982635</td>\n",
       "      <td>-500.495272</td>\n",
       "      <td>24.009749</td>\n",
       "      <td>-499.433825</td>\n",
       "      <td>13.938497</td>\n",
       "      <td>-500.970168</td>\n",
       "      <td>11.883350</td>\n",
       "      <td>-500.395298</td>\n",
       "      <td>10.054147</td>\n",
       "      <td>-496.374715</td>\n",
       "      <td>7.965083</td>\n",
       "      <td>-499.364752</td>\n",
       "      <td>14.017067</td>\n",
       "      <td>-599.707915</td>\n",
       "      <td>2.192127</td>\n",
       "      <td>13.615012</td>\n",
       "      <td>4.286817</td>\n",
       "      <td>9.302669</td>\n",
       "      <td>41.633678</td>\n",
       "      <td>6.482968</td>\n",
       "      <td>10.049416</td>\n",
       "      <td>5.480257</td>\n",
       "      <td>69.465816</td>\n",
       "      <td>1.918586</td>\n",
       "      <td>10.182708</td>\n",
       "      <td>0.664118</td>\n",
       "      <td>16.999638</td>\n",
       "    </tr>\n",
       "    <tr>\n",
       "      <th>6</th>\n",
       "      <td>2016-01-15 06:00:00</td>\n",
       "      <td>6.038436</td>\n",
       "      <td>6.056253</td>\n",
       "      <td>2.105501</td>\n",
       "      <td>34.920570</td>\n",
       "      <td>523.376439</td>\n",
       "      <td>56.674647</td>\n",
       "      <td>11.535899</td>\n",
       "      <td>6.204974</td>\n",
       "      <td>999.832373</td>\n",
       "      <td>-399.353521</td>\n",
       "      <td>1600.753019</td>\n",
       "      <td>-450.050089</td>\n",
       "      <td>1599.019966</td>\n",
       "      <td>-449.848507</td>\n",
       "      <td>1600.298267</td>\n",
       "      <td>-453.102891</td>\n",
       "      <td>1397.853265</td>\n",
       "      <td>-451.306640</td>\n",
       "      <td>1397.973670</td>\n",
       "      <td>-451.355626</td>\n",
       "      <td>11.539227</td>\n",
       "      <td>6.200515</td>\n",
       "      <td>41956.468979</td>\n",
       "      <td>3497.427365</td>\n",
       "      <td>3506.352790</td>\n",
       "      <td>2.867933</td>\n",
       "      <td>19.319591</td>\n",
       "      <td>11.684307</td>\n",
       "      <td>7.304849</td>\n",
       "      <td>27.063672</td>\n",
       "      <td>88.168065</td>\n",
       "      <td>0.986248</td>\n",
       "      <td>4.478080</td>\n",
       "      <td>0.518266</td>\n",
       "      <td>19.262491</td>\n",
       "      <td>117.322323</td>\n",
       "      <td>12.469088</td>\n",
       "      <td>7.25</td>\n",
       "      <td>0.895207</td>\n",
       "      <td>1597.532455</td>\n",
       "      <td>-500.985364</td>\n",
       "      <td>1602.816321</td>\n",
       "      <td>-500.696736</td>\n",
       "      <td>1603.572091</td>\n",
       "      <td>-500.256955</td>\n",
       "      <td>1597.597437</td>\n",
       "      <td>-500.378192</td>\n",
       "      <td>33.184823</td>\n",
       "      <td>8.968869</td>\n",
       "      <td>10.081306</td>\n",
       "      <td>18.930855</td>\n",
       "      <td>2.223152</td>\n",
       "      <td>16.078368</td>\n",
       "      <td>2.938979</td>\n",
       "      <td>6.623598</td>\n",
       "      <td>25.957594</td>\n",
       "      <td>-500.134472</td>\n",
       "      <td>24.077199</td>\n",
       "      <td>-500.089190</td>\n",
       "      <td>23.991710</td>\n",
       "      <td>-500.391528</td>\n",
       "      <td>23.954144</td>\n",
       "      <td>-501.872171</td>\n",
       "      <td>14.046819</td>\n",
       "      <td>-500.971133</td>\n",
       "      <td>12.091543</td>\n",
       "      <td>-500.501426</td>\n",
       "      <td>10.003247</td>\n",
       "      <td>-497.083180</td>\n",
       "      <td>8.010890</td>\n",
       "      <td>-500.002423</td>\n",
       "      <td>14.029649</td>\n",
       "      <td>-600.905470</td>\n",
       "      <td>2.316720</td>\n",
       "      <td>13.597056</td>\n",
       "      <td>4.487865</td>\n",
       "      <td>9.103047</td>\n",
       "      <td>41.995316</td>\n",
       "      <td>6.533849</td>\n",
       "      <td>10.058141</td>\n",
       "      <td>4.569100</td>\n",
       "      <td>69.300835</td>\n",
       "      <td>2.058913</td>\n",
       "      <td>10.304598</td>\n",
       "      <td>0.807342</td>\n",
       "      <td>16.723575</td>\n",
       "    </tr>\n",
       "    <tr>\n",
       "      <th>7</th>\n",
       "      <td>2016-01-15 07:00:00</td>\n",
       "      <td>6.433854</td>\n",
       "      <td>5.955053</td>\n",
       "      <td>2.310432</td>\n",
       "      <td>36.091386</td>\n",
       "      <td>549.842749</td>\n",
       "      <td>56.730325</td>\n",
       "      <td>12.557906</td>\n",
       "      <td>6.799275</td>\n",
       "      <td>1000.166602</td>\n",
       "      <td>-400.556601</td>\n",
       "      <td>1598.877246</td>\n",
       "      <td>-450.070980</td>\n",
       "      <td>1598.108717</td>\n",
       "      <td>-449.211334</td>\n",
       "      <td>1592.872844</td>\n",
       "      <td>-449.806802</td>\n",
       "      <td>1396.580752</td>\n",
       "      <td>-453.548352</td>\n",
       "      <td>1397.289884</td>\n",
       "      <td>-450.221696</td>\n",
       "      <td>12.583109</td>\n",
       "      <td>6.798354</td>\n",
       "      <td>41812.416893</td>\n",
       "      <td>3497.275828</td>\n",
       "      <td>3501.000030</td>\n",
       "      <td>2.784698</td>\n",
       "      <td>19.507897</td>\n",
       "      <td>11.182624</td>\n",
       "      <td>7.258496</td>\n",
       "      <td>27.231114</td>\n",
       "      <td>87.668336</td>\n",
       "      <td>1.116110</td>\n",
       "      <td>4.728325</td>\n",
       "      <td>0.548067</td>\n",
       "      <td>18.861866</td>\n",
       "      <td>124.592960</td>\n",
       "      <td>12.467403</td>\n",
       "      <td>7.25</td>\n",
       "      <td>0.901202</td>\n",
       "      <td>1597.946266</td>\n",
       "      <td>-501.592304</td>\n",
       "      <td>1601.078254</td>\n",
       "      <td>-499.494115</td>\n",
       "      <td>1602.630688</td>\n",
       "      <td>-500.173741</td>\n",
       "      <td>1595.937990</td>\n",
       "      <td>-498.929825</td>\n",
       "      <td>34.027719</td>\n",
       "      <td>8.545238</td>\n",
       "      <td>10.224540</td>\n",
       "      <td>18.735813</td>\n",
       "      <td>2.112025</td>\n",
       "      <td>15.797720</td>\n",
       "      <td>2.881529</td>\n",
       "      <td>6.872033</td>\n",
       "      <td>25.938026</td>\n",
       "      <td>-499.657795</td>\n",
       "      <td>24.020179</td>\n",
       "      <td>-499.798396</td>\n",
       "      <td>24.031555</td>\n",
       "      <td>-500.550436</td>\n",
       "      <td>23.968160</td>\n",
       "      <td>-499.836513</td>\n",
       "      <td>13.974691</td>\n",
       "      <td>-501.819696</td>\n",
       "      <td>12.101324</td>\n",
       "      <td>-500.583446</td>\n",
       "      <td>9.873169</td>\n",
       "      <td>-499.171928</td>\n",
       "      <td>7.993381</td>\n",
       "      <td>-499.794518</td>\n",
       "      <td>13.984498</td>\n",
       "      <td>-600.411070</td>\n",
       "      <td>2.192197</td>\n",
       "      <td>13.177237</td>\n",
       "      <td>4.432448</td>\n",
       "      <td>9.369209</td>\n",
       "      <td>42.452727</td>\n",
       "      <td>6.130823</td>\n",
       "      <td>9.935481</td>\n",
       "      <td>4.389813</td>\n",
       "      <td>70.230976</td>\n",
       "      <td>2.143437</td>\n",
       "      <td>10.443288</td>\n",
       "      <td>0.949346</td>\n",
       "      <td>16.689959</td>\n",
       "    </tr>\n",
       "    <tr>\n",
       "      <th>8</th>\n",
       "      <td>2016-01-15 08:00:00</td>\n",
       "      <td>6.526612</td>\n",
       "      <td>5.878084</td>\n",
       "      <td>2.391713</td>\n",
       "      <td>35.753879</td>\n",
       "      <td>560.115242</td>\n",
       "      <td>56.649893</td>\n",
       "      <td>13.166128</td>\n",
       "      <td>6.798659</td>\n",
       "      <td>1000.026864</td>\n",
       "      <td>-399.968583</td>\n",
       "      <td>1599.813104</td>\n",
       "      <td>-450.481122</td>\n",
       "      <td>1600.024621</td>\n",
       "      <td>-450.365493</td>\n",
       "      <td>1594.448648</td>\n",
       "      <td>-449.882428</td>\n",
       "      <td>1402.033682</td>\n",
       "      <td>-448.545552</td>\n",
       "      <td>1400.748347</td>\n",
       "      <td>-450.303991</td>\n",
       "      <td>13.184764</td>\n",
       "      <td>6.800021</td>\n",
       "      <td>41905.757985</td>\n",
       "      <td>3498.332166</td>\n",
       "      <td>3498.120075</td>\n",
       "      <td>2.728844</td>\n",
       "      <td>19.789465</td>\n",
       "      <td>11.051323</td>\n",
       "      <td>7.380043</td>\n",
       "      <td>27.404296</td>\n",
       "      <td>87.035862</td>\n",
       "      <td>1.186780</td>\n",
       "      <td>4.764300</td>\n",
       "      <td>0.599181</td>\n",
       "      <td>18.873082</td>\n",
       "      <td>131.781026</td>\n",
       "      <td>12.465718</td>\n",
       "      <td>7.25</td>\n",
       "      <td>0.885535</td>\n",
       "      <td>1601.670053</td>\n",
       "      <td>-499.548891</td>\n",
       "      <td>1598.804355</td>\n",
       "      <td>-499.689644</td>\n",
       "      <td>1601.689285</td>\n",
       "      <td>-500.484957</td>\n",
       "      <td>1602.431117</td>\n",
       "      <td>-500.650982</td>\n",
       "      <td>34.964974</td>\n",
       "      <td>8.046686</td>\n",
       "      <td>10.500065</td>\n",
       "      <td>18.560288</td>\n",
       "      <td>2.243817</td>\n",
       "      <td>16.195420</td>\n",
       "      <td>3.089922</td>\n",
       "      <td>6.705633</td>\n",
       "      <td>25.929511</td>\n",
       "      <td>-500.079889</td>\n",
       "      <td>23.977375</td>\n",
       "      <td>-500.005187</td>\n",
       "      <td>23.998809</td>\n",
       "      <td>-500.400133</td>\n",
       "      <td>23.982633</td>\n",
       "      <td>-499.826311</td>\n",
       "      <td>13.964030</td>\n",
       "      <td>-504.252450</td>\n",
       "      <td>12.060738</td>\n",
       "      <td>-501.174549</td>\n",
       "      <td>10.033838</td>\n",
       "      <td>-501.178133</td>\n",
       "      <td>7.881604</td>\n",
       "      <td>-499.729434</td>\n",
       "      <td>13.967135</td>\n",
       "      <td>-599.061188</td>\n",
       "      <td>2.212084</td>\n",
       "      <td>13.487870</td>\n",
       "      <td>4.608756</td>\n",
       "      <td>9.437044</td>\n",
       "      <td>43.404078</td>\n",
       "      <td>5.834140</td>\n",
       "      <td>10.071156</td>\n",
       "      <td>4.876389</td>\n",
       "      <td>69.688595</td>\n",
       "      <td>2.209881</td>\n",
       "      <td>10.420140</td>\n",
       "      <td>1.065453</td>\n",
       "      <td>17.201948</td>\n",
       "    </tr>\n",
       "    <tr>\n",
       "      <th>9</th>\n",
       "      <td>2016-01-15 09:00:00</td>\n",
       "      <td>6.747693</td>\n",
       "      <td>5.974832</td>\n",
       "      <td>2.539114</td>\n",
       "      <td>38.553938</td>\n",
       "      <td>566.616045</td>\n",
       "      <td>60.308763</td>\n",
       "      <td>13.996130</td>\n",
       "      <td>6.800263</td>\n",
       "      <td>1000.332327</td>\n",
       "      <td>-400.149341</td>\n",
       "      <td>1599.255585</td>\n",
       "      <td>-449.938835</td>\n",
       "      <td>1599.889681</td>\n",
       "      <td>-450.184036</td>\n",
       "      <td>1589.251641</td>\n",
       "      <td>-449.993434</td>\n",
       "      <td>1401.349036</td>\n",
       "      <td>-449.424506</td>\n",
       "      <td>1400.221018</td>\n",
       "      <td>-450.257027</td>\n",
       "      <td>14.018513</td>\n",
       "      <td>6.799799</td>\n",
       "      <td>41904.587200</td>\n",
       "      <td>3496.945733</td>\n",
       "      <td>3503.247805</td>\n",
       "      <td>2.657499</td>\n",
       "      <td>19.550973</td>\n",
       "      <td>11.354861</td>\n",
       "      <td>7.344956</td>\n",
       "      <td>27.742063</td>\n",
       "      <td>88.280699</td>\n",
       "      <td>1.137303</td>\n",
       "      <td>4.600020</td>\n",
       "      <td>0.619485</td>\n",
       "      <td>19.436276</td>\n",
       "      <td>146.153696</td>\n",
       "      <td>12.464385</td>\n",
       "      <td>7.25</td>\n",
       "      <td>0.897431</td>\n",
       "      <td>1601.066985</td>\n",
       "      <td>-499.830641</td>\n",
       "      <td>1599.806933</td>\n",
       "      <td>-500.600490</td>\n",
       "      <td>1599.164142</td>\n",
       "      <td>-499.334459</td>\n",
       "      <td>1599.697783</td>\n",
       "      <td>-500.263228</td>\n",
       "      <td>35.360817</td>\n",
       "      <td>7.862340</td>\n",
       "      <td>10.526890</td>\n",
       "      <td>18.504813</td>\n",
       "      <td>2.011642</td>\n",
       "      <td>15.823639</td>\n",
       "      <td>3.012419</td>\n",
       "      <td>7.214806</td>\n",
       "      <td>25.986485</td>\n",
       "      <td>-499.402963</td>\n",
       "      <td>23.961207</td>\n",
       "      <td>-499.986118</td>\n",
       "      <td>24.049918</td>\n",
       "      <td>-500.435620</td>\n",
       "      <td>23.972413</td>\n",
       "      <td>-499.751759</td>\n",
       "      <td>14.008944</td>\n",
       "      <td>-504.170807</td>\n",
       "      <td>11.995903</td>\n",
       "      <td>-501.269181</td>\n",
       "      <td>10.043100</td>\n",
       "      <td>-498.529996</td>\n",
       "      <td>8.002633</td>\n",
       "      <td>-499.761922</td>\n",
       "      <td>14.004767</td>\n",
       "      <td>-599.595324</td>\n",
       "      <td>2.067619</td>\n",
       "      <td>13.735810</td>\n",
       "      <td>4.721778</td>\n",
       "      <td>9.582874</td>\n",
       "      <td>43.487291</td>\n",
       "      <td>5.706261</td>\n",
       "      <td>10.242511</td>\n",
       "      <td>5.214161</td>\n",
       "      <td>70.973641</td>\n",
       "      <td>2.200997</td>\n",
       "      <td>10.473539</td>\n",
       "      <td>1.171183</td>\n",
       "      <td>17.717049</td>\n",
       "    </tr>\n",
       "  </tbody>\n",
       "</table>\n",
       "</div>"
      ],
      "text/plain": [
       "                  date  rougher.input.feed_au  rougher.input.feed_ag  \\\n",
       "0  2016-01-15 00:00:00               6.486150               6.100378   \n",
       "1  2016-01-15 01:00:00               6.478583               6.161113   \n",
       "2  2016-01-15 02:00:00               6.362222               6.116455   \n",
       "3  2016-01-15 03:00:00               6.118189               6.043309   \n",
       "4  2016-01-15 04:00:00               5.663707               6.060915   \n",
       "5  2016-01-15 05:00:00               5.687168               5.801920   \n",
       "6  2016-01-15 06:00:00               6.038436               6.056253   \n",
       "7  2016-01-15 07:00:00               6.433854               5.955053   \n",
       "8  2016-01-15 08:00:00               6.526612               5.878084   \n",
       "9  2016-01-15 09:00:00               6.747693               5.974832   \n",
       "\n",
       "   rougher.input.feed_pb  rougher.input.feed_sol  rougher.input.feed_rate  \\\n",
       "0               2.284912               36.808594               523.546326   \n",
       "1               2.266033               35.753385               525.290581   \n",
       "2               2.159622               35.971630               530.026610   \n",
       "3               2.037807               36.862241               542.590390   \n",
       "4               1.786875               34.347666               540.531893   \n",
       "5               1.879351               35.470082               546.173470   \n",
       "6               2.105501               34.920570               523.376439   \n",
       "7               2.310432               36.091386               549.842749   \n",
       "8               2.391713               35.753879               560.115242   \n",
       "9               2.539114               38.553938               566.616045   \n",
       "\n",
       "   rougher.input.feed_size  rougher.input.floatbank10_sulfate  \\\n",
       "0                55.486599                          11.986616   \n",
       "1                57.278666                          11.971193   \n",
       "2                57.510649                          11.920603   \n",
       "3                57.792734                          11.630094   \n",
       "4                56.047189                          10.957755   \n",
       "5                57.469578                          11.072517   \n",
       "6                56.674647                          11.535899   \n",
       "7                56.730325                          12.557906   \n",
       "8                56.649893                          13.166128   \n",
       "9                60.308763                          13.996130   \n",
       "\n",
       "   rougher.input.floatbank10_xanthate  rougher.state.floatbank10_a_air  \\\n",
       "0                            6.007990                       999.706909   \n",
       "1                            6.005766                      1000.286398   \n",
       "2                            6.197377                       999.719565   \n",
       "3                            6.203177                       999.814770   \n",
       "4                            6.198826                       999.678690   \n",
       "5                            6.200383                       999.934134   \n",
       "6                            6.204974                       999.832373   \n",
       "7                            6.799275                      1000.166602   \n",
       "8                            6.798659                      1000.026864   \n",
       "9                            6.800263                      1000.332327   \n",
       "\n",
       "   rougher.state.floatbank10_a_level  rougher.state.floatbank10_b_air  \\\n",
       "0                        -404.066986                      1603.011353   \n",
       "1                        -400.065196                      1600.754587   \n",
       "2                        -400.074028                      1599.337330   \n",
       "3                        -400.200179                      1600.059442   \n",
       "4                        -399.752729                      1600.208824   \n",
       "5                        -400.599524                      1601.080554   \n",
       "6                        -399.353521                      1600.753019   \n",
       "7                        -400.556601                      1598.877246   \n",
       "8                        -399.968583                      1599.813104   \n",
       "9                        -400.149341                      1599.255585   \n",
       "\n",
       "   rougher.state.floatbank10_b_level  rougher.state.floatbank10_c_air  \\\n",
       "0                        -434.715027                      1602.375000   \n",
       "1                        -449.953435                      1600.479580   \n",
       "2                        -450.008530                      1599.672797   \n",
       "3                        -450.619948                      1600.012842   \n",
       "4                        -449.599614                      1600.357732   \n",
       "5                        -450.120760                      1603.164805   \n",
       "6                        -450.050089                      1599.019966   \n",
       "7                        -450.070980                      1598.108717   \n",
       "8                        -450.481122                      1600.024621   \n",
       "9                        -449.938835                      1599.889681   \n",
       "\n",
       "   rougher.state.floatbank10_c_level  rougher.state.floatbank10_d_air  \\\n",
       "0                        -442.204468                      1598.937256   \n",
       "1                        -449.830646                      1600.527589   \n",
       "2                        -449.954491                      1599.849325   \n",
       "3                        -449.910497                      1597.725177   \n",
       "4                        -450.034364                      1599.759049   \n",
       "5                        -450.097732                      1603.368371   \n",
       "6                        -449.848507                      1600.298267   \n",
       "7                        -449.211334                      1592.872844   \n",
       "8                        -450.365493                      1594.448648   \n",
       "9                        -450.184036                      1589.251641   \n",
       "\n",
       "   rougher.state.floatbank10_d_level  rougher.state.floatbank10_e_air  \\\n",
       "0                        -451.294128                      1404.472046   \n",
       "1                        -449.953649                      1399.227084   \n",
       "2                        -449.954185                      1399.180945   \n",
       "3                        -450.130127                      1400.943157   \n",
       "4                        -449.909799                      1401.560902   \n",
       "5                        -446.306150                      1403.393100   \n",
       "6                        -453.102891                      1397.853265   \n",
       "7                        -449.806802                      1396.580752   \n",
       "8                        -449.882428                      1402.033682   \n",
       "9                        -449.993434                      1401.349036   \n",
       "\n",
       "   rougher.state.floatbank10_e_level  rougher.state.floatbank10_f_air  \\\n",
       "0                        -455.462982                      1416.354980   \n",
       "1                        -450.869848                      1399.719514   \n",
       "2                        -449.937588                      1400.316682   \n",
       "3                        -450.030142                      1400.234743   \n",
       "4                        -448.877187                      1401.160227   \n",
       "5                        -447.899904                      1402.903175   \n",
       "6                        -451.306640                      1397.973670   \n",
       "7                        -453.548352                      1397.289884   \n",
       "8                        -448.545552                      1400.748347   \n",
       "9                        -449.424506                      1400.221018   \n",
       "\n",
       "   rougher.state.floatbank10_f_level  rougher.input.floatbank11_sulfate  \\\n",
       "0                        -451.939636                          11.836743   \n",
       "1                        -450.119001                          11.996163   \n",
       "2                        -450.527147                          11.920305   \n",
       "3                        -449.790835                          11.692450   \n",
       "4                        -450.407128                          10.960521   \n",
       "5                        -448.872321                          11.075009   \n",
       "6                        -451.355626                          11.539227   \n",
       "7                        -450.221696                          12.583109   \n",
       "8                        -450.303991                          13.184764   \n",
       "9                        -450.257027                          14.018513   \n",
       "\n",
       "   rougher.input.floatbank11_xanthate  \\\n",
       "0                            6.005818   \n",
       "1                            6.012594   \n",
       "2                            6.204633   \n",
       "3                            6.196578   \n",
       "4                            6.194897   \n",
       "5                            6.202362   \n",
       "6                            6.200515   \n",
       "7                            6.798354   \n",
       "8                            6.800021   \n",
       "9                            6.799799   \n",
       "\n",
       "   rougher.calculation.sulfate_to_au_concentrate  \\\n",
       "0                                   41885.707031   \n",
       "1                                   42050.861809   \n",
       "2                                   42018.101184   \n",
       "3                                   42029.447991   \n",
       "4                                   42125.354245   \n",
       "5                                   41973.280986   \n",
       "6                                   41956.468979   \n",
       "7                                   41812.416893   \n",
       "8                                   41905.757985   \n",
       "9                                   41904.587200   \n",
       "\n",
       "   rougher.calculation.floatbank10_sulfate_to_au_feed  \\\n",
       "0                                        3481.779053    \n",
       "1                                        3498.370979    \n",
       "2                                        3495.348910    \n",
       "3                                        3498.578313    \n",
       "4                                        3494.800771    \n",
       "5                                        3501.916973    \n",
       "6                                        3497.427365    \n",
       "7                                        3497.275828    \n",
       "8                                        3498.332166    \n",
       "9                                        3496.945733    \n",
       "\n",
       "   rougher.calculation.floatbank11_sulfate_to_au_feed  \\\n",
       "0                                        3520.337158    \n",
       "1                                        3489.981857    \n",
       "2                                        3502.359819    \n",
       "3                                        3499.162912    \n",
       "4                                        3506.679315    \n",
       "5                                        3499.527175    \n",
       "6                                        3506.352790    \n",
       "7                                        3501.000030    \n",
       "8                                        3498.120075    \n",
       "9                                        3503.247805    \n",
       "\n",
       "   rougher.calculation.au_pb_ratio  rougher.output.concentrate_au  \\\n",
       "0                         2.838687                      19.793808   \n",
       "1                         2.858998                      20.050975   \n",
       "2                         2.945989                      19.737170   \n",
       "3                         3.002340                      19.320810   \n",
       "4                         3.169615                      19.216101   \n",
       "5                         3.026134                      18.950385   \n",
       "6                         2.867933                      19.319591   \n",
       "7                         2.784698                      19.507897   \n",
       "8                         2.728844                      19.789465   \n",
       "9                         2.657499                      19.550973   \n",
       "\n",
       "   rougher.output.concentrate_ag  rougher.output.concentrate_pb  \\\n",
       "0                      11.500771                       7.101074   \n",
       "1                      11.615865                       7.278807   \n",
       "2                      11.695753                       7.216833   \n",
       "3                      11.915047                       7.175616   \n",
       "4                      12.411054                       7.240205   \n",
       "5                      11.985584                       7.121903   \n",
       "6                      11.684307                       7.304849   \n",
       "7                      11.182624                       7.258496   \n",
       "8                      11.051323                       7.380043   \n",
       "9                      11.354861                       7.344956   \n",
       "\n",
       "   rougher.output.concentrate_sol  rougher.output.recovery  \\\n",
       "0                       28.029297                87.107763   \n",
       "1                       28.067063                86.843261   \n",
       "2                       27.454037                86.842308   \n",
       "3                       27.341277                87.226430   \n",
       "4                       27.041023                86.688794   \n",
       "5                       26.898046                88.156912   \n",
       "6                       27.063672                88.168065   \n",
       "7                       27.231114                87.668336   \n",
       "8                       27.404296                87.035862   \n",
       "9                       27.742063                88.280699   \n",
       "\n",
       "   rougher.output.tail_au  rougher.output.tail_ag  rougher.output.tail_pb  \\\n",
       "0                1.170244                5.008018                0.508728   \n",
       "1                1.184827                4.955378                0.536689   \n",
       "2                1.162562                4.843460                0.546416   \n",
       "3                1.079755                4.655288                0.542525   \n",
       "4                1.012642                4.552800                0.515438   \n",
       "5                0.915835                4.397415                0.491350   \n",
       "6                0.986248                4.478080                0.518266   \n",
       "7                1.116110                4.728325                0.548067   \n",
       "8                1.186780                4.764300                0.599181   \n",
       "9                1.137303                4.600020                0.619485   \n",
       "\n",
       "   rougher.output.tail_sol  primary_cleaner.input.sulfate  \\\n",
       "0                19.154297                     127.092003   \n",
       "1                18.965234                     125.629232   \n",
       "2                18.808533                     123.819808   \n",
       "3                19.330200                     122.270188   \n",
       "4                19.267422                     117.988169   \n",
       "5                19.640269                     115.581252   \n",
       "6                19.262491                     117.322323   \n",
       "7                18.861866                     124.592960   \n",
       "8                18.873082                     131.781026   \n",
       "9                19.436276                     146.153696   \n",
       "\n",
       "   primary_cleaner.input.depressant  primary_cleaner.input.feed_size  \\\n",
       "0                         10.128295                             7.25   \n",
       "1                         10.296251                             7.25   \n",
       "2                         11.316280                             7.25   \n",
       "3                         11.322140                             7.25   \n",
       "4                         11.913613                             7.25   \n",
       "5                         12.470773                             7.25   \n",
       "6                         12.469088                             7.25   \n",
       "7                         12.467403                             7.25   \n",
       "8                         12.465718                             7.25   \n",
       "9                         12.464385                             7.25   \n",
       "\n",
       "   primary_cleaner.input.xanthate  primary_cleaner.state.floatbank8_a_air  \\\n",
       "0                        0.988759                             1549.775757   \n",
       "1                        1.002663                             1576.166671   \n",
       "2                        0.991265                             1601.556163   \n",
       "3                        0.996739                             1599.968720   \n",
       "4                        1.009869                             1601.339707   \n",
       "5                        0.965760                             1602.964922   \n",
       "6                        0.895207                             1597.532455   \n",
       "7                        0.901202                             1597.946266   \n",
       "8                        0.885535                             1601.670053   \n",
       "9                        0.897431                             1601.066985   \n",
       "\n",
       "   primary_cleaner.state.floatbank8_a_level  \\\n",
       "0                               -498.912140   \n",
       "1                               -500.904965   \n",
       "2                               -499.997791   \n",
       "3                               -500.951778   \n",
       "4                               -498.975456   \n",
       "5                               -498.090944   \n",
       "6                               -500.985364   \n",
       "7                               -501.592304   \n",
       "8                               -499.548891   \n",
       "9                               -499.830641   \n",
       "\n",
       "   primary_cleaner.state.floatbank8_b_air  \\\n",
       "0                             1551.434204   \n",
       "1                             1575.950626   \n",
       "2                             1600.386685   \n",
       "3                             1600.659236   \n",
       "4                             1601.437854   \n",
       "5                             1602.074298   \n",
       "6                             1602.816321   \n",
       "7                             1601.078254   \n",
       "8                             1598.804355   \n",
       "9                             1599.806933   \n",
       "\n",
       "   primary_cleaner.state.floatbank8_b_level  \\\n",
       "0                               -516.403442   \n",
       "1                               -499.865889   \n",
       "2                               -500.607762   \n",
       "3                               -499.677094   \n",
       "4                               -500.323246   \n",
       "5                               -500.179481   \n",
       "6                               -500.696736   \n",
       "7                               -499.494115   \n",
       "8                               -499.689644   \n",
       "9                               -500.600490   \n",
       "\n",
       "   primary_cleaner.state.floatbank8_c_air  \\\n",
       "0                             1549.873901   \n",
       "1                             1575.994189   \n",
       "2                             1602.003542   \n",
       "3                             1600.304144   \n",
       "4                             1599.581894   \n",
       "5                             1602.154812   \n",
       "6                             1603.572091   \n",
       "7                             1602.630688   \n",
       "8                             1601.689285   \n",
       "9                             1599.164142   \n",
       "\n",
       "   primary_cleaner.state.floatbank8_c_level  \\\n",
       "0                               -498.666595   \n",
       "1                               -499.315107   \n",
       "2                               -500.870069   \n",
       "3                               -500.727997   \n",
       "4                               -500.888152   \n",
       "5                               -498.642614   \n",
       "6                               -500.256955   \n",
       "7                               -500.173741   \n",
       "8                               -500.484957   \n",
       "9                               -499.334459   \n",
       "\n",
       "   primary_cleaner.state.floatbank8_d_air  \\\n",
       "0                             1554.367432   \n",
       "1                             1574.479259   \n",
       "2                             1599.541515   \n",
       "3                             1600.449520   \n",
       "4                             1602.649541   \n",
       "5                             1605.020106   \n",
       "6                             1597.597437   \n",
       "7                             1595.937990   \n",
       "8                             1602.431117   \n",
       "9                             1599.697783   \n",
       "\n",
       "   primary_cleaner.state.floatbank8_d_level  \\\n",
       "0                               -493.428131   \n",
       "1                               -498.931665   \n",
       "2                               -499.827444   \n",
       "3                               -500.052575   \n",
       "4                               -500.593010   \n",
       "5                               -500.538177   \n",
       "6                               -500.378192   \n",
       "7                               -498.929825   \n",
       "8                               -500.650982   \n",
       "9                               -500.263228   \n",
       "\n",
       "   primary_cleaner.output.concentrate_au  \\\n",
       "0                              34.174427   \n",
       "1                              34.118526   \n",
       "2                              33.969464   \n",
       "3                              28.260743   \n",
       "4                              33.044932   \n",
       "5                              32.070664   \n",
       "6                              33.184823   \n",
       "7                              34.027719   \n",
       "8                              34.964974   \n",
       "9                              35.360817   \n",
       "\n",
       "   primary_cleaner.output.concentrate_ag  \\\n",
       "0                               8.547551   \n",
       "1                               8.558743   \n",
       "2                               8.603505   \n",
       "3                               7.221879   \n",
       "4                               9.089428   \n",
       "5                               9.553724   \n",
       "6                               8.968869   \n",
       "7                               8.545238   \n",
       "8                               8.046686   \n",
       "9                               7.862340   \n",
       "\n",
       "   primary_cleaner.output.concentrate_pb  \\\n",
       "0                              10.389648   \n",
       "1                              10.497069   \n",
       "2                              10.354494   \n",
       "3                               8.496563   \n",
       "4                               9.986786   \n",
       "5                               9.816215   \n",
       "6                              10.081306   \n",
       "7                              10.224540   \n",
       "8                              10.500065   \n",
       "9                              10.526890   \n",
       "\n",
       "   primary_cleaner.output.concentrate_sol  primary_cleaner.output.tail_au  \\\n",
       "0                               19.529297                        2.106679   \n",
       "1                               19.369147                        2.353017   \n",
       "2                               19.167579                        2.416800   \n",
       "3                               15.978538                        2.262051   \n",
       "4                               19.199864                        2.277073   \n",
       "5                               19.167328                        2.114558   \n",
       "6                               18.930855                        2.223152   \n",
       "7                               18.735813                        2.112025   \n",
       "8                               18.560288                        2.243817   \n",
       "9                               18.504813                        2.011642   \n",
       "\n",
       "   primary_cleaner.output.tail_ag  primary_cleaner.output.tail_pb  \\\n",
       "0                       14.936526                        2.534912   \n",
       "1                       16.250511                        3.049646   \n",
       "2                       16.491823                        3.124664   \n",
       "3                       16.024359                        2.960362   \n",
       "4                       16.480185                        3.112100   \n",
       "5                       15.931540                        2.844511   \n",
       "6                       16.078368                        2.938979   \n",
       "7                       15.797720                        2.881529   \n",
       "8                       16.195420                        3.089922   \n",
       "9                       15.823639                        3.012419   \n",
       "\n",
       "   primary_cleaner.output.tail_sol  secondary_cleaner.state.floatbank2_a_air  \\\n",
       "0                         7.476074                                 25.853109   \n",
       "1                         6.733907                                 25.880539   \n",
       "2                         6.471768                                 26.005245   \n",
       "3                         6.843791                                 25.942508   \n",
       "4                         6.550154                                 26.024787   \n",
       "5                         6.724197                                 26.014841   \n",
       "6                         6.623598                                 25.957594   \n",
       "7                         6.872033                                 25.938026   \n",
       "8                         6.705633                                 25.929511   \n",
       "9                         7.214806                                 25.986485   \n",
       "\n",
       "   secondary_cleaner.state.floatbank2_a_level  \\\n",
       "0                                 -498.526489   \n",
       "1                                 -499.989656   \n",
       "2                                 -499.929616   \n",
       "3                                 -499.176749   \n",
       "4                                 -500.279091   \n",
       "5                                 -498.864670   \n",
       "6                                 -500.134472   \n",
       "7                                 -499.657795   \n",
       "8                                 -500.079889   \n",
       "9                                 -499.402963   \n",
       "\n",
       "   secondary_cleaner.state.floatbank2_b_air  \\\n",
       "0                                 23.893660   \n",
       "1                                 23.889530   \n",
       "2                                 23.886657   \n",
       "3                                 23.955516   \n",
       "4                                 23.955345   \n",
       "5                                 23.880214   \n",
       "6                                 24.077199   \n",
       "7                                 24.020179   \n",
       "8                                 23.977375   \n",
       "9                                 23.961207   \n",
       "\n",
       "   secondary_cleaner.state.floatbank2_b_level  \\\n",
       "0                                 -501.406281   \n",
       "1                                 -500.372428   \n",
       "2                                 -499.951928   \n",
       "3                                 -499.848796   \n",
       "4                                 -500.593614   \n",
       "5                                 -499.738447   \n",
       "6                                 -500.089190   \n",
       "7                                 -499.798396   \n",
       "8                                 -500.005187   \n",
       "9                                 -499.986118   \n",
       "\n",
       "   secondary_cleaner.state.floatbank3_a_air  \\\n",
       "0                                 23.961798   \n",
       "1                                 23.970550   \n",
       "2                                 23.913535   \n",
       "3                                 23.966838   \n",
       "4                                 23.985703   \n",
       "5                                 23.982635   \n",
       "6                                 23.991710   \n",
       "7                                 24.031555   \n",
       "8                                 23.998809   \n",
       "9                                 24.049918   \n",
       "\n",
       "   secondary_cleaner.state.floatbank3_a_level  \\\n",
       "0                                 -495.262817   \n",
       "1                                 -500.085473   \n",
       "2                                 -499.442343   \n",
       "3                                 -500.008812   \n",
       "4                                 -500.083811   \n",
       "5                                 -500.495272   \n",
       "6                                 -500.391528   \n",
       "7                                 -500.550436   \n",
       "8                                 -500.400133   \n",
       "9                                 -500.435620   \n",
       "\n",
       "   secondary_cleaner.state.floatbank3_b_air  \\\n",
       "0                                 21.940409   \n",
       "1                                 22.085714   \n",
       "2                                 23.957717   \n",
       "3                                 23.954443   \n",
       "4                                 23.958945   \n",
       "5                                 24.009749   \n",
       "6                                 23.954144   \n",
       "7                                 23.968160   \n",
       "8                                 23.982633   \n",
       "9                                 23.972413   \n",
       "\n",
       "   secondary_cleaner.state.floatbank3_b_level  \\\n",
       "0                                 -499.340973   \n",
       "1                                 -499.446897   \n",
       "2                                 -499.901982   \n",
       "3                                 -499.944710   \n",
       "4                                 -499.990309   \n",
       "5                                 -499.433825   \n",
       "6                                 -501.872171   \n",
       "7                                 -499.836513   \n",
       "8                                 -499.826311   \n",
       "9                                 -499.751759   \n",
       "\n",
       "   secondary_cleaner.state.floatbank4_a_air  \\\n",
       "0                                 14.016835   \n",
       "1                                 13.992281   \n",
       "2                                 14.015015   \n",
       "3                                 14.036510   \n",
       "4                                 14.027298   \n",
       "5                                 13.938497   \n",
       "6                                 14.046819   \n",
       "7                                 13.974691   \n",
       "8                                 13.964030   \n",
       "9                                 14.008944   \n",
       "\n",
       "   secondary_cleaner.state.floatbank4_a_level  \\\n",
       "0                                 -502.488007   \n",
       "1                                 -505.503262   \n",
       "2                                 -502.520901   \n",
       "3                                 -500.857308   \n",
       "4                                 -499.838632   \n",
       "5                                 -500.970168   \n",
       "6                                 -500.971133   \n",
       "7                                 -501.819696   \n",
       "8                                 -504.252450   \n",
       "9                                 -504.170807   \n",
       "\n",
       "   secondary_cleaner.state.floatbank4_b_air  \\\n",
       "0                                 12.099931   \n",
       "1                                 11.950531   \n",
       "2                                 11.912783   \n",
       "3                                 11.999550   \n",
       "4                                 11.953070   \n",
       "5                                 11.883350   \n",
       "6                                 12.091543   \n",
       "7                                 12.101324   \n",
       "8                                 12.060738   \n",
       "9                                 11.995903   \n",
       "\n",
       "   secondary_cleaner.state.floatbank4_b_level  \\\n",
       "0                                 -504.715942   \n",
       "1                                 -501.331529   \n",
       "2                                 -501.133383   \n",
       "3                                 -501.193686   \n",
       "4                                 -501.053894   \n",
       "5                                 -500.395298   \n",
       "6                                 -500.501426   \n",
       "7                                 -500.583446   \n",
       "8                                 -501.174549   \n",
       "9                                 -501.269181   \n",
       "\n",
       "   secondary_cleaner.state.floatbank5_a_air  \\\n",
       "0                                  9.925633   \n",
       "1                                 10.039245   \n",
       "2                                 10.070913   \n",
       "3                                  9.970366   \n",
       "4                                  9.925709   \n",
       "5                                 10.054147   \n",
       "6                                 10.003247   \n",
       "7                                  9.873169   \n",
       "8                                 10.033838   \n",
       "9                                 10.043100   \n",
       "\n",
       "   secondary_cleaner.state.floatbank5_a_level  \\\n",
       "0                                 -498.310211   \n",
       "1                                 -500.169983   \n",
       "2                                 -500.129135   \n",
       "3                                 -499.201640   \n",
       "4                                 -501.686727   \n",
       "5                                 -496.374715   \n",
       "6                                 -497.083180   \n",
       "7                                 -499.171928   \n",
       "8                                 -501.178133   \n",
       "9                                 -498.529996   \n",
       "\n",
       "   secondary_cleaner.state.floatbank5_b_air  \\\n",
       "0                                  8.079666   \n",
       "1                                  7.984757   \n",
       "2                                  8.013877   \n",
       "3                                  7.977324   \n",
       "4                                  7.894242   \n",
       "5                                  7.965083   \n",
       "6                                  8.010890   \n",
       "7                                  7.993381   \n",
       "8                                  7.881604   \n",
       "9                                  8.002633   \n",
       "\n",
       "   secondary_cleaner.state.floatbank5_b_level  \\\n",
       "0                                 -500.470978   \n",
       "1                                 -500.582168   \n",
       "2                                 -500.517572   \n",
       "3                                 -500.255908   \n",
       "4                                 -500.356035   \n",
       "5                                 -499.364752   \n",
       "6                                 -500.002423   \n",
       "7                                 -499.794518   \n",
       "8                                 -499.729434   \n",
       "9                                 -499.761922   \n",
       "\n",
       "   secondary_cleaner.state.floatbank6_a_air  \\\n",
       "0                                 14.151341   \n",
       "1                                 13.998353   \n",
       "2                                 14.028663   \n",
       "3                                 14.005551   \n",
       "4                                 13.996647   \n",
       "5                                 14.017067   \n",
       "6                                 14.029649   \n",
       "7                                 13.984498   \n",
       "8                                 13.967135   \n",
       "9                                 14.004767   \n",
       "\n",
       "   secondary_cleaner.state.floatbank6_a_level  \\\n",
       "0                                 -605.841980   \n",
       "1                                 -599.787184   \n",
       "2                                 -601.427363   \n",
       "3                                 -599.996129   \n",
       "4                                 -601.496691   \n",
       "5                                 -599.707915   \n",
       "6                                 -600.905470   \n",
       "7                                 -600.411070   \n",
       "8                                 -599.061188   \n",
       "9                                 -599.595324   \n",
       "\n",
       "   secondary_cleaner.output.tail_au  secondary_cleaner.output.tail_ag  \\\n",
       "0                          2.606185                         14.500184   \n",
       "1                          2.488248                         14.265474   \n",
       "2                          2.458187                         14.115662   \n",
       "3                          2.322062                         13.732071   \n",
       "4                          2.330448                         14.079996   \n",
       "5                          2.192127                         13.615012   \n",
       "6                          2.316720                         13.597056   \n",
       "7                          2.192197                         13.177237   \n",
       "8                          2.212084                         13.487870   \n",
       "9                          2.067619                         13.735810   \n",
       "\n",
       "   secondary_cleaner.output.tail_pb  secondary_cleaner.output.tail_sol  \\\n",
       "0                          4.694824                           8.764648   \n",
       "1                          4.592547                           9.001494   \n",
       "2                          4.624775                           8.842896   \n",
       "3                          4.482453                           9.122857   \n",
       "4                          4.470737                           8.871028   \n",
       "5                          4.286817                           9.302669   \n",
       "6                          4.487865                           9.103047   \n",
       "7                          4.432448                           9.369209   \n",
       "8                          4.608756                           9.437044   \n",
       "9                          4.721778                           9.582874   \n",
       "\n",
       "   final.output.concentrate_au  final.output.concentrate_ag  \\\n",
       "0                    42.192020                     6.055403   \n",
       "1                    42.701629                     6.029369   \n",
       "2                    42.657501                     6.055926   \n",
       "3                    42.689819                     6.047977   \n",
       "4                    42.774141                     6.148599   \n",
       "5                    41.633678                     6.482968   \n",
       "6                    41.995316                     6.533849   \n",
       "7                    42.452727                     6.130823   \n",
       "8                    43.404078                     5.834140   \n",
       "9                    43.487291                     5.706261   \n",
       "\n",
       "   final.output.concentrate_pb  final.output.concentrate_sol  \\\n",
       "0                     9.889648                      5.507324   \n",
       "1                     9.968944                      5.257781   \n",
       "2                    10.213995                      5.383759   \n",
       "3                     9.977019                      4.858634   \n",
       "4                    10.142511                      4.939416   \n",
       "5                    10.049416                      5.480257   \n",
       "6                    10.058141                      4.569100   \n",
       "7                     9.935481                      4.389813   \n",
       "8                    10.071156                      4.876389   \n",
       "9                    10.242511                      5.214161   \n",
       "\n",
       "   final.output.recovery  final.output.tail_au  final.output.tail_ag  \\\n",
       "0              70.541216              2.143149             10.411962   \n",
       "1              69.266198              2.224930             10.462676   \n",
       "2              68.116445              2.257889             10.507046   \n",
       "3              68.347543              2.146849             10.422762   \n",
       "4              66.927016              2.055292             10.360302   \n",
       "5              69.465816              1.918586             10.182708   \n",
       "6              69.300835              2.058913             10.304598   \n",
       "7              70.230976              2.143437             10.443288   \n",
       "8              69.688595              2.209881             10.420140   \n",
       "9              70.973641              2.200997             10.473539   \n",
       "\n",
       "   final.output.tail_pb  final.output.tail_sol  \n",
       "0              0.895447              16.904297  \n",
       "1              0.927452              16.634514  \n",
       "2              0.953716              16.208849  \n",
       "3              0.883763              16.532835  \n",
       "4              0.792826              16.525686  \n",
       "5              0.664118              16.999638  \n",
       "6              0.807342              16.723575  \n",
       "7              0.949346              16.689959  \n",
       "8              1.065453              17.201948  \n",
       "9              1.171183              17.717049  "
      ]
     },
     "execution_count": 11,
     "metadata": {},
     "output_type": "execute_result"
    }
   ],
   "source": [
    "df_train.head(10)"
   ]
  },
  {
   "cell_type": "code",
   "execution_count": 12,
   "metadata": {},
   "outputs": [
    {
     "data": {
      "text/html": [
       "<style  type=\"text/css\" >\n",
       "#T_f0a02_row0_col0{\n",
       "            background-color:  #b40426;\n",
       "            color:  #f1f1f1;\n",
       "        }#T_f0a02_row1_col0{\n",
       "            background-color:  #d2dbe8;\n",
       "            color:  #000000;\n",
       "        }#T_f0a02_row2_col0{\n",
       "            background-color:  #cdd9ec;\n",
       "            color:  #000000;\n",
       "        }#T_f0a02_row3_col0{\n",
       "            background-color:  #9abbff;\n",
       "            color:  #000000;\n",
       "        }#T_f0a02_row4_col0{\n",
       "            background-color:  #7da0f9;\n",
       "            color:  #000000;\n",
       "        }#T_f0a02_row5_col0{\n",
       "            background-color:  #5d7ce6;\n",
       "            color:  #000000;\n",
       "        }#T_f0a02_row6_col0,#T_f0a02_row7_col0{\n",
       "            background-color:  #5875e1;\n",
       "            color:  #000000;\n",
       "        }#T_f0a02_row8_col0,#T_f0a02_row9_col0,#T_f0a02_row10_col0{\n",
       "            background-color:  #536edd;\n",
       "            color:  #000000;\n",
       "        }#T_f0a02_row11_col0{\n",
       "            background-color:  #4e68d8;\n",
       "            color:  #000000;\n",
       "        }#T_f0a02_row12_col0{\n",
       "            background-color:  #4961d2;\n",
       "            color:  #f1f1f1;\n",
       "        }#T_f0a02_row13_col0,#T_f0a02_row14_col0,#T_f0a02_row15_col0,#T_f0a02_row16_col0,#T_f0a02_row17_col0{\n",
       "            background-color:  #445acc;\n",
       "            color:  #f1f1f1;\n",
       "        }#T_f0a02_row18_col0,#T_f0a02_row19_col0{\n",
       "            background-color:  #3f53c6;\n",
       "            color:  #f1f1f1;\n",
       "        }#T_f0a02_row20_col0,#T_f0a02_row21_col0,#T_f0a02_row22_col0,#T_f0a02_row23_col0,#T_f0a02_row24_col0,#T_f0a02_row25_col0,#T_f0a02_row26_col0,#T_f0a02_row27_col0,#T_f0a02_row28_col0,#T_f0a02_row29_col0,#T_f0a02_row30_col0,#T_f0a02_row31_col0,#T_f0a02_row32_col0,#T_f0a02_row33_col0,#T_f0a02_row34_col0,#T_f0a02_row35_col0,#T_f0a02_row36_col0,#T_f0a02_row37_col0,#T_f0a02_row38_col0,#T_f0a02_row39_col0,#T_f0a02_row40_col0,#T_f0a02_row41_col0,#T_f0a02_row42_col0,#T_f0a02_row43_col0,#T_f0a02_row44_col0,#T_f0a02_row45_col0,#T_f0a02_row46_col0,#T_f0a02_row47_col0,#T_f0a02_row48_col0,#T_f0a02_row49_col0,#T_f0a02_row50_col0,#T_f0a02_row51_col0,#T_f0a02_row52_col0,#T_f0a02_row53_col0,#T_f0a02_row54_col0,#T_f0a02_row55_col0,#T_f0a02_row56_col0,#T_f0a02_row57_col0,#T_f0a02_row58_col0,#T_f0a02_row59_col0,#T_f0a02_row60_col0,#T_f0a02_row61_col0,#T_f0a02_row62_col0,#T_f0a02_row63_col0,#T_f0a02_row64_col0,#T_f0a02_row65_col0,#T_f0a02_row66_col0,#T_f0a02_row67_col0,#T_f0a02_row68_col0,#T_f0a02_row69_col0,#T_f0a02_row70_col0,#T_f0a02_row71_col0,#T_f0a02_row72_col0,#T_f0a02_row73_col0,#T_f0a02_row74_col0,#T_f0a02_row75_col0,#T_f0a02_row76_col0,#T_f0a02_row77_col0,#T_f0a02_row78_col0,#T_f0a02_row79_col0,#T_f0a02_row80_col0,#T_f0a02_row81_col0,#T_f0a02_row82_col0,#T_f0a02_row83_col0,#T_f0a02_row84_col0,#T_f0a02_row85_col0,#T_f0a02_row86_col0{\n",
       "            background-color:  #3b4cc0;\n",
       "            color:  #f1f1f1;\n",
       "        }</style><table id=\"T_f0a02_\" ><thead>    <tr>        <th class=\"blank level0\" ></th>        <th class=\"col_heading level0 col0\" >0</th>    </tr></thead><tbody>\n",
       "                <tr>\n",
       "                        <th id=\"T_f0a02_level0_row0\" class=\"row_heading level0 row0\" >secondary_cleaner.output.tail_sol</th>\n",
       "                        <td id=\"T_f0a02_row0_col0\" class=\"data row0 col0\" >6.300000</td>\n",
       "            </tr>\n",
       "            <tr>\n",
       "                        <th id=\"T_f0a02_level0_row1\" class=\"row_heading level0 row1\" >rougher.state.floatbank10_e_air</th>\n",
       "                        <td id=\"T_f0a02_row1_col0\" class=\"data row1 col0\" >2.900000</td>\n",
       "            </tr>\n",
       "            <tr>\n",
       "                        <th id=\"T_f0a02_level0_row2\" class=\"row_heading level0 row2\" >rougher.input.floatbank11_xanthate</th>\n",
       "                        <td id=\"T_f0a02_row2_col0\" class=\"data row2 col0\" >2.800000</td>\n",
       "            </tr>\n",
       "            <tr>\n",
       "                        <th id=\"T_f0a02_level0_row3\" class=\"row_heading level0 row3\" >primary_cleaner.output.concentrate_sol</th>\n",
       "                        <td id=\"T_f0a02_row3_col0\" class=\"data row3 col0\" >1.800000</td>\n",
       "            </tr>\n",
       "            <tr>\n",
       "                        <th id=\"T_f0a02_level0_row4\" class=\"row_heading level0 row4\" >final.output.concentrate_sol</th>\n",
       "                        <td id=\"T_f0a02_row4_col0\" class=\"data row4 col0\" >1.300000</td>\n",
       "            </tr>\n",
       "            <tr>\n",
       "                        <th id=\"T_f0a02_level0_row5\" class=\"row_heading level0 row5\" >rougher.input.feed_size</th>\n",
       "                        <td id=\"T_f0a02_row5_col0\" class=\"data row5 col0\" >0.700000</td>\n",
       "            </tr>\n",
       "            <tr>\n",
       "                        <th id=\"T_f0a02_level0_row6\" class=\"row_heading level0 row6\" >secondary_cleaner.state.floatbank2_a_air</th>\n",
       "                        <td id=\"T_f0a02_row6_col0\" class=\"data row6 col0\" >0.600000</td>\n",
       "            </tr>\n",
       "            <tr>\n",
       "                        <th id=\"T_f0a02_level0_row7\" class=\"row_heading level0 row7\" >primary_cleaner.output.concentrate_pb</th>\n",
       "                        <td id=\"T_f0a02_row7_col0\" class=\"data row7 col0\" >0.600000</td>\n",
       "            </tr>\n",
       "            <tr>\n",
       "                        <th id=\"T_f0a02_level0_row8\" class=\"row_heading level0 row8\" >rougher.input.feed_sol</th>\n",
       "                        <td id=\"T_f0a02_row8_col0\" class=\"data row8 col0\" >0.500000</td>\n",
       "            </tr>\n",
       "            <tr>\n",
       "                        <th id=\"T_f0a02_level0_row9\" class=\"row_heading level0 row9\" >final.output.tail_pb</th>\n",
       "                        <td id=\"T_f0a02_row9_col0\" class=\"data row9 col0\" >0.500000</td>\n",
       "            </tr>\n",
       "            <tr>\n",
       "                        <th id=\"T_f0a02_level0_row10\" class=\"row_heading level0 row10\" >rougher.input.feed_pb</th>\n",
       "                        <td id=\"T_f0a02_row10_col0\" class=\"data row10 col0\" >0.500000</td>\n",
       "            </tr>\n",
       "            <tr>\n",
       "                        <th id=\"T_f0a02_level0_row11\" class=\"row_heading level0 row11\" >primary_cleaner.input.xanthate</th>\n",
       "                        <td id=\"T_f0a02_row11_col0\" class=\"data row11 col0\" >0.400000</td>\n",
       "            </tr>\n",
       "            <tr>\n",
       "                        <th id=\"T_f0a02_level0_row12\" class=\"row_heading level0 row12\" >primary_cleaner.output.tail_sol</th>\n",
       "                        <td id=\"T_f0a02_row12_col0\" class=\"data row12 col0\" >0.300000</td>\n",
       "            </tr>\n",
       "            <tr>\n",
       "                        <th id=\"T_f0a02_level0_row13\" class=\"row_heading level0 row13\" >rougher.input.floatbank11_sulfate</th>\n",
       "                        <td id=\"T_f0a02_row13_col0\" class=\"data row13 col0\" >0.200000</td>\n",
       "            </tr>\n",
       "            <tr>\n",
       "                        <th id=\"T_f0a02_level0_row14\" class=\"row_heading level0 row14\" >rougher.input.floatbank10_sulfate</th>\n",
       "                        <td id=\"T_f0a02_row14_col0\" class=\"data row14 col0\" >0.200000</td>\n",
       "            </tr>\n",
       "            <tr>\n",
       "                        <th id=\"T_f0a02_level0_row15\" class=\"row_heading level0 row15\" >primary_cleaner.input.depressant</th>\n",
       "                        <td id=\"T_f0a02_row15_col0\" class=\"data row15 col0\" >0.200000</td>\n",
       "            </tr>\n",
       "            <tr>\n",
       "                        <th id=\"T_f0a02_level0_row16\" class=\"row_heading level0 row16\" >primary_cleaner.input.sulfate</th>\n",
       "                        <td id=\"T_f0a02_row16_col0\" class=\"data row16 col0\" >0.200000</td>\n",
       "            </tr>\n",
       "            <tr>\n",
       "                        <th id=\"T_f0a02_level0_row17\" class=\"row_heading level0 row17\" >secondary_cleaner.state.floatbank2_b_air</th>\n",
       "                        <td id=\"T_f0a02_row17_col0\" class=\"data row17 col0\" >0.200000</td>\n",
       "            </tr>\n",
       "            <tr>\n",
       "                        <th id=\"T_f0a02_level0_row18\" class=\"row_heading level0 row18\" >rougher.output.concentrate_sol</th>\n",
       "                        <td id=\"T_f0a02_row18_col0\" class=\"data row18 col0\" >0.100000</td>\n",
       "            </tr>\n",
       "            <tr>\n",
       "                        <th id=\"T_f0a02_level0_row19\" class=\"row_heading level0 row19\" >secondary_cleaner.state.floatbank3_a_air</th>\n",
       "                        <td id=\"T_f0a02_row19_col0\" class=\"data row19 col0\" >0.100000</td>\n",
       "            </tr>\n",
       "            <tr>\n",
       "                        <th id=\"T_f0a02_level0_row20\" class=\"row_heading level0 row20\" >rougher.input.floatbank10_xanthate</th>\n",
       "                        <td id=\"T_f0a02_row20_col0\" class=\"data row20 col0\" >0.000000</td>\n",
       "            </tr>\n",
       "            <tr>\n",
       "                        <th id=\"T_f0a02_level0_row21\" class=\"row_heading level0 row21\" >rougher.input.feed_rate</th>\n",
       "                        <td id=\"T_f0a02_row21_col0\" class=\"data row21 col0\" >0.000000</td>\n",
       "            </tr>\n",
       "            <tr>\n",
       "                        <th id=\"T_f0a02_level0_row22\" class=\"row_heading level0 row22\" >primary_cleaner.output.tail_pb</th>\n",
       "                        <td id=\"T_f0a02_row22_col0\" class=\"data row22 col0\" >0.000000</td>\n",
       "            </tr>\n",
       "            <tr>\n",
       "                        <th id=\"T_f0a02_level0_row23\" class=\"row_heading level0 row23\" >secondary_cleaner.state.floatbank4_a_air</th>\n",
       "                        <td id=\"T_f0a02_row23_col0\" class=\"data row23 col0\" >0.000000</td>\n",
       "            </tr>\n",
       "            <tr>\n",
       "                        <th id=\"T_f0a02_level0_row24\" class=\"row_heading level0 row24\" >final.output.tail_sol</th>\n",
       "                        <td id=\"T_f0a02_row24_col0\" class=\"data row24 col0\" >0.000000</td>\n",
       "            </tr>\n",
       "            <tr>\n",
       "                        <th id=\"T_f0a02_level0_row25\" class=\"row_heading level0 row25\" >primary_cleaner.output.tail_ag</th>\n",
       "                        <td id=\"T_f0a02_row25_col0\" class=\"data row25 col0\" >0.000000</td>\n",
       "            </tr>\n",
       "            <tr>\n",
       "                        <th id=\"T_f0a02_level0_row26\" class=\"row_heading level0 row26\" >secondary_cleaner.output.tail_pb</th>\n",
       "                        <td id=\"T_f0a02_row26_col0\" class=\"data row26 col0\" >0.000000</td>\n",
       "            </tr>\n",
       "            <tr>\n",
       "                        <th id=\"T_f0a02_level0_row27\" class=\"row_heading level0 row27\" >primary_cleaner.state.floatbank8_a_air</th>\n",
       "                        <td id=\"T_f0a02_row27_col0\" class=\"data row27 col0\" >0.000000</td>\n",
       "            </tr>\n",
       "            <tr>\n",
       "                        <th id=\"T_f0a02_level0_row28\" class=\"row_heading level0 row28\" >primary_cleaner.state.floatbank8_b_air</th>\n",
       "                        <td id=\"T_f0a02_row28_col0\" class=\"data row28 col0\" >0.000000</td>\n",
       "            </tr>\n",
       "            <tr>\n",
       "                        <th id=\"T_f0a02_level0_row29\" class=\"row_heading level0 row29\" >secondary_cleaner.output.tail_ag</th>\n",
       "                        <td id=\"T_f0a02_row29_col0\" class=\"data row29 col0\" >0.000000</td>\n",
       "            </tr>\n",
       "            <tr>\n",
       "                        <th id=\"T_f0a02_level0_row30\" class=\"row_heading level0 row30\" >final.output.tail_ag</th>\n",
       "                        <td id=\"T_f0a02_row30_col0\" class=\"data row30 col0\" >0.000000</td>\n",
       "            </tr>\n",
       "            <tr>\n",
       "                        <th id=\"T_f0a02_level0_row31\" class=\"row_heading level0 row31\" >final.output.concentrate_pb</th>\n",
       "                        <td id=\"T_f0a02_row31_col0\" class=\"data row31 col0\" >0.000000</td>\n",
       "            </tr>\n",
       "            <tr>\n",
       "                        <th id=\"T_f0a02_level0_row32\" class=\"row_heading level0 row32\" >final.output.concentrate_ag</th>\n",
       "                        <td id=\"T_f0a02_row32_col0\" class=\"data row32 col0\" >0.000000</td>\n",
       "            </tr>\n",
       "            <tr>\n",
       "                        <th id=\"T_f0a02_level0_row33\" class=\"row_heading level0 row33\" >primary_cleaner.state.floatbank8_d_air</th>\n",
       "                        <td id=\"T_f0a02_row33_col0\" class=\"data row33 col0\" >0.000000</td>\n",
       "            </tr>\n",
       "            <tr>\n",
       "                        <th id=\"T_f0a02_level0_row34\" class=\"row_heading level0 row34\" >rougher.calculation.floatbank11_sulfate_to_au_feed</th>\n",
       "                        <td id=\"T_f0a02_row34_col0\" class=\"data row34 col0\" >0.000000</td>\n",
       "            </tr>\n",
       "            <tr>\n",
       "                        <th id=\"T_f0a02_level0_row35\" class=\"row_heading level0 row35\" >secondary_cleaner.state.floatbank6_a_air</th>\n",
       "                        <td id=\"T_f0a02_row35_col0\" class=\"data row35 col0\" >0.000000</td>\n",
       "            </tr>\n",
       "            <tr>\n",
       "                        <th id=\"T_f0a02_level0_row36\" class=\"row_heading level0 row36\" >rougher.calculation.floatbank10_sulfate_to_au_feed</th>\n",
       "                        <td id=\"T_f0a02_row36_col0\" class=\"data row36 col0\" >0.000000</td>\n",
       "            </tr>\n",
       "            <tr>\n",
       "                        <th id=\"T_f0a02_level0_row37\" class=\"row_heading level0 row37\" >rougher.output.tail_ag</th>\n",
       "                        <td id=\"T_f0a02_row37_col0\" class=\"data row37 col0\" >0.000000</td>\n",
       "            </tr>\n",
       "            <tr>\n",
       "                        <th id=\"T_f0a02_level0_row38\" class=\"row_heading level0 row38\" >rougher.calculation.sulfate_to_au_concentrate</th>\n",
       "                        <td id=\"T_f0a02_row38_col0\" class=\"data row38 col0\" >0.000000</td>\n",
       "            </tr>\n",
       "            <tr>\n",
       "                        <th id=\"T_f0a02_level0_row39\" class=\"row_heading level0 row39\" >secondary_cleaner.state.floatbank4_b_air</th>\n",
       "                        <td id=\"T_f0a02_row39_col0\" class=\"data row39 col0\" >0.000000</td>\n",
       "            </tr>\n",
       "            <tr>\n",
       "                        <th id=\"T_f0a02_level0_row40\" class=\"row_heading level0 row40\" >secondary_cleaner.state.floatbank5_a_level</th>\n",
       "                        <td id=\"T_f0a02_row40_col0\" class=\"data row40 col0\" >0.000000</td>\n",
       "            </tr>\n",
       "            <tr>\n",
       "                        <th id=\"T_f0a02_level0_row41\" class=\"row_heading level0 row41\" >secondary_cleaner.state.floatbank2_a_level</th>\n",
       "                        <td id=\"T_f0a02_row41_col0\" class=\"data row41 col0\" >0.000000</td>\n",
       "            </tr>\n",
       "            <tr>\n",
       "                        <th id=\"T_f0a02_level0_row42\" class=\"row_heading level0 row42\" >final.output.tail_au</th>\n",
       "                        <td id=\"T_f0a02_row42_col0\" class=\"data row42 col0\" >0.000000</td>\n",
       "            </tr>\n",
       "            <tr>\n",
       "                        <th id=\"T_f0a02_level0_row43\" class=\"row_heading level0 row43\" >final.output.recovery</th>\n",
       "                        <td id=\"T_f0a02_row43_col0\" class=\"data row43 col0\" >0.000000</td>\n",
       "            </tr>\n",
       "            <tr>\n",
       "                        <th id=\"T_f0a02_level0_row44\" class=\"row_heading level0 row44\" >secondary_cleaner.state.floatbank5_b_air</th>\n",
       "                        <td id=\"T_f0a02_row44_col0\" class=\"data row44 col0\" >0.000000</td>\n",
       "            </tr>\n",
       "            <tr>\n",
       "                        <th id=\"T_f0a02_level0_row45\" class=\"row_heading level0 row45\" >secondary_cleaner.state.floatbank2_b_level</th>\n",
       "                        <td id=\"T_f0a02_row45_col0\" class=\"data row45 col0\" >0.000000</td>\n",
       "            </tr>\n",
       "            <tr>\n",
       "                        <th id=\"T_f0a02_level0_row46\" class=\"row_heading level0 row46\" >secondary_cleaner.state.floatbank3_a_level</th>\n",
       "                        <td id=\"T_f0a02_row46_col0\" class=\"data row46 col0\" >0.000000</td>\n",
       "            </tr>\n",
       "            <tr>\n",
       "                        <th id=\"T_f0a02_level0_row47\" class=\"row_heading level0 row47\" >secondary_cleaner.output.tail_au</th>\n",
       "                        <td id=\"T_f0a02_row47_col0\" class=\"data row47 col0\" >0.000000</td>\n",
       "            </tr>\n",
       "            <tr>\n",
       "                        <th id=\"T_f0a02_level0_row48\" class=\"row_heading level0 row48\" >secondary_cleaner.state.floatbank3_b_air</th>\n",
       "                        <td id=\"T_f0a02_row48_col0\" class=\"data row48 col0\" >0.000000</td>\n",
       "            </tr>\n",
       "            <tr>\n",
       "                        <th id=\"T_f0a02_level0_row49\" class=\"row_heading level0 row49\" >secondary_cleaner.state.floatbank3_b_level</th>\n",
       "                        <td id=\"T_f0a02_row49_col0\" class=\"data row49 col0\" >0.000000</td>\n",
       "            </tr>\n",
       "            <tr>\n",
       "                        <th id=\"T_f0a02_level0_row50\" class=\"row_heading level0 row50\" >secondary_cleaner.state.floatbank5_a_air</th>\n",
       "                        <td id=\"T_f0a02_row50_col0\" class=\"data row50 col0\" >0.000000</td>\n",
       "            </tr>\n",
       "            <tr>\n",
       "                        <th id=\"T_f0a02_level0_row51\" class=\"row_heading level0 row51\" >final.output.concentrate_au</th>\n",
       "                        <td id=\"T_f0a02_row51_col0\" class=\"data row51 col0\" >0.000000</td>\n",
       "            </tr>\n",
       "            <tr>\n",
       "                        <th id=\"T_f0a02_level0_row52\" class=\"row_heading level0 row52\" >secondary_cleaner.state.floatbank6_a_level</th>\n",
       "                        <td id=\"T_f0a02_row52_col0\" class=\"data row52 col0\" >0.000000</td>\n",
       "            </tr>\n",
       "            <tr>\n",
       "                        <th id=\"T_f0a02_level0_row53\" class=\"row_heading level0 row53\" >secondary_cleaner.state.floatbank4_a_level</th>\n",
       "                        <td id=\"T_f0a02_row53_col0\" class=\"data row53 col0\" >0.000000</td>\n",
       "            </tr>\n",
       "            <tr>\n",
       "                        <th id=\"T_f0a02_level0_row54\" class=\"row_heading level0 row54\" >secondary_cleaner.state.floatbank4_b_level</th>\n",
       "                        <td id=\"T_f0a02_row54_col0\" class=\"data row54 col0\" >0.000000</td>\n",
       "            </tr>\n",
       "            <tr>\n",
       "                        <th id=\"T_f0a02_level0_row55\" class=\"row_heading level0 row55\" >secondary_cleaner.state.floatbank5_b_level</th>\n",
       "                        <td id=\"T_f0a02_row55_col0\" class=\"data row55 col0\" >0.000000</td>\n",
       "            </tr>\n",
       "            <tr>\n",
       "                        <th id=\"T_f0a02_level0_row56\" class=\"row_heading level0 row56\" >date</th>\n",
       "                        <td id=\"T_f0a02_row56_col0\" class=\"data row56 col0\" >0.000000</td>\n",
       "            </tr>\n",
       "            <tr>\n",
       "                        <th id=\"T_f0a02_level0_row57\" class=\"row_heading level0 row57\" >primary_cleaner.output.tail_au</th>\n",
       "                        <td id=\"T_f0a02_row57_col0\" class=\"data row57 col0\" >0.000000</td>\n",
       "            </tr>\n",
       "            <tr>\n",
       "                        <th id=\"T_f0a02_level0_row58\" class=\"row_heading level0 row58\" >primary_cleaner.output.concentrate_ag</th>\n",
       "                        <td id=\"T_f0a02_row58_col0\" class=\"data row58 col0\" >0.000000</td>\n",
       "            </tr>\n",
       "            <tr>\n",
       "                        <th id=\"T_f0a02_level0_row59\" class=\"row_heading level0 row59\" >rougher.input.feed_ag</th>\n",
       "                        <td id=\"T_f0a02_row59_col0\" class=\"data row59 col0\" >0.000000</td>\n",
       "            </tr>\n",
       "            <tr>\n",
       "                        <th id=\"T_f0a02_level0_row60\" class=\"row_heading level0 row60\" >rougher.state.floatbank10_a_air</th>\n",
       "                        <td id=\"T_f0a02_row60_col0\" class=\"data row60 col0\" >0.000000</td>\n",
       "            </tr>\n",
       "            <tr>\n",
       "                        <th id=\"T_f0a02_level0_row61\" class=\"row_heading level0 row61\" >rougher.state.floatbank10_a_level</th>\n",
       "                        <td id=\"T_f0a02_row61_col0\" class=\"data row61 col0\" >0.000000</td>\n",
       "            </tr>\n",
       "            <tr>\n",
       "                        <th id=\"T_f0a02_level0_row62\" class=\"row_heading level0 row62\" >rougher.state.floatbank10_b_air</th>\n",
       "                        <td id=\"T_f0a02_row62_col0\" class=\"data row62 col0\" >0.000000</td>\n",
       "            </tr>\n",
       "            <tr>\n",
       "                        <th id=\"T_f0a02_level0_row63\" class=\"row_heading level0 row63\" >rougher.state.floatbank10_b_level</th>\n",
       "                        <td id=\"T_f0a02_row63_col0\" class=\"data row63 col0\" >0.000000</td>\n",
       "            </tr>\n",
       "            <tr>\n",
       "                        <th id=\"T_f0a02_level0_row64\" class=\"row_heading level0 row64\" >rougher.state.floatbank10_c_air</th>\n",
       "                        <td id=\"T_f0a02_row64_col0\" class=\"data row64 col0\" >0.000000</td>\n",
       "            </tr>\n",
       "            <tr>\n",
       "                        <th id=\"T_f0a02_level0_row65\" class=\"row_heading level0 row65\" >rougher.state.floatbank10_c_level</th>\n",
       "                        <td id=\"T_f0a02_row65_col0\" class=\"data row65 col0\" >0.000000</td>\n",
       "            </tr>\n",
       "            <tr>\n",
       "                        <th id=\"T_f0a02_level0_row66\" class=\"row_heading level0 row66\" >rougher.state.floatbank10_d_air</th>\n",
       "                        <td id=\"T_f0a02_row66_col0\" class=\"data row66 col0\" >0.000000</td>\n",
       "            </tr>\n",
       "            <tr>\n",
       "                        <th id=\"T_f0a02_level0_row67\" class=\"row_heading level0 row67\" >rougher.state.floatbank10_d_level</th>\n",
       "                        <td id=\"T_f0a02_row67_col0\" class=\"data row67 col0\" >0.000000</td>\n",
       "            </tr>\n",
       "            <tr>\n",
       "                        <th id=\"T_f0a02_level0_row68\" class=\"row_heading level0 row68\" >rougher.state.floatbank10_e_level</th>\n",
       "                        <td id=\"T_f0a02_row68_col0\" class=\"data row68 col0\" >0.000000</td>\n",
       "            </tr>\n",
       "            <tr>\n",
       "                        <th id=\"T_f0a02_level0_row69\" class=\"row_heading level0 row69\" >rougher.state.floatbank10_f_air</th>\n",
       "                        <td id=\"T_f0a02_row69_col0\" class=\"data row69 col0\" >0.000000</td>\n",
       "            </tr>\n",
       "            <tr>\n",
       "                        <th id=\"T_f0a02_level0_row70\" class=\"row_heading level0 row70\" >rougher.state.floatbank10_f_level</th>\n",
       "                        <td id=\"T_f0a02_row70_col0\" class=\"data row70 col0\" >0.000000</td>\n",
       "            </tr>\n",
       "            <tr>\n",
       "                        <th id=\"T_f0a02_level0_row71\" class=\"row_heading level0 row71\" >rougher.calculation.au_pb_ratio</th>\n",
       "                        <td id=\"T_f0a02_row71_col0\" class=\"data row71 col0\" >0.000000</td>\n",
       "            </tr>\n",
       "            <tr>\n",
       "                        <th id=\"T_f0a02_level0_row72\" class=\"row_heading level0 row72\" >rougher.output.concentrate_au</th>\n",
       "                        <td id=\"T_f0a02_row72_col0\" class=\"data row72 col0\" >0.000000</td>\n",
       "            </tr>\n",
       "            <tr>\n",
       "                        <th id=\"T_f0a02_level0_row73\" class=\"row_heading level0 row73\" >rougher.output.concentrate_ag</th>\n",
       "                        <td id=\"T_f0a02_row73_col0\" class=\"data row73 col0\" >0.000000</td>\n",
       "            </tr>\n",
       "            <tr>\n",
       "                        <th id=\"T_f0a02_level0_row74\" class=\"row_heading level0 row74\" >rougher.output.concentrate_pb</th>\n",
       "                        <td id=\"T_f0a02_row74_col0\" class=\"data row74 col0\" >0.000000</td>\n",
       "            </tr>\n",
       "            <tr>\n",
       "                        <th id=\"T_f0a02_level0_row75\" class=\"row_heading level0 row75\" >rougher.output.recovery</th>\n",
       "                        <td id=\"T_f0a02_row75_col0\" class=\"data row75 col0\" >0.000000</td>\n",
       "            </tr>\n",
       "            <tr>\n",
       "                        <th id=\"T_f0a02_level0_row76\" class=\"row_heading level0 row76\" >rougher.output.tail_au</th>\n",
       "                        <td id=\"T_f0a02_row76_col0\" class=\"data row76 col0\" >0.000000</td>\n",
       "            </tr>\n",
       "            <tr>\n",
       "                        <th id=\"T_f0a02_level0_row77\" class=\"row_heading level0 row77\" >rougher.output.tail_pb</th>\n",
       "                        <td id=\"T_f0a02_row77_col0\" class=\"data row77 col0\" >0.000000</td>\n",
       "            </tr>\n",
       "            <tr>\n",
       "                        <th id=\"T_f0a02_level0_row78\" class=\"row_heading level0 row78\" >rougher.output.tail_sol</th>\n",
       "                        <td id=\"T_f0a02_row78_col0\" class=\"data row78 col0\" >0.000000</td>\n",
       "            </tr>\n",
       "            <tr>\n",
       "                        <th id=\"T_f0a02_level0_row79\" class=\"row_heading level0 row79\" >primary_cleaner.input.feed_size</th>\n",
       "                        <td id=\"T_f0a02_row79_col0\" class=\"data row79 col0\" >0.000000</td>\n",
       "            </tr>\n",
       "            <tr>\n",
       "                        <th id=\"T_f0a02_level0_row80\" class=\"row_heading level0 row80\" >primary_cleaner.state.floatbank8_a_level</th>\n",
       "                        <td id=\"T_f0a02_row80_col0\" class=\"data row80 col0\" >0.000000</td>\n",
       "            </tr>\n",
       "            <tr>\n",
       "                        <th id=\"T_f0a02_level0_row81\" class=\"row_heading level0 row81\" >rougher.input.feed_au</th>\n",
       "                        <td id=\"T_f0a02_row81_col0\" class=\"data row81 col0\" >0.000000</td>\n",
       "            </tr>\n",
       "            <tr>\n",
       "                        <th id=\"T_f0a02_level0_row82\" class=\"row_heading level0 row82\" >primary_cleaner.state.floatbank8_c_air</th>\n",
       "                        <td id=\"T_f0a02_row82_col0\" class=\"data row82 col0\" >0.000000</td>\n",
       "            </tr>\n",
       "            <tr>\n",
       "                        <th id=\"T_f0a02_level0_row83\" class=\"row_heading level0 row83\" >primary_cleaner.state.floatbank8_c_level</th>\n",
       "                        <td id=\"T_f0a02_row83_col0\" class=\"data row83 col0\" >0.000000</td>\n",
       "            </tr>\n",
       "            <tr>\n",
       "                        <th id=\"T_f0a02_level0_row84\" class=\"row_heading level0 row84\" >primary_cleaner.state.floatbank8_d_level</th>\n",
       "                        <td id=\"T_f0a02_row84_col0\" class=\"data row84 col0\" >0.000000</td>\n",
       "            </tr>\n",
       "            <tr>\n",
       "                        <th id=\"T_f0a02_level0_row85\" class=\"row_heading level0 row85\" >primary_cleaner.output.concentrate_au</th>\n",
       "                        <td id=\"T_f0a02_row85_col0\" class=\"data row85 col0\" >0.000000</td>\n",
       "            </tr>\n",
       "            <tr>\n",
       "                        <th id=\"T_f0a02_level0_row86\" class=\"row_heading level0 row86\" >primary_cleaner.state.floatbank8_b_level</th>\n",
       "                        <td id=\"T_f0a02_row86_col0\" class=\"data row86 col0\" >0.000000</td>\n",
       "            </tr>\n",
       "    </tbody></table>"
      ],
      "text/plain": [
       "<pandas.io.formats.style.Styler at 0x7f797b1ef8b0>"
      ]
     },
     "execution_count": 12,
     "metadata": {},
     "output_type": "execute_result"
    }
   ],
   "source": [
    "pd.DataFrame(round(df_train.isna().mean().sort_values(ascending=False)*100,1)).style.background_gradient('coolwarm')"
   ]
  },
  {
   "cell_type": "code",
   "execution_count": 13,
   "metadata": {},
   "outputs": [
    {
     "data": {
      "text/plain": [
       "0"
      ]
     },
     "metadata": {},
     "output_type": "display_data"
    }
   ],
   "source": [
    "display(df_train.duplicated().sum())"
   ]
  },
  {
   "cell_type": "markdown",
   "metadata": {},
   "source": [
    "Аналогичным образом заполняем пропуски "
   ]
  },
  {
   "cell_type": "code",
   "execution_count": 14,
   "metadata": {},
   "outputs": [],
   "source": [
    "df_train.fillna(method='ffill', inplace=True)"
   ]
  },
  {
   "cell_type": "code",
   "execution_count": 15,
   "metadata": {},
   "outputs": [],
   "source": [
    "df_train = df_train.drop('date', axis=1)"
   ]
  },
  {
   "cell_type": "markdown",
   "metadata": {},
   "source": [
    "### df_test"
   ]
  },
  {
   "cell_type": "code",
   "execution_count": 16,
   "metadata": {},
   "outputs": [
    {
     "data": {
      "text/plain": [
       "(4860, 53)"
      ]
     },
     "execution_count": 16,
     "metadata": {},
     "output_type": "execute_result"
    }
   ],
   "source": [
    "df_test.shape"
   ]
  },
  {
   "cell_type": "code",
   "execution_count": 17,
   "metadata": {
    "scrolled": true
   },
   "outputs": [
    {
     "data": {
      "text/html": [
       "<div>\n",
       "<style scoped>\n",
       "    .dataframe tbody tr th:only-of-type {\n",
       "        vertical-align: middle;\n",
       "    }\n",
       "\n",
       "    .dataframe tbody tr th {\n",
       "        vertical-align: top;\n",
       "    }\n",
       "\n",
       "    .dataframe thead th {\n",
       "        text-align: right;\n",
       "    }\n",
       "</style>\n",
       "<table border=\"1\" class=\"dataframe\">\n",
       "  <thead>\n",
       "    <tr style=\"text-align: right;\">\n",
       "      <th></th>\n",
       "      <th>rougher.input.feed_au</th>\n",
       "      <th>rougher.input.feed_ag</th>\n",
       "      <th>rougher.input.feed_pb</th>\n",
       "      <th>rougher.input.feed_sol</th>\n",
       "      <th>rougher.input.feed_rate</th>\n",
       "      <th>rougher.input.feed_size</th>\n",
       "      <th>rougher.input.floatbank10_sulfate</th>\n",
       "      <th>rougher.input.floatbank10_xanthate</th>\n",
       "      <th>rougher.state.floatbank10_a_air</th>\n",
       "      <th>rougher.state.floatbank10_a_level</th>\n",
       "      <th>rougher.state.floatbank10_b_air</th>\n",
       "      <th>rougher.state.floatbank10_b_level</th>\n",
       "      <th>rougher.state.floatbank10_c_air</th>\n",
       "      <th>rougher.state.floatbank10_c_level</th>\n",
       "      <th>rougher.state.floatbank10_d_air</th>\n",
       "      <th>rougher.state.floatbank10_d_level</th>\n",
       "      <th>rougher.state.floatbank10_e_air</th>\n",
       "      <th>rougher.state.floatbank10_e_level</th>\n",
       "      <th>rougher.state.floatbank10_f_air</th>\n",
       "      <th>rougher.state.floatbank10_f_level</th>\n",
       "      <th>rougher.input.floatbank11_sulfate</th>\n",
       "      <th>rougher.input.floatbank11_xanthate</th>\n",
       "      <th>primary_cleaner.input.sulfate</th>\n",
       "      <th>primary_cleaner.input.depressant</th>\n",
       "      <th>primary_cleaner.input.feed_size</th>\n",
       "      <th>primary_cleaner.input.xanthate</th>\n",
       "      <th>primary_cleaner.state.floatbank8_a_air</th>\n",
       "      <th>primary_cleaner.state.floatbank8_a_level</th>\n",
       "      <th>primary_cleaner.state.floatbank8_b_air</th>\n",
       "      <th>primary_cleaner.state.floatbank8_b_level</th>\n",
       "      <th>primary_cleaner.state.floatbank8_c_air</th>\n",
       "      <th>primary_cleaner.state.floatbank8_c_level</th>\n",
       "      <th>primary_cleaner.state.floatbank8_d_air</th>\n",
       "      <th>primary_cleaner.state.floatbank8_d_level</th>\n",
       "      <th>secondary_cleaner.state.floatbank2_a_air</th>\n",
       "      <th>secondary_cleaner.state.floatbank2_a_level</th>\n",
       "      <th>secondary_cleaner.state.floatbank2_b_air</th>\n",
       "      <th>secondary_cleaner.state.floatbank2_b_level</th>\n",
       "      <th>secondary_cleaner.state.floatbank3_a_air</th>\n",
       "      <th>secondary_cleaner.state.floatbank3_a_level</th>\n",
       "      <th>secondary_cleaner.state.floatbank3_b_air</th>\n",
       "      <th>secondary_cleaner.state.floatbank3_b_level</th>\n",
       "      <th>secondary_cleaner.state.floatbank4_a_air</th>\n",
       "      <th>secondary_cleaner.state.floatbank4_a_level</th>\n",
       "      <th>secondary_cleaner.state.floatbank4_b_air</th>\n",
       "      <th>secondary_cleaner.state.floatbank4_b_level</th>\n",
       "      <th>secondary_cleaner.state.floatbank5_a_air</th>\n",
       "      <th>secondary_cleaner.state.floatbank5_a_level</th>\n",
       "      <th>secondary_cleaner.state.floatbank5_b_air</th>\n",
       "      <th>secondary_cleaner.state.floatbank5_b_level</th>\n",
       "      <th>secondary_cleaner.state.floatbank6_a_air</th>\n",
       "      <th>secondary_cleaner.state.floatbank6_a_level</th>\n",
       "    </tr>\n",
       "  </thead>\n",
       "  <tbody>\n",
       "    <tr>\n",
       "      <th>count</th>\n",
       "      <td>4860.000000</td>\n",
       "      <td>4860.000000</td>\n",
       "      <td>4832.000000</td>\n",
       "      <td>4838.000000</td>\n",
       "      <td>4856.000000</td>\n",
       "      <td>4816.000000</td>\n",
       "      <td>4857.000000</td>\n",
       "      <td>4859.000000</td>\n",
       "      <td>4859.000000</td>\n",
       "      <td>4859.000000</td>\n",
       "      <td>4859.000000</td>\n",
       "      <td>4859.000000</td>\n",
       "      <td>4859.000000</td>\n",
       "      <td>4859.000000</td>\n",
       "      <td>4860.000000</td>\n",
       "      <td>4860.000000</td>\n",
       "      <td>4853.000000</td>\n",
       "      <td>4860.000000</td>\n",
       "      <td>4860.000000</td>\n",
       "      <td>4860.000000</td>\n",
       "      <td>4852.000000</td>\n",
       "      <td>4814.000000</td>\n",
       "      <td>4859.000000</td>\n",
       "      <td>4851.000000</td>\n",
       "      <td>4860.000000</td>\n",
       "      <td>4817.000000</td>\n",
       "      <td>4859.000000</td>\n",
       "      <td>4859.000000</td>\n",
       "      <td>4859.000000</td>\n",
       "      <td>4859.000000</td>\n",
       "      <td>4858.000000</td>\n",
       "      <td>4859.000000</td>\n",
       "      <td>4858.000000</td>\n",
       "      <td>4859.000000</td>\n",
       "      <td>4734.000000</td>\n",
       "      <td>4859.000000</td>\n",
       "      <td>4859.000000</td>\n",
       "      <td>4859.000000</td>\n",
       "      <td>4.859000e+03</td>\n",
       "      <td>4859.000000</td>\n",
       "      <td>4.859000e+03</td>\n",
       "      <td>4859.000000</td>\n",
       "      <td>4.859000e+03</td>\n",
       "      <td>4859.000000</td>\n",
       "      <td>4.859000e+03</td>\n",
       "      <td>4859.000000</td>\n",
       "      <td>4859.000000</td>\n",
       "      <td>4859.000000</td>\n",
       "      <td>4859.000000</td>\n",
       "      <td>4859.000000</td>\n",
       "      <td>4859.000000</td>\n",
       "      <td>4859.000000</td>\n",
       "    </tr>\n",
       "    <tr>\n",
       "      <th>mean</th>\n",
       "      <td>8.005584</td>\n",
       "      <td>8.547348</td>\n",
       "      <td>3.579662</td>\n",
       "      <td>37.095864</td>\n",
       "      <td>490.285103</td>\n",
       "      <td>59.113400</td>\n",
       "      <td>12.055735</td>\n",
       "      <td>6.101308</td>\n",
       "      <td>1108.635895</td>\n",
       "      <td>-368.340127</td>\n",
       "      <td>1312.346061</td>\n",
       "      <td>-472.506533</td>\n",
       "      <td>1291.638282</td>\n",
       "      <td>-472.902514</td>\n",
       "      <td>1204.066585</td>\n",
       "      <td>-473.380689</td>\n",
       "      <td>1075.304980</td>\n",
       "      <td>-471.465792</td>\n",
       "      <td>1023.769668</td>\n",
       "      <td>-471.412834</td>\n",
       "      <td>11.969074</td>\n",
       "      <td>6.119323</td>\n",
       "      <td>143.201672</td>\n",
       "      <td>8.692446</td>\n",
       "      <td>7.305514</td>\n",
       "      <td>1.007577</td>\n",
       "      <td>1588.387039</td>\n",
       "      <td>-488.223175</td>\n",
       "      <td>1589.297134</td>\n",
       "      <td>-490.255893</td>\n",
       "      <td>1588.905465</td>\n",
       "      <td>-489.741555</td>\n",
       "      <td>1530.287801</td>\n",
       "      <td>-485.896489</td>\n",
       "      <td>29.488451</td>\n",
       "      <td>-499.504602</td>\n",
       "      <td>24.732293</td>\n",
       "      <td>-499.556727</td>\n",
       "      <td>2.889647e+01</td>\n",
       "      <td>-489.475315</td>\n",
       "      <td>2.263273e+01</td>\n",
       "      <td>-494.765779</td>\n",
       "      <td>1.985770e+01</td>\n",
       "      <td>-488.665140</td>\n",
       "      <td>1.557025e+01</td>\n",
       "      <td>-464.176507</td>\n",
       "      <td>16.594103</td>\n",
       "      <td>-490.815250</td>\n",
       "      <td>12.945971</td>\n",
       "      <td>-489.583564</td>\n",
       "      <td>19.053888</td>\n",
       "      <td>-504.678924</td>\n",
       "    </tr>\n",
       "    <tr>\n",
       "      <th>std</th>\n",
       "      <td>1.993590</td>\n",
       "      <td>1.958601</td>\n",
       "      <td>1.029377</td>\n",
       "      <td>4.926284</td>\n",
       "      <td>94.371623</td>\n",
       "      <td>19.125122</td>\n",
       "      <td>3.407642</td>\n",
       "      <td>1.042754</td>\n",
       "      <td>156.493143</td>\n",
       "      <td>91.155929</td>\n",
       "      <td>159.001709</td>\n",
       "      <td>49.376824</td>\n",
       "      <td>180.203670</td>\n",
       "      <td>47.611728</td>\n",
       "      <td>184.547737</td>\n",
       "      <td>47.828848</td>\n",
       "      <td>159.989533</td>\n",
       "      <td>51.413832</td>\n",
       "      <td>147.827669</td>\n",
       "      <td>51.838763</td>\n",
       "      <td>3.456113</td>\n",
       "      <td>1.049065</td>\n",
       "      <td>42.360060</td>\n",
       "      <td>3.169592</td>\n",
       "      <td>0.588602</td>\n",
       "      <td>0.494669</td>\n",
       "      <td>124.942960</td>\n",
       "      <td>36.672631</td>\n",
       "      <td>132.102797</td>\n",
       "      <td>35.203702</td>\n",
       "      <td>132.689236</td>\n",
       "      <td>33.650676</td>\n",
       "      <td>256.268884</td>\n",
       "      <td>43.296128</td>\n",
       "      <td>5.357783</td>\n",
       "      <td>43.284386</td>\n",
       "      <td>5.484220</td>\n",
       "      <td>43.619785</td>\n",
       "      <td>6.159087e+00</td>\n",
       "      <td>51.827314</td>\n",
       "      <td>5.456797e+00</td>\n",
       "      <td>40.681493</td>\n",
       "      <td>5.913105e+00</td>\n",
       "      <td>44.392714</td>\n",
       "      <td>4.927361e+00</td>\n",
       "      <td>65.706994</td>\n",
       "      <td>5.724305</td>\n",
       "      <td>32.258443</td>\n",
       "      <td>5.533176</td>\n",
       "      <td>37.084609</td>\n",
       "      <td>5.548996</td>\n",
       "      <td>38.690186</td>\n",
       "    </tr>\n",
       "    <tr>\n",
       "      <th>min</th>\n",
       "      <td>0.010000</td>\n",
       "      <td>0.010000</td>\n",
       "      <td>0.010000</td>\n",
       "      <td>0.010000</td>\n",
       "      <td>0.012786</td>\n",
       "      <td>0.046369</td>\n",
       "      <td>0.018907</td>\n",
       "      <td>0.015783</td>\n",
       "      <td>300.792494</td>\n",
       "      <td>-600.568138</td>\n",
       "      <td>767.656587</td>\n",
       "      <td>-649.997496</td>\n",
       "      <td>831.537936</td>\n",
       "      <td>-552.657032</td>\n",
       "      <td>706.281918</td>\n",
       "      <td>-648.118446</td>\n",
       "      <td>695.211786</td>\n",
       "      <td>-598.926149</td>\n",
       "      <td>539.633937</td>\n",
       "      <td>-649.376184</td>\n",
       "      <td>0.000163</td>\n",
       "      <td>0.002616</td>\n",
       "      <td>7.329299</td>\n",
       "      <td>0.000000</td>\n",
       "      <td>4.970000</td>\n",
       "      <td>0.000154</td>\n",
       "      <td>314.241165</td>\n",
       "      <td>-653.477578</td>\n",
       "      <td>319.959489</td>\n",
       "      <td>-799.260788</td>\n",
       "      <td>273.536823</td>\n",
       "      <td>-709.213816</td>\n",
       "      <td>131.321672</td>\n",
       "      <td>-799.791618</td>\n",
       "      <td>0.122013</td>\n",
       "      <td>-799.606441</td>\n",
       "      <td>0.000000</td>\n",
       "      <td>-799.873878</td>\n",
       "      <td>1.957942e-17</td>\n",
       "      <td>-799.575338</td>\n",
       "      <td>1.521587e-17</td>\n",
       "      <td>-758.764444</td>\n",
       "      <td>1.079872e-16</td>\n",
       "      <td>-799.704969</td>\n",
       "      <td>2.489718e-17</td>\n",
       "      <td>-799.860767</td>\n",
       "      <td>-0.371498</td>\n",
       "      <td>-797.142475</td>\n",
       "      <td>1.358469</td>\n",
       "      <td>-800.006180</td>\n",
       "      <td>0.160386</td>\n",
       "      <td>-809.734800</td>\n",
       "    </tr>\n",
       "    <tr>\n",
       "      <th>25%</th>\n",
       "      <td>6.574363</td>\n",
       "      <td>6.975898</td>\n",
       "      <td>2.903612</td>\n",
       "      <td>34.510841</td>\n",
       "      <td>434.099695</td>\n",
       "      <td>47.596984</td>\n",
       "      <td>9.890429</td>\n",
       "      <td>5.499808</td>\n",
       "      <td>999.715729</td>\n",
       "      <td>-499.731972</td>\n",
       "      <td>1199.741605</td>\n",
       "      <td>-500.218827</td>\n",
       "      <td>1152.401989</td>\n",
       "      <td>-500.226269</td>\n",
       "      <td>1061.682494</td>\n",
       "      <td>-500.441025</td>\n",
       "      <td>998.898177</td>\n",
       "      <td>-500.266939</td>\n",
       "      <td>949.042067</td>\n",
       "      <td>-500.534825</td>\n",
       "      <td>9.822314</td>\n",
       "      <td>5.500412</td>\n",
       "      <td>113.293698</td>\n",
       "      <td>6.042793</td>\n",
       "      <td>6.940000</td>\n",
       "      <td>0.700367</td>\n",
       "      <td>1505.500055</td>\n",
       "      <td>-500.272366</td>\n",
       "      <td>1502.105380</td>\n",
       "      <td>-500.422211</td>\n",
       "      <td>1501.205202</td>\n",
       "      <td>-500.676713</td>\n",
       "      <td>1450.605949</td>\n",
       "      <td>-500.438064</td>\n",
       "      <td>25.116334</td>\n",
       "      <td>-500.215499</td>\n",
       "      <td>22.038700</td>\n",
       "      <td>-500.223223</td>\n",
       "      <td>2.497989e+01</td>\n",
       "      <td>-500.211535</td>\n",
       "      <td>1.901179e+01</td>\n",
       "      <td>-500.120286</td>\n",
       "      <td>1.501123e+01</td>\n",
       "      <td>-500.704004</td>\n",
       "      <td>1.202172e+01</td>\n",
       "      <td>-500.196517</td>\n",
       "      <td>11.073822</td>\n",
       "      <td>-500.483564</td>\n",
       "      <td>9.011890</td>\n",
       "      <td>-500.129913</td>\n",
       "      <td>14.963953</td>\n",
       "      <td>-500.668501</td>\n",
       "    </tr>\n",
       "    <tr>\n",
       "      <th>50%</th>\n",
       "      <td>7.812923</td>\n",
       "      <td>8.179714</td>\n",
       "      <td>3.540772</td>\n",
       "      <td>37.499761</td>\n",
       "      <td>502.118742</td>\n",
       "      <td>55.509481</td>\n",
       "      <td>11.997859</td>\n",
       "      <td>6.099805</td>\n",
       "      <td>1001.414798</td>\n",
       "      <td>-300.181367</td>\n",
       "      <td>1300.278835</td>\n",
       "      <td>-499.827934</td>\n",
       "      <td>1299.411789</td>\n",
       "      <td>-499.761855</td>\n",
       "      <td>1200.337639</td>\n",
       "      <td>-499.597033</td>\n",
       "      <td>1049.897439</td>\n",
       "      <td>-499.715147</td>\n",
       "      <td>1000.060464</td>\n",
       "      <td>-499.537041</td>\n",
       "      <td>11.995907</td>\n",
       "      <td>6.101665</td>\n",
       "      <td>139.573692</td>\n",
       "      <td>8.007390</td>\n",
       "      <td>7.290000</td>\n",
       "      <td>0.908749</td>\n",
       "      <td>1600.364401</td>\n",
       "      <td>-499.893821</td>\n",
       "      <td>1600.363829</td>\n",
       "      <td>-499.938871</td>\n",
       "      <td>1600.315592</td>\n",
       "      <td>-499.894721</td>\n",
       "      <td>1599.224868</td>\n",
       "      <td>-499.857201</td>\n",
       "      <td>29.954667</td>\n",
       "      <td>-499.966865</td>\n",
       "      <td>26.880506</td>\n",
       "      <td>-500.010504</td>\n",
       "      <td>2.802108e+01</td>\n",
       "      <td>-499.952220</td>\n",
       "      <td>2.296990e+01</td>\n",
       "      <td>-499.983839</td>\n",
       "      <td>1.996807e+01</td>\n",
       "      <td>-499.892919</td>\n",
       "      <td>1.501240e+01</td>\n",
       "      <td>-499.540776</td>\n",
       "      <td>16.631195</td>\n",
       "      <td>-499.873136</td>\n",
       "      <td>11.999417</td>\n",
       "      <td>-499.955304</td>\n",
       "      <td>19.960006</td>\n",
       "      <td>-500.033769</td>\n",
       "    </tr>\n",
       "    <tr>\n",
       "      <th>75%</th>\n",
       "      <td>9.556589</td>\n",
       "      <td>10.084339</td>\n",
       "      <td>4.199847</td>\n",
       "      <td>40.461315</td>\n",
       "      <td>555.596563</td>\n",
       "      <td>66.661547</td>\n",
       "      <td>14.496072</td>\n",
       "      <td>6.802101</td>\n",
       "      <td>1202.837565</td>\n",
       "      <td>-299.961547</td>\n",
       "      <td>1401.691789</td>\n",
       "      <td>-449.925513</td>\n",
       "      <td>1401.933884</td>\n",
       "      <td>-449.662583</td>\n",
       "      <td>1307.300990</td>\n",
       "      <td>-449.938278</td>\n",
       "      <td>1199.145824</td>\n",
       "      <td>-449.384744</td>\n",
       "      <td>1099.460790</td>\n",
       "      <td>-448.211283</td>\n",
       "      <td>14.216091</td>\n",
       "      <td>6.833554</td>\n",
       "      <td>170.743180</td>\n",
       "      <td>10.613209</td>\n",
       "      <td>7.630000</td>\n",
       "      <td>1.198047</td>\n",
       "      <td>1696.676142</td>\n",
       "      <td>-499.369738</td>\n",
       "      <td>1699.429311</td>\n",
       "      <td>-499.331088</td>\n",
       "      <td>1699.483983</td>\n",
       "      <td>-498.699191</td>\n",
       "      <td>1698.766720</td>\n",
       "      <td>-498.747352</td>\n",
       "      <td>34.064460</td>\n",
       "      <td>-499.678638</td>\n",
       "      <td>28.045077</td>\n",
       "      <td>-499.783594</td>\n",
       "      <td>3.398546e+01</td>\n",
       "      <td>-499.525249</td>\n",
       "      <td>2.698416e+01</td>\n",
       "      <td>-499.824376</td>\n",
       "      <td>2.498900e+01</td>\n",
       "      <td>-498.652030</td>\n",
       "      <td>1.999949e+01</td>\n",
       "      <td>-400.302329</td>\n",
       "      <td>19.983191</td>\n",
       "      <td>-498.852815</td>\n",
       "      <td>15.004198</td>\n",
       "      <td>-499.643776</td>\n",
       "      <td>24.974583</td>\n",
       "      <td>-499.460134</td>\n",
       "    </tr>\n",
       "    <tr>\n",
       "      <th>max</th>\n",
       "      <td>13.417156</td>\n",
       "      <td>14.533698</td>\n",
       "      <td>7.142594</td>\n",
       "      <td>53.477742</td>\n",
       "      <td>702.523396</td>\n",
       "      <td>363.989699</td>\n",
       "      <td>30.010759</td>\n",
       "      <td>9.396928</td>\n",
       "      <td>1521.980372</td>\n",
       "      <td>-281.039299</td>\n",
       "      <td>1802.528564</td>\n",
       "      <td>-298.836629</td>\n",
       "      <td>2498.873242</td>\n",
       "      <td>-298.588757</td>\n",
       "      <td>1801.712957</td>\n",
       "      <td>-296.591110</td>\n",
       "      <td>1701.253009</td>\n",
       "      <td>-296.129173</td>\n",
       "      <td>1702.383848</td>\n",
       "      <td>-286.375117</td>\n",
       "      <td>30.006511</td>\n",
       "      <td>9.401928</td>\n",
       "      <td>262.531502</td>\n",
       "      <td>20.052255</td>\n",
       "      <td>9.630000</td>\n",
       "      <td>3.999060</td>\n",
       "      <td>2079.531340</td>\n",
       "      <td>-330.134203</td>\n",
       "      <td>1825.491263</td>\n",
       "      <td>-339.751525</td>\n",
       "      <td>1847.621932</td>\n",
       "      <td>-290.845404</td>\n",
       "      <td>2398.888373</td>\n",
       "      <td>-107.595099</td>\n",
       "      <td>48.822781</td>\n",
       "      <td>-207.038839</td>\n",
       "      <td>35.019409</td>\n",
       "      <td>-216.660814</td>\n",
       "      <td>4.401139e+01</td>\n",
       "      <td>-246.396324</td>\n",
       "      <td>3.505149e+01</td>\n",
       "      <td>-195.458545</td>\n",
       "      <td>3.008450e+01</td>\n",
       "      <td>-383.373053</td>\n",
       "      <td>2.398898e+01</td>\n",
       "      <td>-114.250832</td>\n",
       "      <td>33.215996</td>\n",
       "      <td>-288.963521</td>\n",
       "      <td>24.177106</td>\n",
       "      <td>-141.934397</td>\n",
       "      <td>32.028529</td>\n",
       "      <td>-104.427459</td>\n",
       "    </tr>\n",
       "  </tbody>\n",
       "</table>\n",
       "</div>"
      ],
      "text/plain": [
       "       rougher.input.feed_au  rougher.input.feed_ag  rougher.input.feed_pb  \\\n",
       "count            4860.000000            4860.000000            4832.000000   \n",
       "mean                8.005584               8.547348               3.579662   \n",
       "std                 1.993590               1.958601               1.029377   \n",
       "min                 0.010000               0.010000               0.010000   \n",
       "25%                 6.574363               6.975898               2.903612   \n",
       "50%                 7.812923               8.179714               3.540772   \n",
       "75%                 9.556589              10.084339               4.199847   \n",
       "max                13.417156              14.533698               7.142594   \n",
       "\n",
       "       rougher.input.feed_sol  rougher.input.feed_rate  \\\n",
       "count             4838.000000              4856.000000   \n",
       "mean                37.095864               490.285103   \n",
       "std                  4.926284                94.371623   \n",
       "min                  0.010000                 0.012786   \n",
       "25%                 34.510841               434.099695   \n",
       "50%                 37.499761               502.118742   \n",
       "75%                 40.461315               555.596563   \n",
       "max                 53.477742               702.523396   \n",
       "\n",
       "       rougher.input.feed_size  rougher.input.floatbank10_sulfate  \\\n",
       "count              4816.000000                        4857.000000   \n",
       "mean                 59.113400                          12.055735   \n",
       "std                  19.125122                           3.407642   \n",
       "min                   0.046369                           0.018907   \n",
       "25%                  47.596984                           9.890429   \n",
       "50%                  55.509481                          11.997859   \n",
       "75%                  66.661547                          14.496072   \n",
       "max                 363.989699                          30.010759   \n",
       "\n",
       "       rougher.input.floatbank10_xanthate  rougher.state.floatbank10_a_air  \\\n",
       "count                         4859.000000                      4859.000000   \n",
       "mean                             6.101308                      1108.635895   \n",
       "std                              1.042754                       156.493143   \n",
       "min                              0.015783                       300.792494   \n",
       "25%                              5.499808                       999.715729   \n",
       "50%                              6.099805                      1001.414798   \n",
       "75%                              6.802101                      1202.837565   \n",
       "max                              9.396928                      1521.980372   \n",
       "\n",
       "       rougher.state.floatbank10_a_level  rougher.state.floatbank10_b_air  \\\n",
       "count                        4859.000000                      4859.000000   \n",
       "mean                         -368.340127                      1312.346061   \n",
       "std                            91.155929                       159.001709   \n",
       "min                          -600.568138                       767.656587   \n",
       "25%                          -499.731972                      1199.741605   \n",
       "50%                          -300.181367                      1300.278835   \n",
       "75%                          -299.961547                      1401.691789   \n",
       "max                          -281.039299                      1802.528564   \n",
       "\n",
       "       rougher.state.floatbank10_b_level  rougher.state.floatbank10_c_air  \\\n",
       "count                        4859.000000                      4859.000000   \n",
       "mean                         -472.506533                      1291.638282   \n",
       "std                            49.376824                       180.203670   \n",
       "min                          -649.997496                       831.537936   \n",
       "25%                          -500.218827                      1152.401989   \n",
       "50%                          -499.827934                      1299.411789   \n",
       "75%                          -449.925513                      1401.933884   \n",
       "max                          -298.836629                      2498.873242   \n",
       "\n",
       "       rougher.state.floatbank10_c_level  rougher.state.floatbank10_d_air  \\\n",
       "count                        4859.000000                      4860.000000   \n",
       "mean                         -472.902514                      1204.066585   \n",
       "std                            47.611728                       184.547737   \n",
       "min                          -552.657032                       706.281918   \n",
       "25%                          -500.226269                      1061.682494   \n",
       "50%                          -499.761855                      1200.337639   \n",
       "75%                          -449.662583                      1307.300990   \n",
       "max                          -298.588757                      1801.712957   \n",
       "\n",
       "       rougher.state.floatbank10_d_level  rougher.state.floatbank10_e_air  \\\n",
       "count                        4860.000000                      4853.000000   \n",
       "mean                         -473.380689                      1075.304980   \n",
       "std                            47.828848                       159.989533   \n",
       "min                          -648.118446                       695.211786   \n",
       "25%                          -500.441025                       998.898177   \n",
       "50%                          -499.597033                      1049.897439   \n",
       "75%                          -449.938278                      1199.145824   \n",
       "max                          -296.591110                      1701.253009   \n",
       "\n",
       "       rougher.state.floatbank10_e_level  rougher.state.floatbank10_f_air  \\\n",
       "count                        4860.000000                      4860.000000   \n",
       "mean                         -471.465792                      1023.769668   \n",
       "std                            51.413832                       147.827669   \n",
       "min                          -598.926149                       539.633937   \n",
       "25%                          -500.266939                       949.042067   \n",
       "50%                          -499.715147                      1000.060464   \n",
       "75%                          -449.384744                      1099.460790   \n",
       "max                          -296.129173                      1702.383848   \n",
       "\n",
       "       rougher.state.floatbank10_f_level  rougher.input.floatbank11_sulfate  \\\n",
       "count                        4860.000000                        4852.000000   \n",
       "mean                         -471.412834                          11.969074   \n",
       "std                            51.838763                           3.456113   \n",
       "min                          -649.376184                           0.000163   \n",
       "25%                          -500.534825                           9.822314   \n",
       "50%                          -499.537041                          11.995907   \n",
       "75%                          -448.211283                          14.216091   \n",
       "max                          -286.375117                          30.006511   \n",
       "\n",
       "       rougher.input.floatbank11_xanthate  primary_cleaner.input.sulfate  \\\n",
       "count                         4814.000000                    4859.000000   \n",
       "mean                             6.119323                     143.201672   \n",
       "std                              1.049065                      42.360060   \n",
       "min                              0.002616                       7.329299   \n",
       "25%                              5.500412                     113.293698   \n",
       "50%                              6.101665                     139.573692   \n",
       "75%                              6.833554                     170.743180   \n",
       "max                              9.401928                     262.531502   \n",
       "\n",
       "       primary_cleaner.input.depressant  primary_cleaner.input.feed_size  \\\n",
       "count                       4851.000000                      4860.000000   \n",
       "mean                           8.692446                         7.305514   \n",
       "std                            3.169592                         0.588602   \n",
       "min                            0.000000                         4.970000   \n",
       "25%                            6.042793                         6.940000   \n",
       "50%                            8.007390                         7.290000   \n",
       "75%                           10.613209                         7.630000   \n",
       "max                           20.052255                         9.630000   \n",
       "\n",
       "       primary_cleaner.input.xanthate  primary_cleaner.state.floatbank8_a_air  \\\n",
       "count                     4817.000000                             4859.000000   \n",
       "mean                         1.007577                             1588.387039   \n",
       "std                          0.494669                              124.942960   \n",
       "min                          0.000154                              314.241165   \n",
       "25%                          0.700367                             1505.500055   \n",
       "50%                          0.908749                             1600.364401   \n",
       "75%                          1.198047                             1696.676142   \n",
       "max                          3.999060                             2079.531340   \n",
       "\n",
       "       primary_cleaner.state.floatbank8_a_level  \\\n",
       "count                               4859.000000   \n",
       "mean                                -488.223175   \n",
       "std                                   36.672631   \n",
       "min                                 -653.477578   \n",
       "25%                                 -500.272366   \n",
       "50%                                 -499.893821   \n",
       "75%                                 -499.369738   \n",
       "max                                 -330.134203   \n",
       "\n",
       "       primary_cleaner.state.floatbank8_b_air  \\\n",
       "count                             4859.000000   \n",
       "mean                              1589.297134   \n",
       "std                                132.102797   \n",
       "min                                319.959489   \n",
       "25%                               1502.105380   \n",
       "50%                               1600.363829   \n",
       "75%                               1699.429311   \n",
       "max                               1825.491263   \n",
       "\n",
       "       primary_cleaner.state.floatbank8_b_level  \\\n",
       "count                               4859.000000   \n",
       "mean                                -490.255893   \n",
       "std                                   35.203702   \n",
       "min                                 -799.260788   \n",
       "25%                                 -500.422211   \n",
       "50%                                 -499.938871   \n",
       "75%                                 -499.331088   \n",
       "max                                 -339.751525   \n",
       "\n",
       "       primary_cleaner.state.floatbank8_c_air  \\\n",
       "count                             4858.000000   \n",
       "mean                              1588.905465   \n",
       "std                                132.689236   \n",
       "min                                273.536823   \n",
       "25%                               1501.205202   \n",
       "50%                               1600.315592   \n",
       "75%                               1699.483983   \n",
       "max                               1847.621932   \n",
       "\n",
       "       primary_cleaner.state.floatbank8_c_level  \\\n",
       "count                               4859.000000   \n",
       "mean                                -489.741555   \n",
       "std                                   33.650676   \n",
       "min                                 -709.213816   \n",
       "25%                                 -500.676713   \n",
       "50%                                 -499.894721   \n",
       "75%                                 -498.699191   \n",
       "max                                 -290.845404   \n",
       "\n",
       "       primary_cleaner.state.floatbank8_d_air  \\\n",
       "count                             4858.000000   \n",
       "mean                              1530.287801   \n",
       "std                                256.268884   \n",
       "min                                131.321672   \n",
       "25%                               1450.605949   \n",
       "50%                               1599.224868   \n",
       "75%                               1698.766720   \n",
       "max                               2398.888373   \n",
       "\n",
       "       primary_cleaner.state.floatbank8_d_level  \\\n",
       "count                               4859.000000   \n",
       "mean                                -485.896489   \n",
       "std                                   43.296128   \n",
       "min                                 -799.791618   \n",
       "25%                                 -500.438064   \n",
       "50%                                 -499.857201   \n",
       "75%                                 -498.747352   \n",
       "max                                 -107.595099   \n",
       "\n",
       "       secondary_cleaner.state.floatbank2_a_air  \\\n",
       "count                               4734.000000   \n",
       "mean                                  29.488451   \n",
       "std                                    5.357783   \n",
       "min                                    0.122013   \n",
       "25%                                   25.116334   \n",
       "50%                                   29.954667   \n",
       "75%                                   34.064460   \n",
       "max                                   48.822781   \n",
       "\n",
       "       secondary_cleaner.state.floatbank2_a_level  \\\n",
       "count                                 4859.000000   \n",
       "mean                                  -499.504602   \n",
       "std                                     43.284386   \n",
       "min                                   -799.606441   \n",
       "25%                                   -500.215499   \n",
       "50%                                   -499.966865   \n",
       "75%                                   -499.678638   \n",
       "max                                   -207.038839   \n",
       "\n",
       "       secondary_cleaner.state.floatbank2_b_air  \\\n",
       "count                               4859.000000   \n",
       "mean                                  24.732293   \n",
       "std                                    5.484220   \n",
       "min                                    0.000000   \n",
       "25%                                   22.038700   \n",
       "50%                                   26.880506   \n",
       "75%                                   28.045077   \n",
       "max                                   35.019409   \n",
       "\n",
       "       secondary_cleaner.state.floatbank2_b_level  \\\n",
       "count                                 4859.000000   \n",
       "mean                                  -499.556727   \n",
       "std                                     43.619785   \n",
       "min                                   -799.873878   \n",
       "25%                                   -500.223223   \n",
       "50%                                   -500.010504   \n",
       "75%                                   -499.783594   \n",
       "max                                   -216.660814   \n",
       "\n",
       "       secondary_cleaner.state.floatbank3_a_air  \\\n",
       "count                              4.859000e+03   \n",
       "mean                               2.889647e+01   \n",
       "std                                6.159087e+00   \n",
       "min                                1.957942e-17   \n",
       "25%                                2.497989e+01   \n",
       "50%                                2.802108e+01   \n",
       "75%                                3.398546e+01   \n",
       "max                                4.401139e+01   \n",
       "\n",
       "       secondary_cleaner.state.floatbank3_a_level  \\\n",
       "count                                 4859.000000   \n",
       "mean                                  -489.475315   \n",
       "std                                     51.827314   \n",
       "min                                   -799.575338   \n",
       "25%                                   -500.211535   \n",
       "50%                                   -499.952220   \n",
       "75%                                   -499.525249   \n",
       "max                                   -246.396324   \n",
       "\n",
       "       secondary_cleaner.state.floatbank3_b_air  \\\n",
       "count                              4.859000e+03   \n",
       "mean                               2.263273e+01   \n",
       "std                                5.456797e+00   \n",
       "min                                1.521587e-17   \n",
       "25%                                1.901179e+01   \n",
       "50%                                2.296990e+01   \n",
       "75%                                2.698416e+01   \n",
       "max                                3.505149e+01   \n",
       "\n",
       "       secondary_cleaner.state.floatbank3_b_level  \\\n",
       "count                                 4859.000000   \n",
       "mean                                  -494.765779   \n",
       "std                                     40.681493   \n",
       "min                                   -758.764444   \n",
       "25%                                   -500.120286   \n",
       "50%                                   -499.983839   \n",
       "75%                                   -499.824376   \n",
       "max                                   -195.458545   \n",
       "\n",
       "       secondary_cleaner.state.floatbank4_a_air  \\\n",
       "count                              4.859000e+03   \n",
       "mean                               1.985770e+01   \n",
       "std                                5.913105e+00   \n",
       "min                                1.079872e-16   \n",
       "25%                                1.501123e+01   \n",
       "50%                                1.996807e+01   \n",
       "75%                                2.498900e+01   \n",
       "max                                3.008450e+01   \n",
       "\n",
       "       secondary_cleaner.state.floatbank4_a_level  \\\n",
       "count                                 4859.000000   \n",
       "mean                                  -488.665140   \n",
       "std                                     44.392714   \n",
       "min                                   -799.704969   \n",
       "25%                                   -500.704004   \n",
       "50%                                   -499.892919   \n",
       "75%                                   -498.652030   \n",
       "max                                   -383.373053   \n",
       "\n",
       "       secondary_cleaner.state.floatbank4_b_air  \\\n",
       "count                              4.859000e+03   \n",
       "mean                               1.557025e+01   \n",
       "std                                4.927361e+00   \n",
       "min                                2.489718e-17   \n",
       "25%                                1.202172e+01   \n",
       "50%                                1.501240e+01   \n",
       "75%                                1.999949e+01   \n",
       "max                                2.398898e+01   \n",
       "\n",
       "       secondary_cleaner.state.floatbank4_b_level  \\\n",
       "count                                 4859.000000   \n",
       "mean                                  -464.176507   \n",
       "std                                     65.706994   \n",
       "min                                   -799.860767   \n",
       "25%                                   -500.196517   \n",
       "50%                                   -499.540776   \n",
       "75%                                   -400.302329   \n",
       "max                                   -114.250832   \n",
       "\n",
       "       secondary_cleaner.state.floatbank5_a_air  \\\n",
       "count                               4859.000000   \n",
       "mean                                  16.594103   \n",
       "std                                    5.724305   \n",
       "min                                   -0.371498   \n",
       "25%                                   11.073822   \n",
       "50%                                   16.631195   \n",
       "75%                                   19.983191   \n",
       "max                                   33.215996   \n",
       "\n",
       "       secondary_cleaner.state.floatbank5_a_level  \\\n",
       "count                                 4859.000000   \n",
       "mean                                  -490.815250   \n",
       "std                                     32.258443   \n",
       "min                                   -797.142475   \n",
       "25%                                   -500.483564   \n",
       "50%                                   -499.873136   \n",
       "75%                                   -498.852815   \n",
       "max                                   -288.963521   \n",
       "\n",
       "       secondary_cleaner.state.floatbank5_b_air  \\\n",
       "count                               4859.000000   \n",
       "mean                                  12.945971   \n",
       "std                                    5.533176   \n",
       "min                                    1.358469   \n",
       "25%                                    9.011890   \n",
       "50%                                   11.999417   \n",
       "75%                                   15.004198   \n",
       "max                                   24.177106   \n",
       "\n",
       "       secondary_cleaner.state.floatbank5_b_level  \\\n",
       "count                                 4859.000000   \n",
       "mean                                  -489.583564   \n",
       "std                                     37.084609   \n",
       "min                                   -800.006180   \n",
       "25%                                   -500.129913   \n",
       "50%                                   -499.955304   \n",
       "75%                                   -499.643776   \n",
       "max                                   -141.934397   \n",
       "\n",
       "       secondary_cleaner.state.floatbank6_a_air  \\\n",
       "count                               4859.000000   \n",
       "mean                                  19.053888   \n",
       "std                                    5.548996   \n",
       "min                                    0.160386   \n",
       "25%                                   14.963953   \n",
       "50%                                   19.960006   \n",
       "75%                                   24.974583   \n",
       "max                                   32.028529   \n",
       "\n",
       "       secondary_cleaner.state.floatbank6_a_level  \n",
       "count                                 4859.000000  \n",
       "mean                                  -504.678924  \n",
       "std                                     38.690186  \n",
       "min                                   -809.734800  \n",
       "25%                                   -500.668501  \n",
       "50%                                   -500.033769  \n",
       "75%                                   -499.460134  \n",
       "max                                   -104.427459  "
      ]
     },
     "execution_count": 17,
     "metadata": {},
     "output_type": "execute_result"
    }
   ],
   "source": [
    "df_test.describe()"
   ]
  },
  {
   "cell_type": "code",
   "execution_count": 18,
   "metadata": {
    "scrolled": true
   },
   "outputs": [
    {
     "data": {
      "text/html": [
       "<div>\n",
       "<style scoped>\n",
       "    .dataframe tbody tr th:only-of-type {\n",
       "        vertical-align: middle;\n",
       "    }\n",
       "\n",
       "    .dataframe tbody tr th {\n",
       "        vertical-align: top;\n",
       "    }\n",
       "\n",
       "    .dataframe thead th {\n",
       "        text-align: right;\n",
       "    }\n",
       "</style>\n",
       "<table border=\"1\" class=\"dataframe\">\n",
       "  <thead>\n",
       "    <tr style=\"text-align: right;\">\n",
       "      <th></th>\n",
       "      <th>date</th>\n",
       "      <th>rougher.input.feed_au</th>\n",
       "      <th>rougher.input.feed_ag</th>\n",
       "      <th>rougher.input.feed_pb</th>\n",
       "      <th>rougher.input.feed_sol</th>\n",
       "      <th>rougher.input.feed_rate</th>\n",
       "      <th>rougher.input.feed_size</th>\n",
       "      <th>rougher.input.floatbank10_sulfate</th>\n",
       "      <th>rougher.input.floatbank10_xanthate</th>\n",
       "      <th>rougher.state.floatbank10_a_air</th>\n",
       "      <th>rougher.state.floatbank10_a_level</th>\n",
       "      <th>rougher.state.floatbank10_b_air</th>\n",
       "      <th>rougher.state.floatbank10_b_level</th>\n",
       "      <th>rougher.state.floatbank10_c_air</th>\n",
       "      <th>rougher.state.floatbank10_c_level</th>\n",
       "      <th>rougher.state.floatbank10_d_air</th>\n",
       "      <th>rougher.state.floatbank10_d_level</th>\n",
       "      <th>rougher.state.floatbank10_e_air</th>\n",
       "      <th>rougher.state.floatbank10_e_level</th>\n",
       "      <th>rougher.state.floatbank10_f_air</th>\n",
       "      <th>rougher.state.floatbank10_f_level</th>\n",
       "      <th>rougher.input.floatbank11_sulfate</th>\n",
       "      <th>rougher.input.floatbank11_xanthate</th>\n",
       "      <th>primary_cleaner.input.sulfate</th>\n",
       "      <th>primary_cleaner.input.depressant</th>\n",
       "      <th>primary_cleaner.input.feed_size</th>\n",
       "      <th>primary_cleaner.input.xanthate</th>\n",
       "      <th>primary_cleaner.state.floatbank8_a_air</th>\n",
       "      <th>primary_cleaner.state.floatbank8_a_level</th>\n",
       "      <th>primary_cleaner.state.floatbank8_b_air</th>\n",
       "      <th>primary_cleaner.state.floatbank8_b_level</th>\n",
       "      <th>primary_cleaner.state.floatbank8_c_air</th>\n",
       "      <th>primary_cleaner.state.floatbank8_c_level</th>\n",
       "      <th>primary_cleaner.state.floatbank8_d_air</th>\n",
       "      <th>primary_cleaner.state.floatbank8_d_level</th>\n",
       "      <th>secondary_cleaner.state.floatbank2_a_air</th>\n",
       "      <th>secondary_cleaner.state.floatbank2_a_level</th>\n",
       "      <th>secondary_cleaner.state.floatbank2_b_air</th>\n",
       "      <th>secondary_cleaner.state.floatbank2_b_level</th>\n",
       "      <th>secondary_cleaner.state.floatbank3_a_air</th>\n",
       "      <th>secondary_cleaner.state.floatbank3_a_level</th>\n",
       "      <th>secondary_cleaner.state.floatbank3_b_air</th>\n",
       "      <th>secondary_cleaner.state.floatbank3_b_level</th>\n",
       "      <th>secondary_cleaner.state.floatbank4_a_air</th>\n",
       "      <th>secondary_cleaner.state.floatbank4_a_level</th>\n",
       "      <th>secondary_cleaner.state.floatbank4_b_air</th>\n",
       "      <th>secondary_cleaner.state.floatbank4_b_level</th>\n",
       "      <th>secondary_cleaner.state.floatbank5_a_air</th>\n",
       "      <th>secondary_cleaner.state.floatbank5_a_level</th>\n",
       "      <th>secondary_cleaner.state.floatbank5_b_air</th>\n",
       "      <th>secondary_cleaner.state.floatbank5_b_level</th>\n",
       "      <th>secondary_cleaner.state.floatbank6_a_air</th>\n",
       "      <th>secondary_cleaner.state.floatbank6_a_level</th>\n",
       "    </tr>\n",
       "  </thead>\n",
       "  <tbody>\n",
       "    <tr>\n",
       "      <th>0</th>\n",
       "      <td>2017-12-09 14:59:59</td>\n",
       "      <td>4.365491</td>\n",
       "      <td>6.158718</td>\n",
       "      <td>3.875727</td>\n",
       "      <td>39.135119</td>\n",
       "      <td>555.820208</td>\n",
       "      <td>94.544358</td>\n",
       "      <td>6.146982</td>\n",
       "      <td>9.308612</td>\n",
       "      <td>1196.238112</td>\n",
       "      <td>-299.862743</td>\n",
       "      <td>1147.248241</td>\n",
       "      <td>-500.363165</td>\n",
       "      <td>1047.279065</td>\n",
       "      <td>-500.354091</td>\n",
       "      <td>948.756608</td>\n",
       "      <td>-498.439416</td>\n",
       "      <td>849.441918</td>\n",
       "      <td>-499.255503</td>\n",
       "      <td>850.112246</td>\n",
       "      <td>-499.407112</td>\n",
       "      <td>6.168939</td>\n",
       "      <td>9.309852</td>\n",
       "      <td>95.248427</td>\n",
       "      <td>8.078957</td>\n",
       "      <td>6.500000</td>\n",
       "      <td>1.283045</td>\n",
       "      <td>1648.759906</td>\n",
       "      <td>-399.862053</td>\n",
       "      <td>1650.135395</td>\n",
       "      <td>-399.957321</td>\n",
       "      <td>1648.831890</td>\n",
       "      <td>-400.586116</td>\n",
       "      <td>1649.464582</td>\n",
       "      <td>-400.673303</td>\n",
       "      <td>34.940919</td>\n",
       "      <td>-500.150510</td>\n",
       "      <td>30.031867</td>\n",
       "      <td>-500.328335</td>\n",
       "      <td>26.033990</td>\n",
       "      <td>-500.147792</td>\n",
       "      <td>22.952306</td>\n",
       "      <td>-500.037678</td>\n",
       "      <td>23.018622</td>\n",
       "      <td>-500.492702</td>\n",
       "      <td>20.020205</td>\n",
       "      <td>-500.220296</td>\n",
       "      <td>17.963512</td>\n",
       "      <td>-499.939490</td>\n",
       "      <td>12.990306</td>\n",
       "      <td>-500.080993</td>\n",
       "      <td>19.990336</td>\n",
       "      <td>-499.191575</td>\n",
       "    </tr>\n",
       "    <tr>\n",
       "      <th>1</th>\n",
       "      <td>2017-12-09 15:59:59</td>\n",
       "      <td>4.362781</td>\n",
       "      <td>6.048130</td>\n",
       "      <td>3.902537</td>\n",
       "      <td>39.713906</td>\n",
       "      <td>544.731687</td>\n",
       "      <td>123.742430</td>\n",
       "      <td>6.210119</td>\n",
       "      <td>9.297709</td>\n",
       "      <td>1201.904177</td>\n",
       "      <td>-299.907308</td>\n",
       "      <td>1154.087804</td>\n",
       "      <td>-500.036580</td>\n",
       "      <td>1054.009756</td>\n",
       "      <td>-500.237335</td>\n",
       "      <td>944.138793</td>\n",
       "      <td>-496.866953</td>\n",
       "      <td>851.589767</td>\n",
       "      <td>-499.040466</td>\n",
       "      <td>851.345606</td>\n",
       "      <td>-499.122561</td>\n",
       "      <td>6.209517</td>\n",
       "      <td>9.297194</td>\n",
       "      <td>98.880538</td>\n",
       "      <td>7.984164</td>\n",
       "      <td>6.500000</td>\n",
       "      <td>1.241969</td>\n",
       "      <td>1646.547763</td>\n",
       "      <td>-398.977083</td>\n",
       "      <td>1648.212240</td>\n",
       "      <td>-400.383265</td>\n",
       "      <td>1648.917387</td>\n",
       "      <td>-399.521344</td>\n",
       "      <td>1651.498591</td>\n",
       "      <td>-399.745329</td>\n",
       "      <td>34.980742</td>\n",
       "      <td>-498.131002</td>\n",
       "      <td>29.968453</td>\n",
       "      <td>-586.013330</td>\n",
       "      <td>25.971737</td>\n",
       "      <td>-499.608392</td>\n",
       "      <td>22.958448</td>\n",
       "      <td>-499.821308</td>\n",
       "      <td>23.024963</td>\n",
       "      <td>-501.153409</td>\n",
       "      <td>20.054122</td>\n",
       "      <td>-500.314711</td>\n",
       "      <td>17.979515</td>\n",
       "      <td>-499.272871</td>\n",
       "      <td>12.992404</td>\n",
       "      <td>-499.976268</td>\n",
       "      <td>20.013986</td>\n",
       "      <td>-500.625471</td>\n",
       "    </tr>\n",
       "    <tr>\n",
       "      <th>2</th>\n",
       "      <td>2017-12-09 16:59:59</td>\n",
       "      <td>5.081681</td>\n",
       "      <td>6.082745</td>\n",
       "      <td>4.564078</td>\n",
       "      <td>37.208683</td>\n",
       "      <td>558.155110</td>\n",
       "      <td>82.610855</td>\n",
       "      <td>7.363824</td>\n",
       "      <td>9.003562</td>\n",
       "      <td>1200.826926</td>\n",
       "      <td>-300.124116</td>\n",
       "      <td>1150.754676</td>\n",
       "      <td>-499.986009</td>\n",
       "      <td>1049.182824</td>\n",
       "      <td>-500.014696</td>\n",
       "      <td>948.085464</td>\n",
       "      <td>-499.997003</td>\n",
       "      <td>850.170086</td>\n",
       "      <td>-500.270334</td>\n",
       "      <td>849.557905</td>\n",
       "      <td>-500.198702</td>\n",
       "      <td>7.358308</td>\n",
       "      <td>9.000624</td>\n",
       "      <td>119.497545</td>\n",
       "      <td>8.003752</td>\n",
       "      <td>6.500000</td>\n",
       "      <td>1.259741</td>\n",
       "      <td>1647.368779</td>\n",
       "      <td>-399.788506</td>\n",
       "      <td>1648.395206</td>\n",
       "      <td>-400.166490</td>\n",
       "      <td>1648.953828</td>\n",
       "      <td>-400.468641</td>\n",
       "      <td>1649.821569</td>\n",
       "      <td>-400.071884</td>\n",
       "      <td>34.952967</td>\n",
       "      <td>-501.204647</td>\n",
       "      <td>29.927025</td>\n",
       "      <td>-500.106628</td>\n",
       "      <td>25.978253</td>\n",
       "      <td>-499.890060</td>\n",
       "      <td>23.004376</td>\n",
       "      <td>-500.014529</td>\n",
       "      <td>22.993827</td>\n",
       "      <td>-501.559663</td>\n",
       "      <td>20.029144</td>\n",
       "      <td>-500.000662</td>\n",
       "      <td>18.012723</td>\n",
       "      <td>-500.024764</td>\n",
       "      <td>13.016445</td>\n",
       "      <td>-500.058432</td>\n",
       "      <td>19.973767</td>\n",
       "      <td>-501.394155</td>\n",
       "    </tr>\n",
       "    <tr>\n",
       "      <th>3</th>\n",
       "      <td>2017-12-09 17:59:59</td>\n",
       "      <td>5.145949</td>\n",
       "      <td>6.084374</td>\n",
       "      <td>4.768124</td>\n",
       "      <td>36.808874</td>\n",
       "      <td>539.713765</td>\n",
       "      <td>77.984784</td>\n",
       "      <td>6.927072</td>\n",
       "      <td>8.955597</td>\n",
       "      <td>1199.292489</td>\n",
       "      <td>-299.778385</td>\n",
       "      <td>1152.512559</td>\n",
       "      <td>-500.338106</td>\n",
       "      <td>1052.601592</td>\n",
       "      <td>-499.695075</td>\n",
       "      <td>955.171539</td>\n",
       "      <td>-500.294989</td>\n",
       "      <td>851.957342</td>\n",
       "      <td>-499.779541</td>\n",
       "      <td>850.765662</td>\n",
       "      <td>-501.030559</td>\n",
       "      <td>6.929364</td>\n",
       "      <td>8.920717</td>\n",
       "      <td>108.080163</td>\n",
       "      <td>7.970121</td>\n",
       "      <td>6.660000</td>\n",
       "      <td>0.774909</td>\n",
       "      <td>1652.660845</td>\n",
       "      <td>-399.702218</td>\n",
       "      <td>1651.203128</td>\n",
       "      <td>-400.291472</td>\n",
       "      <td>1651.924848</td>\n",
       "      <td>-398.058033</td>\n",
       "      <td>1650.782696</td>\n",
       "      <td>-399.597977</td>\n",
       "      <td>35.038256</td>\n",
       "      <td>-500.102649</td>\n",
       "      <td>30.066959</td>\n",
       "      <td>-500.211499</td>\n",
       "      <td>26.013515</td>\n",
       "      <td>-500.054597</td>\n",
       "      <td>22.988928</td>\n",
       "      <td>-499.981410</td>\n",
       "      <td>23.032807</td>\n",
       "      <td>-501.287889</td>\n",
       "      <td>19.977466</td>\n",
       "      <td>-500.159903</td>\n",
       "      <td>17.980463</td>\n",
       "      <td>-500.504602</td>\n",
       "      <td>12.949071</td>\n",
       "      <td>-500.009937</td>\n",
       "      <td>20.010332</td>\n",
       "      <td>-508.337973</td>\n",
       "    </tr>\n",
       "    <tr>\n",
       "      <th>4</th>\n",
       "      <td>2017-12-09 18:59:59</td>\n",
       "      <td>5.735249</td>\n",
       "      <td>6.165220</td>\n",
       "      <td>4.512346</td>\n",
       "      <td>37.810642</td>\n",
       "      <td>558.713584</td>\n",
       "      <td>86.434874</td>\n",
       "      <td>7.823471</td>\n",
       "      <td>7.490356</td>\n",
       "      <td>1198.005449</td>\n",
       "      <td>-300.283401</td>\n",
       "      <td>1099.481500</td>\n",
       "      <td>-499.702465</td>\n",
       "      <td>999.539264</td>\n",
       "      <td>-499.306051</td>\n",
       "      <td>889.445596</td>\n",
       "      <td>-498.118617</td>\n",
       "      <td>800.533525</td>\n",
       "      <td>-499.765068</td>\n",
       "      <td>800.510356</td>\n",
       "      <td>-497.289533</td>\n",
       "      <td>7.824875</td>\n",
       "      <td>7.500678</td>\n",
       "      <td>117.750648</td>\n",
       "      <td>6.954311</td>\n",
       "      <td>6.426667</td>\n",
       "      <td>0.731271</td>\n",
       "      <td>1649.411497</td>\n",
       "      <td>-399.853156</td>\n",
       "      <td>1648.917211</td>\n",
       "      <td>-400.321866</td>\n",
       "      <td>1649.117753</td>\n",
       "      <td>-399.645348</td>\n",
       "      <td>1650.398209</td>\n",
       "      <td>-400.654533</td>\n",
       "      <td>34.894598</td>\n",
       "      <td>-498.444587</td>\n",
       "      <td>30.020745</td>\n",
       "      <td>-533.831343</td>\n",
       "      <td>26.022094</td>\n",
       "      <td>-499.725484</td>\n",
       "      <td>22.992992</td>\n",
       "      <td>-499.891405</td>\n",
       "      <td>23.001911</td>\n",
       "      <td>-499.947838</td>\n",
       "      <td>20.023735</td>\n",
       "      <td>-499.713680</td>\n",
       "      <td>17.990955</td>\n",
       "      <td>-500.334769</td>\n",
       "      <td>13.007523</td>\n",
       "      <td>-499.968459</td>\n",
       "      <td>19.995999</td>\n",
       "      <td>-499.788805</td>\n",
       "    </tr>\n",
       "    <tr>\n",
       "      <th>5</th>\n",
       "      <td>2017-12-09 19:59:59</td>\n",
       "      <td>5.848338</td>\n",
       "      <td>6.234198</td>\n",
       "      <td>4.468803</td>\n",
       "      <td>37.816555</td>\n",
       "      <td>547.515088</td>\n",
       "      <td>85.875864</td>\n",
       "      <td>8.040386</td>\n",
       "      <td>7.500718</td>\n",
       "      <td>1201.408796</td>\n",
       "      <td>-299.647294</td>\n",
       "      <td>1099.371712</td>\n",
       "      <td>-500.851578</td>\n",
       "      <td>1000.828849</td>\n",
       "      <td>-500.771063</td>\n",
       "      <td>908.440150</td>\n",
       "      <td>-499.396372</td>\n",
       "      <td>801.705348</td>\n",
       "      <td>-499.154561</td>\n",
       "      <td>800.806836</td>\n",
       "      <td>-501.758565</td>\n",
       "      <td>8.037074</td>\n",
       "      <td>7.500771</td>\n",
       "      <td>120.791379</td>\n",
       "      <td>7.030248</td>\n",
       "      <td>6.410000</td>\n",
       "      <td>0.803745</td>\n",
       "      <td>1650.458695</td>\n",
       "      <td>-399.463102</td>\n",
       "      <td>1649.728864</td>\n",
       "      <td>-400.035217</td>\n",
       "      <td>1650.220554</td>\n",
       "      <td>-399.584186</td>\n",
       "      <td>1651.197408</td>\n",
       "      <td>-400.045547</td>\n",
       "      <td>35.068975</td>\n",
       "      <td>-500.959366</td>\n",
       "      <td>30.060564</td>\n",
       "      <td>-513.400897</td>\n",
       "      <td>25.984428</td>\n",
       "      <td>-500.428575</td>\n",
       "      <td>22.959393</td>\n",
       "      <td>-499.870606</td>\n",
       "      <td>22.977833</td>\n",
       "      <td>-499.910098</td>\n",
       "      <td>20.000113</td>\n",
       "      <td>-500.584093</td>\n",
       "      <td>18.003899</td>\n",
       "      <td>-500.326371</td>\n",
       "      <td>12.978611</td>\n",
       "      <td>-499.966502</td>\n",
       "      <td>19.988673</td>\n",
       "      <td>-500.742891</td>\n",
       "    </tr>\n",
       "    <tr>\n",
       "      <th>6</th>\n",
       "      <td>2017-12-09 20:59:59</td>\n",
       "      <td>6.172839</td>\n",
       "      <td>6.213598</td>\n",
       "      <td>4.458071</td>\n",
       "      <td>36.829223</td>\n",
       "      <td>518.363800</td>\n",
       "      <td>73.426294</td>\n",
       "      <td>7.641859</td>\n",
       "      <td>7.498470</td>\n",
       "      <td>1198.551240</td>\n",
       "      <td>-300.152108</td>\n",
       "      <td>1100.164710</td>\n",
       "      <td>-500.079041</td>\n",
       "      <td>1000.841959</td>\n",
       "      <td>-500.284878</td>\n",
       "      <td>900.995475</td>\n",
       "      <td>-499.360944</td>\n",
       "      <td>799.547781</td>\n",
       "      <td>-500.186098</td>\n",
       "      <td>800.524543</td>\n",
       "      <td>-498.917191</td>\n",
       "      <td>7.642285</td>\n",
       "      <td>7.502294</td>\n",
       "      <td>109.589858</td>\n",
       "      <td>6.988212</td>\n",
       "      <td>6.213333</td>\n",
       "      <td>0.768212</td>\n",
       "      <td>1648.704904</td>\n",
       "      <td>-399.593373</td>\n",
       "      <td>1650.622955</td>\n",
       "      <td>-400.435259</td>\n",
       "      <td>1649.030046</td>\n",
       "      <td>-400.066896</td>\n",
       "      <td>1649.955094</td>\n",
       "      <td>-399.192795</td>\n",
       "      <td>34.886388</td>\n",
       "      <td>-499.818864</td>\n",
       "      <td>29.949877</td>\n",
       "      <td>-499.714348</td>\n",
       "      <td>25.997717</td>\n",
       "      <td>-499.568628</td>\n",
       "      <td>22.977375</td>\n",
       "      <td>-500.100956</td>\n",
       "      <td>22.964590</td>\n",
       "      <td>-500.083299</td>\n",
       "      <td>20.010567</td>\n",
       "      <td>-500.545746</td>\n",
       "      <td>18.040164</td>\n",
       "      <td>-498.936442</td>\n",
       "      <td>12.988702</td>\n",
       "      <td>-499.985412</td>\n",
       "      <td>20.014155</td>\n",
       "      <td>-499.443855</td>\n",
       "    </tr>\n",
       "    <tr>\n",
       "      <th>7</th>\n",
       "      <td>2017-12-09 21:59:59</td>\n",
       "      <td>5.743825</td>\n",
       "      <td>6.264367</td>\n",
       "      <td>4.428267</td>\n",
       "      <td>37.170131</td>\n",
       "      <td>500.494798</td>\n",
       "      <td>75.915232</td>\n",
       "      <td>7.230213</td>\n",
       "      <td>7.496599</td>\n",
       "      <td>1201.172468</td>\n",
       "      <td>-300.089700</td>\n",
       "      <td>1101.861501</td>\n",
       "      <td>-499.260271</td>\n",
       "      <td>1001.054631</td>\n",
       "      <td>-499.210366</td>\n",
       "      <td>904.609812</td>\n",
       "      <td>-498.553359</td>\n",
       "      <td>801.691575</td>\n",
       "      <td>-499.154987</td>\n",
       "      <td>800.990896</td>\n",
       "      <td>-499.567799</td>\n",
       "      <td>7.229649</td>\n",
       "      <td>7.503354</td>\n",
       "      <td>106.358575</td>\n",
       "      <td>7.009810</td>\n",
       "      <td>6.091666</td>\n",
       "      <td>0.948130</td>\n",
       "      <td>1649.830612</td>\n",
       "      <td>-400.275413</td>\n",
       "      <td>1650.641154</td>\n",
       "      <td>-400.216865</td>\n",
       "      <td>1649.477793</td>\n",
       "      <td>-401.298310</td>\n",
       "      <td>1651.683774</td>\n",
       "      <td>-400.680723</td>\n",
       "      <td>34.933307</td>\n",
       "      <td>-498.665718</td>\n",
       "      <td>29.998171</td>\n",
       "      <td>-500.217864</td>\n",
       "      <td>26.004774</td>\n",
       "      <td>-499.859184</td>\n",
       "      <td>23.039781</td>\n",
       "      <td>-499.954278</td>\n",
       "      <td>23.010484</td>\n",
       "      <td>-500.498525</td>\n",
       "      <td>20.043525</td>\n",
       "      <td>-499.701442</td>\n",
       "      <td>17.991164</td>\n",
       "      <td>-500.324632</td>\n",
       "      <td>13.000809</td>\n",
       "      <td>-500.181711</td>\n",
       "      <td>20.001605</td>\n",
       "      <td>-500.229965</td>\n",
       "    </tr>\n",
       "    <tr>\n",
       "      <th>8</th>\n",
       "      <td>2017-12-09 22:59:59</td>\n",
       "      <td>5.558520</td>\n",
       "      <td>6.167472</td>\n",
       "      <td>4.370640</td>\n",
       "      <td>37.356892</td>\n",
       "      <td>540.990643</td>\n",
       "      <td>79.668503</td>\n",
       "      <td>7.089240</td>\n",
       "      <td>7.524634</td>\n",
       "      <td>1195.305111</td>\n",
       "      <td>-300.229149</td>\n",
       "      <td>1099.810739</td>\n",
       "      <td>-499.432120</td>\n",
       "      <td>999.330796</td>\n",
       "      <td>-500.005040</td>\n",
       "      <td>895.017059</td>\n",
       "      <td>-498.478988</td>\n",
       "      <td>801.753445</td>\n",
       "      <td>-499.897202</td>\n",
       "      <td>801.838802</td>\n",
       "      <td>-498.664752</td>\n",
       "      <td>7.088842</td>\n",
       "      <td>7.537291</td>\n",
       "      <td>104.431450</td>\n",
       "      <td>6.976065</td>\n",
       "      <td>5.600000</td>\n",
       "      <td>0.744216</td>\n",
       "      <td>1649.305915</td>\n",
       "      <td>-399.607342</td>\n",
       "      <td>1650.047781</td>\n",
       "      <td>-400.191615</td>\n",
       "      <td>1649.688762</td>\n",
       "      <td>-401.429467</td>\n",
       "      <td>1651.279114</td>\n",
       "      <td>-399.473989</td>\n",
       "      <td>35.002981</td>\n",
       "      <td>-499.988965</td>\n",
       "      <td>30.035913</td>\n",
       "      <td>-499.860096</td>\n",
       "      <td>25.988798</td>\n",
       "      <td>-500.255302</td>\n",
       "      <td>22.961013</td>\n",
       "      <td>-500.074835</td>\n",
       "      <td>22.979813</td>\n",
       "      <td>-500.451722</td>\n",
       "      <td>19.995022</td>\n",
       "      <td>-500.415107</td>\n",
       "      <td>18.057379</td>\n",
       "      <td>-499.238503</td>\n",
       "      <td>13.011922</td>\n",
       "      <td>-500.067255</td>\n",
       "      <td>20.002796</td>\n",
       "      <td>-504.347015</td>\n",
       "    </tr>\n",
       "    <tr>\n",
       "      <th>9</th>\n",
       "      <td>2017-12-09 23:59:59</td>\n",
       "      <td>5.473143</td>\n",
       "      <td>6.076597</td>\n",
       "      <td>4.274908</td>\n",
       "      <td>38.631317</td>\n",
       "      <td>492.146649</td>\n",
       "      <td>90.792119</td>\n",
       "      <td>7.367698</td>\n",
       "      <td>6.543369</td>\n",
       "      <td>1203.076302</td>\n",
       "      <td>-299.896920</td>\n",
       "      <td>1098.645509</td>\n",
       "      <td>-500.783736</td>\n",
       "      <td>998.540356</td>\n",
       "      <td>-500.405253</td>\n",
       "      <td>902.825938</td>\n",
       "      <td>-501.677213</td>\n",
       "      <td>799.894361</td>\n",
       "      <td>-500.059247</td>\n",
       "      <td>799.310388</td>\n",
       "      <td>-501.880486</td>\n",
       "      <td>7.369183</td>\n",
       "      <td>5.396443</td>\n",
       "      <td>106.271973</td>\n",
       "      <td>7.017636</td>\n",
       "      <td>5.600000</td>\n",
       "      <td>0.426712</td>\n",
       "      <td>1650.858685</td>\n",
       "      <td>-399.827404</td>\n",
       "      <td>1650.334349</td>\n",
       "      <td>-399.638239</td>\n",
       "      <td>1650.609830</td>\n",
       "      <td>-397.994621</td>\n",
       "      <td>1649.454854</td>\n",
       "      <td>-399.646327</td>\n",
       "      <td>35.011562</td>\n",
       "      <td>-500.189061</td>\n",
       "      <td>30.002293</td>\n",
       "      <td>-499.901439</td>\n",
       "      <td>26.012464</td>\n",
       "      <td>-500.160530</td>\n",
       "      <td>23.014419</td>\n",
       "      <td>-500.056256</td>\n",
       "      <td>23.050901</td>\n",
       "      <td>-501.185001</td>\n",
       "      <td>20.016755</td>\n",
       "      <td>-499.840744</td>\n",
       "      <td>17.991566</td>\n",
       "      <td>-500.303770</td>\n",
       "      <td>13.023215</td>\n",
       "      <td>-500.018271</td>\n",
       "      <td>20.015115</td>\n",
       "      <td>-515.537548</td>\n",
       "    </tr>\n",
       "  </tbody>\n",
       "</table>\n",
       "</div>"
      ],
      "text/plain": [
       "                  date  rougher.input.feed_au  rougher.input.feed_ag  \\\n",
       "0  2017-12-09 14:59:59               4.365491               6.158718   \n",
       "1  2017-12-09 15:59:59               4.362781               6.048130   \n",
       "2  2017-12-09 16:59:59               5.081681               6.082745   \n",
       "3  2017-12-09 17:59:59               5.145949               6.084374   \n",
       "4  2017-12-09 18:59:59               5.735249               6.165220   \n",
       "5  2017-12-09 19:59:59               5.848338               6.234198   \n",
       "6  2017-12-09 20:59:59               6.172839               6.213598   \n",
       "7  2017-12-09 21:59:59               5.743825               6.264367   \n",
       "8  2017-12-09 22:59:59               5.558520               6.167472   \n",
       "9  2017-12-09 23:59:59               5.473143               6.076597   \n",
       "\n",
       "   rougher.input.feed_pb  rougher.input.feed_sol  rougher.input.feed_rate  \\\n",
       "0               3.875727               39.135119               555.820208   \n",
       "1               3.902537               39.713906               544.731687   \n",
       "2               4.564078               37.208683               558.155110   \n",
       "3               4.768124               36.808874               539.713765   \n",
       "4               4.512346               37.810642               558.713584   \n",
       "5               4.468803               37.816555               547.515088   \n",
       "6               4.458071               36.829223               518.363800   \n",
       "7               4.428267               37.170131               500.494798   \n",
       "8               4.370640               37.356892               540.990643   \n",
       "9               4.274908               38.631317               492.146649   \n",
       "\n",
       "   rougher.input.feed_size  rougher.input.floatbank10_sulfate  \\\n",
       "0                94.544358                           6.146982   \n",
       "1               123.742430                           6.210119   \n",
       "2                82.610855                           7.363824   \n",
       "3                77.984784                           6.927072   \n",
       "4                86.434874                           7.823471   \n",
       "5                85.875864                           8.040386   \n",
       "6                73.426294                           7.641859   \n",
       "7                75.915232                           7.230213   \n",
       "8                79.668503                           7.089240   \n",
       "9                90.792119                           7.367698   \n",
       "\n",
       "   rougher.input.floatbank10_xanthate  rougher.state.floatbank10_a_air  \\\n",
       "0                            9.308612                      1196.238112   \n",
       "1                            9.297709                      1201.904177   \n",
       "2                            9.003562                      1200.826926   \n",
       "3                            8.955597                      1199.292489   \n",
       "4                            7.490356                      1198.005449   \n",
       "5                            7.500718                      1201.408796   \n",
       "6                            7.498470                      1198.551240   \n",
       "7                            7.496599                      1201.172468   \n",
       "8                            7.524634                      1195.305111   \n",
       "9                            6.543369                      1203.076302   \n",
       "\n",
       "   rougher.state.floatbank10_a_level  rougher.state.floatbank10_b_air  \\\n",
       "0                        -299.862743                      1147.248241   \n",
       "1                        -299.907308                      1154.087804   \n",
       "2                        -300.124116                      1150.754676   \n",
       "3                        -299.778385                      1152.512559   \n",
       "4                        -300.283401                      1099.481500   \n",
       "5                        -299.647294                      1099.371712   \n",
       "6                        -300.152108                      1100.164710   \n",
       "7                        -300.089700                      1101.861501   \n",
       "8                        -300.229149                      1099.810739   \n",
       "9                        -299.896920                      1098.645509   \n",
       "\n",
       "   rougher.state.floatbank10_b_level  rougher.state.floatbank10_c_air  \\\n",
       "0                        -500.363165                      1047.279065   \n",
       "1                        -500.036580                      1054.009756   \n",
       "2                        -499.986009                      1049.182824   \n",
       "3                        -500.338106                      1052.601592   \n",
       "4                        -499.702465                       999.539264   \n",
       "5                        -500.851578                      1000.828849   \n",
       "6                        -500.079041                      1000.841959   \n",
       "7                        -499.260271                      1001.054631   \n",
       "8                        -499.432120                       999.330796   \n",
       "9                        -500.783736                       998.540356   \n",
       "\n",
       "   rougher.state.floatbank10_c_level  rougher.state.floatbank10_d_air  \\\n",
       "0                        -500.354091                       948.756608   \n",
       "1                        -500.237335                       944.138793   \n",
       "2                        -500.014696                       948.085464   \n",
       "3                        -499.695075                       955.171539   \n",
       "4                        -499.306051                       889.445596   \n",
       "5                        -500.771063                       908.440150   \n",
       "6                        -500.284878                       900.995475   \n",
       "7                        -499.210366                       904.609812   \n",
       "8                        -500.005040                       895.017059   \n",
       "9                        -500.405253                       902.825938   \n",
       "\n",
       "   rougher.state.floatbank10_d_level  rougher.state.floatbank10_e_air  \\\n",
       "0                        -498.439416                       849.441918   \n",
       "1                        -496.866953                       851.589767   \n",
       "2                        -499.997003                       850.170086   \n",
       "3                        -500.294989                       851.957342   \n",
       "4                        -498.118617                       800.533525   \n",
       "5                        -499.396372                       801.705348   \n",
       "6                        -499.360944                       799.547781   \n",
       "7                        -498.553359                       801.691575   \n",
       "8                        -498.478988                       801.753445   \n",
       "9                        -501.677213                       799.894361   \n",
       "\n",
       "   rougher.state.floatbank10_e_level  rougher.state.floatbank10_f_air  \\\n",
       "0                        -499.255503                       850.112246   \n",
       "1                        -499.040466                       851.345606   \n",
       "2                        -500.270334                       849.557905   \n",
       "3                        -499.779541                       850.765662   \n",
       "4                        -499.765068                       800.510356   \n",
       "5                        -499.154561                       800.806836   \n",
       "6                        -500.186098                       800.524543   \n",
       "7                        -499.154987                       800.990896   \n",
       "8                        -499.897202                       801.838802   \n",
       "9                        -500.059247                       799.310388   \n",
       "\n",
       "   rougher.state.floatbank10_f_level  rougher.input.floatbank11_sulfate  \\\n",
       "0                        -499.407112                           6.168939   \n",
       "1                        -499.122561                           6.209517   \n",
       "2                        -500.198702                           7.358308   \n",
       "3                        -501.030559                           6.929364   \n",
       "4                        -497.289533                           7.824875   \n",
       "5                        -501.758565                           8.037074   \n",
       "6                        -498.917191                           7.642285   \n",
       "7                        -499.567799                           7.229649   \n",
       "8                        -498.664752                           7.088842   \n",
       "9                        -501.880486                           7.369183   \n",
       "\n",
       "   rougher.input.floatbank11_xanthate  primary_cleaner.input.sulfate  \\\n",
       "0                            9.309852                      95.248427   \n",
       "1                            9.297194                      98.880538   \n",
       "2                            9.000624                     119.497545   \n",
       "3                            8.920717                     108.080163   \n",
       "4                            7.500678                     117.750648   \n",
       "5                            7.500771                     120.791379   \n",
       "6                            7.502294                     109.589858   \n",
       "7                            7.503354                     106.358575   \n",
       "8                            7.537291                     104.431450   \n",
       "9                            5.396443                     106.271973   \n",
       "\n",
       "   primary_cleaner.input.depressant  primary_cleaner.input.feed_size  \\\n",
       "0                          8.078957                         6.500000   \n",
       "1                          7.984164                         6.500000   \n",
       "2                          8.003752                         6.500000   \n",
       "3                          7.970121                         6.660000   \n",
       "4                          6.954311                         6.426667   \n",
       "5                          7.030248                         6.410000   \n",
       "6                          6.988212                         6.213333   \n",
       "7                          7.009810                         6.091666   \n",
       "8                          6.976065                         5.600000   \n",
       "9                          7.017636                         5.600000   \n",
       "\n",
       "   primary_cleaner.input.xanthate  primary_cleaner.state.floatbank8_a_air  \\\n",
       "0                        1.283045                             1648.759906   \n",
       "1                        1.241969                             1646.547763   \n",
       "2                        1.259741                             1647.368779   \n",
       "3                        0.774909                             1652.660845   \n",
       "4                        0.731271                             1649.411497   \n",
       "5                        0.803745                             1650.458695   \n",
       "6                        0.768212                             1648.704904   \n",
       "7                        0.948130                             1649.830612   \n",
       "8                        0.744216                             1649.305915   \n",
       "9                        0.426712                             1650.858685   \n",
       "\n",
       "   primary_cleaner.state.floatbank8_a_level  \\\n",
       "0                               -399.862053   \n",
       "1                               -398.977083   \n",
       "2                               -399.788506   \n",
       "3                               -399.702218   \n",
       "4                               -399.853156   \n",
       "5                               -399.463102   \n",
       "6                               -399.593373   \n",
       "7                               -400.275413   \n",
       "8                               -399.607342   \n",
       "9                               -399.827404   \n",
       "\n",
       "   primary_cleaner.state.floatbank8_b_air  \\\n",
       "0                             1650.135395   \n",
       "1                             1648.212240   \n",
       "2                             1648.395206   \n",
       "3                             1651.203128   \n",
       "4                             1648.917211   \n",
       "5                             1649.728864   \n",
       "6                             1650.622955   \n",
       "7                             1650.641154   \n",
       "8                             1650.047781   \n",
       "9                             1650.334349   \n",
       "\n",
       "   primary_cleaner.state.floatbank8_b_level  \\\n",
       "0                               -399.957321   \n",
       "1                               -400.383265   \n",
       "2                               -400.166490   \n",
       "3                               -400.291472   \n",
       "4                               -400.321866   \n",
       "5                               -400.035217   \n",
       "6                               -400.435259   \n",
       "7                               -400.216865   \n",
       "8                               -400.191615   \n",
       "9                               -399.638239   \n",
       "\n",
       "   primary_cleaner.state.floatbank8_c_air  \\\n",
       "0                             1648.831890   \n",
       "1                             1648.917387   \n",
       "2                             1648.953828   \n",
       "3                             1651.924848   \n",
       "4                             1649.117753   \n",
       "5                             1650.220554   \n",
       "6                             1649.030046   \n",
       "7                             1649.477793   \n",
       "8                             1649.688762   \n",
       "9                             1650.609830   \n",
       "\n",
       "   primary_cleaner.state.floatbank8_c_level  \\\n",
       "0                               -400.586116   \n",
       "1                               -399.521344   \n",
       "2                               -400.468641   \n",
       "3                               -398.058033   \n",
       "4                               -399.645348   \n",
       "5                               -399.584186   \n",
       "6                               -400.066896   \n",
       "7                               -401.298310   \n",
       "8                               -401.429467   \n",
       "9                               -397.994621   \n",
       "\n",
       "   primary_cleaner.state.floatbank8_d_air  \\\n",
       "0                             1649.464582   \n",
       "1                             1651.498591   \n",
       "2                             1649.821569   \n",
       "3                             1650.782696   \n",
       "4                             1650.398209   \n",
       "5                             1651.197408   \n",
       "6                             1649.955094   \n",
       "7                             1651.683774   \n",
       "8                             1651.279114   \n",
       "9                             1649.454854   \n",
       "\n",
       "   primary_cleaner.state.floatbank8_d_level  \\\n",
       "0                               -400.673303   \n",
       "1                               -399.745329   \n",
       "2                               -400.071884   \n",
       "3                               -399.597977   \n",
       "4                               -400.654533   \n",
       "5                               -400.045547   \n",
       "6                               -399.192795   \n",
       "7                               -400.680723   \n",
       "8                               -399.473989   \n",
       "9                               -399.646327   \n",
       "\n",
       "   secondary_cleaner.state.floatbank2_a_air  \\\n",
       "0                                 34.940919   \n",
       "1                                 34.980742   \n",
       "2                                 34.952967   \n",
       "3                                 35.038256   \n",
       "4                                 34.894598   \n",
       "5                                 35.068975   \n",
       "6                                 34.886388   \n",
       "7                                 34.933307   \n",
       "8                                 35.002981   \n",
       "9                                 35.011562   \n",
       "\n",
       "   secondary_cleaner.state.floatbank2_a_level  \\\n",
       "0                                 -500.150510   \n",
       "1                                 -498.131002   \n",
       "2                                 -501.204647   \n",
       "3                                 -500.102649   \n",
       "4                                 -498.444587   \n",
       "5                                 -500.959366   \n",
       "6                                 -499.818864   \n",
       "7                                 -498.665718   \n",
       "8                                 -499.988965   \n",
       "9                                 -500.189061   \n",
       "\n",
       "   secondary_cleaner.state.floatbank2_b_air  \\\n",
       "0                                 30.031867   \n",
       "1                                 29.968453   \n",
       "2                                 29.927025   \n",
       "3                                 30.066959   \n",
       "4                                 30.020745   \n",
       "5                                 30.060564   \n",
       "6                                 29.949877   \n",
       "7                                 29.998171   \n",
       "8                                 30.035913   \n",
       "9                                 30.002293   \n",
       "\n",
       "   secondary_cleaner.state.floatbank2_b_level  \\\n",
       "0                                 -500.328335   \n",
       "1                                 -586.013330   \n",
       "2                                 -500.106628   \n",
       "3                                 -500.211499   \n",
       "4                                 -533.831343   \n",
       "5                                 -513.400897   \n",
       "6                                 -499.714348   \n",
       "7                                 -500.217864   \n",
       "8                                 -499.860096   \n",
       "9                                 -499.901439   \n",
       "\n",
       "   secondary_cleaner.state.floatbank3_a_air  \\\n",
       "0                                 26.033990   \n",
       "1                                 25.971737   \n",
       "2                                 25.978253   \n",
       "3                                 26.013515   \n",
       "4                                 26.022094   \n",
       "5                                 25.984428   \n",
       "6                                 25.997717   \n",
       "7                                 26.004774   \n",
       "8                                 25.988798   \n",
       "9                                 26.012464   \n",
       "\n",
       "   secondary_cleaner.state.floatbank3_a_level  \\\n",
       "0                                 -500.147792   \n",
       "1                                 -499.608392   \n",
       "2                                 -499.890060   \n",
       "3                                 -500.054597   \n",
       "4                                 -499.725484   \n",
       "5                                 -500.428575   \n",
       "6                                 -499.568628   \n",
       "7                                 -499.859184   \n",
       "8                                 -500.255302   \n",
       "9                                 -500.160530   \n",
       "\n",
       "   secondary_cleaner.state.floatbank3_b_air  \\\n",
       "0                                 22.952306   \n",
       "1                                 22.958448   \n",
       "2                                 23.004376   \n",
       "3                                 22.988928   \n",
       "4                                 22.992992   \n",
       "5                                 22.959393   \n",
       "6                                 22.977375   \n",
       "7                                 23.039781   \n",
       "8                                 22.961013   \n",
       "9                                 23.014419   \n",
       "\n",
       "   secondary_cleaner.state.floatbank3_b_level  \\\n",
       "0                                 -500.037678   \n",
       "1                                 -499.821308   \n",
       "2                                 -500.014529   \n",
       "3                                 -499.981410   \n",
       "4                                 -499.891405   \n",
       "5                                 -499.870606   \n",
       "6                                 -500.100956   \n",
       "7                                 -499.954278   \n",
       "8                                 -500.074835   \n",
       "9                                 -500.056256   \n",
       "\n",
       "   secondary_cleaner.state.floatbank4_a_air  \\\n",
       "0                                 23.018622   \n",
       "1                                 23.024963   \n",
       "2                                 22.993827   \n",
       "3                                 23.032807   \n",
       "4                                 23.001911   \n",
       "5                                 22.977833   \n",
       "6                                 22.964590   \n",
       "7                                 23.010484   \n",
       "8                                 22.979813   \n",
       "9                                 23.050901   \n",
       "\n",
       "   secondary_cleaner.state.floatbank4_a_level  \\\n",
       "0                                 -500.492702   \n",
       "1                                 -501.153409   \n",
       "2                                 -501.559663   \n",
       "3                                 -501.287889   \n",
       "4                                 -499.947838   \n",
       "5                                 -499.910098   \n",
       "6                                 -500.083299   \n",
       "7                                 -500.498525   \n",
       "8                                 -500.451722   \n",
       "9                                 -501.185001   \n",
       "\n",
       "   secondary_cleaner.state.floatbank4_b_air  \\\n",
       "0                                 20.020205   \n",
       "1                                 20.054122   \n",
       "2                                 20.029144   \n",
       "3                                 19.977466   \n",
       "4                                 20.023735   \n",
       "5                                 20.000113   \n",
       "6                                 20.010567   \n",
       "7                                 20.043525   \n",
       "8                                 19.995022   \n",
       "9                                 20.016755   \n",
       "\n",
       "   secondary_cleaner.state.floatbank4_b_level  \\\n",
       "0                                 -500.220296   \n",
       "1                                 -500.314711   \n",
       "2                                 -500.000662   \n",
       "3                                 -500.159903   \n",
       "4                                 -499.713680   \n",
       "5                                 -500.584093   \n",
       "6                                 -500.545746   \n",
       "7                                 -499.701442   \n",
       "8                                 -500.415107   \n",
       "9                                 -499.840744   \n",
       "\n",
       "   secondary_cleaner.state.floatbank5_a_air  \\\n",
       "0                                 17.963512   \n",
       "1                                 17.979515   \n",
       "2                                 18.012723   \n",
       "3                                 17.980463   \n",
       "4                                 17.990955   \n",
       "5                                 18.003899   \n",
       "6                                 18.040164   \n",
       "7                                 17.991164   \n",
       "8                                 18.057379   \n",
       "9                                 17.991566   \n",
       "\n",
       "   secondary_cleaner.state.floatbank5_a_level  \\\n",
       "0                                 -499.939490   \n",
       "1                                 -499.272871   \n",
       "2                                 -500.024764   \n",
       "3                                 -500.504602   \n",
       "4                                 -500.334769   \n",
       "5                                 -500.326371   \n",
       "6                                 -498.936442   \n",
       "7                                 -500.324632   \n",
       "8                                 -499.238503   \n",
       "9                                 -500.303770   \n",
       "\n",
       "   secondary_cleaner.state.floatbank5_b_air  \\\n",
       "0                                 12.990306   \n",
       "1                                 12.992404   \n",
       "2                                 13.016445   \n",
       "3                                 12.949071   \n",
       "4                                 13.007523   \n",
       "5                                 12.978611   \n",
       "6                                 12.988702   \n",
       "7                                 13.000809   \n",
       "8                                 13.011922   \n",
       "9                                 13.023215   \n",
       "\n",
       "   secondary_cleaner.state.floatbank5_b_level  \\\n",
       "0                                 -500.080993   \n",
       "1                                 -499.976268   \n",
       "2                                 -500.058432   \n",
       "3                                 -500.009937   \n",
       "4                                 -499.968459   \n",
       "5                                 -499.966502   \n",
       "6                                 -499.985412   \n",
       "7                                 -500.181711   \n",
       "8                                 -500.067255   \n",
       "9                                 -500.018271   \n",
       "\n",
       "   secondary_cleaner.state.floatbank6_a_air  \\\n",
       "0                                 19.990336   \n",
       "1                                 20.013986   \n",
       "2                                 19.973767   \n",
       "3                                 20.010332   \n",
       "4                                 19.995999   \n",
       "5                                 19.988673   \n",
       "6                                 20.014155   \n",
       "7                                 20.001605   \n",
       "8                                 20.002796   \n",
       "9                                 20.015115   \n",
       "\n",
       "   secondary_cleaner.state.floatbank6_a_level  \n",
       "0                                 -499.191575  \n",
       "1                                 -500.625471  \n",
       "2                                 -501.394155  \n",
       "3                                 -508.337973  \n",
       "4                                 -499.788805  \n",
       "5                                 -500.742891  \n",
       "6                                 -499.443855  \n",
       "7                                 -500.229965  \n",
       "8                                 -504.347015  \n",
       "9                                 -515.537548  "
      ]
     },
     "execution_count": 18,
     "metadata": {},
     "output_type": "execute_result"
    }
   ],
   "source": [
    "df_test.head(10)"
   ]
  },
  {
   "cell_type": "code",
   "execution_count": 19,
   "metadata": {
    "scrolled": true
   },
   "outputs": [
    {
     "data": {
      "text/html": [
       "<style  type=\"text/css\" >\n",
       "#T_773c8_row0_col0{\n",
       "            background-color:  #b40426;\n",
       "            color:  #f1f1f1;\n",
       "        }#T_773c8_row1_col0,#T_773c8_row2_col0,#T_773c8_row3_col0{\n",
       "            background-color:  #aec9fc;\n",
       "            color:  #000000;\n",
       "        }#T_773c8_row4_col0{\n",
       "            background-color:  #86a9fc;\n",
       "            color:  #000000;\n",
       "        }#T_773c8_row5_col0{\n",
       "            background-color:  #799cf8;\n",
       "            color:  #000000;\n",
       "        }#T_773c8_row6_col0,#T_773c8_row7_col0{\n",
       "            background-color:  #516ddb;\n",
       "            color:  #000000;\n",
       "        }#T_773c8_row8_col0,#T_773c8_row9_col0,#T_773c8_row10_col0{\n",
       "            background-color:  #455cce;\n",
       "            color:  #f1f1f1;\n",
       "        }#T_773c8_row11_col0,#T_773c8_row12_col0,#T_773c8_row13_col0,#T_773c8_row14_col0,#T_773c8_row15_col0,#T_773c8_row16_col0,#T_773c8_row17_col0,#T_773c8_row18_col0,#T_773c8_row19_col0,#T_773c8_row20_col0,#T_773c8_row21_col0,#T_773c8_row22_col0,#T_773c8_row23_col0,#T_773c8_row24_col0,#T_773c8_row25_col0,#T_773c8_row26_col0,#T_773c8_row27_col0,#T_773c8_row28_col0,#T_773c8_row29_col0,#T_773c8_row30_col0,#T_773c8_row31_col0,#T_773c8_row32_col0,#T_773c8_row33_col0,#T_773c8_row34_col0,#T_773c8_row35_col0,#T_773c8_row36_col0,#T_773c8_row37_col0,#T_773c8_row38_col0,#T_773c8_row39_col0,#T_773c8_row40_col0,#T_773c8_row41_col0,#T_773c8_row42_col0,#T_773c8_row43_col0,#T_773c8_row44_col0,#T_773c8_row45_col0,#T_773c8_row46_col0,#T_773c8_row47_col0,#T_773c8_row48_col0,#T_773c8_row49_col0,#T_773c8_row50_col0,#T_773c8_row51_col0,#T_773c8_row52_col0{\n",
       "            background-color:  #3b4cc0;\n",
       "            color:  #f1f1f1;\n",
       "        }</style><table id=\"T_773c8_\" ><thead>    <tr>        <th class=\"blank level0\" ></th>        <th class=\"col_heading level0 col0\" >0</th>    </tr></thead><tbody>\n",
       "                <tr>\n",
       "                        <th id=\"T_773c8_level0_row0\" class=\"row_heading level0 row0\" >secondary_cleaner.state.floatbank2_a_air</th>\n",
       "                        <td id=\"T_773c8_row0_col0\" class=\"data row0 col0\" >2.600000</td>\n",
       "            </tr>\n",
       "            <tr>\n",
       "                        <th id=\"T_773c8_level0_row1\" class=\"row_heading level0 row1\" >rougher.input.floatbank11_xanthate</th>\n",
       "                        <td id=\"T_773c8_row1_col0\" class=\"data row1 col0\" >0.900000</td>\n",
       "            </tr>\n",
       "            <tr>\n",
       "                        <th id=\"T_773c8_level0_row2\" class=\"row_heading level0 row2\" >rougher.input.feed_size</th>\n",
       "                        <td id=\"T_773c8_row2_col0\" class=\"data row2 col0\" >0.900000</td>\n",
       "            </tr>\n",
       "            <tr>\n",
       "                        <th id=\"T_773c8_level0_row3\" class=\"row_heading level0 row3\" >primary_cleaner.input.xanthate</th>\n",
       "                        <td id=\"T_773c8_row3_col0\" class=\"data row3 col0\" >0.900000</td>\n",
       "            </tr>\n",
       "            <tr>\n",
       "                        <th id=\"T_773c8_level0_row4\" class=\"row_heading level0 row4\" >rougher.input.feed_pb</th>\n",
       "                        <td id=\"T_773c8_row4_col0\" class=\"data row4 col0\" >0.600000</td>\n",
       "            </tr>\n",
       "            <tr>\n",
       "                        <th id=\"T_773c8_level0_row5\" class=\"row_heading level0 row5\" >rougher.input.feed_sol</th>\n",
       "                        <td id=\"T_773c8_row5_col0\" class=\"data row5 col0\" >0.500000</td>\n",
       "            </tr>\n",
       "            <tr>\n",
       "                        <th id=\"T_773c8_level0_row6\" class=\"row_heading level0 row6\" >primary_cleaner.input.depressant</th>\n",
       "                        <td id=\"T_773c8_row6_col0\" class=\"data row6 col0\" >0.200000</td>\n",
       "            </tr>\n",
       "            <tr>\n",
       "                        <th id=\"T_773c8_level0_row7\" class=\"row_heading level0 row7\" >rougher.input.floatbank11_sulfate</th>\n",
       "                        <td id=\"T_773c8_row7_col0\" class=\"data row7 col0\" >0.200000</td>\n",
       "            </tr>\n",
       "            <tr>\n",
       "                        <th id=\"T_773c8_level0_row8\" class=\"row_heading level0 row8\" >rougher.state.floatbank10_e_air</th>\n",
       "                        <td id=\"T_773c8_row8_col0\" class=\"data row8 col0\" >0.100000</td>\n",
       "            </tr>\n",
       "            <tr>\n",
       "                        <th id=\"T_773c8_level0_row9\" class=\"row_heading level0 row9\" >rougher.input.feed_rate</th>\n",
       "                        <td id=\"T_773c8_row9_col0\" class=\"data row9 col0\" >0.100000</td>\n",
       "            </tr>\n",
       "            <tr>\n",
       "                        <th id=\"T_773c8_level0_row10\" class=\"row_heading level0 row10\" >rougher.input.floatbank10_sulfate</th>\n",
       "                        <td id=\"T_773c8_row10_col0\" class=\"data row10 col0\" >0.100000</td>\n",
       "            </tr>\n",
       "            <tr>\n",
       "                        <th id=\"T_773c8_level0_row11\" class=\"row_heading level0 row11\" >primary_cleaner.state.floatbank8_d_air</th>\n",
       "                        <td id=\"T_773c8_row11_col0\" class=\"data row11 col0\" >0.000000</td>\n",
       "            </tr>\n",
       "            <tr>\n",
       "                        <th id=\"T_773c8_level0_row12\" class=\"row_heading level0 row12\" >primary_cleaner.state.floatbank8_c_air</th>\n",
       "                        <td id=\"T_773c8_row12_col0\" class=\"data row12 col0\" >0.000000</td>\n",
       "            </tr>\n",
       "            <tr>\n",
       "                        <th id=\"T_773c8_level0_row13\" class=\"row_heading level0 row13\" >primary_cleaner.state.floatbank8_d_level</th>\n",
       "                        <td id=\"T_773c8_row13_col0\" class=\"data row13 col0\" >0.000000</td>\n",
       "            </tr>\n",
       "            <tr>\n",
       "                        <th id=\"T_773c8_level0_row14\" class=\"row_heading level0 row14\" >secondary_cleaner.state.floatbank3_a_level</th>\n",
       "                        <td id=\"T_773c8_row14_col0\" class=\"data row14 col0\" >0.000000</td>\n",
       "            </tr>\n",
       "            <tr>\n",
       "                        <th id=\"T_773c8_level0_row15\" class=\"row_heading level0 row15\" >secondary_cleaner.state.floatbank2_a_level</th>\n",
       "                        <td id=\"T_773c8_row15_col0\" class=\"data row15 col0\" >0.000000</td>\n",
       "            </tr>\n",
       "            <tr>\n",
       "                        <th id=\"T_773c8_level0_row16\" class=\"row_heading level0 row16\" >secondary_cleaner.state.floatbank2_b_air</th>\n",
       "                        <td id=\"T_773c8_row16_col0\" class=\"data row16 col0\" >0.000000</td>\n",
       "            </tr>\n",
       "            <tr>\n",
       "                        <th id=\"T_773c8_level0_row17\" class=\"row_heading level0 row17\" >secondary_cleaner.state.floatbank2_b_level</th>\n",
       "                        <td id=\"T_773c8_row17_col0\" class=\"data row17 col0\" >0.000000</td>\n",
       "            </tr>\n",
       "            <tr>\n",
       "                        <th id=\"T_773c8_level0_row18\" class=\"row_heading level0 row18\" >secondary_cleaner.state.floatbank3_a_air</th>\n",
       "                        <td id=\"T_773c8_row18_col0\" class=\"data row18 col0\" >0.000000</td>\n",
       "            </tr>\n",
       "            <tr>\n",
       "                        <th id=\"T_773c8_level0_row19\" class=\"row_heading level0 row19\" >secondary_cleaner.state.floatbank4_a_air</th>\n",
       "                        <td id=\"T_773c8_row19_col0\" class=\"data row19 col0\" >0.000000</td>\n",
       "            </tr>\n",
       "            <tr>\n",
       "                        <th id=\"T_773c8_level0_row20\" class=\"row_heading level0 row20\" >secondary_cleaner.state.floatbank3_b_air</th>\n",
       "                        <td id=\"T_773c8_row20_col0\" class=\"data row20 col0\" >0.000000</td>\n",
       "            </tr>\n",
       "            <tr>\n",
       "                        <th id=\"T_773c8_level0_row21\" class=\"row_heading level0 row21\" >secondary_cleaner.state.floatbank3_b_level</th>\n",
       "                        <td id=\"T_773c8_row21_col0\" class=\"data row21 col0\" >0.000000</td>\n",
       "            </tr>\n",
       "            <tr>\n",
       "                        <th id=\"T_773c8_level0_row22\" class=\"row_heading level0 row22\" >secondary_cleaner.state.floatbank4_a_level</th>\n",
       "                        <td id=\"T_773c8_row22_col0\" class=\"data row22 col0\" >0.000000</td>\n",
       "            </tr>\n",
       "            <tr>\n",
       "                        <th id=\"T_773c8_level0_row23\" class=\"row_heading level0 row23\" >secondary_cleaner.state.floatbank4_b_air</th>\n",
       "                        <td id=\"T_773c8_row23_col0\" class=\"data row23 col0\" >0.000000</td>\n",
       "            </tr>\n",
       "            <tr>\n",
       "                        <th id=\"T_773c8_level0_row24\" class=\"row_heading level0 row24\" >secondary_cleaner.state.floatbank4_b_level</th>\n",
       "                        <td id=\"T_773c8_row24_col0\" class=\"data row24 col0\" >0.000000</td>\n",
       "            </tr>\n",
       "            <tr>\n",
       "                        <th id=\"T_773c8_level0_row25\" class=\"row_heading level0 row25\" >secondary_cleaner.state.floatbank5_a_air</th>\n",
       "                        <td id=\"T_773c8_row25_col0\" class=\"data row25 col0\" >0.000000</td>\n",
       "            </tr>\n",
       "            <tr>\n",
       "                        <th id=\"T_773c8_level0_row26\" class=\"row_heading level0 row26\" >secondary_cleaner.state.floatbank5_a_level</th>\n",
       "                        <td id=\"T_773c8_row26_col0\" class=\"data row26 col0\" >0.000000</td>\n",
       "            </tr>\n",
       "            <tr>\n",
       "                        <th id=\"T_773c8_level0_row27\" class=\"row_heading level0 row27\" >secondary_cleaner.state.floatbank5_b_air</th>\n",
       "                        <td id=\"T_773c8_row27_col0\" class=\"data row27 col0\" >0.000000</td>\n",
       "            </tr>\n",
       "            <tr>\n",
       "                        <th id=\"T_773c8_level0_row28\" class=\"row_heading level0 row28\" >secondary_cleaner.state.floatbank5_b_level</th>\n",
       "                        <td id=\"T_773c8_row28_col0\" class=\"data row28 col0\" >0.000000</td>\n",
       "            </tr>\n",
       "            <tr>\n",
       "                        <th id=\"T_773c8_level0_row29\" class=\"row_heading level0 row29\" >secondary_cleaner.state.floatbank6_a_air</th>\n",
       "                        <td id=\"T_773c8_row29_col0\" class=\"data row29 col0\" >0.000000</td>\n",
       "            </tr>\n",
       "            <tr>\n",
       "                        <th id=\"T_773c8_level0_row30\" class=\"row_heading level0 row30\" >primary_cleaner.state.floatbank8_c_level</th>\n",
       "                        <td id=\"T_773c8_row30_col0\" class=\"data row30 col0\" >0.000000</td>\n",
       "            </tr>\n",
       "            <tr>\n",
       "                        <th id=\"T_773c8_level0_row31\" class=\"row_heading level0 row31\" >secondary_cleaner.state.floatbank6_a_level</th>\n",
       "                        <td id=\"T_773c8_row31_col0\" class=\"data row31 col0\" >0.000000</td>\n",
       "            </tr>\n",
       "            <tr>\n",
       "                        <th id=\"T_773c8_level0_row32\" class=\"row_heading level0 row32\" >primary_cleaner.state.floatbank8_b_level</th>\n",
       "                        <td id=\"T_773c8_row32_col0\" class=\"data row32 col0\" >0.000000</td>\n",
       "            </tr>\n",
       "            <tr>\n",
       "                        <th id=\"T_773c8_level0_row33\" class=\"row_heading level0 row33\" >rougher.state.floatbank10_c_air</th>\n",
       "                        <td id=\"T_773c8_row33_col0\" class=\"data row33 col0\" >0.000000</td>\n",
       "            </tr>\n",
       "            <tr>\n",
       "                        <th id=\"T_773c8_level0_row34\" class=\"row_heading level0 row34\" >primary_cleaner.state.floatbank8_a_level</th>\n",
       "                        <td id=\"T_773c8_row34_col0\" class=\"data row34 col0\" >0.000000</td>\n",
       "            </tr>\n",
       "            <tr>\n",
       "                        <th id=\"T_773c8_level0_row35\" class=\"row_heading level0 row35\" >primary_cleaner.state.floatbank8_a_air</th>\n",
       "                        <td id=\"T_773c8_row35_col0\" class=\"data row35 col0\" >0.000000</td>\n",
       "            </tr>\n",
       "            <tr>\n",
       "                        <th id=\"T_773c8_level0_row36\" class=\"row_heading level0 row36\" >rougher.input.floatbank10_xanthate</th>\n",
       "                        <td id=\"T_773c8_row36_col0\" class=\"data row36 col0\" >0.000000</td>\n",
       "            </tr>\n",
       "            <tr>\n",
       "                        <th id=\"T_773c8_level0_row37\" class=\"row_heading level0 row37\" >primary_cleaner.input.sulfate</th>\n",
       "                        <td id=\"T_773c8_row37_col0\" class=\"data row37 col0\" >0.000000</td>\n",
       "            </tr>\n",
       "            <tr>\n",
       "                        <th id=\"T_773c8_level0_row38\" class=\"row_heading level0 row38\" >rougher.state.floatbank10_a_air</th>\n",
       "                        <td id=\"T_773c8_row38_col0\" class=\"data row38 col0\" >0.000000</td>\n",
       "            </tr>\n",
       "            <tr>\n",
       "                        <th id=\"T_773c8_level0_row39\" class=\"row_heading level0 row39\" >rougher.state.floatbank10_a_level</th>\n",
       "                        <td id=\"T_773c8_row39_col0\" class=\"data row39 col0\" >0.000000</td>\n",
       "            </tr>\n",
       "            <tr>\n",
       "                        <th id=\"T_773c8_level0_row40\" class=\"row_heading level0 row40\" >rougher.state.floatbank10_b_air</th>\n",
       "                        <td id=\"T_773c8_row40_col0\" class=\"data row40 col0\" >0.000000</td>\n",
       "            </tr>\n",
       "            <tr>\n",
       "                        <th id=\"T_773c8_level0_row41\" class=\"row_heading level0 row41\" >primary_cleaner.state.floatbank8_b_air</th>\n",
       "                        <td id=\"T_773c8_row41_col0\" class=\"data row41 col0\" >0.000000</td>\n",
       "            </tr>\n",
       "            <tr>\n",
       "                        <th id=\"T_773c8_level0_row42\" class=\"row_heading level0 row42\" >rougher.state.floatbank10_b_level</th>\n",
       "                        <td id=\"T_773c8_row42_col0\" class=\"data row42 col0\" >0.000000</td>\n",
       "            </tr>\n",
       "            <tr>\n",
       "                        <th id=\"T_773c8_level0_row43\" class=\"row_heading level0 row43\" >rougher.state.floatbank10_c_level</th>\n",
       "                        <td id=\"T_773c8_row43_col0\" class=\"data row43 col0\" >0.000000</td>\n",
       "            </tr>\n",
       "            <tr>\n",
       "                        <th id=\"T_773c8_level0_row44\" class=\"row_heading level0 row44\" >rougher.input.feed_ag</th>\n",
       "                        <td id=\"T_773c8_row44_col0\" class=\"data row44 col0\" >0.000000</td>\n",
       "            </tr>\n",
       "            <tr>\n",
       "                        <th id=\"T_773c8_level0_row45\" class=\"row_heading level0 row45\" >rougher.state.floatbank10_d_level</th>\n",
       "                        <td id=\"T_773c8_row45_col0\" class=\"data row45 col0\" >0.000000</td>\n",
       "            </tr>\n",
       "            <tr>\n",
       "                        <th id=\"T_773c8_level0_row46\" class=\"row_heading level0 row46\" >rougher.state.floatbank10_d_air</th>\n",
       "                        <td id=\"T_773c8_row46_col0\" class=\"data row46 col0\" >0.000000</td>\n",
       "            </tr>\n",
       "            <tr>\n",
       "                        <th id=\"T_773c8_level0_row47\" class=\"row_heading level0 row47\" >rougher.state.floatbank10_e_level</th>\n",
       "                        <td id=\"T_773c8_row47_col0\" class=\"data row47 col0\" >0.000000</td>\n",
       "            </tr>\n",
       "            <tr>\n",
       "                        <th id=\"T_773c8_level0_row48\" class=\"row_heading level0 row48\" >rougher.state.floatbank10_f_air</th>\n",
       "                        <td id=\"T_773c8_row48_col0\" class=\"data row48 col0\" >0.000000</td>\n",
       "            </tr>\n",
       "            <tr>\n",
       "                        <th id=\"T_773c8_level0_row49\" class=\"row_heading level0 row49\" >rougher.state.floatbank10_f_level</th>\n",
       "                        <td id=\"T_773c8_row49_col0\" class=\"data row49 col0\" >0.000000</td>\n",
       "            </tr>\n",
       "            <tr>\n",
       "                        <th id=\"T_773c8_level0_row50\" class=\"row_heading level0 row50\" >primary_cleaner.input.feed_size</th>\n",
       "                        <td id=\"T_773c8_row50_col0\" class=\"data row50 col0\" >0.000000</td>\n",
       "            </tr>\n",
       "            <tr>\n",
       "                        <th id=\"T_773c8_level0_row51\" class=\"row_heading level0 row51\" >rougher.input.feed_au</th>\n",
       "                        <td id=\"T_773c8_row51_col0\" class=\"data row51 col0\" >0.000000</td>\n",
       "            </tr>\n",
       "            <tr>\n",
       "                        <th id=\"T_773c8_level0_row52\" class=\"row_heading level0 row52\" >date</th>\n",
       "                        <td id=\"T_773c8_row52_col0\" class=\"data row52 col0\" >0.000000</td>\n",
       "            </tr>\n",
       "    </tbody></table>"
      ],
      "text/plain": [
       "<pandas.io.formats.style.Styler at 0x7f797b39c9d0>"
      ]
     },
     "execution_count": 19,
     "metadata": {},
     "output_type": "execute_result"
    }
   ],
   "source": [
    "pd.DataFrame(round(df_test.isna().mean().sort_values(ascending=False)*100,1)).style.background_gradient('coolwarm')"
   ]
  },
  {
   "cell_type": "code",
   "execution_count": 20,
   "metadata": {
    "scrolled": true
   },
   "outputs": [
    {
     "data": {
      "text/plain": [
       "0"
      ]
     },
     "metadata": {},
     "output_type": "display_data"
    }
   ],
   "source": [
    "display(df_test.duplicated().sum())"
   ]
  },
  {
   "cell_type": "markdown",
   "metadata": {},
   "source": [
    "Аналогичным образом заполняем пропуски "
   ]
  },
  {
   "cell_type": "code",
   "execution_count": 21,
   "metadata": {},
   "outputs": [],
   "source": [
    "df_train.fillna(method='ffill', inplace=True)"
   ]
  },
  {
   "cell_type": "markdown",
   "metadata": {},
   "source": [
    "<div class=\"alert alert-success\">\n",
    "<h2> Комментарий ревьюера <a class=\"tocSkip\"> </h2>\n",
    "\n",
    "<b>Все отлично!👍</b> \n",
    "    \n",
    "Аналогично проверили и обработали остальные таблицы - отлично!"
   ]
  },
  {
   "cell_type": "markdown",
   "metadata": {},
   "source": [
    "Добавим в переменную столбцы, которых нет в тестовой выборке"
   ]
  },
  {
   "cell_type": "code",
   "execution_count": 22,
   "metadata": {},
   "outputs": [
    {
     "data": {
      "text/plain": [
       "['rougher.calculation.sulfate_to_au_concentrate',\n",
       " 'rougher.calculation.floatbank10_sulfate_to_au_feed',\n",
       " 'rougher.calculation.floatbank11_sulfate_to_au_feed',\n",
       " 'rougher.calculation.au_pb_ratio',\n",
       " 'rougher.output.concentrate_au',\n",
       " 'rougher.output.concentrate_ag',\n",
       " 'rougher.output.concentrate_pb',\n",
       " 'rougher.output.concentrate_sol',\n",
       " 'rougher.output.recovery',\n",
       " 'rougher.output.tail_au',\n",
       " 'rougher.output.tail_ag',\n",
       " 'rougher.output.tail_pb',\n",
       " 'rougher.output.tail_sol',\n",
       " 'primary_cleaner.output.concentrate_au',\n",
       " 'primary_cleaner.output.concentrate_ag',\n",
       " 'primary_cleaner.output.concentrate_pb',\n",
       " 'primary_cleaner.output.concentrate_sol',\n",
       " 'primary_cleaner.output.tail_au',\n",
       " 'primary_cleaner.output.tail_ag',\n",
       " 'primary_cleaner.output.tail_pb',\n",
       " 'primary_cleaner.output.tail_sol',\n",
       " 'secondary_cleaner.output.tail_au',\n",
       " 'secondary_cleaner.output.tail_ag',\n",
       " 'secondary_cleaner.output.tail_pb',\n",
       " 'secondary_cleaner.output.tail_sol',\n",
       " 'final.output.concentrate_au',\n",
       " 'final.output.concentrate_ag',\n",
       " 'final.output.concentrate_pb',\n",
       " 'final.output.concentrate_sol',\n",
       " 'final.output.recovery',\n",
       " 'final.output.tail_au',\n",
       " 'final.output.tail_ag',\n",
       " 'final.output.tail_pb',\n",
       " 'final.output.tail_sol']"
      ]
     },
     "execution_count": 22,
     "metadata": {},
     "output_type": "execute_result"
    }
   ],
   "source": [
    "columns_absent = []\n",
    "\n",
    "for col1 in df_full.columns:\n",
    "    if col1 not in df_test.columns:\n",
    "        columns_absent.append(col1)\n",
    "        \n",
    "columns_absent"
   ]
  },
  {
   "cell_type": "markdown",
   "metadata": {},
   "source": [
    "<div class=\"alert alert-success\">\n",
    "<h2> Комментарий ревьюера <a class=\"tocSkip\"> </h2>\n",
    "\n",
    "<b>Все отлично!👍:</b> Проанализировали разницу в признаках между выборками. "
   ]
  },
  {
   "cell_type": "markdown",
   "metadata": {},
   "source": [
    "<div class=\"alert alert-block alert-danger\">\n",
    "<h2> Комментарий ревьюера <a class=\"tocSkip\"></h2>\n",
    "\n",
    "    \n",
    "<b>На доработку❌:</b> Здесь стоит вспомнить разницу между онлайн и оффлайн метриками: исходя из понимания, что тестовая выборка имитирует работу модели в реальных условиях протекания технологического процесса, давай подумаем, почему в `train` есть признаки, которые недоступны в `test`?\n",
    "    \n",
    "Нужно сделать вывод о причине расхожедния количества признаков между `train` и `test`."
   ]
  },
  {
   "cell_type": "markdown",
   "metadata": {},
   "source": [
    "<div class=\"alert alert-info\">\n",
    "<h2> Комментарий студента <a class=\"tocSkip\"> </h2>\n",
    "\n",
    "Основные метрики, которые отсутствуют в тесте связаны с выходными данными, которая модель будет получать после каждого этапа обработки материалов \n",
    "</div>"
   ]
  },
  {
   "cell_type": "markdown",
   "metadata": {},
   "source": [
    "<div class=\"alert alert-success\">\n",
    "<h2> Комментарий ревьюера v.2 <a class=\"tocSkip\"> </h2>\n",
    "\n",
    "<b>Все отлично!👍:</b> Учтено."
   ]
  },
  {
   "cell_type": "markdown",
   "metadata": {},
   "source": [
    "Для теста модели понадобятся таргеты, которых в датафрейме нет. Можно заджойнить информацию по дате из полного датафрейма"
   ]
  },
  {
   "cell_type": "code",
   "execution_count": 23,
   "metadata": {},
   "outputs": [],
   "source": [
    "df_test = df_test.merge(right = df_full[['final.output.recovery','date']], how='left', on='date')\n",
    "df_test = df_test.merge(right = df_full[['rougher.output.recovery','date']], how='left', on='date')"
   ]
  },
  {
   "cell_type": "markdown",
   "metadata": {},
   "source": [
    "<div class=\"alert alert-success\">\n",
    "<h2> Комментарий ревьюера <a class=\"tocSkip\"> </h2>\n",
    "\n",
    "<b>Все отлично!👍:</b> В `test` добавили целевые признаки из `full`, используя дату как ключ при соединении - отлично!"
   ]
  },
  {
   "cell_type": "code",
   "execution_count": 24,
   "metadata": {
    "scrolled": true
   },
   "outputs": [
    {
     "data": {
      "text/plain": [
       "date                                            0\n",
       "rougher.input.feed_au                           0\n",
       "rougher.input.feed_ag                           0\n",
       "rougher.input.feed_pb                          28\n",
       "rougher.input.feed_sol                         22\n",
       "rougher.input.feed_rate                         4\n",
       "rougher.input.feed_size                        44\n",
       "rougher.input.floatbank10_sulfate               3\n",
       "rougher.input.floatbank10_xanthate              1\n",
       "rougher.state.floatbank10_a_air                 1\n",
       "rougher.state.floatbank10_a_level               1\n",
       "rougher.state.floatbank10_b_air                 1\n",
       "rougher.state.floatbank10_b_level               1\n",
       "rougher.state.floatbank10_c_air                 1\n",
       "rougher.state.floatbank10_c_level               1\n",
       "rougher.state.floatbank10_d_air                 0\n",
       "rougher.state.floatbank10_d_level               0\n",
       "rougher.state.floatbank10_e_air                 7\n",
       "rougher.state.floatbank10_e_level               0\n",
       "rougher.state.floatbank10_f_air                 0\n",
       "rougher.state.floatbank10_f_level               0\n",
       "rougher.input.floatbank11_sulfate               8\n",
       "rougher.input.floatbank11_xanthate             46\n",
       "primary_cleaner.input.sulfate                   1\n",
       "primary_cleaner.input.depressant                9\n",
       "primary_cleaner.input.feed_size                 0\n",
       "primary_cleaner.input.xanthate                 43\n",
       "primary_cleaner.state.floatbank8_a_air          1\n",
       "primary_cleaner.state.floatbank8_a_level        1\n",
       "primary_cleaner.state.floatbank8_b_air          1\n",
       "primary_cleaner.state.floatbank8_b_level        1\n",
       "primary_cleaner.state.floatbank8_c_air          2\n",
       "primary_cleaner.state.floatbank8_c_level        1\n",
       "primary_cleaner.state.floatbank8_d_air          2\n",
       "primary_cleaner.state.floatbank8_d_level        1\n",
       "secondary_cleaner.state.floatbank2_a_air      126\n",
       "secondary_cleaner.state.floatbank2_a_level      1\n",
       "secondary_cleaner.state.floatbank2_b_air        1\n",
       "secondary_cleaner.state.floatbank2_b_level      1\n",
       "secondary_cleaner.state.floatbank3_a_air        1\n",
       "secondary_cleaner.state.floatbank3_a_level      1\n",
       "secondary_cleaner.state.floatbank3_b_air        1\n",
       "secondary_cleaner.state.floatbank3_b_level      1\n",
       "secondary_cleaner.state.floatbank4_a_air        1\n",
       "secondary_cleaner.state.floatbank4_a_level      1\n",
       "secondary_cleaner.state.floatbank4_b_air        1\n",
       "secondary_cleaner.state.floatbank4_b_level      1\n",
       "secondary_cleaner.state.floatbank5_a_air        1\n",
       "secondary_cleaner.state.floatbank5_a_level      1\n",
       "secondary_cleaner.state.floatbank5_b_air        1\n",
       "secondary_cleaner.state.floatbank5_b_level      1\n",
       "secondary_cleaner.state.floatbank6_a_air        1\n",
       "secondary_cleaner.state.floatbank6_a_level      1\n",
       "final.output.recovery                           0\n",
       "rougher.output.recovery                         0\n",
       "dtype: int64"
      ]
     },
     "execution_count": 24,
     "metadata": {},
     "output_type": "execute_result"
    }
   ],
   "source": [
    "df_test.isna().sum()"
   ]
  },
  {
   "cell_type": "code",
   "execution_count": 25,
   "metadata": {},
   "outputs": [],
   "source": [
    "df_test = df_test.dropna()"
   ]
  },
  {
   "cell_type": "markdown",
   "metadata": {},
   "source": [
    "<div class=\"alert alert-block alert-danger\">\n",
    "<h2> Комментарий ревьюера <a class=\"tocSkip\"></h2>\n",
    "\n",
    "    \n",
    "<b>На доработку❌:</b> А есть пропуски?"
   ]
  },
  {
   "cell_type": "markdown",
   "metadata": {},
   "source": [
    "<div class=\"alert alert-info\">\n",
    "<h2> Комментарий студента <a class=\"tocSkip\"> </h2>\n",
    "\n",
    "Да, добавил строку\n",
    "</div>"
   ]
  },
  {
   "cell_type": "markdown",
   "metadata": {},
   "source": [
    "<div class=\"alert alert-success\">\n",
    "<h2> Комментарий ревьюера v.2 <a class=\"tocSkip\"> </h2>\n",
    "\n",
    "<b>Все отлично!👍:</b> Учтено."
   ]
  },
  {
   "cell_type": "markdown",
   "metadata": {},
   "source": [
    "### Рассчет эффективности"
   ]
  },
  {
   "cell_type": "code",
   "execution_count": 26,
   "metadata": {},
   "outputs": [],
   "source": [
    "#Создадим функцию рассчета эффективности\n",
    "\n",
    "def output_recovery(C, F, T):\n",
    "    recovery = (C * (F - T)) / (F * (C - T)) * 100\n",
    "    return recovery"
   ]
  },
  {
   "cell_type": "markdown",
   "metadata": {},
   "source": [
    "- C — доля золота в концентрате после флотации/очистки;\n",
    "- F — доля золота в сырье/концентрате до флотации/очистки;\n",
    "- T — доля золота в отвальных хвостах после флотации/очистки.\n",
    "\n",
    "\n",
    "По идее, если эффективность обогащения посчитана правильно, то MAE между rougher.output.recovery и результатами нашей формулы должен равняться нулю "
   ]
  },
  {
   "cell_type": "code",
   "execution_count": 27,
   "metadata": {},
   "outputs": [
    {
     "data": {
      "text/html": [
       "<div>\n",
       "<style scoped>\n",
       "    .dataframe tbody tr th:only-of-type {\n",
       "        vertical-align: middle;\n",
       "    }\n",
       "\n",
       "    .dataframe tbody tr th {\n",
       "        vertical-align: top;\n",
       "    }\n",
       "\n",
       "    .dataframe thead th {\n",
       "        text-align: right;\n",
       "    }\n",
       "</style>\n",
       "<table border=\"1\" class=\"dataframe\">\n",
       "  <thead>\n",
       "    <tr style=\"text-align: right;\">\n",
       "      <th></th>\n",
       "      <th>rougher.output.concentrate_au</th>\n",
       "      <th>rougher.input.feed_au</th>\n",
       "      <th>rougher.output.tail_au</th>\n",
       "      <th>rougher.output.recovery</th>\n",
       "      <th>recovery_results</th>\n",
       "    </tr>\n",
       "  </thead>\n",
       "  <tbody>\n",
       "    <tr>\n",
       "      <th>0</th>\n",
       "      <td>19.793808</td>\n",
       "      <td>6.486150</td>\n",
       "      <td>1.170244</td>\n",
       "      <td>87.107763</td>\n",
       "      <td>87.107763</td>\n",
       "    </tr>\n",
       "    <tr>\n",
       "      <th>1</th>\n",
       "      <td>20.050975</td>\n",
       "      <td>6.478583</td>\n",
       "      <td>1.184827</td>\n",
       "      <td>86.843261</td>\n",
       "      <td>86.843261</td>\n",
       "    </tr>\n",
       "    <tr>\n",
       "      <th>2</th>\n",
       "      <td>19.737170</td>\n",
       "      <td>6.362222</td>\n",
       "      <td>1.162562</td>\n",
       "      <td>86.842308</td>\n",
       "      <td>86.842308</td>\n",
       "    </tr>\n",
       "    <tr>\n",
       "      <th>3</th>\n",
       "      <td>19.320810</td>\n",
       "      <td>6.118189</td>\n",
       "      <td>1.079755</td>\n",
       "      <td>87.226430</td>\n",
       "      <td>87.226430</td>\n",
       "    </tr>\n",
       "    <tr>\n",
       "      <th>4</th>\n",
       "      <td>19.216101</td>\n",
       "      <td>5.663707</td>\n",
       "      <td>1.012642</td>\n",
       "      <td>86.688794</td>\n",
       "      <td>86.688794</td>\n",
       "    </tr>\n",
       "  </tbody>\n",
       "</table>\n",
       "</div>"
      ],
      "text/plain": [
       "   rougher.output.concentrate_au  rougher.input.feed_au  \\\n",
       "0                      19.793808               6.486150   \n",
       "1                      20.050975               6.478583   \n",
       "2                      19.737170               6.362222   \n",
       "3                      19.320810               6.118189   \n",
       "4                      19.216101               5.663707   \n",
       "\n",
       "   rougher.output.tail_au  rougher.output.recovery  recovery_results  \n",
       "0                1.170244                87.107763         87.107763  \n",
       "1                1.184827                86.843261         86.843261  \n",
       "2                1.162562                86.842308         86.842308  \n",
       "3                1.079755                87.226430         87.226430  \n",
       "4                1.012642                86.688794         86.688794  "
      ]
     },
     "execution_count": 27,
     "metadata": {},
     "output_type": "execute_result"
    }
   ],
   "source": [
    "#Создадим датафрейм с нужными параметрами из обучающей выборки и добавим столбец с результатами вычисления\n",
    "\n",
    "df_recovery = df_train[['rougher.output.concentrate_au', \n",
    "                        'rougher.input.feed_au', \n",
    "                        'rougher.output.tail_au', \n",
    "                        'rougher.output.recovery']]\n",
    "\n",
    "df_recovery['recovery_results'] = df_recovery.apply(lambda x: \n",
    "                                                    output_recovery(\n",
    "                                                        x['rougher.output.concentrate_au'],\n",
    "                                                        x['rougher.input.feed_au'],\n",
    "                                                        x['rougher.output.tail_au']\n",
    "                                                    ),\n",
    "                                                    axis=1\n",
    "                                                   )\n",
    "df_recovery.head()"
   ]
  },
  {
   "cell_type": "markdown",
   "metadata": {},
   "source": [
    "В целом видно, что значения rougher.output.recovery и recovery_results равны, значит формула верна, однако найдем среднее абсолютное отклонение"
   ]
  },
  {
   "cell_type": "code",
   "execution_count": 28,
   "metadata": {},
   "outputs": [
    {
     "data": {
      "text/plain": [
       "0.0"
      ]
     },
     "execution_count": 28,
     "metadata": {},
     "output_type": "execute_result"
    }
   ],
   "source": [
    "round(mean_absolute_error(df_recovery['rougher.output.recovery'],\n",
    "                          df_recovery['recovery_results']),2)"
   ]
  },
  {
   "cell_type": "markdown",
   "metadata": {},
   "source": [
    "Изначально получилось 10 в -15 степени(14 нулей после запятой), однако это крайне низкое значение и скорее всего оно связано с погрешностью вычесления float в Питоне, а не ошибкой в рассчетах"
   ]
  },
  {
   "cell_type": "markdown",
   "metadata": {},
   "source": [
    "<div class=\"alert alert-success\">\n",
    "<h2> Комментарий ревьюера <a class=\"tocSkip\"> </h2>\n",
    "\n",
    "<b>Все отлично!👍:</b> Оценили `MAE` между исходным и расчётным значением эффективности обогащения и убедились, что эффективность обогащения рассчитана правильно - отлично!\n",
    "</div>"
   ]
  },
  {
   "cell_type": "markdown",
   "metadata": {},
   "source": [
    "### Вывод\n",
    "\n",
    "В ходе выполнения этой главы были сделаны следующие пункты:\n",
    "- Выгружены и проанализированны датафреймы\n",
    "- Пропуски были заменены на предыдущие значения\n",
    "- Был удален столбец не нужный для обучения модели\n",
    "- Рассмотрена формула рассчета эффективности и проверена на реальных данных"
   ]
  },
  {
   "cell_type": "markdown",
   "metadata": {},
   "source": [
    "<div class=\"alert alert-success\">\n",
    "<h2> Комментарий ревьюера <a class=\"tocSkip\"> </h2>\n",
    "\n",
    "<b>Все отлично!👍:</b> Молодец, что не забываешь про промежуточные выводы:)"
   ]
  },
  {
   "cell_type": "markdown",
   "metadata": {},
   "source": [
    "## Анализ данных"
   ]
  },
  {
   "cell_type": "markdown",
   "metadata": {},
   "source": [
    "Для начала проверим как меняется концентрация каждого металла на каждом этапе обработки"
   ]
  },
  {
   "cell_type": "markdown",
   "metadata": {},
   "source": [
    "<div class=\"alert alert-block alert-danger\">\n",
    "<h2> Комментарий ревьюера <a class=\"tocSkip\"></h2>\n",
    "\n",
    "    \n",
    "<b>На доработку❌:</b> Сверься с брифом проекта и добавь в исследование недостающий этап - сейчас работа выполнена по старым условиям. Дополнительное задание - исследование провести с помощью `sns.histplot()`, настроить разные цвета и корзины для каждого металла."
   ]
  },
  {
   "cell_type": "markdown",
   "metadata": {},
   "source": [
    "<div class=\"alert alert-info\">\n",
    "<h2> Комментарий студента <a class=\"tocSkip\"> </h2>\n",
    "\n",
    "Пропустил сырьевой этап, добавил\n",
    "</div>"
   ]
  },
  {
   "cell_type": "markdown",
   "metadata": {},
   "source": [
    "<div class=\"alert alert-success\">\n",
    "<h2> Комментарий ревьюера v.2 <a class=\"tocSkip\"> </h2>\n",
    "\n",
    "<b>Все отлично!👍:</b> Учтено."
   ]
  },
  {
   "cell_type": "code",
   "execution_count": 29,
   "metadata": {},
   "outputs": [],
   "source": [
    "#Создадим переменные для каждого металла с концентрацией после каждого этапа\n",
    "au_con = ['rougher.input.feed_au',\n",
    "          'rougher.output.concentrate_au',\n",
    "          'primary_cleaner.output.concentrate_au',\n",
    "          'final.output.concentrate_au']\n",
    "ag_con = ['rougher.input.feed_ag',\n",
    "          'rougher.output.concentrate_ag',\n",
    "          'primary_cleaner.output.concentrate_ag',\n",
    "          'final.output.concentrate_ag']\n",
    "pb_con = ['rougher.input.feed_pb',\n",
    "          'rougher.output.concentrate_pb',\n",
    "          'primary_cleaner.output.concentrate_pb',\n",
    "          'final.output.concentrate_pb']"
   ]
  },
  {
   "cell_type": "code",
   "execution_count": 30,
   "metadata": {},
   "outputs": [
    {
     "data": {
      "image/png": "[encoded data removed]",
      "text/plain": [
       "<Figure size 1080x648 with 1 Axes>"
      ]
     },
     "metadata": {
      "needs_background": "light"
     },
     "output_type": "display_data"
    }
   ],
   "source": [
    "#Создадим функцию для отображения концентрации\n",
    "def set_plot_properties(data, xlabel):\n",
    "    plt.figure(figsize=(15, 9))  \n",
    "    ax = sns.histplot(data=data, element=\"step\", stat=\"frequency\", bins = 60)\n",
    "    ax.set(xlabel=xlabel, ylabel='Частота')\n",
    "\n",
    "\n",
    "set_plot_properties(df_full[au_con], 'Золото, концентрация')"
   ]
  },
  {
   "cell_type": "markdown",
   "metadata": {},
   "source": [
    "Присутствуют аномальные выбросе для нулевой концентрации, удалим их и проверим на графике изменения"
   ]
  },
  {
   "cell_type": "markdown",
   "metadata": {},
   "source": [
    "<div class=\"alert alert-block alert-danger\">\n",
    "<h2> Комментарий ревьюера <a class=\"tocSkip\"></h2>\n",
    "\n",
    "    \n",
    "<b>На доработку❌:</b>\n",
    "На графиках нужно подписывать оси Х и Y, а также названия - тут и далее."
   ]
  },
  {
   "cell_type": "markdown",
   "metadata": {},
   "source": [
    "<div class=\"alert alert-info\">\n",
    "<h2> Комментарий студента <a class=\"tocSkip\"> </h2>\n",
    "\n",
    "Сделано\n",
    "</div>"
   ]
  },
  {
   "cell_type": "markdown",
   "metadata": {},
   "source": [
    "<div class=\"alert alert-success\">\n",
    "<h2> Комментарий ревьюера v.2 <a class=\"tocSkip\"> </h2>\n",
    "\n",
    "<b>Все отлично!👍:</b> Учтено."
   ]
  },
  {
   "cell_type": "code",
   "execution_count": 31,
   "metadata": {},
   "outputs": [
    {
     "data": {
      "image/png": "[encoded data removed]",
      "text/plain": [
       "<Figure size 1080x648 with 1 Axes>"
      ]
     },
     "metadata": {
      "needs_background": "light"
     },
     "output_type": "display_data"
    }
   ],
   "source": [
    "set_plot_properties(df_full[ag_con], 'Серебро, концентрация')"
   ]
  },
  {
   "cell_type": "markdown",
   "metadata": {},
   "source": [
    "Так же есть выбросы, удалим их"
   ]
  },
  {
   "cell_type": "code",
   "execution_count": 32,
   "metadata": {},
   "outputs": [
    {
     "data": {
      "image/png": "[encoded data removed]",
      "text/plain": [
       "<Figure size 1080x648 with 1 Axes>"
      ]
     },
     "metadata": {
      "needs_background": "light"
     },
     "output_type": "display_data"
    }
   ],
   "source": [
    "set_plot_properties(df_full[pb_con], 'Свинец, концентрация')"
   ]
  },
  {
   "cell_type": "markdown",
   "metadata": {},
   "source": [
    "Для каждого металла присутствуют аномальные выбросы и для дальнейшей работы их надо удалить"
   ]
  },
  {
   "cell_type": "code",
   "execution_count": 33,
   "metadata": {},
   "outputs": [],
   "source": [
    "df_train[au_con] = df_train[au_con].replace(0,np.nan)        \n",
    "df_train[ag_con] = df_train[ag_con].replace(0,np.nan)         \n",
    "df_train[pb_con] = df_train[pb_con].replace(0,np.nan)\n",
    "df_train = df_train.dropna()"
   ]
  },
  {
   "cell_type": "markdown",
   "metadata": {},
   "source": [
    "Визуально можно заметить следующее:\n",
    "- Концентрация золота растет (что очевидно, ведь это основная цель очистки)\n",
    "- Концентрация серебра падает, а свинец приблизительно остается на том же уровне\n",
    "- Распределение стремится к нормальному за исключением нулевых значений (можно предположить, что это аномальные значения, однако нужно собрать больше данных, чтобы это утверждать)"
   ]
  },
  {
   "cell_type": "markdown",
   "metadata": {},
   "source": [
    "<div class=\"alert alert-success\">\n",
    "<h2> Комментарий ревьюера <a class=\"tocSkip\"> </h2>\n",
    "\n",
    "<b>Все отлично!👍:</b> Исследована концентрация металлов на разных стадиях обработки, проанализирована динамика концентрации в зависимости от этапа техпроцесса - отлично, тут всё верно.\n",
    "    \n",
    "Круто, что были отмечены нулевые значения - это действительно аномалия, подлежащая удалению.\n",
    "</div>"
   ]
  },
  {
   "cell_type": "markdown",
   "metadata": {},
   "source": [
    "<div class=\"alert alert-block alert-danger\">\n",
    "<h2> Комментарий ревьюера <a class=\"tocSkip\"></h2>\n",
    "\n",
    "    \n",
    "<b>На доработку❌:</b>\n",
    "На данном этапе следует также избавиться от аномалий - предполагается, что на этапе анализа суммарной концентрации аномалии уже были обнаружены и удалены.\n",
    "    \n",
    "Обрати внимание, что ты анализируешь суммарную концентрацию на `full` выборке, а удалить аномалии важно из `train`, так как на этой выборке мы будем обучать модели, и нам важно обеспечить её чистоту.\n",
    "    \n",
    "Тут можно пойти двумя путями:\n",
    "- если из `train` уже были удалены лишние столбцы, то суммарную концентрацию напрямую не выйдет отфильтровать - в таком случае нужно удалить аномалии из `full`, а потом использовать столбец `date` для очистки `train`: в `train` нужно будет оставить только те строки, `date` которых есть в столбце `date` у `full` выборки - так как из `full` уже будут удалены аномалии, то и дата аномальных замеров будет удалена;\n",
    "- если из `train` ещё не были удалены лишние признаки, то можно очистить `train` напрямую."
   ]
  },
  {
   "cell_type": "markdown",
   "metadata": {},
   "source": [
    "<div class=\"alert alert-info\">\n",
    "<h2> Комментарий студента <a class=\"tocSkip\"> </h2>\n",
    "\n",
    "Сделано\n",
    "</div>"
   ]
  },
  {
   "cell_type": "markdown",
   "metadata": {},
   "source": [
    "<div class=\"alert alert-success\">\n",
    "<h2> Комментарий ревьюера v.2 <a class=\"tocSkip\"> </h2>\n",
    "\n",
    "<b>Все отлично!👍:</b> Учтено."
   ]
  },
  {
   "cell_type": "markdown",
   "metadata": {},
   "source": [
    "Проверим так же, насколько сильно отличается распределение гранул сырья на обучающей и тестовой выборке\n",
    "\n",
    "Стоит это сделать на каждом этапе ввода гранул сырья"
   ]
  },
  {
   "cell_type": "markdown",
   "metadata": {},
   "source": [
    "<div class=\"alert alert-block alert-danger\">\n",
    "<h2> Комментарий ревьюера <a class=\"tocSkip\"></h2>\n",
    "\n",
    "    \n",
    "<b>На доработку❌:</b>\n",
    "Выполнено по старым условиям - сврься, пожалуйста, с брифом и удали лишний этап.\n",
    "    \n",
    "Дополнительное задание:\n",
    "- организовать анализ с помощью `sns.histplot()`, сделать гистограмму нормированной (параметр `stat`, а значение найди самостоятельно в документации метода);\n",
    "- исследовать разницу в средних между выборками с помощью `ttest`: сформулировать нулевую и альтернативную гипотезы, провести тест, интерпретировать результаты."
   ]
  },
  {
   "cell_type": "markdown",
   "metadata": {},
   "source": [
    "<div class=\"alert alert-info\">\n",
    "<h2> Комментарий студента <a class=\"tocSkip\"> </h2>\n",
    "\n",
    "Сделано, так же добавил ttest\n",
    "</div>"
   ]
  },
  {
   "cell_type": "markdown",
   "metadata": {},
   "source": [
    "<div class=\"alert alert-success\">\n",
    "<h2> Комментарий ревьюера v.2 <a class=\"tocSkip\"> </h2>\n",
    "\n",
    "<b>Все отлично!👍:</b> Учтено."
   ]
  },
  {
   "cell_type": "code",
   "execution_count": 34,
   "metadata": {},
   "outputs": [
    {
     "data": {
      "image/png": "[encoded data removed]",
      "text/plain": [
       "<Figure size 1080x504 with 1 Axes>"
      ]
     },
     "metadata": {
      "needs_background": "light"
     },
     "output_type": "display_data"
    }
   ],
   "source": [
    "plt.figure(figsize=(15 , 7))\n",
    "sns.histplot(data=df_train, x='rougher.input.feed_size', stat='density')\n",
    "sns.histplot(x=df_test['rougher.input.feed_size'], color='red', stat='density')\n",
    "plt.title('Распределение размеров гранул сырья')\n",
    "plt.xlabel('Гранулы, сырье')\n",
    "plt.ylabel('Плотность вероятности')\n",
    "plt.show()"
   ]
  },
  {
   "cell_type": "markdown",
   "metadata": {},
   "source": [
    "H0- средние значения двух выборок равны\n",
    "\n",
    "H1- средние значения двух выборок различаются\n",
    "\n",
    "Уровень статистической значимости 0.05"
   ]
  },
  {
   "cell_type": "code",
   "execution_count": 35,
   "metadata": {},
   "outputs": [
    {
     "name": "stdout",
     "output_type": "stream",
     "text": [
      "P-value: 0.26284559679491215\n"
     ]
    }
   ],
   "source": [
    "statistic, p_value = ttest_ind(df_train['rougher.input.feed_size'], \n",
    "                               df_test['rougher.input.feed_size'], \n",
    "                               equal_var=False,\n",
    "                               )\n",
    "print(\"P-value:\", p_value)"
   ]
  },
  {
   "cell_type": "markdown",
   "metadata": {},
   "source": [
    "Так как P-value больше уровня статистической значимости, мы не можем отвергать нулевую гипотезу"
   ]
  },
  {
   "cell_type": "markdown",
   "metadata": {},
   "source": [
    "<div class=\"alert alert-success\">\n",
    "<h2> Комментарий ревьюера <a class=\"tocSkip\"> </h2>\n",
    "\n",
    "<b>Все отлично!👍:</b> Сравнили размеры гранул сырья на обучающей и тестовой выборках - отлично, распределения между выборками действительно схожи, следовательно модель будет корректно работать."
   ]
  },
  {
   "cell_type": "markdown",
   "metadata": {},
   "source": [
    "Теперь рассмотрим суммарную концентрацию всех металлов на разных стадиях и отобразим на графике"
   ]
  },
  {
   "cell_type": "markdown",
   "metadata": {},
   "source": [
    "<div class=\"alert alert-block alert-danger\">\n",
    "<h2> Комментарий ревьюера <a class=\"tocSkip\"></h2>\n",
    "\n",
    "    \n",
    "<b>На доработку❌:</b> Сверься с брифом проекта и добавь в исследование недостающий этап - сейчас работа выполнена по старым условиям. Дополнительное задание - все этапы суммарной концентрации отрисовать на одном графике, настроить цвета, подписать легенду."
   ]
  },
  {
   "cell_type": "markdown",
   "metadata": {},
   "source": [
    "<div class=\"alert alert-info\">\n",
    "<h2> Комментарий студента <a class=\"tocSkip\"> </h2>\n",
    "\n",
    "Добавил\n",
    "</div>"
   ]
  },
  {
   "cell_type": "markdown",
   "metadata": {},
   "source": [
    "<div class=\"alert alert-success\">\n",
    "<h2> Комментарий ревьюера v.2 <a class=\"tocSkip\"> </h2>\n",
    "\n",
    "<b>Все отлично!👍:</b> Учтено."
   ]
  },
  {
   "cell_type": "code",
   "execution_count": 36,
   "metadata": {},
   "outputs": [],
   "source": [
    "first = (df_train['rougher.input.feed_ag'] +\n",
    "         df_train['rougher.input.feed_au'] +\n",
    "         df_train['rougher.input.feed_pb'])\n",
    "\n",
    "second = (df_train['rougher.output.concentrate_au'] +\n",
    "          df_train['rougher.output.concentrate_pb'] +\n",
    "          df_train['rougher.output.concentrate_ag'])\n",
    "\n",
    "third = (df_train['primary_cleaner.output.concentrate_au'] +\n",
    "         df_train['primary_cleaner.output.concentrate_ag'] +\n",
    "         df_train['primary_cleaner.output.concentrate_pb'])\n",
    "\n",
    "fourth = (df_train['final.output.concentrate_au'] +\n",
    "          df_train['final.output.concentrate_pb'] +\n",
    "          df_train['final.output.concentrate_ag'])"
   ]
  },
  {
   "cell_type": "code",
   "execution_count": 37,
   "metadata": {
    "scrolled": true
   },
   "outputs": [
    {
     "data": {
      "image/png": "[encoded data removed]",
      "text/plain": [
       "<Figure size 1080x504 with 1 Axes>"
      ]
     },
     "metadata": {
      "needs_background": "light"
     },
     "output_type": "display_data"
    }
   ],
   "source": [
    "plt.figure(figsize=(15 , 7))\n",
    "\n",
    "sns.histplot(x=first)\n",
    "plt.title('Суммарная концентрация сырье')\n",
    "plt.ylabel('Количество')\n",
    "plt.xlabel('Суммарная концентрация')\n",
    "plt.show()"
   ]
  },
  {
   "cell_type": "code",
   "execution_count": 38,
   "metadata": {},
   "outputs": [
    {
     "data": {
      "image/png": "[encoded data removed]",
      "text/plain": [
       "<Figure size 1080x504 with 1 Axes>"
      ]
     },
     "metadata": {
      "needs_background": "light"
     },
     "output_type": "display_data"
    }
   ],
   "source": [
    "plt.figure(figsize=(15 , 7))\n",
    "\n",
    "sns.histplot(x=second)\n",
    "plt.title('Суммарная концентрация первичная обработка')\n",
    "plt.ylabel('Количество')\n",
    "plt.xlabel('Суммарная концентрация')\n",
    "plt.show()"
   ]
  },
  {
   "cell_type": "code",
   "execution_count": 39,
   "metadata": {},
   "outputs": [
    {
     "data": {
      "image/png": "[encoded data removed]",
      "text/plain": [
       "<Figure size 1080x504 with 1 Axes>"
      ]
     },
     "metadata": {
      "needs_background": "light"
     },
     "output_type": "display_data"
    }
   ],
   "source": [
    "plt.figure(figsize=(15 , 7))\n",
    "\n",
    "sns.histplot(x=third)\n",
    "plt.title('Суммарная концентрация вторичная обработка')\n",
    "plt.ylabel('Количество')\n",
    "plt.xlabel('Суммарная концентрация')\n",
    "plt.show()"
   ]
  },
  {
   "cell_type": "code",
   "execution_count": 40,
   "metadata": {},
   "outputs": [
    {
     "data": {
      "image/png": "[encoded data removed]",
      "text/plain": [
       "<Figure size 1080x504 with 1 Axes>"
      ]
     },
     "metadata": {
      "needs_background": "light"
     },
     "output_type": "display_data"
    }
   ],
   "source": [
    "plt.figure(figsize=(15 , 7))\n",
    "\n",
    "sns.histplot(x=fourth)\n",
    "plt.title('Суммарная концентрация финальный концентрат')\n",
    "plt.ylabel('Количество')\n",
    "plt.xlabel('Суммарная концентрация')\n",
    "plt.show()"
   ]
  },
  {
   "cell_type": "markdown",
   "metadata": {},
   "source": [
    "<div class=\"alert alert-success\">\n",
    "<h2> Комментарий ревьюера <a class=\"tocSkip\"> </h2>\n",
    "\n",
    "<b>Все отлично!👍:</b> Исследована суммарная концентрация металлов на разных стадиях техпроцесса - отлично!"
   ]
  },
  {
   "cell_type": "markdown",
   "metadata": {},
   "source": [
    "<div class=\"alert alert-block alert-danger\">\n",
    "<h2> Комментарий ревьюера <a class=\"tocSkip\"></h2>\n",
    "\n",
    "    \n",
    "<b>На доработку❌:</b>\n",
    "Нужно сделать вывод о динамике суммарной концентрации металлов."
   ]
  },
  {
   "cell_type": "markdown",
   "metadata": {},
   "source": [
    "<div class=\"alert alert-info\">\n",
    "<h2> Комментарий студента <a class=\"tocSkip\"> </h2>\n",
    "\n",
    "Можно заметить, что на каждом этапе разброс суммарной концентрации падает\n",
    "</div>"
   ]
  },
  {
   "cell_type": "markdown",
   "metadata": {},
   "source": [
    "<div class=\"alert alert-success\">\n",
    "<h2> Комментарий ревьюера v.2 <a class=\"tocSkip\"> </h2>\n",
    "\n",
    "<b>Все отлично!👍:</b> Учтено."
   ]
  },
  {
   "cell_type": "markdown",
   "metadata": {},
   "source": [
    "Определенно можно заметить выбросы у нулевых значений в черновом концентрате и финальном, поэтому, чтобы улучшить обучение модели надо избавиться от выбросов"
   ]
  },
  {
   "cell_type": "code",
   "execution_count": 41,
   "metadata": {},
   "outputs": [],
   "source": [
    "#list_to_change = ['rougher.output.concentrate_au',\n",
    "#                  'rougher.output.concentrate_pb',\n",
    "#                  'rougher.output.concentrate_ag',\n",
    "#                  'final.output.concentrate_au',\n",
    "#                  'final.output.concentrate_pb',\n",
    "#                 'final.output.concentrate_ag']\n",
    "\n",
    "\n",
    "#df_train[list_to_change] = df_train[list_to_change].replace(0,np.nan).dropna()"
   ]
  },
  {
   "cell_type": "markdown",
   "metadata": {},
   "source": [
    "<div class=\"alert alert-block alert-danger\">\n",
    "<h2> Комментарий ревьюера <a class=\"tocSkip\"></h2>\n",
    "\n",
    "    \n",
    "<b>На доработку❌:</b>\n",
    "Аномалии удалены не со всех этапов техпроцесса. Комментарии о нулевых значениях и их удаление должны быть на этапе анализа индивидуальной концентрации каждого металла - предполагается, что эти аномалии должны были быть замечены ранее, прокомментированы и удалены, и уже на этапе суммарной концентрации мы имеем дело с очищенными данными."
   ]
  },
  {
   "cell_type": "markdown",
   "metadata": {},
   "source": [
    "<div class=\"alert alert-info\">\n",
    "<h2> Комментарий студента <a class=\"tocSkip\"> </h2>\n",
    "\n",
    "Перенес наверх, закомментировал этот код\n",
    "</div>"
   ]
  },
  {
   "cell_type": "markdown",
   "metadata": {},
   "source": [
    "<div class=\"alert alert-success\">\n",
    "<h2> Комментарий ревьюера v.2 <a class=\"tocSkip\"> </h2>\n",
    "\n",
    "<b>Все отлично!👍:</b> Учтено."
   ]
  },
  {
   "cell_type": "markdown",
   "metadata": {},
   "source": [
    "### Вывод\n",
    "В ходе этой главы были выполнены следующие действия:\n",
    "- Сравнили концентрацию металлов на разных этапах\n",
    "    - Концентрация золота растет (что очевидно, ведь это основная цель очистки)\n",
    "    - Концентрация серебра падает, а свинец приблизительно остается на том же уровне\n",
    "    - Распределение стремится к нормальному за исключением нулевых значений (можно предположить, что это аномальные значения, однако нужно собрать больше данных, чтобы это утверждать)\n",
    "\n",
    "- Удостоверились, что распределение гранул сырья на тестовой и обучающей выборке не сильно отличаются\n",
    "- Рассмотрели суммарную концентрацию металлов на каждом этапе и удалили выбросы"
   ]
  },
  {
   "cell_type": "markdown",
   "metadata": {},
   "source": [
    "<div class=\"alert alert-success\">\n",
    "<h2> Комментарий ревьюера <a class=\"tocSkip\"> </h2>\n",
    "\n",
    "<b>Все отлично!👍:</b> Есть вывод - отлично!"
   ]
  },
  {
   "cell_type": "markdown",
   "metadata": {},
   "source": [
    "## Модель"
   ]
  },
  {
   "cell_type": "code",
   "execution_count": 42,
   "metadata": {},
   "outputs": [],
   "source": [
    "# Создадим функцию для подсчета sMAPE\n",
    "\n",
    "def smape(y_target, y_pred):\n",
    "    return (\n",
    "        (1 / len(y_target)) * \n",
    "        (sum( abs(y_target - y_pred) / ( (abs(y_target) + abs(y_pred)) * 0.5)) ) *\n",
    "        100)"
   ]
  },
  {
   "cell_type": "markdown",
   "metadata": {},
   "source": [
    "<div class=\"alert alert-success\">\n",
    "<h2> Комментарий ревьюера <a class=\"tocSkip\"> </h2>\n",
    "\n",
    "<b>Все отлично!👍:</b> Есть функция для оценки `sMAPE` - супер!\n",
    "</div>"
   ]
  },
  {
   "cell_type": "code",
   "execution_count": 43,
   "metadata": {},
   "outputs": [],
   "source": [
    "features = df_train.drop(columns_absent, axis=1)"
   ]
  },
  {
   "cell_type": "code",
   "execution_count": 44,
   "metadata": {},
   "outputs": [],
   "source": [
    "target_rougher = df_train['rougher.output.recovery']\n",
    "target_final = df_train['final.output.recovery']"
   ]
  },
  {
   "cell_type": "markdown",
   "metadata": {},
   "source": [
    "<div class=\"alert alert-success\">\n",
    "<h2> Комментарий ревьюера <a class=\"tocSkip\"> </h2>\n",
    "\n",
    "<b>Все отлично!👍:</b> Синхронизировали тренировочную и тестовую выборки по набору признаков, выделили признаки для обучения и целевые признаки - отлично!\n",
    "</div>"
   ]
  },
  {
   "cell_type": "code",
   "execution_count": 45,
   "metadata": {},
   "outputs": [],
   "source": [
    "scaler = StandardScaler()\n",
    "scaler.fit(features) \n",
    "features = scaler.transform(features)"
   ]
  },
  {
   "cell_type": "markdown",
   "metadata": {},
   "source": [
    "<div class=\"alert alert-success\">\n",
    "<h2> Комментарий ревьюера <a class=\"tocSkip\"> </h2>\n",
    "\n",
    "<b>Все отлично!👍:</b> Выполнили масштабирование непрерывных признаков - отлично!\n",
    "</div>"
   ]
  },
  {
   "cell_type": "code",
   "execution_count": 46,
   "metadata": {},
   "outputs": [],
   "source": [
    "smape_scorer = make_scorer(smape,greater_is_better=False )"
   ]
  },
  {
   "cell_type": "markdown",
   "metadata": {},
   "source": [
    "<div class=\"alert alert-success\">\n",
    "<h2> Комментарий ревьюера <a class=\"tocSkip\"> </h2>\n",
    "\n",
    "<b>Все отлично!👍:</b> Есть пользовательский скорринг для кросс-валидации - супер!\n",
    "</div>"
   ]
  },
  {
   "cell_type": "markdown",
   "metadata": {},
   "source": [
    "### Линейная регрессия"
   ]
  },
  {
   "cell_type": "code",
   "execution_count": 47,
   "metadata": {},
   "outputs": [
    {
     "data": {
      "text/plain": [
       "8.866318998589005"
      ]
     },
     "execution_count": 47,
     "metadata": {},
     "output_type": "execute_result"
    }
   ],
   "source": [
    "model_l = LinearRegression()\n",
    "\n",
    "model_l.fit(features, target_rougher)\n",
    "results_rougher = cross_validate(model_l, features, target_rougher, cv=5, scoring=smape_scorer)\n",
    "\n",
    "model_l.fit(features, target_final)\n",
    "results_final = cross_validate(model_l, features, target_final, cv=5, scoring=smape_scorer)\n",
    "\n",
    "abs(0.25 * results_rougher['test_score'].mean() + 0.75 * results_final['test_score'].mean())"
   ]
  },
  {
   "cell_type": "markdown",
   "metadata": {},
   "source": [
    "<div class=\"alert alert-success\">\n",
    "<h2> Комментарий ревьюера <a class=\"tocSkip\"> </h2>\n",
    "\n",
    "<b>Все отлично!👍:</b>\n",
    "    \n",
    "Оценили линейную регрессию на кросс-валидации - отлично!"
   ]
  },
  {
   "cell_type": "markdown",
   "metadata": {},
   "source": [
    "<div class=\"alert alert-block alert-danger\">\n",
    "<h2> Комментарий ревьюера <a class=\"tocSkip\"></h2>\n",
    "\n",
    "    \n",
    "<b>На доработку❌:</b>\n",
    "\n",
    "Как видишь, твоя метрика имеет отрицательное значение - это особеность работы `make_scorer` с настроенным параметром `greater_is_better=False`: так как метрика `sMAPE` применяется для задач регрессии, то она тем лучше, чем ниже - это нужно учитывать при создании скорринга для кросс-валидации, так как по умолчанию инструменты кросс-валидации вроде `cross_val_score` и `GridSearchCV/RandomizedSearchCV` умеют только максимизировать метрику качества. Поэтому при создании скорринга с помощью `make_scorer` важно настроить параметр `greater_is_better=False`, чтобы оптимизируемая метрика минимизировалась, а не максимизировалась - таким образом задача максимизации будет решаться через задачу минимизации обратной функции.\n",
    "    \n",
    "Поэтому при выводе метрики на экран её стоит сделать положительной: взять по модулю, домножить на `-1` или просто указать `-` при выводе на экран, вроде `print(-a)`.\n",
    "        \n",
    "</div>"
   ]
  },
  {
   "cell_type": "markdown",
   "metadata": {},
   "source": [
    "<div class=\"alert alert-info\">\n",
    "<h2> Комментарий студента <a class=\"tocSkip\"> </h2>\n",
    "\n",
    "Понял, поменял\n",
    "</div>"
   ]
  },
  {
   "cell_type": "markdown",
   "metadata": {},
   "source": [
    "<div class=\"alert alert-success\">\n",
    "<h2> Комментарий ревьюера v.2 <a class=\"tocSkip\"> </h2>\n",
    "\n",
    "<b>Все отлично!👍:</b> Учтено."
   ]
  },
  {
   "cell_type": "markdown",
   "metadata": {},
   "source": [
    "### Дерево принятия решений"
   ]
  },
  {
   "cell_type": "code",
   "execution_count": 48,
   "metadata": {},
   "outputs": [
    {
     "data": {
      "text/plain": [
       "8.637792755503087"
      ]
     },
     "execution_count": 48,
     "metadata": {},
     "output_type": "execute_result"
    }
   ],
   "source": [
    "param_grid = {\n",
    "    'max_depth': [None] + [i for i in range(2, 7)],\n",
    "    'max_features': ['auto', 'sqrt', None],\n",
    "    'max_leaf_nodes': range(10, 51, 10),\n",
    "    'min_samples_split': [2, 5, 10]\n",
    "}\n",
    "results_rougher_t = RandomizedSearchCV(DecisionTreeRegressor(random_state=42),param_grid,scoring=smape_scorer, cv=4)\n",
    "results_rougher_t.fit(features, target_rougher)\n",
    "\n",
    "results_final_t = RandomizedSearchCV(DecisionTreeRegressor(random_state=42),param_grid,scoring=smape_scorer, cv=4)\n",
    "results_final_t.fit(features, target_final)\n",
    "\n",
    "abs(0.25 * results_rougher_t.best_score_ + 0.75 * results_final_t.best_score_)"
   ]
  },
  {
   "cell_type": "markdown",
   "metadata": {},
   "source": [
    "<div class=\"alert alert-success\">\n",
    "    \n",
    "<h2> Комментарий ревьюера <a class=\"tocSkip\"> </h2>\n",
    "\n",
    "<b>Все отлично!👍:</b> Для `DecisionTreeRegressor` оптимизировали гиперпараметры и вывели оценку на кросс-валидации.\n",
    "</div>"
   ]
  },
  {
   "cell_type": "markdown",
   "metadata": {},
   "source": [
    "<div class=\"alert alert-block alert-danger\">\n",
    "<h2> Комментарий ревьюера <a class=\"tocSkip\"></h2>\n",
    "\n",
    "    \n",
    "<b>На доработку❌:</b> Для гиперпараметра `max_depth` рассматривается очень длинная последовательность: деревья с большой глубиной склонны к переобучению, а обучаются и предсказывают результат они дольше, поэтому делать их слишком глубокими не стоит - оптимальное значение почти всегда лежит в диапазоне от 2 до 5-6. Кроме того, можно попробовать значение `None` - в итоге оптимальная последовательность может выглядеть как `[None] + [i for i in range(2, 7)]`.\n",
    "</div>"
   ]
  },
  {
   "cell_type": "markdown",
   "metadata": {},
   "source": [
    "<div class=\"alert alert-info\">\n",
    "<h2> Комментарий студента <a class=\"tocSkip\"> </h2>\n",
    "\n",
    "Учту, эти параметры у меня еще с первого проекта сохранились, видимо надо подкорректировать, спасибо)\n",
    "</div>"
   ]
  },
  {
   "cell_type": "markdown",
   "metadata": {},
   "source": [
    "<div class=\"alert alert-success\">\n",
    "<h2> Комментарий ревьюера v.2 <a class=\"tocSkip\"> </h2>\n",
    "\n",
    "<b>Все отлично!👍:</b> Учтено."
   ]
  },
  {
   "cell_type": "markdown",
   "metadata": {},
   "source": [
    "### Случайный лес"
   ]
  },
  {
   "cell_type": "code",
   "execution_count": 49,
   "metadata": {},
   "outputs": [
    {
     "data": {
      "text/plain": [
       "8.408293950759267"
      ]
     },
     "execution_count": 49,
     "metadata": {},
     "output_type": "execute_result"
    }
   ],
   "source": [
    "param_grid = {\n",
    "    'n_estimators': range(10, 101, 10),\n",
    "    'max_depth': [None] + [i for i in range(2, 7)],\n",
    "    'max_features': ['auto', 'sqrt', None],\n",
    "    'max_leaf_nodes': range(10, 51, 10),\n",
    "    'min_samples_split': [2, 5, 10],\n",
    "    'bootstrap': [True, False]\n",
    "}\n",
    "\n",
    "\n",
    "results_rougher_rf = RandomizedSearchCV(RandomForestRegressor(random_state=42),param_grid,scoring=smape_scorer, cv=4, n_jobs=-1)\n",
    "results_rougher_rf.fit(features, target_rougher)\n",
    "\n",
    "results_final_rf = RandomizedSearchCV(RandomForestRegressor(random_state=42),param_grid,scoring=smape_scorer, cv=4, n_jobs=-1)\n",
    "results_final_rf.fit(features, target_final)\n",
    "\n",
    "abs(0.25 * results_rougher_rf.best_score_ + 0.75 * results_final_rf.best_score_)"
   ]
  },
  {
   "cell_type": "markdown",
   "metadata": {},
   "source": [
    "<div class=\"alert alert-success\">\n",
    "    \n",
    "<h2> Комментарий ревьюера <a class=\"tocSkip\"> </h2>\n",
    "\n",
    "<b>Все отлично!👍:</b> Для `RandomForestRegressor` оптимизировали гиперпараметры и вывели оценку на кросс-валидации.\n",
    "</div>"
   ]
  },
  {
   "cell_type": "markdown",
   "metadata": {},
   "source": [
    "<div class=\"alert alert-block alert-danger\">\n",
    "<h2> Комментарий ревьюера <a class=\"tocSkip\"></h2>\n",
    "\n",
    "    \n",
    "<b>На доработку❌:</b> Для гиперапараметра `n_estimators` оценивается очень короткая последовательность: по-настоящему этот алгоритм раскрывается при большом количестве деревьев. При поиске оптимального значения стоит исследовать более широкую последовательность с большим шагом - так шансы найти оптимальное количество деревьев выше, чем исследование короткой последовательности с маленьким шагом.\n",
    "    \n",
    "Также аналогично по `max_depth`."
   ]
  },
  {
   "cell_type": "markdown",
   "metadata": {},
   "source": [
    "<div class=\"alert alert-info\">\n",
    "<h2> Комментарий студента <a class=\"tocSkip\"> </h2>\n",
    "\n",
    "Аналогично для деревьев, пофикшу)\n",
    "</div>"
   ]
  },
  {
   "cell_type": "markdown",
   "metadata": {},
   "source": [
    "<div class=\"alert alert-success\">\n",
    "<h2> Комментарий ревьюера v.2 <a class=\"tocSkip\"> </h2>\n",
    "\n",
    "<b>Все отлично!👍:</b> Учтено."
   ]
  },
  {
   "cell_type": "markdown",
   "metadata": {},
   "source": [
    "Лучшей моделью оказалась модель случайного леса, проверим на тестовой выборке"
   ]
  },
  {
   "cell_type": "markdown",
   "metadata": {},
   "source": [
    "<div class=\"alert alert-success\">\n",
    "    \n",
    "<h2> Комментарий ревьюера <a class=\"tocSkip\"> </h2>\n",
    "\n",
    "<b>Все отлично!👍:</b> Выбрали лучшую модель - отлично!"
   ]
  },
  {
   "cell_type": "code",
   "execution_count": 50,
   "metadata": {},
   "outputs": [],
   "source": [
    "test_rougher = df_test['rougher.output.recovery']\n",
    "test_final = df_test['final.output.recovery']\n",
    "features_test = df_test.drop(['final.output.recovery','rougher.output.recovery', 'date'], axis=1)\n",
    "\n",
    "features_test = scaler.fit_transform(features_test)"
   ]
  },
  {
   "cell_type": "markdown",
   "metadata": {},
   "source": [
    "<div class=\"alert alert-block alert-danger\">\n",
    "<h2> Комментарий ревьюера <a class=\"tocSkip\"></h2>\n",
    "\n",
    "    \n",
    "<b>На доработку❌:</b> Обрати внимание, что `train` признаки были масштабированы, а `test` - нет. Разный масштаб признаков может приводить к ошибкам в работе модели."
   ]
  },
  {
   "cell_type": "markdown",
   "metadata": {},
   "source": [
    "<div class=\"alert alert-info\">\n",
    "<h2> Комментарий студента <a class=\"tocSkip\"> </h2>\n",
    "\n",
    "Пропустил момент, исправил\n",
    "</div>"
   ]
  },
  {
   "cell_type": "markdown",
   "metadata": {},
   "source": [
    "<div class=\"alert alert-success\">\n",
    "<h2> Комментарий ревьюера v.2 <a class=\"tocSkip\"> </h2>\n",
    "\n",
    "<b>Все отлично!👍:</b> Учтено."
   ]
  },
  {
   "cell_type": "code",
   "execution_count": 51,
   "metadata": {},
   "outputs": [
    {
     "data": {
      "text/plain": [
       "6.472837367581688"
      ]
     },
     "execution_count": 51,
     "metadata": {},
     "output_type": "execute_result"
    }
   ],
   "source": [
    "predictions_rougher = results_rougher_rf.predict(features_test)\n",
    "predictions_final = results_final_rf.predict(features_test)\n",
    "\n",
    "score_rougher = smape(test_rougher, predictions_rougher)\n",
    "score_final = smape(test_final, predictions_final)\n",
    "score = 0.25 * score_rougher + 0.75 * score_final\n",
    "abs(score)"
   ]
  },
  {
   "cell_type": "markdown",
   "metadata": {},
   "source": [
    "<div class=\"alert alert-success\">\n",
    "    \n",
    "<h2> Комментарий ревьюера <a class=\"tocSkip\"> </h2>\n",
    "\n",
    "<b>Все отлично!👍:</b> Лучшую модель оценили на `test` - отличный результат!"
   ]
  },
  {
   "cell_type": "markdown",
   "metadata": {},
   "source": [
    "Чтобы понять 7.34 это много или мало, протестируем так же на DummyRegressor"
   ]
  },
  {
   "cell_type": "code",
   "execution_count": 52,
   "metadata": {},
   "outputs": [
    {
     "data": {
      "text/plain": [
       "8.378333674542976"
      ]
     },
     "execution_count": 52,
     "metadata": {},
     "output_type": "execute_result"
    }
   ],
   "source": [
    "dummy_rougher = DummyRegressor(strategy='mean').fit(features, target_rougher)\n",
    "rougher_pred = dummy_rougher.predict(test_rougher)\n",
    "\n",
    "dummy_final = DummyRegressor(strategy='mean').fit(features, target_final)\n",
    "final_pred = dummy_final.predict(test_final)\n",
    "\n",
    "dummy_score = 0.25 * smape(test_rougher, rougher_pred) + 0.75 * smape(test_final, final_pred)\n",
    "dummy_score"
   ]
  },
  {
   "cell_type": "code",
   "execution_count": 53,
   "metadata": {},
   "outputs": [
    {
     "data": {
      "text/plain": [
       "22.743141786665944"
      ]
     },
     "execution_count": 53,
     "metadata": {},
     "output_type": "execute_result"
    }
   ],
   "source": [
    "100 - score/dummy_score * 100"
   ]
  },
  {
   "cell_type": "markdown",
   "metadata": {},
   "source": [
    "К сожалению, наилучшая модель показала разницу всего 0.02% по сравнению с DummyRegressor\n",
    "\n",
    "**upd** после всех манипуляций, наша модель на 12% лучше отрабатывает, чем DummyRegressor"
   ]
  },
  {
   "cell_type": "markdown",
   "metadata": {},
   "source": [
    "<div class=\"alert alert-success\">\n",
    "    \n",
    "<h2> Комментарий ревьюера <a class=\"tocSkip\"> </h2>\n",
    "\n",
    "<b>Все отлично!👍:</b> Есть сравнение лучшей модели с константной - отлично, наше решение адекватно. В ходе устранения замечания, я думаю, разница станет выше:)"
   ]
  },
  {
   "cell_type": "markdown",
   "metadata": {},
   "source": [
    "## Общий вывод\n",
    "\n",
    "В ходе всего проекта была разработана модель, которая должна предсказывать коэффициент восстановления золота из золотосодержащей руды. Лучшим прототипом является модель случайного леса, которую мы проверили на адекватность и результат оказался на 12 процентов лучше"
   ]
  },
  {
   "cell_type": "markdown",
   "metadata": {},
   "source": [
    "<div class=\"alert alert-success\">\n",
    "    \n",
    "<h2> Комментарий ревьюера <a class=\"tocSkip\"> </h2>\n",
    "\n",
    "<b>Все отлично!👍:</b> Небольшой вывод - отлично!"
   ]
  },
  {
   "cell_type": "markdown",
   "metadata": {},
   "source": [
    "<div style=\"border:solid Chocolate 2px; padding: 40px\">\n",
    "\n",
    "# Комментарий ревьюера: общий вывод по проекту.\n",
    "\n",
    "Александр, проект получился на довольно хорошем уровне - отличная работа над проектом, молодец!\n",
    "\n",
    "Мне нравится твой аналитический подход к выполнению проекта, ты соблюдаешь структуру работы, выполняешь её последовательно - это очень хорошо! Шаги проекта выполнены по порядку согласно плану проекта, нет смысловых и структурных ям. Важно, что не забываешь про выводы.\n",
    "\n",
    "Работа с моделями также выполнена отлично: исследовано несколько алгоритмов, проведён подбор гиперпараметров с помощью `GridSearchCV`, выполнена промежуточная оценка моделей на кросс-валидации - молодец!\n",
    "    \n",
    "Над проектом ещё стоит поработать - есть рекомендации по дополнению некоторых твоих шагов проекта. Такие рекомендации я отметил жёлтыми комментариями. Будет здорово, если ты учтёшь их - так проект станет структурно и содержательно более совершенным.\n",
    "    \n",
    "Также в работе есть критические замечания. К этим замечаниям я оставил пояснительные комментарии красного цвета, в которых перечислил возможные варианты дальнейших действий. Уверен, ты быстро с этим управишься:)\n",
    "    \n",
    "Если о том, что нужно сделать в рамках комментариев, будут возникать вопросы - оставь их, пожалуйста, в комментариях, и я отвечу на них во время следующего ревью.\n",
    "    \n",
    "Также буду рад ответить на любые твои вопросы по проекту или на какие-либо другие, если они у тебя имеются - оставь их в комментариях, и я постараюсь ответить:)\n",
    "    \n",
    "Жду твой проект на повторном ревью. До встречи:)"
   ]
  },
  {
   "cell_type": "markdown",
   "metadata": {},
   "source": [
    "<div class=\"alert alert-info\">\n",
    "<h2> Комментарий студента <a class=\"tocSkip\"> </h2>\n",
    "\n",
    "Алексей, спасибо за ревью. Много ошибок, соглашусь, все из-за невнимательности. Получилось очень полезно, если есть еще какие то замечания, буду ждать повторного ревью. От советов тоже не откажусь)\n",
    "</div>"
   ]
  },
  {
   "cell_type": "markdown",
   "metadata": {},
   "source": [
    "<div style=\"border:solid Chocolate 2px; padding: 40px\">\n",
    "\n",
    "# Комментарий ревьюера: общий вывод по проекту v.2.\n",
    "\n",
    "Александр, все замечания учтены - проект принят!\n",
    "    \n",
    "Спасибо за хорошую работу над проектом, желаю успехов в дальнейшем обучении:)"
   ]
  }
 ],
 "metadata": {
  "ExecuteTimeLog": [
   {
    "duration": 79,
    "start_time": "2023-06-26T22:18:27.432Z"
   },
   {
    "duration": 1598,
    "start_time": "2023-06-26T22:18:37.564Z"
   },
   {
    "duration": 3942,
    "start_time": "2023-06-26T22:20:47.820Z"
   },
   {
    "duration": 764,
    "start_time": "2023-06-26T22:20:56.309Z"
   },
   {
    "duration": 750,
    "start_time": "2023-06-26T22:21:58.052Z"
   },
   {
    "duration": 110,
    "start_time": "2023-06-26T22:22:32.152Z"
   },
   {
    "duration": 248,
    "start_time": "2023-06-26T22:23:50.937Z"
   },
   {
    "duration": 22,
    "start_time": "2023-06-26T22:26:34.536Z"
   },
   {
    "duration": 129,
    "start_time": "2023-06-26T22:26:37.613Z"
   },
   {
    "duration": 228,
    "start_time": "2023-06-26T22:27:03.840Z"
   },
   {
    "duration": 70,
    "start_time": "2023-06-30T12:32:38.913Z"
   },
   {
    "duration": 2257,
    "start_time": "2023-06-30T12:32:48.579Z"
   },
   {
    "duration": 5071,
    "start_time": "2023-06-30T12:32:50.838Z"
   },
   {
    "duration": 22,
    "start_time": "2023-06-30T12:32:55.910Z"
   },
   {
    "duration": 302,
    "start_time": "2023-06-30T12:32:55.934Z"
   },
   {
    "duration": 194,
    "start_time": "2023-06-30T12:32:56.238Z"
   },
   {
    "duration": 294,
    "start_time": "2023-06-30T12:33:22.728Z"
   },
   {
    "duration": 45,
    "start_time": "2023-06-30T12:33:59.748Z"
   },
   {
    "duration": 110,
    "start_time": "2023-06-30T12:34:30.217Z"
   },
   {
    "duration": 42,
    "start_time": "2023-06-30T12:34:45.696Z"
   },
   {
    "duration": 82,
    "start_time": "2023-06-30T12:43:51.346Z"
   },
   {
    "duration": 280,
    "start_time": "2023-06-30T13:49:02.644Z"
   },
   {
    "duration": 28,
    "start_time": "2023-06-30T13:49:29.548Z"
   },
   {
    "duration": 36,
    "start_time": "2023-06-30T13:49:59.914Z"
   },
   {
    "duration": 27,
    "start_time": "2023-06-30T13:50:25.320Z"
   },
   {
    "duration": 159,
    "start_time": "2023-06-30T13:50:48.752Z"
   },
   {
    "duration": 21,
    "start_time": "2023-06-30T13:50:57.204Z"
   },
   {
    "duration": 22,
    "start_time": "2023-06-30T13:51:00.701Z"
   },
   {
    "duration": 35,
    "start_time": "2023-06-30T13:51:04.006Z"
   },
   {
    "duration": 156,
    "start_time": "2023-06-30T13:51:44.686Z"
   },
   {
    "duration": 39,
    "start_time": "2023-06-30T13:51:56.183Z"
   },
   {
    "duration": 22,
    "start_time": "2023-06-30T13:52:08.241Z"
   },
   {
    "duration": 4,
    "start_time": "2023-07-01T00:07:58.221Z"
   },
   {
    "duration": 300,
    "start_time": "2023-07-01T00:08:01.961Z"
   },
   {
    "duration": 66,
    "start_time": "2023-07-01T00:08:08.028Z"
   },
   {
    "duration": 24,
    "start_time": "2023-07-01T00:08:15.086Z"
   },
   {
    "duration": 251,
    "start_time": "2023-07-01T00:08:17.674Z"
   },
   {
    "duration": 66,
    "start_time": "2023-07-01T00:08:19.162Z"
   },
   {
    "duration": 21,
    "start_time": "2023-07-01T00:08:22.330Z"
   },
   {
    "duration": 134,
    "start_time": "2023-07-01T00:08:24.559Z"
   },
   {
    "duration": 39,
    "start_time": "2023-07-01T00:08:36.756Z"
   },
   {
    "duration": 15,
    "start_time": "2023-07-01T00:08:38.850Z"
   },
   {
    "duration": 3,
    "start_time": "2023-07-01T00:35:41.942Z"
   },
   {
    "duration": 127,
    "start_time": "2023-07-01T00:48:00.518Z"
   },
   {
    "duration": 166,
    "start_time": "2023-07-01T00:48:36.938Z"
   },
   {
    "duration": 4,
    "start_time": "2023-07-01T00:52:35.725Z"
   },
   {
    "duration": 5,
    "start_time": "2023-07-01T00:53:44.992Z"
   },
   {
    "duration": 87,
    "start_time": "2023-07-01T01:07:11.460Z"
   },
   {
    "duration": 111,
    "start_time": "2023-07-01T01:07:24.252Z"
   },
   {
    "duration": 20,
    "start_time": "2023-07-01T01:07:35.762Z"
   },
   {
    "duration": 26,
    "start_time": "2023-07-01T01:19:35.282Z"
   },
   {
    "duration": 7,
    "start_time": "2023-07-01T01:20:02.507Z"
   },
   {
    "duration": 7,
    "start_time": "2023-07-01T01:20:25.355Z"
   },
   {
    "duration": 6,
    "start_time": "2023-07-01T01:21:01.497Z"
   },
   {
    "duration": 1400,
    "start_time": "2023-07-01T01:23:12.648Z"
   },
   {
    "duration": 739,
    "start_time": "2023-07-01T01:23:14.051Z"
   },
   {
    "duration": 288,
    "start_time": "2023-07-01T01:23:14.792Z"
   },
   {
    "duration": 62,
    "start_time": "2023-07-01T01:23:15.081Z"
   },
   {
    "duration": 66,
    "start_time": "2023-07-01T01:23:15.146Z"
   },
   {
    "duration": 119,
    "start_time": "2023-07-01T01:23:15.213Z"
   },
   {
    "duration": 8,
    "start_time": "2023-07-01T01:23:15.333Z"
   },
   {
    "duration": 264,
    "start_time": "2023-07-01T01:23:15.343Z"
   },
   {
    "duration": 77,
    "start_time": "2023-07-01T01:23:15.609Z"
   },
   {
    "duration": 22,
    "start_time": "2023-07-01T01:23:15.688Z"
   },
   {
    "duration": 149,
    "start_time": "2023-07-01T01:23:15.712Z"
   },
   {
    "duration": 8,
    "start_time": "2023-07-01T01:23:15.863Z"
   },
   {
    "duration": 155,
    "start_time": "2023-07-01T01:23:15.873Z"
   },
   {
    "duration": 60,
    "start_time": "2023-07-01T01:23:16.032Z"
   },
   {
    "duration": 17,
    "start_time": "2023-07-01T01:23:16.094Z"
   },
   {
    "duration": 47,
    "start_time": "2023-07-01T01:23:16.113Z"
   },
   {
    "duration": 7,
    "start_time": "2023-07-01T01:23:16.162Z"
   },
   {
    "duration": 3,
    "start_time": "2023-07-01T01:23:16.171Z"
   },
   {
    "duration": 189,
    "start_time": "2023-07-01T01:23:16.175Z"
   },
   {
    "duration": 6,
    "start_time": "2023-07-01T01:23:16.366Z"
   },
   {
    "duration": 104,
    "start_time": "2023-07-01T01:35:25.370Z"
   },
   {
    "duration": 8,
    "start_time": "2023-07-01T01:35:34.242Z"
   },
   {
    "duration": 16,
    "start_time": "2023-07-01T01:35:41.724Z"
   },
   {
    "duration": 14,
    "start_time": "2023-07-01T01:36:00.548Z"
   },
   {
    "duration": 1383,
    "start_time": "2023-07-01T01:36:07.988Z"
   },
   {
    "duration": 714,
    "start_time": "2023-07-01T01:36:09.372Z"
   },
   {
    "duration": 280,
    "start_time": "2023-07-01T01:36:10.088Z"
   },
   {
    "duration": 63,
    "start_time": "2023-07-01T01:36:10.370Z"
   },
   {
    "duration": 68,
    "start_time": "2023-07-01T01:36:10.435Z"
   },
   {
    "duration": 102,
    "start_time": "2023-07-01T01:36:10.504Z"
   },
   {
    "duration": 7,
    "start_time": "2023-07-01T01:36:10.608Z"
   },
   {
    "duration": 71,
    "start_time": "2023-07-01T01:36:10.616Z"
   },
   {
    "duration": 248,
    "start_time": "2023-07-01T01:36:10.688Z"
   },
   {
    "duration": 66,
    "start_time": "2023-07-01T01:36:10.938Z"
   },
   {
    "duration": 44,
    "start_time": "2023-07-01T01:36:11.005Z"
   },
   {
    "duration": 120,
    "start_time": "2023-07-01T01:36:11.050Z"
   },
   {
    "duration": 7,
    "start_time": "2023-07-01T01:36:11.172Z"
   },
   {
    "duration": 147,
    "start_time": "2023-07-01T01:36:11.181Z"
   },
   {
    "duration": 47,
    "start_time": "2023-07-01T01:36:11.329Z"
   },
   {
    "duration": 16,
    "start_time": "2023-07-01T01:36:11.378Z"
   },
   {
    "duration": 21,
    "start_time": "2023-07-01T01:36:11.395Z"
   },
   {
    "duration": 6,
    "start_time": "2023-07-01T01:36:11.417Z"
   },
   {
    "duration": 35,
    "start_time": "2023-07-01T01:36:11.424Z"
   },
   {
    "duration": 178,
    "start_time": "2023-07-01T01:36:11.461Z"
   },
   {
    "duration": 5,
    "start_time": "2023-07-01T01:36:11.640Z"
   },
   {
    "duration": 107,
    "start_time": "2023-07-01T01:36:36.913Z"
   },
   {
    "duration": 1406,
    "start_time": "2023-07-01T01:36:46.127Z"
   },
   {
    "duration": 711,
    "start_time": "2023-07-01T01:36:47.535Z"
   },
   {
    "duration": 268,
    "start_time": "2023-07-01T01:36:48.248Z"
   },
   {
    "duration": 75,
    "start_time": "2023-07-01T01:36:48.518Z"
   },
   {
    "duration": 66,
    "start_time": "2023-07-01T01:36:48.595Z"
   },
   {
    "duration": 105,
    "start_time": "2023-07-01T01:36:48.662Z"
   },
   {
    "duration": 7,
    "start_time": "2023-07-01T01:36:48.768Z"
   },
   {
    "duration": 7,
    "start_time": "2023-07-01T01:36:48.776Z"
   },
   {
    "duration": 262,
    "start_time": "2023-07-01T01:36:48.784Z"
   },
   {
    "duration": 69,
    "start_time": "2023-07-01T01:36:49.047Z"
   },
   {
    "duration": 25,
    "start_time": "2023-07-01T01:36:49.117Z"
   },
   {
    "duration": 140,
    "start_time": "2023-07-01T01:36:49.143Z"
   },
   {
    "duration": 8,
    "start_time": "2023-07-01T01:36:49.285Z"
   },
   {
    "duration": 149,
    "start_time": "2023-07-01T01:36:49.296Z"
   },
   {
    "duration": 52,
    "start_time": "2023-07-01T01:36:49.447Z"
   },
   {
    "duration": 19,
    "start_time": "2023-07-01T01:36:49.501Z"
   },
   {
    "duration": 42,
    "start_time": "2023-07-01T01:36:49.521Z"
   },
   {
    "duration": 6,
    "start_time": "2023-07-01T01:36:49.564Z"
   },
   {
    "duration": 4,
    "start_time": "2023-07-01T01:36:49.571Z"
   },
   {
    "duration": 177,
    "start_time": "2023-07-01T01:36:49.576Z"
   },
   {
    "duration": 4,
    "start_time": "2023-07-01T01:36:49.759Z"
   },
   {
    "duration": 103,
    "start_time": "2023-07-01T01:37:06.044Z"
   },
   {
    "duration": 17,
    "start_time": "2023-07-01T01:37:10.813Z"
   },
   {
    "duration": 6,
    "start_time": "2023-07-01T01:37:41.277Z"
   },
   {
    "duration": 16,
    "start_time": "2023-07-01T01:37:41.352Z"
   },
   {
    "duration": 5,
    "start_time": "2023-07-01T01:38:10.898Z"
   },
   {
    "duration": 1392,
    "start_time": "2023-07-01T01:38:16.158Z"
   },
   {
    "duration": 716,
    "start_time": "2023-07-01T01:38:17.552Z"
   },
   {
    "duration": 279,
    "start_time": "2023-07-01T01:38:18.269Z"
   },
   {
    "duration": 74,
    "start_time": "2023-07-01T01:38:18.550Z"
   },
   {
    "duration": 76,
    "start_time": "2023-07-01T01:38:18.626Z"
   },
   {
    "duration": 104,
    "start_time": "2023-07-01T01:38:18.703Z"
   },
   {
    "duration": 7,
    "start_time": "2023-07-01T01:38:18.809Z"
   },
   {
    "duration": 7,
    "start_time": "2023-07-01T01:38:18.818Z"
   },
   {
    "duration": 279,
    "start_time": "2023-07-01T01:38:18.826Z"
   },
   {
    "duration": 82,
    "start_time": "2023-07-01T01:38:19.108Z"
   },
   {
    "duration": 20,
    "start_time": "2023-07-01T01:38:19.192Z"
   },
   {
    "duration": 150,
    "start_time": "2023-07-01T01:38:19.214Z"
   },
   {
    "duration": 7,
    "start_time": "2023-07-01T01:38:19.366Z"
   },
   {
    "duration": 9,
    "start_time": "2023-07-01T01:38:19.375Z"
   },
   {
    "duration": 161,
    "start_time": "2023-07-01T01:38:19.385Z"
   },
   {
    "duration": 44,
    "start_time": "2023-07-01T01:38:19.547Z"
   },
   {
    "duration": 14,
    "start_time": "2023-07-01T01:38:19.593Z"
   },
   {
    "duration": 21,
    "start_time": "2023-07-01T01:38:19.609Z"
   },
   {
    "duration": 30,
    "start_time": "2023-07-01T01:38:19.632Z"
   },
   {
    "duration": 14,
    "start_time": "2023-07-01T01:38:19.664Z"
   },
   {
    "duration": 5,
    "start_time": "2023-07-01T01:38:19.680Z"
   },
   {
    "duration": 174,
    "start_time": "2023-07-01T01:38:19.686Z"
   },
   {
    "duration": 5,
    "start_time": "2023-07-01T01:38:19.862Z"
   },
   {
    "duration": 104,
    "start_time": "2023-07-01T03:53:54.626Z"
   },
   {
    "duration": 6,
    "start_time": "2023-07-01T03:54:07.215Z"
   },
   {
    "duration": 1468,
    "start_time": "2023-07-01T03:58:08.160Z"
   },
   {
    "duration": 1668,
    "start_time": "2023-07-01T03:58:58.017Z"
   },
   {
    "duration": 1465,
    "start_time": "2023-07-01T03:59:07.831Z"
   },
   {
    "duration": 1397,
    "start_time": "2023-07-01T03:59:33.298Z"
   },
   {
    "duration": 2435,
    "start_time": "2023-07-01T04:01:03.077Z"
   },
   {
    "duration": 730,
    "start_time": "2023-07-01T04:01:34.667Z"
   },
   {
    "duration": 780,
    "start_time": "2023-07-01T04:01:43.115Z"
   },
   {
    "duration": 730,
    "start_time": "2023-07-01T04:01:48.782Z"
   },
   {
    "duration": 13,
    "start_time": "2023-07-01T04:14:12.292Z"
   },
   {
    "duration": 26,
    "start_time": "2023-07-01T04:14:48.353Z"
   },
   {
    "duration": 18,
    "start_time": "2023-07-01T04:16:55.414Z"
   },
   {
    "duration": 393,
    "start_time": "2023-07-01T04:17:15.807Z"
   },
   {
    "duration": 270,
    "start_time": "2023-07-01T04:17:22.505Z"
   },
   {
    "duration": 298,
    "start_time": "2023-07-01T04:19:39.777Z"
   },
   {
    "duration": 287,
    "start_time": "2023-07-01T04:19:47.496Z"
   },
   {
    "duration": 262,
    "start_time": "2023-07-01T04:20:05.419Z"
   },
   {
    "duration": 291,
    "start_time": "2023-07-01T04:20:09.789Z"
   },
   {
    "duration": 300,
    "start_time": "2023-07-01T04:20:18.532Z"
   },
   {
    "duration": 256,
    "start_time": "2023-07-01T04:21:10.514Z"
   },
   {
    "duration": 267,
    "start_time": "2023-07-01T04:21:20.664Z"
   },
   {
    "duration": 313,
    "start_time": "2023-07-01T04:21:28.451Z"
   },
   {
    "duration": 294,
    "start_time": "2023-07-01T04:21:33.730Z"
   },
   {
    "duration": 323,
    "start_time": "2023-07-01T04:21:43.841Z"
   },
   {
    "duration": 303,
    "start_time": "2023-07-01T04:22:01.244Z"
   },
   {
    "duration": 269,
    "start_time": "2023-07-01T04:22:06.972Z"
   },
   {
    "duration": 382,
    "start_time": "2023-07-01T04:22:10.064Z"
   },
   {
    "duration": 254,
    "start_time": "2023-07-01T04:22:23.586Z"
   },
   {
    "duration": 285,
    "start_time": "2023-07-01T04:25:31.389Z"
   },
   {
    "duration": 282,
    "start_time": "2023-07-01T04:25:41.387Z"
   },
   {
    "duration": 11,
    "start_time": "2023-07-01T04:26:21.872Z"
   },
   {
    "duration": 377,
    "start_time": "2023-07-01T04:28:50.558Z"
   },
   {
    "duration": 379,
    "start_time": "2023-07-01T04:29:01.155Z"
   },
   {
    "duration": 360,
    "start_time": "2023-07-01T04:29:29.862Z"
   },
   {
    "duration": 363,
    "start_time": "2023-07-01T04:29:48.435Z"
   },
   {
    "duration": 355,
    "start_time": "2023-07-01T04:29:54.988Z"
   },
   {
    "duration": 368,
    "start_time": "2023-07-01T04:30:01.164Z"
   },
   {
    "duration": 370,
    "start_time": "2023-07-01T04:30:55.669Z"
   },
   {
    "duration": 348,
    "start_time": "2023-07-01T04:31:01.775Z"
   },
   {
    "duration": 336,
    "start_time": "2023-07-01T04:31:09.398Z"
   },
   {
    "duration": 363,
    "start_time": "2023-07-01T04:31:13.930Z"
   },
   {
    "duration": 311,
    "start_time": "2023-07-01T04:31:48.004Z"
   },
   {
    "duration": 355,
    "start_time": "2023-07-01T04:32:11.566Z"
   },
   {
    "duration": 10,
    "start_time": "2023-07-01T04:57:40.014Z"
   },
   {
    "duration": 5,
    "start_time": "2023-07-01T04:57:53.724Z"
   },
   {
    "duration": 4,
    "start_time": "2023-07-01T04:58:05.189Z"
   },
   {
    "duration": 4,
    "start_time": "2023-07-01T04:58:15.833Z"
   },
   {
    "duration": 395,
    "start_time": "2023-07-01T05:18:16.414Z"
   },
   {
    "duration": 639,
    "start_time": "2023-07-01T05:18:20.801Z"
   },
   {
    "duration": 894,
    "start_time": "2023-07-01T05:18:27.227Z"
   },
   {
    "duration": 356,
    "start_time": "2023-07-01T05:18:35.371Z"
   },
   {
    "duration": 540,
    "start_time": "2023-07-01T05:20:23.606Z"
   },
   {
    "duration": 365,
    "start_time": "2023-07-01T05:20:30.577Z"
   },
   {
    "duration": 15,
    "start_time": "2023-07-01T05:20:52.421Z"
   },
   {
    "duration": 397,
    "start_time": "2023-07-01T05:20:59.520Z"
   },
   {
    "duration": 204,
    "start_time": "2023-07-01T05:21:17.533Z"
   },
   {
    "duration": 347,
    "start_time": "2023-07-01T05:22:01.594Z"
   },
   {
    "duration": 812,
    "start_time": "2023-07-01T05:22:32.808Z"
   },
   {
    "duration": 1458,
    "start_time": "2023-07-01T05:26:26.660Z"
   },
   {
    "duration": 763,
    "start_time": "2023-07-01T05:26:28.120Z"
   },
   {
    "duration": 5,
    "start_time": "2023-07-01T05:26:28.884Z"
   },
   {
    "duration": 305,
    "start_time": "2023-07-01T05:26:28.891Z"
   },
   {
    "duration": 88,
    "start_time": "2023-07-01T05:26:29.197Z"
   },
   {
    "duration": 58,
    "start_time": "2023-07-01T05:26:29.287Z"
   },
   {
    "duration": 108,
    "start_time": "2023-07-01T05:26:29.360Z"
   },
   {
    "duration": 10,
    "start_time": "2023-07-01T05:26:29.470Z"
   },
   {
    "duration": 9,
    "start_time": "2023-07-01T05:26:29.481Z"
   },
   {
    "duration": 7,
    "start_time": "2023-07-01T05:26:29.492Z"
   },
   {
    "duration": 287,
    "start_time": "2023-07-01T05:26:29.500Z"
   },
   {
    "duration": 84,
    "start_time": "2023-07-01T05:26:29.789Z"
   },
   {
    "duration": 23,
    "start_time": "2023-07-01T05:26:29.875Z"
   },
   {
    "duration": 160,
    "start_time": "2023-07-01T05:26:29.900Z"
   },
   {
    "duration": 7,
    "start_time": "2023-07-01T05:26:30.062Z"
   },
   {
    "duration": 58,
    "start_time": "2023-07-01T05:26:30.071Z"
   },
   {
    "duration": 31,
    "start_time": "2023-07-01T05:26:30.131Z"
   },
   {
    "duration": 186,
    "start_time": "2023-07-01T05:26:30.164Z"
   },
   {
    "duration": 50,
    "start_time": "2023-07-01T05:26:30.352Z"
   },
   {
    "duration": 43,
    "start_time": "2023-07-01T05:26:30.404Z"
   },
   {
    "duration": 47,
    "start_time": "2023-07-01T05:26:30.449Z"
   },
   {
    "duration": 26,
    "start_time": "2023-07-01T05:26:30.498Z"
   },
   {
    "duration": 41,
    "start_time": "2023-07-01T05:26:30.526Z"
   },
   {
    "duration": 44,
    "start_time": "2023-07-01T05:26:30.569Z"
   },
   {
    "duration": 209,
    "start_time": "2023-07-01T05:26:30.615Z"
   },
   {
    "duration": 6,
    "start_time": "2023-07-01T05:26:30.826Z"
   },
   {
    "duration": 35,
    "start_time": "2023-07-01T05:26:30.834Z"
   },
   {
    "duration": 843,
    "start_time": "2023-07-01T05:26:30.872Z"
   },
   {
    "duration": 883,
    "start_time": "2023-07-01T05:26:31.716Z"
   },
   {
    "duration": 813,
    "start_time": "2023-07-01T05:26:32.600Z"
   },
   {
    "duration": 375,
    "start_time": "2023-07-01T05:26:33.415Z"
   },
   {
    "duration": 361,
    "start_time": "2023-07-01T05:26:33.792Z"
   },
   {
    "duration": 8,
    "start_time": "2023-07-01T05:26:34.154Z"
   },
   {
    "duration": 209,
    "start_time": "2023-07-01T05:26:34.164Z"
   },
   {
    "duration": 330,
    "start_time": "2023-07-01T05:26:34.375Z"
   },
   {
    "duration": 767,
    "start_time": "2023-07-01T05:26:34.707Z"
   },
   {
    "duration": 107,
    "start_time": "2023-07-01T05:52:07.620Z"
   },
   {
    "duration": 11,
    "start_time": "2023-07-01T05:52:21.088Z"
   },
   {
    "duration": 650,
    "start_time": "2023-07-01T05:52:31.660Z"
   },
   {
    "duration": 1345,
    "start_time": "2023-07-01T05:52:50.508Z"
   },
   {
    "duration": 734,
    "start_time": "2023-07-01T05:52:51.855Z"
   },
   {
    "duration": 5,
    "start_time": "2023-07-01T05:52:52.593Z"
   },
   {
    "duration": 304,
    "start_time": "2023-07-01T05:52:52.600Z"
   },
   {
    "duration": 86,
    "start_time": "2023-07-01T05:52:52.907Z"
   },
   {
    "duration": 75,
    "start_time": "2023-07-01T05:52:52.995Z"
   },
   {
    "duration": 117,
    "start_time": "2023-07-01T05:52:53.072Z"
   },
   {
    "duration": 9,
    "start_time": "2023-07-01T05:52:53.191Z"
   },
   {
    "duration": 8,
    "start_time": "2023-07-01T05:52:53.204Z"
   },
   {
    "duration": 6,
    "start_time": "2023-07-01T05:52:53.214Z"
   },
   {
    "duration": 310,
    "start_time": "2023-07-01T05:52:53.222Z"
   },
   {
    "duration": 79,
    "start_time": "2023-07-01T05:52:53.534Z"
   },
   {
    "duration": 22,
    "start_time": "2023-07-01T05:52:53.615Z"
   },
   {
    "duration": 134,
    "start_time": "2023-07-01T05:52:53.660Z"
   },
   {
    "duration": 8,
    "start_time": "2023-07-01T05:52:53.796Z"
   },
   {
    "duration": 7,
    "start_time": "2023-07-01T05:52:53.806Z"
   },
   {
    "duration": 5,
    "start_time": "2023-07-01T05:52:53.815Z"
   },
   {
    "duration": 179,
    "start_time": "2023-07-01T05:52:53.822Z"
   },
   {
    "duration": 64,
    "start_time": "2023-07-01T05:52:54.003Z"
   },
   {
    "duration": 22,
    "start_time": "2023-07-01T05:52:54.069Z"
   },
   {
    "duration": 29,
    "start_time": "2023-07-01T05:52:54.093Z"
   },
   {
    "duration": 37,
    "start_time": "2023-07-01T05:52:54.124Z"
   },
   {
    "duration": 5,
    "start_time": "2023-07-01T05:52:54.163Z"
   },
   {
    "duration": 12,
    "start_time": "2023-07-01T05:52:54.169Z"
   },
   {
    "duration": 180,
    "start_time": "2023-07-01T05:52:54.183Z"
   },
   {
    "duration": 5,
    "start_time": "2023-07-01T05:52:54.365Z"
   },
   {
    "duration": 7,
    "start_time": "2023-07-01T05:52:54.372Z"
   },
   {
    "duration": 828,
    "start_time": "2023-07-01T05:52:54.381Z"
   },
   {
    "duration": 891,
    "start_time": "2023-07-01T05:52:55.211Z"
   },
   {
    "duration": 801,
    "start_time": "2023-07-01T05:52:56.105Z"
   },
   {
    "duration": 326,
    "start_time": "2023-07-01T05:52:56.907Z"
   },
   {
    "duration": 394,
    "start_time": "2023-07-01T05:52:57.235Z"
   },
   {
    "duration": 7,
    "start_time": "2023-07-01T05:52:57.631Z"
   },
   {
    "duration": 229,
    "start_time": "2023-07-01T05:52:57.640Z"
   },
   {
    "duration": 354,
    "start_time": "2023-07-01T05:52:57.871Z"
   },
   {
    "duration": 791,
    "start_time": "2023-07-01T05:52:58.227Z"
   },
   {
    "duration": 11,
    "start_time": "2023-07-01T05:52:59.020Z"
   },
   {
    "duration": 695,
    "start_time": "2023-07-01T05:52:59.033Z"
   },
   {
    "duration": 447,
    "start_time": "2023-07-01T05:53:17.589Z"
   },
   {
    "duration": 7,
    "start_time": "2023-07-01T05:54:28.842Z"
   },
   {
    "duration": 322,
    "start_time": "2023-07-01T05:54:29.737Z"
   },
   {
    "duration": 642,
    "start_time": "2023-07-01T05:54:32.481Z"
   },
   {
    "duration": 11,
    "start_time": "2023-07-01T05:54:50.991Z"
   },
   {
    "duration": 3,
    "start_time": "2023-07-01T06:06:29.205Z"
   },
   {
    "duration": 3,
    "start_time": "2023-07-01T06:06:44.818Z"
   },
   {
    "duration": 4,
    "start_time": "2023-07-01T06:08:50.174Z"
   },
   {
    "duration": 1417,
    "start_time": "2023-07-01T06:30:56.616Z"
   },
   {
    "duration": 785,
    "start_time": "2023-07-01T06:30:58.036Z"
   },
   {
    "duration": 5,
    "start_time": "2023-07-01T06:30:58.823Z"
   },
   {
    "duration": 292,
    "start_time": "2023-07-01T06:30:58.830Z"
   },
   {
    "duration": 81,
    "start_time": "2023-07-01T06:30:59.125Z"
   },
   {
    "duration": 91,
    "start_time": "2023-07-01T06:30:59.208Z"
   },
   {
    "duration": 118,
    "start_time": "2023-07-01T06:30:59.301Z"
   },
   {
    "duration": 9,
    "start_time": "2023-07-01T06:30:59.422Z"
   },
   {
    "duration": 3,
    "start_time": "2023-07-01T06:30:59.433Z"
   },
   {
    "duration": 22,
    "start_time": "2023-07-01T06:30:59.438Z"
   },
   {
    "duration": 273,
    "start_time": "2023-07-01T06:30:59.462Z"
   },
   {
    "duration": 74,
    "start_time": "2023-07-01T06:30:59.737Z"
   },
   {
    "duration": 21,
    "start_time": "2023-07-01T06:30:59.813Z"
   },
   {
    "duration": 129,
    "start_time": "2023-07-01T06:30:59.858Z"
   },
   {
    "duration": 7,
    "start_time": "2023-07-01T06:30:59.989Z"
   },
   {
    "duration": 2,
    "start_time": "2023-07-01T06:30:59.998Z"
   },
   {
    "duration": 53,
    "start_time": "2023-07-01T06:31:00.002Z"
   },
   {
    "duration": 178,
    "start_time": "2023-07-01T06:31:00.056Z"
   },
   {
    "duration": 51,
    "start_time": "2023-07-01T06:31:00.236Z"
   },
   {
    "duration": 19,
    "start_time": "2023-07-01T06:31:00.288Z"
   },
   {
    "duration": 37,
    "start_time": "2023-07-01T06:31:00.309Z"
   },
   {
    "duration": 16,
    "start_time": "2023-07-01T06:31:00.359Z"
   },
   {
    "duration": 29,
    "start_time": "2023-07-01T06:31:00.377Z"
   },
   {
    "duration": 26,
    "start_time": "2023-07-01T06:31:00.408Z"
   },
   {
    "duration": 219,
    "start_time": "2023-07-01T06:31:00.436Z"
   },
   {
    "duration": 6,
    "start_time": "2023-07-01T06:31:00.659Z"
   },
   {
    "duration": 44,
    "start_time": "2023-07-01T06:31:00.666Z"
   },
   {
    "duration": 800,
    "start_time": "2023-07-01T06:31:00.712Z"
   },
   {
    "duration": 890,
    "start_time": "2023-07-01T06:31:01.514Z"
   },
   {
    "duration": 800,
    "start_time": "2023-07-01T06:31:02.406Z"
   },
   {
    "duration": 328,
    "start_time": "2023-07-01T06:31:03.208Z"
   },
   {
    "duration": 380,
    "start_time": "2023-07-01T06:31:03.538Z"
   },
   {
    "duration": 7,
    "start_time": "2023-07-01T06:31:03.919Z"
   },
   {
    "duration": 245,
    "start_time": "2023-07-01T06:31:03.928Z"
   },
   {
    "duration": 339,
    "start_time": "2023-07-01T06:31:04.175Z"
   },
   {
    "duration": 781,
    "start_time": "2023-07-01T06:31:04.516Z"
   },
   {
    "duration": 11,
    "start_time": "2023-07-01T06:31:05.299Z"
   },
   {
    "duration": 11,
    "start_time": "2023-07-01T06:31:05.311Z"
   },
   {
    "duration": 7,
    "start_time": "2023-07-01T06:31:55.862Z"
   },
   {
    "duration": 31,
    "start_time": "2023-07-01T06:35:17.009Z"
   },
   {
    "duration": 3,
    "start_time": "2023-07-01T06:35:21.446Z"
   },
   {
    "duration": 5,
    "start_time": "2023-07-01T06:35:24.941Z"
   },
   {
    "duration": 14,
    "start_time": "2023-07-01T06:36:05.059Z"
   },
   {
    "duration": 1454,
    "start_time": "2023-07-01T06:39:06.653Z"
   },
   {
    "duration": 751,
    "start_time": "2023-07-01T06:39:08.109Z"
   },
   {
    "duration": 5,
    "start_time": "2023-07-01T06:39:08.862Z"
   },
   {
    "duration": 309,
    "start_time": "2023-07-01T06:39:08.869Z"
   },
   {
    "duration": 89,
    "start_time": "2023-07-01T06:39:09.179Z"
   },
   {
    "duration": 62,
    "start_time": "2023-07-01T06:39:09.269Z"
   },
   {
    "duration": 128,
    "start_time": "2023-07-01T06:39:09.332Z"
   },
   {
    "duration": 9,
    "start_time": "2023-07-01T06:39:09.462Z"
   },
   {
    "duration": 11,
    "start_time": "2023-07-01T06:39:09.473Z"
   },
   {
    "duration": 275,
    "start_time": "2023-07-01T06:39:09.487Z"
   },
   {
    "duration": 70,
    "start_time": "2023-07-01T06:39:09.763Z"
   },
   {
    "duration": 44,
    "start_time": "2023-07-01T06:39:09.835Z"
   },
   {
    "duration": 138,
    "start_time": "2023-07-01T06:39:09.881Z"
   },
   {
    "duration": 8,
    "start_time": "2023-07-01T06:39:10.020Z"
   },
   {
    "duration": 32,
    "start_time": "2023-07-01T06:39:10.029Z"
   },
   {
    "duration": 40,
    "start_time": "2023-07-01T06:39:10.062Z"
   },
   {
    "duration": 156,
    "start_time": "2023-07-01T06:39:10.103Z"
   },
   {
    "duration": 46,
    "start_time": "2023-07-01T06:39:10.260Z"
   },
   {
    "duration": 18,
    "start_time": "2023-07-01T06:39:10.307Z"
   },
   {
    "duration": 51,
    "start_time": "2023-07-01T06:39:10.326Z"
   },
   {
    "duration": 6,
    "start_time": "2023-07-01T06:39:10.379Z"
   },
   {
    "duration": 42,
    "start_time": "2023-07-01T06:39:10.387Z"
   },
   {
    "duration": 10,
    "start_time": "2023-07-01T06:39:10.431Z"
   },
   {
    "duration": 16,
    "start_time": "2023-07-01T06:39:10.443Z"
   },
   {
    "duration": 197,
    "start_time": "2023-07-01T06:39:10.461Z"
   },
   {
    "duration": 4,
    "start_time": "2023-07-01T06:39:10.660Z"
   },
   {
    "duration": 19,
    "start_time": "2023-07-01T06:39:10.666Z"
   },
   {
    "duration": 829,
    "start_time": "2023-07-01T06:39:10.688Z"
   },
   {
    "duration": 883,
    "start_time": "2023-07-01T06:39:11.519Z"
   },
   {
    "duration": 808,
    "start_time": "2023-07-01T06:39:12.404Z"
   },
   {
    "duration": 313,
    "start_time": "2023-07-01T06:39:13.214Z"
   },
   {
    "duration": 321,
    "start_time": "2023-07-01T06:39:13.529Z"
   },
   {
    "duration": 6,
    "start_time": "2023-07-01T06:39:13.859Z"
   },
   {
    "duration": 243,
    "start_time": "2023-07-01T06:39:13.866Z"
   },
   {
    "duration": 349,
    "start_time": "2023-07-01T06:39:14.110Z"
   },
   {
    "duration": 772,
    "start_time": "2023-07-01T06:39:14.461Z"
   },
   {
    "duration": 11,
    "start_time": "2023-07-01T06:39:15.235Z"
   },
   {
    "duration": 14,
    "start_time": "2023-07-01T06:39:15.247Z"
   },
   {
    "duration": 5,
    "start_time": "2023-07-01T06:48:55.674Z"
   },
   {
    "duration": 1398,
    "start_time": "2023-07-01T06:49:13.576Z"
   },
   {
    "duration": 765,
    "start_time": "2023-07-01T06:49:14.975Z"
   },
   {
    "duration": 6,
    "start_time": "2023-07-01T06:49:15.741Z"
   },
   {
    "duration": 321,
    "start_time": "2023-07-01T06:49:15.748Z"
   },
   {
    "duration": 90,
    "start_time": "2023-07-01T06:49:16.071Z"
   },
   {
    "duration": 62,
    "start_time": "2023-07-01T06:49:16.163Z"
   },
   {
    "duration": 124,
    "start_time": "2023-07-01T06:49:16.226Z"
   },
   {
    "duration": 10,
    "start_time": "2023-07-01T06:49:16.358Z"
   },
   {
    "duration": 10,
    "start_time": "2023-07-01T06:49:16.370Z"
   },
   {
    "duration": 292,
    "start_time": "2023-07-01T06:49:16.382Z"
   },
   {
    "duration": 88,
    "start_time": "2023-07-01T06:49:16.677Z"
   },
   {
    "duration": 23,
    "start_time": "2023-07-01T06:49:16.767Z"
   },
   {
    "duration": 155,
    "start_time": "2023-07-01T06:49:16.792Z"
   },
   {
    "duration": 8,
    "start_time": "2023-07-01T06:49:16.951Z"
   },
   {
    "duration": 9,
    "start_time": "2023-07-01T06:49:16.961Z"
   },
   {
    "duration": 23,
    "start_time": "2023-07-01T06:49:16.972Z"
   },
   {
    "duration": 157,
    "start_time": "2023-07-01T06:49:16.997Z"
   },
   {
    "duration": 46,
    "start_time": "2023-07-01T06:49:17.158Z"
   },
   {
    "duration": 17,
    "start_time": "2023-07-01T06:49:17.206Z"
   },
   {
    "duration": 50,
    "start_time": "2023-07-01T06:49:17.225Z"
   },
   {
    "duration": 6,
    "start_time": "2023-07-01T06:49:17.276Z"
   },
   {
    "duration": 5,
    "start_time": "2023-07-01T06:49:17.284Z"
   },
   {
    "duration": 28,
    "start_time": "2023-07-01T06:49:17.290Z"
   },
   {
    "duration": 3,
    "start_time": "2023-07-01T06:49:17.320Z"
   },
   {
    "duration": 205,
    "start_time": "2023-07-01T06:49:17.325Z"
   },
   {
    "duration": 6,
    "start_time": "2023-07-01T06:49:17.533Z"
   },
   {
    "duration": 7,
    "start_time": "2023-07-01T06:49:17.560Z"
   },
   {
    "duration": 837,
    "start_time": "2023-07-01T06:49:17.569Z"
   },
   {
    "duration": 906,
    "start_time": "2023-07-01T06:49:18.408Z"
   },
   {
    "duration": 798,
    "start_time": "2023-07-01T06:49:19.316Z"
   },
   {
    "duration": 308,
    "start_time": "2023-07-01T06:49:20.116Z"
   },
   {
    "duration": 381,
    "start_time": "2023-07-01T06:49:20.426Z"
   },
   {
    "duration": 7,
    "start_time": "2023-07-01T06:49:20.808Z"
   },
   {
    "duration": 227,
    "start_time": "2023-07-01T06:49:20.817Z"
   },
   {
    "duration": 357,
    "start_time": "2023-07-01T06:49:21.045Z"
   },
   {
    "duration": 793,
    "start_time": "2023-07-01T06:49:21.404Z"
   },
   {
    "duration": 11,
    "start_time": "2023-07-01T06:49:22.199Z"
   },
   {
    "duration": 4,
    "start_time": "2023-07-01T06:49:22.212Z"
   },
   {
    "duration": 6,
    "start_time": "2023-07-01T06:49:22.217Z"
   },
   {
    "duration": 109,
    "start_time": "2023-07-01T06:52:04.651Z"
   },
   {
    "duration": 16,
    "start_time": "2023-07-01T06:52:17.033Z"
   },
   {
    "duration": 4,
    "start_time": "2023-07-01T07:38:12.975Z"
   },
   {
    "duration": 26,
    "start_time": "2023-07-01T07:38:23.326Z"
   },
   {
    "duration": 21,
    "start_time": "2023-07-01T07:42:32.598Z"
   },
   {
    "duration": 28,
    "start_time": "2023-07-01T07:47:26.212Z"
   },
   {
    "duration": 21,
    "start_time": "2023-07-01T07:47:33.171Z"
   },
   {
    "duration": 10,
    "start_time": "2023-07-01T07:48:29.546Z"
   },
   {
    "duration": 11,
    "start_time": "2023-07-01T07:48:34.545Z"
   },
   {
    "duration": 10,
    "start_time": "2023-07-01T07:48:39.200Z"
   },
   {
    "duration": 10,
    "start_time": "2023-07-01T07:48:42.332Z"
   },
   {
    "duration": 1600,
    "start_time": "2023-07-01T07:48:49.274Z"
   },
   {
    "duration": 3133,
    "start_time": "2023-07-01T07:52:27.137Z"
   },
   {
    "duration": 13863,
    "start_time": "2023-07-01T07:58:29.826Z"
   },
   {
    "duration": 9761,
    "start_time": "2023-07-01T07:59:07.815Z"
   },
   {
    "duration": 16199,
    "start_time": "2023-07-01T08:00:04.870Z"
   },
   {
    "duration": 11904,
    "start_time": "2023-07-01T08:00:38.895Z"
   },
   {
    "duration": 13,
    "start_time": "2023-07-01T08:08:50.716Z"
   },
   {
    "duration": 4,
    "start_time": "2023-07-01T08:09:31.377Z"
   },
   {
    "duration": 1416,
    "start_time": "2023-07-01T08:09:38.229Z"
   },
   {
    "duration": 785,
    "start_time": "2023-07-01T08:09:39.647Z"
   },
   {
    "duration": 6,
    "start_time": "2023-07-01T08:09:40.434Z"
   },
   {
    "duration": 314,
    "start_time": "2023-07-01T08:09:40.442Z"
   },
   {
    "duration": 70,
    "start_time": "2023-07-01T08:09:40.760Z"
   },
   {
    "duration": 78,
    "start_time": "2023-07-01T08:09:40.831Z"
   },
   {
    "duration": 112,
    "start_time": "2023-07-01T08:09:40.910Z"
   },
   {
    "duration": 8,
    "start_time": "2023-07-01T08:09:41.023Z"
   },
   {
    "duration": 16,
    "start_time": "2023-07-01T08:09:41.032Z"
   },
   {
    "duration": 263,
    "start_time": "2023-07-01T08:09:41.051Z"
   },
   {
    "duration": 85,
    "start_time": "2023-07-01T08:09:41.316Z"
   },
   {
    "duration": 21,
    "start_time": "2023-07-01T08:09:41.403Z"
   },
   {
    "duration": 157,
    "start_time": "2023-07-01T08:09:41.426Z"
   },
   {
    "duration": 8,
    "start_time": "2023-07-01T08:09:41.585Z"
   },
   {
    "duration": 12,
    "start_time": "2023-07-01T08:09:41.595Z"
   },
   {
    "duration": 9,
    "start_time": "2023-07-01T08:09:41.609Z"
   },
   {
    "duration": 159,
    "start_time": "2023-07-01T08:09:41.620Z"
   },
   {
    "duration": 46,
    "start_time": "2023-07-01T08:09:41.781Z"
   },
   {
    "duration": 47,
    "start_time": "2023-07-01T08:09:41.829Z"
   },
   {
    "duration": 22,
    "start_time": "2023-07-01T08:09:41.878Z"
   },
   {
    "duration": 5,
    "start_time": "2023-07-01T08:09:41.902Z"
   },
   {
    "duration": 6,
    "start_time": "2023-07-01T08:09:41.909Z"
   },
   {
    "duration": 55,
    "start_time": "2023-07-01T08:09:41.917Z"
   },
   {
    "duration": 3,
    "start_time": "2023-07-01T08:09:41.974Z"
   },
   {
    "duration": 194,
    "start_time": "2023-07-01T08:09:41.979Z"
   },
   {
    "duration": 7,
    "start_time": "2023-07-01T08:09:42.175Z"
   },
   {
    "duration": 7,
    "start_time": "2023-07-01T08:09:42.184Z"
   },
   {
    "duration": 824,
    "start_time": "2023-07-01T08:09:42.195Z"
   },
   {
    "duration": 880,
    "start_time": "2023-07-01T08:09:43.020Z"
   },
   {
    "duration": 694,
    "start_time": "2023-07-01T08:09:43.901Z"
   },
   {
    "duration": 328,
    "start_time": "2023-07-01T08:09:44.596Z"
   },
   {
    "duration": 327,
    "start_time": "2023-07-01T08:09:44.925Z"
   },
   {
    "duration": 10,
    "start_time": "2023-07-01T08:09:45.253Z"
   },
   {
    "duration": 258,
    "start_time": "2023-07-01T08:09:45.272Z"
   },
   {
    "duration": 351,
    "start_time": "2023-07-01T08:09:45.532Z"
   },
   {
    "duration": 870,
    "start_time": "2023-07-01T08:09:45.885Z"
   },
   {
    "duration": 17,
    "start_time": "2023-07-01T08:09:46.763Z"
   },
   {
    "duration": 4,
    "start_time": "2023-07-01T08:09:46.782Z"
   },
   {
    "duration": 34,
    "start_time": "2023-07-01T08:09:46.787Z"
   },
   {
    "duration": 4041,
    "start_time": "2023-07-01T08:09:46.823Z"
   },
   {
    "duration": 164,
    "start_time": "2023-07-01T08:09:50.869Z"
   },
   {
    "duration": 1442,
    "start_time": "2023-07-01T08:12:32.386Z"
   },
   {
    "duration": 805,
    "start_time": "2023-07-01T08:12:33.831Z"
   },
   {
    "duration": 5,
    "start_time": "2023-07-01T08:12:34.638Z"
   },
   {
    "duration": 300,
    "start_time": "2023-07-01T08:12:34.645Z"
   },
   {
    "duration": 78,
    "start_time": "2023-07-01T08:12:34.946Z"
   },
   {
    "duration": 79,
    "start_time": "2023-07-01T08:12:35.026Z"
   },
   {
    "duration": 115,
    "start_time": "2023-07-01T08:12:35.106Z"
   },
   {
    "duration": 9,
    "start_time": "2023-07-01T08:12:35.223Z"
   },
   {
    "duration": 12,
    "start_time": "2023-07-01T08:12:35.234Z"
   },
   {
    "duration": 284,
    "start_time": "2023-07-01T08:12:35.259Z"
   },
   {
    "duration": 77,
    "start_time": "2023-07-01T08:12:35.545Z"
   },
   {
    "duration": 54,
    "start_time": "2023-07-01T08:12:35.624Z"
   },
   {
    "duration": 128,
    "start_time": "2023-07-01T08:12:35.679Z"
   },
   {
    "duration": 6,
    "start_time": "2023-07-01T08:12:35.809Z"
   },
   {
    "duration": 15,
    "start_time": "2023-07-01T08:12:35.817Z"
   },
   {
    "duration": 12,
    "start_time": "2023-07-01T08:12:35.833Z"
   },
   {
    "duration": 179,
    "start_time": "2023-07-01T08:12:35.846Z"
   },
   {
    "duration": 57,
    "start_time": "2023-07-01T08:12:36.027Z"
   },
   {
    "duration": 15,
    "start_time": "2023-07-01T08:12:36.086Z"
   },
   {
    "duration": 21,
    "start_time": "2023-07-01T08:12:36.103Z"
   },
   {
    "duration": 35,
    "start_time": "2023-07-01T08:12:36.126Z"
   },
   {
    "duration": 7,
    "start_time": "2023-07-01T08:12:36.164Z"
   },
   {
    "duration": 27,
    "start_time": "2023-07-01T08:12:36.174Z"
   },
   {
    "duration": 3,
    "start_time": "2023-07-01T08:12:36.202Z"
   },
   {
    "duration": 213,
    "start_time": "2023-07-01T08:12:36.207Z"
   },
   {
    "duration": 5,
    "start_time": "2023-07-01T08:12:36.421Z"
   },
   {
    "duration": 7,
    "start_time": "2023-07-01T08:12:36.428Z"
   },
   {
    "duration": 869,
    "start_time": "2023-07-01T08:12:36.438Z"
   },
   {
    "duration": 804,
    "start_time": "2023-07-01T08:12:37.309Z"
   },
   {
    "duration": 789,
    "start_time": "2023-07-01T08:12:38.115Z"
   },
   {
    "duration": 319,
    "start_time": "2023-07-01T08:12:38.906Z"
   },
   {
    "duration": 396,
    "start_time": "2023-07-01T08:12:39.227Z"
   },
   {
    "duration": 6,
    "start_time": "2023-07-01T08:12:39.625Z"
   },
   {
    "duration": 240,
    "start_time": "2023-07-01T08:12:39.632Z"
   },
   {
    "duration": 330,
    "start_time": "2023-07-01T08:12:39.874Z"
   },
   {
    "duration": 790,
    "start_time": "2023-07-01T08:12:40.206Z"
   },
   {
    "duration": 11,
    "start_time": "2023-07-01T08:12:40.998Z"
   },
   {
    "duration": 45,
    "start_time": "2023-07-01T08:12:41.011Z"
   },
   {
    "duration": 55,
    "start_time": "2023-07-01T08:12:41.058Z"
   },
   {
    "duration": 3348,
    "start_time": "2023-07-01T08:12:41.115Z"
   },
   {
    "duration": 23792,
    "start_time": "2023-07-01T08:12:44.473Z"
   },
   {
    "duration": 10873,
    "start_time": "2023-07-01T08:13:31.074Z"
   },
   {
    "duration": 12013,
    "start_time": "2023-07-01T08:14:06.199Z"
   },
   {
    "duration": 14454,
    "start_time": "2023-07-01T08:14:32.401Z"
   },
   {
    "duration": 198,
    "start_time": "2023-07-01T08:14:56.306Z"
   },
   {
    "duration": 12057,
    "start_time": "2023-07-01T08:15:04.961Z"
   },
   {
    "duration": 24087,
    "start_time": "2023-07-01T08:18:13.246Z"
   },
   {
    "duration": 22330,
    "start_time": "2023-07-01T08:20:14.508Z"
   },
   {
    "duration": 1483,
    "start_time": "2023-07-01T08:21:31.663Z"
   },
   {
    "duration": 759,
    "start_time": "2023-07-01T08:21:33.148Z"
   },
   {
    "duration": 6,
    "start_time": "2023-07-01T08:21:33.908Z"
   },
   {
    "duration": 357,
    "start_time": "2023-07-01T08:21:33.915Z"
   },
   {
    "duration": 70,
    "start_time": "2023-07-01T08:21:34.274Z"
   },
   {
    "duration": 79,
    "start_time": "2023-07-01T08:21:34.346Z"
   },
   {
    "duration": 118,
    "start_time": "2023-07-01T08:21:34.427Z"
   },
   {
    "duration": 28,
    "start_time": "2023-07-01T08:21:34.547Z"
   },
   {
    "duration": 71,
    "start_time": "2023-07-01T08:21:34.577Z"
   },
   {
    "duration": 295,
    "start_time": "2023-07-01T08:21:34.650Z"
   },
   {
    "duration": 79,
    "start_time": "2023-07-01T08:21:34.947Z"
   },
   {
    "duration": 40,
    "start_time": "2023-07-01T08:21:35.027Z"
   },
   {
    "duration": 127,
    "start_time": "2023-07-01T08:21:35.068Z"
   },
   {
    "duration": 7,
    "start_time": "2023-07-01T08:21:35.198Z"
   },
   {
    "duration": 17,
    "start_time": "2023-07-01T08:21:35.207Z"
   },
   {
    "duration": 16,
    "start_time": "2023-07-01T08:21:35.226Z"
   },
   {
    "duration": 156,
    "start_time": "2023-07-01T08:21:35.244Z"
   },
   {
    "duration": 68,
    "start_time": "2023-07-01T08:21:35.402Z"
   },
   {
    "duration": 17,
    "start_time": "2023-07-01T08:21:35.477Z"
   },
   {
    "duration": 50,
    "start_time": "2023-07-01T08:21:35.496Z"
   },
   {
    "duration": 7,
    "start_time": "2023-07-01T08:21:35.547Z"
   },
   {
    "duration": 31,
    "start_time": "2023-07-01T08:21:35.556Z"
   },
   {
    "duration": 35,
    "start_time": "2023-07-01T08:21:35.589Z"
   },
   {
    "duration": 15,
    "start_time": "2023-07-01T08:21:35.626Z"
   },
   {
    "duration": 198,
    "start_time": "2023-07-01T08:21:35.642Z"
   },
   {
    "duration": 4,
    "start_time": "2023-07-01T08:21:35.842Z"
   },
   {
    "duration": 26,
    "start_time": "2023-07-01T08:21:35.848Z"
   },
   {
    "duration": 827,
    "start_time": "2023-07-01T08:21:35.876Z"
   },
   {
    "duration": 927,
    "start_time": "2023-07-01T08:21:36.705Z"
   },
   {
    "duration": 769,
    "start_time": "2023-07-01T08:21:37.634Z"
   },
   {
    "duration": 328,
    "start_time": "2023-07-01T08:21:38.405Z"
   },
   {
    "duration": 378,
    "start_time": "2023-07-01T08:21:38.735Z"
   },
   {
    "duration": 6,
    "start_time": "2023-07-01T08:21:39.115Z"
   },
   {
    "duration": 251,
    "start_time": "2023-07-01T08:21:39.123Z"
   },
   {
    "duration": 343,
    "start_time": "2023-07-01T08:21:39.375Z"
   },
   {
    "duration": 795,
    "start_time": "2023-07-01T08:21:39.720Z"
   },
   {
    "duration": 10,
    "start_time": "2023-07-01T08:21:40.517Z"
   },
   {
    "duration": 3,
    "start_time": "2023-07-01T08:21:40.529Z"
   },
   {
    "duration": 45,
    "start_time": "2023-07-01T08:21:40.533Z"
   },
   {
    "duration": 3184,
    "start_time": "2023-07-01T08:21:40.579Z"
   },
   {
    "duration": 25156,
    "start_time": "2023-07-01T08:21:43.768Z"
   },
   {
    "duration": 4,
    "start_time": "2023-07-01T08:22:08.926Z"
   },
   {
    "duration": 76302,
    "start_time": "2023-07-01T08:23:20.815Z"
   },
   {
    "duration": 23621,
    "start_time": "2023-07-01T08:25:17.520Z"
   },
   {
    "duration": 20662,
    "start_time": "2023-07-01T08:29:16.518Z"
   },
   {
    "duration": 1429,
    "start_time": "2023-07-01T08:34:26.518Z"
   },
   {
    "duration": 723,
    "start_time": "2023-07-01T08:34:27.949Z"
   },
   {
    "duration": 7,
    "start_time": "2023-07-01T08:34:28.674Z"
   },
   {
    "duration": 307,
    "start_time": "2023-07-01T08:34:28.683Z"
   },
   {
    "duration": 86,
    "start_time": "2023-07-01T08:34:28.992Z"
   },
   {
    "duration": 57,
    "start_time": "2023-07-01T08:34:29.080Z"
   },
   {
    "duration": 143,
    "start_time": "2023-07-01T08:34:29.139Z"
   },
   {
    "duration": 10,
    "start_time": "2023-07-01T08:34:29.284Z"
   },
   {
    "duration": 53,
    "start_time": "2023-07-01T08:34:29.297Z"
   },
   {
    "duration": 286,
    "start_time": "2023-07-01T08:34:29.354Z"
   },
   {
    "duration": 77,
    "start_time": "2023-07-01T08:34:29.643Z"
   },
   {
    "duration": 49,
    "start_time": "2023-07-01T08:34:29.722Z"
   },
   {
    "duration": 131,
    "start_time": "2023-07-01T08:34:29.773Z"
   },
   {
    "duration": 6,
    "start_time": "2023-07-01T08:34:29.906Z"
   },
   {
    "duration": 6,
    "start_time": "2023-07-01T08:34:29.914Z"
   },
   {
    "duration": 25,
    "start_time": "2023-07-01T08:34:29.921Z"
   },
   {
    "duration": 154,
    "start_time": "2023-07-01T08:34:29.947Z"
   },
   {
    "duration": 45,
    "start_time": "2023-07-01T08:34:30.102Z"
   },
   {
    "duration": 20,
    "start_time": "2023-07-01T08:34:30.168Z"
   },
   {
    "duration": 48,
    "start_time": "2023-07-01T08:34:30.190Z"
   },
   {
    "duration": 42,
    "start_time": "2023-07-01T08:34:30.240Z"
   },
   {
    "duration": 37,
    "start_time": "2023-07-01T08:34:30.284Z"
   },
   {
    "duration": 79,
    "start_time": "2023-07-01T08:34:30.323Z"
   },
   {
    "duration": 33,
    "start_time": "2023-07-01T08:34:30.404Z"
   },
   {
    "duration": 239,
    "start_time": "2023-07-01T08:34:30.439Z"
   },
   {
    "duration": 6,
    "start_time": "2023-07-01T08:34:30.679Z"
   },
   {
    "duration": 43,
    "start_time": "2023-07-01T08:34:30.686Z"
   },
   {
    "duration": 889,
    "start_time": "2023-07-01T08:34:30.733Z"
   },
   {
    "duration": 902,
    "start_time": "2023-07-01T08:34:31.624Z"
   },
   {
    "duration": 686,
    "start_time": "2023-07-01T08:34:32.528Z"
   },
   {
    "duration": 327,
    "start_time": "2023-07-01T08:34:33.216Z"
   },
   {
    "duration": 385,
    "start_time": "2023-07-01T08:34:33.545Z"
   },
   {
    "duration": 6,
    "start_time": "2023-07-01T08:34:33.932Z"
   },
   {
    "duration": 272,
    "start_time": "2023-07-01T08:34:33.939Z"
   },
   {
    "duration": 361,
    "start_time": "2023-07-01T08:34:34.214Z"
   },
   {
    "duration": 775,
    "start_time": "2023-07-01T08:34:34.576Z"
   },
   {
    "duration": 20,
    "start_time": "2023-07-01T08:34:35.353Z"
   },
   {
    "duration": 5,
    "start_time": "2023-07-01T08:34:35.375Z"
   },
   {
    "duration": 56,
    "start_time": "2023-07-01T08:34:35.381Z"
   },
   {
    "duration": 3231,
    "start_time": "2023-07-01T08:34:35.439Z"
   },
   {
    "duration": 28370,
    "start_time": "2023-07-01T08:34:38.672Z"
   },
   {
    "duration": 1457,
    "start_time": "2023-07-01T08:38:51.830Z"
   },
   {
    "duration": 758,
    "start_time": "2023-07-01T08:38:53.289Z"
   },
   {
    "duration": 15,
    "start_time": "2023-07-01T08:38:54.050Z"
   },
   {
    "duration": 364,
    "start_time": "2023-07-01T08:38:54.072Z"
   },
   {
    "duration": 76,
    "start_time": "2023-07-01T08:38:54.438Z"
   },
   {
    "duration": 81,
    "start_time": "2023-07-01T08:38:54.516Z"
   },
   {
    "duration": 113,
    "start_time": "2023-07-01T08:38:54.599Z"
   },
   {
    "duration": 8,
    "start_time": "2023-07-01T08:38:54.714Z"
   },
   {
    "duration": 18,
    "start_time": "2023-07-01T08:38:54.724Z"
   },
   {
    "duration": 285,
    "start_time": "2023-07-01T08:38:54.744Z"
   },
   {
    "duration": 91,
    "start_time": "2023-07-01T08:38:55.031Z"
   },
   {
    "duration": 21,
    "start_time": "2023-07-01T08:38:55.124Z"
   },
   {
    "duration": 132,
    "start_time": "2023-07-01T08:38:55.164Z"
   },
   {
    "duration": 8,
    "start_time": "2023-07-01T08:38:55.300Z"
   },
   {
    "duration": 22,
    "start_time": "2023-07-01T08:38:55.310Z"
   },
   {
    "duration": 40,
    "start_time": "2023-07-01T08:38:55.334Z"
   },
   {
    "duration": 176,
    "start_time": "2023-07-01T08:38:55.376Z"
   },
   {
    "duration": 49,
    "start_time": "2023-07-01T08:38:55.554Z"
   },
   {
    "duration": 15,
    "start_time": "2023-07-01T08:38:55.604Z"
   },
   {
    "duration": 53,
    "start_time": "2023-07-01T08:38:55.621Z"
   },
   {
    "duration": 6,
    "start_time": "2023-07-01T08:38:55.676Z"
   },
   {
    "duration": 27,
    "start_time": "2023-07-01T08:38:55.683Z"
   },
   {
    "duration": 39,
    "start_time": "2023-07-01T08:38:55.711Z"
   },
   {
    "duration": 6,
    "start_time": "2023-07-01T08:38:55.752Z"
   },
   {
    "duration": 228,
    "start_time": "2023-07-01T08:38:55.759Z"
   },
   {
    "duration": 12,
    "start_time": "2023-07-01T08:38:55.989Z"
   },
   {
    "duration": 14,
    "start_time": "2023-07-01T08:38:56.004Z"
   },
   {
    "duration": 794,
    "start_time": "2023-07-01T08:38:56.020Z"
   },
   {
    "duration": 895,
    "start_time": "2023-07-01T08:38:56.816Z"
   },
   {
    "duration": 804,
    "start_time": "2023-07-01T08:38:57.714Z"
   },
   {
    "duration": 309,
    "start_time": "2023-07-01T08:38:58.520Z"
   },
   {
    "duration": 356,
    "start_time": "2023-07-01T08:38:58.831Z"
   },
   {
    "duration": 6,
    "start_time": "2023-07-01T08:38:59.189Z"
   },
   {
    "duration": 245,
    "start_time": "2023-07-01T08:38:59.197Z"
   },
   {
    "duration": 338,
    "start_time": "2023-07-01T08:38:59.444Z"
   },
   {
    "duration": 786,
    "start_time": "2023-07-01T08:38:59.784Z"
   },
   {
    "duration": 11,
    "start_time": "2023-07-01T08:39:00.575Z"
   },
   {
    "duration": 17,
    "start_time": "2023-07-01T08:39:00.588Z"
   },
   {
    "duration": 52,
    "start_time": "2023-07-01T08:39:00.607Z"
   },
   {
    "duration": 2897,
    "start_time": "2023-07-01T08:39:00.672Z"
   },
   {
    "duration": 21901,
    "start_time": "2023-07-01T08:39:03.578Z"
   },
   {
    "duration": 1491,
    "start_time": "2023-07-01T08:43:32.410Z"
   },
   {
    "duration": 918,
    "start_time": "2023-07-01T08:43:33.903Z"
   },
   {
    "duration": 6,
    "start_time": "2023-07-01T08:43:34.822Z"
   },
   {
    "duration": 326,
    "start_time": "2023-07-01T08:43:34.829Z"
   },
   {
    "duration": 83,
    "start_time": "2023-07-01T08:43:35.158Z"
   },
   {
    "duration": 85,
    "start_time": "2023-07-01T08:43:35.243Z"
   },
   {
    "duration": 130,
    "start_time": "2023-07-01T08:43:35.330Z"
   },
   {
    "duration": 10,
    "start_time": "2023-07-01T08:43:35.462Z"
   },
   {
    "duration": 4,
    "start_time": "2023-07-01T08:43:35.474Z"
   },
   {
    "duration": 320,
    "start_time": "2023-07-01T08:43:35.481Z"
   },
   {
    "duration": 103,
    "start_time": "2023-07-01T08:43:35.803Z"
   },
   {
    "duration": 20,
    "start_time": "2023-07-01T08:43:35.908Z"
   },
   {
    "duration": 167,
    "start_time": "2023-07-01T08:43:35.931Z"
   },
   {
    "duration": 8,
    "start_time": "2023-07-01T08:43:36.099Z"
   },
   {
    "duration": 9,
    "start_time": "2023-07-01T08:43:36.108Z"
   },
   {
    "duration": 19,
    "start_time": "2023-07-01T08:43:36.118Z"
   },
   {
    "duration": 174,
    "start_time": "2023-07-01T08:43:36.138Z"
   },
   {
    "duration": 64,
    "start_time": "2023-07-01T08:43:36.313Z"
   },
   {
    "duration": 20,
    "start_time": "2023-07-01T08:43:36.379Z"
   },
   {
    "duration": 22,
    "start_time": "2023-07-01T08:43:36.401Z"
   },
   {
    "duration": 45,
    "start_time": "2023-07-01T08:43:36.424Z"
   },
   {
    "duration": 5,
    "start_time": "2023-07-01T08:43:36.471Z"
   },
   {
    "duration": 33,
    "start_time": "2023-07-01T08:43:36.477Z"
   },
   {
    "duration": 3,
    "start_time": "2023-07-01T08:43:36.512Z"
   },
   {
    "duration": 238,
    "start_time": "2023-07-01T08:43:36.516Z"
   },
   {
    "duration": 13,
    "start_time": "2023-07-01T08:43:36.760Z"
   },
   {
    "duration": 15,
    "start_time": "2023-07-01T08:43:36.775Z"
   },
   {
    "duration": 829,
    "start_time": "2023-07-01T08:43:36.794Z"
   },
   {
    "duration": 1000,
    "start_time": "2023-07-01T08:43:37.625Z"
   },
   {
    "duration": 800,
    "start_time": "2023-07-01T08:43:38.627Z"
   },
   {
    "duration": 383,
    "start_time": "2023-07-01T08:43:39.429Z"
   },
   {
    "duration": 337,
    "start_time": "2023-07-01T08:43:39.814Z"
   },
   {
    "duration": 12,
    "start_time": "2023-07-01T08:43:40.162Z"
   },
   {
    "duration": 244,
    "start_time": "2023-07-01T08:43:40.176Z"
   },
   {
    "duration": 376,
    "start_time": "2023-07-01T08:43:40.422Z"
   },
   {
    "duration": 897,
    "start_time": "2023-07-01T08:43:40.801Z"
   },
   {
    "duration": 12,
    "start_time": "2023-07-01T08:43:41.700Z"
   },
   {
    "duration": 4,
    "start_time": "2023-07-01T08:43:41.714Z"
   },
   {
    "duration": 66,
    "start_time": "2023-07-01T08:43:41.720Z"
   },
   {
    "duration": 7891,
    "start_time": "2023-07-01T08:43:41.789Z"
   },
   {
    "duration": 25866,
    "start_time": "2023-07-01T08:43:49.689Z"
   },
   {
    "duration": 1546,
    "start_time": "2023-07-01T08:45:22.269Z"
   },
   {
    "duration": 868,
    "start_time": "2023-07-01T08:45:23.817Z"
   },
   {
    "duration": 7,
    "start_time": "2023-07-01T08:45:24.687Z"
   },
   {
    "duration": 327,
    "start_time": "2023-07-01T08:45:24.696Z"
   },
   {
    "duration": 108,
    "start_time": "2023-07-01T08:45:25.026Z"
   },
   {
    "duration": 80,
    "start_time": "2023-07-01T08:45:25.136Z"
   },
   {
    "duration": 115,
    "start_time": "2023-07-01T08:45:25.218Z"
   },
   {
    "duration": 8,
    "start_time": "2023-07-01T08:45:25.335Z"
   },
   {
    "duration": 21,
    "start_time": "2023-07-01T08:45:25.345Z"
   },
   {
    "duration": 300,
    "start_time": "2023-07-01T08:45:25.368Z"
   },
   {
    "duration": 78,
    "start_time": "2023-07-01T08:45:25.676Z"
   },
   {
    "duration": 32,
    "start_time": "2023-07-01T08:45:25.761Z"
   },
   {
    "duration": 151,
    "start_time": "2023-07-01T08:45:25.794Z"
   },
   {
    "duration": 16,
    "start_time": "2023-07-01T08:45:25.961Z"
   },
   {
    "duration": 8,
    "start_time": "2023-07-01T08:45:25.984Z"
   },
   {
    "duration": 7,
    "start_time": "2023-07-01T08:45:25.994Z"
   },
   {
    "duration": 194,
    "start_time": "2023-07-01T08:45:26.003Z"
   },
   {
    "duration": 44,
    "start_time": "2023-07-01T08:45:26.198Z"
   },
   {
    "duration": 28,
    "start_time": "2023-07-01T08:45:26.268Z"
   },
   {
    "duration": 22,
    "start_time": "2023-07-01T08:45:26.298Z"
   },
   {
    "duration": 6,
    "start_time": "2023-07-01T08:45:26.322Z"
   },
   {
    "duration": 47,
    "start_time": "2023-07-01T08:45:26.330Z"
   },
   {
    "duration": 36,
    "start_time": "2023-07-01T08:45:26.381Z"
   },
   {
    "duration": 3,
    "start_time": "2023-07-01T08:45:26.419Z"
   },
   {
    "duration": 212,
    "start_time": "2023-07-01T08:45:26.423Z"
   },
   {
    "duration": 6,
    "start_time": "2023-07-01T08:45:26.637Z"
   },
   {
    "duration": 15,
    "start_time": "2023-07-01T08:45:26.669Z"
   },
   {
    "duration": 840,
    "start_time": "2023-07-01T08:45:26.687Z"
   },
   {
    "duration": 812,
    "start_time": "2023-07-01T08:45:27.529Z"
   },
   {
    "duration": 881,
    "start_time": "2023-07-01T08:45:28.342Z"
   },
   {
    "duration": 369,
    "start_time": "2023-07-01T08:45:29.226Z"
   },
   {
    "duration": 347,
    "start_time": "2023-07-01T08:45:29.597Z"
   },
   {
    "duration": 21,
    "start_time": "2023-07-01T08:45:29.946Z"
   },
   {
    "duration": 238,
    "start_time": "2023-07-01T08:45:29.971Z"
   },
   {
    "duration": 373,
    "start_time": "2023-07-01T08:45:30.211Z"
   },
   {
    "duration": 914,
    "start_time": "2023-07-01T08:45:30.586Z"
   },
   {
    "duration": 13,
    "start_time": "2023-07-01T08:45:31.502Z"
   },
   {
    "duration": 62,
    "start_time": "2023-07-01T08:45:31.516Z"
   },
   {
    "duration": 43,
    "start_time": "2023-07-01T08:45:31.586Z"
   },
   {
    "duration": 6848,
    "start_time": "2023-07-01T08:45:31.631Z"
   },
   {
    "duration": 23816,
    "start_time": "2023-07-01T08:45:38.491Z"
   },
   {
    "duration": 1606,
    "start_time": "2023-07-01T08:47:14.117Z"
   },
   {
    "duration": 866,
    "start_time": "2023-07-01T08:47:15.726Z"
   },
   {
    "duration": 6,
    "start_time": "2023-07-01T08:47:16.594Z"
   },
   {
    "duration": 332,
    "start_time": "2023-07-01T08:47:16.602Z"
   },
   {
    "duration": 98,
    "start_time": "2023-07-01T08:47:16.936Z"
   },
   {
    "duration": 87,
    "start_time": "2023-07-01T08:47:17.035Z"
   },
   {
    "duration": 120,
    "start_time": "2023-07-01T08:47:17.124Z"
   },
   {
    "duration": 15,
    "start_time": "2023-07-01T08:47:17.246Z"
   },
   {
    "duration": 31,
    "start_time": "2023-07-01T08:47:17.263Z"
   },
   {
    "duration": 302,
    "start_time": "2023-07-01T08:47:17.299Z"
   },
   {
    "duration": 89,
    "start_time": "2023-07-01T08:47:17.603Z"
   },
   {
    "duration": 25,
    "start_time": "2023-07-01T08:47:17.694Z"
   },
   {
    "duration": 164,
    "start_time": "2023-07-01T08:47:17.721Z"
   },
   {
    "duration": 7,
    "start_time": "2023-07-01T08:47:17.889Z"
   },
   {
    "duration": 7,
    "start_time": "2023-07-01T08:47:17.898Z"
   },
   {
    "duration": 17,
    "start_time": "2023-07-01T08:47:17.907Z"
   },
   {
    "duration": 167,
    "start_time": "2023-07-01T08:47:17.926Z"
   },
   {
    "duration": 89,
    "start_time": "2023-07-01T08:47:18.095Z"
   },
   {
    "duration": 19,
    "start_time": "2023-07-01T08:47:18.185Z"
   },
   {
    "duration": 46,
    "start_time": "2023-07-01T08:47:18.206Z"
   },
   {
    "duration": 7,
    "start_time": "2023-07-01T08:47:18.254Z"
   },
   {
    "duration": 21,
    "start_time": "2023-07-01T08:47:18.264Z"
   },
   {
    "duration": 29,
    "start_time": "2023-07-01T08:47:18.287Z"
   },
   {
    "duration": 4,
    "start_time": "2023-07-01T08:47:18.317Z"
   },
   {
    "duration": 223,
    "start_time": "2023-07-01T08:47:18.322Z"
   },
   {
    "duration": 26,
    "start_time": "2023-07-01T08:47:18.548Z"
   },
   {
    "duration": 21,
    "start_time": "2023-07-01T08:47:18.580Z"
   },
   {
    "duration": 852,
    "start_time": "2023-07-01T08:47:18.605Z"
   },
   {
    "duration": 999,
    "start_time": "2023-07-01T08:47:19.468Z"
   },
   {
    "duration": 902,
    "start_time": "2023-07-01T08:47:20.470Z"
   },
   {
    "duration": 399,
    "start_time": "2023-07-01T08:47:21.377Z"
   },
   {
    "duration": 396,
    "start_time": "2023-07-01T08:47:21.783Z"
   },
   {
    "duration": 8,
    "start_time": "2023-07-01T08:47:22.189Z"
   },
   {
    "duration": 298,
    "start_time": "2023-07-01T08:47:22.200Z"
   },
   {
    "duration": 393,
    "start_time": "2023-07-01T08:47:22.499Z"
   },
   {
    "duration": 935,
    "start_time": "2023-07-01T08:47:22.895Z"
   },
   {
    "duration": 11,
    "start_time": "2023-07-01T08:47:23.832Z"
   },
   {
    "duration": 42,
    "start_time": "2023-07-01T08:47:23.845Z"
   },
   {
    "duration": 45,
    "start_time": "2023-07-01T08:47:23.889Z"
   },
   {
    "duration": 6234,
    "start_time": "2023-07-01T08:47:23.936Z"
   },
   {
    "duration": 29912,
    "start_time": "2023-07-01T08:47:30.177Z"
   },
   {
    "duration": 1623,
    "start_time": "2023-07-01T08:49:00.777Z"
   },
   {
    "duration": 826,
    "start_time": "2023-07-01T08:49:02.402Z"
   },
   {
    "duration": 5,
    "start_time": "2023-07-01T08:49:03.231Z"
   },
   {
    "duration": 381,
    "start_time": "2023-07-01T08:49:03.237Z"
   },
   {
    "duration": 101,
    "start_time": "2023-07-01T08:49:03.620Z"
   },
   {
    "duration": 81,
    "start_time": "2023-07-01T08:49:03.723Z"
   },
   {
    "duration": 131,
    "start_time": "2023-07-01T08:49:03.806Z"
   },
   {
    "duration": 9,
    "start_time": "2023-07-01T08:49:03.939Z"
   },
   {
    "duration": 26,
    "start_time": "2023-07-01T08:49:03.962Z"
   },
   {
    "duration": 354,
    "start_time": "2023-07-01T08:49:03.990Z"
   },
   {
    "duration": 109,
    "start_time": "2023-07-01T08:49:04.346Z"
   },
   {
    "duration": 39,
    "start_time": "2023-07-01T08:49:04.457Z"
   },
   {
    "duration": 130,
    "start_time": "2023-07-01T08:49:04.498Z"
   },
   {
    "duration": 7,
    "start_time": "2023-07-01T08:49:04.632Z"
   },
   {
    "duration": 27,
    "start_time": "2023-07-01T08:49:04.640Z"
   },
   {
    "duration": 18,
    "start_time": "2023-07-01T08:49:04.669Z"
   },
   {
    "duration": 181,
    "start_time": "2023-07-01T08:49:04.689Z"
   },
   {
    "duration": 46,
    "start_time": "2023-07-01T08:49:04.884Z"
   },
   {
    "duration": 33,
    "start_time": "2023-07-01T08:49:04.932Z"
   },
   {
    "duration": 33,
    "start_time": "2023-07-01T08:49:04.969Z"
   },
   {
    "duration": 7,
    "start_time": "2023-07-01T08:49:05.005Z"
   },
   {
    "duration": 6,
    "start_time": "2023-07-01T08:49:05.014Z"
   },
   {
    "duration": 72,
    "start_time": "2023-07-01T08:49:05.022Z"
   },
   {
    "duration": 4,
    "start_time": "2023-07-01T08:49:05.096Z"
   },
   {
    "duration": 222,
    "start_time": "2023-07-01T08:49:05.102Z"
   },
   {
    "duration": 6,
    "start_time": "2023-07-01T08:49:05.327Z"
   },
   {
    "duration": 28,
    "start_time": "2023-07-01T08:49:05.334Z"
   },
   {
    "duration": 874,
    "start_time": "2023-07-01T08:49:05.364Z"
   },
   {
    "duration": 908,
    "start_time": "2023-07-01T08:49:06.240Z"
   },
   {
    "duration": 790,
    "start_time": "2023-07-01T08:49:07.149Z"
   },
   {
    "duration": 376,
    "start_time": "2023-07-01T08:49:07.941Z"
   },
   {
    "duration": 325,
    "start_time": "2023-07-01T08:49:08.318Z"
   },
   {
    "duration": 26,
    "start_time": "2023-07-01T08:49:08.645Z"
   },
   {
    "duration": 242,
    "start_time": "2023-07-01T08:49:08.673Z"
   },
   {
    "duration": 418,
    "start_time": "2023-07-01T08:49:08.917Z"
   },
   {
    "duration": 885,
    "start_time": "2023-07-01T08:49:09.336Z"
   },
   {
    "duration": 10,
    "start_time": "2023-07-01T08:49:10.223Z"
   },
   {
    "duration": 4,
    "start_time": "2023-07-01T08:49:10.235Z"
   },
   {
    "duration": 40,
    "start_time": "2023-07-01T08:49:10.260Z"
   },
   {
    "duration": 7188,
    "start_time": "2023-07-01T08:49:10.301Z"
   },
   {
    "duration": 22195,
    "start_time": "2023-07-01T08:49:17.493Z"
   },
   {
    "duration": 69317,
    "start_time": "2023-07-01T08:49:39.689Z"
   },
   {
    "duration": 87915,
    "start_time": "2023-07-01T08:50:49.008Z"
   },
   {
    "duration": 5,
    "start_time": "2023-07-01T08:57:00.147Z"
   },
   {
    "duration": 4,
    "start_time": "2023-07-01T08:57:11.752Z"
   },
   {
    "duration": 5,
    "start_time": "2023-07-01T09:01:51.405Z"
   },
   {
    "duration": 134,
    "start_time": "2023-07-01T09:04:32.537Z"
   },
   {
    "duration": 10,
    "start_time": "2023-07-01T09:04:58.791Z"
   },
   {
    "duration": 26,
    "start_time": "2023-07-01T09:07:01.760Z"
   },
   {
    "duration": 29,
    "start_time": "2023-07-01T09:07:33.798Z"
   },
   {
    "duration": 6,
    "start_time": "2023-07-01T09:07:54.432Z"
   },
   {
    "duration": 16,
    "start_time": "2023-07-01T09:07:57.208Z"
   },
   {
    "duration": 10,
    "start_time": "2023-07-01T09:10:23.236Z"
   },
   {
    "duration": 23,
    "start_time": "2023-07-01T09:14:38.844Z"
   },
   {
    "duration": 1607,
    "start_time": "2023-07-01T09:16:24.917Z"
   },
   {
    "duration": 844,
    "start_time": "2023-07-01T09:16:26.527Z"
   },
   {
    "duration": 11,
    "start_time": "2023-07-01T09:16:27.382Z"
   },
   {
    "duration": 369,
    "start_time": "2023-07-01T09:16:27.396Z"
   },
   {
    "duration": 78,
    "start_time": "2023-07-01T09:16:27.776Z"
   },
   {
    "duration": 68,
    "start_time": "2023-07-01T09:16:27.856Z"
   },
   {
    "duration": 142,
    "start_time": "2023-07-01T09:16:27.926Z"
   },
   {
    "duration": 16,
    "start_time": "2023-07-01T09:16:28.071Z"
   },
   {
    "duration": 5,
    "start_time": "2023-07-01T09:16:28.089Z"
   },
   {
    "duration": 301,
    "start_time": "2023-07-01T09:16:28.097Z"
   },
   {
    "duration": 106,
    "start_time": "2023-07-01T09:16:28.400Z"
   },
   {
    "duration": 22,
    "start_time": "2023-07-01T09:16:28.507Z"
   },
   {
    "duration": 183,
    "start_time": "2023-07-01T09:16:28.531Z"
   },
   {
    "duration": 7,
    "start_time": "2023-07-01T09:16:28.716Z"
   },
   {
    "duration": 8,
    "start_time": "2023-07-01T09:16:28.725Z"
   },
   {
    "duration": 28,
    "start_time": "2023-07-01T09:16:28.735Z"
   },
   {
    "duration": 170,
    "start_time": "2023-07-01T09:16:28.764Z"
   },
   {
    "duration": 70,
    "start_time": "2023-07-01T09:16:28.935Z"
   },
   {
    "duration": 22,
    "start_time": "2023-07-01T09:16:29.007Z"
   },
   {
    "duration": 59,
    "start_time": "2023-07-01T09:16:29.031Z"
   },
   {
    "duration": 8,
    "start_time": "2023-07-01T09:16:29.094Z"
   },
   {
    "duration": 6,
    "start_time": "2023-07-01T09:16:29.104Z"
   },
   {
    "duration": 26,
    "start_time": "2023-07-01T09:16:29.112Z"
   },
   {
    "duration": 14,
    "start_time": "2023-07-01T09:16:29.163Z"
   },
   {
    "duration": 258,
    "start_time": "2023-07-01T09:16:29.185Z"
   },
   {
    "duration": 5,
    "start_time": "2023-07-01T09:16:29.445Z"
   },
   {
    "duration": 9,
    "start_time": "2023-07-01T09:16:29.460Z"
   },
   {
    "duration": 863,
    "start_time": "2023-07-01T09:16:29.476Z"
   },
   {
    "duration": 890,
    "start_time": "2023-07-01T09:16:30.341Z"
   },
   {
    "duration": 807,
    "start_time": "2023-07-01T09:16:31.233Z"
   },
   {
    "duration": 406,
    "start_time": "2023-07-01T09:16:32.042Z"
   },
   {
    "duration": 436,
    "start_time": "2023-07-01T09:16:32.450Z"
   },
   {
    "duration": 7,
    "start_time": "2023-07-01T09:16:32.889Z"
   },
   {
    "duration": 243,
    "start_time": "2023-07-01T09:16:32.898Z"
   },
   {
    "duration": 412,
    "start_time": "2023-07-01T09:16:33.143Z"
   },
   {
    "duration": 1039,
    "start_time": "2023-07-01T09:16:33.556Z"
   },
   {
    "duration": 13,
    "start_time": "2023-07-01T09:16:34.597Z"
   },
   {
    "duration": 4,
    "start_time": "2023-07-01T09:16:34.615Z"
   },
   {
    "duration": 46,
    "start_time": "2023-07-01T09:16:34.621Z"
   },
   {
    "duration": 7219,
    "start_time": "2023-07-01T09:16:34.669Z"
   },
   {
    "duration": 20412,
    "start_time": "2023-07-01T09:16:41.959Z"
   },
   {
    "duration": 5,
    "start_time": "2023-07-01T09:17:02.374Z"
   },
   {
    "duration": 36,
    "start_time": "2023-07-01T09:17:02.382Z"
   },
   {
    "duration": 325295,
    "start_time": "2023-07-01T09:17:02.420Z"
   },
   {
    "duration": 125,
    "start_time": "2023-07-01T09:22:27.717Z"
   },
   {
    "duration": 0,
    "start_time": "2023-07-01T09:22:27.844Z"
   },
   {
    "duration": 14491,
    "start_time": "2023-07-01T09:22:44.448Z"
   },
   {
    "duration": 5,
    "start_time": "2023-07-01T09:24:47.288Z"
   },
   {
    "duration": 20,
    "start_time": "2023-07-01T09:24:48.078Z"
   },
   {
    "duration": 48,
    "start_time": "2023-07-01T09:24:54.543Z"
   },
   {
    "duration": 9,
    "start_time": "2023-07-01T09:34:55.524Z"
   },
   {
    "duration": 13,
    "start_time": "2023-07-01T09:35:49.302Z"
   },
   {
    "duration": 4,
    "start_time": "2023-07-01T09:36:03.916Z"
   },
   {
    "duration": 4,
    "start_time": "2023-07-01T09:36:14.490Z"
   },
   {
    "duration": 5,
    "start_time": "2023-07-01T09:36:46.823Z"
   },
   {
    "duration": 4,
    "start_time": "2023-07-01T09:36:59.901Z"
   },
   {
    "duration": 8,
    "start_time": "2023-07-02T10:07:19.934Z"
   },
   {
    "duration": 225,
    "start_time": "2023-07-02T10:07:27.263Z"
   },
   {
    "duration": 1574,
    "start_time": "2023-07-02T12:12:20.501Z"
   },
   {
    "duration": 2000,
    "start_time": "2023-07-02T12:12:23.891Z"
   },
   {
    "duration": 6,
    "start_time": "2023-07-02T12:12:26.183Z"
   },
   {
    "duration": 269,
    "start_time": "2023-07-02T12:12:27.359Z"
   },
   {
    "duration": 4,
    "start_time": "2023-07-02T12:13:05.049Z"
   },
   {
    "duration": 763,
    "start_time": "2023-07-02T12:13:05.055Z"
   },
   {
    "duration": 4,
    "start_time": "2023-07-02T12:13:05.820Z"
   },
   {
    "duration": 258,
    "start_time": "2023-07-02T12:13:05.826Z"
   },
   {
    "duration": 65,
    "start_time": "2023-07-02T12:13:06.086Z"
   },
   {
    "duration": 74,
    "start_time": "2023-07-02T12:13:06.152Z"
   },
   {
    "duration": 112,
    "start_time": "2023-07-02T12:13:06.228Z"
   },
   {
    "duration": 8,
    "start_time": "2023-07-02T12:13:06.342Z"
   },
   {
    "duration": 6,
    "start_time": "2023-07-02T12:13:06.353Z"
   },
   {
    "duration": 260,
    "start_time": "2023-07-02T12:13:06.377Z"
   },
   {
    "duration": 73,
    "start_time": "2023-07-02T12:13:06.639Z"
   },
   {
    "duration": 18,
    "start_time": "2023-07-02T12:13:06.713Z"
   },
   {
    "duration": 143,
    "start_time": "2023-07-02T12:13:06.732Z"
   },
   {
    "duration": 7,
    "start_time": "2023-07-02T12:13:06.876Z"
   },
   {
    "duration": 10,
    "start_time": "2023-07-02T12:13:06.884Z"
   },
   {
    "duration": 8,
    "start_time": "2023-07-02T12:13:06.895Z"
   },
   {
    "duration": 136,
    "start_time": "2023-07-02T12:13:06.905Z"
   },
   {
    "duration": 42,
    "start_time": "2023-07-02T12:13:07.042Z"
   },
   {
    "duration": 20,
    "start_time": "2023-07-02T12:13:07.085Z"
   },
   {
    "duration": 19,
    "start_time": "2023-07-02T12:13:07.107Z"
   },
   {
    "duration": 5,
    "start_time": "2023-07-02T12:13:07.127Z"
   },
   {
    "duration": 18,
    "start_time": "2023-07-02T12:13:07.134Z"
   },
   {
    "duration": 1339,
    "start_time": "2023-07-02T12:13:25.236Z"
   },
   {
    "duration": 761,
    "start_time": "2023-07-02T12:13:26.577Z"
   },
   {
    "duration": 5,
    "start_time": "2023-07-02T12:13:27.340Z"
   },
   {
    "duration": 265,
    "start_time": "2023-07-02T12:13:27.347Z"
   },
   {
    "duration": 67,
    "start_time": "2023-07-02T12:13:27.613Z"
   },
   {
    "duration": 50,
    "start_time": "2023-07-02T12:13:27.682Z"
   },
   {
    "duration": 108,
    "start_time": "2023-07-02T12:13:27.734Z"
   },
   {
    "duration": 7,
    "start_time": "2023-07-02T12:13:27.844Z"
   },
   {
    "duration": 3,
    "start_time": "2023-07-02T12:13:27.853Z"
   },
   {
    "duration": 254,
    "start_time": "2023-07-02T12:13:27.859Z"
   },
   {
    "duration": 77,
    "start_time": "2023-07-02T12:13:28.115Z"
   },
   {
    "duration": 20,
    "start_time": "2023-07-02T12:13:28.194Z"
   },
   {
    "duration": 130,
    "start_time": "2023-07-02T12:13:28.216Z"
   },
   {
    "duration": 7,
    "start_time": "2023-07-02T12:13:28.347Z"
   },
   {
    "duration": 23,
    "start_time": "2023-07-02T12:13:28.356Z"
   },
   {
    "duration": 7,
    "start_time": "2023-07-02T12:13:28.380Z"
   },
   {
    "duration": 137,
    "start_time": "2023-07-02T12:13:28.389Z"
   },
   {
    "duration": 50,
    "start_time": "2023-07-02T12:13:28.529Z"
   },
   {
    "duration": 16,
    "start_time": "2023-07-02T12:13:28.580Z"
   },
   {
    "duration": 21,
    "start_time": "2023-07-02T12:13:28.598Z"
   },
   {
    "duration": 5,
    "start_time": "2023-07-02T12:13:28.621Z"
   },
   {
    "duration": 5,
    "start_time": "2023-07-02T12:13:28.627Z"
   },
   {
    "duration": 52,
    "start_time": "2023-07-02T12:13:28.633Z"
   },
   {
    "duration": 6,
    "start_time": "2023-07-02T12:13:28.686Z"
   },
   {
    "duration": 3,
    "start_time": "2023-07-02T12:13:28.693Z"
   },
   {
    "duration": 178,
    "start_time": "2023-07-02T12:13:28.698Z"
   },
   {
    "duration": 5,
    "start_time": "2023-07-02T12:13:28.877Z"
   },
   {
    "duration": 7,
    "start_time": "2023-07-02T12:13:28.885Z"
   },
   {
    "duration": 816,
    "start_time": "2023-07-02T12:13:28.894Z"
   },
   {
    "duration": 895,
    "start_time": "2023-07-02T12:13:29.711Z"
   },
   {
    "duration": 1089,
    "start_time": "2023-07-02T12:13:30.608Z"
   },
   {
    "duration": 579,
    "start_time": "2023-07-02T12:13:31.698Z"
   },
   {
    "duration": 521,
    "start_time": "2023-07-02T12:13:32.279Z"
   },
   {
    "duration": 5,
    "start_time": "2023-07-02T12:13:32.801Z"
   },
   {
    "duration": 253,
    "start_time": "2023-07-02T12:13:32.808Z"
   },
   {
    "duration": 304,
    "start_time": "2023-07-02T12:13:33.063Z"
   },
   {
    "duration": 680,
    "start_time": "2023-07-02T12:13:33.368Z"
   },
   {
    "duration": 10,
    "start_time": "2023-07-02T12:13:34.049Z"
   },
   {
    "duration": 18,
    "start_time": "2023-07-02T12:13:34.061Z"
   },
   {
    "duration": 29,
    "start_time": "2023-07-02T12:13:34.081Z"
   },
   {
    "duration": 24,
    "start_time": "2023-07-02T12:13:34.112Z"
   },
   {
    "duration": 20,
    "start_time": "2023-07-02T12:13:34.138Z"
   },
   {
    "duration": 2,
    "start_time": "2023-07-02T12:13:34.160Z"
   },
   {
    "duration": 2513,
    "start_time": "2023-07-02T12:13:34.164Z"
   },
   {
    "duration": 12488,
    "start_time": "2023-07-02T12:13:36.679Z"
   },
   {
    "duration": 236269,
    "start_time": "2023-07-02T12:13:49.169Z"
   },
   {
    "duration": 4,
    "start_time": "2023-07-02T12:17:45.440Z"
   },
   {
    "duration": 30,
    "start_time": "2023-07-02T12:17:45.446Z"
   },
   {
    "duration": 9,
    "start_time": "2023-07-02T12:17:45.478Z"
   },
   {
    "duration": 4,
    "start_time": "2023-07-02T12:17:45.489Z"
   },
   {
    "duration": 52,
    "start_time": "2023-07-03T10:56:20.752Z"
   },
   {
    "duration": 1684,
    "start_time": "2023-07-03T15:16:24.049Z"
   },
   {
    "duration": 3154,
    "start_time": "2023-07-03T15:16:25.735Z"
   },
   {
    "duration": 4,
    "start_time": "2023-07-03T15:16:28.891Z"
   },
   {
    "duration": 283,
    "start_time": "2023-07-03T15:16:28.897Z"
   },
   {
    "duration": 64,
    "start_time": "2023-07-03T15:16:29.182Z"
   },
   {
    "duration": 78,
    "start_time": "2023-07-03T15:16:29.248Z"
   },
   {
    "duration": 95,
    "start_time": "2023-07-03T15:16:29.327Z"
   },
   {
    "duration": 7,
    "start_time": "2023-07-03T15:16:29.423Z"
   },
   {
    "duration": 4,
    "start_time": "2023-07-03T15:16:29.431Z"
   },
   {
    "duration": 249,
    "start_time": "2023-07-03T15:16:29.436Z"
   },
   {
    "duration": 62,
    "start_time": "2023-07-03T15:16:29.686Z"
   },
   {
    "duration": 31,
    "start_time": "2023-07-03T15:16:29.749Z"
   },
   {
    "duration": 120,
    "start_time": "2023-07-03T15:16:29.782Z"
   },
   {
    "duration": 6,
    "start_time": "2023-07-03T15:16:29.905Z"
   },
   {
    "duration": 5,
    "start_time": "2023-07-03T15:16:29.912Z"
   },
   {
    "duration": 7,
    "start_time": "2023-07-03T15:16:29.919Z"
   },
   {
    "duration": 148,
    "start_time": "2023-07-03T15:16:29.927Z"
   },
   {
    "duration": 41,
    "start_time": "2023-07-03T15:16:30.077Z"
   },
   {
    "duration": 50,
    "start_time": "2023-07-03T15:16:30.120Z"
   },
   {
    "duration": 47,
    "start_time": "2023-07-03T15:16:30.171Z"
   },
   {
    "duration": 18,
    "start_time": "2023-07-03T15:16:30.220Z"
   },
   {
    "duration": 31,
    "start_time": "2023-07-03T15:16:30.240Z"
   },
   {
    "duration": 36,
    "start_time": "2023-07-03T15:16:30.273Z"
   },
   {
    "duration": 53,
    "start_time": "2023-07-03T15:16:30.311Z"
   },
   {
    "duration": 32,
    "start_time": "2023-07-03T15:16:30.366Z"
   },
   {
    "duration": 19,
    "start_time": "2023-07-03T15:16:30.399Z"
   },
   {
    "duration": 193,
    "start_time": "2023-07-03T15:16:30.420Z"
   },
   {
    "duration": 5,
    "start_time": "2023-07-03T15:16:30.614Z"
   },
   {
    "duration": 42,
    "start_time": "2023-07-03T15:16:30.620Z"
   },
   {
    "duration": 854,
    "start_time": "2023-07-03T15:16:30.664Z"
   },
   {
    "duration": 901,
    "start_time": "2023-07-03T15:16:31.520Z"
   },
   {
    "duration": 896,
    "start_time": "2023-07-03T15:16:32.423Z"
   },
   {
    "duration": 301,
    "start_time": "2023-07-03T15:16:33.320Z"
   },
   {
    "duration": 328,
    "start_time": "2023-07-03T15:16:33.623Z"
   },
   {
    "duration": 7,
    "start_time": "2023-07-03T15:16:33.953Z"
   },
   {
    "duration": 253,
    "start_time": "2023-07-03T15:16:33.961Z"
   },
   {
    "duration": 314,
    "start_time": "2023-07-03T15:16:34.215Z"
   },
   {
    "duration": 702,
    "start_time": "2023-07-03T15:16:34.531Z"
   },
   {
    "duration": 10,
    "start_time": "2023-07-03T15:16:35.234Z"
   },
   {
    "duration": 7,
    "start_time": "2023-07-03T15:16:35.246Z"
   },
   {
    "duration": 12,
    "start_time": "2023-07-03T15:16:35.256Z"
   },
   {
    "duration": 4,
    "start_time": "2023-07-03T15:16:35.270Z"
   },
   {
    "duration": 20,
    "start_time": "2023-07-03T15:16:35.276Z"
   },
   {
    "duration": 3,
    "start_time": "2023-07-03T15:16:35.298Z"
   },
   {
    "duration": 2567,
    "start_time": "2023-07-03T15:16:35.302Z"
   },
   {
    "duration": 14385,
    "start_time": "2023-07-03T15:16:37.870Z"
   },
   {
    "duration": 227682,
    "start_time": "2023-07-03T15:16:52.256Z"
   },
   {
    "duration": 4,
    "start_time": "2023-07-03T15:20:39.940Z"
   },
   {
    "duration": 32,
    "start_time": "2023-07-03T15:20:39.945Z"
   },
   {
    "duration": 8,
    "start_time": "2023-07-03T15:20:39.979Z"
   },
   {
    "duration": 3,
    "start_time": "2023-07-03T15:20:39.989Z"
   },
   {
    "duration": 6,
    "start_time": "2023-07-03T15:20:39.994Z"
   },
   {
    "duration": 30,
    "start_time": "2023-07-03T15:21:30.808Z"
   },
   {
    "duration": 111,
    "start_time": "2023-07-03T15:23:26.481Z"
   },
   {
    "duration": 6,
    "start_time": "2023-07-03T15:28:32.206Z"
   },
   {
    "duration": 1063,
    "start_time": "2023-07-03T15:28:34.799Z"
   },
   {
    "duration": 1038,
    "start_time": "2023-07-03T15:29:01.804Z"
   },
   {
    "duration": 21,
    "start_time": "2023-07-03T23:09:05.985Z"
   },
   {
    "duration": 18,
    "start_time": "2023-07-03T23:09:30.875Z"
   },
   {
    "duration": 245,
    "start_time": "2023-07-03T23:11:24.588Z"
   },
   {
    "duration": 178,
    "start_time": "2023-07-03T23:13:10.026Z"
   },
   {
    "duration": 235,
    "start_time": "2023-07-03T23:13:25.290Z"
   },
   {
    "duration": 230,
    "start_time": "2023-07-03T23:13:37.871Z"
   },
   {
    "duration": 314,
    "start_time": "2023-07-03T23:16:55.422Z"
   },
   {
    "duration": 317,
    "start_time": "2023-07-03T23:17:17.069Z"
   },
   {
    "duration": 268,
    "start_time": "2023-07-03T23:17:32.509Z"
   },
   {
    "duration": 299,
    "start_time": "2023-07-03T23:18:03.748Z"
   },
   {
    "duration": 274,
    "start_time": "2023-07-03T23:18:23.373Z"
   },
   {
    "duration": 267,
    "start_time": "2023-07-03T23:20:38.600Z"
   },
   {
    "duration": 187,
    "start_time": "2023-07-03T23:20:53.615Z"
   },
   {
    "duration": 267,
    "start_time": "2023-07-03T23:22:07.156Z"
   },
   {
    "duration": 260,
    "start_time": "2023-07-03T23:22:14.051Z"
   },
   {
    "duration": 294,
    "start_time": "2023-07-03T23:22:19.355Z"
   },
   {
    "duration": 250,
    "start_time": "2023-07-03T23:22:29.484Z"
   },
   {
    "duration": 255,
    "start_time": "2023-07-03T23:22:36.547Z"
   },
   {
    "duration": 248,
    "start_time": "2023-07-03T23:22:44.105Z"
   },
   {
    "duration": 434,
    "start_time": "2023-07-03T23:22:49.921Z"
   },
   {
    "duration": 322,
    "start_time": "2023-07-03T23:22:56.196Z"
   },
   {
    "duration": 325,
    "start_time": "2023-07-03T23:23:17.858Z"
   },
   {
    "duration": 302,
    "start_time": "2023-07-03T23:23:38.288Z"
   },
   {
    "duration": 287,
    "start_time": "2023-07-03T23:24:59.579Z"
   },
   {
    "duration": 279,
    "start_time": "2023-07-03T23:25:17.448Z"
   },
   {
    "duration": 281,
    "start_time": "2023-07-03T23:25:32.908Z"
   },
   {
    "duration": 231,
    "start_time": "2023-07-03T23:27:09.213Z"
   },
   {
    "duration": 224,
    "start_time": "2023-07-03T23:28:03.288Z"
   },
   {
    "duration": 272,
    "start_time": "2023-07-03T23:29:23.537Z"
   },
   {
    "duration": 291,
    "start_time": "2023-07-03T23:30:24.844Z"
   },
   {
    "duration": 268,
    "start_time": "2023-07-03T23:30:59.614Z"
   },
   {
    "duration": 285,
    "start_time": "2023-07-03T23:33:33.081Z"
   },
   {
    "duration": 411,
    "start_time": "2023-07-03T23:33:46.042Z"
   },
   {
    "duration": 309,
    "start_time": "2023-07-03T23:33:58.417Z"
   },
   {
    "duration": 291,
    "start_time": "2023-07-03T23:34:22.700Z"
   },
   {
    "duration": 5383,
    "start_time": "2023-07-03T23:38:48.741Z"
   },
   {
    "duration": 3,
    "start_time": "2023-07-03T23:40:16.043Z"
   },
   {
    "duration": 271,
    "start_time": "2023-07-03T23:40:29.263Z"
   },
   {
    "duration": 9,
    "start_time": "2023-07-03T23:40:51.950Z"
   },
   {
    "duration": 9,
    "start_time": "2023-07-03T23:41:23.208Z"
   },
   {
    "duration": 266,
    "start_time": "2023-07-03T23:41:28.347Z"
   },
   {
    "duration": 296,
    "start_time": "2023-07-03T23:47:18.037Z"
   },
   {
    "duration": 9,
    "start_time": "2023-07-03T23:47:57.455Z"
   },
   {
    "duration": 9,
    "start_time": "2023-07-03T23:49:06.846Z"
   },
   {
    "duration": 9,
    "start_time": "2023-07-03T23:50:04.675Z"
   },
   {
    "duration": 17,
    "start_time": "2023-07-03T23:50:32.462Z"
   },
   {
    "duration": 190,
    "start_time": "2023-07-03T23:57:16.727Z"
   },
   {
    "duration": 338,
    "start_time": "2023-07-03T23:57:19.821Z"
   },
   {
    "duration": 758,
    "start_time": "2023-07-03T23:57:23.312Z"
   },
   {
    "duration": 291,
    "start_time": "2023-07-03T23:59:59.116Z"
   },
   {
    "duration": 122,
    "start_time": "2023-07-04T00:00:17.992Z"
   },
   {
    "duration": 309,
    "start_time": "2023-07-04T00:00:28.312Z"
   },
   {
    "duration": 324,
    "start_time": "2023-07-04T00:00:37.861Z"
   },
   {
    "duration": 284,
    "start_time": "2023-07-04T00:09:23.977Z"
   },
   {
    "duration": 89,
    "start_time": "2023-07-04T00:10:51.716Z"
   },
   {
    "duration": 850,
    "start_time": "2023-07-04T00:10:59.587Z"
   },
   {
    "duration": 884,
    "start_time": "2023-07-04T00:13:20.796Z"
   },
   {
    "duration": 717,
    "start_time": "2023-07-04T00:13:44.598Z"
   },
   {
    "duration": 875,
    "start_time": "2023-07-04T00:13:56.780Z"
   },
   {
    "duration": 725,
    "start_time": "2023-07-04T00:14:05.264Z"
   },
   {
    "duration": 1029,
    "start_time": "2023-07-04T00:14:11.788Z"
   },
   {
    "duration": 791,
    "start_time": "2023-07-04T00:14:16.369Z"
   },
   {
    "duration": 1050,
    "start_time": "2023-07-04T00:14:49.462Z"
   },
   {
    "duration": 704,
    "start_time": "2023-07-04T00:15:04.822Z"
   },
   {
    "duration": 6,
    "start_time": "2023-07-04T00:16:35.060Z"
   },
   {
    "duration": 6,
    "start_time": "2023-07-04T00:17:20.394Z"
   },
   {
    "duration": 5,
    "start_time": "2023-07-04T00:20:08.416Z"
   },
   {
    "duration": 370,
    "start_time": "2023-07-04T00:23:46.727Z"
   },
   {
    "duration": 844,
    "start_time": "2023-07-04T00:24:05.364Z"
   },
   {
    "duration": 316,
    "start_time": "2023-07-04T00:24:32.282Z"
   },
   {
    "duration": 297,
    "start_time": "2023-07-04T00:25:02.331Z"
   },
   {
    "duration": 21,
    "start_time": "2023-07-04T00:26:36.504Z"
   },
   {
    "duration": 1426,
    "start_time": "2023-07-04T00:26:46.096Z"
   },
   {
    "duration": 857,
    "start_time": "2023-07-04T00:26:47.524Z"
   },
   {
    "duration": 5,
    "start_time": "2023-07-04T00:26:48.383Z"
   },
   {
    "duration": 336,
    "start_time": "2023-07-04T00:26:48.390Z"
   },
   {
    "duration": 87,
    "start_time": "2023-07-04T00:26:48.727Z"
   },
   {
    "duration": 84,
    "start_time": "2023-07-04T00:26:48.816Z"
   },
   {
    "duration": 127,
    "start_time": "2023-07-04T00:26:48.902Z"
   },
   {
    "duration": 9,
    "start_time": "2023-07-04T00:26:49.030Z"
   },
   {
    "duration": 4,
    "start_time": "2023-07-04T00:26:49.040Z"
   },
   {
    "duration": 301,
    "start_time": "2023-07-04T00:26:49.047Z"
   },
   {
    "duration": 76,
    "start_time": "2023-07-04T00:26:49.349Z"
   },
   {
    "duration": 42,
    "start_time": "2023-07-04T00:26:49.426Z"
   },
   {
    "duration": 131,
    "start_time": "2023-07-04T00:26:49.470Z"
   },
   {
    "duration": 6,
    "start_time": "2023-07-04T00:26:49.603Z"
   },
   {
    "duration": 5,
    "start_time": "2023-07-04T00:26:49.611Z"
   },
   {
    "duration": 6,
    "start_time": "2023-07-04T00:26:49.618Z"
   },
   {
    "duration": 188,
    "start_time": "2023-07-04T00:26:49.626Z"
   },
   {
    "duration": 63,
    "start_time": "2023-07-04T00:26:49.816Z"
   },
   {
    "duration": 17,
    "start_time": "2023-07-04T00:26:49.881Z"
   },
   {
    "duration": 24,
    "start_time": "2023-07-04T00:26:49.900Z"
   },
   {
    "duration": 43,
    "start_time": "2023-07-04T00:26:49.926Z"
   },
   {
    "duration": 5,
    "start_time": "2023-07-04T00:26:49.971Z"
   },
   {
    "duration": 30,
    "start_time": "2023-07-04T00:26:49.978Z"
   },
   {
    "duration": 8,
    "start_time": "2023-07-04T00:26:50.010Z"
   },
   {
    "duration": 50,
    "start_time": "2023-07-04T00:26:50.020Z"
   },
   {
    "duration": 4,
    "start_time": "2023-07-04T00:26:50.072Z"
   },
   {
    "duration": 218,
    "start_time": "2023-07-04T00:26:50.078Z"
   },
   {
    "duration": 6,
    "start_time": "2023-07-04T00:26:50.300Z"
   },
   {
    "duration": 7,
    "start_time": "2023-07-04T00:26:50.308Z"
   },
   {
    "duration": 378,
    "start_time": "2023-07-04T00:26:50.316Z"
   },
   {
    "duration": 405,
    "start_time": "2023-07-04T00:26:50.696Z"
   },
   {
    "duration": 317,
    "start_time": "2023-07-04T00:26:51.102Z"
   },
   {
    "duration": 19,
    "start_time": "2023-07-04T00:26:51.421Z"
   },
   {
    "duration": 761,
    "start_time": "2023-07-04T00:26:51.441Z"
   },
   {
    "duration": 6,
    "start_time": "2023-07-04T00:26:52.205Z"
   },
   {
    "duration": 45,
    "start_time": "2023-07-04T00:26:52.214Z"
   },
   {
    "duration": 198,
    "start_time": "2023-07-04T00:26:52.261Z"
   },
   {
    "duration": 426,
    "start_time": "2023-07-04T00:26:52.462Z"
   },
   {
    "duration": 645,
    "start_time": "2023-07-04T00:26:52.889Z"
   },
   {
    "duration": 2,
    "start_time": "2023-07-04T00:26:53.536Z"
   },
   {
    "duration": 8,
    "start_time": "2023-07-04T00:26:53.540Z"
   },
   {
    "duration": 18,
    "start_time": "2023-07-04T00:26:53.550Z"
   },
   {
    "duration": 4,
    "start_time": "2023-07-04T00:26:53.570Z"
   },
   {
    "duration": 24,
    "start_time": "2023-07-04T00:26:53.575Z"
   },
   {
    "duration": 3,
    "start_time": "2023-07-04T00:26:53.601Z"
   },
   {
    "duration": 166,
    "start_time": "2023-07-04T00:26:53.605Z"
   },
   {
    "duration": 0,
    "start_time": "2023-07-04T00:26:53.773Z"
   },
   {
    "duration": 0,
    "start_time": "2023-07-04T00:26:53.774Z"
   },
   {
    "duration": 0,
    "start_time": "2023-07-04T00:26:53.776Z"
   },
   {
    "duration": 0,
    "start_time": "2023-07-04T00:26:53.777Z"
   },
   {
    "duration": 0,
    "start_time": "2023-07-04T00:26:53.778Z"
   },
   {
    "duration": 0,
    "start_time": "2023-07-04T00:26:53.779Z"
   },
   {
    "duration": 7,
    "start_time": "2023-07-04T00:32:45.492Z"
   },
   {
    "duration": 183,
    "start_time": "2023-07-04T00:32:55.947Z"
   },
   {
    "duration": 310,
    "start_time": "2023-07-04T00:34:05.152Z"
   },
   {
    "duration": 199,
    "start_time": "2023-07-04T00:34:16.317Z"
   },
   {
    "duration": 312,
    "start_time": "2023-07-04T00:34:32.248Z"
   },
   {
    "duration": 418,
    "start_time": "2023-07-04T00:34:48.744Z"
   },
   {
    "duration": 731,
    "start_time": "2023-07-04T00:35:58.979Z"
   },
   {
    "duration": 43,
    "start_time": "2023-07-04T00:38:49.048Z"
   },
   {
    "duration": 694,
    "start_time": "2023-07-04T00:38:58.197Z"
   },
   {
    "duration": 5,
    "start_time": "2023-07-04T00:39:01.396Z"
   },
   {
    "duration": 325,
    "start_time": "2023-07-04T00:39:05.830Z"
   },
   {
    "duration": 310,
    "start_time": "2023-07-04T00:39:07.800Z"
   },
   {
    "duration": 374,
    "start_time": "2023-07-04T00:39:10.196Z"
   },
   {
    "duration": 704,
    "start_time": "2023-07-04T00:39:12.186Z"
   },
   {
    "duration": 32,
    "start_time": "2023-07-04T00:39:37.435Z"
   },
   {
    "duration": 374,
    "start_time": "2023-07-04T00:39:44.065Z"
   },
   {
    "duration": 1487,
    "start_time": "2023-07-04T00:39:52.361Z"
   },
   {
    "duration": 858,
    "start_time": "2023-07-04T00:39:53.850Z"
   },
   {
    "duration": 6,
    "start_time": "2023-07-04T00:39:54.710Z"
   },
   {
    "duration": 293,
    "start_time": "2023-07-04T00:39:54.718Z"
   },
   {
    "duration": 79,
    "start_time": "2023-07-04T00:39:55.012Z"
   },
   {
    "duration": 56,
    "start_time": "2023-07-04T00:39:55.092Z"
   },
   {
    "duration": 124,
    "start_time": "2023-07-04T00:39:55.149Z"
   },
   {
    "duration": 8,
    "start_time": "2023-07-04T00:39:55.274Z"
   },
   {
    "duration": 13,
    "start_time": "2023-07-04T00:39:55.283Z"
   },
   {
    "duration": 258,
    "start_time": "2023-07-04T00:39:55.299Z"
   },
   {
    "duration": 71,
    "start_time": "2023-07-04T00:39:55.559Z"
   },
   {
    "duration": 44,
    "start_time": "2023-07-04T00:39:55.632Z"
   },
   {
    "duration": 133,
    "start_time": "2023-07-04T00:39:55.678Z"
   },
   {
    "duration": 6,
    "start_time": "2023-07-04T00:39:55.813Z"
   },
   {
    "duration": 12,
    "start_time": "2023-07-04T00:39:55.821Z"
   },
   {
    "duration": 11,
    "start_time": "2023-07-04T00:39:55.835Z"
   },
   {
    "duration": 171,
    "start_time": "2023-07-04T00:39:55.849Z"
   },
   {
    "duration": 51,
    "start_time": "2023-07-04T00:39:56.021Z"
   },
   {
    "duration": 18,
    "start_time": "2023-07-04T00:39:56.074Z"
   },
   {
    "duration": 25,
    "start_time": "2023-07-04T00:39:56.094Z"
   },
   {
    "duration": 5,
    "start_time": "2023-07-04T00:39:56.121Z"
   },
   {
    "duration": 5,
    "start_time": "2023-07-04T00:39:56.128Z"
   },
   {
    "duration": 53,
    "start_time": "2023-07-04T00:39:56.135Z"
   },
   {
    "duration": 7,
    "start_time": "2023-07-04T00:39:56.190Z"
   },
   {
    "duration": 14,
    "start_time": "2023-07-04T00:39:56.198Z"
   },
   {
    "duration": 3,
    "start_time": "2023-07-04T00:39:56.214Z"
   },
   {
    "duration": 179,
    "start_time": "2023-07-04T00:39:56.219Z"
   },
   {
    "duration": 5,
    "start_time": "2023-07-04T00:39:56.402Z"
   },
   {
    "duration": 17,
    "start_time": "2023-07-04T00:39:56.409Z"
   },
   {
    "duration": 315,
    "start_time": "2023-07-04T00:39:56.427Z"
   },
   {
    "duration": 382,
    "start_time": "2023-07-04T00:39:56.744Z"
   },
   {
    "duration": 359,
    "start_time": "2023-07-04T00:39:57.127Z"
   },
   {
    "duration": 39,
    "start_time": "2023-07-04T00:39:57.489Z"
   },
   {
    "duration": 747,
    "start_time": "2023-07-04T00:39:57.531Z"
   },
   {
    "duration": 5,
    "start_time": "2023-07-04T00:39:58.280Z"
   },
   {
    "duration": 39,
    "start_time": "2023-07-04T00:39:58.286Z"
   },
   {
    "duration": 197,
    "start_time": "2023-07-04T00:39:58.327Z"
   },
   {
    "duration": 438,
    "start_time": "2023-07-04T00:39:58.526Z"
   },
   {
    "duration": 215,
    "start_time": "2023-07-04T00:39:58.965Z"
   },
   {
    "duration": 618,
    "start_time": "2023-07-04T00:39:59.182Z"
   },
   {
    "duration": 2,
    "start_time": "2023-07-04T00:39:59.802Z"
   },
   {
    "duration": 5,
    "start_time": "2023-07-04T00:39:59.806Z"
   },
   {
    "duration": 6,
    "start_time": "2023-07-04T00:39:59.813Z"
   },
   {
    "duration": 5,
    "start_time": "2023-07-04T00:39:59.821Z"
   },
   {
    "duration": 52,
    "start_time": "2023-07-04T00:39:59.827Z"
   },
   {
    "duration": 3,
    "start_time": "2023-07-04T00:39:59.881Z"
   },
   {
    "duration": 271,
    "start_time": "2023-07-04T00:39:59.887Z"
   },
   {
    "duration": 0,
    "start_time": "2023-07-04T00:40:00.159Z"
   },
   {
    "duration": 0,
    "start_time": "2023-07-04T00:40:00.161Z"
   },
   {
    "duration": 0,
    "start_time": "2023-07-04T00:40:00.162Z"
   },
   {
    "duration": 0,
    "start_time": "2023-07-04T00:40:00.163Z"
   },
   {
    "duration": 0,
    "start_time": "2023-07-04T00:40:00.164Z"
   },
   {
    "duration": 0,
    "start_time": "2023-07-04T00:40:00.168Z"
   },
   {
    "duration": 38,
    "start_time": "2023-07-04T00:40:41.032Z"
   },
   {
    "duration": 1460,
    "start_time": "2023-07-04T00:40:46.049Z"
   },
   {
    "duration": 852,
    "start_time": "2023-07-04T00:40:47.511Z"
   },
   {
    "duration": 6,
    "start_time": "2023-07-04T00:40:48.364Z"
   },
   {
    "duration": 315,
    "start_time": "2023-07-04T00:40:48.372Z"
   },
   {
    "duration": 87,
    "start_time": "2023-07-04T00:40:48.689Z"
   },
   {
    "duration": 64,
    "start_time": "2023-07-04T00:40:48.778Z"
   },
   {
    "duration": 133,
    "start_time": "2023-07-04T00:40:48.843Z"
   },
   {
    "duration": 7,
    "start_time": "2023-07-04T00:40:48.978Z"
   },
   {
    "duration": 4,
    "start_time": "2023-07-04T00:40:48.987Z"
   },
   {
    "duration": 309,
    "start_time": "2023-07-04T00:40:48.996Z"
   },
   {
    "duration": 86,
    "start_time": "2023-07-04T00:40:49.306Z"
   },
   {
    "duration": 22,
    "start_time": "2023-07-04T00:40:49.394Z"
   },
   {
    "duration": 160,
    "start_time": "2023-07-04T00:40:49.417Z"
   },
   {
    "duration": 13,
    "start_time": "2023-07-04T00:40:49.579Z"
   },
   {
    "duration": 8,
    "start_time": "2023-07-04T00:40:49.594Z"
   },
   {
    "duration": 5,
    "start_time": "2023-07-04T00:40:49.604Z"
   },
   {
    "duration": 177,
    "start_time": "2023-07-04T00:40:49.611Z"
   },
   {
    "duration": 60,
    "start_time": "2023-07-04T00:40:49.790Z"
   },
   {
    "duration": 30,
    "start_time": "2023-07-04T00:40:49.852Z"
   },
   {
    "duration": 23,
    "start_time": "2023-07-04T00:40:49.884Z"
   },
   {
    "duration": 5,
    "start_time": "2023-07-04T00:40:49.909Z"
   },
   {
    "duration": 5,
    "start_time": "2023-07-04T00:40:49.916Z"
   },
   {
    "duration": 61,
    "start_time": "2023-07-04T00:40:49.922Z"
   },
   {
    "duration": 7,
    "start_time": "2023-07-04T00:40:49.985Z"
   },
   {
    "duration": 8,
    "start_time": "2023-07-04T00:40:49.994Z"
   },
   {
    "duration": 7,
    "start_time": "2023-07-04T00:40:50.004Z"
   },
   {
    "duration": 219,
    "start_time": "2023-07-04T00:40:50.013Z"
   },
   {
    "duration": 5,
    "start_time": "2023-07-04T00:40:50.236Z"
   },
   {
    "duration": 3,
    "start_time": "2023-07-04T00:40:50.243Z"
   },
   {
    "duration": 349,
    "start_time": "2023-07-04T00:40:50.269Z"
   },
   {
    "duration": 422,
    "start_time": "2023-07-04T00:40:50.620Z"
   },
   {
    "duration": 360,
    "start_time": "2023-07-04T00:40:51.043Z"
   },
   {
    "duration": 45,
    "start_time": "2023-07-04T00:40:51.405Z"
   },
   {
    "duration": 827,
    "start_time": "2023-07-04T00:40:51.452Z"
   },
   {
    "duration": 5,
    "start_time": "2023-07-04T00:40:52.281Z"
   },
   {
    "duration": 27,
    "start_time": "2023-07-04T00:40:52.288Z"
   },
   {
    "duration": 253,
    "start_time": "2023-07-04T00:40:52.316Z"
   },
   {
    "duration": 474,
    "start_time": "2023-07-04T00:40:52.570Z"
   },
   {
    "duration": 231,
    "start_time": "2023-07-04T00:40:53.046Z"
   },
   {
    "duration": 698,
    "start_time": "2023-07-04T00:40:53.279Z"
   },
   {
    "duration": 3,
    "start_time": "2023-07-04T00:40:53.979Z"
   },
   {
    "duration": 5,
    "start_time": "2023-07-04T00:40:53.984Z"
   },
   {
    "duration": 10,
    "start_time": "2023-07-04T00:40:53.991Z"
   },
   {
    "duration": 10,
    "start_time": "2023-07-04T00:40:54.003Z"
   },
   {
    "duration": 63,
    "start_time": "2023-07-04T00:40:54.015Z"
   },
   {
    "duration": 3,
    "start_time": "2023-07-04T00:40:54.081Z"
   },
   {
    "duration": 272,
    "start_time": "2023-07-04T00:40:54.086Z"
   },
   {
    "duration": 0,
    "start_time": "2023-07-04T00:40:54.360Z"
   },
   {
    "duration": 0,
    "start_time": "2023-07-04T00:40:54.361Z"
   },
   {
    "duration": 0,
    "start_time": "2023-07-04T00:40:54.367Z"
   },
   {
    "duration": 0,
    "start_time": "2023-07-04T00:40:54.368Z"
   },
   {
    "duration": 0,
    "start_time": "2023-07-04T00:40:54.369Z"
   },
   {
    "duration": 0,
    "start_time": "2023-07-04T00:40:54.370Z"
   },
   {
    "duration": 1518,
    "start_time": "2023-07-04T00:43:47.417Z"
   },
   {
    "duration": 876,
    "start_time": "2023-07-04T00:43:48.937Z"
   },
   {
    "duration": 7,
    "start_time": "2023-07-04T00:43:49.815Z"
   },
   {
    "duration": 321,
    "start_time": "2023-07-04T00:43:49.824Z"
   },
   {
    "duration": 79,
    "start_time": "2023-07-04T00:43:50.147Z"
   },
   {
    "duration": 75,
    "start_time": "2023-07-04T00:43:50.227Z"
   },
   {
    "duration": 122,
    "start_time": "2023-07-04T00:43:50.304Z"
   },
   {
    "duration": 9,
    "start_time": "2023-07-04T00:43:50.427Z"
   },
   {
    "duration": 5,
    "start_time": "2023-07-04T00:43:50.438Z"
   },
   {
    "duration": 284,
    "start_time": "2023-07-04T00:43:50.446Z"
   },
   {
    "duration": 79,
    "start_time": "2023-07-04T00:43:50.732Z"
   },
   {
    "duration": 20,
    "start_time": "2023-07-04T00:43:50.812Z"
   },
   {
    "duration": 145,
    "start_time": "2023-07-04T00:43:50.834Z"
   },
   {
    "duration": 8,
    "start_time": "2023-07-04T00:43:50.981Z"
   },
   {
    "duration": 6,
    "start_time": "2023-07-04T00:43:50.991Z"
   },
   {
    "duration": 9,
    "start_time": "2023-07-04T00:43:50.999Z"
   },
   {
    "duration": 166,
    "start_time": "2023-07-04T00:43:51.010Z"
   },
   {
    "duration": 43,
    "start_time": "2023-07-04T00:43:51.179Z"
   },
   {
    "duration": 15,
    "start_time": "2023-07-04T00:43:51.224Z"
   },
   {
    "duration": 46,
    "start_time": "2023-07-04T00:43:51.241Z"
   },
   {
    "duration": 6,
    "start_time": "2023-07-04T00:43:51.289Z"
   },
   {
    "duration": 15,
    "start_time": "2023-07-04T00:43:51.296Z"
   },
   {
    "duration": 27,
    "start_time": "2023-07-04T00:43:51.312Z"
   },
   {
    "duration": 34,
    "start_time": "2023-07-04T00:43:51.341Z"
   },
   {
    "duration": 11,
    "start_time": "2023-07-04T00:43:51.377Z"
   },
   {
    "duration": 4,
    "start_time": "2023-07-04T00:43:51.390Z"
   },
   {
    "duration": 187,
    "start_time": "2023-07-04T00:43:51.396Z"
   },
   {
    "duration": 5,
    "start_time": "2023-07-04T00:43:51.586Z"
   },
   {
    "duration": 23,
    "start_time": "2023-07-04T00:43:51.592Z"
   },
   {
    "duration": 329,
    "start_time": "2023-07-04T00:43:51.616Z"
   },
   {
    "duration": 393,
    "start_time": "2023-07-04T00:43:51.947Z"
   },
   {
    "duration": 327,
    "start_time": "2023-07-04T00:43:52.341Z"
   },
   {
    "duration": 18,
    "start_time": "2023-07-04T00:43:52.670Z"
   },
   {
    "duration": 760,
    "start_time": "2023-07-04T00:43:52.690Z"
   },
   {
    "duration": 6,
    "start_time": "2023-07-04T00:43:53.452Z"
   },
   {
    "duration": 29,
    "start_time": "2023-07-04T00:43:53.468Z"
   },
   {
    "duration": 197,
    "start_time": "2023-07-04T00:43:53.499Z"
   },
   {
    "duration": 487,
    "start_time": "2023-07-04T00:43:53.697Z"
   },
   {
    "duration": 391,
    "start_time": "2023-07-04T00:43:54.185Z"
   },
   {
    "duration": 737,
    "start_time": "2023-07-04T00:43:54.578Z"
   },
   {
    "duration": 4,
    "start_time": "2023-07-04T00:43:55.317Z"
   },
   {
    "duration": 6,
    "start_time": "2023-07-04T00:43:55.322Z"
   },
   {
    "duration": 8,
    "start_time": "2023-07-04T00:43:55.330Z"
   },
   {
    "duration": 29,
    "start_time": "2023-07-04T00:43:55.339Z"
   },
   {
    "duration": 23,
    "start_time": "2023-07-04T00:43:55.371Z"
   },
   {
    "duration": 3,
    "start_time": "2023-07-04T00:43:55.396Z"
   },
   {
    "duration": 154,
    "start_time": "2023-07-04T00:43:55.401Z"
   },
   {
    "duration": 0,
    "start_time": "2023-07-04T00:43:55.557Z"
   },
   {
    "duration": 0,
    "start_time": "2023-07-04T00:43:55.558Z"
   },
   {
    "duration": 0,
    "start_time": "2023-07-04T00:43:55.560Z"
   },
   {
    "duration": 0,
    "start_time": "2023-07-04T00:43:55.568Z"
   },
   {
    "duration": 0,
    "start_time": "2023-07-04T00:43:55.569Z"
   },
   {
    "duration": 0,
    "start_time": "2023-07-04T00:43:55.571Z"
   },
   {
    "duration": 17,
    "start_time": "2023-07-04T00:50:25.867Z"
   },
   {
    "duration": 5,
    "start_time": "2023-07-04T00:52:03.615Z"
   },
   {
    "duration": 5,
    "start_time": "2023-07-04T00:52:09.008Z"
   },
   {
    "duration": 11,
    "start_time": "2023-07-04T00:52:26.695Z"
   },
   {
    "duration": 3,
    "start_time": "2023-07-04T00:52:36.170Z"
   },
   {
    "duration": 3,
    "start_time": "2023-07-04T00:53:56.904Z"
   },
   {
    "duration": 1362,
    "start_time": "2023-07-04T00:56:39.900Z"
   },
   {
    "duration": 764,
    "start_time": "2023-07-04T00:56:41.264Z"
   },
   {
    "duration": 6,
    "start_time": "2023-07-04T00:56:42.029Z"
   },
   {
    "duration": 268,
    "start_time": "2023-07-04T00:56:42.036Z"
   },
   {
    "duration": 66,
    "start_time": "2023-07-04T00:56:42.306Z"
   },
   {
    "duration": 52,
    "start_time": "2023-07-04T00:56:42.373Z"
   },
   {
    "duration": 117,
    "start_time": "2023-07-04T00:56:42.427Z"
   },
   {
    "duration": 6,
    "start_time": "2023-07-04T00:56:42.546Z"
   },
   {
    "duration": 14,
    "start_time": "2023-07-04T00:56:42.554Z"
   },
   {
    "duration": 253,
    "start_time": "2023-07-04T00:56:42.570Z"
   },
   {
    "duration": 69,
    "start_time": "2023-07-04T00:56:42.825Z"
   },
   {
    "duration": 18,
    "start_time": "2023-07-04T00:56:42.896Z"
   },
   {
    "duration": 135,
    "start_time": "2023-07-04T00:56:42.915Z"
   },
   {
    "duration": 7,
    "start_time": "2023-07-04T00:56:43.051Z"
   },
   {
    "duration": 6,
    "start_time": "2023-07-04T00:56:43.068Z"
   },
   {
    "duration": 5,
    "start_time": "2023-07-04T00:56:43.075Z"
   },
   {
    "duration": 147,
    "start_time": "2023-07-04T00:56:43.081Z"
   },
   {
    "duration": 47,
    "start_time": "2023-07-04T00:56:43.229Z"
   },
   {
    "duration": 14,
    "start_time": "2023-07-04T00:56:43.277Z"
   },
   {
    "duration": 20,
    "start_time": "2023-07-04T00:56:43.292Z"
   },
   {
    "duration": 5,
    "start_time": "2023-07-04T00:56:43.313Z"
   },
   {
    "duration": 4,
    "start_time": "2023-07-04T00:56:43.320Z"
   },
   {
    "duration": 52,
    "start_time": "2023-07-04T00:56:43.325Z"
   },
   {
    "duration": 6,
    "start_time": "2023-07-04T00:56:43.379Z"
   },
   {
    "duration": 7,
    "start_time": "2023-07-04T00:56:43.387Z"
   },
   {
    "duration": 3,
    "start_time": "2023-07-04T00:56:43.395Z"
   },
   {
    "duration": 187,
    "start_time": "2023-07-04T00:56:43.399Z"
   },
   {
    "duration": 4,
    "start_time": "2023-07-04T00:56:43.590Z"
   },
   {
    "duration": 7,
    "start_time": "2023-07-04T00:56:43.596Z"
   },
   {
    "duration": 328,
    "start_time": "2023-07-04T00:56:43.605Z"
   },
   {
    "duration": 426,
    "start_time": "2023-07-04T00:56:43.936Z"
   },
   {
    "duration": 345,
    "start_time": "2023-07-04T00:56:44.363Z"
   },
   {
    "duration": 19,
    "start_time": "2023-07-04T00:56:44.710Z"
   },
   {
    "duration": 767,
    "start_time": "2023-07-04T00:56:44.730Z"
   },
   {
    "duration": 5,
    "start_time": "2023-07-04T00:56:45.498Z"
   },
   {
    "duration": 26,
    "start_time": "2023-07-04T00:56:45.505Z"
   },
   {
    "duration": 195,
    "start_time": "2023-07-04T00:56:45.533Z"
   },
   {
    "duration": 483,
    "start_time": "2023-07-04T00:56:45.729Z"
   },
   {
    "duration": 427,
    "start_time": "2023-07-04T00:56:46.214Z"
   },
   {
    "duration": 811,
    "start_time": "2023-07-04T00:56:46.643Z"
   },
   {
    "duration": 12,
    "start_time": "2023-07-04T00:56:47.456Z"
   },
   {
    "duration": 5,
    "start_time": "2023-07-04T00:56:47.470Z"
   },
   {
    "duration": 7,
    "start_time": "2023-07-04T00:56:47.477Z"
   },
   {
    "duration": 7,
    "start_time": "2023-07-04T00:56:47.486Z"
   },
   {
    "duration": 23,
    "start_time": "2023-07-04T00:56:47.495Z"
   },
   {
    "duration": 3,
    "start_time": "2023-07-04T00:56:47.520Z"
   },
   {
    "duration": 151,
    "start_time": "2023-07-04T00:56:47.525Z"
   },
   {
    "duration": 0,
    "start_time": "2023-07-04T00:56:47.678Z"
   },
   {
    "duration": 0,
    "start_time": "2023-07-04T00:56:47.680Z"
   },
   {
    "duration": 0,
    "start_time": "2023-07-04T00:56:47.681Z"
   },
   {
    "duration": 0,
    "start_time": "2023-07-04T00:56:47.683Z"
   },
   {
    "duration": 0,
    "start_time": "2023-07-04T00:56:47.684Z"
   },
   {
    "duration": 0,
    "start_time": "2023-07-04T00:56:47.686Z"
   },
   {
    "duration": 10,
    "start_time": "2023-07-04T00:57:20.789Z"
   },
   {
    "duration": 1346,
    "start_time": "2023-07-04T00:59:37.295Z"
   },
   {
    "duration": 746,
    "start_time": "2023-07-04T00:59:38.643Z"
   },
   {
    "duration": 5,
    "start_time": "2023-07-04T00:59:39.390Z"
   },
   {
    "duration": 267,
    "start_time": "2023-07-04T00:59:39.396Z"
   },
   {
    "duration": 62,
    "start_time": "2023-07-04T00:59:39.665Z"
   },
   {
    "duration": 69,
    "start_time": "2023-07-04T00:59:39.729Z"
   },
   {
    "duration": 96,
    "start_time": "2023-07-04T00:59:39.800Z"
   },
   {
    "duration": 7,
    "start_time": "2023-07-04T00:59:39.898Z"
   },
   {
    "duration": 3,
    "start_time": "2023-07-04T00:59:39.906Z"
   },
   {
    "duration": 254,
    "start_time": "2023-07-04T00:59:39.912Z"
   },
   {
    "duration": 61,
    "start_time": "2023-07-04T00:59:40.168Z"
   },
   {
    "duration": 42,
    "start_time": "2023-07-04T00:59:40.230Z"
   },
   {
    "duration": 122,
    "start_time": "2023-07-04T00:59:40.273Z"
   },
   {
    "duration": 6,
    "start_time": "2023-07-04T00:59:40.396Z"
   },
   {
    "duration": 9,
    "start_time": "2023-07-04T00:59:40.403Z"
   },
   {
    "duration": 6,
    "start_time": "2023-07-04T00:59:40.413Z"
   },
   {
    "duration": 143,
    "start_time": "2023-07-04T00:59:40.420Z"
   },
   {
    "duration": 39,
    "start_time": "2023-07-04T00:59:40.565Z"
   },
   {
    "duration": 15,
    "start_time": "2023-07-04T00:59:40.605Z"
   },
   {
    "duration": 19,
    "start_time": "2023-07-04T00:59:40.621Z"
   },
   {
    "duration": 5,
    "start_time": "2023-07-04T00:59:40.668Z"
   },
   {
    "duration": 6,
    "start_time": "2023-07-04T00:59:40.674Z"
   },
   {
    "duration": 17,
    "start_time": "2023-07-04T00:59:40.682Z"
   },
   {
    "duration": 7,
    "start_time": "2023-07-04T00:59:40.700Z"
   },
   {
    "duration": 6,
    "start_time": "2023-07-04T00:59:40.708Z"
   },
   {
    "duration": 3,
    "start_time": "2023-07-04T00:59:40.715Z"
   },
   {
    "duration": 200,
    "start_time": "2023-07-04T00:59:40.719Z"
   },
   {
    "duration": 4,
    "start_time": "2023-07-04T00:59:40.922Z"
   },
   {
    "duration": 5,
    "start_time": "2023-07-04T00:59:40.927Z"
   },
   {
    "duration": 295,
    "start_time": "2023-07-04T00:59:40.933Z"
   },
   {
    "duration": 354,
    "start_time": "2023-07-04T00:59:41.229Z"
   },
   {
    "duration": 294,
    "start_time": "2023-07-04T00:59:41.585Z"
   },
   {
    "duration": 39,
    "start_time": "2023-07-04T00:59:41.880Z"
   },
   {
    "duration": 706,
    "start_time": "2023-07-04T00:59:41.920Z"
   },
   {
    "duration": 5,
    "start_time": "2023-07-04T00:59:42.627Z"
   },
   {
    "duration": 51,
    "start_time": "2023-07-04T00:59:42.634Z"
   },
   {
    "duration": 103,
    "start_time": "2023-07-04T00:59:42.687Z"
   },
   {
    "duration": 109,
    "start_time": "2023-07-04T00:59:42.791Z"
   },
   {
    "duration": 210,
    "start_time": "2023-07-04T00:59:42.902Z"
   },
   {
    "duration": 111,
    "start_time": "2023-07-04T00:59:43.113Z"
   },
   {
    "duration": 3,
    "start_time": "2023-07-04T00:59:43.225Z"
   },
   {
    "duration": 4,
    "start_time": "2023-07-04T00:59:43.229Z"
   },
   {
    "duration": 15,
    "start_time": "2023-07-04T00:59:43.235Z"
   },
   {
    "duration": 17,
    "start_time": "2023-07-04T00:59:43.251Z"
   },
   {
    "duration": 161,
    "start_time": "2023-07-04T00:59:43.270Z"
   },
   {
    "duration": 3,
    "start_time": "2023-07-04T00:59:43.433Z"
   },
   {
    "duration": 115,
    "start_time": "2023-07-04T00:59:43.437Z"
   },
   {
    "duration": 0,
    "start_time": "2023-07-04T00:59:43.554Z"
   },
   {
    "duration": 0,
    "start_time": "2023-07-04T00:59:43.555Z"
   },
   {
    "duration": 0,
    "start_time": "2023-07-04T00:59:43.567Z"
   },
   {
    "duration": 0,
    "start_time": "2023-07-04T00:59:43.569Z"
   },
   {
    "duration": 0,
    "start_time": "2023-07-04T00:59:43.570Z"
   },
   {
    "duration": 0,
    "start_time": "2023-07-04T00:59:43.571Z"
   },
   {
    "duration": 1406,
    "start_time": "2023-07-04T01:01:18.198Z"
   },
   {
    "duration": 832,
    "start_time": "2023-07-04T01:01:19.606Z"
   },
   {
    "duration": 6,
    "start_time": "2023-07-04T01:01:20.440Z"
   },
   {
    "duration": 305,
    "start_time": "2023-07-04T01:01:20.448Z"
   },
   {
    "duration": 78,
    "start_time": "2023-07-04T01:01:20.755Z"
   },
   {
    "duration": 75,
    "start_time": "2023-07-04T01:01:20.834Z"
   },
   {
    "duration": 110,
    "start_time": "2023-07-04T01:01:20.910Z"
   },
   {
    "duration": 7,
    "start_time": "2023-07-04T01:01:21.022Z"
   },
   {
    "duration": 4,
    "start_time": "2023-07-04T01:01:21.030Z"
   },
   {
    "duration": 282,
    "start_time": "2023-07-04T01:01:21.036Z"
   },
   {
    "duration": 81,
    "start_time": "2023-07-04T01:01:21.319Z"
   },
   {
    "duration": 22,
    "start_time": "2023-07-04T01:01:21.401Z"
   },
   {
    "duration": 145,
    "start_time": "2023-07-04T01:01:21.424Z"
   },
   {
    "duration": 6,
    "start_time": "2023-07-04T01:01:21.570Z"
   },
   {
    "duration": 5,
    "start_time": "2023-07-04T01:01:21.578Z"
   },
   {
    "duration": 5,
    "start_time": "2023-07-04T01:01:21.585Z"
   },
   {
    "duration": 167,
    "start_time": "2023-07-04T01:01:21.592Z"
   },
   {
    "duration": 48,
    "start_time": "2023-07-04T01:01:21.761Z"
   },
   {
    "duration": 15,
    "start_time": "2023-07-04T01:01:21.811Z"
   },
   {
    "duration": 52,
    "start_time": "2023-07-04T01:01:21.828Z"
   },
   {
    "duration": 6,
    "start_time": "2023-07-04T01:01:21.881Z"
   },
   {
    "duration": 17,
    "start_time": "2023-07-04T01:01:21.888Z"
   },
   {
    "duration": 28,
    "start_time": "2023-07-04T01:01:21.907Z"
   },
   {
    "duration": 7,
    "start_time": "2023-07-04T01:01:21.936Z"
   },
   {
    "duration": 25,
    "start_time": "2023-07-04T01:01:21.945Z"
   },
   {
    "duration": 3,
    "start_time": "2023-07-04T01:01:21.971Z"
   },
   {
    "duration": 188,
    "start_time": "2023-07-04T01:01:21.976Z"
   },
   {
    "duration": 5,
    "start_time": "2023-07-04T01:01:22.171Z"
   },
   {
    "duration": 6,
    "start_time": "2023-07-04T01:01:22.178Z"
   },
   {
    "duration": 344,
    "start_time": "2023-07-04T01:01:22.186Z"
   },
   {
    "duration": 391,
    "start_time": "2023-07-04T01:01:22.531Z"
   },
   {
    "duration": 328,
    "start_time": "2023-07-04T01:01:22.924Z"
   },
   {
    "duration": 25,
    "start_time": "2023-07-04T01:01:23.254Z"
   },
   {
    "duration": 743,
    "start_time": "2023-07-04T01:01:23.280Z"
   },
   {
    "duration": 6,
    "start_time": "2023-07-04T01:01:24.025Z"
   },
   {
    "duration": 41,
    "start_time": "2023-07-04T01:01:24.033Z"
   },
   {
    "duration": 229,
    "start_time": "2023-07-04T01:01:24.076Z"
   },
   {
    "duration": 443,
    "start_time": "2023-07-04T01:01:24.307Z"
   },
   {
    "duration": 381,
    "start_time": "2023-07-04T01:01:24.752Z"
   },
   {
    "duration": 735,
    "start_time": "2023-07-04T01:01:25.135Z"
   },
   {
    "duration": 3,
    "start_time": "2023-07-04T01:01:25.873Z"
   },
   {
    "duration": 29,
    "start_time": "2023-07-04T01:01:25.878Z"
   },
   {
    "duration": 26,
    "start_time": "2023-07-04T01:01:25.909Z"
   },
   {
    "duration": 19,
    "start_time": "2023-07-04T01:01:25.937Z"
   },
   {
    "duration": 36,
    "start_time": "2023-07-04T01:01:25.957Z"
   },
   {
    "duration": 8,
    "start_time": "2023-07-04T01:01:25.995Z"
   },
   {
    "duration": 130,
    "start_time": "2023-07-04T01:01:26.005Z"
   },
   {
    "duration": 0,
    "start_time": "2023-07-04T01:01:26.137Z"
   },
   {
    "duration": 0,
    "start_time": "2023-07-04T01:01:26.138Z"
   },
   {
    "duration": 0,
    "start_time": "2023-07-04T01:01:26.139Z"
   },
   {
    "duration": 0,
    "start_time": "2023-07-04T01:01:26.140Z"
   },
   {
    "duration": 0,
    "start_time": "2023-07-04T01:01:26.141Z"
   },
   {
    "duration": 0,
    "start_time": "2023-07-04T01:01:26.141Z"
   },
   {
    "duration": 1110,
    "start_time": "2023-07-04T01:02:18.158Z"
   },
   {
    "duration": 13,
    "start_time": "2023-07-04T01:02:35.722Z"
   },
   {
    "duration": 14,
    "start_time": "2023-07-04T01:02:58.727Z"
   },
   {
    "duration": 12,
    "start_time": "2023-07-04T01:03:06.805Z"
   },
   {
    "duration": 19,
    "start_time": "2023-07-04T01:05:00.753Z"
   },
   {
    "duration": 13,
    "start_time": "2023-07-04T01:06:26.903Z"
   },
   {
    "duration": 15,
    "start_time": "2023-07-04T01:07:33.476Z"
   },
   {
    "duration": 14,
    "start_time": "2023-07-04T01:07:45.141Z"
   },
   {
    "duration": 1390,
    "start_time": "2023-07-04T01:07:53.203Z"
   },
   {
    "duration": 768,
    "start_time": "2023-07-04T01:07:54.594Z"
   },
   {
    "duration": 5,
    "start_time": "2023-07-04T01:07:55.363Z"
   },
   {
    "duration": 262,
    "start_time": "2023-07-04T01:07:55.370Z"
   },
   {
    "duration": 71,
    "start_time": "2023-07-04T01:07:55.634Z"
   },
   {
    "duration": 62,
    "start_time": "2023-07-04T01:07:55.707Z"
   },
   {
    "duration": 115,
    "start_time": "2023-07-04T01:07:55.770Z"
   },
   {
    "duration": 6,
    "start_time": "2023-07-04T01:07:55.887Z"
   },
   {
    "duration": 3,
    "start_time": "2023-07-04T01:07:55.895Z"
   },
   {
    "duration": 256,
    "start_time": "2023-07-04T01:07:55.900Z"
   },
   {
    "duration": 67,
    "start_time": "2023-07-04T01:07:56.158Z"
   },
   {
    "duration": 19,
    "start_time": "2023-07-04T01:07:56.226Z"
   },
   {
    "duration": 134,
    "start_time": "2023-07-04T01:07:56.246Z"
   },
   {
    "duration": 6,
    "start_time": "2023-07-04T01:07:56.382Z"
   },
   {
    "duration": 6,
    "start_time": "2023-07-04T01:07:56.389Z"
   },
   {
    "duration": 5,
    "start_time": "2023-07-04T01:07:56.396Z"
   },
   {
    "duration": 153,
    "start_time": "2023-07-04T01:07:56.403Z"
   },
   {
    "duration": 45,
    "start_time": "2023-07-04T01:07:56.557Z"
   },
   {
    "duration": 15,
    "start_time": "2023-07-04T01:07:56.604Z"
   },
   {
    "duration": 21,
    "start_time": "2023-07-04T01:07:56.620Z"
   },
   {
    "duration": 6,
    "start_time": "2023-07-04T01:07:56.667Z"
   },
   {
    "duration": 5,
    "start_time": "2023-07-04T01:07:56.674Z"
   },
   {
    "duration": 20,
    "start_time": "2023-07-04T01:07:56.680Z"
   },
   {
    "duration": 6,
    "start_time": "2023-07-04T01:07:56.702Z"
   },
   {
    "duration": 7,
    "start_time": "2023-07-04T01:07:56.710Z"
   },
   {
    "duration": 3,
    "start_time": "2023-07-04T01:07:56.719Z"
   },
   {
    "duration": 205,
    "start_time": "2023-07-04T01:07:56.723Z"
   },
   {
    "duration": 4,
    "start_time": "2023-07-04T01:07:56.933Z"
   },
   {
    "duration": 4,
    "start_time": "2023-07-04T01:07:56.939Z"
   },
   {
    "duration": 315,
    "start_time": "2023-07-04T01:07:56.945Z"
   },
   {
    "duration": 372,
    "start_time": "2023-07-04T01:07:57.262Z"
   },
   {
    "duration": 306,
    "start_time": "2023-07-04T01:07:57.636Z"
   },
   {
    "duration": 29,
    "start_time": "2023-07-04T01:07:57.943Z"
   },
   {
    "duration": 704,
    "start_time": "2023-07-04T01:07:57.974Z"
   },
   {
    "duration": 5,
    "start_time": "2023-07-04T01:07:58.680Z"
   },
   {
    "duration": 39,
    "start_time": "2023-07-04T01:07:58.686Z"
   },
   {
    "duration": 192,
    "start_time": "2023-07-04T01:07:58.727Z"
   },
   {
    "duration": 428,
    "start_time": "2023-07-04T01:07:58.921Z"
   },
   {
    "duration": 364,
    "start_time": "2023-07-04T01:07:59.351Z"
   },
   {
    "duration": 710,
    "start_time": "2023-07-04T01:07:59.716Z"
   },
   {
    "duration": 2,
    "start_time": "2023-07-04T01:08:00.427Z"
   },
   {
    "duration": 26,
    "start_time": "2023-07-04T01:08:00.431Z"
   },
   {
    "duration": 34,
    "start_time": "2023-07-04T01:08:00.458Z"
   },
   {
    "duration": 14,
    "start_time": "2023-07-04T01:08:00.494Z"
   },
   {
    "duration": 41,
    "start_time": "2023-07-04T01:08:00.510Z"
   },
   {
    "duration": 31,
    "start_time": "2023-07-04T01:08:00.553Z"
   },
   {
    "duration": 130,
    "start_time": "2023-07-04T01:08:00.585Z"
   },
   {
    "duration": 0,
    "start_time": "2023-07-04T01:08:00.717Z"
   },
   {
    "duration": 0,
    "start_time": "2023-07-04T01:08:00.719Z"
   },
   {
    "duration": 0,
    "start_time": "2023-07-04T01:08:00.720Z"
   },
   {
    "duration": 0,
    "start_time": "2023-07-04T01:08:00.721Z"
   },
   {
    "duration": 0,
    "start_time": "2023-07-04T01:08:00.723Z"
   },
   {
    "duration": 0,
    "start_time": "2023-07-04T01:08:00.724Z"
   },
   {
    "duration": 11,
    "start_time": "2023-07-04T01:09:46.268Z"
   },
   {
    "duration": 21,
    "start_time": "2023-07-04T01:09:53.762Z"
   },
   {
    "duration": 28,
    "start_time": "2023-07-04T01:10:58.861Z"
   },
   {
    "duration": 37,
    "start_time": "2023-07-04T01:11:48.740Z"
   },
   {
    "duration": 691,
    "start_time": "2023-07-04T01:11:51.384Z"
   },
   {
    "duration": 5,
    "start_time": "2023-07-04T01:11:54.221Z"
   },
   {
    "duration": 7,
    "start_time": "2023-07-04T01:11:58.703Z"
   },
   {
    "duration": 195,
    "start_time": "2023-07-04T01:12:00.126Z"
   },
   {
    "duration": 485,
    "start_time": "2023-07-04T01:12:01.845Z"
   },
   {
    "duration": 370,
    "start_time": "2023-07-04T01:12:04.461Z"
   },
   {
    "duration": 595,
    "start_time": "2023-07-04T01:12:06.492Z"
   },
   {
    "duration": 9,
    "start_time": "2023-07-04T01:12:14.049Z"
   },
   {
    "duration": 2,
    "start_time": "2023-07-04T01:12:28.397Z"
   },
   {
    "duration": 5,
    "start_time": "2023-07-04T01:12:32.320Z"
   },
   {
    "duration": 2,
    "start_time": "2023-07-04T01:12:33.748Z"
   },
   {
    "duration": 20,
    "start_time": "2023-07-04T01:12:34.959Z"
   },
   {
    "duration": 3,
    "start_time": "2023-07-04T01:12:36.404Z"
   },
   {
    "duration": 18,
    "start_time": "2023-07-04T01:12:37.510Z"
   },
   {
    "duration": 12,
    "start_time": "2023-07-04T01:13:02.804Z"
   },
   {
    "duration": 6,
    "start_time": "2023-07-04T01:13:19.410Z"
   },
   {
    "duration": 4,
    "start_time": "2023-07-04T01:13:27.808Z"
   },
   {
    "duration": 4,
    "start_time": "2023-07-04T01:13:32.468Z"
   },
   {
    "duration": 1397,
    "start_time": "2023-07-04T01:13:38.062Z"
   },
   {
    "duration": 747,
    "start_time": "2023-07-04T01:13:39.460Z"
   },
   {
    "duration": 4,
    "start_time": "2023-07-04T01:13:40.209Z"
   },
   {
    "duration": 275,
    "start_time": "2023-07-04T01:13:40.215Z"
   },
   {
    "duration": 64,
    "start_time": "2023-07-04T01:13:40.491Z"
   },
   {
    "duration": 52,
    "start_time": "2023-07-04T01:13:40.568Z"
   },
   {
    "duration": 111,
    "start_time": "2023-07-04T01:13:40.622Z"
   },
   {
    "duration": 7,
    "start_time": "2023-07-04T01:13:40.734Z"
   },
   {
    "duration": 3,
    "start_time": "2023-07-04T01:13:40.743Z"
   },
   {
    "duration": 250,
    "start_time": "2023-07-04T01:13:40.748Z"
   },
   {
    "duration": 77,
    "start_time": "2023-07-04T01:13:41.000Z"
   },
   {
    "duration": 19,
    "start_time": "2023-07-04T01:13:41.079Z"
   },
   {
    "duration": 127,
    "start_time": "2023-07-04T01:13:41.099Z"
   },
   {
    "duration": 6,
    "start_time": "2023-07-04T01:13:41.228Z"
   },
   {
    "duration": 6,
    "start_time": "2023-07-04T01:13:41.235Z"
   },
   {
    "duration": 26,
    "start_time": "2023-07-04T01:13:41.242Z"
   },
   {
    "duration": 131,
    "start_time": "2023-07-04T01:13:41.269Z"
   },
   {
    "duration": 39,
    "start_time": "2023-07-04T01:13:41.401Z"
   },
   {
    "duration": 31,
    "start_time": "2023-07-04T01:13:41.442Z"
   },
   {
    "duration": 21,
    "start_time": "2023-07-04T01:13:41.474Z"
   },
   {
    "duration": 5,
    "start_time": "2023-07-04T01:13:41.496Z"
   },
   {
    "duration": 5,
    "start_time": "2023-07-04T01:13:41.502Z"
   },
   {
    "duration": 19,
    "start_time": "2023-07-04T01:13:41.509Z"
   },
   {
    "duration": 42,
    "start_time": "2023-07-04T01:13:41.530Z"
   },
   {
    "duration": 6,
    "start_time": "2023-07-04T01:13:41.574Z"
   },
   {
    "duration": 2,
    "start_time": "2023-07-04T01:13:41.582Z"
   },
   {
    "duration": 193,
    "start_time": "2023-07-04T01:13:41.586Z"
   },
   {
    "duration": 4,
    "start_time": "2023-07-04T01:13:41.782Z"
   },
   {
    "duration": 4,
    "start_time": "2023-07-04T01:13:41.788Z"
   },
   {
    "duration": 301,
    "start_time": "2023-07-04T01:13:41.793Z"
   },
   {
    "duration": 361,
    "start_time": "2023-07-04T01:13:42.095Z"
   },
   {
    "duration": 301,
    "start_time": "2023-07-04T01:13:42.458Z"
   },
   {
    "duration": 32,
    "start_time": "2023-07-04T01:13:42.760Z"
   },
   {
    "duration": 682,
    "start_time": "2023-07-04T01:13:42.794Z"
   },
   {
    "duration": 5,
    "start_time": "2023-07-04T01:13:43.478Z"
   },
   {
    "duration": 41,
    "start_time": "2023-07-04T01:13:43.484Z"
   },
   {
    "duration": 182,
    "start_time": "2023-07-04T01:13:43.527Z"
   },
   {
    "duration": 447,
    "start_time": "2023-07-04T01:13:43.711Z"
   },
   {
    "duration": 365,
    "start_time": "2023-07-04T01:13:44.159Z"
   },
   {
    "duration": 587,
    "start_time": "2023-07-04T01:13:44.526Z"
   },
   {
    "duration": 2,
    "start_time": "2023-07-04T01:13:45.115Z"
   },
   {
    "duration": 27,
    "start_time": "2023-07-04T01:13:45.118Z"
   },
   {
    "duration": 10,
    "start_time": "2023-07-04T01:13:45.146Z"
   },
   {
    "duration": 5,
    "start_time": "2023-07-04T01:13:45.157Z"
   },
   {
    "duration": 24,
    "start_time": "2023-07-04T01:13:45.163Z"
   },
   {
    "duration": 3,
    "start_time": "2023-07-04T01:13:45.188Z"
   },
   {
    "duration": 118,
    "start_time": "2023-07-04T01:13:45.192Z"
   },
   {
    "duration": 0,
    "start_time": "2023-07-04T01:13:45.311Z"
   },
   {
    "duration": 0,
    "start_time": "2023-07-04T01:13:45.312Z"
   },
   {
    "duration": 0,
    "start_time": "2023-07-04T01:13:45.313Z"
   },
   {
    "duration": 0,
    "start_time": "2023-07-04T01:13:45.314Z"
   },
   {
    "duration": 0,
    "start_time": "2023-07-04T01:13:45.315Z"
   },
   {
    "duration": 0,
    "start_time": "2023-07-04T01:13:45.451Z"
   },
   {
    "duration": 1443,
    "start_time": "2023-07-04T01:15:32.212Z"
   },
   {
    "duration": 781,
    "start_time": "2023-07-04T01:15:33.657Z"
   },
   {
    "duration": 5,
    "start_time": "2023-07-04T01:15:34.440Z"
   },
   {
    "duration": 282,
    "start_time": "2023-07-04T01:15:34.447Z"
   },
   {
    "duration": 72,
    "start_time": "2023-07-04T01:15:34.730Z"
   },
   {
    "duration": 77,
    "start_time": "2023-07-04T01:15:34.803Z"
   },
   {
    "duration": 110,
    "start_time": "2023-07-04T01:15:34.882Z"
   },
   {
    "duration": 8,
    "start_time": "2023-07-04T01:15:34.993Z"
   },
   {
    "duration": 4,
    "start_time": "2023-07-04T01:15:35.002Z"
   },
   {
    "duration": 264,
    "start_time": "2023-07-04T01:15:35.008Z"
   },
   {
    "duration": 66,
    "start_time": "2023-07-04T01:15:35.273Z"
   },
   {
    "duration": 43,
    "start_time": "2023-07-04T01:15:35.340Z"
   },
   {
    "duration": 133,
    "start_time": "2023-07-04T01:15:35.384Z"
   },
   {
    "duration": 7,
    "start_time": "2023-07-04T01:15:35.519Z"
   },
   {
    "duration": 6,
    "start_time": "2023-07-04T01:15:35.528Z"
   },
   {
    "duration": 7,
    "start_time": "2023-07-04T01:15:35.536Z"
   },
   {
    "duration": 138,
    "start_time": "2023-07-04T01:15:35.567Z"
   },
   {
    "duration": 42,
    "start_time": "2023-07-04T01:15:35.707Z"
   },
   {
    "duration": 31,
    "start_time": "2023-07-04T01:15:35.750Z"
   },
   {
    "duration": 24,
    "start_time": "2023-07-04T01:15:35.782Z"
   },
   {
    "duration": 6,
    "start_time": "2023-07-04T01:15:35.807Z"
   },
   {
    "duration": 7,
    "start_time": "2023-07-04T01:15:35.815Z"
   },
   {
    "duration": 66,
    "start_time": "2023-07-04T01:15:35.824Z"
   },
   {
    "duration": 10,
    "start_time": "2023-07-04T01:15:35.891Z"
   },
   {
    "duration": 9,
    "start_time": "2023-07-04T01:15:35.903Z"
   },
   {
    "duration": 3,
    "start_time": "2023-07-04T01:15:35.914Z"
   },
   {
    "duration": 198,
    "start_time": "2023-07-04T01:15:35.919Z"
   },
   {
    "duration": 6,
    "start_time": "2023-07-04T01:15:36.122Z"
   },
   {
    "duration": 3,
    "start_time": "2023-07-04T01:15:36.130Z"
   },
   {
    "duration": 322,
    "start_time": "2023-07-04T01:15:36.135Z"
   },
   {
    "duration": 372,
    "start_time": "2023-07-04T01:15:36.459Z"
   },
   {
    "duration": 317,
    "start_time": "2023-07-04T01:15:36.833Z"
   },
   {
    "duration": 150,
    "start_time": "2023-07-04T01:15:37.152Z"
   },
   {
    "duration": 0,
    "start_time": "2023-07-04T01:15:37.304Z"
   },
   {
    "duration": 0,
    "start_time": "2023-07-04T01:15:37.304Z"
   },
   {
    "duration": 0,
    "start_time": "2023-07-04T01:15:37.305Z"
   },
   {
    "duration": 0,
    "start_time": "2023-07-04T01:15:37.306Z"
   },
   {
    "duration": 1,
    "start_time": "2023-07-04T01:15:37.307Z"
   },
   {
    "duration": 0,
    "start_time": "2023-07-04T01:15:37.308Z"
   },
   {
    "duration": 0,
    "start_time": "2023-07-04T01:15:37.309Z"
   },
   {
    "duration": 0,
    "start_time": "2023-07-04T01:15:37.311Z"
   },
   {
    "duration": 0,
    "start_time": "2023-07-04T01:15:37.312Z"
   },
   {
    "duration": 0,
    "start_time": "2023-07-04T01:15:37.313Z"
   },
   {
    "duration": 0,
    "start_time": "2023-07-04T01:15:37.314Z"
   },
   {
    "duration": 0,
    "start_time": "2023-07-04T01:15:37.315Z"
   },
   {
    "duration": 0,
    "start_time": "2023-07-04T01:15:37.316Z"
   },
   {
    "duration": 0,
    "start_time": "2023-07-04T01:15:37.317Z"
   },
   {
    "duration": 0,
    "start_time": "2023-07-04T01:15:37.319Z"
   },
   {
    "duration": 0,
    "start_time": "2023-07-04T01:15:37.320Z"
   },
   {
    "duration": 0,
    "start_time": "2023-07-04T01:15:37.321Z"
   },
   {
    "duration": 0,
    "start_time": "2023-07-04T01:15:37.322Z"
   },
   {
    "duration": 0,
    "start_time": "2023-07-04T01:15:37.323Z"
   },
   {
    "duration": 0,
    "start_time": "2023-07-04T01:15:37.324Z"
   },
   {
    "duration": 18,
    "start_time": "2023-07-04T01:16:17.348Z"
   },
   {
    "duration": 1437,
    "start_time": "2023-07-04T01:16:22.295Z"
   },
   {
    "duration": 788,
    "start_time": "2023-07-04T01:16:23.734Z"
   },
   {
    "duration": 5,
    "start_time": "2023-07-04T01:16:24.524Z"
   },
   {
    "duration": 282,
    "start_time": "2023-07-04T01:16:24.530Z"
   },
   {
    "duration": 81,
    "start_time": "2023-07-04T01:16:24.813Z"
   },
   {
    "duration": 75,
    "start_time": "2023-07-04T01:16:24.895Z"
   },
   {
    "duration": 109,
    "start_time": "2023-07-04T01:16:24.972Z"
   },
   {
    "duration": 8,
    "start_time": "2023-07-04T01:16:25.082Z"
   },
   {
    "duration": 4,
    "start_time": "2023-07-04T01:16:25.091Z"
   },
   {
    "duration": 270,
    "start_time": "2023-07-04T01:16:25.098Z"
   },
   {
    "duration": 62,
    "start_time": "2023-07-04T01:16:25.370Z"
   },
   {
    "duration": 41,
    "start_time": "2023-07-04T01:16:25.434Z"
   },
   {
    "duration": 122,
    "start_time": "2023-07-04T01:16:25.477Z"
   },
   {
    "duration": 6,
    "start_time": "2023-07-04T01:16:25.601Z"
   },
   {
    "duration": 6,
    "start_time": "2023-07-04T01:16:25.609Z"
   },
   {
    "duration": 8,
    "start_time": "2023-07-04T01:16:25.617Z"
   },
   {
    "duration": 153,
    "start_time": "2023-07-04T01:16:25.627Z"
   },
   {
    "duration": 50,
    "start_time": "2023-07-04T01:16:25.781Z"
   },
   {
    "duration": 36,
    "start_time": "2023-07-04T01:16:25.833Z"
   },
   {
    "duration": 22,
    "start_time": "2023-07-04T01:16:25.872Z"
   },
   {
    "duration": 5,
    "start_time": "2023-07-04T01:16:25.895Z"
   },
   {
    "duration": 5,
    "start_time": "2023-07-04T01:16:25.902Z"
   },
   {
    "duration": 25,
    "start_time": "2023-07-04T01:16:25.908Z"
   },
   {
    "duration": 37,
    "start_time": "2023-07-04T01:16:25.934Z"
   },
   {
    "duration": 8,
    "start_time": "2023-07-04T01:16:25.972Z"
   },
   {
    "duration": 3,
    "start_time": "2023-07-04T01:16:25.982Z"
   },
   {
    "duration": 209,
    "start_time": "2023-07-04T01:16:25.986Z"
   },
   {
    "duration": 5,
    "start_time": "2023-07-04T01:16:26.199Z"
   },
   {
    "duration": 4,
    "start_time": "2023-07-04T01:16:26.205Z"
   },
   {
    "duration": 310,
    "start_time": "2023-07-04T01:16:26.210Z"
   },
   {
    "duration": 474,
    "start_time": "2023-07-04T01:16:26.521Z"
   },
   {
    "duration": 324,
    "start_time": "2023-07-04T01:16:26.997Z"
   },
   {
    "duration": 18,
    "start_time": "2023-07-04T01:16:27.323Z"
   },
   {
    "duration": 725,
    "start_time": "2023-07-04T01:16:27.343Z"
   },
   {
    "duration": 5,
    "start_time": "2023-07-04T01:16:28.070Z"
   },
   {
    "duration": 33,
    "start_time": "2023-07-04T01:16:28.077Z"
   },
   {
    "duration": 198,
    "start_time": "2023-07-04T01:16:28.112Z"
   },
   {
    "duration": 413,
    "start_time": "2023-07-04T01:16:28.311Z"
   },
   {
    "duration": 376,
    "start_time": "2023-07-04T01:16:28.725Z"
   },
   {
    "duration": 714,
    "start_time": "2023-07-04T01:16:29.102Z"
   },
   {
    "duration": 3,
    "start_time": "2023-07-04T01:16:29.817Z"
   },
   {
    "duration": 5,
    "start_time": "2023-07-04T01:16:29.821Z"
   },
   {
    "duration": 7,
    "start_time": "2023-07-04T01:16:29.828Z"
   },
   {
    "duration": 4,
    "start_time": "2023-07-04T01:16:29.836Z"
   },
   {
    "duration": 39,
    "start_time": "2023-07-04T01:16:29.842Z"
   },
   {
    "duration": 3,
    "start_time": "2023-07-04T01:16:29.883Z"
   },
   {
    "duration": 124,
    "start_time": "2023-07-04T01:16:29.887Z"
   },
   {
    "duration": 0,
    "start_time": "2023-07-04T01:16:30.013Z"
   },
   {
    "duration": 0,
    "start_time": "2023-07-04T01:16:30.014Z"
   },
   {
    "duration": 1,
    "start_time": "2023-07-04T01:16:30.015Z"
   },
   {
    "duration": 0,
    "start_time": "2023-07-04T01:16:30.017Z"
   },
   {
    "duration": 0,
    "start_time": "2023-07-04T01:16:30.018Z"
   },
   {
    "duration": 0,
    "start_time": "2023-07-04T01:16:30.019Z"
   },
   {
    "duration": 24,
    "start_time": "2023-07-04T01:21:15.751Z"
   },
   {
    "duration": 6,
    "start_time": "2023-07-04T01:21:21.037Z"
   },
   {
    "duration": 4,
    "start_time": "2023-07-04T01:21:21.843Z"
   },
   {
    "duration": 21,
    "start_time": "2023-07-04T01:21:23.979Z"
   },
   {
    "duration": 17,
    "start_time": "2023-07-04T01:21:35.913Z"
   },
   {
    "duration": 23,
    "start_time": "2023-07-04T01:22:34.371Z"
   },
   {
    "duration": 5301,
    "start_time": "2023-07-04T01:22:51.193Z"
   },
   {
    "duration": 4879,
    "start_time": "2023-07-04T01:23:04.528Z"
   },
   {
    "duration": 84,
    "start_time": "2023-07-04T01:25:16.001Z"
   },
   {
    "duration": 20,
    "start_time": "2023-07-04T01:26:32.511Z"
   },
   {
    "duration": 1404,
    "start_time": "2023-07-04T01:26:40.444Z"
   },
   {
    "duration": 756,
    "start_time": "2023-07-04T01:26:41.850Z"
   },
   {
    "duration": 5,
    "start_time": "2023-07-04T01:26:42.608Z"
   },
   {
    "duration": 270,
    "start_time": "2023-07-04T01:26:42.615Z"
   },
   {
    "duration": 65,
    "start_time": "2023-07-04T01:26:42.886Z"
   },
   {
    "duration": 65,
    "start_time": "2023-07-04T01:26:42.952Z"
   },
   {
    "duration": 116,
    "start_time": "2023-07-04T01:26:43.019Z"
   },
   {
    "duration": 7,
    "start_time": "2023-07-04T01:26:43.136Z"
   },
   {
    "duration": 4,
    "start_time": "2023-07-04T01:26:43.144Z"
   },
   {
    "duration": 255,
    "start_time": "2023-07-04T01:26:43.150Z"
   },
   {
    "duration": 78,
    "start_time": "2023-07-04T01:26:43.407Z"
   },
   {
    "duration": 21,
    "start_time": "2023-07-04T01:26:43.487Z"
   },
   {
    "duration": 144,
    "start_time": "2023-07-04T01:26:43.509Z"
   },
   {
    "duration": 16,
    "start_time": "2023-07-04T01:26:43.655Z"
   },
   {
    "duration": 9,
    "start_time": "2023-07-04T01:26:43.673Z"
   },
   {
    "duration": 20,
    "start_time": "2023-07-04T01:26:43.683Z"
   },
   {
    "duration": 4,
    "start_time": "2023-07-04T01:26:43.705Z"
   },
   {
    "duration": 158,
    "start_time": "2023-07-04T01:26:43.711Z"
   },
   {
    "duration": 39,
    "start_time": "2023-07-04T01:26:43.871Z"
   },
   {
    "duration": 37,
    "start_time": "2023-07-04T01:26:43.913Z"
   },
   {
    "duration": 36,
    "start_time": "2023-07-04T01:26:43.952Z"
   },
   {
    "duration": 7,
    "start_time": "2023-07-04T01:26:43.990Z"
   },
   {
    "duration": 19,
    "start_time": "2023-07-04T01:26:43.999Z"
   },
   {
    "duration": 56,
    "start_time": "2023-07-04T01:26:44.020Z"
   },
   {
    "duration": 7,
    "start_time": "2023-07-04T01:26:44.077Z"
   },
   {
    "duration": 22,
    "start_time": "2023-07-04T01:26:44.085Z"
   },
   {
    "duration": 9,
    "start_time": "2023-07-04T01:26:44.109Z"
   },
   {
    "duration": 165,
    "start_time": "2023-07-04T01:26:44.121Z"
   },
   {
    "duration": 5,
    "start_time": "2023-07-04T01:26:44.287Z"
   },
   {
    "duration": 5,
    "start_time": "2023-07-04T01:26:44.294Z"
   },
   {
    "duration": 302,
    "start_time": "2023-07-04T01:26:44.300Z"
   },
   {
    "duration": 366,
    "start_time": "2023-07-04T01:26:44.604Z"
   },
   {
    "duration": 314,
    "start_time": "2023-07-04T01:26:44.971Z"
   },
   {
    "duration": 113,
    "start_time": "2023-07-04T01:26:45.287Z"
   },
   {
    "duration": 725,
    "start_time": "2023-07-04T01:26:45.402Z"
   },
   {
    "duration": 4,
    "start_time": "2023-07-04T01:26:46.129Z"
   },
   {
    "duration": 6,
    "start_time": "2023-07-04T01:26:46.135Z"
   },
   {
    "duration": 206,
    "start_time": "2023-07-04T01:26:46.143Z"
   },
   {
    "duration": 407,
    "start_time": "2023-07-04T01:26:46.350Z"
   },
   {
    "duration": 370,
    "start_time": "2023-07-04T01:26:46.759Z"
   },
   {
    "duration": 733,
    "start_time": "2023-07-04T01:26:47.130Z"
   },
   {
    "duration": 4,
    "start_time": "2023-07-04T01:26:47.864Z"
   },
   {
    "duration": 8,
    "start_time": "2023-07-04T01:26:47.869Z"
   },
   {
    "duration": 12,
    "start_time": "2023-07-04T01:26:47.878Z"
   },
   {
    "duration": 5,
    "start_time": "2023-07-04T01:26:47.891Z"
   },
   {
    "duration": 21,
    "start_time": "2023-07-04T01:26:47.898Z"
   },
   {
    "duration": 3,
    "start_time": "2023-07-04T01:26:47.920Z"
   },
   {
    "duration": 149,
    "start_time": "2023-07-04T01:26:47.924Z"
   },
   {
    "duration": 0,
    "start_time": "2023-07-04T01:26:48.075Z"
   },
   {
    "duration": 0,
    "start_time": "2023-07-04T01:26:48.076Z"
   },
   {
    "duration": 0,
    "start_time": "2023-07-04T01:26:48.078Z"
   },
   {
    "duration": 0,
    "start_time": "2023-07-04T01:26:48.080Z"
   },
   {
    "duration": 0,
    "start_time": "2023-07-04T01:26:48.081Z"
   },
   {
    "duration": 0,
    "start_time": "2023-07-04T01:26:48.084Z"
   },
   {
    "duration": 72,
    "start_time": "2023-07-04T01:28:12.826Z"
   },
   {
    "duration": 33,
    "start_time": "2023-07-04T01:28:54.567Z"
   },
   {
    "duration": 1411,
    "start_time": "2023-07-04T01:29:13.708Z"
   },
   {
    "duration": 801,
    "start_time": "2023-07-04T01:29:15.121Z"
   },
   {
    "duration": 5,
    "start_time": "2023-07-04T01:29:15.926Z"
   },
   {
    "duration": 293,
    "start_time": "2023-07-04T01:29:15.932Z"
   },
   {
    "duration": 73,
    "start_time": "2023-07-04T01:29:16.227Z"
   },
   {
    "duration": 68,
    "start_time": "2023-07-04T01:29:16.301Z"
   },
   {
    "duration": 111,
    "start_time": "2023-07-04T01:29:16.370Z"
   },
   {
    "duration": 8,
    "start_time": "2023-07-04T01:29:16.482Z"
   },
   {
    "duration": 3,
    "start_time": "2023-07-04T01:29:16.493Z"
   },
   {
    "duration": 294,
    "start_time": "2023-07-04T01:29:16.498Z"
   },
   {
    "duration": 83,
    "start_time": "2023-07-04T01:29:16.794Z"
   },
   {
    "duration": 20,
    "start_time": "2023-07-04T01:29:16.879Z"
   },
   {
    "duration": 151,
    "start_time": "2023-07-04T01:29:16.901Z"
   },
   {
    "duration": 14,
    "start_time": "2023-07-04T01:29:17.060Z"
   },
   {
    "duration": 7,
    "start_time": "2023-07-04T01:29:17.076Z"
   },
   {
    "duration": 11,
    "start_time": "2023-07-04T01:29:17.085Z"
   },
   {
    "duration": 179,
    "start_time": "2023-07-04T01:29:17.099Z"
   },
   {
    "duration": 46,
    "start_time": "2023-07-04T01:29:17.280Z"
   },
   {
    "duration": 42,
    "start_time": "2023-07-04T01:29:17.328Z"
   },
   {
    "duration": 23,
    "start_time": "2023-07-04T01:29:17.372Z"
   },
   {
    "duration": 7,
    "start_time": "2023-07-04T01:29:17.397Z"
   },
   {
    "duration": 5,
    "start_time": "2023-07-04T01:29:17.405Z"
   },
   {
    "duration": 20,
    "start_time": "2023-07-04T01:29:17.412Z"
   },
   {
    "duration": 7,
    "start_time": "2023-07-04T01:29:17.469Z"
   },
   {
    "duration": 7,
    "start_time": "2023-07-04T01:29:17.477Z"
   },
   {
    "duration": 3,
    "start_time": "2023-07-04T01:29:17.485Z"
   },
   {
    "duration": 186,
    "start_time": "2023-07-04T01:29:17.491Z"
   },
   {
    "duration": 6,
    "start_time": "2023-07-04T01:29:17.678Z"
   },
   {
    "duration": 5,
    "start_time": "2023-07-04T01:29:17.686Z"
   },
   {
    "duration": 361,
    "start_time": "2023-07-04T01:29:17.694Z"
   },
   {
    "duration": 421,
    "start_time": "2023-07-04T01:29:18.058Z"
   },
   {
    "duration": 314,
    "start_time": "2023-07-04T01:29:18.481Z"
   },
   {
    "duration": 18,
    "start_time": "2023-07-04T01:29:18.797Z"
   },
   {
    "duration": 719,
    "start_time": "2023-07-04T01:29:18.817Z"
   },
   {
    "duration": 5,
    "start_time": "2023-07-04T01:29:19.538Z"
   },
   {
    "duration": 40,
    "start_time": "2023-07-04T01:29:19.545Z"
   },
   {
    "duration": 195,
    "start_time": "2023-07-04T01:29:19.587Z"
   },
   {
    "duration": 440,
    "start_time": "2023-07-04T01:29:19.784Z"
   },
   {
    "duration": 392,
    "start_time": "2023-07-04T01:29:20.225Z"
   },
   {
    "duration": 609,
    "start_time": "2023-07-04T01:29:20.618Z"
   },
   {
    "duration": 3,
    "start_time": "2023-07-04T01:29:21.229Z"
   },
   {
    "duration": 5,
    "start_time": "2023-07-04T01:29:21.233Z"
   },
   {
    "duration": 7,
    "start_time": "2023-07-04T01:29:21.239Z"
   },
   {
    "duration": 20,
    "start_time": "2023-07-04T01:29:21.248Z"
   },
   {
    "duration": 22,
    "start_time": "2023-07-04T01:29:21.270Z"
   },
   {
    "duration": 3,
    "start_time": "2023-07-04T01:29:21.293Z"
   },
   {
    "duration": 3473,
    "start_time": "2023-07-04T01:29:21.297Z"
   },
   {
    "duration": 12168,
    "start_time": "2023-07-04T01:29:24.772Z"
   },
   {
    "duration": 335483,
    "start_time": "2023-07-04T01:29:36.942Z"
   },
   {
    "duration": 6,
    "start_time": "2023-07-04T01:35:12.427Z"
   },
   {
    "duration": 37,
    "start_time": "2023-07-04T01:35:12.434Z"
   },
   {
    "duration": 9,
    "start_time": "2023-07-04T01:35:12.473Z"
   },
   {
    "duration": 5,
    "start_time": "2023-07-04T01:35:12.484Z"
   },
   {
    "duration": 3419,
    "start_time": "2023-07-04T01:35:41.455Z"
   },
   {
    "duration": 3235,
    "start_time": "2023-07-04T01:36:00.633Z"
   },
   {
    "duration": 13662,
    "start_time": "2023-07-04T01:36:14.141Z"
   },
   {
    "duration": 509008,
    "start_time": "2023-07-04T01:37:38.592Z"
   },
   {
    "duration": 11,
    "start_time": "2023-07-04T01:58:24.491Z"
   },
   {
    "duration": 20,
    "start_time": "2023-07-04T01:58:28.958Z"
   },
   {
    "duration": 24,
    "start_time": "2023-07-04T01:58:33.842Z"
   },
   {
    "duration": 21,
    "start_time": "2023-07-04T01:58:37.157Z"
   },
   {
    "duration": 29,
    "start_time": "2023-07-04T01:58:45.788Z"
   },
   {
    "duration": 10,
    "start_time": "2023-07-04T01:59:17.406Z"
   },
   {
    "duration": 4,
    "start_time": "2023-07-04T01:59:19.217Z"
   },
   {
    "duration": 3273,
    "start_time": "2023-07-05T05:02:46.148Z"
   },
   {
    "duration": 3139,
    "start_time": "2023-07-05T05:02:49.423Z"
   },
   {
    "duration": 6,
    "start_time": "2023-07-05T05:02:52.563Z"
   },
   {
    "duration": 298,
    "start_time": "2023-07-05T05:02:52.571Z"
   },
   {
    "duration": 76,
    "start_time": "2023-07-05T05:02:52.871Z"
   },
   {
    "duration": 71,
    "start_time": "2023-07-05T05:02:52.948Z"
   },
   {
    "duration": 114,
    "start_time": "2023-07-05T05:02:53.021Z"
   },
   {
    "duration": 8,
    "start_time": "2023-07-05T05:02:53.136Z"
   },
   {
    "duration": 8,
    "start_time": "2023-07-05T05:02:53.145Z"
   },
   {
    "duration": 274,
    "start_time": "2023-07-05T05:02:53.156Z"
   },
   {
    "duration": 83,
    "start_time": "2023-07-05T05:02:53.432Z"
   },
   {
    "duration": 20,
    "start_time": "2023-07-05T05:02:53.516Z"
   },
   {
    "duration": 139,
    "start_time": "2023-07-05T05:02:53.538Z"
   },
   {
    "duration": 6,
    "start_time": "2023-07-05T05:02:53.678Z"
   },
   {
    "duration": 12,
    "start_time": "2023-07-05T05:02:53.686Z"
   },
   {
    "duration": 17,
    "start_time": "2023-07-05T05:02:53.700Z"
   },
   {
    "duration": 159,
    "start_time": "2023-07-05T05:02:53.718Z"
   },
   {
    "duration": 48,
    "start_time": "2023-07-05T05:02:53.879Z"
   },
   {
    "duration": 20,
    "start_time": "2023-07-05T05:02:53.930Z"
   },
   {
    "duration": 23,
    "start_time": "2023-07-05T05:02:53.952Z"
   },
   {
    "duration": 18,
    "start_time": "2023-07-05T05:02:53.976Z"
   },
   {
    "duration": 23,
    "start_time": "2023-07-05T05:02:53.996Z"
   },
   {
    "duration": 28,
    "start_time": "2023-07-05T05:02:54.021Z"
   },
   {
    "duration": 8,
    "start_time": "2023-07-05T05:02:54.051Z"
   },
   {
    "duration": 16,
    "start_time": "2023-07-05T05:02:54.061Z"
   },
   {
    "duration": 4,
    "start_time": "2023-07-05T05:02:54.078Z"
   },
   {
    "duration": 186,
    "start_time": "2023-07-05T05:02:54.084Z"
   },
   {
    "duration": 5,
    "start_time": "2023-07-05T05:02:54.274Z"
   },
   {
    "duration": 12,
    "start_time": "2023-07-05T05:02:54.281Z"
   },
   {
    "duration": 304,
    "start_time": "2023-07-05T05:02:54.295Z"
   },
   {
    "duration": 375,
    "start_time": "2023-07-05T05:02:54.601Z"
   },
   {
    "duration": 313,
    "start_time": "2023-07-05T05:02:54.977Z"
   },
   {
    "duration": 27,
    "start_time": "2023-07-05T05:02:55.291Z"
   },
   {
    "duration": 762,
    "start_time": "2023-07-05T05:02:55.320Z"
   },
   {
    "duration": 3225,
    "start_time": "2023-07-05T05:04:17.890Z"
   },
   {
    "duration": 772,
    "start_time": "2023-07-05T05:04:21.117Z"
   },
   {
    "duration": 5,
    "start_time": "2023-07-05T05:04:21.891Z"
   },
   {
    "duration": 315,
    "start_time": "2023-07-05T05:04:21.898Z"
   },
   {
    "duration": 72,
    "start_time": "2023-07-05T05:04:22.215Z"
   },
   {
    "duration": 76,
    "start_time": "2023-07-05T05:04:22.288Z"
   },
   {
    "duration": 116,
    "start_time": "2023-07-05T05:04:22.366Z"
   },
   {
    "duration": 7,
    "start_time": "2023-07-05T05:04:22.483Z"
   },
   {
    "duration": 20,
    "start_time": "2023-07-05T05:04:22.492Z"
   },
   {
    "duration": 288,
    "start_time": "2023-07-05T05:04:22.515Z"
   },
   {
    "duration": 76,
    "start_time": "2023-07-05T05:04:22.804Z"
   },
   {
    "duration": 36,
    "start_time": "2023-07-05T05:04:22.882Z"
   },
   {
    "duration": 137,
    "start_time": "2023-07-05T05:04:22.920Z"
   },
   {
    "duration": 7,
    "start_time": "2023-07-05T05:04:23.059Z"
   },
   {
    "duration": 7,
    "start_time": "2023-07-05T05:04:23.068Z"
   },
   {
    "duration": 8,
    "start_time": "2023-07-05T05:04:23.077Z"
   },
   {
    "duration": 169,
    "start_time": "2023-07-05T05:04:23.086Z"
   },
   {
    "duration": 58,
    "start_time": "2023-07-05T05:04:23.257Z"
   },
   {
    "duration": 16,
    "start_time": "2023-07-05T05:04:23.316Z"
   },
   {
    "duration": 24,
    "start_time": "2023-07-05T05:04:23.333Z"
   },
   {
    "duration": 6,
    "start_time": "2023-07-05T05:04:23.358Z"
   },
   {
    "duration": 6,
    "start_time": "2023-07-05T05:04:23.365Z"
   },
   {
    "duration": 54,
    "start_time": "2023-07-05T05:04:23.373Z"
   },
   {
    "duration": 14,
    "start_time": "2023-07-05T05:04:23.430Z"
   },
   {
    "duration": 12,
    "start_time": "2023-07-05T05:04:23.446Z"
   },
   {
    "duration": 3,
    "start_time": "2023-07-05T05:04:23.460Z"
   },
   {
    "duration": 199,
    "start_time": "2023-07-05T05:04:23.464Z"
   },
   {
    "duration": 5,
    "start_time": "2023-07-05T05:04:23.666Z"
   },
   {
    "duration": 94,
    "start_time": "2023-07-05T05:04:23.672Z"
   },
   {
    "duration": 342,
    "start_time": "2023-07-05T05:04:23.768Z"
   },
   {
    "duration": 403,
    "start_time": "2023-07-05T05:04:24.114Z"
   },
   {
    "duration": 338,
    "start_time": "2023-07-05T05:04:24.519Z"
   },
   {
    "duration": 18,
    "start_time": "2023-07-05T05:04:24.859Z"
   },
   {
    "duration": 786,
    "start_time": "2023-07-05T05:04:24.879Z"
   },
   {
    "duration": 6,
    "start_time": "2023-07-05T05:04:25.667Z"
   },
   {
    "duration": 10,
    "start_time": "2023-07-05T05:04:25.674Z"
   },
   {
    "duration": 263,
    "start_time": "2023-07-05T05:04:25.685Z"
   },
   {
    "duration": 498,
    "start_time": "2023-07-05T05:04:25.950Z"
   },
   {
    "duration": 454,
    "start_time": "2023-07-05T05:04:26.450Z"
   },
   {
    "duration": 702,
    "start_time": "2023-07-05T05:04:26.906Z"
   },
   {
    "duration": 56,
    "start_time": "2023-07-17T15:53:55.782Z"
   },
   {
    "duration": 2125,
    "start_time": "2023-07-17T15:54:01.349Z"
   },
   {
    "duration": 3628,
    "start_time": "2023-07-17T15:54:03.477Z"
   },
   {
    "duration": 6,
    "start_time": "2023-07-17T15:54:07.107Z"
   },
   {
    "duration": 352,
    "start_time": "2023-07-17T15:54:07.115Z"
   },
   {
    "duration": 110,
    "start_time": "2023-07-17T15:54:07.469Z"
   },
   {
    "duration": 67,
    "start_time": "2023-07-17T15:54:07.581Z"
   },
   {
    "duration": 171,
    "start_time": "2023-07-17T15:54:07.649Z"
   },
   {
    "duration": 11,
    "start_time": "2023-07-17T15:54:07.823Z"
   },
   {
    "duration": 21,
    "start_time": "2023-07-17T15:54:07.837Z"
   },
   {
    "duration": 319,
    "start_time": "2023-07-17T15:54:07.866Z"
   },
   {
    "duration": 84,
    "start_time": "2023-07-17T15:54:08.187Z"
   },
   {
    "duration": 24,
    "start_time": "2023-07-17T15:54:08.274Z"
   },
   {
    "duration": 157,
    "start_time": "2023-07-17T15:54:08.300Z"
   },
   {
    "duration": 9,
    "start_time": "2023-07-17T15:54:08.466Z"
   },
   {
    "duration": 7,
    "start_time": "2023-07-17T15:54:08.477Z"
   },
   {
    "duration": 6,
    "start_time": "2023-07-17T15:54:08.486Z"
   },
   {
    "duration": 188,
    "start_time": "2023-07-17T15:54:08.494Z"
   },
   {
    "duration": 52,
    "start_time": "2023-07-17T15:54:08.684Z"
   },
   {
    "duration": 38,
    "start_time": "2023-07-17T15:54:08.738Z"
   },
   {
    "duration": 31,
    "start_time": "2023-07-17T15:54:08.778Z"
   },
   {
    "duration": 6,
    "start_time": "2023-07-17T15:54:08.811Z"
   },
   {
    "duration": 14,
    "start_time": "2023-07-17T15:54:08.818Z"
   },
   {
    "duration": 46,
    "start_time": "2023-07-17T15:54:08.834Z"
   },
   {
    "duration": 9,
    "start_time": "2023-07-17T15:54:08.882Z"
   },
   {
    "duration": 10,
    "start_time": "2023-07-17T15:54:08.893Z"
   },
   {
    "duration": 5,
    "start_time": "2023-07-17T15:54:08.905Z"
   },
   {
    "duration": 226,
    "start_time": "2023-07-17T15:54:08.911Z"
   },
   {
    "duration": 7,
    "start_time": "2023-07-17T15:54:09.139Z"
   },
   {
    "duration": 4,
    "start_time": "2023-07-17T15:54:09.148Z"
   },
   {
    "duration": 370,
    "start_time": "2023-07-17T15:54:09.168Z"
   },
   {
    "duration": 455,
    "start_time": "2023-07-17T15:54:09.540Z"
   },
   {
    "duration": 372,
    "start_time": "2023-07-17T15:54:09.997Z"
   },
   {
    "duration": 26,
    "start_time": "2023-07-17T15:54:10.372Z"
   },
   {
    "duration": 67,
    "start_time": "2023-07-17T15:54:10.401Z"
   },
   {
    "duration": 0,
    "start_time": "2023-07-17T15:54:10.470Z"
   },
   {
    "duration": 0,
    "start_time": "2023-07-17T15:54:10.471Z"
   },
   {
    "duration": 0,
    "start_time": "2023-07-17T15:54:10.473Z"
   },
   {
    "duration": 0,
    "start_time": "2023-07-17T15:54:10.474Z"
   },
   {
    "duration": 0,
    "start_time": "2023-07-17T15:54:10.475Z"
   },
   {
    "duration": 0,
    "start_time": "2023-07-17T15:54:10.476Z"
   },
   {
    "duration": 0,
    "start_time": "2023-07-17T15:54:10.477Z"
   },
   {
    "duration": 0,
    "start_time": "2023-07-17T15:54:10.478Z"
   },
   {
    "duration": 0,
    "start_time": "2023-07-17T15:54:10.479Z"
   },
   {
    "duration": 0,
    "start_time": "2023-07-17T15:54:10.481Z"
   },
   {
    "duration": 0,
    "start_time": "2023-07-17T15:54:10.483Z"
   },
   {
    "duration": 0,
    "start_time": "2023-07-17T15:54:10.484Z"
   },
   {
    "duration": 0,
    "start_time": "2023-07-17T15:54:10.486Z"
   },
   {
    "duration": 0,
    "start_time": "2023-07-17T15:54:10.488Z"
   },
   {
    "duration": 0,
    "start_time": "2023-07-17T15:54:10.489Z"
   },
   {
    "duration": 0,
    "start_time": "2023-07-17T15:54:10.491Z"
   },
   {
    "duration": 0,
    "start_time": "2023-07-17T15:54:10.493Z"
   },
   {
    "duration": 0,
    "start_time": "2023-07-17T15:54:10.494Z"
   },
   {
    "duration": 0,
    "start_time": "2023-07-17T15:54:10.495Z"
   },
   {
    "duration": 97,
    "start_time": "2023-07-17T16:15:42.304Z"
   },
   {
    "duration": 1810,
    "start_time": "2023-09-15T18:36:16.551Z"
   },
   {
    "duration": 3329,
    "start_time": "2023-09-15T18:36:18.366Z"
   },
   {
    "duration": 5,
    "start_time": "2023-09-15T18:36:21.697Z"
   },
   {
    "duration": 357,
    "start_time": "2023-09-15T18:36:21.704Z"
   },
   {
    "duration": 87,
    "start_time": "2023-09-15T18:36:22.063Z"
   },
   {
    "duration": 79,
    "start_time": "2023-09-15T18:36:22.152Z"
   },
   {
    "duration": 136,
    "start_time": "2023-09-15T18:36:22.233Z"
   },
   {
    "duration": 13,
    "start_time": "2023-09-15T18:36:22.371Z"
   },
   {
    "duration": 3,
    "start_time": "2023-09-15T18:36:22.386Z"
   },
   {
    "duration": 301,
    "start_time": "2023-09-15T18:36:22.392Z"
   },
   {
    "duration": 90,
    "start_time": "2023-09-15T18:36:22.695Z"
   },
   {
    "duration": 63,
    "start_time": "2023-09-15T18:36:22.787Z"
   },
   {
    "duration": 146,
    "start_time": "2023-09-15T18:36:22.852Z"
   },
   {
    "duration": 6,
    "start_time": "2023-09-15T18:36:22.999Z"
   },
   {
    "duration": 6,
    "start_time": "2023-09-15T18:36:23.006Z"
   },
   {
    "duration": 16,
    "start_time": "2023-09-15T18:36:23.013Z"
   },
   {
    "duration": 180,
    "start_time": "2023-09-15T18:36:23.032Z"
   },
   {
    "duration": 70,
    "start_time": "2023-09-15T18:36:23.214Z"
   },
   {
    "duration": 16,
    "start_time": "2023-09-15T18:36:23.285Z"
   },
   {
    "duration": 65,
    "start_time": "2023-09-15T18:36:23.302Z"
   },
   {
    "duration": 5,
    "start_time": "2023-09-15T18:36:23.369Z"
   },
   {
    "duration": 10,
    "start_time": "2023-09-15T18:36:23.375Z"
   },
   {
    "duration": 23,
    "start_time": "2023-09-15T18:36:23.386Z"
   },
   {
    "duration": 7,
    "start_time": "2023-09-15T18:36:23.411Z"
   },
   {
    "duration": 15,
    "start_time": "2023-09-15T18:36:23.419Z"
   },
   {
    "duration": 8,
    "start_time": "2023-09-15T18:36:23.436Z"
   },
   {
    "duration": 224,
    "start_time": "2023-09-15T18:36:23.448Z"
   },
   {
    "duration": 5,
    "start_time": "2023-09-15T18:36:23.675Z"
   },
   {
    "duration": 23,
    "start_time": "2023-09-15T18:36:23.681Z"
   },
   {
    "duration": 388,
    "start_time": "2023-09-15T18:36:23.706Z"
   },
   {
    "duration": 489,
    "start_time": "2023-09-15T18:36:24.095Z"
   },
   {
    "duration": 410,
    "start_time": "2023-09-15T18:36:24.586Z"
   },
   {
    "duration": 17,
    "start_time": "2023-09-15T18:36:24.997Z"
   },
   {
    "duration": 119,
    "start_time": "2023-09-15T18:36:29.482Z"
   },
   {
    "duration": 127,
    "start_time": "2023-09-15T18:38:18.184Z"
   },
   {
    "duration": 938,
    "start_time": "2023-09-15T18:38:30.541Z"
   },
   {
    "duration": 1571,
    "start_time": "2023-09-15T18:38:41.287Z"
   },
   {
    "duration": 959,
    "start_time": "2023-09-15T18:38:42.861Z"
   },
   {
    "duration": 19,
    "start_time": "2023-09-15T18:38:43.821Z"
   },
   {
    "duration": 331,
    "start_time": "2023-09-15T18:38:43.845Z"
   },
   {
    "duration": 91,
    "start_time": "2023-09-15T18:38:44.178Z"
   },
   {
    "duration": 77,
    "start_time": "2023-09-15T18:38:44.271Z"
   },
   {
    "duration": 121,
    "start_time": "2023-09-15T18:38:44.350Z"
   },
   {
    "duration": 7,
    "start_time": "2023-09-15T18:38:44.473Z"
   },
   {
    "duration": 26,
    "start_time": "2023-09-15T18:38:44.481Z"
   },
   {
    "duration": 326,
    "start_time": "2023-09-15T18:38:44.510Z"
   },
   {
    "duration": 75,
    "start_time": "2023-09-15T18:38:44.841Z"
   },
   {
    "duration": 36,
    "start_time": "2023-09-15T18:38:44.918Z"
   },
   {
    "duration": 160,
    "start_time": "2023-09-15T18:38:44.958Z"
   },
   {
    "duration": 12,
    "start_time": "2023-09-15T18:38:45.119Z"
   },
   {
    "duration": 25,
    "start_time": "2023-09-15T18:38:45.134Z"
   },
   {
    "duration": 22,
    "start_time": "2023-09-15T18:38:45.163Z"
   },
   {
    "duration": 193,
    "start_time": "2023-09-15T18:38:45.187Z"
   },
   {
    "duration": 60,
    "start_time": "2023-09-15T18:38:45.381Z"
   },
   {
    "duration": 29,
    "start_time": "2023-09-15T18:38:45.443Z"
   },
   {
    "duration": 37,
    "start_time": "2023-09-15T18:38:45.474Z"
   },
   {
    "duration": 25,
    "start_time": "2023-09-15T18:38:45.513Z"
   },
   {
    "duration": 10,
    "start_time": "2023-09-15T18:38:45.546Z"
   },
   {
    "duration": 48,
    "start_time": "2023-09-15T18:38:45.557Z"
   },
   {
    "duration": 50,
    "start_time": "2023-09-15T18:38:45.606Z"
   },
   {
    "duration": 12,
    "start_time": "2023-09-15T18:38:45.658Z"
   },
   {
    "duration": 32,
    "start_time": "2023-09-15T18:38:45.671Z"
   },
   {
    "duration": 239,
    "start_time": "2023-09-15T18:38:45.705Z"
   },
   {
    "duration": 6,
    "start_time": "2023-09-15T18:38:45.955Z"
   },
   {
    "duration": 20,
    "start_time": "2023-09-15T18:38:45.963Z"
   },
   {
    "duration": 492,
    "start_time": "2023-09-15T18:38:45.984Z"
   },
   {
    "duration": 502,
    "start_time": "2023-09-15T18:38:46.479Z"
   },
   {
    "duration": 402,
    "start_time": "2023-09-15T18:38:46.983Z"
   },
   {
    "duration": 17,
    "start_time": "2023-09-15T18:38:47.387Z"
   },
   {
    "duration": 907,
    "start_time": "2023-09-15T18:38:47.405Z"
   },
   {
    "duration": 15,
    "start_time": "2023-09-15T18:38:48.314Z"
   },
   {
    "duration": 19,
    "start_time": "2023-09-15T18:38:48.331Z"
   },
   {
    "duration": 322,
    "start_time": "2023-09-15T18:38:48.351Z"
   },
   {
    "duration": 530,
    "start_time": "2023-09-15T18:38:48.675Z"
   },
   {
    "duration": 501,
    "start_time": "2023-09-15T18:38:49.207Z"
   },
   {
    "duration": 848,
    "start_time": "2023-09-15T18:38:49.709Z"
   },
   {
    "duration": 3,
    "start_time": "2023-09-15T18:38:50.560Z"
   },
   {
    "duration": 230,
    "start_time": "2023-09-15T18:38:50.565Z"
   },
   {
    "duration": 15,
    "start_time": "2023-09-15T18:38:50.797Z"
   },
   {
    "duration": 16,
    "start_time": "2023-09-15T18:38:50.814Z"
   },
   {
    "duration": 29,
    "start_time": "2023-09-15T18:38:50.834Z"
   },
   {
    "duration": 3,
    "start_time": "2023-09-15T18:38:50.864Z"
   },
   {
    "duration": 6283,
    "start_time": "2023-09-15T18:38:50.868Z"
   },
   {
    "duration": 13340,
    "start_time": "2023-09-15T18:38:57.153Z"
   },
   {
    "duration": 420460,
    "start_time": "2023-09-15T18:39:10.495Z"
   },
   {
    "duration": 10,
    "start_time": "2023-09-15T18:46:10.956Z"
   },
   {
    "duration": 85,
    "start_time": "2023-09-15T18:46:10.968Z"
   },
   {
    "duration": 124,
    "start_time": "2023-09-15T18:46:11.055Z"
   },
   {
    "duration": 110,
    "start_time": "2023-09-15T18:46:11.180Z"
   }
  ],
  "kernelspec": {
   "display_name": "Python 3 (ipykernel)",
   "language": "python",
   "name": "python3"
  },
  "language_info": {
   "codemirror_mode": {
    "name": "ipython",
    "version": 3
   },
   "file_extension": ".py",
   "mimetype": "text/x-python",
   "name": "python",
   "nbconvert_exporter": "python",
   "pygments_lexer": "ipython3",
   "version": "3.9.5"
  },
  "toc": {
   "base_numbering": 1,
   "nav_menu": {
    "height": "166px",
    "width": "288px"
   },
   "number_sections": true,
   "sideBar": true,
   "skip_h1_title": true,
   "title_cell": "Содержание",
   "title_sidebar": "Contents",
   "toc_cell": true,
   "toc_position": {
    "height": "calc(100% - 180px)",
    "left": "10px",
    "top": "150px",
    "width": "272.797px"
   },
   "toc_section_display": true,
   "toc_window_display": true
  },
  "varInspector": {
   "cols": {
    "lenName": 16,
    "lenType": 16,
    "lenVar": 40
   },
   "kernels_config": {
    "python": {
     "delete_cmd_postfix": "",
     "delete_cmd_prefix": "del ",
     "library": "var_list.py",
     "varRefreshCmd": "print(var_dic_list())"
    },
    "r": {
     "delete_cmd_postfix": ") ",
     "delete_cmd_prefix": "rm(",
     "library": "var_list.r",
     "varRefreshCmd": "cat(var_dic_list()) "
    }
   },
   "types_to_exclude": [
    "module",
    "function",
    "builtin_function_or_method",
    "instance",
    "_Feature"
   ],
   "window_display": false
  }
 },
 "nbformat": 4,
 "nbformat_minor": 2
}

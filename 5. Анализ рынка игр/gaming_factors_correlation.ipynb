{
 "cells": [
  {
   "cell_type": "markdown",
   "metadata": {},
   "source": [
    "# Постановка задачи\n",
    "\n",
    "Вам нужно выявить определяющие успешность игры закономерности. Это позволит сделать ставку на потенциально популярный продукт и спланировать рекламные кампании."
   ]
  },
  {
   "cell_type": "markdown",
   "metadata": {},
   "source": [
    "### Выгрузка датасета"
   ]
  },
  {
   "cell_type": "code",
   "execution_count": 1,
   "metadata": {},
   "outputs": [],
   "source": [
    "import pandas as pd\n",
    "import matplotlib.pyplot as plt\n",
    "from scipy import stats as st\n",
    "import numpy as np"
   ]
  },
  {
   "cell_type": "code",
   "execution_count": 2,
   "metadata": {},
   "outputs": [],
   "source": [
    "try:\n",
    "    df = pd.read_csv('/datasets/games.csv')\n",
    "except:\n",
    "        df = pd.read_csv('/Users/aleksandrfilippov/Documents/ipynb/games.csv')"
   ]
  },
  {
   "cell_type": "code",
   "execution_count": 3,
   "metadata": {
    "scrolled": true
   },
   "outputs": [
    {
     "data": {
      "text/html": [
       "<div>\n",
       "<style scoped>\n",
       "    .dataframe tbody tr th:only-of-type {\n",
       "        vertical-align: middle;\n",
       "    }\n",
       "\n",
       "    .dataframe tbody tr th {\n",
       "        vertical-align: top;\n",
       "    }\n",
       "\n",
       "    .dataframe thead th {\n",
       "        text-align: right;\n",
       "    }\n",
       "</style>\n",
       "<table border=\"1\" class=\"dataframe\">\n",
       "  <thead>\n",
       "    <tr style=\"text-align: right;\">\n",
       "      <th></th>\n",
       "      <th>Name</th>\n",
       "      <th>Platform</th>\n",
       "      <th>Year_of_Release</th>\n",
       "      <th>Genre</th>\n",
       "      <th>NA_sales</th>\n",
       "      <th>EU_sales</th>\n",
       "      <th>JP_sales</th>\n",
       "      <th>Other_sales</th>\n",
       "      <th>Critic_Score</th>\n",
       "      <th>User_Score</th>\n",
       "      <th>Rating</th>\n",
       "    </tr>\n",
       "  </thead>\n",
       "  <tbody>\n",
       "    <tr>\n",
       "      <th>0</th>\n",
       "      <td>Wii Sports</td>\n",
       "      <td>Wii</td>\n",
       "      <td>2006.0</td>\n",
       "      <td>Sports</td>\n",
       "      <td>41.36</td>\n",
       "      <td>28.96</td>\n",
       "      <td>3.77</td>\n",
       "      <td>8.45</td>\n",
       "      <td>76.0</td>\n",
       "      <td>8</td>\n",
       "      <td>E</td>\n",
       "    </tr>\n",
       "    <tr>\n",
       "      <th>1</th>\n",
       "      <td>Super Mario Bros.</td>\n",
       "      <td>NES</td>\n",
       "      <td>1985.0</td>\n",
       "      <td>Platform</td>\n",
       "      <td>29.08</td>\n",
       "      <td>3.58</td>\n",
       "      <td>6.81</td>\n",
       "      <td>0.77</td>\n",
       "      <td>NaN</td>\n",
       "      <td>NaN</td>\n",
       "      <td>NaN</td>\n",
       "    </tr>\n",
       "    <tr>\n",
       "      <th>2</th>\n",
       "      <td>Mario Kart Wii</td>\n",
       "      <td>Wii</td>\n",
       "      <td>2008.0</td>\n",
       "      <td>Racing</td>\n",
       "      <td>15.68</td>\n",
       "      <td>12.76</td>\n",
       "      <td>3.79</td>\n",
       "      <td>3.29</td>\n",
       "      <td>82.0</td>\n",
       "      <td>8.3</td>\n",
       "      <td>E</td>\n",
       "    </tr>\n",
       "    <tr>\n",
       "      <th>3</th>\n",
       "      <td>Wii Sports Resort</td>\n",
       "      <td>Wii</td>\n",
       "      <td>2009.0</td>\n",
       "      <td>Sports</td>\n",
       "      <td>15.61</td>\n",
       "      <td>10.93</td>\n",
       "      <td>3.28</td>\n",
       "      <td>2.95</td>\n",
       "      <td>80.0</td>\n",
       "      <td>8</td>\n",
       "      <td>E</td>\n",
       "    </tr>\n",
       "    <tr>\n",
       "      <th>4</th>\n",
       "      <td>Pokemon Red/Pokemon Blue</td>\n",
       "      <td>GB</td>\n",
       "      <td>1996.0</td>\n",
       "      <td>Role-Playing</td>\n",
       "      <td>11.27</td>\n",
       "      <td>8.89</td>\n",
       "      <td>10.22</td>\n",
       "      <td>1.00</td>\n",
       "      <td>NaN</td>\n",
       "      <td>NaN</td>\n",
       "      <td>NaN</td>\n",
       "    </tr>\n",
       "  </tbody>\n",
       "</table>\n",
       "</div>"
      ],
      "text/plain": [
       "                       Name Platform  Year_of_Release         Genre  NA_sales  \\\n",
       "0                Wii Sports      Wii           2006.0        Sports     41.36   \n",
       "1         Super Mario Bros.      NES           1985.0      Platform     29.08   \n",
       "2            Mario Kart Wii      Wii           2008.0        Racing     15.68   \n",
       "3         Wii Sports Resort      Wii           2009.0        Sports     15.61   \n",
       "4  Pokemon Red/Pokemon Blue       GB           1996.0  Role-Playing     11.27   \n",
       "\n",
       "   EU_sales  JP_sales  Other_sales  Critic_Score User_Score Rating  \n",
       "0     28.96      3.77         8.45          76.0          8      E  \n",
       "1      3.58      6.81         0.77           NaN        NaN    NaN  \n",
       "2     12.76      3.79         3.29          82.0        8.3      E  \n",
       "3     10.93      3.28         2.95          80.0          8      E  \n",
       "4      8.89     10.22         1.00           NaN        NaN    NaN  "
      ]
     },
     "execution_count": 3,
     "metadata": {},
     "output_type": "execute_result"
    }
   ],
   "source": [
    "df.head()"
   ]
  },
  {
   "cell_type": "markdown",
   "metadata": {},
   "source": [
    "###  Подготовка данных"
   ]
  },
  {
   "cell_type": "code",
   "execution_count": 4,
   "metadata": {},
   "outputs": [],
   "source": [
    "#Для начала приведем названия столбцов к нижнему регистру, для упрощения дальнейшей работы\n",
    "df.columns = df.columns.str.lower()"
   ]
  },
  {
   "cell_type": "code",
   "execution_count": 5,
   "metadata": {},
   "outputs": [],
   "source": [
    "df = df.drop_duplicates(subset=['name', 'platform', 'year_of_release'], keep='first').reset_index(drop=True)"
   ]
  },
  {
   "cell_type": "code",
   "execution_count": 6,
   "metadata": {},
   "outputs": [],
   "source": [
    "# Изменим тип столбца user_score на float, для дальнейших вычислений\n",
    "# Так как в этом столбце есть значение tbd(to be determined), можно заменить его на NaN\n",
    "df['user_score'] = (df['user_score']\n",
    "                    .replace('tbd', float('nan'))\n",
    "                    .astype(float))"
   ]
  },
  {
   "cell_type": "code",
   "execution_count": 7,
   "metadata": {},
   "outputs": [
    {
     "name": "stdout",
     "output_type": "stream",
     "text": [
      "<class 'pandas.core.frame.DataFrame'>\n",
      "RangeIndex: 16713 entries, 0 to 16712\n",
      "Data columns (total 11 columns):\n",
      " #   Column           Non-Null Count  Dtype  \n",
      "---  ------           --------------  -----  \n",
      " 0   name             16712 non-null  object \n",
      " 1   platform         16713 non-null  object \n",
      " 2   year_of_release  16444 non-null  float64\n",
      " 3   genre            16712 non-null  object \n",
      " 4   na_sales         16713 non-null  float64\n",
      " 5   eu_sales         16713 non-null  float64\n",
      " 6   jp_sales         16713 non-null  float64\n",
      " 7   other_sales      16713 non-null  float64\n",
      " 8   critic_score     8136 non-null   float64\n",
      " 9   user_score       7589 non-null   float64\n",
      " 10  rating           9948 non-null   object \n",
      "dtypes: float64(7), object(4)\n",
      "memory usage: 1.4+ MB\n"
     ]
    }
   ],
   "source": [
    "# Заполним пропуски где это возможно\n",
    "df.info()"
   ]
  },
  {
   "cell_type": "code",
   "execution_count": 8,
   "metadata": {},
   "outputs": [],
   "source": [
    "# check\n",
    "# пропущенные значения бары\n",
    "\n",
    "def pass_value_barh(df):\n",
    "    try:\n",
    "        (\n",
    "            (df.isna().mean()*100)\n",
    "            .to_frame()\n",
    "            .rename(columns = {0:'space'})\n",
    "            .query('space > 0')\n",
    "            .sort_values(by = 'space', ascending = True)\n",
    "            .plot(kind = 'barh', figsize = (19,6), rot = -5, legend = False, fontsize = 16)\n",
    "            .set_title('Пример' + \"\\n\", fontsize = 22, color = 'SteelBlue')    \n",
    "        );    \n",
    "    except:\n",
    "        print('пропусков не осталось :) или произошла ошибка в первой части функции ')"
   ]
  },
  {
   "cell_type": "code",
   "execution_count": 9,
   "metadata": {},
   "outputs": [
    {
     "data": {
      "image/png": "[encoded data removed]",
      "text/plain": [
       "<Figure size 1368x432 with 1 Axes>"
      ]
     },
     "metadata": {
      "needs_background": "light"
     },
     "output_type": "display_data"
    }
   ],
   "source": [
    "pass_value_barh(df)"
   ]
  },
  {
   "cell_type": "code",
   "execution_count": 10,
   "metadata": {},
   "outputs": [
    {
     "data": {
      "text/html": [
       "<style  type=\"text/css\" >\n",
       "#T_136c1_row0_col0{\n",
       "            background-color:  #b40426;\n",
       "            color:  #f1f1f1;\n",
       "        }#T_136c1_row1_col0{\n",
       "            background-color:  #ca3b37;\n",
       "            color:  #f1f1f1;\n",
       "        }#T_136c1_row2_col0{\n",
       "            background-color:  #f59d7e;\n",
       "            color:  #000000;\n",
       "        }#T_136c1_row3_col0{\n",
       "            background-color:  #4358cb;\n",
       "            color:  #f1f1f1;\n",
       "        }#T_136c1_row4_col0,#T_136c1_row5_col0,#T_136c1_row6_col0,#T_136c1_row7_col0,#T_136c1_row8_col0,#T_136c1_row9_col0,#T_136c1_row10_col0{\n",
       "            background-color:  #3b4cc0;\n",
       "            color:  #f1f1f1;\n",
       "        }</style><table id=\"T_136c1_\" ><thead>    <tr>        <th class=\"blank level0\" ></th>        <th class=\"col_heading level0 col0\" >0</th>    </tr></thead><tbody>\n",
       "                <tr>\n",
       "                        <th id=\"T_136c1_level0_row0\" class=\"row_heading level0 row0\" >user_score</th>\n",
       "                        <td id=\"T_136c1_row0_col0\" class=\"data row0 col0\" >54.592234</td>\n",
       "            </tr>\n",
       "            <tr>\n",
       "                        <th id=\"T_136c1_level0_row1\" class=\"row_heading level0 row1\" >critic_score</th>\n",
       "                        <td id=\"T_136c1_row1_col0\" class=\"data row1 col0\" >51.319332</td>\n",
       "            </tr>\n",
       "            <tr>\n",
       "                        <th id=\"T_136c1_level0_row2\" class=\"row_heading level0 row2\" >rating</th>\n",
       "                        <td id=\"T_136c1_row2_col0\" class=\"data row2 col0\" >40.477473</td>\n",
       "            </tr>\n",
       "            <tr>\n",
       "                        <th id=\"T_136c1_level0_row3\" class=\"row_heading level0 row3\" >year_of_release</th>\n",
       "                        <td id=\"T_136c1_row3_col0\" class=\"data row3 col0\" >1.609526</td>\n",
       "            </tr>\n",
       "            <tr>\n",
       "                        <th id=\"T_136c1_level0_row4\" class=\"row_heading level0 row4\" >name</th>\n",
       "                        <td id=\"T_136c1_row4_col0\" class=\"data row4 col0\" >0.005983</td>\n",
       "            </tr>\n",
       "            <tr>\n",
       "                        <th id=\"T_136c1_level0_row5\" class=\"row_heading level0 row5\" >genre</th>\n",
       "                        <td id=\"T_136c1_row5_col0\" class=\"data row5 col0\" >0.005983</td>\n",
       "            </tr>\n",
       "            <tr>\n",
       "                        <th id=\"T_136c1_level0_row6\" class=\"row_heading level0 row6\" >platform</th>\n",
       "                        <td id=\"T_136c1_row6_col0\" class=\"data row6 col0\" >0.000000</td>\n",
       "            </tr>\n",
       "            <tr>\n",
       "                        <th id=\"T_136c1_level0_row7\" class=\"row_heading level0 row7\" >na_sales</th>\n",
       "                        <td id=\"T_136c1_row7_col0\" class=\"data row7 col0\" >0.000000</td>\n",
       "            </tr>\n",
       "            <tr>\n",
       "                        <th id=\"T_136c1_level0_row8\" class=\"row_heading level0 row8\" >eu_sales</th>\n",
       "                        <td id=\"T_136c1_row8_col0\" class=\"data row8 col0\" >0.000000</td>\n",
       "            </tr>\n",
       "            <tr>\n",
       "                        <th id=\"T_136c1_level0_row9\" class=\"row_heading level0 row9\" >jp_sales</th>\n",
       "                        <td id=\"T_136c1_row9_col0\" class=\"data row9 col0\" >0.000000</td>\n",
       "            </tr>\n",
       "            <tr>\n",
       "                        <th id=\"T_136c1_level0_row10\" class=\"row_heading level0 row10\" >other_sales</th>\n",
       "                        <td id=\"T_136c1_row10_col0\" class=\"data row10 col0\" >0.000000</td>\n",
       "            </tr>\n",
       "    </tbody></table>"
      ],
      "text/plain": [
       "<pandas.io.formats.style.Styler at 0x7f82572e0e50>"
      ]
     },
     "execution_count": 10,
     "metadata": {},
     "output_type": "execute_result"
    }
   ],
   "source": [
    "pd.DataFrame(df\n",
    "              .isna()\n",
    "              .mean()\n",
    "              .sort_values(ascending=False)\n",
    "              *100\n",
    "            ).style.background_gradient('coolwarm')"
   ]
  },
  {
   "cell_type": "markdown",
   "metadata": {},
   "source": [
    "- name / genre - Заменим значения на 'UNKNOWN', чтобы сохранить данные для вычислений и избавиться от пропусков\n",
    "- year_of_release - заменять их смысла нет, так как неизвестен год выпуска\n",
    "- critic_score / user_score / rating - определить какую либо закономерность с другими параметрами не удалось(продажи, год выпуска, платформа), поэтому оставляем значения без изменений"
   ]
  },
  {
   "cell_type": "code",
   "execution_count": 11,
   "metadata": {},
   "outputs": [],
   "source": [
    "df['name'] = df['name'].dropna()\n",
    "df['genre'] = df['genre'].dropna()"
   ]
  },
  {
   "cell_type": "code",
   "execution_count": 12,
   "metadata": {},
   "outputs": [],
   "source": [
    "# Добавим новый столбец с суммарными продажами\n",
    "df['total_sales'] = df['na_sales'] + df['eu_sales'] + df['jp_sales'] + df['other_sales']"
   ]
  },
  {
   "cell_type": "code",
   "execution_count": 13,
   "metadata": {},
   "outputs": [
    {
     "name": "stdout",
     "output_type": "stream",
     "text": [
      "<class 'pandas.core.frame.DataFrame'>\n",
      "RangeIndex: 16713 entries, 0 to 16712\n",
      "Data columns (total 12 columns):\n",
      " #   Column           Non-Null Count  Dtype  \n",
      "---  ------           --------------  -----  \n",
      " 0   name             16712 non-null  object \n",
      " 1   platform         16713 non-null  object \n",
      " 2   year_of_release  16444 non-null  float64\n",
      " 3   genre            16712 non-null  object \n",
      " 4   na_sales         16713 non-null  float64\n",
      " 5   eu_sales         16713 non-null  float64\n",
      " 6   jp_sales         16713 non-null  float64\n",
      " 7   other_sales      16713 non-null  float64\n",
      " 8   critic_score     8136 non-null   float64\n",
      " 9   user_score       7589 non-null   float64\n",
      " 10  rating           9948 non-null   object \n",
      " 11  total_sales      16713 non-null  float64\n",
      "dtypes: float64(8), object(4)\n",
      "memory usage: 1.5+ MB\n"
     ]
    }
   ],
   "source": [
    "# check\n",
    "df.info()"
   ]
  },
  {
   "cell_type": "code",
   "execution_count": 14,
   "metadata": {
    "scrolled": true
   },
   "outputs": [
    {
     "data": {
      "text/html": [
       "<div>\n",
       "<style scoped>\n",
       "    .dataframe tbody tr th:only-of-type {\n",
       "        vertical-align: middle;\n",
       "    }\n",
       "\n",
       "    .dataframe tbody tr th {\n",
       "        vertical-align: top;\n",
       "    }\n",
       "\n",
       "    .dataframe thead th {\n",
       "        text-align: right;\n",
       "    }\n",
       "</style>\n",
       "<table border=\"1\" class=\"dataframe\">\n",
       "  <thead>\n",
       "    <tr style=\"text-align: right;\">\n",
       "      <th></th>\n",
       "      <th>name</th>\n",
       "      <th>platform</th>\n",
       "      <th>year_of_release</th>\n",
       "      <th>genre</th>\n",
       "      <th>na_sales</th>\n",
       "      <th>eu_sales</th>\n",
       "      <th>jp_sales</th>\n",
       "      <th>other_sales</th>\n",
       "      <th>critic_score</th>\n",
       "      <th>user_score</th>\n",
       "      <th>rating</th>\n",
       "      <th>total_sales</th>\n",
       "    </tr>\n",
       "  </thead>\n",
       "  <tbody>\n",
       "    <tr>\n",
       "      <th>1</th>\n",
       "      <td>Super Mario Bros.</td>\n",
       "      <td>NES</td>\n",
       "      <td>1985.0</td>\n",
       "      <td>Platform</td>\n",
       "      <td>29.08</td>\n",
       "      <td>3.58</td>\n",
       "      <td>6.81</td>\n",
       "      <td>0.77</td>\n",
       "      <td>NaN</td>\n",
       "      <td>NaN</td>\n",
       "      <td>NaN</td>\n",
       "      <td>40.24</td>\n",
       "    </tr>\n",
       "    <tr>\n",
       "      <th>4</th>\n",
       "      <td>Pokemon Red/Pokemon Blue</td>\n",
       "      <td>GB</td>\n",
       "      <td>1996.0</td>\n",
       "      <td>Role-Playing</td>\n",
       "      <td>11.27</td>\n",
       "      <td>8.89</td>\n",
       "      <td>10.22</td>\n",
       "      <td>1.00</td>\n",
       "      <td>NaN</td>\n",
       "      <td>NaN</td>\n",
       "      <td>NaN</td>\n",
       "      <td>31.38</td>\n",
       "    </tr>\n",
       "    <tr>\n",
       "      <th>5</th>\n",
       "      <td>Tetris</td>\n",
       "      <td>GB</td>\n",
       "      <td>1989.0</td>\n",
       "      <td>Puzzle</td>\n",
       "      <td>23.20</td>\n",
       "      <td>2.26</td>\n",
       "      <td>4.22</td>\n",
       "      <td>0.58</td>\n",
       "      <td>NaN</td>\n",
       "      <td>NaN</td>\n",
       "      <td>NaN</td>\n",
       "      <td>30.26</td>\n",
       "    </tr>\n",
       "    <tr>\n",
       "      <th>9</th>\n",
       "      <td>Duck Hunt</td>\n",
       "      <td>NES</td>\n",
       "      <td>1984.0</td>\n",
       "      <td>Shooter</td>\n",
       "      <td>26.93</td>\n",
       "      <td>0.63</td>\n",
       "      <td>0.28</td>\n",
       "      <td>0.47</td>\n",
       "      <td>NaN</td>\n",
       "      <td>NaN</td>\n",
       "      <td>NaN</td>\n",
       "      <td>28.31</td>\n",
       "    </tr>\n",
       "    <tr>\n",
       "      <th>10</th>\n",
       "      <td>Nintendogs</td>\n",
       "      <td>DS</td>\n",
       "      <td>2005.0</td>\n",
       "      <td>Simulation</td>\n",
       "      <td>9.05</td>\n",
       "      <td>10.95</td>\n",
       "      <td>1.93</td>\n",
       "      <td>2.74</td>\n",
       "      <td>NaN</td>\n",
       "      <td>NaN</td>\n",
       "      <td>NaN</td>\n",
       "      <td>24.67</td>\n",
       "    </tr>\n",
       "    <tr>\n",
       "      <th>12</th>\n",
       "      <td>Pokemon Gold/Pokemon Silver</td>\n",
       "      <td>GB</td>\n",
       "      <td>1999.0</td>\n",
       "      <td>Role-Playing</td>\n",
       "      <td>9.00</td>\n",
       "      <td>6.18</td>\n",
       "      <td>7.20</td>\n",
       "      <td>0.71</td>\n",
       "      <td>NaN</td>\n",
       "      <td>NaN</td>\n",
       "      <td>NaN</td>\n",
       "      <td>23.09</td>\n",
       "    </tr>\n",
       "    <tr>\n",
       "      <th>18</th>\n",
       "      <td>Super Mario World</td>\n",
       "      <td>SNES</td>\n",
       "      <td>1990.0</td>\n",
       "      <td>Platform</td>\n",
       "      <td>12.78</td>\n",
       "      <td>3.75</td>\n",
       "      <td>3.54</td>\n",
       "      <td>0.55</td>\n",
       "      <td>NaN</td>\n",
       "      <td>NaN</td>\n",
       "      <td>NaN</td>\n",
       "      <td>20.62</td>\n",
       "    </tr>\n",
       "    <tr>\n",
       "      <th>20</th>\n",
       "      <td>Pokemon Diamond/Pokemon Pearl</td>\n",
       "      <td>DS</td>\n",
       "      <td>2006.0</td>\n",
       "      <td>Role-Playing</td>\n",
       "      <td>6.38</td>\n",
       "      <td>4.46</td>\n",
       "      <td>6.04</td>\n",
       "      <td>1.36</td>\n",
       "      <td>NaN</td>\n",
       "      <td>NaN</td>\n",
       "      <td>NaN</td>\n",
       "      <td>18.24</td>\n",
       "    </tr>\n",
       "    <tr>\n",
       "      <th>21</th>\n",
       "      <td>Super Mario Land</td>\n",
       "      <td>GB</td>\n",
       "      <td>1989.0</td>\n",
       "      <td>Platform</td>\n",
       "      <td>10.83</td>\n",
       "      <td>2.71</td>\n",
       "      <td>4.18</td>\n",
       "      <td>0.42</td>\n",
       "      <td>NaN</td>\n",
       "      <td>NaN</td>\n",
       "      <td>NaN</td>\n",
       "      <td>18.14</td>\n",
       "    </tr>\n",
       "    <tr>\n",
       "      <th>22</th>\n",
       "      <td>Super Mario Bros. 3</td>\n",
       "      <td>NES</td>\n",
       "      <td>1988.0</td>\n",
       "      <td>Platform</td>\n",
       "      <td>9.54</td>\n",
       "      <td>3.44</td>\n",
       "      <td>3.84</td>\n",
       "      <td>0.46</td>\n",
       "      <td>NaN</td>\n",
       "      <td>NaN</td>\n",
       "      <td>NaN</td>\n",
       "      <td>17.28</td>\n",
       "    </tr>\n",
       "    <tr>\n",
       "      <th>25</th>\n",
       "      <td>Pokemon Ruby/Pokemon Sapphire</td>\n",
       "      <td>GBA</td>\n",
       "      <td>2002.0</td>\n",
       "      <td>Role-Playing</td>\n",
       "      <td>6.06</td>\n",
       "      <td>3.90</td>\n",
       "      <td>5.38</td>\n",
       "      <td>0.50</td>\n",
       "      <td>NaN</td>\n",
       "      <td>NaN</td>\n",
       "      <td>NaN</td>\n",
       "      <td>15.84</td>\n",
       "    </tr>\n",
       "    <tr>\n",
       "      <th>27</th>\n",
       "      <td>Pokemon Black/Pokemon White</td>\n",
       "      <td>DS</td>\n",
       "      <td>2010.0</td>\n",
       "      <td>Role-Playing</td>\n",
       "      <td>5.51</td>\n",
       "      <td>3.17</td>\n",
       "      <td>5.65</td>\n",
       "      <td>0.80</td>\n",
       "      <td>NaN</td>\n",
       "      <td>NaN</td>\n",
       "      <td>NaN</td>\n",
       "      <td>15.13</td>\n",
       "    </tr>\n",
       "    <tr>\n",
       "      <th>30</th>\n",
       "      <td>Pokémon Yellow: Special Pikachu Edition</td>\n",
       "      <td>GB</td>\n",
       "      <td>1998.0</td>\n",
       "      <td>Role-Playing</td>\n",
       "      <td>5.89</td>\n",
       "      <td>5.04</td>\n",
       "      <td>3.12</td>\n",
       "      <td>0.59</td>\n",
       "      <td>NaN</td>\n",
       "      <td>NaN</td>\n",
       "      <td>NaN</td>\n",
       "      <td>14.64</td>\n",
       "    </tr>\n",
       "    <tr>\n",
       "      <th>31</th>\n",
       "      <td>Call of Duty: Black Ops 3</td>\n",
       "      <td>PS4</td>\n",
       "      <td>2015.0</td>\n",
       "      <td>Shooter</td>\n",
       "      <td>6.03</td>\n",
       "      <td>5.86</td>\n",
       "      <td>0.36</td>\n",
       "      <td>2.38</td>\n",
       "      <td>NaN</td>\n",
       "      <td>NaN</td>\n",
       "      <td>NaN</td>\n",
       "      <td>14.63</td>\n",
       "    </tr>\n",
       "    <tr>\n",
       "      <th>33</th>\n",
       "      <td>Pokemon X/Pokemon Y</td>\n",
       "      <td>3DS</td>\n",
       "      <td>2013.0</td>\n",
       "      <td>Role-Playing</td>\n",
       "      <td>5.28</td>\n",
       "      <td>4.19</td>\n",
       "      <td>4.35</td>\n",
       "      <td>0.78</td>\n",
       "      <td>NaN</td>\n",
       "      <td>NaN</td>\n",
       "      <td>NaN</td>\n",
       "      <td>14.60</td>\n",
       "    </tr>\n",
       "    <tr>\n",
       "      <th>45</th>\n",
       "      <td>Super Mario 64</td>\n",
       "      <td>N64</td>\n",
       "      <td>1996.0</td>\n",
       "      <td>Platform</td>\n",
       "      <td>6.91</td>\n",
       "      <td>2.85</td>\n",
       "      <td>1.91</td>\n",
       "      <td>0.23</td>\n",
       "      <td>NaN</td>\n",
       "      <td>NaN</td>\n",
       "      <td>NaN</td>\n",
       "      <td>11.90</td>\n",
       "    </tr>\n",
       "    <tr>\n",
       "      <th>46</th>\n",
       "      <td>Pokemon HeartGold/Pokemon SoulSilver</td>\n",
       "      <td>DS</td>\n",
       "      <td>2009.0</td>\n",
       "      <td>Action</td>\n",
       "      <td>4.34</td>\n",
       "      <td>2.71</td>\n",
       "      <td>3.96</td>\n",
       "      <td>0.76</td>\n",
       "      <td>NaN</td>\n",
       "      <td>NaN</td>\n",
       "      <td>NaN</td>\n",
       "      <td>11.77</td>\n",
       "    </tr>\n",
       "    <tr>\n",
       "      <th>47</th>\n",
       "      <td>Pokemon Omega Ruby/Pokemon Alpha Sapphire</td>\n",
       "      <td>3DS</td>\n",
       "      <td>2014.0</td>\n",
       "      <td>Role-Playing</td>\n",
       "      <td>4.35</td>\n",
       "      <td>3.49</td>\n",
       "      <td>3.10</td>\n",
       "      <td>0.74</td>\n",
       "      <td>NaN</td>\n",
       "      <td>NaN</td>\n",
       "      <td>NaN</td>\n",
       "      <td>11.68</td>\n",
       "    </tr>\n",
       "    <tr>\n",
       "      <th>50</th>\n",
       "      <td>Super Mario Land 2: 6 Golden Coins</td>\n",
       "      <td>GB</td>\n",
       "      <td>1992.0</td>\n",
       "      <td>Adventure</td>\n",
       "      <td>6.16</td>\n",
       "      <td>2.04</td>\n",
       "      <td>2.69</td>\n",
       "      <td>0.29</td>\n",
       "      <td>NaN</td>\n",
       "      <td>NaN</td>\n",
       "      <td>NaN</td>\n",
       "      <td>11.18</td>\n",
       "    </tr>\n",
       "    <tr>\n",
       "      <th>56</th>\n",
       "      <td>Super Mario All-Stars</td>\n",
       "      <td>SNES</td>\n",
       "      <td>1993.0</td>\n",
       "      <td>Platform</td>\n",
       "      <td>5.99</td>\n",
       "      <td>2.15</td>\n",
       "      <td>2.12</td>\n",
       "      <td>0.29</td>\n",
       "      <td>NaN</td>\n",
       "      <td>NaN</td>\n",
       "      <td>NaN</td>\n",
       "      <td>10.55</td>\n",
       "    </tr>\n",
       "  </tbody>\n",
       "</table>\n",
       "</div>"
      ],
      "text/plain": [
       "                                         name platform  year_of_release  \\\n",
       "1                           Super Mario Bros.      NES           1985.0   \n",
       "4                    Pokemon Red/Pokemon Blue       GB           1996.0   \n",
       "5                                      Tetris       GB           1989.0   \n",
       "9                                   Duck Hunt      NES           1984.0   \n",
       "10                                 Nintendogs       DS           2005.0   \n",
       "12                Pokemon Gold/Pokemon Silver       GB           1999.0   \n",
       "18                          Super Mario World     SNES           1990.0   \n",
       "20              Pokemon Diamond/Pokemon Pearl       DS           2006.0   \n",
       "21                           Super Mario Land       GB           1989.0   \n",
       "22                        Super Mario Bros. 3      NES           1988.0   \n",
       "25              Pokemon Ruby/Pokemon Sapphire      GBA           2002.0   \n",
       "27                Pokemon Black/Pokemon White       DS           2010.0   \n",
       "30    Pokémon Yellow: Special Pikachu Edition       GB           1998.0   \n",
       "31                  Call of Duty: Black Ops 3      PS4           2015.0   \n",
       "33                        Pokemon X/Pokemon Y      3DS           2013.0   \n",
       "45                             Super Mario 64      N64           1996.0   \n",
       "46       Pokemon HeartGold/Pokemon SoulSilver       DS           2009.0   \n",
       "47  Pokemon Omega Ruby/Pokemon Alpha Sapphire      3DS           2014.0   \n",
       "50         Super Mario Land 2: 6 Golden Coins       GB           1992.0   \n",
       "56                      Super Mario All-Stars     SNES           1993.0   \n",
       "\n",
       "           genre  na_sales  eu_sales  jp_sales  other_sales  critic_score  \\\n",
       "1       Platform     29.08      3.58      6.81         0.77           NaN   \n",
       "4   Role-Playing     11.27      8.89     10.22         1.00           NaN   \n",
       "5         Puzzle     23.20      2.26      4.22         0.58           NaN   \n",
       "9        Shooter     26.93      0.63      0.28         0.47           NaN   \n",
       "10    Simulation      9.05     10.95      1.93         2.74           NaN   \n",
       "12  Role-Playing      9.00      6.18      7.20         0.71           NaN   \n",
       "18      Platform     12.78      3.75      3.54         0.55           NaN   \n",
       "20  Role-Playing      6.38      4.46      6.04         1.36           NaN   \n",
       "21      Platform     10.83      2.71      4.18         0.42           NaN   \n",
       "22      Platform      9.54      3.44      3.84         0.46           NaN   \n",
       "25  Role-Playing      6.06      3.90      5.38         0.50           NaN   \n",
       "27  Role-Playing      5.51      3.17      5.65         0.80           NaN   \n",
       "30  Role-Playing      5.89      5.04      3.12         0.59           NaN   \n",
       "31       Shooter      6.03      5.86      0.36         2.38           NaN   \n",
       "33  Role-Playing      5.28      4.19      4.35         0.78           NaN   \n",
       "45      Platform      6.91      2.85      1.91         0.23           NaN   \n",
       "46        Action      4.34      2.71      3.96         0.76           NaN   \n",
       "47  Role-Playing      4.35      3.49      3.10         0.74           NaN   \n",
       "50     Adventure      6.16      2.04      2.69         0.29           NaN   \n",
       "56      Platform      5.99      2.15      2.12         0.29           NaN   \n",
       "\n",
       "    user_score rating  total_sales  \n",
       "1          NaN    NaN        40.24  \n",
       "4          NaN    NaN        31.38  \n",
       "5          NaN    NaN        30.26  \n",
       "9          NaN    NaN        28.31  \n",
       "10         NaN    NaN        24.67  \n",
       "12         NaN    NaN        23.09  \n",
       "18         NaN    NaN        20.62  \n",
       "20         NaN    NaN        18.24  \n",
       "21         NaN    NaN        18.14  \n",
       "22         NaN    NaN        17.28  \n",
       "25         NaN    NaN        15.84  \n",
       "27         NaN    NaN        15.13  \n",
       "30         NaN    NaN        14.64  \n",
       "31         NaN    NaN        14.63  \n",
       "33         NaN    NaN        14.60  \n",
       "45         NaN    NaN        11.90  \n",
       "46         NaN    NaN        11.77  \n",
       "47         NaN    NaN        11.68  \n",
       "50         NaN    NaN        11.18  \n",
       "56         NaN    NaN        10.55  "
      ]
     },
     "execution_count": 14,
     "metadata": {},
     "output_type": "execute_result"
    }
   ],
   "source": [
    "df[df['rating'].isna()].head(20)"
   ]
  },
  {
   "cell_type": "markdown",
   "metadata": {},
   "source": [
    "#### Вывод по подготовке данных:\n",
    "- Удалены неполные дубликаты\n",
    "- Тип столбца user_score был изменен на float\n",
    "- Визуализирована информация о датасете"
   ]
  },
  {
   "cell_type": "markdown",
   "metadata": {},
   "source": [
    "### Исследовательский анализ данных"
   ]
  },
  {
   "cell_type": "markdown",
   "metadata": {},
   "source": [
    "#### Количество выпущенных игр по годам"
   ]
  },
  {
   "cell_type": "code",
   "execution_count": 15,
   "metadata": {
    "scrolled": true
   },
   "outputs": [
    {
     "data": {
      "image/png": "[encoded data removed]",
      "text/plain": [
       "<Figure size 1224x360 with 1 Axes>"
      ]
     },
     "metadata": {
      "needs_background": "light"
     },
     "output_type": "display_data"
    }
   ],
   "source": [
    "df['year_of_release'].plot(kind = 'hist', bins = 15, figsize = (17,5)).grid()\n",
    "plt.xlabel('Year')\n",
    "plt.ylabel('Sales, mil.')\n",
    "plt.xticks(np.arange(1980, 2016, 2))\n",
    "plt.show()"
   ]
  },
  {
   "cell_type": "markdown",
   "metadata": {},
   "source": [
    "#### Продажи по платформам"
   ]
  },
  {
   "cell_type": "code",
   "execution_count": 16,
   "metadata": {},
   "outputs": [
    {
     "data": {
      "image/png": "[encoded data removed]",
      "text/plain": [
       "<Figure size 1080x360 with 1 Axes>"
      ]
     },
     "metadata": {
      "needs_background": "light"
     },
     "output_type": "display_data"
    }
   ],
   "source": [
    "# Построим график продаж топ 10 платформ по годам \n",
    "platform_sales = df.groupby('platform')['total_sales'].sum()\n",
    "platform_top_sales = platform_sales.nlargest(10)\n",
    "\n",
    "for platform in platform_top_sales.index:\n",
    "    platform_data = df[df['platform'] == platform]\n",
    "    platform_data.groupby('year_of_release')['total_sales'].sum().plot(label=platform,figsize = (15,5))\n",
    "\n",
    "plt.xlabel('Year')\n",
    "plt.ylabel('Total Sales, mil.')\n",
    "plt.legend()\n",
    "plt.show()\n"
   ]
  },
  {
   "cell_type": "markdown",
   "metadata": {},
   "source": [
    "На графике виден очевидный выброс для консоли Nintendo DS, ведь консоль вышла только в 2004 году, заменим данные и взглянем на график еще раз"
   ]
  },
  {
   "cell_type": "code",
   "execution_count": 17,
   "metadata": {},
   "outputs": [
    {
     "data": {
      "text/html": [
       "<div>\n",
       "<style scoped>\n",
       "    .dataframe tbody tr th:only-of-type {\n",
       "        vertical-align: middle;\n",
       "    }\n",
       "\n",
       "    .dataframe tbody tr th {\n",
       "        vertical-align: top;\n",
       "    }\n",
       "\n",
       "    .dataframe thead th {\n",
       "        text-align: right;\n",
       "    }\n",
       "</style>\n",
       "<table border=\"1\" class=\"dataframe\">\n",
       "  <thead>\n",
       "    <tr style=\"text-align: right;\">\n",
       "      <th></th>\n",
       "      <th>name</th>\n",
       "      <th>platform</th>\n",
       "      <th>year_of_release</th>\n",
       "      <th>genre</th>\n",
       "      <th>na_sales</th>\n",
       "      <th>eu_sales</th>\n",
       "      <th>jp_sales</th>\n",
       "      <th>other_sales</th>\n",
       "      <th>critic_score</th>\n",
       "      <th>user_score</th>\n",
       "      <th>rating</th>\n",
       "      <th>total_sales</th>\n",
       "    </tr>\n",
       "  </thead>\n",
       "  <tbody>\n",
       "    <tr>\n",
       "      <th>15956</th>\n",
       "      <td>Strongest Tokyo University Shogi DS</td>\n",
       "      <td>DS</td>\n",
       "      <td>1985.0</td>\n",
       "      <td>Action</td>\n",
       "      <td>0.00</td>\n",
       "      <td>0.00</td>\n",
       "      <td>0.02</td>\n",
       "      <td>0.0</td>\n",
       "      <td>NaN</td>\n",
       "      <td>NaN</td>\n",
       "      <td>NaN</td>\n",
       "      <td>0.02</td>\n",
       "    </tr>\n",
       "    <tr>\n",
       "      <th>13463</th>\n",
       "      <td>Cocoto Kart Racer</td>\n",
       "      <td>DS</td>\n",
       "      <td>2004.0</td>\n",
       "      <td>Racing</td>\n",
       "      <td>0.04</td>\n",
       "      <td>0.00</td>\n",
       "      <td>0.00</td>\n",
       "      <td>0.0</td>\n",
       "      <td>NaN</td>\n",
       "      <td>NaN</td>\n",
       "      <td>E</td>\n",
       "      <td>0.04</td>\n",
       "    </tr>\n",
       "    <tr>\n",
       "      <th>11517</th>\n",
       "      <td>Kenshuui Tendo Dokuta</td>\n",
       "      <td>DS</td>\n",
       "      <td>2004.0</td>\n",
       "      <td>Simulation</td>\n",
       "      <td>0.00</td>\n",
       "      <td>0.00</td>\n",
       "      <td>0.08</td>\n",
       "      <td>0.0</td>\n",
       "      <td>NaN</td>\n",
       "      <td>NaN</td>\n",
       "      <td>NaN</td>\n",
       "      <td>0.08</td>\n",
       "    </tr>\n",
       "    <tr>\n",
       "      <th>4421</th>\n",
       "      <td>The Urbz: Sims in the City (all regions sales)</td>\n",
       "      <td>DS</td>\n",
       "      <td>2004.0</td>\n",
       "      <td>Simulation</td>\n",
       "      <td>0.40</td>\n",
       "      <td>0.01</td>\n",
       "      <td>0.02</td>\n",
       "      <td>0.0</td>\n",
       "      <td>NaN</td>\n",
       "      <td>NaN</td>\n",
       "      <td>NaN</td>\n",
       "      <td>0.43</td>\n",
       "    </tr>\n",
       "    <tr>\n",
       "      <th>7902</th>\n",
       "      <td>Daigasso! Band Brothers</td>\n",
       "      <td>DS</td>\n",
       "      <td>2004.0</td>\n",
       "      <td>Misc</td>\n",
       "      <td>0.00</td>\n",
       "      <td>0.00</td>\n",
       "      <td>0.19</td>\n",
       "      <td>0.0</td>\n",
       "      <td>NaN</td>\n",
       "      <td>NaN</td>\n",
       "      <td>NaN</td>\n",
       "      <td>0.19</td>\n",
       "    </tr>\n",
       "    <tr>\n",
       "      <th>...</th>\n",
       "      <td>...</td>\n",
       "      <td>...</td>\n",
       "      <td>...</td>\n",
       "      <td>...</td>\n",
       "      <td>...</td>\n",
       "      <td>...</td>\n",
       "      <td>...</td>\n",
       "      <td>...</td>\n",
       "      <td>...</td>\n",
       "      <td>...</td>\n",
       "      <td>...</td>\n",
       "      <td>...</td>\n",
       "    </tr>\n",
       "    <tr>\n",
       "      <th>15794</th>\n",
       "      <td>Shonen Jump's Yu-Gi-Oh! GX Card Almanac</td>\n",
       "      <td>DS</td>\n",
       "      <td>NaN</td>\n",
       "      <td>Misc</td>\n",
       "      <td>0.00</td>\n",
       "      <td>0.00</td>\n",
       "      <td>0.02</td>\n",
       "      <td>0.0</td>\n",
       "      <td>NaN</td>\n",
       "      <td>NaN</td>\n",
       "      <td>NaN</td>\n",
       "      <td>0.02</td>\n",
       "    </tr>\n",
       "    <tr>\n",
       "      <th>15952</th>\n",
       "      <td>PDC World Championship Darts 2008</td>\n",
       "      <td>DS</td>\n",
       "      <td>NaN</td>\n",
       "      <td>Sports</td>\n",
       "      <td>0.01</td>\n",
       "      <td>0.00</td>\n",
       "      <td>0.00</td>\n",
       "      <td>0.0</td>\n",
       "      <td>NaN</td>\n",
       "      <td>NaN</td>\n",
       "      <td>NaN</td>\n",
       "      <td>0.01</td>\n",
       "    </tr>\n",
       "    <tr>\n",
       "      <th>15997</th>\n",
       "      <td>Jet Impulse</td>\n",
       "      <td>DS</td>\n",
       "      <td>NaN</td>\n",
       "      <td>Simulation</td>\n",
       "      <td>0.00</td>\n",
       "      <td>0.00</td>\n",
       "      <td>0.02</td>\n",
       "      <td>0.0</td>\n",
       "      <td>NaN</td>\n",
       "      <td>NaN</td>\n",
       "      <td>NaN</td>\n",
       "      <td>0.02</td>\n",
       "    </tr>\n",
       "    <tr>\n",
       "      <th>16016</th>\n",
       "      <td>Dream Dancer</td>\n",
       "      <td>DS</td>\n",
       "      <td>NaN</td>\n",
       "      <td>Misc</td>\n",
       "      <td>0.01</td>\n",
       "      <td>0.00</td>\n",
       "      <td>0.00</td>\n",
       "      <td>0.0</td>\n",
       "      <td>NaN</td>\n",
       "      <td>NaN</td>\n",
       "      <td>E</td>\n",
       "      <td>0.01</td>\n",
       "    </tr>\n",
       "    <tr>\n",
       "      <th>16286</th>\n",
       "      <td>Shorts</td>\n",
       "      <td>DS</td>\n",
       "      <td>NaN</td>\n",
       "      <td>Platform</td>\n",
       "      <td>0.01</td>\n",
       "      <td>0.00</td>\n",
       "      <td>0.00</td>\n",
       "      <td>0.0</td>\n",
       "      <td>NaN</td>\n",
       "      <td>NaN</td>\n",
       "      <td>E10+</td>\n",
       "      <td>0.01</td>\n",
       "    </tr>\n",
       "  </tbody>\n",
       "</table>\n",
       "<p>2151 rows × 12 columns</p>\n",
       "</div>"
      ],
      "text/plain": [
       "                                                 name platform  \\\n",
       "15956             Strongest Tokyo University Shogi DS       DS   \n",
       "13463                               Cocoto Kart Racer       DS   \n",
       "11517                           Kenshuui Tendo Dokuta       DS   \n",
       "4421   The Urbz: Sims in the City (all regions sales)       DS   \n",
       "7902                          Daigasso! Band Brothers       DS   \n",
       "...                                               ...      ...   \n",
       "15794         Shonen Jump's Yu-Gi-Oh! GX Card Almanac       DS   \n",
       "15952               PDC World Championship Darts 2008       DS   \n",
       "15997                                     Jet Impulse       DS   \n",
       "16016                                    Dream Dancer       DS   \n",
       "16286                                          Shorts       DS   \n",
       "\n",
       "       year_of_release       genre  na_sales  eu_sales  jp_sales  other_sales  \\\n",
       "15956           1985.0      Action      0.00      0.00      0.02          0.0   \n",
       "13463           2004.0      Racing      0.04      0.00      0.00          0.0   \n",
       "11517           2004.0  Simulation      0.00      0.00      0.08          0.0   \n",
       "4421            2004.0  Simulation      0.40      0.01      0.02          0.0   \n",
       "7902            2004.0        Misc      0.00      0.00      0.19          0.0   \n",
       "...                ...         ...       ...       ...       ...          ...   \n",
       "15794              NaN        Misc      0.00      0.00      0.02          0.0   \n",
       "15952              NaN      Sports      0.01      0.00      0.00          0.0   \n",
       "15997              NaN  Simulation      0.00      0.00      0.02          0.0   \n",
       "16016              NaN        Misc      0.01      0.00      0.00          0.0   \n",
       "16286              NaN    Platform      0.01      0.00      0.00          0.0   \n",
       "\n",
       "       critic_score  user_score rating  total_sales  \n",
       "15956           NaN         NaN    NaN         0.02  \n",
       "13463           NaN         NaN      E         0.04  \n",
       "11517           NaN         NaN    NaN         0.08  \n",
       "4421            NaN         NaN    NaN         0.43  \n",
       "7902            NaN         NaN    NaN         0.19  \n",
       "...             ...         ...    ...          ...  \n",
       "15794           NaN         NaN    NaN         0.02  \n",
       "15952           NaN         NaN    NaN         0.01  \n",
       "15997           NaN         NaN    NaN         0.02  \n",
       "16016           NaN         NaN      E         0.01  \n",
       "16286           NaN         NaN   E10+         0.01  \n",
       "\n",
       "[2151 rows x 12 columns]"
      ]
     },
     "execution_count": 17,
     "metadata": {},
     "output_type": "execute_result"
    }
   ],
   "source": [
    "df[df['platform']== 'DS'].sort_values('year_of_release')"
   ]
  },
  {
   "cell_type": "code",
   "execution_count": 18,
   "metadata": {},
   "outputs": [],
   "source": [
    "df.loc[15957,'year_of_release'] = 2010"
   ]
  },
  {
   "cell_type": "code",
   "execution_count": 19,
   "metadata": {},
   "outputs": [
    {
     "data": {
      "image/png": "[encoded data removed]",
      "text/plain": [
       "<Figure size 1080x720 with 1 Axes>"
      ]
     },
     "metadata": {
      "needs_background": "light"
     },
     "output_type": "display_data"
    }
   ],
   "source": [
    "# Построим график продаж топ 10 платформ по годам \n",
    "platform_sales = df.groupby('platform')['total_sales'].sum()\n",
    "platform_top_sales = platform_sales.nlargest(10)\n",
    "\n",
    "for platform in platform_top_sales.index:\n",
    "    platform_data = df[df['platform'] == platform]\n",
    "    platform_data.groupby('year_of_release')['total_sales'].sum().plot(label=platform,figsize = (15,10)).grid()\n",
    "\n",
    "plt.xlabel('Year')\n",
    "plt.ylabel('Total Sales, mil.')\n",
    "plt.legend()\n",
    "plt.show()"
   ]
  },
  {
   "cell_type": "markdown",
   "metadata": {},
   "source": [
    "#### Выбор актуального периода для прогноза на 2017 год"
   ]
  },
  {
   "cell_type": "markdown",
   "metadata": {},
   "source": [
    "Цикл жизни платформ приблизительно 10 лет, хотя бы одна платформа появляется в пятилетний период. Визуально актуальный период для прогноза на 2017 год является период с 2014 по 2016 года."
   ]
  },
  {
   "cell_type": "code",
   "execution_count": 20,
   "metadata": {},
   "outputs": [],
   "source": [
    "relevant_df = df[df['year_of_release'] > 2013]"
   ]
  },
  {
   "cell_type": "markdown",
   "metadata": {},
   "source": [
    "#### Анализ лидирующих платформ"
   ]
  },
  {
   "cell_type": "code",
   "execution_count": 21,
   "metadata": {},
   "outputs": [
    {
     "data": {
      "text/html": [
       "<style  type=\"text/css\" >\n",
       "#T_4d248_row0_col0{\n",
       "            background-color:  #b40426;\n",
       "            color:  #f1f1f1;\n",
       "        }#T_4d248_row1_col0{\n",
       "            background-color:  #d9dce1;\n",
       "            color:  #000000;\n",
       "        }#T_4d248_row2_col0{\n",
       "            background-color:  #9ebeff;\n",
       "            color:  #000000;\n",
       "        }#T_4d248_row3_col0{\n",
       "            background-color:  #88abfd;\n",
       "            color:  #000000;\n",
       "        }#T_4d248_row4_col0{\n",
       "            background-color:  #6f92f3;\n",
       "            color:  #000000;\n",
       "        }#T_4d248_row5_col0{\n",
       "            background-color:  #688aef;\n",
       "            color:  #000000;\n",
       "        }#T_4d248_row6_col0{\n",
       "            background-color:  #5673e0;\n",
       "            color:  #000000;\n",
       "        }#T_4d248_row7_col0{\n",
       "            background-color:  #516ddb;\n",
       "            color:  #000000;\n",
       "        }#T_4d248_row8_col0{\n",
       "            background-color:  #3f53c6;\n",
       "            color:  #f1f1f1;\n",
       "        }#T_4d248_row9_col0{\n",
       "            background-color:  #3b4cc0;\n",
       "            color:  #f1f1f1;\n",
       "        }</style><table id=\"T_4d248_\" ><thead>    <tr>        <th class=\"blank level0\" ></th>        <th class=\"col_heading level0 col0\" >total_sales</th>    </tr>    <tr>        <th class=\"index_name level0\" >platform</th>        <th class=\"blank\" ></th>    </tr></thead><tbody>\n",
       "                <tr>\n",
       "                        <th id=\"T_4d248_level0_row0\" class=\"row_heading level0 row0\" >PS4</th>\n",
       "                        <td id=\"T_4d248_row0_col0\" class=\"data row0 col0\" >288.150000</td>\n",
       "            </tr>\n",
       "            <tr>\n",
       "                        <th id=\"T_4d248_level0_row1\" class=\"row_heading level0 row1\" >XOne</th>\n",
       "                        <td id=\"T_4d248_row1_col0\" class=\"data row1 col0\" >140.360000</td>\n",
       "            </tr>\n",
       "            <tr>\n",
       "                        <th id=\"T_4d248_level0_row2\" class=\"row_heading level0 row2\" >3DS</th>\n",
       "                        <td id=\"T_4d248_row2_col0\" class=\"data row2 col0\" >86.680000</td>\n",
       "            </tr>\n",
       "            <tr>\n",
       "                        <th id=\"T_4d248_level0_row3\" class=\"row_heading level0 row3\" >PS3</th>\n",
       "                        <td id=\"T_4d248_row3_col0\" class=\"data row3 col0\" >68.180000</td>\n",
       "            </tr>\n",
       "            <tr>\n",
       "                        <th id=\"T_4d248_level0_row4\" class=\"row_heading level0 row4\" >X360</th>\n",
       "                        <td id=\"T_4d248_row4_col0\" class=\"data row4 col0\" >48.220000</td>\n",
       "            </tr>\n",
       "            <tr>\n",
       "                        <th id=\"T_4d248_level0_row5\" class=\"row_heading level0 row5\" >WiiU</th>\n",
       "                        <td id=\"T_4d248_row5_col0\" class=\"data row5 col0\" >42.980000</td>\n",
       "            </tr>\n",
       "            <tr>\n",
       "                        <th id=\"T_4d248_level0_row6\" class=\"row_heading level0 row6\" >PC</th>\n",
       "                        <td id=\"T_4d248_row6_col0\" class=\"data row6 col0\" >27.050000</td>\n",
       "            </tr>\n",
       "            <tr>\n",
       "                        <th id=\"T_4d248_level0_row7\" class=\"row_heading level0 row7\" >PSV</th>\n",
       "                        <td id=\"T_4d248_row7_col0\" class=\"data row7 col0\" >22.400000</td>\n",
       "            </tr>\n",
       "            <tr>\n",
       "                        <th id=\"T_4d248_level0_row8\" class=\"row_heading level0 row8\" >Wii</th>\n",
       "                        <td id=\"T_4d248_row8_col0\" class=\"data row8 col0\" >5.070000</td>\n",
       "            </tr>\n",
       "            <tr>\n",
       "                        <th id=\"T_4d248_level0_row9\" class=\"row_heading level0 row9\" >PSP</th>\n",
       "                        <td id=\"T_4d248_row9_col0\" class=\"data row9 col0\" >0.360000</td>\n",
       "            </tr>\n",
       "    </tbody></table>"
      ],
      "text/plain": [
       "<pandas.io.formats.style.Styler at 0x7f824ec88490>"
      ]
     },
     "execution_count": 21,
     "metadata": {},
     "output_type": "execute_result"
    }
   ],
   "source": [
    "pd.DataFrame(relevant_df\n",
    "              .groupby('platform')['total_sales']\n",
    "              .sum()\n",
    "              .sort_values(ascending=False)).style.background_gradient('coolwarm')"
   ]
  },
  {
   "cell_type": "code",
   "execution_count": 22,
   "metadata": {},
   "outputs": [
    {
     "data": {
      "image/png": "[encoded data removed]",
      "text/plain": [
       "<Figure size 1080x720 with 1 Axes>"
      ]
     },
     "metadata": {
      "needs_background": "light"
     },
     "output_type": "display_data"
    }
   ],
   "source": [
    "relevant_platform_sales = relevant_df.groupby('platform')['total_sales'].sum()\n",
    "\n",
    "\n",
    "for platform in relevant_platform_sales.index:\n",
    "    platform_data = relevant_df[relevant_df['platform'] == platform]\n",
    "    platform_data.groupby('year_of_release')['total_sales'].sum().plot(label=platform,figsize = (15,10)).grid()\n",
    "\n",
    "plt.xlabel('Year')\n",
    "plt.ylabel('Total Sales, mil.')\n",
    "plt.xticks(np.arange(2014, 2016, 1))\n",
    "plt.legend()\n",
    "plt.show()"
   ]
  },
  {
   "cell_type": "markdown",
   "metadata": {},
   "source": [
    "В целом вся игорная индустрия находится в данный момент на спаде. Самые прибыльные за актуальный период платформы это:\n",
    "- PS 4\n",
    "- XOne\n",
    "- 3DS\n",
    "\n",
    "Визуально картина не меняется однако стоит учитывать что PC уже на рынке более 30 лет и показатели продаж хоть и не являются максимальными, зато из года в год показывают стабильный результат, поэтому **потенциально прибильные платформы по имеющимся данным это:**\n",
    "- PS 4\n",
    "- XOne\n",
    "- 3DS\n",
    "- PC"
   ]
  },
  {
   "cell_type": "code",
   "execution_count": 23,
   "metadata": {},
   "outputs": [
    {
     "data": {
      "image/png": "[encoded data removed]",
      "text/plain": [
       "<Figure size 1080x720 with 1 Axes>"
      ]
     },
     "metadata": {
      "needs_background": "light"
     },
     "output_type": "display_data"
    }
   ],
   "source": [
    "relevant_df.boxplot(column=['total_sales'], by='platform', figsize=(15, 10))\n",
    "plt.xlabel('Platform')\n",
    "plt.ylabel('Total Sales, mil.')\n",
    "plt.show()"
   ]
  },
  {
   "cell_type": "code",
   "execution_count": 24,
   "metadata": {},
   "outputs": [
    {
     "data": {
      "image/png": "[encoded data removed]",
      "text/plain": [
       "<Figure size 1080x720 with 1 Axes>"
      ]
     },
     "metadata": {
      "needs_background": "light"
     },
     "output_type": "display_data"
    }
   ],
   "source": [
    "relevant_df.boxplot(column=['total_sales'], by='platform', figsize=(15, 10))\n",
    "plt.xlabel('Year')\n",
    "plt.ylabel('Total Sales, mil.')\n",
    "plt.ylim(0, 1.6)\n",
    "plt.show()"
   ]
  },
  {
   "cell_type": "code",
   "execution_count": 25,
   "metadata": {},
   "outputs": [
    {
     "data": {
      "text/html": [
       "<div>\n",
       "<style scoped>\n",
       "    .dataframe tbody tr th:only-of-type {\n",
       "        vertical-align: middle;\n",
       "    }\n",
       "\n",
       "    .dataframe tbody tr th {\n",
       "        vertical-align: top;\n",
       "    }\n",
       "\n",
       "    .dataframe thead th {\n",
       "        text-align: right;\n",
       "    }\n",
       "</style>\n",
       "<table border=\"1\" class=\"dataframe\">\n",
       "  <thead>\n",
       "    <tr style=\"text-align: right;\">\n",
       "      <th></th>\n",
       "      <th>count</th>\n",
       "      <th>mean</th>\n",
       "      <th>std</th>\n",
       "      <th>min</th>\n",
       "      <th>25%</th>\n",
       "      <th>50%</th>\n",
       "      <th>75%</th>\n",
       "      <th>max</th>\n",
       "    </tr>\n",
       "    <tr>\n",
       "      <th>platform</th>\n",
       "      <th></th>\n",
       "      <th></th>\n",
       "      <th></th>\n",
       "      <th></th>\n",
       "      <th></th>\n",
       "      <th></th>\n",
       "      <th></th>\n",
       "      <th></th>\n",
       "    </tr>\n",
       "  </thead>\n",
       "  <tbody>\n",
       "    <tr>\n",
       "      <th>3DS</th>\n",
       "      <td>212.0</td>\n",
       "      <td>0.408868</td>\n",
       "      <td>1.188368</td>\n",
       "      <td>0.01</td>\n",
       "      <td>0.0300</td>\n",
       "      <td>0.090</td>\n",
       "      <td>0.2500</td>\n",
       "      <td>11.68</td>\n",
       "    </tr>\n",
       "    <tr>\n",
       "      <th>PC</th>\n",
       "      <td>151.0</td>\n",
       "      <td>0.179139</td>\n",
       "      <td>0.329359</td>\n",
       "      <td>0.01</td>\n",
       "      <td>0.0200</td>\n",
       "      <td>0.060</td>\n",
       "      <td>0.2000</td>\n",
       "      <td>3.05</td>\n",
       "    </tr>\n",
       "    <tr>\n",
       "      <th>PS3</th>\n",
       "      <td>219.0</td>\n",
       "      <td>0.311324</td>\n",
       "      <td>0.633059</td>\n",
       "      <td>0.01</td>\n",
       "      <td>0.0400</td>\n",
       "      <td>0.110</td>\n",
       "      <td>0.3250</td>\n",
       "      <td>5.27</td>\n",
       "    </tr>\n",
       "    <tr>\n",
       "      <th>PS4</th>\n",
       "      <td>376.0</td>\n",
       "      <td>0.766356</td>\n",
       "      <td>1.614969</td>\n",
       "      <td>0.01</td>\n",
       "      <td>0.0575</td>\n",
       "      <td>0.185</td>\n",
       "      <td>0.6900</td>\n",
       "      <td>14.63</td>\n",
       "    </tr>\n",
       "    <tr>\n",
       "      <th>PSP</th>\n",
       "      <td>13.0</td>\n",
       "      <td>0.027692</td>\n",
       "      <td>0.027735</td>\n",
       "      <td>0.01</td>\n",
       "      <td>0.0100</td>\n",
       "      <td>0.020</td>\n",
       "      <td>0.0200</td>\n",
       "      <td>0.09</td>\n",
       "    </tr>\n",
       "    <tr>\n",
       "      <th>PSV</th>\n",
       "      <td>295.0</td>\n",
       "      <td>0.075932</td>\n",
       "      <td>0.141591</td>\n",
       "      <td>0.01</td>\n",
       "      <td>0.0200</td>\n",
       "      <td>0.040</td>\n",
       "      <td>0.0900</td>\n",
       "      <td>1.96</td>\n",
       "    </tr>\n",
       "    <tr>\n",
       "      <th>Wii</th>\n",
       "      <td>11.0</td>\n",
       "      <td>0.460909</td>\n",
       "      <td>0.625451</td>\n",
       "      <td>0.01</td>\n",
       "      <td>0.0350</td>\n",
       "      <td>0.180</td>\n",
       "      <td>0.7550</td>\n",
       "      <td>2.01</td>\n",
       "    </tr>\n",
       "    <tr>\n",
       "      <th>WiiU</th>\n",
       "      <td>73.0</td>\n",
       "      <td>0.588767</td>\n",
       "      <td>1.161467</td>\n",
       "      <td>0.01</td>\n",
       "      <td>0.0500</td>\n",
       "      <td>0.190</td>\n",
       "      <td>0.5700</td>\n",
       "      <td>7.09</td>\n",
       "    </tr>\n",
       "    <tr>\n",
       "      <th>X360</th>\n",
       "      <td>111.0</td>\n",
       "      <td>0.434414</td>\n",
       "      <td>0.628967</td>\n",
       "      <td>0.01</td>\n",
       "      <td>0.0700</td>\n",
       "      <td>0.180</td>\n",
       "      <td>0.5050</td>\n",
       "      <td>4.28</td>\n",
       "    </tr>\n",
       "    <tr>\n",
       "      <th>XOne</th>\n",
       "      <td>228.0</td>\n",
       "      <td>0.615614</td>\n",
       "      <td>1.046513</td>\n",
       "      <td>0.01</td>\n",
       "      <td>0.0500</td>\n",
       "      <td>0.205</td>\n",
       "      <td>0.6325</td>\n",
       "      <td>7.39</td>\n",
       "    </tr>\n",
       "  </tbody>\n",
       "</table>\n",
       "</div>"
      ],
      "text/plain": [
       "          count      mean       std   min     25%    50%     75%    max\n",
       "platform                                                               \n",
       "3DS       212.0  0.408868  1.188368  0.01  0.0300  0.090  0.2500  11.68\n",
       "PC        151.0  0.179139  0.329359  0.01  0.0200  0.060  0.2000   3.05\n",
       "PS3       219.0  0.311324  0.633059  0.01  0.0400  0.110  0.3250   5.27\n",
       "PS4       376.0  0.766356  1.614969  0.01  0.0575  0.185  0.6900  14.63\n",
       "PSP        13.0  0.027692  0.027735  0.01  0.0100  0.020  0.0200   0.09\n",
       "PSV       295.0  0.075932  0.141591  0.01  0.0200  0.040  0.0900   1.96\n",
       "Wii        11.0  0.460909  0.625451  0.01  0.0350  0.180  0.7550   2.01\n",
       "WiiU       73.0  0.588767  1.161467  0.01  0.0500  0.190  0.5700   7.09\n",
       "X360      111.0  0.434414  0.628967  0.01  0.0700  0.180  0.5050   4.28\n",
       "XOne      228.0  0.615614  1.046513  0.01  0.0500  0.205  0.6325   7.39"
      ]
     },
     "execution_count": 25,
     "metadata": {},
     "output_type": "execute_result"
    }
   ],
   "source": [
    "relevant_df.groupby('platform')['total_sales'].describe()"
   ]
  },
  {
   "cell_type": "markdown",
   "metadata": {},
   "source": [
    "По этим данным можно сделать следующие выводы по платформам:\n",
    "\n",
    "**Топ 3 по максимальным продажам игры:**\n",
    "- PS4\n",
    "- 3DS\n",
    "- XOne\n",
    "\n",
    "**Топ 3 по количеству игр:**\n",
    "- PS4\n",
    "- PSV\n",
    "- XOne\n",
    "\n",
    "**Топ 3 по средним продажам одной игры:**\n",
    "- PS4\n",
    "- XOne\n",
    "- WiiU\n",
    "\n",
    "**Топ 3 \"стабильных\" платформ(наименьшее стандартное отклонение):**\n",
    "- PSP\n",
    "- PSV\n",
    "- PC\n",
    "\n",
    "Стоит отметить, что минимальное значение проданных копий игр у всех платформ одинаковое(0.01млн), а медианное значение проданных копий не превышает 0.205млн копий "
   ]
  },
  {
   "cell_type": "markdown",
   "metadata": {},
   "source": [
    "#### Влияние отзывов на продажи"
   ]
  },
  {
   "cell_type": "markdown",
   "metadata": {},
   "source": [
    "Для того, чтобы оценить влияние оценок пользователей и критиков на продажи возьмем платформу PS4"
   ]
  },
  {
   "cell_type": "code",
   "execution_count": 26,
   "metadata": {
    "scrolled": true
   },
   "outputs": [
    {
     "data": {
      "image/png": "[encoded data removed]",
      "text/plain": [
       "<Figure size 432x288 with 1 Axes>"
      ]
     },
     "metadata": {
      "needs_background": "light"
     },
     "output_type": "display_data"
    },
    {
     "data": {
      "text/plain": [
       "-0.04"
      ]
     },
     "execution_count": 26,
     "metadata": {},
     "output_type": "execute_result"
    }
   ],
   "source": [
    "ps4 = relevant_df[relevant_df['platform'] == 'PS4']\n",
    "ps4.plot(x='user_score',\n",
    "         y='total_sales',\n",
    "         kind='scatter',\n",
    "         grid=True)\n",
    "plt.show()\n",
    "round(ps4['user_score'].corr(ps4['total_sales']), 2)"
   ]
  },
  {
   "cell_type": "markdown",
   "metadata": {},
   "source": [
    "Удостоверимся, что влияние действительно околонулевое на примере XOne"
   ]
  },
  {
   "cell_type": "code",
   "execution_count": 27,
   "metadata": {},
   "outputs": [
    {
     "data": {
      "image/png": "[encoded data removed]",
      "text/plain": [
       "<Figure size 432x288 with 1 Axes>"
      ]
     },
     "metadata": {
      "needs_background": "light"
     },
     "output_type": "display_data"
    },
    {
     "data": {
      "text/plain": [
       "-0.07"
      ]
     },
     "execution_count": 27,
     "metadata": {},
     "output_type": "execute_result"
    }
   ],
   "source": [
    "xone = relevant_df[relevant_df['platform'] == 'XOne']\n",
    "xone.plot(x='user_score',\n",
    "          y='total_sales',\n",
    "          kind='scatter',\n",
    "          grid=True)\n",
    "plt.show()\n",
    "round(xone['user_score'].corr(xone['total_sales']) , 2)"
   ]
  },
  {
   "cell_type": "markdown",
   "metadata": {},
   "source": [
    "Пользовательский рейтинг практически никак не влияет на продажи игр.\n",
    "\n",
    "Рассмотрим аналогичным образом влияние критиков"
   ]
  },
  {
   "cell_type": "code",
   "execution_count": 28,
   "metadata": {},
   "outputs": [
    {
     "data": {
      "image/png": "[encoded data removed]",
      "text/plain": [
       "<Figure size 432x288 with 1 Axes>"
      ]
     },
     "metadata": {
      "needs_background": "light"
     },
     "output_type": "display_data"
    },
    {
     "data": {
      "text/plain": [
       "0.4"
      ]
     },
     "execution_count": 28,
     "metadata": {},
     "output_type": "execute_result"
    }
   ],
   "source": [
    "ps4 = relevant_df[relevant_df['platform'] == 'PS4']\n",
    "ps4.plot(x='critic_score',\n",
    "         y='total_sales',\n",
    "         kind='scatter',\n",
    "         grid=True)\n",
    "plt.show()\n",
    "round(ps4['critic_score'].corr(ps4['total_sales']), 2)"
   ]
  },
  {
   "cell_type": "markdown",
   "metadata": {},
   "source": [
    "У PS4 слабое влияние присутствует"
   ]
  },
  {
   "cell_type": "code",
   "execution_count": 29,
   "metadata": {},
   "outputs": [
    {
     "data": {
      "image/png": "[encoded data removed]",
      "text/plain": [
       "<Figure size 432x288 with 1 Axes>"
      ]
     },
     "metadata": {
      "needs_background": "light"
     },
     "output_type": "display_data"
    },
    {
     "data": {
      "text/plain": [
       "0.43"
      ]
     },
     "execution_count": 29,
     "metadata": {},
     "output_type": "execute_result"
    }
   ],
   "source": [
    "xone = relevant_df[relevant_df['platform'] == 'XOne']\n",
    "xone.plot(x='critic_score',\n",
    "          y='total_sales',\n",
    "          kind='scatter',\n",
    "          grid=True)\n",
    "plt.show()\n",
    "round(xone['critic_score'].corr(xone['total_sales']), 2)"
   ]
  },
  {
   "cell_type": "markdown",
   "metadata": {},
   "source": [
    "Можно сделать вывод, что зависимость между оценками критиков и продажами слабая, а продажи и пользовательские оценки никак не зависят"
   ]
  },
  {
   "cell_type": "markdown",
   "metadata": {},
   "source": [
    "#### Распределение по жанрам"
   ]
  },
  {
   "cell_type": "code",
   "execution_count": 30,
   "metadata": {},
   "outputs": [
    {
     "data": {
      "image/png": "[encoded data removed]",
      "text/plain": [
       "<Figure size 1080x720 with 1 Axes>"
      ]
     },
     "metadata": {
      "needs_background": "light"
     },
     "output_type": "display_data"
    }
   ],
   "source": [
    "relevant_df.boxplot(column=['total_sales'], by='genre', figsize=(15, 10))\n",
    "plt.show()"
   ]
  },
  {
   "cell_type": "code",
   "execution_count": 31,
   "metadata": {},
   "outputs": [
    {
     "data": {
      "image/png": "[encoded data removed]",
      "text/plain": [
       "<Figure size 1080x720 with 1 Axes>"
      ]
     },
     "metadata": {
      "needs_background": "light"
     },
     "output_type": "display_data"
    }
   ],
   "source": [
    "relevant_df.boxplot(column=['total_sales'], by='genre', figsize=(15, 10))\n",
    "plt.xlabel('Year')\n",
    "plt.ylabel('Total Sales, mil.')\n",
    "plt.ylim(0, 3.75)\n",
    "plt.show()"
   ]
  },
  {
   "cell_type": "code",
   "execution_count": 32,
   "metadata": {},
   "outputs": [
    {
     "data": {
      "text/html": [
       "<div>\n",
       "<style scoped>\n",
       "    .dataframe tbody tr th:only-of-type {\n",
       "        vertical-align: middle;\n",
       "    }\n",
       "\n",
       "    .dataframe tbody tr th {\n",
       "        vertical-align: top;\n",
       "    }\n",
       "\n",
       "    .dataframe thead th {\n",
       "        text-align: right;\n",
       "    }\n",
       "</style>\n",
       "<table border=\"1\" class=\"dataframe\">\n",
       "  <thead>\n",
       "    <tr style=\"text-align: right;\">\n",
       "      <th></th>\n",
       "      <th>count</th>\n",
       "      <th>mean</th>\n",
       "      <th>std</th>\n",
       "      <th>min</th>\n",
       "      <th>25%</th>\n",
       "      <th>50%</th>\n",
       "      <th>75%</th>\n",
       "      <th>max</th>\n",
       "    </tr>\n",
       "    <tr>\n",
       "      <th>genre</th>\n",
       "      <th></th>\n",
       "      <th></th>\n",
       "      <th></th>\n",
       "      <th></th>\n",
       "      <th></th>\n",
       "      <th></th>\n",
       "      <th></th>\n",
       "      <th></th>\n",
       "    </tr>\n",
       "  </thead>\n",
       "  <tbody>\n",
       "    <tr>\n",
       "      <th>Action</th>\n",
       "      <td>619.0</td>\n",
       "      <td>0.322068</td>\n",
       "      <td>0.798181</td>\n",
       "      <td>0.01</td>\n",
       "      <td>0.0300</td>\n",
       "      <td>0.090</td>\n",
       "      <td>0.2800</td>\n",
       "      <td>12.62</td>\n",
       "    </tr>\n",
       "    <tr>\n",
       "      <th>Adventure</th>\n",
       "      <td>185.0</td>\n",
       "      <td>0.094865</td>\n",
       "      <td>0.203147</td>\n",
       "      <td>0.01</td>\n",
       "      <td>0.0200</td>\n",
       "      <td>0.030</td>\n",
       "      <td>0.0800</td>\n",
       "      <td>1.66</td>\n",
       "    </tr>\n",
       "    <tr>\n",
       "      <th>Fighting</th>\n",
       "      <td>60.0</td>\n",
       "      <td>0.470333</td>\n",
       "      <td>1.188053</td>\n",
       "      <td>0.01</td>\n",
       "      <td>0.0600</td>\n",
       "      <td>0.125</td>\n",
       "      <td>0.3200</td>\n",
       "      <td>7.55</td>\n",
       "    </tr>\n",
       "    <tr>\n",
       "      <th>Misc</th>\n",
       "      <td>113.0</td>\n",
       "      <td>0.332301</td>\n",
       "      <td>0.736999</td>\n",
       "      <td>0.01</td>\n",
       "      <td>0.0300</td>\n",
       "      <td>0.090</td>\n",
       "      <td>0.3200</td>\n",
       "      <td>5.27</td>\n",
       "    </tr>\n",
       "    <tr>\n",
       "      <th>Platform</th>\n",
       "      <td>38.0</td>\n",
       "      <td>0.476053</td>\n",
       "      <td>0.722561</td>\n",
       "      <td>0.01</td>\n",
       "      <td>0.0625</td>\n",
       "      <td>0.140</td>\n",
       "      <td>0.4675</td>\n",
       "      <td>3.21</td>\n",
       "    </tr>\n",
       "    <tr>\n",
       "      <th>Puzzle</th>\n",
       "      <td>14.0</td>\n",
       "      <td>0.157857</td>\n",
       "      <td>0.320629</td>\n",
       "      <td>0.01</td>\n",
       "      <td>0.0200</td>\n",
       "      <td>0.045</td>\n",
       "      <td>0.1000</td>\n",
       "      <td>1.19</td>\n",
       "    </tr>\n",
       "    <tr>\n",
       "      <th>Racing</th>\n",
       "      <td>69.0</td>\n",
       "      <td>0.398841</td>\n",
       "      <td>0.963716</td>\n",
       "      <td>0.01</td>\n",
       "      <td>0.0300</td>\n",
       "      <td>0.090</td>\n",
       "      <td>0.2500</td>\n",
       "      <td>7.09</td>\n",
       "    </tr>\n",
       "    <tr>\n",
       "      <th>Role-Playing</th>\n",
       "      <td>221.0</td>\n",
       "      <td>0.459005</td>\n",
       "      <td>1.177284</td>\n",
       "      <td>0.01</td>\n",
       "      <td>0.0500</td>\n",
       "      <td>0.110</td>\n",
       "      <td>0.3600</td>\n",
       "      <td>11.68</td>\n",
       "    </tr>\n",
       "    <tr>\n",
       "      <th>Shooter</th>\n",
       "      <td>128.0</td>\n",
       "      <td>1.335469</td>\n",
       "      <td>2.050567</td>\n",
       "      <td>0.01</td>\n",
       "      <td>0.1725</td>\n",
       "      <td>0.515</td>\n",
       "      <td>1.6175</td>\n",
       "      <td>14.63</td>\n",
       "    </tr>\n",
       "    <tr>\n",
       "      <th>Simulation</th>\n",
       "      <td>44.0</td>\n",
       "      <td>0.298409</td>\n",
       "      <td>0.646925</td>\n",
       "      <td>0.01</td>\n",
       "      <td>0.0200</td>\n",
       "      <td>0.100</td>\n",
       "      <td>0.3275</td>\n",
       "      <td>3.05</td>\n",
       "    </tr>\n",
       "    <tr>\n",
       "      <th>Sports</th>\n",
       "      <td>161.0</td>\n",
       "      <td>0.680000</td>\n",
       "      <td>1.239736</td>\n",
       "      <td>0.01</td>\n",
       "      <td>0.0600</td>\n",
       "      <td>0.180</td>\n",
       "      <td>0.6400</td>\n",
       "      <td>8.58</td>\n",
       "    </tr>\n",
       "    <tr>\n",
       "      <th>Strategy</th>\n",
       "      <td>37.0</td>\n",
       "      <td>0.107027</td>\n",
       "      <td>0.118412</td>\n",
       "      <td>0.01</td>\n",
       "      <td>0.0300</td>\n",
       "      <td>0.060</td>\n",
       "      <td>0.1400</td>\n",
       "      <td>0.52</td>\n",
       "    </tr>\n",
       "  </tbody>\n",
       "</table>\n",
       "</div>"
      ],
      "text/plain": [
       "              count      mean       std   min     25%    50%     75%    max\n",
       "genre                                                                      \n",
       "Action        619.0  0.322068  0.798181  0.01  0.0300  0.090  0.2800  12.62\n",
       "Adventure     185.0  0.094865  0.203147  0.01  0.0200  0.030  0.0800   1.66\n",
       "Fighting       60.0  0.470333  1.188053  0.01  0.0600  0.125  0.3200   7.55\n",
       "Misc          113.0  0.332301  0.736999  0.01  0.0300  0.090  0.3200   5.27\n",
       "Platform       38.0  0.476053  0.722561  0.01  0.0625  0.140  0.4675   3.21\n",
       "Puzzle         14.0  0.157857  0.320629  0.01  0.0200  0.045  0.1000   1.19\n",
       "Racing         69.0  0.398841  0.963716  0.01  0.0300  0.090  0.2500   7.09\n",
       "Role-Playing  221.0  0.459005  1.177284  0.01  0.0500  0.110  0.3600  11.68\n",
       "Shooter       128.0  1.335469  2.050567  0.01  0.1725  0.515  1.6175  14.63\n",
       "Simulation     44.0  0.298409  0.646925  0.01  0.0200  0.100  0.3275   3.05\n",
       "Sports        161.0  0.680000  1.239736  0.01  0.0600  0.180  0.6400   8.58\n",
       "Strategy       37.0  0.107027  0.118412  0.01  0.0300  0.060  0.1400   0.52"
      ]
     },
     "execution_count": 32,
     "metadata": {},
     "output_type": "execute_result"
    }
   ],
   "source": [
    "relevant_df.groupby('genre')['total_sales'].describe()"
   ]
  },
  {
   "cell_type": "code",
   "execution_count": 33,
   "metadata": {},
   "outputs": [
    {
     "data": {
      "image/png": "[encoded data removed]",
      "text/plain": [
       "<Figure size 720x720 with 1 Axes>"
      ]
     },
     "metadata": {
      "needs_background": "light"
     },
     "output_type": "display_data"
    }
   ],
   "source": [
    "(relevant_df\n",
    " .groupby('genre')['total_sales']\n",
    " .sum()\n",
    " .sort_values()\n",
    " .plot(kind = 'bar', figsize = (10,10)))\n",
    "\n",
    "plt.show()"
   ]
  },
  {
   "cell_type": "markdown",
   "metadata": {},
   "source": [
    "Самые прибыльные игры жанра Action и Shooter, наименьшая сумма продаж у игр жанра Puzzle и Strategy.\n",
    "\n",
    "Выводы про прибыльные жанры:\n",
    "- Action берет количеством, а не качеством (в 5 раз больше игр, чем жанр Shooter, однако среднее значения жанра Shooter по продажам в 4 раза больше чем у Action)\n",
    "- Игры жанра Shooter в свою очередь очень нестабильны в продажах(самое высокое стандартное отклонение в 2млн копий)\n"
   ]
  },
  {
   "cell_type": "markdown",
   "metadata": {},
   "source": [
    "### Портрет пользователя по регионам"
   ]
  },
  {
   "cell_type": "code",
   "execution_count": 34,
   "metadata": {},
   "outputs": [],
   "source": [
    "na_reg = relevant_df[relevant_df['na_sales'] > 0][['platform', 'na_sales', 'genre', 'rating', 'year_of_release']]\n",
    "eu_reg = relevant_df[relevant_df['eu_sales'] > 0][['platform', 'eu_sales', 'genre', 'rating', 'year_of_release']]\n",
    "jp_reg = relevant_df[relevant_df['jp_sales'] > 0][['platform', 'jp_sales', 'genre', 'rating', 'year_of_release']]"
   ]
  },
  {
   "cell_type": "markdown",
   "metadata": {},
   "source": [
    "#### Самые популярные платформы (топ-5)"
   ]
  },
  {
   "cell_type": "code",
   "execution_count": 35,
   "metadata": {},
   "outputs": [],
   "source": [
    "#Создадим переменные, чтобы отоброжались топ-5 по платформам\n",
    "#Для NA\n",
    "\n",
    "na_top_platform = (na_reg\n",
    "                  .groupby('platform')['na_sales']\n",
    "                  .sum()\n",
    "                  .nlargest(5))\n",
    "na_top_platform['Others'] = na_reg.loc[~na_reg['platform'].isin(na_top_platform.index), 'na_sales'].sum()\n",
    "\n",
    "#Для EU\n",
    "\n",
    "eu_top_platform = (eu_reg\n",
    "                  .groupby('platform')['eu_sales']\n",
    "                  .sum()\n",
    "                  .nlargest(5))\n",
    "eu_top_platform['Others'] = eu_reg.loc[~eu_reg['platform'].isin(eu_top_platform.index), 'eu_sales'].sum()\n",
    "\n",
    "#Для JP\n",
    "\n",
    "jp_top_platform = (jp_reg\n",
    "                  .groupby('platform')['jp_sales']\n",
    "                  .sum()\n",
    "                  .nlargest(5))\n",
    "jp_top_platform['Others'] = jp_reg.loc[~jp_reg['platform'].isin(jp_top_platform.index), 'jp_sales'].sum()\n"
   ]
  },
  {
   "cell_type": "code",
   "execution_count": 36,
   "metadata": {},
   "outputs": [
    {
     "data": {
      "image/png": "[encoded data removed]",
      "text/plain": [
       "<Figure size 1080x360 with 3 Axes>"
      ]
     },
     "metadata": {},
     "output_type": "display_data"
    }
   ],
   "source": [
    "fig, (ax0, ax1, ax2) = plt.subplots(nrows=1,ncols=3, sharey=True, figsize=(15, 5))\n",
    "\n",
    "ax0.pie(na_top_platform, labels=na_top_platform.index, autopct='%1.1f%%')\n",
    "ax0.set_title('NA')\n",
    "\n",
    "ax1.pie(eu_top_platform, labels=eu_top_platform.index, autopct='%1.1f%%')\n",
    "ax1.set_title('EU')\n",
    "\n",
    "ax2.pie(jp_top_platform, labels=jp_top_platform.index, autopct='%1.1f%%')\n",
    "ax2.set_title('JP')\n",
    "\n",
    "fig.suptitle('Popular platforms by region', fontsize=14, fontweight='bold');\n",
    "plt.show()"
   ]
  },
  {
   "cell_type": "markdown",
   "metadata": {},
   "source": [
    "Топ 5 популярных консолей в Северной Америке:\n",
    "- PS4(34.7%)\n",
    "- XOne(28.6%)\n",
    "- X360(10%)\n",
    "- 3DS(8%)\n",
    "- PS3(7.8%)\n",
    "\n",
    "Топ 5 популярных консолей в Европе:\n",
    "- PS4(48%)\n",
    "- XOne(17.1%)\n",
    "- PS3(9.4%)\n",
    "- PC(6.6%)\n",
    "- 3DS(6%)\n",
    "\n",
    "Топ 5 популярных консолей в Японии:\n",
    "- 3DS(47.5%)\n",
    "- PS4(16.1%)\n",
    "- PSV(15.6%)\n",
    "- PS3(12.1%)\n",
    "- WiiU(7.9%)"
   ]
  },
  {
   "cell_type": "markdown",
   "metadata": {},
   "source": [
    "####  Самые популярные жанры (топ-5)"
   ]
  },
  {
   "cell_type": "code",
   "execution_count": 37,
   "metadata": {},
   "outputs": [],
   "source": [
    "#Создадим переменные, чтобы отоброжались топ-5 по жанрам\n",
    "#Для NA\n",
    "na_top_genre = (na_reg\n",
    "                  .groupby('genre')['na_sales']\n",
    "                  .sum()\n",
    "                  .nlargest(5))\n",
    "na_top_genre['Others'] = na_reg.loc[~na_reg['genre'].isin(na_top_genre.index), 'na_sales'].sum()\n",
    "\n",
    "#Для EU\n",
    "eu_top_genre = (eu_reg\n",
    "                  .groupby('genre')['eu_sales']\n",
    "                  .sum()\n",
    "                  .nlargest(5))\n",
    "eu_top_genre['Others'] = eu_reg.loc[~eu_reg['genre'].isin(eu_top_genre.index), 'eu_sales'].sum()\n",
    "\n",
    "#Для JP\n",
    "jp_top_genre = (jp_reg\n",
    "                  .groupby('genre')['jp_sales']\n",
    "                  .sum()\n",
    "                  .nlargest(5))\n",
    "jp_top_genre['Others'] = jp_reg.loc[~jp_reg['genre'].isin(jp_top_genre.index), 'jp_sales'].sum()\n"
   ]
  },
  {
   "cell_type": "code",
   "execution_count": 38,
   "metadata": {
    "scrolled": true
   },
   "outputs": [
    {
     "data": {
      "image/png": "[encoded data removed]",
      "text/plain": [
       "<Figure size 1080x360 with 3 Axes>"
      ]
     },
     "metadata": {},
     "output_type": "display_data"
    }
   ],
   "source": [
    "fig, (ax0, ax1, ax2) = plt.subplots(nrows=1,ncols=3, sharey=True, figsize=(15, 5))\n",
    "\n",
    "ax0.pie(na_top_genre, labels=na_top_genre.index, autopct='%1.1f%%')\n",
    "ax0.set_title('NA')\n",
    "\n",
    "ax1.pie(eu_top_genre, labels=eu_top_genre.index, autopct='%1.1f%%')\n",
    "ax1.set_title('EU')\n",
    "\n",
    "ax2.pie(jp_top_genre, labels=jp_top_genre.index, autopct='%1.1f%%')\n",
    "ax2.set_title('JP')\n",
    "\n",
    "fig.suptitle('Popular genres by region', fontsize=14, fontweight='bold');\n",
    "plt.show()"
   ]
  },
  {
   "cell_type": "markdown",
   "metadata": {},
   "source": [
    "Топ 5 жанров игр в Северной Америке:\n",
    "- Shooter(27.8%)\n",
    "- Action(25.5%)\n",
    "- Sports(16.2%)\n",
    "- Role-Playing(11.8%)\n",
    "- Misc(5.3%)\n",
    "\n",
    "Топ 5 жанров игр в Европе:\n",
    "- Action(27.6%)\n",
    "- Shooter(24.2%)\n",
    "- Sports(16.9%)\n",
    "- Role-Playing(10.4%)\n",
    "- Racing(5.2%)\n",
    "\n",
    "Топ 5 жанров игр в Японии:\n",
    "- Role-Playing(33.5%)\n",
    "- Action(31.8%)\n",
    "- Fighting(6.8%)\n",
    "- Misc(6.0%)\n",
    "- Shooter(5.2%)"
   ]
  },
  {
   "cell_type": "markdown",
   "metadata": {},
   "source": [
    "#### Влияет ли рейтинг ESRB на продажи?\n",
    "\n",
    "Для того, чтобы ответить на этот вопрос, можно привести к целочисленному варианту и присвоить значениям рейтинга оценку от 1 до 4, где 1 это самая широкая аудитория, а 4 это игры 18+\n",
    "Таким образом преобразование будет выглядеть таким образом:\n",
    "- E - 1\n",
    "- E10+ - 2\n",
    "- T - 3\n",
    "- M - 4\n",
    "\n",
    "По логике вещей, можно предположить, что чем обширнее \"доступная\" аудитория, тем больше продаж должно быть, то есть мы должны наблюдать угасающий тренд от 'E' до 'M'"
   ]
  },
  {
   "cell_type": "code",
   "execution_count": 39,
   "metadata": {},
   "outputs": [
    {
     "data": {
      "text/plain": [
       "array([nan, 'M', 'E', 'T', 'E10+'], dtype=object)"
      ]
     },
     "execution_count": 39,
     "metadata": {},
     "output_type": "execute_result"
    }
   ],
   "source": [
    "na_reg['rating'].unique()"
   ]
  },
  {
   "cell_type": "markdown",
   "metadata": {},
   "source": [
    "##### Северная Америка"
   ]
  },
  {
   "cell_type": "code",
   "execution_count": 40,
   "metadata": {},
   "outputs": [
    {
     "data": {
      "image/png": "[encoded data removed]",
      "text/plain": [
       "<Figure size 432x288 with 1 Axes>"
      ]
     },
     "metadata": {
      "needs_background": "light"
     },
     "output_type": "display_data"
    },
    {
     "data": {
      "text/plain": [
       "0.0741318381146555"
      ]
     },
     "execution_count": 40,
     "metadata": {},
     "output_type": "execute_result"
    }
   ],
   "source": [
    "na_reg['rating'] = na_reg['rating'].replace({'E' : 1,\n",
    "                                             'E10+' : 2,\n",
    "                                             'T' : 3,\n",
    "                                             'M' : 4,\n",
    "                                             'nan': np.nan\n",
    "}).astype(float)\n",
    "\n",
    "\n",
    "na_reg.plot(x='rating',\n",
    "          y='na_sales',\n",
    "          kind='scatter',\n",
    "          grid=True)\n",
    "plt.show()\n",
    "na_reg['rating'].corr(na_reg['na_sales'])"
   ]
  },
  {
   "cell_type": "markdown",
   "metadata": {},
   "source": [
    "Если рассматривать регион в целом, то можно сделать вывод, что рейтинг ESRB практически никак не влияет на продажи.\n"
   ]
  },
  {
   "cell_type": "markdown",
   "metadata": {},
   "source": [
    "##### Европа\n",
    "\n",
    "По аналогии с предыдущим пунктом приведем к типу float и посчитаем корреляцию"
   ]
  },
  {
   "cell_type": "code",
   "execution_count": 41,
   "metadata": {},
   "outputs": [
    {
     "data": {
      "image/png": "[encoded data removed]",
      "text/plain": [
       "<Figure size 432x288 with 1 Axes>"
      ]
     },
     "metadata": {
      "needs_background": "light"
     },
     "output_type": "display_data"
    },
    {
     "data": {
      "text/plain": [
       "0.06100793451644468"
      ]
     },
     "execution_count": 41,
     "metadata": {},
     "output_type": "execute_result"
    }
   ],
   "source": [
    "eu_reg['rating'] = eu_reg['rating'].replace({'E' : 1,\n",
    "                                             'E10+' : 2,\n",
    "                                             'T' : 3,\n",
    "                                             'M' : 4,\n",
    "                                             'nan': np.nan\n",
    "}).astype(float)\n",
    "\n",
    "\n",
    "eu_reg.plot(x='rating',\n",
    "           y='eu_sales',\n",
    "           kind='scatter',\n",
    "           grid=True)\n",
    "plt.show()\n",
    "eu_reg['rating'].corr(eu_reg['eu_sales'])"
   ]
  },
  {
   "cell_type": "markdown",
   "metadata": {},
   "source": [
    "Если рассматривать регион в целом, то можно сделать вывод, что рейтинг ESRB практически никак не влияет на продажи."
   ]
  },
  {
   "cell_type": "markdown",
   "metadata": {},
   "source": [
    "##### Япония"
   ]
  },
  {
   "cell_type": "code",
   "execution_count": 42,
   "metadata": {},
   "outputs": [
    {
     "data": {
      "image/png": "[encoded data removed]",
      "text/plain": [
       "<Figure size 432x288 with 1 Axes>"
      ]
     },
     "metadata": {
      "needs_background": "light"
     },
     "output_type": "display_data"
    },
    {
     "data": {
      "text/plain": [
       "-0.1266628605476682"
      ]
     },
     "execution_count": 42,
     "metadata": {},
     "output_type": "execute_result"
    }
   ],
   "source": [
    "jp_reg['rating'] = jp_reg['rating'].replace({'E' : 1,\n",
    "                                             'E10+' : 2,\n",
    "                                             'T' : 3,\n",
    "                                             'M' : 4,\n",
    "                                             'nan': np.nan\n",
    "}).astype(float)\n",
    "\n",
    "\n",
    "jp_reg.plot(x='rating',\n",
    "           y='jp_sales',\n",
    "           kind='scatter',\n",
    "           grid=True)\n",
    "plt.show()\n",
    "jp_reg['rating'].corr(jp_reg['jp_sales'])"
   ]
  },
  {
   "cell_type": "markdown",
   "metadata": {},
   "source": [
    "Прослеживается слабая отрицательная корреляция, значит чем выше рейтинг игр, тем вероятнее ее популярность"
   ]
  },
  {
   "cell_type": "markdown",
   "metadata": {},
   "source": [
    "#### Портрет по регионам, сводка"
   ]
  },
  {
   "cell_type": "markdown",
   "metadata": {},
   "source": [
    "##### Портрет среднестатистического пользователя NA\n",
    "Предпочтительные платформы: PS4 или XOne\n",
    "\n",
    "Предпочтительные жанры: Shooter или Action\n",
    "\n",
    "Влияние рейтинга ESRB: Околонулевое\n"
   ]
  },
  {
   "cell_type": "markdown",
   "metadata": {},
   "source": [
    "##### Портрет среднестатистического пользователя EU\n",
    "Предпочтительные платформы: PS4 или XOne\n",
    "\n",
    "Предпочтительные жанры: Shooter или Action\n",
    "\n",
    "Влияние рейтинга ESRB: Околонулевое"
   ]
  },
  {
   "cell_type": "markdown",
   "metadata": {},
   "source": [
    "##### Портрет среднестатистического пользователя JP\n",
    "Предпочтительные платформы: 3DS или консоли семейства PlayStation(4,V,3)\n",
    "\n",
    "Предпочтительные жанры: Role-Playing или Action\n",
    "\n",
    "Влияние рейтинга ESRB: Слабое отрицательное"
   ]
  },
  {
   "cell_type": "markdown",
   "metadata": {},
   "source": [
    "#### Общий вывод по главе\n",
    "Как и ожидалось, общая картина для NA и EU не сильно отличается:\n",
    "- Платформы схожи, за исключением процента рынка и наличия популярности PС в Европе и X360 в Северной Америке\n",
    "- Лидирующие 4 жанра идентичны, за исключением Misc в Северной Америке и Racing в Европе\n",
    "- ESRB никак не влияет на популярность игр\n",
    "\n",
    "В Японии картина отличается больше всего:\n",
    "- Предпочтение отдается \"местным\" консолям и больше пользователей предпочитают портативные консоли\n",
    "- Любимые жанры RP и Action, Shooter один из наименее популярных жанров\n",
    "- \"Детские\" игры не так сильно интересны аудитории, однако рейтинг"
   ]
  },
  {
   "cell_type": "markdown",
   "metadata": {},
   "source": [
    "### Проверка гипотез"
   ]
  },
  {
   "cell_type": "markdown",
   "metadata": {},
   "source": [
    "#### Средние пользовательские рейтинги платформ Xbox One и PC одинаковые;\n",
    "\n",
    "Для проверки данной гипотезы будем использовать тест на равенство средних значений выборок ind\n",
    "\n",
    "Гипотеза будет звучать так:\n",
    "- H0 - Средние пользовательские рейтинги на Xbox One и PC одинаковые\n",
    "- H1 - Средние пользовательские рейтинги на Xbox One и PC различаются"
   ]
  },
  {
   "cell_type": "code",
   "execution_count": 43,
   "metadata": {},
   "outputs": [
    {
     "name": "stdout",
     "output_type": "stream",
     "text": [
      "p-value: 0.105\n",
      "Не получилось отвергнуть нулевую гипотезу: Средние пользовательские рейтинги на Xbox One и PC одинаковые.\n"
     ]
    }
   ],
   "source": [
    "xone_rating = relevant_df[relevant_df['platform'] == 'XOne']['user_score'].dropna()\n",
    "pc_rating = relevant_df[relevant_df['platform'] == 'PC']['user_score'].dropna()\n",
    "\n",
    "alpha = 0.05\n",
    "t_stat, p_value = st.ttest_ind(xone_rating, pc_rating)\n",
    "\n",
    "print('p-value:', round(p_value,3))\n",
    "if p_value < alpha:\n",
    "    print(\"Отвергаем нулевую гипотезу: Средние пользовательские рейтинги на Xbox One и PC различаются.\")\n",
    "else:\n",
    "    print(\"Не получилось отвергнуть нулевую гипотезу: Средние пользовательские рейтинги на Xbox One и PC одинаковые.\")"
   ]
  },
  {
   "cell_type": "markdown",
   "metadata": {},
   "source": [
    "#### Средние пользовательские рейтинги жанров Action  и Sports разные.\n",
    "\n",
    "Для проверки данной гипотезы будем использовать тест на равенство средних значений выборок ind\n",
    "\n",
    "Гипотеза будет звучать так:\n",
    "\n",
    "- H0 - Средние пользовательские рейтинги на Action и Sports одинаковые\n",
    "- H1 - Средние пользовательские рейтинги на Xbox One и PC разные"
   ]
  },
  {
   "cell_type": "code",
   "execution_count": 45,
   "metadata": {},
   "outputs": [
    {
     "name": "stdout",
     "output_type": "stream",
     "text": [
      "p-value: 2.8711147985105864e-19\n",
      "Отвергаем нулевую гипотезу: Средние пользовательские рейтинги на Action и Sports различаются.\n"
     ]
    }
   ],
   "source": [
    "action_rating = relevant_df[relevant_df['genre'] == 'Action']['user_score'].dropna()\n",
    "sports_rating = relevant_df[relevant_df['genre'] == 'Sports']['user_score'].dropna()\n",
    "\n",
    "alpha = 0.05\n",
    "t_stat, p_value = st.ttest_ind(action_rating, sports_rating)\n",
    "\n",
    "print('p-value:', p_value)\n",
    "if p_value < alpha:\n",
    "    print(\"Отвергаем нулевую гипотезу: Средние пользовательские рейтинги на Action и Sports различаются.\")\n",
    "else:\n",
    "    print(\"Не получилось отвергнуть нулевую гипотезу: Средние пользовательские рейтинги на Action и Sports одинаковые.\")"
   ]
  },
  {
   "cell_type": "markdown",
   "metadata": {},
   "source": [
    "### Общий вывод\n"
   ]
  },
  {
   "cell_type": "markdown",
   "metadata": {},
   "source": [
    "В данной работе были проведены следующие задания:\n",
    "-  В ходе предобработки данных, были изменены типы данных, удалены дубликаты\n",
    "-  Исследованы значения в датафреймах, а именно:\n",
    "    - было проанализированно количество игр в разные годы;\n",
    "    - был определен характерный срок жизни платформы и появление новой(в среднем платформа \"живет\" 10 лет, а новую можно ожидать в 5 летний период);\n",
    "    - был выбран актуальный период для предсказания на 2017 год (2014-2016);\n",
    "        - Потенциально прибыльными платформами являются - PS4, XOne, 3DS;\n",
    "        - Влияние критиков есть, но оно среднее, а пользовательские оценки никак на продажи не влияют\n",
    "        - Самые прибыльные игры жанра Action и Shooter, наименьшая сумма продаж у игр жанра Puzzle и Strategy.\n",
    "- Составлен портрет пользователя каждого региона\n",
    "\n",
    "\n",
    "  **NA:**\n",
    "    \n",
    "    По платформам:\n",
    "    - PS4(34.7%)\n",
    "    - XOne(28.6%)\n",
    "    - X360(10%)\n",
    "    - 3DS(8%)\n",
    "    - PS3(7.8%)\n",
    "    \n",
    "    По жанрам:\n",
    "    - Shooter(27.8%)\n",
    "    - Action(25.5%)\n",
    "    - Sports(16.2%)\n",
    "    - Role-Playing(11.8%)\n",
    "    - Misc(5.3%)\n",
    "    \n",
    "    \n",
    "   **EU:**\n",
    "    \n",
    "    По платформам:\n",
    "    - PS4(48%)\n",
    "    - XOne(17.1%)\n",
    "    - PS3(9.4%)\n",
    "    - PC(6.6%)\n",
    "    - 3DS(6%)\n",
    "    \n",
    "    По жанрам:\n",
    "    - Action(27.6%)\n",
    "    - Shooter(24.2%)\n",
    "    - Sports(16.9%)\n",
    "    - Role-Playing(10.4%)\n",
    "    - Racing(5.2%)\n",
    "    \n",
    "    \n",
    "   **JP:**\n",
    "    \n",
    "    По платформам:\n",
    "    - 3DS(47.5%)\n",
    "    - PS4(16.1%)\n",
    "    - PSV(15.6%)\n",
    "    - PS3(12.1%)\n",
    "    - WiiU(7.9%)\n",
    "    \n",
    "    По жанрам:\n",
    "    - Role-Playing(33.5%)\n",
    "    - Action(31.8%)\n",
    "    - Fighting(6.8%)\n",
    "    - Misc(6.0%)\n",
    "    - Shooter(5.2%)\n",
    "    \n",
    "Только в Японии прослеживается слабая отрицательная зависимость от рейтинга ESRB\n",
    "\n",
    "- Были проверены следующие гипотезы:\n",
    "    - Средние пользовательские рейтинги платформ Xbox One и PC одинаковые (Средние пользовательские рейтинги на Xbox One и PC одинаковые);\n",
    "    - Средние пользовательские рейтинги жанров Action и Sports разные (Средние пользовательские рейтинги на Action и Sports различаются)\n",
    "    \n",
    "        \n",
    "**По данным можно сделать главный вывод, что на 2017 год стоит обратить большее внимание на игры жанров Action и Shooter (по причине большего влияния сектора Северной Америки и Европы по продажам), а так же на консоли PS4 и XOne, однако не стоит забывать и про другие жанры и консоли, чтобы охватить больший рынок**"
   ]
  }
 ],
 "metadata": {
  "ExecuteTimeLog": [
   {
    "duration": 1318,
    "start_time": "2023-05-20T22:31:42.179Z"
   },
   {
    "duration": 92,
    "start_time": "2023-05-20T22:33:28.582Z"
   },
   {
    "duration": 131,
    "start_time": "2023-05-20T22:33:34.762Z"
   },
   {
    "duration": 36,
    "start_time": "2023-05-20T22:33:41.816Z"
   },
   {
    "duration": 15,
    "start_time": "2023-05-20T22:33:59.291Z"
   },
   {
    "duration": 16,
    "start_time": "2023-05-20T22:34:08.455Z"
   },
   {
    "duration": 203,
    "start_time": "2023-05-20T22:38:14.552Z"
   },
   {
    "duration": 1752,
    "start_time": "2023-05-20T22:39:57.307Z"
   },
   {
    "duration": 1539,
    "start_time": "2023-05-20T22:40:17.850Z"
   },
   {
    "duration": 19,
    "start_time": "2023-05-20T22:40:27.181Z"
   },
   {
    "duration": 22,
    "start_time": "2023-05-20T22:41:23.391Z"
   },
   {
    "duration": 50,
    "start_time": "2023-05-21T02:41:38.954Z"
   },
   {
    "duration": 7,
    "start_time": "2023-05-21T02:41:56.031Z"
   },
   {
    "duration": 6,
    "start_time": "2023-05-21T02:41:59.482Z"
   },
   {
    "duration": 1367,
    "start_time": "2023-05-21T02:42:02.337Z"
   },
   {
    "duration": 201,
    "start_time": "2023-05-21T02:42:05.356Z"
   },
   {
    "duration": 21,
    "start_time": "2023-05-21T02:42:07.618Z"
   },
   {
    "duration": 19,
    "start_time": "2023-05-21T02:42:09.797Z"
   },
   {
    "duration": 69,
    "start_time": "2023-05-21T02:42:12.335Z"
   },
   {
    "duration": 3,
    "start_time": "2023-05-21T02:43:23.901Z"
   },
   {
    "duration": 15,
    "start_time": "2023-05-21T02:43:30.943Z"
   },
   {
    "duration": 2,
    "start_time": "2023-05-21T02:44:11.486Z"
   },
   {
    "duration": 2,
    "start_time": "2023-05-21T02:45:43.345Z"
   },
   {
    "duration": 54,
    "start_time": "2023-05-21T02:46:10.548Z"
   },
   {
    "duration": 14,
    "start_time": "2023-05-21T02:46:18.091Z"
   },
   {
    "duration": 7,
    "start_time": "2023-05-21T02:48:56.046Z"
   },
   {
    "duration": 15,
    "start_time": "2023-05-21T02:49:02.888Z"
   },
   {
    "duration": 4,
    "start_time": "2023-05-21T02:49:25.700Z"
   },
   {
    "duration": 16,
    "start_time": "2023-05-21T02:50:56.349Z"
   },
   {
    "duration": 14,
    "start_time": "2023-05-21T02:51:02.380Z"
   },
   {
    "duration": 9,
    "start_time": "2023-05-21T02:54:02.267Z"
   },
   {
    "duration": 1035,
    "start_time": "2023-05-21T02:54:11.934Z"
   },
   {
    "duration": 7,
    "start_time": "2023-05-21T02:54:45.890Z"
   },
   {
    "duration": 25,
    "start_time": "2023-05-21T02:54:52.010Z"
   },
   {
    "duration": 13,
    "start_time": "2023-05-21T02:55:00.712Z"
   },
   {
    "duration": 20,
    "start_time": "2023-05-21T02:56:25.611Z"
   },
   {
    "duration": 136,
    "start_time": "2023-05-21T03:03:03.991Z"
   },
   {
    "duration": 140,
    "start_time": "2023-05-21T03:03:26.937Z"
   },
   {
    "duration": 174,
    "start_time": "2023-05-21T03:03:56.134Z"
   },
   {
    "duration": 161,
    "start_time": "2023-05-21T03:04:06.645Z"
   },
   {
    "duration": 135,
    "start_time": "2023-05-21T03:04:11.302Z"
   },
   {
    "duration": 7,
    "start_time": "2023-05-21T03:05:46.588Z"
   },
   {
    "duration": 16,
    "start_time": "2023-05-21T03:05:53.041Z"
   },
   {
    "duration": 1092,
    "start_time": "2023-05-21T03:07:24.899Z"
   },
   {
    "duration": 55,
    "start_time": "2023-05-21T03:07:25.993Z"
   },
   {
    "duration": 20,
    "start_time": "2023-05-21T03:07:26.049Z"
   },
   {
    "duration": 18,
    "start_time": "2023-05-21T03:07:26.072Z"
   },
   {
    "duration": 26,
    "start_time": "2023-05-21T03:07:26.092Z"
   },
   {
    "duration": 16,
    "start_time": "2023-05-21T03:07:26.120Z"
   },
   {
    "duration": 11,
    "start_time": "2023-05-21T03:07:26.138Z"
   },
   {
    "duration": 27,
    "start_time": "2023-05-21T03:07:26.150Z"
   },
   {
    "duration": 15,
    "start_time": "2023-05-21T03:07:26.179Z"
   },
   {
    "duration": 21,
    "start_time": "2023-05-21T03:07:26.196Z"
   },
   {
    "duration": 14,
    "start_time": "2023-05-21T03:08:32.234Z"
   },
   {
    "duration": 15,
    "start_time": "2023-05-21T03:08:36.167Z"
   },
   {
    "duration": 828,
    "start_time": "2023-05-21T03:09:49.771Z"
   },
   {
    "duration": 5,
    "start_time": "2023-05-21T03:10:00.610Z"
   },
   {
    "duration": 5,
    "start_time": "2023-05-21T03:10:10.934Z"
   },
   {
    "duration": 6,
    "start_time": "2023-05-21T03:10:19.685Z"
   },
   {
    "duration": 5,
    "start_time": "2023-05-21T03:10:28.240Z"
   },
   {
    "duration": 5,
    "start_time": "2023-05-21T03:10:41.920Z"
   },
   {
    "duration": 8,
    "start_time": "2023-05-21T03:10:55.663Z"
   },
   {
    "duration": 21,
    "start_time": "2023-05-21T03:11:15.537Z"
   },
   {
    "duration": 143,
    "start_time": "2023-05-21T03:11:29.880Z"
   },
   {
    "duration": 169,
    "start_time": "2023-05-21T03:11:39.508Z"
   },
   {
    "duration": 164,
    "start_time": "2023-05-21T03:11:45.745Z"
   },
   {
    "duration": 6,
    "start_time": "2023-05-21T03:12:51.654Z"
   },
   {
    "duration": 13,
    "start_time": "2023-05-21T03:13:15.497Z"
   },
   {
    "duration": 11,
    "start_time": "2023-05-21T03:14:32.243Z"
   },
   {
    "duration": 5,
    "start_time": "2023-05-21T03:14:37.110Z"
   },
   {
    "duration": 7,
    "start_time": "2023-05-21T03:14:51.394Z"
   },
   {
    "duration": 11,
    "start_time": "2023-05-21T03:15:26.188Z"
   },
   {
    "duration": 715,
    "start_time": "2023-05-21T03:15:39.581Z"
   },
   {
    "duration": 125,
    "start_time": "2023-05-21T03:17:29.306Z"
   },
   {
    "duration": 6,
    "start_time": "2023-05-21T03:18:37.438Z"
   },
   {
    "duration": 17,
    "start_time": "2023-05-21T03:18:45.379Z"
   },
   {
    "duration": 23,
    "start_time": "2023-05-21T03:18:50.836Z"
   },
   {
    "duration": 21,
    "start_time": "2023-05-21T03:20:57.460Z"
   },
   {
    "duration": 760,
    "start_time": "2023-05-21T03:21:59.806Z"
   },
   {
    "duration": 6,
    "start_time": "2023-05-21T03:25:45.641Z"
   },
   {
    "duration": 6,
    "start_time": "2023-05-21T03:25:59.092Z"
   },
   {
    "duration": 6,
    "start_time": "2023-05-21T03:27:48.144Z"
   },
   {
    "duration": 15,
    "start_time": "2023-05-21T03:27:53.509Z"
   },
   {
    "duration": 26,
    "start_time": "2023-05-21T03:28:05.835Z"
   },
   {
    "duration": 6,
    "start_time": "2023-05-21T03:37:51.241Z"
   },
   {
    "duration": 134,
    "start_time": "2023-05-21T03:44:47.197Z"
   },
   {
    "duration": 164,
    "start_time": "2023-05-21T03:44:56.083Z"
   },
   {
    "duration": 153,
    "start_time": "2023-05-21T03:45:27.186Z"
   },
   {
    "duration": 141,
    "start_time": "2023-05-21T03:45:34.002Z"
   },
   {
    "duration": 262,
    "start_time": "2023-05-21T03:45:40.798Z"
   },
   {
    "duration": 220,
    "start_time": "2023-05-21T03:45:59.274Z"
   },
   {
    "duration": 232,
    "start_time": "2023-05-21T03:46:05.721Z"
   },
   {
    "duration": 221,
    "start_time": "2023-05-21T03:46:12.243Z"
   },
   {
    "duration": 202,
    "start_time": "2023-05-21T03:46:16.742Z"
   },
   {
    "duration": 161,
    "start_time": "2023-05-21T03:46:21.713Z"
   },
   {
    "duration": 180,
    "start_time": "2023-05-21T03:46:57.285Z"
   },
   {
    "duration": 7,
    "start_time": "2023-05-21T03:48:09.842Z"
   },
   {
    "duration": 13,
    "start_time": "2023-05-21T03:50:00.843Z"
   },
   {
    "duration": 14,
    "start_time": "2023-05-21T03:50:09.211Z"
   },
   {
    "duration": 9,
    "start_time": "2023-05-21T03:50:14.980Z"
   },
   {
    "duration": 5,
    "start_time": "2023-05-21T03:50:32.321Z"
   },
   {
    "duration": 23,
    "start_time": "2023-05-21T03:50:36.274Z"
   },
   {
    "duration": 22,
    "start_time": "2023-05-21T03:50:44.384Z"
   },
   {
    "duration": 26,
    "start_time": "2023-05-21T03:51:05.010Z"
   },
   {
    "duration": 8,
    "start_time": "2023-05-21T03:51:09.912Z"
   },
   {
    "duration": 18,
    "start_time": "2023-05-21T03:51:37.056Z"
   },
   {
    "duration": 6,
    "start_time": "2023-05-21T03:51:48.359Z"
   },
   {
    "duration": 9,
    "start_time": "2023-05-21T03:51:57.826Z"
   },
   {
    "duration": 13,
    "start_time": "2023-05-21T03:52:07.326Z"
   },
   {
    "duration": 7,
    "start_time": "2023-05-21T03:53:42.081Z"
   },
   {
    "duration": 9,
    "start_time": "2023-05-21T03:54:00.156Z"
   },
   {
    "duration": 10,
    "start_time": "2023-05-21T03:54:47.797Z"
   },
   {
    "duration": 9,
    "start_time": "2023-05-21T03:55:06.557Z"
   },
   {
    "duration": 6,
    "start_time": "2023-05-21T03:57:09.649Z"
   },
   {
    "duration": 8,
    "start_time": "2023-05-21T03:57:18.718Z"
   },
   {
    "duration": 6,
    "start_time": "2023-05-21T03:57:47.419Z"
   },
   {
    "duration": 13,
    "start_time": "2023-05-21T03:59:27.771Z"
   },
   {
    "duration": 215,
    "start_time": "2023-05-21T03:59:44.875Z"
   },
   {
    "duration": 209,
    "start_time": "2023-05-21T03:59:54.845Z"
   },
   {
    "duration": 229,
    "start_time": "2023-05-21T04:00:41.111Z"
   },
   {
    "duration": 169,
    "start_time": "2023-05-21T04:01:01.720Z"
   },
   {
    "duration": 324,
    "start_time": "2023-05-21T04:01:15.393Z"
   },
   {
    "duration": 750,
    "start_time": "2023-05-21T04:03:06.305Z"
   },
   {
    "duration": 365,
    "start_time": "2023-05-21T04:03:18.610Z"
   },
   {
    "duration": 222,
    "start_time": "2023-05-21T04:03:46.099Z"
   },
   {
    "duration": 27,
    "start_time": "2023-05-21T04:04:32.832Z"
   },
   {
    "duration": 25,
    "start_time": "2023-05-21T04:05:21.843Z"
   },
   {
    "duration": 15,
    "start_time": "2023-05-21T04:09:51.763Z"
   },
   {
    "duration": 11,
    "start_time": "2023-05-21T04:11:01.420Z"
   },
   {
    "duration": 25,
    "start_time": "2023-05-21T04:11:10.285Z"
   },
   {
    "duration": 5,
    "start_time": "2023-05-21T04:11:19.442Z"
   },
   {
    "duration": 3,
    "start_time": "2023-05-21T04:11:49.145Z"
   },
   {
    "duration": 6,
    "start_time": "2023-05-21T04:11:57.443Z"
   },
   {
    "duration": 4,
    "start_time": "2023-05-21T04:12:01.513Z"
   },
   {
    "duration": 249,
    "start_time": "2023-05-21T04:12:09.768Z"
   },
   {
    "duration": 298,
    "start_time": "2023-05-21T04:16:04.647Z"
   },
   {
    "duration": 419,
    "start_time": "2023-05-21T04:17:49.481Z"
   },
   {
    "duration": 331,
    "start_time": "2023-05-21T04:18:22.952Z"
   },
   {
    "duration": 1140,
    "start_time": "2023-05-21T04:18:34.643Z"
   },
   {
    "duration": 60,
    "start_time": "2023-05-21T04:18:35.786Z"
   },
   {
    "duration": 19,
    "start_time": "2023-05-21T04:18:35.848Z"
   },
   {
    "duration": 16,
    "start_time": "2023-05-21T04:18:35.869Z"
   },
   {
    "duration": 25,
    "start_time": "2023-05-21T04:18:35.887Z"
   },
   {
    "duration": 4,
    "start_time": "2023-05-21T04:18:35.929Z"
   },
   {
    "duration": 11,
    "start_time": "2023-05-21T04:18:35.935Z"
   },
   {
    "duration": 26,
    "start_time": "2023-05-21T04:18:35.948Z"
   },
   {
    "duration": 6,
    "start_time": "2023-05-21T04:18:35.976Z"
   },
   {
    "duration": 5,
    "start_time": "2023-05-21T04:18:35.983Z"
   },
   {
    "duration": 202,
    "start_time": "2023-05-21T04:18:35.990Z"
   },
   {
    "duration": 354,
    "start_time": "2023-05-21T04:18:36.193Z"
   },
   {
    "duration": 24,
    "start_time": "2023-05-21T04:18:36.549Z"
   },
   {
    "duration": 3,
    "start_time": "2023-05-21T04:18:36.576Z"
   },
   {
    "duration": 365,
    "start_time": "2023-05-21T04:18:36.581Z"
   },
   {
    "duration": 100,
    "start_time": "2023-05-21T04:25:03.354Z"
   },
   {
    "duration": 29,
    "start_time": "2023-05-21T04:25:19.569Z"
   },
   {
    "duration": 4,
    "start_time": "2023-05-21T04:26:08.151Z"
   },
   {
    "duration": 7,
    "start_time": "2023-05-21T04:26:17.509Z"
   },
   {
    "duration": 7,
    "start_time": "2023-05-21T04:26:23.753Z"
   },
   {
    "duration": 7,
    "start_time": "2023-05-21T04:26:30.370Z"
   },
   {
    "duration": 419,
    "start_time": "2023-05-21T04:26:46.143Z"
   },
   {
    "duration": 359,
    "start_time": "2023-05-21T04:26:52.055Z"
   },
   {
    "duration": 406,
    "start_time": "2023-05-21T04:27:03.450Z"
   },
   {
    "duration": 415,
    "start_time": "2023-05-21T04:29:24.370Z"
   },
   {
    "duration": 361,
    "start_time": "2023-05-21T04:29:40.553Z"
   },
   {
    "duration": 386,
    "start_time": "2023-05-21T04:29:48.569Z"
   },
   {
    "duration": 455,
    "start_time": "2023-05-21T04:31:00.895Z"
   },
   {
    "duration": 15,
    "start_time": "2023-05-21T04:35:01.705Z"
   },
   {
    "duration": 171,
    "start_time": "2023-05-21T04:35:10.154Z"
   },
   {
    "duration": 40,
    "start_time": "2023-05-21T04:35:37.013Z"
   },
   {
    "duration": 11,
    "start_time": "2023-05-21T04:35:41.314Z"
   },
   {
    "duration": 11,
    "start_time": "2023-05-21T04:35:49.369Z"
   },
   {
    "duration": 14,
    "start_time": "2023-05-21T04:36:04.882Z"
   },
   {
    "duration": 52,
    "start_time": "2023-05-21T04:36:39.006Z"
   },
   {
    "duration": 46,
    "start_time": "2023-05-21T04:36:45.457Z"
   },
   {
    "duration": 42,
    "start_time": "2023-05-21T04:36:48.906Z"
   },
   {
    "duration": 53,
    "start_time": "2023-05-21T04:36:53.750Z"
   },
   {
    "duration": 13,
    "start_time": "2023-05-21T04:36:57.761Z"
   },
   {
    "duration": 12,
    "start_time": "2023-05-21T04:37:05.620Z"
   },
   {
    "duration": 448,
    "start_time": "2023-05-21T04:38:21.393Z"
   },
   {
    "duration": 15,
    "start_time": "2023-05-21T04:39:25.115Z"
   },
   {
    "duration": 16,
    "start_time": "2023-05-21T04:39:55.652Z"
   },
   {
    "duration": 337,
    "start_time": "2023-05-21T04:41:42.227Z"
   },
   {
    "duration": 104,
    "start_time": "2023-05-21T04:54:12.017Z"
   },
   {
    "duration": 132,
    "start_time": "2023-05-21T04:54:19.755Z"
   },
   {
    "duration": 106,
    "start_time": "2023-05-21T04:54:43.010Z"
   },
   {
    "duration": 123,
    "start_time": "2023-05-21T04:55:31.468Z"
   },
   {
    "duration": 205,
    "start_time": "2023-05-21T04:56:05.025Z"
   },
   {
    "duration": 128,
    "start_time": "2023-05-21T04:57:07.730Z"
   },
   {
    "duration": 14,
    "start_time": "2023-05-21T04:57:53.895Z"
   },
   {
    "duration": 13,
    "start_time": "2023-05-21T04:58:41.618Z"
   },
   {
    "duration": 13,
    "start_time": "2023-05-21T04:58:50.579Z"
   },
   {
    "duration": 119,
    "start_time": "2023-05-21T04:59:15.940Z"
   },
   {
    "duration": 122,
    "start_time": "2023-05-21T04:59:27.203Z"
   },
   {
    "duration": 126,
    "start_time": "2023-05-21T05:00:04.422Z"
   },
   {
    "duration": 135,
    "start_time": "2023-05-21T05:00:13.742Z"
   },
   {
    "duration": 108,
    "start_time": "2023-05-21T05:01:52.570Z"
   },
   {
    "duration": 103,
    "start_time": "2023-05-21T05:02:10.187Z"
   },
   {
    "duration": 9,
    "start_time": "2023-05-21T05:02:21.355Z"
   },
   {
    "duration": 101,
    "start_time": "2023-05-21T05:02:35.202Z"
   },
   {
    "duration": 291,
    "start_time": "2023-05-21T05:03:29.544Z"
   },
   {
    "duration": 326,
    "start_time": "2023-05-21T05:03:46.761Z"
   },
   {
    "duration": 243,
    "start_time": "2023-05-21T05:03:51.707Z"
   },
   {
    "duration": 280,
    "start_time": "2023-05-21T05:04:02.657Z"
   },
   {
    "duration": 264,
    "start_time": "2023-05-21T05:04:48.323Z"
   },
   {
    "duration": 319,
    "start_time": "2023-05-21T05:05:01.680Z"
   },
   {
    "duration": 265,
    "start_time": "2023-05-21T05:05:55.650Z"
   },
   {
    "duration": 376,
    "start_time": "2023-05-21T05:06:05.313Z"
   },
   {
    "duration": 36,
    "start_time": "2023-05-21T05:08:06.612Z"
   },
   {
    "duration": 12,
    "start_time": "2023-05-21T05:10:43.115Z"
   },
   {
    "duration": 338,
    "start_time": "2023-05-21T05:10:51.805Z"
   },
   {
    "duration": 334,
    "start_time": "2023-05-21T05:12:32.087Z"
   },
   {
    "duration": 263,
    "start_time": "2023-05-21T05:15:08.501Z"
   },
   {
    "duration": 9,
    "start_time": "2023-05-21T05:18:17.019Z"
   },
   {
    "duration": 9,
    "start_time": "2023-05-21T05:18:25.209Z"
   },
   {
    "duration": 14,
    "start_time": "2023-05-21T05:18:32.301Z"
   },
   {
    "duration": 1388,
    "start_time": "2023-05-21T05:18:44.535Z"
   },
   {
    "duration": 10,
    "start_time": "2023-05-21T05:19:21.463Z"
   },
   {
    "duration": 56,
    "start_time": "2023-05-21T05:19:30.836Z"
   },
   {
    "duration": 271,
    "start_time": "2023-05-21T05:19:59.292Z"
   },
   {
    "duration": 33,
    "start_time": "2023-05-21T05:20:20.770Z"
   },
   {
    "duration": 36,
    "start_time": "2023-05-21T05:20:26.022Z"
   },
   {
    "duration": 37,
    "start_time": "2023-05-21T05:20:43.941Z"
   },
   {
    "duration": 334,
    "start_time": "2023-05-21T05:21:01.742Z"
   },
   {
    "duration": 278,
    "start_time": "2023-05-21T05:22:14.247Z"
   },
   {
    "duration": 33,
    "start_time": "2023-05-21T05:23:28.151Z"
   },
   {
    "duration": 117,
    "start_time": "2023-05-21T05:43:19.350Z"
   },
   {
    "duration": 140,
    "start_time": "2023-05-21T05:45:34.967Z"
   },
   {
    "duration": 139,
    "start_time": "2023-05-21T05:45:43.138Z"
   },
   {
    "duration": 151,
    "start_time": "2023-05-21T05:46:01.003Z"
   },
   {
    "duration": 270,
    "start_time": "2023-05-21T05:46:44.032Z"
   },
   {
    "duration": 148,
    "start_time": "2023-05-21T05:48:14.816Z"
   },
   {
    "duration": 180,
    "start_time": "2023-05-21T05:48:29.513Z"
   },
   {
    "duration": 142,
    "start_time": "2023-05-21T05:50:34.457Z"
   },
   {
    "duration": 139,
    "start_time": "2023-05-21T05:52:08.003Z"
   },
   {
    "duration": 368,
    "start_time": "2023-05-21T05:56:02.371Z"
   },
   {
    "duration": 358,
    "start_time": "2023-05-21T05:56:30.600Z"
   },
   {
    "duration": 286,
    "start_time": "2023-05-21T06:00:34.276Z"
   },
   {
    "duration": 298,
    "start_time": "2023-05-21T06:00:52.204Z"
   },
   {
    "duration": 12,
    "start_time": "2023-05-21T06:01:21.806Z"
   },
   {
    "duration": 38,
    "start_time": "2023-05-21T06:01:26.859Z"
   },
   {
    "duration": 287,
    "start_time": "2023-05-21T06:03:05.424Z"
   },
   {
    "duration": 292,
    "start_time": "2023-05-21T06:03:42.494Z"
   },
   {
    "duration": 332,
    "start_time": "2023-05-21T06:04:02.021Z"
   },
   {
    "duration": 247,
    "start_time": "2023-05-21T06:04:16.983Z"
   },
   {
    "duration": 10,
    "start_time": "2023-05-21T06:04:53.521Z"
   },
   {
    "duration": 317,
    "start_time": "2023-05-21T06:05:00.563Z"
   },
   {
    "duration": 9,
    "start_time": "2023-05-21T06:05:42.526Z"
   },
   {
    "duration": 4971,
    "start_time": "2023-05-21T06:06:14.787Z"
   },
   {
    "duration": 201,
    "start_time": "2023-05-21T06:06:51.059Z"
   },
   {
    "duration": 192,
    "start_time": "2023-05-21T06:07:00.580Z"
   },
   {
    "duration": 14,
    "start_time": "2023-05-21T06:07:51.165Z"
   },
   {
    "duration": 188,
    "start_time": "2023-05-21T06:07:59.250Z"
   },
   {
    "duration": 197,
    "start_time": "2023-05-21T06:08:26.978Z"
   },
   {
    "duration": 51,
    "start_time": "2023-05-21T06:08:34.679Z"
   },
   {
    "duration": 178,
    "start_time": "2023-05-21T06:08:43.589Z"
   },
   {
    "duration": 52,
    "start_time": "2023-05-23T13:04:21.810Z"
   },
   {
    "duration": 1362,
    "start_time": "2023-05-23T13:04:34.991Z"
   },
   {
    "duration": 94,
    "start_time": "2023-05-23T13:04:36.356Z"
   },
   {
    "duration": 22,
    "start_time": "2023-05-23T13:04:36.452Z"
   },
   {
    "duration": 26,
    "start_time": "2023-05-23T13:04:36.475Z"
   },
   {
    "duration": 22,
    "start_time": "2023-05-23T13:04:36.504Z"
   },
   {
    "duration": 15,
    "start_time": "2023-05-23T13:04:36.529Z"
   },
   {
    "duration": 29,
    "start_time": "2023-05-23T13:04:36.546Z"
   },
   {
    "duration": 35,
    "start_time": "2023-05-23T13:04:36.576Z"
   },
   {
    "duration": 20,
    "start_time": "2023-05-23T13:04:36.613Z"
   },
   {
    "duration": 26,
    "start_time": "2023-05-23T13:04:36.635Z"
   },
   {
    "duration": 237,
    "start_time": "2023-05-23T13:04:36.664Z"
   },
   {
    "duration": 370,
    "start_time": "2023-05-23T13:04:36.903Z"
   },
   {
    "duration": 27,
    "start_time": "2023-05-23T13:04:37.275Z"
   },
   {
    "duration": 14,
    "start_time": "2023-05-23T13:04:37.304Z"
   },
   {
    "duration": 376,
    "start_time": "2023-05-23T13:04:37.319Z"
   },
   {
    "duration": 6,
    "start_time": "2023-05-23T13:04:37.697Z"
   },
   {
    "duration": 84,
    "start_time": "2023-05-23T13:04:37.705Z"
   },
   {
    "duration": 326,
    "start_time": "2023-05-23T13:04:37.790Z"
   },
   {
    "duration": 294,
    "start_time": "2023-05-23T13:04:38.117Z"
   },
   {
    "duration": 43,
    "start_time": "2023-05-23T13:04:38.413Z"
   },
   {
    "duration": 163,
    "start_time": "2023-05-23T13:04:38.458Z"
   },
   {
    "duration": 227,
    "start_time": "2023-05-23T13:04:38.625Z"
   },
   {
    "duration": 240,
    "start_time": "2023-05-23T13:04:38.855Z"
   },
   {
    "duration": 158,
    "start_time": "2023-05-23T13:04:39.097Z"
   },
   {
    "duration": 345,
    "start_time": "2023-05-23T13:04:39.257Z"
   },
   {
    "duration": 70,
    "start_time": "2023-05-23T13:04:39.604Z"
   },
   {
    "duration": 216,
    "start_time": "2023-05-23T13:04:39.676Z"
   },
   {
    "duration": 158,
    "start_time": "2023-05-23T13:04:39.894Z"
   },
   {
    "duration": 18,
    "start_time": "2023-05-23T13:04:45.917Z"
   },
   {
    "duration": 18,
    "start_time": "2023-05-23T13:05:00.544Z"
   },
   {
    "duration": 1805,
    "start_time": "2023-05-23T13:06:59.599Z"
   },
   {
    "duration": 3601,
    "start_time": "2023-05-23T13:07:14.035Z"
   },
   {
    "duration": 12,
    "start_time": "2023-05-23T13:07:59.655Z"
   },
   {
    "duration": 16,
    "start_time": "2023-05-23T13:08:05.724Z"
   },
   {
    "duration": 20,
    "start_time": "2023-05-23T13:10:27.858Z"
   },
   {
    "duration": 19,
    "start_time": "2023-05-23T13:10:54.909Z"
   },
   {
    "duration": 354,
    "start_time": "2023-05-23T13:10:57.006Z"
   },
   {
    "duration": 12,
    "start_time": "2023-05-23T13:11:46.274Z"
   },
   {
    "duration": 173,
    "start_time": "2023-05-23T13:13:57.830Z"
   },
   {
    "duration": 143,
    "start_time": "2023-05-23T13:14:36.549Z"
   },
   {
    "duration": 143,
    "start_time": "2023-05-23T13:15:21.347Z"
   },
   {
    "duration": 280,
    "start_time": "2023-05-23T13:15:29.921Z"
   },
   {
    "duration": 109,
    "start_time": "2023-05-23T13:15:39.874Z"
   },
   {
    "duration": 17,
    "start_time": "2023-05-23T15:20:39.759Z"
   },
   {
    "duration": 50,
    "start_time": "2023-05-23T15:20:47.290Z"
   },
   {
    "duration": 14,
    "start_time": "2023-05-23T15:22:03.074Z"
   },
   {
    "duration": 220,
    "start_time": "2023-05-23T15:22:48.740Z"
   },
   {
    "duration": 135,
    "start_time": "2023-05-23T15:23:02.174Z"
   },
   {
    "duration": 128,
    "start_time": "2023-05-23T15:24:32.574Z"
   },
   {
    "duration": 214,
    "start_time": "2023-05-23T15:25:01.747Z"
   },
   {
    "duration": 483,
    "start_time": "2023-05-23T15:30:08.084Z"
   },
   {
    "duration": 11,
    "start_time": "2023-05-23T15:33:01.412Z"
   },
   {
    "duration": 11,
    "start_time": "2023-05-23T15:33:06.176Z"
   },
   {
    "duration": 12,
    "start_time": "2023-05-23T15:33:11.747Z"
   },
   {
    "duration": 5,
    "start_time": "2023-05-23T15:33:24.497Z"
   },
   {
    "duration": 13,
    "start_time": "2023-05-23T15:33:37.407Z"
   },
   {
    "duration": 5,
    "start_time": "2023-05-23T15:34:04.444Z"
   },
   {
    "duration": 20,
    "start_time": "2023-05-23T15:38:44.553Z"
   },
   {
    "duration": 5,
    "start_time": "2023-05-23T15:39:31.811Z"
   },
   {
    "duration": 18,
    "start_time": "2023-05-23T15:40:32.942Z"
   },
   {
    "duration": 35,
    "start_time": "2023-05-23T15:41:35.713Z"
   },
   {
    "duration": 22,
    "start_time": "2023-05-23T15:41:43.254Z"
   },
   {
    "duration": 26,
    "start_time": "2023-05-23T15:42:45.746Z"
   },
   {
    "duration": 8,
    "start_time": "2023-05-23T15:43:01.717Z"
   },
   {
    "duration": 204,
    "start_time": "2023-05-23T15:44:53.760Z"
   },
   {
    "duration": 313,
    "start_time": "2023-05-23T15:45:26.157Z"
   },
   {
    "duration": 190,
    "start_time": "2023-05-23T15:45:37.468Z"
   },
   {
    "duration": 17,
    "start_time": "2023-05-23T15:53:42.774Z"
   },
   {
    "duration": 393,
    "start_time": "2023-05-23T15:54:58.023Z"
   },
   {
    "duration": 20,
    "start_time": "2023-05-23T15:55:30.389Z"
   },
   {
    "duration": 153,
    "start_time": "2023-05-23T15:56:05.467Z"
   },
   {
    "duration": 16,
    "start_time": "2023-05-23T15:56:40.166Z"
   },
   {
    "duration": 219,
    "start_time": "2023-05-23T15:57:13.669Z"
   },
   {
    "duration": 162,
    "start_time": "2023-05-23T16:00:16.252Z"
   },
   {
    "duration": 15,
    "start_time": "2023-05-23T16:01:56.496Z"
   },
   {
    "duration": 429,
    "start_time": "2023-05-23T16:02:53.681Z"
   },
   {
    "duration": 13,
    "start_time": "2023-05-23T16:03:23.623Z"
   },
   {
    "duration": 191,
    "start_time": "2023-05-23T16:04:31.597Z"
   },
   {
    "duration": 16,
    "start_time": "2023-05-23T16:05:24.794Z"
   },
   {
    "duration": 214,
    "start_time": "2023-05-23T16:06:07.165Z"
   },
   {
    "duration": 172,
    "start_time": "2023-05-23T16:08:46.593Z"
   },
   {
    "duration": 508,
    "start_time": "2023-05-23T16:23:27.693Z"
   },
   {
    "duration": 17,
    "start_time": "2023-05-23T16:23:32.779Z"
   },
   {
    "duration": 240,
    "start_time": "2023-05-23T16:23:36.865Z"
   },
   {
    "duration": 13,
    "start_time": "2023-05-23T16:25:33.388Z"
   },
   {
    "duration": 269,
    "start_time": "2023-05-23T16:25:34.711Z"
   },
   {
    "duration": 418,
    "start_time": "2023-05-23T16:26:01.366Z"
   },
   {
    "duration": 31,
    "start_time": "2023-05-23T16:26:05.520Z"
   },
   {
    "duration": 191,
    "start_time": "2023-05-23T16:26:08.381Z"
   },
   {
    "duration": 398,
    "start_time": "2023-05-23T16:26:38.981Z"
   },
   {
    "duration": 13,
    "start_time": "2023-05-23T16:26:42.674Z"
   },
   {
    "duration": 156,
    "start_time": "2023-05-23T16:26:44.558Z"
   },
   {
    "duration": 7,
    "start_time": "2023-05-23T17:04:49.479Z"
   },
   {
    "duration": 13,
    "start_time": "2023-05-23T17:09:43.458Z"
   },
   {
    "duration": 32,
    "start_time": "2023-05-23T17:10:18.613Z"
   },
   {
    "duration": 8,
    "start_time": "2023-05-23T17:10:37.267Z"
   },
   {
    "duration": 7,
    "start_time": "2023-05-23T17:11:04.389Z"
   },
   {
    "duration": 13,
    "start_time": "2023-05-23T17:11:15.319Z"
   },
   {
    "duration": 8,
    "start_time": "2023-05-23T17:11:20.712Z"
   },
   {
    "duration": 17,
    "start_time": "2023-05-23T17:14:54.906Z"
   },
   {
    "duration": 14,
    "start_time": "2023-05-23T17:15:01.681Z"
   },
   {
    "duration": 16,
    "start_time": "2023-05-23T17:16:11.173Z"
   },
   {
    "duration": 24,
    "start_time": "2023-05-23T17:16:58.242Z"
   },
   {
    "duration": 10,
    "start_time": "2023-05-23T17:17:06.557Z"
   },
   {
    "duration": 1388,
    "start_time": "2023-05-23T17:42:03.853Z"
   },
   {
    "duration": 99,
    "start_time": "2023-05-23T17:42:05.248Z"
   },
   {
    "duration": 32,
    "start_time": "2023-05-23T17:42:05.349Z"
   },
   {
    "duration": 103,
    "start_time": "2023-05-23T17:42:05.383Z"
   },
   {
    "duration": 4,
    "start_time": "2023-05-23T17:42:05.489Z"
   },
   {
    "duration": 39,
    "start_time": "2023-05-23T17:42:05.496Z"
   },
   {
    "duration": 67,
    "start_time": "2023-05-23T17:42:05.541Z"
   },
   {
    "duration": 30,
    "start_time": "2023-05-23T17:42:05.610Z"
   },
   {
    "duration": 74,
    "start_time": "2023-05-23T17:42:05.646Z"
   },
   {
    "duration": 360,
    "start_time": "2023-05-23T17:42:05.723Z"
   },
   {
    "duration": 457,
    "start_time": "2023-05-23T17:42:06.085Z"
   },
   {
    "duration": 38,
    "start_time": "2023-05-23T17:42:06.543Z"
   },
   {
    "duration": 5,
    "start_time": "2023-05-23T17:42:06.584Z"
   },
   {
    "duration": 524,
    "start_time": "2023-05-23T17:42:06.593Z"
   },
   {
    "duration": 16,
    "start_time": "2023-05-23T17:42:07.119Z"
   },
   {
    "duration": 115,
    "start_time": "2023-05-23T17:42:07.137Z"
   },
   {
    "duration": 493,
    "start_time": "2023-05-23T17:42:07.254Z"
   },
   {
    "duration": 362,
    "start_time": "2023-05-23T17:42:07.752Z"
   },
   {
    "duration": 61,
    "start_time": "2023-05-23T17:42:08.116Z"
   },
   {
    "duration": 268,
    "start_time": "2023-05-23T17:42:08.179Z"
   },
   {
    "duration": 204,
    "start_time": "2023-05-23T17:42:08.450Z"
   },
   {
    "duration": 291,
    "start_time": "2023-05-23T17:42:08.657Z"
   },
   {
    "duration": 185,
    "start_time": "2023-05-23T17:42:08.950Z"
   },
   {
    "duration": 398,
    "start_time": "2023-05-23T17:42:09.137Z"
   },
   {
    "duration": 51,
    "start_time": "2023-05-23T17:42:09.538Z"
   },
   {
    "duration": 281,
    "start_time": "2023-05-23T17:42:09.592Z"
   },
   {
    "duration": 20,
    "start_time": "2023-05-23T17:42:09.874Z"
   },
   {
    "duration": 533,
    "start_time": "2023-05-23T17:42:09.898Z"
   },
   {
    "duration": 20,
    "start_time": "2023-05-23T17:42:10.433Z"
   },
   {
    "duration": 218,
    "start_time": "2023-05-23T17:42:10.455Z"
   },
   {
    "duration": 20,
    "start_time": "2023-05-23T17:42:10.678Z"
   },
   {
    "duration": 280,
    "start_time": "2023-05-23T17:42:10.700Z"
   },
   {
    "duration": 33,
    "start_time": "2023-05-23T17:42:10.998Z"
   },
   {
    "duration": 332,
    "start_time": "2023-05-23T17:42:11.033Z"
   },
   {
    "duration": 21,
    "start_time": "2023-05-23T17:42:11.367Z"
   },
   {
    "duration": 567,
    "start_time": "2023-05-23T17:42:11.390Z"
   },
   {
    "duration": 19,
    "start_time": "2023-05-23T17:42:11.958Z"
   },
   {
    "duration": 227,
    "start_time": "2023-05-23T17:42:11.978Z"
   },
   {
    "duration": 39,
    "start_time": "2023-05-23T17:42:12.207Z"
   },
   {
    "duration": 377,
    "start_time": "2023-05-23T17:42:12.249Z"
   },
   {
    "duration": 169,
    "start_time": "2023-05-23T17:42:12.631Z"
   },
   {
    "duration": 40,
    "start_time": "2023-05-23T17:42:12.802Z"
   },
   {
    "duration": 432,
    "start_time": "2023-05-23T17:42:12.844Z"
   },
   {
    "duration": 18,
    "start_time": "2023-05-23T17:42:13.277Z"
   },
   {
    "duration": 260,
    "start_time": "2023-05-23T17:42:13.298Z"
   },
   {
    "duration": 16,
    "start_time": "2023-05-23T17:42:13.560Z"
   },
   {
    "duration": 249,
    "start_time": "2023-05-23T17:42:13.578Z"
   },
   {
    "duration": 176,
    "start_time": "2023-05-23T17:42:13.831Z"
   },
   {
    "duration": 29,
    "start_time": "2023-05-23T17:42:14.009Z"
   },
   {
    "duration": 61,
    "start_time": "2023-05-23T17:42:14.046Z"
   },
   {
    "duration": 1369,
    "start_time": "2023-05-23T20:38:48.956Z"
   },
   {
    "duration": 199,
    "start_time": "2023-05-23T20:38:50.328Z"
   },
   {
    "duration": 28,
    "start_time": "2023-05-23T20:38:50.528Z"
   },
   {
    "duration": 18,
    "start_time": "2023-05-23T20:38:50.559Z"
   },
   {
    "duration": 6,
    "start_time": "2023-05-23T20:38:50.579Z"
   },
   {
    "duration": 11,
    "start_time": "2023-05-23T20:38:50.587Z"
   },
   {
    "duration": 27,
    "start_time": "2023-05-23T20:38:50.600Z"
   },
   {
    "duration": 27,
    "start_time": "2023-05-23T20:38:50.630Z"
   },
   {
    "duration": 6,
    "start_time": "2023-05-23T20:38:50.659Z"
   },
   {
    "duration": 235,
    "start_time": "2023-05-23T20:38:50.667Z"
   },
   {
    "duration": 432,
    "start_time": "2023-05-23T20:38:50.904Z"
   },
   {
    "duration": 33,
    "start_time": "2023-05-23T20:38:51.338Z"
   },
   {
    "duration": 4,
    "start_time": "2023-05-23T20:38:51.373Z"
   },
   {
    "duration": 650,
    "start_time": "2023-05-23T20:38:51.381Z"
   },
   {
    "duration": 5,
    "start_time": "2023-05-23T20:38:52.032Z"
   },
   {
    "duration": 67,
    "start_time": "2023-05-23T20:38:52.040Z"
   },
   {
    "duration": 382,
    "start_time": "2023-05-23T20:38:52.108Z"
   },
   {
    "duration": 303,
    "start_time": "2023-05-23T20:38:52.491Z"
   },
   {
    "duration": 41,
    "start_time": "2023-05-23T20:38:52.795Z"
   },
   {
    "duration": 170,
    "start_time": "2023-05-23T20:38:52.839Z"
   },
   {
    "duration": 169,
    "start_time": "2023-05-23T20:38:53.010Z"
   },
   {
    "duration": 257,
    "start_time": "2023-05-23T20:38:53.181Z"
   },
   {
    "duration": 172,
    "start_time": "2023-05-23T20:38:53.440Z"
   },
   {
    "duration": 361,
    "start_time": "2023-05-23T20:38:53.613Z"
   },
   {
    "duration": 59,
    "start_time": "2023-05-23T20:38:53.976Z"
   },
   {
    "duration": 269,
    "start_time": "2023-05-23T20:38:54.038Z"
   },
   {
    "duration": 16,
    "start_time": "2023-05-23T20:38:54.309Z"
   },
   {
    "duration": 401,
    "start_time": "2023-05-23T20:38:54.327Z"
   },
   {
    "duration": 26,
    "start_time": "2023-05-23T20:38:54.731Z"
   },
   {
    "duration": 171,
    "start_time": "2023-05-23T20:38:54.759Z"
   },
   {
    "duration": 12,
    "start_time": "2023-05-23T20:38:54.931Z"
   },
   {
    "duration": 195,
    "start_time": "2023-05-23T20:38:54.945Z"
   },
   {
    "duration": 5,
    "start_time": "2023-05-23T20:38:55.142Z"
   },
   {
    "duration": 146,
    "start_time": "2023-05-23T20:38:55.158Z"
   },
   {
    "duration": 13,
    "start_time": "2023-05-23T20:38:55.305Z"
   },
   {
    "duration": 359,
    "start_time": "2023-05-23T20:38:55.320Z"
   },
   {
    "duration": 13,
    "start_time": "2023-05-23T20:38:55.681Z"
   },
   {
    "duration": 162,
    "start_time": "2023-05-23T20:38:55.695Z"
   },
   {
    "duration": 17,
    "start_time": "2023-05-23T20:38:55.859Z"
   },
   {
    "duration": 279,
    "start_time": "2023-05-23T20:38:55.878Z"
   },
   {
    "duration": 145,
    "start_time": "2023-05-23T20:38:56.160Z"
   },
   {
    "duration": 13,
    "start_time": "2023-05-23T20:38:56.306Z"
   },
   {
    "duration": 341,
    "start_time": "2023-05-23T20:38:56.321Z"
   },
   {
    "duration": 13,
    "start_time": "2023-05-23T20:38:56.664Z"
   },
   {
    "duration": 149,
    "start_time": "2023-05-23T20:38:56.678Z"
   },
   {
    "duration": 12,
    "start_time": "2023-05-23T20:38:56.829Z"
   },
   {
    "duration": 191,
    "start_time": "2023-05-23T20:38:56.843Z"
   },
   {
    "duration": 134,
    "start_time": "2023-05-23T20:38:57.035Z"
   },
   {
    "duration": 9,
    "start_time": "2023-05-23T20:38:57.171Z"
   },
   {
    "duration": 13,
    "start_time": "2023-05-23T20:38:57.181Z"
   },
   {
    "duration": 16,
    "start_time": "2023-05-23T21:55:22.132Z"
   },
   {
    "duration": 1048,
    "start_time": "2023-05-23T22:09:12.149Z"
   },
   {
    "duration": 54,
    "start_time": "2023-05-23T22:09:13.199Z"
   },
   {
    "duration": 19,
    "start_time": "2023-05-23T22:09:13.254Z"
   },
   {
    "duration": 17,
    "start_time": "2023-05-23T22:09:13.274Z"
   },
   {
    "duration": 8,
    "start_time": "2023-05-23T22:09:13.292Z"
   },
   {
    "duration": 15,
    "start_time": "2023-05-23T22:09:13.302Z"
   },
   {
    "duration": 54,
    "start_time": "2023-05-23T22:09:13.318Z"
   },
   {
    "duration": 37,
    "start_time": "2023-05-23T22:09:13.374Z"
   },
   {
    "duration": 186,
    "start_time": "2023-05-23T22:09:13.412Z"
   },
   {
    "duration": 5,
    "start_time": "2023-05-23T22:09:13.601Z"
   },
   {
    "duration": 12,
    "start_time": "2023-05-23T22:09:13.608Z"
   },
   {
    "duration": 15,
    "start_time": "2023-05-23T22:09:13.622Z"
   },
   {
    "duration": 184,
    "start_time": "2023-05-23T22:09:13.639Z"
   },
   {
    "duration": 348,
    "start_time": "2023-05-23T22:09:13.825Z"
   },
   {
    "duration": 26,
    "start_time": "2023-05-23T22:09:14.174Z"
   },
   {
    "duration": 5,
    "start_time": "2023-05-23T22:09:14.202Z"
   },
   {
    "duration": 379,
    "start_time": "2023-05-23T22:09:14.208Z"
   },
   {
    "duration": 5,
    "start_time": "2023-05-23T22:09:14.589Z"
   },
   {
    "duration": 66,
    "start_time": "2023-05-23T22:09:14.596Z"
   },
   {
    "duration": 294,
    "start_time": "2023-05-23T22:09:14.663Z"
   },
   {
    "duration": 272,
    "start_time": "2023-05-23T22:09:14.959Z"
   },
   {
    "duration": 38,
    "start_time": "2023-05-23T22:09:15.232Z"
   },
   {
    "duration": 139,
    "start_time": "2023-05-23T22:09:15.272Z"
   },
   {
    "duration": 214,
    "start_time": "2023-05-23T22:09:15.413Z"
   },
   {
    "duration": 145,
    "start_time": "2023-05-23T22:09:15.629Z"
   },
   {
    "duration": 156,
    "start_time": "2023-05-23T22:09:15.776Z"
   },
   {
    "duration": 295,
    "start_time": "2023-05-23T22:09:15.934Z"
   },
   {
    "duration": 42,
    "start_time": "2023-05-23T22:09:16.233Z"
   },
   {
    "duration": 184,
    "start_time": "2023-05-23T22:09:16.277Z"
   },
   {
    "duration": 13,
    "start_time": "2023-05-23T22:09:16.463Z"
   },
   {
    "duration": 335,
    "start_time": "2023-05-23T22:09:16.477Z"
   },
   {
    "duration": 12,
    "start_time": "2023-05-23T22:09:16.813Z"
   },
   {
    "duration": 153,
    "start_time": "2023-05-23T22:09:16.827Z"
   },
   {
    "duration": 13,
    "start_time": "2023-05-23T22:09:16.981Z"
   },
   {
    "duration": 198,
    "start_time": "2023-05-23T22:09:16.995Z"
   },
   {
    "duration": 5,
    "start_time": "2023-05-23T22:09:17.194Z"
   },
   {
    "duration": 161,
    "start_time": "2023-05-23T22:09:17.201Z"
   },
   {
    "duration": 13,
    "start_time": "2023-05-23T22:09:17.363Z"
   },
   {
    "duration": 337,
    "start_time": "2023-05-23T22:09:17.377Z"
   },
   {
    "duration": 11,
    "start_time": "2023-05-23T22:09:17.716Z"
   },
   {
    "duration": 246,
    "start_time": "2023-05-23T22:09:17.729Z"
   },
   {
    "duration": 12,
    "start_time": "2023-05-23T22:09:17.977Z"
   },
   {
    "duration": 192,
    "start_time": "2023-05-23T22:09:17.991Z"
   },
   {
    "duration": 147,
    "start_time": "2023-05-23T22:09:18.184Z"
   },
   {
    "duration": 12,
    "start_time": "2023-05-23T22:09:18.333Z"
   },
   {
    "duration": 313,
    "start_time": "2023-05-23T22:09:18.357Z"
   },
   {
    "duration": 11,
    "start_time": "2023-05-23T22:09:18.672Z"
   },
   {
    "duration": 151,
    "start_time": "2023-05-23T22:09:18.685Z"
   },
   {
    "duration": 21,
    "start_time": "2023-05-23T22:09:18.837Z"
   },
   {
    "duration": 178,
    "start_time": "2023-05-23T22:09:18.860Z"
   },
   {
    "duration": 134,
    "start_time": "2023-05-23T22:09:19.040Z"
   },
   {
    "duration": 7,
    "start_time": "2023-05-23T22:09:19.175Z"
   },
   {
    "duration": 12,
    "start_time": "2023-05-23T22:09:19.184Z"
   },
   {
    "duration": 1234,
    "start_time": "2023-05-23T23:45:33.359Z"
   },
   {
    "duration": 10,
    "start_time": "2023-05-23T23:48:27.774Z"
   },
   {
    "duration": 11,
    "start_time": "2023-05-23T23:48:35.086Z"
   },
   {
    "duration": 16,
    "start_time": "2023-05-23T23:48:46.333Z"
   },
   {
    "duration": 11,
    "start_time": "2023-05-23T23:48:49.632Z"
   },
   {
    "duration": 10,
    "start_time": "2023-05-23T23:48:58.240Z"
   },
   {
    "duration": 18,
    "start_time": "2023-05-23T23:50:42.810Z"
   },
   {
    "duration": 10,
    "start_time": "2023-05-23T23:52:17.713Z"
   },
   {
    "duration": 16,
    "start_time": "2023-05-23T23:52:24.409Z"
   },
   {
    "duration": 5,
    "start_time": "2023-05-23T23:53:54.084Z"
   },
   {
    "duration": 11,
    "start_time": "2023-05-23T23:56:15.157Z"
   },
   {
    "duration": 7,
    "start_time": "2023-05-23T23:59:04.728Z"
   },
   {
    "duration": 998,
    "start_time": "2023-05-23T23:59:22.961Z"
   },
   {
    "duration": 58,
    "start_time": "2023-05-23T23:59:24.745Z"
   },
   {
    "duration": 18,
    "start_time": "2023-05-23T23:59:25.554Z"
   },
   {
    "duration": 86,
    "start_time": "2023-05-23T23:59:28.114Z"
   },
   {
    "duration": 12,
    "start_time": "2023-05-23T23:59:40.842Z"
   },
   {
    "duration": 3,
    "start_time": "2023-05-24T00:00:23.039Z"
   },
   {
    "duration": 10,
    "start_time": "2023-05-24T00:00:26.431Z"
   },
   {
    "duration": 13,
    "start_time": "2023-05-24T00:00:31.475Z"
   },
   {
    "duration": 11,
    "start_time": "2023-05-24T00:01:50.702Z"
   },
   {
    "duration": 13,
    "start_time": "2023-05-24T00:01:53.905Z"
   },
   {
    "duration": 4,
    "start_time": "2023-05-24T00:02:14.583Z"
   },
   {
    "duration": 1143,
    "start_time": "2023-05-24T00:02:27.107Z"
   },
   {
    "duration": 51,
    "start_time": "2023-05-24T00:02:29.399Z"
   },
   {
    "duration": 18,
    "start_time": "2023-05-24T00:02:31.242Z"
   },
   {
    "duration": 3,
    "start_time": "2023-05-24T00:02:32.738Z"
   },
   {
    "duration": 12,
    "start_time": "2023-05-24T00:02:34.029Z"
   },
   {
    "duration": 6,
    "start_time": "2023-05-24T00:02:38.588Z"
   },
   {
    "duration": 14,
    "start_time": "2023-05-24T00:02:41.390Z"
   },
   {
    "duration": 4,
    "start_time": "2023-05-24T00:02:48.142Z"
   },
   {
    "duration": 183,
    "start_time": "2023-05-24T00:02:50.994Z"
   },
   {
    "duration": 52,
    "start_time": "2023-05-24T00:12:47.317Z"
   },
   {
    "duration": 93,
    "start_time": "2023-05-24T00:12:52.773Z"
   },
   {
    "duration": 11,
    "start_time": "2023-05-24T00:12:58.644Z"
   },
   {
    "duration": 14,
    "start_time": "2023-05-24T00:13:06.982Z"
   },
   {
    "duration": 15,
    "start_time": "2023-05-24T00:14:10.936Z"
   },
   {
    "duration": 14,
    "start_time": "2023-05-24T00:14:18.499Z"
   },
   {
    "duration": 14,
    "start_time": "2023-05-24T00:14:29.978Z"
   },
   {
    "duration": 21,
    "start_time": "2023-05-24T00:17:55.489Z"
   },
   {
    "duration": 14,
    "start_time": "2023-05-24T00:18:05.016Z"
   },
   {
    "duration": 7,
    "start_time": "2023-05-24T00:23:38.999Z"
   },
   {
    "duration": 4,
    "start_time": "2023-05-24T00:23:41.863Z"
   },
   {
    "duration": 14,
    "start_time": "2023-05-24T00:23:43.241Z"
   },
   {
    "duration": 6,
    "start_time": "2023-05-24T00:26:13.291Z"
   },
   {
    "duration": 23,
    "start_time": "2023-05-24T00:26:22.584Z"
   },
   {
    "duration": 30,
    "start_time": "2023-05-24T00:26:47.423Z"
   },
   {
    "duration": 22,
    "start_time": "2023-05-24T00:28:21.976Z"
   },
   {
    "duration": 178,
    "start_time": "2023-05-24T00:42:00.092Z"
   },
   {
    "duration": 186,
    "start_time": "2023-05-24T00:42:18.350Z"
   },
   {
    "duration": 136,
    "start_time": "2023-05-24T00:42:26.860Z"
   },
   {
    "duration": 164,
    "start_time": "2023-05-24T00:42:39.801Z"
   },
   {
    "duration": 143,
    "start_time": "2023-05-24T00:43:00.870Z"
   },
   {
    "duration": 153,
    "start_time": "2023-05-24T00:43:07.575Z"
   },
   {
    "duration": 153,
    "start_time": "2023-05-24T00:49:15.049Z"
   },
   {
    "duration": 334,
    "start_time": "2023-05-24T00:50:33.670Z"
   },
   {
    "duration": 201,
    "start_time": "2023-05-24T00:50:39.277Z"
   },
   {
    "duration": 184,
    "start_time": "2023-05-24T00:50:47.402Z"
   },
   {
    "duration": 215,
    "start_time": "2023-05-24T00:51:02.905Z"
   },
   {
    "duration": 190,
    "start_time": "2023-05-24T00:51:07.583Z"
   },
   {
    "duration": 192,
    "start_time": "2023-05-24T00:51:45.576Z"
   },
   {
    "duration": 346,
    "start_time": "2023-05-24T00:52:57.835Z"
   },
   {
    "duration": 24,
    "start_time": "2023-05-24T00:53:01.498Z"
   },
   {
    "duration": 3,
    "start_time": "2023-05-24T00:53:13.960Z"
   },
   {
    "duration": 347,
    "start_time": "2023-05-24T00:53:15.148Z"
   },
   {
    "duration": 4,
    "start_time": "2023-05-24T00:53:21.392Z"
   },
   {
    "duration": 11,
    "start_time": "2023-05-24T00:53:24.450Z"
   },
   {
    "duration": 282,
    "start_time": "2023-05-24T00:53:26.730Z"
   },
   {
    "duration": 283,
    "start_time": "2023-05-24T00:53:52.257Z"
   },
   {
    "duration": 346,
    "start_time": "2023-05-24T00:59:49.606Z"
   },
   {
    "duration": 255,
    "start_time": "2023-05-24T00:59:57.272Z"
   },
   {
    "duration": 259,
    "start_time": "2023-05-24T01:00:32.758Z"
   },
   {
    "duration": 248,
    "start_time": "2023-05-24T01:00:45.951Z"
   },
   {
    "duration": 279,
    "start_time": "2023-05-24T01:01:10.701Z"
   },
   {
    "duration": 152,
    "start_time": "2023-05-24T01:02:17.006Z"
   },
   {
    "duration": 333,
    "start_time": "2023-05-24T01:03:05.648Z"
   },
   {
    "duration": 386,
    "start_time": "2023-05-24T01:03:28.926Z"
   },
   {
    "duration": 375,
    "start_time": "2023-05-24T01:03:41.349Z"
   },
   {
    "duration": 346,
    "start_time": "2023-05-24T01:04:01.982Z"
   },
   {
    "duration": 278,
    "start_time": "2023-05-24T01:06:13.012Z"
   },
   {
    "duration": 242,
    "start_time": "2023-05-24T01:06:26.411Z"
   },
   {
    "duration": 245,
    "start_time": "2023-05-24T01:06:39.803Z"
   },
   {
    "duration": 32,
    "start_time": "2023-05-24T01:06:53.587Z"
   },
   {
    "duration": 126,
    "start_time": "2023-05-24T01:06:58.319Z"
   },
   {
    "duration": 132,
    "start_time": "2023-05-24T01:07:00.374Z"
   },
   {
    "duration": 210,
    "start_time": "2023-05-24T01:08:04.167Z"
   },
   {
    "duration": 127,
    "start_time": "2023-05-24T01:08:26.640Z"
   },
   {
    "duration": 131,
    "start_time": "2023-05-24T01:08:40.841Z"
   },
   {
    "duration": 132,
    "start_time": "2023-05-24T01:08:53.855Z"
   },
   {
    "duration": 288,
    "start_time": "2023-05-24T01:10:20.417Z"
   },
   {
    "duration": 297,
    "start_time": "2023-05-24T01:17:20.163Z"
   },
   {
    "duration": 284,
    "start_time": "2023-05-24T01:17:30.749Z"
   },
   {
    "duration": 370,
    "start_time": "2023-05-24T01:17:45.395Z"
   },
   {
    "duration": 38,
    "start_time": "2023-05-24T01:18:08.310Z"
   },
   {
    "duration": 175,
    "start_time": "2023-05-24T01:18:09.733Z"
   },
   {
    "duration": 13,
    "start_time": "2023-05-24T01:18:16.650Z"
   },
   {
    "duration": 327,
    "start_time": "2023-05-24T01:18:18.298Z"
   },
   {
    "duration": 12,
    "start_time": "2023-05-24T01:18:20.440Z"
   },
   {
    "duration": 137,
    "start_time": "2023-05-24T01:18:21.957Z"
   },
   {
    "duration": 5,
    "start_time": "2023-05-24T01:23:34.307Z"
   },
   {
    "duration": 115,
    "start_time": "2023-05-24T01:23:41.026Z"
   },
   {
    "duration": 2,
    "start_time": "2023-05-24T01:23:48.840Z"
   },
   {
    "duration": 3,
    "start_time": "2023-05-24T01:23:54.743Z"
   },
   {
    "duration": 2,
    "start_time": "2023-05-24T01:24:02.288Z"
   },
   {
    "duration": 3,
    "start_time": "2023-05-24T01:24:07.083Z"
   },
   {
    "duration": 13,
    "start_time": "2023-05-24T01:24:19.614Z"
   },
   {
    "duration": 2,
    "start_time": "2023-05-24T01:24:24.712Z"
   },
   {
    "duration": 174,
    "start_time": "2023-05-24T01:24:27.103Z"
   },
   {
    "duration": 2,
    "start_time": "2023-05-24T01:24:32.905Z"
   },
   {
    "duration": 5,
    "start_time": "2023-05-24T01:24:49.180Z"
   },
   {
    "duration": 133,
    "start_time": "2023-05-24T01:24:51.239Z"
   },
   {
    "duration": 12,
    "start_time": "2023-05-24T01:33:35.945Z"
   },
   {
    "duration": 125,
    "start_time": "2023-05-24T01:34:24.316Z"
   },
   {
    "duration": 5,
    "start_time": "2023-05-24T01:34:56.346Z"
   },
   {
    "duration": 4,
    "start_time": "2023-05-24T01:35:03.327Z"
   },
   {
    "duration": 5,
    "start_time": "2023-05-24T01:35:13.885Z"
   },
   {
    "duration": 117,
    "start_time": "2023-05-24T01:35:52.685Z"
   },
   {
    "duration": 11,
    "start_time": "2023-05-24T01:37:15.119Z"
   },
   {
    "duration": 4,
    "start_time": "2023-05-24T01:37:27.232Z"
   },
   {
    "duration": 4,
    "start_time": "2023-05-24T01:37:34.278Z"
   },
   {
    "duration": 4,
    "start_time": "2023-05-24T01:38:01.736Z"
   },
   {
    "duration": 2,
    "start_time": "2023-05-24T01:38:26.312Z"
   },
   {
    "duration": 2,
    "start_time": "2023-05-24T01:38:27.569Z"
   },
   {
    "duration": 2,
    "start_time": "2023-05-24T01:38:29.238Z"
   },
   {
    "duration": 4,
    "start_time": "2023-05-24T01:38:30.303Z"
   },
   {
    "duration": 4,
    "start_time": "2023-05-24T01:38:37.512Z"
   },
   {
    "duration": 3,
    "start_time": "2023-05-24T01:38:41.863Z"
   },
   {
    "duration": 2,
    "start_time": "2023-05-24T01:38:42.610Z"
   },
   {
    "duration": 2,
    "start_time": "2023-05-24T01:38:43.917Z"
   },
   {
    "duration": 2,
    "start_time": "2023-05-24T01:38:44.511Z"
   },
   {
    "duration": 4,
    "start_time": "2023-05-24T01:38:45.486Z"
   },
   {
    "duration": 508,
    "start_time": "2023-05-24T01:38:53.526Z"
   },
   {
    "duration": 635,
    "start_time": "2023-05-24T01:39:00.697Z"
   },
   {
    "duration": 454,
    "start_time": "2023-05-24T01:39:13.016Z"
   },
   {
    "duration": 491,
    "start_time": "2023-05-24T01:39:18.042Z"
   },
   {
    "duration": 439,
    "start_time": "2023-05-24T01:39:32.629Z"
   },
   {
    "duration": 524,
    "start_time": "2023-05-24T01:41:39.091Z"
   },
   {
    "duration": 98,
    "start_time": "2023-05-24T01:42:15.083Z"
   },
   {
    "duration": 192,
    "start_time": "2023-05-24T01:42:21.323Z"
   },
   {
    "duration": 100,
    "start_time": "2023-05-24T01:43:38.798Z"
   },
   {
    "duration": 152,
    "start_time": "2023-05-24T01:44:37.790Z"
   },
   {
    "duration": 171,
    "start_time": "2023-05-24T01:44:46.268Z"
   },
   {
    "duration": 172,
    "start_time": "2023-05-24T01:44:53.348Z"
   },
   {
    "duration": 180,
    "start_time": "2023-05-24T01:45:32.749Z"
   },
   {
    "duration": 210,
    "start_time": "2023-05-24T01:45:48.695Z"
   },
   {
    "duration": 241,
    "start_time": "2023-05-24T01:45:56.997Z"
   },
   {
    "duration": 647,
    "start_time": "2023-05-24T01:47:11.992Z"
   },
   {
    "duration": 551,
    "start_time": "2023-05-24T01:47:19.249Z"
   },
   {
    "duration": 10,
    "start_time": "2023-05-24T01:54:36.436Z"
   },
   {
    "duration": 6,
    "start_time": "2023-05-24T01:54:55.443Z"
   },
   {
    "duration": 353,
    "start_time": "2023-05-24T01:54:59.709Z"
   },
   {
    "duration": 9,
    "start_time": "2023-05-24T01:55:34.076Z"
   },
   {
    "duration": 162,
    "start_time": "2023-05-24T01:55:38.389Z"
   },
   {
    "duration": 7,
    "start_time": "2023-05-24T01:58:31.207Z"
   },
   {
    "duration": 157,
    "start_time": "2023-05-24T01:58:34.647Z"
   },
   {
    "duration": 6,
    "start_time": "2023-05-24T02:00:17.547Z"
   },
   {
    "duration": 151,
    "start_time": "2023-05-24T02:00:22.181Z"
   },
   {
    "duration": 111,
    "start_time": "2023-05-24T02:00:49.720Z"
   },
   {
    "duration": 13,
    "start_time": "2023-05-24T02:04:02.084Z"
   },
   {
    "duration": 12,
    "start_time": "2023-05-24T02:04:43.598Z"
   },
   {
    "duration": 14,
    "start_time": "2023-05-24T02:05:08.166Z"
   },
   {
    "duration": 424,
    "start_time": "2023-05-24T02:06:01.661Z"
   },
   {
    "duration": 12,
    "start_time": "2023-05-24T02:06:44.164Z"
   },
   {
    "duration": 473,
    "start_time": "2023-05-24T02:06:46.371Z"
   },
   {
    "duration": 13,
    "start_time": "2023-05-24T02:06:57.943Z"
   },
   {
    "duration": 13,
    "start_time": "2023-05-24T02:07:49.256Z"
   },
   {
    "duration": 410,
    "start_time": "2023-05-24T02:07:51.191Z"
   },
   {
    "duration": 13,
    "start_time": "2023-05-24T02:08:00.359Z"
   },
   {
    "duration": 418,
    "start_time": "2023-05-24T02:08:01.297Z"
   },
   {
    "duration": 11,
    "start_time": "2023-05-24T02:10:09.624Z"
   },
   {
    "duration": 389,
    "start_time": "2023-05-24T02:10:11.751Z"
   },
   {
    "duration": 12,
    "start_time": "2023-05-24T02:10:36.204Z"
   },
   {
    "duration": 14,
    "start_time": "2023-05-24T02:10:43.373Z"
   },
   {
    "duration": 1008,
    "start_time": "2023-05-24T02:11:33.480Z"
   },
   {
    "duration": 52,
    "start_time": "2023-05-24T02:11:35.050Z"
   },
   {
    "duration": 19,
    "start_time": "2023-05-24T02:11:35.851Z"
   },
   {
    "duration": 4,
    "start_time": "2023-05-24T02:11:37.078Z"
   },
   {
    "duration": 13,
    "start_time": "2023-05-24T02:11:38.731Z"
   },
   {
    "duration": 7,
    "start_time": "2023-05-24T02:11:40.600Z"
   },
   {
    "duration": 14,
    "start_time": "2023-05-24T02:11:41.628Z"
   },
   {
    "duration": 4,
    "start_time": "2023-05-24T02:11:43.028Z"
   },
   {
    "duration": 171,
    "start_time": "2023-05-24T02:11:44.474Z"
   },
   {
    "duration": 50,
    "start_time": "2023-05-24T02:11:46.964Z"
   },
   {
    "duration": 6,
    "start_time": "2023-05-24T02:11:50.098Z"
   },
   {
    "duration": 5,
    "start_time": "2023-05-24T02:11:51.276Z"
   },
   {
    "duration": 13,
    "start_time": "2023-05-24T02:11:52.664Z"
   },
   {
    "duration": 20,
    "start_time": "2023-05-24T02:11:54.853Z"
   },
   {
    "duration": 210,
    "start_time": "2023-05-24T02:12:00.509Z"
   },
   {
    "duration": 307,
    "start_time": "2023-05-24T02:12:02.934Z"
   },
   {
    "duration": 21,
    "start_time": "2023-05-24T02:12:04.885Z"
   },
   {
    "duration": 4,
    "start_time": "2023-05-24T02:12:07.532Z"
   },
   {
    "duration": 322,
    "start_time": "2023-05-24T02:12:08.541Z"
   },
   {
    "duration": 5,
    "start_time": "2023-05-24T02:12:10.765Z"
   },
   {
    "duration": 13,
    "start_time": "2023-05-24T02:12:13.442Z"
   },
   {
    "duration": 311,
    "start_time": "2023-05-24T02:12:15.068Z"
   },
   {
    "duration": 245,
    "start_time": "2023-05-24T02:12:18.159Z"
   },
   {
    "duration": 333,
    "start_time": "2023-05-24T02:12:20.017Z"
   },
   {
    "duration": 32,
    "start_time": "2023-05-24T02:12:29.109Z"
   },
   {
    "duration": 129,
    "start_time": "2023-05-24T02:12:31.813Z"
   },
   {
    "duration": 129,
    "start_time": "2023-05-24T02:12:33.187Z"
   },
   {
    "duration": 134,
    "start_time": "2023-05-24T02:12:35.151Z"
   },
   {
    "duration": 129,
    "start_time": "2023-05-24T02:12:36.532Z"
   },
   {
    "duration": 270,
    "start_time": "2023-05-24T02:12:39.082Z"
   },
   {
    "duration": 294,
    "start_time": "2023-05-24T02:12:41.386Z"
   },
   {
    "duration": 34,
    "start_time": "2023-05-24T02:12:58.832Z"
   },
   {
    "duration": 172,
    "start_time": "2023-05-24T02:13:00.640Z"
   },
   {
    "duration": 100,
    "start_time": "2023-05-24T02:13:08.707Z"
   },
   {
    "duration": 10,
    "start_time": "2023-05-24T02:13:30.581Z"
   },
   {
    "duration": 11,
    "start_time": "2023-05-24T02:13:47.590Z"
   },
   {
    "duration": 11,
    "start_time": "2023-05-24T02:15:01.161Z"
   },
   {
    "duration": 11,
    "start_time": "2023-05-24T02:16:14.269Z"
   },
   {
    "duration": 9,
    "start_time": "2023-05-24T02:19:25.548Z"
   },
   {
    "duration": 21,
    "start_time": "2023-05-24T02:20:26.278Z"
   },
   {
    "duration": 11,
    "start_time": "2023-05-24T02:21:33.952Z"
   },
   {
    "duration": 255,
    "start_time": "2023-05-24T02:21:51.785Z"
   },
   {
    "duration": 94,
    "start_time": "2023-05-24T02:23:59.282Z"
   },
   {
    "duration": 285,
    "start_time": "2023-05-24T02:24:15.966Z"
   },
   {
    "duration": 260,
    "start_time": "2023-05-24T02:24:39.186Z"
   },
   {
    "duration": 296,
    "start_time": "2023-05-24T02:32:43.836Z"
   },
   {
    "duration": 289,
    "start_time": "2023-05-24T02:32:57.518Z"
   },
   {
    "duration": 294,
    "start_time": "2023-05-24T02:33:03.550Z"
   },
   {
    "duration": 379,
    "start_time": "2023-05-24T02:33:09.578Z"
   },
   {
    "duration": 256,
    "start_time": "2023-05-24T02:33:31.792Z"
   },
   {
    "duration": 9,
    "start_time": "2023-05-24T02:38:17.143Z"
   },
   {
    "duration": 14,
    "start_time": "2023-05-24T02:38:30.949Z"
   },
   {
    "duration": 277,
    "start_time": "2023-05-24T02:38:32.193Z"
   },
   {
    "duration": 12,
    "start_time": "2023-05-24T02:41:43.391Z"
   },
   {
    "duration": 251,
    "start_time": "2023-05-24T02:41:44.421Z"
   },
   {
    "duration": 121,
    "start_time": "2023-05-24T02:45:40.427Z"
   },
   {
    "duration": 127,
    "start_time": "2023-05-24T02:45:42.564Z"
   },
   {
    "duration": 141,
    "start_time": "2023-05-24T02:45:44.184Z"
   },
   {
    "duration": 5,
    "start_time": "2023-05-24T02:45:48.728Z"
   },
   {
    "duration": 7,
    "start_time": "2023-05-24T02:48:26.583Z"
   },
   {
    "duration": 7,
    "start_time": "2023-05-24T02:48:39.035Z"
   },
   {
    "duration": 7,
    "start_time": "2023-05-24T02:48:46.180Z"
   },
   {
    "duration": 8,
    "start_time": "2023-05-24T02:50:02.212Z"
   },
   {
    "duration": 1078,
    "start_time": "2023-05-24T03:00:49.195Z"
   },
   {
    "duration": 50,
    "start_time": "2023-05-24T03:00:50.275Z"
   },
   {
    "duration": 17,
    "start_time": "2023-05-24T03:00:50.327Z"
   },
   {
    "duration": 2,
    "start_time": "2023-05-24T03:00:50.346Z"
   },
   {
    "duration": 14,
    "start_time": "2023-05-24T03:00:50.350Z"
   },
   {
    "duration": 9,
    "start_time": "2023-05-24T03:00:50.366Z"
   },
   {
    "duration": 14,
    "start_time": "2023-05-24T03:00:50.377Z"
   },
   {
    "duration": 4,
    "start_time": "2023-05-24T03:00:50.392Z"
   },
   {
    "duration": 180,
    "start_time": "2023-05-24T03:00:50.397Z"
   },
   {
    "duration": 52,
    "start_time": "2023-05-24T03:00:50.579Z"
   },
   {
    "duration": 6,
    "start_time": "2023-05-24T03:00:50.633Z"
   },
   {
    "duration": 5,
    "start_time": "2023-05-24T03:00:50.640Z"
   },
   {
    "duration": 17,
    "start_time": "2023-05-24T03:00:50.646Z"
   },
   {
    "duration": 22,
    "start_time": "2023-05-24T03:00:50.664Z"
   },
   {
    "duration": 238,
    "start_time": "2023-05-24T03:00:50.688Z"
   },
   {
    "duration": 345,
    "start_time": "2023-05-24T03:00:50.928Z"
   },
   {
    "duration": 26,
    "start_time": "2023-05-24T03:00:51.275Z"
   },
   {
    "duration": 3,
    "start_time": "2023-05-24T03:00:51.303Z"
   },
   {
    "duration": 329,
    "start_time": "2023-05-24T03:00:51.308Z"
   },
   {
    "duration": 4,
    "start_time": "2023-05-24T03:00:51.639Z"
   },
   {
    "duration": 20,
    "start_time": "2023-05-24T03:00:51.644Z"
   },
   {
    "duration": 305,
    "start_time": "2023-05-24T03:00:51.665Z"
   },
   {
    "duration": 249,
    "start_time": "2023-05-24T03:00:51.971Z"
   },
   {
    "duration": 318,
    "start_time": "2023-05-24T03:00:52.221Z"
   },
   {
    "duration": 30,
    "start_time": "2023-05-24T03:00:52.541Z"
   },
   {
    "duration": 147,
    "start_time": "2023-05-24T03:00:52.572Z"
   },
   {
    "duration": 140,
    "start_time": "2023-05-24T03:00:52.720Z"
   },
   {
    "duration": 156,
    "start_time": "2023-05-24T03:00:52.863Z"
   },
   {
    "duration": 152,
    "start_time": "2023-05-24T03:00:53.025Z"
   },
   {
    "duration": 300,
    "start_time": "2023-05-24T03:00:53.179Z"
   },
   {
    "duration": 283,
    "start_time": "2023-05-24T03:00:53.481Z"
   },
   {
    "duration": 37,
    "start_time": "2023-05-24T03:00:53.765Z"
   },
   {
    "duration": 185,
    "start_time": "2023-05-24T03:00:53.804Z"
   },
   {
    "duration": 7,
    "start_time": "2023-05-24T03:00:53.991Z"
   },
   {
    "duration": 12,
    "start_time": "2023-05-24T03:00:54.000Z"
   },
   {
    "duration": 342,
    "start_time": "2023-05-24T03:00:54.013Z"
   },
   {
    "duration": 11,
    "start_time": "2023-05-24T03:00:54.357Z"
   },
   {
    "duration": 272,
    "start_time": "2023-05-24T03:00:54.370Z"
   },
   {
    "duration": 5,
    "start_time": "2023-05-24T03:00:54.643Z"
   },
   {
    "duration": 163,
    "start_time": "2023-05-24T03:00:54.649Z"
   },
   {
    "duration": 133,
    "start_time": "2023-05-24T03:00:54.813Z"
   },
   {
    "duration": 134,
    "start_time": "2023-05-24T03:00:54.947Z"
   },
   {
    "duration": 7,
    "start_time": "2023-05-24T03:00:55.082Z"
   },
   {
    "duration": 10,
    "start_time": "2023-05-24T03:00:55.091Z"
   },
   {
    "duration": 1057,
    "start_time": "2023-05-24T14:59:27.654Z"
   },
   {
    "duration": 63,
    "start_time": "2023-05-24T14:59:28.713Z"
   },
   {
    "duration": 18,
    "start_time": "2023-05-24T14:59:28.777Z"
   },
   {
    "duration": 3,
    "start_time": "2023-05-24T14:59:28.797Z"
   },
   {
    "duration": 29,
    "start_time": "2023-05-24T14:59:28.802Z"
   },
   {
    "duration": 12,
    "start_time": "2023-05-24T14:59:28.837Z"
   },
   {
    "duration": 14,
    "start_time": "2023-05-24T14:59:28.851Z"
   },
   {
    "duration": 4,
    "start_time": "2023-05-24T14:59:28.867Z"
   },
   {
    "duration": 190,
    "start_time": "2023-05-24T14:59:28.873Z"
   },
   {
    "duration": 66,
    "start_time": "2023-05-24T14:59:29.065Z"
   },
   {
    "duration": 10,
    "start_time": "2023-05-24T14:59:29.133Z"
   },
   {
    "duration": 6,
    "start_time": "2023-05-24T14:59:29.145Z"
   },
   {
    "duration": 16,
    "start_time": "2023-05-24T14:59:29.153Z"
   },
   {
    "duration": 23,
    "start_time": "2023-05-24T14:59:29.171Z"
   },
   {
    "duration": 255,
    "start_time": "2023-05-24T14:59:29.195Z"
   },
   {
    "duration": 315,
    "start_time": "2023-05-24T14:59:29.452Z"
   },
   {
    "duration": 22,
    "start_time": "2023-05-24T14:59:29.769Z"
   },
   {
    "duration": 3,
    "start_time": "2023-05-24T14:59:29.793Z"
   },
   {
    "duration": 386,
    "start_time": "2023-05-24T14:59:29.820Z"
   },
   {
    "duration": 28,
    "start_time": "2023-05-24T14:59:30.208Z"
   },
   {
    "duration": 48,
    "start_time": "2023-05-24T14:59:30.238Z"
   },
   {
    "duration": 389,
    "start_time": "2023-05-24T14:59:30.288Z"
   },
   {
    "duration": 304,
    "start_time": "2023-05-24T14:59:30.679Z"
   },
   {
    "duration": 350,
    "start_time": "2023-05-24T14:59:30.985Z"
   },
   {
    "duration": 33,
    "start_time": "2023-05-24T14:59:31.337Z"
   },
   {
    "duration": 170,
    "start_time": "2023-05-24T14:59:31.372Z"
   },
   {
    "duration": 146,
    "start_time": "2023-05-24T14:59:31.543Z"
   },
   {
    "duration": 191,
    "start_time": "2023-05-24T14:59:31.691Z"
   },
   {
    "duration": 169,
    "start_time": "2023-05-24T14:59:31.884Z"
   },
   {
    "duration": 340,
    "start_time": "2023-05-24T14:59:32.055Z"
   },
   {
    "duration": 343,
    "start_time": "2023-05-24T14:59:32.397Z"
   },
   {
    "duration": 33,
    "start_time": "2023-05-24T14:59:32.742Z"
   },
   {
    "duration": 206,
    "start_time": "2023-05-24T14:59:32.776Z"
   },
   {
    "duration": 9,
    "start_time": "2023-05-24T14:59:32.984Z"
   },
   {
    "duration": 84,
    "start_time": "2023-05-24T14:59:32.995Z"
   },
   {
    "duration": 370,
    "start_time": "2023-05-24T14:59:33.081Z"
   },
   {
    "duration": 13,
    "start_time": "2023-05-24T14:59:33.453Z"
   },
   {
    "duration": 285,
    "start_time": "2023-05-24T14:59:33.468Z"
   },
   {
    "duration": 4,
    "start_time": "2023-05-24T14:59:33.755Z"
   },
   {
    "duration": 172,
    "start_time": "2023-05-24T14:59:33.761Z"
   },
   {
    "duration": 132,
    "start_time": "2023-05-24T14:59:33.938Z"
   },
   {
    "duration": 165,
    "start_time": "2023-05-24T14:59:34.072Z"
   },
   {
    "duration": 8,
    "start_time": "2023-05-24T14:59:34.239Z"
   },
   {
    "duration": 22,
    "start_time": "2023-05-24T14:59:34.250Z"
   },
   {
    "duration": 10,
    "start_time": "2023-05-24T19:17:28.497Z"
   },
   {
    "duration": 1078,
    "start_time": "2023-05-24T19:19:07.883Z"
   },
   {
    "duration": 64,
    "start_time": "2023-05-24T19:19:08.963Z"
   },
   {
    "duration": 18,
    "start_time": "2023-05-24T19:19:09.028Z"
   },
   {
    "duration": 3,
    "start_time": "2023-05-24T19:19:09.048Z"
   },
   {
    "duration": 15,
    "start_time": "2023-05-24T19:19:09.053Z"
   },
   {
    "duration": 6,
    "start_time": "2023-05-24T19:19:09.070Z"
   },
   {
    "duration": 15,
    "start_time": "2023-05-24T19:19:09.077Z"
   },
   {
    "duration": 26,
    "start_time": "2023-05-24T19:19:09.094Z"
   },
   {
    "duration": 181,
    "start_time": "2023-05-24T19:19:09.121Z"
   },
   {
    "duration": 58,
    "start_time": "2023-05-24T19:19:09.304Z"
   },
   {
    "duration": 5,
    "start_time": "2023-05-24T19:19:09.364Z"
   },
   {
    "duration": 6,
    "start_time": "2023-05-24T19:19:09.371Z"
   },
   {
    "duration": 13,
    "start_time": "2023-05-24T19:19:09.379Z"
   },
   {
    "duration": 45,
    "start_time": "2023-05-24T19:19:09.395Z"
   },
   {
    "duration": 219,
    "start_time": "2023-05-24T19:19:09.442Z"
   },
   {
    "duration": 301,
    "start_time": "2023-05-24T19:19:09.663Z"
   },
   {
    "duration": 23,
    "start_time": "2023-05-24T19:19:09.966Z"
   },
   {
    "duration": 4,
    "start_time": "2023-05-24T19:19:09.991Z"
   },
   {
    "duration": 408,
    "start_time": "2023-05-24T19:19:10.018Z"
   },
   {
    "duration": 4,
    "start_time": "2023-05-24T19:19:10.428Z"
   },
   {
    "duration": 23,
    "start_time": "2023-05-24T19:19:10.434Z"
   },
   {
    "duration": 445,
    "start_time": "2023-05-24T19:19:10.459Z"
   },
   {
    "duration": 267,
    "start_time": "2023-05-24T19:19:10.905Z"
   },
   {
    "duration": 343,
    "start_time": "2023-05-24T19:19:11.174Z"
   },
   {
    "duration": 30,
    "start_time": "2023-05-24T19:19:11.518Z"
   },
   {
    "duration": 151,
    "start_time": "2023-05-24T19:19:11.550Z"
   },
   {
    "duration": 147,
    "start_time": "2023-05-24T19:19:11.702Z"
   },
   {
    "duration": 147,
    "start_time": "2023-05-24T19:19:11.850Z"
   },
   {
    "duration": 157,
    "start_time": "2023-05-24T19:19:11.999Z"
   },
   {
    "duration": 296,
    "start_time": "2023-05-24T19:19:12.157Z"
   },
   {
    "duration": 305,
    "start_time": "2023-05-24T19:19:12.455Z"
   },
   {
    "duration": 39,
    "start_time": "2023-05-24T19:19:12.761Z"
   },
   {
    "duration": 216,
    "start_time": "2023-05-24T19:19:12.817Z"
   },
   {
    "duration": 10,
    "start_time": "2023-05-24T19:19:13.035Z"
   },
   {
    "duration": 20,
    "start_time": "2023-05-24T19:19:13.046Z"
   },
   {
    "duration": 403,
    "start_time": "2023-05-24T19:19:13.068Z"
   },
   {
    "duration": 15,
    "start_time": "2023-05-24T19:19:13.472Z"
   },
   {
    "duration": 315,
    "start_time": "2023-05-24T19:19:13.489Z"
   },
   {
    "duration": 5,
    "start_time": "2023-05-24T19:19:13.805Z"
   },
   {
    "duration": 143,
    "start_time": "2023-05-24T19:19:13.818Z"
   },
   {
    "duration": 159,
    "start_time": "2023-05-24T19:19:13.965Z"
   },
   {
    "duration": 140,
    "start_time": "2023-05-24T19:19:14.126Z"
   },
   {
    "duration": 7,
    "start_time": "2023-05-24T19:19:14.267Z"
   },
   {
    "duration": 7,
    "start_time": "2023-05-24T19:19:14.276Z"
   },
   {
    "duration": 16,
    "start_time": "2023-05-24T19:19:14.285Z"
   },
   {
    "duration": 51,
    "start_time": "2023-05-24T19:19:14.318Z"
   },
   {
    "duration": 3,
    "start_time": "2023-05-24T19:19:14.370Z"
   },
   {
    "duration": 15,
    "start_time": "2023-05-24T19:19:14.375Z"
   },
   {
    "duration": 7,
    "start_time": "2023-05-24T19:19:14.391Z"
   },
   {
    "duration": 5,
    "start_time": "2023-05-24T19:19:14.400Z"
   },
   {
    "duration": 10,
    "start_time": "2023-05-24T19:19:14.407Z"
   },
   {
    "duration": 8,
    "start_time": "2023-05-24T19:19:14.419Z"
   },
   {
    "duration": 692,
    "start_time": "2023-05-24T19:19:14.428Z"
   },
   {
    "duration": 701,
    "start_time": "2023-05-24T19:19:15.122Z"
   },
   {
    "duration": 698,
    "start_time": "2023-05-24T19:19:15.825Z"
   }
  ],
  "kernelspec": {
   "display_name": "Python 3 (ipykernel)",
   "language": "python",
   "name": "python3"
  },
  "language_info": {
   "codemirror_mode": {
    "name": "ipython",
    "version": 3
   },
   "file_extension": ".py",
   "mimetype": "text/x-python",
   "name": "python",
   "nbconvert_exporter": "python",
   "pygments_lexer": "ipython3",
   "version": "3.9.5"
  },
  "toc": {
   "base_numbering": 1,
   "nav_menu": {},
   "number_sections": true,
   "sideBar": true,
   "skip_h1_title": true,
   "title_cell": "Table of Contents",
   "title_sidebar": "Contents",
   "toc_cell": false,
   "toc_position": {
    "height": "calc(100% - 180px)",
    "left": "10px",
    "top": "150px",
    "width": "307px"
   },
   "toc_section_display": true,
   "toc_window_display": true
  },
  "widgets": {
   "application/vnd.jupyter.widget-state+json": {
    "state": {},
    "version_major": 2,
    "version_minor": 0
   }
  }
 },
 "nbformat": 4,
 "nbformat_minor": 4
}

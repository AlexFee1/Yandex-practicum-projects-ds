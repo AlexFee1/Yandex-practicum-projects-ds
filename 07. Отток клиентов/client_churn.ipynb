{
 "cells": [
  {
   "cell_type": "markdown",
   "metadata": {
    "toc": true
   },
   "source": [
    "<h1>Содержание<span class=\"tocSkip\"></span></h1>\n",
    "<div class=\"toc\"><ul class=\"toc-item\"><li><span><a href=\"#Подготовка-данных\" data-toc-modified-id=\"Подготовка-данных-1\"><span class=\"toc-item-num\">1&nbsp;&nbsp;</span>Подготовка данных</a></span><ul class=\"toc-item\"><li><span><a href=\"#Вывод\" data-toc-modified-id=\"Вывод-1.1\"><span class=\"toc-item-num\">1.1&nbsp;&nbsp;</span>Вывод</a></span></li></ul></li><li><span><a href=\"#Исследование-задачи\" data-toc-modified-id=\"Исследование-задачи-2\"><span class=\"toc-item-num\">2&nbsp;&nbsp;</span>Исследование задачи</a></span><ul class=\"toc-item\"><li><span><a href=\"#Дерево-принятия-решений\" data-toc-modified-id=\"Дерево-принятия-решений-2.1\"><span class=\"toc-item-num\">2.1&nbsp;&nbsp;</span>Дерево принятия решений</a></span><ul class=\"toc-item\"><li><span><a href=\"#Дерево-принятия-решений---вывод\" data-toc-modified-id=\"Дерево-принятия-решений---вывод-2.1.1\"><span class=\"toc-item-num\">2.1.1&nbsp;&nbsp;</span>Дерево принятия решений - вывод</a></span></li></ul></li><li><span><a href=\"#Случайный-лес\" data-toc-modified-id=\"Случайный-лес-2.2\"><span class=\"toc-item-num\">2.2&nbsp;&nbsp;</span>Случайный лес</a></span><ul class=\"toc-item\"><li><span><a href=\"#Случайный-лес---вывод\" data-toc-modified-id=\"Случайный-лес---вывод-2.2.1\"><span class=\"toc-item-num\">2.2.1&nbsp;&nbsp;</span>Случайный лес - вывод</a></span></li></ul></li><li><span><a href=\"#Логистическая-регрессия\" data-toc-modified-id=\"Логистическая-регрессия-2.3\"><span class=\"toc-item-num\">2.3&nbsp;&nbsp;</span>Логистическая регрессия</a></span><ul class=\"toc-item\"><li><span><a href=\"#Логистическая-регрессия---вывод\" data-toc-modified-id=\"Логистическая-регрессия---вывод-2.3.1\"><span class=\"toc-item-num\">2.3.1&nbsp;&nbsp;</span>Логистическая регрессия - вывод</a></span></li></ul></li><li><span><a href=\"#Вывод-по-главе\" data-toc-modified-id=\"Вывод-по-главе-2.4\"><span class=\"toc-item-num\">2.4&nbsp;&nbsp;</span>Вывод по главе</a></span></li></ul></li><li><span><a href=\"#Борьба-с-дисбалансом\" data-toc-modified-id=\"Борьба-с-дисбалансом-3\"><span class=\"toc-item-num\">3&nbsp;&nbsp;</span>Борьба с дисбалансом</a></span><ul class=\"toc-item\"><li><span><a href=\"#Дерево-принятия-решений\" data-toc-modified-id=\"Дерево-принятия-решений-3.1\"><span class=\"toc-item-num\">3.1&nbsp;&nbsp;</span>Дерево принятия решений</a></span><ul class=\"toc-item\"><li><span><a href=\"#Дерево-принятия-решений---вывод\" data-toc-modified-id=\"Дерево-принятия-решений---вывод-3.1.1\"><span class=\"toc-item-num\">3.1.1&nbsp;&nbsp;</span>Дерево принятия решений - вывод</a></span></li></ul></li><li><span><a href=\"#Случайный-лес\" data-toc-modified-id=\"Случайный-лес-3.2\"><span class=\"toc-item-num\">3.2&nbsp;&nbsp;</span>Случайный лес</a></span><ul class=\"toc-item\"><li><span><a href=\"#Случайный-лес----вывод\" data-toc-modified-id=\"Случайный-лес----вывод-3.2.1\"><span class=\"toc-item-num\">3.2.1&nbsp;&nbsp;</span>Случайный лес -  вывод</a></span></li></ul></li><li><span><a href=\"#Логистическая-регрессия\" data-toc-modified-id=\"Логистическая-регрессия-3.3\"><span class=\"toc-item-num\">3.3&nbsp;&nbsp;</span>Логистическая регрессия</a></span><ul class=\"toc-item\"><li><span><a href=\"#Логистическая-регрессия----вывод\" data-toc-modified-id=\"Логистическая-регрессия----вывод-3.3.1\"><span class=\"toc-item-num\">3.3.1&nbsp;&nbsp;</span>Логистическая регрессия -  вывод</a></span></li></ul></li><li><span><a href=\"#Вывод\" data-toc-modified-id=\"Вывод-3.4\"><span class=\"toc-item-num\">3.4&nbsp;&nbsp;</span>Вывод</a></span></li></ul></li><li><span><a href=\"#Тестирование-модели\" data-toc-modified-id=\"Тестирование-модели-4\"><span class=\"toc-item-num\">4&nbsp;&nbsp;</span>Тестирование модели</a></span></li><li><span><a href=\"#Общий-вывод\" data-toc-modified-id=\"Общий-вывод-5\"><span class=\"toc-item-num\">5&nbsp;&nbsp;</span>Общий вывод</a></span></li><li><span><a href=\"#Чек-лист-готовности-проекта\" data-toc-modified-id=\"Чек-лист-готовности-проекта-6\"><span class=\"toc-item-num\">6&nbsp;&nbsp;</span>Чек-лист готовности проекта</a></span></li></ul></div>"
   ]
  },
  {
   "cell_type": "markdown",
   "metadata": {},
   "source": [
    "# Отток клиентов"
   ]
  },
  {
   "cell_type": "markdown",
   "metadata": {},
   "source": [
    "Из «Бета-Банка» стали уходить клиенты. Каждый месяц. Немного, но заметно. Банковские маркетологи посчитали: сохранять текущих клиентов дешевле, чем привлекать новых.\n",
    "\n",
    "Нужно спрогнозировать, уйдёт клиент из банка в ближайшее время или нет. Вам предоставлены исторические данные о поведении клиентов и расторжении договоров с банком. \n",
    "\n",
    "Постройте модель с предельно большим значением *F1*-меры. Чтобы сдать проект успешно, нужно довести метрику до 0.59. Проверьте *F1*-меру на тестовой выборке самостоятельно.\n",
    "\n",
    "Дополнительно измеряйте *AUC-ROC*, сравнивайте её значение с *F1*-мерой.\n",
    "\n",
    "Источник данных: [https://www.kaggle.com/barelydedicated/bank-customer-churn-modeling](https://www.kaggle.com/barelydedicated/bank-customer-churn-modeling)"
   ]
  },
  {
   "cell_type": "markdown",
   "metadata": {},
   "source": [
    "## Подготовка данных"
   ]
  },
  {
   "cell_type": "markdown",
   "metadata": {},
   "source": [
    "Импортируем необходимые библиотеки"
   ]
  },
  {
   "cell_type": "code",
   "execution_count": 1,
   "metadata": {},
   "outputs": [],
   "source": [
    "import pandas as pd\n",
    "import math\n",
    "import sklearn\n",
    "import numpy as np\n",
    "import matplotlib.pyplot as plt\n",
    "from sklearn.model_selection import train_test_split as ttp\n",
    "from sklearn.preprocessing import StandardScaler as ss\n",
    "from sklearn.model_selection import RandomizedSearchCV\n",
    "from sklearn.tree import DecisionTreeClassifier\n",
    "from sklearn.metrics import roc_auc_score\n",
    "from sklearn.ensemble import RandomForestClassifier\n",
    "from sklearn.linear_model import LogisticRegression\n",
    "from sklearn.model_selection import cross_val_score\n",
    "from sklearn.metrics import f1_score\n",
    "from sklearn.utils import resample\n",
    "from sklearn.metrics import roc_curve\n",
    "from sklearn.utils import shuffle\n",
    "from sklearn.preprocessing import OneHotEncoder\n",
    "import warnings\n",
    "warnings.filterwarnings('ignore')"
   ]
  },
  {
   "cell_type": "markdown",
   "metadata": {},
   "source": [
    "Загрузим датасет и исследуем данные"
   ]
  },
  {
   "cell_type": "code",
   "execution_count": 2,
   "metadata": {},
   "outputs": [
    {
     "name": "stdout",
     "output_type": "stream",
     "text": [
      "<class 'pandas.core.frame.DataFrame'>\n",
      "RangeIndex: 10000 entries, 0 to 9999\n",
      "Data columns (total 14 columns):\n",
      " #   Column           Non-Null Count  Dtype  \n",
      "---  ------           --------------  -----  \n",
      " 0   RowNumber        10000 non-null  int64  \n",
      " 1   CustomerId       10000 non-null  int64  \n",
      " 2   Surname          10000 non-null  object \n",
      " 3   CreditScore      10000 non-null  int64  \n",
      " 4   Geography        10000 non-null  object \n",
      " 5   Gender           10000 non-null  object \n",
      " 6   Age              10000 non-null  int64  \n",
      " 7   Tenure           9091 non-null   float64\n",
      " 8   Balance          10000 non-null  float64\n",
      " 9   NumOfProducts    10000 non-null  int64  \n",
      " 10  HasCrCard        10000 non-null  int64  \n",
      " 11  IsActiveMember   10000 non-null  int64  \n",
      " 12  EstimatedSalary  10000 non-null  float64\n",
      " 13  Exited           10000 non-null  int64  \n",
      "dtypes: float64(3), int64(8), object(3)\n",
      "memory usage: 1.1+ MB\n"
     ]
    }
   ],
   "source": [
    "df= pd.read_csv('/datasets/Churn.csv')\n",
    "df.info()"
   ]
  },
  {
   "cell_type": "code",
   "execution_count": 3,
   "metadata": {},
   "outputs": [
    {
     "data": {
      "text/html": [
       "<div>\n",
       "<style scoped>\n",
       "    .dataframe tbody tr th:only-of-type {\n",
       "        vertical-align: middle;\n",
       "    }\n",
       "\n",
       "    .dataframe tbody tr th {\n",
       "        vertical-align: top;\n",
       "    }\n",
       "\n",
       "    .dataframe thead th {\n",
       "        text-align: right;\n",
       "    }\n",
       "</style>\n",
       "<table border=\"1\" class=\"dataframe\">\n",
       "  <thead>\n",
       "    <tr style=\"text-align: right;\">\n",
       "      <th></th>\n",
       "      <th>RowNumber</th>\n",
       "      <th>CustomerId</th>\n",
       "      <th>Surname</th>\n",
       "      <th>CreditScore</th>\n",
       "      <th>Geography</th>\n",
       "      <th>Gender</th>\n",
       "      <th>Age</th>\n",
       "      <th>Tenure</th>\n",
       "      <th>Balance</th>\n",
       "      <th>NumOfProducts</th>\n",
       "      <th>HasCrCard</th>\n",
       "      <th>IsActiveMember</th>\n",
       "      <th>EstimatedSalary</th>\n",
       "      <th>Exited</th>\n",
       "    </tr>\n",
       "  </thead>\n",
       "  <tbody>\n",
       "    <tr>\n",
       "      <th>30</th>\n",
       "      <td>31</td>\n",
       "      <td>15589475</td>\n",
       "      <td>Azikiwe</td>\n",
       "      <td>591</td>\n",
       "      <td>Spain</td>\n",
       "      <td>Female</td>\n",
       "      <td>39</td>\n",
       "      <td>NaN</td>\n",
       "      <td>0.00</td>\n",
       "      <td>3</td>\n",
       "      <td>1</td>\n",
       "      <td>0</td>\n",
       "      <td>140469.38</td>\n",
       "      <td>1</td>\n",
       "    </tr>\n",
       "    <tr>\n",
       "      <th>48</th>\n",
       "      <td>49</td>\n",
       "      <td>15766205</td>\n",
       "      <td>Yin</td>\n",
       "      <td>550</td>\n",
       "      <td>Germany</td>\n",
       "      <td>Male</td>\n",
       "      <td>38</td>\n",
       "      <td>NaN</td>\n",
       "      <td>103391.38</td>\n",
       "      <td>1</td>\n",
       "      <td>0</td>\n",
       "      <td>1</td>\n",
       "      <td>90878.13</td>\n",
       "      <td>0</td>\n",
       "    </tr>\n",
       "    <tr>\n",
       "      <th>51</th>\n",
       "      <td>52</td>\n",
       "      <td>15768193</td>\n",
       "      <td>Trevisani</td>\n",
       "      <td>585</td>\n",
       "      <td>Germany</td>\n",
       "      <td>Male</td>\n",
       "      <td>36</td>\n",
       "      <td>NaN</td>\n",
       "      <td>146050.97</td>\n",
       "      <td>2</td>\n",
       "      <td>0</td>\n",
       "      <td>0</td>\n",
       "      <td>86424.57</td>\n",
       "      <td>0</td>\n",
       "    </tr>\n",
       "    <tr>\n",
       "      <th>53</th>\n",
       "      <td>54</td>\n",
       "      <td>15702298</td>\n",
       "      <td>Parkhill</td>\n",
       "      <td>655</td>\n",
       "      <td>Germany</td>\n",
       "      <td>Male</td>\n",
       "      <td>41</td>\n",
       "      <td>NaN</td>\n",
       "      <td>125561.97</td>\n",
       "      <td>1</td>\n",
       "      <td>0</td>\n",
       "      <td>0</td>\n",
       "      <td>164040.94</td>\n",
       "      <td>1</td>\n",
       "    </tr>\n",
       "    <tr>\n",
       "      <th>60</th>\n",
       "      <td>61</td>\n",
       "      <td>15651280</td>\n",
       "      <td>Hunter</td>\n",
       "      <td>742</td>\n",
       "      <td>Germany</td>\n",
       "      <td>Male</td>\n",
       "      <td>35</td>\n",
       "      <td>NaN</td>\n",
       "      <td>136857.00</td>\n",
       "      <td>1</td>\n",
       "      <td>0</td>\n",
       "      <td>0</td>\n",
       "      <td>84509.57</td>\n",
       "      <td>0</td>\n",
       "    </tr>\n",
       "    <tr>\n",
       "      <th>82</th>\n",
       "      <td>83</td>\n",
       "      <td>15641732</td>\n",
       "      <td>Mills</td>\n",
       "      <td>543</td>\n",
       "      <td>France</td>\n",
       "      <td>Female</td>\n",
       "      <td>36</td>\n",
       "      <td>NaN</td>\n",
       "      <td>0.00</td>\n",
       "      <td>2</td>\n",
       "      <td>0</td>\n",
       "      <td>0</td>\n",
       "      <td>26019.59</td>\n",
       "      <td>0</td>\n",
       "    </tr>\n",
       "    <tr>\n",
       "      <th>85</th>\n",
       "      <td>86</td>\n",
       "      <td>15805254</td>\n",
       "      <td>Ndukaku</td>\n",
       "      <td>652</td>\n",
       "      <td>Spain</td>\n",
       "      <td>Female</td>\n",
       "      <td>75</td>\n",
       "      <td>NaN</td>\n",
       "      <td>0.00</td>\n",
       "      <td>2</td>\n",
       "      <td>1</td>\n",
       "      <td>1</td>\n",
       "      <td>114675.75</td>\n",
       "      <td>0</td>\n",
       "    </tr>\n",
       "    <tr>\n",
       "      <th>94</th>\n",
       "      <td>95</td>\n",
       "      <td>15676966</td>\n",
       "      <td>Capon</td>\n",
       "      <td>730</td>\n",
       "      <td>Spain</td>\n",
       "      <td>Male</td>\n",
       "      <td>42</td>\n",
       "      <td>NaN</td>\n",
       "      <td>0.00</td>\n",
       "      <td>2</td>\n",
       "      <td>0</td>\n",
       "      <td>1</td>\n",
       "      <td>85982.47</td>\n",
       "      <td>0</td>\n",
       "    </tr>\n",
       "    <tr>\n",
       "      <th>99</th>\n",
       "      <td>100</td>\n",
       "      <td>15633059</td>\n",
       "      <td>Fanucci</td>\n",
       "      <td>413</td>\n",
       "      <td>France</td>\n",
       "      <td>Male</td>\n",
       "      <td>34</td>\n",
       "      <td>NaN</td>\n",
       "      <td>0.00</td>\n",
       "      <td>2</td>\n",
       "      <td>0</td>\n",
       "      <td>0</td>\n",
       "      <td>6534.18</td>\n",
       "      <td>0</td>\n",
       "    </tr>\n",
       "    <tr>\n",
       "      <th>111</th>\n",
       "      <td>112</td>\n",
       "      <td>15665790</td>\n",
       "      <td>Rowntree</td>\n",
       "      <td>538</td>\n",
       "      <td>Germany</td>\n",
       "      <td>Male</td>\n",
       "      <td>39</td>\n",
       "      <td>NaN</td>\n",
       "      <td>108055.10</td>\n",
       "      <td>2</td>\n",
       "      <td>1</td>\n",
       "      <td>0</td>\n",
       "      <td>27231.26</td>\n",
       "      <td>0</td>\n",
       "    </tr>\n",
       "    <tr>\n",
       "      <th>123</th>\n",
       "      <td>124</td>\n",
       "      <td>15760085</td>\n",
       "      <td>Calabresi</td>\n",
       "      <td>684</td>\n",
       "      <td>Germany</td>\n",
       "      <td>Female</td>\n",
       "      <td>48</td>\n",
       "      <td>NaN</td>\n",
       "      <td>126384.42</td>\n",
       "      <td>1</td>\n",
       "      <td>1</td>\n",
       "      <td>1</td>\n",
       "      <td>198129.36</td>\n",
       "      <td>0</td>\n",
       "    </tr>\n",
       "    <tr>\n",
       "      <th>125</th>\n",
       "      <td>126</td>\n",
       "      <td>15627360</td>\n",
       "      <td>Fuller</td>\n",
       "      <td>432</td>\n",
       "      <td>France</td>\n",
       "      <td>Male</td>\n",
       "      <td>42</td>\n",
       "      <td>NaN</td>\n",
       "      <td>152603.45</td>\n",
       "      <td>1</td>\n",
       "      <td>1</td>\n",
       "      <td>0</td>\n",
       "      <td>110265.24</td>\n",
       "      <td>1</td>\n",
       "    </tr>\n",
       "    <tr>\n",
       "      <th>146</th>\n",
       "      <td>147</td>\n",
       "      <td>15705707</td>\n",
       "      <td>Bennelong</td>\n",
       "      <td>635</td>\n",
       "      <td>Spain</td>\n",
       "      <td>Female</td>\n",
       "      <td>29</td>\n",
       "      <td>NaN</td>\n",
       "      <td>138296.94</td>\n",
       "      <td>2</td>\n",
       "      <td>1</td>\n",
       "      <td>0</td>\n",
       "      <td>141075.51</td>\n",
       "      <td>0</td>\n",
       "    </tr>\n",
       "    <tr>\n",
       "      <th>162</th>\n",
       "      <td>163</td>\n",
       "      <td>15630910</td>\n",
       "      <td>Treacy</td>\n",
       "      <td>800</td>\n",
       "      <td>France</td>\n",
       "      <td>Female</td>\n",
       "      <td>49</td>\n",
       "      <td>NaN</td>\n",
       "      <td>108007.36</td>\n",
       "      <td>1</td>\n",
       "      <td>0</td>\n",
       "      <td>0</td>\n",
       "      <td>47125.11</td>\n",
       "      <td>0</td>\n",
       "    </tr>\n",
       "    <tr>\n",
       "      <th>173</th>\n",
       "      <td>174</td>\n",
       "      <td>15586310</td>\n",
       "      <td>Ting</td>\n",
       "      <td>578</td>\n",
       "      <td>France</td>\n",
       "      <td>Male</td>\n",
       "      <td>30</td>\n",
       "      <td>NaN</td>\n",
       "      <td>169462.09</td>\n",
       "      <td>1</td>\n",
       "      <td>1</td>\n",
       "      <td>0</td>\n",
       "      <td>112187.11</td>\n",
       "      <td>0</td>\n",
       "    </tr>\n",
       "    <tr>\n",
       "      <th>180</th>\n",
       "      <td>181</td>\n",
       "      <td>15716334</td>\n",
       "      <td>Rozier</td>\n",
       "      <td>850</td>\n",
       "      <td>Spain</td>\n",
       "      <td>Female</td>\n",
       "      <td>45</td>\n",
       "      <td>NaN</td>\n",
       "      <td>122311.21</td>\n",
       "      <td>1</td>\n",
       "      <td>1</td>\n",
       "      <td>1</td>\n",
       "      <td>19482.50</td>\n",
       "      <td>0</td>\n",
       "    </tr>\n",
       "    <tr>\n",
       "      <th>217</th>\n",
       "      <td>218</td>\n",
       "      <td>15786308</td>\n",
       "      <td>Millar</td>\n",
       "      <td>730</td>\n",
       "      <td>Spain</td>\n",
       "      <td>Female</td>\n",
       "      <td>33</td>\n",
       "      <td>NaN</td>\n",
       "      <td>0.00</td>\n",
       "      <td>2</td>\n",
       "      <td>0</td>\n",
       "      <td>0</td>\n",
       "      <td>176576.62</td>\n",
       "      <td>0</td>\n",
       "    </tr>\n",
       "    <tr>\n",
       "      <th>222</th>\n",
       "      <td>223</td>\n",
       "      <td>15727829</td>\n",
       "      <td>McIntyre</td>\n",
       "      <td>567</td>\n",
       "      <td>France</td>\n",
       "      <td>Male</td>\n",
       "      <td>42</td>\n",
       "      <td>NaN</td>\n",
       "      <td>0.00</td>\n",
       "      <td>2</td>\n",
       "      <td>1</td>\n",
       "      <td>1</td>\n",
       "      <td>167984.61</td>\n",
       "      <td>0</td>\n",
       "    </tr>\n",
       "    <tr>\n",
       "      <th>225</th>\n",
       "      <td>226</td>\n",
       "      <td>15699029</td>\n",
       "      <td>Bagley</td>\n",
       "      <td>670</td>\n",
       "      <td>France</td>\n",
       "      <td>Male</td>\n",
       "      <td>37</td>\n",
       "      <td>NaN</td>\n",
       "      <td>170557.91</td>\n",
       "      <td>2</td>\n",
       "      <td>1</td>\n",
       "      <td>0</td>\n",
       "      <td>198252.88</td>\n",
       "      <td>0</td>\n",
       "    </tr>\n",
       "    <tr>\n",
       "      <th>237</th>\n",
       "      <td>238</td>\n",
       "      <td>15764866</td>\n",
       "      <td>Synnot</td>\n",
       "      <td>539</td>\n",
       "      <td>Germany</td>\n",
       "      <td>Female</td>\n",
       "      <td>43</td>\n",
       "      <td>NaN</td>\n",
       "      <td>116220.50</td>\n",
       "      <td>3</td>\n",
       "      <td>1</td>\n",
       "      <td>0</td>\n",
       "      <td>55803.96</td>\n",
       "      <td>1</td>\n",
       "    </tr>\n",
       "  </tbody>\n",
       "</table>\n",
       "</div>"
      ],
      "text/plain": [
       "     RowNumber  CustomerId    Surname  CreditScore Geography  Gender  Age  \\\n",
       "30          31    15589475    Azikiwe          591     Spain  Female   39   \n",
       "48          49    15766205        Yin          550   Germany    Male   38   \n",
       "51          52    15768193  Trevisani          585   Germany    Male   36   \n",
       "53          54    15702298   Parkhill          655   Germany    Male   41   \n",
       "60          61    15651280     Hunter          742   Germany    Male   35   \n",
       "82          83    15641732      Mills          543    France  Female   36   \n",
       "85          86    15805254    Ndukaku          652     Spain  Female   75   \n",
       "94          95    15676966      Capon          730     Spain    Male   42   \n",
       "99         100    15633059    Fanucci          413    France    Male   34   \n",
       "111        112    15665790   Rowntree          538   Germany    Male   39   \n",
       "123        124    15760085  Calabresi          684   Germany  Female   48   \n",
       "125        126    15627360     Fuller          432    France    Male   42   \n",
       "146        147    15705707  Bennelong          635     Spain  Female   29   \n",
       "162        163    15630910     Treacy          800    France  Female   49   \n",
       "173        174    15586310       Ting          578    France    Male   30   \n",
       "180        181    15716334     Rozier          850     Spain  Female   45   \n",
       "217        218    15786308     Millar          730     Spain  Female   33   \n",
       "222        223    15727829   McIntyre          567    France    Male   42   \n",
       "225        226    15699029     Bagley          670    France    Male   37   \n",
       "237        238    15764866     Synnot          539   Germany  Female   43   \n",
       "\n",
       "     Tenure    Balance  NumOfProducts  HasCrCard  IsActiveMember  \\\n",
       "30      NaN       0.00              3          1               0   \n",
       "48      NaN  103391.38              1          0               1   \n",
       "51      NaN  146050.97              2          0               0   \n",
       "53      NaN  125561.97              1          0               0   \n",
       "60      NaN  136857.00              1          0               0   \n",
       "82      NaN       0.00              2          0               0   \n",
       "85      NaN       0.00              2          1               1   \n",
       "94      NaN       0.00              2          0               1   \n",
       "99      NaN       0.00              2          0               0   \n",
       "111     NaN  108055.10              2          1               0   \n",
       "123     NaN  126384.42              1          1               1   \n",
       "125     NaN  152603.45              1          1               0   \n",
       "146     NaN  138296.94              2          1               0   \n",
       "162     NaN  108007.36              1          0               0   \n",
       "173     NaN  169462.09              1          1               0   \n",
       "180     NaN  122311.21              1          1               1   \n",
       "217     NaN       0.00              2          0               0   \n",
       "222     NaN       0.00              2          1               1   \n",
       "225     NaN  170557.91              2          1               0   \n",
       "237     NaN  116220.50              3          1               0   \n",
       "\n",
       "     EstimatedSalary  Exited  \n",
       "30         140469.38       1  \n",
       "48          90878.13       0  \n",
       "51          86424.57       0  \n",
       "53         164040.94       1  \n",
       "60          84509.57       0  \n",
       "82          26019.59       0  \n",
       "85         114675.75       0  \n",
       "94          85982.47       0  \n",
       "99           6534.18       0  \n",
       "111         27231.26       0  \n",
       "123        198129.36       0  \n",
       "125        110265.24       1  \n",
       "146        141075.51       0  \n",
       "162         47125.11       0  \n",
       "173        112187.11       0  \n",
       "180         19482.50       0  \n",
       "217        176576.62       0  \n",
       "222        167984.61       0  \n",
       "225        198252.88       0  \n",
       "237         55803.96       1  "
      ]
     },
     "execution_count": 3,
     "metadata": {},
     "output_type": "execute_result"
    }
   ],
   "source": [
    "df[df['Tenure'].isna()].head(20)"
   ]
  },
  {
   "cell_type": "code",
   "execution_count": 4,
   "metadata": {},
   "outputs": [
    {
     "data": {
      "text/plain": [
       "1.0     952\n",
       "2.0     950\n",
       "8.0     933\n",
       "3.0     928\n",
       "5.0     927\n",
       "7.0     925\n",
       "NaN     909\n",
       "4.0     885\n",
       "9.0     882\n",
       "6.0     881\n",
       "10.0    446\n",
       "0.0     382\n",
       "Name: Tenure, dtype: int64"
      ]
     },
     "execution_count": 4,
     "metadata": {},
     "output_type": "execute_result"
    }
   ],
   "source": [
    "df['Tenure'].value_counts(dropna=False)"
   ]
  },
  {
   "cell_type": "code",
   "execution_count": 5,
   "metadata": {},
   "outputs": [
    {
     "name": "stdout",
     "output_type": "stream",
     "text": [
      "<class 'pandas.core.frame.DataFrame'>\n",
      "RangeIndex: 9091 entries, 0 to 9090\n",
      "Data columns (total 14 columns):\n",
      " #   Column           Non-Null Count  Dtype  \n",
      "---  ------           --------------  -----  \n",
      " 0   RowNumber        9091 non-null   int64  \n",
      " 1   CustomerId       9091 non-null   int64  \n",
      " 2   Surname          9091 non-null   object \n",
      " 3   CreditScore      9091 non-null   int64  \n",
      " 4   Geography        9091 non-null   object \n",
      " 5   Gender           9091 non-null   object \n",
      " 6   Age              9091 non-null   int64  \n",
      " 7   Tenure           9091 non-null   float64\n",
      " 8   Balance          9091 non-null   float64\n",
      " 9   NumOfProducts    9091 non-null   int64  \n",
      " 10  HasCrCard        9091 non-null   int64  \n",
      " 11  IsActiveMember   9091 non-null   int64  \n",
      " 12  EstimatedSalary  9091 non-null   float64\n",
      " 13  Exited           9091 non-null   int64  \n",
      "dtypes: float64(3), int64(8), object(3)\n",
      "memory usage: 994.5+ KB\n"
     ]
    }
   ],
   "source": [
    "df = df.dropna(subset=['Tenure']).reset_index(drop=True)\n",
    "df.info()"
   ]
  },
  {
   "cell_type": "code",
   "execution_count": 6,
   "metadata": {},
   "outputs": [
    {
     "data": {
      "text/plain": [
       "False    9091\n",
       "dtype: int64"
      ]
     },
     "execution_count": 6,
     "metadata": {},
     "output_type": "execute_result"
    }
   ],
   "source": [
    "df.duplicated().value_counts()"
   ]
  },
  {
   "cell_type": "markdown",
   "metadata": {},
   "source": [
    "Дубликаты отсутствуют"
   ]
  },
  {
   "cell_type": "markdown",
   "metadata": {},
   "source": [
    "Для дальнейшей работы нам не понадобятся столбцы Surname и RowNumber, поэтому создадим датасет для дальнейшей работы без них.\n",
    "\n",
    "Так же преобразуем категориальные признаки в количественные "
   ]
  },
  {
   "cell_type": "code",
   "execution_count": 7,
   "metadata": {},
   "outputs": [
    {
     "name": "stdout",
     "output_type": "stream",
     "text": [
      "<class 'pandas.core.frame.DataFrame'>\n",
      "RangeIndex: 9091 entries, 0 to 9090\n",
      "Data columns (total 12 columns):\n",
      " #   Column             Non-Null Count  Dtype  \n",
      "---  ------             --------------  -----  \n",
      " 0   CreditScore        9091 non-null   int64  \n",
      " 1   Age                9091 non-null   int64  \n",
      " 2   Tenure             9091 non-null   float64\n",
      " 3   Balance            9091 non-null   float64\n",
      " 4   NumOfProducts      9091 non-null   int64  \n",
      " 5   HasCrCard          9091 non-null   int64  \n",
      " 6   IsActiveMember     9091 non-null   int64  \n",
      " 7   EstimatedSalary    9091 non-null   float64\n",
      " 8   Exited             9091 non-null   int64  \n",
      " 9   Geography_Germany  9091 non-null   uint8  \n",
      " 10  Geography_Spain    9091 non-null   uint8  \n",
      " 11  Gender_Male        9091 non-null   uint8  \n",
      "dtypes: float64(3), int64(6), uint8(3)\n",
      "memory usage: 666.0 KB\n",
      "None\n"
     ]
    },
    {
     "data": {
      "text/html": [
       "<div>\n",
       "<style scoped>\n",
       "    .dataframe tbody tr th:only-of-type {\n",
       "        vertical-align: middle;\n",
       "    }\n",
       "\n",
       "    .dataframe tbody tr th {\n",
       "        vertical-align: top;\n",
       "    }\n",
       "\n",
       "    .dataframe thead th {\n",
       "        text-align: right;\n",
       "    }\n",
       "</style>\n",
       "<table border=\"1\" class=\"dataframe\">\n",
       "  <thead>\n",
       "    <tr style=\"text-align: right;\">\n",
       "      <th></th>\n",
       "      <th>CreditScore</th>\n",
       "      <th>Age</th>\n",
       "      <th>Tenure</th>\n",
       "      <th>Balance</th>\n",
       "      <th>NumOfProducts</th>\n",
       "      <th>HasCrCard</th>\n",
       "      <th>IsActiveMember</th>\n",
       "      <th>EstimatedSalary</th>\n",
       "      <th>Exited</th>\n",
       "      <th>Geography_Germany</th>\n",
       "      <th>Geography_Spain</th>\n",
       "      <th>Gender_Male</th>\n",
       "    </tr>\n",
       "  </thead>\n",
       "  <tbody>\n",
       "    <tr>\n",
       "      <th>0</th>\n",
       "      <td>619</td>\n",
       "      <td>42</td>\n",
       "      <td>2.0</td>\n",
       "      <td>0.00</td>\n",
       "      <td>1</td>\n",
       "      <td>1</td>\n",
       "      <td>1</td>\n",
       "      <td>101348.88</td>\n",
       "      <td>1</td>\n",
       "      <td>0</td>\n",
       "      <td>0</td>\n",
       "      <td>0</td>\n",
       "    </tr>\n",
       "    <tr>\n",
       "      <th>1</th>\n",
       "      <td>608</td>\n",
       "      <td>41</td>\n",
       "      <td>1.0</td>\n",
       "      <td>83807.86</td>\n",
       "      <td>1</td>\n",
       "      <td>0</td>\n",
       "      <td>1</td>\n",
       "      <td>112542.58</td>\n",
       "      <td>0</td>\n",
       "      <td>0</td>\n",
       "      <td>1</td>\n",
       "      <td>0</td>\n",
       "    </tr>\n",
       "    <tr>\n",
       "      <th>2</th>\n",
       "      <td>502</td>\n",
       "      <td>42</td>\n",
       "      <td>8.0</td>\n",
       "      <td>159660.80</td>\n",
       "      <td>3</td>\n",
       "      <td>1</td>\n",
       "      <td>0</td>\n",
       "      <td>113931.57</td>\n",
       "      <td>1</td>\n",
       "      <td>0</td>\n",
       "      <td>0</td>\n",
       "      <td>0</td>\n",
       "    </tr>\n",
       "    <tr>\n",
       "      <th>3</th>\n",
       "      <td>699</td>\n",
       "      <td>39</td>\n",
       "      <td>1.0</td>\n",
       "      <td>0.00</td>\n",
       "      <td>2</td>\n",
       "      <td>0</td>\n",
       "      <td>0</td>\n",
       "      <td>93826.63</td>\n",
       "      <td>0</td>\n",
       "      <td>0</td>\n",
       "      <td>0</td>\n",
       "      <td>0</td>\n",
       "    </tr>\n",
       "    <tr>\n",
       "      <th>4</th>\n",
       "      <td>850</td>\n",
       "      <td>43</td>\n",
       "      <td>2.0</td>\n",
       "      <td>125510.82</td>\n",
       "      <td>1</td>\n",
       "      <td>1</td>\n",
       "      <td>1</td>\n",
       "      <td>79084.10</td>\n",
       "      <td>0</td>\n",
       "      <td>0</td>\n",
       "      <td>1</td>\n",
       "      <td>0</td>\n",
       "    </tr>\n",
       "    <tr>\n",
       "      <th>5</th>\n",
       "      <td>645</td>\n",
       "      <td>44</td>\n",
       "      <td>8.0</td>\n",
       "      <td>113755.78</td>\n",
       "      <td>2</td>\n",
       "      <td>1</td>\n",
       "      <td>0</td>\n",
       "      <td>149756.71</td>\n",
       "      <td>1</td>\n",
       "      <td>0</td>\n",
       "      <td>1</td>\n",
       "      <td>1</td>\n",
       "    </tr>\n",
       "    <tr>\n",
       "      <th>6</th>\n",
       "      <td>822</td>\n",
       "      <td>50</td>\n",
       "      <td>7.0</td>\n",
       "      <td>0.00</td>\n",
       "      <td>2</td>\n",
       "      <td>1</td>\n",
       "      <td>1</td>\n",
       "      <td>10062.80</td>\n",
       "      <td>0</td>\n",
       "      <td>0</td>\n",
       "      <td>0</td>\n",
       "      <td>1</td>\n",
       "    </tr>\n",
       "    <tr>\n",
       "      <th>7</th>\n",
       "      <td>376</td>\n",
       "      <td>29</td>\n",
       "      <td>4.0</td>\n",
       "      <td>115046.74</td>\n",
       "      <td>4</td>\n",
       "      <td>1</td>\n",
       "      <td>0</td>\n",
       "      <td>119346.88</td>\n",
       "      <td>1</td>\n",
       "      <td>1</td>\n",
       "      <td>0</td>\n",
       "      <td>0</td>\n",
       "    </tr>\n",
       "    <tr>\n",
       "      <th>8</th>\n",
       "      <td>501</td>\n",
       "      <td>44</td>\n",
       "      <td>4.0</td>\n",
       "      <td>142051.07</td>\n",
       "      <td>2</td>\n",
       "      <td>0</td>\n",
       "      <td>1</td>\n",
       "      <td>74940.50</td>\n",
       "      <td>0</td>\n",
       "      <td>0</td>\n",
       "      <td>0</td>\n",
       "      <td>1</td>\n",
       "    </tr>\n",
       "    <tr>\n",
       "      <th>9</th>\n",
       "      <td>684</td>\n",
       "      <td>27</td>\n",
       "      <td>2.0</td>\n",
       "      <td>134603.88</td>\n",
       "      <td>1</td>\n",
       "      <td>1</td>\n",
       "      <td>1</td>\n",
       "      <td>71725.73</td>\n",
       "      <td>0</td>\n",
       "      <td>0</td>\n",
       "      <td>0</td>\n",
       "      <td>1</td>\n",
       "    </tr>\n",
       "  </tbody>\n",
       "</table>\n",
       "</div>"
      ],
      "text/plain": [
       "   CreditScore  Age  Tenure    Balance  NumOfProducts  HasCrCard  \\\n",
       "0          619   42     2.0       0.00              1          1   \n",
       "1          608   41     1.0   83807.86              1          0   \n",
       "2          502   42     8.0  159660.80              3          1   \n",
       "3          699   39     1.0       0.00              2          0   \n",
       "4          850   43     2.0  125510.82              1          1   \n",
       "5          645   44     8.0  113755.78              2          1   \n",
       "6          822   50     7.0       0.00              2          1   \n",
       "7          376   29     4.0  115046.74              4          1   \n",
       "8          501   44     4.0  142051.07              2          0   \n",
       "9          684   27     2.0  134603.88              1          1   \n",
       "\n",
       "   IsActiveMember  EstimatedSalary  Exited  Geography_Germany  \\\n",
       "0               1        101348.88       1                  0   \n",
       "1               1        112542.58       0                  0   \n",
       "2               0        113931.57       1                  0   \n",
       "3               0         93826.63       0                  0   \n",
       "4               1         79084.10       0                  0   \n",
       "5               0        149756.71       1                  0   \n",
       "6               1         10062.80       0                  0   \n",
       "7               0        119346.88       1                  1   \n",
       "8               1         74940.50       0                  0   \n",
       "9               1         71725.73       0                  0   \n",
       "\n",
       "   Geography_Spain  Gender_Male  \n",
       "0                0            0  \n",
       "1                1            0  \n",
       "2                0            0  \n",
       "3                0            0  \n",
       "4                1            0  \n",
       "5                1            1  \n",
       "6                0            1  \n",
       "7                0            0  \n",
       "8                0            1  \n",
       "9                0            1  "
      ]
     },
     "execution_count": 7,
     "metadata": {},
     "output_type": "execute_result"
    }
   ],
   "source": [
    "df_ohe = df.drop(['Surname', 'RowNumber', 'CustomerId'], axis=1)\n",
    "df_ohe = pd.get_dummies(df_ohe, drop_first=True)\n",
    "print(df_ohe.info())\n",
    "df_ohe.head(10)"
   ]
  },
  {
   "cell_type": "markdown",
   "metadata": {},
   "source": [
    "Появились столбцы Geography_Germany,Geography_Spain, Gender_Male, которые отображают страну и пол(1-мужчина, 0-женщина)\n",
    "\n",
    "\n",
    "Далее разобьем выборку на обучающую, валидационную и тестовую, где целевой признак это столбец Exited"
   ]
  },
  {
   "cell_type": "code",
   "execution_count": 12,
   "metadata": {},
   "outputs": [
    {
     "data": {
      "text/plain": [
       "((9091,), (9091, 11), (1364, 11), (1364, 11), (1364,), (1364,))"
      ]
     },
     "execution_count": 12,
     "metadata": {},
     "output_type": "execute_result"
    }
   ],
   "source": [
    "target = df_ohe['Exited']\n",
    "features = df_ohe.drop('Exited', axis=1)\n",
    "\n",
    "features_train, features_remaining, target_train, target_remaining = ttp(\n",
    "    features, target, test_size=0.3, random_state=12345)\n",
    "\n",
    "features_valid, features_test, target_valid, target_test = ttp(\n",
    "    features_remaining, target_remaining, test_size=0.5, random_state=12345)\n",
    "\n",
    "target.shape, features.shape, features_valid.shape, features_test.shape, target_valid.shape, target_test.shape"
   ]
  },
  {
   "cell_type": "markdown",
   "metadata": {},
   "source": [
    "После масштабируем признаки"
   ]
  },
  {
   "cell_type": "code",
   "execution_count": 9,
   "metadata": {},
   "outputs": [],
   "source": [
    "numeric = ['CreditScore', 'Age', 'Tenure','Balance', 'NumOfProducts', 'EstimatedSalary']"
   ]
  },
  {
   "cell_type": "code",
   "execution_count": 1,
   "metadata": {},
   "outputs": [
    {
     "ename": "NameError",
     "evalue": "name 'ss' is not defined",
     "output_type": "error",
     "traceback": [
      "\u001b[0;31m---------------------------------------------------------------------------\u001b[0m",
      "\u001b[0;31mNameError\u001b[0m                                 Traceback (most recent call last)",
      "\u001b[0;32m/tmp/ipykernel_31/592792316.py\u001b[0m in \u001b[0;36m<module>\u001b[0;34m\u001b[0m\n\u001b[0;32m----> 1\u001b[0;31m \u001b[0mscaler\u001b[0m \u001b[0;34m=\u001b[0m \u001b[0mss\u001b[0m\u001b[0;34m(\u001b[0m\u001b[0;34m)\u001b[0m\u001b[0;34m\u001b[0m\u001b[0;34m\u001b[0m\u001b[0m\n\u001b[0m\u001b[1;32m      2\u001b[0m \u001b[0;34m\u001b[0m\u001b[0m\n\u001b[1;32m      3\u001b[0m \u001b[0mfeatures_train\u001b[0m\u001b[0;34m[\u001b[0m\u001b[0mnumeric\u001b[0m\u001b[0;34m]\u001b[0m \u001b[0;34m=\u001b[0m \u001b[0mscaler\u001b[0m\u001b[0;34m.\u001b[0m\u001b[0mfit_transform\u001b[0m\u001b[0;34m(\u001b[0m\u001b[0mfeatures_train\u001b[0m\u001b[0;34m[\u001b[0m\u001b[0mnumeric\u001b[0m\u001b[0;34m]\u001b[0m\u001b[0;34m)\u001b[0m\u001b[0;34m\u001b[0m\u001b[0;34m\u001b[0m\u001b[0m\n\u001b[1;32m      4\u001b[0m \u001b[0mfeatures_valid\u001b[0m\u001b[0;34m[\u001b[0m\u001b[0mnumeric\u001b[0m\u001b[0;34m]\u001b[0m \u001b[0;34m=\u001b[0m \u001b[0mscaler\u001b[0m\u001b[0;34m.\u001b[0m\u001b[0mtransform\u001b[0m\u001b[0;34m(\u001b[0m\u001b[0mfeatures_valid\u001b[0m\u001b[0;34m[\u001b[0m\u001b[0mnumeric\u001b[0m\u001b[0;34m]\u001b[0m\u001b[0;34m)\u001b[0m\u001b[0;34m\u001b[0m\u001b[0;34m\u001b[0m\u001b[0m\n\u001b[1;32m      5\u001b[0m \u001b[0mfeatures_test\u001b[0m\u001b[0;34m[\u001b[0m\u001b[0mnumeric\u001b[0m\u001b[0;34m]\u001b[0m \u001b[0;34m=\u001b[0m \u001b[0mscaler\u001b[0m\u001b[0;34m.\u001b[0m\u001b[0mtransform\u001b[0m\u001b[0;34m(\u001b[0m\u001b[0mfeatures_test\u001b[0m\u001b[0;34m[\u001b[0m\u001b[0mnumeric\u001b[0m\u001b[0;34m]\u001b[0m\u001b[0;34m)\u001b[0m\u001b[0;34m\u001b[0m\u001b[0;34m\u001b[0m\u001b[0m\n",
      "\u001b[0;31mNameError\u001b[0m: name 'ss' is not defined"
     ]
    }
   ],
   "source": [
    "scaler = ss()\n",
    "\n",
    "features_train[numeric] = scaler.fit_transform(features_train[numeric])\n",
    "features_valid[numeric] = scaler.transform(features_valid[numeric])\n",
    "features_test[numeric] = scaler.transform(features_test[numeric])"
   ]
  },
  {
   "cell_type": "markdown",
   "metadata": {},
   "source": [
    "### Вывод\n",
    "\n",
    "- Была проведена предобработка данных\n",
    "- Категориальные признаки были преобразованы в количественные \n",
    "- Данные были разделены на обучающую и валидационную выборки\n",
    "- Дабы избежать \"предвзятости\" модели по значениям, произведено масштабирование\n"
   ]
  },
  {
   "cell_type": "markdown",
   "metadata": {},
   "source": [
    "## Исследование задачи"
   ]
  },
  {
   "cell_type": "markdown",
   "metadata": {},
   "source": [
    "Для начала нужно разобраться как обстоят дела с балансом классов"
   ]
  },
  {
   "cell_type": "code",
   "execution_count": 15,
   "metadata": {},
   "outputs": [
    {
     "data": {
      "text/plain": [
       "0    0.796062\n",
       "1    0.203938\n",
       "Name: Exited, dtype: float64"
      ]
     },
     "execution_count": 15,
     "metadata": {},
     "output_type": "execute_result"
    }
   ],
   "source": [
    "class_frequency = target.value_counts(normalize=True)\n",
    "class_frequency"
   ]
  },
  {
   "cell_type": "markdown",
   "metadata": {},
   "source": [
    "Можно заметить, что около 80% клиентов не ушли из банка, следовательно присутствует дисбаланс классов(оптимальное значение 50/50)\n",
    "\n",
    "Рассмотрим как модель будет вести себя с такими данными и если результат будет неудовлетворительным, изменим баланс в следующей главе"
   ]
  },
  {
   "cell_type": "markdown",
   "metadata": {},
   "source": [
    "### Дерево принятия решений"
   ]
  },
  {
   "cell_type": "code",
   "execution_count": 16,
   "metadata": {},
   "outputs": [
    {
     "name": "stdout",
     "output_type": "stream",
     "text": [
      "CPU times: user 668 ms, sys: 0 ns, total: 668 ms\n",
      "Wall time: 690 ms\n"
     ]
    },
    {
     "data": {
      "text/plain": [
       "RandomizedSearchCV(estimator=DecisionTreeClassifier(random_state=12345),\n",
       "                   param_distributions={'max_depth': [2, 4, 6, 8, 10, 12, 14,\n",
       "                                                      16, 18, 20],\n",
       "                                        'max_features': ['auto', 'sqrt', None],\n",
       "                                        'max_leaf_nodes': [10, 20, 30, 40, 50,\n",
       "                                                           60, 70, 80, 90,\n",
       "                                                           100],\n",
       "                                        'min_samples_split': [2, 5, 10]},\n",
       "                   scoring='f1')"
      ]
     },
     "execution_count": 16,
     "metadata": {},
     "output_type": "execute_result"
    }
   ],
   "source": [
    "%%time\n",
    "\n",
    "param_grid = {\n",
    "    'max_depth':  list(np.arange(2, 21,2).astype(int)),\n",
    "    'max_features': ['auto', 'sqrt', None],\n",
    "    'max_leaf_nodes':  list(np.arange(10, 101, 10).astype(int)),\n",
    "    'min_samples_split': [2, 5, 10]\n",
    "}\n",
    "\n",
    "\n",
    "estimator = DecisionTreeClassifier(random_state = 12345)\n",
    "\n",
    "\n",
    "model = RandomizedSearchCV(estimator, param_grid, scoring = 'f1') \n",
    "model.fit(features_train, target_train)"
   ]
  },
  {
   "cell_type": "code",
   "execution_count": 17,
   "metadata": {},
   "outputs": [
    {
     "data": {
      "text/plain": [
       "0.5837196516207841"
      ]
     },
     "execution_count": 17,
     "metadata": {},
     "output_type": "execute_result"
    }
   ],
   "source": [
    "model.best_score_"
   ]
  },
  {
   "cell_type": "code",
   "execution_count": 18,
   "metadata": {},
   "outputs": [
    {
     "data": {
      "text/plain": [
       "{'min_samples_split': 2,\n",
       " 'max_leaf_nodes': 60,\n",
       " 'max_features': None,\n",
       " 'max_depth': 14}"
      ]
     },
     "execution_count": 18,
     "metadata": {},
     "output_type": "execute_result"
    }
   ],
   "source": [
    "model.best_params_"
   ]
  },
  {
   "cell_type": "markdown",
   "metadata": {},
   "source": [
    "Найдем ROC-AUC для этих параметров"
   ]
  },
  {
   "cell_type": "code",
   "execution_count": 19,
   "metadata": {},
   "outputs": [
    {
     "name": "stdout",
     "output_type": "stream",
     "text": [
      "0.8492411387631975\n"
     ]
    },
    {
     "data": {
      "image/png": "[encoded data removed]",
      "text/plain": [
       "<Figure size 720x576 with 1 Axes>"
      ]
     },
     "metadata": {
      "needs_background": "light"
     },
     "output_type": "display_data"
    }
   ],
   "source": [
    "model = DecisionTreeClassifier(min_samples_split=2,\n",
    "                                max_leaf_nodes= 60,\n",
    "                                max_features= None,\n",
    "                                max_depth= 14,\n",
    "                                random_state = 12345\n",
    "                              )\n",
    "model.fit(features_train, target_train)\n",
    "probabilities_valid = model.predict_proba(features_valid)\n",
    "probabilities_one_valid = probabilities_valid[:, 1]\n",
    "\n",
    "auc_roc = roc_auc_score(target_valid, probabilities_one_valid)\n",
    "print(auc_roc)\n",
    "\n",
    "plt.figure(figsize=(10, 8))\n",
    "fpr, tpr, thresholds = roc_curve(target_valid, probabilities_one_valid, pos_label=1)\n",
    "plt.plot(fpr, tpr, label='ROC curve ')\n",
    "plt.plot([0, 1], [0, 1])\n",
    "plt.xlim([0.0, 1])\n",
    "plt.ylim([0.0, 1])\n",
    "plt.xlabel('False Positive Rate')\n",
    "plt.ylabel('True Positive Rate')\n",
    "plt.title('ROC curve')\n",
    "plt.show()"
   ]
  },
  {
   "cell_type": "markdown",
   "metadata": {},
   "source": [
    "#### Дерево принятия решений - вывод\n",
    "\n",
    "F1 равна 0.583, что неудовлетворяет заданному минимальному требуемому значению 0.59\n",
    "\n",
    "AUC-ROC равна 0.849, что в целом проходит проверку на адекватность, однако ей далеко до идеального"
   ]
  },
  {
   "cell_type": "markdown",
   "metadata": {},
   "source": [
    "### Случайный лес"
   ]
  },
  {
   "cell_type": "code",
   "execution_count": 20,
   "metadata": {},
   "outputs": [
    {
     "name": "stdout",
     "output_type": "stream",
     "text": [
      "CPU times: user 22 s, sys: 66.7 ms, total: 22.1 s\n",
      "Wall time: 22.2 s\n"
     ]
    },
    {
     "data": {
      "text/plain": [
       "RandomizedSearchCV(estimator=RandomForestClassifier(random_state=12345),\n",
       "                   param_distributions={'bootstrap': [True, False],\n",
       "                                        'max_depth': [2, 4, 6, 8, 10, 12, 14,\n",
       "                                                      16, 18, 20],\n",
       "                                        'max_features': ['auto', 'sqrt', None],\n",
       "                                        'max_leaf_nodes': [10, 20, 30, 40, 50,\n",
       "                                                           60, 70, 80, 90,\n",
       "                                                           100],\n",
       "                                        'min_samples_split': [2, 5, 10],\n",
       "                                        'n_estimators': [2, 4, 6, 8, 10, 12, 14,\n",
       "                                                         16, 18, 20, 22, 24, 26,\n",
       "                                                         28, 30, 32, 34, 36, 38,\n",
       "                                                         40, 42, 44, 46, 48, 50,\n",
       "                                                         52, 54, 56, 58, 60, ...]},\n",
       "                   scoring='f1')"
      ]
     },
     "execution_count": 20,
     "metadata": {},
     "output_type": "execute_result"
    }
   ],
   "source": [
    "%%time\n",
    "param_grid = {\n",
    "    'n_estimators': list(np.arange(2, 101, 2).astype(int)),\n",
    "    'max_depth': list(np.arange(2, 21,2).astype(int)),\n",
    "    'max_features': ['auto', 'sqrt', None],\n",
    "    'max_leaf_nodes':  list(np.arange(10, 101, 10).astype(int)),\n",
    "    'min_samples_split': [2, 5, 10],\n",
    "    'bootstrap': [True, False]\n",
    "}\n",
    "\n",
    "estimator = RandomForestClassifier(random_state = 12345)\n",
    "\n",
    "\n",
    "model_rf = RandomizedSearchCV(estimator, param_grid, scoring = 'f1')\n",
    "model_rf.fit(features_train, target_train)"
   ]
  },
  {
   "cell_type": "code",
   "execution_count": 21,
   "metadata": {},
   "outputs": [
    {
     "data": {
      "text/plain": [
       "0.5854148737764984"
      ]
     },
     "execution_count": 21,
     "metadata": {},
     "output_type": "execute_result"
    }
   ],
   "source": [
    "model_rf.best_score_"
   ]
  },
  {
   "cell_type": "code",
   "execution_count": 22,
   "metadata": {},
   "outputs": [
    {
     "data": {
      "text/plain": [
       "{'n_estimators': 64,\n",
       " 'min_samples_split': 10,\n",
       " 'max_leaf_nodes': 80,\n",
       " 'max_features': None,\n",
       " 'max_depth': 18,\n",
       " 'bootstrap': True}"
      ]
     },
     "execution_count": 22,
     "metadata": {},
     "output_type": "execute_result"
    }
   ],
   "source": [
    "model_rf.best_params_"
   ]
  },
  {
   "cell_type": "code",
   "execution_count": 23,
   "metadata": {},
   "outputs": [
    {
     "name": "stdout",
     "output_type": "stream",
     "text": [
      "0.8588885073260073\n"
     ]
    },
    {
     "data": {
      "image/png": "[encoded data removed]",
      "text/plain": [
       "<Figure size 720x576 with 1 Axes>"
      ]
     },
     "metadata": {
      "needs_background": "light"
     },
     "output_type": "display_data"
    }
   ],
   "source": [
    "model_rf = RandomForestClassifier( n_estimators= 64,\n",
    "                                min_samples_split= 10,\n",
    "                                max_leaf_nodes= 80,\n",
    "                                max_features= None,\n",
    "                                max_depth= 18,\n",
    "                                bootstrap= True, \n",
    "                                random_state=12345\n",
    "                              )\n",
    "model_rf.fit(features_train, target_train)\n",
    "probabilities_valid = model_rf.predict_proba(features_valid)\n",
    "probabilities_one_valid = probabilities_valid[:, 1]\n",
    "\n",
    "auc_roc = roc_auc_score(target_valid, probabilities_one_valid)\n",
    "print(auc_roc)\n",
    "\n",
    "plt.figure(figsize=(10, 8))\n",
    "fpr, tpr, thresholds = roc_curve(target_valid, probabilities_one_valid, pos_label=1)\n",
    "plt.plot(fpr, tpr, label='ROC curve ')\n",
    "plt.plot([0, 1], [0, 1])\n",
    "plt.xlim([0.0, 1])\n",
    "plt.ylim([0.0, 1])\n",
    "plt.xlabel('False Positive Rate')\n",
    "plt.ylabel('True Positive Rate')\n",
    "plt.title('ROC curve')\n",
    "plt.show()"
   ]
  },
  {
   "cell_type": "markdown",
   "metadata": {},
   "source": [
    "#### Случайный лес - вывод\n",
    "\n",
    "F1 равна 0.585, что ниже чем у дерева принятия решения и неудовлетворяет заданному минимальному требуемому значению 0.59\n",
    "\n",
    "AUC-ROC равна 0.859, что выше чем у дерева принятия решения, однако ей так же далеко до идеального"
   ]
  },
  {
   "cell_type": "markdown",
   "metadata": {},
   "source": [
    "### Логистическая регрессия"
   ]
  },
  {
   "cell_type": "code",
   "execution_count": 24,
   "metadata": {},
   "outputs": [
    {
     "data": {
      "text/plain": [
       "0.297386099618834"
      ]
     },
     "execution_count": 24,
     "metadata": {},
     "output_type": "execute_result"
    }
   ],
   "source": [
    "model_lr = LogisticRegression(random_state=12345)\n",
    "\n",
    "score = cross_val_score(model_lr,\n",
    "                        features_train,\n",
    "                        target_train,\n",
    "                        scoring='f1')\n",
    "\n",
    "model_lr.fit(features_train, target_train)\n",
    "\n",
    "score.mean()"
   ]
  },
  {
   "cell_type": "code",
   "execution_count": 25,
   "metadata": {},
   "outputs": [
    {
     "name": "stdout",
     "output_type": "stream",
     "text": [
      "0.7921144419306184\n"
     ]
    },
    {
     "data": {
      "image/png": "[encoded data removed]",
      "text/plain": [
       "<Figure size 720x576 with 1 Axes>"
      ]
     },
     "metadata": {
      "needs_background": "light"
     },
     "output_type": "display_data"
    }
   ],
   "source": [
    "probabilities_valid = model_lr.predict_proba(features_valid)\n",
    "probabilities_one_valid = probabilities_valid[:, 1]\n",
    "\n",
    "auc_roc = roc_auc_score(target_valid, probabilities_one_valid)\n",
    "print(auc_roc)\n",
    "\n",
    "plt.figure(figsize=(10, 8))\n",
    "fpr, tpr, thresholds = roc_curve(target_valid, probabilities_one_valid, pos_label=1)\n",
    "plt.plot(fpr, tpr, label='ROC curve ')\n",
    "plt.plot([0, 1], [0, 1])\n",
    "plt.xlim([0.0, 1])\n",
    "plt.ylim([0.0, 1])\n",
    "plt.xlabel('False Positive Rate')\n",
    "plt.ylabel('True Positive Rate')\n",
    "plt.title('ROC curve')\n",
    "plt.show()"
   ]
  },
  {
   "cell_type": "markdown",
   "metadata": {},
   "source": [
    "#### Логистическая регрессия - вывод\n",
    "\n",
    "F1 равна 0.297, что является наименьшим показателем из проверенных моделей\n",
    "\n",
    "AUC-ROC равна 0.792, что так же является наименьшим"
   ]
  },
  {
   "cell_type": "markdown",
   "metadata": {},
   "source": [
    "### Вывод по главе\n",
    "- Был выявлен дисбаланс классов\n",
    "- Были обучены модели дерева принятия решений, случайного леса и логистической регрессии\n",
    "- Относительно метрик лучшая модель - случайного леса, худшая - логистическая регрессия "
   ]
  },
  {
   "cell_type": "markdown",
   "metadata": {},
   "source": [
    "## Борьба с дисбалансом"
   ]
  },
  {
   "cell_type": "markdown",
   "metadata": {},
   "source": [
    "Так как данных не слишком много, то для борьбы с дисбалансом будет использована методика upsample"
   ]
  },
  {
   "cell_type": "code",
   "execution_count": 26,
   "metadata": {},
   "outputs": [],
   "source": [
    "def upsample(features, target, repeat):\n",
    "    features_zeros = features_train[target_train == 0]\n",
    "    features_ones = features_train[target_train == 1]\n",
    "    target_zeros = target_train[target_train == 0]\n",
    "    target_ones = target_train[target_train == 1]\n",
    "\n",
    "    features_upsampled = pd.concat([features_zeros] + [features_ones] * repeat)\n",
    "    target_upsampled = pd.concat([target_zeros] + [target_ones] * repeat)\n",
    "    \n",
    "    features_upsampled, target_upsampled = shuffle(\n",
    "        features_upsampled, target_upsampled, random_state=12345)\n",
    "    \n",
    "    return features_upsampled, target_upsampled\n",
    "\n",
    "features_upsampled, target_upsampled = upsample(features_train, target_train, 4)"
   ]
  },
  {
   "cell_type": "code",
   "execution_count": 27,
   "metadata": {},
   "outputs": [
    {
     "data": {
      "text/plain": [
       "1    0.508603\n",
       "0    0.491397\n",
       "Name: Exited, dtype: float64"
      ]
     },
     "execution_count": 27,
     "metadata": {},
     "output_type": "execute_result"
    }
   ],
   "source": [
    "class_frequency = target_upsampled.value_counts(normalize=True)\n",
    "class_frequency"
   ]
  },
  {
   "cell_type": "markdown",
   "metadata": {},
   "source": [
    "### Дерево принятия решений"
   ]
  },
  {
   "cell_type": "code",
   "execution_count": 28,
   "metadata": {},
   "outputs": [
    {
     "name": "stdout",
     "output_type": "stream",
     "text": [
      "CPU times: user 936 ms, sys: 0 ns, total: 936 ms\n",
      "Wall time: 977 ms\n"
     ]
    },
    {
     "data": {
      "text/plain": [
       "RandomizedSearchCV(estimator=DecisionTreeClassifier(random_state=12345),\n",
       "                   param_distributions={'max_depth': [2, 4, 6, 8, 10, 12, 14,\n",
       "                                                      16, 18, 20],\n",
       "                                        'max_features': ['auto', 'sqrt', None],\n",
       "                                        'max_leaf_nodes': [10, 20, 30, 40, 50,\n",
       "                                                           60, 70, 80, 90,\n",
       "                                                           100],\n",
       "                                        'min_samples_split': [2, 5, 10]},\n",
       "                   scoring='f1')"
      ]
     },
     "execution_count": 28,
     "metadata": {},
     "output_type": "execute_result"
    }
   ],
   "source": [
    "%%time\n",
    "\n",
    "param_grid = {\n",
    "    'max_depth': list(np.arange(2, 21,2).astype(int)),\n",
    "    'max_features': ['auto', 'sqrt', None],\n",
    "    'max_leaf_nodes': list(np.arange(10, 101, 10).astype(int)),\n",
    "    'min_samples_split': [2, 5, 10]\n",
    "}\n",
    "\n",
    "\n",
    "estimator = DecisionTreeClassifier(random_state = 12345)\n",
    "\n",
    "\n",
    "model = RandomizedSearchCV(estimator, param_grid, scoring = 'f1') \n",
    "model.fit(features_upsampled, target_upsampled)"
   ]
  },
  {
   "cell_type": "code",
   "execution_count": 29,
   "metadata": {},
   "outputs": [
    {
     "data": {
      "text/plain": [
       "0.7915411471782001"
      ]
     },
     "execution_count": 29,
     "metadata": {},
     "output_type": "execute_result"
    }
   ],
   "source": [
    "model.best_score_"
   ]
  },
  {
   "cell_type": "code",
   "execution_count": 30,
   "metadata": {},
   "outputs": [
    {
     "data": {
      "text/plain": [
       "{'min_samples_split': 2,\n",
       " 'max_leaf_nodes': 40,\n",
       " 'max_features': None,\n",
       " 'max_depth': 10}"
      ]
     },
     "execution_count": 30,
     "metadata": {},
     "output_type": "execute_result"
    }
   ],
   "source": [
    "model.best_params_"
   ]
  },
  {
   "cell_type": "code",
   "execution_count": 31,
   "metadata": {},
   "outputs": [
    {
     "name": "stdout",
     "output_type": "stream",
     "text": [
      "0.8310742566257272\n"
     ]
    },
    {
     "data": {
      "image/png": "[encoded data removed]",
      "text/plain": [
       "<Figure size 720x576 with 1 Axes>"
      ]
     },
     "metadata": {
      "needs_background": "light"
     },
     "output_type": "display_data"
    }
   ],
   "source": [
    "model = DecisionTreeClassifier(min_samples_split= 2,\n",
    "                                max_leaf_nodes= 40,\n",
    "                                max_depth= 10,\n",
    "                                random_state = 12345\n",
    "                              )\n",
    "model.fit(features_upsampled, target_upsampled)\n",
    "probabilities_valid = model.predict_proba(features_valid)\n",
    "probabilities_one_valid = probabilities_valid[:, 1]\n",
    "\n",
    "auc_roc = roc_auc_score(target_valid, probabilities_one_valid)\n",
    "print(auc_roc)\n",
    "\n",
    "plt.figure(figsize=(10, 8))\n",
    "fpr, tpr, thresholds = roc_curve(target_valid, probabilities_one_valid, pos_label=1)\n",
    "plt.plot(fpr, tpr, label='ROC curve ')\n",
    "plt.plot([0, 1], [0, 1])\n",
    "plt.xlim([0.0, 1])\n",
    "plt.ylim([0.0, 1])\n",
    "plt.xlabel('False Positive Rate')\n",
    "plt.ylabel('True Positive Rate')\n",
    "plt.title('ROC curve')\n",
    "plt.show()"
   ]
  },
  {
   "cell_type": "markdown",
   "metadata": {},
   "source": [
    "#### Дерево принятия решений - вывод\n",
    "\n",
    "F1 равна 0.792, удовлетворяет заданию, однако прирост параметра на 0.225 кажется слишком нереалистичным. Посмотрим как себя покажут другие модели\n",
    "\n",
    "AUC-ROC равна 0.819, что выше значения, которое было на несбалансированных данных"
   ]
  },
  {
   "cell_type": "markdown",
   "metadata": {},
   "source": [
    "### Случайный лес"
   ]
  },
  {
   "cell_type": "code",
   "execution_count": 44,
   "metadata": {},
   "outputs": [
    {
     "name": "stdout",
     "output_type": "stream",
     "text": [
      "CPU times: user 17.8 s, sys: 38.1 ms, total: 17.9 s\n",
      "Wall time: 17.9 s\n"
     ]
    },
    {
     "data": {
      "text/plain": [
       "RandomizedSearchCV(estimator=RandomForestClassifier(random_state=12345),\n",
       "                   param_distributions={'bootstrap': [True, False],\n",
       "                                        'max_depth': [2, 4, 6, 8, 10, 12, 14,\n",
       "                                                      16, 18, 20],\n",
       "                                        'max_features': ['auto', 'sqrt', None],\n",
       "                                        'max_leaf_nodes': [10, 20, 30, 40, 50,\n",
       "                                                           60, 70, 80, 90, 100,\n",
       "                                                           110, 120, 130, 140,\n",
       "                                                           150, 160, 170, 180,\n",
       "                                                           190, 200],\n",
       "                                        'min_samples_split': [2, 5, 10],\n",
       "                                        'n_estimators': [2, 4, 6, 8, 10, 12, 14,\n",
       "                                                         16, 18, 20, 22, 24, 26,\n",
       "                                                         28, 30, 32, 34, 36, 38,\n",
       "                                                         40, 42, 44, 46, 48, 50,\n",
       "                                                         52, 54, 56, 58, 60, ...]},\n",
       "                   scoring='f1')"
      ]
     },
     "execution_count": 44,
     "metadata": {},
     "output_type": "execute_result"
    }
   ],
   "source": [
    "%%time\n",
    "param_grid = {\n",
    "    'n_estimators': list(np.arange(2, 101, 2).astype(int)),\n",
    "    'max_depth': list(np.arange(2, 21,2).astype(int)),\n",
    "    'max_features': ['auto', 'sqrt', None],\n",
    "    'max_leaf_nodes': list(np.arange(10, 201, 10).astype(int)),\n",
    "    'min_samples_split': [2, 5, 10],\n",
    "    'bootstrap': [True, False]\n",
    "}\n",
    "\n",
    "estimator = RandomForestClassifier(random_state = 12345)\n",
    "\n",
    "\n",
    "model_rf = RandomizedSearchCV(estimator, param_grid, scoring = 'f1')\n",
    "model_rf.fit(features_upsampled, target_upsampled)"
   ]
  },
  {
   "cell_type": "code",
   "execution_count": 45,
   "metadata": {},
   "outputs": [
    {
     "data": {
      "text/plain": [
       "0.8714754311768811"
      ]
     },
     "execution_count": 45,
     "metadata": {},
     "output_type": "execute_result"
    }
   ],
   "source": [
    "model_rf.best_score_"
   ]
  },
  {
   "cell_type": "code",
   "execution_count": 46,
   "metadata": {},
   "outputs": [
    {
     "data": {
      "text/plain": [
       "{'n_estimators': 24,\n",
       " 'min_samples_split': 5,\n",
       " 'max_leaf_nodes': 200,\n",
       " 'max_features': None,\n",
       " 'max_depth': 16,\n",
       " 'bootstrap': True}"
      ]
     },
     "execution_count": 46,
     "metadata": {},
     "output_type": "execute_result"
    }
   ],
   "source": [
    "model_rf.best_params_"
   ]
  },
  {
   "cell_type": "code",
   "execution_count": 47,
   "metadata": {},
   "outputs": [
    {
     "name": "stdout",
     "output_type": "stream",
     "text": [
      "0.8510406566472744\n"
     ]
    },
    {
     "data": {
      "image/png": "[encoded data removed]",
      "text/plain": [
       "<Figure size 720x576 with 1 Axes>"
      ]
     },
     "metadata": {
      "needs_background": "light"
     },
     "output_type": "display_data"
    }
   ],
   "source": [
    "model_rf = RandomForestClassifier( n_estimators= 24,\n",
    "                                min_samples_split= 5,\n",
    "                                max_leaf_nodes= 200,\n",
    "                                max_features= None,\n",
    "                                max_depth= 16,\n",
    "                                bootstrap= True, \n",
    "                                random_state=12345\n",
    "                              )\n",
    "model_rf.fit(features_upsampled, target_upsampled)\n",
    "probabilities_valid = model_rf.predict_proba(features_valid)\n",
    "probabilities_one_valid = probabilities_valid[:, 1]\n",
    "\n",
    "auc_roc = roc_auc_score(target_valid, probabilities_one_valid)\n",
    "print(auc_roc)\n",
    "\n",
    "plt.figure(figsize=(10, 8))\n",
    "fpr, tpr, thresholds = roc_curve(target_valid, probabilities_one_valid, pos_label=1)\n",
    "plt.plot(fpr, tpr, label='ROC curve ')\n",
    "plt.plot([0, 1], [0, 1])\n",
    "plt.xlim([0.0, 1])\n",
    "plt.ylim([0.0, 1])\n",
    "plt.xlabel('False Positive Rate')\n",
    "plt.ylabel('True Positive Rate')\n",
    "plt.title('ROC curve')\n",
    "plt.show()"
   ]
  },
  {
   "cell_type": "markdown",
   "metadata": {},
   "source": [
    "#### Случайный лес -  вывод\n",
    "\n",
    "F1 равна 0.871, удовлетворяет заданию, прирост 0.251\n",
    "\n",
    "AUC-ROC равна 0.851, что выше значения, которое было на несбалансированных данных"
   ]
  },
  {
   "cell_type": "markdown",
   "metadata": {},
   "source": [
    "### Логистическая регрессия"
   ]
  },
  {
   "cell_type": "code",
   "execution_count": 36,
   "metadata": {},
   "outputs": [
    {
     "data": {
      "text/plain": [
       "0.7047395882829095"
      ]
     },
     "execution_count": 36,
     "metadata": {},
     "output_type": "execute_result"
    }
   ],
   "source": [
    "model_lr = LogisticRegression(random_state=12345)\n",
    "\n",
    "score = cross_val_score(model_lr,\n",
    "                        features_upsampled,\n",
    "                        target_upsampled,\n",
    "                        scoring='f1')\n",
    "\n",
    "model_lr.fit(features_upsampled, target_upsampled)\n",
    "\n",
    "score.mean()"
   ]
  },
  {
   "cell_type": "code",
   "execution_count": 37,
   "metadata": {},
   "outputs": [
    {
     "name": "stdout",
     "output_type": "stream",
     "text": [
      "0.7908451842275371\n"
     ]
    },
    {
     "data": {
      "image/png": "[encoded data removed]",
      "text/plain": [
       "<Figure size 720x576 with 1 Axes>"
      ]
     },
     "metadata": {
      "needs_background": "light"
     },
     "output_type": "display_data"
    }
   ],
   "source": [
    "probabilities_valid = model_lr.predict_proba(features_valid)\n",
    "probabilities_one_valid = probabilities_valid[:, 1]\n",
    "\n",
    "auc_roc = roc_auc_score(target_valid, probabilities_one_valid)\n",
    "print(auc_roc)\n",
    "\n",
    "plt.figure(figsize=(10, 8))\n",
    "fpr, tpr, thresholds = roc_curve(target_valid, probabilities_one_valid, pos_label=1)\n",
    "plt.plot(fpr, tpr, label='ROC curve ')\n",
    "plt.plot([0, 1], [0, 1])\n",
    "plt.xlim([0.0, 1])\n",
    "plt.ylim([0.0, 1])\n",
    "plt.xlabel('False Positive Rate')\n",
    "plt.ylabel('True Positive Rate')\n",
    "plt.title('ROC curve')\n",
    "plt.show()"
   ]
  },
  {
   "cell_type": "markdown",
   "metadata": {},
   "source": [
    "#### Логистическая регрессия -  вывод\n",
    "\n",
    "F1 равна 0.705, удовлетворяет заданию, наименьший показатель прирост 0.4\n",
    "\n",
    "AUC-ROC равна 0.791, что выше значения, которое было на несбалансированных данных, так же наименьшее значение среди моделей"
   ]
  },
  {
   "cell_type": "markdown",
   "metadata": {},
   "source": [
    "### Вывод\n",
    "- С помощью балансировки класса были достигнуты нужные результаты, однако прирост оказался куда выше ожидаемого\n",
    "\n",
    "Чтобы проверить адекватность полученных метрик, необходимо протестировать данные по самой эффективной модели (случайный лес)"
   ]
  },
  {
   "cell_type": "markdown",
   "metadata": {},
   "source": [
    "## Тестирование модели"
   ]
  },
  {
   "cell_type": "code",
   "execution_count": 48,
   "metadata": {},
   "outputs": [
    {
     "data": {
      "text/plain": [
       "0.5922619047619048"
      ]
     },
     "execution_count": 48,
     "metadata": {},
     "output_type": "execute_result"
    }
   ],
   "source": [
    "predictions = model_rf.predict(features_test)\n",
    "\n",
    "f1_score(target_test, predictions)"
   ]
  },
  {
   "cell_type": "code",
   "execution_count": 49,
   "metadata": {},
   "outputs": [
    {
     "data": {
      "text/plain": [
       "0.843186231835532"
      ]
     },
     "execution_count": 49,
     "metadata": {},
     "output_type": "execute_result"
    }
   ],
   "source": [
    "probabilities_valid = model_rf.predict_proba(features_test)\n",
    "probabilities_one_valid = probabilities_valid[:, 1]\n",
    "auc_roc = roc_auc_score(target_test,probabilities_one_valid)    \n",
    "    \n",
    "auc_roc"
   ]
  },
  {
   "cell_type": "markdown",
   "metadata": {},
   "source": [
    "## Общий вывод\n",
    "\n",
    "В ходе данной работы были выполнены следующие пункты:\n",
    "- Проведена подготовка данных\n",
    "    - Восполнены пропущенные значение\n",
    "    - Категориальные значения были преобразованы в количественные\n",
    "    - Была разделена выборка для обучения модели и ее тестировании\n",
    "    - Произведено масштабирование\n",
    "    \n",
    "    \n",
    "- Был проведен исследовательский анализ данных из которого \n",
    "    - Был выявлен дисбаланс классов\n",
    "    - Были обучены следующие модели, которые показали результаты неудовлетворяющие минимально требуемым \n",
    "            - Дерево принятия решений (F1 = 0.583, AUC-ROC = 0.849)\n",
    "            - Случайный лес (F1 = 0.585, AUC-ROC = 0.859)\n",
    "            - Логистическая регрессия (F1 = 0.297, AUC-ROC = 0.792)\n",
    "    - После балансировки классов значения оказались следующими\n",
    "            - Дерево принятия решений (F1 = 0.792, AUC-ROC = 0.819)\n",
    "            - Случайный лес (F1 = 0.871, AUC-ROC = 0.851)\n",
    "            - Логистическая регрессия (F1 = 0.705, AUC-ROC = 0.791)\n",
    "- Протестирована модель, которая показала наивысший результат после балансировки классов на несбалансированной тестовой выборке\n",
    "    - Значение F1 составило 0.592, а AUC-ROC - 0.843, что удовлетворяет минимальному порогу F1>0.59\n",
    "  \n",
    "  \n",
    "\n",
    "**Предложение:**\n",
    "\n",
    "Чтобы компания могла прогнозировать уход клиентов, предлагается использовать модель случайного леса с заданными параметрами"
   ]
  }
 ],
 "metadata": {
  "ExecuteTimeLog": [
   {
    "duration": 1397,
    "start_time": "2023-06-16T21:35:05.287Z"
   },
   {
    "duration": 83,
    "start_time": "2023-06-16T21:52:49.117Z"
   },
   {
    "duration": 91,
    "start_time": "2023-06-16T22:33:08.394Z"
   },
   {
    "duration": 47,
    "start_time": "2023-06-16T22:33:18.545Z"
   },
   {
    "duration": 46,
    "start_time": "2023-06-16T22:33:48.580Z"
   },
   {
    "duration": 13,
    "start_time": "2023-06-16T22:33:53.032Z"
   },
   {
    "duration": 102,
    "start_time": "2023-06-16T22:35:40.926Z"
   },
   {
    "duration": 9,
    "start_time": "2023-06-16T22:35:50.253Z"
   },
   {
    "duration": 17,
    "start_time": "2023-06-16T22:35:55.876Z"
   },
   {
    "duration": 19,
    "start_time": "2023-06-16T22:36:17.118Z"
   },
   {
    "duration": 18,
    "start_time": "2023-06-16T22:36:54.217Z"
   },
   {
    "duration": 22,
    "start_time": "2023-06-16T22:37:01.788Z"
   },
   {
    "duration": 17,
    "start_time": "2023-06-16T22:41:35.011Z"
   },
   {
    "duration": 6,
    "start_time": "2023-06-16T22:42:28.524Z"
   },
   {
    "duration": 10,
    "start_time": "2023-06-16T22:45:27.600Z"
   },
   {
    "duration": 12,
    "start_time": "2023-06-16T22:46:46.426Z"
   },
   {
    "duration": 14,
    "start_time": "2023-06-16T22:46:54.579Z"
   },
   {
    "duration": 13,
    "start_time": "2023-06-16T22:48:10.941Z"
   },
   {
    "duration": 25,
    "start_time": "2023-06-16T22:49:35.557Z"
   },
   {
    "duration": 6,
    "start_time": "2023-06-16T22:49:45.412Z"
   },
   {
    "duration": 47,
    "start_time": "2023-06-16T22:50:00.961Z"
   },
   {
    "duration": 27,
    "start_time": "2023-06-16T22:54:13.574Z"
   },
   {
    "duration": 28,
    "start_time": "2023-06-16T22:54:50.960Z"
   },
   {
    "duration": 29,
    "start_time": "2023-06-16T22:55:08.022Z"
   },
   {
    "duration": 10,
    "start_time": "2023-06-16T22:58:56.041Z"
   },
   {
    "duration": 11,
    "start_time": "2023-06-16T22:59:02.988Z"
   },
   {
    "duration": 7,
    "start_time": "2023-06-16T22:59:27.699Z"
   },
   {
    "duration": 27,
    "start_time": "2023-06-16T23:00:30.545Z"
   },
   {
    "duration": 3,
    "start_time": "2023-06-16T23:00:55.580Z"
   },
   {
    "duration": 23,
    "start_time": "2023-06-16T23:00:59.704Z"
   },
   {
    "duration": 23,
    "start_time": "2023-06-16T23:01:46.244Z"
   },
   {
    "duration": 22,
    "start_time": "2023-06-16T23:02:19.411Z"
   },
   {
    "duration": 5,
    "start_time": "2023-06-16T23:02:53.322Z"
   },
   {
    "duration": 22,
    "start_time": "2023-06-16T23:03:00.750Z"
   },
   {
    "duration": 4,
    "start_time": "2023-06-16T23:12:18.497Z"
   },
   {
    "duration": 524,
    "start_time": "2023-06-16T23:17:17.926Z"
   },
   {
    "duration": 136,
    "start_time": "2023-06-16T23:17:23.621Z"
   },
   {
    "duration": 6,
    "start_time": "2023-06-16T23:18:23.002Z"
   },
   {
    "duration": 5,
    "start_time": "2023-06-16T23:24:07.938Z"
   },
   {
    "duration": 227,
    "start_time": "2023-06-16T23:26:14.893Z"
   },
   {
    "duration": 4,
    "start_time": "2023-06-16T23:34:49.283Z"
   },
   {
    "duration": 1035,
    "start_time": "2023-06-16T23:35:04.993Z"
   },
   {
    "duration": 50,
    "start_time": "2023-06-16T23:35:06.030Z"
   },
   {
    "duration": 66,
    "start_time": "2023-06-16T23:35:06.082Z"
   },
   {
    "duration": 18,
    "start_time": "2023-06-16T23:35:06.150Z"
   },
   {
    "duration": 7,
    "start_time": "2023-06-16T23:35:06.169Z"
   },
   {
    "duration": 37,
    "start_time": "2023-06-16T23:35:06.177Z"
   },
   {
    "duration": 31,
    "start_time": "2023-06-16T23:35:06.215Z"
   },
   {
    "duration": 9,
    "start_time": "2023-06-16T23:35:06.247Z"
   },
   {
    "duration": 15,
    "start_time": "2023-06-16T23:35:06.257Z"
   },
   {
    "duration": 31,
    "start_time": "2023-06-16T23:35:06.273Z"
   },
   {
    "duration": 14,
    "start_time": "2023-06-16T23:35:06.305Z"
   },
   {
    "duration": 581,
    "start_time": "2023-06-16T23:35:06.321Z"
   },
   {
    "duration": 3,
    "start_time": "2023-06-16T23:35:53.457Z"
   },
   {
    "duration": 513,
    "start_time": "2023-06-16T23:36:32.675Z"
   },
   {
    "duration": 495,
    "start_time": "2023-06-16T23:36:40.675Z"
   },
   {
    "duration": 4,
    "start_time": "2023-06-16T23:36:43.961Z"
   },
   {
    "duration": 4,
    "start_time": "2023-06-16T23:36:45.925Z"
   },
   {
    "duration": 4,
    "start_time": "2023-06-16T23:36:46.364Z"
   },
   {
    "duration": 4,
    "start_time": "2023-06-16T23:36:46.689Z"
   },
   {
    "duration": 3,
    "start_time": "2023-06-16T23:36:46.951Z"
   },
   {
    "duration": 4,
    "start_time": "2023-06-16T23:37:52.466Z"
   },
   {
    "duration": 119,
    "start_time": "2023-06-17T00:03:11.661Z"
   },
   {
    "duration": 36,
    "start_time": "2023-06-17T00:03:28.546Z"
   },
   {
    "duration": 35,
    "start_time": "2023-06-17T00:03:45.193Z"
   },
   {
    "duration": 32,
    "start_time": "2023-06-17T00:03:57.296Z"
   },
   {
    "duration": 84,
    "start_time": "2023-06-17T00:08:42.061Z"
   },
   {
    "duration": 166,
    "start_time": "2023-06-17T00:08:55.783Z"
   },
   {
    "duration": 33,
    "start_time": "2023-06-17T00:09:26.698Z"
   },
   {
    "duration": 60,
    "start_time": "2023-06-17T00:09:53.224Z"
   },
   {
    "duration": 5,
    "start_time": "2023-06-17T00:10:35.660Z"
   },
   {
    "duration": 177,
    "start_time": "2023-06-17T00:10:44.615Z"
   },
   {
    "duration": 553,
    "start_time": "2023-06-17T00:12:02.620Z"
   },
   {
    "duration": 155,
    "start_time": "2023-06-17T00:12:40.592Z"
   },
   {
    "duration": 152,
    "start_time": "2023-06-17T00:12:48.452Z"
   },
   {
    "duration": 161,
    "start_time": "2023-06-17T00:13:18.000Z"
   },
   {
    "duration": 155,
    "start_time": "2023-06-17T00:13:44.041Z"
   },
   {
    "duration": 213,
    "start_time": "2023-06-17T00:13:53.635Z"
   },
   {
    "duration": 149,
    "start_time": "2023-06-17T00:13:58.960Z"
   },
   {
    "duration": 21832,
    "start_time": "2023-06-17T00:15:56.132Z"
   },
   {
    "duration": 8,
    "start_time": "2023-06-17T00:19:15.770Z"
   },
   {
    "duration": 4,
    "start_time": "2023-06-17T00:19:27.974Z"
   },
   {
    "duration": 4,
    "start_time": "2023-06-17T00:19:39.247Z"
   },
   {
    "duration": 812,
    "start_time": "2023-06-17T00:21:41.741Z"
   },
   {
    "duration": 823,
    "start_time": "2023-06-17T00:21:53.359Z"
   },
   {
    "duration": 1256,
    "start_time": "2023-06-17T00:26:27.078Z"
   },
   {
    "duration": 1038,
    "start_time": "2023-06-17T00:26:41.203Z"
   },
   {
    "duration": 1754,
    "start_time": "2023-06-17T00:27:18.981Z"
   },
   {
    "duration": 17542,
    "start_time": "2023-06-17T00:27:38.659Z"
   },
   {
    "duration": 685,
    "start_time": "2023-06-17T00:27:56.202Z"
   },
   {
    "duration": 1296,
    "start_time": "2023-06-17T00:28:10.946Z"
   },
   {
    "duration": 51,
    "start_time": "2023-06-17T00:28:12.244Z"
   },
   {
    "duration": 18,
    "start_time": "2023-06-17T00:28:12.297Z"
   },
   {
    "duration": 5,
    "start_time": "2023-06-17T00:28:12.316Z"
   },
   {
    "duration": 4,
    "start_time": "2023-06-17T00:28:12.323Z"
   },
   {
    "duration": 14,
    "start_time": "2023-06-17T00:28:12.328Z"
   },
   {
    "duration": 27,
    "start_time": "2023-06-17T00:28:12.344Z"
   },
   {
    "duration": 7,
    "start_time": "2023-06-17T00:28:12.372Z"
   },
   {
    "duration": 21,
    "start_time": "2023-06-17T00:28:12.381Z"
   },
   {
    "duration": 27,
    "start_time": "2023-06-17T00:28:12.404Z"
   },
   {
    "duration": 7,
    "start_time": "2023-06-17T00:28:12.432Z"
   },
   {
    "duration": 553,
    "start_time": "2023-06-17T00:28:12.440Z"
   },
   {
    "duration": 4,
    "start_time": "2023-06-17T00:28:12.995Z"
   },
   {
    "duration": 8,
    "start_time": "2023-06-17T00:28:13.001Z"
   },
   {
    "duration": 181,
    "start_time": "2023-06-17T00:28:13.011Z"
   },
   {
    "duration": 19066,
    "start_time": "2023-06-17T00:28:13.194Z"
   },
   {
    "duration": 4,
    "start_time": "2023-06-17T00:28:32.261Z"
   },
   {
    "duration": 21,
    "start_time": "2023-06-17T00:28:32.267Z"
   },
   {
    "duration": 854,
    "start_time": "2023-06-17T00:28:32.290Z"
   },
   {
    "duration": 1693,
    "start_time": "2023-06-17T00:28:33.145Z"
   },
   {
    "duration": 140,
    "start_time": "2023-06-17T00:29:21.582Z"
   },
   {
    "duration": 272,
    "start_time": "2023-06-17T00:31:39.675Z"
   },
   {
    "duration": 5,
    "start_time": "2023-06-17T01:04:25.425Z"
   },
   {
    "duration": 13,
    "start_time": "2023-06-17T01:04:54.650Z"
   },
   {
    "duration": 6,
    "start_time": "2023-06-17T01:05:38.093Z"
   },
   {
    "duration": 125,
    "start_time": "2023-06-17T01:05:57.438Z"
   },
   {
    "duration": 6,
    "start_time": "2023-06-17T01:06:00.637Z"
   },
   {
    "duration": 187,
    "start_time": "2023-06-17T01:06:38.727Z"
   },
   {
    "duration": 9,
    "start_time": "2023-06-17T01:06:40.230Z"
   },
   {
    "duration": 9,
    "start_time": "2023-06-17T01:06:42.129Z"
   },
   {
    "duration": 150,
    "start_time": "2023-06-17T01:06:43.030Z"
   },
   {
    "duration": 8,
    "start_time": "2023-06-17T01:06:43.783Z"
   },
   {
    "duration": 154,
    "start_time": "2023-06-17T01:06:45.306Z"
   },
   {
    "duration": 2543,
    "start_time": "2023-06-17T01:06:49.348Z"
   },
   {
    "duration": 44,
    "start_time": "2023-06-17T01:06:53.862Z"
   },
   {
    "duration": 554,
    "start_time": "2023-06-17T01:07:15.261Z"
   },
   {
    "duration": 15,
    "start_time": "2023-06-17T01:07:16.549Z"
   },
   {
    "duration": 18,
    "start_time": "2023-06-17T01:07:21.538Z"
   },
   {
    "duration": 15,
    "start_time": "2023-06-17T01:07:22.461Z"
   },
   {
    "duration": 6,
    "start_time": "2023-06-17T01:07:23.162Z"
   },
   {
    "duration": 55,
    "start_time": "2023-06-17T01:08:31.357Z"
   },
   {
    "duration": 6,
    "start_time": "2023-06-17T01:08:32.345Z"
   },
   {
    "duration": 6,
    "start_time": "2023-06-17T01:08:37.126Z"
   },
   {
    "duration": 10,
    "start_time": "2023-06-17T01:08:38.614Z"
   },
   {
    "duration": 6,
    "start_time": "2023-06-17T01:08:39.492Z"
   },
   {
    "duration": 10,
    "start_time": "2023-06-17T01:08:45.707Z"
   },
   {
    "duration": 6,
    "start_time": "2023-06-17T01:08:46.462Z"
   },
   {
    "duration": 11,
    "start_time": "2023-06-17T01:08:50.805Z"
   },
   {
    "duration": 6,
    "start_time": "2023-06-17T01:08:51.647Z"
   },
   {
    "duration": 10,
    "start_time": "2023-06-17T01:08:56.356Z"
   },
   {
    "duration": 5,
    "start_time": "2023-06-17T01:08:57.077Z"
   },
   {
    "duration": 1463,
    "start_time": "2023-06-17T01:09:23.229Z"
   },
   {
    "duration": 52,
    "start_time": "2023-06-17T01:09:24.694Z"
   },
   {
    "duration": 21,
    "start_time": "2023-06-17T01:09:24.747Z"
   },
   {
    "duration": 6,
    "start_time": "2023-06-17T01:09:24.770Z"
   },
   {
    "duration": 56,
    "start_time": "2023-06-17T01:09:24.778Z"
   },
   {
    "duration": 27,
    "start_time": "2023-06-17T01:09:24.835Z"
   },
   {
    "duration": 36,
    "start_time": "2023-06-17T01:09:24.864Z"
   },
   {
    "duration": 6,
    "start_time": "2023-06-17T01:09:24.902Z"
   },
   {
    "duration": 39,
    "start_time": "2023-06-17T01:09:24.910Z"
   },
   {
    "duration": 79,
    "start_time": "2023-06-17T01:09:24.951Z"
   },
   {
    "duration": 7,
    "start_time": "2023-06-17T01:09:25.032Z"
   },
   {
    "duration": 774,
    "start_time": "2023-06-17T01:09:25.040Z"
   },
   {
    "duration": 4,
    "start_time": "2023-06-17T01:09:25.815Z"
   },
   {
    "duration": 4,
    "start_time": "2023-06-17T01:09:25.837Z"
   },
   {
    "duration": 171,
    "start_time": "2023-06-17T01:09:25.842Z"
   },
   {
    "duration": 33354,
    "start_time": "2023-06-17T01:09:26.015Z"
   },
   {
    "duration": 3,
    "start_time": "2023-06-17T01:09:59.371Z"
   },
   {
    "duration": 13,
    "start_time": "2023-06-17T01:09:59.375Z"
   },
   {
    "duration": 845,
    "start_time": "2023-06-17T01:09:59.390Z"
   },
   {
    "duration": 1700,
    "start_time": "2023-06-17T01:10:00.237Z"
   },
   {
    "duration": 427,
    "start_time": "2023-06-17T01:10:01.939Z"
   },
   {
    "duration": 11,
    "start_time": "2023-06-17T01:10:02.368Z"
   },
   {
    "duration": 27,
    "start_time": "2023-06-17T01:10:02.381Z"
   },
   {
    "duration": 1004,
    "start_time": "2023-06-17T01:10:29.342Z"
   },
   {
    "duration": 1068,
    "start_time": "2023-06-17T01:12:23.746Z"
   },
   {
    "duration": 4,
    "start_time": "2023-06-17T01:12:48.510Z"
   },
   {
    "duration": 4,
    "start_time": "2023-06-17T01:13:03.394Z"
   },
   {
    "duration": 172,
    "start_time": "2023-06-17T01:14:18.029Z"
   },
   {
    "duration": 38263,
    "start_time": "2023-06-17T01:19:32.887Z"
   },
   {
    "duration": 113,
    "start_time": "2023-06-17T01:21:09.262Z"
   },
   {
    "duration": 644,
    "start_time": "2023-06-17T01:21:53.607Z"
   },
   {
    "duration": 139,
    "start_time": "2023-06-17T01:22:01.089Z"
   },
   {
    "duration": 8,
    "start_time": "2023-06-17T01:22:14.818Z"
   },
   {
    "duration": 3,
    "start_time": "2023-06-17T01:22:20.794Z"
   },
   {
    "duration": 4,
    "start_time": "2023-06-17T01:22:24.410Z"
   },
   {
    "duration": 1949,
    "start_time": "2023-06-17T01:23:19.572Z"
   },
   {
    "duration": 2453,
    "start_time": "2023-06-17T01:26:26.380Z"
   },
   {
    "duration": 1309,
    "start_time": "2023-06-17T01:38:16.212Z"
   },
   {
    "duration": 49,
    "start_time": "2023-06-17T01:38:17.523Z"
   },
   {
    "duration": 18,
    "start_time": "2023-06-17T01:38:17.574Z"
   },
   {
    "duration": 7,
    "start_time": "2023-06-17T01:38:17.594Z"
   },
   {
    "duration": 16,
    "start_time": "2023-06-17T01:38:17.602Z"
   },
   {
    "duration": 30,
    "start_time": "2023-06-17T01:38:17.620Z"
   },
   {
    "duration": 32,
    "start_time": "2023-06-17T01:38:17.652Z"
   },
   {
    "duration": 116,
    "start_time": "2023-06-17T01:38:17.686Z"
   },
   {
    "duration": 0,
    "start_time": "2023-06-17T01:38:17.804Z"
   },
   {
    "duration": 0,
    "start_time": "2023-06-17T01:38:17.806Z"
   },
   {
    "duration": 0,
    "start_time": "2023-06-17T01:38:17.807Z"
   },
   {
    "duration": 0,
    "start_time": "2023-06-17T01:38:17.808Z"
   },
   {
    "duration": 0,
    "start_time": "2023-06-17T01:38:17.809Z"
   },
   {
    "duration": 0,
    "start_time": "2023-06-17T01:38:17.811Z"
   },
   {
    "duration": 0,
    "start_time": "2023-06-17T01:38:17.812Z"
   },
   {
    "duration": 0,
    "start_time": "2023-06-17T01:38:17.814Z"
   },
   {
    "duration": 0,
    "start_time": "2023-06-17T01:38:17.832Z"
   },
   {
    "duration": 0,
    "start_time": "2023-06-17T01:38:17.833Z"
   },
   {
    "duration": 0,
    "start_time": "2023-06-17T01:38:17.835Z"
   },
   {
    "duration": 0,
    "start_time": "2023-06-17T01:38:17.836Z"
   },
   {
    "duration": 0,
    "start_time": "2023-06-17T01:38:17.837Z"
   },
   {
    "duration": 0,
    "start_time": "2023-06-17T01:38:17.838Z"
   },
   {
    "duration": 0,
    "start_time": "2023-06-17T01:38:17.840Z"
   },
   {
    "duration": 0,
    "start_time": "2023-06-17T01:38:17.841Z"
   },
   {
    "duration": 0,
    "start_time": "2023-06-17T01:38:17.843Z"
   },
   {
    "duration": 0,
    "start_time": "2023-06-17T01:38:17.844Z"
   },
   {
    "duration": 0,
    "start_time": "2023-06-17T01:38:17.846Z"
   },
   {
    "duration": 0,
    "start_time": "2023-06-17T01:38:17.847Z"
   },
   {
    "duration": 0,
    "start_time": "2023-06-17T01:38:17.848Z"
   },
   {
    "duration": 0,
    "start_time": "2023-06-17T01:38:17.850Z"
   },
   {
    "duration": 0,
    "start_time": "2023-06-17T01:38:17.851Z"
   },
   {
    "duration": 0,
    "start_time": "2023-06-17T01:38:17.852Z"
   },
   {
    "duration": 0,
    "start_time": "2023-06-17T01:38:17.854Z"
   },
   {
    "duration": 1246,
    "start_time": "2023-06-17T01:38:39.179Z"
   },
   {
    "duration": 47,
    "start_time": "2023-06-17T01:38:40.427Z"
   },
   {
    "duration": 19,
    "start_time": "2023-06-17T01:38:40.476Z"
   },
   {
    "duration": 5,
    "start_time": "2023-06-17T01:38:40.497Z"
   },
   {
    "duration": 7,
    "start_time": "2023-06-17T01:38:40.504Z"
   },
   {
    "duration": 16,
    "start_time": "2023-06-17T01:38:40.512Z"
   },
   {
    "duration": 26,
    "start_time": "2023-06-17T01:38:40.529Z"
   },
   {
    "duration": 109,
    "start_time": "2023-06-17T01:38:40.556Z"
   },
   {
    "duration": 0,
    "start_time": "2023-06-17T01:38:40.667Z"
   },
   {
    "duration": 0,
    "start_time": "2023-06-17T01:38:40.669Z"
   },
   {
    "duration": 0,
    "start_time": "2023-06-17T01:38:40.670Z"
   },
   {
    "duration": 0,
    "start_time": "2023-06-17T01:38:40.671Z"
   },
   {
    "duration": 0,
    "start_time": "2023-06-17T01:38:40.672Z"
   },
   {
    "duration": 0,
    "start_time": "2023-06-17T01:38:40.673Z"
   },
   {
    "duration": 0,
    "start_time": "2023-06-17T01:38:40.674Z"
   },
   {
    "duration": 0,
    "start_time": "2023-06-17T01:38:40.675Z"
   },
   {
    "duration": 0,
    "start_time": "2023-06-17T01:38:40.676Z"
   },
   {
    "duration": 0,
    "start_time": "2023-06-17T01:38:40.677Z"
   },
   {
    "duration": 0,
    "start_time": "2023-06-17T01:38:40.678Z"
   },
   {
    "duration": 0,
    "start_time": "2023-06-17T01:38:40.678Z"
   },
   {
    "duration": 0,
    "start_time": "2023-06-17T01:38:40.679Z"
   },
   {
    "duration": 0,
    "start_time": "2023-06-17T01:38:40.680Z"
   },
   {
    "duration": 0,
    "start_time": "2023-06-17T01:38:40.681Z"
   },
   {
    "duration": 0,
    "start_time": "2023-06-17T01:38:40.682Z"
   },
   {
    "duration": 0,
    "start_time": "2023-06-17T01:38:40.683Z"
   },
   {
    "duration": 0,
    "start_time": "2023-06-17T01:38:40.684Z"
   },
   {
    "duration": 0,
    "start_time": "2023-06-17T01:38:40.684Z"
   },
   {
    "duration": 0,
    "start_time": "2023-06-17T01:38:40.685Z"
   },
   {
    "duration": 0,
    "start_time": "2023-06-17T01:38:40.686Z"
   },
   {
    "duration": 0,
    "start_time": "2023-06-17T01:38:40.687Z"
   },
   {
    "duration": 0,
    "start_time": "2023-06-17T01:38:40.688Z"
   },
   {
    "duration": 0,
    "start_time": "2023-06-17T01:38:40.689Z"
   },
   {
    "duration": 0,
    "start_time": "2023-06-17T01:38:40.690Z"
   },
   {
    "duration": 1288,
    "start_time": "2023-06-17T01:38:54.546Z"
   },
   {
    "duration": 47,
    "start_time": "2023-06-17T01:38:55.836Z"
   },
   {
    "duration": 19,
    "start_time": "2023-06-17T01:38:55.885Z"
   },
   {
    "duration": 28,
    "start_time": "2023-06-17T01:38:55.905Z"
   },
   {
    "duration": 15,
    "start_time": "2023-06-17T01:38:55.935Z"
   },
   {
    "duration": 16,
    "start_time": "2023-06-17T01:38:55.951Z"
   },
   {
    "duration": 26,
    "start_time": "2023-06-17T01:38:55.968Z"
   },
   {
    "duration": 8,
    "start_time": "2023-06-17T01:38:55.995Z"
   },
   {
    "duration": 4,
    "start_time": "2023-06-17T01:38:56.005Z"
   },
   {
    "duration": 42,
    "start_time": "2023-06-17T01:38:56.010Z"
   },
   {
    "duration": 7,
    "start_time": "2023-06-17T01:38:56.053Z"
   },
   {
    "duration": 607,
    "start_time": "2023-06-17T01:38:56.061Z"
   },
   {
    "duration": 3,
    "start_time": "2023-06-17T01:38:56.670Z"
   },
   {
    "duration": 5,
    "start_time": "2023-06-17T01:38:56.676Z"
   },
   {
    "duration": 157,
    "start_time": "2023-06-17T01:38:56.683Z"
   },
   {
    "duration": 20968,
    "start_time": "2023-06-17T01:38:56.842Z"
   },
   {
    "duration": 4,
    "start_time": "2023-06-17T01:39:17.812Z"
   },
   {
    "duration": 20,
    "start_time": "2023-06-17T01:39:17.818Z"
   },
   {
    "duration": 763,
    "start_time": "2023-06-17T01:39:17.839Z"
   },
   {
    "duration": 1634,
    "start_time": "2023-06-17T01:39:18.603Z"
   },
   {
    "duration": 401,
    "start_time": "2023-06-17T01:39:20.239Z"
   },
   {
    "duration": 10,
    "start_time": "2023-06-17T01:39:20.642Z"
   },
   {
    "duration": 14,
    "start_time": "2023-06-17T01:39:20.653Z"
   },
   {
    "duration": 992,
    "start_time": "2023-06-17T01:39:20.668Z"
   },
   {
    "duration": 4,
    "start_time": "2023-06-17T01:39:21.662Z"
   },
   {
    "duration": 12,
    "start_time": "2023-06-17T01:39:21.667Z"
   },
   {
    "duration": 190,
    "start_time": "2023-06-17T01:39:21.680Z"
   },
   {
    "duration": 40688,
    "start_time": "2023-06-17T01:39:21.872Z"
   },
   {
    "duration": 4,
    "start_time": "2023-06-17T01:40:02.561Z"
   },
   {
    "duration": 43,
    "start_time": "2023-06-17T01:40:02.567Z"
   },
   {
    "duration": 1694,
    "start_time": "2023-06-17T01:40:02.612Z"
   },
   {
    "duration": 1924,
    "start_time": "2023-06-17T01:40:04.308Z"
   },
   {
    "duration": 405,
    "start_time": "2023-06-17T01:40:06.239Z"
   },
   {
    "duration": 157,
    "start_time": "2023-06-17T01:40:06.647Z"
   },
   {
    "duration": 1040,
    "start_time": "2023-06-17T01:40:39.155Z"
   },
   {
    "duration": 174,
    "start_time": "2023-06-17T01:43:41.637Z"
   },
   {
    "duration": 1046,
    "start_time": "2023-06-17T01:44:21.142Z"
   },
   {
    "duration": 1309,
    "start_time": "2023-06-17T01:45:19.562Z"
   },
   {
    "duration": 49,
    "start_time": "2023-06-17T01:45:20.872Z"
   },
   {
    "duration": 19,
    "start_time": "2023-06-17T01:45:20.922Z"
   },
   {
    "duration": 25,
    "start_time": "2023-06-17T01:45:20.942Z"
   },
   {
    "duration": 14,
    "start_time": "2023-06-17T01:45:20.969Z"
   },
   {
    "duration": 23,
    "start_time": "2023-06-17T01:45:20.984Z"
   },
   {
    "duration": 32,
    "start_time": "2023-06-17T01:45:21.009Z"
   },
   {
    "duration": 8,
    "start_time": "2023-06-17T01:45:21.043Z"
   },
   {
    "duration": 16,
    "start_time": "2023-06-17T01:45:21.052Z"
   },
   {
    "duration": 43,
    "start_time": "2023-06-17T01:45:21.070Z"
   },
   {
    "duration": 16,
    "start_time": "2023-06-17T01:45:21.115Z"
   },
   {
    "duration": 693,
    "start_time": "2023-06-17T01:45:21.133Z"
   },
   {
    "duration": 6,
    "start_time": "2023-06-17T01:45:21.827Z"
   },
   {
    "duration": 9,
    "start_time": "2023-06-17T01:45:21.834Z"
   },
   {
    "duration": 166,
    "start_time": "2023-06-17T01:45:21.844Z"
   },
   {
    "duration": 19225,
    "start_time": "2023-06-17T01:45:22.012Z"
   },
   {
    "duration": 4,
    "start_time": "2023-06-17T01:45:41.238Z"
   },
   {
    "duration": 14,
    "start_time": "2023-06-17T01:45:41.243Z"
   },
   {
    "duration": 1057,
    "start_time": "2023-06-17T01:45:41.258Z"
   },
   {
    "duration": 1419,
    "start_time": "2023-06-17T01:45:42.316Z"
   },
   {
    "duration": 409,
    "start_time": "2023-06-17T01:45:43.737Z"
   },
   {
    "duration": 12,
    "start_time": "2023-06-17T01:45:44.147Z"
   },
   {
    "duration": 35,
    "start_time": "2023-06-17T01:45:44.160Z"
   },
   {
    "duration": 807,
    "start_time": "2023-06-17T01:45:44.197Z"
   },
   {
    "duration": 4,
    "start_time": "2023-06-17T01:45:45.005Z"
   },
   {
    "duration": 48,
    "start_time": "2023-06-17T01:45:45.011Z"
   },
   {
    "duration": 234,
    "start_time": "2023-06-17T01:45:45.061Z"
   },
   {
    "duration": 19696,
    "start_time": "2023-06-17T01:45:45.298Z"
   },
   {
    "duration": 4,
    "start_time": "2023-06-17T01:46:04.996Z"
   },
   {
    "duration": 24,
    "start_time": "2023-06-17T01:46:05.001Z"
   },
   {
    "duration": 1650,
    "start_time": "2023-06-17T01:46:05.027Z"
   },
   {
    "duration": 1956,
    "start_time": "2023-06-17T01:46:06.679Z"
   },
   {
    "duration": 412,
    "start_time": "2023-06-17T01:46:08.637Z"
   },
   {
    "duration": 149,
    "start_time": "2023-06-17T01:46:09.051Z"
   },
   {
    "duration": 783,
    "start_time": "2023-06-17T01:46:41.240Z"
   },
   {
    "duration": 603,
    "start_time": "2023-06-17T01:47:00.945Z"
   },
   {
    "duration": 156,
    "start_time": "2023-06-17T01:48:22.899Z"
   },
   {
    "duration": 658,
    "start_time": "2023-06-17T01:49:22.674Z"
   },
   {
    "duration": 9,
    "start_time": "2023-06-17T01:53:17.482Z"
   },
   {
    "duration": 1352,
    "start_time": "2023-06-17T01:53:22.761Z"
   },
   {
    "duration": 50,
    "start_time": "2023-06-17T01:53:24.116Z"
   },
   {
    "duration": 22,
    "start_time": "2023-06-17T01:53:24.168Z"
   },
   {
    "duration": 6,
    "start_time": "2023-06-17T01:53:24.191Z"
   },
   {
    "duration": 5,
    "start_time": "2023-06-17T01:53:24.199Z"
   },
   {
    "duration": 26,
    "start_time": "2023-06-17T01:53:24.206Z"
   },
   {
    "duration": 41,
    "start_time": "2023-06-17T01:53:24.234Z"
   },
   {
    "duration": 9,
    "start_time": "2023-06-17T01:53:24.277Z"
   },
   {
    "duration": 2,
    "start_time": "2023-06-17T01:53:24.288Z"
   },
   {
    "duration": 35,
    "start_time": "2023-06-17T01:53:24.291Z"
   },
   {
    "duration": 6,
    "start_time": "2023-06-17T01:53:24.332Z"
   },
   {
    "duration": 993,
    "start_time": "2023-06-17T01:53:24.339Z"
   },
   {
    "duration": 3,
    "start_time": "2023-06-17T01:53:25.334Z"
   },
   {
    "duration": 21,
    "start_time": "2023-06-17T01:53:25.340Z"
   },
   {
    "duration": 190,
    "start_time": "2023-06-17T01:53:25.362Z"
   },
   {
    "duration": 13044,
    "start_time": "2023-06-17T01:53:25.554Z"
   },
   {
    "duration": 4,
    "start_time": "2023-06-17T01:53:38.600Z"
   },
   {
    "duration": 6,
    "start_time": "2023-06-17T01:53:38.605Z"
   },
   {
    "duration": 585,
    "start_time": "2023-06-17T01:53:38.612Z"
   },
   {
    "duration": 1740,
    "start_time": "2023-06-17T01:53:39.198Z"
   },
   {
    "duration": 407,
    "start_time": "2023-06-17T01:53:40.941Z"
   },
   {
    "duration": 9,
    "start_time": "2023-06-17T01:53:41.349Z"
   },
   {
    "duration": 7,
    "start_time": "2023-06-17T01:53:41.360Z"
   },
   {
    "duration": 364,
    "start_time": "2023-06-17T01:53:41.369Z"
   },
   {
    "duration": 4,
    "start_time": "2023-06-17T01:53:41.734Z"
   },
   {
    "duration": 5,
    "start_time": "2023-06-17T01:53:41.740Z"
   },
   {
    "duration": 155,
    "start_time": "2023-06-17T01:53:41.747Z"
   },
   {
    "duration": 5500,
    "start_time": "2023-06-17T01:53:41.904Z"
   },
   {
    "duration": 4,
    "start_time": "2023-06-17T01:53:47.406Z"
   },
   {
    "duration": 10,
    "start_time": "2023-06-17T01:53:47.412Z"
   },
   {
    "duration": 323,
    "start_time": "2023-06-17T01:53:47.424Z"
   },
   {
    "duration": 1284,
    "start_time": "2023-06-17T01:53:47.748Z"
   },
   {
    "duration": 398,
    "start_time": "2023-06-17T01:53:49.038Z"
   },
   {
    "duration": 1241,
    "start_time": "2023-06-17T01:54:55.196Z"
   },
   {
    "duration": 48,
    "start_time": "2023-06-17T01:54:56.439Z"
   },
   {
    "duration": 21,
    "start_time": "2023-06-17T01:54:56.488Z"
   },
   {
    "duration": 5,
    "start_time": "2023-06-17T01:54:56.510Z"
   },
   {
    "duration": 27,
    "start_time": "2023-06-17T01:54:56.517Z"
   },
   {
    "duration": 35,
    "start_time": "2023-06-17T01:54:56.546Z"
   },
   {
    "duration": 29,
    "start_time": "2023-06-17T01:54:56.583Z"
   },
   {
    "duration": 9,
    "start_time": "2023-06-17T01:54:56.614Z"
   },
   {
    "duration": 9,
    "start_time": "2023-06-17T01:54:56.624Z"
   },
   {
    "duration": 39,
    "start_time": "2023-06-17T01:54:56.635Z"
   },
   {
    "duration": 7,
    "start_time": "2023-06-17T01:54:56.675Z"
   },
   {
    "duration": 682,
    "start_time": "2023-06-17T01:54:56.683Z"
   },
   {
    "duration": 4,
    "start_time": "2023-06-17T01:54:57.366Z"
   },
   {
    "duration": 13,
    "start_time": "2023-06-17T01:54:57.374Z"
   },
   {
    "duration": 178,
    "start_time": "2023-06-17T01:54:57.388Z"
   },
   {
    "duration": 12120,
    "start_time": "2023-06-17T01:54:57.568Z"
   },
   {
    "duration": 4,
    "start_time": "2023-06-17T01:55:09.690Z"
   },
   {
    "duration": 8,
    "start_time": "2023-06-17T01:55:09.695Z"
   },
   {
    "duration": 581,
    "start_time": "2023-06-17T01:55:09.705Z"
   },
   {
    "duration": 1749,
    "start_time": "2023-06-17T01:55:10.288Z"
   },
   {
    "duration": 412,
    "start_time": "2023-06-17T01:55:12.039Z"
   },
   {
    "duration": 10,
    "start_time": "2023-06-17T01:55:12.452Z"
   },
   {
    "duration": 6,
    "start_time": "2023-06-17T01:55:12.463Z"
   },
   {
    "duration": 702,
    "start_time": "2023-06-17T01:55:12.470Z"
   },
   {
    "duration": 4,
    "start_time": "2023-06-17T01:55:13.173Z"
   },
   {
    "duration": 10,
    "start_time": "2023-06-17T01:55:13.178Z"
   },
   {
    "duration": 173,
    "start_time": "2023-06-17T01:55:13.190Z"
   },
   {
    "duration": 27078,
    "start_time": "2023-06-17T01:55:13.365Z"
   },
   {
    "duration": 4,
    "start_time": "2023-06-17T01:55:40.445Z"
   },
   {
    "duration": 14,
    "start_time": "2023-06-17T01:55:40.450Z"
   },
   {
    "duration": 627,
    "start_time": "2023-06-17T01:55:40.465Z"
   },
   {
    "duration": 1839,
    "start_time": "2023-06-17T01:55:41.093Z"
   },
   {
    "duration": 403,
    "start_time": "2023-06-17T01:55:42.939Z"
   },
   {
    "duration": 156,
    "start_time": "2023-06-17T01:56:32.577Z"
   },
   {
    "duration": 25,
    "start_time": "2023-06-17T01:59:09.799Z"
   },
   {
    "duration": 24,
    "start_time": "2023-06-17T02:00:01.606Z"
   },
   {
    "duration": 53,
    "start_time": "2023-06-18T17:10:21.128Z"
   },
   {
    "duration": 1454,
    "start_time": "2023-06-18T17:10:44.179Z"
   },
   {
    "duration": 102,
    "start_time": "2023-06-18T17:10:45.635Z"
   },
   {
    "duration": 20,
    "start_time": "2023-06-18T17:10:45.738Z"
   },
   {
    "duration": 5,
    "start_time": "2023-06-18T17:10:45.759Z"
   },
   {
    "duration": 11,
    "start_time": "2023-06-18T17:10:45.766Z"
   },
   {
    "duration": 3,
    "start_time": "2023-06-18T17:10:45.779Z"
   },
   {
    "duration": 13,
    "start_time": "2023-06-18T17:10:45.784Z"
   },
   {
    "duration": 28,
    "start_time": "2023-06-18T17:10:45.799Z"
   },
   {
    "duration": 8,
    "start_time": "2023-06-18T17:10:45.828Z"
   },
   {
    "duration": 3,
    "start_time": "2023-06-18T17:10:45.837Z"
   },
   {
    "duration": 42,
    "start_time": "2023-06-18T17:10:45.841Z"
   },
   {
    "duration": 6,
    "start_time": "2023-06-18T17:10:45.884Z"
   },
   {
    "duration": 685,
    "start_time": "2023-06-18T17:10:45.891Z"
   },
   {
    "duration": 4,
    "start_time": "2023-06-18T17:10:46.578Z"
   },
   {
    "duration": 5,
    "start_time": "2023-06-18T17:10:46.583Z"
   },
   {
    "duration": 180,
    "start_time": "2023-06-18T17:10:46.589Z"
   },
   {
    "duration": 23073,
    "start_time": "2023-06-18T17:10:46.771Z"
   },
   {
    "duration": 3,
    "start_time": "2023-06-18T17:11:09.846Z"
   },
   {
    "duration": 7,
    "start_time": "2023-06-18T17:11:09.851Z"
   },
   {
    "duration": 672,
    "start_time": "2023-06-18T17:11:09.859Z"
   },
   {
    "duration": 889,
    "start_time": "2023-06-18T17:11:10.532Z"
   },
   {
    "duration": 344,
    "start_time": "2023-06-18T17:11:11.423Z"
   },
   {
    "duration": 11,
    "start_time": "2023-06-18T17:11:11.769Z"
   },
   {
    "duration": 11,
    "start_time": "2023-06-18T17:11:11.781Z"
   },
   {
    "duration": 1007,
    "start_time": "2023-06-18T17:11:11.793Z"
   },
   {
    "duration": 3,
    "start_time": "2023-06-18T17:11:12.801Z"
   },
   {
    "duration": 16,
    "start_time": "2023-06-18T17:11:12.805Z"
   },
   {
    "duration": 182,
    "start_time": "2023-06-18T17:11:12.822Z"
   },
   {
    "duration": 23365,
    "start_time": "2023-06-18T17:11:13.006Z"
   },
   {
    "duration": 4,
    "start_time": "2023-06-18T17:11:36.372Z"
   },
   {
    "duration": 41,
    "start_time": "2023-06-18T17:11:36.377Z"
   },
   {
    "duration": 687,
    "start_time": "2023-06-18T17:11:36.419Z"
   },
   {
    "duration": 1318,
    "start_time": "2023-06-18T17:11:37.107Z"
   },
   {
    "duration": 311,
    "start_time": "2023-06-18T17:11:38.427Z"
   },
   {
    "duration": 20,
    "start_time": "2023-06-18T17:11:38.740Z"
   },
   {
    "duration": 20,
    "start_time": "2023-06-18T17:11:38.761Z"
   },
   {
    "duration": 132,
    "start_time": "2023-06-18T17:11:38.784Z"
   },
   {
    "duration": 915,
    "start_time": "2023-06-18T17:11:54.706Z"
   },
   {
    "duration": 1298,
    "start_time": "2023-06-18T17:12:38.996Z"
   },
   {
    "duration": 47,
    "start_time": "2023-06-18T17:12:42.725Z"
   },
   {
    "duration": 20,
    "start_time": "2023-06-18T17:12:44.891Z"
   },
   {
    "duration": 6,
    "start_time": "2023-06-18T17:12:46.984Z"
   },
   {
    "duration": 6,
    "start_time": "2023-06-18T17:13:06.373Z"
   },
   {
    "duration": 12,
    "start_time": "2023-06-18T17:13:24.019Z"
   },
   {
    "duration": 25,
    "start_time": "2023-06-18T17:14:08.116Z"
   },
   {
    "duration": 16,
    "start_time": "2023-06-18T17:14:30.351Z"
   },
   {
    "duration": 13,
    "start_time": "2023-06-18T17:14:59.255Z"
   },
   {
    "duration": 108,
    "start_time": "2023-06-18T17:15:18.835Z"
   },
   {
    "duration": 11,
    "start_time": "2023-06-18T17:15:48.237Z"
   },
   {
    "duration": 1124,
    "start_time": "2023-06-18T17:16:51.792Z"
   },
   {
    "duration": 3,
    "start_time": "2023-06-18T17:18:27.336Z"
   },
   {
    "duration": 21,
    "start_time": "2023-06-18T17:23:04.649Z"
   },
   {
    "duration": 17,
    "start_time": "2023-06-18T17:23:17.533Z"
   },
   {
    "duration": 23,
    "start_time": "2023-06-18T17:24:25.399Z"
   },
   {
    "duration": 20,
    "start_time": "2023-06-18T17:24:33.358Z"
   },
   {
    "duration": 35,
    "start_time": "2023-06-18T17:24:36.848Z"
   },
   {
    "duration": 32,
    "start_time": "2023-06-18T17:24:40.978Z"
   },
   {
    "duration": 36,
    "start_time": "2023-06-18T17:25:57.971Z"
   },
   {
    "duration": 120,
    "start_time": "2023-06-18T17:27:06.513Z"
   },
   {
    "duration": 123,
    "start_time": "2023-06-18T17:27:20.065Z"
   },
   {
    "duration": 119,
    "start_time": "2023-06-18T17:27:34.280Z"
   },
   {
    "duration": 1248,
    "start_time": "2023-06-18T17:27:55.897Z"
   },
   {
    "duration": 1343,
    "start_time": "2023-06-18T17:29:03.250Z"
   },
   {
    "duration": 56,
    "start_time": "2023-06-18T17:29:06.290Z"
   },
   {
    "duration": 29,
    "start_time": "2023-06-18T17:29:08.419Z"
   },
   {
    "duration": 6,
    "start_time": "2023-06-18T17:29:10.221Z"
   },
   {
    "duration": 22,
    "start_time": "2023-06-18T17:29:12.222Z"
   },
   {
    "duration": 18,
    "start_time": "2023-06-18T17:29:15.113Z"
   },
   {
    "duration": 28,
    "start_time": "2023-06-18T17:29:17.512Z"
   },
   {
    "duration": 10,
    "start_time": "2023-06-18T17:34:11.366Z"
   },
   {
    "duration": 3,
    "start_time": "2023-06-18T17:38:18.062Z"
   },
   {
    "duration": 9,
    "start_time": "2023-06-18T17:42:00.641Z"
   },
   {
    "duration": 11,
    "start_time": "2023-06-18T17:42:35.165Z"
   },
   {
    "duration": 11,
    "start_time": "2023-06-18T17:42:39.979Z"
   },
   {
    "duration": 23,
    "start_time": "2023-06-18T17:46:55.475Z"
   },
   {
    "duration": 25,
    "start_time": "2023-06-18T17:47:43.397Z"
   },
   {
    "duration": 7,
    "start_time": "2023-06-18T17:59:39.379Z"
   },
   {
    "duration": 697,
    "start_time": "2023-06-18T17:59:41.480Z"
   },
   {
    "duration": 3,
    "start_time": "2023-06-18T17:59:44.662Z"
   },
   {
    "duration": 5,
    "start_time": "2023-06-18T17:59:45.554Z"
   },
   {
    "duration": 177,
    "start_time": "2023-06-18T18:00:01.328Z"
   },
   {
    "duration": 22227,
    "start_time": "2023-06-18T18:01:48.799Z"
   },
   {
    "duration": 5,
    "start_time": "2023-06-18T18:02:11.028Z"
   },
   {
    "duration": 25,
    "start_time": "2023-06-18T18:02:11.034Z"
   },
   {
    "duration": 1017,
    "start_time": "2023-06-18T18:02:36.872Z"
   },
   {
    "duration": 795,
    "start_time": "2023-06-18T18:02:59.164Z"
   },
   {
    "duration": 323,
    "start_time": "2023-06-18T18:03:01.142Z"
   },
   {
    "duration": 10,
    "start_time": "2023-06-18T18:13:57.576Z"
   },
   {
    "duration": 6,
    "start_time": "2023-06-18T18:14:00.499Z"
   },
   {
    "duration": 984,
    "start_time": "2023-06-18T18:14:04.776Z"
   },
   {
    "duration": 4,
    "start_time": "2023-06-18T18:14:07.943Z"
   },
   {
    "duration": 4,
    "start_time": "2023-06-18T18:14:09.185Z"
   },
   {
    "duration": 194,
    "start_time": "2023-06-18T18:14:23.585Z"
   },
   {
    "duration": 18766,
    "start_time": "2023-06-18T18:26:54.392Z"
   },
   {
    "duration": 3,
    "start_time": "2023-06-18T18:27:13.160Z"
   },
   {
    "duration": 27,
    "start_time": "2023-06-18T18:27:13.165Z"
   },
   {
    "duration": 609,
    "start_time": "2023-06-18T18:27:58.804Z"
   },
   {
    "duration": 1070,
    "start_time": "2023-06-18T18:28:20.771Z"
   },
   {
    "duration": 306,
    "start_time": "2023-06-18T18:28:22.730Z"
   },
   {
    "duration": 22,
    "start_time": "2023-06-18T18:39:33.835Z"
   },
   {
    "duration": 28,
    "start_time": "2023-06-18T18:39:37.113Z"
   },
   {
    "duration": 7,
    "start_time": "2023-06-18T20:32:56.101Z"
   },
   {
    "duration": 111,
    "start_time": "2023-06-18T20:33:01.852Z"
   },
   {
    "duration": 25,
    "start_time": "2023-06-18T20:33:09.698Z"
   },
   {
    "duration": 20,
    "start_time": "2023-06-18T20:33:37.044Z"
   },
   {
    "duration": 17899,
    "start_time": "2023-06-18T20:35:10.615Z"
   },
   {
    "duration": 4,
    "start_time": "2023-06-18T20:35:47.177Z"
   },
   {
    "duration": 4,
    "start_time": "2023-06-18T20:35:48.617Z"
   },
   {
    "duration": 608,
    "start_time": "2023-06-18T20:36:17.679Z"
   },
   {
    "duration": 18,
    "start_time": "2023-06-18T20:37:24.006Z"
   },
   {
    "duration": 12,
    "start_time": "2023-06-18T20:37:28.634Z"
   },
   {
    "duration": 51,
    "start_time": "2023-06-19T00:05:50.734Z"
   }
  ],
  "kernelspec": {
   "display_name": "Python 3 (ipykernel)",
   "language": "python",
   "name": "python3"
  },
  "language_info": {
   "codemirror_mode": {
    "name": "ipython",
    "version": 3
   },
   "file_extension": ".py",
   "mimetype": "text/x-python",
   "name": "python",
   "nbconvert_exporter": "python",
   "pygments_lexer": "ipython3",
   "version": "3.9.5"
  },
  "toc": {
   "base_numbering": 1,
   "nav_menu": {},
   "number_sections": true,
   "sideBar": true,
   "skip_h1_title": true,
   "title_cell": "Содержание",
   "title_sidebar": "Contents",
   "toc_cell": true,
   "toc_position": {
    "height": "calc(100% - 180px)",
    "left": "10px",
    "top": "150px",
    "width": "293.188px"
   },
   "toc_section_display": true,
   "toc_window_display": true
  }
 },
 "nbformat": 4,
 "nbformat_minor": 2
}

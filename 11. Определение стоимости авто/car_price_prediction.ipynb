{
 "cells": [
  {
   "cell_type": "markdown",
   "metadata": {},
   "source": [
    "<div class=\"alert alert-success\">\n",
    "<font size=\"4\"><b>✔️ Комментарий ревьюера V3</b></font>\n",
    "    <br /> \n",
    "    <font size=\"3\", color = \"black\">\n",
    "<br />    \n",
    "Приветствую снова!\n",
    "\n",
    "Во-первых, извиняюсь за долгую проверку. Вчера вечером с сервером Яндекса были проблема, ревью было невозожно физически, сейчас разгребаю.\n",
    "\n",
    "На тему проекта - сейчас всё норм, можно принимать.\n",
    "\n",
    "Смело переходи к изучению временных рядов 🙂"
   ]
  },
  {
   "cell_type": "markdown",
   "metadata": {},
   "source": [
    "<div class=\"alert alert-info\">\n",
    "<font size=\"4\">🍕<b> Комментарий ревьюера V2</b></font>\n",
    "    <br /> \n",
    "    <font size=\"3\", color = \"black\">\n",
    "<br />\n",
    "Привет ещё раз!\n",
    "\n",
    "Сталo заметнo лучше, нo чуть-чуть пoпрoшу тебя дoрабoтать:\n",
    "\n",
    "+ Вывoдить на экран метрики крocc-валидации\n",
    "\n",
    "+ Унифицирoвать числo фoлдoв крocc-валидации\n",
    "\n",
    "+ Вычислить время именнo oбучения мoдели, а не крocc-валидации\n",
    "\n",
    "+ Все интересующие заказчика характеристики, включая время на пoлучение предсказание каждoй из мoделей дoлжны быть измерены и выведены на экран дo тестирoвания лучшей из мoделей\n",
    "\n",
    "В целoм, ничегo oсoбo слoжнoгo. Так чтo жду нoвую oтправку с верoй, чтo ещё oдна не пoтребуется."
   ]
  },
  {
   "cell_type": "markdown",
   "metadata": {},
   "source": [
    "<div class=\"alert alert-info\">\n",
    "<font size=\"4\">🙂<b> Комментарий студента</b></font>\n",
    "    <br /> \n",
    "    <font size=\"3\", color = \"black\">\n",
    "<br /> \n",
    "Никита, привет! \n",
    "\n",
    "Из проделанных шагов:\n",
    "\n",
    "+ Вывод метрики кросс-валидации добавлена\n",
    "\n",
    "+ Сделал для всех моделей число фолдов 3 (единственное я не совсем понял, почему для подбора гиперпараметров и обучения моделей нужны одинаковые фолды? Буду признателен, если объяснишь)\n",
    "\n",
    "+ Добавил валидационную выборку, чтобы сравнивать модели и распределил ячейки на обучающую/прогнозирующую, а на другой выдает метрику кросс-валидации\n",
    "\n",
    "    </font>\n",
    "</div>"
   ]
  },
  {
   "cell_type": "markdown",
   "metadata": {},
   "source": [
    "<div class=\"alert alert-info\">\n",
    "<font size=\"4\">🍕<b> Комментарий ревьюера V3</b></font>\n",
    "    <br /> \n",
    "    <font size=\"3\", color = \"black\">\n",
    "<br />\n",
    "Oбьясню на тему фoлдoв сейчас. Чтобы исключить фактор случайности мы должны валидировать модели на одних и тех же данных. Валидировать на разном числе фолдов это всё равно что для одной модели отделить одну валидационную выборку, а для другой - другую.\n",
    "\n",
    "Когда ты разделил на 3 фолда то у тебя каждый раз модель обучается на 2/3 датасета, а когда на 5 фолдов - на 4/5 датасета. Разумеется, если мы обучаем модель на 80% данных, это более эффективно, чем учиться на 67%. Не очень корректно сравнивать."
   ]
  },
  {
   "cell_type": "markdown",
   "metadata": {},
   "source": [
    "<div class=\"alert alert-info\">\n",
    "<font size=\"4\"><b>Комментарий ревьюера</b></font>\n",
    "    <br /> \n",
    "    <font size=\"3\", color = \"black\">\n",
    "<br />\n",
    "    Привет, Александр! Спасибо, что прислал задание :) <br>Меня зовут Никита Сон и я буду проверять твой проект. Предлагаю обращаться друг к другу на ты, как это принято в Практикуме, если ты не против. Но если хочешь на Вы - не буду возражать 🙂\n",
    "        \n",
    "Поехали 🚀\n",
    "    <br />\n",
    "\n",
    "Мои комментарии обозначены пометкой <b>Комментарий ревьюера</b>. При внесении правок в проект, пожалуйста, не меняй и не удаляй их т.к. дальнейшая проверка будет происходить в том числе на основе того, исправлены замечания в комментариях или нет. Зато ты всегда можешь оставить свои комментарии для меня :)\n",
    "    </font>\n",
    "</div>\n",
    "\n",
    "<div class=\"alert alert-success\">\n",
    "<font size=\"4\"><b>✔️ Комментарий ревьюера</b></font>\n",
    "    <br /> \n",
    "    <font size=\"3\", color = \"black\">\n",
    "<br />\n",
    "В зелёных блоках будут позитивные комментарии\n",
    "<br />\n",
    "    </font>\n",
    "</div>\n",
    "\n",
    "<div class=\"alert alert-warning\">\n",
    "<font size=\"4\"><b>⚠️ Комментарий ревьюера</b></font>\n",
    "    <br /> \n",
    "    <font size=\"3\", color = \"black\">\n",
    "<br />\n",
    "В жёлтых - некритичные замечания\n",
    "    </font>\n",
    "</div>\n",
    "\n",
    "<div class=\"alert alert-danger\">\n",
    "<font size=\"4\"><b>❌ Комментарий ревьюера</b></font>\n",
    "    <br /> \n",
    "    <font size=\"3\", color = \"black\">\n",
    "<br /> \n",
    "В красных - важные замечания, которые надо обязательно устранить\n",
    "    </font>\n",
    "</div>\n",
    "\n",
    "<div class=\"alert alert-info\">\n",
    "<font size=\"4\">🍕<b> Комментарий ревьюера</b></font>\n",
    "    <br /> \n",
    "    <font size=\"3\", color = \"black\">\n",
    "<br /> \n",
    "В синих с пиццей - различные нейтральные сообщения, советы на будещее и прочее.\n",
    "    </font>\n",
    "</div>"
   ]
  },
  {
   "cell_type": "markdown",
   "metadata": {},
   "source": [
    "# Определение стоимости автомобилей"
   ]
  },
  {
   "cell_type": "markdown",
   "metadata": {},
   "source": [
    "Сервис по продаже автомобилей с пробегом «Не бит, не крашен» разрабатывает приложение для привлечения новых клиентов. В нём можно быстро узнать рыночную стоимость своего автомобиля. В вашем распоряжении исторические данные: технические характеристики, комплектации и цены автомобилей. Вам нужно построить модель для определения стоимости. \n",
    "\n",
    "Заказчику важны:\n",
    "\n",
    "- качество предсказания;\n",
    "- скорость предсказания;\n",
    "- время обучения."
   ]
  },
  {
   "cell_type": "markdown",
   "metadata": {},
   "source": [
    "## Подготовка данных"
   ]
  },
  {
   "cell_type": "code",
   "execution_count": 1,
   "metadata": {},
   "outputs": [
    {
     "name": "stdout",
     "output_type": "stream",
     "text": [
      "Requirement already satisfied: fast_ml in /Users/aleksandrfilippov/opt/anaconda3/envs/ds_practicum_env/lib/python3.9/site-packages (3.68)\n"
     ]
    }
   ],
   "source": [
    "!pip install fast_ml"
   ]
  },
  {
   "cell_type": "code",
   "execution_count": 2,
   "metadata": {
    "tags": []
   },
   "outputs": [],
   "source": [
    "import os\n",
    "\n",
    "import pandas as pd\n",
    "\n",
    "import sklearn\n",
    "from sklearn.preprocessing import StandardScaler, OneHotEncoder\n",
    "from sklearn.metrics import mean_squared_error\n",
    "from sklearn.model_selection import cross_val_score, RandomizedSearchCV\n",
    "from sklearn.linear_model import LinearRegression\n",
    "from sklearn.neighbors import KNeighborsRegressor\n",
    "\n",
    "from fast_ml.model_development import train_valid_test_split\n",
    "\n",
    "import numpy as np\n",
    "\n",
    "import lightgbm as lgb\n",
    "\n",
    "from scipy import stats as st\n",
    "\n",
    "import matplotlib.pyplot as plt\n",
    "\n",
    "import warnings\n",
    "warnings.filterwarnings('ignore')"
   ]
  },
  {
   "cell_type": "code",
   "execution_count": 3,
   "metadata": {},
   "outputs": [],
   "source": [
    "RANDOM_STATE = 42"
   ]
  },
  {
   "cell_type": "code",
   "execution_count": 4,
   "metadata": {},
   "outputs": [],
   "source": [
    "pth1 = '/datasets/autos.csv'\n",
    "pth2 = '/Users/aleksandrfilippov/Downloads/autos.csv'\n",
    "\n",
    "if os.path.exists(pth1):\n",
    "    df = pd.read_csv(pth1)\n",
    "elif os.path.exists(pth2):\n",
    "    df = pd.read_csv(pth2)\n",
    "else:\n",
    "    print('Something is wrong')"
   ]
  },
  {
   "cell_type": "markdown",
   "metadata": {},
   "source": [
    "<div class=\"alert alert-success\">\n",
    "<font size=\"4\"><b>✔️ Комментарий ревьюера</b></font>\n",
    "    <br /> \n",
    "    <font size=\"3\", color = \"black\">\n",
    "<br />    \n",
    "Спасибо, что делаешь безопасную загрузку данных с помощью try except. Тут за многими невнимательными студентами приходится по доброте душевной исправлять, и не только в текущем проекте :)"
   ]
  },
  {
   "cell_type": "code",
   "execution_count": 5,
   "metadata": {},
   "outputs": [
    {
     "name": "stdout",
     "output_type": "stream",
     "text": [
      "<class 'pandas.core.frame.DataFrame'>\n",
      "RangeIndex: 354369 entries, 0 to 354368\n",
      "Data columns (total 16 columns):\n",
      " #   Column             Non-Null Count   Dtype \n",
      "---  ------             --------------   ----- \n",
      " 0   DateCrawled        354369 non-null  object\n",
      " 1   Price              354369 non-null  int64 \n",
      " 2   VehicleType        316879 non-null  object\n",
      " 3   RegistrationYear   354369 non-null  int64 \n",
      " 4   Gearbox            334536 non-null  object\n",
      " 5   Power              354369 non-null  int64 \n",
      " 6   Model              334664 non-null  object\n",
      " 7   Kilometer          354369 non-null  int64 \n",
      " 8   RegistrationMonth  354369 non-null  int64 \n",
      " 9   FuelType           321474 non-null  object\n",
      " 10  Brand              354369 non-null  object\n",
      " 11  Repaired           283215 non-null  object\n",
      " 12  DateCreated        354369 non-null  object\n",
      " 13  NumberOfPictures   354369 non-null  int64 \n",
      " 14  PostalCode         354369 non-null  int64 \n",
      " 15  LastSeen           354369 non-null  object\n",
      "dtypes: int64(7), object(9)\n",
      "memory usage: 43.3+ MB\n"
     ]
    }
   ],
   "source": [
    "df.info()"
   ]
  },
  {
   "cell_type": "code",
   "execution_count": 6,
   "metadata": {},
   "outputs": [
    {
     "data": {
      "text/html": [
       "<div>\n",
       "<style scoped>\n",
       "    .dataframe tbody tr th:only-of-type {\n",
       "        vertical-align: middle;\n",
       "    }\n",
       "\n",
       "    .dataframe tbody tr th {\n",
       "        vertical-align: top;\n",
       "    }\n",
       "\n",
       "    .dataframe thead th {\n",
       "        text-align: right;\n",
       "    }\n",
       "</style>\n",
       "<table border=\"1\" class=\"dataframe\">\n",
       "  <thead>\n",
       "    <tr style=\"text-align: right;\">\n",
       "      <th></th>\n",
       "      <th>DateCrawled</th>\n",
       "      <th>Price</th>\n",
       "      <th>VehicleType</th>\n",
       "      <th>RegistrationYear</th>\n",
       "      <th>Gearbox</th>\n",
       "      <th>Power</th>\n",
       "      <th>Model</th>\n",
       "      <th>Kilometer</th>\n",
       "      <th>RegistrationMonth</th>\n",
       "      <th>FuelType</th>\n",
       "      <th>Brand</th>\n",
       "      <th>Repaired</th>\n",
       "      <th>DateCreated</th>\n",
       "      <th>NumberOfPictures</th>\n",
       "      <th>PostalCode</th>\n",
       "      <th>LastSeen</th>\n",
       "    </tr>\n",
       "  </thead>\n",
       "  <tbody>\n",
       "    <tr>\n",
       "      <th>0</th>\n",
       "      <td>2016-03-24 11:52:17</td>\n",
       "      <td>480</td>\n",
       "      <td>NaN</td>\n",
       "      <td>1993</td>\n",
       "      <td>manual</td>\n",
       "      <td>0</td>\n",
       "      <td>golf</td>\n",
       "      <td>150000</td>\n",
       "      <td>0</td>\n",
       "      <td>petrol</td>\n",
       "      <td>volkswagen</td>\n",
       "      <td>NaN</td>\n",
       "      <td>2016-03-24 00:00:00</td>\n",
       "      <td>0</td>\n",
       "      <td>70435</td>\n",
       "      <td>2016-04-07 03:16:57</td>\n",
       "    </tr>\n",
       "    <tr>\n",
       "      <th>1</th>\n",
       "      <td>2016-03-24 10:58:45</td>\n",
       "      <td>18300</td>\n",
       "      <td>coupe</td>\n",
       "      <td>2011</td>\n",
       "      <td>manual</td>\n",
       "      <td>190</td>\n",
       "      <td>NaN</td>\n",
       "      <td>125000</td>\n",
       "      <td>5</td>\n",
       "      <td>gasoline</td>\n",
       "      <td>audi</td>\n",
       "      <td>yes</td>\n",
       "      <td>2016-03-24 00:00:00</td>\n",
       "      <td>0</td>\n",
       "      <td>66954</td>\n",
       "      <td>2016-04-07 01:46:50</td>\n",
       "    </tr>\n",
       "    <tr>\n",
       "      <th>2</th>\n",
       "      <td>2016-03-14 12:52:21</td>\n",
       "      <td>9800</td>\n",
       "      <td>suv</td>\n",
       "      <td>2004</td>\n",
       "      <td>auto</td>\n",
       "      <td>163</td>\n",
       "      <td>grand</td>\n",
       "      <td>125000</td>\n",
       "      <td>8</td>\n",
       "      <td>gasoline</td>\n",
       "      <td>jeep</td>\n",
       "      <td>NaN</td>\n",
       "      <td>2016-03-14 00:00:00</td>\n",
       "      <td>0</td>\n",
       "      <td>90480</td>\n",
       "      <td>2016-04-05 12:47:46</td>\n",
       "    </tr>\n",
       "    <tr>\n",
       "      <th>3</th>\n",
       "      <td>2016-03-17 16:54:04</td>\n",
       "      <td>1500</td>\n",
       "      <td>small</td>\n",
       "      <td>2001</td>\n",
       "      <td>manual</td>\n",
       "      <td>75</td>\n",
       "      <td>golf</td>\n",
       "      <td>150000</td>\n",
       "      <td>6</td>\n",
       "      <td>petrol</td>\n",
       "      <td>volkswagen</td>\n",
       "      <td>no</td>\n",
       "      <td>2016-03-17 00:00:00</td>\n",
       "      <td>0</td>\n",
       "      <td>91074</td>\n",
       "      <td>2016-03-17 17:40:17</td>\n",
       "    </tr>\n",
       "    <tr>\n",
       "      <th>4</th>\n",
       "      <td>2016-03-31 17:25:20</td>\n",
       "      <td>3600</td>\n",
       "      <td>small</td>\n",
       "      <td>2008</td>\n",
       "      <td>manual</td>\n",
       "      <td>69</td>\n",
       "      <td>fabia</td>\n",
       "      <td>90000</td>\n",
       "      <td>7</td>\n",
       "      <td>gasoline</td>\n",
       "      <td>skoda</td>\n",
       "      <td>no</td>\n",
       "      <td>2016-03-31 00:00:00</td>\n",
       "      <td>0</td>\n",
       "      <td>60437</td>\n",
       "      <td>2016-04-06 10:17:21</td>\n",
       "    </tr>\n",
       "  </tbody>\n",
       "</table>\n",
       "</div>"
      ],
      "text/plain": [
       "           DateCrawled  Price VehicleType  RegistrationYear Gearbox  Power  \\\n",
       "0  2016-03-24 11:52:17    480         NaN              1993  manual      0   \n",
       "1  2016-03-24 10:58:45  18300       coupe              2011  manual    190   \n",
       "2  2016-03-14 12:52:21   9800         suv              2004    auto    163   \n",
       "3  2016-03-17 16:54:04   1500       small              2001  manual     75   \n",
       "4  2016-03-31 17:25:20   3600       small              2008  manual     69   \n",
       "\n",
       "   Model  Kilometer  RegistrationMonth  FuelType       Brand Repaired  \\\n",
       "0   golf     150000                  0    petrol  volkswagen      NaN   \n",
       "1    NaN     125000                  5  gasoline        audi      yes   \n",
       "2  grand     125000                  8  gasoline        jeep      NaN   \n",
       "3   golf     150000                  6    petrol  volkswagen       no   \n",
       "4  fabia      90000                  7  gasoline       skoda       no   \n",
       "\n",
       "           DateCreated  NumberOfPictures  PostalCode             LastSeen  \n",
       "0  2016-03-24 00:00:00                 0       70435  2016-04-07 03:16:57  \n",
       "1  2016-03-24 00:00:00                 0       66954  2016-04-07 01:46:50  \n",
       "2  2016-03-14 00:00:00                 0       90480  2016-04-05 12:47:46  \n",
       "3  2016-03-17 00:00:00                 0       91074  2016-03-17 17:40:17  \n",
       "4  2016-03-31 00:00:00                 0       60437  2016-04-06 10:17:21  "
      ]
     },
     "execution_count": 6,
     "metadata": {},
     "output_type": "execute_result"
    }
   ],
   "source": [
    "df.head()"
   ]
  },
  {
   "cell_type": "code",
   "execution_count": 7,
   "metadata": {},
   "outputs": [
    {
     "data": {
      "text/html": [
       "<style  type=\"text/css\" >\n",
       "#T_d7483_row0_col0{\n",
       "            background-color:  #b40426;\n",
       "            color:  #f1f1f1;\n",
       "        }#T_d7483_row1_col0{\n",
       "            background-color:  #e4d9d2;\n",
       "            color:  #000000;\n",
       "        }#T_d7483_row2_col0{\n",
       "            background-color:  #d3dbe7;\n",
       "            color:  #000000;\n",
       "        }#T_d7483_row3_col0,#T_d7483_row4_col0{\n",
       "            background-color:  #97b8ff;\n",
       "            color:  #000000;\n",
       "        }#T_d7483_row5_col0,#T_d7483_row6_col0,#T_d7483_row7_col0,#T_d7483_row8_col0,#T_d7483_row9_col0,#T_d7483_row10_col0,#T_d7483_row11_col0,#T_d7483_row12_col0,#T_d7483_row13_col0,#T_d7483_row14_col0,#T_d7483_row15_col0{\n",
       "            background-color:  #3b4cc0;\n",
       "            color:  #f1f1f1;\n",
       "        }</style><table id=\"T_d7483_\" ><thead>    <tr>        <th class=\"blank level0\" ></th>        <th class=\"col_heading level0 col0\" >0</th>    </tr></thead><tbody>\n",
       "                <tr>\n",
       "                        <th id=\"T_d7483_level0_row0\" class=\"row_heading level0 row0\" >Repaired</th>\n",
       "                        <td id=\"T_d7483_row0_col0\" class=\"data row0 col0\" >20.100000</td>\n",
       "            </tr>\n",
       "            <tr>\n",
       "                        <th id=\"T_d7483_level0_row1\" class=\"row_heading level0 row1\" >VehicleType</th>\n",
       "                        <td id=\"T_d7483_row1_col0\" class=\"data row1 col0\" >10.600000</td>\n",
       "            </tr>\n",
       "            <tr>\n",
       "                        <th id=\"T_d7483_level0_row2\" class=\"row_heading level0 row2\" >FuelType</th>\n",
       "                        <td id=\"T_d7483_row2_col0\" class=\"data row2 col0\" >9.300000</td>\n",
       "            </tr>\n",
       "            <tr>\n",
       "                        <th id=\"T_d7483_level0_row3\" class=\"row_heading level0 row3\" >Gearbox</th>\n",
       "                        <td id=\"T_d7483_row3_col0\" class=\"data row3 col0\" >5.600000</td>\n",
       "            </tr>\n",
       "            <tr>\n",
       "                        <th id=\"T_d7483_level0_row4\" class=\"row_heading level0 row4\" >Model</th>\n",
       "                        <td id=\"T_d7483_row4_col0\" class=\"data row4 col0\" >5.600000</td>\n",
       "            </tr>\n",
       "            <tr>\n",
       "                        <th id=\"T_d7483_level0_row5\" class=\"row_heading level0 row5\" >DateCrawled</th>\n",
       "                        <td id=\"T_d7483_row5_col0\" class=\"data row5 col0\" >0.000000</td>\n",
       "            </tr>\n",
       "            <tr>\n",
       "                        <th id=\"T_d7483_level0_row6\" class=\"row_heading level0 row6\" >Price</th>\n",
       "                        <td id=\"T_d7483_row6_col0\" class=\"data row6 col0\" >0.000000</td>\n",
       "            </tr>\n",
       "            <tr>\n",
       "                        <th id=\"T_d7483_level0_row7\" class=\"row_heading level0 row7\" >RegistrationYear</th>\n",
       "                        <td id=\"T_d7483_row7_col0\" class=\"data row7 col0\" >0.000000</td>\n",
       "            </tr>\n",
       "            <tr>\n",
       "                        <th id=\"T_d7483_level0_row8\" class=\"row_heading level0 row8\" >Power</th>\n",
       "                        <td id=\"T_d7483_row8_col0\" class=\"data row8 col0\" >0.000000</td>\n",
       "            </tr>\n",
       "            <tr>\n",
       "                        <th id=\"T_d7483_level0_row9\" class=\"row_heading level0 row9\" >Kilometer</th>\n",
       "                        <td id=\"T_d7483_row9_col0\" class=\"data row9 col0\" >0.000000</td>\n",
       "            </tr>\n",
       "            <tr>\n",
       "                        <th id=\"T_d7483_level0_row10\" class=\"row_heading level0 row10\" >RegistrationMonth</th>\n",
       "                        <td id=\"T_d7483_row10_col0\" class=\"data row10 col0\" >0.000000</td>\n",
       "            </tr>\n",
       "            <tr>\n",
       "                        <th id=\"T_d7483_level0_row11\" class=\"row_heading level0 row11\" >Brand</th>\n",
       "                        <td id=\"T_d7483_row11_col0\" class=\"data row11 col0\" >0.000000</td>\n",
       "            </tr>\n",
       "            <tr>\n",
       "                        <th id=\"T_d7483_level0_row12\" class=\"row_heading level0 row12\" >DateCreated</th>\n",
       "                        <td id=\"T_d7483_row12_col0\" class=\"data row12 col0\" >0.000000</td>\n",
       "            </tr>\n",
       "            <tr>\n",
       "                        <th id=\"T_d7483_level0_row13\" class=\"row_heading level0 row13\" >NumberOfPictures</th>\n",
       "                        <td id=\"T_d7483_row13_col0\" class=\"data row13 col0\" >0.000000</td>\n",
       "            </tr>\n",
       "            <tr>\n",
       "                        <th id=\"T_d7483_level0_row14\" class=\"row_heading level0 row14\" >PostalCode</th>\n",
       "                        <td id=\"T_d7483_row14_col0\" class=\"data row14 col0\" >0.000000</td>\n",
       "            </tr>\n",
       "            <tr>\n",
       "                        <th id=\"T_d7483_level0_row15\" class=\"row_heading level0 row15\" >LastSeen</th>\n",
       "                        <td id=\"T_d7483_row15_col0\" class=\"data row15 col0\" >0.000000</td>\n",
       "            </tr>\n",
       "    </tbody></table>"
      ],
      "text/plain": [
       "<pandas.io.formats.style.Styler at 0x16f23df40>"
      ]
     },
     "execution_count": 7,
     "metadata": {},
     "output_type": "execute_result"
    }
   ],
   "source": [
    "def blanks(dataframe):\n",
    "    df_nan = round(dataframe\n",
    "                            .isna()\n",
    "                            .mean()\n",
    "                            .sort_values(ascending=False)\n",
    "                            *100,1)\n",
    "    \n",
    "\n",
    "    return pd.DataFrame(df_nan).style.background_gradient('coolwarm')\n",
    "\n",
    "blanks(df)"
   ]
  },
  {
   "cell_type": "markdown",
   "metadata": {},
   "source": [
    "<div class=\"alert alert-success\">\n",
    "<font size=\"4\"><b>✔️ Комментарий ревьюера</b></font>\n",
    "    <br /> \n",
    "    <font size=\"3\", color = \"black\">\n",
    "<br />    \n",
    "В целом, красиво :)"
   ]
  },
  {
   "cell_type": "markdown",
   "metadata": {},
   "source": [
    "Создадим датасет, который будем в последствии преобразовывать и использовать.\n",
    "Алгоритм:\n",
    "- Удалим лишние столбцы, которые не будут помогать в обучении модели ('DateCrawled','DateCreated','LastSeen')\n",
    "- Удалим аномалии при их наличии\n",
    "- Заполним пропуски / приведем столбцы типа object в тип category для дальнейшего обучения"
   ]
  },
  {
   "cell_type": "code",
   "execution_count": 8,
   "metadata": {},
   "outputs": [],
   "source": [
    "df_prep = df\n",
    "df_prep = df_prep.drop(['DateCrawled','DateCreated','LastSeen','PostalCode','NumberOfPictures'], axis = 1)"
   ]
  },
  {
   "cell_type": "markdown",
   "metadata": {},
   "source": [
    "<div class=\"alert alert-success\">\n",
    "<font size=\"4\"><b>✔️ Комментарий ревьюера</b></font>\n",
    "    <br /> \n",
    "    <font size=\"3\", color = \"black\">\n",
    "<br />    \n",
    "Неинформативные признаки определены верно"
   ]
  },
  {
   "cell_type": "code",
   "execution_count": 9,
   "metadata": {},
   "outputs": [],
   "source": [
    "def col_describe(dataframe):\n",
    "    print(dataframe.describe())\n",
    "    plt.boxplot(x=dataframe)\n",
    "    plt.show()"
   ]
  },
  {
   "cell_type": "code",
   "execution_count": 10,
   "metadata": {},
   "outputs": [
    {
     "data": {
      "text/plain": [
       "27543"
      ]
     },
     "execution_count": 10,
     "metadata": {},
     "output_type": "execute_result"
    }
   ],
   "source": [
    "#Проверим сколько дубликатов до всех махинаций с пропусками и после\n",
    "df_prep.duplicated().sum()"
   ]
  },
  {
   "cell_type": "markdown",
   "metadata": {},
   "source": [
    "<div class=\"alert alert-success\">\n",
    "<font size=\"4\"><b>✔️ Комментарий ревьюера</b></font>\n",
    "    <br /> \n",
    "    <font size=\"3\", color = \"black\">\n",
    "<br />    \n",
    "Очистка дубликатов - важный шаг EDA. Молодец, что сделал её после, а не до удаления неинформативных столбцов. Надеюсь, понимаешь почему так правильно."
   ]
  },
  {
   "cell_type": "markdown",
   "metadata": {},
   "source": [
    "### RegistrationYear"
   ]
  },
  {
   "cell_type": "code",
   "execution_count": 11,
   "metadata": {},
   "outputs": [
    {
     "name": "stdout",
     "output_type": "stream",
     "text": [
      "count    354369.000000\n",
      "mean       2004.234448\n",
      "std          90.227958\n",
      "min        1000.000000\n",
      "25%        1999.000000\n",
      "50%        2003.000000\n",
      "75%        2008.000000\n",
      "max        9999.000000\n",
      "Name: RegistrationYear, dtype: float64\n"
     ]
    },
    {
     "data": {
      "image/png": "[encoded data removed]",
      "text/plain": [
       "<Figure size 640x480 with 1 Axes>"
      ]
     },
     "metadata": {},
     "output_type": "display_data"
    }
   ],
   "source": [
    "col_describe(df_prep['RegistrationYear'])"
   ]
  },
  {
   "cell_type": "code",
   "execution_count": 12,
   "metadata": {},
   "outputs": [
    {
     "data": {
      "text/plain": [
       "14596"
      ]
     },
     "execution_count": 12,
     "metadata": {},
     "output_type": "execute_result"
    }
   ],
   "source": [
    "len(df_prep[(df_prep['RegistrationYear'] < 1890) \n",
    "            | \n",
    "            (df_prep['RegistrationYear'] > 2016)]\n",
    "   )"
   ]
  },
  {
   "cell_type": "code",
   "execution_count": 13,
   "metadata": {},
   "outputs": [
    {
     "data": {
      "text/plain": [
       "'2016-04-07 14:36:58'"
      ]
     },
     "execution_count": 13,
     "metadata": {},
     "output_type": "execute_result"
    }
   ],
   "source": [
    "df['DateCrawled'].max()"
   ]
  },
  {
   "cell_type": "markdown",
   "metadata": {},
   "source": [
    "<div class=\"alert alert-warning\">\n",
    "<font size=\"4\"><b>⚠️ Комментарий ревьюера</b></font>\n",
    "    <br /> \n",
    "    <font size=\"3\", color = \"black\">\n",
    "<br /> \n",
    "На самом деле год выгрузки базы более ранний, чем 2020 (и даже чем 2019). Если внимательно посмотреть на данные, можно понять какой. Попробуй сам это понять.\n",
    "    </font>\n",
    "</div>"
   ]
  },
  {
   "cell_type": "markdown",
   "metadata": {},
   "source": [
    "<div class=\"alert alert-info\">\n",
    "<font size=\"4\">🙂<b> Комментарий студента</b></font>\n",
    "    <br /> \n",
    "    <font size=\"3\", color = \"black\">\n",
    "<br /> \n",
    "Да, удаляю значения с 2017 года\n",
    "    </font>\n",
    "</div>"
   ]
  },
  {
   "cell_type": "markdown",
   "metadata": {},
   "source": [
    "<div class=\"alert alert-success\">\n",
    "<font size=\"4\"><b>✔️ Комментарий ревьюера V2</b></font>\n",
    "    <br /> \n",
    "    <font size=\"3\", color = \"black\">\n",
    "<br />    \n",
    "👍"
   ]
  },
  {
   "cell_type": "markdown",
   "metadata": {},
   "source": [
    "Таких значений очень мало(меньше 0.005%), поэтому для улучшения модели можно просто удалить столбцы"
   ]
  },
  {
   "cell_type": "code",
   "execution_count": 14,
   "metadata": {},
   "outputs": [
    {
     "name": "stdout",
     "output_type": "stream",
     "text": [
      "count    339773.000000\n",
      "mean       2002.482222\n",
      "std           7.091181\n",
      "min        1910.000000\n",
      "25%        1999.000000\n",
      "50%        2003.000000\n",
      "75%        2007.000000\n",
      "max        2016.000000\n",
      "Name: RegistrationYear, dtype: float64\n"
     ]
    },
    {
     "data": {
      "image/png": "[encoded data removed]",
      "text/plain": [
       "<Figure size 640x480 with 1 Axes>"
      ]
     },
     "metadata": {},
     "output_type": "display_data"
    }
   ],
   "source": [
    "df_prep = df_prep[(df_prep['RegistrationYear'] > 1889)\n",
    "                  & \n",
    "                  (df_prep['RegistrationYear'] < 2017)]\n",
    "\n",
    "col_describe(df_prep['RegistrationYear'])"
   ]
  },
  {
   "cell_type": "markdown",
   "metadata": {},
   "source": [
    "### Price"
   ]
  },
  {
   "cell_type": "code",
   "execution_count": 15,
   "metadata": {},
   "outputs": [
    {
     "name": "stdout",
     "output_type": "stream",
     "text": [
      "count    339773.000000\n",
      "mean       4471.307373\n",
      "std        4546.019252\n",
      "min           0.000000\n",
      "25%        1099.000000\n",
      "50%        2799.000000\n",
      "75%        6500.000000\n",
      "max       20000.000000\n",
      "Name: Price, dtype: float64\n"
     ]
    },
    {
     "data": {
      "image/png": "[encoded data removed]",
      "text/plain": [
       "<Figure size 640x480 with 1 Axes>"
      ]
     },
     "metadata": {},
     "output_type": "display_data"
    }
   ],
   "source": [
    "col_describe(df_prep['Price'])"
   ]
  },
  {
   "cell_type": "markdown",
   "metadata": {},
   "source": [
    "В целом явно аномальных значений не обнаружено, плюс данный признак является таргетным, поэтому в этом столбце принято решение ничего не менять(пока)"
   ]
  },
  {
   "cell_type": "markdown",
   "metadata": {},
   "source": [
    "<div class=\"alert alert-danger\">\n",
    "<font size=\"4\"><b>❌ Комментарий ревьюера</b></font>\n",
    "    <br /> \n",
    "    <font size=\"3\", color = \"black\">\n",
    "<br /> \n",
    "Видишь аномалии? А они есть.\n",
    "\n",
    "Цена 0 евро - не то, с чем мы хотим работать. А поскольку это таргет, его менять нельзя, то такие аномалии - только под удаление."
   ]
  },
  {
   "cell_type": "markdown",
   "metadata": {},
   "source": [
    "<div class=\"alert alert-info\">\n",
    "<font size=\"4\">🙂<b> Комментарий студента</b></font>\n",
    "    <br /> \n",
    "    <font size=\"3\", color = \"black\">\n",
    "<br /> \n",
    "Удалил нулевые значения. По личному опыту могу сказать, что на вторичном рынке есть авто стоимостью менее 100 евро, поэтому их оставлю\n",
    "    </font>\n",
    "</div>"
   ]
  },
  {
   "cell_type": "markdown",
   "metadata": {},
   "source": [
    "<div class=\"alert alert-success\">\n",
    "<font size=\"4\"><b>✔️ Комментарий ревьюера V2</b></font>\n",
    "    <br /> \n",
    "    <font size=\"3\", color = \"black\">\n",
    "<br />    \n",
    "Ок ) Хотя что-нибудь совсем низкое, типа 1-2 евро лично я бы всё-таки скорее тоже удалил. Но удаление только строко нолей - годится."
   ]
  },
  {
   "cell_type": "code",
   "execution_count": 16,
   "metadata": {},
   "outputs": [],
   "source": [
    "df_prep = df_prep[(df_prep['Price'] > 0)]"
   ]
  },
  {
   "cell_type": "markdown",
   "metadata": {},
   "source": [
    "### Power"
   ]
  },
  {
   "cell_type": "code",
   "execution_count": 17,
   "metadata": {},
   "outputs": [
    {
     "name": "stdout",
     "output_type": "stream",
     "text": [
      "count    329765.000000\n",
      "mean        111.902179\n",
      "std         184.849228\n",
      "min           0.000000\n",
      "25%          71.000000\n",
      "50%         105.000000\n",
      "75%         143.000000\n",
      "max       20000.000000\n",
      "Name: Power, dtype: float64\n"
     ]
    },
    {
     "data": {
      "image/png": "[encoded data removed]",
      "text/plain": [
       "<Figure size 640x480 with 1 Axes>"
      ]
     },
     "metadata": {},
     "output_type": "display_data"
    }
   ],
   "source": [
    "col_describe(df_prep['Power'])"
   ]
  },
  {
   "cell_type": "markdown",
   "metadata": {},
   "source": [
    "Попробуем в этот раз не удалять пропуски, а заменим их медианой. Квантили возьмем 11.5 и 99"
   ]
  },
  {
   "cell_type": "code",
   "execution_count": 18,
   "metadata": {},
   "outputs": [
    {
     "name": "stdout",
     "output_type": "stream",
     "text": [
      "45.0\n"
     ]
    },
    {
     "data": {
      "text/plain": [
       "2009.4955999999074"
      ]
     },
     "execution_count": 18,
     "metadata": {},
     "output_type": "execute_result"
    }
   ],
   "source": [
    "print(df_prep['Power'].quantile(0.115))\n",
    "df_prep['Power'].quantile(0.9997)"
   ]
  },
  {
   "cell_type": "code",
   "execution_count": 19,
   "metadata": {},
   "outputs": [
    {
     "name": "stdout",
     "output_type": "stream",
     "text": [
      "count    329765.000000\n",
      "mean        120.380817\n",
      "std          60.148031\n",
      "min          45.000000\n",
      "25%          86.000000\n",
      "50%         105.000000\n",
      "75%         143.000000\n",
      "max        2009.000000\n",
      "Name: Power, dtype: float64\n"
     ]
    },
    {
     "data": {
      "image/png": "[encoded data removed]",
      "text/plain": [
       "<Figure size 640x480 with 1 Axes>"
      ]
     },
     "metadata": {},
     "output_type": "display_data"
    }
   ],
   "source": [
    "anomaly = df_prep[(df_prep['Power'] < df_prep['Power'].quantile(0.115)) \n",
    "                  | \n",
    "                  (df_prep['Power'] > df_prep['Power'].quantile(0.9997))\n",
    "                 ]\n",
    "\n",
    "df_prep.loc[anomaly.index, 'Power'] = df_prep['Power'].median()\n",
    "\n",
    "\n",
    "col_describe(df_prep['Power'])"
   ]
  },
  {
   "cell_type": "markdown",
   "metadata": {},
   "source": [
    "<div class=\"alert alert-danger\">\n",
    "<font size=\"4\"><b>❌ Комментарий ревьюера</b></font>\n",
    "    <br /> \n",
    "    <font size=\"3\", color = \"black\">\n",
    "<br /> \n",
    "Аномалии мощностей, безусловно, есть и снизу, и сверху. Но ты уверен, что мощность больше 300 л.с. - это что-то аномальное? Можешь посмотреть мощности двигателей серийных автомобилей: <a href=\"https://auto.ru/catalog/cars/volkswagen/golf_r/specifications/harakteristiki-dvigatelya/\">volkswagen golf</a> - до 320 л.с., <a href=\"https://auto.ru/catalog/cars/bmw/x5/23510867/23510914/?geo_id=20105specifications/\">BMW X5</a> - до 530 л.с., например, а это не эксклюзивные авто, хорошие, дорогие, но серийные. Поэтому ты пережестил с верхней границей.\n",
    "\n",
    "Хвост распределения и выброс - это принципиально разные вещи.\n",
    "\n",
    "Представь, что ты делаешь модель, решающую задачу, связанную с недвижимостью. У тебя большинство квартир в датасете - среднестатистические квартиры в спальных районах. Будет ли выбросом очень небольшое количество огромных по площади очень дорогих квартир в самом центре Москвы? Нет, потому что такая ситуация вполне вписывается в общую картину данных. Будет ли выбросом очень небольшое количество малюсеньких по площади очень дешёвых квартир в далёком замкадье? Нет, потому что такая ситуация вполне вписывается в общую картину данных. Будет ли выбросом некоторое количество малюсеньких по площади очень дорогих квартир в далёком замкадье? Да, потому что такая ситуация кардинально не вписывается в общую картину данных. Причины могут быть разные: это может быть какая-то мошенническая схема, а может в этой квартире когда-то останавливался Виктор Цой и теперь фанаты группы Кино борются за неё, это не важно, такие данные - выброс.\n",
    "\n",
    "Так же и у нас: премиум машины - не основа рынка, но это не аномалия. Удаляй данные исходя не из квантилей, а именно исходя из самих данных, что они представляют, и здравой логики."
   ]
  },
  {
   "cell_type": "markdown",
   "metadata": {},
   "source": [
    "<div class=\"alert alert-info\">\n",
    "<font size=\"4\">🙂<b> Комментарий студента</b></font>\n",
    "    <br /> \n",
    "    <font size=\"3\", color = \"black\">\n",
    "<br /> \n",
    "Согласен, пережестил. Поправил верхнюю границу, самый мощный серийный авто имеет мощность в 2000 л.с на данный момент.\n",
    "    </font>\n",
    "</div>"
   ]
  },
  {
   "cell_type": "markdown",
   "metadata": {},
   "source": [
    "<div class=\"alert alert-warning\">\n",
    "<font size=\"4\"><b>⚠️ Комментарий ревьюера V2</b></font>\n",
    "    <br /> \n",
    "    <font size=\"3\", color = \"black\">\n",
    "<br /> \n",
    "А вот 2000 - это скорее пережестить в другую сторону ) В целом, автомобили, даже серийные, с такой мощностью двигателя есть. Можно посмотреть на <a href=\"https://en.wikipedia.org/wiki/List_of_production_cars_by_power_output\">список</a> самых мощных серийных авто мира. Но посмотрев на наш датасет становится понятно, что у нас нет всяких Бугатти и прочих Aspark Owl, поэтому разумно взять что-то не больше чем 1000 лошадиных сил.\n",
    "\n",
    "Но ладно, в диапазоне 1-2 тысячи л.с. очень мало машин в датасете, они нам не доставят больших проблем при обучении и валидации моделей.\n",
    "    </font>\n",
    "</div>"
   ]
  },
  {
   "cell_type": "markdown",
   "metadata": {},
   "source": [
    "С численными столбцами разобрались, посмотрим на пропуски и можно ли их как то заполнить (обоснованно). Если таких вариантов нет, то просто приведем столбцы типа **object** в **category**, чтобы модель можно было обучить"
   ]
  },
  {
   "cell_type": "code",
   "execution_count": 20,
   "metadata": {},
   "outputs": [
    {
     "data": {
      "text/html": [
       "<style  type=\"text/css\" >\n",
       "#T_3e45b_row0_col0{\n",
       "            background-color:  #b40426;\n",
       "            color:  #f1f1f1;\n",
       "        }#T_3e45b_row1_col0{\n",
       "            background-color:  #c0d4f5;\n",
       "            color:  #000000;\n",
       "        }#T_3e45b_row2_col0{\n",
       "            background-color:  #a9c6fd;\n",
       "            color:  #000000;\n",
       "        }#T_3e45b_row3_col0,#T_3e45b_row4_col0{\n",
       "            background-color:  #90b2fe;\n",
       "            color:  #000000;\n",
       "        }#T_3e45b_row5_col0,#T_3e45b_row6_col0,#T_3e45b_row7_col0,#T_3e45b_row8_col0,#T_3e45b_row9_col0,#T_3e45b_row10_col0{\n",
       "            background-color:  #3b4cc0;\n",
       "            color:  #f1f1f1;\n",
       "        }</style><table id=\"T_3e45b_\" ><thead>    <tr>        <th class=\"blank level0\" ></th>        <th class=\"col_heading level0 col0\" >0</th>    </tr></thead><tbody>\n",
       "                <tr>\n",
       "                        <th id=\"T_3e45b_level0_row0\" class=\"row_heading level0 row0\" >Repaired</th>\n",
       "                        <td id=\"T_3e45b_row0_col0\" class=\"data row0 col0\" >18.200000</td>\n",
       "            </tr>\n",
       "            <tr>\n",
       "                        <th id=\"T_3e45b_level0_row1\" class=\"row_heading level0 row1\" >FuelType</th>\n",
       "                        <td id=\"T_3e45b_row1_col0\" class=\"data row1 col0\" >7.300000</td>\n",
       "            </tr>\n",
       "            <tr>\n",
       "                        <th id=\"T_3e45b_level0_row2\" class=\"row_heading level0 row2\" >VehicleType</th>\n",
       "                        <td id=\"T_3e45b_row2_col0\" class=\"data row2 col0\" >6.000000</td>\n",
       "            </tr>\n",
       "            <tr>\n",
       "                        <th id=\"T_3e45b_level0_row3\" class=\"row_heading level0 row3\" >Model</th>\n",
       "                        <td id=\"T_3e45b_row3_col0\" class=\"data row3 col0\" >4.700000</td>\n",
       "            </tr>\n",
       "            <tr>\n",
       "                        <th id=\"T_3e45b_level0_row4\" class=\"row_heading level0 row4\" >Gearbox</th>\n",
       "                        <td id=\"T_3e45b_row4_col0\" class=\"data row4 col0\" >4.700000</td>\n",
       "            </tr>\n",
       "            <tr>\n",
       "                        <th id=\"T_3e45b_level0_row5\" class=\"row_heading level0 row5\" >Price</th>\n",
       "                        <td id=\"T_3e45b_row5_col0\" class=\"data row5 col0\" >0.000000</td>\n",
       "            </tr>\n",
       "            <tr>\n",
       "                        <th id=\"T_3e45b_level0_row6\" class=\"row_heading level0 row6\" >RegistrationYear</th>\n",
       "                        <td id=\"T_3e45b_row6_col0\" class=\"data row6 col0\" >0.000000</td>\n",
       "            </tr>\n",
       "            <tr>\n",
       "                        <th id=\"T_3e45b_level0_row7\" class=\"row_heading level0 row7\" >Power</th>\n",
       "                        <td id=\"T_3e45b_row7_col0\" class=\"data row7 col0\" >0.000000</td>\n",
       "            </tr>\n",
       "            <tr>\n",
       "                        <th id=\"T_3e45b_level0_row8\" class=\"row_heading level0 row8\" >Kilometer</th>\n",
       "                        <td id=\"T_3e45b_row8_col0\" class=\"data row8 col0\" >0.000000</td>\n",
       "            </tr>\n",
       "            <tr>\n",
       "                        <th id=\"T_3e45b_level0_row9\" class=\"row_heading level0 row9\" >RegistrationMonth</th>\n",
       "                        <td id=\"T_3e45b_row9_col0\" class=\"data row9 col0\" >0.000000</td>\n",
       "            </tr>\n",
       "            <tr>\n",
       "                        <th id=\"T_3e45b_level0_row10\" class=\"row_heading level0 row10\" >Brand</th>\n",
       "                        <td id=\"T_3e45b_row10_col0\" class=\"data row10 col0\" >0.000000</td>\n",
       "            </tr>\n",
       "    </tbody></table>"
      ],
      "text/plain": [
       "<pandas.io.formats.style.Styler at 0x16f680e80>"
      ]
     },
     "execution_count": 20,
     "metadata": {},
     "output_type": "execute_result"
    }
   ],
   "source": [
    "blanks(df_prep)"
   ]
  },
  {
   "cell_type": "markdown",
   "metadata": {},
   "source": [
    "### Repaired"
   ]
  },
  {
   "cell_type": "code",
   "execution_count": 21,
   "metadata": {
    "scrolled": true
   },
   "outputs": [
    {
     "data": {
      "text/plain": [
       "no     236916\n",
       "NaN     59882\n",
       "yes     32967\n",
       "Name: Repaired, dtype: int64"
      ]
     },
     "execution_count": 21,
     "metadata": {},
     "output_type": "execute_result"
    }
   ],
   "source": [
    "df_prep['Repaired'].value_counts(dropna=False)"
   ]
  },
  {
   "cell_type": "code",
   "execution_count": 22,
   "metadata": {},
   "outputs": [
    {
     "name": "stdout",
     "output_type": "stream",
     "text": [
      "Nan: 2823.419441568418\n",
      "Yes: 2035.9260775927442\n",
      "No: 5415.586714278478\n"
     ]
    }
   ],
   "source": [
    "print('Nan:', df_prep[df_prep['Repaired'].isna()]['Price'].mean())\n",
    "print('Yes:', df_prep[df_prep['Repaired'] == 'yes']['Price'].mean())\n",
    "print('No:', df_prep[df_prep['Repaired'] == 'no']['Price'].mean())"
   ]
  },
  {
   "cell_type": "markdown",
   "metadata": {},
   "source": [
    "Проверим гипотезу, что средняя цена автомобилей с признаком **Repaired = yes  NotRepaired = nan** различается:\n",
    "\n",
    "**H0**: Цена равна\n",
    "\n",
    "**H1**: Цена отличается"
   ]
  },
  {
   "cell_type": "code",
   "execution_count": 23,
   "metadata": {
    "scrolled": true
   },
   "outputs": [
    {
     "name": "stdout",
     "output_type": "stream",
     "text": [
      "p-value: 1.1974984495039832e-281\n",
      "Отвергаем нулевую гипотезу\n"
     ]
    }
   ],
   "source": [
    "alpha = 0.05\n",
    "\n",
    "results =  st.ttest_ind(\n",
    "    df_prep[df_prep['Repaired'] == 'yes']['Price'], \n",
    "    df_prep[df_prep['Repaired'].isna()]['Price']\n",
    ")\n",
    "\n",
    "print('p-value:', results.pvalue)\n",
    "\n",
    "if (results.pvalue < alpha):\n",
    "    print('Отвергаем нулевую гипотезу')\n",
    "else:\n",
    "    print('Не получилось отвергнуть нулевую гипотезу')"
   ]
  },
  {
   "cell_type": "markdown",
   "metadata": {},
   "source": [
    "Раз цена отличается статистически, добавим третью категорию \"unknown\" и приведем тип к категориальному"
   ]
  },
  {
   "cell_type": "code",
   "execution_count": 24,
   "metadata": {},
   "outputs": [],
   "source": [
    "df_prep['Repaired'] = (np.where(\n",
    "                                df_prep['Repaired'].isna(),\n",
    "                                'unknown',\n",
    "                                df_prep.Repaired)\n",
    "                      )\n",
    "\n",
    "df_prep['Repaired'] = df_prep['Repaired'].astype('category')"
   ]
  },
  {
   "cell_type": "markdown",
   "metadata": {},
   "source": [
    "### Model\n",
    "\n",
    "Заполним пропуски в этой графе на моду по следующим параметрам:\n",
    "- Power\n",
    "- Brand \n",
    "\n",
    "Стоимость учитывать не будем, так как это таргетный показатель\n",
    "\n",
    "Так же изменим тип на категориальный"
   ]
  },
  {
   "cell_type": "code",
   "execution_count": 25,
   "metadata": {},
   "outputs": [],
   "source": [
    "# Создадим функцию для заполнения пропусков значениями по моде и приведение к типу категории\n",
    "def mode_fill(column, gr_column1, gr_column2):\n",
    "    df_prep[column] = (df_prep\n",
    "                    .groupby([gr_column1,gr_column2])[column]\n",
    "                    .transform(lambda x: \n",
    "                               x.fillna(\n",
    "                                   (x.mode()[0] if not x.mode().empty else \"unknown\")\n",
    "                               )\n",
    "                              )\n",
    "                   )\n",
    "\n",
    "    df_prep[column] = df_prep[column].astype('category')"
   ]
  },
  {
   "cell_type": "code",
   "execution_count": 26,
   "metadata": {},
   "outputs": [],
   "source": [
    "mode_fill('Model', 'Brand', 'Power')"
   ]
  },
  {
   "cell_type": "markdown",
   "metadata": {},
   "source": [
    "### VehicleType\n",
    "\n",
    "Тут и далее уже используем бренд и модель"
   ]
  },
  {
   "cell_type": "code",
   "execution_count": 27,
   "metadata": {},
   "outputs": [],
   "source": [
    "mode_fill('VehicleType', 'Brand', 'Model')"
   ]
  },
  {
   "cell_type": "markdown",
   "metadata": {},
   "source": [
    "<div class=\"alert alert-success\">\n",
    "<font size=\"4\"><b>✔️ Комментарий ревьюера</b></font>\n",
    "    <br /> \n",
    "    <font size=\"3\", color = \"black\">\n",
    "<br />    \n",
    "Заполнение пропуска модой - вполне адекватный алгоритм обработки пропусков в категориальных колонках"
   ]
  },
  {
   "cell_type": "markdown",
   "metadata": {},
   "source": [
    "### Gearbox"
   ]
  },
  {
   "cell_type": "code",
   "execution_count": 28,
   "metadata": {},
   "outputs": [],
   "source": [
    "mode_fill('Gearbox', 'Brand', 'Model')"
   ]
  },
  {
   "cell_type": "markdown",
   "metadata": {},
   "source": [
    "### FuelType"
   ]
  },
  {
   "cell_type": "code",
   "execution_count": 29,
   "metadata": {},
   "outputs": [],
   "source": [
    "mode_fill('FuelType', 'Brand', 'Model')"
   ]
  },
  {
   "cell_type": "markdown",
   "metadata": {},
   "source": [
    "### Brand\n",
    "\n",
    "Здесь просто изменим тип данных, чтобы обучить модель"
   ]
  },
  {
   "cell_type": "code",
   "execution_count": 30,
   "metadata": {},
   "outputs": [],
   "source": [
    "df_prep['Brand'] = df_prep['Brand'].astype('category')"
   ]
  },
  {
   "cell_type": "markdown",
   "metadata": {},
   "source": [
    "### Проверка всех манипуляций и удаление дубликатов"
   ]
  },
  {
   "cell_type": "code",
   "execution_count": 31,
   "metadata": {},
   "outputs": [
    {
     "data": {
      "text/html": [
       "<style  type=\"text/css\" >\n",
       "#T_1902a_row0_col0,#T_1902a_row1_col0,#T_1902a_row2_col0,#T_1902a_row3_col0,#T_1902a_row4_col0,#T_1902a_row5_col0,#T_1902a_row6_col0,#T_1902a_row7_col0,#T_1902a_row8_col0,#T_1902a_row9_col0,#T_1902a_row10_col0{\n",
       "            background-color:  #3b4cc0;\n",
       "            color:  #f1f1f1;\n",
       "        }</style><table id=\"T_1902a_\" ><thead>    <tr>        <th class=\"blank level0\" ></th>        <th class=\"col_heading level0 col0\" >0</th>    </tr></thead><tbody>\n",
       "                <tr>\n",
       "                        <th id=\"T_1902a_level0_row0\" class=\"row_heading level0 row0\" >Price</th>\n",
       "                        <td id=\"T_1902a_row0_col0\" class=\"data row0 col0\" >0.000000</td>\n",
       "            </tr>\n",
       "            <tr>\n",
       "                        <th id=\"T_1902a_level0_row1\" class=\"row_heading level0 row1\" >VehicleType</th>\n",
       "                        <td id=\"T_1902a_row1_col0\" class=\"data row1 col0\" >0.000000</td>\n",
       "            </tr>\n",
       "            <tr>\n",
       "                        <th id=\"T_1902a_level0_row2\" class=\"row_heading level0 row2\" >RegistrationYear</th>\n",
       "                        <td id=\"T_1902a_row2_col0\" class=\"data row2 col0\" >0.000000</td>\n",
       "            </tr>\n",
       "            <tr>\n",
       "                        <th id=\"T_1902a_level0_row3\" class=\"row_heading level0 row3\" >Gearbox</th>\n",
       "                        <td id=\"T_1902a_row3_col0\" class=\"data row3 col0\" >0.000000</td>\n",
       "            </tr>\n",
       "            <tr>\n",
       "                        <th id=\"T_1902a_level0_row4\" class=\"row_heading level0 row4\" >Power</th>\n",
       "                        <td id=\"T_1902a_row4_col0\" class=\"data row4 col0\" >0.000000</td>\n",
       "            </tr>\n",
       "            <tr>\n",
       "                        <th id=\"T_1902a_level0_row5\" class=\"row_heading level0 row5\" >Model</th>\n",
       "                        <td id=\"T_1902a_row5_col0\" class=\"data row5 col0\" >0.000000</td>\n",
       "            </tr>\n",
       "            <tr>\n",
       "                        <th id=\"T_1902a_level0_row6\" class=\"row_heading level0 row6\" >Kilometer</th>\n",
       "                        <td id=\"T_1902a_row6_col0\" class=\"data row6 col0\" >0.000000</td>\n",
       "            </tr>\n",
       "            <tr>\n",
       "                        <th id=\"T_1902a_level0_row7\" class=\"row_heading level0 row7\" >RegistrationMonth</th>\n",
       "                        <td id=\"T_1902a_row7_col0\" class=\"data row7 col0\" >0.000000</td>\n",
       "            </tr>\n",
       "            <tr>\n",
       "                        <th id=\"T_1902a_level0_row8\" class=\"row_heading level0 row8\" >FuelType</th>\n",
       "                        <td id=\"T_1902a_row8_col0\" class=\"data row8 col0\" >0.000000</td>\n",
       "            </tr>\n",
       "            <tr>\n",
       "                        <th id=\"T_1902a_level0_row9\" class=\"row_heading level0 row9\" >Brand</th>\n",
       "                        <td id=\"T_1902a_row9_col0\" class=\"data row9 col0\" >0.000000</td>\n",
       "            </tr>\n",
       "            <tr>\n",
       "                        <th id=\"T_1902a_level0_row10\" class=\"row_heading level0 row10\" >Repaired</th>\n",
       "                        <td id=\"T_1902a_row10_col0\" class=\"data row10 col0\" >0.000000</td>\n",
       "            </tr>\n",
       "    </tbody></table>"
      ],
      "text/plain": [
       "<pandas.io.formats.style.Styler at 0x16f708640>"
      ]
     },
     "execution_count": 31,
     "metadata": {},
     "output_type": "execute_result"
    }
   ],
   "source": [
    "blanks(df_prep)"
   ]
  },
  {
   "cell_type": "code",
   "execution_count": 32,
   "metadata": {},
   "outputs": [
    {
     "name": "stdout",
     "output_type": "stream",
     "text": [
      "<class 'pandas.core.frame.DataFrame'>\n",
      "Int64Index: 329765 entries, 0 to 354368\n",
      "Data columns (total 11 columns):\n",
      " #   Column             Non-Null Count   Dtype   \n",
      "---  ------             --------------   -----   \n",
      " 0   Price              329765 non-null  int64   \n",
      " 1   VehicleType        329765 non-null  category\n",
      " 2   RegistrationYear   329765 non-null  int64   \n",
      " 3   Gearbox            329765 non-null  category\n",
      " 4   Power              329765 non-null  float64 \n",
      " 5   Model              329765 non-null  category\n",
      " 6   Kilometer          329765 non-null  int64   \n",
      " 7   RegistrationMonth  329765 non-null  int64   \n",
      " 8   FuelType           329765 non-null  category\n",
      " 9   Brand              329765 non-null  category\n",
      " 10  Repaired           329765 non-null  category\n",
      "dtypes: category(6), float64(1), int64(4)\n",
      "memory usage: 25.4 MB\n"
     ]
    }
   ],
   "source": [
    "df_prep.info()"
   ]
  },
  {
   "cell_type": "markdown",
   "metadata": {},
   "source": [
    "Пропусков нет, типы данных поменяны. Посмотрим на сколько изменилось количество дубликатов и удалим их"
   ]
  },
  {
   "cell_type": "code",
   "execution_count": 33,
   "metadata": {},
   "outputs": [
    {
     "data": {
      "text/plain": [
       "27599"
      ]
     },
     "execution_count": 33,
     "metadata": {},
     "output_type": "execute_result"
    }
   ],
   "source": [
    "df_prep.duplicated().sum()"
   ]
  },
  {
   "cell_type": "markdown",
   "metadata": {},
   "source": [
    "<div class=\"alert alert-success\">\n",
    "<font size=\"4\"><b>✔️ Комментарий ревьюера</b></font>\n",
    "    <br /> \n",
    "    <font size=\"3\", color = \"black\">\n",
    "<br />    \n",
    "Молодец, что проверил дубликаты ещё раз после обработки данных."
   ]
  },
  {
   "cell_type": "markdown",
   "metadata": {},
   "source": [
    "Количество дубликатов увеличилось чуть меньше чем на 1%, однако были заполнены пропуски для >20% данных, что в целом устраивает(меня) на данном этапе.\n",
    "\n",
    "Удалим пропуски и приступим к обучению модели"
   ]
  },
  {
   "cell_type": "code",
   "execution_count": 34,
   "metadata": {},
   "outputs": [],
   "source": [
    "df_prep = (df_prep\n",
    "           .drop_duplicates()\n",
    "           .reset_index(drop = True)\n",
    "          )"
   ]
  },
  {
   "cell_type": "code",
   "execution_count": 35,
   "metadata": {},
   "outputs": [],
   "source": [
    "del df\n",
    "del alpha\n",
    "del results \n",
    "del anomaly\n",
    "del blanks\n",
    "del mode_fill"
   ]
  },
  {
   "cell_type": "markdown",
   "metadata": {},
   "source": [
    "### Вывод 1\n",
    "\n",
    "В ходе предобработки данных были выполнены следующие действия:\n",
    "- Изменен тип данных с **object** на **category**, для дальнейшего обучения моделей\n",
    "- Были заполнены пропуски модами по двум известным категориям\n",
    "- Были удалены дубликаты\n",
    "- Были удалены данные, не влияющие на обучение моделей"
   ]
  },
  {
   "cell_type": "markdown",
   "metadata": {},
   "source": [
    "## Обучение моделей"
   ]
  },
  {
   "cell_type": "markdown",
   "metadata": {},
   "source": [
    "### Подготовка данных к обучению"
   ]
  },
  {
   "cell_type": "code",
   "execution_count": 36,
   "metadata": {
    "tags": []
   },
   "outputs": [],
   "source": [
    "x_train, y_train, x_valid, y_valid, x_test, y_test = train_valid_test_split(\n",
    "                                                                            df_prep,\n",
    "                                                                            target = 'Price',\n",
    "                                                                            train_size = 0.6,\n",
    "                                                                            valid_size = 0.2,\n",
    "                                                                            test_size = 0.2,\n",
    "                                                                            random_state = RANDOM_STATE)"
   ]
  },
  {
   "cell_type": "markdown",
   "metadata": {},
   "source": [
    "<div class=\"alert alert-danger\">\n",
    "<font size=\"4\"><b>❌ Комментарий ревьюера</b></font>\n",
    "    <br /> \n",
    "    <font size=\"3\", color = \"black\">\n",
    "<br /> \n",
    "В машинном обучении корректная последовательность шагов такова: сначала мы делим данные на выборки, потом преобразования данных (encoder, scaler и так далее) обучаем на трейн датасете, затем применяем ко всем датасетам. Ты же обучаешь сразу на всех данных.\n",
    "\n",
    "У любого преобразования данных есть 3 основных метода:\n",
    "\n",
    "1. `.fit(data)` - обучить преобразование на указанных данных (`data`)\n",
    "\n",
    "2. `.transform(data)` - применить преобразование к указанным данным\n",
    "\n",
    "3. `.fit_transform(data)` - обучить преобразование на указанных данных и сразу применить к ним\n",
    "\n",
    "По сути `.fit_transform()` является последовательным выполнением `.fit()` и `.transform()`.\n",
    "\n",
    "`.fit()` (или `.fit_transform()`) должен применяться только к обучающей выборке. К валидационной и тестовой - только `transform()` и никак иначе.\n",
    "\n",
    "Приведи, пожалуйста, последовательность шагов к корректной.\n",
    "\n",
    "PS: обрати внимание в <a href=\"https://scikit-learn.org/stable/modules/generated/sklearn.preprocessing.OrdinalEncoder.html\">документации</a> на параметры `handle_unknown` и `unknown_value` - пригодятся"
   ]
  },
  {
   "cell_type": "markdown",
   "metadata": {},
   "source": [
    "<div class=\"alert alert-info\">\n",
    "<font size=\"4\">🙂<b> Комментарий студента</b></font>\n",
    "    <br /> \n",
    "    <font size=\"3\", color = \"black\">\n",
    "<br /> \n",
    "Сделано, энкодер поменял на get_dummies и перенес после процесса масштабирования\n",
    "    </font>\n",
    "</div>"
   ]
  },
  {
   "cell_type": "markdown",
   "metadata": {},
   "source": [
    "<div class=\"alert alert-info\">\n",
    "<font size=\"4\">🍕<b> Комментарий ревьюера</b></font>\n",
    "    <br /> \n",
    "    <font size=\"3\", color = \"black\">\n",
    "<br />\n",
    "Настоятельно тебе рекомендую рандом стейт (и другие глобальные константы) в начале работы сохранять в отдельную переменную и оперировать дальше ей. Иногда бывает нужно провести эксперимент с другим рандомом и менять по коду во всех местах где он испоьзуется явно хуже, чем одну переменную в начале поменять."
   ]
  },
  {
   "cell_type": "code",
   "execution_count": 37,
   "metadata": {
    "tags": []
   },
   "outputs": [],
   "source": [
    "numeric = ['RegistrationYear','Power','Kilometer','RegistrationMonth']\n",
    "scaler = StandardScaler()\n",
    "scaler.fit(x_train[numeric])\n",
    "x_train[numeric] = scaler.transform(x_train[numeric])\n",
    "x_valid[numeric] = scaler.transform(x_valid[numeric])\n",
    "x_test[numeric] = scaler.transform(x_test[numeric])"
   ]
  },
  {
   "cell_type": "markdown",
   "metadata": {},
   "source": [
    "<div class=\"alert alert-success\">\n",
    "<font size=\"4\"><b>✔️ Комментарий ревьюера</b></font>\n",
    "    <br /> \n",
    "    <font size=\"3\", color = \"black\">\n",
    "<br />    \n",
    "Вот в масштабировании корректная последовательность шагов. Такая же должна быть в кодировании признаков."
   ]
  },
  {
   "cell_type": "code",
   "execution_count": 38,
   "metadata": {
    "tags": []
   },
   "outputs": [],
   "source": [
    "x_train_1 = x_train.drop('Model', axis=1)\n",
    "x_train_1 = pd.get_dummies(x_train_1, drop_first=True)\n",
    "\n",
    "x_valid_1 = x_valid.drop('Model', axis=1)\n",
    "x_valid_1 = pd.get_dummies(x_valid_1, drop_first=True)"
   ]
  },
  {
   "cell_type": "markdown",
   "metadata": {},
   "source": [
    "<div class=\"alert alert-warning\">\n",
    "<font size=\"4\"><b>⚠️ Комментарий ревьюера V2</b></font>\n",
    "    <br /> \n",
    "    <font size=\"3\", color = \"black\">\n",
    "<br />\n",
    "В машинном обучении корректно все преобразования данных (масштабирование, кодирование и т.д.) обучать на тренировочной выборке, а потом уже обученные на них скелеры, кодера и пр. применять к валидационной и тестовой выборке. С pd.get_dummies так не получится. Поэтому я настоятельно рекомендую тебе кодировать именно с помощью <a href=\"https://scikit-learn.org/stable/modules/generated/sklearn.preprocessing.OneHotEncoder.html\">OHE из sklearn</a>. В данном проекте фактической разницы нет (если ты сначала разобьёшь выборку, потом применишь pd.get_dummies к датасетам, то можешь посмотреть, что результат не изменится), но так бывает не всегда. И, хоть это не красный комментарий, я рекомендую тебе уже сейчас попрактиковать OHE, чтобы набить руку и привыкнуть к нему.<br>\n",
    "\n",
    "Тут может возникнуть логичный вопрос с твоей стороны: почему в тренажёре показывают pd.get_dummies, а на ревью говорят, что лучше OHE?<br>\n",
    "Мы, ревьюеры, не можем напрямую влиять на контент тренажёра, к сожалению, поэтому стараемся хоть так давать полезные советы. get_dummies - нормальный инструмент для анализа данных, но если есть машинное обучение, то т.к. мы не можем обучить get_dummies на трейн выборке и применить на вал и тест, не используется.\n",
    "\n",
    "Поскольку у студентов часто бывают сложности с OHE, приведу пример работы с ним:"
   ]
  },
  {
   "cell_type": "markdown",
   "metadata": {},
   "source": [
    "<div class=\"alert alert-info\">\n",
    "<font size=\"4\">🙂<b> Комментарий студента</b></font>\n",
    "    <br /> \n",
    "    <font size=\"3\", color = \"black\">\n",
    "<br /> \n",
    "С OHE опыт уже имею, пока смотрел-вспоминал наткнулся на этот и использовал, но для будущих проектов обязательно учту, спасибо \n",
    "    </font>\n",
    "</div>"
   ]
  },
  {
   "cell_type": "code",
   "execution_count": null,
   "metadata": {
    "tags": []
   },
   "outputs": [],
   "source": [
    "# КОД РЕВЬЮЕРА\n",
    "from sklearn.preprocessing import OneHotEncoder\n",
    "_train_ohe = x_train.copy(deep=True)\n",
    "_test_ohe = x_test.copy(deep=True)\n",
    "cat_features = ['VehicleType', 'FuelType', 'Gearbox', 'Brand']\n",
    "\n",
    "ohe_encoder = OneHotEncoder(drop='first', sparse=False)\n",
    "\n",
    "train_temp = ohe_encoder.fit_transform(_train_ohe[cat_features]) # обучили на трейне и сразу к нему применили\n",
    "_train_ohe[ohe_encoder.get_feature_names()] = train_temp # вписали новые признаки\n",
    "_train_ohe.drop(cat_features, axis=1, inplace=True) # удалили старые признаки\n",
    "\n",
    "test_temp = ohe_encoder.transform(_test_ohe[cat_features]) # обученный энкодер применили к тест. выборке\n",
    "_test_ohe[ohe_encoder.get_feature_names()] = test_temp # вписали новые признаки\n",
    "_test_ohe.drop(cat_features, axis=1, inplace=True) # удалили старые признаки\n",
    "\n",
    "_test_ohe.head()"
   ]
  },
  {
   "cell_type": "markdown",
   "metadata": {},
   "source": [
    "<div class=\"alert alert-warning\">\n",
    "<font size=\"4\"></font>\n",
    "    <font size=\"3\", color = \"black\">\n",
    "Надеюсь, пример понятный.\n",
    "\n",
    "На что тут можно обратить внимание?\n",
    "\n",
    "Параметр sparse=False говорит энкодеру, что мы хотим от него результат не в виде <a href=\"https://python-school.ru/blog/sparse-matrix/\">разреженных данных</a>.\n",
    "\n",
    "Метод .get_feature_names() выдаёт имена, которые присваиваются новым признакам по шаблону \"старыйпризнак_значение\". В более новых версиях sklearn он называется похоже, но иначе: .get_feature_names<b>_out</b>()"
   ]
  },
  {
   "cell_type": "code",
   "execution_count": 39,
   "metadata": {
    "tags": []
   },
   "outputs": [],
   "source": [
    "def crossval_rmse_score(model, x, y):\n",
    "    score = cross_val_score(model, \n",
    "                                x, \n",
    "                                y, \n",
    "                                cv=3, \n",
    "                                scoring='neg_root_mean_squared_error').mean()\n",
    "    print(\"RMSE =\", -score)"
   ]
  },
  {
   "cell_type": "markdown",
   "metadata": {},
   "source": [
    "### LightGBM"
   ]
  },
  {
   "cell_type": "code",
   "execution_count": 40,
   "metadata": {
    "tags": []
   },
   "outputs": [
    {
     "name": "stdout",
     "output_type": "stream",
     "text": [
      "[LightGBM] [Warning] Auto-choosing row-wise multi-threading, the overhead of testing was 0.006115 seconds.\n",
      "You can set `force_row_wise=true` to remove the overhead.\n",
      "And if memory is not enough, you can set `force_col_wise=true`.\n",
      "[LightGBM] [Info] Total Bins 674\n",
      "[LightGBM] [Info] Number of data points in the train set: 181299, number of used features: 10\n",
      "[LightGBM] [Info] Start training from score 4591.714152\n",
      "CPU times: user 59.2 s, sys: 5.43 s, total: 1min 4s\n",
      "Wall time: 8.83 s\n"
     ]
    },
    {
     "data": {
      "text/plain": [
       "1641.359834837872"
      ]
     },
     "execution_count": 40,
     "metadata": {},
     "output_type": "execute_result"
    }
   ],
   "source": [
    "%%time\n",
    "hyper_params = {\n",
    "    'learning_rate' : 0.2,\n",
    "    'metric': 'rmse',\n",
    "    'num_iterations': 2500,\n",
    "    'num_leaves': 50\n",
    "}\n",
    "\n",
    "model_lgbm = lgb.LGBMRegressor(**hyper_params)\n",
    "\n",
    "\n",
    "model_lgbm.fit(x_train, \n",
    "               y_train\n",
    "               )\n",
    "\n",
    "\n",
    "predictions = model_lgbm.predict(x_valid)\n",
    "mean_squared_error(y_valid,predictions)**0.5"
   ]
  },
  {
   "cell_type": "code",
   "execution_count": 41,
   "metadata": {
    "tags": []
   },
   "outputs": [
    {
     "name": "stdout",
     "output_type": "stream",
     "text": [
      "[LightGBM] [Warning] Auto-choosing row-wise multi-threading, the overhead of testing was 0.003748 seconds.\n",
      "You can set `force_row_wise=true` to remove the overhead.\n",
      "And if memory is not enough, you can set `force_col_wise=true`.\n",
      "[LightGBM] [Info] Total Bins 670\n",
      "[LightGBM] [Info] Number of data points in the train set: 120866, number of used features: 10\n",
      "[LightGBM] [Info] Start training from score 4584.922120\n",
      "[LightGBM] [Warning] Auto-choosing row-wise multi-threading, the overhead of testing was 0.003141 seconds.\n",
      "You can set `force_row_wise=true` to remove the overhead.\n",
      "And if memory is not enough, you can set `force_col_wise=true`.\n",
      "[LightGBM] [Info] Total Bins 667\n",
      "[LightGBM] [Info] Number of data points in the train set: 120866, number of used features: 10\n",
      "[LightGBM] [Info] Start training from score 4586.382349\n",
      "[LightGBM] [Warning] Auto-choosing row-wise multi-threading, the overhead of testing was 0.003577 seconds.\n",
      "You can set `force_row_wise=true` to remove the overhead.\n",
      "And if memory is not enough, you can set `force_col_wise=true`.\n",
      "[LightGBM] [Info] Total Bins 668\n",
      "[LightGBM] [Info] Number of data points in the train set: 120866, number of used features: 10\n",
      "[LightGBM] [Info] Start training from score 4603.837986\n",
      "RMSE = 1685.2836275941597\n"
     ]
    }
   ],
   "source": [
    "crossval_rmse_score(model_lgbm, x_train, y_train)"
   ]
  },
  {
   "cell_type": "markdown",
   "metadata": {},
   "source": [
    "Для LGBM параметры следующие:\n",
    "\n",
    "Обучение и предсказание - 9 секунд\n",
    "\n",
    "RMSE на кросс-валидации - 1685.28"
   ]
  },
  {
   "cell_type": "markdown",
   "metadata": {},
   "source": [
    "<div class=\"alert alert-danger\">\n",
    "<font size=\"4\"><b>❌ Комментарий ревьюера V2</b></font>\n",
    "    <br /> \n",
    "    <font size=\"3\", color = \"black\">\n",
    "        <b></b>\n",
    "\n",
    "Ок, бустинг теперь кросс-валидируется - здорово. А можно метрику на кросс-валидации как-то посмотреть?) И не только бустинга, но и всех моделей. А то получается, что ты вслепую отбираешь модель в тестирование. Я вот сейчас на экране не вижу подтверждения, что бустинг - действительно лучшая из исследованных тобой моделей."
   ]
  },
  {
   "cell_type": "markdown",
   "metadata": {},
   "source": [
    "<div class=\"alert alert-danger\">\n",
    "<font size=\"4\"><b>❌ Комментарий ревьюера</b></font>\n",
    "    <br /> \n",
    "    <font size=\"3\", color = \"black\">\n",
    "        <b></b>\n",
    "\n",
    "Если уж другие модели ты оцениваешь с помощью кросс-валидации, то и lightgbm тоже надо кросс-валидировать, а не метрику на трейн датасете считать. Кстати, в lightgbm есть своя <a href=\"https://lightgbm.readthedocs.io/en/latest/pythonapi/lightgbm.cv.html\">кросс-валидация</a>, `cross_val_score` или `GridSearchCV` использовать"
   ]
  },
  {
   "cell_type": "markdown",
   "metadata": {},
   "source": [
    "<div class=\"alert alert-info\">\n",
    "<font size=\"4\">🙂<b> Комментарий студента</b></font>\n",
    "    <br /> \n",
    "    <font size=\"3\", color = \"black\">\n",
    "<br /> \n",
    "Сделано, пользоваться \"родной\" кросс-валидацией не стал, потому что с ней категориальные данные тоже надо было бы кодировать\n",
    "    </font>\n",
    "</div>"
   ]
  },
  {
   "cell_type": "markdown",
   "metadata": {},
   "source": [
    "### Линейная регрессия"
   ]
  },
  {
   "cell_type": "code",
   "execution_count": 42,
   "metadata": {
    "tags": []
   },
   "outputs": [
    {
     "name": "stdout",
     "output_type": "stream",
     "text": [
      "CPU times: user 7.93 s, sys: 1.73 s, total: 9.66 s\n",
      "Wall time: 1.52 s\n"
     ]
    },
    {
     "data": {
      "text/plain": [
       "2977.3567178343737"
      ]
     },
     "execution_count": 42,
     "metadata": {},
     "output_type": "execute_result"
    }
   ],
   "source": [
    "%%time\n",
    "model_lr = LinearRegression()\n",
    "\n",
    "model_lr.fit(x_train_1, y_train)\n",
    "\n",
    "predictions = model_lr.predict(x_valid_1)\n",
    "mean_squared_error(y_valid,predictions)**0.5"
   ]
  },
  {
   "cell_type": "code",
   "execution_count": 43,
   "metadata": {
    "tags": []
   },
   "outputs": [
    {
     "name": "stdout",
     "output_type": "stream",
     "text": [
      "RMSE = 12273729420969.146\n"
     ]
    }
   ],
   "source": [
    "crossval_rmse_score(model_lr, x_train_1, y_train)"
   ]
  },
  {
   "cell_type": "markdown",
   "metadata": {},
   "source": [
    "Для Линейной регрессии параметры следующие:\n",
    "\n",
    "Обучение и предсказание - 2 секунды\n",
    "\n",
    "RMSE на кросс-валидации - 12273729420969.146"
   ]
  },
  {
   "cell_type": "markdown",
   "metadata": {},
   "source": [
    "<div class=\"alert alert-danger\">\n",
    "<font size=\"4\"><b>❌ Комментарий ревьюера</b></font>\n",
    "    <br /> \n",
    "    <font size=\"3\", color = \"black\">\n",
    "<br /> \n",
    "Линейная модель и OrdinalEncoding очень плохо совместимы. Линейные модели подбирают веса для признаков и при получении предсказания эти веса умножаются на значения признаков, поэтому если ты закодировала model так что, например, skyline==1, а pathfinder=2, то модель как бы считает, что pathfinder в 2 раза круче, чем skyline, а это абсурдное утверждение, особенно учитывая, что ординал энкодер совсем не думает о том что там за категории, у нас может получиться что diablo (модель Ламборгини) == 1, а 2110 (модель ВАЗа) == 10 - вполне корректное кодирование, но мы же понимаем, что с точки зрения линейной модели будет полный абсурд.\n",
    "\n",
    "Поэтому, если хочется использовать линейную модель, то кодировать надо OneHot (или, например, TargetEncoder, но его в sklearn нет). С OneHot есть проблема, что он очень сильно увеличивает объём данных и ядро хаба скорее всего будет падать. Поэтому есть два вариант: 1) для линейной модели исключить самый \"жирный\" Ohe-признак (model) из списка признаков, по которым делается предсказание. 2) Обучать в проекте не линейную модель, а, например, случайный лес.\n",
    "\n",
    "Для других моделей, не линейных, проблем с Ordinal нет, потому что деревья работают иначе, они не подбирают веса, для них ситуация, что diablo == 1, а 2110 == 10 - это просто разные лейблы, а не так что одно в 10 раз круче другого.\n",
    "    </font>\n",
    "</div>"
   ]
  },
  {
   "cell_type": "markdown",
   "metadata": {},
   "source": [
    "<div class=\"alert alert-info\">\n",
    "<font size=\"4\">🙂<b> Комментарий студента</b></font>\n",
    "    <br /> \n",
    "    <font size=\"3\", color = \"black\">\n",
    "<br /> \n",
    "Изменил первым вариантом, интересно было \"добить\" сложный путь, чем просто менять модель\n",
    "    </font>\n",
    "</div>"
   ]
  },
  {
   "cell_type": "markdown",
   "metadata": {},
   "source": [
    "### Метод ближайших соседей"
   ]
  },
  {
   "cell_type": "code",
   "execution_count": 44,
   "metadata": {
    "tags": []
   },
   "outputs": [
    {
     "name": "stdout",
     "output_type": "stream",
     "text": [
      "Fitting 3 folds for each of 6 candidates, totalling 18 fits\n",
      "[CV 1/3] END .................n_neighbors=3, weights=uniform; total time= 1.4min\n",
      "[CV 2/3] END .................n_neighbors=3, weights=uniform; total time= 1.3min\n",
      "[CV 3/3] END .................n_neighbors=3, weights=uniform; total time= 1.4min\n",
      "[CV 1/3] END ................n_neighbors=3, weights=distance; total time= 1.4min\n",
      "[CV 2/3] END ................n_neighbors=3, weights=distance; total time= 1.5min\n",
      "[CV 3/3] END ................n_neighbors=3, weights=distance; total time= 1.4min\n",
      "[CV 1/3] END .................n_neighbors=5, weights=uniform; total time= 2.1min\n",
      "[CV 2/3] END .................n_neighbors=5, weights=uniform; total time= 2.0min\n",
      "[CV 3/3] END .................n_neighbors=5, weights=uniform; total time= 2.0min\n",
      "[CV 1/3] END ................n_neighbors=5, weights=distance; total time= 2.0min\n",
      "[CV 2/3] END ................n_neighbors=5, weights=distance; total time= 1.8min\n",
      "[CV 3/3] END ................n_neighbors=5, weights=distance; total time= 1.8min\n",
      "[CV 1/3] END ................n_neighbors=10, weights=uniform; total time= 2.0min\n",
      "[CV 2/3] END ................n_neighbors=10, weights=uniform; total time= 1.8min\n",
      "[CV 3/3] END ................n_neighbors=10, weights=uniform; total time= 1.9min\n",
      "[CV 1/3] END ...............n_neighbors=10, weights=distance; total time= 1.9min\n",
      "[CV 2/3] END ...............n_neighbors=10, weights=distance; total time= 1.8min\n",
      "[CV 3/3] END ...............n_neighbors=10, weights=distance; total time= 1.8min\n",
      "Лучшие гиперпараметры: {'weights': 'distance', 'n_neighbors': 10}\n"
     ]
    }
   ],
   "source": [
    "param_grid = {\n",
    "    'n_neighbors': [3, 5, 10],\n",
    "    'weights': ['uniform', 'distance']\n",
    "}\n",
    "\n",
    "knn = KNeighborsRegressor()\n",
    "grid_search = RandomizedSearchCV(estimator=knn, \n",
    "                                 param_distributions = param_grid, \n",
    "                                 scoring='neg_root_mean_squared_error',\n",
    "                                 cv = 3,\n",
    "                                 verbose=3)\n",
    "\n",
    "grid_search.fit(x_train_1, y_train)\n",
    "\n",
    "print(\"Лучшие гиперпараметры:\", grid_search.best_params_)"
   ]
  },
  {
   "cell_type": "markdown",
   "metadata": {},
   "source": [
    "<div class=\"alert alert-danger\">\n",
    "<font size=\"4\"><b>❌ Комментарий ревьюера V2</b></font>\n",
    "    <br /> \n",
    "    <font size=\"3\", color = \"black\">\n",
    "        <b></b>\n",
    "\n",
    "Корректное сравнение моделей предполагает, что число фолдов кросс-валидации для всех них одинаково. У тебя для большинства моделей указано `cv=4`, а тут стало 3. Приведи всё к какому-то одному числу, пожалуйста."
   ]
  },
  {
   "cell_type": "markdown",
   "metadata": {},
   "source": [
    "<div class=\"alert alert-success\">\n",
    "<font size=\"4\"><b>✔️ Комментарий ревьюера V2</b></font>\n",
    "    <br /> \n",
    "    <font size=\"3\", color = \"black\">\n",
    "<br />    \n",
    "Подбор гиперпараметров появился"
   ]
  },
  {
   "cell_type": "code",
   "execution_count": 45,
   "metadata": {
    "tags": []
   },
   "outputs": [
    {
     "name": "stdout",
     "output_type": "stream",
     "text": [
      "CPU times: user 5min 14s, sys: 2min 11s, total: 7min 25s\n",
      "Wall time: 2min 35s\n"
     ]
    },
    {
     "data": {
      "text/plain": [
       "1944.9422962938343"
      ]
     },
     "execution_count": 45,
     "metadata": {},
     "output_type": "execute_result"
    }
   ],
   "source": [
    "%%time\n",
    "model_knn = KNeighborsRegressor(n_neighbors=10, weights='distance')\n",
    "\n",
    "model_knn.fit(x_train_1, y_train)\n",
    "\n",
    "predictions = model_knn.predict(x_valid_1)\n",
    "mean_squared_error(y_valid,predictions)**0.5"
   ]
  },
  {
   "cell_type": "code",
   "execution_count": 46,
   "metadata": {
    "tags": []
   },
   "outputs": [
    {
     "name": "stdout",
     "output_type": "stream",
     "text": [
      "RMSE = 2013.5775008026733\n"
     ]
    }
   ],
   "source": [
    "crossval_rmse_score(model_knn, x_train_1, y_train)"
   ]
  },
  {
   "cell_type": "markdown",
   "metadata": {},
   "source": [
    "Для Метода ближайших соседей параметры следующие:\n",
    "\n",
    "Обучение и предсказание - 2 минуты 35 секунд\n",
    "\n",
    "RMSE на кросс-валидации - 2013.58"
   ]
  },
  {
   "cell_type": "markdown",
   "metadata": {},
   "source": [
    "<div class=\"alert alert-danger\">\n",
    "<font size=\"4\"><b>❌ Комментарий ревьюера V2</b></font>\n",
    "    <br /> \n",
    "    <font size=\"3\", color = \"black\">\n",
    "<br /> \n",
    "У тебя в даннoм блoке кoда замеряется время и кросс-валидации и время на обучение мoдели. Давай всё-таки измерять oтдельнo время oбучения?"
   ]
  },
  {
   "cell_type": "markdown",
   "metadata": {},
   "source": [
    "<div class=\"alert alert-danger\">\n",
    "<font size=\"4\"><b>❌ Комментарий ревьюера</b></font>\n",
    "    <br /> \n",
    "    <font size=\"3\", color = \"black\">\n",
    "<br /> \n",
    "С методом ближайших соседей та же проблема, что с линейной. Если diablo == 1, 2110 == 10, urus == 20, то получится, что есть серьёзный шанс, что Lamborghini Diablo ближе к ВАЗ 2110, чем Lamborghini Urus - абсурдно же."
   ]
  },
  {
   "cell_type": "markdown",
   "metadata": {},
   "source": [
    "<div class=\"alert alert-info\">\n",
    "<font size=\"4\">🙂<b> Комментарий студента</b></font>\n",
    "    <br /> \n",
    "    <font size=\"3\", color = \"black\">\n",
    "<br /> \n",
    "Пофиксил\n",
    "    </font>\n",
    "</div>"
   ]
  },
  {
   "cell_type": "markdown",
   "metadata": {},
   "source": [
    "<div class=\"alert alert-danger\">\n",
    "<font size=\"4\"><b>❌ Комментарий ревьюера</b></font>\n",
    "    <br /> \n",
    "    <font size=\"3\", color = \"black\">\n",
    "<br /> \n",
    "Хотя бы для одной модели должен быть хотя бы небольшой подбор гиперпараметров. Ты же дата саентист, исследователь!"
   ]
  },
  {
   "cell_type": "markdown",
   "metadata": {},
   "source": [
    "<div class=\"alert alert-info\">\n",
    "<font size=\"4\">🙂<b> Комментарий студента</b></font>\n",
    "    <br /> \n",
    "    <font size=\"3\", color = \"black\">\n",
    "<br /> \n",
    "Для метода ближайших соседей добавил, гиперпараметров всего 2 и метод RandomSearch, потому что очень долго идет рассчет\n",
    "    </font>\n",
    "</div>"
   ]
  },
  {
   "cell_type": "markdown",
   "metadata": {},
   "source": [
    "### Вывод 2\n",
    "В ходе этой части были проделаны следующие действия:\n",
    "- Погдотовлены данные для обучения\n",
    "- Обучены три модели, лучшая: LightGBM, которая чуть медленнее Линейной регрессии (9 секунд), однако имеет адекватное значение RMSE - 1685.28. Ее и будем тестировать"
   ]
  },
  {
   "cell_type": "markdown",
   "metadata": {},
   "source": [
    "## Анализ моделей"
   ]
  },
  {
   "cell_type": "code",
   "execution_count": 47,
   "metadata": {
    "tags": []
   },
   "outputs": [
    {
     "name": "stdout",
     "output_type": "stream",
     "text": [
      "CPU times: user 9.08 s, sys: 136 ms, total: 9.22 s\n",
      "Wall time: 1.52 s\n"
     ]
    },
    {
     "data": {
      "text/plain": [
       "1627.7013540053854"
      ]
     },
     "execution_count": 47,
     "metadata": {},
     "output_type": "execute_result"
    }
   ],
   "source": [
    "%%time\n",
    "predictions = model_lgbm.predict(x_test)\n",
    "mean_squared_error(y_test,predictions)**0.5"
   ]
  },
  {
   "cell_type": "markdown",
   "metadata": {},
   "source": [
    "<div class=\"alert alert-danger\">\n",
    "<font size=\"4\"><b>❌ Комментарий ревьюера V2</b></font>\n",
    "    <br /> \n",
    "    <font size=\"3\", color = \"black\">\n",
    "<br /> \n",
    "Временные характеристики должны быть исследованы до тестирования. Тo, o чём я чуть ранее гoвoрил - мы тестируем тoлькo лучшую мoдель. Нo в нашем случае лучшесть не oбязательнo тoлькo в метрике. Как гoвoрит oписание прoекта, заказчику интересны метрика, время oбучения и время предсказания. Тo есть для каждoй мoдели мы эти 3 характеристики дoлжны вычислить, пocле чегo решить какую считаем лучшую. Наскoлькo чтo из этих 3 важнее - решать тебе."
   ]
  },
  {
   "cell_type": "code",
   "execution_count": null,
   "metadata": {},
   "outputs": [],
   "source": [
    "#LinearRegression\n",
    "#predictions = model_lr.predict(x_test)\n",
    "#mean_squared_error(y_test,predictions)**0.5"
   ]
  },
  {
   "cell_type": "code",
   "execution_count": null,
   "metadata": {},
   "outputs": [],
   "source": [
    "#KNN\n",
    "#predictions = model_knn.predict(x_test)\n",
    "#mean_squared_error(y_test,predictions)**0.5"
   ]
  },
  {
   "cell_type": "markdown",
   "metadata": {},
   "source": [
    "<div class=\"alert alert-danger\">\n",
    "<font size=\"4\"><b>❌ Комментарий ревьюера</b></font>\n",
    "    <br /> \n",
    "    <font size=\"3\", color = \"black\">\n",
    "<br /> \n",
    "Тестирование != валидация. Этот факт надо понять и принять. Валидируются все модели, а тестируется только лучшая. Закомментируй, пожалуйста, лишнее. ВАЖНО: вычислять время можно вообще на любой выборке, а вот метрики - дело другое."
   ]
  },
  {
   "cell_type": "markdown",
   "metadata": {},
   "source": [
    "<div class=\"alert alert-info\">\n",
    "<font size=\"4\">🙂<b> Комментарий студента</b></font>\n",
    "    <br /> \n",
    "    <font size=\"3\", color = \"black\">\n",
    "<br /> \n",
    "Закомментировал, оставил одну, время предикта добавил\n",
    "    </font>\n",
    "</div>"
   ]
  },
  {
   "cell_type": "markdown",
   "metadata": {},
   "source": [
    "<div class=\"alert alert-danger\">\n",
    "<font size=\"4\"><b>❌ Комментарий ревьюера</b></font>\n",
    "    <br /> \n",
    "    <font size=\"3\", color = \"black\">\n",
    "        <b></b>\n",
    "\n",
    "Заказчик просил в ТЗ изучение не только времени обучения модели, но и времени получения предсказания. У тебя нигде не вижу изучения скорости `predict`. Добавь, пожалуйста, в работу."
   ]
  },
  {
   "cell_type": "markdown",
   "metadata": {},
   "source": [
    "Попробуем так же посмотреть адекватность моделей с помощью **dummyregressor**"
   ]
  },
  {
   "cell_type": "code",
   "execution_count": 48,
   "metadata": {
    "tags": []
   },
   "outputs": [
    {
     "data": {
      "text/plain": [
       "4555.845386864436"
      ]
     },
     "execution_count": 48,
     "metadata": {},
     "output_type": "execute_result"
    }
   ],
   "source": [
    "from sklearn.dummy import DummyRegressor\n",
    "dummy = DummyRegressor(strategy='mean').fit(x_train, y_train)\n",
    "predictions = dummy.predict(x_test)\n",
    "mean_squared_error(y_test,predictions)**0.5"
   ]
  },
  {
   "cell_type": "markdown",
   "metadata": {},
   "source": [
    "<div class=\"alert alert-info\">\n",
    "<font size=\"4\">🙂<b> Комментарий студента</b></font>\n",
    "    <br /> \n",
    "    <font size=\"3\", color = \"black\">\n",
    "<br /> \n",
    "Никита, спасибо за ревью, было полезно. Накосячил много где, согласен. Если есть еще замечания, то буду ждать их. Если есть дополнительные советы/пожелания/знания, то тоже буду рад их получить 🙃\n",
    "    </font>\n",
    "</div>"
   ]
  },
  {
   "cell_type": "markdown",
   "metadata": {},
   "source": [
    "<div class=\"alert alert-info\">\n",
    "<font size=\"4\">🍕<b> Комментарий ревьюера</b></font>\n",
    "    <br /> \n",
    "    <font size=\"3\", color = \"black\">\n",
    "<br />\n",
    "Подведём итоги. Честно, не считаю твою работу плохой. Да, ошибочек немало, но какой-то дичи нет, логика видна. Так что не сомневаюсь, что успешно проект сдашь.\n",
    "\n",
    "Что нужно исправить сейчас:\n",
    "\n",
    "+ Удалить аномалии цен\n",
    "\n",
    "+ Сменить порог адекватности мощности авто\n",
    "\n",
    "+ Поправить порядок шагов кодирования\n",
    "\n",
    "+ Кросс-валидировать бустинг\n",
    "\n",
    "+ Организовать хотя бы небольшой поиск оптимальных гиперпараметров хотя бы для 1 модели\n",
    "\n",
    "+ Не использовать линейную модель и КНН с порядковым кодированием\n",
    "\n",
    "+ Считать метрику на тестовой выборке только для лучшей по валидации модели\n",
    "\n",
    "+ Изучить время получения предсказания моделями\n",
    "\n",
    "Да, немало. Но и чего-то очень сложного нет. Так что жду новую отправку с верой в твой успех!"
   ]
  },
  {
   "cell_type": "markdown",
   "metadata": {},
   "source": [
    "## Общий вывод\n",
    "\n",
    "Исходя из данных полученных в этой работе можно сделать следующие выводы:\n",
    "Наилучшим образом по соотношению время/RMSE показала себя модель LightGBM, которая за 9 секунд обучается и предсказывает цену автомобиля, а метрика RMSE находится ниже заданного порога в 2500 (1627.4)\n",
    "   \n",
    "    \n",
    "\n",
    "\n",
    "**Предложение по использованию оптимальной модели**:\n",
    "\n",
    "По заданным ограничениям (RMSE<2500) рассматривать линейную модель не имеет смысла, не смотря на то, что она оказалась самой быстрой. \n",
    "\n",
    "Из оставшихся двух кандидатов явным лидером является модель LightGBM, которая не только быстрее в несколько раз, но и более точно предсказывает цену автомобиля"
   ]
  },
  {
   "cell_type": "markdown",
   "metadata": {},
   "source": [
    "## Чек-лист проверки"
   ]
  },
  {
   "cell_type": "markdown",
   "metadata": {},
   "source": [
    "Поставьте 'x' в выполненных пунктах. Далее нажмите Shift+Enter."
   ]
  },
  {
   "cell_type": "markdown",
   "metadata": {},
   "source": [
    "- [x]  Jupyter Notebook открыт\n",
    "- [x]  Весь код выполняется без ошибок\n",
    "- [x]  Ячейки с кодом расположены в порядке исполнения\n",
    "- [x]  Выполнена загрузка и подготовка данных\n",
    "- [x]  Выполнено обучение моделей\n",
    "- [x]  Есть анализ скорости работы и качества моделей"
   ]
  },
  {
   "cell_type": "code",
   "execution_count": null,
   "metadata": {},
   "outputs": [],
   "source": []
  }
 ],
 "metadata": {
  "ExecuteTimeLog": [
   {
    "duration": 1859,
    "start_time": "2023-07-19T20:07:50.318Z"
   },
   {
    "duration": 5,
    "start_time": "2023-07-19T20:10:00.036Z"
   },
   {
    "duration": 1083,
    "start_time": "2023-07-19T20:16:58.396Z"
   },
   {
    "duration": 20,
    "start_time": "2023-07-19T20:17:07.187Z"
   },
   {
    "duration": 138,
    "start_time": "2023-07-19T20:22:04.905Z"
   },
   {
    "duration": 230,
    "start_time": "2023-07-20T06:57:26.989Z"
   },
   {
    "duration": 139,
    "start_time": "2023-07-20T06:57:51.255Z"
   },
   {
    "duration": 535,
    "start_time": "2023-07-20T06:58:26.784Z"
   },
   {
    "duration": 164,
    "start_time": "2023-07-20T06:59:10.571Z"
   },
   {
    "duration": 135,
    "start_time": "2023-07-20T06:59:26.270Z"
   },
   {
    "duration": 131,
    "start_time": "2023-07-20T06:59:44.387Z"
   },
   {
    "duration": 4,
    "start_time": "2023-07-20T07:02:36.350Z"
   },
   {
    "duration": 129,
    "start_time": "2023-07-20T07:02:44.902Z"
   },
   {
    "duration": 133,
    "start_time": "2023-07-20T07:22:49.382Z"
   },
   {
    "duration": 130,
    "start_time": "2023-07-20T07:23:58.514Z"
   },
   {
    "duration": 26,
    "start_time": "2023-07-20T07:27:32.367Z"
   },
   {
    "duration": 19,
    "start_time": "2023-07-20T07:27:41.483Z"
   },
   {
    "duration": 20,
    "start_time": "2023-07-20T07:28:06.954Z"
   },
   {
    "duration": 20,
    "start_time": "2023-07-20T07:29:07.086Z"
   },
   {
    "duration": 20,
    "start_time": "2023-07-20T07:29:39.796Z"
   },
   {
    "duration": 22,
    "start_time": "2023-07-20T07:30:09.451Z"
   },
   {
    "duration": 33,
    "start_time": "2023-07-20T10:43:55.606Z"
   },
   {
    "duration": 168,
    "start_time": "2023-07-20T11:09:16.450Z"
   },
   {
    "duration": 140,
    "start_time": "2023-07-20T11:09:22.260Z"
   },
   {
    "duration": 129,
    "start_time": "2023-07-20T11:09:48.990Z"
   },
   {
    "duration": 98,
    "start_time": "2023-07-20T11:10:33.157Z"
   },
   {
    "duration": 119,
    "start_time": "2023-07-20T11:10:37.902Z"
   },
   {
    "duration": 134,
    "start_time": "2023-07-20T11:10:43.062Z"
   },
   {
    "duration": 133,
    "start_time": "2023-07-20T11:10:49.350Z"
   },
   {
    "duration": 109,
    "start_time": "2023-07-20T11:10:55.771Z"
   },
   {
    "duration": 133,
    "start_time": "2023-07-20T11:11:12.051Z"
   },
   {
    "duration": 3,
    "start_time": "2023-07-21T08:12:31.541Z"
   },
   {
    "duration": 30,
    "start_time": "2023-07-21T08:16:08.391Z"
   },
   {
    "duration": 20,
    "start_time": "2023-07-21T08:17:39.403Z"
   },
   {
    "duration": 3,
    "start_time": "2023-07-21T08:19:08.078Z"
   },
   {
    "duration": 114,
    "start_time": "2023-07-21T08:20:15.015Z"
   },
   {
    "duration": 100,
    "start_time": "2023-07-21T08:20:20.798Z"
   },
   {
    "duration": 115,
    "start_time": "2023-07-21T08:21:45.152Z"
   },
   {
    "duration": 120,
    "start_time": "2023-07-21T08:21:53.120Z"
   },
   {
    "duration": 3,
    "start_time": "2023-07-21T08:22:55.128Z"
   },
   {
    "duration": 3,
    "start_time": "2023-07-21T08:23:29.620Z"
   },
   {
    "duration": 110,
    "start_time": "2023-07-21T08:24:02.631Z"
   },
   {
    "duration": 11,
    "start_time": "2023-07-21T08:29:31.334Z"
   },
   {
    "duration": 13,
    "start_time": "2023-07-21T08:29:46.925Z"
   },
   {
    "duration": 10,
    "start_time": "2023-07-21T08:30:10.867Z"
   },
   {
    "duration": 7,
    "start_time": "2023-07-21T08:31:46.172Z"
   },
   {
    "duration": 9,
    "start_time": "2023-07-21T08:32:02.736Z"
   },
   {
    "duration": 386,
    "start_time": "2023-07-21T08:32:16.876Z"
   },
   {
    "duration": 19,
    "start_time": "2023-07-21T08:32:25.529Z"
   },
   {
    "duration": 19,
    "start_time": "2023-07-21T08:34:29.216Z"
   },
   {
    "duration": 6,
    "start_time": "2023-07-21T08:34:35.176Z"
   },
   {
    "duration": 6,
    "start_time": "2023-07-21T08:34:56.395Z"
   },
   {
    "duration": 247,
    "start_time": "2023-07-21T08:39:01.094Z"
   },
   {
    "duration": 136,
    "start_time": "2023-07-21T08:41:47.061Z"
   },
   {
    "duration": 127,
    "start_time": "2023-07-21T08:46:49.697Z"
   },
   {
    "duration": 9,
    "start_time": "2023-07-21T08:54:36.487Z"
   },
   {
    "duration": 14,
    "start_time": "2023-07-21T08:54:44.139Z"
   },
   {
    "duration": 15,
    "start_time": "2023-07-21T08:54:56.620Z"
   },
   {
    "duration": 14,
    "start_time": "2023-07-21T08:55:00.163Z"
   },
   {
    "duration": 15,
    "start_time": "2023-07-21T08:55:03.728Z"
   },
   {
    "duration": 15,
    "start_time": "2023-07-21T08:55:09.335Z"
   },
   {
    "duration": 16,
    "start_time": "2023-07-21T08:55:14.835Z"
   },
   {
    "duration": 13,
    "start_time": "2023-07-21T08:55:21.122Z"
   },
   {
    "duration": 14,
    "start_time": "2023-07-21T08:55:24.385Z"
   },
   {
    "duration": 13,
    "start_time": "2023-07-21T08:55:29.244Z"
   },
   {
    "duration": 13,
    "start_time": "2023-07-21T08:55:34.894Z"
   },
   {
    "duration": 14,
    "start_time": "2023-07-21T08:55:43.020Z"
   },
   {
    "duration": 172,
    "start_time": "2023-07-21T09:03:26.789Z"
   },
   {
    "duration": 166,
    "start_time": "2023-07-21T09:03:34.550Z"
   },
   {
    "duration": 159,
    "start_time": "2023-07-21T09:28:48.581Z"
   },
   {
    "duration": 1434,
    "start_time": "2023-07-21T09:35:35.141Z"
   },
   {
    "duration": 860,
    "start_time": "2023-07-21T09:35:36.577Z"
   },
   {
    "duration": 141,
    "start_time": "2023-07-21T09:35:37.439Z"
   },
   {
    "duration": 15,
    "start_time": "2023-07-21T09:35:37.582Z"
   },
   {
    "duration": 186,
    "start_time": "2023-07-21T09:35:37.599Z"
   },
   {
    "duration": 27,
    "start_time": "2023-07-21T09:35:37.786Z"
   },
   {
    "duration": 13,
    "start_time": "2023-07-21T09:35:37.815Z"
   },
   {
    "duration": 134,
    "start_time": "2023-07-21T09:35:37.829Z"
   },
   {
    "duration": 12,
    "start_time": "2023-07-21T09:35:37.964Z"
   },
   {
    "duration": 166,
    "start_time": "2023-07-21T09:35:37.977Z"
   },
   {
    "duration": 154,
    "start_time": "2023-07-21T09:35:38.145Z"
   },
   {
    "duration": 142,
    "start_time": "2023-07-21T09:35:38.300Z"
   },
   {
    "duration": 13,
    "start_time": "2023-07-21T09:35:38.444Z"
   },
   {
    "duration": 186,
    "start_time": "2023-07-21T09:35:38.475Z"
   },
   {
    "duration": 38,
    "start_time": "2023-07-21T09:39:30.248Z"
   },
   {
    "duration": 23,
    "start_time": "2023-07-21T09:39:49.230Z"
   },
   {
    "duration": 37,
    "start_time": "2023-07-21T09:39:58.315Z"
   },
   {
    "duration": 23,
    "start_time": "2023-07-21T09:40:13.419Z"
   },
   {
    "duration": 37,
    "start_time": "2023-07-21T09:40:25.493Z"
   },
   {
    "duration": 5,
    "start_time": "2023-07-21T09:40:45.250Z"
   },
   {
    "duration": 138,
    "start_time": "2023-07-21T09:40:49.766Z"
   },
   {
    "duration": 35,
    "start_time": "2023-07-21T09:41:20.246Z"
   },
   {
    "duration": 180,
    "start_time": "2023-07-21T09:45:44.072Z"
   },
   {
    "duration": 34,
    "start_time": "2023-07-21T09:46:37.861Z"
   },
   {
    "duration": 33,
    "start_time": "2023-07-21T21:12:55.857Z"
   },
   {
    "duration": 17,
    "start_time": "2023-07-21T21:17:09.150Z"
   },
   {
    "duration": 1201,
    "start_time": "2023-07-21T21:17:54.697Z"
   },
   {
    "duration": 26,
    "start_time": "2023-07-21T21:18:55.896Z"
   },
   {
    "duration": 86,
    "start_time": "2023-07-21T21:19:21.236Z"
   },
   {
    "duration": 33,
    "start_time": "2023-07-21T21:20:01.731Z"
   },
   {
    "duration": 49,
    "start_time": "2023-07-21T21:20:12.866Z"
   },
   {
    "duration": 91,
    "start_time": "2023-07-21T21:20:43.082Z"
   },
   {
    "duration": 58,
    "start_time": "2023-07-21T21:28:33.879Z"
   },
   {
    "duration": 49,
    "start_time": "2023-07-21T21:29:12.841Z"
   },
   {
    "duration": 22,
    "start_time": "2023-07-21T22:36:56.149Z"
   },
   {
    "duration": 22,
    "start_time": "2023-07-21T22:37:03.773Z"
   },
   {
    "duration": 20,
    "start_time": "2023-07-21T22:37:25.942Z"
   },
   {
    "duration": 52,
    "start_time": "2023-07-21T22:37:46.260Z"
   },
   {
    "duration": 47,
    "start_time": "2023-07-21T22:39:10.852Z"
   },
   {
    "duration": 34,
    "start_time": "2023-07-21T22:44:11.484Z"
   },
   {
    "duration": 10,
    "start_time": "2023-07-21T22:52:39.422Z"
   },
   {
    "duration": 118,
    "start_time": "2023-07-21T22:52:46.326Z"
   },
   {
    "duration": 119,
    "start_time": "2023-07-21T22:53:09.197Z"
   },
   {
    "duration": 2331,
    "start_time": "2023-07-21T22:53:54.479Z"
   },
   {
    "duration": 2384,
    "start_time": "2023-07-21T22:54:50.391Z"
   },
   {
    "duration": 2261,
    "start_time": "2023-07-21T22:55:25.901Z"
   },
   {
    "duration": 2381,
    "start_time": "2023-07-21T22:56:55.986Z"
   },
   {
    "duration": 3,
    "start_time": "2023-07-21T22:59:49.801Z"
   },
   {
    "duration": 158,
    "start_time": "2023-07-21T23:00:09.916Z"
   },
   {
    "duration": 152,
    "start_time": "2023-07-21T23:01:30.401Z"
   },
   {
    "duration": 1380,
    "start_time": "2023-07-21T23:01:37.198Z"
   },
   {
    "duration": 854,
    "start_time": "2023-07-21T23:01:38.580Z"
   },
   {
    "duration": 146,
    "start_time": "2023-07-21T23:01:39.436Z"
   },
   {
    "duration": 16,
    "start_time": "2023-07-21T23:01:39.584Z"
   },
   {
    "duration": 193,
    "start_time": "2023-07-21T23:01:39.602Z"
   },
   {
    "duration": 27,
    "start_time": "2023-07-21T23:01:39.797Z"
   },
   {
    "duration": 9,
    "start_time": "2023-07-21T23:01:39.826Z"
   },
   {
    "duration": 235,
    "start_time": "2023-07-21T23:01:39.836Z"
   },
   {
    "duration": 130,
    "start_time": "2023-07-21T23:01:40.076Z"
   },
   {
    "duration": 7,
    "start_time": "2023-07-21T23:01:40.208Z"
   },
   {
    "duration": 167,
    "start_time": "2023-07-21T23:01:40.216Z"
   },
   {
    "duration": 132,
    "start_time": "2023-07-21T23:01:40.385Z"
   },
   {
    "duration": 140,
    "start_time": "2023-07-21T23:01:40.518Z"
   },
   {
    "duration": 26,
    "start_time": "2023-07-21T23:01:40.661Z"
   },
   {
    "duration": 202,
    "start_time": "2023-07-21T23:01:40.688Z"
   },
   {
    "duration": 101,
    "start_time": "2023-07-21T23:01:40.892Z"
   },
   {
    "duration": 43,
    "start_time": "2023-07-21T23:01:40.995Z"
   },
   {
    "duration": 122,
    "start_time": "2023-07-21T23:01:41.040Z"
   },
   {
    "duration": 56,
    "start_time": "2023-07-21T23:01:41.164Z"
   },
   {
    "duration": 64,
    "start_time": "2023-07-21T23:01:41.222Z"
   },
   {
    "duration": 2352,
    "start_time": "2023-07-21T23:01:41.288Z"
   },
   {
    "duration": 40,
    "start_time": "2023-07-21T23:01:43.642Z"
   },
   {
    "duration": 88,
    "start_time": "2023-07-21T23:02:13.236Z"
   },
   {
    "duration": 4,
    "start_time": "2023-07-21T23:04:58.616Z"
   },
   {
    "duration": 2366,
    "start_time": "2023-07-21T23:05:31.779Z"
   },
   {
    "duration": 355,
    "start_time": "2023-07-21T23:06:35.186Z"
   },
   {
    "duration": 1474,
    "start_time": "2023-07-21T23:06:45.166Z"
   },
   {
    "duration": 893,
    "start_time": "2023-07-21T23:06:46.643Z"
   },
   {
    "duration": 149,
    "start_time": "2023-07-21T23:06:47.537Z"
   },
   {
    "duration": 16,
    "start_time": "2023-07-21T23:06:47.688Z"
   },
   {
    "duration": 189,
    "start_time": "2023-07-21T23:06:47.707Z"
   },
   {
    "duration": 28,
    "start_time": "2023-07-21T23:06:47.898Z"
   },
   {
    "duration": 6,
    "start_time": "2023-07-21T23:06:47.928Z"
   },
   {
    "duration": 230,
    "start_time": "2023-07-21T23:06:47.936Z"
   },
   {
    "duration": 133,
    "start_time": "2023-07-21T23:06:48.168Z"
   },
   {
    "duration": 7,
    "start_time": "2023-07-21T23:06:48.303Z"
   },
   {
    "duration": 172,
    "start_time": "2023-07-21T23:06:48.311Z"
   },
   {
    "duration": 151,
    "start_time": "2023-07-21T23:06:48.485Z"
   },
   {
    "duration": 143,
    "start_time": "2023-07-21T23:06:48.637Z"
   },
   {
    "duration": 14,
    "start_time": "2023-07-21T23:06:48.783Z"
   },
   {
    "duration": 211,
    "start_time": "2023-07-21T23:06:48.799Z"
   },
   {
    "duration": 102,
    "start_time": "2023-07-21T23:06:49.012Z"
   },
   {
    "duration": 46,
    "start_time": "2023-07-21T23:06:49.116Z"
   },
   {
    "duration": 108,
    "start_time": "2023-07-21T23:06:49.164Z"
   },
   {
    "duration": 52,
    "start_time": "2023-07-21T23:06:49.275Z"
   },
   {
    "duration": 69,
    "start_time": "2023-07-21T23:06:49.328Z"
   },
   {
    "duration": 4,
    "start_time": "2023-07-21T23:06:49.399Z"
   },
   {
    "duration": 2513,
    "start_time": "2023-07-21T23:06:49.404Z"
   },
   {
    "duration": 457,
    "start_time": "2023-07-21T23:06:51.919Z"
   },
   {
    "duration": 377,
    "start_time": "2023-07-21T23:08:25.263Z"
   },
   {
    "duration": 368,
    "start_time": "2023-07-21T23:08:59.185Z"
   },
   {
    "duration": 32,
    "start_time": "2023-07-21T23:09:08.594Z"
   },
   {
    "duration": 31,
    "start_time": "2023-07-21T23:09:47.274Z"
   },
   {
    "duration": 38,
    "start_time": "2023-07-21T23:10:04.391Z"
   },
   {
    "duration": 33,
    "start_time": "2023-07-21T23:11:24.497Z"
   },
   {
    "duration": 19,
    "start_time": "2023-07-21T23:11:29.362Z"
   },
   {
    "duration": 24,
    "start_time": "2023-07-21T23:11:31.852Z"
   },
   {
    "duration": 82,
    "start_time": "2023-07-21T23:13:07.339Z"
   },
   {
    "duration": 111,
    "start_time": "2023-07-21T23:17:09.759Z"
   },
   {
    "duration": 89,
    "start_time": "2023-07-21T23:17:19.747Z"
   },
   {
    "duration": 68,
    "start_time": "2023-07-21T23:17:26.630Z"
   },
   {
    "duration": 114,
    "start_time": "2023-07-21T23:22:34.117Z"
   },
   {
    "duration": 10,
    "start_time": "2023-07-21T23:38:18.155Z"
   },
   {
    "duration": 7,
    "start_time": "2023-07-21T23:38:22.675Z"
   },
   {
    "duration": 38,
    "start_time": "2023-07-21T23:44:04.366Z"
   },
   {
    "duration": 43,
    "start_time": "2023-07-21T23:45:50.383Z"
   },
   {
    "duration": 203,
    "start_time": "2023-07-21T23:45:59.639Z"
   },
   {
    "duration": 4,
    "start_time": "2023-07-21T23:47:16.039Z"
   },
   {
    "duration": 1402,
    "start_time": "2023-07-21T23:47:21.480Z"
   },
   {
    "duration": 856,
    "start_time": "2023-07-21T23:47:22.886Z"
   },
   {
    "duration": 146,
    "start_time": "2023-07-21T23:47:23.744Z"
   },
   {
    "duration": 19,
    "start_time": "2023-07-21T23:47:23.893Z"
   },
   {
    "duration": 189,
    "start_time": "2023-07-21T23:47:23.915Z"
   },
   {
    "duration": 23,
    "start_time": "2023-07-21T23:47:24.106Z"
   },
   {
    "duration": 34,
    "start_time": "2023-07-21T23:47:24.131Z"
   },
   {
    "duration": 237,
    "start_time": "2023-07-21T23:47:24.167Z"
   },
   {
    "duration": 128,
    "start_time": "2023-07-21T23:47:24.405Z"
   },
   {
    "duration": 7,
    "start_time": "2023-07-21T23:47:24.535Z"
   },
   {
    "duration": 164,
    "start_time": "2023-07-21T23:47:24.543Z"
   },
   {
    "duration": 145,
    "start_time": "2023-07-21T23:47:24.709Z"
   },
   {
    "duration": 140,
    "start_time": "2023-07-21T23:47:24.856Z"
   },
   {
    "duration": 14,
    "start_time": "2023-07-21T23:47:24.997Z"
   },
   {
    "duration": 188,
    "start_time": "2023-07-21T23:47:25.013Z"
   },
   {
    "duration": 97,
    "start_time": "2023-07-21T23:47:25.203Z"
   },
   {
    "duration": 39,
    "start_time": "2023-07-21T23:47:25.301Z"
   },
   {
    "duration": 104,
    "start_time": "2023-07-21T23:47:25.342Z"
   },
   {
    "duration": 60,
    "start_time": "2023-07-21T23:47:25.448Z"
   },
   {
    "duration": 50,
    "start_time": "2023-07-21T23:47:25.510Z"
   },
   {
    "duration": 78,
    "start_time": "2023-07-21T23:47:25.574Z"
   },
   {
    "duration": 2321,
    "start_time": "2023-07-21T23:47:25.654Z"
   },
   {
    "duration": 439,
    "start_time": "2023-07-21T23:47:27.977Z"
   },
   {
    "duration": 375,
    "start_time": "2023-07-21T23:47:28.418Z"
   },
   {
    "duration": 367,
    "start_time": "2023-07-21T23:47:28.795Z"
   },
   {
    "duration": 44,
    "start_time": "2023-07-21T23:47:29.164Z"
   },
   {
    "duration": 89,
    "start_time": "2023-07-21T23:47:29.209Z"
   },
   {
    "duration": 25,
    "start_time": "2023-07-21T23:47:29.301Z"
   },
   {
    "duration": 88,
    "start_time": "2023-07-21T23:47:29.328Z"
   },
   {
    "duration": 125,
    "start_time": "2023-07-21T23:47:29.418Z"
   },
   {
    "duration": 7,
    "start_time": "2023-07-21T23:47:29.545Z"
   },
   {
    "duration": 52,
    "start_time": "2023-07-21T23:47:29.553Z"
   },
   {
    "duration": 219,
    "start_time": "2023-07-21T23:47:29.607Z"
   },
   {
    "duration": 107,
    "start_time": "2023-07-22T00:05:21.335Z"
   },
   {
    "duration": 1413,
    "start_time": "2023-07-22T00:05:28.801Z"
   },
   {
    "duration": 845,
    "start_time": "2023-07-22T00:05:30.217Z"
   },
   {
    "duration": 142,
    "start_time": "2023-07-22T00:05:31.064Z"
   },
   {
    "duration": 89,
    "start_time": "2023-07-22T00:05:31.208Z"
   },
   {
    "duration": 216,
    "start_time": "2023-07-22T00:05:31.300Z"
   },
   {
    "duration": 25,
    "start_time": "2023-07-22T00:05:31.517Z"
   },
   {
    "duration": 48,
    "start_time": "2023-07-22T00:05:31.544Z"
   },
   {
    "duration": 275,
    "start_time": "2023-07-22T00:05:31.594Z"
   },
   {
    "duration": 133,
    "start_time": "2023-07-22T00:05:31.875Z"
   },
   {
    "duration": 64,
    "start_time": "2023-07-22T00:05:32.009Z"
   },
   {
    "duration": 191,
    "start_time": "2023-07-22T00:05:32.075Z"
   },
   {
    "duration": 150,
    "start_time": "2023-07-22T00:05:32.274Z"
   },
   {
    "duration": 142,
    "start_time": "2023-07-22T00:05:32.426Z"
   },
   {
    "duration": 13,
    "start_time": "2023-07-22T00:05:32.576Z"
   },
   {
    "duration": 175,
    "start_time": "2023-07-22T00:05:32.590Z"
   },
   {
    "duration": 89,
    "start_time": "2023-07-22T00:05:32.775Z"
   },
   {
    "duration": 41,
    "start_time": "2023-07-22T00:05:32.866Z"
   },
   {
    "duration": 109,
    "start_time": "2023-07-22T00:05:32.908Z"
   },
   {
    "duration": 56,
    "start_time": "2023-07-22T00:05:33.019Z"
   },
   {
    "duration": 52,
    "start_time": "2023-07-22T00:05:33.077Z"
   },
   {
    "duration": 88,
    "start_time": "2023-07-22T00:05:33.131Z"
   },
   {
    "duration": 2371,
    "start_time": "2023-07-22T00:05:33.220Z"
   },
   {
    "duration": 429,
    "start_time": "2023-07-22T00:05:35.593Z"
   },
   {
    "duration": 378,
    "start_time": "2023-07-22T00:05:36.024Z"
   },
   {
    "duration": 357,
    "start_time": "2023-07-22T00:05:36.404Z"
   },
   {
    "duration": 38,
    "start_time": "2023-07-22T00:05:36.763Z"
   },
   {
    "duration": 18,
    "start_time": "2023-07-22T00:05:36.803Z"
   },
   {
    "duration": 25,
    "start_time": "2023-07-22T00:05:36.822Z"
   },
   {
    "duration": 100,
    "start_time": "2023-07-22T00:05:36.849Z"
   },
   {
    "duration": 120,
    "start_time": "2023-07-22T00:05:36.950Z"
   },
   {
    "duration": 7,
    "start_time": "2023-07-22T00:05:37.074Z"
   },
   {
    "duration": 579,
    "start_time": "2023-07-22T00:05:37.082Z"
   },
   {
    "duration": 39,
    "start_time": "2023-07-22T00:05:37.662Z"
   },
   {
    "duration": 90,
    "start_time": "2023-07-22T00:05:37.703Z"
   },
   {
    "duration": 461,
    "start_time": "2023-07-22T00:05:44.238Z"
   },
   {
    "duration": 84,
    "start_time": "2023-07-22T00:08:18.432Z"
   },
   {
    "duration": 455,
    "start_time": "2023-07-22T00:08:20.321Z"
   },
   {
    "duration": 540,
    "start_time": "2023-07-22T00:08:37.666Z"
   },
   {
    "duration": 452,
    "start_time": "2023-07-22T00:08:50.476Z"
   },
   {
    "duration": 1375,
    "start_time": "2023-07-22T00:09:23.022Z"
   },
   {
    "duration": 840,
    "start_time": "2023-07-22T00:09:24.399Z"
   },
   {
    "duration": 145,
    "start_time": "2023-07-22T00:09:25.241Z"
   },
   {
    "duration": 16,
    "start_time": "2023-07-22T00:09:25.387Z"
   },
   {
    "duration": 182,
    "start_time": "2023-07-22T00:09:25.405Z"
   },
   {
    "duration": 26,
    "start_time": "2023-07-22T00:09:25.588Z"
   },
   {
    "duration": 6,
    "start_time": "2023-07-22T00:09:25.616Z"
   },
   {
    "duration": 223,
    "start_time": "2023-07-22T00:09:25.624Z"
   },
   {
    "duration": 128,
    "start_time": "2023-07-22T00:09:25.849Z"
   },
   {
    "duration": 6,
    "start_time": "2023-07-22T00:09:25.979Z"
   },
   {
    "duration": 170,
    "start_time": "2023-07-22T00:09:25.987Z"
   },
   {
    "duration": 170,
    "start_time": "2023-07-22T00:09:26.159Z"
   },
   {
    "duration": 136,
    "start_time": "2023-07-22T00:09:26.330Z"
   },
   {
    "duration": 13,
    "start_time": "2023-07-22T00:09:26.474Z"
   },
   {
    "duration": 186,
    "start_time": "2023-07-22T00:09:26.489Z"
   },
   {
    "duration": 104,
    "start_time": "2023-07-22T00:09:26.676Z"
   },
   {
    "duration": 33,
    "start_time": "2023-07-22T00:09:26.782Z"
   },
   {
    "duration": 104,
    "start_time": "2023-07-22T00:09:26.817Z"
   },
   {
    "duration": 58,
    "start_time": "2023-07-22T00:09:26.923Z"
   },
   {
    "duration": 52,
    "start_time": "2023-07-22T00:09:26.983Z"
   },
   {
    "duration": 93,
    "start_time": "2023-07-22T00:09:27.037Z"
   },
   {
    "duration": 2336,
    "start_time": "2023-07-22T00:09:27.132Z"
   },
   {
    "duration": 437,
    "start_time": "2023-07-22T00:09:29.469Z"
   },
   {
    "duration": 385,
    "start_time": "2023-07-22T00:09:29.908Z"
   },
   {
    "duration": 359,
    "start_time": "2023-07-22T00:09:30.295Z"
   },
   {
    "duration": 38,
    "start_time": "2023-07-22T00:09:30.656Z"
   },
   {
    "duration": 64,
    "start_time": "2023-07-22T00:09:30.696Z"
   },
   {
    "duration": 73,
    "start_time": "2023-07-22T00:09:30.761Z"
   },
   {
    "duration": 117,
    "start_time": "2023-07-22T00:09:30.836Z"
   },
   {
    "duration": 126,
    "start_time": "2023-07-22T00:09:30.955Z"
   },
   {
    "duration": 7,
    "start_time": "2023-07-22T00:09:31.083Z"
   },
   {
    "duration": 616,
    "start_time": "2023-07-22T00:09:31.092Z"
   },
   {
    "duration": 40,
    "start_time": "2023-07-22T00:09:31.710Z"
   },
   {
    "duration": 104,
    "start_time": "2023-07-22T00:09:31.752Z"
   },
   {
    "duration": 57413,
    "start_time": "2023-07-22T00:55:16.089Z"
   },
   {
    "duration": 54593,
    "start_time": "2023-07-22T00:59:05.589Z"
   },
   {
    "duration": 5,
    "start_time": "2023-07-22T01:03:43.473Z"
   },
   {
    "duration": 136,
    "start_time": "2023-07-22T01:10:15.355Z"
   },
   {
    "duration": 1398,
    "start_time": "2023-07-22T01:10:23.604Z"
   },
   {
    "duration": 1115,
    "start_time": "2023-07-22T01:10:25.004Z"
   },
   {
    "duration": 140,
    "start_time": "2023-07-22T01:10:26.120Z"
   },
   {
    "duration": 29,
    "start_time": "2023-07-22T01:10:26.262Z"
   },
   {
    "duration": 186,
    "start_time": "2023-07-22T01:10:26.293Z"
   },
   {
    "duration": 28,
    "start_time": "2023-07-22T01:10:26.481Z"
   },
   {
    "duration": 12,
    "start_time": "2023-07-22T01:10:26.510Z"
   },
   {
    "duration": 213,
    "start_time": "2023-07-22T01:10:26.523Z"
   },
   {
    "duration": 124,
    "start_time": "2023-07-22T01:10:26.738Z"
   },
   {
    "duration": 12,
    "start_time": "2023-07-22T01:10:26.864Z"
   },
   {
    "duration": 157,
    "start_time": "2023-07-22T01:10:26.877Z"
   },
   {
    "duration": 141,
    "start_time": "2023-07-22T01:10:27.036Z"
   },
   {
    "duration": 142,
    "start_time": "2023-07-22T01:10:27.179Z"
   },
   {
    "duration": 15,
    "start_time": "2023-07-22T01:10:27.324Z"
   },
   {
    "duration": 196,
    "start_time": "2023-07-22T01:10:27.340Z"
   },
   {
    "duration": 97,
    "start_time": "2023-07-22T01:10:27.538Z"
   },
   {
    "duration": 43,
    "start_time": "2023-07-22T01:10:27.636Z"
   },
   {
    "duration": 99,
    "start_time": "2023-07-22T01:10:27.681Z"
   },
   {
    "duration": 47,
    "start_time": "2023-07-22T01:10:27.781Z"
   },
   {
    "duration": 62,
    "start_time": "2023-07-22T01:10:27.830Z"
   },
   {
    "duration": 85,
    "start_time": "2023-07-22T01:10:27.894Z"
   },
   {
    "duration": 2351,
    "start_time": "2023-07-22T01:10:27.980Z"
   },
   {
    "duration": 435,
    "start_time": "2023-07-22T01:10:30.333Z"
   },
   {
    "duration": 387,
    "start_time": "2023-07-22T01:10:30.770Z"
   },
   {
    "duration": 371,
    "start_time": "2023-07-22T01:10:31.159Z"
   },
   {
    "duration": 43,
    "start_time": "2023-07-22T01:10:31.532Z"
   },
   {
    "duration": 58,
    "start_time": "2023-07-22T01:10:31.577Z"
   },
   {
    "duration": 184,
    "start_time": "2023-07-22T01:10:31.636Z"
   },
   {
    "duration": 177,
    "start_time": "2023-07-22T01:10:31.821Z"
   },
   {
    "duration": 124,
    "start_time": "2023-07-22T01:10:32.000Z"
   },
   {
    "duration": 6,
    "start_time": "2023-07-22T01:10:32.126Z"
   },
   {
    "duration": 616,
    "start_time": "2023-07-22T01:10:32.134Z"
   },
   {
    "duration": 47,
    "start_time": "2023-07-22T01:10:32.752Z"
   },
   {
    "duration": 92,
    "start_time": "2023-07-22T01:10:32.800Z"
   },
   {
    "duration": 53502,
    "start_time": "2023-07-22T01:10:32.894Z"
   },
   {
    "duration": 152,
    "start_time": "2023-07-22T01:12:46.141Z"
   },
   {
    "duration": 7,
    "start_time": "2023-07-22T01:13:20.711Z"
   },
   {
    "duration": 1477,
    "start_time": "2023-07-22T01:13:29.865Z"
   },
   {
    "duration": 1149,
    "start_time": "2023-07-22T01:13:31.345Z"
   },
   {
    "duration": 138,
    "start_time": "2023-07-22T01:13:32.496Z"
   },
   {
    "duration": 15,
    "start_time": "2023-07-22T01:13:32.636Z"
   },
   {
    "duration": 189,
    "start_time": "2023-07-22T01:13:32.654Z"
   },
   {
    "duration": 31,
    "start_time": "2023-07-22T01:13:32.845Z"
   },
   {
    "duration": 17,
    "start_time": "2023-07-22T01:13:32.878Z"
   },
   {
    "duration": 214,
    "start_time": "2023-07-22T01:13:32.897Z"
   },
   {
    "duration": 134,
    "start_time": "2023-07-22T01:13:33.113Z"
   },
   {
    "duration": 6,
    "start_time": "2023-07-22T01:13:33.249Z"
   },
   {
    "duration": 170,
    "start_time": "2023-07-22T01:13:33.257Z"
   },
   {
    "duration": 143,
    "start_time": "2023-07-22T01:13:33.429Z"
   },
   {
    "duration": 135,
    "start_time": "2023-07-22T01:13:33.575Z"
   },
   {
    "duration": 13,
    "start_time": "2023-07-22T01:13:33.713Z"
   },
   {
    "duration": 214,
    "start_time": "2023-07-22T01:13:33.728Z"
   },
   {
    "duration": 99,
    "start_time": "2023-07-22T01:13:33.943Z"
   },
   {
    "duration": 46,
    "start_time": "2023-07-22T01:13:34.043Z"
   },
   {
    "duration": 100,
    "start_time": "2023-07-22T01:13:34.090Z"
   },
   {
    "duration": 52,
    "start_time": "2023-07-22T01:13:34.192Z"
   },
   {
    "duration": 70,
    "start_time": "2023-07-22T01:13:34.246Z"
   },
   {
    "duration": 96,
    "start_time": "2023-07-22T01:13:34.318Z"
   },
   {
    "duration": 2299,
    "start_time": "2023-07-22T01:13:34.416Z"
   },
   {
    "duration": 430,
    "start_time": "2023-07-22T01:13:36.716Z"
   },
   {
    "duration": 377,
    "start_time": "2023-07-22T01:13:37.148Z"
   },
   {
    "duration": 347,
    "start_time": "2023-07-22T01:13:37.527Z"
   },
   {
    "duration": 33,
    "start_time": "2023-07-22T01:13:37.875Z"
   },
   {
    "duration": 17,
    "start_time": "2023-07-22T01:13:37.910Z"
   },
   {
    "duration": 20,
    "start_time": "2023-07-22T01:13:37.929Z"
   },
   {
    "duration": 103,
    "start_time": "2023-07-22T01:13:37.951Z"
   },
   {
    "duration": 122,
    "start_time": "2023-07-22T01:13:38.055Z"
   },
   {
    "duration": 6,
    "start_time": "2023-07-22T01:13:38.179Z"
   },
   {
    "duration": 624,
    "start_time": "2023-07-22T01:13:38.187Z"
   },
   {
    "duration": 39,
    "start_time": "2023-07-22T01:13:38.813Z"
   },
   {
    "duration": 100,
    "start_time": "2023-07-22T01:13:38.854Z"
   },
   {
    "duration": 52440,
    "start_time": "2023-07-22T01:13:38.956Z"
   },
   {
    "duration": 193,
    "start_time": "2023-07-22T01:16:18.770Z"
   },
   {
    "duration": 138,
    "start_time": "2023-07-22T01:16:40.177Z"
   },
   {
    "duration": 89,
    "start_time": "2023-07-22T01:16:44.105Z"
   },
   {
    "duration": 355,
    "start_time": "2023-07-22T01:17:16.908Z"
   },
   {
    "duration": 5282,
    "start_time": "2023-07-22T01:17:35.729Z"
   },
   {
    "duration": 1111,
    "start_time": "2023-07-22T01:17:45.123Z"
   },
   {
    "duration": 129,
    "start_time": "2023-07-22T01:17:50.166Z"
   },
   {
    "duration": 16,
    "start_time": "2023-07-22T01:17:51.493Z"
   },
   {
    "duration": 170,
    "start_time": "2023-07-22T01:17:52.554Z"
   },
   {
    "duration": 24,
    "start_time": "2023-07-22T01:17:54.391Z"
   },
   {
    "duration": 3,
    "start_time": "2023-07-22T01:17:55.202Z"
   },
   {
    "duration": 198,
    "start_time": "2023-07-22T01:17:55.992Z"
   },
   {
    "duration": 121,
    "start_time": "2023-07-22T01:17:57.777Z"
   },
   {
    "duration": 7,
    "start_time": "2023-07-22T01:17:59.214Z"
   },
   {
    "duration": 148,
    "start_time": "2023-07-22T01:18:00.427Z"
   },
   {
    "duration": 142,
    "start_time": "2023-07-22T01:18:01.710Z"
   },
   {
    "duration": 125,
    "start_time": "2023-07-22T01:18:03.399Z"
   },
   {
    "duration": 14,
    "start_time": "2023-07-22T01:18:04.674Z"
   },
   {
    "duration": 253,
    "start_time": "2023-07-22T01:18:06.371Z"
   },
   {
    "duration": 89,
    "start_time": "2023-07-22T01:18:07.696Z"
   },
   {
    "duration": 34,
    "start_time": "2023-07-22T01:18:08.977Z"
   },
   {
    "duration": 93,
    "start_time": "2023-07-22T01:18:10.825Z"
   },
   {
    "duration": 52,
    "start_time": "2023-07-22T01:18:12.641Z"
   },
   {
    "duration": 55,
    "start_time": "2023-07-22T01:18:14.087Z"
   },
   {
    "duration": 4,
    "start_time": "2023-07-22T01:18:15.300Z"
   },
   {
    "duration": 2430,
    "start_time": "2023-07-22T01:18:17.056Z"
   },
   {
    "duration": 368,
    "start_time": "2023-07-22T01:18:20.469Z"
   },
   {
    "duration": 372,
    "start_time": "2023-07-22T01:18:22.092Z"
   },
   {
    "duration": 351,
    "start_time": "2023-07-22T01:18:23.238Z"
   },
   {
    "duration": 33,
    "start_time": "2023-07-22T01:18:24.437Z"
   },
   {
    "duration": 18,
    "start_time": "2023-07-22T01:18:25.510Z"
   },
   {
    "duration": 24,
    "start_time": "2023-07-22T01:18:27.160Z"
   },
   {
    "duration": 81,
    "start_time": "2023-07-22T01:18:28.551Z"
   },
   {
    "duration": 111,
    "start_time": "2023-07-22T01:18:30.623Z"
   },
   {
    "duration": 9,
    "start_time": "2023-07-22T01:18:41.918Z"
   },
   {
    "duration": 368,
    "start_time": "2023-07-22T01:19:05.223Z"
   },
   {
    "duration": 96,
    "start_time": "2023-07-22T01:19:17.919Z"
   },
   {
    "duration": 1507,
    "start_time": "2023-07-22T01:20:33.949Z"
   },
   {
    "duration": 882,
    "start_time": "2023-07-22T01:20:35.458Z"
   },
   {
    "duration": 141,
    "start_time": "2023-07-22T01:20:36.341Z"
   },
   {
    "duration": 16,
    "start_time": "2023-07-22T01:20:36.484Z"
   },
   {
    "duration": 187,
    "start_time": "2023-07-22T01:20:36.502Z"
   },
   {
    "duration": 23,
    "start_time": "2023-07-22T01:20:36.691Z"
   },
   {
    "duration": 11,
    "start_time": "2023-07-22T01:20:36.716Z"
   },
   {
    "duration": 223,
    "start_time": "2023-07-22T01:20:36.729Z"
   },
   {
    "duration": 129,
    "start_time": "2023-07-22T01:20:36.953Z"
   },
   {
    "duration": 7,
    "start_time": "2023-07-22T01:20:37.083Z"
   },
   {
    "duration": 170,
    "start_time": "2023-07-22T01:20:37.092Z"
   },
   {
    "duration": 146,
    "start_time": "2023-07-22T01:20:37.263Z"
   },
   {
    "duration": 137,
    "start_time": "2023-07-22T01:20:37.411Z"
   },
   {
    "duration": 25,
    "start_time": "2023-07-22T01:20:37.551Z"
   },
   {
    "duration": 273,
    "start_time": "2023-07-22T01:20:37.577Z"
   },
   {
    "duration": 94,
    "start_time": "2023-07-22T01:20:37.852Z"
   },
   {
    "duration": 46,
    "start_time": "2023-07-22T01:20:37.948Z"
   },
   {
    "duration": 104,
    "start_time": "2023-07-22T01:20:37.996Z"
   },
   {
    "duration": 51,
    "start_time": "2023-07-22T01:20:38.102Z"
   },
   {
    "duration": 66,
    "start_time": "2023-07-22T01:20:38.154Z"
   },
   {
    "duration": 4,
    "start_time": "2023-07-22T01:20:38.222Z"
   },
   {
    "duration": 2432,
    "start_time": "2023-07-22T01:20:38.228Z"
   },
   {
    "duration": 363,
    "start_time": "2023-07-22T01:20:40.662Z"
   },
   {
    "duration": 394,
    "start_time": "2023-07-22T01:20:41.027Z"
   },
   {
    "duration": 392,
    "start_time": "2023-07-22T01:20:41.423Z"
   },
   {
    "duration": 34,
    "start_time": "2023-07-22T01:20:41.817Z"
   },
   {
    "duration": 26,
    "start_time": "2023-07-22T01:20:41.853Z"
   },
   {
    "duration": 27,
    "start_time": "2023-07-22T01:20:41.881Z"
   },
   {
    "duration": 97,
    "start_time": "2023-07-22T01:20:41.910Z"
   },
   {
    "duration": 120,
    "start_time": "2023-07-22T01:20:42.008Z"
   },
   {
    "duration": 3,
    "start_time": "2023-07-22T01:20:42.130Z"
   },
   {
    "duration": 23,
    "start_time": "2023-07-22T01:20:42.134Z"
   },
   {
    "duration": 613,
    "start_time": "2023-07-22T01:20:42.158Z"
   },
   {
    "duration": 36,
    "start_time": "2023-07-22T01:20:42.776Z"
   },
   {
    "duration": 108,
    "start_time": "2023-07-22T01:20:42.814Z"
   },
   {
    "duration": 53774,
    "start_time": "2023-07-22T01:20:42.924Z"
   },
   {
    "duration": 1526,
    "start_time": "2023-07-22T01:22:30.667Z"
   },
   {
    "duration": 1126,
    "start_time": "2023-07-22T01:22:32.194Z"
   },
   {
    "duration": 144,
    "start_time": "2023-07-22T01:22:33.321Z"
   },
   {
    "duration": 20,
    "start_time": "2023-07-22T01:22:33.468Z"
   },
   {
    "duration": 191,
    "start_time": "2023-07-22T01:22:33.490Z"
   },
   {
    "duration": 28,
    "start_time": "2023-07-22T01:22:33.682Z"
   },
   {
    "duration": 22,
    "start_time": "2023-07-22T01:22:33.712Z"
   },
   {
    "duration": 307,
    "start_time": "2023-07-22T01:22:33.736Z"
   },
   {
    "duration": 135,
    "start_time": "2023-07-22T01:22:34.044Z"
   },
   {
    "duration": 7,
    "start_time": "2023-07-22T01:22:34.182Z"
   },
   {
    "duration": 173,
    "start_time": "2023-07-22T01:22:34.191Z"
   },
   {
    "duration": 150,
    "start_time": "2023-07-22T01:22:34.366Z"
   },
   {
    "duration": 143,
    "start_time": "2023-07-22T01:22:34.518Z"
   },
   {
    "duration": 22,
    "start_time": "2023-07-22T01:22:34.663Z"
   },
   {
    "duration": 260,
    "start_time": "2023-07-22T01:22:34.687Z"
   },
   {
    "duration": 99,
    "start_time": "2023-07-22T01:22:34.949Z"
   },
   {
    "duration": 47,
    "start_time": "2023-07-22T01:22:35.049Z"
   },
   {
    "duration": 98,
    "start_time": "2023-07-22T01:22:35.097Z"
   },
   {
    "duration": 56,
    "start_time": "2023-07-22T01:22:35.197Z"
   },
   {
    "duration": 68,
    "start_time": "2023-07-22T01:22:35.254Z"
   },
   {
    "duration": 4,
    "start_time": "2023-07-22T01:22:35.324Z"
   },
   {
    "duration": 2432,
    "start_time": "2023-07-22T01:22:35.329Z"
   },
   {
    "duration": 367,
    "start_time": "2023-07-22T01:22:37.763Z"
   },
   {
    "duration": 375,
    "start_time": "2023-07-22T01:22:38.132Z"
   },
   {
    "duration": 375,
    "start_time": "2023-07-22T01:22:38.509Z"
   },
   {
    "duration": 35,
    "start_time": "2023-07-22T01:22:38.886Z"
   },
   {
    "duration": 17,
    "start_time": "2023-07-22T01:22:38.923Z"
   },
   {
    "duration": 38,
    "start_time": "2023-07-22T01:22:38.943Z"
   },
   {
    "duration": 81,
    "start_time": "2023-07-22T01:22:38.983Z"
   },
   {
    "duration": 119,
    "start_time": "2023-07-22T01:22:39.075Z"
   },
   {
    "duration": 3,
    "start_time": "2023-07-22T01:22:39.195Z"
   },
   {
    "duration": 17,
    "start_time": "2023-07-22T01:22:39.200Z"
   },
   {
    "duration": 596,
    "start_time": "2023-07-22T01:22:39.219Z"
   },
   {
    "duration": 2,
    "start_time": "2023-07-22T01:22:39.817Z"
   },
   {
    "duration": 57,
    "start_time": "2023-07-22T01:22:39.821Z"
   },
   {
    "duration": 95,
    "start_time": "2023-07-22T01:22:39.880Z"
   },
   {
    "duration": 3,
    "start_time": "2023-07-22T01:22:39.977Z"
   },
   {
    "duration": 53811,
    "start_time": "2023-07-22T01:22:39.982Z"
   },
   {
    "duration": 139,
    "start_time": "2023-07-22T01:24:25.825Z"
   },
   {
    "duration": 3,
    "start_time": "2023-07-22T01:26:39.974Z"
   },
   {
    "duration": 9,
    "start_time": "2023-07-22T01:27:12.718Z"
   },
   {
    "duration": 1494,
    "start_time": "2023-07-22T01:29:33.952Z"
   },
   {
    "duration": 1114,
    "start_time": "2023-07-22T01:29:35.448Z"
   },
   {
    "duration": 129,
    "start_time": "2023-07-22T01:29:36.563Z"
   },
   {
    "duration": 15,
    "start_time": "2023-07-22T01:29:36.694Z"
   },
   {
    "duration": 190,
    "start_time": "2023-07-22T01:29:36.712Z"
   },
   {
    "duration": 25,
    "start_time": "2023-07-22T01:29:36.903Z"
   },
   {
    "duration": 3,
    "start_time": "2023-07-22T01:29:36.929Z"
   },
   {
    "duration": 217,
    "start_time": "2023-07-22T01:29:36.934Z"
   },
   {
    "duration": 130,
    "start_time": "2023-07-22T01:29:37.153Z"
   },
   {
    "duration": 8,
    "start_time": "2023-07-22T01:29:37.285Z"
   },
   {
    "duration": 166,
    "start_time": "2023-07-22T01:29:37.295Z"
   },
   {
    "duration": 152,
    "start_time": "2023-07-22T01:29:37.463Z"
   },
   {
    "duration": 139,
    "start_time": "2023-07-22T01:29:37.617Z"
   },
   {
    "duration": 27,
    "start_time": "2023-07-22T01:29:37.760Z"
   },
   {
    "duration": 259,
    "start_time": "2023-07-22T01:29:37.788Z"
   },
   {
    "duration": 98,
    "start_time": "2023-07-22T01:29:38.049Z"
   },
   {
    "duration": 45,
    "start_time": "2023-07-22T01:29:38.149Z"
   },
   {
    "duration": 100,
    "start_time": "2023-07-22T01:29:38.196Z"
   },
   {
    "duration": 51,
    "start_time": "2023-07-22T01:29:38.298Z"
   },
   {
    "duration": 63,
    "start_time": "2023-07-22T01:29:38.351Z"
   },
   {
    "duration": 8,
    "start_time": "2023-07-22T01:29:38.416Z"
   },
   {
    "duration": 2355,
    "start_time": "2023-07-22T01:29:38.425Z"
   },
   {
    "duration": 356,
    "start_time": "2023-07-22T01:29:40.781Z"
   },
   {
    "duration": 387,
    "start_time": "2023-07-22T01:29:41.139Z"
   },
   {
    "duration": 391,
    "start_time": "2023-07-22T01:29:41.528Z"
   },
   {
    "duration": 35,
    "start_time": "2023-07-22T01:29:41.920Z"
   },
   {
    "duration": 29,
    "start_time": "2023-07-22T01:29:41.956Z"
   },
   {
    "duration": 23,
    "start_time": "2023-07-22T01:29:41.987Z"
   },
   {
    "duration": 94,
    "start_time": "2023-07-22T01:29:42.012Z"
   },
   {
    "duration": 121,
    "start_time": "2023-07-22T01:29:42.108Z"
   },
   {
    "duration": 2,
    "start_time": "2023-07-22T01:29:42.231Z"
   },
   {
    "duration": 22,
    "start_time": "2023-07-22T01:29:42.235Z"
   },
   {
    "duration": 600,
    "start_time": "2023-07-22T01:29:42.258Z"
   },
   {
    "duration": 2,
    "start_time": "2023-07-22T01:29:42.860Z"
   },
   {
    "duration": 60,
    "start_time": "2023-07-22T01:29:42.877Z"
   },
   {
    "duration": 128,
    "start_time": "2023-07-22T01:29:42.939Z"
   },
   {
    "duration": 5,
    "start_time": "2023-07-22T01:29:43.069Z"
   },
   {
    "duration": 54716,
    "start_time": "2023-07-22T01:29:43.076Z"
   },
   {
    "duration": 1598,
    "start_time": "2023-07-22T01:31:27.853Z"
   },
   {
    "duration": 1161,
    "start_time": "2023-07-22T01:31:29.453Z"
   },
   {
    "duration": 151,
    "start_time": "2023-07-22T01:31:30.616Z"
   },
   {
    "duration": 19,
    "start_time": "2023-07-22T01:31:30.769Z"
   },
   {
    "duration": 402,
    "start_time": "2023-07-22T01:31:30.790Z"
   },
   {
    "duration": 29,
    "start_time": "2023-07-22T01:31:31.193Z"
   },
   {
    "duration": 24,
    "start_time": "2023-07-22T01:31:31.224Z"
   },
   {
    "duration": 249,
    "start_time": "2023-07-22T01:31:31.250Z"
   },
   {
    "duration": 141,
    "start_time": "2023-07-22T01:31:31.500Z"
   },
   {
    "duration": 7,
    "start_time": "2023-07-22T01:31:31.642Z"
   },
   {
    "duration": 180,
    "start_time": "2023-07-22T01:31:31.651Z"
   },
   {
    "duration": 159,
    "start_time": "2023-07-22T01:31:31.833Z"
   },
   {
    "duration": 140,
    "start_time": "2023-07-22T01:31:31.993Z"
   },
   {
    "duration": 15,
    "start_time": "2023-07-22T01:31:32.136Z"
   },
   {
    "duration": 283,
    "start_time": "2023-07-22T01:31:32.152Z"
   },
   {
    "duration": 104,
    "start_time": "2023-07-22T01:31:32.437Z"
   },
   {
    "duration": 41,
    "start_time": "2023-07-22T01:31:32.543Z"
   },
   {
    "duration": 104,
    "start_time": "2023-07-22T01:31:32.586Z"
   },
   {
    "duration": 52,
    "start_time": "2023-07-22T01:31:32.692Z"
   },
   {
    "duration": 69,
    "start_time": "2023-07-22T01:31:32.746Z"
   },
   {
    "duration": 4,
    "start_time": "2023-07-22T01:31:32.816Z"
   },
   {
    "duration": 2486,
    "start_time": "2023-07-22T01:31:32.822Z"
   },
   {
    "duration": 356,
    "start_time": "2023-07-22T01:31:35.310Z"
   },
   {
    "duration": 363,
    "start_time": "2023-07-22T01:31:35.668Z"
   },
   {
    "duration": 364,
    "start_time": "2023-07-22T01:31:36.033Z"
   },
   {
    "duration": 27,
    "start_time": "2023-07-22T01:31:36.399Z"
   },
   {
    "duration": 16,
    "start_time": "2023-07-22T01:31:36.428Z"
   },
   {
    "duration": 41,
    "start_time": "2023-07-22T01:31:36.446Z"
   },
   {
    "duration": 57,
    "start_time": "2023-07-22T01:31:36.489Z"
   },
   {
    "duration": 85,
    "start_time": "2023-07-22T01:31:36.548Z"
   },
   {
    "duration": 2,
    "start_time": "2023-07-22T01:31:36.635Z"
   },
   {
    "duration": 10,
    "start_time": "2023-07-22T01:31:36.639Z"
   },
   {
    "duration": 624,
    "start_time": "2023-07-22T01:31:36.651Z"
   },
   {
    "duration": 3,
    "start_time": "2023-07-22T01:31:37.277Z"
   },
   {
    "duration": 42,
    "start_time": "2023-07-22T01:31:37.281Z"
   },
   {
    "duration": 105,
    "start_time": "2023-07-22T01:31:37.324Z"
   },
   {
    "duration": 2,
    "start_time": "2023-07-22T01:31:37.431Z"
   },
   {
    "duration": 52359,
    "start_time": "2023-07-22T01:31:37.435Z"
   },
   {
    "duration": 58,
    "start_time": "2023-07-22T01:32:45.057Z"
   },
   {
    "duration": 1484,
    "start_time": "2023-07-22T01:34:12.865Z"
   },
   {
    "duration": 1133,
    "start_time": "2023-07-22T01:34:14.351Z"
   },
   {
    "duration": 140,
    "start_time": "2023-07-22T01:34:15.486Z"
   },
   {
    "duration": 16,
    "start_time": "2023-07-22T01:34:15.628Z"
   },
   {
    "duration": 193,
    "start_time": "2023-07-22T01:34:15.646Z"
   },
   {
    "duration": 35,
    "start_time": "2023-07-22T01:34:15.841Z"
   },
   {
    "duration": 8,
    "start_time": "2023-07-22T01:34:15.877Z"
   },
   {
    "duration": 228,
    "start_time": "2023-07-22T01:34:15.886Z"
   },
   {
    "duration": 129,
    "start_time": "2023-07-22T01:34:16.115Z"
   },
   {
    "duration": 7,
    "start_time": "2023-07-22T01:34:16.246Z"
   },
   {
    "duration": 180,
    "start_time": "2023-07-22T01:34:16.255Z"
   },
   {
    "duration": 154,
    "start_time": "2023-07-22T01:34:16.436Z"
   },
   {
    "duration": 141,
    "start_time": "2023-07-22T01:34:16.591Z"
   },
   {
    "duration": 14,
    "start_time": "2023-07-22T01:34:16.735Z"
   },
   {
    "duration": 274,
    "start_time": "2023-07-22T01:34:16.750Z"
   },
   {
    "duration": 99,
    "start_time": "2023-07-22T01:34:17.026Z"
   },
   {
    "duration": 33,
    "start_time": "2023-07-22T01:34:17.126Z"
   },
   {
    "duration": 99,
    "start_time": "2023-07-22T01:34:17.176Z"
   },
   {
    "duration": 49,
    "start_time": "2023-07-22T01:34:17.277Z"
   },
   {
    "duration": 68,
    "start_time": "2023-07-22T01:34:17.327Z"
   },
   {
    "duration": 4,
    "start_time": "2023-07-22T01:34:17.396Z"
   },
   {
    "duration": 2434,
    "start_time": "2023-07-22T01:34:17.402Z"
   },
   {
    "duration": 374,
    "start_time": "2023-07-22T01:34:19.838Z"
   },
   {
    "duration": 389,
    "start_time": "2023-07-22T01:34:20.213Z"
   },
   {
    "duration": 374,
    "start_time": "2023-07-22T01:34:20.604Z"
   },
   {
    "duration": 35,
    "start_time": "2023-07-22T01:34:20.980Z"
   },
   {
    "duration": 18,
    "start_time": "2023-07-22T01:34:21.017Z"
   },
   {
    "duration": 50,
    "start_time": "2023-07-22T01:34:21.037Z"
   },
   {
    "duration": 91,
    "start_time": "2023-07-22T01:34:21.089Z"
   },
   {
    "duration": 120,
    "start_time": "2023-07-22T01:34:21.182Z"
   },
   {
    "duration": 2,
    "start_time": "2023-07-22T01:34:21.304Z"
   },
   {
    "duration": 12,
    "start_time": "2023-07-22T01:34:21.307Z"
   },
   {
    "duration": 611,
    "start_time": "2023-07-22T01:34:21.320Z"
   },
   {
    "duration": 3,
    "start_time": "2023-07-22T01:34:21.932Z"
   },
   {
    "duration": 50,
    "start_time": "2023-07-22T01:34:21.936Z"
   },
   {
    "duration": 99,
    "start_time": "2023-07-22T01:34:21.988Z"
   },
   {
    "duration": 3,
    "start_time": "2023-07-22T01:34:22.088Z"
   },
   {
    "duration": 73202,
    "start_time": "2023-07-22T01:34:22.092Z"
   },
   {
    "duration": 1431,
    "start_time": "2023-07-22T01:38:35.588Z"
   },
   {
    "duration": 1084,
    "start_time": "2023-07-22T01:38:37.021Z"
   },
   {
    "duration": 143,
    "start_time": "2023-07-22T01:38:38.106Z"
   },
   {
    "duration": 25,
    "start_time": "2023-07-22T01:38:38.251Z"
   },
   {
    "duration": 180,
    "start_time": "2023-07-22T01:38:38.278Z"
   },
   {
    "duration": 31,
    "start_time": "2023-07-22T01:38:38.459Z"
   },
   {
    "duration": 3,
    "start_time": "2023-07-22T01:38:38.492Z"
   },
   {
    "duration": 224,
    "start_time": "2023-07-22T01:38:38.496Z"
   },
   {
    "duration": 137,
    "start_time": "2023-07-22T01:38:38.721Z"
   },
   {
    "duration": 14,
    "start_time": "2023-07-22T01:38:38.861Z"
   },
   {
    "duration": 156,
    "start_time": "2023-07-22T01:38:38.877Z"
   },
   {
    "duration": 142,
    "start_time": "2023-07-22T01:38:39.034Z"
   },
   {
    "duration": 141,
    "start_time": "2023-07-22T01:38:39.177Z"
   },
   {
    "duration": 14,
    "start_time": "2023-07-22T01:38:39.320Z"
   },
   {
    "duration": 261,
    "start_time": "2023-07-22T01:38:39.336Z"
   },
   {
    "duration": 93,
    "start_time": "2023-07-22T01:38:39.599Z"
   },
   {
    "duration": 73,
    "start_time": "2023-07-22T01:38:39.694Z"
   },
   {
    "duration": 137,
    "start_time": "2023-07-22T01:38:39.769Z"
   },
   {
    "duration": 49,
    "start_time": "2023-07-22T01:38:39.908Z"
   },
   {
    "duration": 54,
    "start_time": "2023-07-22T01:38:39.976Z"
   },
   {
    "duration": 4,
    "start_time": "2023-07-22T01:38:40.032Z"
   },
   {
    "duration": 2457,
    "start_time": "2023-07-22T01:38:40.038Z"
   },
   {
    "duration": 368,
    "start_time": "2023-07-22T01:38:42.496Z"
   },
   {
    "duration": 379,
    "start_time": "2023-07-22T01:38:42.865Z"
   },
   {
    "duration": 364,
    "start_time": "2023-07-22T01:38:43.246Z"
   },
   {
    "duration": 33,
    "start_time": "2023-07-22T01:38:43.612Z"
   },
   {
    "duration": 30,
    "start_time": "2023-07-22T01:38:43.646Z"
   },
   {
    "duration": 23,
    "start_time": "2023-07-22T01:38:43.679Z"
   },
   {
    "duration": 96,
    "start_time": "2023-07-22T01:38:43.704Z"
   },
   {
    "duration": 132,
    "start_time": "2023-07-22T01:38:43.801Z"
   },
   {
    "duration": 115,
    "start_time": "2023-07-22T01:38:43.935Z"
   },
   {
    "duration": 0,
    "start_time": "2023-07-22T01:38:44.052Z"
   },
   {
    "duration": 0,
    "start_time": "2023-07-22T01:38:44.053Z"
   },
   {
    "duration": 0,
    "start_time": "2023-07-22T01:38:44.054Z"
   },
   {
    "duration": 0,
    "start_time": "2023-07-22T01:38:44.055Z"
   },
   {
    "duration": 0,
    "start_time": "2023-07-22T01:38:44.056Z"
   },
   {
    "duration": 0,
    "start_time": "2023-07-22T01:38:44.057Z"
   },
   {
    "duration": 0,
    "start_time": "2023-07-22T01:38:44.058Z"
   },
   {
    "duration": 0,
    "start_time": "2023-07-22T01:38:44.075Z"
   },
   {
    "duration": 0,
    "start_time": "2023-07-22T01:38:44.076Z"
   },
   {
    "duration": 10,
    "start_time": "2023-07-22T01:39:00.394Z"
   },
   {
    "duration": 1468,
    "start_time": "2023-07-22T01:39:12.665Z"
   },
   {
    "duration": 845,
    "start_time": "2023-07-22T01:39:14.135Z"
   },
   {
    "duration": 144,
    "start_time": "2023-07-22T01:39:14.982Z"
   },
   {
    "duration": 16,
    "start_time": "2023-07-22T01:39:15.128Z"
   },
   {
    "duration": 193,
    "start_time": "2023-07-22T01:39:15.145Z"
   },
   {
    "duration": 24,
    "start_time": "2023-07-22T01:39:15.340Z"
   },
   {
    "duration": 11,
    "start_time": "2023-07-22T01:39:15.365Z"
   },
   {
    "duration": 215,
    "start_time": "2023-07-22T01:39:15.377Z"
   },
   {
    "duration": 128,
    "start_time": "2023-07-22T01:39:15.594Z"
   },
   {
    "duration": 7,
    "start_time": "2023-07-22T01:39:15.725Z"
   },
   {
    "duration": 164,
    "start_time": "2023-07-22T01:39:15.733Z"
   },
   {
    "duration": 143,
    "start_time": "2023-07-22T01:39:15.899Z"
   },
   {
    "duration": 141,
    "start_time": "2023-07-22T01:39:16.044Z"
   },
   {
    "duration": 13,
    "start_time": "2023-07-22T01:39:16.186Z"
   },
   {
    "duration": 267,
    "start_time": "2023-07-22T01:39:16.201Z"
   },
   {
    "duration": 89,
    "start_time": "2023-07-22T01:39:16.475Z"
   },
   {
    "duration": 41,
    "start_time": "2023-07-22T01:39:16.565Z"
   },
   {
    "duration": 104,
    "start_time": "2023-07-22T01:39:16.608Z"
   },
   {
    "duration": 49,
    "start_time": "2023-07-22T01:39:16.714Z"
   },
   {
    "duration": 52,
    "start_time": "2023-07-22T01:39:16.774Z"
   },
   {
    "duration": 3,
    "start_time": "2023-07-22T01:39:16.828Z"
   },
   {
    "duration": 2446,
    "start_time": "2023-07-22T01:39:16.833Z"
   },
   {
    "duration": 365,
    "start_time": "2023-07-22T01:39:19.281Z"
   },
   {
    "duration": 366,
    "start_time": "2023-07-22T01:39:19.648Z"
   },
   {
    "duration": 365,
    "start_time": "2023-07-22T01:39:20.016Z"
   },
   {
    "duration": 33,
    "start_time": "2023-07-22T01:39:20.382Z"
   },
   {
    "duration": 17,
    "start_time": "2023-07-22T01:39:20.416Z"
   },
   {
    "duration": 40,
    "start_time": "2023-07-22T01:39:20.436Z"
   },
   {
    "duration": 80,
    "start_time": "2023-07-22T01:39:20.478Z"
   },
   {
    "duration": 123,
    "start_time": "2023-07-22T01:39:20.560Z"
   },
   {
    "duration": 3,
    "start_time": "2023-07-22T01:39:20.685Z"
   },
   {
    "duration": 17,
    "start_time": "2023-07-22T01:39:20.690Z"
   },
   {
    "duration": 601,
    "start_time": "2023-07-22T01:39:20.708Z"
   },
   {
    "duration": 3,
    "start_time": "2023-07-22T01:39:21.311Z"
   },
   {
    "duration": 38,
    "start_time": "2023-07-22T01:39:21.316Z"
   },
   {
    "duration": 103,
    "start_time": "2023-07-22T01:39:21.356Z"
   },
   {
    "duration": 3,
    "start_time": "2023-07-22T01:39:21.460Z"
   },
   {
    "duration": 1581,
    "start_time": "2023-07-22T01:39:45.510Z"
   },
   {
    "duration": 856,
    "start_time": "2023-07-22T01:39:47.092Z"
   },
   {
    "duration": 150,
    "start_time": "2023-07-22T01:39:47.950Z"
   },
   {
    "duration": 16,
    "start_time": "2023-07-22T01:39:48.102Z"
   },
   {
    "duration": 192,
    "start_time": "2023-07-22T01:39:48.120Z"
   },
   {
    "duration": 27,
    "start_time": "2023-07-22T01:39:48.314Z"
   },
   {
    "duration": 20,
    "start_time": "2023-07-22T01:39:48.342Z"
   },
   {
    "duration": 238,
    "start_time": "2023-07-22T01:39:48.364Z"
   },
   {
    "duration": 132,
    "start_time": "2023-07-22T01:39:48.604Z"
   },
   {
    "duration": 6,
    "start_time": "2023-07-22T01:39:48.738Z"
   },
   {
    "duration": 171,
    "start_time": "2023-07-22T01:39:48.745Z"
   },
   {
    "duration": 145,
    "start_time": "2023-07-22T01:39:48.918Z"
   },
   {
    "duration": 149,
    "start_time": "2023-07-22T01:39:49.065Z"
   },
   {
    "duration": 14,
    "start_time": "2023-07-22T01:39:49.217Z"
   },
   {
    "duration": 279,
    "start_time": "2023-07-22T01:39:49.233Z"
   },
   {
    "duration": 96,
    "start_time": "2023-07-22T01:39:49.514Z"
   },
   {
    "duration": 34,
    "start_time": "2023-07-22T01:39:49.612Z"
   },
   {
    "duration": 116,
    "start_time": "2023-07-22T01:39:49.648Z"
   },
   {
    "duration": 54,
    "start_time": "2023-07-22T01:39:49.766Z"
   },
   {
    "duration": 69,
    "start_time": "2023-07-22T01:39:49.822Z"
   },
   {
    "duration": 4,
    "start_time": "2023-07-22T01:39:49.893Z"
   },
   {
    "duration": 2515,
    "start_time": "2023-07-22T01:39:49.898Z"
   },
   {
    "duration": 374,
    "start_time": "2023-07-22T01:39:52.415Z"
   },
   {
    "duration": 384,
    "start_time": "2023-07-22T01:39:52.791Z"
   },
   {
    "duration": 365,
    "start_time": "2023-07-22T01:39:53.177Z"
   },
   {
    "duration": 39,
    "start_time": "2023-07-22T01:39:53.544Z"
   },
   {
    "duration": 23,
    "start_time": "2023-07-22T01:39:53.585Z"
   },
   {
    "duration": 37,
    "start_time": "2023-07-22T01:39:53.610Z"
   },
   {
    "duration": 89,
    "start_time": "2023-07-22T01:39:53.649Z"
   },
   {
    "duration": 138,
    "start_time": "2023-07-22T01:39:53.740Z"
   },
   {
    "duration": 4,
    "start_time": "2023-07-22T01:39:53.879Z"
   },
   {
    "duration": 38,
    "start_time": "2023-07-22T01:39:53.884Z"
   },
   {
    "duration": 623,
    "start_time": "2023-07-22T01:39:53.924Z"
   },
   {
    "duration": 3,
    "start_time": "2023-07-22T01:39:54.549Z"
   },
   {
    "duration": 63,
    "start_time": "2023-07-22T01:39:54.553Z"
   },
   {
    "duration": 101,
    "start_time": "2023-07-22T01:39:54.618Z"
   },
   {
    "duration": 2,
    "start_time": "2023-07-22T01:39:54.721Z"
   },
   {
    "duration": 52062,
    "start_time": "2023-07-22T01:39:54.725Z"
   },
   {
    "duration": 1444,
    "start_time": "2023-07-22T01:41:32.801Z"
   },
   {
    "duration": 1120,
    "start_time": "2023-07-22T01:41:34.247Z"
   },
   {
    "duration": 129,
    "start_time": "2023-07-22T01:41:35.368Z"
   },
   {
    "duration": 16,
    "start_time": "2023-07-22T01:41:35.499Z"
   },
   {
    "duration": 182,
    "start_time": "2023-07-22T01:41:35.517Z"
   },
   {
    "duration": 25,
    "start_time": "2023-07-22T01:41:35.700Z"
   },
   {
    "duration": 17,
    "start_time": "2023-07-22T01:41:35.726Z"
   },
   {
    "duration": 210,
    "start_time": "2023-07-22T01:41:35.745Z"
   },
   {
    "duration": 126,
    "start_time": "2023-07-22T01:41:35.958Z"
   },
   {
    "duration": 8,
    "start_time": "2023-07-22T01:41:36.087Z"
   },
   {
    "duration": 181,
    "start_time": "2023-07-22T01:41:36.097Z"
   },
   {
    "duration": 145,
    "start_time": "2023-07-22T01:41:36.280Z"
   },
   {
    "duration": 131,
    "start_time": "2023-07-22T01:41:36.427Z"
   },
   {
    "duration": 23,
    "start_time": "2023-07-22T01:41:36.560Z"
   },
   {
    "duration": 247,
    "start_time": "2023-07-22T01:41:36.585Z"
   },
   {
    "duration": 95,
    "start_time": "2023-07-22T01:41:36.834Z"
   },
   {
    "duration": 44,
    "start_time": "2023-07-22T01:41:36.931Z"
   },
   {
    "duration": 98,
    "start_time": "2023-07-22T01:41:36.977Z"
   },
   {
    "duration": 48,
    "start_time": "2023-07-22T01:41:37.077Z"
   },
   {
    "duration": 62,
    "start_time": "2023-07-22T01:41:37.127Z"
   },
   {
    "duration": 4,
    "start_time": "2023-07-22T01:41:37.190Z"
   },
   {
    "duration": 2387,
    "start_time": "2023-07-22T01:41:37.196Z"
   },
   {
    "duration": 354,
    "start_time": "2023-07-22T01:41:39.584Z"
   },
   {
    "duration": 366,
    "start_time": "2023-07-22T01:41:39.939Z"
   },
   {
    "duration": 351,
    "start_time": "2023-07-22T01:41:40.307Z"
   },
   {
    "duration": 32,
    "start_time": "2023-07-22T01:41:40.660Z"
   },
   {
    "duration": 16,
    "start_time": "2023-07-22T01:41:40.694Z"
   },
   {
    "duration": 46,
    "start_time": "2023-07-22T01:41:40.714Z"
   },
   {
    "duration": 82,
    "start_time": "2023-07-22T01:41:40.761Z"
   },
   {
    "duration": 118,
    "start_time": "2023-07-22T01:41:40.844Z"
   },
   {
    "duration": 3,
    "start_time": "2023-07-22T01:41:40.964Z"
   },
   {
    "duration": 14,
    "start_time": "2023-07-22T01:41:40.968Z"
   },
   {
    "duration": 602,
    "start_time": "2023-07-22T01:41:40.983Z"
   },
   {
    "duration": 3,
    "start_time": "2023-07-22T01:41:41.587Z"
   },
   {
    "duration": 42,
    "start_time": "2023-07-22T01:41:41.591Z"
   },
   {
    "duration": 114,
    "start_time": "2023-07-22T01:41:41.635Z"
   },
   {
    "duration": 3,
    "start_time": "2023-07-22T01:41:41.750Z"
   },
   {
    "duration": 53136,
    "start_time": "2023-07-22T01:41:41.755Z"
   },
   {
    "duration": 153,
    "start_time": "2023-07-22T01:42:34.893Z"
   },
   {
    "duration": 0,
    "start_time": "2023-07-22T01:42:35.048Z"
   },
   {
    "duration": 986,
    "start_time": "2023-07-22T01:42:40.189Z"
   },
   {
    "duration": 1101,
    "start_time": "2023-07-22T01:42:57.776Z"
   },
   {
    "duration": 909,
    "start_time": "2023-07-22T01:43:06.669Z"
   },
   {
    "duration": 10,
    "start_time": "2023-07-22T01:48:40.734Z"
   },
   {
    "duration": 1444,
    "start_time": "2023-07-22T01:54:30.659Z"
   },
   {
    "duration": 849,
    "start_time": "2023-07-22T01:54:32.105Z"
   },
   {
    "duration": 142,
    "start_time": "2023-07-22T01:54:32.956Z"
   },
   {
    "duration": 15,
    "start_time": "2023-07-22T01:54:33.100Z"
   },
   {
    "duration": 191,
    "start_time": "2023-07-22T01:54:33.118Z"
   },
   {
    "duration": 23,
    "start_time": "2023-07-22T01:54:33.310Z"
   },
   {
    "duration": 25,
    "start_time": "2023-07-22T01:54:33.335Z"
   },
   {
    "duration": 209,
    "start_time": "2023-07-22T01:54:33.362Z"
   },
   {
    "duration": 123,
    "start_time": "2023-07-22T01:54:33.575Z"
   },
   {
    "duration": 7,
    "start_time": "2023-07-22T01:54:33.699Z"
   },
   {
    "duration": 184,
    "start_time": "2023-07-22T01:54:33.707Z"
   },
   {
    "duration": 148,
    "start_time": "2023-07-22T01:54:33.892Z"
   },
   {
    "duration": 142,
    "start_time": "2023-07-22T01:54:34.041Z"
   },
   {
    "duration": 14,
    "start_time": "2023-07-22T01:54:34.186Z"
   },
   {
    "duration": 276,
    "start_time": "2023-07-22T01:54:34.201Z"
   },
   {
    "duration": 98,
    "start_time": "2023-07-22T01:54:34.478Z"
   },
   {
    "duration": 33,
    "start_time": "2023-07-22T01:54:34.577Z"
   },
   {
    "duration": 108,
    "start_time": "2023-07-22T01:54:34.611Z"
   },
   {
    "duration": 57,
    "start_time": "2023-07-22T01:54:34.721Z"
   },
   {
    "duration": 53,
    "start_time": "2023-07-22T01:54:34.779Z"
   },
   {
    "duration": 4,
    "start_time": "2023-07-22T01:54:34.834Z"
   },
   {
    "duration": 2406,
    "start_time": "2023-07-22T01:54:34.839Z"
   },
   {
    "duration": 380,
    "start_time": "2023-07-22T01:54:37.246Z"
   },
   {
    "duration": 357,
    "start_time": "2023-07-22T01:54:37.627Z"
   },
   {
    "duration": 345,
    "start_time": "2023-07-22T01:54:37.985Z"
   },
   {
    "duration": 25,
    "start_time": "2023-07-22T01:54:38.332Z"
   },
   {
    "duration": 30,
    "start_time": "2023-07-22T01:54:38.359Z"
   },
   {
    "duration": 22,
    "start_time": "2023-07-22T01:54:38.391Z"
   },
   {
    "duration": 70,
    "start_time": "2023-07-22T01:54:38.414Z"
   },
   {
    "duration": 69,
    "start_time": "2023-07-22T01:54:38.486Z"
   },
   {
    "duration": 3,
    "start_time": "2023-07-22T01:54:38.557Z"
   },
   {
    "duration": 36,
    "start_time": "2023-07-22T01:54:38.562Z"
   },
   {
    "duration": 598,
    "start_time": "2023-07-22T01:54:38.599Z"
   },
   {
    "duration": 3,
    "start_time": "2023-07-22T01:54:39.199Z"
   },
   {
    "duration": 48,
    "start_time": "2023-07-22T01:54:39.204Z"
   },
   {
    "duration": 98,
    "start_time": "2023-07-22T01:54:39.254Z"
   },
   {
    "duration": 2,
    "start_time": "2023-07-22T01:54:39.354Z"
   },
   {
    "duration": 53838,
    "start_time": "2023-07-22T01:54:39.358Z"
   },
   {
    "duration": 1178,
    "start_time": "2023-07-22T01:55:33.198Z"
   },
   {
    "duration": 250007,
    "start_time": "2023-07-22T01:55:34.378Z"
   },
   {
    "duration": 3,
    "start_time": "2023-07-22T02:00:27.363Z"
   },
   {
    "duration": 3,
    "start_time": "2023-07-22T02:00:48.039Z"
   },
   {
    "duration": 3,
    "start_time": "2023-07-22T02:01:46.482Z"
   },
   {
    "duration": 4,
    "start_time": "2023-07-22T02:02:02.380Z"
   },
   {
    "duration": 4,
    "start_time": "2023-07-22T02:02:07.152Z"
   },
   {
    "duration": 104,
    "start_time": "2023-07-22T02:02:10.410Z"
   },
   {
    "duration": 323119,
    "start_time": "2023-07-22T02:04:19.066Z"
   },
   {
    "duration": 4,
    "start_time": "2023-07-22T02:10:57.172Z"
   },
   {
    "duration": 3,
    "start_time": "2023-07-22T02:11:12.281Z"
   },
   {
    "duration": 4,
    "start_time": "2023-07-22T02:11:33.543Z"
   },
   {
    "duration": 4,
    "start_time": "2023-07-22T02:11:38.269Z"
   },
   {
    "duration": 103,
    "start_time": "2023-07-22T02:11:53.866Z"
   },
   {
    "duration": 1048,
    "start_time": "2023-07-22T02:14:14.531Z"
   },
   {
    "duration": 4,
    "start_time": "2023-07-22T02:14:20.634Z"
   },
   {
    "duration": 3,
    "start_time": "2023-07-22T02:14:28.442Z"
   },
   {
    "duration": 326278,
    "start_time": "2023-07-22T02:15:13.899Z"
   },
   {
    "duration": 1102,
    "start_time": "2023-07-22T02:20:40.179Z"
   },
   {
    "duration": 104546,
    "start_time": "2023-07-22T02:21:33.849Z"
   },
   {
    "duration": 4,
    "start_time": "2023-07-22T02:23:25.851Z"
   },
   {
    "duration": 98523,
    "start_time": "2023-07-22T02:23:46.079Z"
   },
   {
    "duration": 9,
    "start_time": "2023-07-22T02:32:24.594Z"
   },
   {
    "duration": 12556,
    "start_time": "2023-07-22T02:32:58.726Z"
   },
   {
    "duration": 8,
    "start_time": "2023-07-22T02:34:23.915Z"
   },
   {
    "duration": 14,
    "start_time": "2023-07-22T02:35:05.345Z"
   },
   {
    "duration": 1468,
    "start_time": "2023-07-22T02:36:23.654Z"
   },
   {
    "duration": 840,
    "start_time": "2023-07-22T02:36:25.124Z"
   },
   {
    "duration": 146,
    "start_time": "2023-07-22T02:36:25.966Z"
   },
   {
    "duration": 16,
    "start_time": "2023-07-22T02:36:26.114Z"
   },
   {
    "duration": 207,
    "start_time": "2023-07-22T02:36:26.132Z"
   },
   {
    "duration": 36,
    "start_time": "2023-07-22T02:36:26.340Z"
   },
   {
    "duration": 10,
    "start_time": "2023-07-22T02:36:26.378Z"
   },
   {
    "duration": 222,
    "start_time": "2023-07-22T02:36:26.390Z"
   },
   {
    "duration": 132,
    "start_time": "2023-07-22T02:36:26.613Z"
   },
   {
    "duration": 7,
    "start_time": "2023-07-22T02:36:26.746Z"
   },
   {
    "duration": 174,
    "start_time": "2023-07-22T02:36:26.754Z"
   },
   {
    "duration": 148,
    "start_time": "2023-07-22T02:36:26.930Z"
   },
   {
    "duration": 142,
    "start_time": "2023-07-22T02:36:27.079Z"
   },
   {
    "duration": 14,
    "start_time": "2023-07-22T02:36:27.225Z"
   },
   {
    "duration": 280,
    "start_time": "2023-07-22T02:36:27.241Z"
   },
   {
    "duration": 95,
    "start_time": "2023-07-22T02:36:27.522Z"
   },
   {
    "duration": 34,
    "start_time": "2023-07-22T02:36:27.618Z"
   },
   {
    "duration": 108,
    "start_time": "2023-07-22T02:36:27.654Z"
   },
   {
    "duration": 54,
    "start_time": "2023-07-22T02:36:27.763Z"
   },
   {
    "duration": 67,
    "start_time": "2023-07-22T02:36:27.818Z"
   },
   {
    "duration": 3,
    "start_time": "2023-07-22T02:36:27.887Z"
   },
   {
    "duration": 2541,
    "start_time": "2023-07-22T02:36:27.892Z"
   },
   {
    "duration": 377,
    "start_time": "2023-07-22T02:36:30.435Z"
   },
   {
    "duration": 392,
    "start_time": "2023-07-22T02:36:30.813Z"
   },
   {
    "duration": 388,
    "start_time": "2023-07-22T02:36:31.207Z"
   },
   {
    "duration": 39,
    "start_time": "2023-07-22T02:36:31.597Z"
   },
   {
    "duration": 19,
    "start_time": "2023-07-22T02:36:31.637Z"
   },
   {
    "duration": 29,
    "start_time": "2023-07-22T02:36:31.676Z"
   },
   {
    "duration": 99,
    "start_time": "2023-07-22T02:36:31.707Z"
   },
   {
    "duration": 125,
    "start_time": "2023-07-22T02:36:31.808Z"
   },
   {
    "duration": 3,
    "start_time": "2023-07-22T02:36:31.935Z"
   },
   {
    "duration": 24,
    "start_time": "2023-07-22T02:36:31.940Z"
   },
   {
    "duration": 593,
    "start_time": "2023-07-22T02:36:31.966Z"
   },
   {
    "duration": 2,
    "start_time": "2023-07-22T02:36:32.561Z"
   },
   {
    "duration": 41,
    "start_time": "2023-07-22T02:36:32.574Z"
   },
   {
    "duration": 99,
    "start_time": "2023-07-22T02:36:32.616Z"
   },
   {
    "duration": 2,
    "start_time": "2023-07-22T02:36:32.717Z"
   },
   {
    "duration": 52965,
    "start_time": "2023-07-22T02:36:32.721Z"
   },
   {
    "duration": 990,
    "start_time": "2023-07-22T02:37:25.687Z"
   },
   {
    "duration": 101018,
    "start_time": "2023-07-22T02:37:26.679Z"
   },
   {
    "duration": 12577,
    "start_time": "2023-07-22T02:39:07.700Z"
   },
   {
    "duration": 11,
    "start_time": "2023-07-22T02:39:20.279Z"
   },
   {
    "duration": 103,
    "start_time": "2023-07-22T02:39:20.375Z"
   },
   {
    "duration": 98348,
    "start_time": "2023-07-22T02:39:48.727Z"
   },
   {
    "duration": 113822,
    "start_time": "2023-07-22T02:41:56.389Z"
   },
   {
    "duration": 23943,
    "start_time": "2023-07-22T02:44:43.875Z"
   },
   {
    "duration": 7,
    "start_time": "2023-07-22T02:54:19.885Z"
   },
   {
    "duration": 1794,
    "start_time": "2023-07-22T18:35:35.141Z"
   },
   {
    "duration": 924,
    "start_time": "2023-07-22T18:35:36.937Z"
   },
   {
    "duration": 238,
    "start_time": "2023-07-22T18:35:56.443Z"
   },
   {
    "duration": 26,
    "start_time": "2023-07-22T18:35:57.356Z"
   },
   {
    "duration": 255,
    "start_time": "2023-07-22T18:35:59.736Z"
   },
   {
    "duration": 32,
    "start_time": "2023-07-22T18:36:34.923Z"
   },
   {
    "duration": 4,
    "start_time": "2023-07-22T18:36:35.506Z"
   },
   {
    "duration": 255,
    "start_time": "2023-07-22T18:36:53.626Z"
   },
   {
    "duration": 172,
    "start_time": "2023-07-22T18:37:47.061Z"
   },
   {
    "duration": 9,
    "start_time": "2023-07-22T18:37:48.320Z"
   },
   {
    "duration": 152,
    "start_time": "2023-07-22T18:38:28.837Z"
   },
   {
    "duration": 144,
    "start_time": "2023-07-22T18:38:51.764Z"
   },
   {
    "duration": 150,
    "start_time": "2023-07-22T18:39:32.638Z"
   },
   {
    "duration": 122,
    "start_time": "2023-07-22T18:39:33.115Z"
   },
   {
    "duration": 26,
    "start_time": "2023-07-22T18:39:33.467Z"
   },
   {
    "duration": 271,
    "start_time": "2023-07-22T18:39:33.643Z"
   },
   {
    "duration": 160,
    "start_time": "2023-07-22T18:39:34.010Z"
   },
   {
    "duration": 31,
    "start_time": "2023-07-22T18:39:35.085Z"
   },
   {
    "duration": 111,
    "start_time": "2023-07-22T18:39:35.277Z"
   },
   {
    "duration": 56,
    "start_time": "2023-07-22T18:39:35.952Z"
   },
   {
    "duration": 54,
    "start_time": "2023-07-22T18:39:37.232Z"
   },
   {
    "duration": 4,
    "start_time": "2023-07-22T18:39:38.047Z"
   },
   {
    "duration": 2469,
    "start_time": "2023-07-22T18:39:38.231Z"
   },
   {
    "duration": 357,
    "start_time": "2023-07-22T18:39:40.702Z"
   },
   {
    "duration": 393,
    "start_time": "2023-07-22T18:39:41.062Z"
   },
   {
    "duration": 366,
    "start_time": "2023-07-22T18:39:41.457Z"
   },
   {
    "duration": 32,
    "start_time": "2023-07-22T18:39:41.824Z"
   },
   {
    "duration": 22,
    "start_time": "2023-07-22T18:39:41.873Z"
   },
   {
    "duration": 23,
    "start_time": "2023-07-22T18:39:42.088Z"
   },
   {
    "duration": 75,
    "start_time": "2023-07-22T18:39:48.616Z"
   },
   {
    "duration": 113,
    "start_time": "2023-07-22T18:39:49.395Z"
   },
   {
    "duration": 3,
    "start_time": "2023-07-22T18:39:50.596Z"
   },
   {
    "duration": 12,
    "start_time": "2023-07-22T18:39:53.720Z"
   },
   {
    "duration": 71,
    "start_time": "2023-07-22T18:40:04.742Z"
   },
   {
    "duration": 122,
    "start_time": "2023-07-22T18:53:58.362Z"
   },
   {
    "duration": 1506,
    "start_time": "2023-07-22T21:21:31.887Z"
   },
   {
    "duration": 1135,
    "start_time": "2023-07-22T21:21:34.063Z"
   },
   {
    "duration": 128,
    "start_time": "2023-07-22T21:21:36.741Z"
   },
   {
    "duration": 16,
    "start_time": "2023-07-22T21:21:37.552Z"
   },
   {
    "duration": 166,
    "start_time": "2023-07-22T21:21:39.884Z"
   },
   {
    "duration": 27,
    "start_time": "2023-07-22T21:21:43.902Z"
   },
   {
    "duration": 3,
    "start_time": "2023-07-22T21:21:46.408Z"
   },
   {
    "duration": 203,
    "start_time": "2023-07-22T21:21:48.573Z"
   },
   {
    "duration": 133,
    "start_time": "2023-07-22T21:22:07.701Z"
   },
   {
    "duration": 7,
    "start_time": "2023-07-22T21:22:35.370Z"
   },
   {
    "duration": 13,
    "start_time": "2023-07-22T21:22:41.635Z"
   },
   {
    "duration": 6,
    "start_time": "2023-07-22T21:22:48.448Z"
   },
   {
    "duration": 36,
    "start_time": "2023-07-22T21:22:53.781Z"
   },
   {
    "duration": 8,
    "start_time": "2023-07-22T21:22:58.183Z"
   },
   {
    "duration": 6,
    "start_time": "2023-07-22T21:23:03.673Z"
   },
   {
    "duration": 8,
    "start_time": "2023-07-22T21:25:26.752Z"
   },
   {
    "duration": 6,
    "start_time": "2023-07-22T21:25:36.005Z"
   },
   {
    "duration": 133,
    "start_time": "2023-07-22T21:25:45.360Z"
   },
   {
    "duration": 1441,
    "start_time": "2023-07-22T21:26:03.891Z"
   },
   {
    "duration": 6,
    "start_time": "2023-07-22T21:26:11.829Z"
   },
   {
    "duration": 1429,
    "start_time": "2023-07-22T21:26:40.175Z"
   },
   {
    "duration": 833,
    "start_time": "2023-07-22T21:26:43.234Z"
   },
   {
    "duration": 183,
    "start_time": "2023-07-22T21:26:44.876Z"
   },
   {
    "duration": 20,
    "start_time": "2023-07-22T21:26:46.017Z"
   },
   {
    "duration": 177,
    "start_time": "2023-07-22T21:26:47.239Z"
   },
   {
    "duration": 25,
    "start_time": "2023-07-22T21:26:52.341Z"
   },
   {
    "duration": 3,
    "start_time": "2023-07-22T21:26:53.555Z"
   },
   {
    "duration": 204,
    "start_time": "2023-07-22T21:26:54.481Z"
   },
   {
    "duration": 118,
    "start_time": "2023-07-22T21:26:59.909Z"
   },
   {
    "duration": 7,
    "start_time": "2023-07-22T21:27:01.174Z"
   },
   {
    "duration": 149,
    "start_time": "2023-07-22T21:27:05.534Z"
   },
   {
    "duration": 130,
    "start_time": "2023-07-22T21:27:22.963Z"
   },
   {
    "duration": 36,
    "start_time": "2023-07-22T21:30:48.060Z"
   },
   {
    "duration": 12,
    "start_time": "2023-07-22T21:31:00.928Z"
   },
   {
    "duration": 131,
    "start_time": "2023-07-22T21:32:23.394Z"
   },
   {
    "duration": 10,
    "start_time": "2023-07-22T21:34:18.883Z"
   },
   {
    "duration": 10,
    "start_time": "2023-07-22T21:34:30.765Z"
   },
   {
    "duration": 8,
    "start_time": "2023-07-22T21:34:36.209Z"
   },
   {
    "duration": 9,
    "start_time": "2023-07-22T21:34:41.376Z"
   },
   {
    "duration": 11,
    "start_time": "2023-07-22T21:34:45.006Z"
   },
   {
    "duration": 9,
    "start_time": "2023-07-22T21:34:48.335Z"
   },
   {
    "duration": 9,
    "start_time": "2023-07-22T21:34:54.865Z"
   },
   {
    "duration": 40,
    "start_time": "2023-07-22T21:38:29.889Z"
   },
   {
    "duration": 129,
    "start_time": "2023-07-22T21:38:34.209Z"
   },
   {
    "duration": 15,
    "start_time": "2023-07-22T21:38:46.012Z"
   },
   {
    "duration": 15,
    "start_time": "2023-07-22T21:38:49.918Z"
   },
   {
    "duration": 13,
    "start_time": "2023-07-22T21:38:56.077Z"
   },
   {
    "duration": 14,
    "start_time": "2023-07-22T21:39:03.492Z"
   },
   {
    "duration": 14,
    "start_time": "2023-07-22T21:39:07.823Z"
   },
   {
    "duration": 241,
    "start_time": "2023-07-22T21:39:17.905Z"
   },
   {
    "duration": 17,
    "start_time": "2023-07-22T21:40:28.920Z"
   },
   {
    "duration": 17,
    "start_time": "2023-07-22T21:40:33.308Z"
   },
   {
    "duration": 80,
    "start_time": "2023-07-22T21:49:16.359Z"
   },
   {
    "duration": 28,
    "start_time": "2023-07-22T21:49:21.398Z"
   },
   {
    "duration": 108,
    "start_time": "2023-07-22T21:49:26.819Z"
   },
   {
    "duration": 43,
    "start_time": "2023-07-22T21:49:30.428Z"
   },
   {
    "duration": 41,
    "start_time": "2023-07-22T21:49:37.582Z"
   },
   {
    "duration": 4,
    "start_time": "2023-07-22T21:49:42.826Z"
   },
   {
    "duration": 2443,
    "start_time": "2023-07-22T21:49:44.555Z"
   },
   {
    "duration": 305,
    "start_time": "2023-07-22T21:49:48.765Z"
   },
   {
    "duration": 332,
    "start_time": "2023-07-22T21:49:52.268Z"
   },
   {
    "duration": 367,
    "start_time": "2023-07-22T21:49:54.975Z"
   },
   {
    "duration": 45,
    "start_time": "2023-07-22T21:49:57.985Z"
   },
   {
    "duration": 15,
    "start_time": "2023-07-22T21:50:01.416Z"
   },
   {
    "duration": 21,
    "start_time": "2023-07-22T21:50:05.252Z"
   },
   {
    "duration": 83,
    "start_time": "2023-07-22T21:50:10.704Z"
   },
   {
    "duration": 96,
    "start_time": "2023-07-22T21:50:18.574Z"
   },
   {
    "duration": 3,
    "start_time": "2023-07-22T21:50:23.281Z"
   },
   {
    "duration": 6,
    "start_time": "2023-07-22T21:58:47.109Z"
   },
   {
    "duration": 583,
    "start_time": "2023-07-22T21:58:58.685Z"
   },
   {
    "duration": 1410,
    "start_time": "2023-07-22T22:00:27.230Z"
   },
   {
    "duration": 800,
    "start_time": "2023-07-22T22:00:28.642Z"
   },
   {
    "duration": 132,
    "start_time": "2023-07-22T22:00:29.444Z"
   },
   {
    "duration": 15,
    "start_time": "2023-07-22T22:00:29.578Z"
   },
   {
    "duration": 190,
    "start_time": "2023-07-22T22:00:29.595Z"
   },
   {
    "duration": 33,
    "start_time": "2023-07-22T22:00:29.787Z"
   },
   {
    "duration": 6,
    "start_time": "2023-07-22T22:00:29.822Z"
   },
   {
    "duration": 195,
    "start_time": "2023-07-22T22:00:29.830Z"
   },
   {
    "duration": 122,
    "start_time": "2023-07-22T22:00:30.026Z"
   },
   {
    "duration": 12,
    "start_time": "2023-07-22T22:00:30.150Z"
   },
   {
    "duration": 60,
    "start_time": "2023-07-22T22:00:30.163Z"
   },
   {
    "duration": 168,
    "start_time": "2023-07-22T22:00:30.225Z"
   },
   {
    "duration": 136,
    "start_time": "2023-07-22T22:00:30.395Z"
   },
   {
    "duration": 34,
    "start_time": "2023-07-22T22:00:30.533Z"
   },
   {
    "duration": 136,
    "start_time": "2023-07-22T22:00:30.569Z"
   },
   {
    "duration": 19,
    "start_time": "2023-07-22T22:00:30.706Z"
   },
   {
    "duration": 230,
    "start_time": "2023-07-22T22:00:30.727Z"
   },
   {
    "duration": 86,
    "start_time": "2023-07-22T22:00:30.959Z"
   },
   {
    "duration": 57,
    "start_time": "2023-07-22T22:00:31.047Z"
   },
   {
    "duration": 154,
    "start_time": "2023-07-22T22:00:31.106Z"
   },
   {
    "duration": 44,
    "start_time": "2023-07-22T22:00:31.262Z"
   },
   {
    "duration": 55,
    "start_time": "2023-07-22T22:00:31.308Z"
   },
   {
    "duration": 80,
    "start_time": "2023-07-22T22:00:31.365Z"
   },
   {
    "duration": 2378,
    "start_time": "2023-07-22T22:00:31.447Z"
   },
   {
    "duration": 318,
    "start_time": "2023-07-22T22:00:33.827Z"
   },
   {
    "duration": 313,
    "start_time": "2023-07-22T22:00:34.147Z"
   },
   {
    "duration": 354,
    "start_time": "2023-07-22T22:00:34.461Z"
   },
   {
    "duration": 28,
    "start_time": "2023-07-22T22:00:34.818Z"
   },
   {
    "duration": 32,
    "start_time": "2023-07-22T22:00:34.849Z"
   },
   {
    "duration": 42,
    "start_time": "2023-07-22T22:00:34.883Z"
   },
   {
    "duration": 58,
    "start_time": "2023-07-22T22:00:34.928Z"
   },
   {
    "duration": 77,
    "start_time": "2023-07-22T22:00:34.988Z"
   },
   {
    "duration": 3,
    "start_time": "2023-07-22T22:00:35.067Z"
   },
   {
    "duration": 32,
    "start_time": "2023-07-22T22:00:35.072Z"
   },
   {
    "duration": 54,
    "start_time": "2023-07-22T22:00:35.106Z"
   },
   {
    "duration": 497,
    "start_time": "2023-07-22T22:13:26.938Z"
   },
   {
    "duration": 4,
    "start_time": "2023-07-22T22:21:43.126Z"
   },
   {
    "duration": 1396,
    "start_time": "2023-07-22T22:22:48.204Z"
   },
   {
    "duration": 771,
    "start_time": "2023-07-22T22:22:49.602Z"
   },
   {
    "duration": 135,
    "start_time": "2023-07-22T22:22:50.374Z"
   },
   {
    "duration": 23,
    "start_time": "2023-07-22T22:22:50.511Z"
   },
   {
    "duration": 173,
    "start_time": "2023-07-22T22:22:50.536Z"
   },
   {
    "duration": 25,
    "start_time": "2023-07-22T22:22:50.711Z"
   },
   {
    "duration": 3,
    "start_time": "2023-07-22T22:22:50.737Z"
   },
   {
    "duration": 210,
    "start_time": "2023-07-22T22:22:50.741Z"
   },
   {
    "duration": 135,
    "start_time": "2023-07-22T22:22:50.953Z"
   },
   {
    "duration": 12,
    "start_time": "2023-07-22T22:22:51.090Z"
   },
   {
    "duration": 43,
    "start_time": "2023-07-22T22:22:51.104Z"
   },
   {
    "duration": 163,
    "start_time": "2023-07-22T22:22:51.149Z"
   },
   {
    "duration": 120,
    "start_time": "2023-07-22T22:22:51.320Z"
   },
   {
    "duration": 32,
    "start_time": "2023-07-22T22:22:51.442Z"
   },
   {
    "duration": 131,
    "start_time": "2023-07-22T22:22:51.476Z"
   },
   {
    "duration": 24,
    "start_time": "2023-07-22T22:22:51.609Z"
   },
   {
    "duration": 209,
    "start_time": "2023-07-22T22:22:51.634Z"
   },
   {
    "duration": 89,
    "start_time": "2023-07-22T22:22:51.845Z"
   },
   {
    "duration": 28,
    "start_time": "2023-07-22T22:22:51.936Z"
   },
   {
    "duration": 102,
    "start_time": "2023-07-22T22:22:51.966Z"
   },
   {
    "duration": 59,
    "start_time": "2023-07-22T22:22:52.070Z"
   },
   {
    "duration": 43,
    "start_time": "2023-07-22T22:22:52.131Z"
   },
   {
    "duration": 85,
    "start_time": "2023-07-22T22:22:52.176Z"
   },
   {
    "duration": 2410,
    "start_time": "2023-07-22T22:22:52.262Z"
   },
   {
    "duration": 322,
    "start_time": "2023-07-22T22:22:54.674Z"
   },
   {
    "duration": 332,
    "start_time": "2023-07-22T22:22:54.998Z"
   },
   {
    "duration": 296,
    "start_time": "2023-07-22T22:22:55.331Z"
   },
   {
    "duration": 22,
    "start_time": "2023-07-22T22:22:55.629Z"
   },
   {
    "duration": 22,
    "start_time": "2023-07-22T22:22:55.652Z"
   },
   {
    "duration": 21,
    "start_time": "2023-07-22T22:22:55.676Z"
   },
   {
    "duration": 66,
    "start_time": "2023-07-22T22:22:55.698Z"
   },
   {
    "duration": 62,
    "start_time": "2023-07-22T22:22:55.765Z"
   },
   {
    "duration": 3,
    "start_time": "2023-07-22T22:22:55.829Z"
   },
   {
    "duration": 18,
    "start_time": "2023-07-22T22:22:55.833Z"
   },
   {
    "duration": 54,
    "start_time": "2023-07-22T22:22:55.853Z"
   },
   {
    "duration": 475,
    "start_time": "2023-07-22T22:23:32.250Z"
   },
   {
    "duration": 248,
    "start_time": "2023-07-22T22:24:34.084Z"
   },
   {
    "duration": 27,
    "start_time": "2023-07-22T22:26:29.468Z"
   },
   {
    "duration": 23,
    "start_time": "2023-07-22T22:26:49.145Z"
   },
   {
    "duration": 80,
    "start_time": "2023-07-22T22:29:01.049Z"
   },
   {
    "duration": 172,
    "start_time": "2023-07-22T22:29:43.582Z"
   },
   {
    "duration": 429,
    "start_time": "2023-07-22T22:31:05.949Z"
   },
   {
    "duration": 1325,
    "start_time": "2023-07-22T22:37:10.151Z"
   },
   {
    "duration": 2,
    "start_time": "2023-07-22T22:37:11.478Z"
   },
   {
    "duration": 795,
    "start_time": "2023-07-22T22:37:11.481Z"
   },
   {
    "duration": 141,
    "start_time": "2023-07-22T22:37:12.278Z"
   },
   {
    "duration": 15,
    "start_time": "2023-07-22T22:37:12.421Z"
   },
   {
    "duration": 187,
    "start_time": "2023-07-22T22:37:12.438Z"
   },
   {
    "duration": 25,
    "start_time": "2023-07-22T22:37:12.627Z"
   },
   {
    "duration": 9,
    "start_time": "2023-07-22T22:37:12.654Z"
   },
   {
    "duration": 247,
    "start_time": "2023-07-22T22:37:12.665Z"
   },
   {
    "duration": 141,
    "start_time": "2023-07-22T22:37:12.914Z"
   },
   {
    "duration": 10,
    "start_time": "2023-07-22T22:37:13.057Z"
   },
   {
    "duration": 48,
    "start_time": "2023-07-22T22:37:13.069Z"
   },
   {
    "duration": 154,
    "start_time": "2023-07-22T22:37:13.119Z"
   },
   {
    "duration": 146,
    "start_time": "2023-07-22T22:37:13.276Z"
   },
   {
    "duration": 34,
    "start_time": "2023-07-22T22:37:13.424Z"
   },
   {
    "duration": 134,
    "start_time": "2023-07-22T22:37:13.460Z"
   },
   {
    "duration": 33,
    "start_time": "2023-07-22T22:37:13.596Z"
   },
   {
    "duration": 192,
    "start_time": "2023-07-22T22:37:13.631Z"
   },
   {
    "duration": 100,
    "start_time": "2023-07-22T22:37:13.825Z"
   },
   {
    "duration": 32,
    "start_time": "2023-07-22T22:37:13.926Z"
   },
   {
    "duration": 96,
    "start_time": "2023-07-22T22:37:13.960Z"
   },
   {
    "duration": 45,
    "start_time": "2023-07-22T22:37:14.058Z"
   },
   {
    "duration": 48,
    "start_time": "2023-07-22T22:37:14.120Z"
   },
   {
    "duration": 86,
    "start_time": "2023-07-22T22:37:14.170Z"
   },
   {
    "duration": 2412,
    "start_time": "2023-07-22T22:37:14.258Z"
   },
   {
    "duration": 305,
    "start_time": "2023-07-22T22:37:16.672Z"
   },
   {
    "duration": 315,
    "start_time": "2023-07-22T22:37:16.978Z"
   },
   {
    "duration": 295,
    "start_time": "2023-07-22T22:37:17.295Z"
   },
   {
    "duration": 30,
    "start_time": "2023-07-22T22:37:17.591Z"
   },
   {
    "duration": 14,
    "start_time": "2023-07-22T22:37:17.623Z"
   },
   {
    "duration": 21,
    "start_time": "2023-07-22T22:37:17.639Z"
   },
   {
    "duration": 67,
    "start_time": "2023-07-22T22:37:17.661Z"
   },
   {
    "duration": 58,
    "start_time": "2023-07-22T22:37:17.730Z"
   },
   {
    "duration": 3,
    "start_time": "2023-07-22T22:37:17.789Z"
   },
   {
    "duration": 20,
    "start_time": "2023-07-22T22:37:17.793Z"
   },
   {
    "duration": 32,
    "start_time": "2023-07-22T22:37:17.820Z"
   },
   {
    "duration": 156,
    "start_time": "2023-07-22T22:37:27.197Z"
   },
   {
    "duration": 3,
    "start_time": "2023-07-22T22:37:36.561Z"
   },
   {
    "duration": 105,
    "start_time": "2023-07-22T22:42:11.093Z"
   },
   {
    "duration": 95,
    "start_time": "2023-07-22T22:43:24.180Z"
   },
   {
    "duration": 33,
    "start_time": "2023-07-22T22:49:50.784Z"
   },
   {
    "duration": 61,
    "start_time": "2023-07-22T22:50:29.202Z"
   },
   {
    "duration": 51,
    "start_time": "2023-07-22T22:52:20.844Z"
   },
   {
    "duration": 75,
    "start_time": "2023-07-22T22:52:23.893Z"
   },
   {
    "duration": 99,
    "start_time": "2023-07-22T22:53:26.046Z"
   },
   {
    "duration": 1283,
    "start_time": "2023-07-22T22:53:47.740Z"
   },
   {
    "duration": 2,
    "start_time": "2023-07-22T22:53:49.025Z"
   },
   {
    "duration": 775,
    "start_time": "2023-07-22T22:53:49.029Z"
   },
   {
    "duration": 126,
    "start_time": "2023-07-22T22:53:49.805Z"
   },
   {
    "duration": 24,
    "start_time": "2023-07-22T22:53:49.933Z"
   },
   {
    "duration": 155,
    "start_time": "2023-07-22T22:53:49.959Z"
   },
   {
    "duration": 21,
    "start_time": "2023-07-22T22:53:50.116Z"
   },
   {
    "duration": 28,
    "start_time": "2023-07-22T22:53:50.139Z"
   },
   {
    "duration": 204,
    "start_time": "2023-07-22T22:53:50.169Z"
   },
   {
    "duration": 109,
    "start_time": "2023-07-22T22:53:50.375Z"
   },
   {
    "duration": 11,
    "start_time": "2023-07-22T22:53:50.486Z"
   },
   {
    "duration": 41,
    "start_time": "2023-07-22T22:53:50.498Z"
   },
   {
    "duration": 142,
    "start_time": "2023-07-22T22:53:50.541Z"
   },
   {
    "duration": 120,
    "start_time": "2023-07-22T22:53:50.685Z"
   },
   {
    "duration": 42,
    "start_time": "2023-07-22T22:53:50.807Z"
   },
   {
    "duration": 120,
    "start_time": "2023-07-22T22:53:50.850Z"
   },
   {
    "duration": 13,
    "start_time": "2023-07-22T22:53:50.971Z"
   },
   {
    "duration": 181,
    "start_time": "2023-07-22T22:53:50.986Z"
   },
   {
    "duration": 78,
    "start_time": "2023-07-22T22:53:51.169Z"
   },
   {
    "duration": 26,
    "start_time": "2023-07-22T22:53:51.249Z"
   },
   {
    "duration": 83,
    "start_time": "2023-07-22T22:53:51.277Z"
   },
   {
    "duration": 41,
    "start_time": "2023-07-22T22:53:51.361Z"
   },
   {
    "duration": 52,
    "start_time": "2023-07-22T22:53:51.403Z"
   },
   {
    "duration": 70,
    "start_time": "2023-07-22T22:53:51.457Z"
   },
   {
    "duration": 2312,
    "start_time": "2023-07-22T22:53:51.528Z"
   },
   {
    "duration": 313,
    "start_time": "2023-07-22T22:53:53.842Z"
   },
   {
    "duration": 291,
    "start_time": "2023-07-22T22:53:54.157Z"
   },
   {
    "duration": 295,
    "start_time": "2023-07-22T22:53:54.450Z"
   },
   {
    "duration": 28,
    "start_time": "2023-07-22T22:53:54.747Z"
   },
   {
    "duration": 18,
    "start_time": "2023-07-22T22:53:54.777Z"
   },
   {
    "duration": 45,
    "start_time": "2023-07-22T22:53:54.796Z"
   },
   {
    "duration": 59,
    "start_time": "2023-07-22T22:53:54.843Z"
   },
   {
    "duration": 72,
    "start_time": "2023-07-22T22:53:54.903Z"
   },
   {
    "duration": 3,
    "start_time": "2023-07-22T22:53:54.977Z"
   },
   {
    "duration": 9,
    "start_time": "2023-07-22T22:53:54.981Z"
   },
   {
    "duration": 43,
    "start_time": "2023-07-22T22:53:54.992Z"
   },
   {
    "duration": 170,
    "start_time": "2023-07-22T22:53:55.037Z"
   },
   {
    "duration": 65,
    "start_time": "2023-07-22T22:53:55.209Z"
   },
   {
    "duration": 46,
    "start_time": "2023-07-22T22:53:55.276Z"
   },
   {
    "duration": 71,
    "start_time": "2023-07-22T22:53:55.323Z"
   },
   {
    "duration": 185,
    "start_time": "2023-07-22T22:53:55.397Z"
   },
   {
    "duration": 1411,
    "start_time": "2023-07-22T23:14:24.018Z"
   },
   {
    "duration": 3,
    "start_time": "2023-07-22T23:14:25.430Z"
   },
   {
    "duration": 795,
    "start_time": "2023-07-22T23:14:25.434Z"
   },
   {
    "duration": 131,
    "start_time": "2023-07-22T23:14:26.231Z"
   },
   {
    "duration": 16,
    "start_time": "2023-07-22T23:14:26.363Z"
   },
   {
    "duration": 171,
    "start_time": "2023-07-22T23:14:26.380Z"
   },
   {
    "duration": 25,
    "start_time": "2023-07-22T23:14:26.552Z"
   },
   {
    "duration": 26,
    "start_time": "2023-07-22T23:14:26.579Z"
   },
   {
    "duration": 198,
    "start_time": "2023-07-22T23:14:26.606Z"
   },
   {
    "duration": 121,
    "start_time": "2023-07-22T23:14:26.807Z"
   },
   {
    "duration": 11,
    "start_time": "2023-07-22T23:14:26.930Z"
   },
   {
    "duration": 24,
    "start_time": "2023-07-22T23:14:26.943Z"
   },
   {
    "duration": 165,
    "start_time": "2023-07-22T23:14:26.969Z"
   },
   {
    "duration": 129,
    "start_time": "2023-07-22T23:14:27.136Z"
   },
   {
    "duration": 33,
    "start_time": "2023-07-22T23:14:27.267Z"
   },
   {
    "duration": 132,
    "start_time": "2023-07-22T23:14:27.302Z"
   },
   {
    "duration": 14,
    "start_time": "2023-07-22T23:14:27.435Z"
   },
   {
    "duration": 184,
    "start_time": "2023-07-22T23:14:27.451Z"
   },
   {
    "duration": 89,
    "start_time": "2023-07-22T23:14:27.637Z"
   },
   {
    "duration": 28,
    "start_time": "2023-07-22T23:14:27.728Z"
   },
   {
    "duration": 94,
    "start_time": "2023-07-22T23:14:27.758Z"
   },
   {
    "duration": 44,
    "start_time": "2023-07-22T23:14:27.854Z"
   },
   {
    "duration": 53,
    "start_time": "2023-07-22T23:14:27.900Z"
   },
   {
    "duration": 81,
    "start_time": "2023-07-22T23:14:27.955Z"
   },
   {
    "duration": 2311,
    "start_time": "2023-07-22T23:14:28.038Z"
   },
   {
    "duration": 304,
    "start_time": "2023-07-22T23:14:30.351Z"
   },
   {
    "duration": 295,
    "start_time": "2023-07-22T23:14:30.656Z"
   },
   {
    "duration": 312,
    "start_time": "2023-07-22T23:14:30.955Z"
   },
   {
    "duration": 22,
    "start_time": "2023-07-22T23:14:31.269Z"
   },
   {
    "duration": 55,
    "start_time": "2023-07-22T23:14:31.293Z"
   },
   {
    "duration": 50,
    "start_time": "2023-07-22T23:14:31.349Z"
   },
   {
    "duration": 105,
    "start_time": "2023-07-22T23:14:31.401Z"
   },
   {
    "duration": 65,
    "start_time": "2023-07-22T23:14:31.507Z"
   },
   {
    "duration": 4,
    "start_time": "2023-07-22T23:14:31.573Z"
   },
   {
    "duration": 43,
    "start_time": "2023-07-22T23:14:31.578Z"
   },
   {
    "duration": 53,
    "start_time": "2023-07-22T23:14:31.622Z"
   },
   {
    "duration": 160,
    "start_time": "2023-07-22T23:14:31.677Z"
   },
   {
    "duration": 60,
    "start_time": "2023-07-22T23:14:31.839Z"
   },
   {
    "duration": 57,
    "start_time": "2023-07-22T23:14:31.901Z"
   },
   {
    "duration": 83,
    "start_time": "2023-07-22T23:14:31.960Z"
   },
   {
    "duration": 179,
    "start_time": "2023-07-22T23:14:32.045Z"
   },
   {
    "duration": 201,
    "start_time": "2023-07-22T23:16:10.822Z"
   },
   {
    "duration": 326572,
    "start_time": "2023-07-22T23:16:52.369Z"
   },
   {
    "duration": 13677,
    "start_time": "2023-07-22T23:24:32.548Z"
   },
   {
    "duration": 191,
    "start_time": "2023-07-22T23:27:04.863Z"
   },
   {
    "duration": 170,
    "start_time": "2023-07-22T23:27:20.090Z"
   },
   {
    "duration": 163,
    "start_time": "2023-07-22T23:27:25.405Z"
   },
   {
    "duration": 13462,
    "start_time": "2023-07-22T23:27:33.865Z"
   },
   {
    "duration": 1414,
    "start_time": "2023-07-22T23:31:21.334Z"
   },
   {
    "duration": 2,
    "start_time": "2023-07-22T23:31:22.750Z"
   },
   {
    "duration": 800,
    "start_time": "2023-07-22T23:31:22.753Z"
   },
   {
    "duration": 137,
    "start_time": "2023-07-22T23:31:23.554Z"
   },
   {
    "duration": 15,
    "start_time": "2023-07-22T23:31:23.694Z"
   },
   {
    "duration": 176,
    "start_time": "2023-07-22T23:31:23.710Z"
   },
   {
    "duration": 34,
    "start_time": "2023-07-22T23:31:23.887Z"
   },
   {
    "duration": 19,
    "start_time": "2023-07-22T23:31:23.922Z"
   },
   {
    "duration": 212,
    "start_time": "2023-07-22T23:31:23.942Z"
   },
   {
    "duration": 117,
    "start_time": "2023-07-22T23:31:24.155Z"
   },
   {
    "duration": 11,
    "start_time": "2023-07-22T23:31:24.274Z"
   },
   {
    "duration": 36,
    "start_time": "2023-07-22T23:31:24.286Z"
   },
   {
    "duration": 156,
    "start_time": "2023-07-22T23:31:24.324Z"
   },
   {
    "duration": 119,
    "start_time": "2023-07-22T23:31:24.482Z"
   },
   {
    "duration": 46,
    "start_time": "2023-07-22T23:31:24.603Z"
   },
   {
    "duration": 136,
    "start_time": "2023-07-22T23:31:24.650Z"
   },
   {
    "duration": 15,
    "start_time": "2023-07-22T23:31:24.789Z"
   },
   {
    "duration": 195,
    "start_time": "2023-07-22T23:31:24.820Z"
   },
   {
    "duration": 83,
    "start_time": "2023-07-22T23:31:25.016Z"
   },
   {
    "duration": 45,
    "start_time": "2023-07-22T23:31:25.101Z"
   },
   {
    "duration": 84,
    "start_time": "2023-07-22T23:31:25.147Z"
   },
   {
    "duration": 42,
    "start_time": "2023-07-22T23:31:25.233Z"
   },
   {
    "duration": 55,
    "start_time": "2023-07-22T23:31:25.277Z"
   },
   {
    "duration": 72,
    "start_time": "2023-07-22T23:31:25.334Z"
   },
   {
    "duration": 2406,
    "start_time": "2023-07-22T23:31:25.408Z"
   },
   {
    "duration": 319,
    "start_time": "2023-07-22T23:31:27.816Z"
   },
   {
    "duration": 328,
    "start_time": "2023-07-22T23:31:28.136Z"
   },
   {
    "duration": 319,
    "start_time": "2023-07-22T23:31:28.466Z"
   },
   {
    "duration": 23,
    "start_time": "2023-07-22T23:31:28.787Z"
   },
   {
    "duration": 21,
    "start_time": "2023-07-22T23:31:28.812Z"
   },
   {
    "duration": 35,
    "start_time": "2023-07-22T23:31:28.835Z"
   },
   {
    "duration": 53,
    "start_time": "2023-07-22T23:31:28.872Z"
   },
   {
    "duration": 60,
    "start_time": "2023-07-22T23:31:28.927Z"
   },
   {
    "duration": 3,
    "start_time": "2023-07-22T23:31:28.989Z"
   },
   {
    "duration": 29,
    "start_time": "2023-07-22T23:31:28.993Z"
   },
   {
    "duration": 50,
    "start_time": "2023-07-22T23:31:29.023Z"
   },
   {
    "duration": 169,
    "start_time": "2023-07-22T23:31:29.075Z"
   },
   {
    "duration": 358,
    "start_time": "2023-07-22T23:31:29.245Z"
   },
   {
    "duration": 51,
    "start_time": "2023-07-22T23:33:43.266Z"
   },
   {
    "duration": 1314,
    "start_time": "2023-07-22T23:33:58.085Z"
   },
   {
    "duration": 2,
    "start_time": "2023-07-22T23:33:59.401Z"
   },
   {
    "duration": 753,
    "start_time": "2023-07-22T23:33:59.405Z"
   },
   {
    "duration": 131,
    "start_time": "2023-07-22T23:34:00.160Z"
   },
   {
    "duration": 41,
    "start_time": "2023-07-22T23:34:00.293Z"
   },
   {
    "duration": 172,
    "start_time": "2023-07-22T23:34:00.335Z"
   },
   {
    "duration": 24,
    "start_time": "2023-07-22T23:34:00.509Z"
   },
   {
    "duration": 42,
    "start_time": "2023-07-22T23:34:00.535Z"
   },
   {
    "duration": 235,
    "start_time": "2023-07-22T23:34:00.578Z"
   },
   {
    "duration": 114,
    "start_time": "2023-07-22T23:34:00.820Z"
   },
   {
    "duration": 11,
    "start_time": "2023-07-22T23:34:00.935Z"
   },
   {
    "duration": 90,
    "start_time": "2023-07-22T23:34:00.947Z"
   },
   {
    "duration": 230,
    "start_time": "2023-07-22T23:34:01.039Z"
   },
   {
    "duration": 136,
    "start_time": "2023-07-22T23:34:01.271Z"
   },
   {
    "duration": 45,
    "start_time": "2023-07-22T23:34:01.409Z"
   },
   {
    "duration": 129,
    "start_time": "2023-07-22T23:34:01.456Z"
   },
   {
    "duration": 13,
    "start_time": "2023-07-22T23:34:01.586Z"
   },
   {
    "duration": 186,
    "start_time": "2023-07-22T23:34:01.601Z"
   },
   {
    "duration": 83,
    "start_time": "2023-07-22T23:34:01.788Z"
   },
   {
    "duration": 43,
    "start_time": "2023-07-22T23:34:01.872Z"
   },
   {
    "duration": 85,
    "start_time": "2023-07-22T23:34:01.916Z"
   },
   {
    "duration": 43,
    "start_time": "2023-07-22T23:34:02.002Z"
   },
   {
    "duration": 42,
    "start_time": "2023-07-22T23:34:02.046Z"
   },
   {
    "duration": 84,
    "start_time": "2023-07-22T23:34:02.090Z"
   },
   {
    "duration": 2310,
    "start_time": "2023-07-22T23:34:02.176Z"
   },
   {
    "duration": 314,
    "start_time": "2023-07-22T23:34:04.488Z"
   },
   {
    "duration": 346,
    "start_time": "2023-07-22T23:34:04.804Z"
   },
   {
    "duration": 299,
    "start_time": "2023-07-22T23:34:05.153Z"
   },
   {
    "duration": 22,
    "start_time": "2023-07-22T23:34:05.453Z"
   },
   {
    "duration": 14,
    "start_time": "2023-07-22T23:34:05.476Z"
   },
   {
    "duration": 35,
    "start_time": "2023-07-22T23:34:05.492Z"
   },
   {
    "duration": 49,
    "start_time": "2023-07-22T23:34:05.529Z"
   },
   {
    "duration": 73,
    "start_time": "2023-07-22T23:34:05.579Z"
   },
   {
    "duration": 3,
    "start_time": "2023-07-22T23:34:05.653Z"
   },
   {
    "duration": 13,
    "start_time": "2023-07-22T23:34:05.658Z"
   },
   {
    "duration": 42,
    "start_time": "2023-07-22T23:34:05.672Z"
   },
   {
    "duration": 167,
    "start_time": "2023-07-22T23:34:05.715Z"
   },
   {
    "duration": 333,
    "start_time": "2023-07-22T23:34:05.883Z"
   },
   {
    "duration": 1417,
    "start_time": "2023-07-22T23:34:31.120Z"
   },
   {
    "duration": 3,
    "start_time": "2023-07-22T23:34:32.538Z"
   },
   {
    "duration": 785,
    "start_time": "2023-07-22T23:34:32.542Z"
   },
   {
    "duration": 133,
    "start_time": "2023-07-22T23:34:33.329Z"
   },
   {
    "duration": 14,
    "start_time": "2023-07-22T23:34:33.464Z"
   },
   {
    "duration": 170,
    "start_time": "2023-07-22T23:34:33.479Z"
   },
   {
    "duration": 25,
    "start_time": "2023-07-22T23:34:33.650Z"
   },
   {
    "duration": 35,
    "start_time": "2023-07-22T23:34:33.676Z"
   },
   {
    "duration": 208,
    "start_time": "2023-07-22T23:34:33.712Z"
   },
   {
    "duration": 113,
    "start_time": "2023-07-22T23:34:33.921Z"
   },
   {
    "duration": 10,
    "start_time": "2023-07-22T23:34:34.035Z"
   },
   {
    "duration": 40,
    "start_time": "2023-07-22T23:34:34.047Z"
   },
   {
    "duration": 157,
    "start_time": "2023-07-22T23:34:34.088Z"
   },
   {
    "duration": 126,
    "start_time": "2023-07-22T23:34:34.248Z"
   },
   {
    "duration": 32,
    "start_time": "2023-07-22T23:34:34.376Z"
   },
   {
    "duration": 130,
    "start_time": "2023-07-22T23:34:34.410Z"
   },
   {
    "duration": 13,
    "start_time": "2023-07-22T23:34:34.541Z"
   },
   {
    "duration": 176,
    "start_time": "2023-07-22T23:34:34.555Z"
   },
   {
    "duration": 99,
    "start_time": "2023-07-22T23:34:34.733Z"
   },
   {
    "duration": 49,
    "start_time": "2023-07-22T23:34:34.833Z"
   },
   {
    "duration": 132,
    "start_time": "2023-07-22T23:34:34.884Z"
   },
   {
    "duration": 41,
    "start_time": "2023-07-22T23:34:35.018Z"
   },
   {
    "duration": 45,
    "start_time": "2023-07-22T23:34:35.061Z"
   },
   {
    "duration": 78,
    "start_time": "2023-07-22T23:34:35.107Z"
   },
   {
    "duration": 2301,
    "start_time": "2023-07-22T23:34:35.186Z"
   },
   {
    "duration": 292,
    "start_time": "2023-07-22T23:34:37.489Z"
   },
   {
    "duration": 289,
    "start_time": "2023-07-22T23:34:37.782Z"
   },
   {
    "duration": 298,
    "start_time": "2023-07-22T23:34:38.074Z"
   },
   {
    "duration": 21,
    "start_time": "2023-07-22T23:34:38.373Z"
   },
   {
    "duration": 27,
    "start_time": "2023-07-22T23:34:38.396Z"
   },
   {
    "duration": 32,
    "start_time": "2023-07-22T23:34:38.425Z"
   },
   {
    "duration": 74,
    "start_time": "2023-07-22T23:34:38.458Z"
   },
   {
    "duration": 57,
    "start_time": "2023-07-22T23:34:38.533Z"
   },
   {
    "duration": 3,
    "start_time": "2023-07-22T23:34:38.591Z"
   },
   {
    "duration": 24,
    "start_time": "2023-07-22T23:34:38.595Z"
   },
   {
    "duration": 71,
    "start_time": "2023-07-22T23:34:38.620Z"
   },
   {
    "duration": 169,
    "start_time": "2023-07-22T23:34:38.692Z"
   },
   {
    "duration": 48,
    "start_time": "2023-07-22T23:34:38.863Z"
   },
   {
    "duration": 11666,
    "start_time": "2023-07-22T23:34:43.961Z"
   },
   {
    "duration": 1290,
    "start_time": "2023-07-22T23:43:57.354Z"
   },
   {
    "duration": 2,
    "start_time": "2023-07-22T23:43:58.646Z"
   },
   {
    "duration": 733,
    "start_time": "2023-07-22T23:43:58.650Z"
   },
   {
    "duration": 122,
    "start_time": "2023-07-22T23:43:59.385Z"
   },
   {
    "duration": 34,
    "start_time": "2023-07-22T23:43:59.509Z"
   },
   {
    "duration": 198,
    "start_time": "2023-07-22T23:43:59.544Z"
   },
   {
    "duration": 29,
    "start_time": "2023-07-22T23:43:59.743Z"
   },
   {
    "duration": 39,
    "start_time": "2023-07-22T23:43:59.773Z"
   },
   {
    "duration": 233,
    "start_time": "2023-07-22T23:43:59.813Z"
   },
   {
    "duration": 112,
    "start_time": "2023-07-22T23:44:00.048Z"
   },
   {
    "duration": 11,
    "start_time": "2023-07-22T23:44:00.161Z"
   },
   {
    "duration": 44,
    "start_time": "2023-07-22T23:44:00.174Z"
   },
   {
    "duration": 140,
    "start_time": "2023-07-22T23:44:00.220Z"
   },
   {
    "duration": 121,
    "start_time": "2023-07-22T23:44:00.362Z"
   },
   {
    "duration": 39,
    "start_time": "2023-07-22T23:44:00.485Z"
   },
   {
    "duration": 179,
    "start_time": "2023-07-22T23:44:00.526Z"
   },
   {
    "duration": 20,
    "start_time": "2023-07-22T23:44:00.706Z"
   },
   {
    "duration": 211,
    "start_time": "2023-07-22T23:44:00.728Z"
   },
   {
    "duration": 82,
    "start_time": "2023-07-22T23:44:00.941Z"
   },
   {
    "duration": 76,
    "start_time": "2023-07-22T23:44:01.025Z"
   },
   {
    "duration": 237,
    "start_time": "2023-07-22T23:44:01.102Z"
   },
   {
    "duration": 84,
    "start_time": "2023-07-22T23:44:01.341Z"
   },
   {
    "duration": 258,
    "start_time": "2023-07-22T23:44:01.427Z"
   },
   {
    "duration": 77,
    "start_time": "2023-07-22T23:44:01.686Z"
   },
   {
    "duration": 2315,
    "start_time": "2023-07-22T23:44:01.765Z"
   },
   {
    "duration": 300,
    "start_time": "2023-07-22T23:44:04.081Z"
   },
   {
    "duration": 297,
    "start_time": "2023-07-22T23:44:04.382Z"
   },
   {
    "duration": 357,
    "start_time": "2023-07-22T23:44:04.683Z"
   },
   {
    "duration": 23,
    "start_time": "2023-07-22T23:44:05.042Z"
   },
   {
    "duration": 149,
    "start_time": "2023-07-22T23:44:05.067Z"
   },
   {
    "duration": 29,
    "start_time": "2023-07-22T23:44:05.218Z"
   },
   {
    "duration": 50,
    "start_time": "2023-07-22T23:44:05.248Z"
   },
   {
    "duration": 57,
    "start_time": "2023-07-22T23:44:05.299Z"
   },
   {
    "duration": 3,
    "start_time": "2023-07-22T23:44:05.358Z"
   },
   {
    "duration": 51,
    "start_time": "2023-07-22T23:44:05.362Z"
   },
   {
    "duration": 52,
    "start_time": "2023-07-22T23:44:05.414Z"
   },
   {
    "duration": 187,
    "start_time": "2023-07-22T23:44:05.468Z"
   },
   {
    "duration": 52,
    "start_time": "2023-07-22T23:44:05.657Z"
   },
   {
    "duration": 311419,
    "start_time": "2023-07-22T23:44:05.711Z"
   },
   {
    "duration": 12390,
    "start_time": "2023-07-22T23:49:17.131Z"
   },
   {
    "duration": 114,
    "start_time": "2023-07-22T23:49:29.523Z"
   },
   {
    "duration": 1531,
    "start_time": "2023-07-23T00:14:12.752Z"
   },
   {
    "duration": 3,
    "start_time": "2023-07-23T00:14:14.285Z"
   },
   {
    "duration": 882,
    "start_time": "2023-07-23T00:14:14.289Z"
   },
   {
    "duration": 149,
    "start_time": "2023-07-23T00:14:15.173Z"
   },
   {
    "duration": 20,
    "start_time": "2023-07-23T00:14:15.326Z"
   },
   {
    "duration": 212,
    "start_time": "2023-07-23T00:14:15.347Z"
   },
   {
    "duration": 26,
    "start_time": "2023-07-23T00:14:15.561Z"
   },
   {
    "duration": 59,
    "start_time": "2023-07-23T00:14:15.589Z"
   },
   {
    "duration": 275,
    "start_time": "2023-07-23T00:14:15.650Z"
   },
   {
    "duration": 137,
    "start_time": "2023-07-23T00:14:15.928Z"
   },
   {
    "duration": 11,
    "start_time": "2023-07-23T00:14:16.067Z"
   },
   {
    "duration": 51,
    "start_time": "2023-07-23T00:14:16.079Z"
   },
   {
    "duration": 173,
    "start_time": "2023-07-23T00:14:16.134Z"
   },
   {
    "duration": 155,
    "start_time": "2023-07-23T00:14:16.311Z"
   },
   {
    "duration": 33,
    "start_time": "2023-07-23T00:14:16.468Z"
   },
   {
    "duration": 154,
    "start_time": "2023-07-23T00:14:16.503Z"
   },
   {
    "duration": 14,
    "start_time": "2023-07-23T00:14:16.658Z"
   },
   {
    "duration": 209,
    "start_time": "2023-07-23T00:14:16.674Z"
   },
   {
    "duration": 90,
    "start_time": "2023-07-23T00:14:16.885Z"
   },
   {
    "duration": 42,
    "start_time": "2023-07-23T00:14:16.976Z"
   },
   {
    "duration": 117,
    "start_time": "2023-07-23T00:14:17.020Z"
   },
   {
    "duration": 42,
    "start_time": "2023-07-23T00:14:17.138Z"
   },
   {
    "duration": 63,
    "start_time": "2023-07-23T00:14:17.181Z"
   },
   {
    "duration": 76,
    "start_time": "2023-07-23T00:14:17.246Z"
   },
   {
    "duration": 2605,
    "start_time": "2023-07-23T00:14:17.324Z"
   },
   {
    "duration": 327,
    "start_time": "2023-07-23T00:14:19.932Z"
   },
   {
    "duration": 407,
    "start_time": "2023-07-23T00:14:20.260Z"
   },
   {
    "duration": 365,
    "start_time": "2023-07-23T00:14:20.668Z"
   },
   {
    "duration": 24,
    "start_time": "2023-07-23T00:14:21.037Z"
   },
   {
    "duration": 17,
    "start_time": "2023-07-23T00:14:21.064Z"
   },
   {
    "duration": 23,
    "start_time": "2023-07-23T00:14:21.082Z"
   },
   {
    "duration": 53,
    "start_time": "2023-07-23T00:14:21.120Z"
   },
   {
    "duration": 74,
    "start_time": "2023-07-23T00:14:21.175Z"
   },
   {
    "duration": 3,
    "start_time": "2023-07-23T00:14:21.251Z"
   },
   {
    "duration": 25,
    "start_time": "2023-07-23T00:14:21.255Z"
   },
   {
    "duration": 48,
    "start_time": "2023-07-23T00:14:21.281Z"
   },
   {
    "duration": 174,
    "start_time": "2023-07-23T00:14:21.331Z"
   },
   {
    "duration": 63,
    "start_time": "2023-07-23T00:14:21.506Z"
   },
   {
    "duration": 353173,
    "start_time": "2023-07-23T00:14:21.570Z"
   },
   {
    "duration": 11885,
    "start_time": "2023-07-23T00:20:14.745Z"
   },
   {
    "duration": 1324,
    "start_time": "2023-07-23T00:42:50.147Z"
   },
   {
    "duration": 3,
    "start_time": "2023-07-23T00:42:51.473Z"
   },
   {
    "duration": 799,
    "start_time": "2023-07-23T00:42:51.477Z"
   },
   {
    "duration": 145,
    "start_time": "2023-07-23T00:42:52.279Z"
   },
   {
    "duration": 16,
    "start_time": "2023-07-23T00:42:52.433Z"
   },
   {
    "duration": 166,
    "start_time": "2023-07-23T00:42:52.451Z"
   },
   {
    "duration": 27,
    "start_time": "2023-07-23T00:42:52.624Z"
   },
   {
    "duration": 2,
    "start_time": "2023-07-23T00:42:52.653Z"
   },
   {
    "duration": 243,
    "start_time": "2023-07-23T00:42:52.656Z"
   },
   {
    "duration": 131,
    "start_time": "2023-07-23T00:42:52.901Z"
   },
   {
    "duration": 12,
    "start_time": "2023-07-23T00:42:53.033Z"
   },
   {
    "duration": 38,
    "start_time": "2023-07-23T00:42:53.046Z"
   },
   {
    "duration": 150,
    "start_time": "2023-07-23T00:42:53.085Z"
   },
   {
    "duration": 121,
    "start_time": "2023-07-23T00:42:53.237Z"
   },
   {
    "duration": 32,
    "start_time": "2023-07-23T00:42:53.360Z"
   },
   {
    "duration": 122,
    "start_time": "2023-07-23T00:42:53.393Z"
   },
   {
    "duration": 18,
    "start_time": "2023-07-23T00:42:53.516Z"
   },
   {
    "duration": 175,
    "start_time": "2023-07-23T00:42:53.536Z"
   },
   {
    "duration": 87,
    "start_time": "2023-07-23T00:42:53.712Z"
   },
   {
    "duration": 49,
    "start_time": "2023-07-23T00:42:53.801Z"
   },
   {
    "duration": 124,
    "start_time": "2023-07-23T00:42:53.851Z"
   },
   {
    "duration": 56,
    "start_time": "2023-07-23T00:42:53.976Z"
   },
   {
    "duration": 43,
    "start_time": "2023-07-23T00:42:54.034Z"
   },
   {
    "duration": 72,
    "start_time": "2023-07-23T00:42:54.078Z"
   },
   {
    "duration": 2404,
    "start_time": "2023-07-23T00:42:54.151Z"
   },
   {
    "duration": 315,
    "start_time": "2023-07-23T00:42:56.556Z"
   },
   {
    "duration": 309,
    "start_time": "2023-07-23T00:42:56.872Z"
   },
   {
    "duration": 298,
    "start_time": "2023-07-23T00:42:57.184Z"
   },
   {
    "duration": 21,
    "start_time": "2023-07-23T00:42:57.483Z"
   },
   {
    "duration": 59,
    "start_time": "2023-07-23T00:42:57.505Z"
   },
   {
    "duration": 28,
    "start_time": "2023-07-23T00:42:57.565Z"
   },
   {
    "duration": 75,
    "start_time": "2023-07-23T00:42:57.595Z"
   },
   {
    "duration": 65,
    "start_time": "2023-07-23T00:42:57.671Z"
   },
   {
    "duration": 3,
    "start_time": "2023-07-23T00:42:57.738Z"
   },
   {
    "duration": 30,
    "start_time": "2023-07-23T00:42:57.743Z"
   },
   {
    "duration": 59,
    "start_time": "2023-07-23T00:42:57.774Z"
   },
   {
    "duration": 173,
    "start_time": "2023-07-23T00:42:57.835Z"
   },
   {
    "duration": 53,
    "start_time": "2023-07-23T00:42:58.010Z"
   },
   {
    "duration": 1334,
    "start_time": "2023-07-23T00:44:36.366Z"
   },
   {
    "duration": 3,
    "start_time": "2023-07-23T00:44:37.702Z"
   },
   {
    "duration": 829,
    "start_time": "2023-07-23T00:44:37.706Z"
   },
   {
    "duration": 141,
    "start_time": "2023-07-23T00:44:38.537Z"
   },
   {
    "duration": 14,
    "start_time": "2023-07-23T00:44:38.680Z"
   },
   {
    "duration": 185,
    "start_time": "2023-07-23T00:44:38.696Z"
   },
   {
    "duration": 27,
    "start_time": "2023-07-23T00:44:38.882Z"
   },
   {
    "duration": 30,
    "start_time": "2023-07-23T00:44:38.911Z"
   },
   {
    "duration": 213,
    "start_time": "2023-07-23T00:44:38.942Z"
   },
   {
    "duration": 114,
    "start_time": "2023-07-23T00:44:39.157Z"
   },
   {
    "duration": 11,
    "start_time": "2023-07-23T00:44:39.273Z"
   },
   {
    "duration": 51,
    "start_time": "2023-07-23T00:44:39.286Z"
   },
   {
    "duration": 136,
    "start_time": "2023-07-23T00:44:39.339Z"
   },
   {
    "duration": 125,
    "start_time": "2023-07-23T00:44:39.478Z"
   },
   {
    "duration": 44,
    "start_time": "2023-07-23T00:44:39.604Z"
   },
   {
    "duration": 121,
    "start_time": "2023-07-23T00:44:39.649Z"
   },
   {
    "duration": 13,
    "start_time": "2023-07-23T00:44:39.772Z"
   },
   {
    "duration": 187,
    "start_time": "2023-07-23T00:44:39.786Z"
   },
   {
    "duration": 86,
    "start_time": "2023-07-23T00:44:39.975Z"
   },
   {
    "duration": 31,
    "start_time": "2023-07-23T00:44:40.063Z"
   },
   {
    "duration": 91,
    "start_time": "2023-07-23T00:44:40.096Z"
   },
   {
    "duration": 55,
    "start_time": "2023-07-23T00:44:40.189Z"
   },
   {
    "duration": 48,
    "start_time": "2023-07-23T00:44:40.246Z"
   },
   {
    "duration": 90,
    "start_time": "2023-07-23T00:44:40.295Z"
   },
   {
    "duration": 2586,
    "start_time": "2023-07-23T00:44:40.386Z"
   },
   {
    "duration": 354,
    "start_time": "2023-07-23T00:44:42.974Z"
   },
   {
    "duration": 326,
    "start_time": "2023-07-23T00:44:43.329Z"
   },
   {
    "duration": 330,
    "start_time": "2023-07-23T00:44:43.656Z"
   },
   {
    "duration": 24,
    "start_time": "2023-07-23T00:44:43.988Z"
   },
   {
    "duration": 25,
    "start_time": "2023-07-23T00:44:44.013Z"
   },
   {
    "duration": 53,
    "start_time": "2023-07-23T00:44:44.040Z"
   },
   {
    "duration": 63,
    "start_time": "2023-07-23T00:44:44.094Z"
   },
   {
    "duration": 75,
    "start_time": "2023-07-23T00:44:44.158Z"
   },
   {
    "duration": 3,
    "start_time": "2023-07-23T00:44:44.234Z"
   },
   {
    "duration": 23,
    "start_time": "2023-07-23T00:44:44.239Z"
   },
   {
    "duration": 70,
    "start_time": "2023-07-23T00:44:44.263Z"
   },
   {
    "duration": 204,
    "start_time": "2023-07-23T00:44:44.335Z"
   },
   {
    "duration": 54,
    "start_time": "2023-07-23T00:44:44.541Z"
   },
   {
    "duration": 1367,
    "start_time": "2023-07-23T01:06:48.663Z"
   },
   {
    "duration": 1404,
    "start_time": "2023-07-23T01:07:06.247Z"
   },
   {
    "duration": 3,
    "start_time": "2023-07-23T01:07:07.653Z"
   },
   {
    "duration": 924,
    "start_time": "2023-07-23T01:07:07.657Z"
   },
   {
    "duration": 184,
    "start_time": "2023-07-23T01:07:08.583Z"
   },
   {
    "duration": 13,
    "start_time": "2023-07-23T01:07:08.770Z"
   },
   {
    "duration": 216,
    "start_time": "2023-07-23T01:07:08.785Z"
   },
   {
    "duration": 40,
    "start_time": "2023-07-23T01:07:09.002Z"
   },
   {
    "duration": 28,
    "start_time": "2023-07-23T01:07:09.043Z"
   },
   {
    "duration": 268,
    "start_time": "2023-07-23T01:07:09.073Z"
   },
   {
    "duration": 121,
    "start_time": "2023-07-23T01:07:09.343Z"
   },
   {
    "duration": 10,
    "start_time": "2023-07-23T01:07:09.465Z"
   },
   {
    "duration": 62,
    "start_time": "2023-07-23T01:07:09.476Z"
   },
   {
    "duration": 167,
    "start_time": "2023-07-23T01:07:09.545Z"
   },
   {
    "duration": 134,
    "start_time": "2023-07-23T01:07:09.714Z"
   },
   {
    "duration": 32,
    "start_time": "2023-07-23T01:07:09.851Z"
   },
   {
    "duration": 134,
    "start_time": "2023-07-23T01:07:09.884Z"
   },
   {
    "duration": 19,
    "start_time": "2023-07-23T01:07:10.020Z"
   },
   {
    "duration": 206,
    "start_time": "2023-07-23T01:07:10.044Z"
   },
   {
    "duration": 89,
    "start_time": "2023-07-23T01:07:10.252Z"
   },
   {
    "duration": 41,
    "start_time": "2023-07-23T01:07:10.342Z"
   },
   {
    "duration": 95,
    "start_time": "2023-07-23T01:07:10.385Z"
   },
   {
    "duration": 48,
    "start_time": "2023-07-23T01:07:10.482Z"
   },
   {
    "duration": 51,
    "start_time": "2023-07-23T01:07:10.534Z"
   },
   {
    "duration": 89,
    "start_time": "2023-07-23T01:07:10.587Z"
   },
   {
    "duration": 2797,
    "start_time": "2023-07-23T01:07:10.678Z"
   },
   {
    "duration": 387,
    "start_time": "2023-07-23T01:07:13.476Z"
   },
   {
    "duration": 372,
    "start_time": "2023-07-23T01:07:13.864Z"
   },
   {
    "duration": 339,
    "start_time": "2023-07-23T01:07:14.244Z"
   },
   {
    "duration": 21,
    "start_time": "2023-07-23T01:07:14.585Z"
   },
   {
    "duration": 60,
    "start_time": "2023-07-23T01:07:14.607Z"
   },
   {
    "duration": 54,
    "start_time": "2023-07-23T01:07:14.669Z"
   },
   {
    "duration": 118,
    "start_time": "2023-07-23T01:07:14.734Z"
   },
   {
    "duration": 67,
    "start_time": "2023-07-23T01:07:14.854Z"
   },
   {
    "duration": 15,
    "start_time": "2023-07-23T01:07:14.930Z"
   },
   {
    "duration": 42,
    "start_time": "2023-07-23T01:07:14.949Z"
   },
   {
    "duration": 102,
    "start_time": "2023-07-23T01:07:14.993Z"
   },
   {
    "duration": 198,
    "start_time": "2023-07-23T01:07:15.096Z"
   },
   {
    "duration": 71,
    "start_time": "2023-07-23T01:07:15.295Z"
   },
   {
    "duration": 1467,
    "start_time": "2023-07-23T01:16:50.582Z"
   },
   {
    "duration": 3,
    "start_time": "2023-07-23T01:16:52.052Z"
   },
   {
    "duration": 946,
    "start_time": "2023-07-23T01:16:52.057Z"
   },
   {
    "duration": 162,
    "start_time": "2023-07-23T01:16:53.005Z"
   },
   {
    "duration": 42,
    "start_time": "2023-07-23T01:16:53.169Z"
   },
   {
    "duration": 189,
    "start_time": "2023-07-23T01:16:53.212Z"
   },
   {
    "duration": 39,
    "start_time": "2023-07-23T01:16:53.402Z"
   },
   {
    "duration": 19,
    "start_time": "2023-07-23T01:16:53.443Z"
   },
   {
    "duration": 251,
    "start_time": "2023-07-23T01:16:53.463Z"
   },
   {
    "duration": 123,
    "start_time": "2023-07-23T01:16:53.715Z"
   },
   {
    "duration": 11,
    "start_time": "2023-07-23T01:16:53.841Z"
   },
   {
    "duration": 48,
    "start_time": "2023-07-23T01:16:53.853Z"
   },
   {
    "duration": 171,
    "start_time": "2023-07-23T01:16:53.903Z"
   },
   {
    "duration": 132,
    "start_time": "2023-07-23T01:16:54.077Z"
   },
   {
    "duration": 36,
    "start_time": "2023-07-23T01:16:54.211Z"
   },
   {
    "duration": 124,
    "start_time": "2023-07-23T01:16:54.249Z"
   },
   {
    "duration": 12,
    "start_time": "2023-07-23T01:16:54.375Z"
   },
   {
    "duration": 202,
    "start_time": "2023-07-23T01:16:54.389Z"
   },
   {
    "duration": 92,
    "start_time": "2023-07-23T01:16:54.593Z"
   },
   {
    "duration": 91,
    "start_time": "2023-07-23T01:16:54.686Z"
   },
   {
    "duration": 132,
    "start_time": "2023-07-23T01:16:54.779Z"
   },
   {
    "duration": 54,
    "start_time": "2023-07-23T01:16:54.913Z"
   },
   {
    "duration": 59,
    "start_time": "2023-07-23T01:16:54.969Z"
   },
   {
    "duration": 96,
    "start_time": "2023-07-23T01:16:55.029Z"
   },
   {
    "duration": 2524,
    "start_time": "2023-07-23T01:16:55.126Z"
   },
   {
    "duration": 339,
    "start_time": "2023-07-23T01:16:57.651Z"
   },
   {
    "duration": 321,
    "start_time": "2023-07-23T01:16:57.991Z"
   },
   {
    "duration": 338,
    "start_time": "2023-07-23T01:16:58.314Z"
   },
   {
    "duration": 24,
    "start_time": "2023-07-23T01:16:58.653Z"
   },
   {
    "duration": 36,
    "start_time": "2023-07-23T01:16:58.679Z"
   },
   {
    "duration": 27,
    "start_time": "2023-07-23T01:16:58.716Z"
   },
   {
    "duration": 55,
    "start_time": "2023-07-23T01:16:58.744Z"
   },
   {
    "duration": 69,
    "start_time": "2023-07-23T01:16:58.801Z"
   },
   {
    "duration": 3,
    "start_time": "2023-07-23T01:16:58.872Z"
   },
   {
    "duration": 16,
    "start_time": "2023-07-23T01:16:58.877Z"
   },
   {
    "duration": 54,
    "start_time": "2023-07-23T01:16:58.894Z"
   },
   {
    "duration": 193,
    "start_time": "2023-07-23T01:16:58.950Z"
   },
   {
    "duration": 47,
    "start_time": "2023-07-23T01:16:59.145Z"
   },
   {
    "duration": 1383,
    "start_time": "2023-07-23T01:18:25.728Z"
   },
   {
    "duration": 3,
    "start_time": "2023-07-23T01:18:27.113Z"
   },
   {
    "duration": 820,
    "start_time": "2023-07-23T01:18:27.123Z"
   },
   {
    "duration": 147,
    "start_time": "2023-07-23T01:18:27.944Z"
   },
   {
    "duration": 40,
    "start_time": "2023-07-23T01:18:28.093Z"
   },
   {
    "duration": 200,
    "start_time": "2023-07-23T01:18:28.134Z"
   },
   {
    "duration": 27,
    "start_time": "2023-07-23T01:18:28.336Z"
   },
   {
    "duration": 82,
    "start_time": "2023-07-23T01:18:28.365Z"
   },
   {
    "duration": 231,
    "start_time": "2023-07-23T01:18:28.448Z"
   },
   {
    "duration": 113,
    "start_time": "2023-07-23T01:18:28.680Z"
   },
   {
    "duration": 9,
    "start_time": "2023-07-23T01:18:28.795Z"
   },
   {
    "duration": 68,
    "start_time": "2023-07-23T01:18:28.805Z"
   },
   {
    "duration": 200,
    "start_time": "2023-07-23T01:18:28.875Z"
   },
   {
    "duration": 120,
    "start_time": "2023-07-23T01:18:29.078Z"
   },
   {
    "duration": 52,
    "start_time": "2023-07-23T01:18:29.199Z"
   },
   {
    "duration": 123,
    "start_time": "2023-07-23T01:18:29.253Z"
   },
   {
    "duration": 12,
    "start_time": "2023-07-23T01:18:29.377Z"
   },
   {
    "duration": 199,
    "start_time": "2023-07-23T01:18:29.390Z"
   },
   {
    "duration": 88,
    "start_time": "2023-07-23T01:18:29.590Z"
   },
   {
    "duration": 58,
    "start_time": "2023-07-23T01:18:29.680Z"
   },
   {
    "duration": 108,
    "start_time": "2023-07-23T01:18:29.740Z"
   },
   {
    "duration": 42,
    "start_time": "2023-07-23T01:18:29.849Z"
   },
   {
    "duration": 80,
    "start_time": "2023-07-23T01:18:29.892Z"
   },
   {
    "duration": 74,
    "start_time": "2023-07-23T01:18:29.973Z"
   },
   {
    "duration": 2407,
    "start_time": "2023-07-23T01:18:30.049Z"
   },
   {
    "duration": 322,
    "start_time": "2023-07-23T01:18:32.458Z"
   },
   {
    "duration": 350,
    "start_time": "2023-07-23T01:18:32.783Z"
   },
   {
    "duration": 310,
    "start_time": "2023-07-23T01:18:33.135Z"
   },
   {
    "duration": 22,
    "start_time": "2023-07-23T01:18:33.446Z"
   },
   {
    "duration": 22,
    "start_time": "2023-07-23T01:18:33.469Z"
   },
   {
    "duration": 62,
    "start_time": "2023-07-23T01:18:33.492Z"
   },
   {
    "duration": 46,
    "start_time": "2023-07-23T01:18:33.555Z"
   },
   {
    "duration": 63,
    "start_time": "2023-07-23T01:18:33.603Z"
   },
   {
    "duration": 3,
    "start_time": "2023-07-23T01:18:33.668Z"
   },
   {
    "duration": 32,
    "start_time": "2023-07-23T01:18:33.672Z"
   },
   {
    "duration": 56,
    "start_time": "2023-07-23T01:18:33.705Z"
   },
   {
    "duration": 178,
    "start_time": "2023-07-23T01:18:33.762Z"
   },
   {
    "duration": 49,
    "start_time": "2023-07-23T01:18:33.941Z"
   },
   {
    "duration": 1384,
    "start_time": "2023-07-23T01:20:24.394Z"
   },
   {
    "duration": 2,
    "start_time": "2023-07-23T01:20:25.780Z"
   },
   {
    "duration": 769,
    "start_time": "2023-07-23T01:20:25.783Z"
   },
   {
    "duration": 140,
    "start_time": "2023-07-23T01:20:26.553Z"
   },
   {
    "duration": 14,
    "start_time": "2023-07-23T01:20:26.695Z"
   },
   {
    "duration": 177,
    "start_time": "2023-07-23T01:20:26.710Z"
   },
   {
    "duration": 46,
    "start_time": "2023-07-23T01:20:26.889Z"
   },
   {
    "duration": 6,
    "start_time": "2023-07-23T01:20:26.937Z"
   },
   {
    "duration": 202,
    "start_time": "2023-07-23T01:20:26.944Z"
   },
   {
    "duration": 131,
    "start_time": "2023-07-23T01:20:27.147Z"
   },
   {
    "duration": 11,
    "start_time": "2023-07-23T01:20:27.280Z"
   },
   {
    "duration": 46,
    "start_time": "2023-07-23T01:20:27.293Z"
   },
   {
    "duration": 141,
    "start_time": "2023-07-23T01:20:27.341Z"
   },
   {
    "duration": 149,
    "start_time": "2023-07-23T01:20:27.485Z"
   },
   {
    "duration": 35,
    "start_time": "2023-07-23T01:20:27.636Z"
   },
   {
    "duration": 117,
    "start_time": "2023-07-23T01:20:27.673Z"
   },
   {
    "duration": 13,
    "start_time": "2023-07-23T01:20:27.791Z"
   },
   {
    "duration": 183,
    "start_time": "2023-07-23T01:20:27.805Z"
   },
   {
    "duration": 93,
    "start_time": "2023-07-23T01:20:27.990Z"
   },
   {
    "duration": 41,
    "start_time": "2023-07-23T01:20:28.085Z"
   },
   {
    "duration": 80,
    "start_time": "2023-07-23T01:20:28.133Z"
   },
   {
    "duration": 51,
    "start_time": "2023-07-23T01:20:28.228Z"
   },
   {
    "duration": 51,
    "start_time": "2023-07-23T01:20:28.281Z"
   },
   {
    "duration": 70,
    "start_time": "2023-07-23T01:20:28.335Z"
   },
   {
    "duration": 2337,
    "start_time": "2023-07-23T01:20:28.407Z"
   },
   {
    "duration": 311,
    "start_time": "2023-07-23T01:20:30.746Z"
   },
   {
    "duration": 315,
    "start_time": "2023-07-23T01:20:31.059Z"
   },
   {
    "duration": 309,
    "start_time": "2023-07-23T01:20:31.376Z"
   },
   {
    "duration": 22,
    "start_time": "2023-07-23T01:20:31.687Z"
   },
   {
    "duration": 22,
    "start_time": "2023-07-23T01:20:31.724Z"
   },
   {
    "duration": 54,
    "start_time": "2023-07-23T01:20:31.747Z"
   },
   {
    "duration": 64,
    "start_time": "2023-07-23T01:20:31.803Z"
   },
   {
    "duration": 69,
    "start_time": "2023-07-23T01:20:31.869Z"
   },
   {
    "duration": 3,
    "start_time": "2023-07-23T01:20:31.939Z"
   },
   {
    "duration": 25,
    "start_time": "2023-07-23T01:20:31.944Z"
   },
   {
    "duration": 68,
    "start_time": "2023-07-23T01:20:31.971Z"
   },
   {
    "duration": 178,
    "start_time": "2023-07-23T01:20:32.041Z"
   },
   {
    "duration": 60,
    "start_time": "2023-07-23T01:20:32.220Z"
   },
   {
    "duration": 1310,
    "start_time": "2023-07-23T01:21:20.492Z"
   },
   {
    "duration": 3,
    "start_time": "2023-07-23T01:21:21.804Z"
   },
   {
    "duration": 825,
    "start_time": "2023-07-23T01:21:21.808Z"
   },
   {
    "duration": 139,
    "start_time": "2023-07-23T01:21:22.635Z"
   },
   {
    "duration": 15,
    "start_time": "2023-07-23T01:21:22.777Z"
   },
   {
    "duration": 203,
    "start_time": "2023-07-23T01:21:22.794Z"
   },
   {
    "duration": 39,
    "start_time": "2023-07-23T01:21:22.998Z"
   },
   {
    "duration": 22,
    "start_time": "2023-07-23T01:21:23.038Z"
   },
   {
    "duration": 221,
    "start_time": "2023-07-23T01:21:23.061Z"
   },
   {
    "duration": 112,
    "start_time": "2023-07-23T01:21:23.284Z"
   },
   {
    "duration": 11,
    "start_time": "2023-07-23T01:21:23.397Z"
   },
   {
    "duration": 44,
    "start_time": "2023-07-23T01:21:23.409Z"
   },
   {
    "duration": 144,
    "start_time": "2023-07-23T01:21:23.455Z"
   },
   {
    "duration": 128,
    "start_time": "2023-07-23T01:21:23.602Z"
   },
   {
    "duration": 33,
    "start_time": "2023-07-23T01:21:23.731Z"
   },
   {
    "duration": 124,
    "start_time": "2023-07-23T01:21:23.765Z"
   },
   {
    "duration": 42,
    "start_time": "2023-07-23T01:21:23.891Z"
   },
   {
    "duration": 161,
    "start_time": "2023-07-23T01:21:23.934Z"
   },
   {
    "duration": 94,
    "start_time": "2023-07-23T01:21:24.097Z"
   },
   {
    "duration": 64,
    "start_time": "2023-07-23T01:21:24.193Z"
   },
   {
    "duration": 118,
    "start_time": "2023-07-23T01:21:24.259Z"
   },
   {
    "duration": 55,
    "start_time": "2023-07-23T01:21:24.378Z"
   },
   {
    "duration": 41,
    "start_time": "2023-07-23T01:21:24.435Z"
   },
   {
    "duration": 73,
    "start_time": "2023-07-23T01:21:24.477Z"
   },
   {
    "duration": 2509,
    "start_time": "2023-07-23T01:21:24.552Z"
   },
   {
    "duration": 333,
    "start_time": "2023-07-23T01:21:27.064Z"
   },
   {
    "duration": 335,
    "start_time": "2023-07-23T01:21:27.398Z"
   },
   {
    "duration": 333,
    "start_time": "2023-07-23T01:21:27.734Z"
   },
   {
    "duration": 22,
    "start_time": "2023-07-23T01:21:28.068Z"
   },
   {
    "duration": 15,
    "start_time": "2023-07-23T01:21:28.091Z"
   },
   {
    "duration": 37,
    "start_time": "2023-07-23T01:21:28.107Z"
   },
   {
    "duration": 66,
    "start_time": "2023-07-23T01:21:28.145Z"
   },
   {
    "duration": 65,
    "start_time": "2023-07-23T01:21:28.213Z"
   },
   {
    "duration": 3,
    "start_time": "2023-07-23T01:21:28.279Z"
   },
   {
    "duration": 15,
    "start_time": "2023-07-23T01:21:28.283Z"
   },
   {
    "duration": 49,
    "start_time": "2023-07-23T01:21:28.299Z"
   },
   {
    "duration": 184,
    "start_time": "2023-07-23T01:21:28.349Z"
   },
   {
    "duration": 51,
    "start_time": "2023-07-23T01:21:28.534Z"
   },
   {
    "duration": 1366,
    "start_time": "2023-07-23T01:30:57.301Z"
   },
   {
    "duration": 3,
    "start_time": "2023-07-23T01:30:58.668Z"
   },
   {
    "duration": 761,
    "start_time": "2023-07-23T01:30:58.673Z"
   },
   {
    "duration": 120,
    "start_time": "2023-07-23T01:30:59.435Z"
   },
   {
    "duration": 15,
    "start_time": "2023-07-23T01:30:59.557Z"
   },
   {
    "duration": 165,
    "start_time": "2023-07-23T01:30:59.573Z"
   },
   {
    "duration": 22,
    "start_time": "2023-07-23T01:30:59.739Z"
   },
   {
    "duration": 26,
    "start_time": "2023-07-23T01:30:59.763Z"
   },
   {
    "duration": 199,
    "start_time": "2023-07-23T01:30:59.791Z"
   },
   {
    "duration": 109,
    "start_time": "2023-07-23T01:30:59.992Z"
   },
   {
    "duration": 22,
    "start_time": "2023-07-23T01:31:00.103Z"
   },
   {
    "duration": 35,
    "start_time": "2023-07-23T01:31:00.127Z"
   },
   {
    "duration": 166,
    "start_time": "2023-07-23T01:31:00.163Z"
   },
   {
    "duration": 126,
    "start_time": "2023-07-23T01:31:00.332Z"
   },
   {
    "duration": 31,
    "start_time": "2023-07-23T01:31:00.459Z"
   },
   {
    "duration": 120,
    "start_time": "2023-07-23T01:31:00.491Z"
   },
   {
    "duration": 12,
    "start_time": "2023-07-23T01:31:00.620Z"
   },
   {
    "duration": 174,
    "start_time": "2023-07-23T01:31:00.634Z"
   },
   {
    "duration": 80,
    "start_time": "2023-07-23T01:31:00.809Z"
   },
   {
    "duration": 71,
    "start_time": "2023-07-23T01:31:00.890Z"
   },
   {
    "duration": 173,
    "start_time": "2023-07-23T01:31:00.962Z"
   },
   {
    "duration": 91,
    "start_time": "2023-07-23T01:31:01.137Z"
   },
   {
    "duration": 145,
    "start_time": "2023-07-23T01:31:01.229Z"
   },
   {
    "duration": 119,
    "start_time": "2023-07-23T01:31:01.375Z"
   },
   {
    "duration": 2356,
    "start_time": "2023-07-23T01:31:01.495Z"
   },
   {
    "duration": 311,
    "start_time": "2023-07-23T01:31:03.854Z"
   },
   {
    "duration": 294,
    "start_time": "2023-07-23T01:31:04.167Z"
   },
   {
    "duration": 294,
    "start_time": "2023-07-23T01:31:04.462Z"
   },
   {
    "duration": 24,
    "start_time": "2023-07-23T01:31:04.758Z"
   },
   {
    "duration": 44,
    "start_time": "2023-07-23T01:31:04.784Z"
   },
   {
    "duration": 60,
    "start_time": "2023-07-23T01:31:04.830Z"
   },
   {
    "duration": 54,
    "start_time": "2023-07-23T01:31:04.892Z"
   },
   {
    "duration": 60,
    "start_time": "2023-07-23T01:31:04.947Z"
   },
   {
    "duration": 13,
    "start_time": "2023-07-23T01:31:05.008Z"
   },
   {
    "duration": 51,
    "start_time": "2023-07-23T01:31:05.022Z"
   },
   {
    "duration": 86,
    "start_time": "2023-07-23T01:31:05.075Z"
   },
   {
    "duration": 214,
    "start_time": "2023-07-23T01:31:05.162Z"
   },
   {
    "duration": 54,
    "start_time": "2023-07-23T01:31:05.377Z"
   },
   {
    "duration": 180,
    "start_time": "2023-07-23T01:31:05.432Z"
   },
   {
    "duration": 12212,
    "start_time": "2023-07-23T01:32:03.050Z"
   },
   {
    "duration": 4,
    "start_time": "2023-07-23T01:32:46.785Z"
   },
   {
    "duration": 15904,
    "start_time": "2023-07-23T01:32:49.434Z"
   },
   {
    "duration": 14779,
    "start_time": "2023-07-23T01:33:36.560Z"
   },
   {
    "duration": 10,
    "start_time": "2023-07-23T01:35:14.681Z"
   },
   {
    "duration": 1424,
    "start_time": "2023-07-23T01:36:44.658Z"
   },
   {
    "duration": 3,
    "start_time": "2023-07-23T01:36:46.084Z"
   },
   {
    "duration": 836,
    "start_time": "2023-07-23T01:36:46.089Z"
   },
   {
    "duration": 162,
    "start_time": "2023-07-23T01:36:46.930Z"
   },
   {
    "duration": 33,
    "start_time": "2023-07-23T01:36:47.095Z"
   },
   {
    "duration": 179,
    "start_time": "2023-07-23T01:36:47.135Z"
   },
   {
    "duration": 32,
    "start_time": "2023-07-23T01:36:47.316Z"
   },
   {
    "duration": 20,
    "start_time": "2023-07-23T01:36:47.350Z"
   },
   {
    "duration": 242,
    "start_time": "2023-07-23T01:36:47.371Z"
   },
   {
    "duration": 128,
    "start_time": "2023-07-23T01:36:47.615Z"
   },
   {
    "duration": 11,
    "start_time": "2023-07-23T01:36:47.745Z"
   },
   {
    "duration": 32,
    "start_time": "2023-07-23T01:36:47.758Z"
   },
   {
    "duration": 163,
    "start_time": "2023-07-23T01:36:47.792Z"
   },
   {
    "duration": 129,
    "start_time": "2023-07-23T01:36:47.958Z"
   },
   {
    "duration": 47,
    "start_time": "2023-07-23T01:36:48.088Z"
   },
   {
    "duration": 131,
    "start_time": "2023-07-23T01:36:48.137Z"
   },
   {
    "duration": 13,
    "start_time": "2023-07-23T01:36:48.270Z"
   },
   {
    "duration": 183,
    "start_time": "2023-07-23T01:36:48.285Z"
   },
   {
    "duration": 93,
    "start_time": "2023-07-23T01:36:48.469Z"
   },
   {
    "duration": 27,
    "start_time": "2023-07-23T01:36:48.564Z"
   },
   {
    "duration": 98,
    "start_time": "2023-07-23T01:36:48.592Z"
   },
   {
    "duration": 60,
    "start_time": "2023-07-23T01:36:48.692Z"
   },
   {
    "duration": 43,
    "start_time": "2023-07-23T01:36:48.754Z"
   },
   {
    "duration": 87,
    "start_time": "2023-07-23T01:36:48.799Z"
   },
   {
    "duration": 2523,
    "start_time": "2023-07-23T01:36:48.889Z"
   },
   {
    "duration": 322,
    "start_time": "2023-07-23T01:36:51.414Z"
   },
   {
    "duration": 313,
    "start_time": "2023-07-23T01:36:51.738Z"
   },
   {
    "duration": 331,
    "start_time": "2023-07-23T01:36:52.053Z"
   },
   {
    "duration": 23,
    "start_time": "2023-07-23T01:36:52.385Z"
   },
   {
    "duration": 23,
    "start_time": "2023-07-23T01:36:52.424Z"
   },
   {
    "duration": 25,
    "start_time": "2023-07-23T01:36:52.449Z"
   },
   {
    "duration": 60,
    "start_time": "2023-07-23T01:36:52.477Z"
   },
   {
    "duration": 61,
    "start_time": "2023-07-23T01:36:52.538Z"
   },
   {
    "duration": 4,
    "start_time": "2023-07-23T01:36:52.601Z"
   },
   {
    "duration": 25,
    "start_time": "2023-07-23T01:36:52.621Z"
   },
   {
    "duration": 44,
    "start_time": "2023-07-23T01:36:52.648Z"
   },
   {
    "duration": 197,
    "start_time": "2023-07-23T01:36:52.694Z"
   },
   {
    "duration": 63,
    "start_time": "2023-07-23T01:36:52.893Z"
   },
   {
    "duration": 4,
    "start_time": "2023-07-23T01:36:52.957Z"
   },
   {
    "duration": 170012,
    "start_time": "2023-07-23T01:36:52.963Z"
   },
   {
    "duration": 15256,
    "start_time": "2023-07-23T01:39:42.978Z"
   },
   {
    "duration": 1349,
    "start_time": "2023-07-23T01:46:54.070Z"
   },
   {
    "duration": 3,
    "start_time": "2023-07-23T01:46:55.429Z"
   },
   {
    "duration": 801,
    "start_time": "2023-07-23T01:46:55.434Z"
   },
   {
    "duration": 140,
    "start_time": "2023-07-23T01:46:56.237Z"
   },
   {
    "duration": 14,
    "start_time": "2023-07-23T01:46:56.379Z"
   },
   {
    "duration": 189,
    "start_time": "2023-07-23T01:46:56.395Z"
   },
   {
    "duration": 25,
    "start_time": "2023-07-23T01:46:56.586Z"
   },
   {
    "duration": 13,
    "start_time": "2023-07-23T01:46:56.620Z"
   },
   {
    "duration": 202,
    "start_time": "2023-07-23T01:46:56.634Z"
   },
   {
    "duration": 115,
    "start_time": "2023-07-23T01:46:56.838Z"
   },
   {
    "duration": 11,
    "start_time": "2023-07-23T01:46:56.954Z"
   },
   {
    "duration": 31,
    "start_time": "2023-07-23T01:46:56.966Z"
   },
   {
    "duration": 159,
    "start_time": "2023-07-23T01:46:56.998Z"
   },
   {
    "duration": 117,
    "start_time": "2023-07-23T01:46:57.159Z"
   },
   {
    "duration": 32,
    "start_time": "2023-07-23T01:46:57.277Z"
   },
   {
    "duration": 123,
    "start_time": "2023-07-23T01:46:57.320Z"
   },
   {
    "duration": 13,
    "start_time": "2023-07-23T01:46:57.444Z"
   },
   {
    "duration": 176,
    "start_time": "2023-07-23T01:46:57.459Z"
   },
   {
    "duration": 76,
    "start_time": "2023-07-23T01:46:57.637Z"
   },
   {
    "duration": 34,
    "start_time": "2023-07-23T01:46:57.720Z"
   },
   {
    "duration": 86,
    "start_time": "2023-07-23T01:46:57.756Z"
   },
   {
    "duration": 40,
    "start_time": "2023-07-23T01:46:57.844Z"
   },
   {
    "duration": 58,
    "start_time": "2023-07-23T01:46:57.886Z"
   },
   {
    "duration": 71,
    "start_time": "2023-07-23T01:46:57.946Z"
   },
   {
    "duration": 2377,
    "start_time": "2023-07-23T01:46:58.020Z"
   },
   {
    "duration": 313,
    "start_time": "2023-07-23T01:47:00.399Z"
   },
   {
    "duration": 326,
    "start_time": "2023-07-23T01:47:00.713Z"
   },
   {
    "duration": 316,
    "start_time": "2023-07-23T01:47:01.042Z"
   },
   {
    "duration": 22,
    "start_time": "2023-07-23T01:47:01.359Z"
   },
   {
    "duration": 49,
    "start_time": "2023-07-23T01:47:01.383Z"
   },
   {
    "duration": 75,
    "start_time": "2023-07-23T01:47:01.434Z"
   },
   {
    "duration": 94,
    "start_time": "2023-07-23T01:47:01.511Z"
   },
   {
    "duration": 66,
    "start_time": "2023-07-23T01:47:01.607Z"
   },
   {
    "duration": 31,
    "start_time": "2023-07-23T01:47:01.675Z"
   },
   {
    "duration": 82,
    "start_time": "2023-07-23T01:47:01.707Z"
   },
   {
    "duration": 67,
    "start_time": "2023-07-23T01:47:01.790Z"
   },
   {
    "duration": 296,
    "start_time": "2023-07-23T01:47:01.858Z"
   },
   {
    "duration": 53,
    "start_time": "2023-07-23T01:47:02.156Z"
   },
   {
    "duration": 17,
    "start_time": "2023-07-23T01:47:02.210Z"
   },
   {
    "duration": 1335,
    "start_time": "2023-07-23T01:50:31.178Z"
   },
   {
    "duration": 2,
    "start_time": "2023-07-23T01:50:32.515Z"
   },
   {
    "duration": 837,
    "start_time": "2023-07-23T01:50:32.522Z"
   },
   {
    "duration": 132,
    "start_time": "2023-07-23T01:50:33.361Z"
   },
   {
    "duration": 37,
    "start_time": "2023-07-23T01:50:33.495Z"
   },
   {
    "duration": 172,
    "start_time": "2023-07-23T01:50:33.535Z"
   },
   {
    "duration": 34,
    "start_time": "2023-07-23T01:50:33.709Z"
   },
   {
    "duration": 13,
    "start_time": "2023-07-23T01:50:33.745Z"
   },
   {
    "duration": 237,
    "start_time": "2023-07-23T01:50:33.760Z"
   },
   {
    "duration": 111,
    "start_time": "2023-07-23T01:50:34.000Z"
   },
   {
    "duration": 20,
    "start_time": "2023-07-23T01:50:34.112Z"
   },
   {
    "duration": 49,
    "start_time": "2023-07-23T01:50:34.137Z"
   },
   {
    "duration": 155,
    "start_time": "2023-07-23T01:50:34.188Z"
   },
   {
    "duration": 122,
    "start_time": "2023-07-23T01:50:34.345Z"
   },
   {
    "duration": 33,
    "start_time": "2023-07-23T01:50:34.469Z"
   },
   {
    "duration": 136,
    "start_time": "2023-07-23T01:50:34.504Z"
   },
   {
    "duration": 12,
    "start_time": "2023-07-23T01:50:34.642Z"
   },
   {
    "duration": 305,
    "start_time": "2023-07-23T01:50:34.656Z"
   },
   {
    "duration": 109,
    "start_time": "2023-07-23T01:50:34.963Z"
   },
   {
    "duration": 55,
    "start_time": "2023-07-23T01:50:35.074Z"
   },
   {
    "duration": 106,
    "start_time": "2023-07-23T01:50:35.136Z"
   },
   {
    "duration": 41,
    "start_time": "2023-07-23T01:50:35.244Z"
   },
   {
    "duration": 65,
    "start_time": "2023-07-23T01:50:35.286Z"
   },
   {
    "duration": 4,
    "start_time": "2023-07-23T01:50:35.352Z"
   },
   {
    "duration": 2370,
    "start_time": "2023-07-23T01:50:35.357Z"
   },
   {
    "duration": 309,
    "start_time": "2023-07-23T01:50:37.729Z"
   },
   {
    "duration": 310,
    "start_time": "2023-07-23T01:50:38.040Z"
   },
   {
    "duration": 308,
    "start_time": "2023-07-23T01:50:38.353Z"
   },
   {
    "duration": 21,
    "start_time": "2023-07-23T01:50:38.662Z"
   },
   {
    "duration": 23,
    "start_time": "2023-07-23T01:50:38.685Z"
   },
   {
    "duration": 31,
    "start_time": "2023-07-23T01:50:38.709Z"
   },
   {
    "duration": 49,
    "start_time": "2023-07-23T01:50:38.741Z"
   },
   {
    "duration": 77,
    "start_time": "2023-07-23T01:50:38.792Z"
   },
   {
    "duration": 4,
    "start_time": "2023-07-23T01:50:38.871Z"
   },
   {
    "duration": 19,
    "start_time": "2023-07-23T01:50:38.876Z"
   },
   {
    "duration": 58,
    "start_time": "2023-07-23T01:50:38.897Z"
   },
   {
    "duration": 216,
    "start_time": "2023-07-23T01:50:38.957Z"
   },
   {
    "duration": 64,
    "start_time": "2023-07-23T01:50:39.174Z"
   },
   {
    "duration": 3,
    "start_time": "2023-07-23T01:50:39.240Z"
   },
   {
    "duration": 4,
    "start_time": "2023-07-23T01:54:14.342Z"
   },
   {
    "duration": 57,
    "start_time": "2023-07-23T01:54:14.348Z"
   },
   {
    "duration": 896,
    "start_time": "2023-07-23T01:54:14.406Z"
   },
   {
    "duration": 133,
    "start_time": "2023-07-23T01:54:15.304Z"
   },
   {
    "duration": 70,
    "start_time": "2023-07-23T01:54:15.439Z"
   },
   {
    "duration": 223,
    "start_time": "2023-07-23T01:54:15.511Z"
   },
   {
    "duration": 23,
    "start_time": "2023-07-23T01:54:15.735Z"
   },
   {
    "duration": 33,
    "start_time": "2023-07-23T01:54:15.760Z"
   },
   {
    "duration": 253,
    "start_time": "2023-07-23T01:54:15.795Z"
   },
   {
    "duration": 109,
    "start_time": "2023-07-23T01:54:16.050Z"
   },
   {
    "duration": 11,
    "start_time": "2023-07-23T01:54:16.160Z"
   },
   {
    "duration": 32,
    "start_time": "2023-07-23T01:54:16.172Z"
   },
   {
    "duration": 193,
    "start_time": "2023-07-23T01:54:16.205Z"
   },
   {
    "duration": 152,
    "start_time": "2023-07-23T01:54:16.400Z"
   },
   {
    "duration": 23,
    "start_time": "2023-07-23T01:54:16.554Z"
   },
   {
    "duration": 148,
    "start_time": "2023-07-23T01:54:16.579Z"
   },
   {
    "duration": 15,
    "start_time": "2023-07-23T01:54:16.732Z"
   },
   {
    "duration": 198,
    "start_time": "2023-07-23T01:54:16.748Z"
   },
   {
    "duration": 92,
    "start_time": "2023-07-23T01:54:16.948Z"
   },
   {
    "duration": 54,
    "start_time": "2023-07-23T01:54:17.042Z"
   },
   {
    "duration": 112,
    "start_time": "2023-07-23T01:54:17.098Z"
   },
   {
    "duration": 53,
    "start_time": "2023-07-23T01:54:17.212Z"
   },
   {
    "duration": 43,
    "start_time": "2023-07-23T01:54:17.266Z"
   },
   {
    "duration": 13,
    "start_time": "2023-07-23T01:54:17.310Z"
   },
   {
    "duration": 2449,
    "start_time": "2023-07-23T01:54:17.325Z"
   },
   {
    "duration": 317,
    "start_time": "2023-07-23T01:54:19.776Z"
   },
   {
    "duration": 347,
    "start_time": "2023-07-23T01:54:20.094Z"
   },
   {
    "duration": 344,
    "start_time": "2023-07-23T01:54:20.445Z"
   },
   {
    "duration": 34,
    "start_time": "2023-07-23T01:54:20.791Z"
   },
   {
    "duration": 16,
    "start_time": "2023-07-23T01:54:20.827Z"
   },
   {
    "duration": 37,
    "start_time": "2023-07-23T01:54:20.845Z"
   },
   {
    "duration": 77,
    "start_time": "2023-07-23T01:54:20.884Z"
   },
   {
    "duration": 73,
    "start_time": "2023-07-23T01:54:20.962Z"
   },
   {
    "duration": 3,
    "start_time": "2023-07-23T01:54:21.037Z"
   },
   {
    "duration": 45,
    "start_time": "2023-07-23T01:54:21.042Z"
   },
   {
    "duration": 60,
    "start_time": "2023-07-23T01:54:21.089Z"
   },
   {
    "duration": 187,
    "start_time": "2023-07-23T01:54:21.150Z"
   },
   {
    "duration": 44,
    "start_time": "2023-07-23T01:54:21.338Z"
   },
   {
    "duration": 3,
    "start_time": "2023-07-23T01:54:21.384Z"
   },
   {
    "duration": 1407,
    "start_time": "2023-07-23T02:02:39.422Z"
   },
   {
    "duration": 2,
    "start_time": "2023-07-23T02:02:40.837Z"
   },
   {
    "duration": 908,
    "start_time": "2023-07-23T02:02:40.841Z"
   },
   {
    "duration": 155,
    "start_time": "2023-07-23T02:02:41.751Z"
   },
   {
    "duration": 29,
    "start_time": "2023-07-23T02:02:41.908Z"
   },
   {
    "duration": 224,
    "start_time": "2023-07-23T02:02:41.938Z"
   },
   {
    "duration": 29,
    "start_time": "2023-07-23T02:02:42.163Z"
   },
   {
    "duration": 8,
    "start_time": "2023-07-23T02:02:42.193Z"
   },
   {
    "duration": 275,
    "start_time": "2023-07-23T02:02:42.203Z"
   },
   {
    "duration": 148,
    "start_time": "2023-07-23T02:02:42.481Z"
   },
   {
    "duration": 13,
    "start_time": "2023-07-23T02:02:42.632Z"
   },
   {
    "duration": 40,
    "start_time": "2023-07-23T02:02:42.646Z"
   },
   {
    "duration": 173,
    "start_time": "2023-07-23T02:02:42.688Z"
   },
   {
    "duration": 159,
    "start_time": "2023-07-23T02:02:42.863Z"
   },
   {
    "duration": 37,
    "start_time": "2023-07-23T02:02:43.025Z"
   },
   {
    "duration": 139,
    "start_time": "2023-07-23T02:02:43.064Z"
   },
   {
    "duration": 32,
    "start_time": "2023-07-23T02:02:43.204Z"
   },
   {
    "duration": 173,
    "start_time": "2023-07-23T02:02:43.237Z"
   },
   {
    "duration": 89,
    "start_time": "2023-07-23T02:02:43.412Z"
   },
   {
    "duration": 78,
    "start_time": "2023-07-23T02:02:43.502Z"
   },
   {
    "duration": 175,
    "start_time": "2023-07-23T02:02:43.582Z"
   },
   {
    "duration": 41,
    "start_time": "2023-07-23T02:02:43.758Z"
   },
   {
    "duration": 59,
    "start_time": "2023-07-23T02:02:43.801Z"
   },
   {
    "duration": 78,
    "start_time": "2023-07-23T02:02:43.862Z"
   },
   {
    "duration": 2572,
    "start_time": "2023-07-23T02:02:43.942Z"
   },
   {
    "duration": 334,
    "start_time": "2023-07-23T02:02:46.516Z"
   },
   {
    "duration": 359,
    "start_time": "2023-07-23T02:02:46.851Z"
   },
   {
    "duration": 339,
    "start_time": "2023-07-23T02:02:47.213Z"
   },
   {
    "duration": 23,
    "start_time": "2023-07-23T02:02:47.553Z"
   },
   {
    "duration": 18,
    "start_time": "2023-07-23T02:02:47.578Z"
   },
   {
    "duration": 44,
    "start_time": "2023-07-23T02:02:47.597Z"
   },
   {
    "duration": 55,
    "start_time": "2023-07-23T02:02:47.643Z"
   },
   {
    "duration": 88,
    "start_time": "2023-07-23T02:02:47.701Z"
   },
   {
    "duration": 4,
    "start_time": "2023-07-23T02:02:47.790Z"
   },
   {
    "duration": 55,
    "start_time": "2023-07-23T02:02:47.796Z"
   },
   {
    "duration": 112,
    "start_time": "2023-07-23T02:02:47.853Z"
   },
   {
    "duration": 189,
    "start_time": "2023-07-23T02:02:47.967Z"
   },
   {
    "duration": 63,
    "start_time": "2023-07-23T02:02:48.158Z"
   },
   {
    "duration": 4,
    "start_time": "2023-07-23T02:02:48.227Z"
   },
   {
    "duration": 1430,
    "start_time": "2023-07-23T02:03:39.775Z"
   },
   {
    "duration": 2,
    "start_time": "2023-07-23T02:03:41.207Z"
   },
   {
    "duration": 941,
    "start_time": "2023-07-23T02:03:41.210Z"
   },
   {
    "duration": 142,
    "start_time": "2023-07-23T02:03:42.153Z"
   },
   {
    "duration": 48,
    "start_time": "2023-07-23T02:03:42.297Z"
   },
   {
    "duration": 219,
    "start_time": "2023-07-23T02:03:42.347Z"
   },
   {
    "duration": 24,
    "start_time": "2023-07-23T02:03:42.568Z"
   },
   {
    "duration": 41,
    "start_time": "2023-07-23T02:03:42.593Z"
   },
   {
    "duration": 287,
    "start_time": "2023-07-23T02:03:42.636Z"
   },
   {
    "duration": 136,
    "start_time": "2023-07-23T02:03:42.925Z"
   },
   {
    "duration": 14,
    "start_time": "2023-07-23T02:03:43.063Z"
   },
   {
    "duration": 65,
    "start_time": "2023-07-23T02:03:43.079Z"
   },
   {
    "duration": 188,
    "start_time": "2023-07-23T02:03:43.146Z"
   },
   {
    "duration": 145,
    "start_time": "2023-07-23T02:03:43.338Z"
   },
   {
    "duration": 47,
    "start_time": "2023-07-23T02:03:43.485Z"
   },
   {
    "duration": 129,
    "start_time": "2023-07-23T02:03:43.535Z"
   },
   {
    "duration": 13,
    "start_time": "2023-07-23T02:03:43.666Z"
   },
   {
    "duration": 210,
    "start_time": "2023-07-23T02:03:43.680Z"
   },
   {
    "duration": 96,
    "start_time": "2023-07-23T02:03:43.892Z"
   },
   {
    "duration": 68,
    "start_time": "2023-07-23T02:03:43.989Z"
   },
   {
    "duration": 111,
    "start_time": "2023-07-23T02:03:44.058Z"
   },
   {
    "duration": 63,
    "start_time": "2023-07-23T02:03:44.171Z"
   },
   {
    "duration": 42,
    "start_time": "2023-07-23T02:03:44.236Z"
   },
   {
    "duration": 72,
    "start_time": "2023-07-23T02:03:44.279Z"
   },
   {
    "duration": 2516,
    "start_time": "2023-07-23T02:03:44.352Z"
   },
   {
    "duration": 323,
    "start_time": "2023-07-23T02:03:46.869Z"
   },
   {
    "duration": 313,
    "start_time": "2023-07-23T02:03:47.194Z"
   },
   {
    "duration": 317,
    "start_time": "2023-07-23T02:03:47.509Z"
   },
   {
    "duration": 25,
    "start_time": "2023-07-23T02:03:47.827Z"
   },
   {
    "duration": 39,
    "start_time": "2023-07-23T02:03:47.854Z"
   },
   {
    "duration": 42,
    "start_time": "2023-07-23T02:03:47.895Z"
   },
   {
    "duration": 57,
    "start_time": "2023-07-23T02:03:47.938Z"
   },
   {
    "duration": 73,
    "start_time": "2023-07-23T02:03:47.996Z"
   },
   {
    "duration": 3,
    "start_time": "2023-07-23T02:03:48.070Z"
   },
   {
    "duration": 33,
    "start_time": "2023-07-23T02:03:48.074Z"
   },
   {
    "duration": 123,
    "start_time": "2023-07-23T02:03:48.108Z"
   },
   {
    "duration": 170,
    "start_time": "2023-07-23T02:03:48.236Z"
   },
   {
    "duration": 58,
    "start_time": "2023-07-23T02:03:48.408Z"
   },
   {
    "duration": 8,
    "start_time": "2023-07-23T02:03:48.467Z"
   },
   {
    "duration": 1513,
    "start_time": "2023-07-23T02:11:06.301Z"
   },
   {
    "duration": 5,
    "start_time": "2023-07-23T02:11:07.817Z"
   },
   {
    "duration": 926,
    "start_time": "2023-07-23T02:11:07.824Z"
   },
   {
    "duration": 158,
    "start_time": "2023-07-23T02:11:08.752Z"
   },
   {
    "duration": 23,
    "start_time": "2023-07-23T02:11:08.922Z"
   },
   {
    "duration": 224,
    "start_time": "2023-07-23T02:11:08.947Z"
   },
   {
    "duration": 31,
    "start_time": "2023-07-23T02:11:09.174Z"
   },
   {
    "duration": 42,
    "start_time": "2023-07-23T02:11:09.207Z"
   },
   {
    "duration": 248,
    "start_time": "2023-07-23T02:11:09.253Z"
   },
   {
    "duration": 135,
    "start_time": "2023-07-23T02:11:09.502Z"
   },
   {
    "duration": 13,
    "start_time": "2023-07-23T02:11:09.639Z"
   },
   {
    "duration": 44,
    "start_time": "2023-07-23T02:11:09.654Z"
   },
   {
    "duration": 174,
    "start_time": "2023-07-23T02:11:09.699Z"
   },
   {
    "duration": 183,
    "start_time": "2023-07-23T02:11:09.876Z"
   },
   {
    "duration": 31,
    "start_time": "2023-07-23T02:11:10.061Z"
   },
   {
    "duration": 156,
    "start_time": "2023-07-23T02:11:10.094Z"
   },
   {
    "duration": 16,
    "start_time": "2023-07-23T02:11:10.252Z"
   },
   {
    "duration": 198,
    "start_time": "2023-07-23T02:11:10.270Z"
   },
   {
    "duration": 105,
    "start_time": "2023-07-23T02:11:10.470Z"
   },
   {
    "duration": 31,
    "start_time": "2023-07-23T02:11:10.576Z"
   },
   {
    "duration": 96,
    "start_time": "2023-07-23T02:11:10.622Z"
   },
   {
    "duration": 55,
    "start_time": "2023-07-23T02:11:10.722Z"
   },
   {
    "duration": 59,
    "start_time": "2023-07-23T02:11:10.778Z"
   },
   {
    "duration": 90,
    "start_time": "2023-07-23T02:11:10.840Z"
   },
   {
    "duration": 2734,
    "start_time": "2023-07-23T02:11:10.932Z"
   },
   {
    "duration": 404,
    "start_time": "2023-07-23T02:11:13.668Z"
   },
   {
    "duration": 382,
    "start_time": "2023-07-23T02:11:14.074Z"
   },
   {
    "duration": 414,
    "start_time": "2023-07-23T02:11:14.458Z"
   },
   {
    "duration": 38,
    "start_time": "2023-07-23T02:11:14.875Z"
   },
   {
    "duration": 78,
    "start_time": "2023-07-23T02:11:14.920Z"
   },
   {
    "duration": 86,
    "start_time": "2023-07-23T02:11:15.003Z"
   },
   {
    "duration": 62,
    "start_time": "2023-07-23T02:11:15.092Z"
   },
   {
    "duration": 106,
    "start_time": "2023-07-23T02:11:15.156Z"
   },
   {
    "duration": 4,
    "start_time": "2023-07-23T02:11:15.263Z"
   },
   {
    "duration": 41,
    "start_time": "2023-07-23T02:11:15.269Z"
   },
   {
    "duration": 103,
    "start_time": "2023-07-23T02:11:15.311Z"
   },
   {
    "duration": 205,
    "start_time": "2023-07-23T02:11:15.416Z"
   },
   {
    "duration": 60,
    "start_time": "2023-07-23T02:11:15.623Z"
   },
   {
    "duration": 3,
    "start_time": "2023-07-23T02:11:15.685Z"
   },
   {
    "duration": 242,
    "start_time": "2023-07-23T02:11:15.689Z"
   },
   {
    "duration": 1414,
    "start_time": "2023-07-23T02:32:22.735Z"
   },
   {
    "duration": 3,
    "start_time": "2023-07-23T02:32:24.150Z"
   },
   {
    "duration": 932,
    "start_time": "2023-07-23T02:32:24.155Z"
   },
   {
    "duration": 155,
    "start_time": "2023-07-23T02:32:25.089Z"
   },
   {
    "duration": 15,
    "start_time": "2023-07-23T02:32:25.246Z"
   },
   {
    "duration": 198,
    "start_time": "2023-07-23T02:32:25.262Z"
   },
   {
    "duration": 25,
    "start_time": "2023-07-23T02:32:25.462Z"
   },
   {
    "duration": 16,
    "start_time": "2023-07-23T02:32:25.489Z"
   },
   {
    "duration": 263,
    "start_time": "2023-07-23T02:32:25.507Z"
   },
   {
    "duration": 130,
    "start_time": "2023-07-23T02:32:25.772Z"
   },
   {
    "duration": 34,
    "start_time": "2023-07-23T02:32:25.903Z"
   },
   {
    "duration": 41,
    "start_time": "2023-07-23T02:32:25.938Z"
   },
   {
    "duration": 156,
    "start_time": "2023-07-23T02:32:25.980Z"
   },
   {
    "duration": 129,
    "start_time": "2023-07-23T02:32:26.139Z"
   },
   {
    "duration": 33,
    "start_time": "2023-07-23T02:32:26.270Z"
   },
   {
    "duration": 158,
    "start_time": "2023-07-23T02:32:26.305Z"
   },
   {
    "duration": 15,
    "start_time": "2023-07-23T02:32:26.465Z"
   },
   {
    "duration": 190,
    "start_time": "2023-07-23T02:32:26.482Z"
   },
   {
    "duration": 96,
    "start_time": "2023-07-23T02:32:26.674Z"
   },
   {
    "duration": 32,
    "start_time": "2023-07-23T02:32:26.772Z"
   },
   {
    "duration": 90,
    "start_time": "2023-07-23T02:32:26.821Z"
   },
   {
    "duration": 53,
    "start_time": "2023-07-23T02:32:26.913Z"
   },
   {
    "duration": 62,
    "start_time": "2023-07-23T02:32:26.967Z"
   },
   {
    "duration": 76,
    "start_time": "2023-07-23T02:32:27.035Z"
   },
   {
    "duration": 2547,
    "start_time": "2023-07-23T02:32:27.113Z"
   },
   {
    "duration": 331,
    "start_time": "2023-07-23T02:32:29.662Z"
   },
   {
    "duration": 344,
    "start_time": "2023-07-23T02:32:29.994Z"
   },
   {
    "duration": 339,
    "start_time": "2023-07-23T02:32:30.340Z"
   },
   {
    "duration": 23,
    "start_time": "2023-07-23T02:32:30.681Z"
   },
   {
    "duration": 59,
    "start_time": "2023-07-23T02:32:30.706Z"
   },
   {
    "duration": 33,
    "start_time": "2023-07-23T02:32:30.766Z"
   },
   {
    "duration": 81,
    "start_time": "2023-07-23T02:32:30.801Z"
   },
   {
    "duration": 66,
    "start_time": "2023-07-23T02:32:30.884Z"
   },
   {
    "duration": 3,
    "start_time": "2023-07-23T02:32:30.951Z"
   },
   {
    "duration": 37,
    "start_time": "2023-07-23T02:32:30.956Z"
   },
   {
    "duration": 89,
    "start_time": "2023-07-23T02:32:30.995Z"
   },
   {
    "duration": 190,
    "start_time": "2023-07-23T02:32:31.086Z"
   },
   {
    "duration": 66,
    "start_time": "2023-07-23T02:32:31.278Z"
   },
   {
    "duration": 4,
    "start_time": "2023-07-23T02:32:31.345Z"
   },
   {
    "duration": 1300,
    "start_time": "2023-07-23T02:38:23.486Z"
   },
   {
    "duration": 3,
    "start_time": "2023-07-23T02:38:24.788Z"
   },
   {
    "duration": 839,
    "start_time": "2023-07-23T02:38:24.793Z"
   },
   {
    "duration": 135,
    "start_time": "2023-07-23T02:38:25.634Z"
   },
   {
    "duration": 26,
    "start_time": "2023-07-23T02:38:25.771Z"
   },
   {
    "duration": 196,
    "start_time": "2023-07-23T02:38:25.799Z"
   },
   {
    "duration": 31,
    "start_time": "2023-07-23T02:38:25.997Z"
   },
   {
    "duration": 20,
    "start_time": "2023-07-23T02:38:26.029Z"
   },
   {
    "duration": 231,
    "start_time": "2023-07-23T02:38:26.050Z"
   },
   {
    "duration": 112,
    "start_time": "2023-07-23T02:38:26.283Z"
   },
   {
    "duration": 10,
    "start_time": "2023-07-23T02:38:26.396Z"
   },
   {
    "duration": 39,
    "start_time": "2023-07-23T02:38:26.407Z"
   },
   {
    "duration": 144,
    "start_time": "2023-07-23T02:38:26.448Z"
   },
   {
    "duration": 138,
    "start_time": "2023-07-23T02:38:26.596Z"
   },
   {
    "duration": 32,
    "start_time": "2023-07-23T02:38:26.736Z"
   },
   {
    "duration": 126,
    "start_time": "2023-07-23T02:38:26.770Z"
   },
   {
    "duration": 14,
    "start_time": "2023-07-23T02:38:26.897Z"
   },
   {
    "duration": 186,
    "start_time": "2023-07-23T02:38:26.923Z"
   },
   {
    "duration": 87,
    "start_time": "2023-07-23T02:38:27.111Z"
   },
   {
    "duration": 48,
    "start_time": "2023-07-23T02:38:27.199Z"
   },
   {
    "duration": 75,
    "start_time": "2023-07-23T02:38:27.248Z"
   },
   {
    "duration": 46,
    "start_time": "2023-07-23T02:38:27.326Z"
   },
   {
    "duration": 71,
    "start_time": "2023-07-23T02:38:27.375Z"
   },
   {
    "duration": 66,
    "start_time": "2023-07-23T02:38:27.447Z"
   },
   {
    "duration": 2354,
    "start_time": "2023-07-23T02:38:27.514Z"
   },
   {
    "duration": 332,
    "start_time": "2023-07-23T02:38:29.869Z"
   },
   {
    "duration": 326,
    "start_time": "2023-07-23T02:38:30.202Z"
   },
   {
    "duration": 308,
    "start_time": "2023-07-23T02:38:30.533Z"
   },
   {
    "duration": 23,
    "start_time": "2023-07-23T02:38:30.842Z"
   },
   {
    "duration": 24,
    "start_time": "2023-07-23T02:38:30.866Z"
   },
   {
    "duration": 51,
    "start_time": "2023-07-23T02:38:30.892Z"
   },
   {
    "duration": 64,
    "start_time": "2023-07-23T02:38:30.944Z"
   },
   {
    "duration": 72,
    "start_time": "2023-07-23T02:38:31.010Z"
   },
   {
    "duration": 4,
    "start_time": "2023-07-23T02:38:31.083Z"
   },
   {
    "duration": 28,
    "start_time": "2023-07-23T02:38:31.088Z"
   },
   {
    "duration": 90,
    "start_time": "2023-07-23T02:38:31.118Z"
   },
   {
    "duration": 204,
    "start_time": "2023-07-23T02:38:31.210Z"
   },
   {
    "duration": 62,
    "start_time": "2023-07-23T02:38:31.415Z"
   },
   {
    "duration": 2,
    "start_time": "2023-07-23T02:38:31.479Z"
   },
   {
    "duration": 1030749,
    "start_time": "2023-07-23T02:38:31.482Z"
   },
   {
    "duration": 12087,
    "start_time": "2023-07-23T02:55:42.234Z"
   },
   {
    "duration": 1476,
    "start_time": "2023-07-23T03:25:40.265Z"
   },
   {
    "duration": 3,
    "start_time": "2023-07-23T03:25:41.743Z"
   },
   {
    "duration": 852,
    "start_time": "2023-07-23T03:25:41.748Z"
   },
   {
    "duration": 152,
    "start_time": "2023-07-23T03:25:42.603Z"
   },
   {
    "duration": 17,
    "start_time": "2023-07-23T03:25:42.758Z"
   },
   {
    "duration": 273,
    "start_time": "2023-07-23T03:25:42.777Z"
   },
   {
    "duration": 30,
    "start_time": "2023-07-23T03:25:43.052Z"
   },
   {
    "duration": 19,
    "start_time": "2023-07-23T03:25:43.084Z"
   },
   {
    "duration": 228,
    "start_time": "2023-07-23T03:25:43.104Z"
   },
   {
    "duration": 125,
    "start_time": "2023-07-23T03:25:43.334Z"
   },
   {
    "duration": 13,
    "start_time": "2023-07-23T03:25:43.461Z"
   },
   {
    "duration": 52,
    "start_time": "2023-07-23T03:25:43.476Z"
   },
   {
    "duration": 157,
    "start_time": "2023-07-23T03:25:43.529Z"
   },
   {
    "duration": 139,
    "start_time": "2023-07-23T03:25:43.690Z"
   },
   {
    "duration": 36,
    "start_time": "2023-07-23T03:25:43.831Z"
   },
   {
    "duration": 140,
    "start_time": "2023-07-23T03:25:43.869Z"
   },
   {
    "duration": 24,
    "start_time": "2023-07-23T03:25:44.011Z"
   },
   {
    "duration": 204,
    "start_time": "2023-07-23T03:25:44.036Z"
   },
   {
    "duration": 90,
    "start_time": "2023-07-23T03:25:44.241Z"
   },
   {
    "duration": 37,
    "start_time": "2023-07-23T03:25:44.333Z"
   },
   {
    "duration": 106,
    "start_time": "2023-07-23T03:25:44.372Z"
   },
   {
    "duration": 51,
    "start_time": "2023-07-23T03:25:44.479Z"
   },
   {
    "duration": 46,
    "start_time": "2023-07-23T03:25:44.531Z"
   },
   {
    "duration": 72,
    "start_time": "2023-07-23T03:25:44.578Z"
   },
   {
    "duration": 2665,
    "start_time": "2023-07-23T03:25:44.652Z"
   },
   {
    "duration": 360,
    "start_time": "2023-07-23T03:25:47.320Z"
   },
   {
    "duration": 307,
    "start_time": "2023-07-23T03:25:47.682Z"
   },
   {
    "duration": 310,
    "start_time": "2023-07-23T03:25:47.990Z"
   },
   {
    "duration": 31,
    "start_time": "2023-07-23T03:25:48.302Z"
   },
   {
    "duration": 37,
    "start_time": "2023-07-23T03:25:48.335Z"
   },
   {
    "duration": 43,
    "start_time": "2023-07-23T03:25:48.373Z"
   },
   {
    "duration": 55,
    "start_time": "2023-07-23T03:25:48.417Z"
   },
   {
    "duration": 61,
    "start_time": "2023-07-23T03:25:48.474Z"
   },
   {
    "duration": 4,
    "start_time": "2023-07-23T03:25:48.537Z"
   },
   {
    "duration": 51,
    "start_time": "2023-07-23T03:25:48.543Z"
   },
   {
    "duration": 82,
    "start_time": "2023-07-23T03:25:48.596Z"
   },
   {
    "duration": 180,
    "start_time": "2023-07-23T03:25:48.679Z"
   },
   {
    "duration": 60,
    "start_time": "2023-07-23T03:25:48.860Z"
   },
   {
    "duration": 3,
    "start_time": "2023-07-23T03:25:48.922Z"
   },
   {
    "duration": 2138,
    "start_time": "2023-07-23T12:08:28.560Z"
   },
   {
    "duration": 3,
    "start_time": "2023-07-23T12:08:30.700Z"
   },
   {
    "duration": 901,
    "start_time": "2023-07-23T12:08:30.705Z"
   },
   {
    "duration": 127,
    "start_time": "2023-07-23T12:08:31.608Z"
   },
   {
    "duration": 23,
    "start_time": "2023-07-23T12:08:31.737Z"
   },
   {
    "duration": 183,
    "start_time": "2023-07-23T12:08:31.762Z"
   },
   {
    "duration": 26,
    "start_time": "2023-07-23T12:08:31.947Z"
   },
   {
    "duration": 12,
    "start_time": "2023-07-23T12:08:31.975Z"
   },
   {
    "duration": 220,
    "start_time": "2023-07-23T12:08:31.989Z"
   },
   {
    "duration": 124,
    "start_time": "2023-07-23T12:08:32.211Z"
   },
   {
    "duration": 12,
    "start_time": "2023-07-23T12:08:32.337Z"
   },
   {
    "duration": 40,
    "start_time": "2023-07-23T12:08:32.369Z"
   },
   {
    "duration": 157,
    "start_time": "2023-07-23T12:08:32.411Z"
   },
   {
    "duration": 124,
    "start_time": "2023-07-23T12:08:32.656Z"
   },
   {
    "duration": 35,
    "start_time": "2023-07-23T12:08:34.010Z"
   },
   {
    "duration": 132,
    "start_time": "2023-07-23T12:08:34.640Z"
   },
   {
    "duration": 14,
    "start_time": "2023-07-23T12:08:35.408Z"
   },
   {
    "duration": 196,
    "start_time": "2023-07-23T12:08:35.823Z"
   },
   {
    "duration": 110,
    "start_time": "2023-07-23T12:08:38.336Z"
   },
   {
    "duration": 45,
    "start_time": "2023-07-23T12:08:39.600Z"
   },
   {
    "duration": 90,
    "start_time": "2023-07-23T12:08:39.800Z"
   },
   {
    "duration": 64,
    "start_time": "2023-07-23T12:08:40.968Z"
   },
   {
    "duration": 42,
    "start_time": "2023-07-23T12:08:42.328Z"
   },
   {
    "duration": 4,
    "start_time": "2023-07-23T12:08:43.360Z"
   },
   {
    "duration": 2756,
    "start_time": "2023-07-23T12:08:43.828Z"
   },
   {
    "duration": 321,
    "start_time": "2023-07-23T12:08:46.586Z"
   },
   {
    "duration": 334,
    "start_time": "2023-07-23T12:08:46.909Z"
   },
   {
    "duration": 321,
    "start_time": "2023-07-23T12:08:48.138Z"
   },
   {
    "duration": 22,
    "start_time": "2023-07-23T12:08:49.090Z"
   },
   {
    "duration": 17,
    "start_time": "2023-07-23T12:08:49.410Z"
   },
   {
    "duration": 22,
    "start_time": "2023-07-23T12:08:49.599Z"
   },
   {
    "duration": 49,
    "start_time": "2023-07-23T12:08:50.458Z"
   },
   {
    "duration": 67,
    "start_time": "2023-07-23T12:08:51.701Z"
   },
   {
    "duration": 3,
    "start_time": "2023-07-23T12:08:51.843Z"
   },
   {
    "duration": 8,
    "start_time": "2023-07-23T12:08:53.020Z"
   },
   {
    "duration": 35,
    "start_time": "2023-07-23T12:08:54.543Z"
   },
   {
    "duration": 216,
    "start_time": "2023-07-23T12:08:56.986Z"
   },
   {
    "duration": 58,
    "start_time": "2023-07-23T12:09:02.342Z"
   },
   {
    "duration": 114,
    "start_time": "2023-07-23T12:10:39.304Z"
   },
   {
    "duration": 8935,
    "start_time": "2023-07-23T12:10:54.247Z"
   }
  ],
  "kernelspec": {
   "display_name": "Python 3 (ipykernel)",
   "language": "python",
   "name": "python3"
  },
  "language_info": {
   "codemirror_mode": {
    "name": "ipython",
    "version": 3
   },
   "file_extension": ".py",
   "mimetype": "text/x-python",
   "name": "python",
   "nbconvert_exporter": "python",
   "pygments_lexer": "ipython3",
   "version": "3.9.5"
  },
  "toc": {
   "base_numbering": 1,
   "nav_menu": {},
   "number_sections": true,
   "sideBar": true,
   "skip_h1_title": true,
   "title_cell": "Table of Contents",
   "title_sidebar": "Contents",
   "toc_cell": false,
   "toc_position": {
    "height": "calc(100% - 180px)",
    "left": "10px",
    "top": "150px",
    "width": "405.797px"
   },
   "toc_section_display": true,
   "toc_window_display": true
  }
 },
 "nbformat": 4,
 "nbformat_minor": 4
}

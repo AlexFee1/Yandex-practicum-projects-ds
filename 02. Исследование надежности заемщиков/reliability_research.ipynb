{
 "cells": [
  {
   "cell_type": "markdown",
   "id": "bef5353c",
   "metadata": {
    "deletable": false,
    "editable": false,
    "id": "c81daeeb"
   },
   "source": [
    "# Исследование надежности заемщиков\n"
   ]
  },
  {
   "cell_type": "markdown",
   "id": "db189233",
   "metadata": {
    "deletable": false,
    "editable": false,
    "id": "827c20bf"
   },
   "source": [
    "Во второй части проекта вы выполните шаги 3 и 4. Их вручную проверит ревьюер.\n",
    "Чтобы вам не пришлось писать код заново для шагов 1 и 2, мы добавили авторские решения в ячейки с кодом. \n",
    "\n"
   ]
  },
  {
   "cell_type": "markdown",
   "id": "78955496",
   "metadata": {
    "deletable": false,
    "editable": false,
    "id": "744d7639"
   },
   "source": [
    "## Откройте таблицу и изучите общую информацию о данных"
   ]
  },
  {
   "cell_type": "markdown",
   "id": "348f289b",
   "metadata": {
    "deletable": false,
    "editable": false,
    "id": "e7a14c31"
   },
   "source": [
    "**Задание 1. Импортируйте библиотеку pandas. Считайте данные из csv-файла в датафрейм и сохраните в переменную `data`. Путь к файлу:**\n",
    "\n",
    "`/datasets/data.csv`"
   ]
  },
  {
   "cell_type": "code",
   "execution_count": 1,
   "id": "ac981e07",
   "metadata": {
    "deletable": false,
    "id": "7bcf75c9"
   },
   "outputs": [],
   "source": [
    "import pandas as pd\n",
    "\n",
    "try:\n",
    "    data = pd.read_csv('/datasets/data.csv')\n",
    "except:\n",
    "    data = pd.read_csv('https://code.s3.yandex.net/datasets/data.csv')"
   ]
  },
  {
   "cell_type": "markdown",
   "id": "be641686",
   "metadata": {
    "deletable": false,
    "editable": false,
    "id": "b8038fe3"
   },
   "source": [
    "**Задание 2. Выведите первые 20 строчек датафрейма `data` на экран.**"
   ]
  },
  {
   "cell_type": "code",
   "execution_count": 2,
   "id": "1e47da83",
   "metadata": {
    "deletable": false,
    "id": "2a7cab99",
    "outputId": "1a8f3ef2-d323-4ec2-ddf7-89670b5944c4"
   },
   "outputs": [
    {
     "data": {
      "text/html": [
       "<div>\n",
       "<style scoped>\n",
       "    .dataframe tbody tr th:only-of-type {\n",
       "        vertical-align: middle;\n",
       "    }\n",
       "\n",
       "    .dataframe tbody tr th {\n",
       "        vertical-align: top;\n",
       "    }\n",
       "\n",
       "    .dataframe thead th {\n",
       "        text-align: right;\n",
       "    }\n",
       "</style>\n",
       "<table border=\"1\" class=\"dataframe\">\n",
       "  <thead>\n",
       "    <tr style=\"text-align: right;\">\n",
       "      <th></th>\n",
       "      <th>children</th>\n",
       "      <th>days_employed</th>\n",
       "      <th>dob_years</th>\n",
       "      <th>education</th>\n",
       "      <th>education_id</th>\n",
       "      <th>family_status</th>\n",
       "      <th>family_status_id</th>\n",
       "      <th>gender</th>\n",
       "      <th>income_type</th>\n",
       "      <th>debt</th>\n",
       "      <th>total_income</th>\n",
       "      <th>purpose</th>\n",
       "    </tr>\n",
       "  </thead>\n",
       "  <tbody>\n",
       "    <tr>\n",
       "      <th>0</th>\n",
       "      <td>1</td>\n",
       "      <td>-8437.673028</td>\n",
       "      <td>42</td>\n",
       "      <td>высшее</td>\n",
       "      <td>0</td>\n",
       "      <td>женат / замужем</td>\n",
       "      <td>0</td>\n",
       "      <td>F</td>\n",
       "      <td>сотрудник</td>\n",
       "      <td>0</td>\n",
       "      <td>253875.639453</td>\n",
       "      <td>покупка жилья</td>\n",
       "    </tr>\n",
       "    <tr>\n",
       "      <th>1</th>\n",
       "      <td>1</td>\n",
       "      <td>-4024.803754</td>\n",
       "      <td>36</td>\n",
       "      <td>среднее</td>\n",
       "      <td>1</td>\n",
       "      <td>женат / замужем</td>\n",
       "      <td>0</td>\n",
       "      <td>F</td>\n",
       "      <td>сотрудник</td>\n",
       "      <td>0</td>\n",
       "      <td>112080.014102</td>\n",
       "      <td>приобретение автомобиля</td>\n",
       "    </tr>\n",
       "    <tr>\n",
       "      <th>2</th>\n",
       "      <td>0</td>\n",
       "      <td>-5623.422610</td>\n",
       "      <td>33</td>\n",
       "      <td>Среднее</td>\n",
       "      <td>1</td>\n",
       "      <td>женат / замужем</td>\n",
       "      <td>0</td>\n",
       "      <td>M</td>\n",
       "      <td>сотрудник</td>\n",
       "      <td>0</td>\n",
       "      <td>145885.952297</td>\n",
       "      <td>покупка жилья</td>\n",
       "    </tr>\n",
       "    <tr>\n",
       "      <th>3</th>\n",
       "      <td>3</td>\n",
       "      <td>-4124.747207</td>\n",
       "      <td>32</td>\n",
       "      <td>среднее</td>\n",
       "      <td>1</td>\n",
       "      <td>женат / замужем</td>\n",
       "      <td>0</td>\n",
       "      <td>M</td>\n",
       "      <td>сотрудник</td>\n",
       "      <td>0</td>\n",
       "      <td>267628.550329</td>\n",
       "      <td>дополнительное образование</td>\n",
       "    </tr>\n",
       "    <tr>\n",
       "      <th>4</th>\n",
       "      <td>0</td>\n",
       "      <td>340266.072047</td>\n",
       "      <td>53</td>\n",
       "      <td>среднее</td>\n",
       "      <td>1</td>\n",
       "      <td>гражданский брак</td>\n",
       "      <td>1</td>\n",
       "      <td>F</td>\n",
       "      <td>пенсионер</td>\n",
       "      <td>0</td>\n",
       "      <td>158616.077870</td>\n",
       "      <td>сыграть свадьбу</td>\n",
       "    </tr>\n",
       "    <tr>\n",
       "      <th>5</th>\n",
       "      <td>0</td>\n",
       "      <td>-926.185831</td>\n",
       "      <td>27</td>\n",
       "      <td>высшее</td>\n",
       "      <td>0</td>\n",
       "      <td>гражданский брак</td>\n",
       "      <td>1</td>\n",
       "      <td>M</td>\n",
       "      <td>компаньон</td>\n",
       "      <td>0</td>\n",
       "      <td>255763.565419</td>\n",
       "      <td>покупка жилья</td>\n",
       "    </tr>\n",
       "    <tr>\n",
       "      <th>6</th>\n",
       "      <td>0</td>\n",
       "      <td>-2879.202052</td>\n",
       "      <td>43</td>\n",
       "      <td>высшее</td>\n",
       "      <td>0</td>\n",
       "      <td>женат / замужем</td>\n",
       "      <td>0</td>\n",
       "      <td>F</td>\n",
       "      <td>компаньон</td>\n",
       "      <td>0</td>\n",
       "      <td>240525.971920</td>\n",
       "      <td>операции с жильем</td>\n",
       "    </tr>\n",
       "    <tr>\n",
       "      <th>7</th>\n",
       "      <td>0</td>\n",
       "      <td>-152.779569</td>\n",
       "      <td>50</td>\n",
       "      <td>СРЕДНЕЕ</td>\n",
       "      <td>1</td>\n",
       "      <td>женат / замужем</td>\n",
       "      <td>0</td>\n",
       "      <td>M</td>\n",
       "      <td>сотрудник</td>\n",
       "      <td>0</td>\n",
       "      <td>135823.934197</td>\n",
       "      <td>образование</td>\n",
       "    </tr>\n",
       "    <tr>\n",
       "      <th>8</th>\n",
       "      <td>2</td>\n",
       "      <td>-6929.865299</td>\n",
       "      <td>35</td>\n",
       "      <td>ВЫСШЕЕ</td>\n",
       "      <td>0</td>\n",
       "      <td>гражданский брак</td>\n",
       "      <td>1</td>\n",
       "      <td>F</td>\n",
       "      <td>сотрудник</td>\n",
       "      <td>0</td>\n",
       "      <td>95856.832424</td>\n",
       "      <td>на проведение свадьбы</td>\n",
       "    </tr>\n",
       "    <tr>\n",
       "      <th>9</th>\n",
       "      <td>0</td>\n",
       "      <td>-2188.756445</td>\n",
       "      <td>41</td>\n",
       "      <td>среднее</td>\n",
       "      <td>1</td>\n",
       "      <td>женат / замужем</td>\n",
       "      <td>0</td>\n",
       "      <td>M</td>\n",
       "      <td>сотрудник</td>\n",
       "      <td>0</td>\n",
       "      <td>144425.938277</td>\n",
       "      <td>покупка жилья для семьи</td>\n",
       "    </tr>\n",
       "    <tr>\n",
       "      <th>10</th>\n",
       "      <td>2</td>\n",
       "      <td>-4171.483647</td>\n",
       "      <td>36</td>\n",
       "      <td>высшее</td>\n",
       "      <td>0</td>\n",
       "      <td>женат / замужем</td>\n",
       "      <td>0</td>\n",
       "      <td>M</td>\n",
       "      <td>компаньон</td>\n",
       "      <td>0</td>\n",
       "      <td>113943.491460</td>\n",
       "      <td>покупка недвижимости</td>\n",
       "    </tr>\n",
       "    <tr>\n",
       "      <th>11</th>\n",
       "      <td>0</td>\n",
       "      <td>-792.701887</td>\n",
       "      <td>40</td>\n",
       "      <td>среднее</td>\n",
       "      <td>1</td>\n",
       "      <td>женат / замужем</td>\n",
       "      <td>0</td>\n",
       "      <td>F</td>\n",
       "      <td>сотрудник</td>\n",
       "      <td>0</td>\n",
       "      <td>77069.234271</td>\n",
       "      <td>покупка коммерческой недвижимости</td>\n",
       "    </tr>\n",
       "    <tr>\n",
       "      <th>12</th>\n",
       "      <td>0</td>\n",
       "      <td>NaN</td>\n",
       "      <td>65</td>\n",
       "      <td>среднее</td>\n",
       "      <td>1</td>\n",
       "      <td>гражданский брак</td>\n",
       "      <td>1</td>\n",
       "      <td>M</td>\n",
       "      <td>пенсионер</td>\n",
       "      <td>0</td>\n",
       "      <td>NaN</td>\n",
       "      <td>сыграть свадьбу</td>\n",
       "    </tr>\n",
       "    <tr>\n",
       "      <th>13</th>\n",
       "      <td>0</td>\n",
       "      <td>-1846.641941</td>\n",
       "      <td>54</td>\n",
       "      <td>неоконченное высшее</td>\n",
       "      <td>2</td>\n",
       "      <td>женат / замужем</td>\n",
       "      <td>0</td>\n",
       "      <td>F</td>\n",
       "      <td>сотрудник</td>\n",
       "      <td>0</td>\n",
       "      <td>130458.228857</td>\n",
       "      <td>приобретение автомобиля</td>\n",
       "    </tr>\n",
       "    <tr>\n",
       "      <th>14</th>\n",
       "      <td>0</td>\n",
       "      <td>-1844.956182</td>\n",
       "      <td>56</td>\n",
       "      <td>высшее</td>\n",
       "      <td>0</td>\n",
       "      <td>гражданский брак</td>\n",
       "      <td>1</td>\n",
       "      <td>F</td>\n",
       "      <td>компаньон</td>\n",
       "      <td>1</td>\n",
       "      <td>165127.911772</td>\n",
       "      <td>покупка жилой недвижимости</td>\n",
       "    </tr>\n",
       "    <tr>\n",
       "      <th>15</th>\n",
       "      <td>1</td>\n",
       "      <td>-972.364419</td>\n",
       "      <td>26</td>\n",
       "      <td>среднее</td>\n",
       "      <td>1</td>\n",
       "      <td>женат / замужем</td>\n",
       "      <td>0</td>\n",
       "      <td>F</td>\n",
       "      <td>сотрудник</td>\n",
       "      <td>0</td>\n",
       "      <td>116820.904450</td>\n",
       "      <td>строительство собственной недвижимости</td>\n",
       "    </tr>\n",
       "    <tr>\n",
       "      <th>16</th>\n",
       "      <td>0</td>\n",
       "      <td>-1719.934226</td>\n",
       "      <td>35</td>\n",
       "      <td>среднее</td>\n",
       "      <td>1</td>\n",
       "      <td>женат / замужем</td>\n",
       "      <td>0</td>\n",
       "      <td>F</td>\n",
       "      <td>сотрудник</td>\n",
       "      <td>0</td>\n",
       "      <td>289202.704229</td>\n",
       "      <td>недвижимость</td>\n",
       "    </tr>\n",
       "    <tr>\n",
       "      <th>17</th>\n",
       "      <td>0</td>\n",
       "      <td>-2369.999720</td>\n",
       "      <td>33</td>\n",
       "      <td>высшее</td>\n",
       "      <td>0</td>\n",
       "      <td>гражданский брак</td>\n",
       "      <td>1</td>\n",
       "      <td>M</td>\n",
       "      <td>сотрудник</td>\n",
       "      <td>0</td>\n",
       "      <td>90410.586745</td>\n",
       "      <td>строительство недвижимости</td>\n",
       "    </tr>\n",
       "    <tr>\n",
       "      <th>18</th>\n",
       "      <td>0</td>\n",
       "      <td>400281.136913</td>\n",
       "      <td>53</td>\n",
       "      <td>среднее</td>\n",
       "      <td>1</td>\n",
       "      <td>вдовец / вдова</td>\n",
       "      <td>2</td>\n",
       "      <td>F</td>\n",
       "      <td>пенсионер</td>\n",
       "      <td>0</td>\n",
       "      <td>56823.777243</td>\n",
       "      <td>на покупку подержанного автомобиля</td>\n",
       "    </tr>\n",
       "    <tr>\n",
       "      <th>19</th>\n",
       "      <td>0</td>\n",
       "      <td>-10038.818549</td>\n",
       "      <td>48</td>\n",
       "      <td>СРЕДНЕЕ</td>\n",
       "      <td>1</td>\n",
       "      <td>в разводе</td>\n",
       "      <td>3</td>\n",
       "      <td>F</td>\n",
       "      <td>сотрудник</td>\n",
       "      <td>0</td>\n",
       "      <td>242831.107982</td>\n",
       "      <td>на покупку своего автомобиля</td>\n",
       "    </tr>\n",
       "  </tbody>\n",
       "</table>\n",
       "</div>"
      ],
      "text/plain": [
       "    children  days_employed  dob_years            education  education_id  \\\n",
       "0          1   -8437.673028         42               высшее             0   \n",
       "1          1   -4024.803754         36              среднее             1   \n",
       "2          0   -5623.422610         33              Среднее             1   \n",
       "3          3   -4124.747207         32              среднее             1   \n",
       "4          0  340266.072047         53              среднее             1   \n",
       "5          0    -926.185831         27               высшее             0   \n",
       "6          0   -2879.202052         43               высшее             0   \n",
       "7          0    -152.779569         50              СРЕДНЕЕ             1   \n",
       "8          2   -6929.865299         35               ВЫСШЕЕ             0   \n",
       "9          0   -2188.756445         41              среднее             1   \n",
       "10         2   -4171.483647         36               высшее             0   \n",
       "11         0    -792.701887         40              среднее             1   \n",
       "12         0            NaN         65              среднее             1   \n",
       "13         0   -1846.641941         54  неоконченное высшее             2   \n",
       "14         0   -1844.956182         56               высшее             0   \n",
       "15         1    -972.364419         26              среднее             1   \n",
       "16         0   -1719.934226         35              среднее             1   \n",
       "17         0   -2369.999720         33               высшее             0   \n",
       "18         0  400281.136913         53              среднее             1   \n",
       "19         0  -10038.818549         48              СРЕДНЕЕ             1   \n",
       "\n",
       "       family_status  family_status_id gender income_type  debt  \\\n",
       "0    женат / замужем                 0      F   сотрудник     0   \n",
       "1    женат / замужем                 0      F   сотрудник     0   \n",
       "2    женат / замужем                 0      M   сотрудник     0   \n",
       "3    женат / замужем                 0      M   сотрудник     0   \n",
       "4   гражданский брак                 1      F   пенсионер     0   \n",
       "5   гражданский брак                 1      M   компаньон     0   \n",
       "6    женат / замужем                 0      F   компаньон     0   \n",
       "7    женат / замужем                 0      M   сотрудник     0   \n",
       "8   гражданский брак                 1      F   сотрудник     0   \n",
       "9    женат / замужем                 0      M   сотрудник     0   \n",
       "10   женат / замужем                 0      M   компаньон     0   \n",
       "11   женат / замужем                 0      F   сотрудник     0   \n",
       "12  гражданский брак                 1      M   пенсионер     0   \n",
       "13   женат / замужем                 0      F   сотрудник     0   \n",
       "14  гражданский брак                 1      F   компаньон     1   \n",
       "15   женат / замужем                 0      F   сотрудник     0   \n",
       "16   женат / замужем                 0      F   сотрудник     0   \n",
       "17  гражданский брак                 1      M   сотрудник     0   \n",
       "18    вдовец / вдова                 2      F   пенсионер     0   \n",
       "19         в разводе                 3      F   сотрудник     0   \n",
       "\n",
       "     total_income                                 purpose  \n",
       "0   253875.639453                           покупка жилья  \n",
       "1   112080.014102                 приобретение автомобиля  \n",
       "2   145885.952297                           покупка жилья  \n",
       "3   267628.550329              дополнительное образование  \n",
       "4   158616.077870                         сыграть свадьбу  \n",
       "5   255763.565419                           покупка жилья  \n",
       "6   240525.971920                       операции с жильем  \n",
       "7   135823.934197                             образование  \n",
       "8    95856.832424                   на проведение свадьбы  \n",
       "9   144425.938277                 покупка жилья для семьи  \n",
       "10  113943.491460                    покупка недвижимости  \n",
       "11   77069.234271       покупка коммерческой недвижимости  \n",
       "12            NaN                         сыграть свадьбу  \n",
       "13  130458.228857                 приобретение автомобиля  \n",
       "14  165127.911772              покупка жилой недвижимости  \n",
       "15  116820.904450  строительство собственной недвижимости  \n",
       "16  289202.704229                            недвижимость  \n",
       "17   90410.586745              строительство недвижимости  \n",
       "18   56823.777243      на покупку подержанного автомобиля  \n",
       "19  242831.107982            на покупку своего автомобиля  "
      ]
     },
     "execution_count": 2,
     "metadata": {},
     "output_type": "execute_result"
    }
   ],
   "source": [
    "data.head(20)"
   ]
  },
  {
   "cell_type": "markdown",
   "id": "b88ec797",
   "metadata": {
    "deletable": false,
    "editable": false,
    "id": "1c12e233"
   },
   "source": [
    "**Задание 3. Выведите основную информацию о датафрейме с помощью метода `info()`.**"
   ]
  },
  {
   "cell_type": "code",
   "execution_count": 3,
   "id": "dbf710dd",
   "metadata": {
    "deletable": false,
    "id": "2b757bca",
    "outputId": "15376089-8dad-46c9-b520-c05248d43158"
   },
   "outputs": [
    {
     "name": "stdout",
     "output_type": "stream",
     "text": [
      "<class 'pandas.core.frame.DataFrame'>\n",
      "RangeIndex: 21525 entries, 0 to 21524\n",
      "Data columns (total 12 columns):\n",
      " #   Column            Non-Null Count  Dtype  \n",
      "---  ------            --------------  -----  \n",
      " 0   children          21525 non-null  int64  \n",
      " 1   days_employed     19351 non-null  float64\n",
      " 2   dob_years         21525 non-null  int64  \n",
      " 3   education         21525 non-null  object \n",
      " 4   education_id      21525 non-null  int64  \n",
      " 5   family_status     21525 non-null  object \n",
      " 6   family_status_id  21525 non-null  int64  \n",
      " 7   gender            21525 non-null  object \n",
      " 8   income_type       21525 non-null  object \n",
      " 9   debt              21525 non-null  int64  \n",
      " 10  total_income      19351 non-null  float64\n",
      " 11  purpose           21525 non-null  object \n",
      "dtypes: float64(2), int64(5), object(5)\n",
      "memory usage: 2.0+ MB\n"
     ]
    }
   ],
   "source": [
    "data.info()"
   ]
  },
  {
   "cell_type": "markdown",
   "id": "cc741ded",
   "metadata": {
    "deletable": false,
    "editable": false,
    "id": "333ec665"
   },
   "source": [
    "## Предобработка данных"
   ]
  },
  {
   "cell_type": "markdown",
   "id": "a86f4d5d",
   "metadata": {
    "deletable": false,
    "editable": false,
    "id": "02d92d53"
   },
   "source": [
    "### Удаление пропусков"
   ]
  },
  {
   "cell_type": "markdown",
   "id": "64b76ec8",
   "metadata": {
    "deletable": false,
    "editable": false,
    "id": "cd84967c"
   },
   "source": [
    "**Задание 4. Выведите количество пропущенных значений для каждого столбца. Используйте комбинацию двух методов.**"
   ]
  },
  {
   "cell_type": "code",
   "execution_count": 4,
   "id": "3d7ff4e4",
   "metadata": {
    "deletable": false,
    "id": "7f9b2309",
    "outputId": "81f4d817-781c-465c-ed15-91ce4446810d"
   },
   "outputs": [
    {
     "data": {
      "text/plain": [
       "children               0\n",
       "days_employed       2174\n",
       "dob_years              0\n",
       "education              0\n",
       "education_id           0\n",
       "family_status          0\n",
       "family_status_id       0\n",
       "gender                 0\n",
       "income_type            0\n",
       "debt                   0\n",
       "total_income        2174\n",
       "purpose                0\n",
       "dtype: int64"
      ]
     },
     "execution_count": 4,
     "metadata": {},
     "output_type": "execute_result"
    }
   ],
   "source": [
    "data.isna().sum()"
   ]
  },
  {
   "cell_type": "markdown",
   "id": "20a72ba8",
   "metadata": {
    "deletable": false,
    "editable": false,
    "id": "db86e27b"
   },
   "source": [
    "**Задание 5. В двух столбцах есть пропущенные значения. Один из них — `days_employed`. Пропуски в этом столбце вы обработаете на следующем этапе. Другой столбец с пропущенными значениями — `total_income` — хранит данные о доходах. На сумму дохода сильнее всего влияет тип занятости, поэтому заполнить пропуски в этом столбце нужно медианным значением по каждому типу из столбца `income_type`. Например, у человека с типом занятости `сотрудник` пропуск в столбце `total_income` должен быть заполнен медианным доходом среди всех записей с тем же типом.**"
   ]
  },
  {
   "cell_type": "code",
   "execution_count": 5,
   "id": "33496433",
   "metadata": {
    "deletable": false,
    "id": "42006a93"
   },
   "outputs": [],
   "source": [
    "for t in data['income_type'].unique():\n",
    "    data.loc[(data['income_type'] == t) & (data['total_income'].isna()), 'total_income'] = \\\n",
    "    data.loc[(data['income_type'] == t), 'total_income'].median()"
   ]
  },
  {
   "cell_type": "markdown",
   "id": "5c9888cd",
   "metadata": {
    "deletable": false,
    "editable": false,
    "id": "89da5ece"
   },
   "source": [
    "### Обработка аномальных значений"
   ]
  },
  {
   "cell_type": "markdown",
   "id": "342de9aa",
   "metadata": {
    "deletable": false,
    "editable": false,
    "id": "57964554"
   },
   "source": [
    "**Задание 6. В данных могут встречаться артефакты (аномалии) — значения, которые не отражают действительность и появились по какой-то ошибке. таким артефактом будет отрицательное количество дней трудового стажа в столбце `days_employed`. Для реальных данных это нормально. Обработайте значения в этом столбце: замените все отрицательные значения положительными с помощью метода `abs()`.**"
   ]
  },
  {
   "cell_type": "code",
   "execution_count": 6,
   "id": "796aa5b8",
   "metadata": {
    "deletable": false,
    "id": "f6f055bf"
   },
   "outputs": [],
   "source": [
    "data['days_employed'] = data['days_employed'].abs()"
   ]
  },
  {
   "cell_type": "markdown",
   "id": "8cc5d40f",
   "metadata": {
    "deletable": false,
    "editable": false,
    "id": "6107dd2f"
   },
   "source": [
    "**Задание 7. Для каждого типа занятости выведите медианное значение трудового стажа `days_employed` в днях.**"
   ]
  },
  {
   "cell_type": "code",
   "execution_count": 7,
   "id": "1d51d0ab",
   "metadata": {
    "deletable": false,
    "id": "85a5faf6",
    "outputId": "801ef80e-522b-4668-f34e-565af7432bcf"
   },
   "outputs": [
    {
     "data": {
      "text/plain": [
       "income_type\n",
       "безработный        366413.652744\n",
       "в декрете            3296.759962\n",
       "госслужащий          2689.368353\n",
       "компаньон            1547.382223\n",
       "пенсионер          365213.306266\n",
       "предприниматель       520.848083\n",
       "сотрудник            1574.202821\n",
       "студент               578.751554\n",
       "Name: days_employed, dtype: float64"
      ]
     },
     "execution_count": 7,
     "metadata": {},
     "output_type": "execute_result"
    }
   ],
   "source": [
    "data.groupby('income_type')['days_employed'].agg('median')"
   ]
  },
  {
   "cell_type": "markdown",
   "id": "15b190cd",
   "metadata": {
    "deletable": false,
    "editable": false,
    "id": "38d1a030"
   },
   "source": [
    "У двух типов (безработные и пенсионеры) получатся аномально большие значения. Исправить такие значения сложно, поэтому оставьте их как есть. Тем более этот столбец не понадобится вам для исследования."
   ]
  },
  {
   "cell_type": "markdown",
   "id": "54446e5b",
   "metadata": {
    "deletable": false,
    "editable": false,
    "id": "d8a9f147"
   },
   "source": [
    "**Задание 8. Выведите перечень уникальных значений столбца `children`.**"
   ]
  },
  {
   "cell_type": "code",
   "execution_count": 8,
   "id": "b75c6796",
   "metadata": {
    "deletable": false,
    "id": "ef5056eb",
    "outputId": "6975b15c-7f95-4697-d16d-a0c79b657b03"
   },
   "outputs": [
    {
     "data": {
      "text/plain": [
       "array([ 1,  0,  3,  2, -1,  4, 20,  5])"
      ]
     },
     "execution_count": 8,
     "metadata": {},
     "output_type": "execute_result"
    }
   ],
   "source": [
    "data['children'].unique()"
   ]
  },
  {
   "cell_type": "markdown",
   "id": "5f1f061b",
   "metadata": {
    "deletable": false,
    "editable": false,
    "id": "40b9ebf2"
   },
   "source": [
    "**Задание 9. В столбце `children` есть два аномальных значения. Удалите строки, в которых встречаются такие аномальные значения из датафрейма `data`.**"
   ]
  },
  {
   "cell_type": "code",
   "execution_count": 9,
   "id": "7038dbaa",
   "metadata": {
    "deletable": false,
    "id": "3ff9801d"
   },
   "outputs": [],
   "source": [
    "data = data[(data['children'] != -1) & (data['children'] != 20)]"
   ]
  },
  {
   "cell_type": "markdown",
   "id": "a2fcd645",
   "metadata": {
    "deletable": false,
    "editable": false,
    "id": "bbc4d0ce"
   },
   "source": [
    "**Задание 10. Ещё раз выведите перечень уникальных значений столбца `children`, чтобы убедиться, что артефакты удалены.**"
   ]
  },
  {
   "cell_type": "code",
   "execution_count": 10,
   "id": "e5231b97",
   "metadata": {
    "deletable": false,
    "id": "ad4fa8b7",
    "outputId": "b2097101-d49d-44d9-901b-32a65c9463d1"
   },
   "outputs": [
    {
     "data": {
      "text/plain": [
       "array([1, 0, 3, 2, 4, 5])"
      ]
     },
     "execution_count": 10,
     "metadata": {},
     "output_type": "execute_result"
    }
   ],
   "source": [
    "data['children'].unique()"
   ]
  },
  {
   "cell_type": "markdown",
   "id": "6236c1cc",
   "metadata": {
    "deletable": false,
    "editable": false,
    "id": "75440b63"
   },
   "source": [
    "### Удаление пропусков (продолжение)"
   ]
  },
  {
   "cell_type": "markdown",
   "id": "1c3fa365",
   "metadata": {
    "deletable": false,
    "editable": false,
    "id": "f4ea573f"
   },
   "source": [
    "**Задание 11. Заполните пропуски в столбце `days_employed` медианными значениями по каждого типа занятости `income_type`.**"
   ]
  },
  {
   "cell_type": "code",
   "execution_count": 11,
   "id": "0abfb6e2",
   "metadata": {
    "deletable": false,
    "id": "af6b1a7e"
   },
   "outputs": [],
   "source": [
    "for t in data['income_type'].unique():\n",
    "    data.loc[(data['income_type'] == t) & (data['days_employed'].isna()), 'days_employed'] = \\\n",
    "    data.loc[(data['income_type'] == t), 'days_employed'].median()"
   ]
  },
  {
   "cell_type": "markdown",
   "id": "1c6f9648",
   "metadata": {
    "deletable": false,
    "editable": false,
    "id": "2753f40d"
   },
   "source": [
    "**Задание 12. Убедитесь, что все пропуски заполнены. Проверьте себя и ещё раз выведите количество пропущенных значений для каждого столбца с помощью двух методов.**"
   ]
  },
  {
   "cell_type": "code",
   "execution_count": 12,
   "id": "99fe49e8",
   "metadata": {
    "deletable": false,
    "id": "55f78bc2",
    "outputId": "8da1e4e1-358e-4e87-98c9-f261bce0a7b2"
   },
   "outputs": [
    {
     "data": {
      "text/plain": [
       "children            0\n",
       "days_employed       0\n",
       "dob_years           0\n",
       "education           0\n",
       "education_id        0\n",
       "family_status       0\n",
       "family_status_id    0\n",
       "gender              0\n",
       "income_type         0\n",
       "debt                0\n",
       "total_income        0\n",
       "purpose             0\n",
       "dtype: int64"
      ]
     },
     "execution_count": 12,
     "metadata": {},
     "output_type": "execute_result"
    }
   ],
   "source": [
    "data.isna().sum()"
   ]
  },
  {
   "cell_type": "markdown",
   "id": "86f4b167",
   "metadata": {
    "deletable": false,
    "editable": false,
    "id": "ddc81e43"
   },
   "source": [
    "### Изменение типов данных"
   ]
  },
  {
   "cell_type": "markdown",
   "id": "4189b5c0",
   "metadata": {
    "deletable": false,
    "editable": false,
    "id": "42d19d24"
   },
   "source": [
    "**Задание 13. Замените вещественный тип данных в столбце `total_income` на целочисленный с помощью метода `astype()`.**"
   ]
  },
  {
   "cell_type": "code",
   "execution_count": 13,
   "id": "9f850b58",
   "metadata": {
    "deletable": false,
    "id": "920b65ad"
   },
   "outputs": [],
   "source": [
    "data['total_income'] = data['total_income'].astype(int)"
   ]
  },
  {
   "cell_type": "markdown",
   "id": "bdb52c88",
   "metadata": {
    "deletable": false,
    "editable": false,
    "id": "80c420ba"
   },
   "source": [
    "### Обработка дубликатов"
   ]
  },
  {
   "cell_type": "markdown",
   "id": "82549804",
   "metadata": {
    "deletable": false,
    "editable": false
   },
   "source": [
    "**Задание 14. Обработайте неявные дубликаты в столбце `education`. В этом столбце есть одни и те же значения, но записанные по-разному: с использованием заглавных и строчных букв. Приведите их к нижнему регистру. Проверьте остальные столбцы.**"
   ]
  },
  {
   "cell_type": "code",
   "execution_count": 14,
   "id": "fd155f04",
   "metadata": {
    "deletable": false
   },
   "outputs": [],
   "source": [
    "data['education'] = data['education'].str.lower()"
   ]
  },
  {
   "cell_type": "markdown",
   "id": "ec58ad13",
   "metadata": {
    "deletable": false,
    "editable": false,
    "id": "dc587695"
   },
   "source": [
    "**Задание 15. Выведите на экран количество строк-дубликатов в данных. Если такие строки присутствуют, удалите их.**"
   ]
  },
  {
   "cell_type": "code",
   "execution_count": 15,
   "id": "23110ddd",
   "metadata": {
    "deletable": false,
    "id": "3ee445e4",
    "outputId": "9684deba-1934-42d1-99e1-cda61740f822"
   },
   "outputs": [
    {
     "data": {
      "text/plain": [
       "71"
      ]
     },
     "execution_count": 15,
     "metadata": {},
     "output_type": "execute_result"
    }
   ],
   "source": [
    "data.duplicated().sum()"
   ]
  },
  {
   "cell_type": "code",
   "execution_count": 16,
   "id": "442bd617",
   "metadata": {
    "deletable": false,
    "id": "8575fe05"
   },
   "outputs": [],
   "source": [
    "data = data.drop_duplicates()"
   ]
  },
  {
   "cell_type": "markdown",
   "id": "e5aa5f97",
   "metadata": {
    "deletable": false,
    "editable": false,
    "id": "9904cf55"
   },
   "source": [
    "### Категоризация данных"
   ]
  },
  {
   "cell_type": "markdown",
   "id": "2bcc261d",
   "metadata": {
    "deletable": false,
    "editable": false,
    "id": "72fcc8a2"
   },
   "source": [
    "**Задание 16. На основании диапазонов, указанных ниже, создайте в датафрейме `data` столбец `total_income_category` с категориями:**\n",
    "\n",
    "- 0–30000 — `'E'`;\n",
    "- 30001–50000 — `'D'`;\n",
    "- 50001–200000 — `'C'`;\n",
    "- 200001–1000000 — `'B'`;\n",
    "- 1000001 и выше — `'A'`.\n",
    "\n",
    "\n",
    "**Например, кредитополучателю с доходом 25000 нужно назначить категорию `'E'`, а клиенту, получающему 235000, — `'B'`. Используйте собственную функцию с именем `categorize_income()` и метод `apply()`.**"
   ]
  },
  {
   "cell_type": "code",
   "execution_count": 17,
   "id": "3ebf609e",
   "metadata": {
    "deletable": false,
    "id": "e1771346"
   },
   "outputs": [],
   "source": [
    "def categorize_income(income):\n",
    "    try:\n",
    "        if 0 <= income <= 30000:\n",
    "            return 'E'\n",
    "        elif 30001 <= income <= 50000:\n",
    "            return 'D'\n",
    "        elif 50001 <= income <= 200000:\n",
    "            return 'C'\n",
    "        elif 200001 <= income <= 1000000:\n",
    "            return 'B'\n",
    "        elif income >= 1000001:\n",
    "            return 'A'\n",
    "    except:\n",
    "        pass"
   ]
  },
  {
   "cell_type": "code",
   "execution_count": 18,
   "id": "e5b2563e",
   "metadata": {
    "deletable": false,
    "id": "d5f3586d"
   },
   "outputs": [],
   "source": [
    "data['total_income_category'] = data['total_income'].apply(categorize_income)"
   ]
  },
  {
   "cell_type": "markdown",
   "id": "3120ce62",
   "metadata": {
    "deletable": false,
    "editable": false,
    "id": "dde49b5c"
   },
   "source": [
    "**Задание 17. Выведите на экран перечень уникальных целей взятия кредита из столбца `purpose`.**"
   ]
  },
  {
   "cell_type": "code",
   "execution_count": 19,
   "id": "447e802a",
   "metadata": {
    "deletable": false,
    "id": "f67ce9b3",
    "outputId": "673c12d9-7d7e-4ae0-9812-c622c89dd244"
   },
   "outputs": [
    {
     "data": {
      "text/plain": [
       "array(['покупка жилья', 'приобретение автомобиля',\n",
       "       'дополнительное образование', 'сыграть свадьбу',\n",
       "       'операции с жильем', 'образование', 'на проведение свадьбы',\n",
       "       'покупка жилья для семьи', 'покупка недвижимости',\n",
       "       'покупка коммерческой недвижимости', 'покупка жилой недвижимости',\n",
       "       'строительство собственной недвижимости', 'недвижимость',\n",
       "       'строительство недвижимости', 'на покупку подержанного автомобиля',\n",
       "       'на покупку своего автомобиля',\n",
       "       'операции с коммерческой недвижимостью',\n",
       "       'строительство жилой недвижимости', 'жилье',\n",
       "       'операции со своей недвижимостью', 'автомобили',\n",
       "       'заняться образованием', 'сделка с подержанным автомобилем',\n",
       "       'получение образования', 'автомобиль', 'свадьба',\n",
       "       'получение дополнительного образования', 'покупка своего жилья',\n",
       "       'операции с недвижимостью', 'получение высшего образования',\n",
       "       'свой автомобиль', 'сделка с автомобилем',\n",
       "       'профильное образование', 'высшее образование',\n",
       "       'покупка жилья для сдачи', 'на покупку автомобиля', 'ремонт жилью',\n",
       "       'заняться высшим образованием'], dtype=object)"
      ]
     },
     "execution_count": 19,
     "metadata": {},
     "output_type": "execute_result"
    }
   ],
   "source": [
    "data['purpose'].unique()"
   ]
  },
  {
   "cell_type": "markdown",
   "id": "9f81f082",
   "metadata": {
    "deletable": false,
    "editable": false,
    "id": "85d0aef0"
   },
   "source": [
    "**Задание 18. Создайте функцию, которая на основании данных из столбца `purpose` сформирует новый столбец `purpose_category`, в который войдут следующие категории:**\n",
    "\n",
    "- `'операции с автомобилем'`,\n",
    "- `'операции с недвижимостью'`,\n",
    "- `'проведение свадьбы'`,\n",
    "- `'получение образования'`.\n",
    "\n",
    "**Например, если в столбце `purpose` находится подстрока `'на покупку автомобиля'`, то в столбце `purpose_category` должна появиться строка `'операции с автомобилем'`.**\n",
    "\n",
    "**Используйте собственную функцию с именем `categorize_purpose()` и метод `apply()`. Изучите данные в столбце `purpose` и определите, какие подстроки помогут вам правильно определить категорию.**"
   ]
  },
  {
   "cell_type": "code",
   "execution_count": 20,
   "id": "83735cfd",
   "metadata": {
    "deletable": false,
    "id": "e149fab4"
   },
   "outputs": [],
   "source": [
    "def categorize_purpose(row):\n",
    "    try:\n",
    "        if 'автом' in row:\n",
    "            return 'операции с автомобилем'\n",
    "        elif 'жил' in row or 'недвиж' in row:\n",
    "            return 'операции с недвижимостью'\n",
    "        elif 'свад' in row:\n",
    "            return 'проведение свадьбы'\n",
    "        elif 'образов' in row:\n",
    "            return 'получение образования'\n",
    "    except:\n",
    "        return 'нет категории'"
   ]
  },
  {
   "cell_type": "code",
   "execution_count": 21,
   "id": "fcba2961",
   "metadata": {
    "deletable": false,
    "id": "bf36e69b"
   },
   "outputs": [],
   "source": [
    "data['purpose_category'] = data['purpose'].apply(categorize_purpose)"
   ]
  },
  {
   "cell_type": "markdown",
   "id": "ef6dbd3d",
   "metadata": {
    "deletable": false,
    "editable": false,
    "id": "09b242bf"
   },
   "source": [
    "### Шаг 3. Исследуйте данные и ответьте на вопросы"
   ]
  },
  {
   "cell_type": "markdown",
   "id": "9384813b",
   "metadata": {
    "deletable": false,
    "editable": false,
    "id": "c5d66278"
   },
   "source": [
    "#### 3.1 Есть ли зависимость между количеством детей и возвратом кредита в срок?"
   ]
  },
  {
   "cell_type": "code",
   "execution_count": 22,
   "id": "eb40f52b",
   "metadata": {
    "deletable": false,
    "id": "2cacfc4a"
   },
   "outputs": [
    {
     "data": {
      "text/html": [
       "<div>\n",
       "<style scoped>\n",
       "    .dataframe tbody tr th:only-of-type {\n",
       "        vertical-align: middle;\n",
       "    }\n",
       "\n",
       "    .dataframe tbody tr th {\n",
       "        vertical-align: top;\n",
       "    }\n",
       "\n",
       "    .dataframe thead th {\n",
       "        text-align: right;\n",
       "    }\n",
       "</style>\n",
       "<table border=\"1\" class=\"dataframe\">\n",
       "  <thead>\n",
       "    <tr style=\"text-align: right;\">\n",
       "      <th></th>\n",
       "      <th>debt_percentage</th>\n",
       "      <th>client_count</th>\n",
       "    </tr>\n",
       "    <tr>\n",
       "      <th>children</th>\n",
       "      <th></th>\n",
       "      <th></th>\n",
       "    </tr>\n",
       "  </thead>\n",
       "  <tbody>\n",
       "    <tr>\n",
       "      <th>0</th>\n",
       "      <td>7.54%</td>\n",
       "      <td>14091</td>\n",
       "    </tr>\n",
       "    <tr>\n",
       "      <th>1</th>\n",
       "      <td>9.23%</td>\n",
       "      <td>4808</td>\n",
       "    </tr>\n",
       "    <tr>\n",
       "      <th>2</th>\n",
       "      <td>9.45%</td>\n",
       "      <td>2052</td>\n",
       "    </tr>\n",
       "    <tr>\n",
       "      <th>3</th>\n",
       "      <td>8.18%</td>\n",
       "      <td>330</td>\n",
       "    </tr>\n",
       "    <tr>\n",
       "      <th>4</th>\n",
       "      <td>9.76%</td>\n",
       "      <td>41</td>\n",
       "    </tr>\n",
       "    <tr>\n",
       "      <th>5</th>\n",
       "      <td>0.00%</td>\n",
       "      <td>9</td>\n",
       "    </tr>\n",
       "  </tbody>\n",
       "</table>\n",
       "</div>"
      ],
      "text/plain": [
       "         debt_percentage  client_count\n",
       "children                              \n",
       "0                  7.54%         14091\n",
       "1                  9.23%          4808\n",
       "2                  9.45%          2052\n",
       "3                  8.18%           330\n",
       "4                  9.76%            41\n",
       "5                  0.00%             9"
      ]
     },
     "execution_count": 22,
     "metadata": {},
     "output_type": "execute_result"
    }
   ],
   "source": [
    "# Чтобы узнать зависимость, достаточно создать сводную таблицу, в которой индекс будет принимать значение \"количество детей\", \n",
    "#а столбцы \"задолженность\", аггрегирующая функция mean позволит посчитать долю должников в каждой группе.\n",
    "#Так же добавим таблицу с общим количеством должников, чтобы понимать вес каждой группы\n",
    "pivot_children = data.pivot_table(index='children', values='debt', aggfunc=lambda x: (x.sum() / len(x)) * 100)\n",
    "pivot_children['client_count'] = data.groupby('children')['debt'].count()\n",
    "pivot_children = pivot_children.rename(columns={'debt': 'debt_percentage'})\n",
    "pivot_children['debt_percentage'] = pivot_children['debt_percentage'].map('{:.2f}%'.format)\n",
    "pivot_children"
   ]
  },
  {
   "cell_type": "markdown",
   "id": "8d18bb90",
   "metadata": {
    "deletable": false,
    "id": "3a6b99ec"
   },
   "source": [
    "**Вывод:** Учитывая данные, которые были получены в таблице *data_children_pivot* можно сделать вывод, что зависимость между количеством детей и возвратом кредита в срок есть. Однако стоит учитывать три фактора для дальнейшей работы:\n",
    "1) Зависимость есть между клиентами без детей и клиентами с детьми;     \n",
    "2) Разница в количестве детей не сильно коррелируется между собой, за исключением клиентов с 3-мя детьми, которые являются аномальными и по соотношению приближены больше к бездетным клиентам, нежели к клиентам с детьми;   \n",
    "3) Клиенты с 5-ю детьми имеют 100% возврат кредита в срок, однако всего таких клиентов 9, что является нерепрезентативной выборкой среди всей популяции."
   ]
  },
  {
   "cell_type": "markdown",
   "id": "16960c0c",
   "metadata": {
    "deletable": false,
    "editable": false,
    "id": "97be82ca"
   },
   "source": [
    "#### 3.2 Есть ли зависимость между семейным положением и возвратом кредита в срок?"
   ]
  },
  {
   "cell_type": "code",
   "execution_count": 23,
   "id": "4f9271af",
   "metadata": {
    "deletable": false,
    "id": "dc3f7ee8"
   },
   "outputs": [
    {
     "data": {
      "text/html": [
       "<div>\n",
       "<style scoped>\n",
       "    .dataframe tbody tr th:only-of-type {\n",
       "        vertical-align: middle;\n",
       "    }\n",
       "\n",
       "    .dataframe tbody tr th {\n",
       "        vertical-align: top;\n",
       "    }\n",
       "\n",
       "    .dataframe thead th {\n",
       "        text-align: right;\n",
       "    }\n",
       "</style>\n",
       "<table border=\"1\" class=\"dataframe\">\n",
       "  <thead>\n",
       "    <tr style=\"text-align: right;\">\n",
       "      <th></th>\n",
       "      <th>debt_percentage</th>\n",
       "      <th>client_count</th>\n",
       "    </tr>\n",
       "    <tr>\n",
       "      <th>family_status</th>\n",
       "      <th></th>\n",
       "      <th></th>\n",
       "    </tr>\n",
       "  </thead>\n",
       "  <tbody>\n",
       "    <tr>\n",
       "      <th>вдовец / вдова</th>\n",
       "      <td>6.62%</td>\n",
       "      <td>951</td>\n",
       "    </tr>\n",
       "    <tr>\n",
       "      <th>в разводе</th>\n",
       "      <td>7.06%</td>\n",
       "      <td>1189</td>\n",
       "    </tr>\n",
       "    <tr>\n",
       "      <th>женат / замужем</th>\n",
       "      <td>7.56%</td>\n",
       "      <td>12261</td>\n",
       "    </tr>\n",
       "    <tr>\n",
       "      <th>гражданский брак</th>\n",
       "      <td>9.31%</td>\n",
       "      <td>4134</td>\n",
       "    </tr>\n",
       "    <tr>\n",
       "      <th>Не женат / не замужем</th>\n",
       "      <td>9.76%</td>\n",
       "      <td>2796</td>\n",
       "    </tr>\n",
       "  </tbody>\n",
       "</table>\n",
       "</div>"
      ],
      "text/plain": [
       "                      debt_percentage  client_count\n",
       "family_status                                      \n",
       "вдовец / вдова                  6.62%           951\n",
       "в разводе                       7.06%          1189\n",
       "женат / замужем                 7.56%         12261\n",
       "гражданский брак                9.31%          4134\n",
       "Не женат / не замужем           9.76%          2796"
      ]
     },
     "execution_count": 23,
     "metadata": {},
     "output_type": "execute_result"
    }
   ],
   "source": [
    "# По аналогии с предыдущим пунктом найдем зависимость:\n",
    "pivot_f_status = data.pivot_table(index='family_status', values='debt', \n",
    "                                  aggfunc=lambda x: (x.sum() / len(x)) * 100)\n",
    "pivot_f_status['client_count'] = data.groupby('family_status')['debt'].count()\n",
    "pivot_f_status = pivot_f_status.rename(columns={'debt': 'debt_percentage'})\n",
    "pivot_f_status['debt_percentage'] = pivot_f_status['debt_percentage'].map('{:.2f}%'.format)\n",
    "pivot_f_status.sort_values('debt_percentage')"
   ]
  },
  {
   "cell_type": "markdown",
   "id": "d498626c",
   "metadata": {
    "deletable": false,
    "id": "1cef7837"
   },
   "source": [
    "**Вывод:** из таблицы можно сделать косвенный вывод, что люди которые официально узаконили свой статус, с большей долей вероятности вернут кредит в срок."
   ]
  },
  {
   "cell_type": "markdown",
   "id": "68018332",
   "metadata": {
    "deletable": false,
    "editable": false,
    "id": "1e8b2fca"
   },
   "source": [
    "#### 3.3 Есть ли зависимость между уровнем дохода и возвратом кредита в срок?"
   ]
  },
  {
   "cell_type": "code",
   "execution_count": 24,
   "id": "980cceef",
   "metadata": {
    "deletable": false,
    "id": "cd7e3720"
   },
   "outputs": [
    {
     "data": {
      "text/html": [
       "<div>\n",
       "<style scoped>\n",
       "    .dataframe tbody tr th:only-of-type {\n",
       "        vertical-align: middle;\n",
       "    }\n",
       "\n",
       "    .dataframe tbody tr th {\n",
       "        vertical-align: top;\n",
       "    }\n",
       "\n",
       "    .dataframe thead th {\n",
       "        text-align: right;\n",
       "    }\n",
       "</style>\n",
       "<table border=\"1\" class=\"dataframe\">\n",
       "  <thead>\n",
       "    <tr style=\"text-align: right;\">\n",
       "      <th></th>\n",
       "      <th>debt_percentage</th>\n",
       "      <th>client_count</th>\n",
       "    </tr>\n",
       "    <tr>\n",
       "      <th>total_income_category</th>\n",
       "      <th></th>\n",
       "      <th></th>\n",
       "    </tr>\n",
       "  </thead>\n",
       "  <tbody>\n",
       "    <tr>\n",
       "      <th>E</th>\n",
       "      <td>9.09%</td>\n",
       "      <td>22</td>\n",
       "    </tr>\n",
       "    <tr>\n",
       "      <th>D</th>\n",
       "      <td>6.02%</td>\n",
       "      <td>349</td>\n",
       "    </tr>\n",
       "    <tr>\n",
       "      <th>C</th>\n",
       "      <td>8.50%</td>\n",
       "      <td>15921</td>\n",
       "    </tr>\n",
       "    <tr>\n",
       "      <th>B</th>\n",
       "      <td>7.06%</td>\n",
       "      <td>5014</td>\n",
       "    </tr>\n",
       "    <tr>\n",
       "      <th>A</th>\n",
       "      <td>8.00%</td>\n",
       "      <td>25</td>\n",
       "    </tr>\n",
       "  </tbody>\n",
       "</table>\n",
       "</div>"
      ],
      "text/plain": [
       "                      debt_percentage  client_count\n",
       "total_income_category                              \n",
       "E                               9.09%            22\n",
       "D                               6.02%           349\n",
       "C                               8.50%         15921\n",
       "B                               7.06%          5014\n",
       "A                               8.00%            25"
      ]
     },
     "execution_count": 24,
     "metadata": {},
     "output_type": "execute_result"
    }
   ],
   "source": [
    "# По аналогии с предыдущим пунктом найдем зависимость:\n",
    "pivot_income = data.pivot_table(index='total_income_category', values='debt', \n",
    "                                aggfunc=lambda x: (x.sum() / len(x)) * 100)\n",
    "pivot_income['client_count'] = data.groupby('total_income_category')['debt'].count()\n",
    "pivot_income = pivot_income.rename(columns={'debt': 'debt_percentage'})\n",
    "pivot_income['debt_percentage'] = pivot_income['debt_percentage'].map('{:.2f}%'.format)\n",
    "pivot_income.sort_values('total_income_category', ascending=False)"
   ]
  },
  {
   "cell_type": "markdown",
   "id": "260453c3",
   "metadata": {
    "deletable": false,
    "id": "e8593def"
   },
   "source": [
    "**Вывод:** прямой корреляции нет, однако можно сделать вывод, что клиенты с доходом категории 'D' имеют наибольшую вероятность возврата кредита в срок (примерно 94%), в то время как клиенты с доходом категории 'E' имеют наибольшую вероятность не вернуть кредит в срок (примерно 91%)."
   ]
  },
  {
   "cell_type": "markdown",
   "id": "74e8d9e6",
   "metadata": {
    "deletable": false,
    "editable": false,
    "id": "99ecbd1f"
   },
   "source": [
    "#### 3.4 Как разные цели кредита влияют на его возврат в срок?"
   ]
  },
  {
   "cell_type": "code",
   "execution_count": 25,
   "id": "6cb8ba6d",
   "metadata": {
    "deletable": false,
    "id": "2b687290"
   },
   "outputs": [
    {
     "data": {
      "text/html": [
       "<div>\n",
       "<style scoped>\n",
       "    .dataframe tbody tr th:only-of-type {\n",
       "        vertical-align: middle;\n",
       "    }\n",
       "\n",
       "    .dataframe tbody tr th {\n",
       "        vertical-align: top;\n",
       "    }\n",
       "\n",
       "    .dataframe thead th {\n",
       "        text-align: right;\n",
       "    }\n",
       "</style>\n",
       "<table border=\"1\" class=\"dataframe\">\n",
       "  <thead>\n",
       "    <tr style=\"text-align: right;\">\n",
       "      <th></th>\n",
       "      <th>debt_percentage</th>\n",
       "      <th>client_count</th>\n",
       "    </tr>\n",
       "    <tr>\n",
       "      <th>purpose_category</th>\n",
       "      <th></th>\n",
       "      <th></th>\n",
       "    </tr>\n",
       "  </thead>\n",
       "  <tbody>\n",
       "    <tr>\n",
       "      <th>операции с недвижимостью</th>\n",
       "      <td>7.26%</td>\n",
       "      <td>10751</td>\n",
       "    </tr>\n",
       "    <tr>\n",
       "      <th>проведение свадьбы</th>\n",
       "      <td>7.91%</td>\n",
       "      <td>2313</td>\n",
       "    </tr>\n",
       "    <tr>\n",
       "      <th>получение образования</th>\n",
       "      <td>9.25%</td>\n",
       "      <td>3988</td>\n",
       "    </tr>\n",
       "    <tr>\n",
       "      <th>операции с автомобилем</th>\n",
       "      <td>9.35%</td>\n",
       "      <td>4279</td>\n",
       "    </tr>\n",
       "  </tbody>\n",
       "</table>\n",
       "</div>"
      ],
      "text/plain": [
       "                         debt_percentage  client_count\n",
       "purpose_category                                      \n",
       "операции с недвижимостью           7.26%         10751\n",
       "проведение свадьбы                 7.91%          2313\n",
       "получение образования              9.25%          3988\n",
       "операции с автомобилем             9.35%          4279"
      ]
     },
     "execution_count": 25,
     "metadata": {},
     "output_type": "execute_result"
    }
   ],
   "source": [
    "# По аналогии с предыдущим пунктом найдем зависимость:\n",
    "pivot_purpose = data.pivot_table(index='purpose_category', values='debt', \n",
    "                                aggfunc=lambda x: (x.sum() / len(x)) * 100)\n",
    "pivot_purpose['client_count'] = data.groupby('purpose_category')['debt'].count()\n",
    "pivot_purpose = pivot_purpose.rename(columns={'debt': 'debt_percentage'})\n",
    "pivot_purpose['debt_percentage'] = pivot_purpose['debt_percentage'].map('{:.2f}%'.format)\n",
    "pivot_purpose.sort_values('debt_percentage')"
   ]
  },
  {
   "cell_type": "markdown",
   "id": "bdabca7d",
   "metadata": {
    "deletable": false,
    "id": "b4bb2ce6"
   },
   "source": [
    "**Вывод:** наименьший возврат наблюдается у клиентов, которые брали кредит на недвижимость и проведение свадьбы. Самый высокий процент невозврата на образование и операции с автомобилем."
   ]
  },
  {
   "cell_type": "markdown",
   "id": "82e8c697",
   "metadata": {
    "deletable": false,
    "editable": false,
    "id": "09c3ac4c"
   },
   "source": [
    "#### 3.5 Приведите возможные причины появления пропусков в исходных данных."
   ]
  },
  {
   "cell_type": "markdown",
   "id": "bf2187d1",
   "metadata": {
    "deletable": false,
    "id": "9da2ceda"
   },
   "source": [
    "*Ответ:* Пропуски появлялись в двух столбцах - Опыт работы и доход.\n",
    "Из перечня возможных причин можно выделить:\n",
    "1) Человеческий фактор - неверный ввод данных                                                                              \n",
    "2) Системный сбой - ошибка при передаче данных                                                                             \n",
    "3) Намеренное сокрытие информации - клиенты могли оставить поле пустым                                                      \n",
    "4) Отсутствие данных - клиенты могли обращаться за кредитом не имея опыта работы и официального дохода                           "
   ]
  },
  {
   "cell_type": "markdown",
   "id": "b893c5d9",
   "metadata": {
    "deletable": false,
    "editable": false,
    "id": "7b0487d6"
   },
   "source": [
    "#### 3.6 Объясните, почему заполнить пропуски медианным значением — лучшее решение для количественных переменных."
   ]
  },
  {
   "cell_type": "markdown",
   "id": "87c64d34",
   "metadata": {
    "deletable": false,
    "id": "7ecf2b8e"
   },
   "source": [
    "*Ответ:* медиана делит распределение на две равные части, что в свою очередь помогает сохранить центр распределения(сохранение типичных значений). Ввод медианных значений так же помогает избежать искажений в данных, вызваных аномальными значениями.\n"
   ]
  },
  {
   "cell_type": "markdown",
   "id": "429fd7eb",
   "metadata": {
    "deletable": false,
    "editable": false,
    "id": "6db5255a"
   },
   "source": [
    "### Шаг 4: общий вывод."
   ]
  },
  {
   "cell_type": "markdown",
   "id": "b75c71b8",
   "metadata": {
    "deletable": false,
    "id": "bad65432"
   },
   "source": [
    "***В проекте была проведена работа с данными, содержащими информацию о заемщиках банка. Были выполнены следующие задачи:***          \n",
    "-Изучение общей информации о данных и определение проблем с ними;                                                            \n",
    "-Предобработка данных(заполнение пропусков, замена типов данных, удаление дубликатов);                                             \n",
    "-Ответ на вопросы, связанные с влиянием различных факторов на возврат кредита в срок;                                             \n",
    "-Сегментация заемщиков по уровню дохода и проверка гипотез о различиях между группами.                                             \n",
    "                                                                                \n",
    "***В результате анализа были выявлены следующие закономерности:***                                                               \n",
    "-Клиенты без детей возвращают кредиты в срок чаще, чем заемщики с детьми;                                                       \n",
    "-Заемщики, не состоявшие в браке, чаще имеют задолженности, по сравнению с теми, кто находится/находился в официальном браке;     \n",
    "-Заемщики с минимальным доходом более склонны не возвращать кредит вовремя;                                                  \n",
    "-Кредиты на свадьбы и операции с недвижимостью выплачиваются вовремя чаще, чем кредиты на операции с автомобилем и образованием.     "
   ]
  }
 ],
 "metadata": {
  "ExecuteTimeLog": [
   {
    "duration": 508,
    "start_time": "2023-05-05T14:12:12.418Z"
   },
   {
    "duration": 22,
    "start_time": "2023-05-05T14:12:14.096Z"
   },
   {
    "duration": 29,
    "start_time": "2023-05-05T14:12:16.553Z"
   },
   {
    "duration": 10,
    "start_time": "2023-05-05T14:12:18.198Z"
   },
   {
    "duration": 37,
    "start_time": "2023-05-05T14:12:19.974Z"
   },
   {
    "duration": 4,
    "start_time": "2023-05-05T14:12:21.509Z"
   },
   {
    "duration": 8,
    "start_time": "2023-05-05T14:12:22.878Z"
   },
   {
    "duration": 5,
    "start_time": "2023-05-05T14:12:25.105Z"
   },
   {
    "duration": 40,
    "start_time": "2023-05-05T14:12:27.163Z"
   },
   {
    "duration": 16,
    "start_time": "2023-05-05T14:12:31.281Z"
   },
   {
    "duration": 7,
    "start_time": "2023-05-05T14:12:33.465Z"
   },
   {
    "duration": 11,
    "start_time": "2023-05-05T14:12:34.397Z"
   },
   {
    "duration": 34,
    "start_time": "2023-05-05T14:12:35.424Z"
   },
   {
    "duration": 23,
    "start_time": "2023-05-05T14:12:36.483Z"
   },
   {
    "duration": 4,
    "start_time": "2023-05-05T14:12:38.482Z"
   },
   {
    "duration": 14,
    "start_time": "2023-05-05T14:12:42.273Z"
   },
   {
    "duration": 8,
    "start_time": "2023-05-05T14:12:43.469Z"
   },
   {
    "duration": 3,
    "start_time": "2023-05-05T14:12:46.298Z"
   },
   {
    "duration": 13,
    "start_time": "2023-05-05T14:12:47.468Z"
   },
   {
    "duration": 3,
    "start_time": "2023-05-05T14:30:54.882Z"
   },
   {
    "duration": 5,
    "start_time": "2023-05-05T14:37:30.973Z"
   },
   {
    "duration": 4,
    "start_time": "2023-05-05T14:37:42.369Z"
   },
   {
    "duration": 6,
    "start_time": "2023-05-05T14:38:06.500Z"
   },
   {
    "duration": 479,
    "start_time": "2023-05-05T14:38:32.632Z"
   },
   {
    "duration": 20,
    "start_time": "2023-05-05T14:38:33.112Z"
   },
   {
    "duration": 26,
    "start_time": "2023-05-05T14:38:33.133Z"
   },
   {
    "duration": 13,
    "start_time": "2023-05-05T14:38:33.163Z"
   },
   {
    "duration": 40,
    "start_time": "2023-05-05T14:38:33.177Z"
   },
   {
    "duration": 3,
    "start_time": "2023-05-05T14:38:33.218Z"
   },
   {
    "duration": 31,
    "start_time": "2023-05-05T14:38:33.222Z"
   },
   {
    "duration": 35,
    "start_time": "2023-05-05T14:38:33.255Z"
   },
   {
    "duration": 69,
    "start_time": "2023-05-05T14:38:33.292Z"
   },
   {
    "duration": 7,
    "start_time": "2023-05-05T14:38:33.365Z"
   },
   {
    "duration": 36,
    "start_time": "2023-05-05T14:38:33.373Z"
   },
   {
    "duration": 8,
    "start_time": "2023-05-05T14:38:33.411Z"
   },
   {
    "duration": 4,
    "start_time": "2023-05-05T14:38:33.420Z"
   },
   {
    "duration": 46,
    "start_time": "2023-05-05T14:38:33.425Z"
   },
   {
    "duration": 20,
    "start_time": "2023-05-05T14:38:33.472Z"
   },
   {
    "duration": 15,
    "start_time": "2023-05-05T14:38:33.493Z"
   },
   {
    "duration": 3,
    "start_time": "2023-05-05T14:38:33.509Z"
   },
   {
    "duration": 36,
    "start_time": "2023-05-05T14:38:33.514Z"
   },
   {
    "duration": 26,
    "start_time": "2023-05-05T14:38:33.551Z"
   },
   {
    "duration": 12,
    "start_time": "2023-05-05T14:38:33.578Z"
   },
   {
    "duration": 21,
    "start_time": "2023-05-05T14:38:33.591Z"
   },
   {
    "duration": 11,
    "start_time": "2023-05-05T14:38:33.613Z"
   },
   {
    "duration": 41,
    "start_time": "2023-05-05T14:38:33.625Z"
   },
   {
    "duration": 21,
    "start_time": "2023-05-05T14:38:33.667Z"
   },
   {
    "duration": 25,
    "start_time": "2023-05-05T14:38:33.691Z"
   },
   {
    "duration": 99,
    "start_time": "2023-05-05T14:43:54.570Z"
   },
   {
    "duration": 12,
    "start_time": "2023-05-05T14:44:26.289Z"
   },
   {
    "duration": 14,
    "start_time": "2023-05-05T14:44:47.977Z"
   },
   {
    "duration": 11,
    "start_time": "2023-05-05T14:49:08.167Z"
   },
   {
    "duration": 18,
    "start_time": "2023-05-05T14:50:29.776Z"
   },
   {
    "duration": 13,
    "start_time": "2023-05-05T14:50:39.417Z"
   },
   {
    "duration": 15,
    "start_time": "2023-05-05T14:51:11.101Z"
   },
   {
    "duration": 14,
    "start_time": "2023-05-05T14:51:56.674Z"
   },
   {
    "duration": 435,
    "start_time": "2023-05-05T14:52:06.087Z"
   },
   {
    "duration": 31,
    "start_time": "2023-05-05T14:52:06.524Z"
   },
   {
    "duration": 40,
    "start_time": "2023-05-05T14:52:06.556Z"
   },
   {
    "duration": 35,
    "start_time": "2023-05-05T14:52:06.598Z"
   },
   {
    "duration": 58,
    "start_time": "2023-05-05T14:52:06.642Z"
   },
   {
    "duration": 5,
    "start_time": "2023-05-05T14:52:06.701Z"
   },
   {
    "duration": 63,
    "start_time": "2023-05-05T14:52:06.708Z"
   },
   {
    "duration": 28,
    "start_time": "2023-05-05T14:52:06.772Z"
   },
   {
    "duration": 32,
    "start_time": "2023-05-05T14:52:06.801Z"
   },
   {
    "duration": 39,
    "start_time": "2023-05-05T14:52:06.837Z"
   },
   {
    "duration": 48,
    "start_time": "2023-05-05T14:52:06.877Z"
   },
   {
    "duration": 34,
    "start_time": "2023-05-05T14:52:06.926Z"
   },
   {
    "duration": 27,
    "start_time": "2023-05-05T14:52:06.962Z"
   },
   {
    "duration": 24,
    "start_time": "2023-05-05T14:52:06.991Z"
   },
   {
    "duration": 73,
    "start_time": "2023-05-05T14:52:07.016Z"
   },
   {
    "duration": 21,
    "start_time": "2023-05-05T14:52:07.090Z"
   },
   {
    "duration": 22,
    "start_time": "2023-05-05T14:52:07.113Z"
   },
   {
    "duration": 50,
    "start_time": "2023-05-05T14:52:07.146Z"
   },
   {
    "duration": 25,
    "start_time": "2023-05-05T14:52:07.197Z"
   },
   {
    "duration": 51,
    "start_time": "2023-05-05T14:52:07.224Z"
   },
   {
    "duration": 33,
    "start_time": "2023-05-05T14:52:07.277Z"
   },
   {
    "duration": 27,
    "start_time": "2023-05-05T14:52:07.311Z"
   },
   {
    "duration": 30,
    "start_time": "2023-05-05T14:52:07.340Z"
   },
   {
    "duration": 38,
    "start_time": "2023-05-05T14:52:07.372Z"
   },
   {
    "duration": 13,
    "start_time": "2023-05-05T14:52:07.411Z"
   },
   {
    "duration": 13,
    "start_time": "2023-05-05T14:52:19.668Z"
   },
   {
    "duration": 426,
    "start_time": "2023-05-05T14:52:28.288Z"
   },
   {
    "duration": 25,
    "start_time": "2023-05-05T14:52:28.715Z"
   },
   {
    "duration": 62,
    "start_time": "2023-05-05T14:52:28.741Z"
   },
   {
    "duration": 15,
    "start_time": "2023-05-05T14:52:28.805Z"
   },
   {
    "duration": 79,
    "start_time": "2023-05-05T14:52:28.822Z"
   },
   {
    "duration": 3,
    "start_time": "2023-05-05T14:52:28.903Z"
   },
   {
    "duration": 32,
    "start_time": "2023-05-05T14:52:28.907Z"
   },
   {
    "duration": 34,
    "start_time": "2023-05-05T14:52:28.940Z"
   },
   {
    "duration": 10,
    "start_time": "2023-05-05T14:52:28.976Z"
   },
   {
    "duration": 10,
    "start_time": "2023-05-05T14:52:28.988Z"
   },
   {
    "duration": 33,
    "start_time": "2023-05-05T14:52:28.999Z"
   },
   {
    "duration": 14,
    "start_time": "2023-05-05T14:52:29.033Z"
   },
   {
    "duration": 25,
    "start_time": "2023-05-05T14:52:29.049Z"
   },
   {
    "duration": 12,
    "start_time": "2023-05-05T14:52:29.076Z"
   },
   {
    "duration": 19,
    "start_time": "2023-05-05T14:52:29.090Z"
   },
   {
    "duration": 15,
    "start_time": "2023-05-05T14:52:29.110Z"
   },
   {
    "duration": 3,
    "start_time": "2023-05-05T14:52:29.126Z"
   },
   {
    "duration": 42,
    "start_time": "2023-05-05T14:52:29.130Z"
   },
   {
    "duration": 10,
    "start_time": "2023-05-05T14:52:29.174Z"
   },
   {
    "duration": 3,
    "start_time": "2023-05-05T14:52:29.186Z"
   },
   {
    "duration": 13,
    "start_time": "2023-05-05T14:52:29.191Z"
   },
   {
    "duration": 17,
    "start_time": "2023-05-05T14:52:29.206Z"
   },
   {
    "duration": 3,
    "start_time": "2023-05-05T14:52:29.225Z"
   },
   {
    "duration": 39,
    "start_time": "2023-05-05T14:52:29.229Z"
   },
   {
    "duration": 38,
    "start_time": "2023-05-05T14:52:29.270Z"
   },
   {
    "duration": 24,
    "start_time": "2023-05-05T14:52:43.132Z"
   },
   {
    "duration": 14,
    "start_time": "2023-05-05T14:54:17.355Z"
   },
   {
    "duration": 13,
    "start_time": "2023-05-05T14:54:35.588Z"
   },
   {
    "duration": 21,
    "start_time": "2023-05-05T15:22:48.270Z"
   },
   {
    "duration": 103,
    "start_time": "2023-05-05T15:37:23.461Z"
   },
   {
    "duration": 34,
    "start_time": "2023-05-05T15:38:35.217Z"
   },
   {
    "duration": 25,
    "start_time": "2023-05-05T15:43:28.402Z"
   },
   {
    "duration": 19,
    "start_time": "2023-05-05T15:44:06.366Z"
   },
   {
    "duration": 13,
    "start_time": "2023-05-05T15:44:18.392Z"
   },
   {
    "duration": 16,
    "start_time": "2023-05-05T15:44:48.207Z"
   },
   {
    "duration": 16,
    "start_time": "2023-05-05T15:45:47.500Z"
   },
   {
    "duration": 25,
    "start_time": "2023-05-05T15:46:04.161Z"
   },
   {
    "duration": 25,
    "start_time": "2023-05-05T15:46:47.332Z"
   },
   {
    "duration": 20,
    "start_time": "2023-05-05T15:47:32.824Z"
   },
   {
    "duration": 26,
    "start_time": "2023-05-05T15:47:38.332Z"
   },
   {
    "duration": 18,
    "start_time": "2023-05-05T16:04:14.874Z"
   },
   {
    "duration": 19,
    "start_time": "2023-05-05T16:04:28.082Z"
   },
   {
    "duration": 594,
    "start_time": "2023-05-05T16:04:35.976Z"
   },
   {
    "duration": 144,
    "start_time": "2023-05-05T16:06:18.966Z"
   },
   {
    "duration": 189,
    "start_time": "2023-05-05T16:07:25.679Z"
   },
   {
    "duration": 146,
    "start_time": "2023-05-05T16:07:35.361Z"
   },
   {
    "duration": 202,
    "start_time": "2023-05-05T16:09:04.172Z"
   },
   {
    "duration": 15,
    "start_time": "2023-05-05T16:17:18.589Z"
   },
   {
    "duration": 17,
    "start_time": "2023-05-05T16:17:46.067Z"
   },
   {
    "duration": 18,
    "start_time": "2023-05-05T16:18:02.518Z"
   },
   {
    "duration": 98,
    "start_time": "2023-05-05T16:18:53.895Z"
   },
   {
    "duration": 139,
    "start_time": "2023-05-05T16:18:59.333Z"
   },
   {
    "duration": 14,
    "start_time": "2023-05-05T16:19:18.294Z"
   },
   {
    "duration": 19,
    "start_time": "2023-05-05T16:19:31.859Z"
   },
   {
    "duration": 82,
    "start_time": "2023-05-05T16:19:57.160Z"
   },
   {
    "duration": 15,
    "start_time": "2023-05-05T16:20:03.507Z"
   },
   {
    "duration": 586,
    "start_time": "2023-05-05T20:16:32.881Z"
   },
   {
    "duration": 39,
    "start_time": "2023-05-05T20:16:33.470Z"
   },
   {
    "duration": 25,
    "start_time": "2023-05-05T20:16:33.515Z"
   },
   {
    "duration": 16,
    "start_time": "2023-05-05T20:16:33.546Z"
   },
   {
    "duration": 74,
    "start_time": "2023-05-05T20:16:33.569Z"
   },
   {
    "duration": 5,
    "start_time": "2023-05-05T20:16:33.645Z"
   },
   {
    "duration": 51,
    "start_time": "2023-05-05T20:16:33.651Z"
   },
   {
    "duration": 8,
    "start_time": "2023-05-05T20:16:33.704Z"
   },
   {
    "duration": 21,
    "start_time": "2023-05-05T20:16:33.716Z"
   },
   {
    "duration": 7,
    "start_time": "2023-05-05T20:16:33.741Z"
   },
   {
    "duration": 67,
    "start_time": "2023-05-05T20:16:33.750Z"
   },
   {
    "duration": 20,
    "start_time": "2023-05-05T20:16:33.820Z"
   },
   {
    "duration": 5,
    "start_time": "2023-05-05T20:16:33.842Z"
   },
   {
    "duration": 24,
    "start_time": "2023-05-05T20:16:33.849Z"
   },
   {
    "duration": 49,
    "start_time": "2023-05-05T20:16:33.886Z"
   },
   {
    "duration": 30,
    "start_time": "2023-05-05T20:16:33.938Z"
   },
   {
    "duration": 8,
    "start_time": "2023-05-05T20:16:33.975Z"
   },
   {
    "duration": 38,
    "start_time": "2023-05-05T20:16:33.990Z"
   },
   {
    "duration": 10,
    "start_time": "2023-05-05T20:16:34.036Z"
   },
   {
    "duration": 4,
    "start_time": "2023-05-05T20:16:34.050Z"
   },
   {
    "duration": 19,
    "start_time": "2023-05-05T20:16:34.058Z"
   },
   {
    "duration": 35,
    "start_time": "2023-05-05T20:16:34.081Z"
   },
   {
    "duration": 23,
    "start_time": "2023-05-05T20:16:34.117Z"
   },
   {
    "duration": 39,
    "start_time": "2023-05-05T20:16:34.142Z"
   },
   {
    "duration": 28,
    "start_time": "2023-05-05T20:16:34.183Z"
   },
   {
    "duration": 51,
    "start_time": "2023-05-06T12:35:38.756Z"
   },
   {
    "duration": 7,
    "start_time": "2023-05-06T12:36:26.765Z"
   },
   {
    "duration": 553,
    "start_time": "2023-05-06T12:37:17.938Z"
   },
   {
    "duration": 23,
    "start_time": "2023-05-06T12:37:18.493Z"
   },
   {
    "duration": 14,
    "start_time": "2023-05-06T12:37:18.518Z"
   },
   {
    "duration": 9,
    "start_time": "2023-05-06T12:37:18.534Z"
   },
   {
    "duration": 46,
    "start_time": "2023-05-06T12:37:18.544Z"
   },
   {
    "duration": 4,
    "start_time": "2023-05-06T12:37:18.591Z"
   },
   {
    "duration": 13,
    "start_time": "2023-05-06T12:37:18.597Z"
   },
   {
    "duration": 6,
    "start_time": "2023-05-06T12:37:18.612Z"
   },
   {
    "duration": 15,
    "start_time": "2023-05-06T12:37:18.619Z"
   },
   {
    "duration": 5,
    "start_time": "2023-05-06T12:37:18.638Z"
   },
   {
    "duration": 34,
    "start_time": "2023-05-06T12:37:18.656Z"
   },
   {
    "duration": 10,
    "start_time": "2023-05-06T12:37:18.691Z"
   },
   {
    "duration": 4,
    "start_time": "2023-05-06T12:37:18.703Z"
   },
   {
    "duration": 16,
    "start_time": "2023-05-06T12:37:18.708Z"
   },
   {
    "duration": 44,
    "start_time": "2023-05-06T12:37:18.726Z"
   },
   {
    "duration": 19,
    "start_time": "2023-05-06T12:37:18.771Z"
   },
   {
    "duration": 4,
    "start_time": "2023-05-06T12:37:18.791Z"
   },
   {
    "duration": 21,
    "start_time": "2023-05-06T12:37:18.796Z"
   },
   {
    "duration": 5,
    "start_time": "2023-05-06T12:37:18.819Z"
   },
   {
    "duration": 14,
    "start_time": "2023-05-06T12:37:18.826Z"
   },
   {
    "duration": 21,
    "start_time": "2023-05-06T12:37:18.841Z"
   },
   {
    "duration": 78,
    "start_time": "2023-05-06T12:37:18.864Z"
   },
   {
    "duration": 0,
    "start_time": "2023-05-06T12:37:18.944Z"
   },
   {
    "duration": 0,
    "start_time": "2023-05-06T12:37:18.945Z"
   },
   {
    "duration": 0,
    "start_time": "2023-05-06T12:37:18.955Z"
   },
   {
    "duration": 15,
    "start_time": "2023-05-06T12:37:35.707Z"
   },
   {
    "duration": 16,
    "start_time": "2023-05-06T12:40:06.114Z"
   },
   {
    "duration": 22,
    "start_time": "2023-05-06T12:40:17.868Z"
   },
   {
    "duration": 20,
    "start_time": "2023-05-06T12:40:40.700Z"
   },
   {
    "duration": 20,
    "start_time": "2023-05-06T12:43:03.893Z"
   },
   {
    "duration": 20,
    "start_time": "2023-05-06T12:43:26.057Z"
   },
   {
    "duration": 16,
    "start_time": "2023-05-06T12:45:52.858Z"
   },
   {
    "duration": 17,
    "start_time": "2023-05-06T12:47:29.405Z"
   },
   {
    "duration": 20,
    "start_time": "2023-05-06T12:47:36.431Z"
   },
   {
    "duration": 19,
    "start_time": "2023-05-06T12:47:42.812Z"
   },
   {
    "duration": 24,
    "start_time": "2023-05-06T12:48:43.882Z"
   },
   {
    "duration": 18,
    "start_time": "2023-05-06T12:48:49.287Z"
   },
   {
    "duration": 246,
    "start_time": "2023-05-06T12:49:56.086Z"
   },
   {
    "duration": 182,
    "start_time": "2023-05-06T12:50:58.968Z"
   },
   {
    "duration": 20,
    "start_time": "2023-05-06T12:51:12.163Z"
   },
   {
    "duration": 21,
    "start_time": "2023-05-06T12:51:34.371Z"
   },
   {
    "duration": 49,
    "start_time": "2023-05-06T12:52:28.157Z"
   },
   {
    "duration": 15,
    "start_time": "2023-05-06T12:52:46.887Z"
   },
   {
    "duration": 22,
    "start_time": "2023-05-06T12:55:19.562Z"
   },
   {
    "duration": 720,
    "start_time": "2023-05-06T12:56:50.396Z"
   },
   {
    "duration": 20,
    "start_time": "2023-05-06T12:57:10.128Z"
   },
   {
    "duration": 20,
    "start_time": "2023-05-06T12:57:46.603Z"
   },
   {
    "duration": 206,
    "start_time": "2023-05-06T12:58:23.458Z"
   },
   {
    "duration": 204,
    "start_time": "2023-05-06T12:59:09.676Z"
   },
   {
    "duration": 23,
    "start_time": "2023-05-06T12:59:28.028Z"
   },
   {
    "duration": 51,
    "start_time": "2023-05-06T12:59:57.368Z"
   },
   {
    "duration": 502,
    "start_time": "2023-05-06T13:03:30.358Z"
   },
   {
    "duration": 25,
    "start_time": "2023-05-06T13:03:30.862Z"
   },
   {
    "duration": 59,
    "start_time": "2023-05-06T13:03:30.889Z"
   },
   {
    "duration": 36,
    "start_time": "2023-05-06T13:03:30.950Z"
   },
   {
    "duration": 91,
    "start_time": "2023-05-06T13:03:30.989Z"
   },
   {
    "duration": 24,
    "start_time": "2023-05-06T13:03:31.082Z"
   },
   {
    "duration": 62,
    "start_time": "2023-05-06T13:03:31.108Z"
   },
   {
    "duration": 70,
    "start_time": "2023-05-06T13:03:31.171Z"
   },
   {
    "duration": 48,
    "start_time": "2023-05-06T13:03:31.243Z"
   },
   {
    "duration": 61,
    "start_time": "2023-05-06T13:03:31.292Z"
   },
   {
    "duration": 90,
    "start_time": "2023-05-06T13:03:31.355Z"
   },
   {
    "duration": 34,
    "start_time": "2023-05-06T13:03:31.447Z"
   },
   {
    "duration": 72,
    "start_time": "2023-05-06T13:03:31.483Z"
   },
   {
    "duration": 63,
    "start_time": "2023-05-06T13:03:31.558Z"
   },
   {
    "duration": 126,
    "start_time": "2023-05-06T13:03:31.622Z"
   },
   {
    "duration": 61,
    "start_time": "2023-05-06T13:03:31.750Z"
   },
   {
    "duration": 40,
    "start_time": "2023-05-06T13:03:31.812Z"
   },
   {
    "duration": 66,
    "start_time": "2023-05-06T13:03:31.854Z"
   },
   {
    "duration": 37,
    "start_time": "2023-05-06T13:03:31.922Z"
   },
   {
    "duration": 30,
    "start_time": "2023-05-06T13:03:31.960Z"
   },
   {
    "duration": 66,
    "start_time": "2023-05-06T13:03:31.992Z"
   },
   {
    "duration": 43,
    "start_time": "2023-05-06T13:03:32.060Z"
   },
   {
    "duration": 24,
    "start_time": "2023-05-06T13:03:32.105Z"
   },
   {
    "duration": 41,
    "start_time": "2023-05-06T13:03:32.132Z"
   },
   {
    "duration": 63,
    "start_time": "2023-05-06T13:03:32.174Z"
   },
   {
    "duration": 113,
    "start_time": "2023-05-07T12:03:31.619Z"
   }
  ],
  "colab": {
   "name": "dpp_template_part2.ipynb",
   "provenance": []
  },
  "kernelspec": {
   "display_name": "Python 3 (ipykernel)",
   "language": "python",
   "name": "python3"
  },
  "language_info": {
   "codemirror_mode": {
    "name": "ipython",
    "version": 3
   },
   "file_extension": ".py",
   "mimetype": "text/x-python",
   "name": "python",
   "nbconvert_exporter": "python",
   "pygments_lexer": "ipython3",
   "version": "3.9.5"
  },
  "toc": {
   "base_numbering": 1,
   "nav_menu": {},
   "number_sections": true,
   "sideBar": true,
   "skip_h1_title": true,
   "title_cell": "Table of Contents",
   "title_sidebar": "Contents",
   "toc_cell": false,
   "toc_position": {},
   "toc_section_display": true,
   "toc_window_display": true
  },
  "widgets": {
   "application/vnd.jupyter.widget-state+json": {
    "state": {},
    "version_major": 2,
    "version_minor": 0
   }
  }
 },
 "nbformat": 4,
 "nbformat_minor": 5
}

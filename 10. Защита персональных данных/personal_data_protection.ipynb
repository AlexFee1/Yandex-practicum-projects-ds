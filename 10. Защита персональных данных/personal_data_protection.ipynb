{
 "cells": [
  {
   "cell_type": "markdown",
   "metadata": {
    "toc": true
   },
   "source": [
    "<h1>Содержание<span class=\"tocSkip\"></span></h1>\n",
    "<div class=\"toc\"><ul class=\"toc-item\"><li><span><a href=\"#Загрузка-данных\" data-toc-modified-id=\"Загрузка-данных-1\"><span class=\"toc-item-num\">1&nbsp;&nbsp;</span>Загрузка данных</a></span><ul class=\"toc-item\"><li><span><a href=\"#Вывод\" data-toc-modified-id=\"Вывод-1.1\"><span class=\"toc-item-num\">1.1&nbsp;&nbsp;</span>Вывод</a></span></li></ul></li><li><span><a href=\"#Умножение-матриц\" data-toc-modified-id=\"Умножение-матриц-2\"><span class=\"toc-item-num\">2&nbsp;&nbsp;</span>Умножение матриц</a></span></li><li><span><a href=\"#Алгоритм-преобразования\" data-toc-modified-id=\"Алгоритм-преобразования-3\"><span class=\"toc-item-num\">3&nbsp;&nbsp;</span>Алгоритм преобразования</a></span><ul class=\"toc-item\"><li><span><a href=\"#Вывод\" data-toc-modified-id=\"Вывод-3.1\"><span class=\"toc-item-num\">3.1&nbsp;&nbsp;</span>Вывод</a></span></li></ul></li><li><span><a href=\"#Проверка-алгоритма\" data-toc-modified-id=\"Проверка-алгоритма-4\"><span class=\"toc-item-num\">4&nbsp;&nbsp;</span>Проверка алгоритма</a></span><ul class=\"toc-item\"><li><span><a href=\"#Вывод\" data-toc-modified-id=\"Вывод-4.1\"><span class=\"toc-item-num\">4.1&nbsp;&nbsp;</span>Вывод</a></span></li></ul></li><li><span><a href=\"#Общий-вывод\" data-toc-modified-id=\"Общий-вывод-5\"><span class=\"toc-item-num\">5&nbsp;&nbsp;</span>Общий вывод</a></span></li><li><span><a href=\"#Чек-лист-проверки\" data-toc-modified-id=\"Чек-лист-проверки-6\"><span class=\"toc-item-num\">6&nbsp;&nbsp;</span>Чек-лист проверки</a></span></li></ul></div>"
   ]
  },
  {
   "cell_type": "markdown",
   "metadata": {},
   "source": [
    "# Защита персональных данных клиентов"
   ]
  },
  {
   "cell_type": "markdown",
   "metadata": {},
   "source": [
    "Вам нужно защитить данные клиентов страховой компании «Хоть потоп». Разработайте такой метод преобразования данных, чтобы по ним было сложно восстановить персональную информацию. Обоснуйте корректность его работы.\n",
    "\n",
    "Нужно защитить данные, чтобы при преобразовании качество моделей машинного обучения не ухудшилось. Подбирать наилучшую модель не требуется."
   ]
  },
  {
   "cell_type": "markdown",
   "metadata": {},
   "source": [
    "## Загрузка данных"
   ]
  },
  {
   "cell_type": "code",
   "execution_count": 1,
   "metadata": {},
   "outputs": [],
   "source": [
    "import pandas as pd\n",
    "\n",
    "import sklearn\n",
    "from sklearn.linear_model import LinearRegression\n",
    "from sklearn.metrics import r2_score\n",
    "\n",
    "import numpy as np"
   ]
  },
  {
   "cell_type": "code",
   "execution_count": 2,
   "metadata": {},
   "outputs": [],
   "source": [
    "df = pd.read_csv('/datasets/insurance.csv')"
   ]
  },
  {
   "cell_type": "code",
   "execution_count": 3,
   "metadata": {},
   "outputs": [
    {
     "data": {
      "text/html": [
       "<div>\n",
       "<style scoped>\n",
       "    .dataframe tbody tr th:only-of-type {\n",
       "        vertical-align: middle;\n",
       "    }\n",
       "\n",
       "    .dataframe tbody tr th {\n",
       "        vertical-align: top;\n",
       "    }\n",
       "\n",
       "    .dataframe thead th {\n",
       "        text-align: right;\n",
       "    }\n",
       "</style>\n",
       "<table border=\"1\" class=\"dataframe\">\n",
       "  <thead>\n",
       "    <tr style=\"text-align: right;\">\n",
       "      <th></th>\n",
       "      <th>Пол</th>\n",
       "      <th>Возраст</th>\n",
       "      <th>Зарплата</th>\n",
       "      <th>Члены семьи</th>\n",
       "      <th>Страховые выплаты</th>\n",
       "    </tr>\n",
       "  </thead>\n",
       "  <tbody>\n",
       "    <tr>\n",
       "      <th>0</th>\n",
       "      <td>1</td>\n",
       "      <td>41.0</td>\n",
       "      <td>49600.0</td>\n",
       "      <td>1</td>\n",
       "      <td>0</td>\n",
       "    </tr>\n",
       "    <tr>\n",
       "      <th>1</th>\n",
       "      <td>0</td>\n",
       "      <td>46.0</td>\n",
       "      <td>38000.0</td>\n",
       "      <td>1</td>\n",
       "      <td>1</td>\n",
       "    </tr>\n",
       "    <tr>\n",
       "      <th>2</th>\n",
       "      <td>0</td>\n",
       "      <td>29.0</td>\n",
       "      <td>21000.0</td>\n",
       "      <td>0</td>\n",
       "      <td>0</td>\n",
       "    </tr>\n",
       "    <tr>\n",
       "      <th>3</th>\n",
       "      <td>0</td>\n",
       "      <td>21.0</td>\n",
       "      <td>41700.0</td>\n",
       "      <td>2</td>\n",
       "      <td>0</td>\n",
       "    </tr>\n",
       "    <tr>\n",
       "      <th>4</th>\n",
       "      <td>1</td>\n",
       "      <td>28.0</td>\n",
       "      <td>26100.0</td>\n",
       "      <td>0</td>\n",
       "      <td>0</td>\n",
       "    </tr>\n",
       "  </tbody>\n",
       "</table>\n",
       "</div>"
      ],
      "text/plain": [
       "   Пол  Возраст  Зарплата  Члены семьи  Страховые выплаты\n",
       "0    1     41.0   49600.0            1                  0\n",
       "1    0     46.0   38000.0            1                  1\n",
       "2    0     29.0   21000.0            0                  0\n",
       "3    0     21.0   41700.0            2                  0\n",
       "4    1     28.0   26100.0            0                  0"
      ]
     },
     "execution_count": 3,
     "metadata": {},
     "output_type": "execute_result"
    }
   ],
   "source": [
    "df.head()"
   ]
  },
  {
   "cell_type": "code",
   "execution_count": 4,
   "metadata": {},
   "outputs": [
    {
     "name": "stdout",
     "output_type": "stream",
     "text": [
      "<class 'pandas.core.frame.DataFrame'>\n",
      "RangeIndex: 5000 entries, 0 to 4999\n",
      "Data columns (total 5 columns):\n",
      " #   Column             Non-Null Count  Dtype  \n",
      "---  ------             --------------  -----  \n",
      " 0   Пол                5000 non-null   int64  \n",
      " 1   Возраст            5000 non-null   float64\n",
      " 2   Зарплата           5000 non-null   float64\n",
      " 3   Члены семьи        5000 non-null   int64  \n",
      " 4   Страховые выплаты  5000 non-null   int64  \n",
      "dtypes: float64(2), int64(3)\n",
      "memory usage: 195.4 KB\n"
     ]
    }
   ],
   "source": [
    "df.info()"
   ]
  },
  {
   "cell_type": "markdown",
   "metadata": {},
   "source": [
    "### Вывод\n",
    "\n",
    "В датафрейме присутствуют:\n",
    "- 5 столбцов с данными о клиентах\n",
    "    - Целевой признак - Страховые выплаты\n",
    "    - Признаки - Пол, Возраст, Зарплата, Члены семьи\n",
    "- Пропусков нет"
   ]
  },
  {
   "cell_type": "markdown",
   "metadata": {},
   "source": [
    "## Умножение матриц"
   ]
  },
  {
   "cell_type": "markdown",
   "metadata": {},
   "source": [
    "В этом задании вы можете записывать формулы в *Jupyter Notebook.*\n",
    "\n",
    "Чтобы записать формулу внутри текста, окружите её символами доллара \\\\$; если снаружи —  двойными символами \\\\$\\\\$. Эти формулы записываются на языке вёрстки *LaTeX.* \n",
    "\n",
    "Для примера мы записали формулы линейной регрессии. Можете их скопировать и отредактировать, чтобы решить задачу.\n",
    "\n",
    "Работать в *LaTeX* необязательно."
   ]
  },
  {
   "cell_type": "markdown",
   "metadata": {},
   "source": [
    "Обозначения:\n",
    "\n",
    "- $X$ — матрица признаков (нулевой столбец состоит из единиц)\n",
    "\n",
    "- $y$ — вектор целевого признака\n",
    "\n",
    "- $P$ — матрица, на которую умножаются признаки\n",
    "\n",
    "- $w$ — вектор весов линейной регрессии (нулевой элемент равен сдвигу)"
   ]
  },
  {
   "cell_type": "markdown",
   "metadata": {},
   "source": [
    "Предсказания:\n",
    "\n",
    "$$\n",
    "a = Xw\n",
    "$$\n",
    "\n",
    "Задача обучения:\n",
    "\n",
    "$$\n",
    "w = \\arg\\min_w MSE(Xw, y)\n",
    "$$\n",
    "\n",
    "Формула обучения:\n",
    "\n",
    "$$\n",
    "w = (X^T X)^{-1} X^T y\n",
    "$$"
   ]
  },
  {
   "cell_type": "markdown",
   "metadata": {},
   "source": [
    "**Ответ:** Если признаки умножают на обратимую матрицу, то качество линейной регрессии не изменится. Это связано с тем, что при умножении признаков на обратимую матрицу, линейная регрессия просто адаптируется к новым значениям признаков, но отношения между признаками и целевой переменной остаются неизменными.\n",
    "\n",
    "**Обоснование:** \n",
    "\n",
    "Новая формула будет выглядеть так:\n",
    "$$\n",
    "w' = ((XP)^T XP)^{-1} (XP)^T y\n",
    "$$\n",
    "\n",
    "Расскроем скобки:\n",
    "$$\n",
    "w' = (P^TX^T XP)^{-1} P^TX^T y\n",
    "$$\n",
    "\n",
    "Обратная матрица существует только для квадратных матриц, поэтому можно воспользоваться следующей формулой:\n",
    "$$\n",
    "(AB)^{-1} = B^{-1}A^{-1}\n",
    "$$\n",
    "\n",
    "Подставляем:\n",
    "$$\n",
    "w' = P^{-1}(X^T X)^{-1}(P^T)^{-1} P^TX^T y\n",
    "$$\n",
    "\n",
    "При умножении обратной матрицы на саму матрицу, получается единичная матрица, которая в свою очередь при умножении на любую матрицу дает эту матрицу:\n",
    "$$\n",
    "w' = P^{-1}(X^T X)^{-1}X^T y\n",
    "$$\n",
    "\n",
    "Получаем, что преобразованные веса отличаются от исходных обратной матрицей на которую умножаются признаки\n",
    "Подставив это значение в формулу предсказания, получаем:\n",
    "$$\n",
    "P^{-1}w = w' = P^{-1}(X^T X)^{-1}X^T y\n",
    "$$\n",
    "$$\n",
    "a' = XPP^{-1}w\n",
    "$$\n",
    "\n",
    "$$\n",
    "a' = Xw\n",
    "$$\n",
    "\n",
    "\n",
    "Ч.т.д."
   ]
  },
  {
   "cell_type": "markdown",
   "metadata": {},
   "source": [
    "## Алгоритм преобразования"
   ]
  },
  {
   "cell_type": "markdown",
   "metadata": {},
   "source": [
    "**Алгоритм**\n",
    "\n",
    "1) Создаем рандомную матрицу 4х4 (с помощью np.random.rand())\n",
    "\n",
    "2) Удостоверяемся, что матрица обратима, с помощью np.linalg.inv(). Если матрица необратима, код выдаст ошибку\n",
    "\n",
    "3) Умножаем наши признаки на рандомную матрицу\n",
    "\n",
    "4) Обучаем модель на преобразованных данных"
   ]
  },
  {
   "cell_type": "markdown",
   "metadata": {},
   "source": [
    "**Обоснование**"
   ]
  },
  {
   "cell_type": "code",
   "execution_count": 5,
   "metadata": {},
   "outputs": [],
   "source": [
    "features = df.drop('Страховые выплаты', axis=1)\n",
    "target = df['Страховые выплаты']"
   ]
  },
  {
   "cell_type": "code",
   "execution_count": 6,
   "metadata": {
    "scrolled": true
   },
   "outputs": [
    {
     "data": {
      "text/plain": [
       "array([[0.82266102, 0.4942175 , 0.43514982, 0.02822668],\n",
       "       [0.69073072, 0.83166433, 0.22968961, 0.93977902],\n",
       "       [0.41632731, 0.34763935, 0.07876144, 0.71093569],\n",
       "       [0.35598829, 0.97660578, 0.03033976, 0.05198229]])"
      ]
     },
     "execution_count": 6,
     "metadata": {},
     "output_type": "execute_result"
    }
   ],
   "source": [
    "rand_matrix = np.random.rand(4,4)\n",
    "rand_matrix"
   ]
  },
  {
   "cell_type": "markdown",
   "metadata": {},
   "source": [
    "Удостоверимся, что данная матрица обратима"
   ]
  },
  {
   "cell_type": "code",
   "execution_count": 7,
   "metadata": {},
   "outputs": [
    {
     "data": {
      "text/plain": [
       "array([[  1.68193503,  -6.08622246,   7.86655522,   1.53155787],\n",
       "       [ -0.57076389,   1.84249971,  -2.45816456,   0.61877059],\n",
       "       [ -0.18901095,   9.30768246, -12.03696254,  -3.5458864 ],\n",
       "       [ -0.68491248,   1.63200236,  -0.66455871,  -0.80662605]])"
      ]
     },
     "execution_count": 7,
     "metadata": {},
     "output_type": "execute_result"
    }
   ],
   "source": [
    "np.linalg.inv(rand_matrix)"
   ]
  },
  {
   "cell_type": "markdown",
   "metadata": {},
   "source": [
    "Ошибки нет, значит она обратима"
   ]
  },
  {
   "cell_type": "code",
   "execution_count": 8,
   "metadata": {},
   "outputs": [
    {
     "data": {
      "text/html": [
       "<div>\n",
       "<style scoped>\n",
       "    .dataframe tbody tr th:only-of-type {\n",
       "        vertical-align: middle;\n",
       "    }\n",
       "\n",
       "    .dataframe tbody tr th {\n",
       "        vertical-align: top;\n",
       "    }\n",
       "\n",
       "    .dataframe thead th {\n",
       "        text-align: right;\n",
       "    }\n",
       "</style>\n",
       "<table border=\"1\" class=\"dataframe\">\n",
       "  <thead>\n",
       "    <tr style=\"text-align: right;\">\n",
       "      <th></th>\n",
       "      <th>Пол</th>\n",
       "      <th>Возраст</th>\n",
       "      <th>Зарплата</th>\n",
       "      <th>Члены семьи</th>\n",
       "    </tr>\n",
       "  </thead>\n",
       "  <tbody>\n",
       "    <tr>\n",
       "      <th>0</th>\n",
       "      <td>20679.333240</td>\n",
       "      <td>17278.480882</td>\n",
       "      <td>3916.450385</td>\n",
       "      <td>35301.021221</td>\n",
       "    </tr>\n",
       "    <tr>\n",
       "      <th>1</th>\n",
       "      <td>15852.567424</td>\n",
       "      <td>13249.528512</td>\n",
       "      <td>3003.530933</td>\n",
       "      <td>27058.837921</td>\n",
       "    </tr>\n",
       "    <tr>\n",
       "      <th>2</th>\n",
       "      <td>8762.904724</td>\n",
       "      <td>7324.544641</td>\n",
       "      <td>1660.651322</td>\n",
       "      <td>14956.903017</td>\n",
       "    </tr>\n",
       "    <tr>\n",
       "      <th>3</th>\n",
       "      <td>17376.066195</td>\n",
       "      <td>14515.979109</td>\n",
       "      <td>3289.236375</td>\n",
       "      <td>29665.857469</td>\n",
       "    </tr>\n",
       "    <tr>\n",
       "      <th>4</th>\n",
       "      <td>10886.305941</td>\n",
       "      <td>9097.167886</td>\n",
       "      <td>2062.540147</td>\n",
       "      <td>18581.763468</td>\n",
       "    </tr>\n",
       "    <tr>\n",
       "      <th>...</th>\n",
       "      <td>...</td>\n",
       "      <td>...</td>\n",
       "      <td>...</td>\n",
       "      <td>...</td>\n",
       "    </tr>\n",
       "    <tr>\n",
       "      <th>4995</th>\n",
       "      <td>14882.937443</td>\n",
       "      <td>12435.964652</td>\n",
       "      <td>2818.275539</td>\n",
       "      <td>25406.821801</td>\n",
       "    </tr>\n",
       "    <tr>\n",
       "      <th>4996</th>\n",
       "      <td>21839.391935</td>\n",
       "      <td>18245.555197</td>\n",
       "      <td>4134.939451</td>\n",
       "      <td>37285.034464</td>\n",
       "    </tr>\n",
       "    <tr>\n",
       "      <th>4997</th>\n",
       "      <td>14128.022438</td>\n",
       "      <td>11803.560505</td>\n",
       "      <td>2674.667423</td>\n",
       "      <td>24119.619332</td>\n",
       "    </tr>\n",
       "    <tr>\n",
       "      <th>4998</th>\n",
       "      <td>13630.989775</td>\n",
       "      <td>11389.527435</td>\n",
       "      <td>2581.078559</td>\n",
       "      <td>23268.456275</td>\n",
       "    </tr>\n",
       "    <tr>\n",
       "      <th>4999</th>\n",
       "      <td>16923.407940</td>\n",
       "      <td>14138.915084</td>\n",
       "      <td>3204.611424</td>\n",
       "      <td>28890.382911</td>\n",
       "    </tr>\n",
       "  </tbody>\n",
       "</table>\n",
       "<p>5000 rows × 4 columns</p>\n",
       "</div>"
      ],
      "text/plain": [
       "               Пол       Возраст     Зарплата   Члены семьи\n",
       "0     20679.333240  17278.480882  3916.450385  35301.021221\n",
       "1     15852.567424  13249.528512  3003.530933  27058.837921\n",
       "2      8762.904724   7324.544641  1660.651322  14956.903017\n",
       "3     17376.066195  14515.979109  3289.236375  29665.857469\n",
       "4     10886.305941   9097.167886  2062.540147  18581.763468\n",
       "...            ...           ...          ...           ...\n",
       "4995  14882.937443  12435.964652  2818.275539  25406.821801\n",
       "4996  21839.391935  18245.555197  4134.939451  37285.034464\n",
       "4997  14128.022438  11803.560505  2674.667423  24119.619332\n",
       "4998  13630.989775  11389.527435  2581.078559  23268.456275\n",
       "4999  16923.407940  14138.915084  3204.611424  28890.382911\n",
       "\n",
       "[5000 rows x 4 columns]"
      ]
     },
     "execution_count": 8,
     "metadata": {},
     "output_type": "execute_result"
    }
   ],
   "source": [
    "features_transformed = pd.DataFrame(features.values @ rand_matrix, \n",
    "                                    index = features.index, \n",
    "                                    columns = features.columns)\n",
    "features_transformed"
   ]
  },
  {
   "cell_type": "markdown",
   "metadata": {},
   "source": [
    "### Вывод\n",
    "Признаки были преобразованы"
   ]
  },
  {
   "cell_type": "markdown",
   "metadata": {},
   "source": [
    "## Проверка алгоритма"
   ]
  },
  {
   "cell_type": "code",
   "execution_count": 9,
   "metadata": {},
   "outputs": [
    {
     "name": "stdout",
     "output_type": "stream",
     "text": [
      "R2 score: 0.42495\n"
     ]
    }
   ],
   "source": [
    "# Не преобразованная модель\n",
    "model = LinearRegression().fit(features, target)\n",
    "\n",
    "predictions = model.predict(features)\n",
    "\n",
    "print('R2 score:',\n",
    "      np.round(\n",
    "          r2_score(target , predictions),\n",
    "          5\n",
    "      )\n",
    "     )\n"
   ]
  },
  {
   "cell_type": "code",
   "execution_count": 10,
   "metadata": {},
   "outputs": [
    {
     "name": "stdout",
     "output_type": "stream",
     "text": [
      "R2 score: 0.42495\n"
     ]
    }
   ],
   "source": [
    "#Преобразованная модель\n",
    "\n",
    "model = LinearRegression().fit(features_transformed, target)\n",
    "\n",
    "predictions = model.predict(features_transformed)\n",
    "\n",
    "print('R2 score:',\n",
    "      np.round(\n",
    "          r2_score(target , predictions),\n",
    "          5\n",
    "      )\n",
    "     )\n"
   ]
  },
  {
   "cell_type": "markdown",
   "metadata": {},
   "source": [
    "### Вывод\n",
    "Алгоритм прошел проверку, качество осталось неизменным\n",
    "\n",
    "## Общий вывод\n",
    "В ходе этой работы были проделаны следующие шаги:\n",
    "- Данные были загружены и изучены \n",
    "- Была доказана гипотеза, что при умножении признаков на обратимую матрицу, качество предсказательной модели остается неизменным\n",
    "- Был предложен алгоритм преобразования данных\n",
    "- Качество моделей было протестировано на \"сырой\" выборке и преобразованной \n",
    "\n",
    "Данные защищены, качество модели не изменилось"
   ]
  }
 ],
 "metadata": {
  "ExecuteTimeLog": [
   {
    "duration": 1206,
    "start_time": "2023-07-15T00:50:58.243Z"
   },
   {
    "duration": 75,
    "start_time": "2023-07-15T00:51:17.813Z"
   },
   {
    "duration": 18,
    "start_time": "2023-07-15T00:51:32.039Z"
   },
   {
    "duration": 16,
    "start_time": "2023-07-15T00:51:50.977Z"
   },
   {
    "duration": 7,
    "start_time": "2023-07-15T00:53:44.844Z"
   },
   {
    "duration": 108,
    "start_time": "2023-07-15T00:54:02.033Z"
   },
   {
    "duration": 6,
    "start_time": "2023-07-15T00:54:08.722Z"
   },
   {
    "duration": 8,
    "start_time": "2023-07-15T00:54:21.623Z"
   },
   {
    "duration": 8,
    "start_time": "2023-07-15T00:55:29.432Z"
   },
   {
    "duration": 18,
    "start_time": "2023-07-15T00:57:22.909Z"
   },
   {
    "duration": 463,
    "start_time": "2023-07-15T01:03:05.443Z"
   },
   {
    "duration": 15,
    "start_time": "2023-07-15T01:03:16.512Z"
   },
   {
    "duration": 23,
    "start_time": "2023-07-15T01:04:48.244Z"
   },
   {
    "duration": 11,
    "start_time": "2023-07-15T01:05:21.487Z"
   },
   {
    "duration": 11,
    "start_time": "2023-07-15T01:06:03.131Z"
   },
   {
    "duration": 13,
    "start_time": "2023-07-15T01:06:21.180Z"
   },
   {
    "duration": 15,
    "start_time": "2023-07-15T01:06:57.176Z"
   },
   {
    "duration": 16,
    "start_time": "2023-07-15T01:07:21.132Z"
   },
   {
    "duration": 10,
    "start_time": "2023-07-15T02:18:46.313Z"
   },
   {
    "duration": 4,
    "start_time": "2023-07-15T02:18:53.656Z"
   },
   {
    "duration": 4,
    "start_time": "2023-07-15T02:19:37.674Z"
   },
   {
    "duration": 5,
    "start_time": "2023-07-15T02:19:52.448Z"
   },
   {
    "duration": 13,
    "start_time": "2023-07-15T02:21:45.666Z"
   },
   {
    "duration": 14,
    "start_time": "2023-07-15T02:21:59.834Z"
   },
   {
    "duration": 15,
    "start_time": "2023-07-15T02:22:00.312Z"
   },
   {
    "duration": 13,
    "start_time": "2023-07-15T02:22:00.700Z"
   },
   {
    "duration": 94,
    "start_time": "2023-07-15T02:22:59.497Z"
   },
   {
    "duration": 6,
    "start_time": "2023-07-15T02:23:41.593Z"
   },
   {
    "duration": 17,
    "start_time": "2023-07-15T02:26:37.875Z"
   },
   {
    "duration": 14,
    "start_time": "2023-07-15T02:27:53.546Z"
   },
   {
    "duration": 12,
    "start_time": "2023-07-15T02:27:59.574Z"
   },
   {
    "duration": 14,
    "start_time": "2023-07-15T02:28:22.621Z"
   },
   {
    "duration": 94,
    "start_time": "2023-07-15T02:28:54.858Z"
   },
   {
    "duration": 11,
    "start_time": "2023-07-15T02:29:16.297Z"
   },
   {
    "duration": 14,
    "start_time": "2023-07-15T02:29:37.923Z"
   },
   {
    "duration": 1155,
    "start_time": "2023-07-15T02:36:08.536Z"
   },
   {
    "duration": 30,
    "start_time": "2023-07-15T02:36:09.693Z"
   },
   {
    "duration": 17,
    "start_time": "2023-07-15T02:36:09.725Z"
   },
   {
    "duration": 14,
    "start_time": "2023-07-15T02:36:09.745Z"
   },
   {
    "duration": 4,
    "start_time": "2023-07-15T02:36:09.761Z"
   },
   {
    "duration": 26,
    "start_time": "2023-07-15T02:36:09.767Z"
   },
   {
    "duration": 18,
    "start_time": "2023-07-15T02:36:09.795Z"
   },
   {
    "duration": 57,
    "start_time": "2023-07-15T02:36:09.814Z"
   },
   {
    "duration": 103,
    "start_time": "2023-07-15T02:36:09.952Z"
   },
   {
    "duration": 106,
    "start_time": "2023-07-15T02:36:10.058Z"
   },
   {
    "duration": 1806,
    "start_time": "2023-07-15T04:51:39.263Z"
   },
   {
    "duration": 29,
    "start_time": "2023-07-15T04:51:41.071Z"
   },
   {
    "duration": 16,
    "start_time": "2023-07-15T04:51:41.102Z"
   },
   {
    "duration": 27,
    "start_time": "2023-07-15T04:51:41.120Z"
   },
   {
    "duration": 21,
    "start_time": "2023-07-15T04:51:41.149Z"
   },
   {
    "duration": 13,
    "start_time": "2023-07-15T04:51:41.172Z"
   },
   {
    "duration": 9,
    "start_time": "2023-07-15T04:51:41.187Z"
   },
   {
    "duration": 64,
    "start_time": "2023-07-15T04:51:41.197Z"
   },
   {
    "duration": 96,
    "start_time": "2023-07-15T04:51:41.264Z"
   },
   {
    "duration": 192,
    "start_time": "2023-07-15T04:51:41.363Z"
   },
   {
    "duration": 96,
    "start_time": "2023-07-15T18:08:57.093Z"
   },
   {
    "duration": 1784,
    "start_time": "2023-07-16T05:57:59.711Z"
   },
   {
    "duration": 75,
    "start_time": "2023-07-16T05:58:01.497Z"
   },
   {
    "duration": 16,
    "start_time": "2023-07-16T05:58:01.574Z"
   },
   {
    "duration": 41,
    "start_time": "2023-07-16T05:58:01.593Z"
   },
   {
    "duration": 19,
    "start_time": "2023-07-16T05:58:01.635Z"
   },
   {
    "duration": 27,
    "start_time": "2023-07-16T05:58:01.656Z"
   },
   {
    "duration": 24,
    "start_time": "2023-07-16T05:58:01.685Z"
   },
   {
    "duration": 49,
    "start_time": "2023-07-16T05:58:01.711Z"
   },
   {
    "duration": 93,
    "start_time": "2023-07-16T05:58:01.762Z"
   },
   {
    "duration": 128,
    "start_time": "2023-07-16T05:58:01.858Z"
   }
  ],
  "kernelspec": {
   "display_name": "Python 3 (ipykernel)",
   "language": "python",
   "name": "python3"
  },
  "language_info": {
   "codemirror_mode": {
    "name": "ipython",
    "version": 3
   },
   "file_extension": ".py",
   "mimetype": "text/x-python",
   "name": "python",
   "nbconvert_exporter": "python",
   "pygments_lexer": "ipython3",
   "version": "3.9.5"
  },
  "toc": {
   "base_numbering": 1,
   "nav_menu": {},
   "number_sections": true,
   "sideBar": true,
   "skip_h1_title": true,
   "title_cell": "Содержание",
   "title_sidebar": "Contents",
   "toc_cell": true,
   "toc_position": {},
   "toc_section_display": true,
   "toc_window_display": true
  }
 },
 "nbformat": 4,
 "nbformat_minor": 2
}

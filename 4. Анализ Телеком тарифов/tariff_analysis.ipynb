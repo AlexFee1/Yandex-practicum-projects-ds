{
 "cells": [
  {
   "cell_type": "code",
   "execution_count": 1,
   "id": "72576667",
   "metadata": {},
   "outputs": [],
   "source": [
    "import pandas as pd\n",
    "import matplotlib.pyplot as plt\n",
    "from scipy import stats as st\n",
    "import numpy as np\n",
    "from math import factorial"
   ]
  },
  {
   "cell_type": "markdown",
   "id": "8591eb32",
   "metadata": {},
   "source": [
    "В ходе этой работы предстоит сделать следующие шаги:\n",
    "-  Предобработать данные, заполнив пропущенные значения там, где это возможно, а так же удалить дубликаты при их наличии\n",
    "-  Исследовать значения в датафреймах визуально, а именно:\n",
    "    - частота встречаемости городов;\n",
    "    - соотношение пользователей с подпиской и без подписки;\n",
    "    - возраст пользователей;\n",
    "    - расстояние, которое пользователь преодолел за одну поездку;\n",
    "    - продолжительность поездок.\n",
    "- Объеденить данные из трех датафреймов, а так же создать два новых и визуализировать информацию о расстоянии и времени поездок по параметру:\n",
    "    - есть подписка\n",
    "    - подписки нет\n",
    "- Создать новый датафрейм с агрегированными данными о поездках для каждого пользователя за месяц, основываясь на данных из предыдущих функций, со значениями:\n",
    "    - суммарное расстояние\n",
    "    - количество поездок\n",
    "    - суммарное время\n",
    "    - выручка каждого пользователя \n",
    "- Проверить следующие гипотезы и ответить на вопрос:\n",
    "    - Влияние подписки на время поездки\n",
    "    - Является ли расстояние одной поездки в 3130 метров оптимальным с точки зрения износа самоката?\n",
    "    - Выше ли помесячная выручка пользователей за месяц, относительно пользователей без подписки?\n",
    "        - Какой тест использовать для проверки гипотезы, что обращения в техподдержку значительно снизилось после обновления серверов?\n",
    "- Дополнительно:\n",
    "    - Сколько нужно промокодов, чтобы минимум 100 существующих клиентов продлили подписку на второй месяц с 95% вероятностью?\n",
    "    - Оценить вероятность с помощью аппроксимации, какова вероятность, что уведомления откроют не более 399.5тыс. пользователей при условии, что планируется отправить 1млн уведомлений?"
   ]
  },
  {
   "cell_type": "markdown",
   "id": "c42cbe00",
   "metadata": {},
   "source": [
    "####  Загрузка данных"
   ]
  },
  {
   "cell_type": "code",
   "execution_count": 2,
   "id": "eff9f206",
   "metadata": {},
   "outputs": [],
   "source": [
    "try: \n",
    "    users = pd.read_csv('/datasets/users_go.csv')\n",
    "    rides = pd.read_csv('/datasets/rides_go.csv')\n",
    "    subscription = pd.read_csv('/datasets/subscriptions_go.csv')\n",
    "except:\n",
    "        users = pd.read_csv('/Users/aleksandrfilippov/Documents/ipynb/users_go.csv')\n",
    "        rides = pd.read_csv('/Users/aleksandrfilippov/Documents/ipynb/rides_go.csv')\n",
    "        subscription = pd.read_csv('/Users/aleksandrfilippov/Documents/ipynb/subscriptions_go.csv')"
   ]
  },
  {
   "cell_type": "code",
   "execution_count": 3,
   "id": "5c8cfaab",
   "metadata": {},
   "outputs": [
    {
     "data": {
      "text/html": [
       "<div>\n",
       "<style scoped>\n",
       "    .dataframe tbody tr th:only-of-type {\n",
       "        vertical-align: middle;\n",
       "    }\n",
       "\n",
       "    .dataframe tbody tr th {\n",
       "        vertical-align: top;\n",
       "    }\n",
       "\n",
       "    .dataframe thead th {\n",
       "        text-align: right;\n",
       "    }\n",
       "</style>\n",
       "<table border=\"1\" class=\"dataframe\">\n",
       "  <thead>\n",
       "    <tr style=\"text-align: right;\">\n",
       "      <th></th>\n",
       "      <th>user_id</th>\n",
       "      <th>name</th>\n",
       "      <th>age</th>\n",
       "      <th>city</th>\n",
       "      <th>subscription_type</th>\n",
       "    </tr>\n",
       "  </thead>\n",
       "  <tbody>\n",
       "    <tr>\n",
       "      <th>0</th>\n",
       "      <td>1</td>\n",
       "      <td>Кира</td>\n",
       "      <td>22</td>\n",
       "      <td>Тюмень</td>\n",
       "      <td>ultra</td>\n",
       "    </tr>\n",
       "    <tr>\n",
       "      <th>1</th>\n",
       "      <td>2</td>\n",
       "      <td>Станислав</td>\n",
       "      <td>31</td>\n",
       "      <td>Омск</td>\n",
       "      <td>ultra</td>\n",
       "    </tr>\n",
       "    <tr>\n",
       "      <th>2</th>\n",
       "      <td>3</td>\n",
       "      <td>Алексей</td>\n",
       "      <td>20</td>\n",
       "      <td>Москва</td>\n",
       "      <td>ultra</td>\n",
       "    </tr>\n",
       "    <tr>\n",
       "      <th>3</th>\n",
       "      <td>4</td>\n",
       "      <td>Константин</td>\n",
       "      <td>26</td>\n",
       "      <td>Ростов-на-Дону</td>\n",
       "      <td>ultra</td>\n",
       "    </tr>\n",
       "    <tr>\n",
       "      <th>4</th>\n",
       "      <td>5</td>\n",
       "      <td>Адель</td>\n",
       "      <td>28</td>\n",
       "      <td>Омск</td>\n",
       "      <td>ultra</td>\n",
       "    </tr>\n",
       "    <tr>\n",
       "      <th>5</th>\n",
       "      <td>6</td>\n",
       "      <td>Регина</td>\n",
       "      <td>25</td>\n",
       "      <td>Краснодар</td>\n",
       "      <td>ultra</td>\n",
       "    </tr>\n",
       "    <tr>\n",
       "      <th>6</th>\n",
       "      <td>7</td>\n",
       "      <td>Игорь</td>\n",
       "      <td>23</td>\n",
       "      <td>Омск</td>\n",
       "      <td>ultra</td>\n",
       "    </tr>\n",
       "    <tr>\n",
       "      <th>7</th>\n",
       "      <td>8</td>\n",
       "      <td>Юрий</td>\n",
       "      <td>23</td>\n",
       "      <td>Краснодар</td>\n",
       "      <td>ultra</td>\n",
       "    </tr>\n",
       "    <tr>\n",
       "      <th>8</th>\n",
       "      <td>9</td>\n",
       "      <td>Ян</td>\n",
       "      <td>21</td>\n",
       "      <td>Пятигорск</td>\n",
       "      <td>ultra</td>\n",
       "    </tr>\n",
       "    <tr>\n",
       "      <th>9</th>\n",
       "      <td>10</td>\n",
       "      <td>Валерий</td>\n",
       "      <td>18</td>\n",
       "      <td>Екатеринбург</td>\n",
       "      <td>ultra</td>\n",
       "    </tr>\n",
       "  </tbody>\n",
       "</table>\n",
       "</div>"
      ],
      "text/plain": [
       "   user_id        name  age            city subscription_type\n",
       "0        1        Кира   22          Тюмень             ultra\n",
       "1        2   Станислав   31            Омск             ultra\n",
       "2        3     Алексей   20          Москва             ultra\n",
       "3        4  Константин   26  Ростов-на-Дону             ultra\n",
       "4        5       Адель   28            Омск             ultra\n",
       "5        6      Регина   25       Краснодар             ultra\n",
       "6        7       Игорь   23            Омск             ultra\n",
       "7        8        Юрий   23       Краснодар             ultra\n",
       "8        9          Ян   21       Пятигорск             ultra\n",
       "9       10     Валерий   18    Екатеринбург             ultra"
      ]
     },
     "execution_count": 3,
     "metadata": {},
     "output_type": "execute_result"
    }
   ],
   "source": [
    "users.head(10)"
   ]
  },
  {
   "cell_type": "markdown",
   "id": "a2c62bce",
   "metadata": {},
   "source": [
    "Датафрейм состоит из следующих столбцов:\n",
    "- user_id - уникальный идентификатор\n",
    "- name - имя пользователя\n",
    "- age - возраст пользователя\n",
    "- city - город\n",
    "- subscription_type - тип подписки"
   ]
  },
  {
   "cell_type": "code",
   "execution_count": 4,
   "id": "413caf4d",
   "metadata": {},
   "outputs": [
    {
     "data": {
      "text/html": [
       "<div>\n",
       "<style scoped>\n",
       "    .dataframe tbody tr th:only-of-type {\n",
       "        vertical-align: middle;\n",
       "    }\n",
       "\n",
       "    .dataframe tbody tr th {\n",
       "        vertical-align: top;\n",
       "    }\n",
       "\n",
       "    .dataframe thead th {\n",
       "        text-align: right;\n",
       "    }\n",
       "</style>\n",
       "<table border=\"1\" class=\"dataframe\">\n",
       "  <thead>\n",
       "    <tr style=\"text-align: right;\">\n",
       "      <th></th>\n",
       "      <th>user_id</th>\n",
       "      <th>distance</th>\n",
       "      <th>duration</th>\n",
       "      <th>date</th>\n",
       "    </tr>\n",
       "  </thead>\n",
       "  <tbody>\n",
       "    <tr>\n",
       "      <th>0</th>\n",
       "      <td>1</td>\n",
       "      <td>4409.919140</td>\n",
       "      <td>25.599769</td>\n",
       "      <td>2021-01-01</td>\n",
       "    </tr>\n",
       "    <tr>\n",
       "      <th>1</th>\n",
       "      <td>1</td>\n",
       "      <td>2617.592153</td>\n",
       "      <td>15.816871</td>\n",
       "      <td>2021-01-18</td>\n",
       "    </tr>\n",
       "    <tr>\n",
       "      <th>2</th>\n",
       "      <td>1</td>\n",
       "      <td>754.159807</td>\n",
       "      <td>6.232113</td>\n",
       "      <td>2021-04-20</td>\n",
       "    </tr>\n",
       "    <tr>\n",
       "      <th>3</th>\n",
       "      <td>1</td>\n",
       "      <td>2694.783254</td>\n",
       "      <td>18.511000</td>\n",
       "      <td>2021-08-11</td>\n",
       "    </tr>\n",
       "    <tr>\n",
       "      <th>4</th>\n",
       "      <td>1</td>\n",
       "      <td>4028.687306</td>\n",
       "      <td>26.265803</td>\n",
       "      <td>2021-08-28</td>\n",
       "    </tr>\n",
       "    <tr>\n",
       "      <th>5</th>\n",
       "      <td>1</td>\n",
       "      <td>2770.890808</td>\n",
       "      <td>16.650138</td>\n",
       "      <td>2021-10-09</td>\n",
       "    </tr>\n",
       "    <tr>\n",
       "      <th>6</th>\n",
       "      <td>1</td>\n",
       "      <td>3039.020292</td>\n",
       "      <td>14.927879</td>\n",
       "      <td>2021-10-19</td>\n",
       "    </tr>\n",
       "    <tr>\n",
       "      <th>7</th>\n",
       "      <td>1</td>\n",
       "      <td>2842.118050</td>\n",
       "      <td>23.117468</td>\n",
       "      <td>2021-11-06</td>\n",
       "    </tr>\n",
       "    <tr>\n",
       "      <th>8</th>\n",
       "      <td>1</td>\n",
       "      <td>3412.690668</td>\n",
       "      <td>15.238072</td>\n",
       "      <td>2021-11-14</td>\n",
       "    </tr>\n",
       "    <tr>\n",
       "      <th>9</th>\n",
       "      <td>1</td>\n",
       "      <td>748.690645</td>\n",
       "      <td>15.041884</td>\n",
       "      <td>2021-11-22</td>\n",
       "    </tr>\n",
       "  </tbody>\n",
       "</table>\n",
       "</div>"
      ],
      "text/plain": [
       "   user_id     distance   duration        date\n",
       "0        1  4409.919140  25.599769  2021-01-01\n",
       "1        1  2617.592153  15.816871  2021-01-18\n",
       "2        1   754.159807   6.232113  2021-04-20\n",
       "3        1  2694.783254  18.511000  2021-08-11\n",
       "4        1  4028.687306  26.265803  2021-08-28\n",
       "5        1  2770.890808  16.650138  2021-10-09\n",
       "6        1  3039.020292  14.927879  2021-10-19\n",
       "7        1  2842.118050  23.117468  2021-11-06\n",
       "8        1  3412.690668  15.238072  2021-11-14\n",
       "9        1   748.690645  15.041884  2021-11-22"
      ]
     },
     "execution_count": 4,
     "metadata": {},
     "output_type": "execute_result"
    }
   ],
   "source": [
    "rides.head(10)"
   ]
  },
  {
   "cell_type": "markdown",
   "id": "10697e77",
   "metadata": {},
   "source": [
    "Датафрейм состоит из следующих столбцов:\n",
    "- user_id - уникальный идентификатор\n",
    "- distance - расстояние одной поездки в метрах\n",
    "- duration - длительность поездки в минутах\n",
    "- date - дата поездки"
   ]
  },
  {
   "cell_type": "code",
   "execution_count": 5,
   "id": "45f4b976",
   "metadata": {},
   "outputs": [
    {
     "data": {
      "text/html": [
       "<div>\n",
       "<style scoped>\n",
       "    .dataframe tbody tr th:only-of-type {\n",
       "        vertical-align: middle;\n",
       "    }\n",
       "\n",
       "    .dataframe tbody tr th {\n",
       "        vertical-align: top;\n",
       "    }\n",
       "\n",
       "    .dataframe thead th {\n",
       "        text-align: right;\n",
       "    }\n",
       "</style>\n",
       "<table border=\"1\" class=\"dataframe\">\n",
       "  <thead>\n",
       "    <tr style=\"text-align: right;\">\n",
       "      <th></th>\n",
       "      <th>subscription_type</th>\n",
       "      <th>minute_price</th>\n",
       "      <th>start_ride_price</th>\n",
       "      <th>subscription_fee</th>\n",
       "    </tr>\n",
       "  </thead>\n",
       "  <tbody>\n",
       "    <tr>\n",
       "      <th>0</th>\n",
       "      <td>free</td>\n",
       "      <td>8</td>\n",
       "      <td>50</td>\n",
       "      <td>0</td>\n",
       "    </tr>\n",
       "    <tr>\n",
       "      <th>1</th>\n",
       "      <td>ultra</td>\n",
       "      <td>6</td>\n",
       "      <td>0</td>\n",
       "      <td>199</td>\n",
       "    </tr>\n",
       "  </tbody>\n",
       "</table>\n",
       "</div>"
      ],
      "text/plain": [
       "  subscription_type  minute_price  start_ride_price  subscription_fee\n",
       "0              free             8                50                 0\n",
       "1             ultra             6                 0               199"
      ]
     },
     "execution_count": 5,
     "metadata": {},
     "output_type": "execute_result"
    }
   ],
   "source": [
    "subscription.head(10)"
   ]
  },
  {
   "cell_type": "markdown",
   "id": "01a65fdd",
   "metadata": {},
   "source": [
    "Датафрейм состоит из следующих столбцов:\n",
    "- subscription_type\t - тип подписки: бесплатный или ультра\n",
    "- minute_price - стоимость одной минуты поездки\n",
    "- start_ride_price - стоимость старта поездки\n",
    "- subscription_fee - стоимость подписки"
   ]
  },
  {
   "cell_type": "markdown",
   "id": "e95ebca7",
   "metadata": {},
   "source": [
    "#### Предобработка данных"
   ]
  },
  {
   "cell_type": "markdown",
   "id": "ccc51136",
   "metadata": {},
   "source": [
    "Для начала рассмотрим информацию в таблицах по типам данных, а также на наличие дубликатов и пропущенных значений"
   ]
  },
  {
   "cell_type": "code",
   "execution_count": 6,
   "id": "2fe6b697",
   "metadata": {
    "scrolled": true
   },
   "outputs": [
    {
     "name": "stdout",
     "output_type": "stream",
     "text": [
      "<class 'pandas.core.frame.DataFrame'>\n",
      "RangeIndex: 1565 entries, 0 to 1564\n",
      "Data columns (total 5 columns):\n",
      " #   Column             Non-Null Count  Dtype \n",
      "---  ------             --------------  ----- \n",
      " 0   user_id            1565 non-null   int64 \n",
      " 1   name               1565 non-null   object\n",
      " 2   age                1565 non-null   int64 \n",
      " 3   city               1565 non-null   object\n",
      " 4   subscription_type  1565 non-null   object\n",
      "dtypes: int64(2), object(3)\n",
      "memory usage: 61.3+ KB\n"
     ]
    }
   ],
   "source": [
    "users.info()"
   ]
  },
  {
   "cell_type": "code",
   "execution_count": 7,
   "id": "d97446d5",
   "metadata": {},
   "outputs": [
    {
     "data": {
      "text/html": [
       "<div>\n",
       "<style scoped>\n",
       "    .dataframe tbody tr th:only-of-type {\n",
       "        vertical-align: middle;\n",
       "    }\n",
       "\n",
       "    .dataframe tbody tr th {\n",
       "        vertical-align: top;\n",
       "    }\n",
       "\n",
       "    .dataframe thead th {\n",
       "        text-align: right;\n",
       "    }\n",
       "</style>\n",
       "<table border=\"1\" class=\"dataframe\">\n",
       "  <thead>\n",
       "    <tr style=\"text-align: right;\">\n",
       "      <th></th>\n",
       "      <th>user_id</th>\n",
       "      <th>age</th>\n",
       "    </tr>\n",
       "  </thead>\n",
       "  <tbody>\n",
       "    <tr>\n",
       "      <th>count</th>\n",
       "      <td>1565.000000</td>\n",
       "      <td>1565.000000</td>\n",
       "    </tr>\n",
       "    <tr>\n",
       "      <th>mean</th>\n",
       "      <td>762.633866</td>\n",
       "      <td>24.922045</td>\n",
       "    </tr>\n",
       "    <tr>\n",
       "      <th>std</th>\n",
       "      <td>443.260155</td>\n",
       "      <td>4.553496</td>\n",
       "    </tr>\n",
       "    <tr>\n",
       "      <th>min</th>\n",
       "      <td>1.000000</td>\n",
       "      <td>12.000000</td>\n",
       "    </tr>\n",
       "    <tr>\n",
       "      <th>25%</th>\n",
       "      <td>378.000000</td>\n",
       "      <td>22.000000</td>\n",
       "    </tr>\n",
       "    <tr>\n",
       "      <th>50%</th>\n",
       "      <td>762.000000</td>\n",
       "      <td>25.000000</td>\n",
       "    </tr>\n",
       "    <tr>\n",
       "      <th>75%</th>\n",
       "      <td>1146.000000</td>\n",
       "      <td>28.000000</td>\n",
       "    </tr>\n",
       "    <tr>\n",
       "      <th>max</th>\n",
       "      <td>1534.000000</td>\n",
       "      <td>43.000000</td>\n",
       "    </tr>\n",
       "  </tbody>\n",
       "</table>\n",
       "</div>"
      ],
      "text/plain": [
       "           user_id          age\n",
       "count  1565.000000  1565.000000\n",
       "mean    762.633866    24.922045\n",
       "std     443.260155     4.553496\n",
       "min       1.000000    12.000000\n",
       "25%     378.000000    22.000000\n",
       "50%     762.000000    25.000000\n",
       "75%    1146.000000    28.000000\n",
       "max    1534.000000    43.000000"
      ]
     },
     "execution_count": 7,
     "metadata": {},
     "output_type": "execute_result"
    }
   ],
   "source": [
    "users.describe()"
   ]
  },
  {
   "cell_type": "code",
   "execution_count": 8,
   "id": "81334c79",
   "metadata": {},
   "outputs": [
    {
     "data": {
      "image/png": "[encoded data removed]",
      "text/plain": [
       "<Figure size 432x288 with 1 Axes>"
      ]
     },
     "metadata": {
      "needs_background": "light"
     },
     "output_type": "display_data"
    }
   ],
   "source": [
    "users['age'].plot(kind = 'box')\n",
    "plt.show()"
   ]
  },
  {
   "cell_type": "code",
   "execution_count": 9,
   "id": "139717fb",
   "metadata": {},
   "outputs": [
    {
     "data": {
      "text/plain": [
       "31"
      ]
     },
     "execution_count": 9,
     "metadata": {},
     "output_type": "execute_result"
    }
   ],
   "source": [
    "users.duplicated('user_id').sum()"
   ]
  },
  {
   "cell_type": "code",
   "execution_count": 10,
   "id": "3ddc5ec2",
   "metadata": {},
   "outputs": [
    {
     "data": {
      "text/plain": [
       "0"
      ]
     },
     "execution_count": 10,
     "metadata": {},
     "output_type": "execute_result"
    }
   ],
   "source": [
    "users = users.drop_duplicates('user_id')\n",
    "users.duplicated('user_id').sum()"
   ]
  },
  {
   "cell_type": "markdown",
   "id": "36172494",
   "metadata": {},
   "source": [
    "В данном датафрейме было удалено 31 дубликата, пропущенных значений не обнаружено. Аномальных значений по возрасту так же не обнаружено."
   ]
  },
  {
   "cell_type": "code",
   "execution_count": 11,
   "id": "1919a56a",
   "metadata": {},
   "outputs": [
    {
     "name": "stdout",
     "output_type": "stream",
     "text": [
      "<class 'pandas.core.frame.DataFrame'>\n",
      "RangeIndex: 18068 entries, 0 to 18067\n",
      "Data columns (total 5 columns):\n",
      " #   Column    Non-Null Count  Dtype         \n",
      "---  ------    --------------  -----         \n",
      " 0   user_id   18068 non-null  int64         \n",
      " 1   distance  18068 non-null  float64       \n",
      " 2   duration  18068 non-null  float64       \n",
      " 3   date      18068 non-null  datetime64[ns]\n",
      " 4   month     18068 non-null  int64         \n",
      "dtypes: datetime64[ns](1), float64(2), int64(2)\n",
      "memory usage: 705.9 KB\n"
     ]
    }
   ],
   "source": [
    "rides['date'] = pd.to_datetime(rides['date'])\n",
    "rides['month'] = rides['date'].dt.month\n",
    "rides['duration'] = np.ceil(rides['duration']) \n",
    "rides.info()"
   ]
  },
  {
   "cell_type": "code",
   "execution_count": 12,
   "id": "86c573d2",
   "metadata": {},
   "outputs": [
    {
     "data": {
      "text/html": [
       "<div>\n",
       "<style scoped>\n",
       "    .dataframe tbody tr th:only-of-type {\n",
       "        vertical-align: middle;\n",
       "    }\n",
       "\n",
       "    .dataframe tbody tr th {\n",
       "        vertical-align: top;\n",
       "    }\n",
       "\n",
       "    .dataframe thead th {\n",
       "        text-align: right;\n",
       "    }\n",
       "</style>\n",
       "<table border=\"1\" class=\"dataframe\">\n",
       "  <thead>\n",
       "    <tr style=\"text-align: right;\">\n",
       "      <th></th>\n",
       "      <th>user_id</th>\n",
       "      <th>distance</th>\n",
       "      <th>duration</th>\n",
       "      <th>month</th>\n",
       "    </tr>\n",
       "  </thead>\n",
       "  <tbody>\n",
       "    <tr>\n",
       "      <th>count</th>\n",
       "      <td>18068.000000</td>\n",
       "      <td>18068.000000</td>\n",
       "      <td>18068.000000</td>\n",
       "      <td>18068.000000</td>\n",
       "    </tr>\n",
       "    <tr>\n",
       "      <th>mean</th>\n",
       "      <td>842.869936</td>\n",
       "      <td>3070.659976</td>\n",
       "      <td>18.303520</td>\n",
       "      <td>6.486772</td>\n",
       "    </tr>\n",
       "    <tr>\n",
       "      <th>std</th>\n",
       "      <td>434.734317</td>\n",
       "      <td>1116.831209</td>\n",
       "      <td>6.094928</td>\n",
       "      <td>3.437410</td>\n",
       "    </tr>\n",
       "    <tr>\n",
       "      <th>min</th>\n",
       "      <td>1.000000</td>\n",
       "      <td>0.855683</td>\n",
       "      <td>1.000000</td>\n",
       "      <td>1.000000</td>\n",
       "    </tr>\n",
       "    <tr>\n",
       "      <th>25%</th>\n",
       "      <td>487.000000</td>\n",
       "      <td>2543.226360</td>\n",
       "      <td>14.000000</td>\n",
       "      <td>4.000000</td>\n",
       "    </tr>\n",
       "    <tr>\n",
       "      <th>50%</th>\n",
       "      <td>889.000000</td>\n",
       "      <td>3133.609994</td>\n",
       "      <td>18.000000</td>\n",
       "      <td>6.000000</td>\n",
       "    </tr>\n",
       "    <tr>\n",
       "      <th>75%</th>\n",
       "      <td>1213.250000</td>\n",
       "      <td>3776.222735</td>\n",
       "      <td>22.000000</td>\n",
       "      <td>9.000000</td>\n",
       "    </tr>\n",
       "    <tr>\n",
       "      <th>max</th>\n",
       "      <td>1534.000000</td>\n",
       "      <td>7211.007745</td>\n",
       "      <td>41.000000</td>\n",
       "      <td>12.000000</td>\n",
       "    </tr>\n",
       "  </tbody>\n",
       "</table>\n",
       "</div>"
      ],
      "text/plain": [
       "            user_id      distance      duration         month\n",
       "count  18068.000000  18068.000000  18068.000000  18068.000000\n",
       "mean     842.869936   3070.659976     18.303520      6.486772\n",
       "std      434.734317   1116.831209      6.094928      3.437410\n",
       "min        1.000000      0.855683      1.000000      1.000000\n",
       "25%      487.000000   2543.226360     14.000000      4.000000\n",
       "50%      889.000000   3133.609994     18.000000      6.000000\n",
       "75%     1213.250000   3776.222735     22.000000      9.000000\n",
       "max     1534.000000   7211.007745     41.000000     12.000000"
      ]
     },
     "execution_count": 12,
     "metadata": {},
     "output_type": "execute_result"
    }
   ],
   "source": [
    "rides.describe()"
   ]
  },
  {
   "cell_type": "code",
   "execution_count": 13,
   "id": "2e397347",
   "metadata": {},
   "outputs": [
    {
     "data": {
      "image/png": "[encoded data removed]",
      "text/plain": [
       "<Figure size 432x288 with 1 Axes>"
      ]
     },
     "metadata": {
      "needs_background": "light"
     },
     "output_type": "display_data"
    },
    {
     "data": {
      "image/png": "[encoded data removed]",
      "text/plain": [
       "<Figure size 432x288 with 1 Axes>"
      ]
     },
     "metadata": {
      "needs_background": "light"
     },
     "output_type": "display_data"
    }
   ],
   "source": [
    "plt.figure()\n",
    "rides.boxplot(column=['distance'])\n",
    "plt.figure()\n",
    "rides.boxplot(column = ['duration'])\n",
    "\n",
    "plt.show()"
   ]
  },
  {
   "cell_type": "code",
   "execution_count": 14,
   "id": "33742489",
   "metadata": {},
   "outputs": [
    {
     "data": {
      "image/png": "[encoded data removed]",
      "text/plain": [
       "<Figure size 432x288 with 1 Axes>"
      ]
     },
     "metadata": {
      "needs_background": "light"
     },
     "output_type": "display_data"
    },
    {
     "data": {
      "image/png": "[encoded data removed]",
      "text/plain": [
       "<Figure size 432x288 with 1 Axes>"
      ]
     },
     "metadata": {
      "needs_background": "light"
     },
     "output_type": "display_data"
    }
   ],
   "source": [
    "plt.figure()\n",
    "rides['distance'].plot(kind ='hist')\n",
    "plt.xlabel('distance')\n",
    "plt.figure()\n",
    "rides['duration'].plot(kind = 'hist')\n",
    "plt.xlabel('duration')\n",
    "plt.show()"
   ]
  },
  {
   "cell_type": "code",
   "execution_count": 15,
   "id": "4ecad2f3",
   "metadata": {},
   "outputs": [
    {
     "data": {
      "text/plain": [
       "False    17990\n",
       "True        78\n",
       "Name: distance, dtype: int64"
      ]
     },
     "execution_count": 15,
     "metadata": {},
     "output_type": "execute_result"
    }
   ],
   "source": [
    "(rides['distance'] <100).value_counts()\n"
   ]
  },
  {
   "cell_type": "markdown",
   "id": "61d6d7da",
   "metadata": {},
   "source": [
    "По данному датафрейму можно сделать вывод, что есть очевидно аномально низкие значения в duration. Предположительно пользователь по ошибке взял самокат(или передумал) Так как таких значений предельно мало, для точности дальнейших вычеслений можно ими пренебречь."
   ]
  },
  {
   "cell_type": "markdown",
   "id": "7b0edbc1",
   "metadata": {},
   "source": [
    "Так как датафрейм subscription обладает только двумя строками данных, его не рассматриваем и не меняем"
   ]
  },
  {
   "cell_type": "markdown",
   "id": "daae5897",
   "metadata": {},
   "source": [
    "**Вывод**\n",
    "\n",
    "В ходе этой части были выполнены следующие пункты:\n",
    "- Удалены дубликаты в датафрейме users\n",
    "- Столбец date преобразован в тип datetime"
   ]
  },
  {
   "cell_type": "markdown",
   "id": "212593c7",
   "metadata": {},
   "source": [
    "#### Исследовательский анализ данных"
   ]
  },
  {
   "cell_type": "markdown",
   "id": "9444932b",
   "metadata": {},
   "source": [
    "##### Частота встречаемости городов"
   ]
  },
  {
   "cell_type": "code",
   "execution_count": 17,
   "id": "2db9fe02",
   "metadata": {
    "scrolled": true
   },
   "outputs": [
    {
     "data": {
      "text/plain": [
       "Пятигорск         219\n",
       "Екатеринбург      204\n",
       "Ростов-на-Дону    198\n",
       "Краснодар         193\n",
       "Сочи              189\n",
       "Омск              183\n",
       "Тюмень            180\n",
       "Москва            168\n",
       "Name: city, dtype: int64"
      ]
     },
     "execution_count": 17,
     "metadata": {},
     "output_type": "execute_result"
    }
   ],
   "source": [
    "users['city'].value_counts()"
   ]
  },
  {
   "cell_type": "code",
   "execution_count": 18,
   "id": "5f1c5aad",
   "metadata": {
    "scrolled": true
   },
   "outputs": [
    {
     "data": {
      "image/png": "[encoded data removed]",
      "text/plain": [
       "<Figure size 432x288 with 1 Axes>"
      ]
     },
     "metadata": {
      "needs_background": "light"
     },
     "output_type": "display_data"
    }
   ],
   "source": [
    "users['city'].value_counts().plot(kind = 'barh')\n",
    "plt.xlabel('Количество пользователей')\n",
    "plt.ylabel('Город')\n",
    "plt.show()"
   ]
  },
  {
   "cell_type": "markdown",
   "id": "c9f34099",
   "metadata": {},
   "source": [
    "##### Соотношение пользователей с подпиской и без подписки"
   ]
  },
  {
   "cell_type": "code",
   "execution_count": 19,
   "id": "071ed964",
   "metadata": {},
   "outputs": [
    {
     "name": "stdout",
     "output_type": "stream",
     "text": [
      "Соотношение пользователей с подпиской и без подписки равно: 0.4556714471968709\n",
      "Процент пользователей с подпиской: 45.56714471968709\n"
     ]
    },
    {
     "data": {
      "image/png": "[encoded data removed]",
      "text/plain": [
       "<Figure size 432x288 with 1 Axes>"
      ]
     },
     "metadata": {},
     "output_type": "display_data"
    }
   ],
   "source": [
    "subscription_counts = users['subscription_type'].value_counts()\n",
    "free_count = subscription_counts['free']\n",
    "ultra_count = subscription_counts['ultra']\n",
    "\n",
    "total_count = free_count + ultra_count\n",
    "    \n",
    "ratio = ultra_count / total_count\n",
    "percentage = ratio * 100\n",
    "\n",
    "\n",
    "print('Соотношение пользователей с подпиской и без подписки равно:', ratio)\n",
    "print('Процент пользователей с подпиской:', percentage)\n",
    "\n",
    "sizes = [free_count, ultra_count]\n",
    "plt.pie(sizes, labels=['Без подписки', 'С подпиской'], autopct='%1.1f%%')\n",
    "\n",
    "plt.show()"
   ]
  },
  {
   "cell_type": "markdown",
   "id": "95dc1b8e",
   "metadata": {},
   "source": [
    "##### Возраст пользователей"
   ]
  },
  {
   "cell_type": "code",
   "execution_count": 20,
   "id": "898165ef",
   "metadata": {},
   "outputs": [
    {
     "data": {
      "text/plain": [
       "count    1534.000000\n",
       "mean       24.903520\n",
       "std         4.572367\n",
       "min        12.000000\n",
       "25%        22.000000\n",
       "50%        25.000000\n",
       "75%        28.000000\n",
       "max        43.000000\n",
       "Name: age, dtype: float64"
      ]
     },
     "execution_count": 20,
     "metadata": {},
     "output_type": "execute_result"
    }
   ],
   "source": [
    "users['age'].describe()"
   ]
  },
  {
   "cell_type": "code",
   "execution_count": 21,
   "id": "f5742d7b",
   "metadata": {},
   "outputs": [
    {
     "data": {
      "image/png": "[encoded data removed]",
      "text/plain": [
       "<Figure size 432x288 with 1 Axes>"
      ]
     },
     "metadata": {
      "needs_background": "light"
     },
     "output_type": "display_data"
    }
   ],
   "source": [
    "users['age'].plot(kind = 'hist', grid=True)\n",
    "plt.show()"
   ]
  },
  {
   "cell_type": "markdown",
   "id": "31821ff7",
   "metadata": {},
   "source": [
    "Возрастной контингент представлен в диапазоне от 12 до 43 лет, с средним значением 24.9 и стандартным отклонением в 4.6\n",
    "Основные значения, которые находятся в диапазоне 1 и 3 квартиля составляют пользователи от 22 до 28 лет. Медианное значение находится на уровне 25 лет."
   ]
  },
  {
   "cell_type": "markdown",
   "id": "a7cdd5f6",
   "metadata": {},
   "source": [
    "##### Расстояние, которое пользователь преодолел за одну поездку"
   ]
  },
  {
   "cell_type": "code",
   "execution_count": 22,
   "id": "cb6589cc",
   "metadata": {
    "scrolled": true
   },
   "outputs": [
    {
     "data": {
      "image/png": "[encoded data removed]",
      "text/plain": [
       "<Figure size 432x288 with 1 Axes>"
      ]
     },
     "metadata": {
      "needs_background": "light"
     },
     "output_type": "display_data"
    }
   ],
   "source": [
    "(rides\n",
    " .groupby('user_id')['distance']\n",
    " .mean()\n",
    " .plot(kind = 'hist',grid=True))\n",
    "plt.show()"
   ]
  },
  {
   "cell_type": "code",
   "execution_count": 23,
   "id": "ace05270",
   "metadata": {},
   "outputs": [
    {
     "data": {
      "text/plain": [
       "count    1534.000000\n",
       "mean     3077.296650\n",
       "std       327.624403\n",
       "min      1630.788427\n",
       "25%      2882.505704\n",
       "50%      3090.864050\n",
       "75%      3293.325678\n",
       "max      4287.519387\n",
       "Name: distance, dtype: float64"
      ]
     },
     "execution_count": 23,
     "metadata": {},
     "output_type": "execute_result"
    }
   ],
   "source": [
    "(rides\n",
    " .groupby('user_id')['distance']\n",
    " .mean()\n",
    " .describe())"
   ]
  },
  {
   "cell_type": "markdown",
   "id": "66189c34",
   "metadata": {},
   "source": [
    "Среднее расстояние каждого пользователя представлено в диапазоне от 1631 до 4288 метров, с средним значением 3087 метров и стандартным отклонением в 323.\n",
    "Основные значения, которые находятся в диапазоне 1 и 3 квартиля составляют 2895 и 3302 соответственно. Медианное значение находится на уровне 3100 метров."
   ]
  },
  {
   "cell_type": "markdown",
   "id": "022620c8",
   "metadata": {},
   "source": [
    "##### Продолжительность поездок"
   ]
  },
  {
   "cell_type": "code",
   "execution_count": 24,
   "id": "e7e3e8e7",
   "metadata": {},
   "outputs": [
    {
     "data": {
      "image/png": "[encoded data removed]",
      "text/plain": [
       "<Figure size 432x288 with 1 Axes>"
      ]
     },
     "metadata": {
      "needs_background": "light"
     },
     "output_type": "display_data"
    }
   ],
   "source": [
    "(rides\n",
    " .groupby('user_id')['duration']\n",
    " .mean()\n",
    " .plot(kind = 'hist',grid=True))\n",
    "plt.show()"
   ]
  },
  {
   "cell_type": "code",
   "execution_count": 25,
   "id": "e3a4274c",
   "metadata": {},
   "outputs": [
    {
     "data": {
      "text/plain": [
       "count    1534.000000\n",
       "mean       18.423613\n",
       "std         1.973877\n",
       "min        11.625000\n",
       "25%        17.093182\n",
       "50%        18.400000\n",
       "75%        19.666667\n",
       "max        26.600000\n",
       "Name: duration, dtype: float64"
      ]
     },
     "execution_count": 25,
     "metadata": {},
     "output_type": "execute_result"
    }
   ],
   "source": [
    "(rides\n",
    " .groupby('user_id')['duration']\n",
    " .mean()\n",
    " .describe())"
   ]
  },
  {
   "cell_type": "markdown",
   "id": "f84be5ad",
   "metadata": {},
   "source": [
    "Среднее время маршрута каждого пользователя представлено в диапазоне от 12 до 27 минут, с средним значением 18 и стандартным отклонением в 2. Основные значения, которые находятся в диапазоне 1 и 3 квартиля составляют 17 и 20 соответственно. Медианное значение находится на уровне 18 минут.\n",
    "\n"
   ]
  },
  {
   "cell_type": "markdown",
   "id": "33af2370",
   "metadata": {},
   "source": [
    "**Вывод**\n",
    "\n",
    "Из данных полученых в данном пункте можно сделать следующие выводы:\n",
    "- Больше всего стречаются пользователи из Пятигорска, меньше всего в Москве (219 и 168 соответственно)\n",
    "- Пользователей с подпиской меньше, чем без нее (соотношение 0.84)\n",
    "- Основная целевая аудитори компании, молодые люди в возрасте от 22 до 28 лет\n",
    "- В среднем пользователи совершают поездки на расстояние 3087 метров\n",
    "- Средняя поездка занимает около 18 минут"
   ]
  },
  {
   "cell_type": "markdown",
   "id": "4ef51331",
   "metadata": {},
   "source": [
    "#### Объединение данных"
   ]
  },
  {
   "cell_type": "markdown",
   "id": "343bf977",
   "metadata": {},
   "source": [
    "##### Создание датафрейма full_data"
   ]
  },
  {
   "cell_type": "code",
   "execution_count": 26,
   "id": "6bf288b5",
   "metadata": {
    "scrolled": true
   },
   "outputs": [
    {
     "data": {
      "text/html": [
       "<div>\n",
       "<style scoped>\n",
       "    .dataframe tbody tr th:only-of-type {\n",
       "        vertical-align: middle;\n",
       "    }\n",
       "\n",
       "    .dataframe tbody tr th {\n",
       "        vertical-align: top;\n",
       "    }\n",
       "\n",
       "    .dataframe thead th {\n",
       "        text-align: right;\n",
       "    }\n",
       "</style>\n",
       "<table border=\"1\" class=\"dataframe\">\n",
       "  <thead>\n",
       "    <tr style=\"text-align: right;\">\n",
       "      <th></th>\n",
       "      <th>user_id</th>\n",
       "      <th>name</th>\n",
       "      <th>age</th>\n",
       "      <th>city</th>\n",
       "      <th>subscription_type</th>\n",
       "      <th>distance</th>\n",
       "      <th>duration</th>\n",
       "      <th>date</th>\n",
       "      <th>month</th>\n",
       "      <th>minute_price</th>\n",
       "      <th>start_ride_price</th>\n",
       "      <th>subscription_fee</th>\n",
       "    </tr>\n",
       "  </thead>\n",
       "  <tbody>\n",
       "    <tr>\n",
       "      <th>0</th>\n",
       "      <td>1</td>\n",
       "      <td>Кира</td>\n",
       "      <td>22</td>\n",
       "      <td>Тюмень</td>\n",
       "      <td>ultra</td>\n",
       "      <td>4409.919140</td>\n",
       "      <td>26.0</td>\n",
       "      <td>2021-01-01</td>\n",
       "      <td>1</td>\n",
       "      <td>6</td>\n",
       "      <td>0</td>\n",
       "      <td>199</td>\n",
       "    </tr>\n",
       "    <tr>\n",
       "      <th>1</th>\n",
       "      <td>1</td>\n",
       "      <td>Кира</td>\n",
       "      <td>22</td>\n",
       "      <td>Тюмень</td>\n",
       "      <td>ultra</td>\n",
       "      <td>2617.592153</td>\n",
       "      <td>16.0</td>\n",
       "      <td>2021-01-18</td>\n",
       "      <td>1</td>\n",
       "      <td>6</td>\n",
       "      <td>0</td>\n",
       "      <td>199</td>\n",
       "    </tr>\n",
       "    <tr>\n",
       "      <th>2</th>\n",
       "      <td>1</td>\n",
       "      <td>Кира</td>\n",
       "      <td>22</td>\n",
       "      <td>Тюмень</td>\n",
       "      <td>ultra</td>\n",
       "      <td>754.159807</td>\n",
       "      <td>7.0</td>\n",
       "      <td>2021-04-20</td>\n",
       "      <td>4</td>\n",
       "      <td>6</td>\n",
       "      <td>0</td>\n",
       "      <td>199</td>\n",
       "    </tr>\n",
       "    <tr>\n",
       "      <th>3</th>\n",
       "      <td>1</td>\n",
       "      <td>Кира</td>\n",
       "      <td>22</td>\n",
       "      <td>Тюмень</td>\n",
       "      <td>ultra</td>\n",
       "      <td>2694.783254</td>\n",
       "      <td>19.0</td>\n",
       "      <td>2021-08-11</td>\n",
       "      <td>8</td>\n",
       "      <td>6</td>\n",
       "      <td>0</td>\n",
       "      <td>199</td>\n",
       "    </tr>\n",
       "    <tr>\n",
       "      <th>4</th>\n",
       "      <td>1</td>\n",
       "      <td>Кира</td>\n",
       "      <td>22</td>\n",
       "      <td>Тюмень</td>\n",
       "      <td>ultra</td>\n",
       "      <td>4028.687306</td>\n",
       "      <td>27.0</td>\n",
       "      <td>2021-08-28</td>\n",
       "      <td>8</td>\n",
       "      <td>6</td>\n",
       "      <td>0</td>\n",
       "      <td>199</td>\n",
       "    </tr>\n",
       "  </tbody>\n",
       "</table>\n",
       "</div>"
      ],
      "text/plain": [
       "   user_id  name  age    city subscription_type     distance  duration  \\\n",
       "0        1  Кира   22  Тюмень             ultra  4409.919140      26.0   \n",
       "1        1  Кира   22  Тюмень             ultra  2617.592153      16.0   \n",
       "2        1  Кира   22  Тюмень             ultra   754.159807       7.0   \n",
       "3        1  Кира   22  Тюмень             ultra  2694.783254      19.0   \n",
       "4        1  Кира   22  Тюмень             ultra  4028.687306      27.0   \n",
       "\n",
       "        date  month  minute_price  start_ride_price  subscription_fee  \n",
       "0 2021-01-01      1             6                 0               199  \n",
       "1 2021-01-18      1             6                 0               199  \n",
       "2 2021-04-20      4             6                 0               199  \n",
       "3 2021-08-11      8             6                 0               199  \n",
       "4 2021-08-28      8             6                 0               199  "
      ]
     },
     "execution_count": 26,
     "metadata": {},
     "output_type": "execute_result"
    }
   ],
   "source": [
    "full_data = (users\n",
    "             .merge(rides, on = 'user_id')\n",
    "             .merge(subscription, on = 'subscription_type'))\n",
    "full_data.head()"
   ]
  },
  {
   "cell_type": "code",
   "execution_count": 27,
   "id": "e7499c0b",
   "metadata": {},
   "outputs": [
    {
     "data": {
      "text/plain": [
       "user_id              0\n",
       "name                 0\n",
       "age                  0\n",
       "city                 0\n",
       "subscription_type    0\n",
       "distance             0\n",
       "duration             0\n",
       "date                 0\n",
       "month                0\n",
       "minute_price         0\n",
       "start_ride_price     0\n",
       "subscription_fee     0\n",
       "dtype: int64"
      ]
     },
     "execution_count": 27,
     "metadata": {},
     "output_type": "execute_result"
    }
   ],
   "source": [
    "#Удостоверимся, что все столбцы присутствуют и пропущенных значений не появилось\n",
    "full_data.isna().sum()"
   ]
  },
  {
   "cell_type": "markdown",
   "id": "7ffccf9d",
   "metadata": {},
   "source": [
    "##### Создание датафреймов по подписке и без"
   ]
  },
  {
   "cell_type": "code",
   "execution_count": 28,
   "id": "cb4f7afb",
   "metadata": {
    "scrolled": true
   },
   "outputs": [
    {
     "data": {
      "text/plain": [
       "ultra    6500\n",
       "Name: subscription_type, dtype: int64"
      ]
     },
     "execution_count": 28,
     "metadata": {},
     "output_type": "execute_result"
    }
   ],
   "source": [
    "df_w_subs = full_data[full_data['subscription_type'] == 'ultra']\n",
    "df_wout_subs = full_data[full_data['subscription_type'] == 'free']\n",
    "\n",
    "df_w_subs['subscription_type'].value_counts()"
   ]
  },
  {
   "cell_type": "code",
   "execution_count": 29,
   "id": "b60dc9c0",
   "metadata": {},
   "outputs": [
    {
     "data": {
      "text/plain": [
       "free    11568\n",
       "Name: subscription_type, dtype: int64"
      ]
     },
     "execution_count": 29,
     "metadata": {},
     "output_type": "execute_result"
    }
   ],
   "source": [
    "df_wout_subs['subscription_type'].value_counts()"
   ]
  },
  {
   "cell_type": "code",
   "execution_count": 30,
   "id": "0f0bc192",
   "metadata": {},
   "outputs": [
    {
     "data": {
      "image/png": "[encoded data removed]",
      "text/plain": [
       "<Figure size 432x288 with 1 Axes>"
      ]
     },
     "metadata": {
      "needs_background": "light"
     },
     "output_type": "display_data"
    }
   ],
   "source": [
    "plt.hist(df_w_subs['duration'], alpha = 0.7, label = 'С подпиской')\n",
    "plt.hist(df_wout_subs['duration'], alpha = 0.7, label = 'Без подписки')\n",
    "\n",
    "plt.xlabel('Duration')\n",
    "plt.legend()\n",
    "\n",
    "plt.show()"
   ]
  },
  {
   "cell_type": "code",
   "execution_count": 31,
   "id": "9ad61bbd",
   "metadata": {},
   "outputs": [
    {
     "name": "stdout",
     "output_type": "stream",
     "text": [
      "count    6500.000000\n",
      "mean       19.037692\n",
      "std         5.577439\n",
      "min         4.000000\n",
      "25%        15.000000\n",
      "50%        19.000000\n",
      "75%        22.000000\n",
      "max        41.000000\n",
      "Name: duration, dtype: float64\n"
     ]
    },
    {
     "data": {
      "text/plain": [
       "count    11568.000000\n",
       "mean        17.890992\n",
       "std          6.330250\n",
       "min          1.000000\n",
       "25%         13.000000\n",
       "50%         18.000000\n",
       "75%         22.000000\n",
       "max         35.000000\n",
       "Name: duration, dtype: float64"
      ]
     },
     "execution_count": 31,
     "metadata": {},
     "output_type": "execute_result"
    }
   ],
   "source": [
    "print(df_w_subs['duration'].describe())\n",
    "df_wout_subs['duration'].describe()"
   ]
  },
  {
   "cell_type": "code",
   "execution_count": 44,
   "id": "b4279273",
   "metadata": {},
   "outputs": [
    {
     "data": {
      "image/png": "[encoded data removed]",
      "text/plain": [
       "<Figure size 1080x360 with 1 Axes>"
      ]
     },
     "metadata": {
      "needs_background": "light"
     },
     "output_type": "display_data"
    }
   ],
   "source": [
    "plt.figure(figsize = (15, 5))\n",
    "plt.hist(df_wout_subs['distance'], alpha = 0.5, label = 'Без подписки', bins = 50)\n",
    "plt.hist(df_w_subs['distance'], label = 'С подпиской', bins= 50)\n",
    "\n",
    "plt.xlabel('Distance')\n",
    "plt.legend()\n",
    "\n",
    "plt.show()"
   ]
  },
  {
   "cell_type": "code",
   "execution_count": 33,
   "id": "17f2f3c4",
   "metadata": {},
   "outputs": [
    {
     "data": {
      "image/png": "[encoded data removed]",
      "text/plain": [
       "<Figure size 1080x360 with 1 Axes>"
      ]
     },
     "metadata": {
      "needs_background": "light"
     },
     "output_type": "display_data"
    }
   ],
   "source": [
    "# Код ревьюера\n",
    "plt.figure(figsize = (15, 5))\n",
    "plt.hist(df_wout_subs['distance'], alpha = 0.5, label = 'Без подписки', bins = 50)\n",
    "plt.hist(df_w_subs['distance'], label = 'С подпиской', bins = 50)\n",
    "\n",
    "\n",
    "plt.xlabel('Расстояние')\n",
    "plt.title('Сравнение расстояния поездок')\n",
    "plt.legend()\n",
    "\n",
    "plt.show()"
   ]
  },
  {
   "cell_type": "code",
   "execution_count": 34,
   "id": "b17837c2",
   "metadata": {},
   "outputs": [
    {
     "name": "stdout",
     "output_type": "stream",
     "text": [
      "count    11568.000000\n",
      "mean      3045.495282\n",
      "std       1246.173806\n",
      "min          0.855683\n",
      "25%       2366.562689\n",
      "50%       3114.648465\n",
      "75%       3905.697894\n",
      "max       7211.007745\n",
      "Name: distance, dtype: float64\n"
     ]
    },
    {
     "data": {
      "text/plain": [
       "count    6500.000000\n",
       "mean     3115.445388\n",
       "std       836.895330\n",
       "min       244.210438\n",
       "25%      2785.444017\n",
       "50%      3148.637229\n",
       "75%      3560.574425\n",
       "max      5699.769662\n",
       "Name: distance, dtype: float64"
      ]
     },
     "execution_count": 34,
     "metadata": {},
     "output_type": "execute_result"
    }
   ],
   "source": [
    "print(df_wout_subs['distance'].describe())\n",
    "df_w_subs['distance'].describe()"
   ]
  },
  {
   "cell_type": "markdown",
   "id": "07d6594b",
   "metadata": {},
   "source": [
    "**Вывод**\n",
    "\n",
    "В ходе данной части были проделаны следующие шаги:\n",
    "- Объеденены датафреймы в один общий\n",
    "- Созданы датафреймы по категориям подписки\n",
    "- Рассмотрена информация о времени поездок и их расстоянии для каждой категории\n",
    "    - В среднем пользователи с подпиской проводят в пути 19 минут, в то время как пользователи без подписки 18 минут.\n",
    "    - Расстояние, которое в среднем преодолевают пользователи с подпиской равно 3115 метров, а без подписки 3045 метров.\n",
    "    - Графики визуально показывают, что пользователей без подписки больше чем с подпиской\n",
    "    - Можно заметить, что в двух случаях выборка стремится к нормальному распределению и в целом повторяют друг друга. Однако стоит заметить следующее:\n",
    "        - Значение длительности поездки смещено вправо для пользователей с подпиской относительно пользователей без подписки, это может быть обусловлено разной стоимости минуты аренды"
   ]
  },
  {
   "cell_type": "markdown",
   "id": "402d620f",
   "metadata": {},
   "source": [
    "#### Подсчёт выручки"
   ]
  },
  {
   "cell_type": "markdown",
   "id": "bd4a476b",
   "metadata": {},
   "source": [
    "##### Создание датафрейма с агрегированными данными"
   ]
  },
  {
   "cell_type": "code",
   "execution_count": 35,
   "id": "d638bcac",
   "metadata": {},
   "outputs": [
    {
     "data": {
      "text/html": [
       "<div>\n",
       "<style scoped>\n",
       "    .dataframe tbody tr th:only-of-type {\n",
       "        vertical-align: middle;\n",
       "    }\n",
       "\n",
       "    .dataframe tbody tr th {\n",
       "        vertical-align: top;\n",
       "    }\n",
       "\n",
       "    .dataframe thead th {\n",
       "        text-align: right;\n",
       "    }\n",
       "</style>\n",
       "<table border=\"1\" class=\"dataframe\">\n",
       "  <thead>\n",
       "    <tr style=\"text-align: right;\">\n",
       "      <th></th>\n",
       "      <th>user_id</th>\n",
       "      <th>month</th>\n",
       "      <th>minute_price</th>\n",
       "      <th>start_ride_price</th>\n",
       "      <th>subscription_fee</th>\n",
       "      <th>subscription_type</th>\n",
       "      <th>total_distance</th>\n",
       "      <th>count_trips</th>\n",
       "      <th>total_duration</th>\n",
       "    </tr>\n",
       "  </thead>\n",
       "  <tbody>\n",
       "    <tr>\n",
       "      <th>0</th>\n",
       "      <td>1</td>\n",
       "      <td>1</td>\n",
       "      <td>6</td>\n",
       "      <td>0</td>\n",
       "      <td>199</td>\n",
       "      <td>ultra</td>\n",
       "      <td>7027.511294</td>\n",
       "      <td>2</td>\n",
       "      <td>42.0</td>\n",
       "    </tr>\n",
       "    <tr>\n",
       "      <th>1</th>\n",
       "      <td>1</td>\n",
       "      <td>4</td>\n",
       "      <td>6</td>\n",
       "      <td>0</td>\n",
       "      <td>199</td>\n",
       "      <td>ultra</td>\n",
       "      <td>754.159807</td>\n",
       "      <td>1</td>\n",
       "      <td>7.0</td>\n",
       "    </tr>\n",
       "    <tr>\n",
       "      <th>2</th>\n",
       "      <td>1</td>\n",
       "      <td>8</td>\n",
       "      <td>6</td>\n",
       "      <td>0</td>\n",
       "      <td>199</td>\n",
       "      <td>ultra</td>\n",
       "      <td>6723.470560</td>\n",
       "      <td>2</td>\n",
       "      <td>46.0</td>\n",
       "    </tr>\n",
       "    <tr>\n",
       "      <th>3</th>\n",
       "      <td>1</td>\n",
       "      <td>10</td>\n",
       "      <td>6</td>\n",
       "      <td>0</td>\n",
       "      <td>199</td>\n",
       "      <td>ultra</td>\n",
       "      <td>5809.911100</td>\n",
       "      <td>2</td>\n",
       "      <td>32.0</td>\n",
       "    </tr>\n",
       "    <tr>\n",
       "      <th>4</th>\n",
       "      <td>1</td>\n",
       "      <td>11</td>\n",
       "      <td>6</td>\n",
       "      <td>0</td>\n",
       "      <td>199</td>\n",
       "      <td>ultra</td>\n",
       "      <td>7003.499363</td>\n",
       "      <td>3</td>\n",
       "      <td>56.0</td>\n",
       "    </tr>\n",
       "    <tr>\n",
       "      <th>5</th>\n",
       "      <td>1</td>\n",
       "      <td>12</td>\n",
       "      <td>6</td>\n",
       "      <td>0</td>\n",
       "      <td>199</td>\n",
       "      <td>ultra</td>\n",
       "      <td>6751.629942</td>\n",
       "      <td>2</td>\n",
       "      <td>28.0</td>\n",
       "    </tr>\n",
       "    <tr>\n",
       "      <th>6</th>\n",
       "      <td>2</td>\n",
       "      <td>3</td>\n",
       "      <td>6</td>\n",
       "      <td>0</td>\n",
       "      <td>199</td>\n",
       "      <td>ultra</td>\n",
       "      <td>10187.723006</td>\n",
       "      <td>3</td>\n",
       "      <td>63.0</td>\n",
       "    </tr>\n",
       "    <tr>\n",
       "      <th>7</th>\n",
       "      <td>2</td>\n",
       "      <td>4</td>\n",
       "      <td>6</td>\n",
       "      <td>0</td>\n",
       "      <td>199</td>\n",
       "      <td>ultra</td>\n",
       "      <td>6164.381824</td>\n",
       "      <td>2</td>\n",
       "      <td>40.0</td>\n",
       "    </tr>\n",
       "    <tr>\n",
       "      <th>8</th>\n",
       "      <td>2</td>\n",
       "      <td>6</td>\n",
       "      <td>6</td>\n",
       "      <td>0</td>\n",
       "      <td>199</td>\n",
       "      <td>ultra</td>\n",
       "      <td>3255.338202</td>\n",
       "      <td>1</td>\n",
       "      <td>14.0</td>\n",
       "    </tr>\n",
       "    <tr>\n",
       "      <th>9</th>\n",
       "      <td>2</td>\n",
       "      <td>7</td>\n",
       "      <td>6</td>\n",
       "      <td>0</td>\n",
       "      <td>199</td>\n",
       "      <td>ultra</td>\n",
       "      <td>6780.722964</td>\n",
       "      <td>2</td>\n",
       "      <td>48.0</td>\n",
       "    </tr>\n",
       "  </tbody>\n",
       "</table>\n",
       "</div>"
      ],
      "text/plain": [
       "   user_id  month  minute_price  start_ride_price  subscription_fee  \\\n",
       "0        1      1             6                 0               199   \n",
       "1        1      4             6                 0               199   \n",
       "2        1      8             6                 0               199   \n",
       "3        1     10             6                 0               199   \n",
       "4        1     11             6                 0               199   \n",
       "5        1     12             6                 0               199   \n",
       "6        2      3             6                 0               199   \n",
       "7        2      4             6                 0               199   \n",
       "8        2      6             6                 0               199   \n",
       "9        2      7             6                 0               199   \n",
       "\n",
       "  subscription_type  total_distance  count_trips  total_duration  \n",
       "0             ultra     7027.511294            2            42.0  \n",
       "1             ultra      754.159807            1             7.0  \n",
       "2             ultra     6723.470560            2            46.0  \n",
       "3             ultra     5809.911100            2            32.0  \n",
       "4             ultra     7003.499363            3            56.0  \n",
       "5             ultra     6751.629942            2            28.0  \n",
       "6             ultra    10187.723006            3            63.0  \n",
       "7             ultra     6164.381824            2            40.0  \n",
       "8             ultra     3255.338202            1            14.0  \n",
       "9             ultra     6780.722964            2            48.0  "
      ]
     },
     "execution_count": 35,
     "metadata": {},
     "output_type": "execute_result"
    }
   ],
   "source": [
    "df_agg = (full_data\n",
    "          .groupby(['user_id', 'month','minute_price',\n",
    "                    'start_ride_price','subscription_fee',\n",
    "                    'subscription_type'])\n",
    "          .agg({'distance': 'sum',\n",
    "                'duration': ['count', 'sum']}))\n",
    "\n",
    "df_agg.columns = ['total_distance', 'count_trips', 'total_duration']\n",
    "df_agg.reset_index(inplace = True)\n",
    "\n",
    "\n",
    "df_agg.head(10)"
   ]
  },
  {
   "cell_type": "markdown",
   "id": "6334bcc1",
   "metadata": {},
   "source": [
    "##### Подсчет выручки"
   ]
  },
  {
   "cell_type": "code",
   "execution_count": 36,
   "id": "f09160f4",
   "metadata": {
    "scrolled": true
   },
   "outputs": [
    {
     "data": {
      "text/html": [
       "<div>\n",
       "<style scoped>\n",
       "    .dataframe tbody tr th:only-of-type {\n",
       "        vertical-align: middle;\n",
       "    }\n",
       "\n",
       "    .dataframe tbody tr th {\n",
       "        vertical-align: top;\n",
       "    }\n",
       "\n",
       "    .dataframe thead th {\n",
       "        text-align: right;\n",
       "    }\n",
       "</style>\n",
       "<table border=\"1\" class=\"dataframe\">\n",
       "  <thead>\n",
       "    <tr style=\"text-align: right;\">\n",
       "      <th></th>\n",
       "      <th>user_id</th>\n",
       "      <th>month</th>\n",
       "      <th>minute_price</th>\n",
       "      <th>start_ride_price</th>\n",
       "      <th>subscription_fee</th>\n",
       "      <th>subscription_type</th>\n",
       "      <th>total_distance</th>\n",
       "      <th>count_trips</th>\n",
       "      <th>total_duration</th>\n",
       "      <th>revenue</th>\n",
       "    </tr>\n",
       "  </thead>\n",
       "  <tbody>\n",
       "    <tr>\n",
       "      <th>0</th>\n",
       "      <td>1</td>\n",
       "      <td>1</td>\n",
       "      <td>6</td>\n",
       "      <td>0</td>\n",
       "      <td>199</td>\n",
       "      <td>ultra</td>\n",
       "      <td>7027.511294</td>\n",
       "      <td>2</td>\n",
       "      <td>42.0</td>\n",
       "      <td>451.0</td>\n",
       "    </tr>\n",
       "    <tr>\n",
       "      <th>1</th>\n",
       "      <td>1</td>\n",
       "      <td>4</td>\n",
       "      <td>6</td>\n",
       "      <td>0</td>\n",
       "      <td>199</td>\n",
       "      <td>ultra</td>\n",
       "      <td>754.159807</td>\n",
       "      <td>1</td>\n",
       "      <td>7.0</td>\n",
       "      <td>241.0</td>\n",
       "    </tr>\n",
       "    <tr>\n",
       "      <th>2</th>\n",
       "      <td>1</td>\n",
       "      <td>8</td>\n",
       "      <td>6</td>\n",
       "      <td>0</td>\n",
       "      <td>199</td>\n",
       "      <td>ultra</td>\n",
       "      <td>6723.470560</td>\n",
       "      <td>2</td>\n",
       "      <td>46.0</td>\n",
       "      <td>475.0</td>\n",
       "    </tr>\n",
       "    <tr>\n",
       "      <th>3</th>\n",
       "      <td>1</td>\n",
       "      <td>10</td>\n",
       "      <td>6</td>\n",
       "      <td>0</td>\n",
       "      <td>199</td>\n",
       "      <td>ultra</td>\n",
       "      <td>5809.911100</td>\n",
       "      <td>2</td>\n",
       "      <td>32.0</td>\n",
       "      <td>391.0</td>\n",
       "    </tr>\n",
       "    <tr>\n",
       "      <th>4</th>\n",
       "      <td>1</td>\n",
       "      <td>11</td>\n",
       "      <td>6</td>\n",
       "      <td>0</td>\n",
       "      <td>199</td>\n",
       "      <td>ultra</td>\n",
       "      <td>7003.499363</td>\n",
       "      <td>3</td>\n",
       "      <td>56.0</td>\n",
       "      <td>535.0</td>\n",
       "    </tr>\n",
       "  </tbody>\n",
       "</table>\n",
       "</div>"
      ],
      "text/plain": [
       "   user_id  month  minute_price  start_ride_price  subscription_fee  \\\n",
       "0        1      1             6                 0               199   \n",
       "1        1      4             6                 0               199   \n",
       "2        1      8             6                 0               199   \n",
       "3        1     10             6                 0               199   \n",
       "4        1     11             6                 0               199   \n",
       "\n",
       "  subscription_type  total_distance  count_trips  total_duration  revenue  \n",
       "0             ultra     7027.511294            2            42.0    451.0  \n",
       "1             ultra      754.159807            1             7.0    241.0  \n",
       "2             ultra     6723.470560            2            46.0    475.0  \n",
       "3             ultra     5809.911100            2            32.0    391.0  \n",
       "4             ultra     7003.499363            3            56.0    535.0  "
      ]
     },
     "execution_count": 36,
     "metadata": {},
     "output_type": "execute_result"
    }
   ],
   "source": [
    "df_agg['revenue'] = ((df_agg['start_ride_price'] * df_agg['count_trips'])\n",
    "                     + \n",
    "                     (df_agg['minute_price'] * df_agg['total_duration']) \n",
    "                     + \n",
    "                     df_agg['subscription_fee'])\n",
    "df_agg.head()"
   ]
  },
  {
   "cell_type": "code",
   "execution_count": 37,
   "id": "3ccf2342",
   "metadata": {},
   "outputs": [
    {
     "data": {
      "text/plain": [
       "subscription_type\n",
       "free     328.641365\n",
       "ultra    362.792191\n",
       "Name: revenue, dtype: float64"
      ]
     },
     "execution_count": 37,
     "metadata": {},
     "output_type": "execute_result"
    }
   ],
   "source": [
    "# Код ревьюера\n",
    "df_agg.groupby('subscription_type')['revenue'].mean()"
   ]
  },
  {
   "cell_type": "markdown",
   "id": "41545ac0",
   "metadata": {},
   "source": [
    "####  Проверка гипотез\n",
    "Для всех гипотез будем использовать значение альфа = 0.05"
   ]
  },
  {
   "cell_type": "markdown",
   "id": "6a006581",
   "metadata": {},
   "source": [
    "##### Гипотеза 1: \n",
    "- H0 - Среднее время поездок не отличается\n",
    "- H1 - Среднее время поездок пользователей с подпиской больше, чем среднее время поездок пользователей без подписки"
   ]
  },
  {
   "cell_type": "code",
   "execution_count": 38,
   "id": "aa697ce6",
   "metadata": {},
   "outputs": [
    {
     "name": "stdout",
     "output_type": "stream",
     "text": [
      "p_value: 2.4959453720736625e-34 t_statistic: 12.186464491247767\n"
     ]
    }
   ],
   "source": [
    "t_statistic, p_value = (st\n",
    "                        .ttest_ind(df_w_subs['duration'],\n",
    "                                   df_wout_subs['duration'], \n",
    "                                   alternative='greater'))\n",
    "print('p_value:',p_value, 't_statistic:',t_statistic)"
   ]
  },
  {
   "cell_type": "markdown",
   "id": "95c68c6a",
   "metadata": {},
   "source": [
    "Вывод: Отвергаем нулевую гипотезу в пользу альтернативной, так как p-value является крайне малым, а значение t-statistics имеет высокое значение.\n",
    "**Пользователи с подпиской тратят статестически значимо больше времени на поездки, чем пользователи без подписки**"
   ]
  },
  {
   "cell_type": "markdown",
   "id": "b7a6c58b",
   "metadata": {},
   "source": [
    "##### Гипотеза 2:\n",
    "- H0 - Среднее расстояние поездки пользователей с подпиской меньше или равно 3130 метров \n",
    "- H1 - Среднее расстояние поездки пользователей с подпиской больше 3130 метров"
   ]
  },
  {
   "cell_type": "code",
   "execution_count": 39,
   "id": "8e62e1e5",
   "metadata": {
    "scrolled": true
   },
   "outputs": [
    {
     "name": "stdout",
     "output_type": "stream",
     "text": [
      "p_value: 0.9195368847849785 t_statistic: -1.402123166869486\n"
     ]
    }
   ],
   "source": [
    "interested_value = 3130\n",
    "t_statistic, p_value = (st\n",
    "                        .ttest_1samp(df_w_subs['distance'],\n",
    "                                   interested_value, \n",
    "                                   alternative='greater'))\n",
    "print('p_value:',p_value, 't_statistic:',t_statistic)"
   ]
  },
  {
   "cell_type": "markdown",
   "id": "884ad198",
   "metadata": {},
   "source": [
    "По значениям, которые мы получили, мы не можем опровергнуть нулевую гипотезу, следовательно статистически **Среднее расстояние поездки пользователей с подпиской меньше или равно 3130 метров**"
   ]
  },
  {
   "cell_type": "markdown",
   "id": "079720d4",
   "metadata": {},
   "source": [
    "##### Гипотеза 3:\n",
    "- H0 - Средняя помесячная выручка от пользователей с подпиской и без не отличаются\n",
    "- H1 - Средняя помесячная выручка от пользователей с подпиской выше, чем средняя помесячная выручка от пользователей без подписки"
   ]
  },
  {
   "cell_type": "code",
   "execution_count": 40,
   "id": "cd1f8635",
   "metadata": {},
   "outputs": [
    {
     "name": "stdout",
     "output_type": "stream",
     "text": [
      "p_value: 1.8850394384715216e-31 t_statistic: 11.64246602360774\n"
     ]
    }
   ],
   "source": [
    "revenue_subs = df_agg[df_agg['subscription_type'] == 'ultra']['revenue']\n",
    "revenue_wout_subs = df_agg[df_agg['subscription_type'] == 'free']['revenue']\n",
    "\n",
    "t_statistic, p_value = (st\n",
    "                        .ttest_ind(revenue_subs,\n",
    "                                   revenue_wout_subs, \n",
    "                                   alternative='greater'))\n",
    "print('p_value:',p_value, 't_statistic:',t_statistic)"
   ]
  },
  {
   "cell_type": "markdown",
   "id": "84981736",
   "metadata": {},
   "source": [
    "На основе данных можно опровергнуть нулевую гипотезу в пользу альтернативной. **Средняя помесячная выручка от пользователей с подпиской выше, чем средняя помесячная выручка от пользователей без подписки**"
   ]
  },
  {
   "cell_type": "markdown",
   "id": "b435ca53",
   "metadata": {},
   "source": [
    "##### Поиск оптимального теста:\n",
    "Так как оба набора данных являются связанными для одной и той же выборки (пользователь остается неизменным), можно использовать парный тест. Гипотеза будет двусторонноей и можно ее обозначить таким образом:\n",
    "- H0 - Среднее количество обращений в техподдержку до и после обновления серверов не отличается\n",
    "- H1 - Среднее количество обращений в техподдержку после обновления серверов меньше, чем до обновления"
   ]
  },
  {
   "cell_type": "markdown",
   "id": "ef78d0cb",
   "metadata": {},
   "source": [
    "#### Общий вывод:\n",
    "\n",
    "В данной работе были проведены следующие задания:\n",
    "-  В ходе предобработки данных, были изменены типы данных, удалены дубликаты и аномальные значения\n",
    "-  Исследованы значения в датафреймах, а именно:\n",
    "    - была проанализированна частота встречаемости городов(на первом месте Пятигорск - 219, на последнем Москва - 168);\n",
    "    - было определено соотношение пользователей с подпиской и без подписки(45.6% и 54.4% соответственно);\n",
    "    - был проанализирован возраст пользователей(ЦА от 22 до 28 лет);\n",
    "    - было найдено расстояние, которое пользователь преодолел за одну поездку(в среднем 3087 метров);\n",
    "    - продолжительность поездок была рассчитана(среднее значение около 18 минут).\n",
    "- Данные из трех датафреймов были объеденены\n",
    "- Созданы два новых датафрейма, в которых была визуализирована информация о расстоянии и времени поездок для пользователей с подпиской и без подписки.\n",
    "- Был создан новый датафрейм, в котором содержится агрегированная информация о поездках для каждого пользователя за месяц, включая суммарное расстояние, количество поездок, суммарное время и выручку каждого пользователя.\n",
    "- Были проверены следующие гипотезы:\n",
    "    - Влияние подписки на время поездки (Пользователи с подпиской тратят статестически значимо больше времени на поездки, чем пользователи без подписки)\n",
    "    - Является ли расстояние одной поездки в 3130 метров оптимальным с точки зрения износа самоката? (Среднее расстояние поездки пользователей с подпиской меньше или равно 3130 метров)\n",
    "    - Выше ли помесячная выручка пользователей за месяц, относительно пользователей без подписки? (Средняя помесячная выручка от пользователей с подпиской выше, чем средняя помесячная выручка от пользователей без подписки)\n",
    "        - Для проверки гипотезы о снижении обращений в техподдержку после обновления серверов был рекомендован парный тест\n",
    "        \n",
    "**По данным можно сделать главный вывод, что пользователи с подпиской приносят больше выручки, оптимально используют ресурс самоката(для заданных компанией значений), нежели пользователи без подписки, однако не стоит отрицать тот факт, что таких пользователей меньше и делать упор только на них**"
   ]
  },
  {
   "cell_type": "code",
   "execution_count": null,
   "id": "1b4b8de7",
   "metadata": {},
   "outputs": [],
   "source": []
  }
 ],
 "metadata": {
  "ExecuteTimeLog": [
   {
    "duration": 904,
    "start_time": "2023-05-18T15:47:26.592Z"
   },
   {
    "duration": 67,
    "start_time": "2023-05-18T15:53:19.348Z"
   },
   {
    "duration": 415,
    "start_time": "2023-05-18T15:53:24.104Z"
   },
   {
    "duration": 26,
    "start_time": "2023-05-18T15:54:25.455Z"
   },
   {
    "duration": 14,
    "start_time": "2023-05-18T15:54:54.505Z"
   },
   {
    "duration": 9,
    "start_time": "2023-05-18T15:55:03.200Z"
   },
   {
    "duration": 6,
    "start_time": "2023-05-18T15:55:09.435Z"
   },
   {
    "duration": 111,
    "start_time": "2023-05-18T15:58:04.347Z"
   },
   {
    "duration": 20,
    "start_time": "2023-05-18T20:12:33.388Z"
   },
   {
    "duration": 7,
    "start_time": "2023-05-18T20:12:42.745Z"
   },
   {
    "duration": 106,
    "start_time": "2023-05-18T20:13:14.979Z"
   },
   {
    "duration": 9,
    "start_time": "2023-05-18T20:13:20.193Z"
   },
   {
    "duration": 15,
    "start_time": "2023-05-18T20:13:22.624Z"
   },
   {
    "duration": 12,
    "start_time": "2023-05-18T20:14:56.042Z"
   },
   {
    "duration": 10,
    "start_time": "2023-05-18T20:15:00.822Z"
   },
   {
    "duration": 9,
    "start_time": "2023-05-18T20:15:07.487Z"
   },
   {
    "duration": 6,
    "start_time": "2023-05-18T20:15:32.237Z"
   },
   {
    "duration": 10,
    "start_time": "2023-05-18T20:15:39.422Z"
   },
   {
    "duration": 7,
    "start_time": "2023-05-18T20:15:49.427Z"
   },
   {
    "duration": 8,
    "start_time": "2023-05-18T20:17:01.485Z"
   },
   {
    "duration": 9,
    "start_time": "2023-05-18T20:18:15.382Z"
   },
   {
    "duration": 328,
    "start_time": "2023-05-18T20:18:24.759Z"
   },
   {
    "duration": 10,
    "start_time": "2023-05-18T20:18:28.185Z"
   },
   {
    "duration": 10,
    "start_time": "2023-05-18T20:18:32.378Z"
   },
   {
    "duration": 15,
    "start_time": "2023-05-18T20:18:34.848Z"
   },
   {
    "duration": 20,
    "start_time": "2023-05-18T20:18:37.760Z"
   },
   {
    "duration": 12,
    "start_time": "2023-05-18T20:18:40.662Z"
   },
   {
    "duration": 626,
    "start_time": "2023-05-18T20:18:52.488Z"
   },
   {
    "duration": 72,
    "start_time": "2023-05-18T20:18:53.116Z"
   },
   {
    "duration": 13,
    "start_time": "2023-05-18T20:18:53.190Z"
   },
   {
    "duration": 14,
    "start_time": "2023-05-18T20:18:53.206Z"
   },
   {
    "duration": 13,
    "start_time": "2023-05-18T20:18:53.222Z"
   },
   {
    "duration": 20,
    "start_time": "2023-05-18T20:18:53.237Z"
   },
   {
    "duration": 21,
    "start_time": "2023-05-18T20:18:53.258Z"
   },
   {
    "duration": 83,
    "start_time": "2023-05-18T20:18:53.280Z"
   },
   {
    "duration": 10,
    "start_time": "2023-05-18T20:19:31.798Z"
   },
   {
    "duration": 13,
    "start_time": "2023-05-18T20:19:38.838Z"
   },
   {
    "duration": 9,
    "start_time": "2023-05-18T20:19:50.674Z"
   },
   {
    "duration": 13,
    "start_time": "2023-05-18T20:19:57.061Z"
   },
   {
    "duration": 19,
    "start_time": "2023-05-18T20:20:23.997Z"
   },
   {
    "duration": 19,
    "start_time": "2023-05-18T20:20:30.645Z"
   },
   {
    "duration": 13,
    "start_time": "2023-05-18T20:21:13.480Z"
   },
   {
    "duration": 10,
    "start_time": "2023-05-18T20:21:44.922Z"
   },
   {
    "duration": 9,
    "start_time": "2023-05-18T20:21:57.225Z"
   },
   {
    "duration": 9,
    "start_time": "2023-05-18T20:22:04.140Z"
   },
   {
    "duration": 6,
    "start_time": "2023-05-18T20:22:08.841Z"
   },
   {
    "duration": 6,
    "start_time": "2023-05-18T20:23:16.512Z"
   },
   {
    "duration": 240,
    "start_time": "2023-05-18T20:24:49.518Z"
   },
   {
    "duration": 138,
    "start_time": "2023-05-18T20:25:03.099Z"
   },
   {
    "duration": 10,
    "start_time": "2023-05-18T20:25:12.879Z"
   },
   {
    "duration": 9,
    "start_time": "2023-05-18T20:25:28.056Z"
   },
   {
    "duration": 124,
    "start_time": "2023-05-18T20:25:34.027Z"
   },
   {
    "duration": 12,
    "start_time": "2023-05-18T20:27:50.923Z"
   },
   {
    "duration": 25,
    "start_time": "2023-05-18T20:27:57.552Z"
   },
   {
    "duration": 151,
    "start_time": "2023-05-18T20:29:35.875Z"
   },
   {
    "duration": 12,
    "start_time": "2023-05-18T20:31:04.150Z"
   },
   {
    "duration": 12,
    "start_time": "2023-05-18T20:31:12.113Z"
   },
   {
    "duration": 362,
    "start_time": "2023-05-18T20:31:19.823Z"
   },
   {
    "duration": 131,
    "start_time": "2023-05-18T20:34:32.676Z"
   },
   {
    "duration": 165,
    "start_time": "2023-05-18T20:35:06.689Z"
   },
   {
    "duration": 245,
    "start_time": "2023-05-18T20:35:22.483Z"
   },
   {
    "duration": 323,
    "start_time": "2023-05-18T20:35:57.198Z"
   },
   {
    "duration": 237,
    "start_time": "2023-05-18T20:36:32.844Z"
   },
   {
    "duration": 269,
    "start_time": "2023-05-18T20:37:18.000Z"
   },
   {
    "duration": 279,
    "start_time": "2023-05-18T20:37:25.187Z"
   },
   {
    "duration": 387,
    "start_time": "2023-05-18T20:37:29.041Z"
   },
   {
    "duration": 15,
    "start_time": "2023-05-18T20:38:49.837Z"
   },
   {
    "duration": 297,
    "start_time": "2023-05-18T20:40:33.448Z"
   },
   {
    "duration": 304,
    "start_time": "2023-05-18T20:40:40.140Z"
   },
   {
    "duration": 6,
    "start_time": "2023-05-18T20:42:25.946Z"
   },
   {
    "duration": 8,
    "start_time": "2023-05-18T21:03:02.243Z"
   },
   {
    "duration": 6,
    "start_time": "2023-05-18T21:03:13.395Z"
   },
   {
    "duration": 8,
    "start_time": "2023-05-18T21:04:02.786Z"
   },
   {
    "duration": 275,
    "start_time": "2023-05-18T21:05:41.314Z"
   },
   {
    "duration": 7,
    "start_time": "2023-05-18T21:06:50.598Z"
   },
   {
    "duration": 12,
    "start_time": "2023-05-18T21:06:57.288Z"
   },
   {
    "duration": 18,
    "start_time": "2023-05-18T21:07:14.062Z"
   },
   {
    "duration": 648,
    "start_time": "2023-05-18T21:07:21.895Z"
   },
   {
    "duration": 83,
    "start_time": "2023-05-18T21:07:22.545Z"
   },
   {
    "duration": 12,
    "start_time": "2023-05-18T21:07:22.630Z"
   },
   {
    "duration": 24,
    "start_time": "2023-05-18T21:07:22.643Z"
   },
   {
    "duration": 19,
    "start_time": "2023-05-18T21:07:22.672Z"
   },
   {
    "duration": 23,
    "start_time": "2023-05-18T21:07:22.692Z"
   },
   {
    "duration": 41,
    "start_time": "2023-05-18T21:07:22.717Z"
   },
   {
    "duration": 129,
    "start_time": "2023-05-18T21:07:22.762Z"
   },
   {
    "duration": 7,
    "start_time": "2023-05-18T21:07:22.893Z"
   },
   {
    "duration": 30,
    "start_time": "2023-05-18T21:07:22.902Z"
   },
   {
    "duration": 12,
    "start_time": "2023-05-18T21:07:22.934Z"
   },
   {
    "duration": 29,
    "start_time": "2023-05-18T21:07:22.948Z"
   },
   {
    "duration": 275,
    "start_time": "2023-05-18T21:07:22.978Z"
   },
   {
    "duration": 286,
    "start_time": "2023-05-18T21:07:23.256Z"
   },
   {
    "duration": 19,
    "start_time": "2023-05-18T21:07:23.544Z"
   },
   {
    "duration": 20,
    "start_time": "2023-05-18T21:07:23.564Z"
   },
   {
    "duration": 20,
    "start_time": "2023-05-18T21:07:23.586Z"
   },
   {
    "duration": 21,
    "start_time": "2023-05-18T21:07:23.608Z"
   },
   {
    "duration": 191,
    "start_time": "2023-05-18T21:07:23.631Z"
   },
   {
    "duration": 6,
    "start_time": "2023-05-18T21:07:23.824Z"
   },
   {
    "duration": 18,
    "start_time": "2023-05-18T21:07:23.832Z"
   },
   {
    "duration": 6,
    "start_time": "2023-05-18T21:07:40.718Z"
   },
   {
    "duration": 10,
    "start_time": "2023-05-18T21:07:57.806Z"
   },
   {
    "duration": 23,
    "start_time": "2023-05-18T21:08:15.245Z"
   },
   {
    "duration": 285,
    "start_time": "2023-05-18T21:08:41.945Z"
   },
   {
    "duration": 87,
    "start_time": "2023-05-18T21:11:00.454Z"
   },
   {
    "duration": 85,
    "start_time": "2023-05-18T21:18:45.444Z"
   },
   {
    "duration": 13,
    "start_time": "2023-05-18T21:18:51.888Z"
   },
   {
    "duration": 17,
    "start_time": "2023-05-18T21:19:01.876Z"
   },
   {
    "duration": 12,
    "start_time": "2023-05-18T21:19:14.713Z"
   },
   {
    "duration": 7,
    "start_time": "2023-05-18T21:19:18.648Z"
   },
   {
    "duration": 6,
    "start_time": "2023-05-18T21:19:38.510Z"
   },
   {
    "duration": 6,
    "start_time": "2023-05-18T21:20:27.730Z"
   },
   {
    "duration": 8,
    "start_time": "2023-05-18T21:29:14.017Z"
   },
   {
    "duration": 22,
    "start_time": "2023-05-18T21:32:35.593Z"
   },
   {
    "duration": 30,
    "start_time": "2023-05-18T21:32:39.176Z"
   },
   {
    "duration": 175,
    "start_time": "2023-05-18T21:33:35.715Z"
   },
   {
    "duration": 136,
    "start_time": "2023-05-18T21:34:33.701Z"
   },
   {
    "duration": 22,
    "start_time": "2023-05-18T21:35:58.384Z"
   },
   {
    "duration": 17,
    "start_time": "2023-05-18T21:36:07.446Z"
   },
   {
    "duration": 43,
    "start_time": "2023-05-18T21:38:07.255Z"
   },
   {
    "duration": 1091,
    "start_time": "2023-05-18T21:39:52.740Z"
   },
   {
    "duration": 5,
    "start_time": "2023-05-18T21:40:03.224Z"
   },
   {
    "duration": 821,
    "start_time": "2023-05-18T21:42:39.204Z"
   },
   {
    "duration": 862,
    "start_time": "2023-05-18T21:42:57.353Z"
   },
   {
    "duration": 1085,
    "start_time": "2023-05-18T21:43:07.807Z"
   },
   {
    "duration": 5,
    "start_time": "2023-05-18T21:44:33.140Z"
   },
   {
    "duration": 7,
    "start_time": "2023-05-18T21:44:57.540Z"
   },
   {
    "duration": 7,
    "start_time": "2023-05-18T21:45:20.222Z"
   },
   {
    "duration": 81,
    "start_time": "2023-05-18T21:46:03.855Z"
   },
   {
    "duration": 5,
    "start_time": "2023-05-18T21:46:08.933Z"
   },
   {
    "duration": 270,
    "start_time": "2023-05-18T21:47:22.921Z"
   },
   {
    "duration": 20550,
    "start_time": "2023-05-18T21:47:39.256Z"
   },
   {
    "duration": 140,
    "start_time": "2023-05-18T21:48:45.503Z"
   },
   {
    "duration": 9,
    "start_time": "2023-05-18T21:49:32.602Z"
   },
   {
    "duration": 19998,
    "start_time": "2023-05-18T21:49:54.131Z"
   },
   {
    "duration": 168,
    "start_time": "2023-05-18T21:50:40.305Z"
   },
   {
    "duration": 423,
    "start_time": "2023-05-18T21:51:00.149Z"
   },
   {
    "duration": 136,
    "start_time": "2023-05-18T21:51:09.502Z"
   },
   {
    "duration": 8,
    "start_time": "2023-05-18T21:51:41.931Z"
   },
   {
    "duration": 11,
    "start_time": "2023-05-18T21:55:42.952Z"
   },
   {
    "duration": 165,
    "start_time": "2023-05-18T21:56:02.829Z"
   },
   {
    "duration": 145,
    "start_time": "2023-05-18T21:56:22.190Z"
   },
   {
    "duration": 179,
    "start_time": "2023-05-18T21:56:41.335Z"
   },
   {
    "duration": 161,
    "start_time": "2023-05-18T21:56:49.664Z"
   },
   {
    "duration": 10,
    "start_time": "2023-05-18T21:57:41.604Z"
   },
   {
    "duration": 129,
    "start_time": "2023-05-18T22:00:00.598Z"
   },
   {
    "duration": 17,
    "start_time": "2023-05-18T22:00:08.867Z"
   },
   {
    "duration": 8,
    "start_time": "2023-05-18T22:04:56.907Z"
   },
   {
    "duration": 10,
    "start_time": "2023-05-18T22:05:15.289Z"
   },
   {
    "duration": 165,
    "start_time": "2023-05-18T22:05:50.444Z"
   },
   {
    "duration": 10,
    "start_time": "2023-05-18T22:05:54.300Z"
   },
   {
    "duration": 34,
    "start_time": "2023-05-18T23:12:28.358Z"
   },
   {
    "duration": 28,
    "start_time": "2023-05-18T23:13:32.297Z"
   },
   {
    "duration": 30,
    "start_time": "2023-05-18T23:15:14.042Z"
   },
   {
    "duration": 24,
    "start_time": "2023-05-18T23:15:28.611Z"
   },
   {
    "duration": 24,
    "start_time": "2023-05-18T23:15:35.492Z"
   },
   {
    "duration": 9,
    "start_time": "2023-05-18T23:17:10.782Z"
   },
   {
    "duration": 935,
    "start_time": "2023-05-18T23:17:26.592Z"
   },
   {
    "duration": 7,
    "start_time": "2023-05-18T23:18:04.289Z"
   },
   {
    "duration": 24,
    "start_time": "2023-05-18T23:19:12.190Z"
   },
   {
    "duration": 17,
    "start_time": "2023-05-18T23:19:26.724Z"
   },
   {
    "duration": 16,
    "start_time": "2023-05-18T23:19:32.840Z"
   },
   {
    "duration": 11,
    "start_time": "2023-05-18T23:19:40.041Z"
   },
   {
    "duration": 16,
    "start_time": "2023-05-18T23:20:08.955Z"
   },
   {
    "duration": 6,
    "start_time": "2023-05-18T23:20:29.912Z"
   },
   {
    "duration": 17,
    "start_time": "2023-05-18T23:22:09.812Z"
   },
   {
    "duration": 18,
    "start_time": "2023-05-18T23:22:17.791Z"
   },
   {
    "duration": 10,
    "start_time": "2023-05-18T23:22:25.485Z"
   },
   {
    "duration": 7,
    "start_time": "2023-05-18T23:23:29.922Z"
   },
   {
    "duration": 7,
    "start_time": "2023-05-18T23:24:02.887Z"
   },
   {
    "duration": 15,
    "start_time": "2023-05-18T23:25:04.649Z"
   },
   {
    "duration": 158,
    "start_time": "2023-05-18T23:27:02.049Z"
   },
   {
    "duration": 247,
    "start_time": "2023-05-18T23:27:22.326Z"
   },
   {
    "duration": 340,
    "start_time": "2023-05-18T23:27:36.342Z"
   },
   {
    "duration": 247,
    "start_time": "2023-05-18T23:27:56.723Z"
   },
   {
    "duration": 245,
    "start_time": "2023-05-18T23:28:19.703Z"
   },
   {
    "duration": 255,
    "start_time": "2023-05-18T23:28:29.516Z"
   },
   {
    "duration": 267,
    "start_time": "2023-05-18T23:28:39.442Z"
   },
   {
    "duration": 16,
    "start_time": "2023-05-18T23:29:33.088Z"
   },
   {
    "duration": 13,
    "start_time": "2023-05-18T23:30:00.283Z"
   },
   {
    "duration": 29,
    "start_time": "2023-05-19T02:12:41.816Z"
   },
   {
    "duration": 7,
    "start_time": "2023-05-19T02:13:29.394Z"
   },
   {
    "duration": 7,
    "start_time": "2023-05-19T02:13:37.806Z"
   },
   {
    "duration": 12,
    "start_time": "2023-05-19T02:13:44.059Z"
   },
   {
    "duration": 12,
    "start_time": "2023-05-19T02:15:25.192Z"
   },
   {
    "duration": 19,
    "start_time": "2023-05-19T02:20:46.609Z"
   },
   {
    "duration": 23,
    "start_time": "2023-05-19T02:39:39.548Z"
   },
   {
    "duration": 23,
    "start_time": "2023-05-19T02:41:22.747Z"
   },
   {
    "duration": 33,
    "start_time": "2023-05-19T02:41:43.916Z"
   },
   {
    "duration": 19,
    "start_time": "2023-05-19T02:42:32.063Z"
   },
   {
    "duration": 35,
    "start_time": "2023-05-19T02:43:51.347Z"
   },
   {
    "duration": 32,
    "start_time": "2023-05-19T02:44:51.306Z"
   },
   {
    "duration": 35,
    "start_time": "2023-05-19T02:44:55.094Z"
   },
   {
    "duration": 602,
    "start_time": "2023-05-19T02:47:54.394Z"
   },
   {
    "duration": 68,
    "start_time": "2023-05-19T02:47:57.231Z"
   },
   {
    "duration": 12,
    "start_time": "2023-05-19T02:47:58.806Z"
   },
   {
    "duration": 9,
    "start_time": "2023-05-19T02:47:59.856Z"
   },
   {
    "duration": 7,
    "start_time": "2023-05-19T02:48:01.025Z"
   },
   {
    "duration": 10,
    "start_time": "2023-05-19T02:48:04.868Z"
   },
   {
    "duration": 13,
    "start_time": "2023-05-19T02:48:07.023Z"
   },
   {
    "duration": 95,
    "start_time": "2023-05-19T02:48:10.282Z"
   },
   {
    "duration": 5,
    "start_time": "2023-05-19T02:48:11.757Z"
   },
   {
    "duration": 7,
    "start_time": "2023-05-19T02:48:12.844Z"
   },
   {
    "duration": 71,
    "start_time": "2023-05-19T02:48:14.144Z"
   },
   {
    "duration": 20,
    "start_time": "2023-05-19T02:48:16.191Z"
   },
   {
    "duration": 20,
    "start_time": "2023-05-19T02:48:23.399Z"
   },
   {
    "duration": 23,
    "start_time": "2023-05-19T02:48:29.264Z"
   },
   {
    "duration": 21,
    "start_time": "2023-05-19T02:48:34.269Z"
   },
   {
    "duration": 263,
    "start_time": "2023-05-19T02:48:37.448Z"
   },
   {
    "duration": 301,
    "start_time": "2023-05-19T02:48:41.233Z"
   },
   {
    "duration": 8,
    "start_time": "2023-05-19T02:48:45.915Z"
   },
   {
    "duration": 7,
    "start_time": "2023-05-19T02:49:01.648Z"
   },
   {
    "duration": 4,
    "start_time": "2023-05-19T02:49:55.527Z"
   },
   {
    "duration": 6,
    "start_time": "2023-05-19T02:50:07.007Z"
   },
   {
    "duration": 112,
    "start_time": "2023-05-19T02:50:08.858Z"
   },
   {
    "duration": 6,
    "start_time": "2023-05-19T02:50:12.202Z"
   },
   {
    "duration": 8,
    "start_time": "2023-05-19T02:50:13.744Z"
   },
   {
    "duration": 146,
    "start_time": "2023-05-19T02:50:15.411Z"
   },
   {
    "duration": 109,
    "start_time": "2023-05-19T02:50:17.221Z"
   },
   {
    "duration": 8,
    "start_time": "2023-05-19T02:50:18.678Z"
   },
   {
    "duration": 117,
    "start_time": "2023-05-19T02:50:23.490Z"
   },
   {
    "duration": 8,
    "start_time": "2023-05-19T02:50:25.232Z"
   },
   {
    "duration": 25,
    "start_time": "2023-05-19T02:52:43.385Z"
   },
   {
    "duration": 10,
    "start_time": "2023-05-19T02:52:44.566Z"
   },
   {
    "duration": 12,
    "start_time": "2023-05-19T02:52:47.735Z"
   },
   {
    "duration": 6,
    "start_time": "2023-05-19T02:52:49.111Z"
   },
   {
    "duration": 227,
    "start_time": "2023-05-19T02:52:50.259Z"
   },
   {
    "duration": 12,
    "start_time": "2023-05-19T02:52:56.679Z"
   },
   {
    "duration": 241,
    "start_time": "2023-05-19T02:52:57.908Z"
   },
   {
    "duration": 12,
    "start_time": "2023-05-19T02:52:58.820Z"
   },
   {
    "duration": 31,
    "start_time": "2023-05-19T02:54:05.258Z"
   },
   {
    "duration": 740,
    "start_time": "2023-05-19T02:59:54.520Z"
   },
   {
    "duration": 5,
    "start_time": "2023-05-19T03:00:12.619Z"
   },
   {
    "duration": 82,
    "start_time": "2023-05-19T03:00:23.134Z"
   },
   {
    "duration": 17,
    "start_time": "2023-05-19T03:00:33.367Z"
   },
   {
    "duration": 17,
    "start_time": "2023-05-19T03:00:55.829Z"
   },
   {
    "duration": 12,
    "start_time": "2023-05-19T03:01:01.743Z"
   },
   {
    "duration": 8,
    "start_time": "2023-05-19T03:12:47.636Z"
   },
   {
    "duration": 372,
    "start_time": "2023-05-19T03:13:10.980Z"
   },
   {
    "duration": 5,
    "start_time": "2023-05-19T03:13:19.107Z"
   },
   {
    "duration": 5,
    "start_time": "2023-05-19T03:13:41.738Z"
   },
   {
    "duration": 4,
    "start_time": "2023-05-19T03:14:08.720Z"
   },
   {
    "duration": 59,
    "start_time": "2023-05-19T03:18:12.981Z"
   },
   {
    "duration": 5,
    "start_time": "2023-05-19T03:18:19.148Z"
   },
   {
    "duration": 5,
    "start_time": "2023-05-19T03:30:58.632Z"
   },
   {
    "duration": 10,
    "start_time": "2023-05-19T03:54:00.045Z"
   },
   {
    "duration": 8,
    "start_time": "2023-05-19T03:54:38.133Z"
   },
   {
    "duration": 3,
    "start_time": "2023-05-19T04:10:54.140Z"
   },
   {
    "duration": 254,
    "start_time": "2023-05-19T04:11:19.079Z"
   },
   {
    "duration": 33,
    "start_time": "2023-05-19T04:13:20.298Z"
   },
   {
    "duration": 3,
    "start_time": "2023-05-19T04:13:45.408Z"
   },
   {
    "duration": 10,
    "start_time": "2023-05-19T04:13:49.508Z"
   },
   {
    "duration": 206,
    "start_time": "2023-05-19T04:14:02.783Z"
   },
   {
    "duration": 1330,
    "start_time": "2023-05-19T09:09:06.155Z"
   },
   {
    "duration": 189,
    "start_time": "2023-05-19T09:09:07.487Z"
   },
   {
    "duration": 13,
    "start_time": "2023-05-19T09:09:07.677Z"
   },
   {
    "duration": 11,
    "start_time": "2023-05-19T09:09:07.692Z"
   },
   {
    "duration": 25,
    "start_time": "2023-05-19T09:09:07.704Z"
   },
   {
    "duration": 34,
    "start_time": "2023-05-19T09:09:07.731Z"
   },
   {
    "duration": 25,
    "start_time": "2023-05-19T09:09:07.766Z"
   },
   {
    "duration": 117,
    "start_time": "2023-05-19T09:09:07.793Z"
   },
   {
    "duration": 6,
    "start_time": "2023-05-19T09:09:07.912Z"
   },
   {
    "duration": 26,
    "start_time": "2023-05-19T09:09:07.920Z"
   },
   {
    "duration": 30,
    "start_time": "2023-05-19T09:09:07.947Z"
   },
   {
    "duration": 30,
    "start_time": "2023-05-19T09:09:07.978Z"
   },
   {
    "duration": 224,
    "start_time": "2023-05-19T09:09:08.010Z"
   },
   {
    "duration": 276,
    "start_time": "2023-05-19T09:09:08.235Z"
   },
   {
    "duration": 7,
    "start_time": "2023-05-19T09:09:08.513Z"
   },
   {
    "duration": 5,
    "start_time": "2023-05-19T09:09:08.522Z"
   },
   {
    "duration": 9,
    "start_time": "2023-05-19T09:09:08.528Z"
   },
   {
    "duration": 142,
    "start_time": "2023-05-19T09:09:08.538Z"
   },
   {
    "duration": 5,
    "start_time": "2023-05-19T09:09:08.682Z"
   },
   {
    "duration": 9,
    "start_time": "2023-05-19T09:09:08.697Z"
   },
   {
    "duration": 145,
    "start_time": "2023-05-19T09:09:08.707Z"
   },
   {
    "duration": 145,
    "start_time": "2023-05-19T09:09:08.854Z"
   },
   {
    "duration": 9,
    "start_time": "2023-05-19T09:09:09.000Z"
   },
   {
    "duration": 155,
    "start_time": "2023-05-19T09:09:09.011Z"
   },
   {
    "duration": 9,
    "start_time": "2023-05-19T09:09:09.168Z"
   },
   {
    "duration": 44,
    "start_time": "2023-05-19T09:09:09.178Z"
   },
   {
    "duration": 8,
    "start_time": "2023-05-19T09:09:09.224Z"
   },
   {
    "duration": 25,
    "start_time": "2023-05-19T09:09:09.235Z"
   },
   {
    "duration": 15,
    "start_time": "2023-05-19T09:09:09.261Z"
   },
   {
    "duration": 360,
    "start_time": "2023-05-19T09:09:09.278Z"
   },
   {
    "duration": 11,
    "start_time": "2023-05-19T09:09:09.640Z"
   },
   {
    "duration": 256,
    "start_time": "2023-05-19T09:09:09.652Z"
   },
   {
    "duration": 13,
    "start_time": "2023-05-19T09:09:09.910Z"
   },
   {
    "duration": 34,
    "start_time": "2023-05-19T09:09:09.924Z"
   },
   {
    "duration": 43,
    "start_time": "2023-05-19T09:09:09.960Z"
   },
   {
    "duration": 5,
    "start_time": "2023-05-19T09:09:10.006Z"
   },
   {
    "duration": 11,
    "start_time": "2023-05-19T09:09:10.013Z"
   },
   {
    "duration": 14,
    "start_time": "2023-05-19T09:09:10.026Z"
   },
   {
    "duration": 10,
    "start_time": "2023-05-19T09:17:20.507Z"
   },
   {
    "duration": 20,
    "start_time": "2023-05-19T09:18:03.414Z"
   },
   {
    "duration": 45,
    "start_time": "2023-05-19T17:26:18.867Z"
   },
   {
    "duration": 1144,
    "start_time": "2023-05-19T17:26:32.357Z"
   },
   {
    "duration": 202,
    "start_time": "2023-05-19T17:26:33.503Z"
   },
   {
    "duration": 12,
    "start_time": "2023-05-19T17:26:33.706Z"
   },
   {
    "duration": 7,
    "start_time": "2023-05-19T17:26:33.720Z"
   },
   {
    "duration": 9,
    "start_time": "2023-05-19T17:26:33.728Z"
   },
   {
    "duration": 10,
    "start_time": "2023-05-19T17:26:33.738Z"
   },
   {
    "duration": 12,
    "start_time": "2023-05-19T17:26:33.750Z"
   },
   {
    "duration": 88,
    "start_time": "2023-05-19T17:26:33.764Z"
   },
   {
    "duration": 5,
    "start_time": "2023-05-19T17:26:33.854Z"
   },
   {
    "duration": 6,
    "start_time": "2023-05-19T17:26:33.861Z"
   },
   {
    "duration": 17,
    "start_time": "2023-05-19T17:26:33.886Z"
   },
   {
    "duration": 17,
    "start_time": "2023-05-19T17:26:33.904Z"
   },
   {
    "duration": 198,
    "start_time": "2023-05-19T17:26:33.922Z"
   },
   {
    "duration": 236,
    "start_time": "2023-05-19T17:26:34.121Z"
   },
   {
    "duration": 6,
    "start_time": "2023-05-19T17:26:34.359Z"
   },
   {
    "duration": 2,
    "start_time": "2023-05-19T17:26:34.367Z"
   },
   {
    "duration": 17,
    "start_time": "2023-05-19T17:26:34.371Z"
   },
   {
    "duration": 201,
    "start_time": "2023-05-19T17:26:34.389Z"
   },
   {
    "duration": 0,
    "start_time": "2023-05-19T17:26:34.591Z"
   },
   {
    "duration": 0,
    "start_time": "2023-05-19T17:26:34.592Z"
   },
   {
    "duration": 0,
    "start_time": "2023-05-19T17:26:34.593Z"
   },
   {
    "duration": 0,
    "start_time": "2023-05-19T17:26:34.594Z"
   },
   {
    "duration": 0,
    "start_time": "2023-05-19T17:26:34.595Z"
   },
   {
    "duration": 0,
    "start_time": "2023-05-19T17:26:34.596Z"
   },
   {
    "duration": 0,
    "start_time": "2023-05-19T17:26:34.596Z"
   },
   {
    "duration": 0,
    "start_time": "2023-05-19T17:26:34.597Z"
   },
   {
    "duration": 1,
    "start_time": "2023-05-19T17:26:34.598Z"
   },
   {
    "duration": 0,
    "start_time": "2023-05-19T17:26:34.599Z"
   },
   {
    "duration": 0,
    "start_time": "2023-05-19T17:26:34.600Z"
   },
   {
    "duration": 0,
    "start_time": "2023-05-19T17:26:34.601Z"
   },
   {
    "duration": 0,
    "start_time": "2023-05-19T17:26:34.602Z"
   },
   {
    "duration": 0,
    "start_time": "2023-05-19T17:26:34.603Z"
   },
   {
    "duration": 0,
    "start_time": "2023-05-19T17:26:34.604Z"
   },
   {
    "duration": 0,
    "start_time": "2023-05-19T17:26:34.605Z"
   },
   {
    "duration": 0,
    "start_time": "2023-05-19T17:26:34.606Z"
   },
   {
    "duration": 0,
    "start_time": "2023-05-19T17:26:34.607Z"
   },
   {
    "duration": 0,
    "start_time": "2023-05-19T17:26:34.608Z"
   },
   {
    "duration": 0,
    "start_time": "2023-05-19T17:26:34.608Z"
   },
   {
    "duration": 0,
    "start_time": "2023-05-19T17:26:34.609Z"
   },
   {
    "duration": 165,
    "start_time": "2023-05-19T17:29:56.079Z"
   },
   {
    "duration": 121,
    "start_time": "2023-05-19T17:30:55.731Z"
   },
   {
    "duration": 157,
    "start_time": "2023-05-19T17:31:09.331Z"
   },
   {
    "duration": 5,
    "start_time": "2023-05-19T17:31:25.255Z"
   },
   {
    "duration": 101,
    "start_time": "2023-05-19T17:34:56.139Z"
   },
   {
    "duration": 4,
    "start_time": "2023-05-19T17:35:04.964Z"
   },
   {
    "duration": 87,
    "start_time": "2023-05-19T17:37:33.127Z"
   },
   {
    "duration": 130,
    "start_time": "2023-05-19T17:39:10.309Z"
   },
   {
    "duration": 100,
    "start_time": "2023-05-19T17:39:24.329Z"
   },
   {
    "duration": 79,
    "start_time": "2023-05-19T17:39:34.901Z"
   },
   {
    "duration": 68,
    "start_time": "2023-05-19T17:39:44.815Z"
   },
   {
    "duration": 76,
    "start_time": "2023-05-19T17:39:57.173Z"
   },
   {
    "duration": 68,
    "start_time": "2023-05-19T17:40:36.558Z"
   },
   {
    "duration": 50,
    "start_time": "2023-05-19T17:40:44.107Z"
   },
   {
    "duration": 80,
    "start_time": "2023-05-19T17:41:35.969Z"
   },
   {
    "duration": 8,
    "start_time": "2023-05-19T17:43:18.483Z"
   },
   {
    "duration": 110,
    "start_time": "2023-05-19T17:43:19.593Z"
   },
   {
    "duration": 104,
    "start_time": "2023-05-19T17:43:20.827Z"
   },
   {
    "duration": 8,
    "start_time": "2023-05-19T17:43:21.955Z"
   },
   {
    "duration": 127,
    "start_time": "2023-05-19T17:43:23.230Z"
   },
   {
    "duration": 10,
    "start_time": "2023-05-19T17:43:24.919Z"
   },
   {
    "duration": 23,
    "start_time": "2023-05-19T17:43:28.098Z"
   },
   {
    "duration": 8,
    "start_time": "2023-05-19T17:43:29.720Z"
   },
   {
    "duration": 11,
    "start_time": "2023-05-19T17:43:31.224Z"
   },
   {
    "duration": 6,
    "start_time": "2023-05-19T17:43:32.032Z"
   },
   {
    "duration": 170,
    "start_time": "2023-05-19T17:46:13.572Z"
   },
   {
    "duration": 116,
    "start_time": "2023-05-19T17:46:36.719Z"
   },
   {
    "duration": 130,
    "start_time": "2023-05-19T17:46:48.370Z"
   },
   {
    "duration": 124,
    "start_time": "2023-05-19T17:47:12.404Z"
   },
   {
    "duration": 130,
    "start_time": "2023-05-19T17:48:14.456Z"
   },
   {
    "duration": 167,
    "start_time": "2023-05-19T17:48:28.903Z"
   },
   {
    "duration": 186,
    "start_time": "2023-05-19T17:49:10.933Z"
   },
   {
    "duration": 167,
    "start_time": "2023-05-19T17:49:59.838Z"
   },
   {
    "duration": 160,
    "start_time": "2023-05-19T17:50:29.350Z"
   },
   {
    "duration": 156,
    "start_time": "2023-05-19T17:51:55.164Z"
   },
   {
    "duration": 11,
    "start_time": "2023-05-19T17:53:11.403Z"
   },
   {
    "duration": 14,
    "start_time": "2023-05-19T17:53:14.435Z"
   },
   {
    "duration": 11,
    "start_time": "2023-05-19T17:53:41.652Z"
   },
   {
    "duration": 11,
    "start_time": "2023-05-19T17:53:51.717Z"
   },
   {
    "duration": 146,
    "start_time": "2023-05-19T17:58:47.830Z"
   },
   {
    "duration": 243,
    "start_time": "2023-05-19T17:59:03.331Z"
   },
   {
    "duration": 103,
    "start_time": "2023-05-19T17:59:20.443Z"
   },
   {
    "duration": 153,
    "start_time": "2023-05-19T17:59:29.577Z"
   },
   {
    "duration": 45,
    "start_time": "2023-05-19T18:03:54.257Z"
   },
   {
    "duration": 11,
    "start_time": "2023-05-19T18:03:55.921Z"
   },
   {
    "duration": 6,
    "start_time": "2023-05-19T18:03:57.756Z"
   },
   {
    "duration": 4,
    "start_time": "2023-05-19T18:04:10.806Z"
   },
   {
    "duration": 4,
    "start_time": "2023-05-19T18:04:24.081Z"
   },
   {
    "duration": 12,
    "start_time": "2023-05-19T18:06:58.261Z"
   },
   {
    "duration": 1215,
    "start_time": "2023-05-20T07:59:51.559Z"
   },
   {
    "duration": 85,
    "start_time": "2023-05-20T07:59:52.777Z"
   },
   {
    "duration": 18,
    "start_time": "2023-05-20T07:59:52.864Z"
   },
   {
    "duration": 10,
    "start_time": "2023-05-20T07:59:52.884Z"
   },
   {
    "duration": 17,
    "start_time": "2023-05-20T07:59:52.897Z"
   },
   {
    "duration": 29,
    "start_time": "2023-05-20T07:59:52.916Z"
   },
   {
    "duration": 42,
    "start_time": "2023-05-20T07:59:52.947Z"
   },
   {
    "duration": 135,
    "start_time": "2023-05-20T07:59:52.991Z"
   },
   {
    "duration": 6,
    "start_time": "2023-05-20T07:59:53.128Z"
   },
   {
    "duration": 44,
    "start_time": "2023-05-20T07:59:53.135Z"
   },
   {
    "duration": 63,
    "start_time": "2023-05-20T07:59:53.180Z"
   },
   {
    "duration": 49,
    "start_time": "2023-05-20T07:59:53.244Z"
   },
   {
    "duration": 273,
    "start_time": "2023-05-20T07:59:53.295Z"
   },
   {
    "duration": 297,
    "start_time": "2023-05-20T07:59:53.578Z"
   },
   {
    "duration": 9,
    "start_time": "2023-05-20T07:59:53.877Z"
   },
   {
    "duration": 21,
    "start_time": "2023-05-20T07:59:53.888Z"
   },
   {
    "duration": 25,
    "start_time": "2023-05-20T07:59:53.911Z"
   },
   {
    "duration": 167,
    "start_time": "2023-05-20T07:59:53.938Z"
   },
   {
    "duration": 104,
    "start_time": "2023-05-20T07:59:54.107Z"
   },
   {
    "duration": 9,
    "start_time": "2023-05-20T07:59:54.213Z"
   },
   {
    "duration": 187,
    "start_time": "2023-05-20T07:59:54.224Z"
   },
   {
    "duration": 152,
    "start_time": "2023-05-20T07:59:54.412Z"
   },
   {
    "duration": 12,
    "start_time": "2023-05-20T07:59:54.568Z"
   },
   {
    "duration": 222,
    "start_time": "2023-05-20T07:59:54.582Z"
   },
   {
    "duration": 12,
    "start_time": "2023-05-20T07:59:54.807Z"
   },
   {
    "duration": 63,
    "start_time": "2023-05-20T07:59:54.821Z"
   },
   {
    "duration": 11,
    "start_time": "2023-05-20T07:59:54.888Z"
   },
   {
    "duration": 20,
    "start_time": "2023-05-20T07:59:54.901Z"
   },
   {
    "duration": 19,
    "start_time": "2023-05-20T07:59:54.924Z"
   },
   {
    "duration": 236,
    "start_time": "2023-05-20T07:59:54.945Z"
   },
   {
    "duration": 14,
    "start_time": "2023-05-20T07:59:55.183Z"
   },
   {
    "duration": 223,
    "start_time": "2023-05-20T07:59:55.199Z"
   },
   {
    "duration": 17,
    "start_time": "2023-05-20T07:59:55.425Z"
   },
   {
    "duration": 55,
    "start_time": "2023-05-20T07:59:55.459Z"
   },
   {
    "duration": 16,
    "start_time": "2023-05-20T07:59:55.516Z"
   },
   {
    "duration": 34,
    "start_time": "2023-05-20T07:59:55.534Z"
   },
   {
    "duration": 7,
    "start_time": "2023-05-20T07:59:55.572Z"
   },
   {
    "duration": 8,
    "start_time": "2023-05-20T07:59:55.581Z"
   },
   {
    "duration": 21,
    "start_time": "2023-05-20T07:59:55.591Z"
   },
   {
    "duration": 267,
    "start_time": "2023-05-20T08:05:25.856Z"
   },
   {
    "duration": 316,
    "start_time": "2023-05-20T08:05:34.973Z"
   },
   {
    "duration": 309,
    "start_time": "2023-05-20T08:06:02.698Z"
   },
   {
    "duration": 311,
    "start_time": "2023-05-20T08:06:21.591Z"
   },
   {
    "duration": 412,
    "start_time": "2023-05-20T08:07:11.690Z"
   },
   {
    "duration": 374,
    "start_time": "2023-05-20T08:08:12.688Z"
   },
   {
    "duration": 397,
    "start_time": "2023-05-20T08:08:34.643Z"
   },
   {
    "duration": 60,
    "start_time": "2023-05-20T13:15:37.239Z"
   },
   {
    "duration": 7,
    "start_time": "2023-05-20T13:15:50.906Z"
   },
   {
    "duration": 1276,
    "start_time": "2023-05-20T13:15:58.390Z"
   },
   {
    "duration": 185,
    "start_time": "2023-05-20T13:15:59.669Z"
   },
   {
    "duration": 16,
    "start_time": "2023-05-20T13:15:59.856Z"
   },
   {
    "duration": 10,
    "start_time": "2023-05-20T13:15:59.873Z"
   },
   {
    "duration": 9,
    "start_time": "2023-05-20T13:15:59.885Z"
   },
   {
    "duration": 13,
    "start_time": "2023-05-20T13:15:59.895Z"
   },
   {
    "duration": 18,
    "start_time": "2023-05-20T13:15:59.909Z"
   },
   {
    "duration": 106,
    "start_time": "2023-05-20T13:15:59.929Z"
   },
   {
    "duration": 5,
    "start_time": "2023-05-20T13:16:00.037Z"
   },
   {
    "duration": 50,
    "start_time": "2023-05-20T13:16:00.044Z"
   },
   {
    "duration": 58,
    "start_time": "2023-05-20T13:16:00.096Z"
   },
   {
    "duration": 37,
    "start_time": "2023-05-20T13:16:00.155Z"
   },
   {
    "duration": 224,
    "start_time": "2023-05-20T13:16:00.194Z"
   },
   {
    "duration": 281,
    "start_time": "2023-05-20T13:16:00.425Z"
   },
   {
    "duration": 20,
    "start_time": "2023-05-20T13:16:00.708Z"
   },
   {
    "duration": 9,
    "start_time": "2023-05-20T13:16:00.730Z"
   },
   {
    "duration": 34,
    "start_time": "2023-05-20T13:16:00.741Z"
   },
   {
    "duration": 158,
    "start_time": "2023-05-20T13:16:00.777Z"
   },
   {
    "duration": 69,
    "start_time": "2023-05-20T13:16:00.936Z"
   },
   {
    "duration": 25,
    "start_time": "2023-05-20T13:16:01.007Z"
   },
   {
    "duration": 175,
    "start_time": "2023-05-20T13:16:01.035Z"
   },
   {
    "duration": 142,
    "start_time": "2023-05-20T13:16:01.212Z"
   },
   {
    "duration": 10,
    "start_time": "2023-05-20T13:16:01.356Z"
   },
   {
    "duration": 212,
    "start_time": "2023-05-20T13:16:01.368Z"
   },
   {
    "duration": 8,
    "start_time": "2023-05-20T13:16:01.582Z"
   },
   {
    "duration": 50,
    "start_time": "2023-05-20T13:16:01.591Z"
   },
   {
    "duration": 12,
    "start_time": "2023-05-20T13:16:01.642Z"
   },
   {
    "duration": 22,
    "start_time": "2023-05-20T13:16:01.656Z"
   },
   {
    "duration": 6,
    "start_time": "2023-05-20T13:16:01.679Z"
   },
   {
    "duration": 184,
    "start_time": "2023-05-20T13:16:01.687Z"
   },
   {
    "duration": 11,
    "start_time": "2023-05-20T13:16:01.873Z"
   },
   {
    "duration": 198,
    "start_time": "2023-05-20T13:16:01.886Z"
   },
   {
    "duration": 293,
    "start_time": "2023-05-20T13:16:02.086Z"
   },
   {
    "duration": 12,
    "start_time": "2023-05-20T13:16:02.382Z"
   },
   {
    "duration": 53,
    "start_time": "2023-05-20T13:16:02.396Z"
   },
   {
    "duration": 12,
    "start_time": "2023-05-20T13:16:02.450Z"
   },
   {
    "duration": 8,
    "start_time": "2023-05-20T13:16:02.464Z"
   },
   {
    "duration": 15,
    "start_time": "2023-05-20T13:16:02.473Z"
   },
   {
    "duration": 31,
    "start_time": "2023-05-20T13:16:02.489Z"
   },
   {
    "duration": 38,
    "start_time": "2023-05-20T13:16:02.522Z"
   },
   {
    "duration": 283,
    "start_time": "2023-05-20T13:16:24.161Z"
   },
   {
    "duration": 314,
    "start_time": "2023-05-20T13:16:46.894Z"
   },
   {
    "duration": 327,
    "start_time": "2023-05-20T13:17:09.065Z"
   },
   {
    "duration": 392,
    "start_time": "2023-05-20T13:17:33.899Z"
   }
  ],
  "kernelspec": {
   "display_name": "Python 3 (ipykernel)",
   "language": "python",
   "name": "python3"
  },
  "language_info": {
   "codemirror_mode": {
    "name": "ipython",
    "version": 3
   },
   "file_extension": ".py",
   "mimetype": "text/x-python",
   "name": "python",
   "nbconvert_exporter": "python",
   "pygments_lexer": "ipython3",
   "version": "3.9.5"
  },
  "toc": {
   "base_numbering": 1,
   "nav_menu": {},
   "number_sections": true,
   "sideBar": true,
   "skip_h1_title": true,
   "title_cell": "Table of Contents",
   "title_sidebar": "Contents",
   "toc_cell": false,
   "toc_position": {},
   "toc_section_display": true,
   "toc_window_display": false
  },
  "widgets": {
   "application/vnd.jupyter.widget-state+json": {
    "state": {},
    "version_major": 2,
    "version_minor": 0
   }
  }
 },
 "nbformat": 4,
 "nbformat_minor": 5
}
